{
 "cells": [
  {
   "cell_type": "code",
   "execution_count": null,
   "outputs": [],
   "source": [
    "# Parameter cell. Wilk be replaced by export_backtest_report()\n",
    "parameters = {}"
   ],
   "metadata": {
    "collapsed": false
   }
  },
  {
   "cell_type": "markdown",
   "source": [
    "# Backtest results for {NAME}"
   ],
   "metadata": {
    "collapsed": false
   }
  },
  {
   "cell_type": "markdown",
   "source": [
    "## Setting up"
   ],
   "metadata": {
    "collapsed": false
   }
  },
  {
   "cell_type": "code",
   "execution_count": null,
   "outputs": [],
   "source": [
    "# Loads strategy module and other backtest parameters\n",
    "from tradeexecutor.backtest.report import BacktestReporter\n",
    "reporter = BacktestReporter.setup_report(parameters)\n",
    "state = reporter.get_state()"
   ],
   "metadata": {
    "collapsed": false
   }
  },
  {
   "cell_type": "markdown",
   "source": [
    "## Metric calculations\n",
    "\n",
    "Calculate different chart data and metrics."
   ],
   "metadata": {
    "collapsed": false
   }
  },
  {
   "cell_type": "code",
   "execution_count": null,
   "outputs": [],
   "source": [
    "from tradeexecutor.visual.equity_curve import calculate_equity_curve, calculate_returns\n",
    "\n",
    "curve = calculate_equity_curve(state)\n",
    "returns = calculate_returns(curve)\n",
    "first_trade, last_trade = state.portfolio.get_first_and_last_executed_trade()\n",
    "trades = list(state.portfolio.get_all_trades())"
   ],
   "metadata": {
    "collapsed": false
   }
  },
  {
   "cell_type": "markdown",
   "source": [
    "## Results\n",
    "\n",
    "The results of the backtest run.\n",
    "\n",
    "### Preface"
   ],
   "metadata": {
    "collapsed": false
   }
  },
  {
   "cell_type": "code",
   "execution_count": null,
   "outputs": [],
   "source": [
    "\n",
    "print(f\"This report contains backtest results for {state.name} run.\\n\"\n",
    "      f\"Backtest trading period was {first_trade and first_trade.executed_at}-{last_trade and last_trade.executed_at}\\n\"\n",
    "      f\"Total {len(trades)} trades were made\\n\"\n",
    "      )\n"
   ],
   "metadata": {
    "collapsed": false
   }
  },
  {
   "cell_type": "markdown",
   "source": [
    "### Equity curve\n",
    "\n",
    "Equity curve, maximum drawdown and daily profit."
   ],
   "metadata": {
    "collapsed": false
   }
  },
  {
   "cell_type": "code",
   "execution_count": null,
   "outputs": [],
   "source": [
    "from tradeexecutor.visual.equity_curve import visualise_equity_curve\n",
    "\n",
    "visualise_equity_curve(returns)"
   ],
   "metadata": {
    "collapsed": false
   }
  },
  {
   "cell_type": "code",
   "execution_count": null,
   "outputs": [],
   "source": [
    "raise RuntimeError(\"Haha\")"
   ],
   "metadata": {
    "collapsed": false
   }
  },
  {
   "cell_type": "code",
   "execution_count": null,
   "outputs": [],
   "source": [
    "### Equity curve"
   ],
   "metadata": {
    "collapsed": false
   }
  },
  {
   "cell_type": "code",
   "execution_count": null,
   "outputs": [],
   "source": [
    "###"
   ],
   "metadata": {
    "collapsed": false
   }
  },
  {
   "cell_type": "code",
   "execution_count": null,
   "outputs": [],
   "source": [
    "### Trading performance"
   ],
   "metadata": {
    "collapsed": false
   }
  }
 ],
 "metadata": {
  "kernelspec": {
   "display_name": "Python 3",
   "language": "python",
   "name": "python3"
  },
  "language_info": {
   "codemirror_mode": {
    "name": "ipython",
    "version": 2
   },
   "file_extension": ".py",
   "mimetype": "text/x-python",
   "name": "python",
   "nbconvert_exporter": "python",
   "pygments_lexer": "ipython2",
   "version": "2.7.6"
  }
 },
 "nbformat": 4,
 "nbformat_minor": 0
}
