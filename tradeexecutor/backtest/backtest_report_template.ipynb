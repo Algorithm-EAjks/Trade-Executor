{
 "cells": [
  {
   "cell_type": "code",
   "execution_count": null,
   "outputs": [],
   "source": [
    "#\n",
    "# All code cells are hidden in the output by default\n",
    "#\n",
    "\n",
    "# Parameter cell. Wilk be replaced by export_backtest_report()\n",
    "parameters = {}"
   ],
   "metadata": {
    "collapsed": false
   }
  },
  {
   "cell_type": "code",
   "execution_count": null,
   "outputs": [],
   "source": [
    "#\n",
    "# Setting up\n",
    "#\n",
    "\n",
    "\n",
    "# Loads strategy trades and universe as passed over\n",
    "# by the host Python system as temp files\n",
    "from tradeexecutor.backtest.report import BacktestReporter\n",
    "reporter = BacktestReporter.setup_report(parameters)\n",
    "state = reporter.get_state()\n",
    "universe = reporter.get_universe()"
   ],
   "metadata": {
    "collapsed": false
   }
  },
  {
   "cell_type": "code",
   "execution_count": null,
   "outputs": [],
   "source": [
    "## Metric calculations\n",
    "\n",
    "# Calculate different chart data and metrics.\n",
    "from tradeexecutor.visual.equity_curve import calculate_equity_curve, calculate_returns\n",
    "\n",
    "curve = calculate_equity_curve(state)\n",
    "returns = calculate_returns(curve)\n",
    "first_trade, last_trade = state.portfolio.get_first_and_last_executed_trade()\n",
    "start_at = state.backtest_data.start_at\n",
    "end_at = state.backtest_data.end_at\n",
    "trades = list(state.portfolio.get_all_trades())"
   ],
   "metadata": {
    "collapsed": false
   }
  },
  {
   "cell_type": "markdown",
   "source": [
    "# Preface"
   ],
   "metadata": {
    "collapsed": false
   }
  },
  {
   "cell_type": "code",
   "execution_count": null,
   "outputs": [],
   "source": [
    "\n",
    "print(f\"This report contains backtest results for {state.name} run.\\n\"\n",
    "      f\"Backtest trading period was {start_at}-{end_at}\\n\"\n",
    "      f\"Total {len(trades)} trades were made\\n\"\n",
    "      )\n"
   ],
   "metadata": {
    "collapsed": false
   }
  },
  {
   "cell_type": "markdown",
   "source": [
    "# Equity curve\n",
    "\n",
    "Equity curve, maximum drawdown and daily profit."
   ],
   "metadata": {
    "collapsed": false
   }
  },
  {
   "cell_type": "code",
   "execution_count": null,
   "outputs": [],
   "source": [
    "from tradeexecutor.visual.equity_curve import visualise_equity_curve\n",
    "\n",
    "visualise_equity_curve(returns)"
   ],
   "metadata": {
    "collapsed": false
   }
  },
  {
   "cell_type": "markdown",
   "source": [
    "# Performance metrics\n",
    "\n",
    "Portfolio key performance metrics."
   ],
   "metadata": {
    "collapsed": false
   }
  },
  {
   "cell_type": "code",
   "execution_count": null,
   "outputs": [],
   "source": [
    "import pandas as pd\n",
    "from tradeexecutor.analysis.advanced_metrics import visualise_advanced_metrics, AdvancedMetricsMode\n",
    "\n",
    "metrics = visualise_advanced_metrics(returns, mode=AdvancedMetricsMode.full)\n",
    "\n",
    "with pd.option_context(\"display.max_row\", None):\n",
    "    display(metrics)"
   ],
   "metadata": {
    "collapsed": false
   }
  },
  {
   "cell_type": "markdown",
   "source": [
    "# Trading positions\n",
    "\n",
    "Display trading positions over time.\n"
   ],
   "metadata": {
    "collapsed": false
   }
  },
  {
   "cell_type": "code",
   "execution_count": null,
   "outputs": [],
   "source": [
    "\n",
    "from tradeexecutor.visual.single_pair import visualise_single_pair_positions_with_duration_and_slippage\n",
    "\n",
    "if universe.universe.pairs.get_count() == 1:\n",
    "    pair_id = int(universe.get_single_pair().internal_id)\n",
    "    candles = universe.universe.candles.get_candles_by_pair(pair_id)\n",
    "\n",
    "    fig = visualise_single_pair_positions_with_duration_and_slippage(\n",
    "        state,\n",
    "        candles,\n",
    "        start_at=start_at,\n",
    "        end_at=end_at,\n",
    "        pair_id=pair_id,\n",
    "    )\n",
    "\n",
    "    fig.show()\n",
    "else:\n",
    "    print(\"\")"
   ],
   "metadata": {
    "collapsed": false
   }
  },
  {
   "cell_type": "markdown",
   "source": [
    "# Benchmark\n",
    "\n",
    "Compare the strategy results against\n",
    "\n",
    "- Buy and hold benchmark\n",
    "- All-cash benchmark"
   ],
   "metadata": {
    "collapsed": false
   }
  },
  {
   "cell_type": "code",
   "execution_count": null,
   "outputs": [],
   "source": [
    "from tradeexecutor.visual.benchmark import visualise_benchmark\n",
    "\n",
    "traded_pair = universe.universe.pairs.get_single()\n",
    "\n",
    "fig = visualise_benchmark(\n",
    "    \"Bollinger bands example strategy\",\n",
    "    portfolio_statistics=state.stats.portfolio,\n",
    "    all_cash=state.portfolio.get_initial_deposit(),\n",
    "    buy_and_hold_asset_name=traded_pair.base_token_symbol,\n",
    "    buy_and_hold_price_series=universe.universe.candles.get_single_pair_data()[\"close\"],\n",
    "    start_at=start_at,\n",
    "    end_at=end_at,\n",
    "    height=800\n",
    ")\n",
    "\n",
    "fig.show()"
   ],
   "metadata": {
    "collapsed": false
   }
  }
 ],
 "metadata": {
  "kernelspec": {
   "display_name": "Python 3",
   "language": "python",
   "name": "python3"
  },
  "language_info": {
   "codemirror_mode": {
    "name": "ipython",
    "version": 2
   },
   "file_extension": ".py",
   "mimetype": "text/x-python",
   "name": "python",
   "nbconvert_exporter": "python",
   "pygments_lexer": "ipython2",
   "version": "2.7.6"
  }
 },
 "nbformat": 4,
 "nbformat_minor": 0
}
