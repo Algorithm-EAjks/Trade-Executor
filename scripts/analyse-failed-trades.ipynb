{
 "cells": [
  {
   "cell_type": "markdown",
   "source": [
    "# Analyse failed trades\n",
    "\n",
    "Analyse failed trades over multiple trade executors.\n",
    "\n",
    " - Show failed and repaired and fix trades\n",
    "  - Analyse slippage parameters and other causes of failure\n",
    "\n"
   ],
   "metadata": {
    "collapsed": false
   }
  },
  {
   "cell_type": "code",
   "execution_count": 1,
   "outputs": [],
   "source": [
    "monitored_executors = [\n",
    "    #\"https://enzyme-polygon-eth-usdc.tradingstrategy.ai\",\n",
    "    \"https://enzyme-polygon-eth-usdc-sls.tradingstrategy.ai\",\n",
    "    \"https://enzyme-polygon-matic-usdc.tradingstrategy.ai\",\n",
    "    # \"https://enzyme-polygon-multipair.tradingstrategy.ai\",\n",
    "]\n",
    "\n"
   ],
   "metadata": {
    "collapsed": false,
    "ExecuteTime": {
     "end_time": "2023-07-14T09:44:20.280377Z",
     "start_time": "2023-07-14T09:44:20.276730Z"
    }
   }
  },
  {
   "cell_type": "code",
   "execution_count": 2,
   "outputs": [
    {
     "name": "stdout",
     "output_type": "stream",
     "text": [
      "Downloaded 766,601 bytes\n"
     ]
    },
    {
     "name": "stderr",
     "output_type": "stream",
     "text": [
      "/Users/moo/Library/Caches/pypoetry/virtualenvs/trade-executor-8Oz1GdY1-py3.10/lib/python3.10/site-packages/dataclasses_json/core.py:184: RuntimeWarning: `NoneType` object value of non-optional type initial_cash detected when decoding TradeSummary.\n",
      "  warnings.warn(\n",
      "/Users/moo/Library/Caches/pypoetry/virtualenvs/trade-executor-8Oz1GdY1-py3.10/lib/python3.10/site-packages/dataclasses_json/core.py:184: RuntimeWarning: `NoneType` object value of non-optional type strategy_cycle_included_at detected when decoding BalanceEventRef.\n",
      "  warnings.warn(\n"
     ]
    }
   ],
   "source": [
    "import requests\n",
    "from tradeexecutor.state.state import State\n",
    "\n",
    "total_downloaded = 0\n",
    "\n",
    "def download_state(url) -> State:\n",
    "    global total_downloaded\n",
    "    resp = requests.get(f\"{url}/state\")\n",
    "\n",
    "    if len(resp.content) == 0:\n",
    "        raise RuntimeError(f\"Could not download: {url}\")\n",
    "\n",
    "    try:\n",
    "        state = State.read_json_blob(resp.text)\n",
    "    except Exception as e:\n",
    "        raise RuntimeError(f\"Could not decode: {url}\") from e\n",
    "    total_downloaded += len(resp.content)\n",
    "    return state\n",
    "\n",
    "states = [download_state(url)for url in monitored_executors]\n",
    "\n",
    "\n",
    "print(f\"Downloaded {total_downloaded:,} bytes\")"
   ],
   "metadata": {
    "collapsed": false,
    "ExecuteTime": {
     "end_time": "2023-07-14T09:44:24.442790Z",
     "start_time": "2023-07-14T09:44:20.283035Z"
    }
   }
  },
  {
   "cell_type": "code",
   "execution_count": 3,
   "outputs": [
    {
     "name": "stdout",
     "output_type": "stream",
     "text": [
      "Total 10 failed and repaired trades\n"
     ]
    }
   ],
   "source": [
    "from tradeexecutor.state.trade import TradeExecution\n",
    "from itertools import chain\n",
    "\n",
    "# Get all trades across different trade executors\n",
    "all_trades = chain(*[state.portfolio.get_all_trades() for state in states])\n",
    "\n",
    "t: TradeExecution\n",
    "failed_trades = [t for t in all_trades if t.is_failed() or t.is_repaired() or t.is_repair_trade()]\n",
    "\n",
    "print(f\"Total {len(failed_trades)} failed and repaired trades\")"
   ],
   "metadata": {
    "collapsed": false,
    "ExecuteTime": {
     "end_time": "2023-07-14T09:44:24.445147Z",
     "start_time": "2023-07-14T09:44:24.443084Z"
    }
   }
  },
  {
   "cell_type": "code",
   "execution_count": 4,
   "outputs": [
    {
     "data": {
      "text/plain": "   Flags Position         Trade           Started          Executed   Lag  \\\n16   REP       #7  WMATIC->USDC  2023-07-13 17:45  2023-07-13 23:49         \n17   FIX       #7  USDC->WMATIC                    2023-07-13 23:49         \n18   REP       #7  WMATIC->USDC  2023-07-14 00:06  2023-07-14 09:41         \n19   FIX       #7  USDC->WMATIC                    2023-07-14 09:41         \n5    REP       #3  USDC->WMATIC  2023-06-30 04:00  2023-07-03 07:45  11.0   \n8    FIX       #3  WMATIC->USDC                    2023-07-03 07:45         \n4    REP       #2  WMATIC->USDC  2023-06-29 14:51  2023-07-03 07:45         \n7    FIX       #2  USDC->WMATIC                    2023-07-03 07:45         \n11   REP       #5  USDC->WMATIC  2023-07-06 09:00  2023-07-06 11:46   6.0   \n12   FIX       #5  WMATIC->USDC                    2023-07-06 11:46         \n\n   Slippage tol (BPS)  \\\n16              100.0   \n17                      \n18              100.0   \n19                      \n5               100.0   \n8                       \n4               100.0   \n7                       \n11              100.0   \n12                      \n\n                                                                    Tx  \\\n16  0xc1a47bdedc8acb78de5eb803af313d3867a3adfa313b55e4d7e07a1fdf3365f0   \n17                                                                       \n18  0xcdd25e39fa7277f3eb3402b8a8ba2470bff28b2eb2097cb63abac644261fb4a5   \n19                                                                       \n5   0xbfd1d3b1e1ec6c5ce4bf37aabaf07d6ae8b4eca945e5438db0ce93a6a9534f0b   \n8                                                                        \n4   0xc3f674c79fef3fedea13b24e26d811bbb2d49edffd8c1b6c332c81032ef58e52   \n7                                                                        \n11  0xe979c86b847b25757ed25e6a975eb473e7f126a1fadb9f7823f24524622d4e32   \n12                                                                       \n\n                                   Notes  \\\n16  Repaired at 2023-07-13 23:49, by #17   \n17                   Repairing trade #16   \n18  Repaired at 2023-07-14 09:41, by #19   \n19                   Repairing trade #18   \n5    Repaired at 2023-07-03 07:45, by #8   \n8                     Repairing trade #5   \n4    Repaired at 2023-07-03 07:45, by #7   \n7                     Repairing trade #4   \n11  Repaired at 2023-07-06 11:46, by #12   \n12                   Repairing trade #11   \n\n                                                 Failure reason  \n16  Too little received\u0000\u0000\u0000\u0000\u0000\u0000\u0000\u0000\u0000\u0000\u0000\u0000\u0000\u0000\u0000\u0000\u0000\u0000\u0000\u0000\u0000\u0000\u0000\u0000\u0000\u0000\u0000\u0000\u0000\u0000\u0000\u0000\u0000\u0000\u0000\u0000\u0000\u0000\u0000\u0000  \n17                                                               \n18  Too little received\u0000\u0000\u0000\u0000\u0000\u0000\u0000\u0000\u0000\u0000\u0000\u0000\u0000\u0000\u0000\u0000\u0000\u0000\u0000\u0000\u0000\u0000\u0000\u0000\u0000\u0000\u0000\u0000\u0000\u0000\u0000\u0000\u0000\u0000\u0000\u0000\u0000\u0000\u0000\u0000  \n19                                                               \n5   Too little received\u0000\u0000\u0000\u0000\u0000\u0000\u0000\u0000\u0000\u0000\u0000\u0000\u0000\u0000\u0000\u0000\u0000\u0000\u0000\u0000\u0000\u0000\u0000\u0000\u0000\u0000\u0000\u0000\u0000\u0000\u0000\u0000\u0000\u0000\u0000\u0000\u0000\u0000\u0000\u0000  \n8                                                                \n4   Too little received\u0000\u0000\u0000\u0000\u0000\u0000\u0000\u0000\u0000\u0000\u0000\u0000\u0000\u0000\u0000\u0000\u0000\u0000\u0000\u0000\u0000\u0000\u0000\u0000\u0000\u0000\u0000\u0000\u0000\u0000\u0000\u0000\u0000\u0000\u0000\u0000\u0000\u0000\u0000\u0000  \n7                                                                \n11  Too little received\u0000\u0000\u0000\u0000\u0000\u0000\u0000\u0000\u0000\u0000\u0000\u0000\u0000\u0000\u0000\u0000\u0000\u0000\u0000\u0000\u0000\u0000\u0000\u0000\u0000\u0000\u0000\u0000\u0000\u0000\u0000\u0000\u0000\u0000\u0000\u0000\u0000\u0000\u0000\u0000  \n12                                                               ",
      "text/html": "<div>\n<style scoped>\n    .dataframe tbody tr th:only-of-type {\n        vertical-align: middle;\n    }\n\n    .dataframe tbody tr th {\n        vertical-align: top;\n    }\n\n    .dataframe thead th {\n        text-align: right;\n    }\n</style>\n<table border=\"1\" class=\"dataframe\">\n  <thead>\n    <tr style=\"text-align: right;\">\n      <th></th>\n      <th>Flags</th>\n      <th>Position</th>\n      <th>Trade</th>\n      <th>Started</th>\n      <th>Executed</th>\n      <th>Lag</th>\n      <th>Slippage tol (BPS)</th>\n      <th>Tx</th>\n      <th>Notes</th>\n      <th>Failure reason</th>\n    </tr>\n  </thead>\n  <tbody>\n    <tr>\n      <th>16</th>\n      <td>REP</td>\n      <td>#7</td>\n      <td>WMATIC-&gt;USDC</td>\n      <td>2023-07-13 17:45</td>\n      <td>2023-07-13 23:49</td>\n      <td></td>\n      <td>100.0</td>\n      <td>0xc1a47bdedc8acb78de5eb803af313d3867a3adfa313b55e4d7e07a1fdf3365f0</td>\n      <td>Repaired at 2023-07-13 23:49, by #17</td>\n      <td>Too little received\u0000\u0000\u0000\u0000\u0000\u0000\u0000\u0000\u0000\u0000\u0000\u0000\u0000\u0000\u0000\u0000\u0000\u0000\u0000\u0000\u0000\u0000\u0000\u0000\u0000\u0000\u0000\u0000\u0000\u0000\u0000\u0000\u0000\u0000\u0000\u0000\u0000\u0000\u0000\u0000</td>\n    </tr>\n    <tr>\n      <th>17</th>\n      <td>FIX</td>\n      <td>#7</td>\n      <td>USDC-&gt;WMATIC</td>\n      <td></td>\n      <td>2023-07-13 23:49</td>\n      <td></td>\n      <td></td>\n      <td></td>\n      <td>Repairing trade #16</td>\n      <td></td>\n    </tr>\n    <tr>\n      <th>18</th>\n      <td>REP</td>\n      <td>#7</td>\n      <td>WMATIC-&gt;USDC</td>\n      <td>2023-07-14 00:06</td>\n      <td>2023-07-14 09:41</td>\n      <td></td>\n      <td>100.0</td>\n      <td>0xcdd25e39fa7277f3eb3402b8a8ba2470bff28b2eb2097cb63abac644261fb4a5</td>\n      <td>Repaired at 2023-07-14 09:41, by #19</td>\n      <td>Too little received\u0000\u0000\u0000\u0000\u0000\u0000\u0000\u0000\u0000\u0000\u0000\u0000\u0000\u0000\u0000\u0000\u0000\u0000\u0000\u0000\u0000\u0000\u0000\u0000\u0000\u0000\u0000\u0000\u0000\u0000\u0000\u0000\u0000\u0000\u0000\u0000\u0000\u0000\u0000\u0000</td>\n    </tr>\n    <tr>\n      <th>19</th>\n      <td>FIX</td>\n      <td>#7</td>\n      <td>USDC-&gt;WMATIC</td>\n      <td></td>\n      <td>2023-07-14 09:41</td>\n      <td></td>\n      <td></td>\n      <td></td>\n      <td>Repairing trade #18</td>\n      <td></td>\n    </tr>\n    <tr>\n      <th>5</th>\n      <td>REP</td>\n      <td>#3</td>\n      <td>USDC-&gt;WMATIC</td>\n      <td>2023-06-30 04:00</td>\n      <td>2023-07-03 07:45</td>\n      <td>11.0</td>\n      <td>100.0</td>\n      <td>0xbfd1d3b1e1ec6c5ce4bf37aabaf07d6ae8b4eca945e5438db0ce93a6a9534f0b</td>\n      <td>Repaired at 2023-07-03 07:45, by #8</td>\n      <td>Too little received\u0000\u0000\u0000\u0000\u0000\u0000\u0000\u0000\u0000\u0000\u0000\u0000\u0000\u0000\u0000\u0000\u0000\u0000\u0000\u0000\u0000\u0000\u0000\u0000\u0000\u0000\u0000\u0000\u0000\u0000\u0000\u0000\u0000\u0000\u0000\u0000\u0000\u0000\u0000\u0000</td>\n    </tr>\n    <tr>\n      <th>8</th>\n      <td>FIX</td>\n      <td>#3</td>\n      <td>WMATIC-&gt;USDC</td>\n      <td></td>\n      <td>2023-07-03 07:45</td>\n      <td></td>\n      <td></td>\n      <td></td>\n      <td>Repairing trade #5</td>\n      <td></td>\n    </tr>\n    <tr>\n      <th>4</th>\n      <td>REP</td>\n      <td>#2</td>\n      <td>WMATIC-&gt;USDC</td>\n      <td>2023-06-29 14:51</td>\n      <td>2023-07-03 07:45</td>\n      <td></td>\n      <td>100.0</td>\n      <td>0xc3f674c79fef3fedea13b24e26d811bbb2d49edffd8c1b6c332c81032ef58e52</td>\n      <td>Repaired at 2023-07-03 07:45, by #7</td>\n      <td>Too little received\u0000\u0000\u0000\u0000\u0000\u0000\u0000\u0000\u0000\u0000\u0000\u0000\u0000\u0000\u0000\u0000\u0000\u0000\u0000\u0000\u0000\u0000\u0000\u0000\u0000\u0000\u0000\u0000\u0000\u0000\u0000\u0000\u0000\u0000\u0000\u0000\u0000\u0000\u0000\u0000</td>\n    </tr>\n    <tr>\n      <th>7</th>\n      <td>FIX</td>\n      <td>#2</td>\n      <td>USDC-&gt;WMATIC</td>\n      <td></td>\n      <td>2023-07-03 07:45</td>\n      <td></td>\n      <td></td>\n      <td></td>\n      <td>Repairing trade #4</td>\n      <td></td>\n    </tr>\n    <tr>\n      <th>11</th>\n      <td>REP</td>\n      <td>#5</td>\n      <td>USDC-&gt;WMATIC</td>\n      <td>2023-07-06 09:00</td>\n      <td>2023-07-06 11:46</td>\n      <td>6.0</td>\n      <td>100.0</td>\n      <td>0xe979c86b847b25757ed25e6a975eb473e7f126a1fadb9f7823f24524622d4e32</td>\n      <td>Repaired at 2023-07-06 11:46, by #12</td>\n      <td>Too little received\u0000\u0000\u0000\u0000\u0000\u0000\u0000\u0000\u0000\u0000\u0000\u0000\u0000\u0000\u0000\u0000\u0000\u0000\u0000\u0000\u0000\u0000\u0000\u0000\u0000\u0000\u0000\u0000\u0000\u0000\u0000\u0000\u0000\u0000\u0000\u0000\u0000\u0000\u0000\u0000</td>\n    </tr>\n    <tr>\n      <th>12</th>\n      <td>FIX</td>\n      <td>#5</td>\n      <td>WMATIC-&gt;USDC</td>\n      <td></td>\n      <td>2023-07-06 11:46</td>\n      <td></td>\n      <td></td>\n      <td></td>\n      <td>Repairing trade #11</td>\n      <td></td>\n    </tr>\n  </tbody>\n</table>\n</div>"
     },
     "metadata": {},
     "output_type": "display_data"
    }
   ],
   "source": [
    "import pandas as pd\n",
    "from tradeexecutor.analysis.slippage import display_slippage\n",
    "\n",
    "\n",
    "pd.set_option('display.max_colwidth', None)\n",
    "\n",
    "df = display_slippage(failed_trades)\n",
    "display(df)"
   ],
   "metadata": {
    "collapsed": false,
    "ExecuteTime": {
     "end_time": "2023-07-14T09:44:24.456691Z",
     "start_time": "2023-07-14T09:44:24.445308Z"
    }
   }
  }
 ],
 "metadata": {
  "kernelspec": {
   "display_name": "Python 3",
   "language": "python",
   "name": "python3"
  },
  "language_info": {
   "codemirror_mode": {
    "name": "ipython",
    "version": 2
   },
   "file_extension": ".py",
   "mimetype": "text/x-python",
   "name": "python",
   "nbconvert_exporter": "python",
   "pygments_lexer": "ipython2",
   "version": "2.7.6"
  }
 },
 "nbformat": 4,
 "nbformat_minor": 0
}
