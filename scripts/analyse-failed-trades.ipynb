{
 "cells": [
  {
   "cell_type": "markdown",
   "source": [
    "# Analyse failed trades\n",
    "\n",
    "Analyse failed trades over multiple trade executors.\n",
    "\n",
    " - Show failed and repaired and fix trades\n",
    "  - Analyse slippage parameters and other causes of failure\n",
    "\n"
   ],
   "metadata": {
    "collapsed": false
   }
  },
  {
   "cell_type": "code",
   "execution_count": 1,
   "outputs": [
    {
     "name": "stderr",
     "output_type": "stream",
     "text": [
      "/Users/moo/Library/Caches/pypoetry/virtualenvs/trade-executor-0IMGzMxl-py3.10/lib/python3.10/site-packages/dataclasses_json/core.py:187: RuntimeWarning: `NoneType` object value of non-optional type initial_cash detected when decoding TradeSummary.\n",
      "  warnings.warn(\n"
     ]
    }
   ],
   "source": [
    "from pathlib import Path\n",
    "from tradeexecutor.state.state import State\n",
    "\n",
    "state = State.read_json_file(Path(\"../enzyme-polygon-matic-usdc.json\"))"
   ],
   "metadata": {
    "collapsed": false,
    "ExecuteTime": {
     "end_time": "2023-07-28T13:05:58.341340Z",
     "start_time": "2023-07-28T13:05:56.978924Z"
    }
   }
  },
  {
   "cell_type": "markdown",
   "source": [
    "# Vault status"
   ],
   "metadata": {
    "collapsed": false
   }
  },
  {
   "cell_type": "code",
   "execution_count": 2,
   "outputs": [
    {
     "name": "stdout",
     "output_type": "stream",
     "text": [
      "Vault deployment: <Deployment chain:polygon address:0x8b6a97D4e4F16f79D8A59B36DD57F33ac3B686bD name:DEGEN II token:DEGE2>\n",
      "Treasury sync status: <Treasury updated:2023-07-28 04:01:53 cycle:2023-07-28 04:00:00 block scanned:45,605,394 refs:7>\n"
     ]
    }
   ],
   "source": [
    "treasury = state.sync.treasury\n",
    "deployment = state.sync.deployment\n",
    "\n",
    "print(f\"Vault deployment: {deployment}\")\n",
    "print(f\"Treasury sync status: {treasury}\")"
   ],
   "metadata": {
    "collapsed": false,
    "ExecuteTime": {
     "end_time": "2023-07-28T13:05:58.344407Z",
     "start_time": "2023-07-28T13:05:58.342518Z"
    }
   }
  },
  {
   "cell_type": "code",
   "execution_count": 3,
   "outputs": [
    {
     "name": "stdout",
     "output_type": "stream",
     "text": [
      "Total 11 failed and repaired trades\n"
     ]
    }
   ],
   "source": [
    "\n",
    "from tradeexecutor.state.trade import TradeExecution\n",
    "\n",
    "all_trades = list(state.portfolio.get_all_trades())\n",
    "\n",
    "t: TradeExecution\n",
    "failed_trades = [t for t in all_trades if t.is_failed() or t.is_repaired() or t.is_repair_trade()]\n",
    "\n",
    "print(f\"Total {len(failed_trades)} failed and repaired trades\")"
   ],
   "metadata": {
    "collapsed": false,
    "ExecuteTime": {
     "end_time": "2023-07-28T13:05:58.347539Z",
     "start_time": "2023-07-28T13:05:58.345975Z"
    }
   }
  },
  {
   "cell_type": "code",
   "execution_count": 4,
   "outputs": [
    {
     "data": {
      "text/plain": "   Flags Position                Time         Trade   Lag Slippage  \\\n5    REP       #3 2023-07-03 07:45:56  USDC->WMATIC  11.0    100.0   \n8    FIX       #3 2023-07-03 07:45:56  WMATIC->USDC                  \n4    REP       #2 2023-07-03 07:45:56  WMATIC->USDC          100.0   \n7    FIX       #2 2023-07-03 07:45:56  USDC->WMATIC                  \n11   REP       #5 2023-07-06 11:46:58  USDC->WMATIC   6.0    100.0   \n12   FIX       #5 2023-07-06 11:46:58  WMATIC->USDC                  \n16   REP       #7 2023-07-13 23:49:59  WMATIC->USDC          100.0   \n17   FIX       #7 2023-07-13 23:49:59  USDC->WMATIC                  \n18   REP       #7 2023-07-14 09:41:53  WMATIC->USDC          100.0   \n19   FIX       #7 2023-07-14 09:41:53  USDC->WMATIC                  \n22  FAIL       #8 2023-07-27 15:01:47  WMATIC->USDC  99.0    500.0   \n\n                 amountIn             amountOut      Enzyme amountOut  \\\n5                1.475939  2.269622546029597952  2.247151013201358641   \n8                                                                       \n4    4.603424392792025237              2.886265              2.857688   \n7                                                                       \n11               6.348186  9.180554910137920512  9.088749270149046272   \n12                                                                      \n16   5.849075641784785089               4.90357              4.854255   \n17                                                                      \n18   5.849075641784785089              4.951599              4.902083   \n19                                                                      \n22  14.975601230579683413             10.799953             10.259954   \n\n    Assumed price                   Uniswap price Block decided  \\\n5        0.650237  0.6503015237410108133085080401           nan   \n8        0.650237                                           nan   \n4        0.627045  0.6269821666929670082936444804           nan   \n7        0.627045                                           nan   \n11       0.691413  0.6914817309125631585197820098           nan   \n12       0.691413                                           nan   \n16       0.838385  0.8383495615905090608647988530           nan   \n17       0.838385                                           nan   \n18       0.846646  0.8465609445408147686826286023           nan   \n19       0.846646                                           nan   \n22       0.721242  0.7211699105573706415321796500    45,583,631   \n\n   Block executed  \\\n5      44,502,111   \n8             nan   \n4      44,480,610   \n7             nan   \n11     44,745,745   \n12            nan   \n16     45,037,543   \n17            nan   \n18     45,047,922   \n19            nan   \n22     45,583,635   \n\n                                                 Failure reason  \\\n5   Too little received\u0000\u0000\u0000\u0000\u0000\u0000\u0000\u0000\u0000\u0000\u0000\u0000\u0000\u0000\u0000\u0000\u0000\u0000\u0000\u0000\u0000\u0000\u0000\u0000\u0000\u0000\u0000\u0000\u0000\u0000\u0000\u0000\u0000\u0000\u0000\u0000\u0000\u0000\u0000\u0000   \n8                                                                 \n4   Too little received\u0000\u0000\u0000\u0000\u0000\u0000\u0000\u0000\u0000\u0000\u0000\u0000\u0000\u0000\u0000\u0000\u0000\u0000\u0000\u0000\u0000\u0000\u0000\u0000\u0000\u0000\u0000\u0000\u0000\u0000\u0000\u0000\u0000\u0000\u0000\u0000\u0000\u0000\u0000\u0000   \n7                                                                 \n11  Too little received\u0000\u0000\u0000\u0000\u0000\u0000\u0000\u0000\u0000\u0000\u0000\u0000\u0000\u0000\u0000\u0000\u0000\u0000\u0000\u0000\u0000\u0000\u0000\u0000\u0000\u0000\u0000\u0000\u0000\u0000\u0000\u0000\u0000\u0000\u0000\u0000\u0000\u0000\u0000\u0000   \n12                                                                \n16  Too little received\u0000\u0000\u0000\u0000\u0000\u0000\u0000\u0000\u0000\u0000\u0000\u0000\u0000\u0000\u0000\u0000\u0000\u0000\u0000\u0000\u0000\u0000\u0000\u0000\u0000\u0000\u0000\u0000\u0000\u0000\u0000\u0000\u0000\u0000\u0000\u0000\u0000\u0000\u0000\u0000   \n17                                                                \n18  Too little received\u0000\u0000\u0000\u0000\u0000\u0000\u0000\u0000\u0000\u0000\u0000\u0000\u0000\u0000\u0000\u0000\u0000\u0000\u0000\u0000\u0000\u0000\u0000\u0000\u0000\u0000\u0000\u0000\u0000\u0000\u0000\u0000\u0000\u0000\u0000\u0000\u0000\u0000\u0000\u0000   \n19                                                                \n22  Too little received\u0000\u0000\u0000\u0000\u0000\u0000\u0000\u0000\u0000\u0000\u0000\u0000\u0000\u0000\u0000\u0000\u0000\u0000\u0000\u0000\u0000\u0000\u0000\u0000\u0000\u0000\u0000\u0000\u0000\u0000\u0000\u0000\u0000\u0000\u0000\u0000\u0000\u0000\u0000\u0000   \n\n                                                                    Tx  \n5   0xbfd1d3b1e1ec6c5ce4bf37aabaf07d6ae8b4eca945e5438db0ce93a6a9534f0b  \n8                                                                       \n4   0xc3f674c79fef3fedea13b24e26d811bbb2d49edffd8c1b6c332c81032ef58e52  \n7                                                                       \n11  0xe979c86b847b25757ed25e6a975eb473e7f126a1fadb9f7823f24524622d4e32  \n12                                                                      \n16  0xc1a47bdedc8acb78de5eb803af313d3867a3adfa313b55e4d7e07a1fdf3365f0  \n17                                                                      \n18  0xcdd25e39fa7277f3eb3402b8a8ba2470bff28b2eb2097cb63abac644261fb4a5  \n19                                                                      \n22  0x5b76bf15bce4de5f5d6db8d929f13e28b11816f282ecd1522e4ec6eca3a1655e  ",
      "text/html": "<div>\n<style scoped>\n    .dataframe tbody tr th:only-of-type {\n        vertical-align: middle;\n    }\n\n    .dataframe tbody tr th {\n        vertical-align: top;\n    }\n\n    .dataframe thead th {\n        text-align: right;\n    }\n</style>\n<table border=\"1\" class=\"dataframe\">\n  <thead>\n    <tr style=\"text-align: right;\">\n      <th></th>\n      <th>Flags</th>\n      <th>Position</th>\n      <th>Time</th>\n      <th>Trade</th>\n      <th>Lag</th>\n      <th>Slippage</th>\n      <th>amountIn</th>\n      <th>amountOut</th>\n      <th>Enzyme amountOut</th>\n      <th>Assumed price</th>\n      <th>Uniswap price</th>\n      <th>Block decided</th>\n      <th>Block executed</th>\n      <th>Failure reason</th>\n      <th>Tx</th>\n    </tr>\n  </thead>\n  <tbody>\n    <tr>\n      <th>5</th>\n      <td>REP</td>\n      <td>#3</td>\n      <td>2023-07-03 07:45:56</td>\n      <td>USDC-&gt;WMATIC</td>\n      <td>11.0</td>\n      <td>100.0</td>\n      <td>1.475939</td>\n      <td>2.269622546029597952</td>\n      <td>2.247151013201358641</td>\n      <td>0.650237</td>\n      <td>0.6503015237410108133085080401</td>\n      <td>nan</td>\n      <td>44,502,111</td>\n      <td>Too little received\u0000\u0000\u0000\u0000\u0000\u0000\u0000\u0000\u0000\u0000\u0000\u0000\u0000\u0000\u0000\u0000\u0000\u0000\u0000\u0000\u0000\u0000\u0000\u0000\u0000\u0000\u0000\u0000\u0000\u0000\u0000\u0000\u0000\u0000\u0000\u0000\u0000\u0000\u0000\u0000</td>\n      <td>0xbfd1d3b1e1ec6c5ce4bf37aabaf07d6ae8b4eca945e5438db0ce93a6a9534f0b</td>\n    </tr>\n    <tr>\n      <th>8</th>\n      <td>FIX</td>\n      <td>#3</td>\n      <td>2023-07-03 07:45:56</td>\n      <td>WMATIC-&gt;USDC</td>\n      <td></td>\n      <td></td>\n      <td></td>\n      <td></td>\n      <td></td>\n      <td>0.650237</td>\n      <td></td>\n      <td>nan</td>\n      <td>nan</td>\n      <td></td>\n      <td></td>\n    </tr>\n    <tr>\n      <th>4</th>\n      <td>REP</td>\n      <td>#2</td>\n      <td>2023-07-03 07:45:56</td>\n      <td>WMATIC-&gt;USDC</td>\n      <td></td>\n      <td>100.0</td>\n      <td>4.603424392792025237</td>\n      <td>2.886265</td>\n      <td>2.857688</td>\n      <td>0.627045</td>\n      <td>0.6269821666929670082936444804</td>\n      <td>nan</td>\n      <td>44,480,610</td>\n      <td>Too little received\u0000\u0000\u0000\u0000\u0000\u0000\u0000\u0000\u0000\u0000\u0000\u0000\u0000\u0000\u0000\u0000\u0000\u0000\u0000\u0000\u0000\u0000\u0000\u0000\u0000\u0000\u0000\u0000\u0000\u0000\u0000\u0000\u0000\u0000\u0000\u0000\u0000\u0000\u0000\u0000</td>\n      <td>0xc3f674c79fef3fedea13b24e26d811bbb2d49edffd8c1b6c332c81032ef58e52</td>\n    </tr>\n    <tr>\n      <th>7</th>\n      <td>FIX</td>\n      <td>#2</td>\n      <td>2023-07-03 07:45:56</td>\n      <td>USDC-&gt;WMATIC</td>\n      <td></td>\n      <td></td>\n      <td></td>\n      <td></td>\n      <td></td>\n      <td>0.627045</td>\n      <td></td>\n      <td>nan</td>\n      <td>nan</td>\n      <td></td>\n      <td></td>\n    </tr>\n    <tr>\n      <th>11</th>\n      <td>REP</td>\n      <td>#5</td>\n      <td>2023-07-06 11:46:58</td>\n      <td>USDC-&gt;WMATIC</td>\n      <td>6.0</td>\n      <td>100.0</td>\n      <td>6.348186</td>\n      <td>9.180554910137920512</td>\n      <td>9.088749270149046272</td>\n      <td>0.691413</td>\n      <td>0.6914817309125631585197820098</td>\n      <td>nan</td>\n      <td>44,745,745</td>\n      <td>Too little received\u0000\u0000\u0000\u0000\u0000\u0000\u0000\u0000\u0000\u0000\u0000\u0000\u0000\u0000\u0000\u0000\u0000\u0000\u0000\u0000\u0000\u0000\u0000\u0000\u0000\u0000\u0000\u0000\u0000\u0000\u0000\u0000\u0000\u0000\u0000\u0000\u0000\u0000\u0000\u0000</td>\n      <td>0xe979c86b847b25757ed25e6a975eb473e7f126a1fadb9f7823f24524622d4e32</td>\n    </tr>\n    <tr>\n      <th>12</th>\n      <td>FIX</td>\n      <td>#5</td>\n      <td>2023-07-06 11:46:58</td>\n      <td>WMATIC-&gt;USDC</td>\n      <td></td>\n      <td></td>\n      <td></td>\n      <td></td>\n      <td></td>\n      <td>0.691413</td>\n      <td></td>\n      <td>nan</td>\n      <td>nan</td>\n      <td></td>\n      <td></td>\n    </tr>\n    <tr>\n      <th>16</th>\n      <td>REP</td>\n      <td>#7</td>\n      <td>2023-07-13 23:49:59</td>\n      <td>WMATIC-&gt;USDC</td>\n      <td></td>\n      <td>100.0</td>\n      <td>5.849075641784785089</td>\n      <td>4.90357</td>\n      <td>4.854255</td>\n      <td>0.838385</td>\n      <td>0.8383495615905090608647988530</td>\n      <td>nan</td>\n      <td>45,037,543</td>\n      <td>Too little received\u0000\u0000\u0000\u0000\u0000\u0000\u0000\u0000\u0000\u0000\u0000\u0000\u0000\u0000\u0000\u0000\u0000\u0000\u0000\u0000\u0000\u0000\u0000\u0000\u0000\u0000\u0000\u0000\u0000\u0000\u0000\u0000\u0000\u0000\u0000\u0000\u0000\u0000\u0000\u0000</td>\n      <td>0xc1a47bdedc8acb78de5eb803af313d3867a3adfa313b55e4d7e07a1fdf3365f0</td>\n    </tr>\n    <tr>\n      <th>17</th>\n      <td>FIX</td>\n      <td>#7</td>\n      <td>2023-07-13 23:49:59</td>\n      <td>USDC-&gt;WMATIC</td>\n      <td></td>\n      <td></td>\n      <td></td>\n      <td></td>\n      <td></td>\n      <td>0.838385</td>\n      <td></td>\n      <td>nan</td>\n      <td>nan</td>\n      <td></td>\n      <td></td>\n    </tr>\n    <tr>\n      <th>18</th>\n      <td>REP</td>\n      <td>#7</td>\n      <td>2023-07-14 09:41:53</td>\n      <td>WMATIC-&gt;USDC</td>\n      <td></td>\n      <td>100.0</td>\n      <td>5.849075641784785089</td>\n      <td>4.951599</td>\n      <td>4.902083</td>\n      <td>0.846646</td>\n      <td>0.8465609445408147686826286023</td>\n      <td>nan</td>\n      <td>45,047,922</td>\n      <td>Too little received\u0000\u0000\u0000\u0000\u0000\u0000\u0000\u0000\u0000\u0000\u0000\u0000\u0000\u0000\u0000\u0000\u0000\u0000\u0000\u0000\u0000\u0000\u0000\u0000\u0000\u0000\u0000\u0000\u0000\u0000\u0000\u0000\u0000\u0000\u0000\u0000\u0000\u0000\u0000\u0000</td>\n      <td>0xcdd25e39fa7277f3eb3402b8a8ba2470bff28b2eb2097cb63abac644261fb4a5</td>\n    </tr>\n    <tr>\n      <th>19</th>\n      <td>FIX</td>\n      <td>#7</td>\n      <td>2023-07-14 09:41:53</td>\n      <td>USDC-&gt;WMATIC</td>\n      <td></td>\n      <td></td>\n      <td></td>\n      <td></td>\n      <td></td>\n      <td>0.846646</td>\n      <td></td>\n      <td>nan</td>\n      <td>nan</td>\n      <td></td>\n      <td></td>\n    </tr>\n    <tr>\n      <th>22</th>\n      <td>FAIL</td>\n      <td>#8</td>\n      <td>2023-07-27 15:01:47</td>\n      <td>WMATIC-&gt;USDC</td>\n      <td>99.0</td>\n      <td>500.0</td>\n      <td>14.975601230579683413</td>\n      <td>10.799953</td>\n      <td>10.259954</td>\n      <td>0.721242</td>\n      <td>0.7211699105573706415321796500</td>\n      <td>45,583,631</td>\n      <td>45,583,635</td>\n      <td>Too little received\u0000\u0000\u0000\u0000\u0000\u0000\u0000\u0000\u0000\u0000\u0000\u0000\u0000\u0000\u0000\u0000\u0000\u0000\u0000\u0000\u0000\u0000\u0000\u0000\u0000\u0000\u0000\u0000\u0000\u0000\u0000\u0000\u0000\u0000\u0000\u0000\u0000\u0000\u0000\u0000</td>\n      <td>0x5b76bf15bce4de5f5d6db8d929f13e28b11816f282ecd1522e4ec6eca3a1655e</td>\n    </tr>\n  </tbody>\n</table>\n</div>"
     },
     "metadata": {},
     "output_type": "display_data"
    }
   ],
   "source": [
    "import pandas as pd\n",
    "from tradeexecutor.analysis.slippage import display_slippage\n",
    "\n",
    "\n",
    "pd.set_option('display.max_colwidth', None)\n",
    "\n",
    "df = display_slippage(failed_trades)\n",
    "display(df)"
   ],
   "metadata": {
    "collapsed": false,
    "ExecuteTime": {
     "end_time": "2023-07-28T13:05:58.360787Z",
     "start_time": "2023-07-28T13:05:58.348010Z"
    }
   }
  }
 ],
 "metadata": {
  "kernelspec": {
   "display_name": "Python 3",
   "language": "python",
   "name": "python3"
  },
  "language_info": {
   "codemirror_mode": {
    "name": "ipython",
    "version": 2
   },
   "file_extension": ".py",
   "mimetype": "text/x-python",
   "name": "python",
   "nbconvert_exporter": "python",
   "pygments_lexer": "ipython2",
   "version": "2.7.6"
  }
 },
 "nbformat": 4,
 "nbformat_minor": 0
}
