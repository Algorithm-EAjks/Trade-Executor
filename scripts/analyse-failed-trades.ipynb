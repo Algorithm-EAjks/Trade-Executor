{
 "cells": [
  {
   "cell_type": "markdown",
   "source": [
    "# Analyse failed trades\n",
    "\n",
    "Analyse failed trades over multiple trade executors.\n",
    "\n",
    " - Show failed and repaired and fix trades\n",
    "  - Analyse slippage parameters and other causes of failure\n",
    "\n"
   ],
   "metadata": {
    "collapsed": false
   }
  },
  {
   "cell_type": "code",
   "execution_count": 1,
   "outputs": [],
   "source": [
    "monitored_executors = [\n",
    "    #\"https://enzyme-polygon-eth-usdc.tradingstrategy.ai\",\n",
    "    \"https://enzyme-polygon-eth-usdc-sls.tradingstrategy.ai\",\n",
    "    \"https://enzyme-polygon-matic-usdc.tradingstrategy.ai\",\n",
    "    # \"https://enzyme-polygon-multipair.tradingstrategy.ai\",\n",
    "]\n",
    "\n"
   ],
   "metadata": {
    "collapsed": false,
    "ExecuteTime": {
     "end_time": "2023-07-11T10:17:07.569154Z",
     "start_time": "2023-07-11T10:17:07.566530Z"
    }
   }
  },
  {
   "cell_type": "code",
   "execution_count": 2,
   "outputs": [
    {
     "name": "stderr",
     "output_type": "stream",
     "text": [
      "/Users/moo/Library/Caches/pypoetry/virtualenvs/trade-executor-8Oz1GdY1-py3.10/lib/python3.10/site-packages/dataclasses_json/core.py:184: RuntimeWarning: `NoneType` object value of non-optional type initial_cash detected when decoding TradeSummary.\n",
      "  warnings.warn(\n"
     ]
    },
    {
     "name": "stdout",
     "output_type": "stream",
     "text": [
      "Downloaded 1,346,025 bytes\n"
     ]
    }
   ],
   "source": [
    "import requests\n",
    "from tradeexecutor.state.state import State\n",
    "\n",
    "total_downloaded = 0\n",
    "\n",
    "def download_state(url) -> State:\n",
    "    global total_downloaded\n",
    "    resp = requests.get(f\"{url}/state\")\n",
    "\n",
    "    if len(resp.content) == 0:\n",
    "        raise RuntimeError(f\"Could not download: {url}\")\n",
    "\n",
    "    try:\n",
    "        state = State.read_json_blob(resp.text)\n",
    "    except Exception as e:\n",
    "        raise RuntimeError(f\"Could not decode: {url}\") from e\n",
    "    total_downloaded += len(resp.content)\n",
    "    return state\n",
    "\n",
    "states = [download_state(url)for url in monitored_executors]\n",
    "\n",
    "\n",
    "print(f\"Downloaded {total_downloaded:,} bytes\")"
   ],
   "metadata": {
    "collapsed": false,
    "ExecuteTime": {
     "end_time": "2023-07-11T10:17:09.525234Z",
     "start_time": "2023-07-11T10:17:07.571498Z"
    }
   }
  },
  {
   "cell_type": "code",
   "execution_count": 3,
   "outputs": [
    {
     "name": "stdout",
     "output_type": "stream",
     "text": [
      "Total 17 failed and repaired trades\n"
     ]
    }
   ],
   "source": [
    "from tradeexecutor.state.trade import TradeExecution\n",
    "from itertools import chain\n",
    "\n",
    "# Get all trades across different trade executors\n",
    "all_trades = chain(*[state.portfolio.get_all_trades() for state in states])\n",
    "\n",
    "t: TradeExecution\n",
    "failed_trades = [t for t in all_trades if t.is_failed() or t.is_repaired() or t.is_repair_trade()]\n",
    "\n",
    "print(f\"Total {len(failed_trades)} failed and repaired trades\")"
   ],
   "metadata": {
    "collapsed": false,
    "ExecuteTime": {
     "end_time": "2023-07-11T10:17:09.525461Z",
     "start_time": "2023-07-11T10:17:09.515264Z"
    }
   }
  },
  {
   "cell_type": "code",
   "execution_count": 4,
   "outputs": [
    {
     "data": {
      "text/plain": "   Flags Position         Trade           Started          Executed   Lag  \\\n28   REP      #14    WETH->USDC  2023-07-05 21:00  2023-07-06 12:02   7.0   \n29   FIX      #14    USDC->WETH                    2023-07-06 12:02         \n30   REP      #14    WETH->USDC  2023-07-06 13:57  2023-07-07 08:39         \n31   FIX      #14    USDC->WETH                    2023-07-07 08:39         \n32   REP      #14    WETH->USDC  2023-07-07 08:42  2023-07-09 23:58         \n33   FIX      #14    USDC->WETH                    2023-07-09 23:58         \n34   REP      #14    WETH->USDC  2023-07-10 00:00  2023-07-10 00:03         \n35   FIX      #14    USDC->WETH                    2023-07-10 00:03         \n36   REP      #14    WETH->USDC  2023-07-10 00:06  2023-07-11 07:41         \n37   FIX      #14    USDC->WETH                    2023-07-11 07:41         \n38  FAIL      #14    WETH->USDC  2023-07-11 07:42                           \n5    REP       #3  USDC->WMATIC  2023-06-30 04:00  2023-07-03 07:45  11.0   \n8    FIX       #3  WMATIC->USDC                    2023-07-03 07:45         \n4    REP       #2  WMATIC->USDC  2023-06-29 14:51  2023-07-03 07:45         \n7    FIX       #2  USDC->WMATIC                    2023-07-03 07:45         \n11   REP       #5  USDC->WMATIC  2023-07-06 09:00  2023-07-06 11:46   6.0   \n12   FIX       #5  WMATIC->USDC                    2023-07-06 11:46         \n\n   Slippage tol (BPS)         Tx                                 Notes  \\\n28              100.0  0x89633e…  Repaired at 2023-07-06 12:02, by #29   \n29                                                 Repairing trade #28   \n30              100.0  0x803327…  Repaired at 2023-07-07 08:39, by #31   \n31                                                 Repairing trade #30   \n32              100.0  0x2eca52…  Repaired at 2023-07-09 23:58, by #33   \n33                                                 Repairing trade #32   \n34              100.0  0xb5b249…  Repaired at 2023-07-10 00:03, by #35   \n35                                                 Repairing trade #34   \n36              100.0  0xbdb255…  Repaired at 2023-07-11 07:41, by #37   \n37                                                 Repairing trade #36   \n38              100.0  0x273387…                                         \n5               100.0  0xbfd1d3…   Repaired at 2023-07-03 07:45, by #8   \n8                                                   Repairing trade #5   \n4               100.0  0xc3f674…   Repaired at 2023-07-03 07:45, by #7   \n7                                                   Repairing trade #4   \n11              100.0  0xe979c8…  Repaired at 2023-07-06 11:46, by #12   \n12                                                 Repairing trade #11   \n\n                                       Failure reason  \n28  execution reverted: ERC20: transfer amount exc...  \n29                                                     \n30  execution reverted: ERC20: transfer amount exc...  \n31                                                     \n32  execution reverted: ERC20: transfer amount exc...  \n33                                                     \n34  execution reverted: ERC20: transfer amount exc...  \n35                                                     \n36  execution reverted: ERC20: transfer amount exc...  \n37                                                     \n38  execution reverted: ERC20: transfer amount exc...  \n5   Too little received\u0000\u0000\u0000\u0000\u0000\u0000\u0000\u0000\u0000\u0000\u0000\u0000\u0000\u0000\u0000\u0000\u0000\u0000\u0000\u0000\u0000\u0000\u0000\u0000\u0000\u0000\u0000...  \n8                                                      \n4   Too little received\u0000\u0000\u0000\u0000\u0000\u0000\u0000\u0000\u0000\u0000\u0000\u0000\u0000\u0000\u0000\u0000\u0000\u0000\u0000\u0000\u0000\u0000\u0000\u0000\u0000\u0000\u0000...  \n7                                                      \n11  Too little received\u0000\u0000\u0000\u0000\u0000\u0000\u0000\u0000\u0000\u0000\u0000\u0000\u0000\u0000\u0000\u0000\u0000\u0000\u0000\u0000\u0000\u0000\u0000\u0000\u0000\u0000\u0000...  \n12                                                     ",
      "text/html": "<div>\n<style scoped>\n    .dataframe tbody tr th:only-of-type {\n        vertical-align: middle;\n    }\n\n    .dataframe tbody tr th {\n        vertical-align: top;\n    }\n\n    .dataframe thead th {\n        text-align: right;\n    }\n</style>\n<table border=\"1\" class=\"dataframe\">\n  <thead>\n    <tr style=\"text-align: right;\">\n      <th></th>\n      <th>Flags</th>\n      <th>Position</th>\n      <th>Trade</th>\n      <th>Started</th>\n      <th>Executed</th>\n      <th>Lag</th>\n      <th>Slippage tol (BPS)</th>\n      <th>Tx</th>\n      <th>Notes</th>\n      <th>Failure reason</th>\n    </tr>\n  </thead>\n  <tbody>\n    <tr>\n      <th>28</th>\n      <td>REP</td>\n      <td>#14</td>\n      <td>WETH-&gt;USDC</td>\n      <td>2023-07-05 21:00</td>\n      <td>2023-07-06 12:02</td>\n      <td>7.0</td>\n      <td>100.0</td>\n      <td>0x89633e…</td>\n      <td>Repaired at 2023-07-06 12:02, by #29</td>\n      <td>execution reverted: ERC20: transfer amount exc...</td>\n    </tr>\n    <tr>\n      <th>29</th>\n      <td>FIX</td>\n      <td>#14</td>\n      <td>USDC-&gt;WETH</td>\n      <td></td>\n      <td>2023-07-06 12:02</td>\n      <td></td>\n      <td></td>\n      <td></td>\n      <td>Repairing trade #28</td>\n      <td></td>\n    </tr>\n    <tr>\n      <th>30</th>\n      <td>REP</td>\n      <td>#14</td>\n      <td>WETH-&gt;USDC</td>\n      <td>2023-07-06 13:57</td>\n      <td>2023-07-07 08:39</td>\n      <td></td>\n      <td>100.0</td>\n      <td>0x803327…</td>\n      <td>Repaired at 2023-07-07 08:39, by #31</td>\n      <td>execution reverted: ERC20: transfer amount exc...</td>\n    </tr>\n    <tr>\n      <th>31</th>\n      <td>FIX</td>\n      <td>#14</td>\n      <td>USDC-&gt;WETH</td>\n      <td></td>\n      <td>2023-07-07 08:39</td>\n      <td></td>\n      <td></td>\n      <td></td>\n      <td>Repairing trade #30</td>\n      <td></td>\n    </tr>\n    <tr>\n      <th>32</th>\n      <td>REP</td>\n      <td>#14</td>\n      <td>WETH-&gt;USDC</td>\n      <td>2023-07-07 08:42</td>\n      <td>2023-07-09 23:58</td>\n      <td></td>\n      <td>100.0</td>\n      <td>0x2eca52…</td>\n      <td>Repaired at 2023-07-09 23:58, by #33</td>\n      <td>execution reverted: ERC20: transfer amount exc...</td>\n    </tr>\n    <tr>\n      <th>33</th>\n      <td>FIX</td>\n      <td>#14</td>\n      <td>USDC-&gt;WETH</td>\n      <td></td>\n      <td>2023-07-09 23:58</td>\n      <td></td>\n      <td></td>\n      <td></td>\n      <td>Repairing trade #32</td>\n      <td></td>\n    </tr>\n    <tr>\n      <th>34</th>\n      <td>REP</td>\n      <td>#14</td>\n      <td>WETH-&gt;USDC</td>\n      <td>2023-07-10 00:00</td>\n      <td>2023-07-10 00:03</td>\n      <td></td>\n      <td>100.0</td>\n      <td>0xb5b249…</td>\n      <td>Repaired at 2023-07-10 00:03, by #35</td>\n      <td>execution reverted: ERC20: transfer amount exc...</td>\n    </tr>\n    <tr>\n      <th>35</th>\n      <td>FIX</td>\n      <td>#14</td>\n      <td>USDC-&gt;WETH</td>\n      <td></td>\n      <td>2023-07-10 00:03</td>\n      <td></td>\n      <td></td>\n      <td></td>\n      <td>Repairing trade #34</td>\n      <td></td>\n    </tr>\n    <tr>\n      <th>36</th>\n      <td>REP</td>\n      <td>#14</td>\n      <td>WETH-&gt;USDC</td>\n      <td>2023-07-10 00:06</td>\n      <td>2023-07-11 07:41</td>\n      <td></td>\n      <td>100.0</td>\n      <td>0xbdb255…</td>\n      <td>Repaired at 2023-07-11 07:41, by #37</td>\n      <td>execution reverted: ERC20: transfer amount exc...</td>\n    </tr>\n    <tr>\n      <th>37</th>\n      <td>FIX</td>\n      <td>#14</td>\n      <td>USDC-&gt;WETH</td>\n      <td></td>\n      <td>2023-07-11 07:41</td>\n      <td></td>\n      <td></td>\n      <td></td>\n      <td>Repairing trade #36</td>\n      <td></td>\n    </tr>\n    <tr>\n      <th>38</th>\n      <td>FAIL</td>\n      <td>#14</td>\n      <td>WETH-&gt;USDC</td>\n      <td>2023-07-11 07:42</td>\n      <td></td>\n      <td></td>\n      <td>100.0</td>\n      <td>0x273387…</td>\n      <td></td>\n      <td>execution reverted: ERC20: transfer amount exc...</td>\n    </tr>\n    <tr>\n      <th>5</th>\n      <td>REP</td>\n      <td>#3</td>\n      <td>USDC-&gt;WMATIC</td>\n      <td>2023-06-30 04:00</td>\n      <td>2023-07-03 07:45</td>\n      <td>11.0</td>\n      <td>100.0</td>\n      <td>0xbfd1d3…</td>\n      <td>Repaired at 2023-07-03 07:45, by #8</td>\n      <td>Too little received\u0000\u0000\u0000\u0000\u0000\u0000\u0000\u0000\u0000\u0000\u0000\u0000\u0000\u0000\u0000\u0000\u0000\u0000\u0000\u0000\u0000\u0000\u0000\u0000\u0000\u0000\u0000...</td>\n    </tr>\n    <tr>\n      <th>8</th>\n      <td>FIX</td>\n      <td>#3</td>\n      <td>WMATIC-&gt;USDC</td>\n      <td></td>\n      <td>2023-07-03 07:45</td>\n      <td></td>\n      <td></td>\n      <td></td>\n      <td>Repairing trade #5</td>\n      <td></td>\n    </tr>\n    <tr>\n      <th>4</th>\n      <td>REP</td>\n      <td>#2</td>\n      <td>WMATIC-&gt;USDC</td>\n      <td>2023-06-29 14:51</td>\n      <td>2023-07-03 07:45</td>\n      <td></td>\n      <td>100.0</td>\n      <td>0xc3f674…</td>\n      <td>Repaired at 2023-07-03 07:45, by #7</td>\n      <td>Too little received\u0000\u0000\u0000\u0000\u0000\u0000\u0000\u0000\u0000\u0000\u0000\u0000\u0000\u0000\u0000\u0000\u0000\u0000\u0000\u0000\u0000\u0000\u0000\u0000\u0000\u0000\u0000...</td>\n    </tr>\n    <tr>\n      <th>7</th>\n      <td>FIX</td>\n      <td>#2</td>\n      <td>USDC-&gt;WMATIC</td>\n      <td></td>\n      <td>2023-07-03 07:45</td>\n      <td></td>\n      <td></td>\n      <td></td>\n      <td>Repairing trade #4</td>\n      <td></td>\n    </tr>\n    <tr>\n      <th>11</th>\n      <td>REP</td>\n      <td>#5</td>\n      <td>USDC-&gt;WMATIC</td>\n      <td>2023-07-06 09:00</td>\n      <td>2023-07-06 11:46</td>\n      <td>6.0</td>\n      <td>100.0</td>\n      <td>0xe979c8…</td>\n      <td>Repaired at 2023-07-06 11:46, by #12</td>\n      <td>Too little received\u0000\u0000\u0000\u0000\u0000\u0000\u0000\u0000\u0000\u0000\u0000\u0000\u0000\u0000\u0000\u0000\u0000\u0000\u0000\u0000\u0000\u0000\u0000\u0000\u0000\u0000\u0000...</td>\n    </tr>\n    <tr>\n      <th>12</th>\n      <td>FIX</td>\n      <td>#5</td>\n      <td>WMATIC-&gt;USDC</td>\n      <td></td>\n      <td>2023-07-06 11:46</td>\n      <td></td>\n      <td></td>\n      <td></td>\n      <td>Repairing trade #11</td>\n      <td></td>\n    </tr>\n  </tbody>\n</table>\n</div>"
     },
     "metadata": {},
     "output_type": "display_data"
    }
   ],
   "source": [
    "import pandas as pd\n",
    "from tradeexecutor.analysis.slippage import display_slippage\n",
    "\n",
    "\n",
    "pd.set_option('display.max_colwidth', None)\n",
    "\n",
    "df = display_slippage(failed_trades)\n",
    "display(df)"
   ],
   "metadata": {
    "collapsed": false,
    "ExecuteTime": {
     "end_time": "2023-07-11T10:17:09.526932Z",
     "start_time": "2023-07-11T10:17:09.524578Z"
    }
   }
  }
 ],
 "metadata": {
  "kernelspec": {
   "display_name": "Python 3",
   "language": "python",
   "name": "python3"
  },
  "language_info": {
   "codemirror_mode": {
    "name": "ipython",
    "version": 2
   },
   "file_extension": ".py",
   "mimetype": "text/x-python",
   "name": "python",
   "nbconvert_exporter": "python",
   "pygments_lexer": "ipython2",
   "version": "2.7.6"
  }
 },
 "nbformat": 4,
 "nbformat_minor": 0
}
