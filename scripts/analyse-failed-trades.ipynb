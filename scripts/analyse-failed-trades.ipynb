{
 "cells": [
  {
   "cell_type": "markdown",
   "source": [
    "# Analyse failed trades\n",
    "\n",
    "Analyse failed trades over multiple trade executors.\n",
    "\n",
    " - Show failed and repaired and fix trades\n",
    "  - Analyse slippage parameters and other causes of failure\n",
    "\n"
   ],
   "metadata": {
    "collapsed": false
   }
  },
  {
   "cell_type": "code",
   "execution_count": 1,
   "outputs": [],
   "source": [
    "monitored_executors = [\n",
    "    #\"https://enzyme-polygon-eth-usdc.tradingstrategy.ai\",\n",
    "    \"https://enzyme-polygon-eth-usdc-sls.tradingstrategy.ai\",\n",
    "    \"https://enzyme-polygon-matic-usdc.tradingstrategy.ai\",\n",
    "    # \"https://enzyme-polygon-multipair.tradingstrategy.ai\",\n",
    "]\n",
    "\n"
   ],
   "metadata": {
    "collapsed": false,
    "ExecuteTime": {
     "end_time": "2023-07-14T11:19:20.258164Z",
     "start_time": "2023-07-14T11:19:20.254739Z"
    }
   }
  },
  {
   "cell_type": "code",
   "execution_count": 2,
   "outputs": [
    {
     "name": "stdout",
     "output_type": "stream",
     "text": [
      "Downloaded 787,090 bytes\n"
     ]
    },
    {
     "name": "stderr",
     "output_type": "stream",
     "text": [
      "/Users/moo/Library/Caches/pypoetry/virtualenvs/trade-executor-8Oz1GdY1-py3.10/lib/python3.10/site-packages/dataclasses_json/core.py:184: RuntimeWarning: `NoneType` object value of non-optional type initial_cash detected when decoding TradeSummary.\n",
      "  warnings.warn(\n",
      "/Users/moo/Library/Caches/pypoetry/virtualenvs/trade-executor-8Oz1GdY1-py3.10/lib/python3.10/site-packages/dataclasses_json/core.py:184: RuntimeWarning: `NoneType` object value of non-optional type strategy_cycle_included_at detected when decoding BalanceEventRef.\n",
      "  warnings.warn(\n"
     ]
    }
   ],
   "source": [
    "import requests\n",
    "from tradeexecutor.state.state import State\n",
    "\n",
    "total_downloaded = 0\n",
    "\n",
    "def download_state(url) -> State:\n",
    "    global total_downloaded\n",
    "    resp = requests.get(f\"{url}/state\")\n",
    "\n",
    "    if len(resp.content) == 0:\n",
    "        raise RuntimeError(f\"Could not download: {url}\")\n",
    "\n",
    "    try:\n",
    "        state = State.read_json_blob(resp.text)\n",
    "    except Exception as e:\n",
    "        raise RuntimeError(f\"Could not decode: {url}\") from e\n",
    "    total_downloaded += len(resp.content)\n",
    "    return state\n",
    "\n",
    "states = [download_state(url)for url in monitored_executors]\n",
    "\n",
    "\n",
    "print(f\"Downloaded {total_downloaded:,} bytes\")"
   ],
   "metadata": {
    "collapsed": false,
    "ExecuteTime": {
     "end_time": "2023-07-14T11:19:22.569860Z",
     "start_time": "2023-07-14T11:19:20.260052Z"
    }
   }
  },
  {
   "cell_type": "code",
   "execution_count": 3,
   "outputs": [
    {
     "name": "stdout",
     "output_type": "stream",
     "text": [
      "Total 10 failed and repaired trades\n"
     ]
    }
   ],
   "source": [
    "from tradeexecutor.state.trade import TradeExecution\n",
    "from itertools import chain\n",
    "\n",
    "# Get all trades across different trade executors\n",
    "all_trades = chain(*[state.portfolio.get_all_trades() for state in states])\n",
    "\n",
    "t: TradeExecution\n",
    "failed_trades = [t for t in all_trades if t.is_failed() or t.is_repaired() or t.is_repair_trade()]\n",
    "\n",
    "print(f\"Total {len(failed_trades)} failed and repaired trades\")"
   ],
   "metadata": {
    "collapsed": false,
    "ExecuteTime": {
     "end_time": "2023-07-14T11:19:22.572039Z",
     "start_time": "2023-07-14T11:19:22.569588Z"
    }
   }
  },
  {
   "cell_type": "code",
   "execution_count": 4,
   "outputs": [
    {
     "data": {
      "text/plain": "   Flags Position         Trade   Lag Slippage  exactInput amount in  \\\n5    REP       #3  USDC->WMATIC  11.0    100.0              1.475939   \n8    FIX       #3  WMATIC->USDC                                        \n4    REP       #2  WMATIC->USDC          100.0  4.603424392792025237   \n7    FIX       #2  USDC->WMATIC                                        \n11   REP       #5  USDC->WMATIC   6.0    100.0              6.348186   \n12   FIX       #5  WMATIC->USDC                                        \n16   REP       #7  WMATIC->USDC          100.0  5.849075641784785089   \n17   FIX       #7  USDC->WMATIC                                        \n18   REP       #7  WMATIC->USDC          100.0  5.849075641784785089   \n19   FIX       #7  USDC->WMATIC                                        \n\n   exactInput amount out Enzyme expected amount  Assumed price  \\\n5   2.269622546029597952   2.247151013201358641       0.650237   \n8                                                     0.650237   \n4               2.886265               2.857688       0.627045   \n7                                                     0.627045   \n11  9.180554910137920512   9.088749270149046272       0.691413   \n12                                                    0.691413   \n16               4.90357               4.854255       0.838385   \n17                                                    0.838385   \n18              4.951599               4.902083       0.846646   \n19                                                    0.846646   \n\n                     Uniswap price  \\\n5   0.6503015237410108133085080401   \n8                                    \n4   0.6269821666929670082936444804   \n7                                    \n11  0.6914817309125631585197820098   \n12                                   \n16  0.8383495615905090608647988530   \n17                                   \n18  0.8465609445408147686826286023   \n19                                   \n\n                                                 Failure reason  \\\n5   Too little received\u0000\u0000\u0000\u0000\u0000\u0000\u0000\u0000\u0000\u0000\u0000\u0000\u0000\u0000\u0000\u0000\u0000\u0000\u0000\u0000\u0000\u0000\u0000\u0000\u0000\u0000\u0000\u0000\u0000\u0000\u0000\u0000\u0000\u0000\u0000\u0000\u0000\u0000\u0000\u0000   \n8                                                                 \n4   Too little received\u0000\u0000\u0000\u0000\u0000\u0000\u0000\u0000\u0000\u0000\u0000\u0000\u0000\u0000\u0000\u0000\u0000\u0000\u0000\u0000\u0000\u0000\u0000\u0000\u0000\u0000\u0000\u0000\u0000\u0000\u0000\u0000\u0000\u0000\u0000\u0000\u0000\u0000\u0000\u0000   \n7                                                                 \n11  Too little received\u0000\u0000\u0000\u0000\u0000\u0000\u0000\u0000\u0000\u0000\u0000\u0000\u0000\u0000\u0000\u0000\u0000\u0000\u0000\u0000\u0000\u0000\u0000\u0000\u0000\u0000\u0000\u0000\u0000\u0000\u0000\u0000\u0000\u0000\u0000\u0000\u0000\u0000\u0000\u0000   \n12                                                                \n16  Too little received\u0000\u0000\u0000\u0000\u0000\u0000\u0000\u0000\u0000\u0000\u0000\u0000\u0000\u0000\u0000\u0000\u0000\u0000\u0000\u0000\u0000\u0000\u0000\u0000\u0000\u0000\u0000\u0000\u0000\u0000\u0000\u0000\u0000\u0000\u0000\u0000\u0000\u0000\u0000\u0000   \n17                                                                \n18  Too little received\u0000\u0000\u0000\u0000\u0000\u0000\u0000\u0000\u0000\u0000\u0000\u0000\u0000\u0000\u0000\u0000\u0000\u0000\u0000\u0000\u0000\u0000\u0000\u0000\u0000\u0000\u0000\u0000\u0000\u0000\u0000\u0000\u0000\u0000\u0000\u0000\u0000\u0000\u0000\u0000   \n19                                                                \n\n                                                                    Tx  \n5   0xbfd1d3b1e1ec6c5ce4bf37aabaf07d6ae8b4eca945e5438db0ce93a6a9534f0b  \n8                                                                       \n4   0xc3f674c79fef3fedea13b24e26d811bbb2d49edffd8c1b6c332c81032ef58e52  \n7                                                                       \n11  0xe979c86b847b25757ed25e6a975eb473e7f126a1fadb9f7823f24524622d4e32  \n12                                                                      \n16  0xc1a47bdedc8acb78de5eb803af313d3867a3adfa313b55e4d7e07a1fdf3365f0  \n17                                                                      \n18  0xcdd25e39fa7277f3eb3402b8a8ba2470bff28b2eb2097cb63abac644261fb4a5  \n19                                                                      ",
      "text/html": "<div>\n<style scoped>\n    .dataframe tbody tr th:only-of-type {\n        vertical-align: middle;\n    }\n\n    .dataframe tbody tr th {\n        vertical-align: top;\n    }\n\n    .dataframe thead th {\n        text-align: right;\n    }\n</style>\n<table border=\"1\" class=\"dataframe\">\n  <thead>\n    <tr style=\"text-align: right;\">\n      <th></th>\n      <th>Flags</th>\n      <th>Position</th>\n      <th>Trade</th>\n      <th>Lag</th>\n      <th>Slippage</th>\n      <th>exactInput amount in</th>\n      <th>exactInput amount out</th>\n      <th>Enzyme expected amount</th>\n      <th>Assumed price</th>\n      <th>Uniswap price</th>\n      <th>Failure reason</th>\n      <th>Tx</th>\n    </tr>\n  </thead>\n  <tbody>\n    <tr>\n      <th>5</th>\n      <td>REP</td>\n      <td>#3</td>\n      <td>USDC-&gt;WMATIC</td>\n      <td>11.0</td>\n      <td>100.0</td>\n      <td>1.475939</td>\n      <td>2.269622546029597952</td>\n      <td>2.247151013201358641</td>\n      <td>0.650237</td>\n      <td>0.6503015237410108133085080401</td>\n      <td>Too little received\u0000\u0000\u0000\u0000\u0000\u0000\u0000\u0000\u0000\u0000\u0000\u0000\u0000\u0000\u0000\u0000\u0000\u0000\u0000\u0000\u0000\u0000\u0000\u0000\u0000\u0000\u0000\u0000\u0000\u0000\u0000\u0000\u0000\u0000\u0000\u0000\u0000\u0000\u0000\u0000</td>\n      <td>0xbfd1d3b1e1ec6c5ce4bf37aabaf07d6ae8b4eca945e5438db0ce93a6a9534f0b</td>\n    </tr>\n    <tr>\n      <th>8</th>\n      <td>FIX</td>\n      <td>#3</td>\n      <td>WMATIC-&gt;USDC</td>\n      <td></td>\n      <td></td>\n      <td></td>\n      <td></td>\n      <td></td>\n      <td>0.650237</td>\n      <td></td>\n      <td></td>\n      <td></td>\n    </tr>\n    <tr>\n      <th>4</th>\n      <td>REP</td>\n      <td>#2</td>\n      <td>WMATIC-&gt;USDC</td>\n      <td></td>\n      <td>100.0</td>\n      <td>4.603424392792025237</td>\n      <td>2.886265</td>\n      <td>2.857688</td>\n      <td>0.627045</td>\n      <td>0.6269821666929670082936444804</td>\n      <td>Too little received\u0000\u0000\u0000\u0000\u0000\u0000\u0000\u0000\u0000\u0000\u0000\u0000\u0000\u0000\u0000\u0000\u0000\u0000\u0000\u0000\u0000\u0000\u0000\u0000\u0000\u0000\u0000\u0000\u0000\u0000\u0000\u0000\u0000\u0000\u0000\u0000\u0000\u0000\u0000\u0000</td>\n      <td>0xc3f674c79fef3fedea13b24e26d811bbb2d49edffd8c1b6c332c81032ef58e52</td>\n    </tr>\n    <tr>\n      <th>7</th>\n      <td>FIX</td>\n      <td>#2</td>\n      <td>USDC-&gt;WMATIC</td>\n      <td></td>\n      <td></td>\n      <td></td>\n      <td></td>\n      <td></td>\n      <td>0.627045</td>\n      <td></td>\n      <td></td>\n      <td></td>\n    </tr>\n    <tr>\n      <th>11</th>\n      <td>REP</td>\n      <td>#5</td>\n      <td>USDC-&gt;WMATIC</td>\n      <td>6.0</td>\n      <td>100.0</td>\n      <td>6.348186</td>\n      <td>9.180554910137920512</td>\n      <td>9.088749270149046272</td>\n      <td>0.691413</td>\n      <td>0.6914817309125631585197820098</td>\n      <td>Too little received\u0000\u0000\u0000\u0000\u0000\u0000\u0000\u0000\u0000\u0000\u0000\u0000\u0000\u0000\u0000\u0000\u0000\u0000\u0000\u0000\u0000\u0000\u0000\u0000\u0000\u0000\u0000\u0000\u0000\u0000\u0000\u0000\u0000\u0000\u0000\u0000\u0000\u0000\u0000\u0000</td>\n      <td>0xe979c86b847b25757ed25e6a975eb473e7f126a1fadb9f7823f24524622d4e32</td>\n    </tr>\n    <tr>\n      <th>12</th>\n      <td>FIX</td>\n      <td>#5</td>\n      <td>WMATIC-&gt;USDC</td>\n      <td></td>\n      <td></td>\n      <td></td>\n      <td></td>\n      <td></td>\n      <td>0.691413</td>\n      <td></td>\n      <td></td>\n      <td></td>\n    </tr>\n    <tr>\n      <th>16</th>\n      <td>REP</td>\n      <td>#7</td>\n      <td>WMATIC-&gt;USDC</td>\n      <td></td>\n      <td>100.0</td>\n      <td>5.849075641784785089</td>\n      <td>4.90357</td>\n      <td>4.854255</td>\n      <td>0.838385</td>\n      <td>0.8383495615905090608647988530</td>\n      <td>Too little received\u0000\u0000\u0000\u0000\u0000\u0000\u0000\u0000\u0000\u0000\u0000\u0000\u0000\u0000\u0000\u0000\u0000\u0000\u0000\u0000\u0000\u0000\u0000\u0000\u0000\u0000\u0000\u0000\u0000\u0000\u0000\u0000\u0000\u0000\u0000\u0000\u0000\u0000\u0000\u0000</td>\n      <td>0xc1a47bdedc8acb78de5eb803af313d3867a3adfa313b55e4d7e07a1fdf3365f0</td>\n    </tr>\n    <tr>\n      <th>17</th>\n      <td>FIX</td>\n      <td>#7</td>\n      <td>USDC-&gt;WMATIC</td>\n      <td></td>\n      <td></td>\n      <td></td>\n      <td></td>\n      <td></td>\n      <td>0.838385</td>\n      <td></td>\n      <td></td>\n      <td></td>\n    </tr>\n    <tr>\n      <th>18</th>\n      <td>REP</td>\n      <td>#7</td>\n      <td>WMATIC-&gt;USDC</td>\n      <td></td>\n      <td>100.0</td>\n      <td>5.849075641784785089</td>\n      <td>4.951599</td>\n      <td>4.902083</td>\n      <td>0.846646</td>\n      <td>0.8465609445408147686826286023</td>\n      <td>Too little received\u0000\u0000\u0000\u0000\u0000\u0000\u0000\u0000\u0000\u0000\u0000\u0000\u0000\u0000\u0000\u0000\u0000\u0000\u0000\u0000\u0000\u0000\u0000\u0000\u0000\u0000\u0000\u0000\u0000\u0000\u0000\u0000\u0000\u0000\u0000\u0000\u0000\u0000\u0000\u0000</td>\n      <td>0xcdd25e39fa7277f3eb3402b8a8ba2470bff28b2eb2097cb63abac644261fb4a5</td>\n    </tr>\n    <tr>\n      <th>19</th>\n      <td>FIX</td>\n      <td>#7</td>\n      <td>USDC-&gt;WMATIC</td>\n      <td></td>\n      <td></td>\n      <td></td>\n      <td></td>\n      <td></td>\n      <td>0.846646</td>\n      <td></td>\n      <td></td>\n      <td></td>\n    </tr>\n  </tbody>\n</table>\n</div>"
     },
     "metadata": {},
     "output_type": "display_data"
    }
   ],
   "source": [
    "import pandas as pd\n",
    "from tradeexecutor.analysis.slippage import display_slippage\n",
    "\n",
    "\n",
    "pd.set_option('display.max_colwidth', None)\n",
    "\n",
    "df = display_slippage(failed_trades)\n",
    "display(df)"
   ],
   "metadata": {
    "collapsed": false,
    "ExecuteTime": {
     "end_time": "2023-07-14T11:19:22.587773Z",
     "start_time": "2023-07-14T11:19:22.572618Z"
    }
   }
  }
 ],
 "metadata": {
  "kernelspec": {
   "display_name": "Python 3",
   "language": "python",
   "name": "python3"
  },
  "language_info": {
   "codemirror_mode": {
    "name": "ipython",
    "version": 2
   },
   "file_extension": ".py",
   "mimetype": "text/x-python",
   "name": "python",
   "nbconvert_exporter": "python",
   "pygments_lexer": "ipython2",
   "version": "2.7.6"
  }
 },
 "nbformat": 4,
 "nbformat_minor": 0
}
