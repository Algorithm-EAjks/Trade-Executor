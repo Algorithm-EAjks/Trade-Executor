{
 "cells": [
  {
   "cell_type": "markdown",
   "source": [
    "# Analyse failed trades\n",
    "\n",
    "Analyse failed trades over multiple trade executors.\n",
    "\n",
    " - Show failed and repaired and fix trades\n",
    "  - Analyse slippage parameters and other causes of failure\n",
    "\n"
   ],
   "metadata": {
    "collapsed": false
   }
  },
  {
   "cell_type": "code",
   "execution_count": 1,
   "outputs": [],
   "source": [
    "monitored_executors = [\n",
    "    #\"https://enzyme-polygon-eth-usdc.tradingstrategy.ai\",\n",
    "    \"https://enzyme-polygon-eth-usdc-sls.tradingstrategy.ai\",\n",
    "    #\"https://enzyme-polygon-matic-usdc.tradingstrategy.ai\",\n",
    "    # \"https://enzyme-polygon-multipair.tradingstrategy.ai\",\n",
    "]\n",
    "\n"
   ],
   "metadata": {
    "collapsed": false,
    "ExecuteTime": {
     "end_time": "2023-07-16T17:34:20.228791Z",
     "start_time": "2023-07-16T17:34:20.226836Z"
    }
   }
  },
  {
   "cell_type": "code",
   "execution_count": 2,
   "outputs": [
    {
     "name": "stdout",
     "output_type": "stream",
     "text": [
      "Downloaded 105,009 bytes\n"
     ]
    }
   ],
   "source": [
    "import requests\n",
    "from tradeexecutor.state.state import State\n",
    "\n",
    "total_downloaded = 0\n",
    "\n",
    "def download_state(url) -> State:\n",
    "    global total_downloaded\n",
    "    resp = requests.get(f\"{url}/state\")\n",
    "\n",
    "    if len(resp.content) == 0:\n",
    "        raise RuntimeError(f\"Could not download: {url}\")\n",
    "\n",
    "    try:\n",
    "        state = State.read_json_blob(resp.text)\n",
    "    except Exception as e:\n",
    "        raise RuntimeError(f\"Could not decode: {url}\") from e\n",
    "    total_downloaded += len(resp.content)\n",
    "    return state\n",
    "\n",
    "states = [download_state(url)for url in monitored_executors]\n",
    "\n",
    "\n",
    "print(f\"Downloaded {total_downloaded:,} bytes\")"
   ],
   "metadata": {
    "collapsed": false,
    "ExecuteTime": {
     "end_time": "2023-07-16T17:34:21.748460Z",
     "start_time": "2023-07-16T17:34:20.230756Z"
    }
   }
  },
  {
   "cell_type": "code",
   "execution_count": 3,
   "outputs": [
    {
     "name": "stdout",
     "output_type": "stream",
     "text": [
      "Total 1 failed and repaired trades\n"
     ]
    }
   ],
   "source": [
    "from tradeexecutor.state.trade import TradeExecution\n",
    "from itertools import chain\n",
    "\n",
    "# Get all trades across different trade executors\n",
    "all_trades = chain(*[state.portfolio.get_all_trades() for state in states])\n",
    "\n",
    "t: TradeExecution\n",
    "failed_trades = [t for t in all_trades if t.is_failed() or t.is_repaired() or t.is_repair_trade()]\n",
    "\n",
    "print(f\"Total {len(failed_trades)} failed and repaired trades\")"
   ],
   "metadata": {
    "collapsed": false,
    "ExecuteTime": {
     "end_time": "2023-07-16T17:34:21.752552Z",
     "start_time": "2023-07-16T17:34:21.749676Z"
    }
   }
  },
  {
   "cell_type": "code",
   "execution_count": 4,
   "outputs": [
    {
     "data": {
      "text/plain": "  Flags Position                Time       Trade    Lag  Slippage  amountIn  \\\n1  FAIL       #1 2023-07-15 15:02:50  USDC->WETH  159.0       100  8.589988   \n\n          amountO    ut Enzyme expected amount  Assumed price  \\\n1  0.004445456425600057   0.004401151327881396    1932.048574   \n\n                   Uniswap price  \\\n1  1932.307321815780809367215429   \n\n                                                Failure reason  \\\n1  Too little received\u0000\u0000\u0000\u0000\u0000\u0000\u0000\u0000\u0000\u0000\u0000\u0000\u0000\u0000\u0000\u0000\u0000\u0000\u0000\u0000\u0000\u0000\u0000\u0000\u0000\u0000\u0000\u0000\u0000\u0000\u0000\u0000\u0000\u0000\u0000\u0000\u0000\u0000\u0000\u0000   \n\n                                                                   Tx  \n1  0x842d5d7fdb89007e591d79a3b65c938ee97fccfa1b638fa172cd38eb110eb314  ",
      "text/html": "<div>\n<style scoped>\n    .dataframe tbody tr th:only-of-type {\n        vertical-align: middle;\n    }\n\n    .dataframe tbody tr th {\n        vertical-align: top;\n    }\n\n    .dataframe thead th {\n        text-align: right;\n    }\n</style>\n<table border=\"1\" class=\"dataframe\">\n  <thead>\n    <tr style=\"text-align: right;\">\n      <th></th>\n      <th>Flags</th>\n      <th>Position</th>\n      <th>Time</th>\n      <th>Trade</th>\n      <th>Lag</th>\n      <th>Slippage</th>\n      <th>amountIn</th>\n      <th>amountO    ut</th>\n      <th>Enzyme expected amount</th>\n      <th>Assumed price</th>\n      <th>Uniswap price</th>\n      <th>Failure reason</th>\n      <th>Tx</th>\n    </tr>\n  </thead>\n  <tbody>\n    <tr>\n      <th>1</th>\n      <td>FAIL</td>\n      <td>#1</td>\n      <td>2023-07-15 15:02:50</td>\n      <td>USDC-&gt;WETH</td>\n      <td>159.0</td>\n      <td>100</td>\n      <td>8.589988</td>\n      <td>0.004445456425600057</td>\n      <td>0.004401151327881396</td>\n      <td>1932.048574</td>\n      <td>1932.307321815780809367215429</td>\n      <td>Too little received\u0000\u0000\u0000\u0000\u0000\u0000\u0000\u0000\u0000\u0000\u0000\u0000\u0000\u0000\u0000\u0000\u0000\u0000\u0000\u0000\u0000\u0000\u0000\u0000\u0000\u0000\u0000\u0000\u0000\u0000\u0000\u0000\u0000\u0000\u0000\u0000\u0000\u0000\u0000\u0000</td>\n      <td>0x842d5d7fdb89007e591d79a3b65c938ee97fccfa1b638fa172cd38eb110eb314</td>\n    </tr>\n  </tbody>\n</table>\n</div>"
     },
     "metadata": {},
     "output_type": "display_data"
    }
   ],
   "source": [
    "import pandas as pd\n",
    "from tradeexecutor.analysis.slippage import display_slippage\n",
    "\n",
    "\n",
    "pd.set_option('display.max_colwidth', None)\n",
    "\n",
    "df = display_slippage(failed_trades)\n",
    "display(df)"
   ],
   "metadata": {
    "collapsed": false,
    "ExecuteTime": {
     "end_time": "2023-07-16T17:34:21.762742Z",
     "start_time": "2023-07-16T17:34:21.752406Z"
    }
   }
  }
 ],
 "metadata": {
  "kernelspec": {
   "display_name": "Python 3",
   "language": "python",
   "name": "python3"
  },
  "language_info": {
   "codemirror_mode": {
    "name": "ipython",
    "version": 2
   },
   "file_extension": ".py",
   "mimetype": "text/x-python",
   "name": "python",
   "nbconvert_exporter": "python",
   "pygments_lexer": "ipython2",
   "version": "2.7.6"
  }
 },
 "nbformat": 4,
 "nbformat_minor": 0
}
