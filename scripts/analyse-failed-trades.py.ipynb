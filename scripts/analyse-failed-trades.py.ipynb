{
 "cells": [
  {
   "cell_type": "markdown",
   "source": [
    "# Analyse failed trades\n",
    "\n",
    "Analyse failed trades over multiple trade executors.\n",
    "\n",
    " - Show failed and repaired and fix trades\n",
    "  - Analyse slippage parameters and other causes of failure\n",
    "\n"
   ],
   "metadata": {
    "collapsed": false
   }
  },
  {
   "cell_type": "code",
   "execution_count": 1,
   "outputs": [],
   "source": [
    "monitored_executors = [\n",
    "    \"https://enzyme-polygon-eth-usdc.tradingstrategy.ai\",\n",
    "    \"https://enzyme-polygon-matic-usdc.tradingstrategy.ai\",\n",
    "    \"https://enzyme-polygon-multipair.tradingstrategy.ai\",\n",
    "]\n",
    "\n"
   ],
   "metadata": {
    "collapsed": false,
    "ExecuteTime": {
     "end_time": "2023-07-11T09:16:37.562003Z",
     "start_time": "2023-07-11T09:16:37.558813Z"
    }
   }
  },
  {
   "cell_type": "code",
   "execution_count": 2,
   "outputs": [
    {
     "name": "stderr",
     "output_type": "stream",
     "text": [
      "/Users/moo/Library/Caches/pypoetry/virtualenvs/trade-executor-8Oz1GdY1-py3.10/lib/python3.10/site-packages/dataclasses_json/core.py:184: RuntimeWarning: `NoneType` object value of non-optional type initial_cash detected when decoding TradeSummary.\n",
      "  warnings.warn(\n"
     ]
    },
    {
     "name": "stdout",
     "output_type": "stream",
     "text": [
      "Downloaded 1,509,517 bytes\n"
     ]
    }
   ],
   "source": [
    "import requests\n",
    "from tradeexecutor.state.state import State\n",
    "\n",
    "total_downloaded = 0\n",
    "\n",
    "def download_state(url) -> State:\n",
    "    global total_downloaded\n",
    "    resp = requests.get(f\"{url}/state\")\n",
    "    state = State.read_json_blob(resp.text)\n",
    "    total_downloaded += len(resp.content)\n",
    "    return state\n",
    "\n",
    "states = [download_state(url)for url in monitored_executors]\n",
    "\n",
    "\n",
    "print(f\"Downloaded {total_downloaded:,} bytes\")"
   ],
   "metadata": {
    "collapsed": false,
    "ExecuteTime": {
     "end_time": "2023-07-11T09:16:39.936925Z",
     "start_time": "2023-07-11T09:16:37.565235Z"
    }
   }
  },
  {
   "cell_type": "code",
   "execution_count": 3,
   "outputs": [
    {
     "name": "stdout",
     "output_type": "stream",
     "text": [
      "Total 62 failed and repaired trades\n"
     ]
    }
   ],
   "source": [
    "from tradeexecutor.state.trade import TradeExecution\n",
    "from itertools import chain\n",
    "\n",
    "# Get all trades across different trade executors\n",
    "all_trades = chain(*[state.portfolio.get_all_trades() for state in states])\n",
    "\n",
    "t: TradeExecution\n",
    "failed_trades = [t for t in all_trades if t.is_failed() or t.is_repaired() or t.is_repair_trade()]\n",
    "\n",
    "print(f\"Total {len(failed_trades)} failed and repaired trades\")"
   ],
   "metadata": {
    "collapsed": false,
    "ExecuteTime": {
     "end_time": "2023-07-11T09:16:39.940470Z",
     "start_time": "2023-07-11T09:16:39.938240Z"
    }
   }
  },
  {
   "cell_type": "code",
   "execution_count": 4,
   "outputs": [
    {
     "data": {
      "text/plain": "   Flags Position       Ticker           Started          Executed   Lag  \\\n1    REP       #1    WETH-USDC  2023-07-10 19:00  2023-07-11 07:39   7.0   \n4    FIX       #1    WETH-USDC                    2023-07-11 07:39         \n2    REP       #2    WETH-USDC  2023-07-10 20:00  2023-07-11 07:39   6.0   \n5    FIX       #2    WETH-USDC                    2023-07-11 07:39         \n5    REP       #3  WMATIC-USDC  2023-06-30 04:00  2023-07-03 07:45  11.0   \n..   ...      ...          ...               ...               ...   ...   \n58   FIX      #27    XSGD-USDC                    2023-07-11 07:41         \n43   REP      #28    XSGD-USDC  2023-07-08 01:01  2023-07-11 07:41  69.0   \n59   FIX      #28    XSGD-USDC                    2023-07-11 07:41         \n46   REP      #30    XSGD-USDC  2023-07-11 07:00  2023-07-11 07:41   7.0   \n60   FIX      #30    XSGD-USDC                    2023-07-11 07:41         \n\n   Slippage tolerance                                 Notes  \\\n1                0.01   Repaired at 2023-07-11 07:39, by #4   \n4                                        Repairing trade #1   \n2                0.01   Repaired at 2023-07-11 07:39, by #5   \n5                                        Repairing trade #2   \n5                0.01   Repaired at 2023-07-03 07:45, by #8   \n..                ...                                   ...   \n58                                      Repairing trade #42   \n43               0.01  Repaired at 2023-07-11 07:41, by #59   \n59                                      Repairing trade #43   \n46               0.01  Repaired at 2023-07-11 07:41, by #60   \n60                                      Repairing trade #46   \n\n                                       Failure reason  \n1   Too little received\u0000\u0000\u0000\u0000\u0000\u0000\u0000\u0000\u0000\u0000\u0000\u0000\u0000\u0000\u0000\u0000\u0000\u0000\u0000\u0000\u0000\u0000\u0000\u0000\u0000\u0000\u0000...  \n4                                                      \n2   Too little received\u0000\u0000\u0000\u0000\u0000\u0000\u0000\u0000\u0000\u0000\u0000\u0000\u0000\u0000\u0000\u0000\u0000\u0000\u0000\u0000\u0000\u0000\u0000\u0000\u0000\u0000\u0000...  \n5                                                      \n5   Too little received\u0000\u0000\u0000\u0000\u0000\u0000\u0000\u0000\u0000\u0000\u0000\u0000\u0000\u0000\u0000\u0000\u0000\u0000\u0000\u0000\u0000\u0000\u0000\u0000\u0000\u0000\u0000...  \n..                                                ...  \n58                                                     \n43  execution reverted: __preProcessCoI: Non-recei...  \n59                                                     \n46  execution reverted: __preProcessCoI: Non-recei...  \n60                                                     \n\n[62 rows x 9 columns]",
      "text/html": "<div>\n<style scoped>\n    .dataframe tbody tr th:only-of-type {\n        vertical-align: middle;\n    }\n\n    .dataframe tbody tr th {\n        vertical-align: top;\n    }\n\n    .dataframe thead th {\n        text-align: right;\n    }\n</style>\n<table border=\"1\" class=\"dataframe\">\n  <thead>\n    <tr style=\"text-align: right;\">\n      <th></th>\n      <th>Flags</th>\n      <th>Position</th>\n      <th>Ticker</th>\n      <th>Started</th>\n      <th>Executed</th>\n      <th>Lag</th>\n      <th>Slippage tolerance</th>\n      <th>Notes</th>\n      <th>Failure reason</th>\n    </tr>\n  </thead>\n  <tbody>\n    <tr>\n      <th>1</th>\n      <td>REP</td>\n      <td>#1</td>\n      <td>WETH-USDC</td>\n      <td>2023-07-10 19:00</td>\n      <td>2023-07-11 07:39</td>\n      <td>7.0</td>\n      <td>0.01</td>\n      <td>Repaired at 2023-07-11 07:39, by #4</td>\n      <td>Too little received\u0000\u0000\u0000\u0000\u0000\u0000\u0000\u0000\u0000\u0000\u0000\u0000\u0000\u0000\u0000\u0000\u0000\u0000\u0000\u0000\u0000\u0000\u0000\u0000\u0000\u0000\u0000...</td>\n    </tr>\n    <tr>\n      <th>4</th>\n      <td>FIX</td>\n      <td>#1</td>\n      <td>WETH-USDC</td>\n      <td></td>\n      <td>2023-07-11 07:39</td>\n      <td></td>\n      <td></td>\n      <td>Repairing trade #1</td>\n      <td></td>\n    </tr>\n    <tr>\n      <th>2</th>\n      <td>REP</td>\n      <td>#2</td>\n      <td>WETH-USDC</td>\n      <td>2023-07-10 20:00</td>\n      <td>2023-07-11 07:39</td>\n      <td>6.0</td>\n      <td>0.01</td>\n      <td>Repaired at 2023-07-11 07:39, by #5</td>\n      <td>Too little received\u0000\u0000\u0000\u0000\u0000\u0000\u0000\u0000\u0000\u0000\u0000\u0000\u0000\u0000\u0000\u0000\u0000\u0000\u0000\u0000\u0000\u0000\u0000\u0000\u0000\u0000\u0000...</td>\n    </tr>\n    <tr>\n      <th>5</th>\n      <td>FIX</td>\n      <td>#2</td>\n      <td>WETH-USDC</td>\n      <td></td>\n      <td>2023-07-11 07:39</td>\n      <td></td>\n      <td></td>\n      <td>Repairing trade #2</td>\n      <td></td>\n    </tr>\n    <tr>\n      <th>5</th>\n      <td>REP</td>\n      <td>#3</td>\n      <td>WMATIC-USDC</td>\n      <td>2023-06-30 04:00</td>\n      <td>2023-07-03 07:45</td>\n      <td>11.0</td>\n      <td>0.01</td>\n      <td>Repaired at 2023-07-03 07:45, by #8</td>\n      <td>Too little received\u0000\u0000\u0000\u0000\u0000\u0000\u0000\u0000\u0000\u0000\u0000\u0000\u0000\u0000\u0000\u0000\u0000\u0000\u0000\u0000\u0000\u0000\u0000\u0000\u0000\u0000\u0000...</td>\n    </tr>\n    <tr>\n      <th>...</th>\n      <td>...</td>\n      <td>...</td>\n      <td>...</td>\n      <td>...</td>\n      <td>...</td>\n      <td>...</td>\n      <td>...</td>\n      <td>...</td>\n      <td>...</td>\n    </tr>\n    <tr>\n      <th>58</th>\n      <td>FIX</td>\n      <td>#27</td>\n      <td>XSGD-USDC</td>\n      <td></td>\n      <td>2023-07-11 07:41</td>\n      <td></td>\n      <td></td>\n      <td>Repairing trade #42</td>\n      <td></td>\n    </tr>\n    <tr>\n      <th>43</th>\n      <td>REP</td>\n      <td>#28</td>\n      <td>XSGD-USDC</td>\n      <td>2023-07-08 01:01</td>\n      <td>2023-07-11 07:41</td>\n      <td>69.0</td>\n      <td>0.01</td>\n      <td>Repaired at 2023-07-11 07:41, by #59</td>\n      <td>execution reverted: __preProcessCoI: Non-recei...</td>\n    </tr>\n    <tr>\n      <th>59</th>\n      <td>FIX</td>\n      <td>#28</td>\n      <td>XSGD-USDC</td>\n      <td></td>\n      <td>2023-07-11 07:41</td>\n      <td></td>\n      <td></td>\n      <td>Repairing trade #43</td>\n      <td></td>\n    </tr>\n    <tr>\n      <th>46</th>\n      <td>REP</td>\n      <td>#30</td>\n      <td>XSGD-USDC</td>\n      <td>2023-07-11 07:00</td>\n      <td>2023-07-11 07:41</td>\n      <td>7.0</td>\n      <td>0.01</td>\n      <td>Repaired at 2023-07-11 07:41, by #60</td>\n      <td>execution reverted: __preProcessCoI: Non-recei...</td>\n    </tr>\n    <tr>\n      <th>60</th>\n      <td>FIX</td>\n      <td>#30</td>\n      <td>XSGD-USDC</td>\n      <td></td>\n      <td>2023-07-11 07:41</td>\n      <td></td>\n      <td></td>\n      <td>Repairing trade #46</td>\n      <td></td>\n    </tr>\n  </tbody>\n</table>\n<p>62 rows × 9 columns</p>\n</div>"
     },
     "execution_count": 4,
     "metadata": {},
     "output_type": "execute_result"
    }
   ],
   "source": [
    "import pandas as pd\n",
    "from tradeexecutor.analysis.slippage import display_slippage\n",
    "\n",
    "display_slippage(failed_trades)"
   ],
   "metadata": {
    "collapsed": false,
    "ExecuteTime": {
     "end_time": "2023-07-11T09:16:39.951798Z",
     "start_time": "2023-07-11T09:16:39.941336Z"
    }
   }
  }
 ],
 "metadata": {
  "kernelspec": {
   "display_name": "Python 3",
   "language": "python",
   "name": "python3"
  },
  "language_info": {
   "codemirror_mode": {
    "name": "ipython",
    "version": 2
   },
   "file_extension": ".py",
   "mimetype": "text/x-python",
   "name": "python",
   "nbconvert_exporter": "python",
   "pygments_lexer": "ipython2",
   "version": "2.7.6"
  }
 },
 "nbformat": 4,
 "nbformat_minor": 0
}
