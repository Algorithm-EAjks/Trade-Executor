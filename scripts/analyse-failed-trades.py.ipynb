{
 "cells": [
  {
   "cell_type": "markdown",
   "source": [
    "# Analyse failed trades\n",
    "\n",
    "Analyse failed trades over multiple trade executors.\n",
    "\n"
   ],
   "metadata": {
    "collapsed": false
   }
  },
  {
   "cell_type": "code",
   "execution_count": 1,
   "outputs": [],
   "source": [
    "monitored_executors = [\n",
    "    \"https://enzyme-polygon-eth-usdc.tradingstrategy.ai\",\n",
    "    \"https://enzyme-polygon-matic-usdc.tradingstrategy.ai\",\n",
    "]\n",
    "\n"
   ],
   "metadata": {
    "collapsed": false,
    "ExecuteTime": {
     "end_time": "2023-07-03T08:38:06.650810Z",
     "start_time": "2023-07-03T08:38:06.646149Z"
    }
   }
  },
  {
   "cell_type": "code",
   "execution_count": 2,
   "outputs": [
    {
     "name": "stderr",
     "output_type": "stream",
     "text": [
      "/Users/moo/Library/Caches/pypoetry/virtualenvs/trade-executor-0IMGzMxl-py3.10/lib/python3.10/site-packages/dataclasses_json/core.py:180: RuntimeWarning: `NoneType` object value of non-optional type initial_cash detected when decoding TradeSummary.\n",
      "  warnings.warn(f\"`NoneType` object {warning}.\", RuntimeWarning)\n",
      "/Users/moo/Library/Caches/pypoetry/virtualenvs/trade-executor-0IMGzMxl-py3.10/lib/python3.10/site-packages/dataclasses_json/core.py:180: RuntimeWarning: `NoneType` object value of non-optional type average_winning_trade_profit_pc detected when decoding TradeSummary.\n",
      "  warnings.warn(f\"`NoneType` object {warning}.\", RuntimeWarning)\n",
      "/Users/moo/Library/Caches/pypoetry/virtualenvs/trade-executor-0IMGzMxl-py3.10/lib/python3.10/site-packages/dataclasses_json/core.py:180: RuntimeWarning: `NoneType` object value of non-optional type average_losing_trade_loss_pc detected when decoding TradeSummary.\n",
      "  warnings.warn(f\"`NoneType` object {warning}.\", RuntimeWarning)\n"
     ]
    },
    {
     "name": "stdout",
     "output_type": "stream",
     "text": [
      "Downloaded {total_downloaded:,} bytes\n"
     ]
    },
    {
     "name": "stderr",
     "output_type": "stream",
     "text": [
      "/Users/moo/Library/Caches/pypoetry/virtualenvs/trade-executor-0IMGzMxl-py3.10/lib/python3.10/site-packages/dataclasses_json/core.py:180: RuntimeWarning: `NoneType` object value of non-optional type duration detected when decoding TradeSummary.\n",
      "  warnings.warn(f\"`NoneType` object {warning}.\", RuntimeWarning)\n"
     ]
    }
   ],
   "source": [
    "import requests\n",
    "from tradeexecutor.state.state import State\n",
    "\n",
    "total_downloaded = 0\n",
    "\n",
    "def download_state(url) -> State:\n",
    "    global total_downloaded\n",
    "    resp = requests.get(f\"{url}/state\")\n",
    "    total_downloaded += resp.headers.get(\"content-length\", 0)\n",
    "    state = State.read_json_blob(resp.text)\n",
    "    return state\n",
    "\n",
    "states = [download_state(url)for url in monitored_executors]\n",
    "\n",
    "\n",
    "print(\"Downloaded {total_downloaded:,} bytes\")"
   ],
   "metadata": {
    "collapsed": false,
    "ExecuteTime": {
     "end_time": "2023-07-03T08:38:12.003344Z",
     "start_time": "2023-07-03T08:38:06.652586Z"
    }
   }
  },
  {
   "cell_type": "code",
   "execution_count": 3,
   "outputs": [
    {
     "ename": "AttributeError",
     "evalue": "'State' object has no attribute 'get_all_trades'",
     "output_type": "error",
     "traceback": [
      "\u001B[0;31m---------------------------------------------------------------------------\u001B[0m",
      "\u001B[0;31mAttributeError\u001B[0m                            Traceback (most recent call last)",
      "Cell \u001B[0;32mIn[3], line 4\u001B[0m\n\u001B[1;32m      1\u001B[0m \u001B[38;5;28;01mfrom\u001B[39;00m \u001B[38;5;21;01mitertools\u001B[39;00m \u001B[38;5;28;01mimport\u001B[39;00m chain\n\u001B[1;32m      3\u001B[0m \u001B[38;5;66;03m# Get all trades across different trade executors\u001B[39;00m\n\u001B[0;32m----> 4\u001B[0m all_trades \u001B[38;5;241m=\u001B[39m chain(\u001B[38;5;241m*\u001B[39m[state\u001B[38;5;241m.\u001B[39mget_all_trades() \u001B[38;5;28;01mfor\u001B[39;00m state \u001B[38;5;129;01min\u001B[39;00m states])\n\u001B[1;32m      6\u001B[0m failed_trades \u001B[38;5;241m=\u001B[39m [t \u001B[38;5;28;01mfor\u001B[39;00m t \u001B[38;5;129;01min\u001B[39;00m all_trades \u001B[38;5;28;01mif\u001B[39;00m t\u001B[38;5;241m.\u001B[39mis_failed()]\n\u001B[1;32m      8\u001B[0m \u001B[38;5;28mprint\u001B[39m(\u001B[38;5;124mf\u001B[39m\u001B[38;5;124m\"\u001B[39m\u001B[38;5;124mTotal \u001B[39m\u001B[38;5;132;01m{\u001B[39;00mfailed_trades\u001B[38;5;132;01m}\u001B[39;00m\u001B[38;5;124m failed trades\u001B[39m\u001B[38;5;124m\"\u001B[39m)\n",
      "Cell \u001B[0;32mIn[3], line 4\u001B[0m, in \u001B[0;36m<listcomp>\u001B[0;34m(.0)\u001B[0m\n\u001B[1;32m      1\u001B[0m \u001B[38;5;28;01mfrom\u001B[39;00m \u001B[38;5;21;01mitertools\u001B[39;00m \u001B[38;5;28;01mimport\u001B[39;00m chain\n\u001B[1;32m      3\u001B[0m \u001B[38;5;66;03m# Get all trades across different trade executors\u001B[39;00m\n\u001B[0;32m----> 4\u001B[0m all_trades \u001B[38;5;241m=\u001B[39m chain(\u001B[38;5;241m*\u001B[39m[\u001B[43mstate\u001B[49m\u001B[38;5;241;43m.\u001B[39;49m\u001B[43mget_all_trades\u001B[49m() \u001B[38;5;28;01mfor\u001B[39;00m state \u001B[38;5;129;01min\u001B[39;00m states])\n\u001B[1;32m      6\u001B[0m failed_trades \u001B[38;5;241m=\u001B[39m [t \u001B[38;5;28;01mfor\u001B[39;00m t \u001B[38;5;129;01min\u001B[39;00m all_trades \u001B[38;5;28;01mif\u001B[39;00m t\u001B[38;5;241m.\u001B[39mis_failed()]\n\u001B[1;32m      8\u001B[0m \u001B[38;5;28mprint\u001B[39m(\u001B[38;5;124mf\u001B[39m\u001B[38;5;124m\"\u001B[39m\u001B[38;5;124mTotal \u001B[39m\u001B[38;5;132;01m{\u001B[39;00mfailed_trades\u001B[38;5;132;01m}\u001B[39;00m\u001B[38;5;124m failed trades\u001B[39m\u001B[38;5;124m\"\u001B[39m)\n",
      "\u001B[0;31mAttributeError\u001B[0m: 'State' object has no attribute 'get_all_trades'"
     ]
    }
   ],
   "source": [
    "from itertools import chain\n",
    "\n",
    "# Get all trades across different trade executors\n",
    "all_trades = chain(*[state.get_all_trades() for state in states])\n",
    "\n",
    "failed_trades = [t for t in all_trades if t.is_failed()]\n",
    "\n",
    "print(f\"Total {failed_trades} failed trades\")"
   ],
   "metadata": {
    "collapsed": false,
    "ExecuteTime": {
     "end_time": "2023-07-03T08:38:12.225241Z",
     "start_time": "2023-07-03T08:38:12.004007Z"
    }
   }
  }
 ],
 "metadata": {
  "kernelspec": {
   "display_name": "Python 3",
   "language": "python",
   "name": "python3"
  },
  "language_info": {
   "codemirror_mode": {
    "name": "ipython",
    "version": 2
   },
   "file_extension": ".py",
   "mimetype": "text/x-python",
   "name": "python",
   "nbconvert_exporter": "python",
   "pygments_lexer": "ipython2",
   "version": "2.7.6"
  }
 },
 "nbformat": 4,
 "nbformat_minor": 0
}
