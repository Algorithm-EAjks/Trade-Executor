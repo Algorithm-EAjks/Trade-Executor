{
 "cells": [
  {
   "cell_type": "markdown",
   "source": [
    "# RSI 70-30 example\n",
    "\n",
    "- An example strategy [for RSI rebalance](https://help.tokensets.com/en/articles/3541009-eth-btc-rsi-ratio-trading-set-details)\n",
    "\n",
    "# Set up\n"
   ],
   "metadata": {
    "collapsed": false
   }
  },
  {
   "cell_type": "code",
   "execution_count": 1,
   "outputs": [
    {
     "name": "stdout",
     "output_type": "stream",
     "text": [
      "Started Trading Strategy in Jupyter notebook environment, configuration is stored in /Users/moo/.tradingstrategy\n"
     ]
    }
   ],
   "source": [
    "from tradingstrategy.client import Client\n",
    "\n",
    "client = Client.create_jupyter_client()"
   ],
   "metadata": {
    "collapsed": false,
    "ExecuteTime": {
     "end_time": "2024-02-05T10:52:14.524010Z",
     "start_time": "2024-02-05T10:52:13.974165Z"
    }
   }
  },
  {
   "cell_type": "markdown",
   "source": [
    "# Load data\n",
    "\n",
    "We use Binance data so we get a longer period of data."
   ],
   "metadata": {
    "collapsed": false
   }
  },
  {
   "cell_type": "code",
   "execution_count": 2,
   "outputs": [
    {
     "data": {
      "text/plain": "  0%|          | 0/2 [00:00<?, ?it/s]",
      "application/vnd.jupyter.widget-view+json": {
       "version_major": 2,
       "version_minor": 0,
       "model_id": "f7489a1b53aa4cbeba410fff8a777ba1"
      }
     },
     "metadata": {},
     "output_type": "display_data"
    }
   ],
   "source": [
    "import datetime\n",
    "from tradingstrategy.timebucket import TimeBucket\n",
    "from tradeexecutor.utils.binance import create_binance_universe\n",
    "\n",
    "strategy_universe = create_binance_universe(\n",
    "    [\"ETHUSDT\", \"BTCUSDT\"],\n",
    "    candle_time_bucket=TimeBucket.d1,\n",
    "    stop_loss_time_bucket=TimeBucket.h4,\n",
    "    start_at=datetime.datetime(2020, 1, 1),\n",
    "    end_at=datetime.datetime(2024, 1, 1),\n",
    "    include_lending=False\n",
    ")\n"
   ],
   "metadata": {
    "collapsed": false,
    "ExecuteTime": {
     "end_time": "2024-02-05T10:52:15.234931Z",
     "start_time": "2024-02-05T10:52:14.525688Z"
    }
   }
  },
  {
   "cell_type": "markdown",
   "source": [
    "# Show loaded trading universe"
   ],
   "metadata": {
    "collapsed": false
   }
  },
  {
   "cell_type": "code",
   "execution_count": 3,
   "outputs": [
    {
     "name": "stdout",
     "output_type": "stream",
     "text": [
      "We loaded 2,924 candles.\n",
      "<Pair #1 ETH - USDT (0xe82ac67166a910f4092c23f781cd39e46582ec9c) at exchange binance>\n",
      "<Pair #2 BTC - USDT (0x1d06ef1d6470d25f8e3d6f04f5acc111f176939c) at exchange binance>\n"
     ]
    }
   ],
   "source": [
    "pairs = strategy_universe.data_universe.pairs  # Trading pairs metadata\n",
    "candles = strategy_universe.data_universe.candles  # Candles for all trading pairs\n",
    "\n",
    "print(f\"We loaded {candles.get_candle_count():,} candles.\")\n",
    "\n",
    "for pair in pairs.iterate_pairs():\n",
    "    print(pair)"
   ],
   "metadata": {
    "collapsed": false,
    "ExecuteTime": {
     "end_time": "2024-02-05T10:52:15.248638Z",
     "start_time": "2024-02-05T10:52:15.237565Z"
    }
   }
  },
  {
   "cell_type": "markdown",
   "source": [
    "# Trading algorithm"
   ],
   "metadata": {
    "collapsed": false
   }
  },
  {
   "cell_type": "code",
   "execution_count": 4,
   "outputs": [
    {
     "ename": "SyntaxError",
     "evalue": "invalid syntax (4193122099.py, line 33)",
     "output_type": "error",
     "traceback": [
      "\u001B[0;36m  Cell \u001B[0;32mIn[4], line 33\u001B[0;36m\u001B[0m\n\u001B[0;31m    pair = pass\u001B[0m\n\u001B[0m           ^\u001B[0m\n\u001B[0;31mSyntaxError\u001B[0m\u001B[0;31m:\u001B[0m invalid syntax\n"
     ]
    }
   ],
   "source": [
    "from typing import List, Dict\n",
    "\n",
    "from pandas_ta.overlap import ema\n",
    "from pandas_ta.momentum import rsi\n",
    "import pandas as pd\n",
    "\n",
    "from tradeexecutor.strategy.trading_strategy_universe import TradingStrategyUniverse\n",
    "from tradeexecutor.state.visualisation import PlotKind, PlotShape\n",
    "from tradeexecutor.state.trade import TradeExecution\n",
    "from tradeexecutor.strategy.pricing_model import PricingModel\n",
    "from tradeexecutor.strategy.pandas_trader.position_manager import PositionManager\n",
    "from tradeexecutor.state.state import State\n",
    "from tradeexecutor.strategy.pandas_trader.position_manager import PositionManager\n",
    "\n",
    "rsi_high = 70\n",
    "rsi_low = 30\n",
    "tokens = [\"ETH\", \"BTC\"]\n",
    "lookback_candles = 120\n",
    "\n",
    "\n",
    "def decide_trades(\n",
    "        timestamp: pd.Timestamp,\n",
    "        strategy_universe: TradingStrategyUniverse,\n",
    "        state: State,\n",
    "        pricing_model: PricingModel,\n",
    "        cycle_debug_data: Dict) -> List[TradeExecution]:\n",
    "\n",
    "    trades = []  # This is the list of trades we are going to  make in  this cycle\n",
    "    cash = state.portfolio.get_current_cash()  # How much cash we have in a hand\n",
    "\n",
    "    # Calculate indicators\n",
    "    for token in tokens:  # Visualise RSI for all of our traded pairs\n",
    "        pair = pass\n",
    "        candles = candles.get_single_pair_data(timestamp, sample_count=lookback_candles)\n",
    "\n",
    "    # Generate trades\n",
    "\n",
    "\n",
    "    # Plot backtest and live trading visualisation\n",
    "    visualisation = state.visualisation\n",
    "    for token in tokens:  # Visualise RSI for all of our traded pairs\n",
    "        visualisation.plot_indicator(timestamp, f\"RSI {token} low\", PlotKind.technical_indicator_overlay_on_detached, rsi_low, detached_overlay_name=\"RSI {token}\")\n",
    "        visualisation.plot_indicator(timestamp, f\"RSI {token} high\", PlotKind.technical_indicator_overlay_on_detached, rsi_high, detached_overlay_name=\"RSI {token}\")\n",
    "    return trades"
   ],
   "metadata": {
    "collapsed": false,
    "ExecuteTime": {
     "end_time": "2024-02-05T10:52:15.249150Z",
     "start_time": "2024-02-05T10:52:15.244796Z"
    }
   }
  },
  {
   "cell_type": "markdown",
   "source": [
    "# Backtest"
   ],
   "metadata": {
    "collapsed": false
   }
  },
  {
   "cell_type": "code",
   "execution_count": null,
   "outputs": [],
   "source": [
    "from tradeexecutor.strategy.cycle import CycleDuration\n",
    "\n",
    "from tradeexecutor.backtest.backtest_runner import run_backtest_inline\n",
    "\n",
    "state, universe, debug_dump = run_backtest_inline(\n",
    "    decide_trades=decide_trades,\n",
    "    name=\"ETH/USDC fast and slow EMA example\",\n",
    "    client=client,\n",
    "    cycle_duration=CycleDuration.d1,\n",
    "    universe=universe,\n",
    "    # create_trading_universe=create_single_pair_trading_universe,\n",
    "    initial_deposit=10_000,\n",
    "    engine_version=\"0.3\",\n",
    "    universe_options=default_universe_options,\n",
    ")\n",
    "\n",
    "trade_count = len(list(state.portfolio.get_all_trades()))\n",
    "print(f\"Backtesting completed, backtested strategy made {trade_count} trades\")"
   ],
   "metadata": {
    "collapsed": false
   }
  }
 ],
 "metadata": {
  "kernelspec": {
   "display_name": "Python 3 (ipykernel)",
   "language": "python",
   "name": "python3"
  },
  "language_info": {
   "codemirror_mode": {
    "name": "ipython",
    "version": 3
   },
   "file_extension": ".py",
   "mimetype": "text/x-python",
   "name": "python",
   "nbconvert_exporter": "python",
   "pygments_lexer": "ipython3",
   "version": "3.10.6"
  },
  "vscode": {
   "interpreter": {
    "hash": "f45fb66dacef78c495ceec56f258b06b84bd9cb2c0a9a6d3656125fb3c018996"
   }
  }
 },
 "nbformat": 4,
 "nbformat_minor": 4
}
