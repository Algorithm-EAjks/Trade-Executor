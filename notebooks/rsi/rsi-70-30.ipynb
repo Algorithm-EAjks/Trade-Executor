{
 "cells": [
  {
   "cell_type": "markdown",
   "source": [
    "# RSI 70-30 example\n",
    "\n",
    "- An example strategy [for RSI rebalance](https://help.tokensets.com/en/articles/3541009-eth-btc-rsi-ratio-trading-set-details)\n",
    "\n",
    "# Set up\n"
   ],
   "metadata": {
    "collapsed": false
   }
  },
  {
   "cell_type": "code",
   "execution_count": 1,
   "outputs": [
    {
     "name": "stdout",
     "output_type": "stream",
     "text": [
      "Started Trading Strategy in Jupyter notebook environment, configuration is stored in /Users/moo/.tradingstrategy\n"
     ]
    }
   ],
   "source": [
    "import numpy as np\n",
    "\n",
    "from tradingstrategy.client import Client\n",
    "\n",
    "client = Client.create_jupyter_client()"
   ],
   "metadata": {
    "collapsed": false,
    "ExecuteTime": {
     "end_time": "2024-02-05T12:25:09.832650Z",
     "start_time": "2024-02-05T12:25:09.392267Z"
    }
   }
  },
  {
   "cell_type": "markdown",
   "source": [
    "# Load data\n",
    "\n",
    "We use Binance data so we get a longer period of data."
   ],
   "metadata": {
    "collapsed": false
   }
  },
  {
   "cell_type": "code",
   "execution_count": 2,
   "outputs": [
    {
     "data": {
      "text/plain": "  0%|          | 0/2 [00:00<?, ?it/s]",
      "application/vnd.jupyter.widget-view+json": {
       "version_major": 2,
       "version_minor": 0,
       "model_id": "deafb1a3b3134352ba3cbe67630c421e"
      }
     },
     "metadata": {},
     "output_type": "display_data"
    }
   ],
   "source": [
    "import datetime\n",
    "from tradingstrategy.timebucket import TimeBucket\n",
    "from tradeexecutor.utils.binance import create_binance_universe\n",
    "\n",
    "strategy_universe = create_binance_universe(\n",
    "    [\"ETHUSDT\", \"BTCUSDT\"],\n",
    "    candle_time_bucket=TimeBucket.d1,\n",
    "    stop_loss_time_bucket=TimeBucket.h4,\n",
    "    start_at=datetime.datetime(2020, 1, 1),\n",
    "    end_at=datetime.datetime(2024, 1, 1),\n",
    "    include_lending=False\n",
    ")\n"
   ],
   "metadata": {
    "collapsed": false,
    "ExecuteTime": {
     "end_time": "2024-02-05T12:25:10.434990Z",
     "start_time": "2024-02-05T12:25:09.834884Z"
    }
   }
  },
  {
   "cell_type": "markdown",
   "source": [
    "# Show loaded trading universe"
   ],
   "metadata": {
    "collapsed": false
   }
  },
  {
   "cell_type": "code",
   "execution_count": 3,
   "outputs": [
    {
     "name": "stdout",
     "output_type": "stream",
     "text": [
      "We loaded 2,924 candles.\n",
      "<Pair #1 ETH - USDT (0xe82ac67166a910f4092c23f781cd39e46582ec9c) at exchange binance>\n",
      "<Pair #2 BTC - USDT (0x1d06ef1d6470d25f8e3d6f04f5acc111f176939c) at exchange binance>\n"
     ]
    }
   ],
   "source": [
    "pairs = strategy_universe.data_universe.pairs  # Trading pairs metadata\n",
    "candles = strategy_universe.data_universe.candles  # Candles for all trading pairs\n",
    "\n",
    "print(f\"We loaded {candles.get_candle_count():,} candles.\")\n",
    "\n",
    "for pair in pairs.iterate_pairs():\n",
    "    print(pair)"
   ],
   "metadata": {
    "collapsed": false,
    "ExecuteTime": {
     "end_time": "2024-02-05T12:25:10.438873Z",
     "start_time": "2024-02-05T12:25:10.437036Z"
    }
   }
  },
  {
   "cell_type": "markdown",
   "source": [
    "# Trading algorithm"
   ],
   "metadata": {
    "collapsed": false
   }
  },
  {
   "cell_type": "code",
   "execution_count": 4,
   "outputs": [],
   "source": [
    "from tradingstrategy.chain import ChainId\n",
    "from typing import List, Dict\n",
    "\n",
    "from pandas_ta.overlap import ema\n",
    "from pandas_ta.momentum import rsi\n",
    "import pandas as pd\n",
    "\n",
    "from tradeexecutor.strategy.trading_strategy_universe import TradingStrategyUniverse\n",
    "from tradeexecutor.state.visualisation import PlotKind, PlotShape\n",
    "from tradeexecutor.state.trade import TradeExecution\n",
    "from tradeexecutor.strategy.pricing_model import PricingModel\n",
    "from tradeexecutor.strategy.pandas_trader.position_manager import PositionManager\n",
    "from tradeexecutor.state.state import State\n",
    "from tradeexecutor.strategy.pandas_trader.position_manager import PositionManager\n",
    "\n",
    "rsi_high = 70\n",
    "rsi_low = 30\n",
    "\n",
    "# List of pair descriptions we used to look up pair metadata\n",
    "our_pairs = [\n",
    "    (ChainId.centralised_exchange, \"binance\", \"ETH\", \"USDT\"),\n",
    "    (ChainId.centralised_exchange, \"binance\", \"BTC\", \"USDT\"),\n",
    "]\n",
    "lookback_candles = 120\n",
    "\n",
    "\n",
    "def decide_trades(\n",
    "        timestamp: pd.Timestamp,\n",
    "        strategy_universe: TradingStrategyUniverse,\n",
    "        state: State,\n",
    "        pricing_model: PricingModel,\n",
    "        cycle_debug_data: Dict) -> List[TradeExecution]:\n",
    "\n",
    "    trades = []  # This is the list of trades we are going to  make in  this cycle\n",
    "    cash = state.portfolio.get_current_cash()  # How much cash we have in a hand\n",
    "\n",
    "    visualisation = state.visualisation  # Helper class to visualise strategy output\n",
    "    current_rsi_values = {}\n",
    "    current_price = {}\n",
    "\n",
    "    # Calculate indicators\n",
    "    for desc in our_pairs:  # Visualise RSI for all of our traded pairs\n",
    "        pair = pairs.get_pair_by_human_description(desc)\n",
    "        token = pair.base_token_symbol  # \"ETH\" or \"BTC\"\n",
    "        pair_candles = candles.get_last_entries_by_pair_and_timestamp(pair, timestamp)\n",
    "        assert pair_candles is not None\n",
    "        rsi_series = rsi(pair_candles[\"close\"], length=14)  # Will return None if the data buffer does not have enough days to look back\n",
    "\n",
    "        current_rsi_values[pair] = None\n",
    "        current_price[pair] = None\n",
    "\n",
    "        if len(pair_candles) > 0:\n",
    "            # We have enough data to get the latest price\n",
    "            current_price[pair] = pair_candles[\"close\"][-1]\n",
    "\n",
    "        if rsi_series is not None:\n",
    "            current_val = rsi_series[-1]\n",
    "            if np.isfinite(current_val):\n",
    "                # We have enough data and good value for RSI\n",
    "                assert 0 < current_val < 100, f\"RSI sanity check failed: {pair}: {current_val}\"  # Check we are in expected range\n",
    "                current_rsi_values[pair] = current_val\n",
    "\n",
    "        # Draw RSI between its trigger zones\n",
    "        if current_rsi_values[pair]:\n",
    "            # Low (vertical line)\n",
    "            visualisation.plot_indicator(\n",
    "                timestamp,\n",
    "                f\"RSI {token} low trigger\",\n",
    "                PlotKind.technical_indicator_overlay_on_detached,\n",
    "                rsi_low,\n",
    "                detached_overlay_name=\"RSI {token}\"\n",
    "            )\n",
    "\n",
    "            # High (vertical line)\n",
    "            visualisation.plot_indicator(\n",
    "                timestamp,\n",
    "                f\"RSI {token} high trigger\",\n",
    "                PlotKind.technical_indicator_overlay_on_detached,\n",
    "                rsi_high,\n",
    "                detached_overlay_name=\"RSI {token}\"\n",
    "            )\n",
    "\n",
    "            # Current daily\n",
    "            visualisation.plot_indicator(\n",
    "                timestamp,\n",
    "                f\"RSI {token}\",\n",
    "                PlotKind.technical_indicator_overlay_on_detached,\n",
    "                current_rsi_values[pair],\n",
    "                detached_overlay_name=\"RSI {token}\"\n",
    "            )\n",
    "\n",
    "    return trades"
   ],
   "metadata": {
    "collapsed": false,
    "ExecuteTime": {
     "end_time": "2024-02-05T12:25:11.581266Z",
     "start_time": "2024-02-05T12:25:10.439017Z"
    }
   }
  },
  {
   "cell_type": "markdown",
   "source": [
    "# Backtest"
   ],
   "metadata": {
    "collapsed": false
   }
  },
  {
   "cell_type": "code",
   "execution_count": 5,
   "outputs": [
    {
     "data": {
      "text/plain": "  0%|          | 0/126230400 [00:00<?, ?it/s]",
      "application/vnd.jupyter.widget-view+json": {
       "version_major": 2,
       "version_minor": 0,
       "model_id": "a5c1dd3848144cf18d5c16f25f3ff2db"
      }
     },
     "metadata": {},
     "output_type": "display_data"
    },
    {
     "ename": "AssertionError",
     "evalue": "Expected USDC reserve, got USDT",
     "output_type": "error",
     "traceback": [
      "\u001B[0;31m---------------------------------------------------------------------------\u001B[0m",
      "\u001B[0;31mAssertionError\u001B[0m                            Traceback (most recent call last)",
      "Cell \u001B[0;32mIn[5], line 5\u001B[0m\n\u001B[1;32m      1\u001B[0m \u001B[38;5;28;01mfrom\u001B[39;00m \u001B[38;5;21;01mtradeexecutor\u001B[39;00m\u001B[38;5;21;01m.\u001B[39;00m\u001B[38;5;21;01mstrategy\u001B[39;00m\u001B[38;5;21;01m.\u001B[39;00m\u001B[38;5;21;01mcycle\u001B[39;00m \u001B[38;5;28;01mimport\u001B[39;00m CycleDuration\n\u001B[1;32m      3\u001B[0m \u001B[38;5;28;01mfrom\u001B[39;00m \u001B[38;5;21;01mtradeexecutor\u001B[39;00m\u001B[38;5;21;01m.\u001B[39;00m\u001B[38;5;21;01mbacktest\u001B[39;00m\u001B[38;5;21;01m.\u001B[39;00m\u001B[38;5;21;01mbacktest_runner\u001B[39;00m \u001B[38;5;28;01mimport\u001B[39;00m run_backtest_inline\n\u001B[0;32m----> 5\u001B[0m state, universe, debug_dump \u001B[38;5;241m=\u001B[39m \u001B[43mrun_backtest_inline\u001B[49m\u001B[43m(\u001B[49m\n\u001B[1;32m      6\u001B[0m \u001B[43m    \u001B[49m\u001B[43mname\u001B[49m\u001B[38;5;241;43m=\u001B[39;49m\u001B[38;5;124;43m\"\u001B[39;49m\u001B[38;5;124;43mRSI multipair\u001B[39;49m\u001B[38;5;124;43m\"\u001B[39;49m\u001B[43m,\u001B[49m\n\u001B[1;32m      7\u001B[0m \u001B[43m    \u001B[49m\u001B[43mengine_version\u001B[49m\u001B[38;5;241;43m=\u001B[39;49m\u001B[38;5;124;43m\"\u001B[39;49m\u001B[38;5;124;43m0.3\u001B[39;49m\u001B[38;5;124;43m\"\u001B[39;49m\u001B[43m,\u001B[49m\n\u001B[1;32m      8\u001B[0m \u001B[43m    \u001B[49m\u001B[43mdecide_trades\u001B[49m\u001B[38;5;241;43m=\u001B[39;49m\u001B[43mdecide_trades\u001B[49m\u001B[43m,\u001B[49m\n\u001B[1;32m      9\u001B[0m \u001B[43m    \u001B[49m\u001B[43mclient\u001B[49m\u001B[38;5;241;43m=\u001B[39;49m\u001B[43mclient\u001B[49m\u001B[43m,\u001B[49m\n\u001B[1;32m     10\u001B[0m \u001B[43m    \u001B[49m\u001B[43mcycle_duration\u001B[49m\u001B[38;5;241;43m=\u001B[39;49m\u001B[43mCycleDuration\u001B[49m\u001B[38;5;241;43m.\u001B[39;49m\u001B[43mcycle_1d\u001B[49m\u001B[43m,\u001B[49m\n\u001B[1;32m     11\u001B[0m \u001B[43m    \u001B[49m\u001B[43muniverse\u001B[49m\u001B[38;5;241;43m=\u001B[39;49m\u001B[43mstrategy_universe\u001B[49m\u001B[43m,\u001B[49m\n\u001B[1;32m     12\u001B[0m \u001B[43m    \u001B[49m\u001B[43minitial_deposit\u001B[49m\u001B[38;5;241;43m=\u001B[39;49m\u001B[38;5;241;43m10_000\u001B[39;49m\u001B[43m,\u001B[49m\n\u001B[1;32m     13\u001B[0m \u001B[43m)\u001B[49m\n\u001B[1;32m     15\u001B[0m trade_count \u001B[38;5;241m=\u001B[39m \u001B[38;5;28mlen\u001B[39m(\u001B[38;5;28mlist\u001B[39m(state\u001B[38;5;241m.\u001B[39mportfolio\u001B[38;5;241m.\u001B[39mget_all_trades()))\n\u001B[1;32m     16\u001B[0m \u001B[38;5;28mprint\u001B[39m(\u001B[38;5;124mf\u001B[39m\u001B[38;5;124m\"\u001B[39m\u001B[38;5;124mBacktesting completed, backtested strategy made \u001B[39m\u001B[38;5;132;01m{\u001B[39;00mtrade_count\u001B[38;5;132;01m}\u001B[39;00m\u001B[38;5;124m trades\u001B[39m\u001B[38;5;124m\"\u001B[39m)\n",
      "File \u001B[0;32m~/code/ts/trade-executor/tradeexecutor/backtest/backtest_runner.py:733\u001B[0m, in \u001B[0;36mrun_backtest_inline\u001B[0;34m(start_at, end_at, minimum_data_lookback_range, client, decide_trades, cycle_duration, initial_deposit, reserve_currency, trade_routing, create_trading_universe, universe, routing_model, max_slippage, candle_time_frame, log_level, data_preload, data_delay_tolerance, name, allow_missing_fees, engine_version, *ignore)\u001B[0m\n\u001B[1;32m    705\u001B[0m universe_options \u001B[38;5;241m=\u001B[39m UniverseOptions(\n\u001B[1;32m    706\u001B[0m     candle_time_bucket_override\u001B[38;5;241m=\u001B[39mcandle_time_frame,\n\u001B[1;32m    707\u001B[0m     start_at\u001B[38;5;241m=\u001B[39mstart_at,\n\u001B[1;32m    708\u001B[0m     end_at\u001B[38;5;241m=\u001B[39mend_at,\n\u001B[1;32m    709\u001B[0m )\n\u001B[1;32m    711\u001B[0m backtest_setup \u001B[38;5;241m=\u001B[39m BacktestSetup(\n\u001B[1;32m    712\u001B[0m     start_at,\n\u001B[1;32m    713\u001B[0m     end_at,\n\u001B[0;32m   (...)\u001B[0m\n\u001B[1;32m    730\u001B[0m     minimum_data_lookback_range\u001B[38;5;241m=\u001B[39mminimum_data_lookback_range,\n\u001B[1;32m    731\u001B[0m )\n\u001B[0;32m--> 733\u001B[0m state, universe, debug_dump \u001B[38;5;241m=\u001B[39m \u001B[43mrun_backtest\u001B[49m\u001B[43m(\u001B[49m\u001B[43mbacktest_setup\u001B[49m\u001B[43m,\u001B[49m\u001B[43m \u001B[49m\u001B[43mclient\u001B[49m\u001B[43m,\u001B[49m\u001B[43m \u001B[49m\u001B[43mallow_missing_fees\u001B[49m\u001B[38;5;241;43m=\u001B[39;49m\u001B[38;5;28;43;01mTrue\u001B[39;49;00m\u001B[43m)\u001B[49m\n\u001B[1;32m    735\u001B[0m debug_dump[\u001B[38;5;124m\"\u001B[39m\u001B[38;5;124mwallet\u001B[39m\u001B[38;5;124m\"\u001B[39m] \u001B[38;5;241m=\u001B[39m wallet\n\u001B[1;32m    737\u001B[0m \u001B[38;5;28;01mreturn\u001B[39;00m state, universe, debug_dump\n",
      "File \u001B[0;32m~/code/ts/trade-executor/tradeexecutor/backtest/backtest_runner.py:512\u001B[0m, in \u001B[0;36mrun_backtest\u001B[0;34m(setup, client, allow_missing_fees, execution_test_hook)\u001B[0m\n\u001B[1;32m    478\u001B[0m execution_context \u001B[38;5;241m=\u001B[39m ExecutionContext(\n\u001B[1;32m    479\u001B[0m     mode\u001B[38;5;241m=\u001B[39mExecutionMode\u001B[38;5;241m.\u001B[39mbacktesting,\n\u001B[1;32m    480\u001B[0m     timed_task_context_manager\u001B[38;5;241m=\u001B[39mtimed_task,\n\u001B[1;32m    481\u001B[0m     engine_version\u001B[38;5;241m=\u001B[39msetup\u001B[38;5;241m.\u001B[39mtrading_strategy_engine_version,\n\u001B[1;32m    482\u001B[0m )\n\u001B[1;32m    484\u001B[0m main_loop \u001B[38;5;241m=\u001B[39m ExecutionLoop(\n\u001B[1;32m    485\u001B[0m     name\u001B[38;5;241m=\u001B[39msetup\u001B[38;5;241m.\u001B[39mname,\n\u001B[1;32m    486\u001B[0m     command_queue\u001B[38;5;241m=\u001B[39mQueue(),\n\u001B[0;32m   (...)\u001B[0m\n\u001B[1;32m    509\u001B[0m     universe_options\u001B[38;5;241m=\u001B[39msetup\u001B[38;5;241m.\u001B[39muniverse_options,\n\u001B[1;32m    510\u001B[0m )\n\u001B[0;32m--> 512\u001B[0m debug_dump \u001B[38;5;241m=\u001B[39m \u001B[43mmain_loop\u001B[49m\u001B[38;5;241;43m.\u001B[39;49m\u001B[43mrun_and_setup_backtest\u001B[49m\u001B[43m(\u001B[49m\u001B[43m)\u001B[49m\n\u001B[1;32m    514\u001B[0m \u001B[38;5;28;01mreturn\u001B[39;00m setup\u001B[38;5;241m.\u001B[39mstate, backtest_universe, debug_dump\n",
      "File \u001B[0;32m~/code/ts/trade-executor/tradeexecutor/cli/loop.py:1348\u001B[0m, in \u001B[0;36mExecutionLoop.run_and_setup_backtest\u001B[0;34m(self)\u001B[0m\n\u001B[1;32m   1346\u001B[0m \u001B[38;5;28;01mdef\u001B[39;00m \u001B[38;5;21mrun_and_setup_backtest\u001B[39m(\u001B[38;5;28mself\u001B[39m):\n\u001B[1;32m   1347\u001B[0m     state \u001B[38;5;241m=\u001B[39m \u001B[38;5;28mself\u001B[39m\u001B[38;5;241m.\u001B[39msetup()\n\u001B[0;32m-> 1348\u001B[0m     \u001B[38;5;28;01mreturn\u001B[39;00m \u001B[38;5;28;43mself\u001B[39;49m\u001B[38;5;241;43m.\u001B[39;49m\u001B[43mrun_backtest\u001B[49m\u001B[43m(\u001B[49m\u001B[43mstate\u001B[49m\u001B[43m)\u001B[49m\n",
      "File \u001B[0;32m~/code/ts/trade-executor/tradeexecutor/cli/loop.py:879\u001B[0m, in \u001B[0;36mExecutionLoop.run_backtest\u001B[0;34m(self, state)\u001B[0m\n\u001B[1;32m    871\u001B[0m execution_test_hook\u001B[38;5;241m.\u001B[39mon_before_cycle(\n\u001B[1;32m    872\u001B[0m     cycle,\n\u001B[1;32m    873\u001B[0m     ts,\n\u001B[1;32m    874\u001B[0m     state,\n\u001B[1;32m    875\u001B[0m     \u001B[38;5;28mself\u001B[39m\u001B[38;5;241m.\u001B[39msync_model,\n\u001B[1;32m    876\u001B[0m )\n\u001B[1;32m    878\u001B[0m \u001B[38;5;66;03m# Decide trades and everything for this cycle\u001B[39;00m\n\u001B[0;32m--> 879\u001B[0m universe: TradingStrategyUniverse \u001B[38;5;241m=\u001B[39m \u001B[38;5;28;43mself\u001B[39;49m\u001B[38;5;241;43m.\u001B[39;49m\u001B[43mtick\u001B[49m\u001B[43m(\u001B[49m\n\u001B[1;32m    880\u001B[0m \u001B[43m    \u001B[49m\u001B[43mts\u001B[49m\u001B[43m,\u001B[49m\n\u001B[1;32m    881\u001B[0m \u001B[43m    \u001B[49m\u001B[43mbacktest_step\u001B[49m\u001B[43m,\u001B[49m\n\u001B[1;32m    882\u001B[0m \u001B[43m    \u001B[49m\u001B[43mstate\u001B[49m\u001B[43m,\u001B[49m\n\u001B[1;32m    883\u001B[0m \u001B[43m    \u001B[49m\u001B[43mcycle\u001B[49m\u001B[43m,\u001B[49m\n\u001B[1;32m    884\u001B[0m \u001B[43m    \u001B[49m\u001B[43mlive\u001B[49m\u001B[38;5;241;43m=\u001B[39;49m\u001B[38;5;28;43;01mFalse\u001B[39;49;00m\u001B[43m,\u001B[49m\n\u001B[1;32m    885\u001B[0m \u001B[43m    \u001B[49m\u001B[43mstrategy_cycle_timestamp\u001B[49m\u001B[38;5;241;43m=\u001B[39;49m\u001B[43mts\u001B[49m\u001B[43m,\u001B[49m\n\u001B[1;32m    886\u001B[0m \u001B[43m    \u001B[49m\u001B[43mexisting_universe\u001B[49m\u001B[38;5;241;43m=\u001B[39;49m\u001B[43muniverse\u001B[49m\u001B[43m)\u001B[49m\n\u001B[1;32m    888\u001B[0m \u001B[38;5;66;03m# Revalue our portfolio\u001B[39;00m\n\u001B[1;32m    889\u001B[0m \u001B[38;5;28mself\u001B[39m\u001B[38;5;241m.\u001B[39mupdate_position_valuations(ts, state, universe, \u001B[38;5;28mself\u001B[39m\u001B[38;5;241m.\u001B[39mexecution_context\u001B[38;5;241m.\u001B[39mmode)\n",
      "File \u001B[0;32m~/code/ts/trade-executor/tradeexecutor/cli/loop.py:453\u001B[0m, in \u001B[0;36mExecutionLoop.tick\u001B[0;34m(self, unrounded_timestamp, cycle_duration, state, cycle, live, existing_universe, strategy_cycle_timestamp, extra_debug_data)\u001B[0m\n\u001B[1;32m    449\u001B[0m     \u001B[38;5;28mself\u001B[39m\u001B[38;5;241m.\u001B[39mbacktest_setup(state, universe, \u001B[38;5;28mself\u001B[39m\u001B[38;5;241m.\u001B[39msync_model)\n\u001B[1;32m    451\u001B[0m \u001B[38;5;66;03m# TODO: This setup repeated in tick().\u001B[39;00m\n\u001B[1;32m    452\u001B[0m \u001B[38;5;66;03m# Modify tick() to take these as argument\u001B[39;00m\n\u001B[0;32m--> 453\u001B[0m routing_state, pricing_model, valuation_model \u001B[38;5;241m=\u001B[39m \u001B[38;5;28;43mself\u001B[39;49m\u001B[38;5;241;43m.\u001B[39;49m\u001B[43mrunner\u001B[49m\u001B[38;5;241;43m.\u001B[39;49m\u001B[43msetup_routing\u001B[49m\u001B[43m(\u001B[49m\u001B[43muniverse\u001B[49m\u001B[43m)\u001B[49m\n\u001B[1;32m    455\u001B[0m interest_events \u001B[38;5;241m=\u001B[39m \u001B[38;5;28mself\u001B[39m\u001B[38;5;241m.\u001B[39msync_model\u001B[38;5;241m.\u001B[39msync_interests(\n\u001B[1;32m    456\u001B[0m     ts,\n\u001B[1;32m    457\u001B[0m     state,\n\u001B[1;32m    458\u001B[0m     cast(TradingStrategyUniverse, universe),\n\u001B[1;32m    459\u001B[0m     pricing_model,\n\u001B[1;32m    460\u001B[0m )\n\u001B[1;32m    461\u001B[0m logger\u001B[38;5;241m.\u001B[39minfo(\u001B[38;5;124m\"\u001B[39m\u001B[38;5;124mGenerated \u001B[39m\u001B[38;5;132;01m%d\u001B[39;00m\u001B[38;5;124m sync interest events\u001B[39m\u001B[38;5;124m\"\u001B[39m, \u001B[38;5;28mlen\u001B[39m(interest_events))\n",
      "File \u001B[0;32m~/code/ts/trade-executor/tradeexecutor/strategy/runner.py:526\u001B[0m, in \u001B[0;36mStrategyRunner.setup_routing\u001B[0;34m(self, universe)\u001B[0m\n\u001B[1;32m    521\u001B[0m     \u001B[38;5;66;03m# Update the pair configuration universe to the latest.\u001B[39;00m\n\u001B[1;32m    522\u001B[0m     \u001B[38;5;66;03m# This will be referred when creating\u001B[39;00m\n\u001B[1;32m    523\u001B[0m     \u001B[38;5;66;03m# pricing_model and valuation model\u001B[39;00m\n\u001B[1;32m    524\u001B[0m     routing_model\u001B[38;5;241m.\u001B[39mpair_configurator\u001B[38;5;241m.\u001B[39mstrategy_universe \u001B[38;5;241m=\u001B[39m universe\n\u001B[0;32m--> 526\u001B[0m routing_state \u001B[38;5;241m=\u001B[39m \u001B[38;5;28;43mself\u001B[39;49m\u001B[38;5;241;43m.\u001B[39;49m\u001B[43mrouting_model\u001B[49m\u001B[38;5;241;43m.\u001B[39;49m\u001B[43mcreate_routing_state\u001B[49m\u001B[43m(\u001B[49m\u001B[43muniverse\u001B[49m\u001B[43m,\u001B[49m\u001B[43m \u001B[49m\u001B[43mrouting_state_details\u001B[49m\u001B[43m)\u001B[49m\n\u001B[1;32m    528\u001B[0m \u001B[38;5;28;01mif\u001B[39;00m \u001B[38;5;28misinstance\u001B[39m(routing_model, GenericRouting):\n\u001B[1;32m    529\u001B[0m     pricing_model \u001B[38;5;241m=\u001B[39m GenericPricing(routing_model\u001B[38;5;241m.\u001B[39mpair_configurator)\n",
      "File \u001B[0;32m~/code/ts/trade-executor/tradeexecutor/strategy/generic/generic_router.py:83\u001B[0m, in \u001B[0;36mGenericRouting.create_routing_state\u001B[0;34m(self, universe, execution_details)\u001B[0m\n\u001B[1;32m     81\u001B[0m substates \u001B[38;5;241m=\u001B[39m {}\n\u001B[1;32m     82\u001B[0m \u001B[38;5;28;01mfor\u001B[39;00m routing_id \u001B[38;5;129;01min\u001B[39;00m \u001B[38;5;28mself\u001B[39m\u001B[38;5;241m.\u001B[39mpair_configurator\u001B[38;5;241m.\u001B[39mget_supported_routers():\n\u001B[0;32m---> 83\u001B[0m     router \u001B[38;5;241m=\u001B[39m \u001B[38;5;28;43mself\u001B[39;49m\u001B[38;5;241;43m.\u001B[39;49m\u001B[43mpair_configurator\u001B[49m\u001B[38;5;241;43m.\u001B[39;49m\u001B[43mget_config\u001B[49m\u001B[43m(\u001B[49m\u001B[43mrouting_id\u001B[49m\u001B[43m)\u001B[49m\u001B[38;5;241m.\u001B[39mrouting_model\n\u001B[1;32m     84\u001B[0m     substates[routing_id\u001B[38;5;241m.\u001B[39mrouter_name] \u001B[38;5;241m=\u001B[39m router\u001B[38;5;241m.\u001B[39mcreate_routing_state(universe, execution_details)\n\u001B[1;32m     86\u001B[0m \u001B[38;5;28;01mreturn\u001B[39;00m GenericRoutingState(universe, substates)\n",
      "File \u001B[0;32m~/code/ts/trade-executor/tradeexecutor/strategy/generic/pair_configurator.py:193\u001B[0m, in \u001B[0;36mPairConfigurator.get_config\u001B[0;34m(self, router)\u001B[0m\n\u001B[1;32m    191\u001B[0m config \u001B[38;5;241m=\u001B[39m \u001B[38;5;28mself\u001B[39m\u001B[38;5;241m.\u001B[39mconfigs\u001B[38;5;241m.\u001B[39mget(router)\n\u001B[1;32m    192\u001B[0m \u001B[38;5;28;01mif\u001B[39;00m config \u001B[38;5;129;01mis\u001B[39;00m \u001B[38;5;28;01mNone\u001B[39;00m:\n\u001B[0;32m--> 193\u001B[0m     config \u001B[38;5;241m=\u001B[39m \u001B[38;5;28mself\u001B[39m\u001B[38;5;241m.\u001B[39mconfigs[router] \u001B[38;5;241m=\u001B[39m \u001B[38;5;28;43mself\u001B[39;49m\u001B[38;5;241;43m.\u001B[39;49m\u001B[43mcreate_config\u001B[49m\u001B[43m(\u001B[49m\u001B[43mrouter\u001B[49m\u001B[43m)\u001B[49m\n\u001B[1;32m    195\u001B[0m \u001B[38;5;28;01mreturn\u001B[39;00m config\n",
      "File \u001B[0;32m~/code/ts/trade-executor/tradeexecutor/backtest/backtest_generic_router.py:39\u001B[0m, in \u001B[0;36mEthereumBacktestPairConfigurator.create_config\u001B[0;34m(self, routing_id)\u001B[0m\n\u001B[1;32m     36\u001B[0m strategy_universe \u001B[38;5;241m=\u001B[39m \u001B[38;5;28mself\u001B[39m\u001B[38;5;241m.\u001B[39mstrategy_universe\n\u001B[1;32m     38\u001B[0m reserve \u001B[38;5;241m=\u001B[39m strategy_universe\u001B[38;5;241m.\u001B[39mreserve_assets[\u001B[38;5;241m0\u001B[39m]\n\u001B[0;32m---> 39\u001B[0m \u001B[38;5;28;01massert\u001B[39;00m reserve\u001B[38;5;241m.\u001B[39mtoken_symbol \u001B[38;5;241m==\u001B[39m \u001B[38;5;124m\"\u001B[39m\u001B[38;5;124mUSDC\u001B[39m\u001B[38;5;124m\"\u001B[39m, \u001B[38;5;124mf\u001B[39m\u001B[38;5;124m\"\u001B[39m\u001B[38;5;124mExpected USDC reserve, got \u001B[39m\u001B[38;5;132;01m{\u001B[39;00mreserve\u001B[38;5;241m.\u001B[39mtoken_symbol\u001B[38;5;132;01m}\u001B[39;00m\u001B[38;5;124m\"\u001B[39m\n\u001B[1;32m     41\u001B[0m routing_model \u001B[38;5;241m=\u001B[39m BacktestRoutingIgnoredModel(reserve\u001B[38;5;241m.\u001B[39maddress)\n\u001B[1;32m     43\u001B[0m pricing_model \u001B[38;5;241m=\u001B[39m BacktestPricing(\n\u001B[1;32m     44\u001B[0m     strategy_universe\u001B[38;5;241m.\u001B[39mdata_universe\u001B[38;5;241m.\u001B[39mcandles,\n\u001B[1;32m     45\u001B[0m     routing_model,\n\u001B[1;32m     46\u001B[0m )\n",
      "\u001B[0;31mAssertionError\u001B[0m: Expected USDC reserve, got USDT"
     ]
    }
   ],
   "source": [
    "from tradeexecutor.strategy.cycle import CycleDuration\n",
    "\n",
    "from tradeexecutor.backtest.backtest_runner import run_backtest_inline\n",
    "\n",
    "state, universe, debug_dump = run_backtest_inline(\n",
    "    name=\"RSI multipair\",\n",
    "    engine_version=\"0.3\",\n",
    "    decide_trades=decide_trades,\n",
    "    client=client,\n",
    "    cycle_duration=CycleDuration.cycle_1d,\n",
    "    universe=strategy_universe,\n",
    "    initial_deposit=10_000,\n",
    ")\n",
    "\n",
    "trade_count = len(list(state.portfolio.get_all_trades()))\n",
    "print(f\"Backtesting completed, backtested strategy made {trade_count} trades\")"
   ],
   "metadata": {
    "collapsed": false,
    "ExecuteTime": {
     "end_time": "2024-02-05T12:25:12.154202Z",
     "start_time": "2024-02-05T12:25:11.583133Z"
    }
   }
  }
 ],
 "metadata": {
  "kernelspec": {
   "display_name": "Python 3 (ipykernel)",
   "language": "python",
   "name": "python3"
  },
  "language_info": {
   "codemirror_mode": {
    "name": "ipython",
    "version": 3
   },
   "file_extension": ".py",
   "mimetype": "text/x-python",
   "name": "python",
   "nbconvert_exporter": "python",
   "pygments_lexer": "ipython3",
   "version": "3.10.6"
  },
  "vscode": {
   "interpreter": {
    "hash": "f45fb66dacef78c495ceec56f258b06b84bd9cb2c0a9a6d3656125fb3c018996"
   }
  }
 },
 "nbformat": 4,
 "nbformat_minor": 4
}
