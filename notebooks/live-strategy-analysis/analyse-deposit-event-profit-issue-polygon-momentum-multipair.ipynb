{
 "cells": [
  {
   "cell_type": "markdown",
   "source": [
    "# Analyse deposit event based profit calculation issue in\n",
    "\n",
    "See https://github.com/tradingstrategy-ai/trade-executor/issues/667\n"
   ],
   "metadata": {
    "collapsed": false
   }
  },
  {
   "cell_type": "code",
   "execution_count": 2,
   "outputs": [
    {
     "name": "stdout",
     "output_type": "stream",
     "text": [
      "Downloaded state for https://polygon-multipair-momentum.tradingstrategy.ai, total 21,511,533 chars\n"
     ]
    }
   ],
   "source": [
    "from tradeexecutor.utils.state_downloader import download_state\n",
    "import os\n",
    "\n",
    "url = \"https://polygon-multipair-momentum.tradingstrategy.ai\"\n",
    "name = \"polygon-multipair-momentum.json\"\n",
    "\n",
    "if not os.path.exists(f\"/tmp/{name}\"):\n",
    "    state = download_state(url)\n",
    "    state.write_json_file(f\"/tmp/{name}\")\n"
   ],
   "metadata": {
    "collapsed": false,
    "ExecuteTime": {
     "end_time": "2023-12-13T19:46:13.025725Z",
     "start_time": "2023-12-13T19:46:04.608493Z"
    }
   }
  },
  {
   "cell_type": "code",
   "execution_count": 3,
   "outputs": [],
   "source": [
    "from tradeexecutor.state.state import State\n",
    "\n",
    "state = State.read_json_file(f\"/tmp/{name}\")\n"
   ],
   "metadata": {
    "collapsed": false,
    "ExecuteTime": {
     "end_time": "2023-12-13T19:46:17.464868Z",
     "start_time": "2023-12-13T19:46:13.026375Z"
    }
   }
  },
  {
   "cell_type": "markdown",
   "source": [
    "## Balance checks\n",
    "\n",
    "Check for current balances and abnormal balance update events."
   ],
   "metadata": {
    "collapsed": false
   }
  },
  {
   "cell_type": "code",
   "execution_count": 4,
   "outputs": [
    {
     "name": "stdout",
     "output_type": "stream",
     "text": [
      "Number of reserve assets: 1\n",
      "Reserves: <USDC at 0x2791bca1f2de4661ed88a30c99a7a9449aa84174> at 1.0 USDC / USD\n",
      "Amount: 71.875852 USDC\n",
      "Equity: 71.875852 USD\n",
      "Value: 71.875852 USD\n",
      "Balance updates: 895131.464809 USDC\n",
      "Number of balance updates events: 12193\n",
      "Number of events references in the portfolio overall: 0\n"
     ]
    }
   ],
   "source": [
    "portfolio = state.portfolio\n",
    "asset, exchange_rate = state.portfolio.get_default_reserve_asset()\n",
    "position = portfolio.get_default_reserve_position()\n",
    "print(f\"Number of reserve assets: {len(portfolio.reserves)}\")\n",
    "print(f\"Reserves: {asset} at {exchange_rate} {asset.token_symbol} / USD\")\n",
    "print(f\"Amount: {position.get_quantity()} {asset.token_symbol}\")\n",
    "print(f\"Equity: {position.get_total_equity()} USD\")\n",
    "print(f\"Value: {position.get_value()} USD\")\n",
    "print(f\"Balance updates: {position.get_base_token_balance_update_quantity()} {asset.token_symbol}\")\n",
    "print(f\"Number of balance updates events: {len(position.balance_updates)}\")\n",
    "print(f\"Number of events references in the portfolio overall: {len(state.sync.treasury.balance_update_refs)}\")"
   ],
   "metadata": {
    "collapsed": false,
    "ExecuteTime": {
     "end_time": "2023-12-13T19:46:17.471515Z",
     "start_time": "2023-12-13T19:46:17.467662Z"
    }
   }
  },
  {
   "cell_type": "markdown",
   "source": [
    "# Vault sync status"
   ],
   "metadata": {
    "collapsed": false
   }
  },
  {
   "cell_type": "code",
   "execution_count": 5,
   "outputs": [
    {
     "name": "stdout",
     "output_type": "stream",
     "text": [
      "Vault deployment: <Deployment chain:polygon address:0x8C95f9BB3bD2971Dd7D8F25D4F5D98e937A82F36 name:None token:None>\n",
      "Treasury sync status: <Treasury updated:2023-12-13 18:57:01 cycle:2023-12-13 18:57:00 block scanned:51,093,617 refs:0>\n"
     ]
    }
   ],
   "source": [
    "treasury = state.sync.treasury\n",
    "deployment = state.sync.deployment\n",
    "\n",
    "print(f\"Vault deployment: {deployment}\")\n",
    "print(f\"Treasury sync status: {treasury}\")"
   ],
   "metadata": {
    "collapsed": false,
    "ExecuteTime": {
     "end_time": "2023-12-13T19:46:17.474156Z",
     "start_time": "2023-12-13T19:46:17.470927Z"
    }
   }
  },
  {
   "cell_type": "markdown",
   "source": [
    "## Individual events\n",
    "\n",
    "For the last analysed executor."
   ],
   "metadata": {
    "collapsed": false
   }
  },
  {
   "cell_type": "code",
   "execution_count": 6,
   "outputs": [
    {
     "data": {
      "text/plain": "         Cause                  At   Quantity  Dollar value Address Notes\n6084   deposit 2023-11-07 13:53:49   61.19656     61.196560              \n6085   deposit 2023-11-07 13:54:00   61.19656     61.196560              \n6086   deposit 2023-11-07 13:57:00   61.19656     61.196560              \n6087   deposit 2023-11-07 14:20:32   61.19656     61.196560              \n6088   deposit 2023-11-07 14:21:00   61.19656     61.196560              \n...        ...                 ...        ...           ...     ...   ...\n18272  deposit 2023-12-13 18:45:00  71.875852     71.875852              \n18273  deposit 2023-12-13 18:48:00  71.875852     71.875852              \n18274  deposit 2023-12-13 18:51:00  71.875852     71.875852              \n18275  deposit 2023-12-13 18:54:00  71.875852     71.875852              \n18276  deposit 2023-12-13 18:57:00  71.875852     71.875852              \n\n[12193 rows x 6 columns]",
      "text/html": "<div>\n<style scoped>\n    .dataframe tbody tr th:only-of-type {\n        vertical-align: middle;\n    }\n\n    .dataframe tbody tr th {\n        vertical-align: top;\n    }\n\n    .dataframe thead th {\n        text-align: right;\n    }\n</style>\n<table border=\"1\" class=\"dataframe\">\n  <thead>\n    <tr style=\"text-align: right;\">\n      <th></th>\n      <th>Cause</th>\n      <th>At</th>\n      <th>Quantity</th>\n      <th>Dollar value</th>\n      <th>Address</th>\n      <th>Notes</th>\n    </tr>\n  </thead>\n  <tbody>\n    <tr>\n      <th>6084</th>\n      <td>deposit</td>\n      <td>2023-11-07 13:53:49</td>\n      <td>61.19656</td>\n      <td>61.196560</td>\n      <td></td>\n      <td></td>\n    </tr>\n    <tr>\n      <th>6085</th>\n      <td>deposit</td>\n      <td>2023-11-07 13:54:00</td>\n      <td>61.19656</td>\n      <td>61.196560</td>\n      <td></td>\n      <td></td>\n    </tr>\n    <tr>\n      <th>6086</th>\n      <td>deposit</td>\n      <td>2023-11-07 13:57:00</td>\n      <td>61.19656</td>\n      <td>61.196560</td>\n      <td></td>\n      <td></td>\n    </tr>\n    <tr>\n      <th>6087</th>\n      <td>deposit</td>\n      <td>2023-11-07 14:20:32</td>\n      <td>61.19656</td>\n      <td>61.196560</td>\n      <td></td>\n      <td></td>\n    </tr>\n    <tr>\n      <th>6088</th>\n      <td>deposit</td>\n      <td>2023-11-07 14:21:00</td>\n      <td>61.19656</td>\n      <td>61.196560</td>\n      <td></td>\n      <td></td>\n    </tr>\n    <tr>\n      <th>...</th>\n      <td>...</td>\n      <td>...</td>\n      <td>...</td>\n      <td>...</td>\n      <td>...</td>\n      <td>...</td>\n    </tr>\n    <tr>\n      <th>18272</th>\n      <td>deposit</td>\n      <td>2023-12-13 18:45:00</td>\n      <td>71.875852</td>\n      <td>71.875852</td>\n      <td></td>\n      <td></td>\n    </tr>\n    <tr>\n      <th>18273</th>\n      <td>deposit</td>\n      <td>2023-12-13 18:48:00</td>\n      <td>71.875852</td>\n      <td>71.875852</td>\n      <td></td>\n      <td></td>\n    </tr>\n    <tr>\n      <th>18274</th>\n      <td>deposit</td>\n      <td>2023-12-13 18:51:00</td>\n      <td>71.875852</td>\n      <td>71.875852</td>\n      <td></td>\n      <td></td>\n    </tr>\n    <tr>\n      <th>18275</th>\n      <td>deposit</td>\n      <td>2023-12-13 18:54:00</td>\n      <td>71.875852</td>\n      <td>71.875852</td>\n      <td></td>\n      <td></td>\n    </tr>\n    <tr>\n      <th>18276</th>\n      <td>deposit</td>\n      <td>2023-12-13 18:57:00</td>\n      <td>71.875852</td>\n      <td>71.875852</td>\n      <td></td>\n      <td></td>\n    </tr>\n  </tbody>\n</table>\n<p>12193 rows × 6 columns</p>\n</div>"
     },
     "metadata": {},
     "output_type": "display_data"
    }
   ],
   "source": [
    "from tradeexecutor.analysis.position import display_reserve_position_events\n",
    "\n",
    "df = display_reserve_position_events(position)\n",
    "display(df)\n"
   ],
   "metadata": {
    "collapsed": false,
    "ExecuteTime": {
     "end_time": "2023-12-13T19:46:17.563673Z",
     "start_time": "2023-12-13T19:46:17.475780Z"
    }
   }
  },
  {
   "cell_type": "markdown",
   "source": [
    "## Position profit history"
   ],
   "metadata": {
    "collapsed": false
   }
  },
  {
   "cell_type": "code",
   "execution_count": 7,
   "outputs": [
    {
     "data": {
      "text/plain": "                     position id  position profit %  failed trades\ndate                                                              \n2023-10-24 22:56:40            3         -55.051863          False\n2023-11-21 18:10:49           88          -9.023649          False\n2023-12-10 15:08:10          105          -6.000636          False\n2023-10-26 15:04:51           11          -5.522145          False\n2023-11-17 12:03:59           81          -5.166125          False\n...                          ...                ...            ...\n2023-11-14 05:27:13           74           3.482485          False\n2023-11-02 01:30:16           33           5.287333          False\n2023-10-28 10:36:22           16           5.961395          False\n2023-10-26 07:54:20            7          63.448862           True\n2023-10-26 03:57:24            5         135.833485           True\n\n[106 rows x 3 columns]",
      "text/html": "<div>\n<style scoped>\n    .dataframe tbody tr th:only-of-type {\n        vertical-align: middle;\n    }\n\n    .dataframe tbody tr th {\n        vertical-align: top;\n    }\n\n    .dataframe thead th {\n        text-align: right;\n    }\n</style>\n<table border=\"1\" class=\"dataframe\">\n  <thead>\n    <tr style=\"text-align: right;\">\n      <th></th>\n      <th>position id</th>\n      <th>position profit %</th>\n      <th>failed trades</th>\n    </tr>\n    <tr>\n      <th>date</th>\n      <th></th>\n      <th></th>\n      <th></th>\n    </tr>\n  </thead>\n  <tbody>\n    <tr>\n      <th>2023-10-24 22:56:40</th>\n      <td>3</td>\n      <td>-55.051863</td>\n      <td>False</td>\n    </tr>\n    <tr>\n      <th>2023-11-21 18:10:49</th>\n      <td>88</td>\n      <td>-9.023649</td>\n      <td>False</td>\n    </tr>\n    <tr>\n      <th>2023-12-10 15:08:10</th>\n      <td>105</td>\n      <td>-6.000636</td>\n      <td>False</td>\n    </tr>\n    <tr>\n      <th>2023-10-26 15:04:51</th>\n      <td>11</td>\n      <td>-5.522145</td>\n      <td>False</td>\n    </tr>\n    <tr>\n      <th>2023-11-17 12:03:59</th>\n      <td>81</td>\n      <td>-5.166125</td>\n      <td>False</td>\n    </tr>\n    <tr>\n      <th>...</th>\n      <td>...</td>\n      <td>...</td>\n      <td>...</td>\n    </tr>\n    <tr>\n      <th>2023-11-14 05:27:13</th>\n      <td>74</td>\n      <td>3.482485</td>\n      <td>False</td>\n    </tr>\n    <tr>\n      <th>2023-11-02 01:30:16</th>\n      <td>33</td>\n      <td>5.287333</td>\n      <td>False</td>\n    </tr>\n    <tr>\n      <th>2023-10-28 10:36:22</th>\n      <td>16</td>\n      <td>5.961395</td>\n      <td>False</td>\n    </tr>\n    <tr>\n      <th>2023-10-26 07:54:20</th>\n      <td>7</td>\n      <td>63.448862</td>\n      <td>True</td>\n    </tr>\n    <tr>\n      <th>2023-10-26 03:57:24</th>\n      <td>5</td>\n      <td>135.833485</td>\n      <td>True</td>\n    </tr>\n  </tbody>\n</table>\n<p>106 rows × 3 columns</p>\n</div>"
     },
     "execution_count": 7,
     "metadata": {},
     "output_type": "execute_result"
    }
   ],
   "source": [
    "from io import StringIO\n",
    "from typing import Iterable, List\n",
    "import pandas as pd\n",
    "\n",
    "from tradeexecutor.state.position import TradingPosition\n",
    "from tradeexecutor.state import position\n",
    "\n",
    "positions = state.portfolio.closed_positions.values()\n",
    "\n",
    "data = [(p.closed_at, p.position_id, p.get_realised_profit_percent() * 100, p.is_repaired()) for p in positions]\n",
    "\n",
    "df = pd.DataFrame(data, columns=(\"date\", \"position id\", \"position profit %\", \"failed trades\"))\n",
    "df = df.set_index(\"date\")\n",
    "\n",
    "df = df.sort_values(\"position profit %\", ascending=True)\n",
    "\n",
    "pd.set_option('display.max_rows', 100)\n",
    "\n",
    "df\n"
   ],
   "metadata": {
    "collapsed": false,
    "ExecuteTime": {
     "end_time": "2023-12-13T19:46:17.564579Z",
     "start_time": "2023-12-13T19:46:17.520002Z"
    }
   }
  },
  {
   "cell_type": "markdown",
   "source": [
    "## Check prolematic position"
   ],
   "metadata": {
    "collapsed": false
   }
  },
  {
   "cell_type": "code",
   "execution_count": 8,
   "outputs": [
    {
     "name": "stdout",
     "output_type": "stream",
     "text": [
      "Position <Closed position #22 <Pair SAND-WMATIC spot_market_hold at 0x369582d2010b6ed950b571f4101e3bb9b554876f (0.3000% fee) on exchange 0x5757371414417b8c6caad45baef941abc7d3ab32> $4.897948>\n",
      "Realised profit 0.010607911721398411\n",
      "Avg buy 0.35133529775086475\n",
      "Avg sell 0.3550622315740171\n",
      "Buy value 4.897948\n",
      "Sell value 4.949905\n",
      "Balance updates\n"
     ]
    }
   ],
   "source": [
    "p: TradingPosition\n",
    "p = state.portfolio.closed_positions[22]\n",
    "print(\"Position\", p)\n",
    "print(\"Realised profit\", p.get_realised_profit_percent())\n",
    "print(\"Avg buy\", p.get_average_buy())\n",
    "print(\"Avg sell\", p.get_average_sell())\n",
    "print(\"Buy value\", p.get_buy_value())\n",
    "print(\"Sell value\", p.get_sell_value())\n",
    "print(\"Balance updates\")\n",
    "for id, bu in p.balance_updates.items():\n",
    "    print(bu)"
   ],
   "metadata": {
    "collapsed": false,
    "ExecuteTime": {
     "end_time": "2023-12-13T19:46:17.564812Z",
     "start_time": "2023-12-13T19:46:17.527264Z"
    }
   }
  },
  {
   "cell_type": "code",
   "execution_count": 8,
   "outputs": [],
   "source": [],
   "metadata": {
    "collapsed": false,
    "ExecuteTime": {
     "end_time": "2023-12-13T19:46:17.564885Z",
     "start_time": "2023-12-13T19:46:17.529557Z"
    }
   }
  }
 ],
 "metadata": {
  "kernelspec": {
   "display_name": "Python 3",
   "language": "python",
   "name": "python3"
  },
  "language_info": {
   "codemirror_mode": {
    "name": "ipython",
    "version": 2
   },
   "file_extension": ".py",
   "mimetype": "text/x-python",
   "name": "python",
   "nbconvert_exporter": "python",
   "pygments_lexer": "ipython2",
   "version": "2.7.6"
  }
 },
 "nbformat": 4,
 "nbformat_minor": 0
}
