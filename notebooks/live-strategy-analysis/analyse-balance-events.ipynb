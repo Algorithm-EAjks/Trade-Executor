{
 "cells": [
  {
   "cell_type": "markdown",
   "source": [
    "# Analyse reserve\n",
    "\n",
    "Analyse the reseve position for a strategy.\n",
    "\n",
    " - A script for detailed calculations of a resever position\n"
   ],
   "metadata": {
    "collapsed": false
   }
  },
  {
   "cell_type": "code",
   "execution_count": 1,
   "outputs": [],
   "source": [
    "trade_executors = [\n",
    "    \"https://enzyme-polygon-eth-usdc.tradingstrategy.ai\",\n",
    "]\n",
    "\n"
   ],
   "metadata": {
    "collapsed": false,
    "ExecuteTime": {
     "end_time": "2023-11-20T14:15:42.895040Z",
     "start_time": "2023-11-20T14:15:42.822895Z"
    }
   }
  },
  {
   "cell_type": "code",
   "execution_count": 2,
   "outputs": [
    {
     "ename": "FileNotFoundError",
     "evalue": "[Errno 2] No such file or directory: '../enzyme-polygon-eth-usdc.json'",
     "output_type": "error",
     "traceback": [
      "\u001B[0;31m---------------------------------------------------------------------------\u001B[0m",
      "\u001B[0;31mFileNotFoundError\u001B[0m                         Traceback (most recent call last)",
      "Cell \u001B[0;32mIn[2], line 4\u001B[0m\n\u001B[1;32m      1\u001B[0m \u001B[38;5;28;01mfrom\u001B[39;00m \u001B[38;5;21;01mpathlib\u001B[39;00m \u001B[38;5;28;01mimport\u001B[39;00m Path\n\u001B[1;32m      2\u001B[0m \u001B[38;5;28;01mfrom\u001B[39;00m \u001B[38;5;21;01mtradeexecutor\u001B[39;00m\u001B[38;5;21;01m.\u001B[39;00m\u001B[38;5;21;01mstate\u001B[39;00m\u001B[38;5;21;01m.\u001B[39;00m\u001B[38;5;21;01mstate\u001B[39;00m \u001B[38;5;28;01mimport\u001B[39;00m State\n\u001B[0;32m----> 4\u001B[0m state \u001B[38;5;241m=\u001B[39m \u001B[43mState\u001B[49m\u001B[38;5;241;43m.\u001B[39;49m\u001B[43mread_json_file\u001B[49m\u001B[43m(\u001B[49m\u001B[43mPath\u001B[49m\u001B[43m(\u001B[49m\u001B[38;5;124;43m\"\u001B[39;49m\u001B[38;5;124;43m../enzyme-polygon-eth-usdc.json\u001B[39;49m\u001B[38;5;124;43m\"\u001B[39;49m\u001B[43m)\u001B[49m\u001B[43m)\u001B[49m\n",
      "File \u001B[0;32m~/code/ts/trade-executor/tradeexecutor/state/state.py:880\u001B[0m, in \u001B[0;36mState.read_json_file\u001B[0;34m(path)\u001B[0m\n\u001B[1;32m    873\u001B[0m \u001B[38;5;250m\u001B[39m\u001B[38;5;124;03m\"\"\"Read state from the JSON file.\u001B[39;00m\n\u001B[1;32m    874\u001B[0m \n\u001B[1;32m    875\u001B[0m \u001B[38;5;124;03m- Deal with all serialisation quirks\u001B[39;00m\n\u001B[1;32m    876\u001B[0m \u001B[38;5;124;03m\"\"\"\u001B[39;00m\n\u001B[1;32m    878\u001B[0m \u001B[38;5;28;01massert\u001B[39;00m \u001B[38;5;28misinstance\u001B[39m(path, Path), \u001B[38;5;124mf\u001B[39m\u001B[38;5;124m\"\u001B[39m\u001B[38;5;124mExpected Path, got \u001B[39m\u001B[38;5;132;01m{\u001B[39;00mpath\u001B[38;5;241m.\u001B[39m\u001B[38;5;18m__class__\u001B[39m\u001B[38;5;132;01m}\u001B[39;00m\u001B[38;5;124m\"\u001B[39m\n\u001B[0;32m--> 880\u001B[0m \u001B[38;5;28;01mwith\u001B[39;00m \u001B[38;5;28;43mopen\u001B[39;49m\u001B[43m(\u001B[49m\u001B[43mpath\u001B[49m\u001B[43m,\u001B[49m\u001B[43m \u001B[49m\u001B[38;5;124;43m\"\u001B[39;49m\u001B[38;5;124;43mrt\u001B[39;49m\u001B[38;5;124;43m\"\u001B[39;49m\u001B[43m)\u001B[49m \u001B[38;5;28;01mas\u001B[39;00m inp:\n\u001B[1;32m    881\u001B[0m     \u001B[38;5;28;01mreturn\u001B[39;00m State\u001B[38;5;241m.\u001B[39mread_json_blob(inp\u001B[38;5;241m.\u001B[39mread())\n",
      "\u001B[0;31mFileNotFoundError\u001B[0m: [Errno 2] No such file or directory: '../enzyme-polygon-eth-usdc.json'"
     ]
    }
   ],
   "source": [
    "\n",
    "from pathlib import Path\n",
    "from tradeexecutor.state.state import State\n",
    "\n",
    "state = State.read_json_file(Path(\"../enzyme-polygon-eth-usdc.json\"))\n"
   ],
   "metadata": {
    "collapsed": false,
    "ExecuteTime": {
     "end_time": "2023-11-20T14:15:46.296483Z",
     "start_time": "2023-11-20T14:15:42.823988Z"
    }
   }
  },
  {
   "cell_type": "markdown",
   "source": [
    "## Denormalised balance"
   ],
   "metadata": {
    "collapsed": false
   }
  },
  {
   "cell_type": "code",
   "execution_count": null,
   "outputs": [],
   "source": [
    "\n",
    "\n",
    "portfolio = state.portfolio\n",
    "asset, exchange_rate = state.portfolio.get_default_reserve_asset()\n",
    "position = portfolio.get_default_reserve_position()\n",
    "print(f\"Number of reserve assets: {len(portfolio.reserves)}\")\n",
    "print(f\"Reserves: {asset} at {exchange_rate} {asset.token_symbol} / USD\")\n",
    "print(f\"Amount: {position.get_quantity()} {asset.token_symbol}\")\n",
    "print(f\"Equity: {position.get_total_equity()} USD\")\n",
    "print(f\"Value: {position.get_value()} USD\")\n",
    "print(f\"Balance updates: {position.get_balance_update_quantity()} {asset.token_symbol}\")\n",
    "print(f\"Number of balance updates events: {len(position.balance_updates)}\")\n",
    "print(f\"Number of events references in the portfolio overall: {len(state.sync.treasury.balance_update_refs)}\")"
   ],
   "metadata": {
    "collapsed": false
   }
  },
  {
   "cell_type": "markdown",
   "source": [
    "# Vault sync status"
   ],
   "metadata": {
    "collapsed": false
   }
  },
  {
   "cell_type": "code",
   "execution_count": null,
   "outputs": [],
   "source": [
    "treasury = state.sync.treasury\n",
    "deployment = state.sync.deployment\n",
    "\n",
    "print(f\"Vault deployment: {deployment}\")\n",
    "print(f\"Treasury sync status: {treasury}\")"
   ],
   "metadata": {
    "collapsed": false
   }
  },
  {
   "cell_type": "markdown",
   "source": [
    "## Individual events\n",
    "\n",
    "For the last analysed executor."
   ],
   "metadata": {
    "collapsed": false
   }
  },
  {
   "cell_type": "code",
   "execution_count": null,
   "outputs": [],
   "source": [
    "from tradeexecutor.analysis.position import display_reserve_position_events\n",
    "\n",
    "df = display_reserve_position_events(position)\n",
    "display(df)\n"
   ],
   "metadata": {
    "collapsed": false
   }
  },
  {
   "cell_type": "code",
   "execution_count": null,
   "outputs": [],
   "source": [],
   "metadata": {
    "collapsed": false
   }
  }
 ],
 "metadata": {
  "kernelspec": {
   "display_name": "Python 3",
   "language": "python",
   "name": "python3"
  },
  "language_info": {
   "codemirror_mode": {
    "name": "ipython",
    "version": 2
   },
   "file_extension": ".py",
   "mimetype": "text/x-python",
   "name": "python",
   "nbconvert_exporter": "python",
   "pygments_lexer": "ipython2",
   "version": "2.7.6"
  }
 },
 "nbformat": 4,
 "nbformat_minor": 0
}
