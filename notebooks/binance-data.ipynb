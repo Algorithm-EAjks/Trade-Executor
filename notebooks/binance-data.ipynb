{
 "cells": [
  {
   "cell_type": "markdown",
   "metadata": {},
   "source": [
    "\n",
    "# Loading binance data into trading universe\n",
    "\n",
    "Loading CEX data into the TradingStrategy affords you the ability to work with longer historical periods with trading pairs. Using longer historical periods allows you to train your model on more data, which can lead to better results. The only downside is that you will have to wait longer for your backtests to complete. "
   ]
  },
  {
   "cell_type": "markdown",
   "metadata": {},
   "source": [
    "## Creating our assets\n",
    "\n",
    "In the following code block, we create our ETH and USDC assets, which follow real on-chain deployment addresses. "
   ]
  },
  {
   "cell_type": "code",
   "execution_count": 7,
   "metadata": {},
   "outputs": [],
   "source": [
    "from dotenv import load_dotenv\n",
    "import os\n",
    "\n",
    "from eth_defi.chain import install_chain_middleware\n",
    "from eth_defi.abi import get_deployed_contract\n",
    "from web3 import Web3, HTTPProvider\n",
    "\n",
    "from tradingstrategy.chain import ChainId\n",
    "from tradeexecutor.state.identifier import AssetIdentifier\n",
    "\n",
    "load_dotenv()\n",
    "\n",
    "polygon_json_rpc = os.environ.get(\"MY_JSON_RPC_POLYGON\")\n",
    "\n",
    "web3 = Web3(HTTPProvider(polygon_json_rpc, request_kwargs={\"timeout\": 5}))\n",
    "install_chain_middleware(web3)\n",
    "\n",
    "# usdc with $4B supply\n",
    "# https://polygonscan.com/address/0x2791bca1f2de4661ed88a30c99a7a9449aa84174\n",
    "usdc_token = get_deployed_contract(\n",
    "    web3, \"ERC20MockDecimals.json\", \"0x2791Bca1f2de4661ED88A30C99A7a9449Aa84174\"\n",
    ")\n",
    "\n",
    "# eth token.\n",
    "# https://polygonscan.com//address/0x7ceb23fd6bc0add59e62ac25578270cff1b9f619\n",
    "# https://tradingstrategy.ai/trading-view/polygon/tokens/0x7ceb23fd6bc0add59e62ac25578270cff1b9f619\n",
    "eth_token = get_deployed_contract(\n",
    "    web3, \"ERC20MockDecimals.json\", \"0x7ceB23fD6bC0adD59E62ac25578270cFf1b9f619\"\n",
    ")\n",
    "\n",
    "\n",
    "usdc_asset = AssetIdentifier(\n",
    "    ChainId.polygon.value,\n",
    "    usdc_token.address,\n",
    "    usdc_token.functions.symbol().call(),\n",
    "    usdc_token.functions.decimals().call(),\n",
    ")\n",
    "\n",
    "\n",
    "eth_asset = AssetIdentifier(\n",
    "    ChainId.polygon.value,\n",
    "    eth_token.address,\n",
    "    eth_token.functions.symbol().call(),\n",
    "    eth_token.functions.decimals().call(),\n",
    ")\n",
    "\n",
    "\n"
   ]
  },
  {
   "cell_type": "code",
   "execution_count": 8,
   "metadata": {},
   "outputs": [],
   "source": [
    "from tradeexecutor.state.identifier import TradingPairIdentifier\n",
    "\n",
    "pair = TradingPairIdentifier(\n",
    "    base = eth_asset,\n",
    "    quote = usdc_asset,\n",
    "    pool_address='0x88e6a0c2ddd26feeb64f039a2c41296fcb3f5640',\n",
    "    exchange_address='0x1F98431c8aD98523631AE4a59f267346ea31F984',\n",
    "    internal_id=2697765,\n",
    "    fee=0.0005,\n",
    "    info_url='https://tradingstrategy.ai/trading-view/ethereum/uniswap-v3/eth-usdc-fee-5'\n",
    ")"
   ]
  },
  {
   "cell_type": "markdown",
   "metadata": {},
   "source": [
    "## Examine dataset\n",
    "\n",
    "In the following code block, we examine the dataset to see what it looks like. We can see that the dataset contains the following columns:\n",
    "\n",
    "- `Date`: The date of the start of the time interval\n",
    "- `open`: The price of the asset at the start of the time interval\n",
    "- `high`: The highest price of the asset during the time interval\n",
    "- `low`: The lowest price of the asset during the time interval\n",
    "- `close`: The price of the asset at the end of the time interval\n",
    "- `volume`: The volume of the asset traded during the time interval"
   ]
  },
  {
   "cell_type": "code",
   "execution_count": 11,
   "metadata": {},
   "outputs": [
    {
     "name": "stdout",
     "output_type": "stream",
     "text": [
      "                       open    high    low   close     volume\n",
      "Date                                                         \n",
      "2017-08-17 04:00:00  301.13  302.57  298.0  301.61  125.66877\n",
      "2017-08-17 05:00:00  301.61  303.28  300.0  303.10  377.67246\n",
      "2017-08-17 06:00:00  302.40  304.44  301.9  302.68  303.86672\n",
      "2017-08-17 07:00:00  302.68  307.96  302.6  307.96  754.74510\n",
      "2017-08-17 08:00:00  307.95  309.97  307.0  308.62  150.75029\n"
     ]
    }
   ],
   "source": [
    "import pandas as pd\n",
    "from pathlib import Path\n",
    "\n",
    "parquet_file_path = Path('../tests/binance-ETHUSDT-1h.parquet')\n",
    "\n",
    "df = pd.read_parquet(parquet_file_path)\n",
    "\n",
    "assert isinstance(df.index, pd.DatetimeIndex)\n",
    "\n",
    "print(df.head())"
   ]
  },
  {
   "cell_type": "code",
   "execution_count": 12,
   "metadata": {},
   "outputs": [
    {
     "name": "stdout",
     "output_type": "stream",
     "text": [
      "Universe loaded\n",
      "(<tradingstrategy.candle.GroupedCandleUniverse object at 0x7f5c253d05e0>, <tradingstrategy.candle.GroupedCandleUniverse object at 0x7f5c253d1000>)\n"
     ]
    }
   ],
   "source": [
    "from tradeexecutor.strategy.pandas_trader.alternative_market_data import load_candle_universe_from_parquet\n",
    "\n",
    "universe = load_candle_universe_from_parquet(\n",
    "    pair=pair,\n",
    "    file=parquet_file_path,\n",
    ")"
   ]
  },
  {
   "cell_type": "markdown",
   "metadata": {},
   "source": [
    "## Using the universe in a strategy"
   ]
  }
 ],
 "metadata": {
  "kernelspec": {
   "display_name": "trade-executor-xSh0vQvh-py3.10",
   "language": "python",
   "name": "python3"
  },
  "language_info": {
   "codemirror_mode": {
    "name": "ipython",
    "version": 3
   },
   "file_extension": ".py",
   "mimetype": "text/x-python",
   "name": "python",
   "nbconvert_exporter": "python",
   "pygments_lexer": "ipython3",
   "version": "3.10.8"
  }
 },
 "nbformat": 4,
 "nbformat_minor": 2
}
