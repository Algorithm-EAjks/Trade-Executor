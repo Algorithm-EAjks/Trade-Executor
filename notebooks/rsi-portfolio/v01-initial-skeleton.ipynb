{
 "cells": [
  {
   "cell_type": "markdown",
   "source": [
    "# RSI momentum strategy for several pairs\n",
    "\n",
    "- This is a breakout strategy using RSI indicator as the indicator for momentum\n",
    "- We buy and sell based on RSI levels\n",
    "- The rebalance is slow and designed for high fee environment\n",
    "- This notebook does an initial grid search\n"
   ],
   "metadata": {
    "collapsed": false
   }
  },
  {
   "cell_type": "markdown",
   "source": [
    "# Parameters\n",
    "\n",
    "- Strategy parameters define the fixed and grid searched parameters"
   ],
   "metadata": {
    "collapsed": false
   }
  },
  {
   "cell_type": "code",
   "execution_count": 16,
   "outputs": [],
   "source": [
    "import datetime\n",
    "\n",
    "from tradeexecutor.strategy.default_routing_options import TradeRouting\n",
    "from tradingstrategy.timebucket import TimeBucket\n",
    "from tradeexecutor.strategy.cycle import CycleDuration\n",
    "\n",
    "\n",
    "class Parameters:\n",
    "    \"\"\"Parameteres for this strategy.\n",
    "\n",
    "    - Collect parameters used for this strategy here\n",
    "\n",
    "    - Both live trading and backtesting parameters\n",
    "    \"\"\"\n",
    "\n",
    "    id = \"rsi-portfolio-v01\"\n",
    "    cycle_duration = CycleDuration.cycle_1d  # Run decide_trades() every 8h\n",
    "    source_time_bucket = TimeBucket.d1  # Use 1h candles as the raw data\n",
    "    clock_shift_bars = 0  # Do not do shifted candles\n",
    "    upsample = None  # Do not upsample candles\n",
    "\n",
    "    rsi_bars = 12  # Number of bars to calculate RSI for each tradingbar\n",
    "    matic_eth_rsi_bars = 5  # Number of bars for the momentum factor\n",
    "    rsi_entry = [50, 60, 70, 80]  # Single pair entry level - when RSI crosses above this value open a position\n",
    "    rsi_exit = [55, 60, 65, 70]  # Single pair exit level - when RSI crosses below this value exit a position\n",
    "    allocation = 0.98  # How much cash allocate for volatile positions\n",
    "    rebalance_threshold = 0.10  # How much position mix % must change when we rebalance between two open positions\n",
    "    initial_cash = 10_000  # Backtesting start cash\n",
    "    trailing_stop_loss = 0.990000  # Trailing stop loss as 1 - x\n",
    "    trailing_stop_loss_activation_level = 1.07  # How much above opening price we must be before starting to use trailing stop loss\n",
    "    stop_loss = 0.80  # Hard stop loss when opening a new position\n",
    "\n",
    "    #\n",
    "    # Live trading only\n",
    "    #\n",
    "    routing = TradeRouting.default  # Pick default routes for trade execution\n",
    "    required_history_period = rsi_bars * 2  # How much data a live trade execution needs to load to be able to calculate indicators\n",
    "\n",
    "    #\n",
    "    # Backtesting only\n",
    "    #\n",
    "\n",
    "    backtest_start = datetime.datetime(2022, 1, 1)\n",
    "    backtest_end = datetime.datetime(2024, 3, 15)\n",
    "    stop_loss_time_bucket = TimeBucket.h1  # use 1h close as the stop loss signal"
   ],
   "metadata": {
    "collapsed": false,
    "ExecuteTime": {
     "end_time": "2024-03-19T22:41:27.243403Z",
     "start_time": "2024-03-19T22:41:27.205724Z"
    }
   }
  },
  {
   "cell_type": "markdown",
   "source": [
    "# Trading pairs and market data\n",
    "\n",
    "- Set up our trading pairs\n",
    "- Load historical market data for backtesting\n",
    "- We use Binance CEX data so we have longer history to backtest"
   ],
   "metadata": {
    "collapsed": false
   }
  },
  {
   "cell_type": "code",
   "execution_count": 17,
   "outputs": [
    {
     "data": {
      "text/plain": "  0%|          | 0/11 [00:00<?, ?it/s]",
      "application/vnd.jupyter.widget-view+json": {
       "version_major": 2,
       "version_minor": 0,
       "model_id": "03c7a59256354aae98edcfbaceb0288f"
      }
     },
     "metadata": {},
     "output_type": "display_data"
    }
   ],
   "source": [
    "import datetime\n",
    "from tradingstrategy.timebucket import TimeBucket\n",
    "from tradingstrategy.chain import ChainId\n",
    "from tradeexecutor.utils.binance import create_binance_universe\n",
    "\n",
    "# Randomly picked well-known token set with some survivorship bias\n",
    "traded_pair_ids = [\n",
    "    (ChainId.centralised_exchange, \"binance\", \"ETH\", \"USDT\"),\n",
    "    (ChainId.centralised_exchange, \"binance\", \"MATIC\", \"USDT\"),\n",
    "    (ChainId.centralised_exchange, \"binance\", \"BTC\", \"USDT\"),\n",
    "    (ChainId.centralised_exchange, \"binance\", \"SOL\", \"USDT\"),\n",
    "    (ChainId.centralised_exchange, \"binance\", \"ADA\", \"USDT\"),\n",
    "    (ChainId.centralised_exchange, \"binance\", \"XRP\", \"USDT\"),\n",
    "    (ChainId.centralised_exchange, \"binance\", \"XTZ\", \"USDT\"),\n",
    "    (ChainId.centralised_exchange, \"binance\", \"AVAX\", \"USDT\"),\n",
    "    (ChainId.centralised_exchange, \"binance\", \"DOT\", \"USDT\"),\n",
    "    (ChainId.centralised_exchange, \"binance\", \"CAKE\", \"USDT\"),\n",
    "    # (ChainId.centralised_exchange, \"binance\", \"AEVO\", \"USDT\"),\n",
    "    (ChainId.centralised_exchange, \"binance\", \"BNB\", \"USDT\"),\n",
    "]\n",
    "\n",
    "strategy_universe = create_binance_universe(\n",
    "    [f\"{desc[2]}{desc[3]}\" for desc in traded_pair_ids],\n",
    "    candle_time_bucket=TimeBucket.d1,\n",
    "    stop_loss_time_bucket=TimeBucket.h1,\n",
    "    start_at=datetime.datetime(2018, 1, 1),\n",
    "    end_at=datetime.datetime(2024, 3, 10),\n",
    "    include_lending=False\n",
    ")\n",
    "\n"
   ],
   "metadata": {
    "collapsed": false,
    "ExecuteTime": {
     "end_time": "2024-03-19T22:41:28.695865Z",
     "start_time": "2024-03-19T22:41:27.214645Z"
    }
   }
  },
  {
   "cell_type": "markdown",
   "source": [
    "# Indicators\n",
    "\n",
    "- Create the indicators we use in this strategy"
   ],
   "metadata": {
    "collapsed": false
   }
  },
  {
   "cell_type": "code",
   "execution_count": 18,
   "outputs": [],
   "source": [
    "import pandas_ta\n",
    "import pandas as pd\n",
    "\n",
    "from tradeexecutor.strategy.execution_context import ExecutionContext\n",
    "from tradeexecutor.strategy.pandas_trader.indicator import IndicatorSet, IndicatorSource\n",
    "from tradeexecutor.strategy.parameters import StrategyParameters\n",
    "from tradeexecutor.strategy.trading_strategy_universe import TradingStrategyUniverse\n",
    "from tradingstrategy.utils.groupeduniverse import resample_price_series\n",
    "\n",
    "\n",
    "def calculate_shifted_rsi(pair_close_price_series: pd.Series, length: int, upsample: TimeBucket, shift: int):\n",
    "    resampled_close = resample_price_series(pair_close_price_series, upsample.to_pandas_timedelta(), shift=shift)\n",
    "    return pandas_ta.rsi(resampled_close, length=length)\n",
    "\n",
    "def create_indicators(\n",
    "    timestamp: datetime.datetime | None,\n",
    "    parameters: StrategyParameters,\n",
    "    strategy_universe: TradingStrategyUniverse,\n",
    "    execution_context: ExecutionContext\n",
    "):\n",
    "    indicators = IndicatorSet()\n",
    "    #indicators.add(\"rsi\", calculate_shifted_rsi, {\"length\": parameters.rsi_bars, \"upsample\": parameters.upsample, \"shift\": parameters.shift})\n",
    "    indicators.add(\"rsi\", pandas_ta.rsi, {\"length\": parameters.rsi_bars})\n",
    "    return indicators\n"
   ],
   "metadata": {
    "collapsed": false,
    "ExecuteTime": {
     "end_time": "2024-03-19T22:41:28.708911Z",
     "start_time": "2024-03-19T22:41:28.697410Z"
    }
   }
  },
  {
   "cell_type": "markdown",
   "source": [
    "# Trading algorithm\n",
    "\n",
    "- Describe out trading strategy as code"
   ],
   "metadata": {
    "collapsed": false
   }
  },
  {
   "cell_type": "code",
   "execution_count": 19,
   "outputs": [],
   "source": [
    "\n",
    "from tradeexecutor.strategy.alpha_model import AlphaModel\n",
    "from tradeexecutor.state.visualisation import PlotKind, PlotShape, PlotLabel\n",
    "from tradeexecutor.strategy.weighting import weight_passthrouh\n",
    "from tradeexecutor.state.trade import TradeExecution\n",
    "from tradeexecutor.strategy.pandas_trader.strategy_input import StrategyInput\n",
    "\n",
    "\n",
    "def decide_trades(\n",
    "    input: StrategyInput,\n",
    ") -> list[TradeExecution]:\n",
    "\n",
    "    # Resolve our pair metadata for our two pair strategy\n",
    "    parameters = input.parameters\n",
    "    position_manager = input.get_position_manager()\n",
    "    state = input.state\n",
    "    timestamp = input.timestamp\n",
    "    indicators = input.indicators\n",
    "    shift = parameters.clock_shift_bars\n",
    "    clock_shift = pd.Timedelta(hours=1) * shift\n",
    "\n",
    "    # Resolve trading pairs from human descriptions to their ids\n",
    "    our_pairs = [strategy_universe.get_pair_by_human_description(pair_id) for pair_id in traded_pair_ids]\n",
    "\n",
    "    # Execute the daily trade cycle when the clock hour 0..24 is correct for our hourly shift\n",
    "    if parameters.upsample:\n",
    "        assert parameters.upsample.to_timedelta() >= parameters.cycle_duration.to_timedelta(), \"Upsample period must be longer than cycle period\"\n",
    "        assert shift <= 0  # Shift -1 = do action 1 hour later\n",
    "\n",
    "        # Do the clock shift trick\n",
    "        if parameters.cycle_duration.to_timedelta() != parameters.upsample.to_timedelta():\n",
    "            if (input.cycle - 1 + shift) % int(parameters.upsample.to_hours()) != 0:\n",
    "                return []\n",
    "\n",
    "    alpha_model = AlphaModel(input.timestamp)\n",
    "    position_manager.log(\"decide_trades() start\")\n",
    "\n",
    "    #\n",
    "    # Indicators\n",
    "    #\n",
    "    # Calculate indicators for each pair.\n",
    "    #\n",
    "\n",
    "    # Per-trading pair calcualted data\n",
    "    current_rsi_values = {}  # RSI yesterday\n",
    "    previous_rsi_values = {}  # RSI day before yesterday\n",
    "    current_price = {}  # Close price yesterday\n",
    "\n",
    "    for pair in our_pairs:\n",
    "        current_price[pair] = indicators.get_price(pair)\n",
    "        current_rsi_values[pair] = indicators.get_indicator_value(\"rsi\", index=-1, pair=pair, clock_shift=clock_shift)\n",
    "        previous_rsi_values[pair] = indicators.get_indicator_value(\"rsi\", index=-2, pair=pair, clock_shift=clock_shift)\n",
    "\n",
    "    #\n",
    "    # Trading logic\n",
    "    #\n",
    "\n",
    "    for pair in our_pairs:\n",
    "        existing_position = position_manager.get_current_position_for_pair(pair)\n",
    "        pair_open = existing_position is not None\n",
    "        signal_strength = current_rsi_values[pair]\n",
    "        if pd.isna(signal_strength):\n",
    "            signal_strength = 0\n",
    "        alpha_model.set_signal(pair, 0)\n",
    "\n",
    "        if pair_open:\n",
    "            # We have existing open position for this pair,\n",
    "            # keep it open by default unless we get a trigger condition below\n",
    "            position_manager.log(f\"Pair {pair} already open\")\n",
    "            alpha_model.set_signal(pair, signal_strength, stop_loss=parameters.stop_loss)\n",
    "\n",
    "        if current_rsi_values[pair] and previous_rsi_values[pair]:\n",
    "\n",
    "            # Check for RSI crossing our threshold values in this cycle, compared to the previous cycle\n",
    "            rsi_cross_above = current_rsi_values[pair] >= parameters.rsi_entry and previous_rsi_values[pair] < parameters.rsi_entry\n",
    "            rsi_cross_below = current_rsi_values[pair] < parameters.rsi_exit and previous_rsi_values[pair] > parameters.rsi_exit\n",
    "\n",
    "            if not pair_open:\n",
    "                # Check for opening a position if no position is open\n",
    "                if rsi_cross_above:\n",
    "                    position_manager.log(f\"Pair {pair} crossed above\")\n",
    "                    alpha_model.set_signal(pair, signal_strength, stop_loss=parameters.stop_loss)\n",
    "            else:\n",
    "                # We have open position, check for the close condition\n",
    "                if rsi_cross_below:\n",
    "                    position_manager.log(f\"Pair {pair} crossed below\")\n",
    "                    alpha_model.set_signal(pair, 0)\n",
    "\n",
    "    # Enable trailing stop loss if we have reached the activation level\n",
    "    if parameters.trailing_stop_loss_activation_level is not None:\n",
    "       for p in state.portfolio.open_positions.values():\n",
    "           if p.trailing_stop_loss_pct is None:\n",
    "               if current_price[p.pair] >= p.get_opening_price() * parameters.trailing_stop_loss_activation_level:\n",
    "                   p.trailing_stop_loss_pct = parameters.trailing_stop_loss\n",
    "\n",
    "    # Use alpha model and construct a portfolio of two assets\n",
    "    alpha_model.select_top_signals(2)\n",
    "    alpha_model.assign_weights(weight_passthrouh)\n",
    "    alpha_model.normalise_weights()\n",
    "    alpha_model.update_old_weights(state.portfolio)\n",
    "    portfolio = position_manager.get_current_portfolio()\n",
    "    portfolio_target_value = portfolio.get_total_equity() * parameters.allocation\n",
    "    alpha_model.calculate_target_positions(position_manager, portfolio_target_value)\n",
    "    trades = alpha_model.generate_rebalance_trades_and_triggers(\n",
    "        position_manager,\n",
    "        min_trade_threshold=parameters.rebalance_threshold * portfolio.get_total_equity(),\n",
    "    )\n",
    "\n",
    "    #\n",
    "    # Visualisations\n",
    "    #\n",
    "\n",
    "    if input.is_visualisation_enabled():\n",
    "\n",
    "        visualisation = state.visualisation  # Helper class to visualise strategy output\n",
    "\n",
    "        eth_pair = position_manager.get_trading_pair(traded_pair_ids[0])\n",
    "\n",
    "        if current_rsi_values[eth_pair]:\n",
    "            visualisation.plot_indicator(\n",
    "                timestamp,\n",
    "                f\"RSI ETH\",\n",
    "                PlotKind.technical_indicator_detached,\n",
    "                current_rsi_values[eth_pair],\n",
    "                colour=\"orange\",\n",
    "            )\n",
    "\n",
    "\n",
    "            # Low (vertical line)\n",
    "            visualisation.plot_indicator(\n",
    "                timestamp,\n",
    "                f\"RSI low trigger\",\n",
    "                PlotKind.technical_indicator_overlay_on_detached,\n",
    "                parameters.rsi_exit,\n",
    "                detached_overlay_name=f\"RSI BTC\",\n",
    "                plot_shape=PlotShape.horizontal_vertical,\n",
    "                colour=\"red\",\n",
    "                label=PlotLabel.hidden,\n",
    "            )\n",
    "\n",
    "            # High (vertical line)\n",
    "            visualisation.plot_indicator(\n",
    "                timestamp,\n",
    "                f\"RSI high trigger\",\n",
    "                PlotKind.technical_indicator_overlay_on_detached,\n",
    "                parameters.rsi_enter,\n",
    "                detached_overlay_name=f\"RSI BTC\",\n",
    "                plot_shape=PlotShape.horizontal_vertical,\n",
    "                colour=\"red\",\n",
    "                label=PlotLabel.hidden,\n",
    "            )\n",
    "\n",
    "        state.visualisation.add_calculations(timestamp, alpha_model.to_dict())  # Record alpha model thinking\n",
    "\n",
    "    return trades"
   ],
   "metadata": {
    "collapsed": false,
    "ExecuteTime": {
     "end_time": "2024-03-19T22:41:28.709111Z",
     "start_time": "2024-03-19T22:41:28.706900Z"
    }
   }
  },
  {
   "cell_type": "markdown",
   "source": [
    "# Grid search\n",
    "\n",
    "- Run the grid search"
   ],
   "metadata": {
    "collapsed": false
   }
  },
  {
   "cell_type": "code",
   "execution_count": 20,
   "outputs": [
    {
     "name": "stdout",
     "output_type": "stream",
     "text": [
      "We prepared 16 grid search combinations with total 11 indicators which need to be calculated, stored in /Users/moo/.cache/trading-strategy/grid-search/rsi-portfolio-v01\n",
      "Using indicator cache /Users/moo/.cache/indicators/centralised-exchange_1d_11_2018-01-01-2024-03-10\n",
      "No cached grid search results found from previous runs\n"
     ]
    },
    {
     "data": {
      "text/plain": "Searching:   0%|          | 0/16 [00:00<?, ?it/s]",
      "application/vnd.jupyter.widget-view+json": {
       "version_major": 2,
       "version_minor": 0,
       "model_id": "d9ed164292f44b369ea45102b10a04eb"
      }
     },
     "metadata": {},
     "output_type": "display_data"
    },
    {
     "ename": "RuntimeError",
     "evalue": "Running a grid search combination failed:\n<GridCombination #7\n   allocation=0.98\n   backtest_end=2024-03-15 00:00:00\n   backtest_start=2022-01-01 00:00:00\n   clock_shift_bars=0\n   cycle_duration=CycleDuration.cycle_1d\n   id=rsi-portfolio-v01\n   initial_cash=10000\n   matic_eth_rsi_bars=5\n   rebalance_threshold=0.1\n   required_history_period=24\n   routing=TradeRouting.default\n   rsi_bars=12\n   rsi_entry=60\n   rsi_exit=65\n   source_time_bucket=TimeBucket.d1\n   stop_loss=0.8\n   stop_loss_time_bucket=TimeBucket.h1\n   trailing_stop_loss=0.99\n   trailing_stop_loss_activation_level=1.07\n   upsample=None\n>",
     "output_type": "error",
     "traceback": [
      "\u001B[0;31m---------------------------------------------------------------------------\u001B[0m",
      "\u001B[0;31m_RemoteTraceback\u001B[0m                          Traceback (most recent call last)",
      "\u001B[0;31m_RemoteTraceback\u001B[0m: \n\"\"\"\nTraceback (most recent call last):\n  File \"/Users/moo/code/ts/trade-executor/tradeexecutor/backtest/grid_search.py\", line 980, in run_grid_search_backtest\n    state, universe, debug_dump = run_backtest_inline(\n  File \"/Users/moo/code/ts/trade-executor/tradeexecutor/backtest/backtest_runner.py\", line 941, in run_backtest_inline\n    state, universe, debug_dump = run_backtest(backtest_setup, client, allow_missing_fees=True)\n  File \"/Users/moo/code/ts/trade-executor/tradeexecutor/backtest/backtest_runner.py\", line 656, in run_backtest\n    diagnostics_data = main_loop.run_and_setup_backtest()\n  File \"/Users/moo/code/ts/trade-executor/tradeexecutor/cli/loop.py\", line 1381, in run_and_setup_backtest\n    return self.run_backtest(state)\n  File \"/Users/moo/code/ts/trade-executor/tradeexecutor/cli/loop.py\", line 900, in run_backtest\n    universe: TradingStrategyUniverse = self.tick(\n  File \"/Users/moo/code/ts/trade-executor/tradeexecutor/cli/loop.py\", line 482, in tick\n    self.runner.tick(\n  File \"/Users/moo/code/ts/trade-executor/tradeexecutor/strategy/runner.py\", line 692, in tick\n    rebalance_trades = self.on_clock(\n  File \"/Users/moo/code/ts/trade-executor/tradeexecutor/strategy/pandas_trader/runner.py\", line 97, in on_clock\n    return self.decide_trades(\n  File \"/var/folders/12/pbc59svn70q_9dfz1kjl3zww0000gn/T/ipykernel_73213/999242578.py\", line 103, in decide_trades\n  File \"/Users/moo/code/ts/trade-executor/tradeexecutor/strategy/alpha_model.py\", line 907, in generate_rebalance_trades_and_triggers\n    position_rebalance_trades += position_manager.adjust_position(\n  File \"/Users/moo/code/ts/trade-executor/tradeexecutor/strategy/pandas_trader/position_manager.py\", line 835, in adjust_position\n    position, trade, created = self.state.create_trade(\n  File \"/Users/moo/code/ts/trade-executor/tradeexecutor/state/state.py\", line 344, in create_trade\n    position, trade, created = self.portfolio.create_trade(\n  File \"/Users/moo/code/ts/trade-executor/tradeexecutor/state/portfolio.py\", line 503, in create_trade\n    raise TooSmallTrade(f\"Trade cannot be this small\\n\"\ntradeexecutor.state.portfolio.TooSmallTrade: Trade cannot be this small\nQuantity 0.00009605402454074185126438802104, dust epsilon 0.000100000000000000004792173602385929598312941379845142364501953125\nTrade: <Buy #241 0.00009605402454074185126438802104 ETH at 1934.7668999999999, planned phase>\nPair: <Pair ETH-USDT spot_market_hold at binance>\n\nThe above exception was the direct cause of the following exception:\n\nTraceback (most recent call last):\n  File \"/opt/homebrew/Cellar/python@3.10/3.10.13/Frameworks/Python.framework/Versions/3.10/lib/python3.10/concurrent/futures/process.py\", line 246, in _process_worker\n    r = call_item.fn(*call_item.args, **call_item.kwargs)\n  File \"/Users/moo/code/ts/trade-executor/tradeexecutor/backtest/grid_search.py\", line 653, in run_grid_combination_multiprocess\n    result = _run_v04(grid_search_worker, universe, combination, trading_strategy_engine_version, indicator_storage)\n  File \"/Users/moo/code/ts/trade-executor/tradeexecutor/backtest/grid_search.py\", line 556, in _run_v04\n    return run_grid_search_backtest(\n  File \"/Users/moo/code/ts/trade-executor/tradeexecutor/backtest/grid_search.py\", line 1004, in run_grid_search_backtest\n    raise RuntimeError(f\"Running a grid search combination failed:\\n{combination}\") from e\nRuntimeError: Running a grid search combination failed:\n<GridCombination #7\n   allocation=0.98\n   backtest_end=2024-03-15 00:00:00\n   backtest_start=2022-01-01 00:00:00\n   clock_shift_bars=0\n   cycle_duration=CycleDuration.cycle_1d\n   id=rsi-portfolio-v01\n   initial_cash=10000\n   matic_eth_rsi_bars=5\n   rebalance_threshold=0.1\n   required_history_period=24\n   routing=TradeRouting.default\n   rsi_bars=12\n   rsi_entry=60\n   rsi_exit=65\n   source_time_bucket=TimeBucket.d1\n   stop_loss=0.8\n   stop_loss_time_bucket=TimeBucket.h1\n   trailing_stop_loss=0.99\n   trailing_stop_loss_activation_level=1.07\n   upsample=None\n>\n\"\"\"",
      "\nThe above exception was the direct cause of the following exception:\n",
      "\u001B[0;31mRuntimeError\u001B[0m                              Traceback (most recent call last)",
      "Cell \u001B[0;32mIn[20], line 18\u001B[0m\n\u001B[1;32m     14\u001B[0m indicators \u001B[38;5;241m=\u001B[39m GridCombination\u001B[38;5;241m.\u001B[39mget_all_indicators(combinations)\n\u001B[1;32m     16\u001B[0m \u001B[38;5;28mprint\u001B[39m(\u001B[38;5;124mf\u001B[39m\u001B[38;5;124m\"\u001B[39m\u001B[38;5;124mWe prepared \u001B[39m\u001B[38;5;132;01m{\u001B[39;00m\u001B[38;5;28mlen\u001B[39m(combinations)\u001B[38;5;132;01m}\u001B[39;00m\u001B[38;5;124m grid search combinations with total \u001B[39m\u001B[38;5;132;01m{\u001B[39;00m\u001B[38;5;28mlen\u001B[39m(indicators)\u001B[38;5;132;01m}\u001B[39;00m\u001B[38;5;124m indicators which need to be calculated, stored in \u001B[39m\u001B[38;5;132;01m{\u001B[39;00mstorage_folder\u001B[38;5;241m.\u001B[39mresolve()\u001B[38;5;132;01m}\u001B[39;00m\u001B[38;5;124m\"\u001B[39m)\n\u001B[0;32m---> 18\u001B[0m grid_search_results \u001B[38;5;241m=\u001B[39m \u001B[43mperform_grid_search\u001B[49m\u001B[43m(\u001B[49m\n\u001B[1;32m     19\u001B[0m \u001B[43m    \u001B[49m\u001B[43mdecide_trades\u001B[49m\u001B[43m,\u001B[49m\n\u001B[1;32m     20\u001B[0m \u001B[43m    \u001B[49m\u001B[43mstrategy_universe\u001B[49m\u001B[43m,\u001B[49m\n\u001B[1;32m     21\u001B[0m \u001B[43m    \u001B[49m\u001B[43mcombinations\u001B[49m\u001B[43m,\u001B[49m\n\u001B[1;32m     22\u001B[0m \u001B[43m    \u001B[49m\u001B[43mtrading_strategy_engine_version\u001B[49m\u001B[38;5;241;43m=\u001B[39;49m\u001B[38;5;124;43m\"\u001B[39;49m\u001B[38;5;124;43m0.5\u001B[39;49m\u001B[38;5;124;43m\"\u001B[39;49m\u001B[43m,\u001B[49m\n\u001B[1;32m     23\u001B[0m \u001B[43m    \u001B[49m\u001B[43mmultiprocess\u001B[49m\u001B[38;5;241;43m=\u001B[39;49m\u001B[38;5;28;43;01mTrue\u001B[39;49;00m\u001B[43m,\u001B[49m\n\u001B[1;32m     24\u001B[0m \u001B[43m)\u001B[49m\n",
      "File \u001B[0;32m~/code/ts/trade-executor/tradeexecutor/backtest/grid_search.py:102\u001B[0m, in \u001B[0;36m_hide_warnings.<locals>.wrapper\u001B[0;34m(*args, **kwargs)\u001B[0m\n\u001B[1;32m    100\u001B[0m \u001B[38;5;28;01mwith\u001B[39;00m warnings\u001B[38;5;241m.\u001B[39mcatch_warnings():\n\u001B[1;32m    101\u001B[0m     warnings\u001B[38;5;241m.\u001B[39msimplefilter(\u001B[38;5;124m\"\u001B[39m\u001B[38;5;124mignore\u001B[39m\u001B[38;5;124m\"\u001B[39m)\n\u001B[0;32m--> 102\u001B[0m     \u001B[38;5;28;01mreturn\u001B[39;00m \u001B[43mfunc\u001B[49m\u001B[43m(\u001B[49m\u001B[38;5;241;43m*\u001B[39;49m\u001B[43margs\u001B[49m\u001B[43m,\u001B[49m\u001B[43m \u001B[49m\u001B[38;5;241;43m*\u001B[39;49m\u001B[38;5;241;43m*\u001B[39;49m\u001B[43mkwargs\u001B[49m\u001B[43m)\u001B[49m\n",
      "File \u001B[0;32m~/code/ts/trade-executor/tradeexecutor/backtest/grid_search.py:892\u001B[0m, in \u001B[0;36mperform_grid_search\u001B[0;34m(grid_search_worker, universe, combinations, max_workers, reader_pool_size, multiprocess, trading_strategy_engine_version, data_retention, execution_context, indicator_storage)\u001B[0m\n\u001B[1;32m    890\u001B[0m progress_bar\u001B[38;5;241m.\u001B[39mset_postfix({\u001B[38;5;124m\"\u001B[39m\u001B[38;5;124mprocesses\u001B[39m\u001B[38;5;124m\"\u001B[39m: max_workers})\n\u001B[1;32m    891\u001B[0m \u001B[38;5;66;03m# Extract results from the parallel task queue\u001B[39;00m\n\u001B[0;32m--> 892\u001B[0m \u001B[38;5;28;01mfor\u001B[39;00m task \u001B[38;5;129;01min\u001B[39;00m tm\u001B[38;5;241m.\u001B[39mas_completed():\n\u001B[1;32m    893\u001B[0m     results\u001B[38;5;241m.\u001B[39mappend(task\u001B[38;5;241m.\u001B[39mresult)\n\u001B[1;32m    894\u001B[0m     progress_bar\u001B[38;5;241m.\u001B[39mupdate()\n",
      "File \u001B[0;32m~/Library/Caches/pypoetry/virtualenvs/trade-executor-8Oz1GdY1-py3.10/lib/python3.10/site-packages/futureproof/task_manager.py:129\u001B[0m, in \u001B[0;36mTaskManager.as_completed\u001B[0;34m(self)\u001B[0m\n\u001B[1;32m    127\u001B[0m     \u001B[38;5;28;01mif\u001B[39;00m \u001B[38;5;28mself\u001B[39m\u001B[38;5;241m.\u001B[39m_tasks_in_queue \u001B[38;5;241m==\u001B[39m \u001B[38;5;28mself\u001B[39m\u001B[38;5;241m.\u001B[39m_executor\u001B[38;5;241m.\u001B[39mmax_workers:\n\u001B[1;32m    128\u001B[0m         logger\u001B[38;5;241m.\u001B[39mdebug(\u001B[38;5;124m\"\u001B[39m\u001B[38;5;124mQueue full, waiting for result\u001B[39m\u001B[38;5;124m\"\u001B[39m)\n\u001B[0;32m--> 129\u001B[0m         \u001B[38;5;28;01myield\u001B[39;00m \u001B[38;5;28;43mself\u001B[39;49m\u001B[38;5;241;43m.\u001B[39;49m\u001B[43m_wait_for_result\u001B[49m\u001B[43m(\u001B[49m\u001B[43m)\u001B[49m\n\u001B[1;32m    131\u001B[0m     \u001B[38;5;28mself\u001B[39m\u001B[38;5;241m.\u001B[39m_submit_task(task)\n\u001B[1;32m    133\u001B[0m \u001B[38;5;28;01mwhile\u001B[39;00m \u001B[38;5;28mlen\u001B[39m(\u001B[38;5;28mself\u001B[39m\u001B[38;5;241m.\u001B[39mcompleted_tasks) \u001B[38;5;241m<\u001B[39m \u001B[38;5;28mself\u001B[39m\u001B[38;5;241m.\u001B[39m_submitted_task_count:\n",
      "File \u001B[0;32m~/Library/Caches/pypoetry/virtualenvs/trade-executor-8Oz1GdY1-py3.10/lib/python3.10/site-packages/futureproof/task_manager.py:183\u001B[0m, in \u001B[0;36mTaskManager._wait_for_result\u001B[0;34m(self)\u001B[0m\n\u001B[1;32m    181\u001B[0m \u001B[38;5;28;01mif\u001B[39;00m \u001B[38;5;28misinstance\u001B[39m(completed_task\u001B[38;5;241m.\u001B[39mresult, \u001B[38;5;167;01mException\u001B[39;00m):\n\u001B[1;32m    182\u001B[0m     \u001B[38;5;28;01mif\u001B[39;00m \u001B[38;5;28mself\u001B[39m\u001B[38;5;241m.\u001B[39m_error_policy \u001B[38;5;241m==\u001B[39m ErrorPolicyEnum\u001B[38;5;241m.\u001B[39mRAISE:\n\u001B[0;32m--> 183\u001B[0m         \u001B[38;5;28;43mself\u001B[39;49m\u001B[38;5;241;43m.\u001B[39;49m\u001B[43m_raise\u001B[49m\u001B[43m(\u001B[49m\u001B[43mcompleted_task\u001B[49m\u001B[38;5;241;43m.\u001B[39;49m\u001B[43mresult\u001B[49m\u001B[43m)\u001B[49m\n\u001B[1;32m    184\u001B[0m     \u001B[38;5;28;01melif\u001B[39;00m \u001B[38;5;28mself\u001B[39m\u001B[38;5;241m.\u001B[39m_error_policy \u001B[38;5;241m==\u001B[39m ErrorPolicyEnum\u001B[38;5;241m.\u001B[39mLOG:\n\u001B[1;32m    185\u001B[0m         logger\u001B[38;5;241m.\u001B[39mexception(\n\u001B[1;32m    186\u001B[0m             \u001B[38;5;124m\"\u001B[39m\u001B[38;5;124mTask \u001B[39m\u001B[38;5;132;01m%s\u001B[39;00m\u001B[38;5;124m raised an exception\u001B[39m\u001B[38;5;124m\"\u001B[39m,\n\u001B[1;32m    187\u001B[0m             completed_task,\n\u001B[1;32m    188\u001B[0m             exc_info\u001B[38;5;241m=\u001B[39mcompleted_task\u001B[38;5;241m.\u001B[39mresult,\n\u001B[1;32m    189\u001B[0m         )\n",
      "File \u001B[0;32m~/Library/Caches/pypoetry/virtualenvs/trade-executor-8Oz1GdY1-py3.10/lib/python3.10/site-packages/futureproof/task_manager.py:198\u001B[0m, in \u001B[0;36mTaskManager._raise\u001B[0;34m(self, exception)\u001B[0m\n\u001B[1;32m    196\u001B[0m \u001B[38;5;28mself\u001B[39m\u001B[38;5;241m.\u001B[39m_shutdown \u001B[38;5;241m=\u001B[39m \u001B[38;5;28;01mTrue\u001B[39;00m\n\u001B[1;32m    197\u001B[0m \u001B[38;5;28mself\u001B[39m\u001B[38;5;241m.\u001B[39m_executor\u001B[38;5;241m.\u001B[39mjoin()\n\u001B[0;32m--> 198\u001B[0m \u001B[38;5;28;01mraise\u001B[39;00m exception\n",
      "File \u001B[0;32m~/Library/Caches/pypoetry/virtualenvs/trade-executor-8Oz1GdY1-py3.10/lib/python3.10/site-packages/futureproof/task_manager.py:157\u001B[0m, in \u001B[0;36mTaskManager._on_complete\u001B[0;34m(self, future, task)\u001B[0m\n\u001B[1;32m    155\u001B[0m complete_task\u001B[38;5;241m.\u001B[39mcomplete \u001B[38;5;241m=\u001B[39m \u001B[38;5;28;01mTrue\u001B[39;00m\n\u001B[1;32m    156\u001B[0m \u001B[38;5;28;01mtry\u001B[39;00m:\n\u001B[0;32m--> 157\u001B[0m     complete_task\u001B[38;5;241m.\u001B[39mresult \u001B[38;5;241m=\u001B[39m \u001B[43mfuture\u001B[49m\u001B[38;5;241;43m.\u001B[39;49m\u001B[43mresult\u001B[49m\u001B[43m(\u001B[49m\u001B[43m)\u001B[49m\n\u001B[1;32m    158\u001B[0m \u001B[38;5;28;01mexcept\u001B[39;00m \u001B[38;5;167;01mException\u001B[39;00m \u001B[38;5;28;01mas\u001B[39;00m exc:\n\u001B[1;32m    159\u001B[0m     logger\u001B[38;5;241m.\u001B[39mdebug(\u001B[38;5;124m\"\u001B[39m\u001B[38;5;124mException on task \u001B[39m\u001B[38;5;132;01m%r\u001B[39;00m\u001B[38;5;124m\"\u001B[39m, complete_task)\n",
      "File \u001B[0;32m/opt/homebrew/Cellar/python@3.10/3.10.13/Frameworks/Python.framework/Versions/3.10/lib/python3.10/concurrent/futures/_base.py:451\u001B[0m, in \u001B[0;36mFuture.result\u001B[0;34m(self, timeout)\u001B[0m\n\u001B[1;32m    449\u001B[0m     \u001B[38;5;28;01mraise\u001B[39;00m CancelledError()\n\u001B[1;32m    450\u001B[0m \u001B[38;5;28;01melif\u001B[39;00m \u001B[38;5;28mself\u001B[39m\u001B[38;5;241m.\u001B[39m_state \u001B[38;5;241m==\u001B[39m FINISHED:\n\u001B[0;32m--> 451\u001B[0m     \u001B[38;5;28;01mreturn\u001B[39;00m \u001B[38;5;28;43mself\u001B[39;49m\u001B[38;5;241;43m.\u001B[39;49m\u001B[43m__get_result\u001B[49m\u001B[43m(\u001B[49m\u001B[43m)\u001B[49m\n\u001B[1;32m    453\u001B[0m \u001B[38;5;28mself\u001B[39m\u001B[38;5;241m.\u001B[39m_condition\u001B[38;5;241m.\u001B[39mwait(timeout)\n\u001B[1;32m    455\u001B[0m \u001B[38;5;28;01mif\u001B[39;00m \u001B[38;5;28mself\u001B[39m\u001B[38;5;241m.\u001B[39m_state \u001B[38;5;129;01min\u001B[39;00m [CANCELLED, CANCELLED_AND_NOTIFIED]:\n",
      "File \u001B[0;32m/opt/homebrew/Cellar/python@3.10/3.10.13/Frameworks/Python.framework/Versions/3.10/lib/python3.10/concurrent/futures/_base.py:403\u001B[0m, in \u001B[0;36mFuture.__get_result\u001B[0;34m(self)\u001B[0m\n\u001B[1;32m    401\u001B[0m \u001B[38;5;28;01mif\u001B[39;00m \u001B[38;5;28mself\u001B[39m\u001B[38;5;241m.\u001B[39m_exception:\n\u001B[1;32m    402\u001B[0m     \u001B[38;5;28;01mtry\u001B[39;00m:\n\u001B[0;32m--> 403\u001B[0m         \u001B[38;5;28;01mraise\u001B[39;00m \u001B[38;5;28mself\u001B[39m\u001B[38;5;241m.\u001B[39m_exception\n\u001B[1;32m    404\u001B[0m     \u001B[38;5;28;01mfinally\u001B[39;00m:\n\u001B[1;32m    405\u001B[0m         \u001B[38;5;66;03m# Break a reference cycle with the exception in self._exception\u001B[39;00m\n\u001B[1;32m    406\u001B[0m         \u001B[38;5;28mself\u001B[39m \u001B[38;5;241m=\u001B[39m \u001B[38;5;28;01mNone\u001B[39;00m\n",
      "\u001B[0;31mRuntimeError\u001B[0m: Running a grid search combination failed:\n<GridCombination #7\n   allocation=0.98\n   backtest_end=2024-03-15 00:00:00\n   backtest_start=2022-01-01 00:00:00\n   clock_shift_bars=0\n   cycle_duration=CycleDuration.cycle_1d\n   id=rsi-portfolio-v01\n   initial_cash=10000\n   matic_eth_rsi_bars=5\n   rebalance_threshold=0.1\n   required_history_period=24\n   routing=TradeRouting.default\n   rsi_bars=12\n   rsi_entry=60\n   rsi_exit=65\n   source_time_bucket=TimeBucket.d1\n   stop_loss=0.8\n   stop_loss_time_bucket=TimeBucket.h1\n   trailing_stop_loss=0.99\n   trailing_stop_loss_activation_level=1.07\n   upsample=None\n>"
     ]
    }
   ],
   "source": [
    "from tradeexecutor.backtest.grid_search import GridCombination, get_grid_search_result_path, perform_grid_search, prepare_grid_combinations\n",
    "\n",
    "# This is the path where we keep the result files around\n",
    "storage_folder = get_grid_search_result_path(Parameters.id)\n",
    "\n",
    "# Popular grid search combinations and indicators for them\n",
    "combinations = prepare_grid_combinations(\n",
    "    Parameters,\n",
    "    storage_folder,\n",
    "    create_indicators=create_indicators,\n",
    "    strategy_universe=strategy_universe,\n",
    ")\n",
    "\n",
    "indicators = GridCombination.get_all_indicators(combinations)\n",
    "\n",
    "print(f\"We prepared {len(combinations)} grid search combinations with total {len(indicators)} indicators which need to be calculated, stored in {storage_folder.resolve()}\")\n",
    "\n",
    "grid_search_results = perform_grid_search(\n",
    "    decide_trades,\n",
    "    strategy_universe,\n",
    "    combinations,\n",
    "    trading_strategy_engine_version=\"0.5\",\n",
    "    multiprocess=True,\n",
    ")"
   ],
   "metadata": {
    "collapsed": false,
    "ExecuteTime": {
     "end_time": "2024-03-19T22:42:08.374906Z",
     "start_time": "2024-03-19T22:41:28.711393Z"
    }
   }
  },
  {
   "cell_type": "markdown",
   "source": [
    "# Analysing results"
   ],
   "metadata": {
    "collapsed": false
   }
  },
  {
   "cell_type": "code",
   "execution_count": null,
   "outputs": [],
   "source": [
    "# Set Jupyter Notebook output mode parameters\n",
    "from tradeexecutor.analysis.grid_search import find_best_grid_search_results\n",
    "# from tradeexecutor.analysis.grid_search import visualise_table\n",
    "\n",
    "# Print extension of our backtest\n",
    "cached_results = [r for r in grid_search_results if r.cached]\n",
    "print(f\"Grid search results available: {len(grid_search_results)}, of which we got cached {len(cached_results)} in {storage_folder}\")\n",
    "\n",
    "best_result = find_best_grid_search_results(grid_search_results)"
   ],
   "metadata": {
    "collapsed": false
   }
  },
  {
   "cell_type": "markdown",
   "source": [
    "## Highest profitability"
   ],
   "metadata": {
    "collapsed": false
   }
  },
  {
   "cell_type": "code",
   "execution_count": null,
   "outputs": [],
   "source": [
    "from tradeexecutor.analysis.grid_search import find_best_grid_search_results, render_grid_search_result_table\n",
    "\n",
    "best_results = find_best_grid_search_results(grid_search_results)\n",
    "render_grid_search_result_table(best_result.cagr)"
   ],
   "metadata": {
    "collapsed": false
   }
  },
  {
   "cell_type": "markdown",
   "source": [
    "## Highest Sharpe"
   ],
   "metadata": {
    "collapsed": false
   }
  },
  {
   "cell_type": "code",
   "execution_count": null,
   "outputs": [],
   "source": [
    "render_grid_search_result_table(best_result.sharpe)"
   ],
   "metadata": {
    "collapsed": false
   }
  }
 ],
 "metadata": {
  "kernelspec": {
   "display_name": "Python 3",
   "language": "python",
   "name": "python3"
  },
  "language_info": {
   "codemirror_mode": {
    "name": "ipython",
    "version": 2
   },
   "file_extension": ".py",
   "mimetype": "text/x-python",
   "name": "python",
   "nbconvert_exporter": "python",
   "pygments_lexer": "ipython2",
   "version": "2.7.6"
  }
 },
 "nbformat": 4,
 "nbformat_minor": 0
}
