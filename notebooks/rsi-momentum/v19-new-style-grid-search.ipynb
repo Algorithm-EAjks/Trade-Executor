{
 "cells": [
  {
   "cell_type": "markdown",
   "metadata": {
    "collapsed": false
   },
   "source": [
    "# RSI momentum trading strategy example\n",
    "\n",
    "- This is a backtest example notebook\n",
    "    - New style grid search\n",
    "\n",
    "# Set up\n",
    "\n",
    "Set up Trading Strategy data client.\n"
   ]
  },
  {
   "cell_type": "code",
   "execution_count": null,
   "metadata": {
    "ExecuteTime": {
     "end_time": "2024-02-12T13:25:18.991903Z",
     "start_time": "2024-02-12T13:25:17.416556Z"
    },
    "collapsed": false
   },
   "outputs": [],
   "source": [
    "from tradeexecutor.utils.notebook import setup_charting_and_output\n",
    "from tradingstrategy.client import Client\n",
    "\n",
    "client = Client.create_jupyter_client()\n",
    "\n",
    "\n",
    "# Render for Github web viewer\n",
    "from tradeexecutor.utils.notebook import setup_charting_and_output, OutputMode\n",
    "\n",
    "setup_charting_and_output(OutputMode.static, image_format=\"png\", width=1500, height=1000)\n",
    "# etup_charting_and_output(width=1500, height=1000)"
   ]
  },
  {
   "cell_type": "markdown",
   "metadata": {
    "collapsed": false
   },
   "source": [
    "# Load data\n",
    "\n",
    "We use Binance data so we get a longer period of data."
   ]
  },
  {
   "cell_type": "code",
   "execution_count": null,
   "metadata": {
    "ExecuteTime": {
     "end_time": "2024-02-12T13:25:19.757698Z",
     "start_time": "2024-02-12T13:25:18.990973Z"
    },
    "collapsed": false
   },
   "outputs": [],
   "source": [
    "import datetime\n",
    "from tradingstrategy.timebucket import TimeBucket\n",
    "from tradingstrategy.chain import ChainId\n",
    "from tradeexecutor.utils.binance import create_binance_universe\n",
    "\n",
    "target_time_bucket = TimeBucket.h8  # Upsample shifted data to this time bucket\n",
    "\n",
    "strategy_universe = create_binance_universe(\n",
    "    [\"BTCUSDT\", \"ETHUSDT\"],   # Binance internal tickers later mapped to Trading strategy DEXPair metadata class\n",
    "    candle_time_bucket=TimeBucket.h8,\n",
    "    stop_loss_time_bucket=TimeBucket.h1,\n",
    "    start_at=datetime.datetime(2019, 1, 1),  # Backtest for 5 years data\n",
    "    end_at=datetime.datetime(2024, 1, 1),\n",
    "    include_lending=False\n",
    ")\n",
    "\n",
    "print(f\"We have loaded {strategy_universe.get_pair_count()} trading pairs\")\n",
    "\n",
    "# List of pair descriptions we used to look up pair metadata\n",
    "our_pairs = [\n",
    "    (ChainId.centralised_exchange, \"binance\", \"BTC\", \"USDT\"),\n",
    "    (ChainId.centralised_exchange, \"binance\", \"ETH\", \"USDT\"),\n",
    "]"
   ]
  },
  {
   "cell_type": "markdown",
   "metadata": {
    "collapsed": false
   },
   "source": [
    "# Show loaded trading universe\n",
    "\n",
    "Display generic troubleshooting information about the loaded data."
   ]
  },
  {
   "cell_type": "code",
   "execution_count": null,
   "metadata": {
    "ExecuteTime": {
     "end_time": "2024-02-12T13:25:19.765203Z",
     "start_time": "2024-02-12T13:25:19.760202Z"
    },
    "collapsed": false
   },
   "outputs": [],
   "source": [
    "pairs = strategy_universe.data_universe.pairs  # Trading pairs metadata\n",
    "candles = strategy_universe.data_universe.candles  # Candles for all trading pairs\n",
    "\n",
    "print(f\"Loaded {candles.get_candle_count():,} candles.\")\n",
    "\n",
    "for pair in pairs.iterate_pairs():\n",
    "    pair_candles = candles.get_candles_by_pair(pair)\n",
    "    first_close = pair_candles.iloc[0][\"close\"]\n",
    "    first_close_at = pair_candles.index[0]\n",
    "    print(f\"Pair {pair} first close price {first_close} at {first_close_at}\")\n"
   ]
  },
  {
   "cell_type": "markdown",
   "metadata": {},
   "source": [
    "# Indicators\n",
    "\n",
    "- Prepare indicators needed for the grid"
   ]
  },
  {
   "cell_type": "code",
   "execution_count": null,
   "metadata": {},
   "outputs": [],
   "source": [
    "import pandas_ta\n",
    "\n",
    "from tradeexecutor.strategy.execution_context import ExecutionContext\n",
    "from tradeexecutor.strategy.pandas_trader.indicator import IndicatorSet, IndicatorSource\n",
    "from tradeexecutor.strategy.parameters import StrategyParameters\n",
    "from tradeexecutor.strategy.trading_strategy_universe import TradingStrategyUniverse\n",
    "\n",
    "\n",
    "def calculate_eth_btc(strategy_universe: TradingStrategyUniverse):\n",
    "    eth = strategy_universe.get_pair_by_human_description(our_pairs[0])\n",
    "    btc = strategy_universe.get_pair_by_human_description(our_pairs[1])    \n",
    "    btc_price = strategy_universe.data_universe.candles.get_candles_by_pair(eth.internal_id)\n",
    "    eth_price = strategy_universe.data_universe.candles.get_candles_by_pair(btc.internal_id)\n",
    "    series = eth_price[\"close\"] / btc_price[\"close\"]  # Divide two series\n",
    "    return series\n",
    "\n",
    "def calculate_eth_btc_rsi(strategy_universe: TradingStrategyUniverse, length: int):\n",
    "    weth_usdc = strategy_universe.get_pair_by_human_description((ChainId.ethereum, \"test-dex\", \"WETH\", \"USDC\"))\n",
    "    wbtc_usdc = strategy_universe.get_pair_by_human_description((ChainId.ethereum, \"test-dex\", \"WBTC\", \"USDC\"))\n",
    "    btc_price = strategy_universe.data_universe.candles.get_candles_by_pair(wbtc_usdc.internal_id)\n",
    "    eth_price = strategy_universe.data_universe.candles.get_candles_by_pair(weth_usdc.internal_id)\n",
    "    eth_btc = eth_price[\"close\"] / btc_price[\"close\"]\n",
    "    return pandas_ta.rsi(eth_btc, length=length)\n",
    "\n",
    "def create_indicators(parameters: StrategyParameters, indicators: IndicatorSet, strategy_universe: TradingStrategyUniverse, execution_context: ExecutionContext):\n",
    "    # Calculate RSI for all pairs\n",
    "    indicators.add(\"rsi\", pandas_ta.rsi, {\"length\": parameters.rsi_length})  \n",
    "    # Custom: ETC/BTC close price\n",
    "    indicators.add(\"eth_btc\", calculate_eth_btc, source=IndicatorSource.strategy_universe)\n",
    "    # Custom: ETC/BTC RSI\n",
    "    # indicators.add(\"eth_btc_rsi\", calculate_eth_btc_rsi, parameters={\"length\": parameters.eth_btc_rsi_length}, source=IndicatorSource.strategy_universe)"
   ]
  },
  {
   "cell_type": "markdown",
   "metadata": {
    "collapsed": false
   },
   "source": [
    "# Trading algorithm"
   ]
  },
  {
   "cell_type": "code",
   "execution_count": null,
   "metadata": {
    "ExecuteTime": {
     "end_time": "2024-02-12T13:25:21.540230Z",
     "start_time": "2024-02-12T13:25:19.765405Z"
    },
    "collapsed": false
   },
   "outputs": [],
   "source": [
    "from tradeexecutor.strategy.pandas_trader.strategy_input import StrategyInput\n",
    "from tradingstrategy.utils.groupeduniverse import resample_candles\n",
    "from tradeexecutor.strategy.parameters import StrategyParameters\n",
    "from tradeexecutor.strategy.weighting import weight_equal, weight_by_1_slash_n, weight_passthrouh\n",
    "from tradeexecutor.strategy.alpha_model import AlphaModel\n",
    "import numpy as np\n",
    "from tradeexecutor.strategy.pandas_trader.position_manager import PositionManager\n",
    "from tradingstrategy.chain import ChainId\n",
    "from typing import List, Dict\n",
    "\n",
    "import pandas as pd\n",
    "\n",
    "from tradeexecutor.strategy.trading_strategy_universe import TradingStrategyUniverse\n",
    "from tradeexecutor.state.visualisation import PlotKind, PlotShape, PlotLabel\n",
    "from tradeexecutor.state.trade import TradeExecution\n",
    "from tradeexecutor.strategy.pricing_model import PricingModel\n",
    "from tradeexecutor.state.state import State\n",
    "\n",
    "\n",
    "\n",
    "def decide_trades(\n",
    "    input: StrategyInput,\n",
    ") -> List[TradeExecution]:\n",
    "    \n",
    "    # Resolve our pair metadata for our two pair strategy\n",
    "    parameters = input.parameters \n",
    "    position_manager = input.get_position_manager()\n",
    "    state = input.state\n",
    "    timestamp = input.timestamp\n",
    "    indicators = input.indicators\n",
    "    \n",
    "    alpha_model = AlphaModel(input.timestamp)\n",
    "    btc_pair = position_manager.get_trading_pair(our_pairs[0])\n",
    "    eth_pair = position_manager.get_trading_pair(our_pairs[1])\n",
    "    position_manager.log(\"decide_trades() start\")\n",
    "\n",
    "    # Resolve our pair metadata for our two pair strategy\n",
    "    parameters = input.parameters \n",
    "    position_manager = input.get_position_manager()\n",
    "    state = input.state\n",
    "    timestamp = input.timestamp\n",
    "    indicators = input.indicators\n",
    "    \n",
    "    alpha_model = AlphaModel(input.timestamp)\n",
    "    btc_pair = position_manager.get_trading_pair(our_pairs[0])\n",
    "    eth_pair = position_manager.get_trading_pair(our_pairs[1])\n",
    "    position_manager.log(\"decide_trades() start\")\n",
    "\n",
    "    #\n",
    "    # Indicators\n",
    "    #\n",
    "    # Calculate indicators for each pair.\n",
    "    #\n",
    "\n",
    "    # Per-trading pair calcualted data\n",
    "    current_rsi_values = {}  # RSI yesterday\n",
    "    previous_rsi_values = {}  # RSI day before yesterday\n",
    "    current_price = {}  # Close price yesterday\n",
    "    momentum = {btc_pair: 0, eth_pair: 0}\n",
    "    eth_btc_rsi_yesterday = None\n",
    "\n",
    "    for pair in [btc_pair, eth_pair]:        \n",
    "        current_price[pair] = indicators.get_price(pair)\n",
    "        current_rsi_values[pair] = indicators.get_indicator_value(\"rsi\", pair=pair)\n",
    "        previous_rsi_values[pair] = indicators.get_indicator_value(\"rsi\", index=-2, pair=pair)\n",
    "\n",
    "    eth_btc_yesterday = indicators.get_indicator_value(\"eth_btc\")\n",
    "    eth_btc_rsi_yesterday = indicators.get_indicator_value(\"eth_btc_rsi\")\n",
    "    if eth_btc_rsi_yesterday is not None:\n",
    "        momentum[eth_pair] = (eth_btc_rsi_yesterday - 50) ** 3\n",
    "        momentum[btc_pair] = (50 - momentum[eth_pair]) ** 3\n",
    "\n",
    "    #\n",
    "    # Trading logic\n",
    "    #\n",
    "\n",
    "    for pair in [btc_pair, eth_pair]:\n",
    "        existing_position = position_manager.get_current_position_for_pair(pair)\n",
    "        pair_open = existing_position is not None\n",
    "        pair_momentum = momentum.get(pair, 0)\n",
    "        signal_strength = max(pair_momentum, 0.1)  # Singal strength must be positive, as we do long-only\n",
    "        if pd.isna(signal_strength):\n",
    "            signal_strength = 0\n",
    "        alpha_model.set_signal(pair, 0)\n",
    "\n",
    "        if pair_open:\n",
    "            # We have existing open position for this pair,\n",
    "            # keep it open by default unless we get a trigger condition below\n",
    "            position_manager.log(f\"Pair {pair} already open\")\n",
    "            alpha_model.set_signal(pair, signal_strength, trailing_stop_loss=parameters.trailing_stop_loss)\n",
    "\n",
    "        if current_rsi_values[pair] and previous_rsi_values[pair]:\n",
    "\n",
    "            # Check for RSI crossing our threshold values in this cycle, compared to the previous cycle\n",
    "            rsi_cross_above = current_rsi_values[pair] >= parameters.rsi_high and previous_rsi_values[pair] < parameters.rsi_high\n",
    "            rsi_cross_below = current_rsi_values[pair] < parameters.rsi_low and previous_rsi_values[pair] > parameters.rsi_low\n",
    "\n",
    "            if not pair_open:\n",
    "                # Check for opening a position if no position is open\n",
    "                if rsi_cross_above:\n",
    "                    position_manager.log(f\"Pair {pair} crossed above\")\n",
    "                    alpha_model.set_signal(pair, signal_strength, trailing_stop_loss=parameters.trailing_stop_loss)\n",
    "            else:\n",
    "                # We have open position, check for the close condition\n",
    "                if rsi_cross_below:\n",
    "                    position_manager.log(f\"Pair {pair} crossed below\")\n",
    "                    alpha_model.set_signal(pair, 0)\n",
    "\n",
    "    # Use alpha model and construct a portfolio of two assets\n",
    "    alpha_model.select_top_signals(2)\n",
    "    alpha_model.assign_weights(weight_passthrouh)\n",
    "    alpha_model.normalise_weights()\n",
    "    alpha_model.update_old_weights(state.portfolio)\n",
    "    portfolio = position_manager.get_current_portfolio()\n",
    "    portfolio_target_value = portfolio.get_total_equity() * parameters.allocation\n",
    "    alpha_model.calculate_target_positions(position_manager, portfolio_target_value)\n",
    "    trades = alpha_model.generate_rebalance_trades_and_triggers(\n",
    "        position_manager,\n",
    "        min_trade_threshold=parameters.minimum_rebalance_trade_percent * portfolio.get_total_equity(),\n",
    "    )\n",
    "\n",
    "    #\n",
    "    # Visualisations\n",
    "    #\n",
    "\n",
    "    if input.is_visualisation_enabled():\n",
    "\n",
    "        visualisation = state.visualisation  # Helper class to visualise strategy output\n",
    "\n",
    "        visualisation.plot_indicator(\n",
    "            timestamp,\n",
    "            f\"ETH\",\n",
    "            PlotKind.technical_indicator_detached,\n",
    "            current_price[eth_pair],\n",
    "            colour=\"blue\",\n",
    "        )\n",
    "\n",
    "        # Draw BTC + ETH RSI between its trigger zones for this pair of we got a valid value for RSI for this pair\n",
    "\n",
    "        # BTC RSI daily\n",
    "        if pd.notna(current_rsi_values[btc_pair]):\n",
    "            visualisation.plot_indicator(\n",
    "                timestamp,\n",
    "                f\"RSI\",\n",
    "                PlotKind.technical_indicator_detached,\n",
    "                current_rsi_values[btc_pair],\n",
    "                colour=\"orange\",\n",
    "            )\n",
    "\n",
    "        # ETH RSI daily\n",
    "        if pd.notna(current_rsi_values[eth_pair]):\n",
    "            visualisation.plot_indicator(\n",
    "                timestamp,\n",
    "                f\"RSI ETH\",\n",
    "                PlotKind.technical_indicator_overlay_on_detached,\n",
    "                current_rsi_values[eth_pair],\n",
    "                colour=\"blue\",\n",
    "                label=PlotLabel.hidden,\n",
    "                detached_overlay_name=f\"RSI\",\n",
    "            )\n",
    "\n",
    "        # Low (vertical line)\n",
    "        visualisation.plot_indicator(\n",
    "            timestamp,\n",
    "            f\"RSI low trigger\",\n",
    "            PlotKind.technical_indicator_overlay_on_detached,\n",
    "            parameters.rsi_low,\n",
    "            detached_overlay_name=f\"RSI\",\n",
    "            plot_shape=PlotShape.horizontal_vertical,\n",
    "            colour=\"red\",\n",
    "            label=PlotLabel.hidden,\n",
    "        )\n",
    "\n",
    "        # High (vertical line)\n",
    "        visualisation.plot_indicator(\n",
    "            timestamp,\n",
    "            f\"RSI high trigger\",\n",
    "            PlotKind.technical_indicator_overlay_on_detached,\n",
    "            parameters.rsi_high,\n",
    "            detached_overlay_name=f\"RSI\",\n",
    "            plot_shape=PlotShape.horizontal_vertical,\n",
    "            colour=\"red\",\n",
    "            label=PlotLabel.hidden,\n",
    "        )\n",
    "\n",
    "        if eth_btc_yesterday is not None:\n",
    "            visualisation.plot_indicator(\n",
    "                timestamp,\n",
    "                f\"ETH/BTC\",\n",
    "                PlotKind.technical_indicator_detached,\n",
    "                eth_btc_yesterday,\n",
    "                colour=\"grey\",\n",
    "            )\n",
    "        \n",
    "        if eth_btc_rsi_yesterday is not None:\n",
    "            visualisation.plot_indicator(\n",
    "                timestamp,\n",
    "                f\"ETH/BTC RSI\",\n",
    "                PlotKind.technical_indicator_detached,\n",
    "                eth_btc_rsi_yesterday,\n",
    "                colour=\"grey\",\n",
    "            )\n",
    "\n",
    "        state.visualisation.add_calculations(timestamp, alpha_model.to_dict())  # Record alpha model thinking\n",
    "\n",
    "    return trades"
   ]
  },
  {
   "cell_type": "markdown",
   "metadata": {
    "collapsed": false
   },
   "source": [
    "# Search space\n",
    "\n",
    "Prepare the parameters we search."
   ]
  },
  {
   "cell_type": "code",
   "execution_count": null,
   "metadata": {
    "ExecuteTime": {
     "end_time": "2024-02-12T13:25:21.725394Z",
     "start_time": "2024-02-12T13:25:21.542713Z"
    },
    "collapsed": false
   },
   "outputs": [],
   "source": [
    "from pathlib import Path\n",
    "\n",
    "import pandas_ta\n",
    "\n",
    "from tradeexecutor.strategy.cycle import CycleDuration\n",
    "from tradeexecutor.backtest.grid_search import GridCombination, prepare_grid_combinations\n",
    "from tradeexecutor.strategy.execution_context import ExecutionContext\n",
    "from tradeexecutor.strategy.pandas_trader.indicator import IndicatorSet, IndicatorSource\n",
    "from tradeexecutor.strategy.parameters import StrategyParameters\n",
    "from tradeexecutor.strategy.trading_strategy_universe import TradingStrategyUniverse\n",
    "\n",
    "# This is the path where we keep the result files around\n",
    "storage_folder = Path(\"/tmp/v18-new-style-grid-saerch\")\n",
    "\n",
    "\n",
    "def calculate_eth_btc(strategy_universe: TradingStrategyUniverse):\n",
    "    \"\"\"ETH/BTC price series.\"\"\"\n",
    "    eth = strategy_universe.get_pair_by_human_description(our_pairs[0])\n",
    "    btc = strategy_universe.get_pair_by_human_description(our_pairs[1])    \n",
    "    btc_price = strategy_universe.data_universe.candles.get_candles_by_pair(eth.internal_id)\n",
    "    eth_price = strategy_universe.data_universe.candles.get_candles_by_pair(btc.internal_id)\n",
    "    series = eth_price[\"close\"] / btc_price[\"close\"]  # Divide two series\n",
    "    return series\n",
    "\n",
    "\n",
    "def calculate_eth_btc_rsi(strategy_universe: TradingStrategyUniverse, length: int):\n",
    "    \"\"\"ETH/BTC RSI series.\"\"\"\n",
    "    eth = strategy_universe.get_pair_by_human_description(our_pairs[0])\n",
    "    btc = strategy_universe.get_pair_by_human_description(our_pairs[1])    \n",
    "    btc_price = strategy_universe.data_universe.candles.get_candles_by_pair(eth.internal_id)\n",
    "    eth_price = strategy_universe.data_universe.candles.get_candles_by_pair(btc.internal_id)\n",
    "    series = eth_price[\"close\"] / btc_price[\"close\"]  # Divide two series\n",
    "    return pandas_ta.rsi(series, length=length)\n",
    "\n",
    "\n",
    "def create_indicators(parameters: StrategyParameters, indicators: IndicatorSet, strategy_universe: TradingStrategyUniverse, execution_context: ExecutionContext):\n",
    "    # Calculate RSI for all pairs\n",
    "    indicators.add(\"rsi\", pandas_ta.rsi, {\"length\": parameters.rsi_bars})  \n",
    "    # Custom: ETC/BTC close price\n",
    "    indicators.add(\"eth_btc\", calculate_eth_btc, source=IndicatorSource.strategy_universe)\n",
    "    # Custom: ETC/BTC RSI\n",
    "    indicators.add(\"eth_btc_rsi\", calculate_eth_btc_rsi, parameters={\"length\": parameters.eth_btc_rsi_bars}, source=IndicatorSource.strategy_universe)\n",
    "\n",
    "\n",
    "class StrategyParameters:\n",
    "    cycle_duration = CycleDuration.cycle_8h\n",
    "    rsi_bars = [7, 8, 10, 12, 14, 21]  # The length of RSI indicator\n",
    "    eth_btc_rsi_bars = 5  # The length of ETH/BTC RSI\n",
    "    rsi_high = [55, 60, 67, 70, 73, 77, 82] # RSI trigger threshold for decision making\n",
    "    rsi_low = [30, 40, 50, 60, 65, 70, 75]  # RSI trigger threshold for decision making\n",
    "    allocation = 0.85 # Allocate 90% of cash to each position\n",
    "    lookback_candles = 120\n",
    "    minimum_rebalance_trade_percent = 5.0  # Don't do trades that would have less than 500 USD value change\n",
    "    initial_cash = 10_000 # Start with 10k USD\n",
    "    trailing_stop_loss = [None]\n",
    "    # shift = [0, 2, 4, 6]\n",
    "\n",
    "# Popular grid search combinations and indicators for them\n",
    "combinations = prepare_grid_combinations(\n",
    "    StrategyParameters, \n",
    "    storage_folder,\n",
    "    create_indicators=create_indicators,\n",
    "    strategy_universe=strategy_universe,\n",
    ")\n",
    "\n",
    "indicators = GridCombination.get_all_indicators(combinations)\n",
    "\n",
    "print(f\"We prepared {len(combinations)} grid search combinations with total {len(indicators)} indicators which need to be calculated, data is cached at {storage_folder.resolve()}\")"
   ]
  },
  {
   "cell_type": "markdown",
   "metadata": {
    "collapsed": false
   },
   "source": [
    "# Grid search\n",
    "\n",
    "Run a grid search on the above function."
   ]
  },
  {
   "cell_type": "code",
   "execution_count": null,
   "metadata": {
    "ExecuteTime": {
     "end_time": "2024-02-12T13:25:56.691766Z",
     "start_time": "2024-02-12T13:25:21.726037Z"
    },
    "collapsed": false
   },
   "outputs": [],
   "source": [
    "from tradeexecutor.backtest.grid_search import perform_grid_search\n",
    "\n",
    "grid_search_results = perform_grid_search(\n",
    "    decide_trades,\n",
    "    strategy_universe,\n",
    "    combinations,\n",
    "    max_workers=8,\n",
    "    trading_strategy_engine_version=\"0.5\",\n",
    "    multiprocess=True,\n",
    ")"
   ]
  },
  {
   "cell_type": "markdown",
   "metadata": {
    "collapsed": false
   },
   "source": [
    "# Grid search result table\n",
    "\n",
    "- Show individual profit and risk for each grid combination"
   ]
  },
  {
   "cell_type": "code",
   "execution_count": null,
   "metadata": {
    "ExecuteTime": {
     "end_time": "2024-02-12T13:25:56.853534Z",
     "start_time": "2024-02-12T13:25:56.693518Z"
    },
    "collapsed": false
   },
   "outputs": [],
   "source": [
    "# Set Jupyter Notebook output mode parameters\n",
    "from tradeexecutor.analysis.grid_search import analyse_grid_search_result\n",
    "from tradeexecutor.analysis.grid_search import visualise_table\n",
    "\n",
    "# Print extension of our backtest\n",
    "print(f\"Grid search combinations available: {len(grid_search_results)}\")\n",
    "\n",
    "table = analyse_grid_search_result(grid_search_results)\n",
    "visualise_table(table)\n"
   ]
  },
  {
   "cell_type": "markdown",
   "metadata": {
    "collapsed": false
   },
   "source": [
    "# Heatmap\n",
    "\n",
    "- Verify that results look to cluster around certain values and do not follow a random pattern]"
   ]
  },
  {
   "cell_type": "code",
   "execution_count": null,
   "metadata": {
    "ExecuteTime": {
     "end_time": "2024-02-12T13:25:57.821918Z",
     "start_time": "2024-02-12T13:25:56.857061Z"
    },
    "collapsed": false
   },
   "outputs": [],
   "source": [
    "from tradeexecutor.analysis.grid_search import visualise_heatmap_2d\n",
    "\n",
    "\n",
    "# RSI length = 8\n",
    "heatmap_data = table.xs((8,), level=(\"rsi_bars\",))\n",
    "\n",
    "fig = visualise_heatmap_2d(heatmap_data, \"rsi_low\", \"rsi_high\", \"Sharpe\")\n",
    "display(fig)"
   ]
  },
  {
   "cell_type": "code",
   "execution_count": null,
   "metadata": {},
   "outputs": [],
   "source": [
    "from tradeexecutor.analysis.grid_search import visualise_heatmap_2d\n",
    "\n",
    "\n",
    "# RSI length = 9\n",
    "heatmap_data = table.xs((9, pd.NA), level=(\"rsi_bars\", \"trailing_stop_loss\"))\n",
    "\n",
    "fig = visualise_heatmap_2d(heatmap_data, \"rsi_low\", \"rsi_high\", \"CAGR\")\n",
    "display(fig)\n"
   ]
  },
  {
   "cell_type": "markdown",
   "metadata": {
    "collapsed": false
   },
   "source": [
    "# Equity curve comparison\n",
    "\n",
    "- Compare the equity curves of all grid search results\n",
    "- Show the grid search parameters as the tool tip\n",
    "- Add buy and hold benchmarks on the plot"
   ]
  },
  {
   "cell_type": "code",
   "execution_count": null,
   "metadata": {
    "ExecuteTime": {
     "end_time": "2024-02-12T13:26:01.605348Z",
     "start_time": "2024-02-12T13:25:57.829917Z"
    },
    "collapsed": false
   },
   "outputs": [],
   "source": [
    "from tradeexecutor.analysis.grid_search import visualise_grid_search_equity_curves\n",
    "from tradeexecutor.visual.benchmark import create_benchmark_equity_curves\n",
    "\n",
    "benchmark_indexes = create_benchmark_equity_curves(\n",
    "    strategy_universe,\n",
    "    {\"BTC\": our_pairs[0], \"ETH\": our_pairs[1]},\n",
    "    initial_cash=StrategyParameters.initial_cash,\n",
    ")\n",
    "\n",
    "fig = visualise_grid_search_equity_curves(\n",
    "    grid_search_results,\n",
    "    benchmark_indexes=benchmark_indexes,\n",
    "    log_y=True,\n",
    ")\n",
    "fig.show()"
   ]
  }
 ],
 "metadata": {
  "kernelspec": {
   "display_name": "Python 3 (ipykernel)",
   "language": "python",
   "name": "python3"
  },
  "language_info": {
   "codemirror_mode": {
    "name": "ipython",
    "version": 3
   },
   "file_extension": ".py",
   "mimetype": "text/x-python",
   "name": "python",
   "nbconvert_exporter": "python",
   "pygments_lexer": "ipython3",
   "version": "3.10.13"
  },
  "vscode": {
   "interpreter": {
    "hash": "f45fb66dacef78c495ceec56f258b06b84bd9cb2c0a9a6d3656125fb3c018996"
   }
  }
 },
 "nbformat": 4,
 "nbformat_minor": 4
}
