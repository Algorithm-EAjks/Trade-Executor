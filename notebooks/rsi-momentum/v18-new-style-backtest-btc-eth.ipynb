{
 "cells": [
  {
   "cell_type": "markdown",
   "metadata": {
    "collapsed": false
   },
   "source": [
    "# RSI momentum trading strategy example\n",
    "\n",
    "- This is a backtest example notebook\n",
    "    - New style grid search\n",
    "\n",
    "# Set up\n",
    "\n",
    "Set up Trading Strategy data client.\n"
   ]
  },
  {
   "cell_type": "code",
   "execution_count": null,
   "metadata": {
    "ExecuteTime": {
     "end_time": "2024-03-03T18:43:53.188627Z",
     "start_time": "2024-03-03T18:43:52.475743Z"
    },
    "collapsed": false
   },
   "outputs": [],
   "source": [
    "from tradeexecutor.utils.notebook import setup_charting_and_output\n",
    "from tradingstrategy.client import Client\n",
    "\n",
    "client = Client.create_jupyter_client()\n",
    "\n",
    "\n",
    "# Render for Github web viewer\n",
    "from tradeexecutor.utils.notebook import setup_charting_and_output, OutputMode\n",
    "\n",
    "setup_charting_and_output(OutputMode.static, image_format=\"png\", width=1500, height=1000)\n",
    "# etup_charting_and_output(width=1500, height=1000)"
   ]
  },
  {
   "cell_type": "markdown",
   "metadata": {
    "collapsed": false
   },
   "source": [
    "# Load data\n",
    "\n",
    "We use Binance data so we get a longer period of data."
   ]
  },
  {
   "cell_type": "code",
   "execution_count": null,
   "metadata": {
    "ExecuteTime": {
     "end_time": "2024-03-03T18:43:53.783565Z",
     "start_time": "2024-03-03T18:43:53.188425Z"
    },
    "collapsed": false
   },
   "outputs": [],
   "source": [
    "import datetime\n",
    "from tradingstrategy.timebucket import TimeBucket\n",
    "from tradingstrategy.chain import ChainId\n",
    "from tradeexecutor.utils.binance import create_binance_universe\n",
    "\n",
    "target_time_bucket = TimeBucket.h8  # Upsample shifted data to this time bucket\n",
    "\n",
    "strategy_universe = create_binance_universe(\n",
    "    [\"BTCUSDT\", \"ETHUSDT\"],   # Binance internal tickers later mapped to Trading strategy DEXPair metadata class\n",
    "    candle_time_bucket=TimeBucket.h8,\n",
    "    stop_loss_time_bucket=TimeBucket.h1,\n",
    "    start_at=datetime.datetime(2019, 1, 1),  # Backtest for 5 years data\n",
    "    end_at=datetime.datetime(2024, 2, 15),\n",
    "    include_lending=False\n",
    ")\n",
    "\n",
    "# List of pair descriptions we used to look up pair metadata\n",
    "our_pairs = [\n",
    "    (ChainId.centralised_exchange, \"binance\", \"BTC\", \"USDT\"),\n",
    "    (ChainId.centralised_exchange, \"binance\", \"ETH\", \"USDT\"),\n",
    "]\n",
    "\n"
   ]
  },
  {
   "cell_type": "markdown",
   "metadata": {
    "collapsed": false
   },
   "source": [
    "# Show loaded trading universe\n",
    "\n",
    "Display generic troubleshooting information about the loaded data."
   ]
  },
  {
   "cell_type": "code",
   "execution_count": null,
   "metadata": {
    "ExecuteTime": {
     "end_time": "2024-03-03T18:43:53.791401Z",
     "start_time": "2024-03-03T18:43:53.785295Z"
    },
    "collapsed": false
   },
   "outputs": [],
   "source": [
    "from tradingstrategy.chain import ChainId\n",
    "\n",
    "pairs = strategy_universe.data_universe.pairs  # Trading pairs metadata\n",
    "candles = strategy_universe.data_universe.candles  # Candles for all trading pairs\n",
    "\n",
    "print(f\"Loaded {candles.get_candle_count():,} candles.\")\n",
    "\n",
    "for pair in pairs.iterate_pairs():\n",
    "    pair_candles = candles.get_candles_by_pair(pair)\n",
    "    first_close = pair_candles.iloc[0][\"close\"]\n",
    "    first_close_at = pair_candles.index[0]\n",
    "    print(f\"Pair {pair} first close price {first_close} at {first_close_at}\")\n"
   ]
  },
  {
   "cell_type": "markdown",
   "metadata": {},
   "source": [
    "# Indicators\n",
    "\n",
    "- Prepare indicators needed for the grid"
   ]
  },
  {
   "cell_type": "code",
   "execution_count": null,
   "metadata": {
    "ExecuteTime": {
     "end_time": "2024-03-03T18:43:53.889691Z",
     "start_time": "2024-03-03T18:43:53.793351Z"
    }
   },
   "outputs": [],
   "source": [
    "import pandas_ta\n",
    "\n",
    "from tradeexecutor.strategy.execution_context import ExecutionContext\n",
    "from tradeexecutor.strategy.pandas_trader.indicator import IndicatorSet, IndicatorSource\n",
    "from tradeexecutor.strategy.parameters import StrategyParameters\n",
    "from tradeexecutor.strategy.trading_strategy_universe import TradingStrategyUniverse\n",
    "\n",
    "\n",
    "def calculate_eth_btc(strategy_universe: TradingStrategyUniverse):\n",
    "    eth = strategy_universe.get_pair_by_human_description(our_pairs[0])\n",
    "    btc = strategy_universe.get_pair_by_human_description(our_pairs[1])    \n",
    "    btc_price = strategy_universe.data_universe.candles.get_candles_by_pair(eth.internal_id)\n",
    "    eth_price = strategy_universe.data_universe.candles.get_candles_by_pair(btc.internal_id)\n",
    "    series = eth_price[\"close\"] / btc_price[\"close\"]  # Divide two series\n",
    "    return series\n",
    "\n",
    "def calculate_eth_btc_rsi(strategy_universe: TradingStrategyUniverse, length: int):\n",
    "    weth_usdc = strategy_universe.get_pair_by_human_description((ChainId.ethereum, \"test-dex\", \"WETH\", \"USDC\"))\n",
    "    wbtc_usdc = strategy_universe.get_pair_by_human_description((ChainId.ethereum, \"test-dex\", \"WBTC\", \"USDC\"))\n",
    "    btc_price = strategy_universe.data_universe.candles.get_candles_by_pair(wbtc_usdc.internal_id)\n",
    "    eth_price = strategy_universe.data_universe.candles.get_candles_by_pair(weth_usdc.internal_id)\n",
    "    eth_btc = eth_price[\"close\"] / btc_price[\"close\"]\n",
    "    return pandas_ta.rsi(eth_btc, length=length)\n",
    "\n",
    "def create_indicators(parameters: StrategyParameters, indicators: IndicatorSet, strategy_universe: TradingStrategyUniverse, execution_context: ExecutionContext):\n",
    "    # Calculate RSI for all pairs\n",
    "    indicators.add(\"rsi\", pandas_ta.rsi, {\"length\": parameters.rsi_length})  \n",
    "    # Custom: ETC/BTC close price\n",
    "    indicators.add(\"eth_btc\", calculate_eth_btc, source=IndicatorSource.strategy_universe)\n",
    "    # Custom: ETC/BTC RSI\n",
    "    # indicators.add(\"eth_btc_rsi\", calculate_eth_btc_rsi, parameters={\"length\": parameters.eth_btc_rsi_length}, source=IndicatorSource.strategy_universe)"
   ]
  },
  {
   "cell_type": "markdown",
   "metadata": {
    "collapsed": false
   },
   "source": [
    "# Trading algorithm"
   ]
  },
  {
   "cell_type": "code",
   "execution_count": null,
   "metadata": {
    "ExecuteTime": {
     "end_time": "2024-03-03T18:43:54.949706Z",
     "start_time": "2024-03-03T18:43:53.901061Z"
    },
    "collapsed": false
   },
   "outputs": [],
   "source": [
    "from tradeexecutor.strategy.pandas_trader.strategy_input import StrategyInput\n",
    "from tradingstrategy.utils.groupeduniverse import resample_candles\n",
    "from tradeexecutor.strategy.parameters import StrategyParameters\n",
    "from tradeexecutor.strategy.weighting import weight_equal, weight_by_1_slash_n, weight_passthrouh\n",
    "from tradeexecutor.strategy.alpha_model import AlphaModel\n",
    "import numpy as np\n",
    "from tradeexecutor.strategy.pandas_trader.position_manager import PositionManager\n",
    "from tradingstrategy.chain import ChainId\n",
    "from typing import List, Dict\n",
    "\n",
    "import pandas as pd\n",
    "\n",
    "from tradeexecutor.strategy.trading_strategy_universe import TradingStrategyUniverse\n",
    "from tradeexecutor.state.visualisation import PlotKind, PlotShape, PlotLabel\n",
    "from tradeexecutor.state.trade import TradeExecution\n",
    "from tradeexecutor.strategy.pricing_model import PricingModel\n",
    "from tradeexecutor.state.state import State\n",
    "\n",
    "\n",
    "\n",
    "def decide_trades(\n",
    "    input: StrategyInput,\n",
    ") -> List[TradeExecution]:\n",
    "    \n",
    "    # Resolve our pair metadata for our two pair strategy\n",
    "    parameters = input.parameters \n",
    "    position_manager = input.get_position_manager()\n",
    "    state = input.state\n",
    "    timestamp = input.timestamp\n",
    "    indicators = input.indicators\n",
    "    \n",
    "    alpha_model = AlphaModel(input.timestamp)\n",
    "    btc_pair = position_manager.get_trading_pair(our_pairs[0])\n",
    "    eth_pair = position_manager.get_trading_pair(our_pairs[1])\n",
    "    position_manager.log(\"decide_trades() start\")\n",
    "\n",
    "    #\n",
    "    # Indicators\n",
    "    #\n",
    "    # Calculate indicators for each pair.\n",
    "    #\n",
    "\n",
    "    # Per-trading pair calcualted data\n",
    "    current_rsi_values = {}  # RSI yesterday\n",
    "    previous_rsi_values = {}  # RSI day before yesterday\n",
    "    current_price = {}  # Close price yesterday\n",
    "    momentum = {btc_pair: 0, eth_pair: 0}\n",
    "    eth_btc_rsi_yesterday = None\n",
    "\n",
    "    for pair in [btc_pair, eth_pair]:        \n",
    "        current_price[pair] = indicators.get_price(pair)\n",
    "        current_rsi_values[pair] = indicators.get_indicator_value(\"rsi\", pair=pair)\n",
    "        previous_rsi_values[pair] = indicators.get_indicator_value(\"rsi\", index=-2, pair=pair)\n",
    "\n",
    "    eth_btc_yesterday = indicators.get_indicator_value(\"eth_btc\")\n",
    "    eth_btc_rsi_yesterday = indicators.get_indicator_value(\"eth_btc_rsi\")\n",
    "    if eth_btc_rsi_yesterday is not None:\n",
    "        momentum[eth_pair] = (eth_btc_rsi_yesterday - 50) ** 3\n",
    "        momentum[btc_pair] = (50 - momentum[eth_pair]) ** 3\n",
    "\n",
    "    #\n",
    "    # Trading logic\n",
    "    #\n",
    "\n",
    "    for pair in [btc_pair, eth_pair]:\n",
    "        existing_position = position_manager.get_current_position_for_pair(pair)\n",
    "        pair_open = existing_position is not None\n",
    "        pair_momentum = momentum.get(pair, 0)\n",
    "        signal_strength = max(pair_momentum, 0.1)  # Singal strength must be positive, as we do long-only\n",
    "        if pd.isna(signal_strength):\n",
    "            signal_strength = 0\n",
    "        alpha_model.set_signal(pair, 0)\n",
    "\n",
    "        if pair_open:\n",
    "            # We have existing open position for this pair,\n",
    "            # keep it open by default unless we get a trigger condition below\n",
    "            position_manager.log(f\"Pair {pair} already open\")\n",
    "            alpha_model.set_signal(pair, signal_strength, trailing_stop_loss=parameters.trailing_stop_loss)\n",
    "\n",
    "        if current_rsi_values[pair] and previous_rsi_values[pair]:\n",
    "\n",
    "            # Check for RSI crossing our threshold values in this cycle, compared to the previous cycle\n",
    "            rsi_cross_above = current_rsi_values[pair] >= parameters.rsi_high and previous_rsi_values[pair] < parameters.rsi_high\n",
    "            rsi_cross_below = current_rsi_values[pair] < parameters.rsi_low and previous_rsi_values[pair] > parameters.rsi_low\n",
    "\n",
    "            if not pair_open:\n",
    "                # Check for opening a position if no position is open\n",
    "                if rsi_cross_above:\n",
    "                    position_manager.log(f\"Pair {pair} crossed above\")\n",
    "                    alpha_model.set_signal(pair, signal_strength, trailing_stop_loss=parameters.trailing_stop_loss)\n",
    "            else:\n",
    "                # We have open position, check for the close condition\n",
    "                if rsi_cross_below:\n",
    "                    position_manager.log(f\"Pair {pair} crossed below\")\n",
    "                    alpha_model.set_signal(pair, 0)\n",
    "    \n",
    "    # Enable trailing stop loss if we have reached the activation level\n",
    "    if parameters.trailing_stop_loss_activation_level is not None:\n",
    "       for p in state.portfolio.open_positions.values():\n",
    "           if p.trailing_stop_loss_pct is None:\n",
    "               if current_price[p.pair] >= p.get_opening_price() * parameters.trailing_stop_loss_activation_level:\n",
    "                   p.trailing_stop_loss_pct = parameters.trailing_stop_loss\n",
    "\n",
    "    # Use alpha model and construct a portfolio of two assets\n",
    "    alpha_model.select_top_signals(2)\n",
    "    alpha_model.assign_weights(weight_passthrouh)\n",
    "    alpha_model.normalise_weights()\n",
    "    alpha_model.update_old_weights(state.portfolio)\n",
    "    portfolio = position_manager.get_current_portfolio()\n",
    "    portfolio_target_value = portfolio.get_total_equity() * parameters.allocation\n",
    "    alpha_model.calculate_target_positions(position_manager, portfolio_target_value)\n",
    "    trades = alpha_model.generate_rebalance_trades_and_triggers(\n",
    "        position_manager,\n",
    "        min_trade_threshold=parameters.minimum_rebalance_trade_percent * portfolio.get_total_equity(),\n",
    "    )\n",
    "\n",
    "    #\n",
    "    # Visualisations\n",
    "    #\n",
    "\n",
    "    visualisation = state.visualisation  # Helper class to visualise strategy output\n",
    "\n",
    "    visualisation.plot_indicator(\n",
    "        timestamp,\n",
    "        f\"ETH\",\n",
    "        PlotKind.technical_indicator_detached,\n",
    "        current_price[eth_pair],\n",
    "        colour=\"blue\",\n",
    "    )\n",
    "\n",
    "    # Draw BTC + ETH RSI between its trigger zones for this pair of we got a valid value for RSI for this pair\n",
    "\n",
    "    # BTC RSI daily\n",
    "    if current_rsi_values[btc_pair]:\n",
    "        visualisation.plot_indicator(\n",
    "            timestamp,\n",
    "            f\"RSI BTC\",\n",
    "            PlotKind.technical_indicator_detached,\n",
    "            current_rsi_values[btc_pair],\n",
    "            colour=\"orange\",\n",
    "        )\n",
    "            \n",
    "\n",
    "        # Low (vertical line)\n",
    "        visualisation.plot_indicator(\n",
    "            timestamp,\n",
    "            f\"RSI low trigger\",\n",
    "            PlotKind.technical_indicator_overlay_on_detached,\n",
    "            parameters.rsi_low,\n",
    "            detached_overlay_name=f\"RSI BTC\",\n",
    "            plot_shape=PlotShape.horizontal_vertical,\n",
    "            colour=\"red\",\n",
    "            label=PlotLabel.hidden,\n",
    "        )\n",
    "\n",
    "        # High (vertical line)\n",
    "        visualisation.plot_indicator(\n",
    "            timestamp,\n",
    "            f\"RSI high trigger\",\n",
    "            PlotKind.technical_indicator_overlay_on_detached,\n",
    "            parameters.rsi_high,\n",
    "            detached_overlay_name=f\"RSI BTC\",\n",
    "            plot_shape=PlotShape.horizontal_vertical,\n",
    "            colour=\"red\",\n",
    "            label=PlotLabel.hidden,\n",
    "        )        \n",
    "        \n",
    "    # ETH RSI daily\n",
    "    if current_rsi_values[eth_pair]:\n",
    "        visualisation.plot_indicator(\n",
    "            timestamp,\n",
    "            f\"RSI ETH\",\n",
    "            PlotKind.technical_indicator_overlay_on_detached,\n",
    "            current_rsi_values[eth_pair],\n",
    "            colour=\"blue\",\n",
    "            label=PlotLabel.hidden,\n",
    "            detached_overlay_name=f\"RSI BTC\",\n",
    "        )\n",
    "\n",
    "    if eth_btc_yesterday is not None:\n",
    "        visualisation.plot_indicator(\n",
    "            timestamp,\n",
    "            f\"ETH/BTC\",\n",
    "            PlotKind.technical_indicator_detached,\n",
    "            eth_btc_yesterday,\n",
    "            colour=\"grey\",\n",
    "        )\n",
    "    \n",
    "    if eth_btc_rsi_yesterday is not None:\n",
    "        visualisation.plot_indicator(\n",
    "            timestamp,\n",
    "            f\"ETH/BTC RSI\",\n",
    "            PlotKind.technical_indicator_detached,\n",
    "            eth_btc_rsi_yesterday,\n",
    "            colour=\"grey\",\n",
    "        )\n",
    "\n",
    "    # Slow function warning\n",
    "    # state.visualisation.add_calculations(timestamp, alpha_model.to_dict())  # Record alpha model thinking\n",
    "\n",
    "    position_manager.log(\n",
    "        f\"BTC RSI: {current_rsi_values[btc_pair]}, BTC RSI yesterday: {previous_rsi_values[btc_pair]}, ETH/BTC: {eth_btc_yesterday}, ETH/BTC RSI: {eth_btc_rsi_yesterday}\",\n",
    "    )\n",
    "\n",
    "    return trades"
   ]
  },
  {
   "cell_type": "markdown",
   "metadata": {
    "collapsed": false
   },
   "source": [
    "# Strategy indicators\n",
    "\n",
    "- Set up indicators used to decide trades\n",
    "- Indicator data will be precalculated and cached between strategy runs \n",
    "- The actual calculation is run (if needed) later on `run_backtest_inline()` call"
   ]
  },
  {
   "cell_type": "code",
   "execution_count": null,
   "metadata": {
    "ExecuteTime": {
     "end_time": "2024-03-03T18:43:54.953930Z",
     "start_time": "2024-03-03T18:43:54.948925Z"
    },
    "collapsed": false
   },
   "outputs": [],
   "source": [
    "import pandas_ta\n",
    "\n",
    "from tradeexecutor.strategy.cycle import CycleDuration\n",
    "from tradeexecutor.strategy.execution_context import ExecutionContext\n",
    "from tradeexecutor.strategy.pandas_trader.indicator import IndicatorSet, IndicatorSource\n",
    "from tradeexecutor.strategy.parameters import StrategyParameters\n",
    "from tradeexecutor.strategy.trading_strategy_universe import TradingStrategyUniverse\n",
    "\n",
    "\n",
    "def calculate_eth_btc(strategy_universe: TradingStrategyUniverse):\n",
    "    \"\"\"ETH/BTC price series.\n",
    "    \n",
    "    - A custom indicator we add\n",
    "    \"\"\"\n",
    "    eth = strategy_universe.get_pair_by_human_description(our_pairs[0])\n",
    "    btc = strategy_universe.get_pair_by_human_description(our_pairs[1])    \n",
    "    btc_price = strategy_universe.data_universe.candles.get_candles_by_pair(eth.internal_id)\n",
    "    eth_price = strategy_universe.data_universe.candles.get_candles_by_pair(btc.internal_id)\n",
    "    series = eth_price[\"close\"] / btc_price[\"close\"]  # Divide two series\n",
    "    return series\n",
    "\n",
    "\n",
    "def calculate_eth_btc_rsi(strategy_universe: TradingStrategyUniverse, length: int):\n",
    "    \"\"\"ETH/BTC RSI series.\n",
    "    \n",
    "    - A custom indicator we add\n",
    "    \"\"\"\n",
    "    eth = strategy_universe.get_pair_by_human_description(our_pairs[0])\n",
    "    btc = strategy_universe.get_pair_by_human_description(our_pairs[1])    \n",
    "    btc_price = strategy_universe.data_universe.candles.get_candles_by_pair(eth.internal_id)\n",
    "    eth_price = strategy_universe.data_universe.candles.get_candles_by_pair(btc.internal_id)\n",
    "    series = eth_price[\"close\"] / btc_price[\"close\"]  # Divide two series\n",
    "    return pandas_ta.rsi(series, length=length)\n",
    "\n",
    "\n",
    "def create_indicators(parameters: StrategyParameters, indicators: IndicatorSet, strategy_universe: TradingStrategyUniverse, execution_context: ExecutionContext):\n",
    "    \"\"\"Set up 3 indicators for this strategy\"\"\"    \n",
    "    indicators.add(\"rsi\", pandas_ta.rsi, {\"length\": parameters.rsi_bars})  # Calculate RSI for all pairs    \n",
    "    indicators.add(\"eth_btc\", calculate_eth_btc, source=IndicatorSource.strategy_universe)  # Custom: ETC/BTC close price    \n",
    "    indicators.add(\"eth_btc_rsi\", calculate_eth_btc_rsi, parameters={\"length\": parameters.eth_btc_rsi_bars}, source=IndicatorSource.strategy_universe)  # Custom: ETC/BTC RSI\n"
   ]
  },
  {
   "cell_type": "markdown",
   "metadata": {},
   "source": [
    "# Parameters\n",
    "\n",
    "- Set up strategy parameters for this backtest run"
   ]
  },
  {
   "cell_type": "code",
   "execution_count": null,
   "metadata": {
    "ExecuteTime": {
     "end_time": "2024-03-03T18:43:54.956518Z",
     "start_time": "2024-03-03T18:43:54.954880Z"
    }
   },
   "outputs": [],
   "source": [
    "class MyStrategyParameters:\n",
    "    cycle_duration = CycleDuration.cycle_8h\n",
    "    rsi_bars = 12\n",
    "    eth_btc_rsi_bars = 5  # The length of ETH/BTC RSI\n",
    "    rsi_high = 67\n",
    "    rsi_low = 60\n",
    "    allocation = 0.98 # Allocate 90% of cash to each position\n",
    "    lookback_candles = 120\n",
    "    minimum_rebalance_trade_percent = 0.05  # Don't do trades that would have less than 500 USD value change\n",
    "    initial_cash = 10_000 # Start with 10k USD\n",
    "    trailing_stop_loss = None\n",
    "    trailing_stop_loss_activation_level = None"
   ]
  },
  {
   "cell_type": "markdown",
   "metadata": {
    "collapsed": false
   },
   "source": [
    "# Backtest\n",
    "\n",
    "Run the backtest."
   ]
  },
  {
   "cell_type": "code",
   "execution_count": null,
   "metadata": {
    "ExecuteTime": {
     "end_time": "2024-03-03T18:44:00.184763Z",
     "start_time": "2024-03-03T18:43:54.957693Z"
    },
    "collapsed": false
   },
   "outputs": [],
   "source": [
    "from tradeexecutor.backtest.backtest_runner import run_backtest_inline\n",
    "\n",
    "state, _, diagnostics_data = run_backtest_inline(\n",
    "    name=\"RSI multipair\",\n",
    "    engine_version=\"0.5\",\n",
    "    decide_trades=decide_trades,\n",
    "    create_indicators=create_indicators,\n",
    "    client=client,\n",
    "    universe=strategy_universe,\n",
    "    parameters=StrategyParameters.from_class(MyStrategyParameters),\n",
    "    strategy_logging=False,\n",
    ")\n",
    "\n",
    "trade_count = len(list(state.portfolio.get_all_trades()))\n",
    "print(f\"Backtesting completed, backtested strategy made {trade_count} trades\")"
   ]
  },
  {
   "cell_type": "markdown",
   "metadata": {},
   "source": [
    "# Diagnostics\n",
    "\n",
    "- Some quick smoke checks about the execution\n",
    "- Peak inside the raw data of our custom indicators"
   ]
  },
  {
   "cell_type": "code",
   "execution_count": null,
   "metadata": {},
   "outputs": [],
   "source": [
    "from tradeexecutor.strategy.pandas_trader.strategy_input import StrategyInputIndicators\n",
    "\n",
    "indicators: StrategyInputIndicators = diagnostics_data[\"indicators\"]\n",
    "eth_btc = indicators.get_indicator_series(\"eth_btc\")\n",
    "display(eth_btc)"
   ]
  },
  {
   "cell_type": "code",
   "execution_count": null,
   "metadata": {},
   "outputs": [],
   "source": [
    "eth_btc_rsi = indicators.get_indicator_series(\"eth_btc_rsi\")\n",
    "display(eth_btc_rsi)"
   ]
  },
  {
   "cell_type": "markdown",
   "metadata": {},
   "source": [
    "# Equity curve"
   ]
  },
  {
   "cell_type": "code",
   "execution_count": null,
   "metadata": {
    "ExecuteTime": {
     "end_time": "2024-03-03T18:44:00.902546Z",
     "start_time": "2024-03-03T18:44:00.214900Z"
    }
   },
   "outputs": [],
   "source": [
    "from tradeexecutor.visual.benchmark import visualise_equity_curve_benchmark\n",
    "\n",
    "btc_pair = strategy_universe.data_universe.pairs.get_pair_by_human_description(our_pairs[0])\n",
    "eth_pair = strategy_universe.data_universe.pairs.get_pair_by_human_description(our_pairs[1])\n",
    "\n",
    "benchmark_indexes = pd.DataFrame({\n",
    "    \"BTC\": strategy_universe.data_universe.candles.get_candles_by_pair(btc_pair)[\"close\"],\n",
    "    \"ETH\": strategy_universe.data_universe.candles.get_candles_by_pair(eth_pair)[\"close\"],\n",
    "})\n",
    "benchmark_indexes[\"BTC\"].attrs = {\"colour\": \"orange\", \"name\": \"Buy and hold BTC\"}\n",
    "benchmark_indexes[\"ETH\"].attrs = {\"colour\": \"blue\", \"name\": \"Buy and hold ETH\"}\n",
    "\n",
    "fig = visualise_equity_curve_benchmark(\n",
    "    name=state.name,\n",
    "    portfolio_statistics=state.stats.portfolio,\n",
    "    all_cash=state.portfolio.get_initial_deposit(),\n",
    "    benchmark_indexes=benchmark_indexes,\n",
    "    height=800,\n",
    "    log_y=True,\n",
    ")\n",
    "\n",
    "fig.show()"
   ]
  },
  {
   "cell_type": "markdown",
   "metadata": {},
   "source": [
    "# Strategy visualisation\n",
    "\n",
    "- Show indicators and trades"
   ]
  },
  {
   "cell_type": "code",
   "execution_count": null,
   "metadata": {
    "ExecuteTime": {
     "end_time": "2024-03-03T18:44:03.561985Z",
     "start_time": "2024-03-03T18:44:00.902781Z"
    }
   },
   "outputs": [],
   "source": [
    "from tradeexecutor.visual.single_pair import visualise_single_pair\n",
    "from tradingstrategy.charting.candle_chart import VolumeBarMode\n",
    "\n",
    "# Use BTC pair as the primary price source\n",
    "# Get BTC pair\n",
    "btc_pair = pairs.get_pair_by_human_description(our_pairs[0])\n",
    "\n",
    "figure = visualise_single_pair(\n",
    "    state,\n",
    "    strategy_universe.data_universe.candles,\n",
    "    pair_id=btc_pair.pair_id,\n",
    "    volume_bar_mode=VolumeBarMode.hidden,\n",
    "    height = 2000,\n",
    ")\n",
    "\n",
    "figure.show()"
   ]
  },
  {
   "cell_type": "markdown",
   "metadata": {},
   "source": [
    "# Benchmark\n",
    "\n",
    "- Benchmark the strategy against buy and hold Bitcoin\n",
    "- We are compensating volatility and draw down for lesser returns\n",
    "\n"
   ]
  },
  {
   "cell_type": "code",
   "execution_count": null,
   "metadata": {
    "ExecuteTime": {
     "end_time": "2024-03-03T18:44:04.308604Z",
     "start_time": "2024-03-03T18:44:03.561877Z"
    }
   },
   "outputs": [],
   "source": [
    "from tradeexecutor.visual.equity_curve import calculate_equity_curve, calculate_returns, generate_buy_and_hold_returns\n",
    "from tradeexecutor.analysis.advanced_metrics import visualise_advanced_metrics, AdvancedMetricsMode\n",
    "\n",
    "equity = calculate_equity_curve(state)\n",
    "returns = calculate_returns(equity)\n",
    "benchmark_returns = generate_buy_and_hold_returns(benchmark_indexes[\"ETH\"])\n",
    "\n",
    "metrics = visualise_advanced_metrics(\n",
    "    returns,\n",
    "    mode=AdvancedMetricsMode.full,\n",
    "    benchmark=benchmark_returns,\n",
    ")\n",
    "\n",
    "display(metrics)"
   ]
  }
 ],
 "metadata": {
  "kernelspec": {
   "display_name": "Python 3 (ipykernel)",
   "language": "python",
   "name": "python3"
  },
  "language_info": {
   "codemirror_mode": {
    "name": "ipython",
    "version": 3
   },
   "file_extension": ".py",
   "mimetype": "text/x-python",
   "name": "python",
   "nbconvert_exporter": "python",
   "pygments_lexer": "ipython3",
   "version": "3.10.13"
  },
  "vscode": {
   "interpreter": {
    "hash": "f45fb66dacef78c495ceec56f258b06b84bd9cb2c0a9a6d3656125fb3c018996"
   }
  }
 },
 "nbformat": 4,
 "nbformat_minor": 4
}
