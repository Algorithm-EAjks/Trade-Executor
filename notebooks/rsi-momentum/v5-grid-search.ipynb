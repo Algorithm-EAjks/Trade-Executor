{
 "cells": [
  {
   "cell_type": "markdown",
   "source": [
    "# RSI momentum trading strategy example\n",
    "\n",
    "- This is a backtest example notebook\n",
    "    - This notebook does a grid search over parameters of v4 notebook\n",
    "\n",
    "# Set up\n",
    "\n",
    "Set up Trading Strategy data client.\n"
   ],
   "metadata": {
    "collapsed": false
   }
  },
  {
   "cell_type": "code",
   "execution_count": 7,
   "outputs": [
    {
     "name": "stdout",
     "output_type": "stream",
     "text": [
      "Started Trading Strategy in Jupyter notebook environment, configuration is stored in /Users/moo/.tradingstrategy\n"
     ]
    }
   ],
   "source": [
    "from tradeexecutor.utils.notebook import setup_charting_and_output\n",
    "from tradingstrategy.client import Client\n",
    "\n",
    "client = Client.create_jupyter_client()\n",
    "\n",
    "setup_charting_and_output()  # Set chart and table output formatting options"
   ],
   "metadata": {
    "collapsed": false,
    "ExecuteTime": {
     "end_time": "2024-02-08T17:32:02.931434Z",
     "start_time": "2024-02-08T17:32:02.917064Z"
    }
   }
  },
  {
   "cell_type": "markdown",
   "source": [
    "# Load data\n",
    "\n",
    "We use Binance data so we get a longer period of data."
   ],
   "metadata": {
    "collapsed": false
   }
  },
  {
   "cell_type": "code",
   "execution_count": 8,
   "outputs": [
    {
     "data": {
      "text/plain": "  0%|          | 0/2 [00:00<?, ?it/s]",
      "application/vnd.jupyter.widget-view+json": {
       "version_major": 2,
       "version_minor": 0,
       "model_id": "c7b12e6a19b74f08840d19c12c0b99b6"
      }
     },
     "metadata": {},
     "output_type": "display_data"
    }
   ],
   "source": [
    "import datetime\n",
    "from tradingstrategy.timebucket import TimeBucket\n",
    "from tradeexecutor.utils.binance import create_binance_universe\n",
    "\n",
    "strategy_universe = create_binance_universe(\n",
    "    [\"BTCUSDT\", \"ETHUSDT\"],   # Binance internal tickers later mapped to Trading strategy DEXPair metadata class\n",
    "    candle_time_bucket=TimeBucket.d1,\n",
    "    stop_loss_time_bucket=TimeBucket.h4,\n",
    "    start_at=datetime.datetime(2019, 1, 1),  # Backtest for 5 years data\n",
    "    end_at=datetime.datetime(2024, 1, 1),\n",
    "    include_lending=False\n",
    ")\n"
   ],
   "metadata": {
    "collapsed": false,
    "ExecuteTime": {
     "end_time": "2024-02-08T17:32:03.033716Z",
     "start_time": "2024-02-08T17:32:02.924230Z"
    }
   }
  },
  {
   "cell_type": "markdown",
   "source": [
    "# Show loaded trading universe\n",
    "\n",
    "Display generic troubleshooting information about the loaded data."
   ],
   "metadata": {
    "collapsed": false
   }
  },
  {
   "cell_type": "code",
   "execution_count": 9,
   "outputs": [
    {
     "name": "stdout",
     "output_type": "stream",
     "text": [
      "Loaded 21,914 candles.\n",
      "Pair <Pair #1 BTC - USDT at exchange binance> first close price 3693.13 at 2019-01-01 00:00:00\n",
      "Pair <Pair #2 ETH - USDT at exchange binance> first close price 131.32 at 2019-01-01 00:00:00\n"
     ]
    }
   ],
   "source": [
    "pairs = strategy_universe.data_universe.pairs  # Trading pairs metadata\n",
    "candles = strategy_universe.data_universe.candles  # Candles for all trading pairs\n",
    "\n",
    "print(f\"Loaded {candles.get_candle_count():,} candles.\")\n",
    "\n",
    "for pair in pairs.iterate_pairs():\n",
    "    pair_candles = candles.get_candles_by_pair(pair)\n",
    "    first_close = pair_candles.iloc[0][\"close\"]\n",
    "    first_close_at = pair_candles.index[0]\n",
    "    print(f\"Pair {pair} first close price {first_close} at {first_close_at}\")"
   ],
   "metadata": {
    "collapsed": false,
    "ExecuteTime": {
     "end_time": "2024-02-08T17:32:03.041203Z",
     "start_time": "2024-02-08T17:32:03.035717Z"
    }
   }
  },
  {
   "cell_type": "markdown",
   "source": [
    "# Trading algorithm"
   ],
   "metadata": {
    "collapsed": false
   }
  },
  {
   "cell_type": "code",
   "execution_count": 10,
   "outputs": [],
   "source": [
    "from tradeexecutor.strategy.parameters import StrategyParameters\n",
    "from tradeexecutor.strategy.weighting import weight_equal, weight_by_1_slash_n, weight_passthrouh\n",
    "from tradeexecutor.strategy.alpha_model import AlphaModel\n",
    "import numpy as np\n",
    "from tradeexecutor.strategy.pandas_trader.position_manager import PositionManager\n",
    "from tradingstrategy.chain import ChainId\n",
    "from typing import List, Dict\n",
    "\n",
    "from pandas_ta.momentum import rsi\n",
    "import pandas as pd\n",
    "\n",
    "from tradeexecutor.strategy.trading_strategy_universe import TradingStrategyUniverse\n",
    "from tradeexecutor.state.visualisation import PlotKind, PlotShape, PlotLabel\n",
    "from tradeexecutor.state.trade import TradeExecution\n",
    "from tradeexecutor.strategy.pricing_model import PricingModel\n",
    "from tradeexecutor.state.state import State\n",
    "\n",
    "# List of pair descriptions we used to look up pair metadata\n",
    "our_pairs = [\n",
    "    (ChainId.centralised_exchange, \"binance\", \"BTC\", \"USDT\"),\n",
    "    (ChainId.centralised_exchange, \"binance\", \"ETH\", \"USDT\"),\n",
    "]\n",
    "\n",
    "def decide_trades(\n",
    "    timestamp: pd.Timestamp,\n",
    "    parameters: StrategyParameters,\n",
    "    strategy_universe: TradingStrategyUniverse,\n",
    "    state: State,\n",
    "    pricing_model: PricingModel,\n",
    ") -> List[TradeExecution]:\n",
    "\n",
    "    # Resolve our pair metadata for our two pair strategy\n",
    "    position_manager = PositionManager(timestamp, strategy_universe, state, pricing_model)\n",
    "    alpha_model = AlphaModel(timestamp)\n",
    "    btc_pair = position_manager.get_trading_pair(our_pairs[0])\n",
    "    eth_pair = position_manager.get_trading_pair(our_pairs[1])\n",
    "\n",
    "    position_manager.log(\"decide_trades() start\")\n",
    "\n",
    "    #\n",
    "    # Indicators\n",
    "    #\n",
    "    # Calculate indicators for each pair.\n",
    "    #\n",
    "\n",
    "    # Per-trading pair calcualted data\n",
    "    close_prices = {btc_pair: None, eth_pair: None}  # Recent close prices\n",
    "    current_rsi_values = {}  # RSI yesterday\n",
    "    previous_rsi_values = {}  # RSI day before yesterday\n",
    "    current_price = {}  # Close price yesterday\n",
    "    momentum = {btc_pair: 0, eth_pair: 0}\n",
    "    eth_btc_rsi_yesterday = None\n",
    "\n",
    "    for pair in [btc_pair, eth_pair]:\n",
    "\n",
    "        pair_candles = candles.get_last_entries_by_pair_and_timestamp(pair.internal_id, timestamp)\n",
    "        close_prices[pair] = pair_candles[\"close\"]\n",
    "\n",
    "        assert pair_candles is not None\n",
    "        rsi_series = rsi(pair_candles[\"close\"], length=parameters.rsi_days)  # Will return None if the data buffer does not have enough days to look back\n",
    "\n",
    "        # Reset indicators for this cycle and this pair\n",
    "        current_rsi_values[pair] = None\n",
    "        previous_rsi_values[pair] = None\n",
    "        current_price[pair] = None\n",
    "        price_today = None\n",
    "\n",
    "        if len(pair_candles) > 0:\n",
    "            # We have enough data to get the latest price\n",
    "            current_price[pair] = price_today = pair_candles[\"close\"][-1]\n",
    "\n",
    "        if rsi_series is not None:\n",
    "            current_val = rsi_series[-1]\n",
    "            if np.isfinite(current_val):\n",
    "                # We have enough data and good value for RSI\n",
    "                assert 0 < current_val < 100, f\"RSI sanity check failed: {pair}: {current_val}\"  # Check we are in expected range\n",
    "                current_rsi_values[pair] = current_val\n",
    "\n",
    "            previous_val = rsi_series[-2]\n",
    "            if np.isfinite(previous_val):\n",
    "                # We have enough data and good value for RSI\n",
    "                assert 0 < previous_val < 100, f\"RSI sanity check failed: {pair}: {previous_val}\"  # Check we are in expected range\n",
    "                previous_rsi_values[pair] = previous_val\n",
    "\n",
    "            previous_rsi_values[pair] = previous_val\n",
    "\n",
    "    eth_btc_price = close_prices[eth_pair] / close_prices[btc_pair]\n",
    "    eth_btc_rsi = rsi(eth_btc_price, length=parameters.eth_btc_rsi_days)\n",
    "    if eth_btc_rsi is not None:\n",
    "        eth_btc_rsi_yesterday = eth_btc_rsi[-1]\n",
    "        momentum[eth_pair] = eth_btc_rsi_yesterday / 100\n",
    "        momentum[btc_pair] = 1 - momentum[eth_pair]\n",
    "\n",
    "    #\n",
    "    # Trading logic\n",
    "    #\n",
    "\n",
    "    for pair in [btc_pair, eth_pair]:\n",
    "\n",
    "        existing_position = position_manager.get_current_position_for_pair(pair)\n",
    "        pair_open = existing_position is not None\n",
    "        pair_momentum = momentum.get(pair, 0)\n",
    "        signal_strength = max(pair_momentum, 0.1)  # Singal strength must be positive, as we do long-only\n",
    "        if pd.isna(signal_strength):\n",
    "            signal_strength = 0\n",
    "        alpha_model.set_signal(pair, 0)\n",
    "\n",
    "        if pair_open:\n",
    "            # We have existing open position for this pair,\n",
    "            # keep it open by default unless we get a trigger condition below\n",
    "            position_manager.log(f\"Pair {pair} already open\")\n",
    "            alpha_model.set_signal(pair, signal_strength)\n",
    "\n",
    "        if current_rsi_values[pair] and previous_rsi_values[pair]:\n",
    "\n",
    "            # Check for RSI crossing our threshold values in this cycle, compared to the previous cycle\n",
    "            rsi_cross_above = current_rsi_values[pair] >= parameters.rsi_high and previous_rsi_values[btc_pair] < parameters.rsi_high\n",
    "            rsi_cross_below = current_rsi_values[pair] < parameters.rsi_low and previous_rsi_values[pair] > parameters.rsi_low\n",
    "\n",
    "            if not pair_open:\n",
    "                # Check for opening a position if no position is open\n",
    "                if rsi_cross_above:\n",
    "                    position_manager.log(f\"Pair {pair} crossed above\")\n",
    "                    alpha_model.set_signal(pair, signal_strength)\n",
    "            else:\n",
    "                # We have open position, check for the closure condition\n",
    "                if rsi_cross_below:\n",
    "                    position_manager.log(f\"Pair {pair} crossed below\")\n",
    "                    alpha_model.set_signal(pair, 0)\n",
    "\n",
    "    # Equally weight for all assets that\n",
    "    alpha_model.select_top_signals(2)\n",
    "    alpha_model.assign_weights(weight_passthrouh)\n",
    "    alpha_model.normalise_weights()\n",
    "    alpha_model.update_old_weights(state.portfolio)\n",
    "    portfolio = position_manager.get_current_portfolio()\n",
    "    portfolio_target_value = portfolio.get_total_equity() * parameters.allocation\n",
    "    alpha_model.calculate_target_positions(position_manager, portfolio_target_value)\n",
    "    trades = alpha_model.generate_rebalance_trades_and_triggers(\n",
    "        position_manager,\n",
    "        min_trade_threshold=parameters.minimum_rebalance_trade_threshold,\n",
    "    )\n",
    "\n",
    "    #\n",
    "    # Visualisations\n",
    "    #\n",
    "\n",
    "    visualisation = state.visualisation  # Helper class to visualise strategy output\n",
    "\n",
    "    visualisation.plot_indicator(\n",
    "        timestamp,\n",
    "        f\"ETH\",\n",
    "        PlotKind.technical_indicator_detached,\n",
    "        current_price[eth_pair],\n",
    "        colour=\"blue\",\n",
    "    )\n",
    "\n",
    "    # Draw BTC + ETH RSI between its trigger zones for this pair of we got a valid value for RSI for this pair\n",
    "\n",
    "    # BTC RSI daily\n",
    "    visualisation.plot_indicator(\n",
    "        timestamp,\n",
    "        f\"RSI\",\n",
    "        PlotKind.technical_indicator_detached,\n",
    "        current_rsi_values[btc_pair],\n",
    "        colour=\"orange\",\n",
    "    )\n",
    "\n",
    "    # ETH RSI daily\n",
    "    visualisation.plot_indicator(\n",
    "        timestamp,\n",
    "        f\"RSI ETH\",\n",
    "        PlotKind.technical_indicator_overlay_on_detached,\n",
    "        current_rsi_values[eth_pair],\n",
    "        colour=\"blue\",\n",
    "        label=PlotLabel.hidden,\n",
    "        detached_overlay_name=f\"RSI\",\n",
    "    )\n",
    "\n",
    "    # Low (vertical line)\n",
    "    visualisation.plot_indicator(\n",
    "        timestamp,\n",
    "        f\"RSI low trigger\",\n",
    "        PlotKind.technical_indicator_overlay_on_detached,\n",
    "        parameters.rsi_low,\n",
    "        detached_overlay_name=f\"RSI\",\n",
    "        plot_shape=PlotShape.horizontal_vertical,\n",
    "        colour=\"red\",\n",
    "        label=PlotLabel.hidden,\n",
    "    )\n",
    "\n",
    "    # High (vertical line)\n",
    "    visualisation.plot_indicator(\n",
    "        timestamp,\n",
    "        f\"RSI high trigger\",\n",
    "        PlotKind.technical_indicator_overlay_on_detached,\n",
    "        parameters.rsi_high,\n",
    "        detached_overlay_name=f\"RSI\",\n",
    "        plot_shape=PlotShape.horizontal_vertical,\n",
    "        colour=\"red\",\n",
    "        label=PlotLabel.hidden,\n",
    "    )\n",
    "\n",
    "    if eth_btc_rsi_yesterday is not None:\n",
    "\n",
    "        visualisation.plot_indicator(\n",
    "            timestamp,\n",
    "            f\"ETH/BTC\",\n",
    "            PlotKind.technical_indicator_detached,\n",
    "            eth_btc_price[-1],\n",
    "            colour=\"grey\",\n",
    "        )\n",
    "\n",
    "        if pd.notna(eth_btc_rsi_yesterday):\n",
    "            visualisation.plot_indicator(\n",
    "                timestamp,\n",
    "                f\"ETH/BTC RSI\",\n",
    "                PlotKind.technical_indicator_detached,\n",
    "                eth_btc_rsi_yesterday,\n",
    "                colour=\"grey\",\n",
    "            )\n",
    "\n",
    "    state.visualisation.add_calculations(timestamp, alpha_model.to_dict())  # Record alpha model thinking\n",
    "\n",
    "    return trades"
   ],
   "metadata": {
    "collapsed": false,
    "ExecuteTime": {
     "end_time": "2024-02-08T17:32:03.052363Z",
     "start_time": "2024-02-08T17:32:03.050688Z"
    }
   }
  },
  {
   "cell_type": "markdown",
   "source": [
    "# Search space\n",
    "\n",
    "Prepare the parameters we search."
   ],
   "metadata": {
    "collapsed": false
   }
  },
  {
   "cell_type": "code",
   "execution_count": 11,
   "outputs": [
    {
     "name": "stdout",
     "output_type": "stream",
     "text": [
      "We prepared 45 grid search combinations\n"
     ]
    }
   ],
   "source": [
    "from tradeexecutor.strategy.cycle import CycleDuration\n",
    "from pathlib import Path\n",
    "from tradeexecutor.backtest.grid_search import prepare_grid_combinations\n",
    "\n",
    "# This is the path where we keep the result files around\n",
    "storage_folder = Path(\"/tmp/v5-grid-search.ipynb\")\n",
    "\n",
    "class StrategyParameters:\n",
    "    cycle_duration = CycleDuration.cycle_1d\n",
    "    rsi_days = [5, 6, 9, 8, 20]  # The length of RSI indicator\n",
    "    eth_btc_rsi_days = 60  # The length of ETH/BTC RSI\n",
    "    rsi_high = [60, 70, 80] # RSI trigger threshold for decision making\n",
    "    rsi_low = [30, 40, 50]  # RSI trigger threshold for decision making\n",
    "    allocation = 0.9 # Allocate 90% of cash to each position\n",
    "    lookback_candles = 120\n",
    "    minimum_rebalance_trade_threshold = 500.00  # Don't do trades that would have less than 500 USD value change\n",
    "\n",
    "combinations = prepare_grid_combinations(StrategyParameters, storage_folder)\n",
    "print(f\"We prepared {len(combinations)} grid search combinations\")"
   ],
   "metadata": {
    "collapsed": false,
    "ExecuteTime": {
     "end_time": "2024-02-08T17:32:03.074924Z",
     "start_time": "2024-02-08T17:32:03.054206Z"
    }
   }
  },
  {
   "cell_type": "markdown",
   "source": [
    "# Grid search\n",
    "\n",
    "Run a grid search on the above function."
   ],
   "metadata": {
    "collapsed": false
   }
  },
  {
   "cell_type": "code",
   "execution_count": 12,
   "outputs": [
    {
     "data": {
      "text/plain": "Grid searching using 8 processes: allocation, cycle_duration, eth_btc_rsi_days, lookback_candles, minimum_reba…",
      "application/vnd.jupyter.widget-view+json": {
       "version_major": 2,
       "version_minor": 0,
       "model_id": "b929194285b246f898fbd0fbcf8a3012"
      }
     },
     "metadata": {},
     "output_type": "display_data"
    }
   ],
   "source": [
    "from tradeexecutor.backtest.grid_search import perform_grid_search\n",
    "\n",
    "grid_search_results = perform_grid_search(\n",
    "    decide_trades,\n",
    "    strategy_universe,\n",
    "    combinations,\n",
    "    max_workers=8,\n",
    "    trading_strategy_engine_version=\"0.4\",\n",
    "    multiprocess=True,\n",
    ")\n"
   ],
   "metadata": {
    "collapsed": false,
    "ExecuteTime": {
     "end_time": "2024-02-08T17:33:17.132223Z",
     "start_time": "2024-02-08T17:32:03.070799Z"
    }
   }
  },
  {
   "cell_type": "markdown",
   "source": [
    "# Analyse results\n",
    "\n",
    "Analyse grid search results."
   ],
   "metadata": {
    "collapsed": false
   }
  },
  {
   "cell_type": "code",
   "execution_count": 13,
   "outputs": [
    {
     "name": "stdout",
     "output_type": "stream",
     "text": [
      "Grid search combinations available: 45\n"
     ]
    },
    {
     "name": "stderr",
     "output_type": "stream",
     "text": [
      "/var/folders/12/pbc59svn70q_9dfz1kjl3zww0000gn/T/ipykernel_54993/2713561063.py:2: DeprecationWarning: This module is deprecated. Import tradeexecutor.utils.notebook instead\n",
      "  from tradeexecutor.backtest.notebook import setup_charting_and_output\n"
     ]
    },
    {
     "data": {
      "text/plain": "<pandas.io.formats.style.Styler at 0x2d15a73d0>",
      "text/html": "<style type=\"text/css\">\n#T_0a9a3_row0_col1, #T_0a9a3_row4_col2, #T_0a9a3_row9_col2, #T_0a9a3_row19_col2 {\n  background-color: #cdd0e5;\n  color: #000000;\n}\n#T_0a9a3_row0_col2, #T_0a9a3_row10_col2, #T_0a9a3_row14_col2, #T_0a9a3_row33_col1, #T_0a9a3_row34_col1 {\n  background-color: #e5e1ef;\n  color: #000000;\n}\n#T_0a9a3_row0_col3, #T_0a9a3_row12_col3 {\n  background-color: #cccfe5;\n  color: #000000;\n}\n#T_0a9a3_row0_col4, #T_0a9a3_row34_col4, #T_0a9a3_row38_col5 {\n  background-color: #d5d5e8;\n  color: #000000;\n}\n#T_0a9a3_row0_col5, #T_0a9a3_row10_col5 {\n  background-color: #faf3f9;\n  color: #000000;\n}\n#T_0a9a3_row0_col6, #T_0a9a3_row11_col5, #T_0a9a3_row14_col5 {\n  background-color: #fbf3f9;\n  color: #000000;\n}\n#T_0a9a3_row1_col1, #T_0a9a3_row21_col1 {\n  background-color: #9ab8d8;\n  color: #000000;\n}\n#T_0a9a3_row1_col2, #T_0a9a3_row28_col6, #T_0a9a3_row36_col2, #T_0a9a3_row43_col4 {\n  background-color: #ede8f3;\n  color: #000000;\n}\n#T_0a9a3_row1_col3 {\n  background-color: #9cb9d9;\n  color: #000000;\n}\n#T_0a9a3_row1_col4, #T_0a9a3_row39_col4 {\n  background-color: #acc0dd;\n  color: #000000;\n}\n#T_0a9a3_row1_col5 {\n  background-color: #fbf4f9;\n  color: #000000;\n}\n#T_0a9a3_row1_col6 {\n  background-color: #e0dded;\n  color: #000000;\n}\n#T_0a9a3_row2_col1 {\n  background-color: #d0d1e6;\n  color: #000000;\n}\n#T_0a9a3_row2_col2, #T_0a9a3_row5_col1, #T_0a9a3_row5_col4, #T_0a9a3_row14_col6 {\n  background-color: #f3edf5;\n  color: #000000;\n}\n#T_0a9a3_row2_col3 {\n  background-color: #c9cee4;\n  color: #000000;\n}\n#T_0a9a3_row2_col4, #T_0a9a3_row24_col2 {\n  background-color: #d2d3e7;\n  color: #000000;\n}\n#T_0a9a3_row2_col5 {\n  background-color: #fdf5fa;\n  color: #000000;\n}\n#T_0a9a3_row2_col6, #T_0a9a3_row27_col5 {\n  background-color: #f1ebf5;\n  color: #000000;\n}\n#T_0a9a3_row3_col1, #T_0a9a3_row8_col4, #T_0a9a3_row23_col4 {\n  background-color: #6ba5cd;\n  color: #f1f1f1;\n}\n#T_0a9a3_row3_col2, #T_0a9a3_row12_col2, #T_0a9a3_row21_col5, #T_0a9a3_row27_col2, #T_0a9a3_row29_col2, #T_0a9a3_row34_col6, #T_0a9a3_row39_col2 {\n  background-color: #dbdaeb;\n  color: #000000;\n}\n#T_0a9a3_row3_col3, #T_0a9a3_row16_col4, #T_0a9a3_row19_col3, #T_0a9a3_row38_col4 {\n  background-color: #6da6cd;\n  color: #f1f1f1;\n}\n#T_0a9a3_row3_col4, #T_0a9a3_row22_col4 {\n  background-color: #8bb2d4;\n  color: #000000;\n}\n#T_0a9a3_row3_col5, #T_0a9a3_row24_col5 {\n  background-color: #f4edf6;\n  color: #000000;\n}\n#T_0a9a3_row3_col6 {\n  background-color: #f5eff6;\n  color: #000000;\n}\n#T_0a9a3_row4_col1 {\n  background-color: #7eadd1;\n  color: #f1f1f1;\n}\n#T_0a9a3_row4_col3, #T_0a9a3_row41_col1 {\n  background-color: #71a8ce;\n  color: #f1f1f1;\n}\n#T_0a9a3_row4_col4, #T_0a9a3_row22_col1 {\n  background-color: #7bacd1;\n  color: #f1f1f1;\n}\n#T_0a9a3_row4_col5 {\n  background-color: #faf2f8;\n  color: #000000;\n}\n#T_0a9a3_row4_col6, #T_0a9a3_row29_col6, #T_0a9a3_row33_col5, #T_0a9a3_row39_col5 {\n  background-color: #e7e3f0;\n  color: #000000;\n}\n#T_0a9a3_row5_col2, #T_0a9a3_row40_col3 {\n  background-color: #f6eff7;\n  color: #000000;\n}\n#T_0a9a3_row5_col3, #T_0a9a3_row23_col5, #T_0a9a3_row24_col1, #T_0a9a3_row40_col5 {\n  background-color: #f0eaf4;\n  color: #000000;\n}\n#T_0a9a3_row5_col5, #T_0a9a3_row6_col6, #T_0a9a3_row14_col1, #T_0a9a3_row14_col3, #T_0a9a3_row14_col4, #T_0a9a3_row40_col2 {\n  background-color: #fff7fb;\n  color: #000000;\n  background-color: pink;\n}\n#T_0a9a3_row5_col6, #T_0a9a3_row19_col6 {\n  background-color: #f1ebf4;\n  color: #000000;\n}\n#T_0a9a3_row6_col1, #T_0a9a3_row6_col2 {\n  background-color: #4c99c5;\n  color: #f1f1f1;\n}\n#T_0a9a3_row6_col3, #T_0a9a3_row29_col3 {\n  background-color: #2c89bd;\n  color: #f1f1f1;\n}\n#T_0a9a3_row6_col4 {\n  background-color: #3790c0;\n  color: #f1f1f1;\n}\n#T_0a9a3_row6_col5, #T_0a9a3_row8_col5, #T_0a9a3_row28_col5, #T_0a9a3_row34_col5 {\n  background-color: #f2ecf5;\n  color: #000000;\n}\n#T_0a9a3_row7_col1 {\n  background-color: #157ab5;\n  color: #f1f1f1;\n}\n#T_0a9a3_row7_col2 {\n  background-color: #187cb6;\n  color: #f1f1f1;\n}\n#T_0a9a3_row7_col3 {\n  background-color: #05659f;\n  color: #f1f1f1;\n}\n#T_0a9a3_row7_col4 {\n  background-color: #0567a1;\n  color: #f1f1f1;\n}\n#T_0a9a3_row7_col5, #T_0a9a3_row18_col5 {\n  background-color: #eee9f3;\n  color: #000000;\n}\n#T_0a9a3_row7_col6, #T_0a9a3_row12_col1, #T_0a9a3_row17_col6, #T_0a9a3_row35_col5 {\n  background-color: #d2d2e7;\n  color: #000000;\n}\n#T_0a9a3_row8_col1, #T_0a9a3_row39_col1 {\n  background-color: #8eb3d5;\n  color: #000000;\n}\n#T_0a9a3_row8_col2, #T_0a9a3_row30_col3 {\n  background-color: #8cb3d5;\n  color: #000000;\n}\n#T_0a9a3_row8_col3, #T_0a9a3_row16_col2 {\n  background-color: #69a5cc;\n  color: #f1f1f1;\n}\n#T_0a9a3_row8_col6, #T_0a9a3_row40_col6 {\n  background-color: #e2dfee;\n  color: #000000;\n}\n#T_0a9a3_row9_col1, #T_0a9a3_row9_col3, #T_0a9a3_row36_col3 {\n  background-color: #a9bfdc;\n  color: #000000;\n}\n#T_0a9a3_row9_col4, #T_0a9a3_row21_col6 {\n  background-color: #bbc7e0;\n  color: #000000;\n}\n#T_0a9a3_row9_col5, #T_0a9a3_row12_col5, #T_0a9a3_row13_col5, #T_0a9a3_row22_col6, #T_0a9a3_row43_col1 {\n  background-color: #f7f0f7;\n  color: #000000;\n}\n#T_0a9a3_row9_col6, #T_0a9a3_row11_col6, #T_0a9a3_row16_col5 {\n  background-color: #ebe6f2;\n  color: #000000;\n}\n#T_0a9a3_row10_col1, #T_0a9a3_row10_col3, #T_0a9a3_row39_col3 {\n  background-color: #96b6d7;\n  color: #000000;\n}\n#T_0a9a3_row10_col4 {\n  background-color: #a8bedc;\n  color: #000000;\n}\n#T_0a9a3_row10_col6, #T_0a9a3_row24_col4, #T_0a9a3_row43_col3 {\n  background-color: #efe9f3;\n  color: #000000;\n}\n#T_0a9a3_row11_col1 {\n  background-color: #c5cce3;\n  color: #000000;\n}\n#T_0a9a3_row11_col2, #T_0a9a3_row22_col2, #T_0a9a3_row37_col2 {\n  background-color: #b1c2de;\n  color: #000000;\n}\n#T_0a9a3_row11_col3, #T_0a9a3_row15_col6 {\n  background-color: #c1cae2;\n  color: #000000;\n}\n#T_0a9a3_row11_col4, #T_0a9a3_row25_col6 {\n  background-color: #ced0e6;\n  color: #000000;\n}\n#T_0a9a3_row12_col4 {\n  background-color: #d6d6e9;\n  color: #000000;\n}\n#T_0a9a3_row12_col6 {\n  background-color: #fef6fb;\n  color: #000000;\n}\n#T_0a9a3_row13_col1 {\n  background-color: #b3c3de;\n  color: #000000;\n}\n#T_0a9a3_row13_col2, #T_0a9a3_row20_col2 {\n  background-color: #d7d6e9;\n  color: #000000;\n}\n#T_0a9a3_row13_col3, #T_0a9a3_row21_col4 {\n  background-color: #afc1dd;\n  color: #000000;\n}\n#T_0a9a3_row13_col4 {\n  background-color: #bdc8e1;\n  color: #000000;\n}\n#T_0a9a3_row13_col6 {\n  background-color: #e6e2ef;\n  color: #000000;\n}\n#T_0a9a3_row15_col1 {\n  background-color: #4697c4;\n  color: #f1f1f1;\n}\n#T_0a9a3_row15_col2 {\n  background-color: #056ba7;\n  color: #f1f1f1;\n}\n#T_0a9a3_row15_col3 {\n  background-color: #0d75b3;\n  color: #f1f1f1;\n}\n#T_0a9a3_row15_col4 {\n  background-color: #1b7eb7;\n  color: #f1f1f1;\n}\n#T_0a9a3_row15_col5, #T_0a9a3_row26_col5 {\n  background-color: #e4e1ef;\n  color: #000000;\n}\n#T_0a9a3_row16_col1 {\n  background-color: #a5bddb;\n  color: #000000;\n}\n#T_0a9a3_row16_col3, #T_0a9a3_row28_col3 {\n  background-color: #62a2cb;\n  color: #f1f1f1;\n}\n#T_0a9a3_row16_col6, #T_0a9a3_row37_col6 {\n  background-color: #d8d7e9;\n  color: #000000;\n}\n#T_0a9a3_row17_col1, #T_0a9a3_row22_col3 {\n  background-color: #76aad0;\n  color: #f1f1f1;\n}\n#T_0a9a3_row17_col2, #T_0a9a3_row44_col2 {\n  background-color: #023d60;\n  color: #f1f1f1;\n}\n#T_0a9a3_row17_col3 {\n  background-color: #1c7fb8;\n  color: #f1f1f1;\n}\n#T_0a9a3_row17_col4 {\n  background-color: #2484ba;\n  color: #f1f1f1;\n}\n#T_0a9a3_row17_col5, #T_0a9a3_row44_col1 {\n  background-color: #e8e4f0;\n  color: #000000;\n}\n#T_0a9a3_row18_col1 {\n  background-color: #abbfdc;\n  color: #000000;\n}\n#T_0a9a3_row18_col2, #T_0a9a3_row28_col2, #T_0a9a3_row32_col6, #T_0a9a3_row37_col4 {\n  background-color: #c6cce3;\n  color: #000000;\n}\n#T_0a9a3_row18_col3, #T_0a9a3_row44_col3, #T_0a9a3_row44_col4 {\n  background-color: #a7bddb;\n  color: #000000;\n}\n#T_0a9a3_row18_col4 {\n  background-color: #b9c6e0;\n  color: #000000;\n}\n#T_0a9a3_row18_col6 {\n  background-color: #dad9ea;\n  color: #000000;\n}\n#T_0a9a3_row19_col1, #T_0a9a3_row26_col4 {\n  background-color: #5c9fc9;\n  color: #f1f1f1;\n}\n#T_0a9a3_row19_col4 {\n  background-color: #84b0d3;\n  color: #f1f1f1;\n}\n#T_0a9a3_row19_col5, #T_0a9a3_row22_col5 {\n  background-color: #f4eef6;\n  color: #000000;\n}\n#T_0a9a3_row20_col1, #T_0a9a3_row28_col4, #T_0a9a3_row36_col6 {\n  background-color: #80aed2;\n  color: #f1f1f1;\n}\n#T_0a9a3_row20_col3, #T_0a9a3_row30_col1 {\n  background-color: #89b1d4;\n  color: #000000;\n}\n#T_0a9a3_row20_col4, #T_0a9a3_row35_col1 {\n  background-color: #9fbad9;\n  color: #000000;\n}\n#T_0a9a3_row20_col5 {\n  background-color: #f5eef6;\n  color: #000000;\n}\n#T_0a9a3_row20_col6, #T_0a9a3_row24_col3 {\n  background-color: #ede7f2;\n  color: #000000;\n}\n#T_0a9a3_row21_col2, #T_0a9a3_row30_col2, #T_0a9a3_row30_col4 {\n  background-color: #a4bcda;\n  color: #000000;\n}\n#T_0a9a3_row21_col3 {\n  background-color: #99b8d8;\n  color: #000000;\n}\n#T_0a9a3_row23_col1 {\n  background-color: #3f93c2;\n  color: #f1f1f1;\n}\n#T_0a9a3_row23_col2 {\n  background-color: #60a1ca;\n  color: #f1f1f1;\n}\n#T_0a9a3_row23_col3 {\n  background-color: #4e9ac6;\n  color: #f1f1f1;\n}\n#T_0a9a3_row23_col6, #T_0a9a3_row27_col4, #T_0a9a3_row36_col5 {\n  background-color: #d9d8ea;\n  color: #000000;\n}\n#T_0a9a3_row24_col6, #T_0a9a3_row30_col5, #T_0a9a3_row33_col6 {\n  background-color: #cacee5;\n  color: #000000;\n}\n#T_0a9a3_row25_col1 {\n  background-color: #78abd0;\n  color: #f1f1f1;\n}\n#T_0a9a3_row25_col2, #T_0a9a3_row32_col1, #T_0a9a3_row32_col3, #T_0a9a3_row32_col4, #T_0a9a3_row35_col2, #T_0a9a3_row41_col2, #T_0a9a3_row44_col5, #T_0a9a3_row44_col6 {\n  background-color: #023858;\n  color: #f1f1f1;\n  background-color: darkgreen;\n}\n#T_0a9a3_row25_col3 {\n  background-color: #358fc0;\n  color: #f1f1f1;\n}\n#T_0a9a3_row25_col4 {\n  background-color: #308cbe;\n  color: #f1f1f1;\n}\n#T_0a9a3_row25_col5 {\n  background-color: #dfddec;\n  color: #000000;\n}\n#T_0a9a3_row26_col1 {\n  background-color: #88b1d4;\n  color: #000000;\n}\n#T_0a9a3_row26_col2 {\n  background-color: #2081b9;\n  color: #f1f1f1;\n}\n#T_0a9a3_row26_col3, #T_0a9a3_row35_col3 {\n  background-color: #5a9ec9;\n  color: #f1f1f1;\n}\n#T_0a9a3_row26_col6 {\n  background-color: #b4c4df;\n  color: #000000;\n}\n#T_0a9a3_row27_col1, #T_0a9a3_row27_col3, #T_0a9a3_row34_col3 {\n  background-color: #d1d2e6;\n  color: #000000;\n}\n#T_0a9a3_row27_col6 {\n  background-color: #d3d4e7;\n  color: #000000;\n}\n#T_0a9a3_row28_col1, #T_0a9a3_row38_col3 {\n  background-color: #4a98c5;\n  color: #f1f1f1;\n}\n#T_0a9a3_row29_col1 {\n  background-color: #0771b1;\n  color: #f1f1f1;\n}\n#T_0a9a3_row29_col4 {\n  background-color: #4897c4;\n  color: #f1f1f1;\n}\n#T_0a9a3_row29_col5 {\n  background-color: #ece7f2;\n  color: #000000;\n}\n#T_0a9a3_row30_col6 {\n  background-color: #91b5d6;\n  color: #000000;\n}\n#T_0a9a3_row31_col1 {\n  background-color: #0568a3;\n  color: #f1f1f1;\n}\n#T_0a9a3_row31_col2 {\n  background-color: #7dacd1;\n  color: #f1f1f1;\n}\n#T_0a9a3_row31_col3 {\n  background-color: #056fae;\n  color: #f1f1f1;\n}\n#T_0a9a3_row31_col4 {\n  background-color: #1e80b8;\n  color: #f1f1f1;\n}\n#T_0a9a3_row31_col5, #T_0a9a3_row32_col5 {\n  background-color: #dcdaeb;\n  color: #000000;\n}\n#T_0a9a3_row31_col6 {\n  background-color: #8fb4d6;\n  color: #000000;\n}\n#T_0a9a3_row32_col2 {\n  background-color: #045c90;\n  color: #f1f1f1;\n}\n#T_0a9a3_row33_col2, #T_0a9a3_row38_col2 {\n  background-color: #c0c9e2;\n  color: #000000;\n}\n#T_0a9a3_row33_col3, #T_0a9a3_row37_col5 {\n  background-color: #dedcec;\n  color: #000000;\n}\n#T_0a9a3_row33_col4 {\n  background-color: #e1dfed;\n  color: #000000;\n}\n#T_0a9a3_row34_col2 {\n  background-color: #034369;\n  color: #f1f1f1;\n}\n#T_0a9a3_row35_col4 {\n  background-color: #65a3cb;\n  color: #f1f1f1;\n}\n#T_0a9a3_row35_col6 {\n  background-color: #93b5d6;\n  color: #000000;\n}\n#T_0a9a3_row36_col1 {\n  background-color: #a2bcda;\n  color: #000000;\n}\n#T_0a9a3_row36_col4 {\n  background-color: #bcc7e1;\n  color: #000000;\n}\n#T_0a9a3_row37_col1 {\n  background-color: #b8c6e0;\n  color: #000000;\n}\n#T_0a9a3_row37_col3 {\n  background-color: #b7c5df;\n  color: #000000;\n}\n#T_0a9a3_row38_col1 {\n  background-color: #4094c3;\n  color: #f1f1f1;\n}\n#T_0a9a3_row38_col6 {\n  background-color: #b0c2de;\n  color: #000000;\n}\n#T_0a9a3_row39_col6 {\n  background-color: #83afd3;\n  color: #f1f1f1;\n}\n#T_0a9a3_row40_col1, #T_0a9a3_row40_col4 {\n  background-color: #f8f1f8;\n  color: #000000;\n}\n#T_0a9a3_row41_col3 {\n  background-color: #2f8bbe;\n  color: #f1f1f1;\n}\n#T_0a9a3_row41_col4 {\n  background-color: #3b92c1;\n  color: #f1f1f1;\n}\n#T_0a9a3_row41_col5, #T_0a9a3_row41_col6 {\n  background-color: #dddbec;\n  color: #000000;\n}\n#T_0a9a3_row42_col1, #T_0a9a3_row42_col2, #T_0a9a3_row42_col3, #T_0a9a3_row42_col4, #T_0a9a3_row42_col5, #T_0a9a3_row42_col6 {\n  background-color: #000000;\n  color: #f1f1f1;\n}\n#T_0a9a3_row43_col2 {\n  background-color: #4295c3;\n  color: #f1f1f1;\n}\n#T_0a9a3_row43_col5 {\n  background-color: #1379b5;\n  color: #f1f1f1;\n}\n#T_0a9a3_row43_col6 {\n  background-color: #03466e;\n  color: #f1f1f1;\n}\n</style>\n<table id=\"T_0a9a3\">\n  <thead>\n    <tr>\n      <th class=\"blank\" >&nbsp;</th>\n      <th class=\"blank\" >&nbsp;</th>\n      <th class=\"blank\" >&nbsp;</th>\n      <th class=\"blank\" >&nbsp;</th>\n      <th class=\"blank\" >&nbsp;</th>\n      <th class=\"blank\" >&nbsp;</th>\n      <th class=\"blank\" >&nbsp;</th>\n      <th class=\"blank level0\" >&nbsp;</th>\n      <th id=\"T_0a9a3_level0_col0\" class=\"col_heading level0 col0\" >Positions</th>\n      <th id=\"T_0a9a3_level0_col1\" class=\"col_heading level0 col1\" >Annualised return</th>\n      <th id=\"T_0a9a3_level0_col2\" class=\"col_heading level0 col2\" >Max drawdown</th>\n      <th id=\"T_0a9a3_level0_col3\" class=\"col_heading level0 col3\" >Sharpe</th>\n      <th id=\"T_0a9a3_level0_col4\" class=\"col_heading level0 col4\" >Sortino</th>\n      <th id=\"T_0a9a3_level0_col5\" class=\"col_heading level0 col5\" >Average position</th>\n      <th id=\"T_0a9a3_level0_col6\" class=\"col_heading level0 col6\" >Median position</th>\n    </tr>\n    <tr>\n      <th class=\"index_name level0\" >allocation</th>\n      <th class=\"index_name level1\" >cycle_duration</th>\n      <th class=\"index_name level2\" >eth_btc_rsi_days</th>\n      <th class=\"index_name level3\" >lookback_candles</th>\n      <th class=\"index_name level4\" >minimum_rebalance_trade_threshold</th>\n      <th class=\"index_name level5\" >rsi_days</th>\n      <th class=\"index_name level6\" >rsi_high</th>\n      <th class=\"index_name level7\" >rsi_low</th>\n      <th class=\"blank col0\" >&nbsp;</th>\n      <th class=\"blank col1\" >&nbsp;</th>\n      <th class=\"blank col2\" >&nbsp;</th>\n      <th class=\"blank col3\" >&nbsp;</th>\n      <th class=\"blank col4\" >&nbsp;</th>\n      <th class=\"blank col5\" >&nbsp;</th>\n      <th class=\"blank col6\" >&nbsp;</th>\n    </tr>\n  </thead>\n  <tbody>\n    <tr>\n      <th id=\"T_0a9a3_level0_row0\" class=\"row_heading level0 row0\" rowspan=\"45\">0.900000</th>\n      <th id=\"T_0a9a3_level1_row0\" class=\"row_heading level1 row0\" rowspan=\"45\">CycleDuration.cycle_1d</th>\n      <th id=\"T_0a9a3_level2_row0\" class=\"row_heading level2 row0\" rowspan=\"45\">60</th>\n      <th id=\"T_0a9a3_level3_row0\" class=\"row_heading level3 row0\" rowspan=\"45\">120</th>\n      <th id=\"T_0a9a3_level4_row0\" class=\"row_heading level4 row0\" rowspan=\"45\">500.000000</th>\n      <th id=\"T_0a9a3_level5_row0\" class=\"row_heading level5 row0\" rowspan=\"9\">5</th>\n      <th id=\"T_0a9a3_level6_row0\" class=\"row_heading level6 row0\" rowspan=\"3\">60</th>\n      <th id=\"T_0a9a3_level7_row0\" class=\"row_heading level7 row0\" >30</th>\n      <td id=\"T_0a9a3_row0_col0\" class=\"data row0 col0\" >125</td>\n      <td id=\"T_0a9a3_row0_col1\" class=\"data row0 col1\" >42.44%</td>\n      <td id=\"T_0a9a3_row0_col2\" class=\"data row0 col2\" >-72.00%</td>\n      <td id=\"T_0a9a3_row0_col3\" class=\"data row0 col3\" >0.880000</td>\n      <td id=\"T_0a9a3_row0_col4\" class=\"data row0 col4\" >1.270000</td>\n      <td id=\"T_0a9a3_row0_col5\" class=\"data row0 col5\" >2.02%</td>\n      <td id=\"T_0a9a3_row0_col6\" class=\"data row0 col6\" >-1.24%</td>\n    </tr>\n    <tr>\n      <th id=\"T_0a9a3_level7_row1\" class=\"row_heading level7 row1\" >40</th>\n      <td id=\"T_0a9a3_row1_col0\" class=\"data row1 col0\" >151</td>\n      <td id=\"T_0a9a3_row1_col1\" class=\"data row1 col1\" >57.89%</td>\n      <td id=\"T_0a9a3_row1_col2\" class=\"data row1 col2\" >-74.00%</td>\n      <td id=\"T_0a9a3_row1_col3\" class=\"data row1 col3\" >1.060000</td>\n      <td id=\"T_0a9a3_row1_col4\" class=\"data row1 col4\" >1.560000</td>\n      <td id=\"T_0a9a3_row1_col5\" class=\"data row1 col5\" >1.82%</td>\n      <td id=\"T_0a9a3_row1_col6\" class=\"data row1 col6\" >1.06%</td>\n    </tr>\n    <tr>\n      <th id=\"T_0a9a3_level7_row2\" class=\"row_heading level7 row2\" >50</th>\n      <td id=\"T_0a9a3_row2_col0\" class=\"data row2 col0\" >180</td>\n      <td id=\"T_0a9a3_row2_col1\" class=\"data row2 col1\" >41.67%</td>\n      <td id=\"T_0a9a3_row2_col2\" class=\"data row2 col2\" >-76.00%</td>\n      <td id=\"T_0a9a3_row2_col3\" class=\"data row2 col3\" >0.890000</td>\n      <td id=\"T_0a9a3_row2_col4\" class=\"data row2 col4\" >1.290000</td>\n      <td id=\"T_0a9a3_row2_col5\" class=\"data row2 col5\" >1.64%</td>\n      <td id=\"T_0a9a3_row2_col6\" class=\"data row2 col6\" >-0.28%</td>\n    </tr>\n    <tr>\n      <th id=\"T_0a9a3_level6_row3\" class=\"row_heading level6 row3\" rowspan=\"3\">70</th>\n      <th id=\"T_0a9a3_level7_row3\" class=\"row_heading level7 row3\" >30</th>\n      <td id=\"T_0a9a3_row3_col0\" class=\"data row3 col0\" >96</td>\n      <td id=\"T_0a9a3_row3_col1\" class=\"data row3 col1\" >70.30%</td>\n      <td id=\"T_0a9a3_row3_col2\" class=\"data row3 col2\" >-70.00%</td>\n      <td id=\"T_0a9a3_row3_col3\" class=\"data row3 col3\" >1.210000</td>\n      <td id=\"T_0a9a3_row3_col4\" class=\"data row3 col4\" >1.750000</td>\n      <td id=\"T_0a9a3_row3_col5\" class=\"data row3 col5\" >2.96%</td>\n      <td id=\"T_0a9a3_row3_col6\" class=\"data row3 col6\" >-0.71%</td>\n    </tr>\n    <tr>\n      <th id=\"T_0a9a3_level7_row4\" class=\"row_heading level7 row4\" >40</th>\n      <td id=\"T_0a9a3_row4_col0\" class=\"data row4 col0\" >127</td>\n      <td id=\"T_0a9a3_row4_col1\" class=\"data row4 col1\" >65.86%</td>\n      <td id=\"T_0a9a3_row4_col2\" class=\"data row4 col2\" >-67.00%</td>\n      <td id=\"T_0a9a3_row4_col3\" class=\"data row4 col3\" >1.200000</td>\n      <td id=\"T_0a9a3_row4_col4\" class=\"data row4 col4\" >1.840000</td>\n      <td id=\"T_0a9a3_row4_col5\" class=\"data row4 col5\" >2.13%</td>\n      <td id=\"T_0a9a3_row4_col6\" class=\"data row4 col6\" >0.51%</td>\n    </tr>\n    <tr>\n      <th id=\"T_0a9a3_level7_row5\" class=\"row_heading level7 row5\" >50</th>\n      <td id=\"T_0a9a3_row5_col0\" class=\"data row5 col0\" >151</td>\n      <td id=\"T_0a9a3_row5_col1\" class=\"data row5 col1\" >22.93%</td>\n      <td id=\"T_0a9a3_row5_col2\" class=\"data row5 col2\" >-77.00%</td>\n      <td id=\"T_0a9a3_row5_col3\" class=\"data row5 col3\" >0.660000</td>\n      <td id=\"T_0a9a3_row5_col4\" class=\"data row5 col4\" >0.930000</td>\n      <td id=\"T_0a9a3_row5_col5\" class=\"data row5 col5\" >1.29%</td>\n      <td id=\"T_0a9a3_row5_col6\" class=\"data row5 col6\" >-0.27%</td>\n    </tr>\n    <tr>\n      <th id=\"T_0a9a3_level6_row6\" class=\"row_heading level6 row6\" rowspan=\"3\">80</th>\n      <th id=\"T_0a9a3_level7_row6\" class=\"row_heading level7 row6\" >30</th>\n      <td id=\"T_0a9a3_row6_col0\" class=\"data row6 col0\" >75</td>\n      <td id=\"T_0a9a3_row6_col1\" class=\"data row6 col1\" >76.95%</td>\n      <td id=\"T_0a9a3_row6_col2\" class=\"data row6 col2\" >-51.00%</td>\n      <td id=\"T_0a9a3_row6_col3\" class=\"data row6 col3\" >1.390000</td>\n      <td id=\"T_0a9a3_row6_col4\" class=\"data row6 col4\" >2.160000</td>\n      <td id=\"T_0a9a3_row6_col5\" class=\"data row6 col5\" >3.15%</td>\n      <td id=\"T_0a9a3_row6_col6\" class=\"data row6 col6\" >-1.67%</td>\n    </tr>\n    <tr>\n      <th id=\"T_0a9a3_level7_row7\" class=\"row_heading level7 row7\" >40</th>\n      <td id=\"T_0a9a3_row7_col0\" class=\"data row7 col0\" >89</td>\n      <td id=\"T_0a9a3_row7_col1\" class=\"data row7 col1\" >90.90%</td>\n      <td id=\"T_0a9a3_row7_col2\" class=\"data row7 col2\" >-45.00%</td>\n      <td id=\"T_0a9a3_row7_col3\" class=\"data row7 col3\" >1.600000</td>\n      <td id=\"T_0a9a3_row7_col4\" class=\"data row7 col4\" >2.560000</td>\n      <td id=\"T_0a9a3_row7_col5\" class=\"data row7 col5\" >3.67%</td>\n      <td id=\"T_0a9a3_row7_col6\" class=\"data row7 col6\" >1.99%</td>\n    </tr>\n    <tr>\n      <th id=\"T_0a9a3_level7_row8\" class=\"row_heading level7 row8\" >50</th>\n      <td id=\"T_0a9a3_row8_col0\" class=\"data row8 col0\" >102</td>\n      <td id=\"T_0a9a3_row8_col1\" class=\"data row8 col1\" >61.33%</td>\n      <td id=\"T_0a9a3_row8_col2\" class=\"data row8 col2\" >-58.00%</td>\n      <td id=\"T_0a9a3_row8_col3\" class=\"data row8 col3\" >1.220000</td>\n      <td id=\"T_0a9a3_row8_col4\" class=\"data row8 col4\" >1.920000</td>\n      <td id=\"T_0a9a3_row8_col5\" class=\"data row8 col5\" >3.12%</td>\n      <td id=\"T_0a9a3_row8_col6\" class=\"data row8 col6\" >0.85%</td>\n    </tr>\n    <tr>\n      <th id=\"T_0a9a3_level5_row9\" class=\"row_heading level5 row9\" rowspan=\"9\">6</th>\n      <th id=\"T_0a9a3_level6_row9\" class=\"row_heading level6 row9\" rowspan=\"3\">60</th>\n      <th id=\"T_0a9a3_level7_row9\" class=\"row_heading level7 row9\" >30</th>\n      <td id=\"T_0a9a3_row9_col0\" class=\"data row9 col0\" >92</td>\n      <td id=\"T_0a9a3_row9_col1\" class=\"data row9 col1\" >53.71%</td>\n      <td id=\"T_0a9a3_row9_col2\" class=\"data row9 col2\" >-67.00%</td>\n      <td id=\"T_0a9a3_row9_col3\" class=\"data row9 col3\" >1.010000</td>\n      <td id=\"T_0a9a3_row9_col4\" class=\"data row9 col4\" >1.460000</td>\n      <td id=\"T_0a9a3_row9_col5\" class=\"data row9 col5\" >2.55%</td>\n      <td id=\"T_0a9a3_row9_col6\" class=\"data row9 col6\" >0.30%</td>\n    </tr>\n    <tr>\n      <th id=\"T_0a9a3_level7_row10\" class=\"row_heading level7 row10\" >40</th>\n      <td id=\"T_0a9a3_row10_col0\" class=\"data row10 col0\" >132</td>\n      <td id=\"T_0a9a3_row10_col1\" class=\"data row10 col1\" >59.47%</td>\n      <td id=\"T_0a9a3_row10_col2\" class=\"data row10 col2\" >-72.00%</td>\n      <td id=\"T_0a9a3_row10_col3\" class=\"data row10 col3\" >1.080000</td>\n      <td id=\"T_0a9a3_row10_col4\" class=\"data row10 col4\" >1.580000</td>\n      <td id=\"T_0a9a3_row10_col5\" class=\"data row10 col5\" >1.99%</td>\n      <td id=\"T_0a9a3_row10_col6\" class=\"data row10 col6\" >-0.10%</td>\n    </tr>\n    <tr>\n      <th id=\"T_0a9a3_level7_row11\" class=\"row_heading level7 row11\" >50</th>\n      <td id=\"T_0a9a3_row11_col0\" class=\"data row11 col0\" >148</td>\n      <td id=\"T_0a9a3_row11_col1\" class=\"data row11 col1\" >44.96%</td>\n      <td id=\"T_0a9a3_row11_col2\" class=\"data row11 col2\" >-63.00%</td>\n      <td id=\"T_0a9a3_row11_col3\" class=\"data row11 col3\" >0.920000</td>\n      <td id=\"T_0a9a3_row11_col4\" class=\"data row11 col4\" >1.330000</td>\n      <td id=\"T_0a9a3_row11_col5\" class=\"data row11 col5\" >1.95%</td>\n      <td id=\"T_0a9a3_row11_col6\" class=\"data row11 col6\" >0.31%</td>\n    </tr>\n    <tr>\n      <th id=\"T_0a9a3_level6_row12\" class=\"row_heading level6 row12\" rowspan=\"3\">70</th>\n      <th id=\"T_0a9a3_level7_row12\" class=\"row_heading level7 row12\" >30</th>\n      <td id=\"T_0a9a3_row12_col0\" class=\"data row12 col0\" >87</td>\n      <td id=\"T_0a9a3_row12_col1\" class=\"data row12 col1\" >40.86%</td>\n      <td id=\"T_0a9a3_row12_col2\" class=\"data row12 col2\" >-70.00%</td>\n      <td id=\"T_0a9a3_row12_col3\" class=\"data row12 col3\" >0.880000</td>\n      <td id=\"T_0a9a3_row12_col4\" class=\"data row12 col4\" >1.260000</td>\n      <td id=\"T_0a9a3_row12_col5\" class=\"data row12 col5\" >2.48%</td>\n      <td id=\"T_0a9a3_row12_col6\" class=\"data row12 col6\" >-1.57%</td>\n    </tr>\n    <tr>\n      <th id=\"T_0a9a3_level7_row13\" class=\"row_heading level7 row13\" >40</th>\n      <td id=\"T_0a9a3_row13_col0\" class=\"data row13 col0\" >113</td>\n      <td id=\"T_0a9a3_row13_col1\" class=\"data row13 col1\" >50.78%</td>\n      <td id=\"T_0a9a3_row13_col2\" class=\"data row13 col2\" >-69.00%</td>\n      <td id=\"T_0a9a3_row13_col3\" class=\"data row13 col3\" >0.990000</td>\n      <td id=\"T_0a9a3_row13_col4\" class=\"data row13 col4\" >1.440000</td>\n      <td id=\"T_0a9a3_row13_col5\" class=\"data row13 col5\" >2.54%</td>\n      <td id=\"T_0a9a3_row13_col6\" class=\"data row13 col6\" >0.66%</td>\n    </tr>\n    <tr>\n      <th id=\"T_0a9a3_level7_row14\" class=\"row_heading level7 row14\" >50</th>\n      <td id=\"T_0a9a3_row14_col0\" class=\"data row14 col0\" >134</td>\n      <td id=\"T_0a9a3_row14_col1\" class=\"data row14 col1\" >14.27%</td>\n      <td id=\"T_0a9a3_row14_col2\" class=\"data row14 col2\" >-72.00%</td>\n      <td id=\"T_0a9a3_row14_col3\" class=\"data row14 col3\" >0.530000</td>\n      <td id=\"T_0a9a3_row14_col4\" class=\"data row14 col4\" >0.750000</td>\n      <td id=\"T_0a9a3_row14_col5\" class=\"data row14 col5\" >1.93%</td>\n      <td id=\"T_0a9a3_row14_col6\" class=\"data row14 col6\" >-0.50%</td>\n    </tr>\n    <tr>\n      <th id=\"T_0a9a3_level6_row15\" class=\"row_heading level6 row15\" rowspan=\"3\">80</th>\n      <th id=\"T_0a9a3_level7_row15\" class=\"row_heading level7 row15\" >30</th>\n      <td id=\"T_0a9a3_row15_col0\" class=\"data row15 col0\" >52</td>\n      <td id=\"T_0a9a3_row15_col1\" class=\"data row15 col1\" >78.51%</td>\n      <td id=\"T_0a9a3_row15_col2\" class=\"data row15 col2\" >-41.00%</td>\n      <td id=\"T_0a9a3_row15_col3\" class=\"data row15 col3\" >1.490000</td>\n      <td id=\"T_0a9a3_row15_col4\" class=\"data row15 col4\" >2.320000</td>\n      <td id=\"T_0a9a3_row15_col5\" class=\"data row15 col5\" >4.83%</td>\n      <td id=\"T_0a9a3_row15_col6\" class=\"data row15 col6\" >2.75%</td>\n    </tr>\n    <tr>\n      <th id=\"T_0a9a3_level7_row16\" class=\"row_heading level7 row16\" >40</th>\n      <td id=\"T_0a9a3_row16_col0\" class=\"data row16 col0\" >70</td>\n      <td id=\"T_0a9a3_row16_col1\" class=\"data row16 col1\" >55.06%</td>\n      <td id=\"T_0a9a3_row16_col2\" class=\"data row16 col2\" >-54.00%</td>\n      <td id=\"T_0a9a3_row16_col3\" class=\"data row16 col3\" >1.240000</td>\n      <td id=\"T_0a9a3_row16_col4\" class=\"data row16 col4\" >1.910000</td>\n      <td id=\"T_0a9a3_row16_col5\" class=\"data row16 col5\" >4.15%</td>\n      <td id=\"T_0a9a3_row16_col6\" class=\"data row16 col6\" >1.55%</td>\n    </tr>\n    <tr>\n      <th id=\"T_0a9a3_level7_row17\" class=\"row_heading level7 row17\" >50</th>\n      <td id=\"T_0a9a3_row17_col0\" class=\"data row17 col0\" >73</td>\n      <td id=\"T_0a9a3_row17_col1\" class=\"data row17 col1\" >67.66%</td>\n      <td id=\"T_0a9a3_row17_col2\" class=\"data row17 col2\" >-31.00%</td>\n      <td id=\"T_0a9a3_row17_col3\" class=\"data row17 col3\" >1.440000</td>\n      <td id=\"T_0a9a3_row17_col4\" class=\"data row17 col4\" >2.260000</td>\n      <td id=\"T_0a9a3_row17_col5\" class=\"data row17 col5\" >4.37%</td>\n      <td id=\"T_0a9a3_row17_col6\" class=\"data row17 col6\" >1.99%</td>\n    </tr>\n    <tr>\n      <th id=\"T_0a9a3_level5_row18\" class=\"row_heading level5 row18\" rowspan=\"9\">8</th>\n      <th id=\"T_0a9a3_level6_row18\" class=\"row_heading level6 row18\" rowspan=\"3\">60</th>\n      <th id=\"T_0a9a3_level7_row18\" class=\"row_heading level7 row18\" >30</th>\n      <td id=\"T_0a9a3_row18_col0\" class=\"data row18 col0\" >70</td>\n      <td id=\"T_0a9a3_row18_col1\" class=\"data row18 col1\" >53.22%</td>\n      <td id=\"T_0a9a3_row18_col2\" class=\"data row18 col2\" >-66.00%</td>\n      <td id=\"T_0a9a3_row18_col3\" class=\"data row18 col3\" >1.020000</td>\n      <td id=\"T_0a9a3_row18_col4\" class=\"data row18 col4\" >1.470000</td>\n      <td id=\"T_0a9a3_row18_col5\" class=\"data row18 col5\" >3.67%</td>\n      <td id=\"T_0a9a3_row18_col6\" class=\"data row18 col6\" >1.41%</td>\n    </tr>\n    <tr>\n      <th id=\"T_0a9a3_level7_row19\" class=\"row_heading level7 row19\" >40</th>\n      <td id=\"T_0a9a3_row19_col0\" class=\"data row19 col0\" >108</td>\n      <td id=\"T_0a9a3_row19_col1\" class=\"data row19 col1\" >73.66%</td>\n      <td id=\"T_0a9a3_row19_col2\" class=\"data row19 col2\" >-67.00%</td>\n      <td id=\"T_0a9a3_row19_col3\" class=\"data row19 col3\" >1.210000</td>\n      <td id=\"T_0a9a3_row19_col4\" class=\"data row19 col4\" >1.790000</td>\n      <td id=\"T_0a9a3_row19_col5\" class=\"data row19 col5\" >2.82%</td>\n      <td id=\"T_0a9a3_row19_col6\" class=\"data row19 col6\" >-0.25%</td>\n    </tr>\n    <tr>\n      <th id=\"T_0a9a3_level7_row20\" class=\"row_heading level7 row20\" >50</th>\n      <td id=\"T_0a9a3_row20_col0\" class=\"data row20 col0\" >122</td>\n      <td id=\"T_0a9a3_row20_col1\" class=\"data row20 col1\" >65.07%</td>\n      <td id=\"T_0a9a3_row20_col2\" class=\"data row20 col2\" >-69.00%</td>\n      <td id=\"T_0a9a3_row20_col3\" class=\"data row20 col3\" >1.120000</td>\n      <td id=\"T_0a9a3_row20_col4\" class=\"data row20 col4\" >1.640000</td>\n      <td id=\"T_0a9a3_row20_col5\" class=\"data row20 col5\" >2.76%</td>\n      <td id=\"T_0a9a3_row20_col6\" class=\"data row20 col6\" >0.15%</td>\n    </tr>\n    <tr>\n      <th id=\"T_0a9a3_level6_row21\" class=\"row_heading level6 row21\" rowspan=\"3\">70</th>\n      <th id=\"T_0a9a3_level7_row21\" class=\"row_heading level7 row21\" >30</th>\n      <td id=\"T_0a9a3_row21_col0\" class=\"data row21 col0\" >56</td>\n      <td id=\"T_0a9a3_row21_col1\" class=\"data row21 col1\" >57.89%</td>\n      <td id=\"T_0a9a3_row21_col2\" class=\"data row21 col2\" >-61.00%</td>\n      <td id=\"T_0a9a3_row21_col3\" class=\"data row21 col3\" >1.070000</td>\n      <td id=\"T_0a9a3_row21_col4\" class=\"data row21 col4\" >1.540000</td>\n      <td id=\"T_0a9a3_row21_col5\" class=\"data row21 col5\" >5.60%</td>\n      <td id=\"T_0a9a3_row21_col6\" class=\"data row21 col6\" >3.05%</td>\n    </tr>\n    <tr>\n      <th id=\"T_0a9a3_level7_row22\" class=\"row_heading level7 row22\" >40</th>\n      <td id=\"T_0a9a3_row22_col0\" class=\"data row22 col0\" >86</td>\n      <td id=\"T_0a9a3_row22_col1\" class=\"data row22 col1\" >66.64%</td>\n      <td id=\"T_0a9a3_row22_col2\" class=\"data row22 col2\" >-63.00%</td>\n      <td id=\"T_0a9a3_row22_col3\" class=\"data row22 col3\" >1.180000</td>\n      <td id=\"T_0a9a3_row22_col4\" class=\"data row22 col4\" >1.750000</td>\n      <td id=\"T_0a9a3_row22_col5\" class=\"data row22 col5\" >2.88%</td>\n      <td id=\"T_0a9a3_row22_col6\" class=\"data row22 col6\" >-0.86%</td>\n    </tr>\n    <tr>\n      <th id=\"T_0a9a3_level7_row23\" class=\"row_heading level7 row23\" >50</th>\n      <td id=\"T_0a9a3_row23_col0\" class=\"data row23 col0\" >95</td>\n      <td id=\"T_0a9a3_row23_col1\" class=\"data row23 col1\" >80.11%</td>\n      <td id=\"T_0a9a3_row23_col2\" class=\"data row23 col2\" >-53.00%</td>\n      <td id=\"T_0a9a3_row23_col3\" class=\"data row23 col3\" >1.290000</td>\n      <td id=\"T_0a9a3_row23_col4\" class=\"data row23 col4\" >1.920000</td>\n      <td id=\"T_0a9a3_row23_col5\" class=\"data row23 col5\" >3.47%</td>\n      <td id=\"T_0a9a3_row23_col6\" class=\"data row23 col6\" >1.42%</td>\n    </tr>\n    <tr>\n      <th id=\"T_0a9a3_level6_row24\" class=\"row_heading level6 row24\" rowspan=\"3\">80</th>\n      <th id=\"T_0a9a3_level7_row24\" class=\"row_heading level7 row24\" >30</th>\n      <td id=\"T_0a9a3_row24_col0\" class=\"data row24 col0\" >43</td>\n      <td id=\"T_0a9a3_row24_col1\" class=\"data row24 col1\" >25.10%</td>\n      <td id=\"T_0a9a3_row24_col2\" class=\"data row24 col2\" >-68.00%</td>\n      <td id=\"T_0a9a3_row24_col3\" class=\"data row24 col3\" >0.690000</td>\n      <td id=\"T_0a9a3_row24_col4\" class=\"data row24 col4\" >0.990000</td>\n      <td id=\"T_0a9a3_row24_col5\" class=\"data row24 col5\" >2.91%</td>\n      <td id=\"T_0a9a3_row24_col6\" class=\"data row24 col6\" >2.32%</td>\n    </tr>\n    <tr>\n      <th id=\"T_0a9a3_level7_row25\" class=\"row_heading level7 row25\" >40</th>\n      <td id=\"T_0a9a3_row25_col0\" class=\"data row25 col0\" >51</td>\n      <td id=\"T_0a9a3_row25_col1\" class=\"data row25 col1\" >67.28%</td>\n      <td id=\"T_0a9a3_row25_col2\" class=\"data row25 col2\" >-30.00%</td>\n      <td id=\"T_0a9a3_row25_col3\" class=\"data row25 col3\" >1.360000</td>\n      <td id=\"T_0a9a3_row25_col4\" class=\"data row25 col4\" >2.190000</td>\n      <td id=\"T_0a9a3_row25_col5\" class=\"data row25 col5\" >5.32%</td>\n      <td id=\"T_0a9a3_row25_col6\" class=\"data row25 col6\" >2.15%</td>\n    </tr>\n    <tr>\n      <th id=\"T_0a9a3_level7_row26\" class=\"row_heading level7 row26\" >50</th>\n      <td id=\"T_0a9a3_row26_col0\" class=\"data row26 col0\" >55</td>\n      <td id=\"T_0a9a3_row26_col1\" class=\"data row26 col1\" >63.14%</td>\n      <td id=\"T_0a9a3_row26_col2\" class=\"data row26 col2\" >-46.00%</td>\n      <td id=\"T_0a9a3_row26_col3\" class=\"data row26 col3\" >1.260000</td>\n      <td id=\"T_0a9a3_row26_col4\" class=\"data row26 col4\" >1.990000</td>\n      <td id=\"T_0a9a3_row26_col5\" class=\"data row26 col5\" >4.75%</td>\n      <td id=\"T_0a9a3_row26_col6\" class=\"data row26 col6\" >3.34%</td>\n    </tr>\n    <tr>\n      <th id=\"T_0a9a3_level5_row27\" class=\"row_heading level5 row27\" rowspan=\"9\">9</th>\n      <th id=\"T_0a9a3_level6_row27\" class=\"row_heading level6 row27\" rowspan=\"3\">60</th>\n      <th id=\"T_0a9a3_level7_row27\" class=\"row_heading level7 row27\" >30</th>\n      <td id=\"T_0a9a3_row27_col0\" class=\"data row27 col0\" >63</td>\n      <td id=\"T_0a9a3_row27_col1\" class=\"data row27 col1\" >41.12%</td>\n      <td id=\"T_0a9a3_row27_col2\" class=\"data row27 col2\" >-70.00%</td>\n      <td id=\"T_0a9a3_row27_col3\" class=\"data row27 col3\" >0.860000</td>\n      <td id=\"T_0a9a3_row27_col4\" class=\"data row27 col4\" >1.230000</td>\n      <td id=\"T_0a9a3_row27_col5\" class=\"data row27 col5\" >3.26%</td>\n      <td id=\"T_0a9a3_row27_col6\" class=\"data row27 col6\" >1.84%</td>\n    </tr>\n    <tr>\n      <th id=\"T_0a9a3_level7_row28\" class=\"row_heading level7 row28\" >40</th>\n      <td id=\"T_0a9a3_row28_col0\" class=\"data row28 col0\" >97</td>\n      <td id=\"T_0a9a3_row28_col1\" class=\"data row28 col1\" >77.35%</td>\n      <td id=\"T_0a9a3_row28_col2\" class=\"data row28 col2\" >-66.00%</td>\n      <td id=\"T_0a9a3_row28_col3\" class=\"data row28 col3\" >1.240000</td>\n      <td id=\"T_0a9a3_row28_col4\" class=\"data row28 col4\" >1.810000</td>\n      <td id=\"T_0a9a3_row28_col5\" class=\"data row28 col5\" >3.22%</td>\n      <td id=\"T_0a9a3_row28_col6\" class=\"data row28 col6\" >0.11%</td>\n    </tr>\n    <tr>\n      <th id=\"T_0a9a3_level7_row29\" class=\"row_heading level7 row29\" >50</th>\n      <td id=\"T_0a9a3_row29_col0\" class=\"data row29 col0\" >110</td>\n      <td id=\"T_0a9a3_row29_col1\" class=\"data row29 col1\" >94.67%</td>\n      <td id=\"T_0a9a3_row29_col2\" class=\"data row29 col2\" >-70.00%</td>\n      <td id=\"T_0a9a3_row29_col3\" class=\"data row29 col3\" >1.390000</td>\n      <td id=\"T_0a9a3_row29_col4\" class=\"data row29 col4\" >2.080000</td>\n      <td id=\"T_0a9a3_row29_col5\" class=\"data row29 col5\" >4.01%</td>\n      <td id=\"T_0a9a3_row29_col6\" class=\"data row29 col6\" >0.52%</td>\n    </tr>\n    <tr>\n      <th id=\"T_0a9a3_level6_row30\" class=\"row_heading level6 row30\" rowspan=\"3\">70</th>\n      <th id=\"T_0a9a3_level7_row30\" class=\"row_heading level7 row30\" >30</th>\n      <td id=\"T_0a9a3_row30_col0\" class=\"data row30 col0\" >47</td>\n      <td id=\"T_0a9a3_row30_col1\" class=\"data row30 col1\" >62.84%</td>\n      <td id=\"T_0a9a3_row30_col2\" class=\"data row30 col2\" >-61.00%</td>\n      <td id=\"T_0a9a3_row30_col3\" class=\"data row30 col3\" >1.110000</td>\n      <td id=\"T_0a9a3_row30_col4\" class=\"data row30 col4\" >1.610000</td>\n      <td id=\"T_0a9a3_row30_col5\" class=\"data row30 col5\" >7.03%</td>\n      <td id=\"T_0a9a3_row30_col6\" class=\"data row30 col6\" >4.72%</td>\n    </tr>\n    <tr>\n      <th id=\"T_0a9a3_level7_row31\" class=\"row_heading level7 row31\" >40</th>\n      <td id=\"T_0a9a3_row31_col0\" class=\"data row31 col0\" >65</td>\n      <td id=\"T_0a9a3_row31_col1\" class=\"data row31 col1\" >100.29%</td>\n      <td id=\"T_0a9a3_row31_col2\" class=\"data row31 col2\" >-56.00%</td>\n      <td id=\"T_0a9a3_row31_col3\" class=\"data row31 col3\" >1.530000</td>\n      <td id=\"T_0a9a3_row31_col4\" class=\"data row31 col4\" >2.300000</td>\n      <td id=\"T_0a9a3_row31_col5\" class=\"data row31 col5\" >5.52%</td>\n      <td id=\"T_0a9a3_row31_col6\" class=\"data row31 col6\" >4.79%</td>\n    </tr>\n    <tr>\n      <th id=\"T_0a9a3_level7_row32\" class=\"row_heading level7 row32\" >50</th>\n      <td id=\"T_0a9a3_row32_col0\" class=\"data row32 col0\" >76</td>\n      <td id=\"T_0a9a3_row32_col1\" class=\"data row32 col1\" >122.52%</td>\n      <td id=\"T_0a9a3_row32_col2\" class=\"data row32 col2\" >-37.00%</td>\n      <td id=\"T_0a9a3_row32_col3\" class=\"data row32 col3\" >1.850000</td>\n      <td id=\"T_0a9a3_row32_col4\" class=\"data row32 col4\" >3.010000</td>\n      <td id=\"T_0a9a3_row32_col5\" class=\"data row32 col5\" >5.53%</td>\n      <td id=\"T_0a9a3_row32_col6\" class=\"data row32 col6\" >2.50%</td>\n    </tr>\n    <tr>\n      <th id=\"T_0a9a3_level6_row33\" class=\"row_heading level6 row33\" rowspan=\"3\">80</th>\n      <th id=\"T_0a9a3_level7_row33\" class=\"row_heading level7 row33\" >30</th>\n      <td id=\"T_0a9a3_row33_col0\" class=\"data row33 col0\" >34</td>\n      <td id=\"T_0a9a3_row33_col1\" class=\"data row33 col1\" >31.22%</td>\n      <td id=\"T_0a9a3_row33_col2\" class=\"data row33 col2\" >-65.00%</td>\n      <td id=\"T_0a9a3_row33_col3\" class=\"data row33 col3\" >0.780000</td>\n      <td id=\"T_0a9a3_row33_col4\" class=\"data row33 col4\" >1.140000</td>\n      <td id=\"T_0a9a3_row33_col5\" class=\"data row33 col5\" >4.43%</td>\n      <td id=\"T_0a9a3_row33_col6\" class=\"data row33 col6\" >2.34%</td>\n    </tr>\n    <tr>\n      <th id=\"T_0a9a3_level7_row34\" class=\"row_heading level7 row34\" >40</th>\n      <td id=\"T_0a9a3_row34_col0\" class=\"data row34 col0\" >44</td>\n      <td id=\"T_0a9a3_row34_col1\" class=\"data row34 col1\" >31.48%</td>\n      <td id=\"T_0a9a3_row34_col2\" class=\"data row34 col2\" >-32.00%</td>\n      <td id=\"T_0a9a3_row34_col3\" class=\"data row34 col3\" >0.860000</td>\n      <td id=\"T_0a9a3_row34_col4\" class=\"data row34 col4\" >1.270000</td>\n      <td id=\"T_0a9a3_row34_col5\" class=\"data row34 col5\" >3.16%</td>\n      <td id=\"T_0a9a3_row34_col6\" class=\"data row34 col6\" >1.36%</td>\n    </tr>\n    <tr>\n      <th id=\"T_0a9a3_level7_row35\" class=\"row_heading level7 row35\" >50</th>\n      <td id=\"T_0a9a3_row35_col0\" class=\"data row35 col0\" >42</td>\n      <td id=\"T_0a9a3_row35_col1\" class=\"data row35 col1\" >56.82%</td>\n      <td id=\"T_0a9a3_row35_col2\" class=\"data row35 col2\" >-30.00%</td>\n      <td id=\"T_0a9a3_row35_col3\" class=\"data row35 col3\" >1.260000</td>\n      <td id=\"T_0a9a3_row35_col4\" class=\"data row35 col4\" >1.950000</td>\n      <td id=\"T_0a9a3_row35_col5\" class=\"data row35 col5\" >6.54%</td>\n      <td id=\"T_0a9a3_row35_col6\" class=\"data row35 col6\" >4.67%</td>\n    </tr>\n    <tr>\n      <th id=\"T_0a9a3_level5_row36\" class=\"row_heading level5 row36\" rowspan=\"9\">20</th>\n      <th id=\"T_0a9a3_level6_row36\" class=\"row_heading level6 row36\" rowspan=\"3\">60</th>\n      <th id=\"T_0a9a3_level7_row36\" class=\"row_heading level7 row36\" >30</th>\n      <td id=\"T_0a9a3_row36_col0\" class=\"data row36 col0\" >19</td>\n      <td id=\"T_0a9a3_row36_col1\" class=\"data row36 col1\" >55.98%</td>\n      <td id=\"T_0a9a3_row36_col2\" class=\"data row36 col2\" >-74.00%</td>\n      <td id=\"T_0a9a3_row36_col3\" class=\"data row36 col3\" >1.010000</td>\n      <td id=\"T_0a9a3_row36_col4\" class=\"data row36 col4\" >1.450000</td>\n      <td id=\"T_0a9a3_row36_col5\" class=\"data row36 col5\" >5.92%</td>\n      <td id=\"T_0a9a3_row36_col6\" class=\"data row36 col6\" >5.33%</td>\n    </tr>\n    <tr>\n      <th id=\"T_0a9a3_level7_row37\" class=\"row_heading level7 row37\" >40</th>\n      <td id=\"T_0a9a3_row37_col0\" class=\"data row37 col0\" >46</td>\n      <td id=\"T_0a9a3_row37_col1\" class=\"data row37 col1\" >48.96%</td>\n      <td id=\"T_0a9a3_row37_col2\" class=\"data row37 col2\" >-63.00%</td>\n      <td id=\"T_0a9a3_row37_col3\" class=\"data row37 col3\" >0.960000</td>\n      <td id=\"T_0a9a3_row37_col4\" class=\"data row37 col4\" >1.380000</td>\n      <td id=\"T_0a9a3_row37_col5\" class=\"data row37 col5\" >5.42%</td>\n      <td id=\"T_0a9a3_row37_col6\" class=\"data row37 col6\" >1.54%</td>\n    </tr>\n    <tr>\n      <th id=\"T_0a9a3_level7_row38\" class=\"row_heading level7 row38\" >50</th>\n      <td id=\"T_0a9a3_row38_col0\" class=\"data row38 col0\" >57</td>\n      <td id=\"T_0a9a3_row38_col1\" class=\"data row38 col1\" >79.72%</td>\n      <td id=\"T_0a9a3_row38_col2\" class=\"data row38 col2\" >-65.00%</td>\n      <td id=\"T_0a9a3_row38_col3\" class=\"data row38 col3\" >1.300000</td>\n      <td id=\"T_0a9a3_row38_col4\" class=\"data row38 col4\" >1.910000</td>\n      <td id=\"T_0a9a3_row38_col5\" class=\"data row38 col5\" >6.21%</td>\n      <td id=\"T_0a9a3_row38_col6\" class=\"data row38 col6\" >3.48%</td>\n    </tr>\n    <tr>\n      <th id=\"T_0a9a3_level6_row39\" class=\"row_heading level6 row39\" rowspan=\"3\">70</th>\n      <th id=\"T_0a9a3_level7_row39\" class=\"row_heading level7 row39\" >30</th>\n      <td id=\"T_0a9a3_row39_col0\" class=\"data row39 col0\" >17</td>\n      <td id=\"T_0a9a3_row39_col1\" class=\"data row39 col1\" >61.44%</td>\n      <td id=\"T_0a9a3_row39_col2\" class=\"data row39 col2\" >-70.00%</td>\n      <td id=\"T_0a9a3_row39_col3\" class=\"data row39 col3\" >1.080000</td>\n      <td id=\"T_0a9a3_row39_col4\" class=\"data row39 col4\" >1.560000</td>\n      <td id=\"T_0a9a3_row39_col5\" class=\"data row39 col5\" >4.54%</td>\n      <td id=\"T_0a9a3_row39_col6\" class=\"data row39 col6\" >5.25%</td>\n    </tr>\n    <tr>\n      <th id=\"T_0a9a3_level7_row40\" class=\"row_heading level7 row40\" >40</th>\n      <td id=\"T_0a9a3_row40_col0\" class=\"data row40 col0\" >34</td>\n      <td id=\"T_0a9a3_row40_col1\" class=\"data row40 col1\" >19.63%</td>\n      <td id=\"T_0a9a3_row40_col2\" class=\"data row40 col2\" >-80.00%</td>\n      <td id=\"T_0a9a3_row40_col3\" class=\"data row40 col3\" >0.610000</td>\n      <td id=\"T_0a9a3_row40_col4\" class=\"data row40 col4\" >0.850000</td>\n      <td id=\"T_0a9a3_row40_col5\" class=\"data row40 col5\" >3.45%</td>\n      <td id=\"T_0a9a3_row40_col6\" class=\"data row40 col6\" >0.86%</td>\n    </tr>\n    <tr>\n      <th id=\"T_0a9a3_level7_row41\" class=\"row_heading level7 row41\" >50</th>\n      <td id=\"T_0a9a3_row41_col0\" class=\"data row41 col0\" >44</td>\n      <td id=\"T_0a9a3_row41_col1\" class=\"data row41 col1\" >68.83%</td>\n      <td id=\"T_0a9a3_row41_col2\" class=\"data row41 col2\" >-30.00%</td>\n      <td id=\"T_0a9a3_row41_col3\" class=\"data row41 col3\" >1.380000</td>\n      <td id=\"T_0a9a3_row41_col4\" class=\"data row41 col4\" >2.140000</td>\n      <td id=\"T_0a9a3_row41_col5\" class=\"data row41 col5\" >5.48%</td>\n      <td id=\"T_0a9a3_row41_col6\" class=\"data row41 col6\" >1.22%</td>\n    </tr>\n    <tr>\n      <th id=\"T_0a9a3_level6_row42\" class=\"row_heading level6 row42\" rowspan=\"3\">80</th>\n      <th id=\"T_0a9a3_level7_row42\" class=\"row_heading level7 row42\" >30</th>\n      <td id=\"T_0a9a3_row42_col0\" class=\"data row42 col0\" >3</td>\n      <td id=\"T_0a9a3_row42_col1\" class=\"data row42 col1\" >nan%</td>\n      <td id=\"T_0a9a3_row42_col2\" class=\"data row42 col2\" >nan%</td>\n      <td id=\"T_0a9a3_row42_col3\" class=\"data row42 col3\" >nan</td>\n      <td id=\"T_0a9a3_row42_col4\" class=\"data row42 col4\" >nan</td>\n      <td id=\"T_0a9a3_row42_col5\" class=\"data row42 col5\" >nan%</td>\n      <td id=\"T_0a9a3_row42_col6\" class=\"data row42 col6\" >nan%</td>\n    </tr>\n    <tr>\n      <th id=\"T_0a9a3_level7_row43\" class=\"row_heading level7 row43\" >40</th>\n      <td id=\"T_0a9a3_row43_col0\" class=\"data row43 col0\" >8</td>\n      <td id=\"T_0a9a3_row43_col1\" class=\"data row43 col1\" >20.31%</td>\n      <td id=\"T_0a9a3_row43_col2\" class=\"data row43 col2\" >-50.00%</td>\n      <td id=\"T_0a9a3_row43_col3\" class=\"data row43 col3\" >0.670000</td>\n      <td id=\"T_0a9a3_row43_col4\" class=\"data row43 col4\" >1.020000</td>\n      <td id=\"T_0a9a3_row43_col5\" class=\"data row43 col5\" >16.71%</td>\n      <td id=\"T_0a9a3_row43_col6\" class=\"data row43 col6\" >12.45%</td>\n    </tr>\n    <tr>\n      <th id=\"T_0a9a3_level7_row44\" class=\"row_heading level7 row44\" >50</th>\n      <td id=\"T_0a9a3_row44_col0\" class=\"data row44 col0\" >8</td>\n      <td id=\"T_0a9a3_row44_col1\" class=\"data row44 col1\" >29.87%</td>\n      <td id=\"T_0a9a3_row44_col2\" class=\"data row44 col2\" >-31.00%</td>\n      <td id=\"T_0a9a3_row44_col3\" class=\"data row44 col3\" >1.020000</td>\n      <td id=\"T_0a9a3_row44_col4\" class=\"data row44 col4\" >1.590000</td>\n      <td id=\"T_0a9a3_row44_col5\" class=\"data row44 col5\" >22.89%</td>\n      <td id=\"T_0a9a3_row44_col6\" class=\"data row44 col6\" >13.26%</td>\n    </tr>\n  </tbody>\n</table>\n"
     },
     "metadata": {},
     "output_type": "display_data"
    }
   ],
   "source": [
    "# Set Jupyter Notebook output mode parameters\n",
    "from tradeexecutor.backtest.notebook import setup_charting_and_output\n",
    "from tradeexecutor.analysis.grid_search import analyse_grid_search_result\n",
    "from tradeexecutor.analysis.grid_search import visualise_table\n",
    "\n",
    "setup_charting_and_output()\n",
    "\n",
    "# Print extension of our backtest\n",
    "print(f\"Grid search combinations available: {len(grid_search_results)}\")\n",
    "\n",
    "table = analyse_grid_search_result(grid_search_results)\n",
    "visualise_table(table)\n"
   ],
   "metadata": {
    "collapsed": false,
    "ExecuteTime": {
     "end_time": "2024-02-08T17:33:17.274016Z",
     "start_time": "2024-02-08T17:33:17.135228Z"
    }
   }
  }
 ],
 "metadata": {
  "kernelspec": {
   "display_name": "Python 3 (ipykernel)",
   "language": "python",
   "name": "python3"
  },
  "language_info": {
   "codemirror_mode": {
    "name": "ipython",
    "version": 3
   },
   "file_extension": ".py",
   "mimetype": "text/x-python",
   "name": "python",
   "nbconvert_exporter": "python",
   "pygments_lexer": "ipython3",
   "version": "3.10.6"
  },
  "vscode": {
   "interpreter": {
    "hash": "f45fb66dacef78c495ceec56f258b06b84bd9cb2c0a9a6d3656125fb3c018996"
   }
  }
 },
 "nbformat": 4,
 "nbformat_minor": 4
}
