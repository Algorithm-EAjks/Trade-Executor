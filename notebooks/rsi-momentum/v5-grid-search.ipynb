{
 "cells": [
  {
   "cell_type": "markdown",
   "source": [
    "# RSI momentum trading strategy example\n",
    "\n",
    "- This is a backtest example notebook\n",
    "    - This notebook does a grid search over parameters of v4 notebook\n",
    "\n",
    "# Set up\n",
    "\n",
    "Set up Trading Strategy data client.\n"
   ],
   "metadata": {
    "collapsed": false
   }
  },
  {
   "cell_type": "code",
   "execution_count": 38,
   "outputs": [
    {
     "name": "stdout",
     "output_type": "stream",
     "text": [
      "Started Trading Strategy in Jupyter notebook environment, configuration is stored in /Users/moo/.tradingstrategy\n"
     ]
    }
   ],
   "source": [
    "from tradeexecutor.utils.notebook import setup_charting_and_output\n",
    "from tradingstrategy.client import Client\n",
    "\n",
    "client = Client.create_jupyter_client()\n",
    "\n",
    "setup_charting_and_output()  # Set chart and table output formatting options"
   ],
   "metadata": {
    "collapsed": false,
    "ExecuteTime": {
     "end_time": "2024-02-08T18:35:20.382242Z",
     "start_time": "2024-02-08T18:35:20.353283Z"
    }
   }
  },
  {
   "cell_type": "markdown",
   "source": [
    "# Load data\n",
    "\n",
    "We use Binance data so we get a longer period of data."
   ],
   "metadata": {
    "collapsed": false
   }
  },
  {
   "cell_type": "code",
   "execution_count": 39,
   "outputs": [
    {
     "data": {
      "text/plain": "  0%|          | 0/2 [00:00<?, ?it/s]",
      "application/vnd.jupyter.widget-view+json": {
       "version_major": 2,
       "version_minor": 0,
       "model_id": "d5a5426173194ad7abf8b1a8922c8976"
      }
     },
     "metadata": {},
     "output_type": "display_data"
    }
   ],
   "source": [
    "import datetime\n",
    "from tradingstrategy.timebucket import TimeBucket\n",
    "from tradeexecutor.utils.binance import create_binance_universe\n",
    "\n",
    "strategy_universe = create_binance_universe(\n",
    "    [\"BTCUSDT\", \"ETHUSDT\"],   # Binance internal tickers later mapped to Trading strategy DEXPair metadata class\n",
    "    candle_time_bucket=TimeBucket.d1,\n",
    "    stop_loss_time_bucket=TimeBucket.h4,\n",
    "    start_at=datetime.datetime(2019, 1, 1),  # Backtest for 5 years data\n",
    "    end_at=datetime.datetime(2024, 1, 1),\n",
    "    include_lending=False\n",
    ")\n"
   ],
   "metadata": {
    "collapsed": false,
    "ExecuteTime": {
     "end_time": "2024-02-08T18:35:20.492160Z",
     "start_time": "2024-02-08T18:35:20.366948Z"
    }
   }
  },
  {
   "cell_type": "markdown",
   "source": [
    "# Show loaded trading universe\n",
    "\n",
    "Display generic troubleshooting information about the loaded data."
   ],
   "metadata": {
    "collapsed": false
   }
  },
  {
   "cell_type": "code",
   "execution_count": 40,
   "outputs": [
    {
     "name": "stdout",
     "output_type": "stream",
     "text": [
      "Loaded 21,914 candles.\n",
      "Pair <Pair #1 BTC - USDT at exchange binance> first close price 3693.13 at 2019-01-01 00:00:00\n",
      "Pair <Pair #2 ETH - USDT at exchange binance> first close price 131.32 at 2019-01-01 00:00:00\n"
     ]
    }
   ],
   "source": [
    "pairs = strategy_universe.data_universe.pairs  # Trading pairs metadata\n",
    "candles = strategy_universe.data_universe.candles  # Candles for all trading pairs\n",
    "\n",
    "print(f\"Loaded {candles.get_candle_count():,} candles.\")\n",
    "\n",
    "for pair in pairs.iterate_pairs():\n",
    "    pair_candles = candles.get_candles_by_pair(pair)\n",
    "    first_close = pair_candles.iloc[0][\"close\"]\n",
    "    first_close_at = pair_candles.index[0]\n",
    "    print(f\"Pair {pair} first close price {first_close} at {first_close_at}\")"
   ],
   "metadata": {
    "collapsed": false,
    "ExecuteTime": {
     "end_time": "2024-02-08T18:35:20.500520Z",
     "start_time": "2024-02-08T18:35:20.493184Z"
    }
   }
  },
  {
   "cell_type": "markdown",
   "source": [
    "# Trading algorithm"
   ],
   "metadata": {
    "collapsed": false
   }
  },
  {
   "cell_type": "code",
   "execution_count": 41,
   "outputs": [],
   "source": [
    "from tradeexecutor.strategy.parameters import StrategyParameters\n",
    "from tradeexecutor.strategy.weighting import weight_equal, weight_by_1_slash_n, weight_passthrouh\n",
    "from tradeexecutor.strategy.alpha_model import AlphaModel\n",
    "import numpy as np\n",
    "from tradeexecutor.strategy.pandas_trader.position_manager import PositionManager\n",
    "from tradingstrategy.chain import ChainId\n",
    "from typing import List, Dict\n",
    "\n",
    "from pandas_ta.momentum import rsi\n",
    "import pandas as pd\n",
    "\n",
    "from tradeexecutor.strategy.trading_strategy_universe import TradingStrategyUniverse\n",
    "from tradeexecutor.state.visualisation import PlotKind, PlotShape, PlotLabel\n",
    "from tradeexecutor.state.trade import TradeExecution\n",
    "from tradeexecutor.strategy.pricing_model import PricingModel\n",
    "from tradeexecutor.state.state import State\n",
    "\n",
    "# List of pair descriptions we used to look up pair metadata\n",
    "our_pairs = [\n",
    "    (ChainId.centralised_exchange, \"binance\", \"BTC\", \"USDT\"),\n",
    "    (ChainId.centralised_exchange, \"binance\", \"ETH\", \"USDT\"),\n",
    "]\n",
    "\n",
    "def decide_trades(\n",
    "    timestamp: pd.Timestamp,\n",
    "    parameters: StrategyParameters,\n",
    "    strategy_universe: TradingStrategyUniverse,\n",
    "    state: State,\n",
    "    pricing_model: PricingModel,\n",
    ") -> List[TradeExecution]:\n",
    "\n",
    "    # Resolve our pair metadata for our two pair strategy\n",
    "    position_manager = PositionManager(timestamp, strategy_universe, state, pricing_model)\n",
    "    alpha_model = AlphaModel(timestamp)\n",
    "    btc_pair = position_manager.get_trading_pair(our_pairs[0])\n",
    "    eth_pair = position_manager.get_trading_pair(our_pairs[1])\n",
    "\n",
    "    position_manager.log(\"decide_trades() start\")\n",
    "\n",
    "    #\n",
    "    # Indicators\n",
    "    #\n",
    "    # Calculate indicators for each pair.\n",
    "    #\n",
    "\n",
    "    # Per-trading pair calcualted data\n",
    "    close_prices = {btc_pair: None, eth_pair: None}  # Recent close prices\n",
    "    current_rsi_values = {}  # RSI yesterday\n",
    "    previous_rsi_values = {}  # RSI day before yesterday\n",
    "    current_price = {}  # Close price yesterday\n",
    "    momentum = {btc_pair: 0, eth_pair: 0}\n",
    "    eth_btc_rsi_yesterday = None\n",
    "\n",
    "    for pair in [btc_pair, eth_pair]:\n",
    "\n",
    "        pair_candles = candles.get_last_entries_by_pair_and_timestamp(pair.internal_id, timestamp)\n",
    "        close_prices[pair] = pair_candles[\"close\"]\n",
    "\n",
    "        assert pair_candles is not None\n",
    "        rsi_series = rsi(pair_candles[\"close\"], length=parameters.rsi_days)  # Will return None if the data buffer does not have enough days to look back\n",
    "\n",
    "        # Reset indicators for this cycle and this pair\n",
    "        current_rsi_values[pair] = None\n",
    "        previous_rsi_values[pair] = None\n",
    "        current_price[pair] = None\n",
    "        price_today = None\n",
    "\n",
    "        if len(pair_candles) > 0:\n",
    "            # We have enough data to get the latest price\n",
    "            current_price[pair] = price_today = pair_candles[\"close\"][-1]\n",
    "\n",
    "        if rsi_series is not None:\n",
    "            current_val = rsi_series[-1]\n",
    "            if np.isfinite(current_val):\n",
    "                # We have enough data and good value for RSI\n",
    "                assert 0 < current_val < 100, f\"RSI sanity check failed: {pair}: {current_val}\"  # Check we are in expected range\n",
    "                current_rsi_values[pair] = current_val\n",
    "\n",
    "            previous_val = rsi_series[-2]\n",
    "            if np.isfinite(previous_val):\n",
    "                # We have enough data and good value for RSI\n",
    "                assert 0 < previous_val < 100, f\"RSI sanity check failed: {pair}: {previous_val}\"  # Check we are in expected range\n",
    "                previous_rsi_values[pair] = previous_val\n",
    "\n",
    "            previous_rsi_values[pair] = previous_val\n",
    "\n",
    "    eth_btc_price = close_prices[eth_pair] / close_prices[btc_pair]\n",
    "    eth_btc_rsi = rsi(eth_btc_price, length=parameters.eth_btc_rsi_days)\n",
    "    if eth_btc_rsi is not None:\n",
    "        eth_btc_rsi_yesterday = eth_btc_rsi[-1]\n",
    "        momentum[eth_pair] = eth_btc_rsi_yesterday / 100\n",
    "        momentum[btc_pair] = 1 - momentum[eth_pair]\n",
    "\n",
    "    #\n",
    "    # Trading logic\n",
    "    #\n",
    "\n",
    "    for pair in [btc_pair, eth_pair]:\n",
    "\n",
    "        existing_position = position_manager.get_current_position_for_pair(pair)\n",
    "        pair_open = existing_position is not None\n",
    "        pair_momentum = momentum.get(pair, 0)\n",
    "        signal_strength = max(pair_momentum, 0.1)  # Singal strength must be positive, as we do long-only\n",
    "        if pd.isna(signal_strength):\n",
    "            signal_strength = 0\n",
    "        alpha_model.set_signal(pair, 0)\n",
    "\n",
    "        if pair_open:\n",
    "            # We have existing open position for this pair,\n",
    "            # keep it open by default unless we get a trigger condition below\n",
    "            position_manager.log(f\"Pair {pair} already open\")\n",
    "            alpha_model.set_signal(pair, signal_strength)\n",
    "\n",
    "        if current_rsi_values[pair] and previous_rsi_values[pair]:\n",
    "\n",
    "            # Check for RSI crossing our threshold values in this cycle, compared to the previous cycle\n",
    "            rsi_cross_above = current_rsi_values[pair] >= parameters.rsi_high and previous_rsi_values[btc_pair] < parameters.rsi_high\n",
    "            rsi_cross_below = current_rsi_values[pair] < parameters.rsi_low and previous_rsi_values[pair] > parameters.rsi_low\n",
    "\n",
    "            if not pair_open:\n",
    "                # Check for opening a position if no position is open\n",
    "                if rsi_cross_above:\n",
    "                    position_manager.log(f\"Pair {pair} crossed above\")\n",
    "                    alpha_model.set_signal(pair, signal_strength)\n",
    "            else:\n",
    "                # We have open position, check for the closure condition\n",
    "                if rsi_cross_below:\n",
    "                    position_manager.log(f\"Pair {pair} crossed below\")\n",
    "                    alpha_model.set_signal(pair, 0)\n",
    "\n",
    "    # Equally weight for all assets that\n",
    "    alpha_model.select_top_signals(2)\n",
    "    alpha_model.assign_weights(weight_passthrouh)\n",
    "    alpha_model.normalise_weights()\n",
    "    alpha_model.update_old_weights(state.portfolio)\n",
    "    portfolio = position_manager.get_current_portfolio()\n",
    "    portfolio_target_value = portfolio.get_total_equity() * parameters.allocation\n",
    "    alpha_model.calculate_target_positions(position_manager, portfolio_target_value)\n",
    "    trades = alpha_model.generate_rebalance_trades_and_triggers(\n",
    "        position_manager,\n",
    "        min_trade_threshold=parameters.minimum_rebalance_trade_threshold,\n",
    "    )\n",
    "\n",
    "    #\n",
    "    # Visualisations\n",
    "    #\n",
    "\n",
    "    visualisation = state.visualisation  # Helper class to visualise strategy output\n",
    "\n",
    "    visualisation.plot_indicator(\n",
    "        timestamp,\n",
    "        f\"ETH\",\n",
    "        PlotKind.technical_indicator_detached,\n",
    "        current_price[eth_pair],\n",
    "        colour=\"blue\",\n",
    "    )\n",
    "\n",
    "    # Draw BTC + ETH RSI between its trigger zones for this pair of we got a valid value for RSI for this pair\n",
    "\n",
    "    # BTC RSI daily\n",
    "    visualisation.plot_indicator(\n",
    "        timestamp,\n",
    "        f\"RSI\",\n",
    "        PlotKind.technical_indicator_detached,\n",
    "        current_rsi_values[btc_pair],\n",
    "        colour=\"orange\",\n",
    "    )\n",
    "\n",
    "    # ETH RSI daily\n",
    "    visualisation.plot_indicator(\n",
    "        timestamp,\n",
    "        f\"RSI ETH\",\n",
    "        PlotKind.technical_indicator_overlay_on_detached,\n",
    "        current_rsi_values[eth_pair],\n",
    "        colour=\"blue\",\n",
    "        label=PlotLabel.hidden,\n",
    "        detached_overlay_name=f\"RSI\",\n",
    "    )\n",
    "\n",
    "    # Low (vertical line)\n",
    "    visualisation.plot_indicator(\n",
    "        timestamp,\n",
    "        f\"RSI low trigger\",\n",
    "        PlotKind.technical_indicator_overlay_on_detached,\n",
    "        parameters.rsi_low,\n",
    "        detached_overlay_name=f\"RSI\",\n",
    "        plot_shape=PlotShape.horizontal_vertical,\n",
    "        colour=\"red\",\n",
    "        label=PlotLabel.hidden,\n",
    "    )\n",
    "\n",
    "    # High (vertical line)\n",
    "    visualisation.plot_indicator(\n",
    "        timestamp,\n",
    "        f\"RSI high trigger\",\n",
    "        PlotKind.technical_indicator_overlay_on_detached,\n",
    "        parameters.rsi_high,\n",
    "        detached_overlay_name=f\"RSI\",\n",
    "        plot_shape=PlotShape.horizontal_vertical,\n",
    "        colour=\"red\",\n",
    "        label=PlotLabel.hidden,\n",
    "    )\n",
    "\n",
    "    if eth_btc_rsi_yesterday is not None:\n",
    "\n",
    "        visualisation.plot_indicator(\n",
    "            timestamp,\n",
    "            f\"ETH/BTC\",\n",
    "            PlotKind.technical_indicator_detached,\n",
    "            eth_btc_price[-1],\n",
    "            colour=\"grey\",\n",
    "        )\n",
    "\n",
    "        if pd.notna(eth_btc_rsi_yesterday):\n",
    "            visualisation.plot_indicator(\n",
    "                timestamp,\n",
    "                f\"ETH/BTC RSI\",\n",
    "                PlotKind.technical_indicator_detached,\n",
    "                eth_btc_rsi_yesterday,\n",
    "                colour=\"grey\",\n",
    "            )\n",
    "\n",
    "    state.visualisation.add_calculations(timestamp, alpha_model.to_dict())  # Record alpha model thinking\n",
    "\n",
    "    return trades"
   ],
   "metadata": {
    "collapsed": false,
    "ExecuteTime": {
     "end_time": "2024-02-08T18:35:20.512876Z",
     "start_time": "2024-02-08T18:35:20.511055Z"
    }
   }
  },
  {
   "cell_type": "markdown",
   "source": [
    "# Search space\n",
    "\n",
    "Prepare the parameters we search."
   ],
   "metadata": {
    "collapsed": false
   }
  },
  {
   "cell_type": "code",
   "execution_count": 42,
   "outputs": [
    {
     "name": "stdout",
     "output_type": "stream",
     "text": [
      "We prepared 120 grid search combinations\n"
     ]
    }
   ],
   "source": [
    "from tradeexecutor.strategy.cycle import CycleDuration\n",
    "from pathlib import Path\n",
    "from tradeexecutor.backtest.grid_search import prepare_grid_combinations\n",
    "\n",
    "# This is the path where we keep the result files around\n",
    "storage_folder = Path(\"/tmp/v5-grid-search\")\n",
    "\n",
    "class StrategyParameters:\n",
    "    cycle_duration = CycleDuration.cycle_1d\n",
    "    rsi_days = [5, 6, 9, 8, 20]  # The length of RSI indicator\n",
    "    eth_btc_rsi_days = 60  # The length of ETH/BTC RSI\n",
    "    rsi_high = [55, 60, 70, 73, 77, 80] # RSI trigger threshold for decision making\n",
    "    rsi_low = [30, 40, 50, 60]  # RSI trigger threshold for decision making\n",
    "    allocation = 0.85 # Allocate 90% of cash to each position\n",
    "    lookback_candles = 120\n",
    "    minimum_rebalance_trade_threshold = 500.00  # Don't do trades that would have less than 500 USD value change\n",
    "\n",
    "combinations = prepare_grid_combinations(StrategyParameters, storage_folder)\n",
    "print(f\"We prepared {len(combinations)} grid search combinations\")"
   ],
   "metadata": {
    "collapsed": false,
    "ExecuteTime": {
     "end_time": "2024-02-08T18:35:20.539419Z",
     "start_time": "2024-02-08T18:35:20.514535Z"
    }
   }
  },
  {
   "cell_type": "markdown",
   "source": [
    "# Grid search\n",
    "\n",
    "Run a grid search on the above function."
   ],
   "metadata": {
    "collapsed": false
   }
  },
  {
   "cell_type": "code",
   "execution_count": 43,
   "outputs": [
    {
     "data": {
      "text/plain": "Grid searching using 8 processes: rsi_days, rsi_high, rsi_low:   0%|          | 0/120 [00:00<?, ?it/s]",
      "application/vnd.jupyter.widget-view+json": {
       "version_major": 2,
       "version_minor": 0,
       "model_id": "17676168f14741ea82c3b42e42b4d3ba"
      }
     },
     "metadata": {},
     "output_type": "display_data"
    }
   ],
   "source": [
    "from tradeexecutor.backtest.grid_search import perform_grid_search\n",
    "\n",
    "grid_search_results = perform_grid_search(\n",
    "    decide_trades,\n",
    "    strategy_universe,\n",
    "    combinations,\n",
    "    max_workers=8,\n",
    "    trading_strategy_engine_version=\"0.4\",\n",
    "    multiprocess=True,\n",
    ")\n"
   ],
   "metadata": {
    "collapsed": false,
    "ExecuteTime": {
     "end_time": "2024-02-08T18:42:21.360270Z",
     "start_time": "2024-02-08T18:35:20.533290Z"
    }
   }
  },
  {
   "cell_type": "markdown",
   "source": [
    "# Grid search result table\n",
    "\n",
    "- Show individual profit and risk for each grid combination"
   ],
   "metadata": {
    "collapsed": false
   }
  },
  {
   "cell_type": "code",
   "execution_count": 44,
   "outputs": [
    {
     "name": "stdout",
     "output_type": "stream",
     "text": [
      "Grid search combinations available: 120\n"
     ]
    },
    {
     "data": {
      "text/plain": "<pandas.io.formats.style.Styler at 0x3d270ada0>",
      "text/html": "<style type=\"text/css\">\n#T_67716_row0_col6, #T_67716_row111_col9 {\n  background-color: #abbfdc;\n  color: #000000;\n}\n#T_67716_row0_col7, #T_67716_row30_col7, #T_67716_row37_col7, #T_67716_row38_col7, #T_67716_row91_col8, #T_67716_row92_col9, #T_67716_row97_col7, #T_67716_row101_col7, #T_67716_row109_col9 {\n  background-color: #b0c2de;\n  color: #000000;\n}\n#T_67716_row0_col8, #T_67716_row59_col9, #T_67716_row101_col6 {\n  background-color: #8fb4d6;\n  color: #000000;\n}\n#T_67716_row0_col9, #T_67716_row76_col6, #T_67716_row99_col9 {\n  background-color: #a4bcda;\n  color: #000000;\n}\n#T_67716_row0_col10, #T_67716_row1_col10, #T_67716_row2_col10, #T_67716_row8_col11, #T_67716_row14_col10, #T_67716_row25_col11, #T_67716_row31_col10, #T_67716_row39_col10 {\n  background-color: #f7f0f7;\n  color: #000000;\n}\n#T_67716_row0_col11, #T_67716_row95_col6, #T_67716_row95_col8, #T_67716_row95_col9, #T_67716_row95_col10, #T_67716_row105_col7 {\n  background-color: #fff7fb;\n  color: #000000;\n  background-color: pink;\n}\n#T_67716_row1_col6, #T_67716_row84_col6, #T_67716_row88_col6, #T_67716_row98_col9 {\n  background-color: #79abd0;\n  color: #f1f1f1;\n}\n#T_67716_row1_col7, #T_67716_row15_col7, #T_67716_row24_col11, #T_67716_row35_col7 {\n  background-color: #fcf4fa;\n  color: #000000;\n}\n#T_67716_row1_col8, #T_67716_row58_col7, #T_67716_row62_col7, #T_67716_row83_col6 {\n  background-color: #65a3cb;\n  color: #f1f1f1;\n}\n#T_67716_row1_col9, #T_67716_row96_col9 {\n  background-color: #7eadd1;\n  color: #f1f1f1;\n}\n#T_67716_row1_col11, #T_67716_row2_col11, #T_67716_row4_col10, #T_67716_row6_col7, #T_67716_row25_col7, #T_67716_row29_col11, #T_67716_row75_col7, #T_67716_row103_col7 {\n  background-color: #f3edf5;\n  color: #000000;\n}\n#T_67716_row2_col6 {\n  background-color: #9cb9d9;\n  color: #000000;\n}\n#T_67716_row2_col7, #T_67716_row11_col8, #T_67716_row19_col8, #T_67716_row53_col7, #T_67716_row96_col11, #T_67716_row107_col8 {\n  background-color: #cccfe5;\n  color: #000000;\n}\n#T_67716_row2_col8, #T_67716_row26_col8, #T_67716_row55_col9, #T_67716_row56_col9, #T_67716_row59_col8, #T_67716_row64_col9, #T_67716_row94_col6, #T_67716_row100_col6, #T_67716_row104_col9 {\n  background-color: #7bacd1;\n  color: #f1f1f1;\n}\n#T_67716_row2_col9, #T_67716_row93_col8 {\n  background-color: #93b5d6;\n  color: #000000;\n}\n#T_67716_row3_col6, #T_67716_row64_col11, #T_67716_row84_col11, #T_67716_row94_col11, #T_67716_row111_col6 {\n  background-color: #c0c9e2;\n  color: #000000;\n}\n#T_67716_row3_col7, #T_67716_row31_col6, #T_67716_row47_col6, #T_67716_row52_col7, #T_67716_row77_col7, #T_67716_row92_col6, #T_67716_row92_col7, #T_67716_row108_col7 {\n  background-color: #c4cbe3;\n  color: #000000;\n}\n#T_67716_row3_col8, #T_67716_row47_col9, #T_67716_row48_col6, #T_67716_row63_col6, #T_67716_row92_col8 {\n  background-color: #a2bcda;\n  color: #000000;\n}\n#T_67716_row3_col9 {\n  background-color: #b4c4df;\n  color: #000000;\n}\n#T_67716_row3_col10, #T_67716_row10_col10, #T_67716_row11_col10, #T_67716_row16_col11, #T_67716_row57_col11, #T_67716_row72_col11, #T_67716_row95_col11 {\n  background-color: #f8f1f8;\n  color: #000000;\n}\n#T_67716_row3_col11, #T_67716_row17_col10, #T_67716_row27_col11, #T_67716_row28_col10, #T_67716_row28_col11, #T_67716_row30_col11, #T_67716_row32_col10, #T_67716_row33_col10, #T_67716_row35_col11, #T_67716_row59_col10, #T_67716_row67_col10, #T_67716_row74_col11, #T_67716_row96_col7, #T_67716_row100_col7 {\n  background-color: #f0eaf4;\n  color: #000000;\n}\n#T_67716_row4_col6 {\n  background-color: #a5bddb;\n  color: #000000;\n}\n#T_67716_row4_col7, #T_67716_row14_col7, #T_67716_row29_col7, #T_67716_row41_col10, #T_67716_row76_col10, #T_67716_row83_col10, #T_67716_row105_col11, #T_67716_row107_col10 {\n  background-color: #e8e4f0;\n  color: #000000;\n}\n#T_67716_row4_col8, #T_67716_row76_col8 {\n  background-color: #8bb2d4;\n  color: #000000;\n}\n#T_67716_row4_col9, #T_67716_row76_col9, #T_67716_row80_col7, #T_67716_row93_col9 {\n  background-color: #a1bbda;\n  color: #000000;\n}\n#T_67716_row4_col11 {\n  background-color: #faf3f9;\n  color: #000000;\n}\n#T_67716_row5_col6, #T_67716_row13_col6, #T_67716_row29_col9, #T_67716_row84_col9, #T_67716_row108_col10, #T_67716_row110_col11 {\n  background-color: #73a9cf;\n  color: #f1f1f1;\n}\n#T_67716_row5_col7, #T_67716_row8_col10, #T_67716_row13_col7, #T_67716_row13_col11, #T_67716_row18_col10, #T_67716_row38_col11, #T_67716_row65_col11, #T_67716_row98_col7, #T_67716_row99_col7 {\n  background-color: #ede7f2;\n  color: #000000;\n}\n#T_67716_row5_col8, #T_67716_row55_col8, #T_67716_row65_col6, #T_67716_row96_col8 {\n  background-color: #5ea0ca;\n  color: #f1f1f1;\n}\n#T_67716_row5_col9, #T_67716_row23_col7, #T_67716_row40_col7, #T_67716_row41_col7, #T_67716_row43_col7, #T_67716_row55_col6, #T_67716_row79_col8, #T_67716_row81_col7, #T_67716_row101_col8, #T_67716_row111_col7, #T_67716_row113_col7 {\n  background-color: #78abd0;\n  color: #f1f1f1;\n}\n#T_67716_row5_col10, #T_67716_row10_col11, #T_67716_row15_col6, #T_67716_row23_col10, #T_67716_row27_col10 {\n  background-color: #f4eef6;\n  color: #000000;\n}\n#T_67716_row5_col11, #T_67716_row20_col10, #T_67716_row38_col10, #T_67716_row67_col11, #T_67716_row71_col6, #T_67716_row77_col10 {\n  background-color: #eae6f1;\n  color: #000000;\n}\n#T_67716_row6_col6, #T_67716_row32_col6, #T_67716_row99_col6 {\n  background-color: #a7bddb;\n  color: #000000;\n}\n#T_67716_row6_col8, #T_67716_row32_col8, #T_67716_row64_col6, #T_67716_row64_col7, #T_67716_row113_col6, #T_67716_row115_col7, #T_67716_row119_col7 {\n  background-color: #89b1d4;\n  color: #000000;\n}\n#T_67716_row6_col9, #T_67716_row23_col8, #T_67716_row24_col6, #T_67716_row60_col9, #T_67716_row103_col8, #T_67716_row109_col8 {\n  background-color: #9ebad9;\n  color: #000000;\n}\n#T_67716_row6_col10, #T_67716_row10_col7, #T_67716_row48_col7, #T_67716_row71_col10, #T_67716_row73_col11 {\n  background-color: #f6eff7;\n  color: #000000;\n}\n#T_67716_row6_col11, #T_67716_row7_col11, #T_67716_row11_col11, #T_67716_row13_col10, #T_67716_row25_col10, #T_67716_row29_col10, #T_67716_row30_col10, #T_67716_row34_col10, #T_67716_row53_col11 {\n  background-color: #f4edf6;\n  color: #000000;\n}\n#T_67716_row7_col6 {\n  background-color: #d0d1e6;\n  color: #000000;\n}\n#T_67716_row7_col7, #T_67716_row24_col7, #T_67716_row32_col7, #T_67716_row51_col7, #T_67716_row55_col7, #T_67716_row76_col7, #T_67716_row76_col11, #T_67716_row99_col10, #T_67716_row107_col7, #T_67716_row109_col7, #T_67716_row111_col11 {\n  background-color: #dfddec;\n  color: #000000;\n}\n#T_67716_row7_col8, #T_67716_row67_col8, #T_67716_row68_col8, #T_67716_row84_col10, #T_67716_row104_col11 {\n  background-color: #b3c3de;\n  color: #000000;\n}\n#T_67716_row7_col9 {\n  background-color: #c2cbe2;\n  color: #000000;\n}\n#T_67716_row7_col10 {\n  background-color: #fbf4f9;\n  color: #000000;\n}\n#T_67716_row8_col6, #T_67716_row66_col6 {\n  background-color: #4094c3;\n  color: #f1f1f1;\n}\n#T_67716_row8_col7, #T_67716_row26_col7, #T_67716_row27_col7, #T_67716_row33_col7, #T_67716_row44_col10, #T_67716_row50_col7, #T_67716_row54_col7, #T_67716_row68_col11, #T_67716_row78_col7, #T_67716_row82_col11, #T_67716_row104_col7 {\n  background-color: #dad9ea;\n  color: #000000;\n}\n#T_67716_row8_col8, #T_67716_row18_col7, #T_67716_row51_col8, #T_67716_row53_col8, #T_67716_row73_col9 {\n  background-color: #348ebf;\n  color: #f1f1f1;\n}\n#T_67716_row8_col9, #T_67716_row57_col6 {\n  background-color: #569dc8;\n  color: #f1f1f1;\n}\n#T_67716_row9_col6, #T_67716_row13_col9, #T_67716_row29_col8, #T_67716_row54_col6, #T_67716_row88_col8 {\n  background-color: #589ec8;\n  color: #f1f1f1;\n}\n#T_67716_row9_col7, #T_67716_row28_col7, #T_67716_row39_col7, #T_67716_row49_col7, #T_67716_row60_col11, #T_67716_row64_col10, #T_67716_row68_col6, #T_67716_row85_col11, #T_67716_row105_col9 {\n  background-color: #d2d2e7;\n  color: #000000;\n}\n#T_67716_row9_col8, #T_67716_row75_col8 {\n  background-color: #3991c1;\n  color: #f1f1f1;\n}\n#T_67716_row9_col9, #T_67716_row51_col6, #T_67716_row75_col6, #T_67716_row85_col6 {\n  background-color: #4a98c5;\n  color: #f1f1f1;\n}\n#T_67716_row9_col10, #T_67716_row26_col11, #T_67716_row43_col10, #T_67716_row47_col10, #T_67716_row71_col11, #T_67716_row79_col10, #T_67716_row97_col11 {\n  background-color: #f2ecf5;\n  color: #000000;\n}\n#T_67716_row9_col11, #T_67716_row54_col10, #T_67716_row73_col10, #T_67716_row78_col11 {\n  background-color: #eee9f3;\n  color: #000000;\n}\n#T_67716_row10_col6, #T_67716_row12_col7, #T_67716_row17_col7, #T_67716_row67_col6, #T_67716_row68_col7, #T_67716_row69_col10, #T_67716_row74_col7, #T_67716_row85_col10, #T_67716_row107_col9 {\n  background-color: #d6d6e9;\n  color: #000000;\n}\n#T_67716_row10_col8, #T_67716_row67_col9, #T_67716_row80_col10, #T_67716_row109_col10, #T_67716_row109_col11 {\n  background-color: #bbc7e0;\n  color: #000000;\n}\n#T_67716_row10_col9, #T_67716_row88_col11, #T_67716_row118_col6 {\n  background-color: #c9cee4;\n  color: #000000;\n}\n#T_67716_row11_col6, #T_67716_row46_col11, #T_67716_row103_col11, #T_67716_row107_col6 {\n  background-color: #e0deed;\n  color: #000000;\n}\n#T_67716_row11_col7, #T_67716_row17_col11, #T_67716_row31_col7, #T_67716_row34_col7, #T_67716_row72_col7, #T_67716_row79_col7 {\n  background-color: #e4e1ef;\n  color: #000000;\n}\n#T_67716_row11_col9, #T_67716_row14_col8, #T_67716_row19_col9, #T_67716_row39_col6, #T_67716_row56_col11, #T_67716_row86_col10, #T_67716_row89_col10, #T_67716_row91_col6, #T_67716_row111_col10 {\n  background-color: #d5d5e8;\n  color: #000000;\n}\n#T_67716_row12_col6, #T_67716_row99_col8 {\n  background-color: #8eb3d5;\n  color: #000000;\n}\n#T_67716_row12_col8, #T_67716_row28_col8, #T_67716_row33_col8, #T_67716_row45_col7, #T_67716_row63_col8, #T_67716_row80_col9 {\n  background-color: #6fa7ce;\n  color: #f1f1f1;\n}\n#T_67716_row12_col9, #T_67716_row27_col9, #T_67716_row28_col9, #T_67716_row33_col6, #T_67716_row33_col9, #T_67716_row100_col9 {\n  background-color: #88b1d4;\n  color: #000000;\n}\n#T_67716_row12_col10, #T_67716_row19_col11, #T_67716_row23_col11, #T_67716_row31_col11, #T_67716_row50_col11, #T_67716_row54_col11, #T_67716_row91_col10 {\n  background-color: #f1ebf4;\n  color: #000000;\n}\n#T_67716_row12_col11, #T_67716_row15_col10, #T_67716_row32_col11 {\n  background-color: #fdf5fa;\n  color: #000000;\n}\n#T_67716_row13_col8, #T_67716_row51_col9, #T_67716_row97_col8, #T_67716_row114_col11 {\n  background-color: #4897c4;\n  color: #f1f1f1;\n}\n#T_67716_row14_col6, #T_67716_row15_col8, #T_67716_row21_col10, #T_67716_row58_col10, #T_67716_row93_col11, #T_67716_row106_col11 {\n  background-color: #e7e3f0;\n  color: #000000;\n}\n#T_67716_row14_col9, #T_67716_row40_col10, #T_67716_row70_col10, #T_67716_row71_col9, #T_67716_row87_col11 {\n  background-color: #dbdaeb;\n  color: #000000;\n}\n#T_67716_row14_col11, #T_67716_row15_col11, #T_67716_row24_col10, #T_67716_row34_col11 {\n  background-color: #f5eff6;\n  color: #000000;\n}\n#T_67716_row15_col9, #T_67716_row40_col11, #T_67716_row55_col11, #T_67716_row79_col11 {\n  background-color: #ebe6f2;\n  color: #000000;\n}\n#T_67716_row16_col6, #T_67716_row50_col6, #T_67716_row53_col9, #T_67716_row77_col9, #T_67716_row80_col8, #T_67716_row106_col6, #T_67716_row113_col8 {\n  background-color: #4e9ac6;\n  color: #f1f1f1;\n}\n#T_67716_row16_col7, #T_67716_row43_col8, #T_67716_row59_col6, #T_67716_row59_col7, #T_67716_row83_col7 {\n  background-color: #99b8d8;\n  color: #000000;\n}\n#T_67716_row16_col8, #T_67716_row45_col8, #T_67716_row77_col6, #T_67716_row110_col9 {\n  background-color: #2c89bd;\n  color: #f1f1f1;\n}\n#T_67716_row16_col9, #T_67716_row45_col9, #T_67716_row91_col7, #T_67716_row102_col9, #T_67716_row114_col6 {\n  background-color: #3d93c2;\n  color: #f1f1f1;\n}\n#T_67716_row16_col10, #T_67716_row55_col10, #T_67716_row107_col11 {\n  background-color: #efe9f3;\n  color: #000000;\n}\n#T_67716_row17_col6, #T_67716_row70_col8, #T_67716_row117_col11 {\n  background-color: #2786bb;\n  color: #f1f1f1;\n}\n#T_67716_row17_col8, #T_67716_row90_col6 {\n  background-color: #056caa;\n  color: #f1f1f1;\n}\n#T_67716_row17_col9, #T_67716_row44_col9, #T_67716_row86_col7, #T_67716_row87_col7 {\n  background-color: #056fae;\n  color: #f1f1f1;\n}\n#T_67716_row18_col6, #T_67716_row42_col6, #T_67716_row65_col9, #T_67716_row85_col9 {\n  background-color: #2987bc;\n  color: #f1f1f1;\n}\n#T_67716_row18_col8 {\n  background-color: #056dac;\n  color: #f1f1f1;\n}\n#T_67716_row18_col9, #T_67716_row113_col10 {\n  background-color: #0771b1;\n  color: #f1f1f1;\n}\n#T_67716_row18_col11, #T_67716_row33_col11, #T_67716_row37_col10, #T_67716_row50_col10, #T_67716_row53_col10, #T_67716_row63_col10 {\n  background-color: #eee8f3;\n  color: #000000;\n}\n#T_67716_row19_col6, #T_67716_row42_col11, #T_67716_row45_col10, #T_67716_row92_col10 {\n  background-color: #e1dfed;\n  color: #000000;\n}\n#T_67716_row19_col7, #T_67716_row30_col8, #T_67716_row36_col8, #T_67716_row45_col6, #T_67716_row84_col7, #T_67716_row95_col7 {\n  background-color: #80aed2;\n  color: #f1f1f1;\n}\n#T_67716_row19_col10, #T_67716_row35_col10 {\n  background-color: #f9f2f8;\n  color: #000000;\n}\n#T_67716_row20_col6 {\n  background-color: #2d8abd;\n  color: #f1f1f1;\n}\n#T_67716_row20_col7, #T_67716_row50_col9, #T_67716_row72_col6, #T_67716_row89_col6 {\n  background-color: #509ac6;\n  color: #f1f1f1;\n}\n#T_67716_row20_col8, #T_67716_row40_col8, #T_67716_row78_col8, #T_67716_row117_col10 {\n  background-color: #0a73b2;\n  color: #f1f1f1;\n}\n#T_67716_row20_col9, #T_67716_row74_col6, #T_67716_row89_col8, #T_67716_row108_col8 {\n  background-color: #187cb6;\n  color: #f1f1f1;\n}\n#T_67716_row20_col11 {\n  background-color: #fef6fa;\n  color: #000000;\n}\n#T_67716_row21_col6 {\n  background-color: #0570b0;\n  color: #f1f1f1;\n}\n#T_67716_row21_col7 {\n  background-color: #1b7eb7;\n  color: #f1f1f1;\n}\n#T_67716_row21_col8, #T_67716_row82_col7 {\n  background-color: #045d92;\n  color: #f1f1f1;\n}\n#T_67716_row21_col9, #T_67716_row61_col7, #T_67716_row86_col9 {\n  background-color: #046097;\n  color: #f1f1f1;\n}\n#T_67716_row21_col11, #T_67716_row46_col10, #T_67716_row83_col11, #T_67716_row98_col10 {\n  background-color: #e0dded;\n  color: #000000;\n}\n#T_67716_row22_col6, #T_67716_row83_col9, #T_67716_row96_col6 {\n  background-color: #67a4cc;\n  color: #f1f1f1;\n}\n#T_67716_row22_col7, #T_67716_row79_col9, #T_67716_row88_col7, #T_67716_row101_col9 {\n  background-color: #91b5d6;\n  color: #000000;\n}\n#T_67716_row22_col8, #T_67716_row70_col9, #T_67716_row74_col9, #T_67716_row77_col8 {\n  background-color: #2f8bbe;\n  color: #f1f1f1;\n}\n#T_67716_row22_col9, #T_67716_row50_col8, #T_67716_row58_col9 {\n  background-color: #3b92c1;\n  color: #f1f1f1;\n}\n#T_67716_row22_col10, #T_67716_row22_col11, #T_67716_row48_col10, #T_67716_row51_col10, #T_67716_row75_col10, #T_67716_row87_col10, #T_67716_row93_col10 {\n  background-color: #ece7f2;\n  color: #000000;\n}\n#T_67716_row23_col6, #T_67716_row94_col10 {\n  background-color: #c6cce3;\n  color: #000000;\n}\n#T_67716_row23_col9 {\n  background-color: #b1c2de;\n  color: #000000;\n}\n#T_67716_row24_col8 {\n  background-color: #81aed2;\n  color: #f1f1f1;\n}\n#T_67716_row24_col9, #T_67716_row36_col9, #T_67716_row79_col6, #T_67716_row111_col8 {\n  background-color: #94b6d7;\n  color: #000000;\n}\n#T_67716_row25_col6, #T_67716_row29_col6, #T_67716_row52_col8, #T_67716_row100_col8 {\n  background-color: #6ba5cd;\n  color: #f1f1f1;\n}\n#T_67716_row25_col8, #T_67716_row46_col6, #T_67716_row87_col9, #T_67716_row97_col6 {\n  background-color: #529bc7;\n  color: #f1f1f1;\n}\n#T_67716_row25_col9, #T_67716_row54_col9, #T_67716_row88_col9, #T_67716_row97_col9, #T_67716_row104_col6, #T_67716_row110_col6, #T_67716_row118_col8 {\n  background-color: #69a5cc;\n  color: #f1f1f1;\n}\n#T_67716_row26_col6, #T_67716_row30_col6, #T_67716_row110_col10 {\n  background-color: #9ab8d8;\n  color: #000000;\n}\n#T_67716_row26_col9 {\n  background-color: #8cb3d5;\n  color: #000000;\n}\n#T_67716_row26_col10, #T_67716_row36_col11, #T_67716_row48_col11, #T_67716_row49_col11 {\n  background-color: #f5eef6;\n  color: #000000;\n}\n#T_67716_row27_col6, #T_67716_row30_col9, #T_67716_row112_col9 {\n  background-color: #96b6d7;\n  color: #000000;\n}\n#T_67716_row27_col8, #T_67716_row119_col11 {\n  background-color: #76aad0;\n  color: #f1f1f1;\n}\n#T_67716_row28_col6, #T_67716_row52_col9 {\n  background-color: #84b0d3;\n  color: #f1f1f1;\n}\n#T_67716_row31_col8, #T_67716_row56_col7, #T_67716_row60_col6, #T_67716_row60_col7 {\n  background-color: #a8bedc;\n  color: #000000;\n}\n#T_67716_row31_col9, #T_67716_row39_col8, #T_67716_row91_col9, #T_67716_row117_col8 {\n  background-color: #b8c6e0;\n  color: #000000;\n}\n#T_67716_row32_col9, #T_67716_row36_col6, #T_67716_row48_col9, #T_67716_row112_col6, #T_67716_row115_col8 {\n  background-color: #9fbad9;\n  color: #000000;\n}\n#T_67716_row34_col6, #T_67716_row41_col11, #T_67716_row47_col11, #T_67716_row51_col11, #T_67716_row52_col10, #T_67716_row58_col11, #T_67716_row75_col11, #T_67716_row105_col10 {\n  background-color: #e6e2ef;\n  color: #000000;\n}\n#T_67716_row34_col8, #T_67716_row35_col9, #T_67716_row66_col11, #T_67716_row70_col11, #T_67716_row81_col10, #T_67716_row82_col10, #T_67716_row88_col10, #T_67716_row101_col10, #T_67716_row115_col6 {\n  background-color: #d2d3e7;\n  color: #000000;\n}\n#T_67716_row34_col9, #T_67716_row44_col11, #T_67716_row62_col11, #T_67716_row103_col10 {\n  background-color: #d9d8ea;\n  color: #000000;\n}\n#T_67716_row35_col6 {\n  background-color: #dedcec;\n  color: #000000;\n}\n#T_67716_row35_col8, #T_67716_row100_col10 {\n  background-color: #c8cde4;\n  color: #000000;\n}\n#T_67716_row36_col7, #T_67716_row43_col6, #T_67716_row73_col7, #T_67716_row80_col11, #T_67716_row102_col7, #T_67716_row109_col6, #T_67716_row119_col9 {\n  background-color: #bdc8e1;\n  color: #000000;\n}\n#T_67716_row36_col10, #T_67716_row63_col11, #T_67716_row74_col10, #T_67716_row91_col11 {\n  background-color: #e9e5f1;\n  color: #000000;\n}\n#T_67716_row37_col6 {\n  background-color: #4496c3;\n  color: #f1f1f1;\n}\n#T_67716_row37_col8, #T_67716_row44_col6, #T_67716_row67_col7, #T_67716_row94_col8 {\n  background-color: #2a88bc;\n  color: #f1f1f1;\n}\n#T_67716_row37_col9, #T_67716_row38_col8, #T_67716_row57_col8, #T_67716_row87_col8 {\n  background-color: #3f93c2;\n  color: #f1f1f1;\n}\n#T_67716_row37_col11, #T_67716_row39_col11, #T_67716_row77_col11, #T_67716_row98_col11 {\n  background-color: #f1ebf5;\n  color: #000000;\n}\n#T_67716_row38_col6 {\n  background-color: #6da6cd;\n  color: #f1f1f1;\n}\n#T_67716_row38_col9, #T_67716_row42_col7, #T_67716_row47_col7, #T_67716_row56_col8, #T_67716_row57_col9, #T_67716_row71_col7, #T_67716_row84_col8, #T_67716_row98_col8, #T_67716_row104_col8 {\n  background-color: #5a9ec9;\n  color: #f1f1f1;\n}\n#T_67716_row39_col9, #T_67716_row93_col6, #T_67716_row105_col8 {\n  background-color: #c5cce3;\n  color: #000000;\n}\n#T_67716_row40_col6, #T_67716_row49_col9, #T_67716_row73_col6, #T_67716_row102_col6 {\n  background-color: #2484ba;\n  color: #f1f1f1;\n}\n#T_67716_row40_col9 {\n  background-color: #2685bb;\n  color: #f1f1f1;\n}\n#T_67716_row41_col6, #T_67716_row49_col8, #T_67716_row65_col7, #T_67716_row69_col8 {\n  background-color: #1379b5;\n  color: #f1f1f1;\n}\n#T_67716_row41_col8, #T_67716_row44_col7, #T_67716_row86_col6 {\n  background-color: #056ba9;\n  color: #f1f1f1;\n}\n#T_67716_row41_col9 {\n  background-color: #1077b4;\n  color: #f1f1f1;\n}\n#T_67716_row42_col8 {\n  background-color: #0872b1;\n  color: #f1f1f1;\n}\n#T_67716_row42_col9, #T_67716_row58_col8, #T_67716_row65_col8, #T_67716_row73_col8, #T_67716_row89_col9 {\n  background-color: #2182b9;\n  color: #f1f1f1;\n}\n#T_67716_row42_col10, #T_67716_row43_col11, #T_67716_row45_col11, #T_67716_row52_col11, #T_67716_row59_col11 {\n  background-color: #e5e1ef;\n  color: #000000;\n}\n#T_67716_row43_col9 {\n  background-color: #a9bfdc;\n  color: #000000;\n}\n#T_67716_row44_col8 {\n  background-color: #0568a3;\n  color: #f1f1f1;\n}\n#T_67716_row46_col7, #T_67716_row69_col7, #T_67716_row106_col7 {\n  background-color: #023d60;\n  color: #f1f1f1;\n}\n#T_67716_row46_col8 {\n  background-color: #056ead;\n  color: #f1f1f1;\n}\n#T_67716_row46_col9 {\n  background-color: #0c74b2;\n  color: #f1f1f1;\n}\n#T_67716_row47_col8 {\n  background-color: #97b7d7;\n  color: #000000;\n}\n#T_67716_row48_col8, #T_67716_row60_col8 {\n  background-color: #86b0d3;\n  color: #000000;\n}\n#T_67716_row49_col6, #T_67716_row66_col8, #T_67716_row85_col8 {\n  background-color: #167bb6;\n  color: #f1f1f1;\n}\n#T_67716_row49_col10, #T_67716_row57_col10, #T_67716_row68_col10 {\n  background-color: #ede8f3;\n  color: #000000;\n}\n#T_67716_row52_col6, #T_67716_row87_col6 {\n  background-color: #83afd3;\n  color: #f1f1f1;\n}\n#T_67716_row53_col6 {\n  background-color: #358fc0;\n  color: #f1f1f1;\n}\n#T_67716_row54_col8, #T_67716_row75_col9 {\n  background-color: #4c99c5;\n  color: #f1f1f1;\n}\n#T_67716_row56_col6, #T_67716_row98_col6 {\n  background-color: #75a9cf;\n  color: #f1f1f1;\n}\n#T_67716_row56_col10 {\n  background-color: #ced0e6;\n  color: #000000;\n}\n#T_67716_row57_col7, #T_67716_row112_col7 {\n  background-color: #b7c5df;\n  color: #000000;\n}\n#T_67716_row58_col6, #T_67716_row63_col7, #T_67716_row66_col7, #T_67716_row70_col7, #T_67716_row78_col9 {\n  background-color: #2383ba;\n  color: #f1f1f1;\n}\n#T_67716_row60_col10, #T_67716_row65_col10, #T_67716_row86_col11, #T_67716_row96_col10, #T_67716_row97_col10, #T_67716_row106_col10 {\n  background-color: #d4d4e8;\n  color: #000000;\n}\n#T_67716_row61_col6 {\n  background-color: #045b8f;\n  color: #f1f1f1;\n}\n#T_67716_row61_col8 {\n  background-color: #03446a;\n  color: #f1f1f1;\n}\n#T_67716_row61_col9 {\n  background-color: #034d79;\n  color: #f1f1f1;\n}\n#T_67716_row61_col10, #T_67716_row62_col10, #T_67716_row72_col10, #T_67716_row89_col11, #T_67716_row92_col11, #T_67716_row105_col6 {\n  background-color: #dcdaeb;\n  color: #000000;\n}\n#T_67716_row61_col11, #T_67716_row90_col11, #T_67716_row102_col11 {\n  background-color: #d1d2e6;\n  color: #000000;\n}\n#T_67716_row62_col6, #T_67716_row62_col9 {\n  background-color: #056ba7;\n  color: #f1f1f1;\n}\n#T_67716_row62_col8 {\n  background-color: #04649e;\n  color: #f1f1f1;\n}\n#T_67716_row63_col9, #T_67716_row112_col8 {\n  background-color: #7dacd1;\n  color: #f1f1f1;\n}\n#T_67716_row64_col8 {\n  background-color: #63a2cb;\n  color: #f1f1f1;\n}\n#T_67716_row66_col9, #T_67716_row102_col8 {\n  background-color: #1e80b8;\n  color: #f1f1f1;\n}\n#T_67716_row66_col10 {\n  background-color: #d3d4e7;\n  color: #000000;\n}\n#T_67716_row68_col9, #T_67716_row90_col10, #T_67716_row108_col11, #T_67716_row117_col9 {\n  background-color: #c1cae2;\n  color: #000000;\n}\n#T_67716_row69_col6 {\n  background-color: #549cc7;\n  color: #f1f1f1;\n}\n#T_67716_row69_col9 {\n  background-color: #157ab5;\n  color: #f1f1f1;\n}\n#T_67716_row69_col11, #T_67716_row117_col6 {\n  background-color: #dddbec;\n  color: #000000;\n}\n#T_67716_row70_col6, #T_67716_row113_col9 {\n  background-color: #62a2cb;\n  color: #f1f1f1;\n}\n#T_67716_row71_col8, #T_67716_row104_col10, #T_67716_row119_col6 {\n  background-color: #d8d7e9;\n  color: #000000;\n}\n#T_67716_row72_col8, #T_67716_row83_col8, #T_67716_row117_col7 {\n  background-color: #4697c4;\n  color: #f1f1f1;\n}\n#T_67716_row72_col9, #T_67716_row80_col6 {\n  background-color: #60a1ca;\n  color: #f1f1f1;\n}\n#T_67716_row74_col8, #T_67716_row106_col9 {\n  background-color: #1c7fb8;\n  color: #f1f1f1;\n}\n#T_67716_row78_col6 {\n  background-color: #0569a5;\n  color: #f1f1f1;\n}\n#T_67716_row78_col10 {\n  background-color: #e2dfee;\n  color: #000000;\n}\n#T_67716_row81_col6 {\n  background-color: #046198;\n  color: #f1f1f1;\n}\n#T_67716_row81_col8 {\n  background-color: #04639b;\n  color: #f1f1f1;\n}\n#T_67716_row81_col9 {\n  background-color: #056faf;\n  color: #f1f1f1;\n}\n#T_67716_row81_col11 {\n  background-color: #bcc7e1;\n  color: #000000;\n}\n#T_67716_row82_col6, #T_67716_row82_col8, #T_67716_row82_col9, #T_67716_row90_col7, #T_67716_row94_col7, #T_67716_row112_col11, #T_67716_row114_col7, #T_67716_row118_col7, #T_67716_row118_col10 {\n  background-color: #023858;\n  color: #f1f1f1;\n  background-color: darkgreen;\n}\n#T_67716_row85_col7 {\n  background-color: #04598c;\n  color: #f1f1f1;\n}\n#T_67716_row86_col8 {\n  background-color: #045c90;\n  color: #f1f1f1;\n}\n#T_67716_row89_col7, #T_67716_row93_col7, #T_67716_row110_col7 {\n  background-color: #034369;\n  color: #f1f1f1;\n}\n#T_67716_row90_col8 {\n  background-color: #045382;\n  color: #f1f1f1;\n}\n#T_67716_row90_col9 {\n  background-color: #034e7b;\n  color: #f1f1f1;\n}\n#T_67716_row94_col9, #T_67716_row108_col9 {\n  background-color: #3790c0;\n  color: #f1f1f1;\n}\n#T_67716_row99_col11 {\n  background-color: #d7d6e9;\n  color: #000000;\n}\n#T_67716_row100_col11, #T_67716_row115_col10 {\n  background-color: #afc1dd;\n  color: #000000;\n}\n#T_67716_row101_col11 {\n  background-color: #e3e0ee;\n  color: #000000;\n}\n#T_67716_row102_col10 {\n  background-color: #cacee5;\n  color: #000000;\n}\n#T_67716_row103_col6, #T_67716_row115_col9 {\n  background-color: #b5c4df;\n  color: #000000;\n}\n#T_67716_row103_col9 {\n  background-color: #adc1dd;\n  color: #000000;\n}\n#T_67716_row106_col8 {\n  background-color: #0d75b3;\n  color: #f1f1f1;\n}\n#T_67716_row108_col6, #T_67716_row110_col8, #T_67716_row118_col11 {\n  background-color: #197db7;\n  color: #f1f1f1;\n}\n#T_67716_row112_col10 {\n  background-color: #04588a;\n  color: #f1f1f1;\n}\n#T_67716_row113_col11 {\n  background-color: #04629a;\n  color: #f1f1f1;\n}\n#T_67716_row114_col8, #T_67716_row114_col9 {\n  background-color: #045b8e;\n  color: #f1f1f1;\n}\n#T_67716_row114_col10 {\n  background-color: #045e94;\n  color: #f1f1f1;\n}\n#T_67716_row115_col11 {\n  background-color: #cdd0e5;\n  color: #000000;\n}\n#T_67716_row116_col6, #T_67716_row116_col7, #T_67716_row116_col8, #T_67716_row116_col9, #T_67716_row116_col10, #T_67716_row116_col11 {\n  background-color: #000000;\n  color: #f1f1f1;\n}\n#T_67716_row118_col9 {\n  background-color: #71a8ce;\n  color: #f1f1f1;\n}\n#T_67716_row119_col8 {\n  background-color: #acc0dd;\n  color: #000000;\n}\n#T_67716_row119_col10 {\n  background-color: #045687;\n  color: #f1f1f1;\n}\n</style>\n<table id=\"T_67716\">\n  <thead>\n    <tr>\n      <th class=\"blank\" >&nbsp;</th>\n      <th class=\"blank\" >&nbsp;</th>\n      <th class=\"blank level0\" >&nbsp;</th>\n      <th id=\"T_67716_level0_col0\" class=\"col_heading level0 col0\" >allocation</th>\n      <th id=\"T_67716_level0_col1\" class=\"col_heading level0 col1\" >cycle_duration</th>\n      <th id=\"T_67716_level0_col2\" class=\"col_heading level0 col2\" >eth_btc_rsi_days</th>\n      <th id=\"T_67716_level0_col3\" class=\"col_heading level0 col3\" >lookback_candles</th>\n      <th id=\"T_67716_level0_col4\" class=\"col_heading level0 col4\" >minimum_rebalance_trade_threshold</th>\n      <th id=\"T_67716_level0_col5\" class=\"col_heading level0 col5\" >Positions</th>\n      <th id=\"T_67716_level0_col6\" class=\"col_heading level0 col6\" >Annualised return</th>\n      <th id=\"T_67716_level0_col7\" class=\"col_heading level0 col7\" >Max drawdown</th>\n      <th id=\"T_67716_level0_col8\" class=\"col_heading level0 col8\" >Sharpe</th>\n      <th id=\"T_67716_level0_col9\" class=\"col_heading level0 col9\" >Sortino</th>\n      <th id=\"T_67716_level0_col10\" class=\"col_heading level0 col10\" >Average position</th>\n      <th id=\"T_67716_level0_col11\" class=\"col_heading level0 col11\" >Median position</th>\n    </tr>\n    <tr>\n      <th class=\"index_name level0\" >rsi_days</th>\n      <th class=\"index_name level1\" >rsi_high</th>\n      <th class=\"index_name level2\" >rsi_low</th>\n      <th class=\"blank col0\" >&nbsp;</th>\n      <th class=\"blank col1\" >&nbsp;</th>\n      <th class=\"blank col2\" >&nbsp;</th>\n      <th class=\"blank col3\" >&nbsp;</th>\n      <th class=\"blank col4\" >&nbsp;</th>\n      <th class=\"blank col5\" >&nbsp;</th>\n      <th class=\"blank col6\" >&nbsp;</th>\n      <th class=\"blank col7\" >&nbsp;</th>\n      <th class=\"blank col8\" >&nbsp;</th>\n      <th class=\"blank col9\" >&nbsp;</th>\n      <th class=\"blank col10\" >&nbsp;</th>\n      <th class=\"blank col11\" >&nbsp;</th>\n    </tr>\n  </thead>\n  <tbody>\n    <tr>\n      <th id=\"T_67716_level0_row0\" class=\"row_heading level0 row0\" rowspan=\"24\">5</th>\n      <th id=\"T_67716_level1_row0\" class=\"row_heading level1 row0\" rowspan=\"4\">55</th>\n      <th id=\"T_67716_level2_row0\" class=\"row_heading level2 row0\" >30</th>\n      <td id=\"T_67716_row0_col0\" class=\"data row0 col0\" >0.850000</td>\n      <td id=\"T_67716_row0_col1\" class=\"data row0 col1\" >CycleDuration.cycle_1d</td>\n      <td id=\"T_67716_row0_col2\" class=\"data row0 col2\" >60</td>\n      <td id=\"T_67716_row0_col3\" class=\"data row0 col3\" >120</td>\n      <td id=\"T_67716_row0_col4\" class=\"data row0 col4\" >500.000000</td>\n      <td id=\"T_67716_row0_col5\" class=\"data row0 col5\" >134</td>\n      <td id=\"T_67716_row0_col6\" class=\"data row0 col6\" >39.02%</td>\n      <td id=\"T_67716_row0_col7\" class=\"data row0 col7\" >-60.00%</td>\n      <td id=\"T_67716_row0_col8\" class=\"data row0 col8\" >0.860000</td>\n      <td id=\"T_67716_row0_col9\" class=\"data row0 col9\" >1.240000</td>\n      <td id=\"T_67716_row0_col10\" class=\"data row0 col10\" >1.52%</td>\n      <td id=\"T_67716_row0_col11\" class=\"data row0 col11\" >-1.88%</td>\n    </tr>\n    <tr>\n      <th id=\"T_67716_level2_row1\" class=\"row_heading level2 row1\" >40</th>\n      <td id=\"T_67716_row1_col0\" class=\"data row1 col0\" >0.850000</td>\n      <td id=\"T_67716_row1_col1\" class=\"data row1 col1\" >CycleDuration.cycle_1d</td>\n      <td id=\"T_67716_row1_col2\" class=\"data row1 col2\" >60</td>\n      <td id=\"T_67716_row1_col3\" class=\"data row1 col3\" >120</td>\n      <td id=\"T_67716_row1_col4\" class=\"data row1 col4\" >500.000000</td>\n      <td id=\"T_67716_row1_col5\" class=\"data row1 col5\" >154</td>\n      <td id=\"T_67716_row1_col6\" class=\"data row1 col6\" >53.89%</td>\n      <td id=\"T_67716_row1_col7\" class=\"data row1 col7\" >-76.00%</td>\n      <td id=\"T_67716_row1_col8\" class=\"data row1 col8\" >1.030000</td>\n      <td id=\"T_67716_row1_col9\" class=\"data row1 col9\" >1.510000</td>\n      <td id=\"T_67716_row1_col10\" class=\"data row1 col10\" >1.52%</td>\n      <td id=\"T_67716_row1_col11\" class=\"data row1 col11\" >-0.13%</td>\n    </tr>\n    <tr>\n      <th id=\"T_67716_level2_row2\" class=\"row_heading level2 row2\" >50</th>\n      <td id=\"T_67716_row2_col0\" class=\"data row2 col0\" >0.850000</td>\n      <td id=\"T_67716_row2_col1\" class=\"data row2 col1\" >CycleDuration.cycle_1d</td>\n      <td id=\"T_67716_row2_col2\" class=\"data row2 col2\" >60</td>\n      <td id=\"T_67716_row2_col3\" class=\"data row2 col3\" >120</td>\n      <td id=\"T_67716_row2_col4\" class=\"data row2 col4\" >500.000000</td>\n      <td id=\"T_67716_row2_col5\" class=\"data row2 col5\" >183</td>\n      <td id=\"T_67716_row2_col6\" class=\"data row2 col6\" >43.81%</td>\n      <td id=\"T_67716_row2_col7\" class=\"data row2 col7\" >-64.00%</td>\n      <td id=\"T_67716_row2_col8\" class=\"data row2 col8\" >0.950000</td>\n      <td id=\"T_67716_row2_col9\" class=\"data row2 col9\" >1.370000</td>\n      <td id=\"T_67716_row2_col10\" class=\"data row2 col10\" >1.62%</td>\n      <td id=\"T_67716_row2_col11\" class=\"data row2 col11\" >-0.13%</td>\n    </tr>\n    <tr>\n      <th id=\"T_67716_level2_row3\" class=\"row_heading level2 row3\" >60</th>\n      <td id=\"T_67716_row3_col0\" class=\"data row3 col0\" >0.850000</td>\n      <td id=\"T_67716_row3_col1\" class=\"data row3 col1\" >CycleDuration.cycle_1d</td>\n      <td id=\"T_67716_row3_col2\" class=\"data row3 col2\" >60</td>\n      <td id=\"T_67716_row3_col3\" class=\"data row3 col3\" >120</td>\n      <td id=\"T_67716_row3_col4\" class=\"data row3 col4\" >500.000000</td>\n      <td id=\"T_67716_row3_col5\" class=\"data row3 col5\" >168</td>\n      <td id=\"T_67716_row3_col6\" class=\"data row3 col6\" >31.46%</td>\n      <td id=\"T_67716_row3_col7\" class=\"data row3 col7\" >-63.00%</td>\n      <td id=\"T_67716_row3_col8\" class=\"data row3 col8\" >0.780000</td>\n      <td id=\"T_67716_row3_col9\" class=\"data row3 col9\" >1.110000</td>\n      <td id=\"T_67716_row3_col10\" class=\"data row3 col10\" >1.43%</td>\n      <td id=\"T_67716_row3_col11\" class=\"data row3 col11\" >0.27%</td>\n    </tr>\n    <tr>\n      <th id=\"T_67716_level1_row4\" class=\"row_heading level1 row4\" rowspan=\"4\">60</th>\n      <th id=\"T_67716_level2_row4\" class=\"row_heading level2 row4\" >30</th>\n      <td id=\"T_67716_row4_col0\" class=\"data row4 col0\" >0.850000</td>\n      <td id=\"T_67716_row4_col1\" class=\"data row4 col1\" >CycleDuration.cycle_1d</td>\n      <td id=\"T_67716_row4_col2\" class=\"data row4 col2\" >60</td>\n      <td id=\"T_67716_row4_col3\" class=\"data row4 col3\" >120</td>\n      <td id=\"T_67716_row4_col4\" class=\"data row4 col4\" >500.000000</td>\n      <td id=\"T_67716_row4_col5\" class=\"data row4 col5\" >125</td>\n      <td id=\"T_67716_row4_col6\" class=\"data row4 col6\" >41.03%</td>\n      <td id=\"T_67716_row4_col7\" class=\"data row4 col7\" >-70.00%</td>\n      <td id=\"T_67716_row4_col8\" class=\"data row4 col8\" >0.880000</td>\n      <td id=\"T_67716_row4_col9\" class=\"data row4 col9\" >1.270000</td>\n      <td id=\"T_67716_row4_col10\" class=\"data row4 col10\" >2.13%</td>\n      <td id=\"T_67716_row4_col11\" class=\"data row4 col11\" >-1.19%</td>\n    </tr>\n    <tr>\n      <th id=\"T_67716_level2_row5\" class=\"row_heading level2 row5\" >40</th>\n      <td id=\"T_67716_row5_col0\" class=\"data row5 col0\" >0.850000</td>\n      <td id=\"T_67716_row5_col1\" class=\"data row5 col1\" >CycleDuration.cycle_1d</td>\n      <td id=\"T_67716_row5_col2\" class=\"data row5 col2\" >60</td>\n      <td id=\"T_67716_row5_col3\" class=\"data row5 col3\" >120</td>\n      <td id=\"T_67716_row5_col4\" class=\"data row5 col4\" >500.000000</td>\n      <td id=\"T_67716_row5_col5\" class=\"data row5 col5\" >151</td>\n      <td id=\"T_67716_row5_col6\" class=\"data row5 col6\" >55.73%</td>\n      <td id=\"T_67716_row5_col7\" class=\"data row5 col7\" >-71.00%</td>\n      <td id=\"T_67716_row5_col8\" class=\"data row5 col8\" >1.060000</td>\n      <td id=\"T_67716_row5_col9\" class=\"data row5 col9\" >1.560000</td>\n      <td id=\"T_67716_row5_col10\" class=\"data row5 col10\" >1.89%</td>\n      <td id=\"T_67716_row5_col11\" class=\"data row5 col11\" >1.06%</td>\n    </tr>\n    <tr>\n      <th id=\"T_67716_level2_row6\" class=\"row_heading level2 row6\" >50</th>\n      <td id=\"T_67716_row6_col0\" class=\"data row6 col0\" >0.850000</td>\n      <td id=\"T_67716_row6_col1\" class=\"data row6 col1\" >CycleDuration.cycle_1d</td>\n      <td id=\"T_67716_row6_col2\" class=\"data row6 col2\" >60</td>\n      <td id=\"T_67716_row6_col3\" class=\"data row6 col3\" >120</td>\n      <td id=\"T_67716_row6_col4\" class=\"data row6 col4\" >500.000000</td>\n      <td id=\"T_67716_row6_col5\" class=\"data row6 col5\" >180</td>\n      <td id=\"T_67716_row6_col6\" class=\"data row6 col6\" >40.38%</td>\n      <td id=\"T_67716_row6_col7\" class=\"data row6 col7\" >-73.00%</td>\n      <td id=\"T_67716_row6_col8\" class=\"data row6 col8\" >0.890000</td>\n      <td id=\"T_67716_row6_col9\" class=\"data row6 col9\" >1.290000</td>\n      <td id=\"T_67716_row6_col10\" class=\"data row6 col10\" >1.71%</td>\n      <td id=\"T_67716_row6_col11\" class=\"data row6 col11\" >-0.26%</td>\n    </tr>\n    <tr>\n      <th id=\"T_67716_level2_row7\" class=\"row_heading level2 row7\" >60</th>\n      <td id=\"T_67716_row7_col0\" class=\"data row7 col0\" >0.850000</td>\n      <td id=\"T_67716_row7_col1\" class=\"data row7 col1\" >CycleDuration.cycle_1d</td>\n      <td id=\"T_67716_row7_col2\" class=\"data row7 col2\" >60</td>\n      <td id=\"T_67716_row7_col3\" class=\"data row7 col3\" >120</td>\n      <td id=\"T_67716_row7_col4\" class=\"data row7 col4\" >500.000000</td>\n      <td id=\"T_67716_row7_col5\" class=\"data row7 col5\" >166</td>\n      <td id=\"T_67716_row7_col6\" class=\"data row7 col6\" >26.03%</td>\n      <td id=\"T_67716_row7_col7\" class=\"data row7 col7\" >-68.00%</td>\n      <td id=\"T_67716_row7_col8\" class=\"data row7 col8\" >0.700000</td>\n      <td id=\"T_67716_row7_col9\" class=\"data row7 col9\" >0.990000</td>\n      <td id=\"T_67716_row7_col10\" class=\"data row7 col10\" >0.91%</td>\n      <td id=\"T_67716_row7_col11\" class=\"data row7 col11\" >-0.21%</td>\n    </tr>\n    <tr>\n      <th id=\"T_67716_level1_row8\" class=\"row_heading level1 row8\" rowspan=\"4\">70</th>\n      <th id=\"T_67716_level2_row8\" class=\"row_heading level2 row8\" >30</th>\n      <td id=\"T_67716_row8_col0\" class=\"data row8 col0\" >0.850000</td>\n      <td id=\"T_67716_row8_col1\" class=\"data row8 col1\" >CycleDuration.cycle_1d</td>\n      <td id=\"T_67716_row8_col2\" class=\"data row8 col2\" >60</td>\n      <td id=\"T_67716_row8_col3\" class=\"data row8 col3\" >120</td>\n      <td id=\"T_67716_row8_col4\" class=\"data row8 col4\" >500.000000</td>\n      <td id=\"T_67716_row8_col5\" class=\"data row8 col5\" >96</td>\n      <td id=\"T_67716_row8_col6\" class=\"data row8 col6\" >67.60%</td>\n      <td id=\"T_67716_row8_col7\" class=\"data row8 col7\" >-67.00%</td>\n      <td id=\"T_67716_row8_col8\" class=\"data row8 col8\" >1.210000</td>\n      <td id=\"T_67716_row8_col9\" class=\"data row8 col9\" >1.760000</td>\n      <td id=\"T_67716_row8_col10\" class=\"data row8 col10\" >3.06%</td>\n      <td id=\"T_67716_row8_col11\" class=\"data row8 col11\" >-0.71%</td>\n    </tr>\n    <tr>\n      <th id=\"T_67716_level2_row9\" class=\"row_heading level2 row9\" >40</th>\n      <td id=\"T_67716_row9_col0\" class=\"data row9 col0\" >0.850000</td>\n      <td id=\"T_67716_row9_col1\" class=\"data row9 col1\" >CycleDuration.cycle_1d</td>\n      <td id=\"T_67716_row9_col2\" class=\"data row9 col2\" >60</td>\n      <td id=\"T_67716_row9_col3\" class=\"data row9 col3\" >120</td>\n      <td id=\"T_67716_row9_col4\" class=\"data row9 col4\" >500.000000</td>\n      <td id=\"T_67716_row9_col5\" class=\"data row9 col5\" >127</td>\n      <td id=\"T_67716_row9_col6\" class=\"data row9 col6\" >62.24%</td>\n      <td id=\"T_67716_row9_col7\" class=\"data row9 col7\" >-65.00%</td>\n      <td id=\"T_67716_row9_col8\" class=\"data row9 col8\" >1.190000</td>\n      <td id=\"T_67716_row9_col9\" class=\"data row9 col9\" >1.830000</td>\n      <td id=\"T_67716_row9_col10\" class=\"data row9 col10\" >2.16%</td>\n      <td id=\"T_67716_row9_col11\" class=\"data row9 col11\" >0.52%</td>\n    </tr>\n    <tr>\n      <th id=\"T_67716_level2_row10\" class=\"row_heading level2 row10\" >50</th>\n      <td id=\"T_67716_row10_col0\" class=\"data row10 col0\" >0.850000</td>\n      <td id=\"T_67716_row10_col1\" class=\"data row10 col1\" >CycleDuration.cycle_1d</td>\n      <td id=\"T_67716_row10_col2\" class=\"data row10 col2\" >60</td>\n      <td id=\"T_67716_row10_col3\" class=\"data row10 col3\" >120</td>\n      <td id=\"T_67716_row10_col4\" class=\"data row10 col4\" >500.000000</td>\n      <td id=\"T_67716_row10_col5\" class=\"data row10 col5\" >151</td>\n      <td id=\"T_67716_row10_col6\" class=\"data row10 col6\" >23.02%</td>\n      <td id=\"T_67716_row10_col7\" class=\"data row10 col7\" >-74.00%</td>\n      <td id=\"T_67716_row10_col8\" class=\"data row10 col8\" >0.660000</td>\n      <td id=\"T_67716_row10_col9\" class=\"data row10 col9\" >0.930000</td>\n      <td id=\"T_67716_row10_col10\" class=\"data row10 col10\" >1.32%</td>\n      <td id=\"T_67716_row10_col11\" class=\"data row10 col11\" >-0.27%</td>\n    </tr>\n    <tr>\n      <th id=\"T_67716_level2_row11\" class=\"row_heading level2 row11\" >60</th>\n      <td id=\"T_67716_row11_col0\" class=\"data row11 col0\" >0.850000</td>\n      <td id=\"T_67716_row11_col1\" class=\"data row11 col1\" >CycleDuration.cycle_1d</td>\n      <td id=\"T_67716_row11_col2\" class=\"data row11 col2\" >60</td>\n      <td id=\"T_67716_row11_col3\" class=\"data row11 col3\" >120</td>\n      <td id=\"T_67716_row11_col4\" class=\"data row11 col4\" >500.000000</td>\n      <td id=\"T_67716_row11_col5\" class=\"data row11 col5\" >155</td>\n      <td id=\"T_67716_row11_col6\" class=\"data row11 col6\" >17.27%</td>\n      <td id=\"T_67716_row11_col7\" class=\"data row11 col7\" >-69.00%</td>\n      <td id=\"T_67716_row11_col8\" class=\"data row11 col8\" >0.570000</td>\n      <td id=\"T_67716_row11_col9\" class=\"data row11 col9\" >0.810000</td>\n      <td id=\"T_67716_row11_col10\" class=\"data row11 col10\" >1.30%</td>\n      <td id=\"T_67716_row11_col11\" class=\"data row11 col11\" >-0.25%</td>\n    </tr>\n    <tr>\n      <th id=\"T_67716_level1_row12\" class=\"row_heading level1 row12\" rowspan=\"4\">73</th>\n      <th id=\"T_67716_level2_row12\" class=\"row_heading level2 row12\" >30</th>\n      <td id=\"T_67716_row12_col0\" class=\"data row12 col0\" >0.850000</td>\n      <td id=\"T_67716_row12_col1\" class=\"data row12 col1\" >CycleDuration.cycle_1d</td>\n      <td id=\"T_67716_row12_col2\" class=\"data row12 col2\" >60</td>\n      <td id=\"T_67716_row12_col3\" class=\"data row12 col3\" >120</td>\n      <td id=\"T_67716_row12_col4\" class=\"data row12 col4\" >500.000000</td>\n      <td id=\"T_67716_row12_col5\" class=\"data row12 col5\" >92</td>\n      <td id=\"T_67716_row12_col6\" class=\"data row12 col6\" >47.76%</td>\n      <td id=\"T_67716_row12_col7\" class=\"data row12 col7\" >-66.00%</td>\n      <td id=\"T_67716_row12_col8\" class=\"data row12 col8\" >1.000000</td>\n      <td id=\"T_67716_row12_col9\" class=\"data row12 col9\" >1.440000</td>\n      <td id=\"T_67716_row12_col10\" class=\"data row12 col10\" >2.46%</td>\n      <td id=\"T_67716_row12_col11\" class=\"data row12 col11\" >-1.51%</td>\n    </tr>\n    <tr>\n      <th id=\"T_67716_level2_row13\" class=\"row_heading level2 row13\" >40</th>\n      <td id=\"T_67716_row13_col0\" class=\"data row13 col0\" >0.850000</td>\n      <td id=\"T_67716_row13_col1\" class=\"data row13 col1\" >CycleDuration.cycle_1d</td>\n      <td id=\"T_67716_row13_col2\" class=\"data row13 col2\" >60</td>\n      <td id=\"T_67716_row13_col3\" class=\"data row13 col3\" >120</td>\n      <td id=\"T_67716_row13_col4\" class=\"data row13 col4\" >500.000000</td>\n      <td id=\"T_67716_row13_col5\" class=\"data row13 col5\" >116</td>\n      <td id=\"T_67716_row13_col6\" class=\"data row13 col6\" >55.88%</td>\n      <td id=\"T_67716_row13_col7\" class=\"data row13 col7\" >-71.00%</td>\n      <td id=\"T_67716_row13_col8\" class=\"data row13 col8\" >1.130000</td>\n      <td id=\"T_67716_row13_col9\" class=\"data row13 col9\" >1.750000</td>\n      <td id=\"T_67716_row13_col10\" class=\"data row13 col10\" >2.04%</td>\n      <td id=\"T_67716_row13_col11\" class=\"data row13 col11\" >0.81%</td>\n    </tr>\n    <tr>\n      <th id=\"T_67716_level2_row14\" class=\"row_heading level2 row14\" >50</th>\n      <td id=\"T_67716_row14_col0\" class=\"data row14 col0\" >0.850000</td>\n      <td id=\"T_67716_row14_col1\" class=\"data row14 col1\" >CycleDuration.cycle_1d</td>\n      <td id=\"T_67716_row14_col2\" class=\"data row14 col2\" >60</td>\n      <td id=\"T_67716_row14_col3\" class=\"data row14 col3\" >120</td>\n      <td id=\"T_67716_row14_col4\" class=\"data row14 col4\" >500.000000</td>\n      <td id=\"T_67716_row14_col5\" class=\"data row14 col5\" >139</td>\n      <td id=\"T_67716_row14_col6\" class=\"data row14 col6\" >13.44%</td>\n      <td id=\"T_67716_row14_col7\" class=\"data row14 col7\" >-70.00%</td>\n      <td id=\"T_67716_row14_col8\" class=\"data row14 col8\" >0.510000</td>\n      <td id=\"T_67716_row14_col9\" class=\"data row14 col9\" >0.730000</td>\n      <td id=\"T_67716_row14_col10\" class=\"data row14 col10\" >1.45%</td>\n      <td id=\"T_67716_row14_col11\" class=\"data row14 col11\" >-0.49%</td>\n    </tr>\n    <tr>\n      <th id=\"T_67716_level2_row15\" class=\"row_heading level2 row15\" >60</th>\n      <td id=\"T_67716_row15_col0\" class=\"data row15 col0\" >0.850000</td>\n      <td id=\"T_67716_row15_col1\" class=\"data row15 col1\" >CycleDuration.cycle_1d</td>\n      <td id=\"T_67716_row15_col2\" class=\"data row15 col2\" >60</td>\n      <td id=\"T_67716_row15_col3\" class=\"data row15 col3\" >120</td>\n      <td id=\"T_67716_row15_col4\" class=\"data row15 col4\" >500.000000</td>\n      <td id=\"T_67716_row15_col5\" class=\"data row15 col5\" >138</td>\n      <td id=\"T_67716_row15_col6\" class=\"data row15 col6\" >4.93%</td>\n      <td id=\"T_67716_row15_col7\" class=\"data row15 col7\" >-76.00%</td>\n      <td id=\"T_67716_row15_col8\" class=\"data row15 col8\" >0.370000</td>\n      <td id=\"T_67716_row15_col9\" class=\"data row15 col9\" >0.520000</td>\n      <td id=\"T_67716_row15_col10\" class=\"data row15 col10\" >0.60%</td>\n      <td id=\"T_67716_row15_col11\" class=\"data row15 col11\" >-0.49%</td>\n    </tr>\n    <tr>\n      <th id=\"T_67716_level1_row16\" class=\"row_heading level1 row16\" rowspan=\"4\">77</th>\n      <th id=\"T_67716_level2_row16\" class=\"row_heading level2 row16\" >30</th>\n      <td id=\"T_67716_row16_col0\" class=\"data row16 col0\" >0.850000</td>\n      <td id=\"T_67716_row16_col1\" class=\"data row16 col1\" >CycleDuration.cycle_1d</td>\n      <td id=\"T_67716_row16_col2\" class=\"data row16 col2\" >60</td>\n      <td id=\"T_67716_row16_col3\" class=\"data row16 col3\" >120</td>\n      <td id=\"T_67716_row16_col4\" class=\"data row16 col4\" >500.000000</td>\n      <td id=\"T_67716_row16_col5\" class=\"data row16 col5\" >86</td>\n      <td id=\"T_67716_row16_col6\" class=\"data row16 col6\" >64.52%</td>\n      <td id=\"T_67716_row16_col7\" class=\"data row16 col7\" >-57.00%</td>\n      <td id=\"T_67716_row16_col8\" class=\"data row16 col8\" >1.240000</td>\n      <td id=\"T_67716_row16_col9\" class=\"data row16 col9\" >1.910000</td>\n      <td id=\"T_67716_row16_col10\" class=\"data row16 col10\" >2.73%</td>\n      <td id=\"T_67716_row16_col11\" class=\"data row16 col11\" >-0.81%</td>\n    </tr>\n    <tr>\n      <th id=\"T_67716_level2_row17\" class=\"row_heading level2 row17\" >40</th>\n      <td id=\"T_67716_row17_col0\" class=\"data row17 col0\" >0.850000</td>\n      <td id=\"T_67716_row17_col1\" class=\"data row17 col1\" >CycleDuration.cycle_1d</td>\n      <td id=\"T_67716_row17_col2\" class=\"data row17 col2\" >60</td>\n      <td id=\"T_67716_row17_col3\" class=\"data row17 col3\" >120</td>\n      <td id=\"T_67716_row17_col4\" class=\"data row17 col4\" >500.000000</td>\n      <td id=\"T_67716_row17_col5\" class=\"data row17 col5\" >110</td>\n      <td id=\"T_67716_row17_col6\" class=\"data row17 col6\" >74.49%</td>\n      <td id=\"T_67716_row17_col7\" class=\"data row17 col7\" >-66.00%</td>\n      <td id=\"T_67716_row17_col8\" class=\"data row17 col8\" >1.450000</td>\n      <td id=\"T_67716_row17_col9\" class=\"data row17 col9\" >2.320000</td>\n      <td id=\"T_67716_row17_col10\" class=\"data row17 col10\" >2.66%</td>\n      <td id=\"T_67716_row17_col11\" class=\"data row17 col11\" >1.64%</td>\n    </tr>\n    <tr>\n      <th id=\"T_67716_level2_row18\" class=\"row_heading level2 row18\" >50</th>\n      <td id=\"T_67716_row18_col0\" class=\"data row18 col0\" >0.850000</td>\n      <td id=\"T_67716_row18_col1\" class=\"data row18 col1\" >CycleDuration.cycle_1d</td>\n      <td id=\"T_67716_row18_col2\" class=\"data row18 col2\" >60</td>\n      <td id=\"T_67716_row18_col3\" class=\"data row18 col3\" >120</td>\n      <td id=\"T_67716_row18_col4\" class=\"data row18 col4\" >500.000000</td>\n      <td id=\"T_67716_row18_col5\" class=\"data row18 col5\" >121</td>\n      <td id=\"T_67716_row18_col6\" class=\"data row18 col6\" >74.36%</td>\n      <td id=\"T_67716_row18_col7\" class=\"data row18 col7\" >-46.00%</td>\n      <td id=\"T_67716_row18_col8\" class=\"data row18 col8\" >1.440000</td>\n      <td id=\"T_67716_row18_col9\" class=\"data row18 col9\" >2.290000</td>\n      <td id=\"T_67716_row18_col10\" class=\"data row18 col10\" >3.04%</td>\n      <td id=\"T_67716_row18_col11\" class=\"data row18 col11\" >0.64%</td>\n    </tr>\n    <tr>\n      <th id=\"T_67716_level2_row19\" class=\"row_heading level2 row19\" >60</th>\n      <td id=\"T_67716_row19_col0\" class=\"data row19 col0\" >0.850000</td>\n      <td id=\"T_67716_row19_col1\" class=\"data row19 col1\" >CycleDuration.cycle_1d</td>\n      <td id=\"T_67716_row19_col2\" class=\"data row19 col2\" >60</td>\n      <td id=\"T_67716_row19_col3\" class=\"data row19 col3\" >120</td>\n      <td id=\"T_67716_row19_col4\" class=\"data row19 col4\" >500.000000</td>\n      <td id=\"T_67716_row19_col5\" class=\"data row19 col5\" >127</td>\n      <td id=\"T_67716_row19_col6\" class=\"data row19 col6\" >17.00%</td>\n      <td id=\"T_67716_row19_col7\" class=\"data row19 col7\" >-54.00%</td>\n      <td id=\"T_67716_row19_col8\" class=\"data row19 col8\" >0.570000</td>\n      <td id=\"T_67716_row19_col9\" class=\"data row19 col9\" >0.810000</td>\n      <td id=\"T_67716_row19_col10\" class=\"data row19 col10\" >1.23%</td>\n      <td id=\"T_67716_row19_col11\" class=\"data row19 col11\" >0.21%</td>\n    </tr>\n    <tr>\n      <th id=\"T_67716_level1_row20\" class=\"row_heading level1 row20\" rowspan=\"4\">80</th>\n      <th id=\"T_67716_level2_row20\" class=\"row_heading level2 row20\" >30</th>\n      <td id=\"T_67716_row20_col0\" class=\"data row20 col0\" >0.850000</td>\n      <td id=\"T_67716_row20_col1\" class=\"data row20 col1\" >CycleDuration.cycle_1d</td>\n      <td id=\"T_67716_row20_col2\" class=\"data row20 col2\" >60</td>\n      <td id=\"T_67716_row20_col3\" class=\"data row20 col3\" >120</td>\n      <td id=\"T_67716_row20_col4\" class=\"data row20 col4\" >500.000000</td>\n      <td id=\"T_67716_row20_col5\" class=\"data row20 col5\" >75</td>\n      <td id=\"T_67716_row20_col6\" class=\"data row20 col6\" >72.69%</td>\n      <td id=\"T_67716_row20_col7\" class=\"data row20 col7\" >-49.00%</td>\n      <td id=\"T_67716_row20_col8\" class=\"data row20 col8\" >1.390000</td>\n      <td id=\"T_67716_row20_col9\" class=\"data row20 col9\" >2.160000</td>\n      <td id=\"T_67716_row20_col10\" class=\"data row20 col10\" >3.29%</td>\n      <td id=\"T_67716_row20_col11\" class=\"data row20 col11\" >-1.65%</td>\n    </tr>\n    <tr>\n      <th id=\"T_67716_level2_row21\" class=\"row_heading level2 row21\" >40</th>\n      <td id=\"T_67716_row21_col0\" class=\"data row21 col0\" >0.850000</td>\n      <td id=\"T_67716_row21_col1\" class=\"data row21 col1\" >CycleDuration.cycle_1d</td>\n      <td id=\"T_67716_row21_col2\" class=\"data row21 col2\" >60</td>\n      <td id=\"T_67716_row21_col3\" class=\"data row21 col3\" >120</td>\n      <td id=\"T_67716_row21_col4\" class=\"data row21 col4\" >500.000000</td>\n      <td id=\"T_67716_row21_col5\" class=\"data row21 col5\" >89</td>\n      <td id=\"T_67716_row21_col6\" class=\"data row21 col6\" >84.95%</td>\n      <td id=\"T_67716_row21_col7\" class=\"data row21 col7\" >-43.00%</td>\n      <td id=\"T_67716_row21_col8\" class=\"data row21 col8\" >1.600000</td>\n      <td id=\"T_67716_row21_col9\" class=\"data row21 col9\" >2.550000</td>\n      <td id=\"T_67716_row21_col10\" class=\"data row21 col10\" >3.69%</td>\n      <td id=\"T_67716_row21_col11\" class=\"data row21 col11\" >2.06%</td>\n    </tr>\n    <tr>\n      <th id=\"T_67716_level2_row22\" class=\"row_heading level2 row22\" >50</th>\n      <td id=\"T_67716_row22_col0\" class=\"data row22 col0\" >0.850000</td>\n      <td id=\"T_67716_row22_col1\" class=\"data row22 col1\" >CycleDuration.cycle_1d</td>\n      <td id=\"T_67716_row22_col2\" class=\"data row22 col2\" >60</td>\n      <td id=\"T_67716_row22_col3\" class=\"data row22 col3\" >120</td>\n      <td id=\"T_67716_row22_col4\" class=\"data row22 col4\" >500.000000</td>\n      <td id=\"T_67716_row22_col5\" class=\"data row22 col5\" >102</td>\n      <td id=\"T_67716_row22_col6\" class=\"data row22 col6\" >58.27%</td>\n      <td id=\"T_67716_row22_col7\" class=\"data row22 col7\" >-56.00%</td>\n      <td id=\"T_67716_row22_col8\" class=\"data row22 col8\" >1.230000</td>\n      <td id=\"T_67716_row22_col9\" class=\"data row22 col9\" >1.920000</td>\n      <td id=\"T_67716_row22_col10\" class=\"data row22 col10\" >3.16%</td>\n      <td id=\"T_67716_row22_col11\" class=\"data row22 col11\" >0.85%</td>\n    </tr>\n    <tr>\n      <th id=\"T_67716_level2_row23\" class=\"row_heading level2 row23\" >60</th>\n      <td id=\"T_67716_row23_col0\" class=\"data row23 col0\" >0.850000</td>\n      <td id=\"T_67716_row23_col1\" class=\"data row23 col1\" >CycleDuration.cycle_1d</td>\n      <td id=\"T_67716_row23_col2\" class=\"data row23 col2\" >60</td>\n      <td id=\"T_67716_row23_col3\" class=\"data row23 col3\" >120</td>\n      <td id=\"T_67716_row23_col4\" class=\"data row23 col4\" >500.000000</td>\n      <td id=\"T_67716_row23_col5\" class=\"data row23 col5\" >106</td>\n      <td id=\"T_67716_row23_col6\" class=\"data row23 col6\" >29.53%</td>\n      <td id=\"T_67716_row23_col7\" class=\"data row23 col7\" >-53.00%</td>\n      <td id=\"T_67716_row23_col8\" class=\"data row23 col8\" >0.800000</td>\n      <td id=\"T_67716_row23_col9\" class=\"data row23 col9\" >1.130000</td>\n      <td id=\"T_67716_row23_col10\" class=\"data row23 col10\" >1.91%</td>\n      <td id=\"T_67716_row23_col11\" class=\"data row23 col11\" >0.17%</td>\n    </tr>\n    <tr>\n      <th id=\"T_67716_level0_row24\" class=\"row_heading level0 row24\" rowspan=\"24\">6</th>\n      <th id=\"T_67716_level1_row24\" class=\"row_heading level1 row24\" rowspan=\"4\">55</th>\n      <th id=\"T_67716_level2_row24\" class=\"row_heading level2 row24\" >30</th>\n      <td id=\"T_67716_row24_col0\" class=\"data row24 col0\" >0.850000</td>\n      <td id=\"T_67716_row24_col1\" class=\"data row24 col1\" >CycleDuration.cycle_1d</td>\n      <td id=\"T_67716_row24_col2\" class=\"data row24 col2\" >60</td>\n      <td id=\"T_67716_row24_col3\" class=\"data row24 col3\" >120</td>\n      <td id=\"T_67716_row24_col4\" class=\"data row24 col4\" >500.000000</td>\n      <td id=\"T_67716_row24_col5\" class=\"data row24 col5\" >103</td>\n      <td id=\"T_67716_row24_col6\" class=\"data row24 col6\" >43.27%</td>\n      <td id=\"T_67716_row24_col7\" class=\"data row24 col7\" >-68.00%</td>\n      <td id=\"T_67716_row24_col8\" class=\"data row24 col8\" >0.920000</td>\n      <td id=\"T_67716_row24_col9\" class=\"data row24 col9\" >1.360000</td>\n      <td id=\"T_67716_row24_col10\" class=\"data row24 col10\" >1.74%</td>\n      <td id=\"T_67716_row24_col11\" class=\"data row24 col11\" >-1.43%</td>\n    </tr>\n    <tr>\n      <th id=\"T_67716_level2_row25\" class=\"row_heading level2 row25\" >40</th>\n      <td id=\"T_67716_row25_col0\" class=\"data row25 col0\" >0.850000</td>\n      <td id=\"T_67716_row25_col1\" class=\"data row25 col1\" >CycleDuration.cycle_1d</td>\n      <td id=\"T_67716_row25_col2\" class=\"data row25 col2\" >60</td>\n      <td id=\"T_67716_row25_col3\" class=\"data row25 col3\" >120</td>\n      <td id=\"T_67716_row25_col4\" class=\"data row25 col4\" >500.000000</td>\n      <td id=\"T_67716_row25_col5\" class=\"data row25 col5\" >148</td>\n      <td id=\"T_67716_row25_col6\" class=\"data row25 col6\" >57.41%</td>\n      <td id=\"T_67716_row25_col7\" class=\"data row25 col7\" >-73.00%</td>\n      <td id=\"T_67716_row25_col8\" class=\"data row25 col8\" >1.100000</td>\n      <td id=\"T_67716_row25_col9\" class=\"data row25 col9\" >1.650000</td>\n      <td id=\"T_67716_row25_col10\" class=\"data row25 col10\" >1.99%</td>\n      <td id=\"T_67716_row25_col11\" class=\"data row25 col11\" >-0.74%</td>\n    </tr>\n    <tr>\n      <th id=\"T_67716_level2_row26\" class=\"row_heading level2 row26\" >50</th>\n      <td id=\"T_67716_row26_col0\" class=\"data row26 col0\" >0.850000</td>\n      <td id=\"T_67716_row26_col1\" class=\"data row26 col1\" >CycleDuration.cycle_1d</td>\n      <td id=\"T_67716_row26_col2\" class=\"data row26 col2\" >60</td>\n      <td id=\"T_67716_row26_col3\" class=\"data row26 col3\" >120</td>\n      <td id=\"T_67716_row26_col4\" class=\"data row26 col4\" >500.000000</td>\n      <td id=\"T_67716_row26_col5\" class=\"data row26 col5\" >160</td>\n      <td id=\"T_67716_row26_col6\" class=\"data row26 col6\" >44.21%</td>\n      <td id=\"T_67716_row26_col7\" class=\"data row26 col7\" >-67.00%</td>\n      <td id=\"T_67716_row26_col8\" class=\"data row26 col8\" >0.950000</td>\n      <td id=\"T_67716_row26_col9\" class=\"data row26 col9\" >1.410000</td>\n      <td id=\"T_67716_row26_col10\" class=\"data row26 col10\" >1.88%</td>\n      <td id=\"T_67716_row26_col11\" class=\"data row26 col11\" >-0.04%</td>\n    </tr>\n    <tr>\n      <th id=\"T_67716_level2_row27\" class=\"row_heading level2 row27\" >60</th>\n      <td id=\"T_67716_row27_col0\" class=\"data row27 col0\" >0.850000</td>\n      <td id=\"T_67716_row27_col1\" class=\"data row27 col1\" >CycleDuration.cycle_1d</td>\n      <td id=\"T_67716_row27_col2\" class=\"data row27 col2\" >60</td>\n      <td id=\"T_67716_row27_col3\" class=\"data row27 col3\" >120</td>\n      <td id=\"T_67716_row27_col4\" class=\"data row27 col4\" >500.000000</td>\n      <td id=\"T_67716_row27_col5\" class=\"data row27 col5\" >148</td>\n      <td id=\"T_67716_row27_col6\" class=\"data row27 col6\" >45.49%</td>\n      <td id=\"T_67716_row27_col7\" class=\"data row27 col7\" >-67.00%</td>\n      <td id=\"T_67716_row27_col8\" class=\"data row27 col8\" >0.970000</td>\n      <td id=\"T_67716_row27_col9\" class=\"data row27 col9\" >1.450000</td>\n      <td id=\"T_67716_row27_col10\" class=\"data row27 col10\" >1.90%</td>\n      <td id=\"T_67716_row27_col11\" class=\"data row27 col11\" >0.37%</td>\n    </tr>\n    <tr>\n      <th id=\"T_67716_level1_row28\" class=\"row_heading level1 row28\" rowspan=\"4\">60</th>\n      <th id=\"T_67716_level2_row28\" class=\"row_heading level2 row28\" >30</th>\n      <td id=\"T_67716_row28_col0\" class=\"data row28 col0\" >0.850000</td>\n      <td id=\"T_67716_row28_col1\" class=\"data row28 col1\" >CycleDuration.cycle_1d</td>\n      <td id=\"T_67716_row28_col2\" class=\"data row28 col2\" >60</td>\n      <td id=\"T_67716_row28_col3\" class=\"data row28 col3\" >120</td>\n      <td id=\"T_67716_row28_col4\" class=\"data row28 col4\" >500.000000</td>\n      <td id=\"T_67716_row28_col5\" class=\"data row28 col5\" >92</td>\n      <td id=\"T_67716_row28_col6\" class=\"data row28 col6\" >50.75%</td>\n      <td id=\"T_67716_row28_col7\" class=\"data row28 col7\" >-65.00%</td>\n      <td id=\"T_67716_row28_col8\" class=\"data row28 col8\" >1.000000</td>\n      <td id=\"T_67716_row28_col9\" class=\"data row28 col9\" >1.440000</td>\n      <td id=\"T_67716_row28_col10\" class=\"data row28 col10\" >2.59%</td>\n      <td id=\"T_67716_row28_col11\" class=\"data row28 col11\" >0.33%</td>\n    </tr>\n    <tr>\n      <th id=\"T_67716_level2_row29\" class=\"row_heading level2 row29\" >40</th>\n      <td id=\"T_67716_row29_col0\" class=\"data row29 col0\" >0.850000</td>\n      <td id=\"T_67716_row29_col1\" class=\"data row29 col1\" >CycleDuration.cycle_1d</td>\n      <td id=\"T_67716_row29_col2\" class=\"data row29 col2\" >60</td>\n      <td id=\"T_67716_row29_col3\" class=\"data row29 col3\" >120</td>\n      <td id=\"T_67716_row29_col4\" class=\"data row29 col4\" >500.000000</td>\n      <td id=\"T_67716_row29_col5\" class=\"data row29 col5\" >132</td>\n      <td id=\"T_67716_row29_col6\" class=\"data row29 col6\" >57.30%</td>\n      <td id=\"T_67716_row29_col7\" class=\"data row29 col7\" >-70.00%</td>\n      <td id=\"T_67716_row29_col8\" class=\"data row29 col8\" >1.080000</td>\n      <td id=\"T_67716_row29_col9\" class=\"data row29 col9\" >1.590000</td>\n      <td id=\"T_67716_row29_col10\" class=\"data row29 col10\" >2.05%</td>\n      <td id=\"T_67716_row29_col11\" class=\"data row29 col11\" >-0.11%</td>\n    </tr>\n    <tr>\n      <th id=\"T_67716_level2_row30\" class=\"row_heading level2 row30\" >50</th>\n      <td id=\"T_67716_row30_col0\" class=\"data row30 col0\" >0.850000</td>\n      <td id=\"T_67716_row30_col1\" class=\"data row30 col1\" >CycleDuration.cycle_1d</td>\n      <td id=\"T_67716_row30_col2\" class=\"data row30 col2\" >60</td>\n      <td id=\"T_67716_row30_col3\" class=\"data row30 col3\" >120</td>\n      <td id=\"T_67716_row30_col4\" class=\"data row30 col4\" >500.000000</td>\n      <td id=\"T_67716_row30_col5\" class=\"data row30 col5\" >148</td>\n      <td id=\"T_67716_row30_col6\" class=\"data row30 col6\" >44.03%</td>\n      <td id=\"T_67716_row30_col7\" class=\"data row30 col7\" >-60.00%</td>\n      <td id=\"T_67716_row30_col8\" class=\"data row30 col8\" >0.930000</td>\n      <td id=\"T_67716_row30_col9\" class=\"data row30 col9\" >1.340000</td>\n      <td id=\"T_67716_row30_col10\" class=\"data row30 col10\" >2.02%</td>\n      <td id=\"T_67716_row30_col11\" class=\"data row30 col11\" >0.30%</td>\n    </tr>\n    <tr>\n      <th id=\"T_67716_level2_row31\" class=\"row_heading level2 row31\" >60</th>\n      <td id=\"T_67716_row31_col0\" class=\"data row31 col0\" >0.850000</td>\n      <td id=\"T_67716_row31_col1\" class=\"data row31 col1\" >CycleDuration.cycle_1d</td>\n      <td id=\"T_67716_row31_col2\" class=\"data row31 col2\" >60</td>\n      <td id=\"T_67716_row31_col3\" class=\"data row31 col3\" >120</td>\n      <td id=\"T_67716_row31_col4\" class=\"data row31 col4\" >500.000000</td>\n      <td id=\"T_67716_row31_col5\" class=\"data row31 col5\" >140</td>\n      <td id=\"T_67716_row31_col6\" class=\"data row31 col6\" >30.45%</td>\n      <td id=\"T_67716_row31_col7\" class=\"data row31 col7\" >-69.00%</td>\n      <td id=\"T_67716_row31_col8\" class=\"data row31 col8\" >0.750000</td>\n      <td id=\"T_67716_row31_col9\" class=\"data row31 col9\" >1.080000</td>\n      <td id=\"T_67716_row31_col10\" class=\"data row31 col10\" >1.60%</td>\n      <td id=\"T_67716_row31_col11\" class=\"data row31 col11\" >0.21%</td>\n    </tr>\n    <tr>\n      <th id=\"T_67716_level1_row32\" class=\"row_heading level1 row32\" rowspan=\"4\">70</th>\n      <th id=\"T_67716_level2_row32\" class=\"row_heading level2 row32\" >30</th>\n      <td id=\"T_67716_row32_col0\" class=\"data row32 col0\" >0.850000</td>\n      <td id=\"T_67716_row32_col1\" class=\"data row32 col1\" >CycleDuration.cycle_1d</td>\n      <td id=\"T_67716_row32_col2\" class=\"data row32 col2\" >60</td>\n      <td id=\"T_67716_row32_col3\" class=\"data row32 col3\" >120</td>\n      <td id=\"T_67716_row32_col4\" class=\"data row32 col4\" >500.000000</td>\n      <td id=\"T_67716_row32_col5\" class=\"data row32 col5\" >87</td>\n      <td id=\"T_67716_row32_col6\" class=\"data row32 col6\" >40.32%</td>\n      <td id=\"T_67716_row32_col7\" class=\"data row32 col7\" >-68.00%</td>\n      <td id=\"T_67716_row32_col8\" class=\"data row32 col8\" >0.890000</td>\n      <td id=\"T_67716_row32_col9\" class=\"data row32 col9\" >1.280000</td>\n      <td id=\"T_67716_row32_col10\" class=\"data row32 col10\" >2.61%</td>\n      <td id=\"T_67716_row32_col11\" class=\"data row32 col11\" >-1.57%</td>\n    </tr>\n    <tr>\n      <th id=\"T_67716_level2_row33\" class=\"row_heading level2 row33\" >40</th>\n      <td id=\"T_67716_row33_col0\" class=\"data row33 col0\" >0.850000</td>\n      <td id=\"T_67716_row33_col1\" class=\"data row33 col1\" >CycleDuration.cycle_1d</td>\n      <td id=\"T_67716_row33_col2\" class=\"data row33 col2\" >60</td>\n      <td id=\"T_67716_row33_col3\" class=\"data row33 col3\" >120</td>\n      <td id=\"T_67716_row33_col4\" class=\"data row33 col4\" >500.000000</td>\n      <td id=\"T_67716_row33_col5\" class=\"data row33 col5\" >113</td>\n      <td id=\"T_67716_row33_col6\" class=\"data row33 col6\" >49.60%</td>\n      <td id=\"T_67716_row33_col7\" class=\"data row33 col7\" >-67.00%</td>\n      <td id=\"T_67716_row33_col8\" class=\"data row33 col8\" >1.000000</td>\n      <td id=\"T_67716_row33_col9\" class=\"data row33 col9\" >1.450000</td>\n      <td id=\"T_67716_row33_col10\" class=\"data row33 col10\" >2.67%</td>\n      <td id=\"T_67716_row33_col11\" class=\"data row33 col11\" >0.66%</td>\n    </tr>\n    <tr>\n      <th id=\"T_67716_level2_row34\" class=\"row_heading level2 row34\" >50</th>\n      <td id=\"T_67716_row34_col0\" class=\"data row34 col0\" >0.850000</td>\n      <td id=\"T_67716_row34_col1\" class=\"data row34 col1\" >CycleDuration.cycle_1d</td>\n      <td id=\"T_67716_row34_col2\" class=\"data row34 col2\" >60</td>\n      <td id=\"T_67716_row34_col3\" class=\"data row34 col3\" >120</td>\n      <td id=\"T_67716_row34_col4\" class=\"data row34 col4\" >500.000000</td>\n      <td id=\"T_67716_row34_col5\" class=\"data row34 col5\" >134</td>\n      <td id=\"T_67716_row34_col6\" class=\"data row34 col6\" >14.70%</td>\n      <td id=\"T_67716_row34_col7\" class=\"data row34 col7\" >-69.00%</td>\n      <td id=\"T_67716_row34_col8\" class=\"data row34 col8\" >0.530000</td>\n      <td id=\"T_67716_row34_col9\" class=\"data row34 col9\" >0.760000</td>\n      <td id=\"T_67716_row34_col10\" class=\"data row34 col10\" >1.98%</td>\n      <td id=\"T_67716_row34_col11\" class=\"data row34 col11\" >-0.50%</td>\n    </tr>\n    <tr>\n      <th id=\"T_67716_level2_row35\" class=\"row_heading level2 row35\" >60</th>\n      <td id=\"T_67716_row35_col0\" class=\"data row35 col0\" >0.850000</td>\n      <td id=\"T_67716_row35_col1\" class=\"data row35 col1\" >CycleDuration.cycle_1d</td>\n      <td id=\"T_67716_row35_col2\" class=\"data row35 col2\" >60</td>\n      <td id=\"T_67716_row35_col3\" class=\"data row35 col3\" >120</td>\n      <td id=\"T_67716_row35_col4\" class=\"data row35 col4\" >500.000000</td>\n      <td id=\"T_67716_row35_col5\" class=\"data row35 col5\" >137</td>\n      <td id=\"T_67716_row35_col6\" class=\"data row35 col6\" >18.73%</td>\n      <td id=\"T_67716_row35_col7\" class=\"data row35 col7\" >-76.00%</td>\n      <td id=\"T_67716_row35_col8\" class=\"data row35 col8\" >0.590000</td>\n      <td id=\"T_67716_row35_col9\" class=\"data row35 col9\" >0.840000</td>\n      <td id=\"T_67716_row35_col10\" class=\"data row35 col10\" >1.22%</td>\n      <td id=\"T_67716_row35_col11\" class=\"data row35 col11\" >0.25%</td>\n    </tr>\n    <tr>\n      <th id=\"T_67716_level1_row36\" class=\"row_heading level1 row36\" rowspan=\"4\">73</th>\n      <th id=\"T_67716_level2_row36\" class=\"row_heading level2 row36\" >30</th>\n      <td id=\"T_67716_row36_col0\" class=\"data row36 col0\" >0.850000</td>\n      <td id=\"T_67716_row36_col1\" class=\"data row36 col1\" >CycleDuration.cycle_1d</td>\n      <td id=\"T_67716_row36_col2\" class=\"data row36 col2\" >60</td>\n      <td id=\"T_67716_row36_col3\" class=\"data row36 col3\" >120</td>\n      <td id=\"T_67716_row36_col4\" class=\"data row36 col4\" >500.000000</td>\n      <td id=\"T_67716_row36_col5\" class=\"data row36 col5\" >74</td>\n      <td id=\"T_67716_row36_col6\" class=\"data row36 col6\" >42.87%</td>\n      <td id=\"T_67716_row36_col7\" class=\"data row36 col7\" >-62.00%</td>\n      <td id=\"T_67716_row36_col8\" class=\"data row36 col8\" >0.930000</td>\n      <td id=\"T_67716_row36_col9\" class=\"data row36 col9\" >1.360000</td>\n      <td id=\"T_67716_row36_col10\" class=\"data row36 col10\" >3.41%</td>\n      <td id=\"T_67716_row36_col11\" class=\"data row36 col11\" >-0.37%</td>\n    </tr>\n    <tr>\n      <th id=\"T_67716_level2_row37\" class=\"row_heading level2 row37\" >40</th>\n      <td id=\"T_67716_row37_col0\" class=\"data row37 col0\" >0.850000</td>\n      <td id=\"T_67716_row37_col1\" class=\"data row37 col1\" >CycleDuration.cycle_1d</td>\n      <td id=\"T_67716_row37_col2\" class=\"data row37 col2\" >60</td>\n      <td id=\"T_67716_row37_col3\" class=\"data row37 col3\" >120</td>\n      <td id=\"T_67716_row37_col4\" class=\"data row37 col4\" >500.000000</td>\n      <td id=\"T_67716_row37_col5\" class=\"data row37 col5\" >102</td>\n      <td id=\"T_67716_row37_col6\" class=\"data row37 col6\" >66.65%</td>\n      <td id=\"T_67716_row37_col7\" class=\"data row37 col7\" >-60.00%</td>\n      <td id=\"T_67716_row37_col8\" class=\"data row37 col8\" >1.250000</td>\n      <td id=\"T_67716_row37_col9\" class=\"data row37 col9\" >1.890000</td>\n      <td id=\"T_67716_row37_col10\" class=\"data row37 col10\" >2.87%</td>\n      <td id=\"T_67716_row37_col11\" class=\"data row37 col11\" >0.12%</td>\n    </tr>\n    <tr>\n      <th id=\"T_67716_level2_row38\" class=\"row_heading level2 row38\" >50</th>\n      <td id=\"T_67716_row38_col0\" class=\"data row38 col0\" >0.850000</td>\n      <td id=\"T_67716_row38_col1\" class=\"data row38 col1\" >CycleDuration.cycle_1d</td>\n      <td id=\"T_67716_row38_col2\" class=\"data row38 col2\" >60</td>\n      <td id=\"T_67716_row38_col3\" class=\"data row38 col3\" >120</td>\n      <td id=\"T_67716_row38_col4\" class=\"data row38 col4\" >500.000000</td>\n      <td id=\"T_67716_row38_col5\" class=\"data row38 col5\" >108</td>\n      <td id=\"T_67716_row38_col6\" class=\"data row38 col6\" >56.89%</td>\n      <td id=\"T_67716_row38_col7\" class=\"data row38 col7\" >-60.00%</td>\n      <td id=\"T_67716_row38_col8\" class=\"data row38 col8\" >1.170000</td>\n      <td id=\"T_67716_row38_col9\" class=\"data row38 col9\" >1.740000</td>\n      <td id=\"T_67716_row38_col10\" class=\"data row38 col10\" >3.32%</td>\n      <td id=\"T_67716_row38_col11\" class=\"data row38 col11\" >0.79%</td>\n    </tr>\n    <tr>\n      <th id=\"T_67716_level2_row39\" class=\"row_heading level2 row39\" >60</th>\n      <td id=\"T_67716_row39_col0\" class=\"data row39 col0\" >0.850000</td>\n      <td id=\"T_67716_row39_col1\" class=\"data row39 col1\" >CycleDuration.cycle_1d</td>\n      <td id=\"T_67716_row39_col2\" class=\"data row39 col2\" >60</td>\n      <td id=\"T_67716_row39_col3\" class=\"data row39 col3\" >120</td>\n      <td id=\"T_67716_row39_col4\" class=\"data row39 col4\" >500.000000</td>\n      <td id=\"T_67716_row39_col5\" class=\"data row39 col5\" >118</td>\n      <td id=\"T_67716_row39_col6\" class=\"data row39 col6\" >23.17%</td>\n      <td id=\"T_67716_row39_col7\" class=\"data row39 col7\" >-65.00%</td>\n      <td id=\"T_67716_row39_col8\" class=\"data row39 col8\" >0.670000</td>\n      <td id=\"T_67716_row39_col9\" class=\"data row39 col9\" >0.960000</td>\n      <td id=\"T_67716_row39_col10\" class=\"data row39 col10\" >1.58%</td>\n      <td id=\"T_67716_row39_col11\" class=\"data row39 col11\" >0.10%</td>\n    </tr>\n    <tr>\n      <th id=\"T_67716_level1_row40\" class=\"row_heading level1 row40\" rowspan=\"4\">77</th>\n      <th id=\"T_67716_level2_row40\" class=\"row_heading level2 row40\" >30</th>\n      <td id=\"T_67716_row40_col0\" class=\"data row40 col0\" >0.850000</td>\n      <td id=\"T_67716_row40_col1\" class=\"data row40 col1\" >CycleDuration.cycle_1d</td>\n      <td id=\"T_67716_row40_col2\" class=\"data row40 col2\" >60</td>\n      <td id=\"T_67716_row40_col3\" class=\"data row40 col3\" >120</td>\n      <td id=\"T_67716_row40_col4\" class=\"data row40 col4\" >500.000000</td>\n      <td id=\"T_67716_row40_col5\" class=\"data row40 col5\" >66</td>\n      <td id=\"T_67716_row40_col6\" class=\"data row40 col6\" >75.79%</td>\n      <td id=\"T_67716_row40_col7\" class=\"data row40 col7\" >-53.00%</td>\n      <td id=\"T_67716_row40_col8\" class=\"data row40 col8\" >1.390000</td>\n      <td id=\"T_67716_row40_col9\" class=\"data row40 col9\" >2.060000</td>\n      <td id=\"T_67716_row40_col10\" class=\"data row40 col10\" >4.83%</td>\n      <td id=\"T_67716_row40_col11\" class=\"data row40 col11\" >0.97%</td>\n    </tr>\n    <tr>\n      <th id=\"T_67716_level2_row41\" class=\"row_heading level2 row41\" >40</th>\n      <td id=\"T_67716_row41_col0\" class=\"data row41 col0\" >0.850000</td>\n      <td id=\"T_67716_row41_col1\" class=\"data row41 col1\" >CycleDuration.cycle_1d</td>\n      <td id=\"T_67716_row41_col2\" class=\"data row41 col2\" >60</td>\n      <td id=\"T_67716_row41_col3\" class=\"data row41 col3\" >120</td>\n      <td id=\"T_67716_row41_col4\" class=\"data row41 col4\" >500.000000</td>\n      <td id=\"T_67716_row41_col5\" class=\"data row41 col5\" >94</td>\n      <td id=\"T_67716_row41_col6\" class=\"data row41 col6\" >80.46%</td>\n      <td id=\"T_67716_row41_col7\" class=\"data row41 col7\" >-53.00%</td>\n      <td id=\"T_67716_row41_col8\" class=\"data row41 col8\" >1.460000</td>\n      <td id=\"T_67716_row41_col9\" class=\"data row41 col9\" >2.220000</td>\n      <td id=\"T_67716_row41_col10\" class=\"data row41 col10\" >3.48%</td>\n      <td id=\"T_67716_row41_col11\" class=\"data row41 col11\" >1.45%</td>\n    </tr>\n    <tr>\n      <th id=\"T_67716_level2_row42\" class=\"row_heading level2 row42\" >50</th>\n      <td id=\"T_67716_row42_col0\" class=\"data row42 col0\" >0.850000</td>\n      <td id=\"T_67716_row42_col1\" class=\"data row42 col1\" >CycleDuration.cycle_1d</td>\n      <td id=\"T_67716_row42_col2\" class=\"data row42 col2\" >60</td>\n      <td id=\"T_67716_row42_col3\" class=\"data row42 col3\" >120</td>\n      <td id=\"T_67716_row42_col4\" class=\"data row42 col4\" >500.000000</td>\n      <td id=\"T_67716_row42_col5\" class=\"data row42 col5\" >92</td>\n      <td id=\"T_67716_row42_col6\" class=\"data row42 col6\" >74.02%</td>\n      <td id=\"T_67716_row42_col7\" class=\"data row42 col7\" >-50.00%</td>\n      <td id=\"T_67716_row42_col8\" class=\"data row42 col8\" >1.400000</td>\n      <td id=\"T_67716_row42_col9\" class=\"data row42 col9\" >2.090000</td>\n      <td id=\"T_67716_row42_col10\" class=\"data row42 col10\" >3.87%</td>\n      <td id=\"T_67716_row42_col11\" class=\"data row42 col11\" >1.87%</td>\n    </tr>\n    <tr>\n      <th id=\"T_67716_level2_row43\" class=\"row_heading level2 row43\" >60</th>\n      <td id=\"T_67716_row43_col0\" class=\"data row43 col0\" >0.850000</td>\n      <td id=\"T_67716_row43_col1\" class=\"data row43 col1\" >CycleDuration.cycle_1d</td>\n      <td id=\"T_67716_row43_col2\" class=\"data row43 col2\" >60</td>\n      <td id=\"T_67716_row43_col3\" class=\"data row43 col3\" >120</td>\n      <td id=\"T_67716_row43_col4\" class=\"data row43 col4\" >500.000000</td>\n      <td id=\"T_67716_row43_col5\" class=\"data row43 col5\" >97</td>\n      <td id=\"T_67716_row43_col6\" class=\"data row43 col6\" >32.69%</td>\n      <td id=\"T_67716_row43_col7\" class=\"data row43 col7\" >-53.00%</td>\n      <td id=\"T_67716_row43_col8\" class=\"data row43 col8\" >0.820000</td>\n      <td id=\"T_67716_row43_col9\" class=\"data row43 col9\" >1.200000</td>\n      <td id=\"T_67716_row43_col10\" class=\"data row43 col10\" >2.31%</td>\n      <td id=\"T_67716_row43_col11\" class=\"data row43 col11\" >1.52%</td>\n    </tr>\n    <tr>\n      <th id=\"T_67716_level1_row44\" class=\"row_heading level1 row44\" rowspan=\"4\">80</th>\n      <th id=\"T_67716_level2_row44\" class=\"row_heading level2 row44\" >30</th>\n      <td id=\"T_67716_row44_col0\" class=\"data row44 col0\" >0.850000</td>\n      <td id=\"T_67716_row44_col1\" class=\"data row44 col1\" >CycleDuration.cycle_1d</td>\n      <td id=\"T_67716_row44_col2\" class=\"data row44 col2\" >60</td>\n      <td id=\"T_67716_row44_col3\" class=\"data row44 col3\" >120</td>\n      <td id=\"T_67716_row44_col4\" class=\"data row44 col4\" >500.000000</td>\n      <td id=\"T_67716_row44_col5\" class=\"data row44 col5\" >52</td>\n      <td id=\"T_67716_row44_col6\" class=\"data row44 col6\" >73.73%</td>\n      <td id=\"T_67716_row44_col7\" class=\"data row44 col7\" >-39.00%</td>\n      <td id=\"T_67716_row44_col8\" class=\"data row44 col8\" >1.490000</td>\n      <td id=\"T_67716_row44_col9\" class=\"data row44 col9\" >2.320000</td>\n      <td id=\"T_67716_row44_col10\" class=\"data row44 col10\" >4.90%</td>\n      <td id=\"T_67716_row44_col11\" class=\"data row44 col11\" >2.78%</td>\n    </tr>\n    <tr>\n      <th id=\"T_67716_level2_row45\" class=\"row_heading level2 row45\" >40</th>\n      <td id=\"T_67716_row45_col0\" class=\"data row45 col0\" >0.850000</td>\n      <td id=\"T_67716_row45_col1\" class=\"data row45 col1\" >CycleDuration.cycle_1d</td>\n      <td id=\"T_67716_row45_col2\" class=\"data row45 col2\" >60</td>\n      <td id=\"T_67716_row45_col3\" class=\"data row45 col3\" >120</td>\n      <td id=\"T_67716_row45_col4\" class=\"data row45 col4\" >500.000000</td>\n      <td id=\"T_67716_row45_col5\" class=\"data row45 col5\" >70</td>\n      <td id=\"T_67716_row45_col6\" class=\"data row45 col6\" >52.11%</td>\n      <td id=\"T_67716_row45_col7\" class=\"data row45 col7\" >-52.00%</td>\n      <td id=\"T_67716_row45_col8\" class=\"data row45 col8\" >1.240000</td>\n      <td id=\"T_67716_row45_col9\" class=\"data row45 col9\" >1.910000</td>\n      <td id=\"T_67716_row45_col10\" class=\"data row45 col10\" >4.21%</td>\n      <td id=\"T_67716_row45_col11\" class=\"data row45 col11\" >1.56%</td>\n    </tr>\n    <tr>\n      <th id=\"T_67716_level2_row46\" class=\"row_heading level2 row46\" >50</th>\n      <td id=\"T_67716_row46_col0\" class=\"data row46 col0\" >0.850000</td>\n      <td id=\"T_67716_row46_col1\" class=\"data row46 col1\" >CycleDuration.cycle_1d</td>\n      <td id=\"T_67716_row46_col2\" class=\"data row46 col2\" >60</td>\n      <td id=\"T_67716_row46_col3\" class=\"data row46 col3\" >120</td>\n      <td id=\"T_67716_row46_col4\" class=\"data row46 col4\" >500.000000</td>\n      <td id=\"T_67716_row46_col5\" class=\"data row46 col5\" >73</td>\n      <td id=\"T_67716_row46_col6\" class=\"data row46 col6\" >63.43%</td>\n      <td id=\"T_67716_row46_col7\" class=\"data row46 col7\" >-29.00%</td>\n      <td id=\"T_67716_row46_col8\" class=\"data row46 col8\" >1.430000</td>\n      <td id=\"T_67716_row46_col9\" class=\"data row46 col9\" >2.250000</td>\n      <td id=\"T_67716_row46_col10\" class=\"data row46 col10\" >4.42%</td>\n      <td id=\"T_67716_row46_col11\" class=\"data row46 col11\" >1.99%</td>\n    </tr>\n    <tr>\n      <th id=\"T_67716_level2_row47\" class=\"row_heading level2 row47\" >60</th>\n      <td id=\"T_67716_row47_col0\" class=\"data row47 col0\" >0.850000</td>\n      <td id=\"T_67716_row47_col1\" class=\"data row47 col1\" >CycleDuration.cycle_1d</td>\n      <td id=\"T_67716_row47_col2\" class=\"data row47 col2\" >60</td>\n      <td id=\"T_67716_row47_col3\" class=\"data row47 col3\" >120</td>\n      <td id=\"T_67716_row47_col4\" class=\"data row47 col4\" >500.000000</td>\n      <td id=\"T_67716_row47_col5\" class=\"data row47 col5\" >78</td>\n      <td id=\"T_67716_row47_col6\" class=\"data row47 col6\" >30.42%</td>\n      <td id=\"T_67716_row47_col7\" class=\"data row47 col7\" >-50.00%</td>\n      <td id=\"T_67716_row47_col8\" class=\"data row47 col8\" >0.830000</td>\n      <td id=\"T_67716_row47_col9\" class=\"data row47 col9\" >1.250000</td>\n      <td id=\"T_67716_row47_col10\" class=\"data row47 col10\" >2.26%</td>\n      <td id=\"T_67716_row47_col11\" class=\"data row47 col11\" >1.47%</td>\n    </tr>\n    <tr>\n      <th id=\"T_67716_level0_row48\" class=\"row_heading level0 row48\" rowspan=\"24\">8</th>\n      <th id=\"T_67716_level1_row48\" class=\"row_heading level1 row48\" rowspan=\"4\">55</th>\n      <th id=\"T_67716_level2_row48\" class=\"row_heading level2 row48\" >30</th>\n      <td id=\"T_67716_row48_col0\" class=\"data row48 col0\" >0.850000</td>\n      <td id=\"T_67716_row48_col1\" class=\"data row48 col1\" >CycleDuration.cycle_1d</td>\n      <td id=\"T_67716_row48_col2\" class=\"data row48 col2\" >60</td>\n      <td id=\"T_67716_row48_col3\" class=\"data row48 col3\" >120</td>\n      <td id=\"T_67716_row48_col4\" class=\"data row48 col4\" >500.000000</td>\n      <td id=\"T_67716_row48_col5\" class=\"data row48 col5\" >76</td>\n      <td id=\"T_67716_row48_col6\" class=\"data row48 col6\" >41.94%</td>\n      <td id=\"T_67716_row48_col7\" class=\"data row48 col7\" >-74.00%</td>\n      <td id=\"T_67716_row48_col8\" class=\"data row48 col8\" >0.900000</td>\n      <td id=\"T_67716_row48_col9\" class=\"data row48 col9\" >1.280000</td>\n      <td id=\"T_67716_row48_col10\" class=\"data row48 col10\" >3.18%</td>\n      <td id=\"T_67716_row48_col11\" class=\"data row48 col11\" >-0.41%</td>\n    </tr>\n    <tr>\n      <th id=\"T_67716_level2_row49\" class=\"row_heading level2 row49\" >40</th>\n      <td id=\"T_67716_row49_col0\" class=\"data row49 col0\" >0.850000</td>\n      <td id=\"T_67716_row49_col1\" class=\"data row49 col1\" >CycleDuration.cycle_1d</td>\n      <td id=\"T_67716_row49_col2\" class=\"data row49 col2\" >60</td>\n      <td id=\"T_67716_row49_col3\" class=\"data row49 col3\" >120</td>\n      <td id=\"T_67716_row49_col4\" class=\"data row49 col4\" >500.000000</td>\n      <td id=\"T_67716_row49_col5\" class=\"data row49 col5\" >118</td>\n      <td id=\"T_67716_row49_col6\" class=\"data row49 col6\" >79.51%</td>\n      <td id=\"T_67716_row49_col7\" class=\"data row49 col7\" >-65.00%</td>\n      <td id=\"T_67716_row49_col8\" class=\"data row49 col8\" >1.350000</td>\n      <td id=\"T_67716_row49_col9\" class=\"data row49 col9\" >2.070000</td>\n      <td id=\"T_67716_row49_col10\" class=\"data row49 col10\" >2.99%</td>\n      <td id=\"T_67716_row49_col11\" class=\"data row49 col11\" >-0.40%</td>\n    </tr>\n    <tr>\n      <th id=\"T_67716_level2_row50\" class=\"row_heading level2 row50\" >50</th>\n      <td id=\"T_67716_row50_col0\" class=\"data row50 col0\" >0.850000</td>\n      <td id=\"T_67716_row50_col1\" class=\"data row50 col1\" >CycleDuration.cycle_1d</td>\n      <td id=\"T_67716_row50_col2\" class=\"data row50 col2\" >60</td>\n      <td id=\"T_67716_row50_col3\" class=\"data row50 col3\" >120</td>\n      <td id=\"T_67716_row50_col4\" class=\"data row50 col4\" >500.000000</td>\n      <td id=\"T_67716_row50_col5\" class=\"data row50 col5\" >128</td>\n      <td id=\"T_67716_row50_col6\" class=\"data row50 col6\" >64.38%</td>\n      <td id=\"T_67716_row50_col7\" class=\"data row50 col7\" >-67.00%</td>\n      <td id=\"T_67716_row50_col8\" class=\"data row50 col8\" >1.180000</td>\n      <td id=\"T_67716_row50_col9\" class=\"data row50 col9\" >1.790000</td>\n      <td id=\"T_67716_row50_col10\" class=\"data row50 col10\" >2.88%</td>\n      <td id=\"T_67716_row50_col11\" class=\"data row50 col11\" >0.22%</td>\n    </tr>\n    <tr>\n      <th id=\"T_67716_level2_row51\" class=\"row_heading level2 row51\" >60</th>\n      <td id=\"T_67716_row51_col0\" class=\"data row51 col0\" >0.850000</td>\n      <td id=\"T_67716_row51_col1\" class=\"data row51 col1\" >CycleDuration.cycle_1d</td>\n      <td id=\"T_67716_row51_col2\" class=\"data row51 col2\" >60</td>\n      <td id=\"T_67716_row51_col3\" class=\"data row51 col3\" >120</td>\n      <td id=\"T_67716_row51_col4\" class=\"data row51 col4\" >500.000000</td>\n      <td id=\"T_67716_row51_col5\" class=\"data row51 col5\" >122</td>\n      <td id=\"T_67716_row51_col6\" class=\"data row51 col6\" >65.59%</td>\n      <td id=\"T_67716_row51_col7\" class=\"data row51 col7\" >-68.00%</td>\n      <td id=\"T_67716_row51_col8\" class=\"data row51 col8\" >1.210000</td>\n      <td id=\"T_67716_row51_col9\" class=\"data row51 col9\" >1.840000</td>\n      <td id=\"T_67716_row51_col10\" class=\"data row51 col10\" >3.13%</td>\n      <td id=\"T_67716_row51_col11\" class=\"data row51 col11\" >1.47%</td>\n    </tr>\n    <tr>\n      <th id=\"T_67716_level1_row52\" class=\"row_heading level1 row52\" rowspan=\"4\">60</th>\n      <th id=\"T_67716_level2_row52\" class=\"row_heading level2 row52\" >30</th>\n      <td id=\"T_67716_row52_col0\" class=\"data row52 col0\" >0.850000</td>\n      <td id=\"T_67716_row52_col1\" class=\"data row52 col1\" >CycleDuration.cycle_1d</td>\n      <td id=\"T_67716_row52_col2\" class=\"data row52 col2\" >60</td>\n      <td id=\"T_67716_row52_col3\" class=\"data row52 col3\" >120</td>\n      <td id=\"T_67716_row52_col4\" class=\"data row52 col4\" >500.000000</td>\n      <td id=\"T_67716_row52_col5\" class=\"data row52 col5\" >70</td>\n      <td id=\"T_67716_row52_col6\" class=\"data row52 col6\" >50.87%</td>\n      <td id=\"T_67716_row52_col7\" class=\"data row52 col7\" >-63.00%</td>\n      <td id=\"T_67716_row52_col8\" class=\"data row52 col8\" >1.010000</td>\n      <td id=\"T_67716_row52_col9\" class=\"data row52 col9\" >1.470000</td>\n      <td id=\"T_67716_row52_col10\" class=\"data row52 col10\" >3.75%</td>\n      <td id=\"T_67716_row52_col11\" class=\"data row52 col11\" >1.53%</td>\n    </tr>\n    <tr>\n      <th id=\"T_67716_level2_row53\" class=\"row_heading level2 row53\" >40</th>\n      <td id=\"T_67716_row53_col0\" class=\"data row53 col0\" >0.850000</td>\n      <td id=\"T_67716_row53_col1\" class=\"data row53 col1\" >CycleDuration.cycle_1d</td>\n      <td id=\"T_67716_row53_col2\" class=\"data row53 col2\" >60</td>\n      <td id=\"T_67716_row53_col3\" class=\"data row53 col3\" >120</td>\n      <td id=\"T_67716_row53_col4\" class=\"data row53 col4\" >500.000000</td>\n      <td id=\"T_67716_row53_col5\" class=\"data row53 col5\" >108</td>\n      <td id=\"T_67716_row53_col6\" class=\"data row53 col6\" >70.45%</td>\n      <td id=\"T_67716_row53_col7\" class=\"data row53 col7\" >-64.00%</td>\n      <td id=\"T_67716_row53_col8\" class=\"data row53 col8\" >1.210000</td>\n      <td id=\"T_67716_row53_col9\" class=\"data row53 col9\" >1.800000</td>\n      <td id=\"T_67716_row53_col10\" class=\"data row53 col10\" >2.90%</td>\n      <td id=\"T_67716_row53_col11\" class=\"data row53 col11\" >-0.23%</td>\n    </tr>\n    <tr>\n      <th id=\"T_67716_level2_row54\" class=\"row_heading level2 row54\" >50</th>\n      <td id=\"T_67716_row54_col0\" class=\"data row54 col0\" >0.850000</td>\n      <td id=\"T_67716_row54_col1\" class=\"data row54 col1\" >CycleDuration.cycle_1d</td>\n      <td id=\"T_67716_row54_col2\" class=\"data row54 col2\" >60</td>\n      <td id=\"T_67716_row54_col3\" class=\"data row54 col3\" >120</td>\n      <td id=\"T_67716_row54_col4\" class=\"data row54 col4\" >500.000000</td>\n      <td id=\"T_67716_row54_col5\" class=\"data row54 col5\" >122</td>\n      <td id=\"T_67716_row54_col6\" class=\"data row54 col6\" >62.27%</td>\n      <td id=\"T_67716_row54_col7\" class=\"data row54 col7\" >-67.00%</td>\n      <td id=\"T_67716_row54_col8\" class=\"data row54 col8\" >1.120000</td>\n      <td id=\"T_67716_row54_col9\" class=\"data row54 col9\" >1.650000</td>\n      <td id=\"T_67716_row54_col10\" class=\"data row54 col10\" >2.82%</td>\n      <td id=\"T_67716_row54_col11\" class=\"data row54 col11\" >0.16%</td>\n    </tr>\n    <tr>\n      <th id=\"T_67716_level2_row55\" class=\"row_heading level2 row55\" >60</th>\n      <td id=\"T_67716_row55_col0\" class=\"data row55 col0\" >0.850000</td>\n      <td id=\"T_67716_row55_col1\" class=\"data row55 col1\" >CycleDuration.cycle_1d</td>\n      <td id=\"T_67716_row55_col2\" class=\"data row55 col2\" >60</td>\n      <td id=\"T_67716_row55_col3\" class=\"data row55 col3\" >120</td>\n      <td id=\"T_67716_row55_col4\" class=\"data row55 col4\" >500.000000</td>\n      <td id=\"T_67716_row55_col5\" class=\"data row55 col5\" >127</td>\n      <td id=\"T_67716_row55_col6\" class=\"data row55 col6\" >54.23%</td>\n      <td id=\"T_67716_row55_col7\" class=\"data row55 col7\" >-68.00%</td>\n      <td id=\"T_67716_row55_col8\" class=\"data row55 col8\" >1.060000</td>\n      <td id=\"T_67716_row55_col9\" class=\"data row55 col9\" >1.540000</td>\n      <td id=\"T_67716_row55_col10\" class=\"data row55 col10\" >2.74%</td>\n      <td id=\"T_67716_row55_col11\" class=\"data row55 col11\" >0.96%</td>\n    </tr>\n    <tr>\n      <th id=\"T_67716_level1_row56\" class=\"row_heading level1 row56\" rowspan=\"4\">70</th>\n      <th id=\"T_67716_level2_row56\" class=\"row_heading level2 row56\" >30</th>\n      <td id=\"T_67716_row56_col0\" class=\"data row56 col0\" >0.850000</td>\n      <td id=\"T_67716_row56_col1\" class=\"data row56 col1\" >CycleDuration.cycle_1d</td>\n      <td id=\"T_67716_row56_col2\" class=\"data row56 col2\" >60</td>\n      <td id=\"T_67716_row56_col3\" class=\"data row56 col3\" >120</td>\n      <td id=\"T_67716_row56_col4\" class=\"data row56 col4\" >500.000000</td>\n      <td id=\"T_67716_row56_col5\" class=\"data row56 col5\" >56</td>\n      <td id=\"T_67716_row56_col6\" class=\"data row56 col6\" >55.28%</td>\n      <td id=\"T_67716_row56_col7\" class=\"data row56 col7\" >-59.00%</td>\n      <td id=\"T_67716_row56_col8\" class=\"data row56 col8\" >1.070000</td>\n      <td id=\"T_67716_row56_col9\" class=\"data row56 col9\" >1.540000</td>\n      <td id=\"T_67716_row56_col10\" class=\"data row56 col10\" >6.02%</td>\n      <td id=\"T_67716_row56_col11\" class=\"data row56 col11\" >3.10%</td>\n    </tr>\n    <tr>\n      <th id=\"T_67716_level2_row57\" class=\"row_heading level2 row57\" >40</th>\n      <td id=\"T_67716_row57_col0\" class=\"data row57 col0\" >0.850000</td>\n      <td id=\"T_67716_row57_col1\" class=\"data row57 col1\" >CycleDuration.cycle_1d</td>\n      <td id=\"T_67716_row57_col2\" class=\"data row57 col2\" >60</td>\n      <td id=\"T_67716_row57_col3\" class=\"data row57 col3\" >120</td>\n      <td id=\"T_67716_row57_col4\" class=\"data row57 col4\" >500.000000</td>\n      <td id=\"T_67716_row57_col5\" class=\"data row57 col5\" >86</td>\n      <td id=\"T_67716_row57_col6\" class=\"data row57 col6\" >62.51%</td>\n      <td id=\"T_67716_row57_col7\" class=\"data row57 col7\" >-61.00%</td>\n      <td id=\"T_67716_row57_col8\" class=\"data row57 col8\" >1.170000</td>\n      <td id=\"T_67716_row57_col9\" class=\"data row57 col9\" >1.740000</td>\n      <td id=\"T_67716_row57_col10\" class=\"data row57 col10\" >2.97%</td>\n      <td id=\"T_67716_row57_col11\" class=\"data row57 col11\" >-0.85%</td>\n    </tr>\n    <tr>\n      <th id=\"T_67716_level2_row58\" class=\"row_heading level2 row58\" >50</th>\n      <td id=\"T_67716_row58_col0\" class=\"data row58 col0\" >0.850000</td>\n      <td id=\"T_67716_row58_col1\" class=\"data row58 col1\" >CycleDuration.cycle_1d</td>\n      <td id=\"T_67716_row58_col2\" class=\"data row58 col2\" >60</td>\n      <td id=\"T_67716_row58_col3\" class=\"data row58 col3\" >120</td>\n      <td id=\"T_67716_row58_col4\" class=\"data row58 col4\" >500.000000</td>\n      <td id=\"T_67716_row58_col5\" class=\"data row58 col5\" >95</td>\n      <td id=\"T_67716_row58_col6\" class=\"data row58 col6\" >75.92%</td>\n      <td id=\"T_67716_row58_col7\" class=\"data row58 col7\" >-51.00%</td>\n      <td id=\"T_67716_row58_col8\" class=\"data row58 col8\" >1.290000</td>\n      <td id=\"T_67716_row58_col9\" class=\"data row58 col9\" >1.920000</td>\n      <td id=\"T_67716_row58_col10\" class=\"data row58 col10\" >3.56%</td>\n      <td id=\"T_67716_row58_col11\" class=\"data row58 col11\" >1.44%</td>\n    </tr>\n    <tr>\n      <th id=\"T_67716_level2_row59\" class=\"row_heading level2 row59\" >60</th>\n      <td id=\"T_67716_row59_col0\" class=\"data row59 col0\" >0.850000</td>\n      <td id=\"T_67716_row59_col1\" class=\"data row59 col1\" >CycleDuration.cycle_1d</td>\n      <td id=\"T_67716_row59_col2\" class=\"data row59 col2\" >60</td>\n      <td id=\"T_67716_row59_col3\" class=\"data row59 col3\" >120</td>\n      <td id=\"T_67716_row59_col4\" class=\"data row59 col4\" >500.000000</td>\n      <td id=\"T_67716_row59_col5\" class=\"data row59 col5\" >104</td>\n      <td id=\"T_67716_row59_col6\" class=\"data row59 col6\" >44.52%</td>\n      <td id=\"T_67716_row59_col7\" class=\"data row59 col7\" >-57.00%</td>\n      <td id=\"T_67716_row59_col8\" class=\"data row59 col8\" >0.950000</td>\n      <td id=\"T_67716_row59_col9\" class=\"data row59 col9\" >1.390000</td>\n      <td id=\"T_67716_row59_col10\" class=\"data row59 col10\" >2.55%</td>\n      <td id=\"T_67716_row59_col11\" class=\"data row59 col11\" >1.56%</td>\n    </tr>\n    <tr>\n      <th id=\"T_67716_level1_row60\" class=\"row_heading level1 row60\" rowspan=\"4\">73</th>\n      <th id=\"T_67716_level2_row60\" class=\"row_heading level2 row60\" >30</th>\n      <td id=\"T_67716_row60_col0\" class=\"data row60 col0\" >0.850000</td>\n      <td id=\"T_67716_row60_col1\" class=\"data row60 col1\" >CycleDuration.cycle_1d</td>\n      <td id=\"T_67716_row60_col2\" class=\"data row60 col2\" >60</td>\n      <td id=\"T_67716_row60_col3\" class=\"data row60 col3\" >120</td>\n      <td id=\"T_67716_row60_col4\" class=\"data row60 col4\" >500.000000</td>\n      <td id=\"T_67716_row60_col5\" class=\"data row60 col5\" >48</td>\n      <td id=\"T_67716_row60_col6\" class=\"data row60 col6\" >39.99%</td>\n      <td id=\"T_67716_row60_col7\" class=\"data row60 col7\" >-59.00%</td>\n      <td id=\"T_67716_row60_col8\" class=\"data row60 col8\" >0.900000</td>\n      <td id=\"T_67716_row60_col9\" class=\"data row60 col9\" >1.290000</td>\n      <td id=\"T_67716_row60_col10\" class=\"data row60 col10\" >5.53%</td>\n      <td id=\"T_67716_row60_col11\" class=\"data row60 col11\" >3.39%</td>\n    </tr>\n    <tr>\n      <th id=\"T_67716_level2_row61\" class=\"row_heading level2 row61\" >40</th>\n      <td id=\"T_67716_row61_col0\" class=\"data row61 col0\" >0.850000</td>\n      <td id=\"T_67716_row61_col1\" class=\"data row61 col1\" >CycleDuration.cycle_1d</td>\n      <td id=\"T_67716_row61_col2\" class=\"data row61 col2\" >60</td>\n      <td id=\"T_67716_row61_col3\" class=\"data row61 col3\" >120</td>\n      <td id=\"T_67716_row61_col4\" class=\"data row61 col4\" >500.000000</td>\n      <td id=\"T_67716_row61_col5\" class=\"data row61 col5\" >70</td>\n      <td id=\"T_67716_row61_col6\" class=\"data row61 col6\" >98.88%</td>\n      <td id=\"T_67716_row61_col7\" class=\"data row61 col7\" >-36.00%</td>\n      <td id=\"T_67716_row61_col8\" class=\"data row61 col8\" >1.770000</td>\n      <td id=\"T_67716_row61_col9\" class=\"data row61 col9\" >2.790000</td>\n      <td id=\"T_67716_row61_col10\" class=\"data row61 col10\" >4.71%</td>\n      <td id=\"T_67716_row61_col11\" class=\"data row61 col11\" >3.49%</td>\n    </tr>\n    <tr>\n      <th id=\"T_67716_level2_row62\" class=\"row_heading level2 row62\" >50</th>\n      <td id=\"T_67716_row62_col0\" class=\"data row62 col0\" >0.850000</td>\n      <td id=\"T_67716_row62_col1\" class=\"data row62 col1\" >CycleDuration.cycle_1d</td>\n      <td id=\"T_67716_row62_col2\" class=\"data row62 col2\" >60</td>\n      <td id=\"T_67716_row62_col3\" class=\"data row62 col3\" >120</td>\n      <td id=\"T_67716_row62_col4\" class=\"data row62 col4\" >500.000000</td>\n      <td id=\"T_67716_row62_col5\" class=\"data row62 col5\" >77</td>\n      <td id=\"T_67716_row62_col6\" class=\"data row62 col6\" >88.72%</td>\n      <td id=\"T_67716_row62_col7\" class=\"data row62 col7\" >-51.00%</td>\n      <td id=\"T_67716_row62_col8\" class=\"data row62 col8\" >1.530000</td>\n      <td id=\"T_67716_row62_col9\" class=\"data row62 col9\" >2.390000</td>\n      <td id=\"T_67716_row62_col10\" class=\"data row62 col10\" >4.76%</td>\n      <td id=\"T_67716_row62_col11\" class=\"data row62 col11\" >2.71%</td>\n    </tr>\n    <tr>\n      <th id=\"T_67716_level2_row63\" class=\"row_heading level2 row63\" >60</th>\n      <td id=\"T_67716_row63_col0\" class=\"data row63 col0\" >0.850000</td>\n      <td id=\"T_67716_row63_col1\" class=\"data row63 col1\" >CycleDuration.cycle_1d</td>\n      <td id=\"T_67716_row63_col2\" class=\"data row63 col2\" >60</td>\n      <td id=\"T_67716_row63_col3\" class=\"data row63 col3\" >120</td>\n      <td id=\"T_67716_row63_col4\" class=\"data row63 col4\" >500.000000</td>\n      <td id=\"T_67716_row63_col5\" class=\"data row63 col5\" >88</td>\n      <td id=\"T_67716_row63_col6\" class=\"data row63 col6\" >41.78%</td>\n      <td id=\"T_67716_row63_col7\" class=\"data row63 col7\" >-44.00%</td>\n      <td id=\"T_67716_row63_col8\" class=\"data row63 col8\" >1.000000</td>\n      <td id=\"T_67716_row63_col9\" class=\"data row63 col9\" >1.520000</td>\n      <td id=\"T_67716_row63_col10\" class=\"data row63 col10\" >2.92%</td>\n      <td id=\"T_67716_row63_col11\" class=\"data row63 col11\" >1.13%</td>\n    </tr>\n    <tr>\n      <th id=\"T_67716_level1_row64\" class=\"row_heading level1 row64\" rowspan=\"4\">77</th>\n      <th id=\"T_67716_level2_row64\" class=\"row_heading level2 row64\" >30</th>\n      <td id=\"T_67716_row64_col0\" class=\"data row64 col0\" >0.850000</td>\n      <td id=\"T_67716_row64_col1\" class=\"data row64 col1\" >CycleDuration.cycle_1d</td>\n      <td id=\"T_67716_row64_col2\" class=\"data row64 col2\" >60</td>\n      <td id=\"T_67716_row64_col3\" class=\"data row64 col3\" >120</td>\n      <td id=\"T_67716_row64_col4\" class=\"data row64 col4\" >500.000000</td>\n      <td id=\"T_67716_row64_col5\" class=\"data row64 col5\" >39</td>\n      <td id=\"T_67716_row64_col6\" class=\"data row64 col6\" >49.28%</td>\n      <td id=\"T_67716_row64_col7\" class=\"data row64 col7\" >-55.00%</td>\n      <td id=\"T_67716_row64_col8\" class=\"data row64 col8\" >1.040000</td>\n      <td id=\"T_67716_row64_col9\" class=\"data row64 col9\" >1.530000</td>\n      <td id=\"T_67716_row64_col10\" class=\"data row64 col10\" >5.75%</td>\n      <td id=\"T_67716_row64_col11\" class=\"data row64 col11\" >4.61%</td>\n    </tr>\n    <tr>\n      <th id=\"T_67716_level2_row65\" class=\"row_heading level2 row65\" >40</th>\n      <td id=\"T_67716_row65_col0\" class=\"data row65 col0\" >0.850000</td>\n      <td id=\"T_67716_row65_col1\" class=\"data row65 col1\" >CycleDuration.cycle_1d</td>\n      <td id=\"T_67716_row65_col2\" class=\"data row65 col2\" >60</td>\n      <td id=\"T_67716_row65_col3\" class=\"data row65 col3\" >120</td>\n      <td id=\"T_67716_row65_col4\" class=\"data row65 col4\" >500.000000</td>\n      <td id=\"T_67716_row65_col5\" class=\"data row65 col5\" >53</td>\n      <td id=\"T_67716_row65_col6\" class=\"data row65 col6\" >60.69%</td>\n      <td id=\"T_67716_row65_col7\" class=\"data row65 col7\" >-42.00%</td>\n      <td id=\"T_67716_row65_col8\" class=\"data row65 col8\" >1.290000</td>\n      <td id=\"T_67716_row65_col9\" class=\"data row65 col9\" >2.040000</td>\n      <td id=\"T_67716_row65_col10\" class=\"data row65 col10\" >5.50%</td>\n      <td id=\"T_67716_row65_col11\" class=\"data row65 col11\" >0.77%</td>\n    </tr>\n    <tr>\n      <th id=\"T_67716_level2_row66\" class=\"row_heading level2 row66\" >50</th>\n      <td id=\"T_67716_row66_col0\" class=\"data row66 col0\" >0.850000</td>\n      <td id=\"T_67716_row66_col1\" class=\"data row66 col1\" >CycleDuration.cycle_1d</td>\n      <td id=\"T_67716_row66_col2\" class=\"data row66 col2\" >60</td>\n      <td id=\"T_67716_row66_col3\" class=\"data row66 col3\" >120</td>\n      <td id=\"T_67716_row66_col4\" class=\"data row66 col4\" >500.000000</td>\n      <td id=\"T_67716_row66_col5\" class=\"data row66 col5\" >56</td>\n      <td id=\"T_67716_row66_col6\" class=\"data row66 col6\" >67.69%</td>\n      <td id=\"T_67716_row66_col7\" class=\"data row66 col7\" >-44.00%</td>\n      <td id=\"T_67716_row66_col8\" class=\"data row66 col8\" >1.340000</td>\n      <td id=\"T_67716_row66_col9\" class=\"data row66 col9\" >2.120000</td>\n      <td id=\"T_67716_row66_col10\" class=\"data row66 col10\" >5.62%</td>\n      <td id=\"T_67716_row66_col11\" class=\"data row66 col11\" >3.31%</td>\n    </tr>\n    <tr>\n      <th id=\"T_67716_level2_row67\" class=\"row_heading level2 row67\" >60</th>\n      <td id=\"T_67716_row67_col0\" class=\"data row67 col0\" >0.850000</td>\n      <td id=\"T_67716_row67_col1\" class=\"data row67 col1\" >CycleDuration.cycle_1d</td>\n      <td id=\"T_67716_row67_col2\" class=\"data row67 col2\" >60</td>\n      <td id=\"T_67716_row67_col3\" class=\"data row67 col3\" >120</td>\n      <td id=\"T_67716_row67_col4\" class=\"data row67 col4\" >500.000000</td>\n      <td id=\"T_67716_row67_col5\" class=\"data row67 col5\" >65</td>\n      <td id=\"T_67716_row67_col6\" class=\"data row67 col6\" >22.71%</td>\n      <td id=\"T_67716_row67_col7\" class=\"data row67 col7\" >-45.00%</td>\n      <td id=\"T_67716_row67_col8\" class=\"data row67 col8\" >0.700000</td>\n      <td id=\"T_67716_row67_col9\" class=\"data row67 col9\" >1.050000</td>\n      <td id=\"T_67716_row67_col10\" class=\"data row67 col10\" >2.57%</td>\n      <td id=\"T_67716_row67_col11\" class=\"data row67 col11\" >1.08%</td>\n    </tr>\n    <tr>\n      <th id=\"T_67716_level1_row68\" class=\"row_heading level1 row68\" rowspan=\"4\">80</th>\n      <th id=\"T_67716_level2_row68\" class=\"row_heading level2 row68\" >30</th>\n      <td id=\"T_67716_row68_col0\" class=\"data row68 col0\" >0.850000</td>\n      <td id=\"T_67716_row68_col1\" class=\"data row68 col1\" >CycleDuration.cycle_1d</td>\n      <td id=\"T_67716_row68_col2\" class=\"data row68 col2\" >60</td>\n      <td id=\"T_67716_row68_col3\" class=\"data row68 col3\" >120</td>\n      <td id=\"T_67716_row68_col4\" class=\"data row68 col4\" >500.000000</td>\n      <td id=\"T_67716_row68_col5\" class=\"data row68 col5\" >43</td>\n      <td id=\"T_67716_row68_col6\" class=\"data row68 col6\" >25.01%</td>\n      <td id=\"T_67716_row68_col7\" class=\"data row68 col7\" >-66.00%</td>\n      <td id=\"T_67716_row68_col8\" class=\"data row68 col8\" >0.700000</td>\n      <td id=\"T_67716_row68_col9\" class=\"data row68 col9\" >1.000000</td>\n      <td id=\"T_67716_row68_col10\" class=\"data row68 col10\" >3.00%</td>\n      <td id=\"T_67716_row68_col11\" class=\"data row68 col11\" >2.53%</td>\n    </tr>\n    <tr>\n      <th id=\"T_67716_level2_row69\" class=\"row_heading level2 row69\" >40</th>\n      <td id=\"T_67716_row69_col0\" class=\"data row69 col0\" >0.850000</td>\n      <td id=\"T_67716_row69_col1\" class=\"data row69 col1\" >CycleDuration.cycle_1d</td>\n      <td id=\"T_67716_row69_col2\" class=\"data row69 col2\" >60</td>\n      <td id=\"T_67716_row69_col3\" class=\"data row69 col3\" >120</td>\n      <td id=\"T_67716_row69_col4\" class=\"data row69 col4\" >500.000000</td>\n      <td id=\"T_67716_row69_col5\" class=\"data row69 col5\" >51</td>\n      <td id=\"T_67716_row69_col6\" class=\"data row69 col6\" >63.12%</td>\n      <td id=\"T_67716_row69_col7\" class=\"data row69 col7\" >-29.00%</td>\n      <td id=\"T_67716_row69_col8\" class=\"data row69 col8\" >1.350000</td>\n      <td id=\"T_67716_row69_col9\" class=\"data row69 col9\" >2.180000</td>\n      <td id=\"T_67716_row69_col10\" class=\"data row69 col10\" >5.34%</td>\n      <td id=\"T_67716_row69_col11\" class=\"data row69 col11\" >2.29%</td>\n    </tr>\n    <tr>\n      <th id=\"T_67716_level2_row70\" class=\"row_heading level2 row70\" >50</th>\n      <td id=\"T_67716_row70_col0\" class=\"data row70 col0\" >0.850000</td>\n      <td id=\"T_67716_row70_col1\" class=\"data row70 col1\" >CycleDuration.cycle_1d</td>\n      <td id=\"T_67716_row70_col2\" class=\"data row70 col2\" >60</td>\n      <td id=\"T_67716_row70_col3\" class=\"data row70 col3\" >120</td>\n      <td id=\"T_67716_row70_col4\" class=\"data row70 col4\" >500.000000</td>\n      <td id=\"T_67716_row70_col5\" class=\"data row70 col5\" >55</td>\n      <td id=\"T_67716_row70_col6\" class=\"data row70 col6\" >59.82%</td>\n      <td id=\"T_67716_row70_col7\" class=\"data row70 col7\" >-44.00%</td>\n      <td id=\"T_67716_row70_col8\" class=\"data row70 col8\" >1.260000</td>\n      <td id=\"T_67716_row70_col9\" class=\"data row70 col9\" >1.990000</td>\n      <td id=\"T_67716_row70_col10\" class=\"data row70 col10\" >4.86%</td>\n      <td id=\"T_67716_row70_col11\" class=\"data row70 col11\" >3.35%</td>\n    </tr>\n    <tr>\n      <th id=\"T_67716_level2_row71\" class=\"row_heading level2 row71\" >60</th>\n      <td id=\"T_67716_row71_col0\" class=\"data row71 col0\" >0.850000</td>\n      <td id=\"T_67716_row71_col1\" class=\"data row71 col1\" >CycleDuration.cycle_1d</td>\n      <td id=\"T_67716_row71_col2\" class=\"data row71 col2\" >60</td>\n      <td id=\"T_67716_row71_col3\" class=\"data row71 col3\" >120</td>\n      <td id=\"T_67716_row71_col4\" class=\"data row71 col4\" >500.000000</td>\n      <td id=\"T_67716_row71_col5\" class=\"data row71 col5\" >63</td>\n      <td id=\"T_67716_row71_col6\" class=\"data row71 col6\" >12.40%</td>\n      <td id=\"T_67716_row71_col7\" class=\"data row71 col7\" >-50.00%</td>\n      <td id=\"T_67716_row71_col8\" class=\"data row71 col8\" >0.490000</td>\n      <td id=\"T_67716_row71_col9\" class=\"data row71 col9\" >0.730000</td>\n      <td id=\"T_67716_row71_col10\" class=\"data row71 col10\" >1.68%</td>\n      <td id=\"T_67716_row71_col11\" class=\"data row71 col11\" >0.01%</td>\n    </tr>\n    <tr>\n      <th id=\"T_67716_level0_row72\" class=\"row_heading level0 row72\" rowspan=\"24\">9</th>\n      <th id=\"T_67716_level1_row72\" class=\"row_heading level1 row72\" rowspan=\"4\">55</th>\n      <th id=\"T_67716_level2_row72\" class=\"row_heading level2 row72\" >30</th>\n      <td id=\"T_67716_row72_col0\" class=\"data row72 col0\" >0.850000</td>\n      <td id=\"T_67716_row72_col1\" class=\"data row72 col1\" >CycleDuration.cycle_1d</td>\n      <td id=\"T_67716_row72_col2\" class=\"data row72 col2\" >60</td>\n      <td id=\"T_67716_row72_col3\" class=\"data row72 col3\" >120</td>\n      <td id=\"T_67716_row72_col4\" class=\"data row72 col4\" >500.000000</td>\n      <td id=\"T_67716_row72_col5\" class=\"data row72 col5\" >68</td>\n      <td id=\"T_67716_row72_col6\" class=\"data row72 col6\" >63.87%</td>\n      <td id=\"T_67716_row72_col7\" class=\"data row72 col7\" >-69.00%</td>\n      <td id=\"T_67716_row72_col8\" class=\"data row72 col8\" >1.140000</td>\n      <td id=\"T_67716_row72_col9\" class=\"data row72 col9\" >1.700000</td>\n      <td id=\"T_67716_row72_col10\" class=\"data row72 col10\" >4.73%</td>\n      <td id=\"T_67716_row72_col11\" class=\"data row72 col11\" >-0.90%</td>\n    </tr>\n    <tr>\n      <th id=\"T_67716_level2_row73\" class=\"row_heading level2 row73\" >40</th>\n      <td id=\"T_67716_row73_col0\" class=\"data row73 col0\" >0.850000</td>\n      <td id=\"T_67716_row73_col1\" class=\"data row73 col1\" >CycleDuration.cycle_1d</td>\n      <td id=\"T_67716_row73_col2\" class=\"data row73 col2\" >60</td>\n      <td id=\"T_67716_row73_col3\" class=\"data row73 col3\" >120</td>\n      <td id=\"T_67716_row73_col4\" class=\"data row73 col4\" >500.000000</td>\n      <td id=\"T_67716_row73_col5\" class=\"data row73 col5\" >106</td>\n      <td id=\"T_67716_row73_col6\" class=\"data row73 col6\" >75.43%</td>\n      <td id=\"T_67716_row73_col7\" class=\"data row73 col7\" >-62.00%</td>\n      <td id=\"T_67716_row73_col8\" class=\"data row73 col8\" >1.290000</td>\n      <td id=\"T_67716_row73_col9\" class=\"data row73 col9\" >1.960000</td>\n      <td id=\"T_67716_row73_col10\" class=\"data row73 col10\" >2.85%</td>\n      <td id=\"T_67716_row73_col11\" class=\"data row73 col11\" >-0.57%</td>\n    </tr>\n    <tr>\n      <th id=\"T_67716_level2_row74\" class=\"row_heading level2 row74\" >50</th>\n      <td id=\"T_67716_row74_col0\" class=\"data row74 col0\" >0.850000</td>\n      <td id=\"T_67716_row74_col1\" class=\"data row74 col1\" >CycleDuration.cycle_1d</td>\n      <td id=\"T_67716_row74_col2\" class=\"data row74 col2\" >60</td>\n      <td id=\"T_67716_row74_col3\" class=\"data row74 col3\" >120</td>\n      <td id=\"T_67716_row74_col4\" class=\"data row74 col4\" >500.000000</td>\n      <td id=\"T_67716_row74_col5\" class=\"data row74 col5\" >119</td>\n      <td id=\"T_67716_row74_col6\" class=\"data row74 col6\" >79.19%</td>\n      <td id=\"T_67716_row74_col7\" class=\"data row74 col7\" >-66.00%</td>\n      <td id=\"T_67716_row74_col8\" class=\"data row74 col8\" >1.310000</td>\n      <td id=\"T_67716_row74_col9\" class=\"data row74 col9\" >1.990000</td>\n      <td id=\"T_67716_row74_col10\" class=\"data row74 col10\" >3.39%</td>\n      <td id=\"T_67716_row74_col11\" class=\"data row74 col11\" >0.30%</td>\n    </tr>\n    <tr>\n      <th id=\"T_67716_level2_row75\" class=\"row_heading level2 row75\" >60</th>\n      <td id=\"T_67716_row75_col0\" class=\"data row75 col0\" >0.850000</td>\n      <td id=\"T_67716_row75_col1\" class=\"data row75 col1\" >CycleDuration.cycle_1d</td>\n      <td id=\"T_67716_row75_col2\" class=\"data row75 col2\" >60</td>\n      <td id=\"T_67716_row75_col3\" class=\"data row75 col3\" >120</td>\n      <td id=\"T_67716_row75_col4\" class=\"data row75 col4\" >500.000000</td>\n      <td id=\"T_67716_row75_col5\" class=\"data row75 col5\" >119</td>\n      <td id=\"T_67716_row75_col6\" class=\"data row75 col6\" >65.56%</td>\n      <td id=\"T_67716_row75_col7\" class=\"data row75 col7\" >-73.00%</td>\n      <td id=\"T_67716_row75_col8\" class=\"data row75 col8\" >1.190000</td>\n      <td id=\"T_67716_row75_col9\" class=\"data row75 col9\" >1.810000</td>\n      <td id=\"T_67716_row75_col10\" class=\"data row75 col10\" >3.20%</td>\n      <td id=\"T_67716_row75_col11\" class=\"data row75 col11\" >1.48%</td>\n    </tr>\n    <tr>\n      <th id=\"T_67716_level1_row76\" class=\"row_heading level1 row76\" rowspan=\"4\">60</th>\n      <th id=\"T_67716_level2_row76\" class=\"row_heading level2 row76\" >30</th>\n      <td id=\"T_67716_row76_col0\" class=\"data row76 col0\" >0.850000</td>\n      <td id=\"T_67716_row76_col1\" class=\"data row76 col1\" >CycleDuration.cycle_1d</td>\n      <td id=\"T_67716_row76_col2\" class=\"data row76 col2\" >60</td>\n      <td id=\"T_67716_row76_col3\" class=\"data row76 col3\" >120</td>\n      <td id=\"T_67716_row76_col4\" class=\"data row76 col4\" >500.000000</td>\n      <td id=\"T_67716_row76_col5\" class=\"data row76 col5\" >63</td>\n      <td id=\"T_67716_row76_col6\" class=\"data row76 col6\" >41.26%</td>\n      <td id=\"T_67716_row76_col7\" class=\"data row76 col7\" >-68.00%</td>\n      <td id=\"T_67716_row76_col8\" class=\"data row76 col8\" >0.880000</td>\n      <td id=\"T_67716_row76_col9\" class=\"data row76 col9\" >1.260000</td>\n      <td id=\"T_67716_row76_col10\" class=\"data row76 col10\" >3.51%</td>\n      <td id=\"T_67716_row76_col11\" class=\"data row76 col11\" >2.13%</td>\n    </tr>\n    <tr>\n      <th id=\"T_67716_level2_row77\" class=\"row_heading level2 row77\" >40</th>\n      <td id=\"T_67716_row77_col0\" class=\"data row77 col0\" >0.850000</td>\n      <td id=\"T_67716_row77_col1\" class=\"data row77 col1\" >CycleDuration.cycle_1d</td>\n      <td id=\"T_67716_row77_col2\" class=\"data row77 col2\" >60</td>\n      <td id=\"T_67716_row77_col3\" class=\"data row77 col3\" >120</td>\n      <td id=\"T_67716_row77_col4\" class=\"data row77 col4\" >500.000000</td>\n      <td id=\"T_67716_row77_col5\" class=\"data row77 col5\" >97</td>\n      <td id=\"T_67716_row77_col6\" class=\"data row77 col6\" >73.21%</td>\n      <td id=\"T_67716_row77_col7\" class=\"data row77 col7\" >-63.00%</td>\n      <td id=\"T_67716_row77_col8\" class=\"data row77 col8\" >1.230000</td>\n      <td id=\"T_67716_row77_col9\" class=\"data row77 col9\" >1.800000</td>\n      <td id=\"T_67716_row77_col10\" class=\"data row77 col10\" >3.30%</td>\n      <td id=\"T_67716_row77_col11\" class=\"data row77 col11\" >0.11%</td>\n    </tr>\n    <tr>\n      <th id=\"T_67716_level2_row78\" class=\"row_heading level2 row78\" >50</th>\n      <td id=\"T_67716_row78_col0\" class=\"data row78 col0\" >0.850000</td>\n      <td id=\"T_67716_row78_col1\" class=\"data row78 col1\" >CycleDuration.cycle_1d</td>\n      <td id=\"T_67716_row78_col2\" class=\"data row78 col2\" >60</td>\n      <td id=\"T_67716_row78_col3\" class=\"data row78 col3\" >120</td>\n      <td id=\"T_67716_row78_col4\" class=\"data row78 col4\" >500.000000</td>\n      <td id=\"T_67716_row78_col5\" class=\"data row78 col5\" >110</td>\n      <td id=\"T_67716_row78_col6\" class=\"data row78 col6\" >89.47%</td>\n      <td id=\"T_67716_row78_col7\" class=\"data row78 col7\" >-67.00%</td>\n      <td id=\"T_67716_row78_col8\" class=\"data row78 col8\" >1.390000</td>\n      <td id=\"T_67716_row78_col9\" class=\"data row78 col9\" >2.080000</td>\n      <td id=\"T_67716_row78_col10\" class=\"data row78 col10\" >4.09%</td>\n      <td id=\"T_67716_row78_col11\" class=\"data row78 col11\" >0.52%</td>\n    </tr>\n    <tr>\n      <th id=\"T_67716_level2_row79\" class=\"row_heading level2 row79\" >60</th>\n      <td id=\"T_67716_row79_col0\" class=\"data row79 col0\" >0.850000</td>\n      <td id=\"T_67716_row79_col1\" class=\"data row79 col1\" >CycleDuration.cycle_1d</td>\n      <td id=\"T_67716_row79_col2\" class=\"data row79 col2\" >60</td>\n      <td id=\"T_67716_row79_col3\" class=\"data row79 col3\" >120</td>\n      <td id=\"T_67716_row79_col4\" class=\"data row79 col4\" >500.000000</td>\n      <td id=\"T_67716_row79_col5\" class=\"data row79 col5\" >122</td>\n      <td id=\"T_67716_row79_col6\" class=\"data row79 col6\" >46.01%</td>\n      <td id=\"T_67716_row79_col7\" class=\"data row79 col7\" >-69.00%</td>\n      <td id=\"T_67716_row79_col8\" class=\"data row79 col8\" >0.960000</td>\n      <td id=\"T_67716_row79_col9\" class=\"data row79 col9\" >1.380000</td>\n      <td id=\"T_67716_row79_col10\" class=\"data row79 col10\" >2.17%</td>\n      <td id=\"T_67716_row79_col11\" class=\"data row79 col11\" >0.92%</td>\n    </tr>\n    <tr>\n      <th id=\"T_67716_level1_row80\" class=\"row_heading level1 row80\" rowspan=\"4\">70</th>\n      <th id=\"T_67716_level2_row80\" class=\"row_heading level2 row80\" >30</th>\n      <td id=\"T_67716_row80_col0\" class=\"data row80 col0\" >0.850000</td>\n      <td id=\"T_67716_row80_col1\" class=\"data row80 col1\" >CycleDuration.cycle_1d</td>\n      <td id=\"T_67716_row80_col2\" class=\"data row80 col2\" >60</td>\n      <td id=\"T_67716_row80_col3\" class=\"data row80 col3\" >120</td>\n      <td id=\"T_67716_row80_col4\" class=\"data row80 col4\" >500.000000</td>\n      <td id=\"T_67716_row80_col5\" class=\"data row80 col5\" >47</td>\n      <td id=\"T_67716_row80_col6\" class=\"data row80 col6\" >60.27%</td>\n      <td id=\"T_67716_row80_col7\" class=\"data row80 col7\" >-58.00%</td>\n      <td id=\"T_67716_row80_col8\" class=\"data row80 col8\" >1.110000</td>\n      <td id=\"T_67716_row80_col9\" class=\"data row80 col9\" >1.610000</td>\n      <td id=\"T_67716_row80_col10\" class=\"data row80 col10\" >7.34%</td>\n      <td id=\"T_67716_row80_col11\" class=\"data row80 col11\" >4.75%</td>\n    </tr>\n    <tr>\n      <th id=\"T_67716_level2_row81\" class=\"row_heading level2 row81\" >40</th>\n      <td id=\"T_67716_row81_col0\" class=\"data row81 col0\" >0.850000</td>\n      <td id=\"T_67716_row81_col1\" class=\"data row81 col1\" >CycleDuration.cycle_1d</td>\n      <td id=\"T_67716_row81_col2\" class=\"data row81 col2\" >60</td>\n      <td id=\"T_67716_row81_col3\" class=\"data row81 col3\" >120</td>\n      <td id=\"T_67716_row81_col4\" class=\"data row81 col4\" >500.000000</td>\n      <td id=\"T_67716_row81_col5\" class=\"data row81 col5\" >65</td>\n      <td id=\"T_67716_row81_col6\" class=\"data row81 col6\" >94.93%</td>\n      <td id=\"T_67716_row81_col7\" class=\"data row81 col7\" >-53.00%</td>\n      <td id=\"T_67716_row81_col8\" class=\"data row81 col8\" >1.540000</td>\n      <td id=\"T_67716_row81_col9\" class=\"data row81 col9\" >2.310000</td>\n      <td id=\"T_67716_row81_col10\" class=\"data row81 col10\" >5.66%</td>\n      <td id=\"T_67716_row81_col11\" class=\"data row81 col11\" >4.86%</td>\n    </tr>\n    <tr>\n      <th id=\"T_67716_level2_row82\" class=\"row_heading level2 row82\" >50</th>\n      <td id=\"T_67716_row82_col0\" class=\"data row82 col0\" >0.850000</td>\n      <td id=\"T_67716_row82_col1\" class=\"data row82 col1\" >CycleDuration.cycle_1d</td>\n      <td id=\"T_67716_row82_col2\" class=\"data row82 col2\" >60</td>\n      <td id=\"T_67716_row82_col3\" class=\"data row82 col3\" >120</td>\n      <td id=\"T_67716_row82_col4\" class=\"data row82 col4\" >500.000000</td>\n      <td id=\"T_67716_row82_col5\" class=\"data row82 col5\" >76</td>\n      <td id=\"T_67716_row82_col6\" class=\"data row82 col6\" >114.65%</td>\n      <td id=\"T_67716_row82_col7\" class=\"data row82 col7\" >-35.00%</td>\n      <td id=\"T_67716_row82_col8\" class=\"data row82 col8\" >1.850000</td>\n      <td id=\"T_67716_row82_col9\" class=\"data row82 col9\" >3.020000</td>\n      <td id=\"T_67716_row82_col10\" class=\"data row82 col10\" >5.67%</td>\n      <td id=\"T_67716_row82_col11\" class=\"data row82 col11\" >2.55%</td>\n    </tr>\n    <tr>\n      <th id=\"T_67716_level2_row83\" class=\"row_heading level2 row83\" >60</th>\n      <td id=\"T_67716_row83_col0\" class=\"data row83 col0\" >0.850000</td>\n      <td id=\"T_67716_row83_col1\" class=\"data row83 col1\" >CycleDuration.cycle_1d</td>\n      <td id=\"T_67716_row83_col2\" class=\"data row83 col2\" >60</td>\n      <td id=\"T_67716_row83_col3\" class=\"data row83 col3\" >120</td>\n      <td id=\"T_67716_row83_col4\" class=\"data row83 col4\" >500.000000</td>\n      <td id=\"T_67716_row83_col5\" class=\"data row83 col5\" >87</td>\n      <td id=\"T_67716_row83_col6\" class=\"data row83 col6\" >58.68%</td>\n      <td id=\"T_67716_row83_col7\" class=\"data row83 col7\" >-57.00%</td>\n      <td id=\"T_67716_row83_col8\" class=\"data row83 col8\" >1.140000</td>\n      <td id=\"T_67716_row83_col9\" class=\"data row83 col9\" >1.660000</td>\n      <td id=\"T_67716_row83_col10\" class=\"data row83 col10\" >3.55%</td>\n      <td id=\"T_67716_row83_col11\" class=\"data row83 col11\" >2.06%</td>\n    </tr>\n    <tr>\n      <th id=\"T_67716_level1_row84\" class=\"row_heading level1 row84\" rowspan=\"4\">73</th>\n      <th id=\"T_67716_level2_row84\" class=\"row_heading level2 row84\" >30</th>\n      <td id=\"T_67716_row84_col0\" class=\"data row84 col0\" >0.850000</td>\n      <td id=\"T_67716_row84_col1\" class=\"data row84 col1\" >CycleDuration.cycle_1d</td>\n      <td id=\"T_67716_row84_col2\" class=\"data row84 col2\" >60</td>\n      <td id=\"T_67716_row84_col3\" class=\"data row84 col3\" >120</td>\n      <td id=\"T_67716_row84_col4\" class=\"data row84 col4\" >500.000000</td>\n      <td id=\"T_67716_row84_col5\" class=\"data row84 col5\" >38</td>\n      <td id=\"T_67716_row84_col6\" class=\"data row84 col6\" >53.73%</td>\n      <td id=\"T_67716_row84_col7\" class=\"data row84 col7\" >-54.00%</td>\n      <td id=\"T_67716_row84_col8\" class=\"data row84 col8\" >1.070000</td>\n      <td id=\"T_67716_row84_col9\" class=\"data row84 col9\" >1.590000</td>\n      <td id=\"T_67716_row84_col10\" class=\"data row84 col10\" >7.92%</td>\n      <td id=\"T_67716_row84_col11\" class=\"data row84 col11\" >4.61%</td>\n    </tr>\n    <tr>\n      <th id=\"T_67716_level2_row85\" class=\"row_heading level2 row85\" >40</th>\n      <td id=\"T_67716_row85_col0\" class=\"data row85 col0\" >0.850000</td>\n      <td id=\"T_67716_row85_col1\" class=\"data row85 col1\" >CycleDuration.cycle_1d</td>\n      <td id=\"T_67716_row85_col2\" class=\"data row85 col2\" >60</td>\n      <td id=\"T_67716_row85_col3\" class=\"data row85 col3\" >120</td>\n      <td id=\"T_67716_row85_col4\" class=\"data row85 col4\" >500.000000</td>\n      <td id=\"T_67716_row85_col5\" class=\"data row85 col5\" >56</td>\n      <td id=\"T_67716_row85_col6\" class=\"data row85 col6\" >65.46%</td>\n      <td id=\"T_67716_row85_col7\" class=\"data row85 col7\" >-34.00%</td>\n      <td id=\"T_67716_row85_col8\" class=\"data row85 col8\" >1.340000</td>\n      <td id=\"T_67716_row85_col9\" class=\"data row85 col9\" >2.040000</td>\n      <td id=\"T_67716_row85_col10\" class=\"data row85 col10\" >5.34%</td>\n      <td id=\"T_67716_row85_col11\" class=\"data row85 col11\" >3.38%</td>\n    </tr>\n    <tr>\n      <th id=\"T_67716_level2_row86\" class=\"row_heading level2 row86\" >50</th>\n      <td id=\"T_67716_row86_col0\" class=\"data row86 col0\" >0.850000</td>\n      <td id=\"T_67716_row86_col1\" class=\"data row86 col1\" >CycleDuration.cycle_1d</td>\n      <td id=\"T_67716_row86_col2\" class=\"data row86 col2\" >60</td>\n      <td id=\"T_67716_row86_col3\" class=\"data row86 col3\" >120</td>\n      <td id=\"T_67716_row86_col4\" class=\"data row86 col4\" >500.000000</td>\n      <td id=\"T_67716_row86_col5\" class=\"data row86 col5\" >64</td>\n      <td id=\"T_67716_row86_col6\" class=\"data row86 col6\" >87.90%</td>\n      <td id=\"T_67716_row86_col7\" class=\"data row86 col7\" >-40.00%</td>\n      <td id=\"T_67716_row86_col8\" class=\"data row86 col8\" >1.610000</td>\n      <td id=\"T_67716_row86_col9\" class=\"data row86 col9\" >2.550000</td>\n      <td id=\"T_67716_row86_col10\" class=\"data row86 col10\" >5.42%</td>\n      <td id=\"T_67716_row86_col11\" class=\"data row86 col11\" >3.16%</td>\n    </tr>\n    <tr>\n      <th id=\"T_67716_level2_row87\" class=\"row_heading level2 row87\" >60</th>\n      <td id=\"T_67716_row87_col0\" class=\"data row87 col0\" >0.850000</td>\n      <td id=\"T_67716_row87_col1\" class=\"data row87 col1\" >CycleDuration.cycle_1d</td>\n      <td id=\"T_67716_row87_col2\" class=\"data row87 col2\" >60</td>\n      <td id=\"T_67716_row87_col3\" class=\"data row87 col3\" >120</td>\n      <td id=\"T_67716_row87_col4\" class=\"data row87 col4\" >500.000000</td>\n      <td id=\"T_67716_row87_col5\" class=\"data row87 col5\" >79</td>\n      <td id=\"T_67716_row87_col6\" class=\"data row87 col6\" >51.19%</td>\n      <td id=\"T_67716_row87_col7\" class=\"data row87 col7\" >-40.00%</td>\n      <td id=\"T_67716_row87_col8\" class=\"data row87 col8\" >1.170000</td>\n      <td id=\"T_67716_row87_col9\" class=\"data row87 col9\" >1.780000</td>\n      <td id=\"T_67716_row87_col10\" class=\"data row87 col10\" >3.17%</td>\n      <td id=\"T_67716_row87_col11\" class=\"data row87 col11\" >2.46%</td>\n    </tr>\n    <tr>\n      <th id=\"T_67716_level1_row88\" class=\"row_heading level1 row88\" rowspan=\"4\">77</th>\n      <th id=\"T_67716_level2_row88\" class=\"row_heading level2 row88\" >30</th>\n      <td id=\"T_67716_row88_col0\" class=\"data row88 col0\" >0.850000</td>\n      <td id=\"T_67716_row88_col1\" class=\"data row88 col1\" >CycleDuration.cycle_1d</td>\n      <td id=\"T_67716_row88_col2\" class=\"data row88 col2\" >60</td>\n      <td id=\"T_67716_row88_col3\" class=\"data row88 col3\" >120</td>\n      <td id=\"T_67716_row88_col4\" class=\"data row88 col4\" >500.000000</td>\n      <td id=\"T_67716_row88_col5\" class=\"data row88 col5\" >37</td>\n      <td id=\"T_67716_row88_col6\" class=\"data row88 col6\" >53.63%</td>\n      <td id=\"T_67716_row88_col7\" class=\"data row88 col7\" >-56.00%</td>\n      <td id=\"T_67716_row88_col8\" class=\"data row88 col8\" >1.080000</td>\n      <td id=\"T_67716_row88_col9\" class=\"data row88 col9\" >1.650000</td>\n      <td id=\"T_67716_row88_col10\" class=\"data row88 col10\" >5.75%</td>\n      <td id=\"T_67716_row88_col11\" class=\"data row88 col11\" >4.03%</td>\n    </tr>\n    <tr>\n      <th id=\"T_67716_level2_row89\" class=\"row_heading level2 row89\" >40</th>\n      <td id=\"T_67716_row89_col0\" class=\"data row89 col0\" >0.850000</td>\n      <td id=\"T_67716_row89_col1\" class=\"data row89 col1\" >CycleDuration.cycle_1d</td>\n      <td id=\"T_67716_row89_col2\" class=\"data row89 col2\" >60</td>\n      <td id=\"T_67716_row89_col3\" class=\"data row89 col3\" >120</td>\n      <td id=\"T_67716_row89_col4\" class=\"data row89 col4\" >500.000000</td>\n      <td id=\"T_67716_row89_col5\" class=\"data row89 col5\" >52</td>\n      <td id=\"T_67716_row89_col6\" class=\"data row89 col6\" >63.89%</td>\n      <td id=\"T_67716_row89_col7\" class=\"data row89 col7\" >-30.00%</td>\n      <td id=\"T_67716_row89_col8\" class=\"data row89 col8\" >1.330000</td>\n      <td id=\"T_67716_row89_col9\" class=\"data row89 col9\" >2.100000</td>\n      <td id=\"T_67716_row89_col10\" class=\"data row89 col10\" >5.41%</td>\n      <td id=\"T_67716_row89_col11\" class=\"data row89 col11\" >2.40%</td>\n    </tr>\n    <tr>\n      <th id=\"T_67716_level2_row90\" class=\"row_heading level2 row90\" >50</th>\n      <td id=\"T_67716_row90_col0\" class=\"data row90 col0\" >0.850000</td>\n      <td id=\"T_67716_row90_col1\" class=\"data row90 col1\" >CycleDuration.cycle_1d</td>\n      <td id=\"T_67716_row90_col2\" class=\"data row90 col2\" >60</td>\n      <td id=\"T_67716_row90_col3\" class=\"data row90 col3\" >120</td>\n      <td id=\"T_67716_row90_col4\" class=\"data row90 col4\" >500.000000</td>\n      <td id=\"T_67716_row90_col5\" class=\"data row90 col5\" >53</td>\n      <td id=\"T_67716_row90_col6\" class=\"data row90 col6\" >87.50%</td>\n      <td id=\"T_67716_row90_col7\" class=\"data row90 col7\" >-28.00%</td>\n      <td id=\"T_67716_row90_col8\" class=\"data row90 col8\" >1.680000</td>\n      <td id=\"T_67716_row90_col9\" class=\"data row90 col9\" >2.780000</td>\n      <td id=\"T_67716_row90_col10\" class=\"data row90 col10\" >6.95%</td>\n      <td id=\"T_67716_row90_col11\" class=\"data row90 col11\" >3.53%</td>\n    </tr>\n    <tr>\n      <th id=\"T_67716_level2_row91\" class=\"row_heading level2 row91\" >60</th>\n      <td id=\"T_67716_row91_col0\" class=\"data row91 col0\" >0.850000</td>\n      <td id=\"T_67716_row91_col1\" class=\"data row91 col1\" >CycleDuration.cycle_1d</td>\n      <td id=\"T_67716_row91_col2\" class=\"data row91 col2\" >60</td>\n      <td id=\"T_67716_row91_col3\" class=\"data row91 col3\" >120</td>\n      <td id=\"T_67716_row91_col4\" class=\"data row91 col4\" >500.000000</td>\n      <td id=\"T_67716_row91_col5\" class=\"data row91 col5\" >59</td>\n      <td id=\"T_67716_row91_col6\" class=\"data row91 col6\" >23.40%</td>\n      <td id=\"T_67716_row91_col7\" class=\"data row91 col7\" >-47.00%</td>\n      <td id=\"T_67716_row91_col8\" class=\"data row91 col8\" >0.710000</td>\n      <td id=\"T_67716_row91_col9\" class=\"data row91 col9\" >1.070000</td>\n      <td id=\"T_67716_row91_col10\" class=\"data row91 col10\" >2.44%</td>\n      <td id=\"T_67716_row91_col11\" class=\"data row91 col11\" >1.15%</td>\n    </tr>\n    <tr>\n      <th id=\"T_67716_level1_row92\" class=\"row_heading level1 row92\" rowspan=\"4\">80</th>\n      <th id=\"T_67716_level2_row92\" class=\"row_heading level2 row92\" >30</th>\n      <td id=\"T_67716_row92_col0\" class=\"data row92 col0\" >0.850000</td>\n      <td id=\"T_67716_row92_col1\" class=\"data row92 col1\" >CycleDuration.cycle_1d</td>\n      <td id=\"T_67716_row92_col2\" class=\"data row92 col2\" >60</td>\n      <td id=\"T_67716_row92_col3\" class=\"data row92 col3\" >120</td>\n      <td id=\"T_67716_row92_col4\" class=\"data row92 col4\" >500.000000</td>\n      <td id=\"T_67716_row92_col5\" class=\"data row92 col5\" >34</td>\n      <td id=\"T_67716_row92_col6\" class=\"data row92 col6\" >30.15%</td>\n      <td id=\"T_67716_row92_col7\" class=\"data row92 col7\" >-63.00%</td>\n      <td id=\"T_67716_row92_col8\" class=\"data row92 col8\" >0.780000</td>\n      <td id=\"T_67716_row92_col9\" class=\"data row92 col9\" >1.140000</td>\n      <td id=\"T_67716_row92_col10\" class=\"data row92 col10\" >4.19%</td>\n      <td id=\"T_67716_row92_col11\" class=\"data row92 col11\" >2.40%</td>\n    </tr>\n    <tr>\n      <th id=\"T_67716_level2_row93\" class=\"row_heading level2 row93\" >40</th>\n      <td id=\"T_67716_row93_col0\" class=\"data row93 col0\" >0.850000</td>\n      <td id=\"T_67716_row93_col1\" class=\"data row93 col1\" >CycleDuration.cycle_1d</td>\n      <td id=\"T_67716_row93_col2\" class=\"data row93 col2\" >60</td>\n      <td id=\"T_67716_row93_col3\" class=\"data row93 col3\" >120</td>\n      <td id=\"T_67716_row93_col4\" class=\"data row93 col4\" >500.000000</td>\n      <td id=\"T_67716_row93_col5\" class=\"data row93 col5\" >44</td>\n      <td id=\"T_67716_row93_col6\" class=\"data row93 col6\" >29.86%</td>\n      <td id=\"T_67716_row93_col7\" class=\"data row93 col7\" >-30.00%</td>\n      <td id=\"T_67716_row93_col8\" class=\"data row93 col8\" >0.850000</td>\n      <td id=\"T_67716_row93_col9\" class=\"data row93 col9\" >1.270000</td>\n      <td id=\"T_67716_row93_col10\" class=\"data row93 col10\" >3.16%</td>\n      <td id=\"T_67716_row93_col11\" class=\"data row93 col11\" >1.36%</td>\n    </tr>\n    <tr>\n      <th id=\"T_67716_level2_row94\" class=\"row_heading level2 row94\" >50</th>\n      <td id=\"T_67716_row94_col0\" class=\"data row94 col0\" >0.850000</td>\n      <td id=\"T_67716_row94_col1\" class=\"data row94 col1\" >CycleDuration.cycle_1d</td>\n      <td id=\"T_67716_row94_col2\" class=\"data row94 col2\" >60</td>\n      <td id=\"T_67716_row94_col3\" class=\"data row94 col3\" >120</td>\n      <td id=\"T_67716_row94_col4\" class=\"data row94 col4\" >500.000000</td>\n      <td id=\"T_67716_row94_col5\" class=\"data row94 col5\" >42</td>\n      <td id=\"T_67716_row94_col6\" class=\"data row94 col6\" >53.42%</td>\n      <td id=\"T_67716_row94_col7\" class=\"data row94 col7\" >-28.00%</td>\n      <td id=\"T_67716_row94_col8\" class=\"data row94 col8\" >1.250000</td>\n      <td id=\"T_67716_row94_col9\" class=\"data row94 col9\" >1.940000</td>\n      <td id=\"T_67716_row94_col10\" class=\"data row94 col10\" >6.57%</td>\n      <td id=\"T_67716_row94_col11\" class=\"data row94 col11\" >4.65%</td>\n    </tr>\n    <tr>\n      <th id=\"T_67716_level2_row95\" class=\"row_heading level2 row95\" >60</th>\n      <td id=\"T_67716_row95_col0\" class=\"data row95 col0\" >0.850000</td>\n      <td id=\"T_67716_row95_col1\" class=\"data row95 col1\" >CycleDuration.cycle_1d</td>\n      <td id=\"T_67716_row95_col2\" class=\"data row95 col2\" >60</td>\n      <td id=\"T_67716_row95_col3\" class=\"data row95 col3\" >120</td>\n      <td id=\"T_67716_row95_col4\" class=\"data row95 col4\" >500.000000</td>\n      <td id=\"T_67716_row95_col5\" class=\"data row95 col5\" >51</td>\n      <td id=\"T_67716_row95_col6\" class=\"data row95 col6\" >-3.78%</td>\n      <td id=\"T_67716_row95_col7\" class=\"data row95 col7\" >-54.00%</td>\n      <td id=\"T_67716_row95_col8\" class=\"data row95 col8\" >0.110000</td>\n      <td id=\"T_67716_row95_col9\" class=\"data row95 col9\" >0.150000</td>\n      <td id=\"T_67716_row95_col10\" class=\"data row95 col10\" >0.31%</td>\n      <td id=\"T_67716_row95_col11\" class=\"data row95 col11\" >-0.82%</td>\n    </tr>\n    <tr>\n      <th id=\"T_67716_level0_row96\" class=\"row_heading level0 row96\" rowspan=\"24\">20</th>\n      <th id=\"T_67716_level1_row96\" class=\"row_heading level1 row96\" rowspan=\"4\">55</th>\n      <th id=\"T_67716_level2_row96\" class=\"row_heading level2 row96\" >30</th>\n      <td id=\"T_67716_row96_col0\" class=\"data row96 col0\" >0.850000</td>\n      <td id=\"T_67716_row96_col1\" class=\"data row96 col1\" >CycleDuration.cycle_1d</td>\n      <td id=\"T_67716_row96_col2\" class=\"data row96 col2\" >60</td>\n      <td id=\"T_67716_row96_col3\" class=\"data row96 col3\" >120</td>\n      <td id=\"T_67716_row96_col4\" class=\"data row96 col4\" >500.000000</td>\n      <td id=\"T_67716_row96_col5\" class=\"data row96 col5\" >21</td>\n      <td id=\"T_67716_row96_col6\" class=\"data row96 col6\" >58.45%</td>\n      <td id=\"T_67716_row96_col7\" class=\"data row96 col7\" >-72.00%</td>\n      <td id=\"T_67716_row96_col8\" class=\"data row96 col8\" >1.060000</td>\n      <td id=\"T_67716_row96_col9\" class=\"data row96 col9\" >1.510000</td>\n      <td id=\"T_67716_row96_col10\" class=\"data row96 col10\" >5.56%</td>\n      <td id=\"T_67716_row96_col11\" class=\"data row96 col11\" >3.82%</td>\n    </tr>\n    <tr>\n      <th id=\"T_67716_level2_row97\" class=\"row_heading level2 row97\" >40</th>\n      <td id=\"T_67716_row97_col0\" class=\"data row97 col0\" >0.850000</td>\n      <td id=\"T_67716_row97_col1\" class=\"data row97 col1\" >CycleDuration.cycle_1d</td>\n      <td id=\"T_67716_row97_col2\" class=\"data row97 col2\" >60</td>\n      <td id=\"T_67716_row97_col3\" class=\"data row97 col3\" >120</td>\n      <td id=\"T_67716_row97_col4\" class=\"data row97 col4\" >500.000000</td>\n      <td id=\"T_67716_row97_col5\" class=\"data row97 col5\" >49</td>\n      <td id=\"T_67716_row97_col6\" class=\"data row97 col6\" >63.41%</td>\n      <td id=\"T_67716_row97_col7\" class=\"data row97 col7\" >-60.00%</td>\n      <td id=\"T_67716_row97_col8\" class=\"data row97 col8\" >1.130000</td>\n      <td id=\"T_67716_row97_col9\" class=\"data row97 col9\" >1.650000</td>\n      <td id=\"T_67716_row97_col10\" class=\"data row97 col10\" >5.55%</td>\n      <td id=\"T_67716_row97_col11\" class=\"data row97 col11\" >-0.01%</td>\n    </tr>\n    <tr>\n      <th id=\"T_67716_level2_row98\" class=\"row_heading level2 row98\" >50</th>\n      <td id=\"T_67716_row98_col0\" class=\"data row98 col0\" >0.850000</td>\n      <td id=\"T_67716_row98_col1\" class=\"data row98 col1\" >CycleDuration.cycle_1d</td>\n      <td id=\"T_67716_row98_col2\" class=\"data row98 col2\" >60</td>\n      <td id=\"T_67716_row98_col3\" class=\"data row98 col3\" >120</td>\n      <td id=\"T_67716_row98_col4\" class=\"data row98 col4\" >500.000000</td>\n      <td id=\"T_67716_row98_col5\" class=\"data row98 col5\" >78</td>\n      <td id=\"T_67716_row98_col6\" class=\"data row98 col6\" >55.29%</td>\n      <td id=\"T_67716_row98_col7\" class=\"data row98 col7\" >-71.00%</td>\n      <td id=\"T_67716_row98_col8\" class=\"data row98 col8\" >1.070000</td>\n      <td id=\"T_67716_row98_col9\" class=\"data row98 col9\" >1.550000</td>\n      <td id=\"T_67716_row98_col10\" class=\"data row98 col10\" >4.43%</td>\n      <td id=\"T_67716_row98_col11\" class=\"data row98 col11\" >0.11%</td>\n    </tr>\n    <tr>\n      <th id=\"T_67716_level2_row99\" class=\"row_heading level2 row99\" >60</th>\n      <td id=\"T_67716_row99_col0\" class=\"data row99 col0\" >0.850000</td>\n      <td id=\"T_67716_row99_col1\" class=\"data row99 col1\" >CycleDuration.cycle_1d</td>\n      <td id=\"T_67716_row99_col2\" class=\"data row99 col2\" >60</td>\n      <td id=\"T_67716_row99_col3\" class=\"data row99 col3\" >120</td>\n      <td id=\"T_67716_row99_col4\" class=\"data row99 col4\" >500.000000</td>\n      <td id=\"T_67716_row99_col5\" class=\"data row99 col5\" >73</td>\n      <td id=\"T_67716_row99_col6\" class=\"data row99 col6\" >40.48%</td>\n      <td id=\"T_67716_row99_col7\" class=\"data row99 col7\" >-71.00%</td>\n      <td id=\"T_67716_row99_col8\" class=\"data row99 col8\" >0.870000</td>\n      <td id=\"T_67716_row99_col9\" class=\"data row99 col9\" >1.240000</td>\n      <td id=\"T_67716_row99_col10\" class=\"data row99 col10\" >4.49%</td>\n      <td id=\"T_67716_row99_col11\" class=\"data row99 col11\" >2.93%</td>\n    </tr>\n    <tr>\n      <th id=\"T_67716_level1_row100\" class=\"row_heading level1 row100\" rowspan=\"4\">60</th>\n      <th id=\"T_67716_level2_row100\" class=\"row_heading level2 row100\" >30</th>\n      <td id=\"T_67716_row100_col0\" class=\"data row100 col0\" >0.850000</td>\n      <td id=\"T_67716_row100_col1\" class=\"data row100 col1\" >CycleDuration.cycle_1d</td>\n      <td id=\"T_67716_row100_col2\" class=\"data row100 col2\" >60</td>\n      <td id=\"T_67716_row100_col3\" class=\"data row100 col3\" >120</td>\n      <td id=\"T_67716_row100_col4\" class=\"data row100 col4\" >500.000000</td>\n      <td id=\"T_67716_row100_col5\" class=\"data row100 col5\" >19</td>\n      <td id=\"T_67716_row100_col6\" class=\"data row100 col6\" >53.35%</td>\n      <td id=\"T_67716_row100_col7\" class=\"data row100 col7\" >-72.00%</td>\n      <td id=\"T_67716_row100_col8\" class=\"data row100 col8\" >1.010000</td>\n      <td id=\"T_67716_row100_col9\" class=\"data row100 col9\" >1.440000</td>\n      <td id=\"T_67716_row100_col10\" class=\"data row100 col10\" >6.51%</td>\n      <td id=\"T_67716_row100_col11\" class=\"data row100 col11\" >5.69%</td>\n    </tr>\n    <tr>\n      <th id=\"T_67716_level2_row101\" class=\"row_heading level2 row101\" >40</th>\n      <td id=\"T_67716_row101_col0\" class=\"data row101 col0\" >0.850000</td>\n      <td id=\"T_67716_row101_col1\" class=\"data row101 col1\" >CycleDuration.cycle_1d</td>\n      <td id=\"T_67716_row101_col2\" class=\"data row101 col2\" >60</td>\n      <td id=\"T_67716_row101_col3\" class=\"data row101 col3\" >120</td>\n      <td id=\"T_67716_row101_col4\" class=\"data row101 col4\" >500.000000</td>\n      <td id=\"T_67716_row101_col5\" class=\"data row101 col5\" >46</td>\n      <td id=\"T_67716_row101_col6\" class=\"data row101 col6\" >47.19%</td>\n      <td id=\"T_67716_row101_col7\" class=\"data row101 col7\" >-60.00%</td>\n      <td id=\"T_67716_row101_col8\" class=\"data row101 col8\" >0.960000</td>\n      <td id=\"T_67716_row101_col9\" class=\"data row101 col9\" >1.380000</td>\n      <td id=\"T_67716_row101_col10\" class=\"data row101 col10\" >5.70%</td>\n      <td id=\"T_67716_row101_col11\" class=\"data row101 col11\" >1.69%</td>\n    </tr>\n    <tr>\n      <th id=\"T_67716_level2_row102\" class=\"row_heading level2 row102\" >50</th>\n      <td id=\"T_67716_row102_col0\" class=\"data row102 col0\" >0.850000</td>\n      <td id=\"T_67716_row102_col1\" class=\"data row102 col1\" >CycleDuration.cycle_1d</td>\n      <td id=\"T_67716_row102_col2\" class=\"data row102 col2\" >60</td>\n      <td id=\"T_67716_row102_col3\" class=\"data row102 col3\" >120</td>\n      <td id=\"T_67716_row102_col4\" class=\"data row102 col4\" >500.000000</td>\n      <td id=\"T_67716_row102_col5\" class=\"data row102 col5\" >57</td>\n      <td id=\"T_67716_row102_col6\" class=\"data row102 col6\" >75.51%</td>\n      <td id=\"T_67716_row102_col7\" class=\"data row102 col7\" >-62.00%</td>\n      <td id=\"T_67716_row102_col8\" class=\"data row102 col8\" >1.300000</td>\n      <td id=\"T_67716_row102_col9\" class=\"data row102 col9\" >1.910000</td>\n      <td id=\"T_67716_row102_col10\" class=\"data row102 col10\" >6.29%</td>\n      <td id=\"T_67716_row102_col11\" class=\"data row102 col11\" >3.48%</td>\n    </tr>\n    <tr>\n      <th id=\"T_67716_level2_row103\" class=\"row_heading level2 row103\" >60</th>\n      <td id=\"T_67716_row103_col0\" class=\"data row103 col0\" >0.850000</td>\n      <td id=\"T_67716_row103_col1\" class=\"data row103 col1\" >CycleDuration.cycle_1d</td>\n      <td id=\"T_67716_row103_col2\" class=\"data row103 col2\" >60</td>\n      <td id=\"T_67716_row103_col3\" class=\"data row103 col3\" >120</td>\n      <td id=\"T_67716_row103_col4\" class=\"data row103 col4\" >500.000000</td>\n      <td id=\"T_67716_row103_col5\" class=\"data row103 col5\" >66</td>\n      <td id=\"T_67716_row103_col6\" class=\"data row103 col6\" >35.52%</td>\n      <td id=\"T_67716_row103_col7\" class=\"data row103 col7\" >-73.00%</td>\n      <td id=\"T_67716_row103_col8\" class=\"data row103 col8\" >0.800000</td>\n      <td id=\"T_67716_row103_col9\" class=\"data row103 col9\" >1.160000</td>\n      <td id=\"T_67716_row103_col10\" class=\"data row103 col10\" >5.02%</td>\n      <td id=\"T_67716_row103_col11\" class=\"data row103 col11\" >2.00%</td>\n    </tr>\n    <tr>\n      <th id=\"T_67716_level1_row104\" class=\"row_heading level1 row104\" rowspan=\"4\">70</th>\n      <th id=\"T_67716_level2_row104\" class=\"row_heading level2 row104\" >30</th>\n      <td id=\"T_67716_row104_col0\" class=\"data row104 col0\" >0.850000</td>\n      <td id=\"T_67716_row104_col1\" class=\"data row104 col1\" >CycleDuration.cycle_1d</td>\n      <td id=\"T_67716_row104_col2\" class=\"data row104 col2\" >60</td>\n      <td id=\"T_67716_row104_col3\" class=\"data row104 col3\" >120</td>\n      <td id=\"T_67716_row104_col4\" class=\"data row104 col4\" >500.000000</td>\n      <td id=\"T_67716_row104_col5\" class=\"data row104 col5\" >17</td>\n      <td id=\"T_67716_row104_col6\" class=\"data row104 col6\" >57.97%</td>\n      <td id=\"T_67716_row104_col7\" class=\"data row104 col7\" >-67.00%</td>\n      <td id=\"T_67716_row104_col8\" class=\"data row104 col8\" >1.070000</td>\n      <td id=\"T_67716_row104_col9\" class=\"data row104 col9\" >1.540000</td>\n      <td id=\"T_67716_row104_col10\" class=\"data row104 col10\" >5.21%</td>\n      <td id=\"T_67716_row104_col11\" class=\"data row104 col11\" >5.42%</td>\n    </tr>\n    <tr>\n      <th id=\"T_67716_level2_row105\" class=\"row_heading level2 row105\" >40</th>\n      <td id=\"T_67716_row105_col0\" class=\"data row105 col0\" >0.850000</td>\n      <td id=\"T_67716_row105_col1\" class=\"data row105 col1\" >CycleDuration.cycle_1d</td>\n      <td id=\"T_67716_row105_col2\" class=\"data row105 col2\" >60</td>\n      <td id=\"T_67716_row105_col3\" class=\"data row105 col3\" >120</td>\n      <td id=\"T_67716_row105_col4\" class=\"data row105 col4\" >500.000000</td>\n      <td id=\"T_67716_row105_col5\" class=\"data row105 col5\" >34</td>\n      <td id=\"T_67716_row105_col6\" class=\"data row105 col6\" >19.50%</td>\n      <td id=\"T_67716_row105_col7\" class=\"data row105 col7\" >-77.00%</td>\n      <td id=\"T_67716_row105_col8\" class=\"data row105 col8\" >0.600000</td>\n      <td id=\"T_67716_row105_col9\" class=\"data row105 col9\" >0.850000</td>\n      <td id=\"T_67716_row105_col10\" class=\"data row105 col10\" >3.76%</td>\n      <td id=\"T_67716_row105_col11\" class=\"data row105 col11\" >1.20%</td>\n    </tr>\n    <tr>\n      <th id=\"T_67716_level2_row106\" class=\"row_heading level2 row106\" >50</th>\n      <td id=\"T_67716_row106_col0\" class=\"data row106 col0\" >0.850000</td>\n      <td id=\"T_67716_row106_col1\" class=\"data row106 col1\" >CycleDuration.cycle_1d</td>\n      <td id=\"T_67716_row106_col2\" class=\"data row106 col2\" >60</td>\n      <td id=\"T_67716_row106_col3\" class=\"data row106 col3\" >120</td>\n      <td id=\"T_67716_row106_col4\" class=\"data row106 col4\" >500.000000</td>\n      <td id=\"T_67716_row106_col5\" class=\"data row106 col5\" >44</td>\n      <td id=\"T_67716_row106_col6\" class=\"data row106 col6\" >64.59%</td>\n      <td id=\"T_67716_row106_col7\" class=\"data row106 col7\" >-29.00%</td>\n      <td id=\"T_67716_row106_col8\" class=\"data row106 col8\" >1.380000</td>\n      <td id=\"T_67716_row106_col9\" class=\"data row106 col9\" >2.130000</td>\n      <td id=\"T_67716_row106_col10\" class=\"data row106 col10\" >5.54%</td>\n      <td id=\"T_67716_row106_col11\" class=\"data row106 col11\" >1.39%</td>\n    </tr>\n    <tr>\n      <th id=\"T_67716_level2_row107\" class=\"row_heading level2 row107\" >60</th>\n      <td id=\"T_67716_row107_col0\" class=\"data row107 col0\" >0.850000</td>\n      <td id=\"T_67716_row107_col1\" class=\"data row107 col1\" >CycleDuration.cycle_1d</td>\n      <td id=\"T_67716_row107_col2\" class=\"data row107 col2\" >60</td>\n      <td id=\"T_67716_row107_col3\" class=\"data row107 col3\" >120</td>\n      <td id=\"T_67716_row107_col4\" class=\"data row107 col4\" >500.000000</td>\n      <td id=\"T_67716_row107_col5\" class=\"data row107 col5\" >46</td>\n      <td id=\"T_67716_row107_col6\" class=\"data row107 col6\" >17.10%</td>\n      <td id=\"T_67716_row107_col7\" class=\"data row107 col7\" >-68.00%</td>\n      <td id=\"T_67716_row107_col8\" class=\"data row107 col8\" >0.570000</td>\n      <td id=\"T_67716_row107_col9\" class=\"data row107 col9\" >0.800000</td>\n      <td id=\"T_67716_row107_col10\" class=\"data row107 col10\" >3.49%</td>\n      <td id=\"T_67716_row107_col11\" class=\"data row107 col11\" >0.46%</td>\n    </tr>\n    <tr>\n      <th id=\"T_67716_level1_row108\" class=\"row_heading level1 row108\" rowspan=\"4\">73</th>\n      <th id=\"T_67716_level2_row108\" class=\"row_heading level2 row108\" >30</th>\n      <td id=\"T_67716_row108_col0\" class=\"data row108 col0\" >0.850000</td>\n      <td id=\"T_67716_row108_col1\" class=\"data row108 col1\" >CycleDuration.cycle_1d</td>\n      <td id=\"T_67716_row108_col2\" class=\"data row108 col2\" >60</td>\n      <td id=\"T_67716_row108_col3\" class=\"data row108 col3\" >120</td>\n      <td id=\"T_67716_row108_col4\" class=\"data row108 col4\" >500.000000</td>\n      <td id=\"T_67716_row108_col5\" class=\"data row108 col5\" >14</td>\n      <td id=\"T_67716_row108_col6\" class=\"data row108 col6\" >78.99%</td>\n      <td id=\"T_67716_row108_col7\" class=\"data row108 col7\" >-63.00%</td>\n      <td id=\"T_67716_row108_col8\" class=\"data row108 col8\" >1.330000</td>\n      <td id=\"T_67716_row108_col9\" class=\"data row108 col9\" >1.940000</td>\n      <td id=\"T_67716_row108_col10\" class=\"data row108 col10\" >11.60%</td>\n      <td id=\"T_67716_row108_col11\" class=\"data row108 col11\" >4.51%</td>\n    </tr>\n    <tr>\n      <th id=\"T_67716_level2_row109\" class=\"row_heading level2 row109\" >40</th>\n      <td id=\"T_67716_row109_col0\" class=\"data row109 col0\" >0.850000</td>\n      <td id=\"T_67716_row109_col1\" class=\"data row109 col1\" >CycleDuration.cycle_1d</td>\n      <td id=\"T_67716_row109_col2\" class=\"data row109 col2\" >60</td>\n      <td id=\"T_67716_row109_col3\" class=\"data row109 col3\" >120</td>\n      <td id=\"T_67716_row109_col4\" class=\"data row109 col4\" >500.000000</td>\n      <td id=\"T_67716_row109_col5\" class=\"data row109 col5\" >24</td>\n      <td id=\"T_67716_row109_col6\" class=\"data row109 col6\" >32.60%</td>\n      <td id=\"T_67716_row109_col7\" class=\"data row109 col7\" >-68.00%</td>\n      <td id=\"T_67716_row109_col8\" class=\"data row109 col8\" >0.800000</td>\n      <td id=\"T_67716_row109_col9\" class=\"data row109 col9\" >1.140000</td>\n      <td id=\"T_67716_row109_col10\" class=\"data row109 col10\" >7.41%</td>\n      <td id=\"T_67716_row109_col11\" class=\"data row109 col11\" >4.91%</td>\n    </tr>\n    <tr>\n      <th id=\"T_67716_level2_row110\" class=\"row_heading level2 row110\" >50</th>\n      <td id=\"T_67716_row110_col0\" class=\"data row110 col0\" >0.850000</td>\n      <td id=\"T_67716_row110_col1\" class=\"data row110 col1\" >CycleDuration.cycle_1d</td>\n      <td id=\"T_67716_row110_col2\" class=\"data row110 col2\" >60</td>\n      <td id=\"T_67716_row110_col3\" class=\"data row110 col3\" >120</td>\n      <td id=\"T_67716_row110_col4\" class=\"data row110 col4\" >500.000000</td>\n      <td id=\"T_67716_row110_col5\" class=\"data row110 col5\" >28</td>\n      <td id=\"T_67716_row110_col6\" class=\"data row110 col6\" >58.21%</td>\n      <td id=\"T_67716_row110_col7\" class=\"data row110 col7\" >-30.00%</td>\n      <td id=\"T_67716_row110_col8\" class=\"data row110 col8\" >1.320000</td>\n      <td id=\"T_67716_row110_col9\" class=\"data row110 col9\" >2.020000</td>\n      <td id=\"T_67716_row110_col10\" class=\"data row110 col10\" >9.36%</td>\n      <td id=\"T_67716_row110_col11\" class=\"data row110 col11\" >9.01%</td>\n    </tr>\n    <tr>\n      <th id=\"T_67716_level2_row111\" class=\"row_heading level2 row111\" >60</th>\n      <td id=\"T_67716_row111_col0\" class=\"data row111 col0\" >0.850000</td>\n      <td id=\"T_67716_row111_col1\" class=\"data row111 col1\" >CycleDuration.cycle_1d</td>\n      <td id=\"T_67716_row111_col2\" class=\"data row111 col2\" >60</td>\n      <td id=\"T_67716_row111_col3\" class=\"data row111 col3\" >120</td>\n      <td id=\"T_67716_row111_col4\" class=\"data row111 col4\" >500.000000</td>\n      <td id=\"T_67716_row111_col5\" class=\"data row111 col5\" >35</td>\n      <td id=\"T_67716_row111_col6\" class=\"data row111 col6\" >31.60%</td>\n      <td id=\"T_67716_row111_col7\" class=\"data row111 col7\" >-53.00%</td>\n      <td id=\"T_67716_row111_col8\" class=\"data row111 col8\" >0.840000</td>\n      <td id=\"T_67716_row111_col9\" class=\"data row111 col9\" >1.190000</td>\n      <td id=\"T_67716_row111_col10\" class=\"data row111 col10\" >5.48%</td>\n      <td id=\"T_67716_row111_col11\" class=\"data row111 col11\" >2.12%</td>\n    </tr>\n    <tr>\n      <th id=\"T_67716_level1_row112\" class=\"row_heading level1 row112\" rowspan=\"4\">77</th>\n      <th id=\"T_67716_level2_row112\" class=\"row_heading level2 row112\" >30</th>\n      <td id=\"T_67716_row112_col0\" class=\"data row112 col0\" >0.850000</td>\n      <td id=\"T_67716_row112_col1\" class=\"data row112 col1\" >CycleDuration.cycle_1d</td>\n      <td id=\"T_67716_row112_col2\" class=\"data row112 col2\" >60</td>\n      <td id=\"T_67716_row112_col3\" class=\"data row112 col3\" >120</td>\n      <td id=\"T_67716_row112_col4\" class=\"data row112 col4\" >500.000000</td>\n      <td id=\"T_67716_row112_col5\" class=\"data row112 col5\" >8</td>\n      <td id=\"T_67716_row112_col6\" class=\"data row112 col6\" >42.55%</td>\n      <td id=\"T_67716_row112_col7\" class=\"data row112 col7\" >-61.00%</td>\n      <td id=\"T_67716_row112_col8\" class=\"data row112 col8\" >0.940000</td>\n      <td id=\"T_67716_row112_col9\" class=\"data row112 col9\" >1.340000</td>\n      <td id=\"T_67716_row112_col10\" class=\"data row112 col10\" >20.08%</td>\n      <td id=\"T_67716_row112_col11\" class=\"data row112 col11\" >19.82%</td>\n    </tr>\n    <tr>\n      <th id=\"T_67716_level2_row113\" class=\"row_heading level2 row113\" >40</th>\n      <td id=\"T_67716_row113_col0\" class=\"data row113 col0\" >0.850000</td>\n      <td id=\"T_67716_row113_col1\" class=\"data row113 col1\" >CycleDuration.cycle_1d</td>\n      <td id=\"T_67716_row113_col2\" class=\"data row113 col2\" >60</td>\n      <td id=\"T_67716_row113_col3\" class=\"data row113 col3\" >120</td>\n      <td id=\"T_67716_row113_col4\" class=\"data row113 col4\" >500.000000</td>\n      <td id=\"T_67716_row113_col5\" class=\"data row113 col5\" >15</td>\n      <td id=\"T_67716_row113_col6\" class=\"data row113 col6\" >49.14%</td>\n      <td id=\"T_67716_row113_col7\" class=\"data row113 col7\" >-53.00%</td>\n      <td id=\"T_67716_row113_col8\" class=\"data row113 col8\" >1.110000</td>\n      <td id=\"T_67716_row113_col9\" class=\"data row113 col9\" >1.690000</td>\n      <td id=\"T_67716_row113_col10\" class=\"data row113 col10\" >16.99%</td>\n      <td id=\"T_67716_row113_col11\" class=\"data row113 col11\" >16.07%</td>\n    </tr>\n    <tr>\n      <th id=\"T_67716_level2_row114\" class=\"row_heading level2 row114\" >50</th>\n      <td id=\"T_67716_row114_col0\" class=\"data row114 col0\" >0.850000</td>\n      <td id=\"T_67716_row114_col1\" class=\"data row114 col1\" >CycleDuration.cycle_1d</td>\n      <td id=\"T_67716_row114_col2\" class=\"data row114 col2\" >60</td>\n      <td id=\"T_67716_row114_col3\" class=\"data row114 col3\" >120</td>\n      <td id=\"T_67716_row114_col4\" class=\"data row114 col4\" >500.000000</td>\n      <td id=\"T_67716_row114_col5\" class=\"data row114 col5\" >16</td>\n      <td id=\"T_67716_row114_col6\" class=\"data row114 col6\" >68.46%</td>\n      <td id=\"T_67716_row114_col7\" class=\"data row114 col7\" >-28.00%</td>\n      <td id=\"T_67716_row114_col8\" class=\"data row114 col8\" >1.620000</td>\n      <td id=\"T_67716_row114_col9\" class=\"data row114 col9\" >2.650000</td>\n      <td id=\"T_67716_row114_col10\" class=\"data row114 col10\" >19.43%</td>\n      <td id=\"T_67716_row114_col11\" class=\"data row114 col11\" >10.91%</td>\n    </tr>\n    <tr>\n      <th id=\"T_67716_level2_row115\" class=\"row_heading level2 row115\" >60</th>\n      <td id=\"T_67716_row115_col0\" class=\"data row115 col0\" >0.850000</td>\n      <td id=\"T_67716_row115_col1\" class=\"data row115 col1\" >CycleDuration.cycle_1d</td>\n      <td id=\"T_67716_row115_col2\" class=\"data row115 col2\" >60</td>\n      <td id=\"T_67716_row115_col3\" class=\"data row115 col3\" >120</td>\n      <td id=\"T_67716_row115_col4\" class=\"data row115 col4\" >500.000000</td>\n      <td id=\"T_67716_row115_col5\" class=\"data row115 col5\" >19</td>\n      <td id=\"T_67716_row115_col6\" class=\"data row115 col6\" >24.50%</td>\n      <td id=\"T_67716_row115_col7\" class=\"data row115 col7\" >-55.00%</td>\n      <td id=\"T_67716_row115_col8\" class=\"data row115 col8\" >0.790000</td>\n      <td id=\"T_67716_row115_col9\" class=\"data row115 col9\" >1.100000</td>\n      <td id=\"T_67716_row115_col10\" class=\"data row115 col10\" >8.16%</td>\n      <td id=\"T_67716_row115_col11\" class=\"data row115 col11\" >3.78%</td>\n    </tr>\n    <tr>\n      <th id=\"T_67716_level1_row116\" class=\"row_heading level1 row116\" rowspan=\"4\">80</th>\n      <th id=\"T_67716_level2_row116\" class=\"row_heading level2 row116\" >30</th>\n      <td id=\"T_67716_row116_col0\" class=\"data row116 col0\" >0.850000</td>\n      <td id=\"T_67716_row116_col1\" class=\"data row116 col1\" >CycleDuration.cycle_1d</td>\n      <td id=\"T_67716_row116_col2\" class=\"data row116 col2\" >60</td>\n      <td id=\"T_67716_row116_col3\" class=\"data row116 col3\" >120</td>\n      <td id=\"T_67716_row116_col4\" class=\"data row116 col4\" >500.000000</td>\n      <td id=\"T_67716_row116_col5\" class=\"data row116 col5\" >3</td>\n      <td id=\"T_67716_row116_col6\" class=\"data row116 col6\" >nan%</td>\n      <td id=\"T_67716_row116_col7\" class=\"data row116 col7\" >nan%</td>\n      <td id=\"T_67716_row116_col8\" class=\"data row116 col8\" >nan</td>\n      <td id=\"T_67716_row116_col9\" class=\"data row116 col9\" >nan</td>\n      <td id=\"T_67716_row116_col10\" class=\"data row116 col10\" >nan%</td>\n      <td id=\"T_67716_row116_col11\" class=\"data row116 col11\" >nan%</td>\n    </tr>\n    <tr>\n      <th id=\"T_67716_level2_row117\" class=\"row_heading level2 row117\" >40</th>\n      <td id=\"T_67716_row117_col0\" class=\"data row117 col0\" >0.850000</td>\n      <td id=\"T_67716_row117_col1\" class=\"data row117 col1\" >CycleDuration.cycle_1d</td>\n      <td id=\"T_67716_row117_col2\" class=\"data row117 col2\" >60</td>\n      <td id=\"T_67716_row117_col3\" class=\"data row117 col3\" >120</td>\n      <td id=\"T_67716_row117_col4\" class=\"data row117 col4\" >500.000000</td>\n      <td id=\"T_67716_row117_col5\" class=\"data row117 col5\" >8</td>\n      <td id=\"T_67716_row117_col6\" class=\"data row117 col6\" >19.22%</td>\n      <td id=\"T_67716_row117_col7\" class=\"data row117 col7\" >-48.00%</td>\n      <td id=\"T_67716_row117_col8\" class=\"data row117 col8\" >0.670000</td>\n      <td id=\"T_67716_row117_col9\" class=\"data row117 col9\" >1.000000</td>\n      <td id=\"T_67716_row117_col10\" class=\"data row117 col10\" >16.81%</td>\n      <td id=\"T_67716_row117_col11\" class=\"data row117 col11\" >12.45%</td>\n    </tr>\n    <tr>\n      <th id=\"T_67716_level2_row118\" class=\"row_heading level2 row118\" >50</th>\n      <td id=\"T_67716_row118_col0\" class=\"data row118 col0\" >0.850000</td>\n      <td id=\"T_67716_row118_col1\" class=\"data row118 col1\" >CycleDuration.cycle_1d</td>\n      <td id=\"T_67716_row118_col2\" class=\"data row118 col2\" >60</td>\n      <td id=\"T_67716_row118_col3\" class=\"data row118 col3\" >120</td>\n      <td id=\"T_67716_row118_col4\" class=\"data row118 col4\" >500.000000</td>\n      <td id=\"T_67716_row118_col5\" class=\"data row118 col5\" >8</td>\n      <td id=\"T_67716_row118_col6\" class=\"data row118 col6\" >28.17%</td>\n      <td id=\"T_67716_row118_col7\" class=\"data row118 col7\" >-28.00%</td>\n      <td id=\"T_67716_row118_col8\" class=\"data row118 col8\" >1.020000</td>\n      <td id=\"T_67716_row118_col9\" class=\"data row118 col9\" >1.600000</td>\n      <td id=\"T_67716_row118_col10\" class=\"data row118 col10\" >22.77%</td>\n      <td id=\"T_67716_row118_col11\" class=\"data row118 col11\" >13.26%</td>\n    </tr>\n    <tr>\n      <th id=\"T_67716_level2_row119\" class=\"row_heading level2 row119\" >60</th>\n      <td id=\"T_67716_row119_col0\" class=\"data row119 col0\" >0.850000</td>\n      <td id=\"T_67716_row119_col1\" class=\"data row119 col1\" >CycleDuration.cycle_1d</td>\n      <td id=\"T_67716_row119_col2\" class=\"data row119 col2\" >60</td>\n      <td id=\"T_67716_row119_col3\" class=\"data row119 col3\" >120</td>\n      <td id=\"T_67716_row119_col4\" class=\"data row119 col4\" >500.000000</td>\n      <td id=\"T_67716_row119_col5\" class=\"data row119 col5\" >8</td>\n      <td id=\"T_67716_row119_col6\" class=\"data row119 col6\" >21.70%</td>\n      <td id=\"T_67716_row119_col7\" class=\"data row119 col7\" >-55.00%</td>\n      <td id=\"T_67716_row119_col8\" class=\"data row119 col8\" >0.730000</td>\n      <td id=\"T_67716_row119_col9\" class=\"data row119 col9\" >1.030000</td>\n      <td id=\"T_67716_row119_col10\" class=\"data row119 col10\" >20.29%</td>\n      <td id=\"T_67716_row119_col11\" class=\"data row119 col11\" >8.87%</td>\n    </tr>\n  </tbody>\n</table>\n"
     },
     "metadata": {},
     "output_type": "display_data"
    }
   ],
   "source": [
    "# Set Jupyter Notebook output mode parameters\n",
    "from tradeexecutor.backtest.notebook import setup_charting_and_output\n",
    "from tradeexecutor.analysis.grid_search import analyse_grid_search_result\n",
    "from tradeexecutor.analysis.grid_search import visualise_table\n",
    "\n",
    "setup_charting_and_output()\n",
    "\n",
    "# Print extension of our backtest\n",
    "print(f\"Grid search combinations available: {len(grid_search_results)}\")\n",
    "\n",
    "table = analyse_grid_search_result(grid_search_results)\n",
    "visualise_table(table)\n"
   ],
   "metadata": {
    "collapsed": false,
    "ExecuteTime": {
     "end_time": "2024-02-08T18:42:21.419932Z",
     "start_time": "2024-02-08T18:42:21.381521Z"
    }
   }
  },
  {
   "cell_type": "markdown",
   "source": [
    "# Heatmap\n",
    "\n",
    "- Verify that results look to cluster around certain values and do not follow a random pattern\n"
   ],
   "metadata": {
    "collapsed": false
   }
  },
  {
   "cell_type": "code",
   "execution_count": 45,
   "outputs": [
    {
     "data": {
      "application/vnd.plotly.v1+json": {
       "data": [
        {
         "coloraxis": "coloraxis",
         "name": "0",
         "x": [
          55,
          60,
          70,
          73,
          77,
          80
         ],
         "y": [
          30,
          40,
          50,
          60
         ],
         "z": [
          [
           0.6386819935457728,
           0.41259442666460666,
           0.602662968321656,
           0.5373025767182316,
           0.5362947798962778,
           0.30149389457118936
          ],
          [
           0.7542829571848346,
           0.7321478039489759,
           0.9492686323257788,
           0.6546408780039525,
           0.6389003965988718,
           0.2985916845218741
          ],
          [
           0.7919407946401482,
           0.8946893300988454,
           1.1465452102711615,
           0.878970459771063,
           0.8749972643259185,
           0.5341986521768751
          ],
          [
           0.6556245798615778,
           0.46011616755592266,
           0.5868198361077517,
           0.5118587460993524,
           0.23402939412475532,
           -0.037750651950330116
          ]
         ],
         "type": "heatmap",
         "xaxis": "x",
         "yaxis": "y",
         "hovertemplate": "rsi_high: %{x}<br>rsi_low: %{y}<br>Annualised return: %{z}<extra></extra>",
         "text": [
          [
           "63.87%",
           "41.26%",
           "60.27%",
           "53.73%",
           "53.63%",
           "30.15%"
          ],
          [
           "75.43%",
           "73.21%",
           "94.93%",
           "65.46%",
           "63.89%",
           "29.86%"
          ],
          [
           "79.19%",
           "89.47%",
           "114.65%",
           "87.90%",
           "87.50%",
           "53.42%"
          ],
          [
           "65.56%",
           "46.01%",
           "58.68%",
           "51.19%",
           "23.40%",
           "-3.78%"
          ]
         ],
         "texttemplate": "%{text}"
        }
       ],
       "layout": {
        "template": {
         "data": {
          "histogram2dcontour": [
           {
            "type": "histogram2dcontour",
            "colorbar": {
             "outlinewidth": 0,
             "ticks": ""
            },
            "colorscale": [
             [
              0.0,
              "#0d0887"
             ],
             [
              0.1111111111111111,
              "#46039f"
             ],
             [
              0.2222222222222222,
              "#7201a8"
             ],
             [
              0.3333333333333333,
              "#9c179e"
             ],
             [
              0.4444444444444444,
              "#bd3786"
             ],
             [
              0.5555555555555556,
              "#d8576b"
             ],
             [
              0.6666666666666666,
              "#ed7953"
             ],
             [
              0.7777777777777778,
              "#fb9f3a"
             ],
             [
              0.8888888888888888,
              "#fdca26"
             ],
             [
              1.0,
              "#f0f921"
             ]
            ]
           }
          ],
          "choropleth": [
           {
            "type": "choropleth",
            "colorbar": {
             "outlinewidth": 0,
             "ticks": ""
            }
           }
          ],
          "histogram2d": [
           {
            "type": "histogram2d",
            "colorbar": {
             "outlinewidth": 0,
             "ticks": ""
            },
            "colorscale": [
             [
              0.0,
              "#0d0887"
             ],
             [
              0.1111111111111111,
              "#46039f"
             ],
             [
              0.2222222222222222,
              "#7201a8"
             ],
             [
              0.3333333333333333,
              "#9c179e"
             ],
             [
              0.4444444444444444,
              "#bd3786"
             ],
             [
              0.5555555555555556,
              "#d8576b"
             ],
             [
              0.6666666666666666,
              "#ed7953"
             ],
             [
              0.7777777777777778,
              "#fb9f3a"
             ],
             [
              0.8888888888888888,
              "#fdca26"
             ],
             [
              1.0,
              "#f0f921"
             ]
            ]
           }
          ],
          "heatmap": [
           {
            "type": "heatmap",
            "colorbar": {
             "outlinewidth": 0,
             "ticks": ""
            },
            "colorscale": [
             [
              0.0,
              "#0d0887"
             ],
             [
              0.1111111111111111,
              "#46039f"
             ],
             [
              0.2222222222222222,
              "#7201a8"
             ],
             [
              0.3333333333333333,
              "#9c179e"
             ],
             [
              0.4444444444444444,
              "#bd3786"
             ],
             [
              0.5555555555555556,
              "#d8576b"
             ],
             [
              0.6666666666666666,
              "#ed7953"
             ],
             [
              0.7777777777777778,
              "#fb9f3a"
             ],
             [
              0.8888888888888888,
              "#fdca26"
             ],
             [
              1.0,
              "#f0f921"
             ]
            ]
           }
          ],
          "heatmapgl": [
           {
            "type": "heatmapgl",
            "colorbar": {
             "outlinewidth": 0,
             "ticks": ""
            },
            "colorscale": [
             [
              0.0,
              "#0d0887"
             ],
             [
              0.1111111111111111,
              "#46039f"
             ],
             [
              0.2222222222222222,
              "#7201a8"
             ],
             [
              0.3333333333333333,
              "#9c179e"
             ],
             [
              0.4444444444444444,
              "#bd3786"
             ],
             [
              0.5555555555555556,
              "#d8576b"
             ],
             [
              0.6666666666666666,
              "#ed7953"
             ],
             [
              0.7777777777777778,
              "#fb9f3a"
             ],
             [
              0.8888888888888888,
              "#fdca26"
             ],
             [
              1.0,
              "#f0f921"
             ]
            ]
           }
          ],
          "contourcarpet": [
           {
            "type": "contourcarpet",
            "colorbar": {
             "outlinewidth": 0,
             "ticks": ""
            }
           }
          ],
          "contour": [
           {
            "type": "contour",
            "colorbar": {
             "outlinewidth": 0,
             "ticks": ""
            },
            "colorscale": [
             [
              0.0,
              "#0d0887"
             ],
             [
              0.1111111111111111,
              "#46039f"
             ],
             [
              0.2222222222222222,
              "#7201a8"
             ],
             [
              0.3333333333333333,
              "#9c179e"
             ],
             [
              0.4444444444444444,
              "#bd3786"
             ],
             [
              0.5555555555555556,
              "#d8576b"
             ],
             [
              0.6666666666666666,
              "#ed7953"
             ],
             [
              0.7777777777777778,
              "#fb9f3a"
             ],
             [
              0.8888888888888888,
              "#fdca26"
             ],
             [
              1.0,
              "#f0f921"
             ]
            ]
           }
          ],
          "surface": [
           {
            "type": "surface",
            "colorbar": {
             "outlinewidth": 0,
             "ticks": ""
            },
            "colorscale": [
             [
              0.0,
              "#0d0887"
             ],
             [
              0.1111111111111111,
              "#46039f"
             ],
             [
              0.2222222222222222,
              "#7201a8"
             ],
             [
              0.3333333333333333,
              "#9c179e"
             ],
             [
              0.4444444444444444,
              "#bd3786"
             ],
             [
              0.5555555555555556,
              "#d8576b"
             ],
             [
              0.6666666666666666,
              "#ed7953"
             ],
             [
              0.7777777777777778,
              "#fb9f3a"
             ],
             [
              0.8888888888888888,
              "#fdca26"
             ],
             [
              1.0,
              "#f0f921"
             ]
            ]
           }
          ],
          "mesh3d": [
           {
            "type": "mesh3d",
            "colorbar": {
             "outlinewidth": 0,
             "ticks": ""
            }
           }
          ],
          "scatter": [
           {
            "fillpattern": {
             "fillmode": "overlay",
             "size": 10,
             "solidity": 0.2
            },
            "type": "scatter"
           }
          ],
          "parcoords": [
           {
            "type": "parcoords",
            "line": {
             "colorbar": {
              "outlinewidth": 0,
              "ticks": ""
             }
            }
           }
          ],
          "scatterpolargl": [
           {
            "type": "scatterpolargl",
            "marker": {
             "colorbar": {
              "outlinewidth": 0,
              "ticks": ""
             }
            }
           }
          ],
          "bar": [
           {
            "error_x": {
             "color": "#2a3f5f"
            },
            "error_y": {
             "color": "#2a3f5f"
            },
            "marker": {
             "line": {
              "color": "#E5ECF6",
              "width": 0.5
             },
             "pattern": {
              "fillmode": "overlay",
              "size": 10,
              "solidity": 0.2
             }
            },
            "type": "bar"
           }
          ],
          "scattergeo": [
           {
            "type": "scattergeo",
            "marker": {
             "colorbar": {
              "outlinewidth": 0,
              "ticks": ""
             }
            }
           }
          ],
          "scatterpolar": [
           {
            "type": "scatterpolar",
            "marker": {
             "colorbar": {
              "outlinewidth": 0,
              "ticks": ""
             }
            }
           }
          ],
          "histogram": [
           {
            "marker": {
             "pattern": {
              "fillmode": "overlay",
              "size": 10,
              "solidity": 0.2
             }
            },
            "type": "histogram"
           }
          ],
          "scattergl": [
           {
            "type": "scattergl",
            "marker": {
             "colorbar": {
              "outlinewidth": 0,
              "ticks": ""
             }
            }
           }
          ],
          "scatter3d": [
           {
            "type": "scatter3d",
            "line": {
             "colorbar": {
              "outlinewidth": 0,
              "ticks": ""
             }
            },
            "marker": {
             "colorbar": {
              "outlinewidth": 0,
              "ticks": ""
             }
            }
           }
          ],
          "scattermapbox": [
           {
            "type": "scattermapbox",
            "marker": {
             "colorbar": {
              "outlinewidth": 0,
              "ticks": ""
             }
            }
           }
          ],
          "scatterternary": [
           {
            "type": "scatterternary",
            "marker": {
             "colorbar": {
              "outlinewidth": 0,
              "ticks": ""
             }
            }
           }
          ],
          "scattercarpet": [
           {
            "type": "scattercarpet",
            "marker": {
             "colorbar": {
              "outlinewidth": 0,
              "ticks": ""
             }
            }
           }
          ],
          "carpet": [
           {
            "aaxis": {
             "endlinecolor": "#2a3f5f",
             "gridcolor": "white",
             "linecolor": "white",
             "minorgridcolor": "white",
             "startlinecolor": "#2a3f5f"
            },
            "baxis": {
             "endlinecolor": "#2a3f5f",
             "gridcolor": "white",
             "linecolor": "white",
             "minorgridcolor": "white",
             "startlinecolor": "#2a3f5f"
            },
            "type": "carpet"
           }
          ],
          "table": [
           {
            "cells": {
             "fill": {
              "color": "#EBF0F8"
             },
             "line": {
              "color": "white"
             }
            },
            "header": {
             "fill": {
              "color": "#C8D4E3"
             },
             "line": {
              "color": "white"
             }
            },
            "type": "table"
           }
          ],
          "barpolar": [
           {
            "marker": {
             "line": {
              "color": "#E5ECF6",
              "width": 0.5
             },
             "pattern": {
              "fillmode": "overlay",
              "size": 10,
              "solidity": 0.2
             }
            },
            "type": "barpolar"
           }
          ],
          "pie": [
           {
            "automargin": true,
            "type": "pie"
           }
          ]
         },
         "layout": {
          "autotypenumbers": "strict",
          "colorway": [
           "#636efa",
           "#EF553B",
           "#00cc96",
           "#ab63fa",
           "#FFA15A",
           "#19d3f3",
           "#FF6692",
           "#B6E880",
           "#FF97FF",
           "#FECB52"
          ],
          "font": {
           "color": "#2a3f5f"
          },
          "hovermode": "closest",
          "hoverlabel": {
           "align": "left"
          },
          "paper_bgcolor": "white",
          "plot_bgcolor": "#E5ECF6",
          "polar": {
           "bgcolor": "#E5ECF6",
           "angularaxis": {
            "gridcolor": "white",
            "linecolor": "white",
            "ticks": ""
           },
           "radialaxis": {
            "gridcolor": "white",
            "linecolor": "white",
            "ticks": ""
           }
          },
          "ternary": {
           "bgcolor": "#E5ECF6",
           "aaxis": {
            "gridcolor": "white",
            "linecolor": "white",
            "ticks": ""
           },
           "baxis": {
            "gridcolor": "white",
            "linecolor": "white",
            "ticks": ""
           },
           "caxis": {
            "gridcolor": "white",
            "linecolor": "white",
            "ticks": ""
           }
          },
          "coloraxis": {
           "colorbar": {
            "outlinewidth": 0,
            "ticks": ""
           }
          },
          "colorscale": {
           "sequential": [
            [
             0.0,
             "#0d0887"
            ],
            [
             0.1111111111111111,
             "#46039f"
            ],
            [
             0.2222222222222222,
             "#7201a8"
            ],
            [
             0.3333333333333333,
             "#9c179e"
            ],
            [
             0.4444444444444444,
             "#bd3786"
            ],
            [
             0.5555555555555556,
             "#d8576b"
            ],
            [
             0.6666666666666666,
             "#ed7953"
            ],
            [
             0.7777777777777778,
             "#fb9f3a"
            ],
            [
             0.8888888888888888,
             "#fdca26"
            ],
            [
             1.0,
             "#f0f921"
            ]
           ],
           "sequentialminus": [
            [
             0.0,
             "#0d0887"
            ],
            [
             0.1111111111111111,
             "#46039f"
            ],
            [
             0.2222222222222222,
             "#7201a8"
            ],
            [
             0.3333333333333333,
             "#9c179e"
            ],
            [
             0.4444444444444444,
             "#bd3786"
            ],
            [
             0.5555555555555556,
             "#d8576b"
            ],
            [
             0.6666666666666666,
             "#ed7953"
            ],
            [
             0.7777777777777778,
             "#fb9f3a"
            ],
            [
             0.8888888888888888,
             "#fdca26"
            ],
            [
             1.0,
             "#f0f921"
            ]
           ],
           "diverging": [
            [
             0,
             "#8e0152"
            ],
            [
             0.1,
             "#c51b7d"
            ],
            [
             0.2,
             "#de77ae"
            ],
            [
             0.3,
             "#f1b6da"
            ],
            [
             0.4,
             "#fde0ef"
            ],
            [
             0.5,
             "#f7f7f7"
            ],
            [
             0.6,
             "#e6f5d0"
            ],
            [
             0.7,
             "#b8e186"
            ],
            [
             0.8,
             "#7fbc41"
            ],
            [
             0.9,
             "#4d9221"
            ],
            [
             1,
             "#276419"
            ]
           ]
          },
          "xaxis": {
           "gridcolor": "white",
           "linecolor": "white",
           "ticks": "",
           "title": {
            "standoff": 15
           },
           "zerolinecolor": "white",
           "automargin": true,
           "zerolinewidth": 2
          },
          "yaxis": {
           "gridcolor": "white",
           "linecolor": "white",
           "ticks": "",
           "title": {
            "standoff": 15
           },
           "zerolinecolor": "white",
           "automargin": true,
           "zerolinewidth": 2
          },
          "scene": {
           "xaxis": {
            "backgroundcolor": "#E5ECF6",
            "gridcolor": "white",
            "linecolor": "white",
            "showbackground": true,
            "ticks": "",
            "zerolinecolor": "white",
            "gridwidth": 2
           },
           "yaxis": {
            "backgroundcolor": "#E5ECF6",
            "gridcolor": "white",
            "linecolor": "white",
            "showbackground": true,
            "ticks": "",
            "zerolinecolor": "white",
            "gridwidth": 2
           },
           "zaxis": {
            "backgroundcolor": "#E5ECF6",
            "gridcolor": "white",
            "linecolor": "white",
            "showbackground": true,
            "ticks": "",
            "zerolinecolor": "white",
            "gridwidth": 2
           }
          },
          "shapedefaults": {
           "line": {
            "color": "#2a3f5f"
           }
          },
          "annotationdefaults": {
           "arrowcolor": "#2a3f5f",
           "arrowhead": 0,
           "arrowwidth": 1
          },
          "geo": {
           "bgcolor": "white",
           "landcolor": "#E5ECF6",
           "subunitcolor": "white",
           "showland": true,
           "showlakes": true,
           "lakecolor": "white"
          },
          "title": {
           "x": 0.05
          },
          "mapbox": {
           "style": "light"
          }
         }
        },
        "xaxis": {
         "anchor": "y",
         "domain": [
          0.0,
          1.0
         ],
         "title": {
          "text": "rsi_high"
         }
        },
        "yaxis": {
         "anchor": "x",
         "domain": [
          0.0,
          1.0
         ],
         "autorange": "reversed",
         "title": {
          "text": "rsi_low"
         }
        },
        "coloraxis": {
         "colorbar": {
          "title": {
           "text": "Annualised return"
          }
         },
         "colorscale": [
          [
           0.0,
           "rgb(255,0,0)"
          ],
          [
           1.0,
           "rgb(0,0,255)"
          ]
         ]
        },
        "title": {
         "text": "Annualised return"
        },
        "height": 600
       },
       "config": {
        "plotlyServerURL": "https://plot.ly"
       }
      },
      "text/html": "<div>                            <div id=\"e4061aaa-9b10-4cdb-969f-86e1519ccf93\" class=\"plotly-graph-div\" style=\"height:600px; width:100%;\"></div>            <script type=\"text/javascript\">                require([\"plotly\"], function(Plotly) {                    window.PLOTLYENV=window.PLOTLYENV || {};                                    if (document.getElementById(\"e4061aaa-9b10-4cdb-969f-86e1519ccf93\")) {                    Plotly.newPlot(                        \"e4061aaa-9b10-4cdb-969f-86e1519ccf93\",                        [{\"coloraxis\":\"coloraxis\",\"name\":\"0\",\"x\":[55,60,70,73,77,80],\"y\":[30,40,50,60],\"z\":[[0.6386819935457728,0.41259442666460666,0.602662968321656,0.5373025767182316,0.5362947798962778,0.30149389457118936],[0.7542829571848346,0.7321478039489759,0.9492686323257788,0.6546408780039525,0.6389003965988718,0.2985916845218741],[0.7919407946401482,0.8946893300988454,1.1465452102711615,0.878970459771063,0.8749972643259185,0.5341986521768751],[0.6556245798615778,0.46011616755592266,0.5868198361077517,0.5118587460993524,0.23402939412475532,-0.037750651950330116]],\"type\":\"heatmap\",\"xaxis\":\"x\",\"yaxis\":\"y\",\"hovertemplate\":\"rsi_high: %{x}\\u003cbr\\u003ersi_low: %{y}\\u003cbr\\u003eAnnualised return: %{z}\\u003cextra\\u003e\\u003c\\u002fextra\\u003e\",\"text\":[[\"63.87%\",\"41.26%\",\"60.27%\",\"53.73%\",\"53.63%\",\"30.15%\"],[\"75.43%\",\"73.21%\",\"94.93%\",\"65.46%\",\"63.89%\",\"29.86%\"],[\"79.19%\",\"89.47%\",\"114.65%\",\"87.90%\",\"87.50%\",\"53.42%\"],[\"65.56%\",\"46.01%\",\"58.68%\",\"51.19%\",\"23.40%\",\"-3.78%\"]],\"texttemplate\":\"%{text}\"}],                        {\"template\":{\"data\":{\"histogram2dcontour\":[{\"type\":\"histogram2dcontour\",\"colorbar\":{\"outlinewidth\":0,\"ticks\":\"\"},\"colorscale\":[[0.0,\"#0d0887\"],[0.1111111111111111,\"#46039f\"],[0.2222222222222222,\"#7201a8\"],[0.3333333333333333,\"#9c179e\"],[0.4444444444444444,\"#bd3786\"],[0.5555555555555556,\"#d8576b\"],[0.6666666666666666,\"#ed7953\"],[0.7777777777777778,\"#fb9f3a\"],[0.8888888888888888,\"#fdca26\"],[1.0,\"#f0f921\"]]}],\"choropleth\":[{\"type\":\"choropleth\",\"colorbar\":{\"outlinewidth\":0,\"ticks\":\"\"}}],\"histogram2d\":[{\"type\":\"histogram2d\",\"colorbar\":{\"outlinewidth\":0,\"ticks\":\"\"},\"colorscale\":[[0.0,\"#0d0887\"],[0.1111111111111111,\"#46039f\"],[0.2222222222222222,\"#7201a8\"],[0.3333333333333333,\"#9c179e\"],[0.4444444444444444,\"#bd3786\"],[0.5555555555555556,\"#d8576b\"],[0.6666666666666666,\"#ed7953\"],[0.7777777777777778,\"#fb9f3a\"],[0.8888888888888888,\"#fdca26\"],[1.0,\"#f0f921\"]]}],\"heatmap\":[{\"type\":\"heatmap\",\"colorbar\":{\"outlinewidth\":0,\"ticks\":\"\"},\"colorscale\":[[0.0,\"#0d0887\"],[0.1111111111111111,\"#46039f\"],[0.2222222222222222,\"#7201a8\"],[0.3333333333333333,\"#9c179e\"],[0.4444444444444444,\"#bd3786\"],[0.5555555555555556,\"#d8576b\"],[0.6666666666666666,\"#ed7953\"],[0.7777777777777778,\"#fb9f3a\"],[0.8888888888888888,\"#fdca26\"],[1.0,\"#f0f921\"]]}],\"heatmapgl\":[{\"type\":\"heatmapgl\",\"colorbar\":{\"outlinewidth\":0,\"ticks\":\"\"},\"colorscale\":[[0.0,\"#0d0887\"],[0.1111111111111111,\"#46039f\"],[0.2222222222222222,\"#7201a8\"],[0.3333333333333333,\"#9c179e\"],[0.4444444444444444,\"#bd3786\"],[0.5555555555555556,\"#d8576b\"],[0.6666666666666666,\"#ed7953\"],[0.7777777777777778,\"#fb9f3a\"],[0.8888888888888888,\"#fdca26\"],[1.0,\"#f0f921\"]]}],\"contourcarpet\":[{\"type\":\"contourcarpet\",\"colorbar\":{\"outlinewidth\":0,\"ticks\":\"\"}}],\"contour\":[{\"type\":\"contour\",\"colorbar\":{\"outlinewidth\":0,\"ticks\":\"\"},\"colorscale\":[[0.0,\"#0d0887\"],[0.1111111111111111,\"#46039f\"],[0.2222222222222222,\"#7201a8\"],[0.3333333333333333,\"#9c179e\"],[0.4444444444444444,\"#bd3786\"],[0.5555555555555556,\"#d8576b\"],[0.6666666666666666,\"#ed7953\"],[0.7777777777777778,\"#fb9f3a\"],[0.8888888888888888,\"#fdca26\"],[1.0,\"#f0f921\"]]}],\"surface\":[{\"type\":\"surface\",\"colorbar\":{\"outlinewidth\":0,\"ticks\":\"\"},\"colorscale\":[[0.0,\"#0d0887\"],[0.1111111111111111,\"#46039f\"],[0.2222222222222222,\"#7201a8\"],[0.3333333333333333,\"#9c179e\"],[0.4444444444444444,\"#bd3786\"],[0.5555555555555556,\"#d8576b\"],[0.6666666666666666,\"#ed7953\"],[0.7777777777777778,\"#fb9f3a\"],[0.8888888888888888,\"#fdca26\"],[1.0,\"#f0f921\"]]}],\"mesh3d\":[{\"type\":\"mesh3d\",\"colorbar\":{\"outlinewidth\":0,\"ticks\":\"\"}}],\"scatter\":[{\"fillpattern\":{\"fillmode\":\"overlay\",\"size\":10,\"solidity\":0.2},\"type\":\"scatter\"}],\"parcoords\":[{\"type\":\"parcoords\",\"line\":{\"colorbar\":{\"outlinewidth\":0,\"ticks\":\"\"}}}],\"scatterpolargl\":[{\"type\":\"scatterpolargl\",\"marker\":{\"colorbar\":{\"outlinewidth\":0,\"ticks\":\"\"}}}],\"bar\":[{\"error_x\":{\"color\":\"#2a3f5f\"},\"error_y\":{\"color\":\"#2a3f5f\"},\"marker\":{\"line\":{\"color\":\"#E5ECF6\",\"width\":0.5},\"pattern\":{\"fillmode\":\"overlay\",\"size\":10,\"solidity\":0.2}},\"type\":\"bar\"}],\"scattergeo\":[{\"type\":\"scattergeo\",\"marker\":{\"colorbar\":{\"outlinewidth\":0,\"ticks\":\"\"}}}],\"scatterpolar\":[{\"type\":\"scatterpolar\",\"marker\":{\"colorbar\":{\"outlinewidth\":0,\"ticks\":\"\"}}}],\"histogram\":[{\"marker\":{\"pattern\":{\"fillmode\":\"overlay\",\"size\":10,\"solidity\":0.2}},\"type\":\"histogram\"}],\"scattergl\":[{\"type\":\"scattergl\",\"marker\":{\"colorbar\":{\"outlinewidth\":0,\"ticks\":\"\"}}}],\"scatter3d\":[{\"type\":\"scatter3d\",\"line\":{\"colorbar\":{\"outlinewidth\":0,\"ticks\":\"\"}},\"marker\":{\"colorbar\":{\"outlinewidth\":0,\"ticks\":\"\"}}}],\"scattermapbox\":[{\"type\":\"scattermapbox\",\"marker\":{\"colorbar\":{\"outlinewidth\":0,\"ticks\":\"\"}}}],\"scatterternary\":[{\"type\":\"scatterternary\",\"marker\":{\"colorbar\":{\"outlinewidth\":0,\"ticks\":\"\"}}}],\"scattercarpet\":[{\"type\":\"scattercarpet\",\"marker\":{\"colorbar\":{\"outlinewidth\":0,\"ticks\":\"\"}}}],\"carpet\":[{\"aaxis\":{\"endlinecolor\":\"#2a3f5f\",\"gridcolor\":\"white\",\"linecolor\":\"white\",\"minorgridcolor\":\"white\",\"startlinecolor\":\"#2a3f5f\"},\"baxis\":{\"endlinecolor\":\"#2a3f5f\",\"gridcolor\":\"white\",\"linecolor\":\"white\",\"minorgridcolor\":\"white\",\"startlinecolor\":\"#2a3f5f\"},\"type\":\"carpet\"}],\"table\":[{\"cells\":{\"fill\":{\"color\":\"#EBF0F8\"},\"line\":{\"color\":\"white\"}},\"header\":{\"fill\":{\"color\":\"#C8D4E3\"},\"line\":{\"color\":\"white\"}},\"type\":\"table\"}],\"barpolar\":[{\"marker\":{\"line\":{\"color\":\"#E5ECF6\",\"width\":0.5},\"pattern\":{\"fillmode\":\"overlay\",\"size\":10,\"solidity\":0.2}},\"type\":\"barpolar\"}],\"pie\":[{\"automargin\":true,\"type\":\"pie\"}]},\"layout\":{\"autotypenumbers\":\"strict\",\"colorway\":[\"#636efa\",\"#EF553B\",\"#00cc96\",\"#ab63fa\",\"#FFA15A\",\"#19d3f3\",\"#FF6692\",\"#B6E880\",\"#FF97FF\",\"#FECB52\"],\"font\":{\"color\":\"#2a3f5f\"},\"hovermode\":\"closest\",\"hoverlabel\":{\"align\":\"left\"},\"paper_bgcolor\":\"white\",\"plot_bgcolor\":\"#E5ECF6\",\"polar\":{\"bgcolor\":\"#E5ECF6\",\"angularaxis\":{\"gridcolor\":\"white\",\"linecolor\":\"white\",\"ticks\":\"\"},\"radialaxis\":{\"gridcolor\":\"white\",\"linecolor\":\"white\",\"ticks\":\"\"}},\"ternary\":{\"bgcolor\":\"#E5ECF6\",\"aaxis\":{\"gridcolor\":\"white\",\"linecolor\":\"white\",\"ticks\":\"\"},\"baxis\":{\"gridcolor\":\"white\",\"linecolor\":\"white\",\"ticks\":\"\"},\"caxis\":{\"gridcolor\":\"white\",\"linecolor\":\"white\",\"ticks\":\"\"}},\"coloraxis\":{\"colorbar\":{\"outlinewidth\":0,\"ticks\":\"\"}},\"colorscale\":{\"sequential\":[[0.0,\"#0d0887\"],[0.1111111111111111,\"#46039f\"],[0.2222222222222222,\"#7201a8\"],[0.3333333333333333,\"#9c179e\"],[0.4444444444444444,\"#bd3786\"],[0.5555555555555556,\"#d8576b\"],[0.6666666666666666,\"#ed7953\"],[0.7777777777777778,\"#fb9f3a\"],[0.8888888888888888,\"#fdca26\"],[1.0,\"#f0f921\"]],\"sequentialminus\":[[0.0,\"#0d0887\"],[0.1111111111111111,\"#46039f\"],[0.2222222222222222,\"#7201a8\"],[0.3333333333333333,\"#9c179e\"],[0.4444444444444444,\"#bd3786\"],[0.5555555555555556,\"#d8576b\"],[0.6666666666666666,\"#ed7953\"],[0.7777777777777778,\"#fb9f3a\"],[0.8888888888888888,\"#fdca26\"],[1.0,\"#f0f921\"]],\"diverging\":[[0,\"#8e0152\"],[0.1,\"#c51b7d\"],[0.2,\"#de77ae\"],[0.3,\"#f1b6da\"],[0.4,\"#fde0ef\"],[0.5,\"#f7f7f7\"],[0.6,\"#e6f5d0\"],[0.7,\"#b8e186\"],[0.8,\"#7fbc41\"],[0.9,\"#4d9221\"],[1,\"#276419\"]]},\"xaxis\":{\"gridcolor\":\"white\",\"linecolor\":\"white\",\"ticks\":\"\",\"title\":{\"standoff\":15},\"zerolinecolor\":\"white\",\"automargin\":true,\"zerolinewidth\":2},\"yaxis\":{\"gridcolor\":\"white\",\"linecolor\":\"white\",\"ticks\":\"\",\"title\":{\"standoff\":15},\"zerolinecolor\":\"white\",\"automargin\":true,\"zerolinewidth\":2},\"scene\":{\"xaxis\":{\"backgroundcolor\":\"#E5ECF6\",\"gridcolor\":\"white\",\"linecolor\":\"white\",\"showbackground\":true,\"ticks\":\"\",\"zerolinecolor\":\"white\",\"gridwidth\":2},\"yaxis\":{\"backgroundcolor\":\"#E5ECF6\",\"gridcolor\":\"white\",\"linecolor\":\"white\",\"showbackground\":true,\"ticks\":\"\",\"zerolinecolor\":\"white\",\"gridwidth\":2},\"zaxis\":{\"backgroundcolor\":\"#E5ECF6\",\"gridcolor\":\"white\",\"linecolor\":\"white\",\"showbackground\":true,\"ticks\":\"\",\"zerolinecolor\":\"white\",\"gridwidth\":2}},\"shapedefaults\":{\"line\":{\"color\":\"#2a3f5f\"}},\"annotationdefaults\":{\"arrowcolor\":\"#2a3f5f\",\"arrowhead\":0,\"arrowwidth\":1},\"geo\":{\"bgcolor\":\"white\",\"landcolor\":\"#E5ECF6\",\"subunitcolor\":\"white\",\"showland\":true,\"showlakes\":true,\"lakecolor\":\"white\"},\"title\":{\"x\":0.05},\"mapbox\":{\"style\":\"light\"}}},\"xaxis\":{\"anchor\":\"y\",\"domain\":[0.0,1.0],\"title\":{\"text\":\"rsi_high\"}},\"yaxis\":{\"anchor\":\"x\",\"domain\":[0.0,1.0],\"autorange\":\"reversed\",\"title\":{\"text\":\"rsi_low\"}},\"coloraxis\":{\"colorbar\":{\"title\":{\"text\":\"Annualised return\"}},\"colorscale\":[[0.0,\"rgb(255,0,0)\"],[1.0,\"rgb(0,0,255)\"]]},\"title\":{\"text\":\"Annualised return\"},\"height\":600},                        {\"responsive\": true}                    ).then(function(){\n                            \nvar gd = document.getElementById('e4061aaa-9b10-4cdb-969f-86e1519ccf93');\nvar x = new MutationObserver(function (mutations, observer) {{\n        var display = window.getComputedStyle(gd).display;\n        if (!display || display === 'none') {{\n            console.log([gd, 'removed!']);\n            Plotly.purge(gd);\n            observer.disconnect();\n        }}\n}});\n\n// Listen for the removal of the full notebook cells\nvar notebookContainer = gd.closest('#notebook-container');\nif (notebookContainer) {{\n    x.observe(notebookContainer, {childList: true});\n}}\n\n// Listen for the clearing of the current output cell\nvar outputEl = gd.closest('.output');\nif (outputEl) {{\n    x.observe(outputEl, {childList: true});\n}}\n\n                        })                };                });            </script>        </div>"
     },
     "metadata": {},
     "output_type": "display_data"
    }
   ],
   "source": [
    "from tradeexecutor.analysis.grid_search import visualise_heatmap_2d\n",
    "\n",
    "# Remove one extra axis by focusing only rsi_threshold=65\n",
    "heatmap_data = table.xs(9, level=\"rsi_days\")\n",
    "\n",
    "# Draw heatmaps for two different metrics\n",
    "fig = visualise_heatmap_2d(heatmap_data, \"rsi_low\", \"rsi_high\", \"Annualised return\")\n",
    "display(fig)\n"
   ],
   "metadata": {
    "collapsed": false,
    "ExecuteTime": {
     "end_time": "2024-02-08T18:42:21.445707Z",
     "start_time": "2024-02-08T18:42:21.420052Z"
    }
   }
  },
  {
   "cell_type": "code",
   "execution_count": 45,
   "outputs": [],
   "source": [],
   "metadata": {
    "collapsed": false,
    "ExecuteTime": {
     "end_time": "2024-02-08T18:42:21.447665Z",
     "start_time": "2024-02-08T18:42:21.446088Z"
    }
   }
  }
 ],
 "metadata": {
  "kernelspec": {
   "display_name": "Python 3 (ipykernel)",
   "language": "python",
   "name": "python3"
  },
  "language_info": {
   "codemirror_mode": {
    "name": "ipython",
    "version": 3
   },
   "file_extension": ".py",
   "mimetype": "text/x-python",
   "name": "python",
   "nbconvert_exporter": "python",
   "pygments_lexer": "ipython3",
   "version": "3.10.6"
  },
  "vscode": {
   "interpreter": {
    "hash": "f45fb66dacef78c495ceec56f258b06b84bd9cb2c0a9a6d3656125fb3c018996"
   }
  }
 },
 "nbformat": 4,
 "nbformat_minor": 4
}
