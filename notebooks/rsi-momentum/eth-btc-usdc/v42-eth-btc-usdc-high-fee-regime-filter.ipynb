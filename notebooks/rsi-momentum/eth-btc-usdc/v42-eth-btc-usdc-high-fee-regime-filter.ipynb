{
 "cells": [
  {
   "cell_type": "markdown",
   "metadata": {
    "collapsed": false
   },
   "source": [
    "# RSI momentum trading strategy example\n",
    "\n",
    "- This is a backtest example notebook\n",
    "    - Check high trading fee options for ETH-MATIC-USDC\n",
    "\n",
    "# Set up\n",
    "\n",
    "Set up Trading Strategy data client.\n"
   ]
  },
  {
   "cell_type": "code",
   "execution_count": null,
   "metadata": {
    "ExecuteTime": {
     "end_time": "2024-03-22T12:04:45.419123Z",
     "start_time": "2024-03-22T12:04:44.574411Z"
    },
    "collapsed": false
   },
   "outputs": [],
   "source": [
    "from tradeexecutor.utils.notebook import setup_charting_and_output\n",
    "from tradingstrategy.client import Client\n",
    "\n",
    "client = Client.create_jupyter_client()\n",
    "\n",
    "\n",
    "# Render for Github web viewer\n",
    "from tradeexecutor.utils.notebook import setup_charting_and_output, OutputMode\n",
    "\n",
    "setup_charting_and_output(OutputMode.static, image_format=\"png\", width=1500, height=1000)\n",
    "# etup_charting_and_output(width=1500, height=1000)"
   ]
  },
  {
   "cell_type": "markdown",
   "metadata": {
    "collapsed": false
   },
   "source": [
    "# Load data\n",
    "\n",
    "We use Binance data so we get a longer period of data."
   ]
  },
  {
   "cell_type": "code",
   "execution_count": null,
   "metadata": {
    "ExecuteTime": {
     "end_time": "2024-03-22T12:04:46.073734Z",
     "start_time": "2024-03-22T12:04:45.470682Z"
    },
    "collapsed": false
   },
   "outputs": [],
   "source": [
    "import datetime\n",
    "from tradingstrategy.timebucket import TimeBucket\n",
    "from tradingstrategy.chain import ChainId\n",
    "from tradeexecutor.utils.binance import create_binance_universe\n",
    "\n",
    "strategy_universe = create_binance_universe(\n",
    "    [\"BTCUSDT\", \"ETHUSDT\"],   # Binance internal tickers later mapped to Trading strategy DEXPair metadata class\n",
    "    candle_time_bucket=TimeBucket.d1,\n",
    "    stop_loss_time_bucket=TimeBucket.h1,\n",
    "    start_at=datetime.datetime(2019, 1, 1),  # Backtest for 5 years data\n",
    "    end_at=datetime.datetime(2024, 3, 15),\n",
    "    include_lending=False\n",
    ")\n",
    "\n",
    "# List of pair descriptions we used to look up pair metadata\n",
    "our_pairs = [\n",
    "    (ChainId.centralised_exchange, \"binance\", \"BTC\", \"USDT\"),\n",
    "    (ChainId.centralised_exchange, \"binance\", \"ETH\", \"USDT\"),\n",
    "]\n",
    "\n"
   ]
  },
  {
   "cell_type": "markdown",
   "metadata": {
    "collapsed": false
   },
   "source": [
    "# Show loaded trading universe\n",
    "\n",
    "Display generic troubleshooting information about the loaded data."
   ]
  },
  {
   "cell_type": "code",
   "execution_count": null,
   "metadata": {
    "ExecuteTime": {
     "end_time": "2024-03-22T12:04:46.081447Z",
     "start_time": "2024-03-22T12:04:46.076133Z"
    },
    "collapsed": false
   },
   "outputs": [],
   "source": [
    "from tradingstrategy.chain import ChainId\n",
    "\n",
    "pairs = strategy_universe.data_universe.pairs  # Trading pairs metadata\n",
    "candles = strategy_universe.data_universe.candles  # Candles for all trading pairs\n",
    "\n",
    "print(f\"Loaded {candles.get_candle_count():,} candles.\")\n",
    "\n",
    "for pair in pairs.iterate_pairs():\n",
    "    pair_candles = candles.get_candles_by_pair(pair)\n",
    "    first_close = pair_candles.iloc[0][\"close\"]\n",
    "    first_close_at = pair_candles.index[0]\n",
    "    print(f\"Pair {pair} first close price {first_close} at {first_close_at}\")\n"
   ]
  },
  {
   "cell_type": "markdown",
   "metadata": {},
   "source": [
    "# Indicators\n",
    "\n",
    "- Prepare indicators needed for the grid"
   ]
  },
  {
   "cell_type": "code",
   "execution_count": null,
   "metadata": {
    "ExecuteTime": {
     "end_time": "2024-03-22T12:04:46.216565Z",
     "start_time": "2024-03-22T12:04:46.084643Z"
    }
   },
   "outputs": [],
   "source": [
    "import pandas_ta\n",
    "import pandas as pd\n",
    "\n",
    "from tradeexecutor.strategy.execution_context import ExecutionContext\n",
    "from tradeexecutor.strategy.pandas_trader.indicator import IndicatorSet, IndicatorSource\n",
    "from tradeexecutor.strategy.parameters import StrategyParameters\n",
    "from tradeexecutor.strategy.trading_strategy_universe import TradingStrategyUniverse\n",
    "from tradingstrategy.utils.groupeduniverse import resample_price_series\n",
    "\n",
    "\n",
    "def calculate_shifted_rsi(pair_close_price_series: pd.Series, length: int, upsample: TimeBucket, shift: int):\n",
    "    resampled_close = resample_price_series(pair_close_price_series, upsample.to_pandas_timedelta(), shift=shift)\n",
    "    return pandas_ta.rsi(resampled_close, length=length)\n",
    "\n",
    "\n",
    "def calculate_shifted_eth_btc(strategy_universe: TradingStrategyUniverse, upsample: TimeBucket, shift: int):\n",
    "    \"\"\"ETH/BTC price series.\"\"\"\n",
    "    eth = strategy_universe.get_pair_by_human_description(our_pairs[0])\n",
    "    btc = strategy_universe.get_pair_by_human_description(our_pairs[1])\n",
    "    btc_price = strategy_universe.data_universe.candles.get_candles_by_pair(eth.internal_id)\n",
    "    eth_price = strategy_universe.data_universe.candles.get_candles_by_pair(btc.internal_id)\n",
    "    resampled_btc = resample_price_series(btc_price, upsample.to_pandas_timedelta(), shift=shift)\n",
    "    resampled_eth = resample_price_series(eth_price, upsample.to_pandas_timedelta(), shift=shift)\n",
    "    series = resampled_btc / resampled_eth  # Divide two series\n",
    "    return series\n",
    "\n",
    "\n",
    "def calculate_eth_btc(strategy_universe: TradingStrategyUniverse):\n",
    "    eth = strategy_universe.get_pair_by_human_description(our_pairs[0])\n",
    "    btc = strategy_universe.get_pair_by_human_description(our_pairs[1])    \n",
    "    btc_price = strategy_universe.data_universe.candles.get_candles_by_pair(eth.internal_id)\n",
    "    eth_price = strategy_universe.data_universe.candles.get_candles_by_pair(btc.internal_id)\n",
    "    series = eth_price[\"close\"] / btc_price[\"close\"]  # Divide two series\n",
    "    return series\n",
    "\n",
    "def calculate_eth_btc_rsi(strategy_universe: TradingStrategyUniverse, length: int):\n",
    "    weth_usdc = strategy_universe.get_pair_by_human_description((ChainId.ethereum, \"test-dex\", \"WETH\", \"USDC\"))\n",
    "    wbtc_usdc = strategy_universe.get_pair_by_human_description((ChainId.ethereum, \"test-dex\", \"WBTC\", \"USDC\"))\n",
    "    btc_price = strategy_universe.data_universe.candles.get_candles_by_pair(wbtc_usdc.internal_id)\n",
    "    eth_price = strategy_universe.data_universe.candles.get_candles_by_pair(weth_usdc.internal_id)\n",
    "    eth_btc = eth_price[\"close\"] / btc_price[\"close\"]\n",
    "    return pandas_ta.rsi(eth_btc, length=length)\n",
    "\n",
    "def create_indicators(\n",
    "    parameters: StrategyParameters,\n",
    "    indicators: IndicatorSet,\n",
    "    strategy_universe: TradingStrategyUniverse,\n",
    "    execution_context: ExecutionContext\n",
    "):\n",
    "    # Calculate RSI for all pairs\n",
    "    indicators.add(\"rsi\", calculate_shifted_rsi, {\"length\": parameters.rsi_bars, \"upsample\": parameters.upsample, \"shift\": parameters.shift})\n",
    "    # Custom: ETC/BTC close price\n",
    "    indicators.add(\"eth_btc\", calculate_shifted_eth_btc, {\"upsample\": parameters.upsample, \"shift\": parameters.shift}, source=IndicatorSource.strategy_universe)\n",
    "    # Custom: ETC/BTC RSI\n",
    "    # indicators.add(\"eth_btc_rsi\", calculate_eth_btc_rsi, parameters={\"length\": parameters.eth_btc_rsi_bars}, source=IndicatorSource.strategy_universe)\n"
   ]
  },
  {
   "cell_type": "markdown",
   "metadata": {
    "collapsed": false
   },
   "source": [
    "# Trading algorithm"
   ]
  },
  {
   "cell_type": "code",
   "execution_count": null,
   "metadata": {
    "ExecuteTime": {
     "end_time": "2024-03-22T12:04:47.307991Z",
     "start_time": "2024-03-22T12:04:46.223155Z"
    },
    "collapsed": false
   },
   "outputs": [],
   "source": [
    "import pandas as pd\n",
    "\n",
    "from tradeexecutor.strategy.pandas_trader.strategy_input import StrategyInput\n",
    "from tradeexecutor.strategy.weighting import weight_passthrouh\n",
    "from tradeexecutor.strategy.alpha_model import AlphaModel\n",
    "from tradeexecutor.state.visualisation import PlotKind, PlotShape, PlotLabel\n",
    "from tradeexecutor.state.trade import TradeExecution\n",
    "\n",
    "\n",
    "def decide_trades(\n",
    "    input: StrategyInput,\n",
    ") -> list[TradeExecution]:\n",
    "\n",
    "    # Resolve our pair metadata for our two pair strategy\n",
    "    parameters = input.parameters \n",
    "    position_manager = input.get_position_manager()\n",
    "    state = input.state\n",
    "    timestamp = input.timestamp\n",
    "    indicators = input.indicators\n",
    "    shift = parameters.shift\n",
    "    clock_shift = pd.Timedelta(hours=1) * shift\n",
    "\n",
    "    # Execute the daily trade cycle when the clock hour 0..24 is correct for our hourly shift\n",
    "    assert parameters.upsample.to_timedelta() >= parameters.cycle_duration.to_timedelta(), \"Upsample period must be longer than cycle period\"    \n",
    "    assert shift <= 0  # Shift -1 = do action 1 hour later\n",
    "\n",
    "    # Override the trading fee to simulate worse fees and price impact\n",
    "    if parameters.trading_fee_override is not None:\n",
    "        input.pricing_model.set_trading_fee_override(parameters.trading_fee_override)    \n",
    "\n",
    "    # Do the clock shift trick\n",
    "    if parameters.cycle_duration.to_timedelta() != parameters.upsample.to_timedelta():\n",
    "        if (input.cycle - 1 + shift) % int(parameters.upsample.to_hours()) != 0:\n",
    "            return []\n",
    "\n",
    "    alpha_model = AlphaModel(input.timestamp)\n",
    "    btc_pair = position_manager.get_trading_pair(our_pairs[0])\n",
    "    eth_pair = position_manager.get_trading_pair(our_pairs[1])\n",
    "    position_manager.log(\"decide_trades() start\")\n",
    "\n",
    "    #\n",
    "    # Indicators\n",
    "    #\n",
    "    # Calculate indicators for each pair.\n",
    "    #\n",
    "\n",
    "    # Per-trading pair calcualted data\n",
    "    current_rsi_values = {}  # RSI yesterday\n",
    "    previous_rsi_values = {}  # RSI day before yesterday\n",
    "    current_price = {}  # Close price yesterday\n",
    "    momentum = {btc_pair: 0, eth_pair: 0}\n",
    "    eth_btc_rsi_yesterday = None\n",
    "\n",
    "    for pair in [btc_pair, eth_pair]:        \n",
    "        current_price[pair] = indicators.get_price(pair)\n",
    "\n",
    "        current_rsi_values[pair] = indicators.get_indicator_value(\"rsi\", index=-1, pair=pair, clock_shift=clock_shift)\n",
    "        previous_rsi_values[pair] = indicators.get_indicator_value(\"rsi\", index=-2, pair=pair, clock_shift=clock_shift)\n",
    "\n",
    "        if shift and input.cycle > 100:\n",
    "            indicators.get_indicator_value(\"rsi\", index=-1 + shift, pair=pair, clock_shift=clock_shift)\n",
    "\n",
    "    eth_btc_yesterday = indicators.get_indicator_value(\"eth_btc\", clock_shift=clock_shift)\n",
    "    eth_btc_rsi_yesterday = indicators.get_indicator_value(\"eth_btc_rsi\", clock_shift=clock_shift)\n",
    "    if eth_btc_rsi_yesterday is not None:\n",
    "        eth_momentum = (eth_btc_rsi_yesterday / 100) + 0.5 \n",
    "        btc_momentum = (1 - (eth_btc_rsi_yesterday / 100)) + 0.5\n",
    "        momentum[eth_pair] = eth_momentum ** parameters.momentum_exponent\n",
    "        momentum[btc_pair] = btc_momentum ** parameters.momentum_exponent\n",
    "\n",
    "    #\n",
    "    # Trading logic\n",
    "    #\n",
    "\n",
    "    for pair in [btc_pair, eth_pair]:\n",
    "\n",
    "        # Each pair has its own bullish/bearish regime\n",
    "\n",
    "        price = current_price[pair] \n",
    "        sma = indicators.get_indicator_value(\"sma\", index=-1, pair=pair, clock_shift=clock_shift)\n",
    "        if price and sma:\n",
    "            bullish = price > sma\n",
    "        else:\n",
    "            bullish = True  # If no indicator data yet, be bullish\n",
    "\n",
    "        if bullish:\n",
    "            rsi_entry = parameters.bullish_rsi_entry\n",
    "            rsi_exit = parameters.bullish_rsi_exit\n",
    "        else:\n",
    "            rsi_entry = parameters.bearish_rsi_entry\n",
    "            rsi_exit = parameters.bearish_rsi_exit            \n",
    "\n",
    "        existing_position = position_manager.get_current_position_for_pair(pair)\n",
    "        pair_open = existing_position is not None\n",
    "        pair_momentum = momentum.get(pair, 0)\n",
    "        signal_strength = max(pair_momentum, 0.1)  # Singal strength must be positive, as we do long-only\n",
    "        if pd.isna(signal_strength):\n",
    "            signal_strength = 0\n",
    "        alpha_model.set_signal(pair, 0)\n",
    "\n",
    "        if pair_open:\n",
    "            # We have existing open position for this pair,\n",
    "            # keep it open by default unless we get a trigger condition below\n",
    "            position_manager.log(f\"Pair {pair} already open\")\n",
    "            alpha_model.set_signal(pair, signal_strength, stop_loss=parameters.stop_loss)\n",
    "\n",
    "        if current_rsi_values[pair] and previous_rsi_values[pair]:\n",
    "\n",
    "            # Check for RSI crossing our threshold values in this cycle, compared to the previous cycle\n",
    "            rsi_cross_above = current_rsi_values[pair] >= rsi_entry and previous_rsi_values[pair] < rsi_entry\n",
    "            rsi_cross_below = current_rsi_values[pair] < rsi_exit and previous_rsi_values[pair] > rsi_exit\n",
    "\n",
    "            if not pair_open:\n",
    "                # Check for opening a position if no position is open\n",
    "                if rsi_cross_above:\n",
    "                    position_manager.log(f\"Pair {pair} crossed above\")\n",
    "                    alpha_model.set_signal(pair, signal_strength, stop_loss=parameters.stop_loss)\n",
    "            else:\n",
    "                # We have open position, check for the close condition\n",
    "                if rsi_cross_below:\n",
    "                    position_manager.log(f\"Pair {pair} crossed below\")\n",
    "                    alpha_model.set_signal(pair, 0)\n",
    "\n",
    "    # Enable trailing stop loss if we have reached the activation level\n",
    "    if parameters.trailing_stop_loss_activation_level is not None and parameters.trailing_stop_loss is not None:\n",
    "       for p in state.portfolio.open_positions.values():\n",
    "           if p.trailing_stop_loss_pct is None:\n",
    "               if current_price[p.pair] >= p.get_opening_price() * parameters.trailing_stop_loss_activation_level:\n",
    "                   p.trailing_stop_loss_pct = parameters.trailing_stop_loss\n",
    "\n",
    "    # Use alpha model and construct a portfolio of two assets\n",
    "    alpha_model.select_top_signals(2)\n",
    "    alpha_model.assign_weights(weight_passthrouh)\n",
    "    alpha_model.normalise_weights()\n",
    "    alpha_model.update_old_weights(state.portfolio)\n",
    "    portfolio = position_manager.get_current_portfolio()\n",
    "    portfolio_target_value = portfolio.get_total_equity() * parameters.allocation\n",
    "    alpha_model.calculate_target_positions(position_manager, portfolio_target_value)\n",
    "    trades = alpha_model.generate_rebalance_trades_and_triggers(\n",
    "        position_manager,\n",
    "        min_trade_threshold=parameters.rebalance_threshold * portfolio.get_total_equity(),\n",
    "    )\n",
    "\n",
    "    #\n",
    "    # Visualisations\n",
    "    #\n",
    "\n",
    "    if input.is_visualisation_enabled():\n",
    "\n",
    "        visualisation = state.visualisation  # Helper class to visualise strategy output\n",
    "\n",
    "        # BTC RSI daily\n",
    "        if current_rsi_values[btc_pair]:\n",
    "            visualisation.plot_indicator(\n",
    "                timestamp,\n",
    "                f\"RSI BTC\",\n",
    "                PlotKind.technical_indicator_detached,\n",
    "                current_rsi_values[btc_pair],\n",
    "                colour=\"orange\",\n",
    "            )\n",
    "\n",
    "\n",
    "            # Low (vertical line)\n",
    "            visualisation.plot_indicator(\n",
    "                timestamp,\n",
    "                f\"RSI low trigger\",\n",
    "                PlotKind.technical_indicator_overlay_on_detached,\n",
    "                parameters.rsi_low,\n",
    "                detached_overlay_name=f\"RSI BTC\",\n",
    "                plot_shape=PlotShape.horizontal_vertical,\n",
    "                colour=\"red\",\n",
    "                label=PlotLabel.hidden,\n",
    "            )\n",
    "\n",
    "            # High (vertical line)\n",
    "            visualisation.plot_indicator(\n",
    "                timestamp,\n",
    "                f\"RSI high trigger\",\n",
    "                PlotKind.technical_indicator_overlay_on_detached,\n",
    "                parameters.rsi_high,\n",
    "                detached_overlay_name=f\"RSI BTC\",\n",
    "                plot_shape=PlotShape.horizontal_vertical,\n",
    "                colour=\"red\",\n",
    "                label=PlotLabel.hidden,\n",
    "            )\n",
    "\n",
    "        # ETH RSI daily\n",
    "        if current_rsi_values[eth_pair]:\n",
    "            visualisation.plot_indicator(\n",
    "                timestamp,\n",
    "                f\"RSI ETH\",\n",
    "                PlotKind.technical_indicator_overlay_on_detached,\n",
    "                current_rsi_values[eth_pair],\n",
    "                colour=\"blue\",\n",
    "                label=PlotLabel.hidden,\n",
    "                detached_overlay_name=f\"RSI BTC\",\n",
    "            )\n",
    "\n",
    "        if eth_btc_yesterday is not None:\n",
    "            visualisation.plot_indicator(\n",
    "                timestamp,\n",
    "                f\"ETH/BTC\",\n",
    "                PlotKind.technical_indicator_detached,\n",
    "                eth_btc_yesterday,\n",
    "                colour=\"grey\",\n",
    "            )\n",
    "\n",
    "        if eth_btc_rsi_yesterday is not None:\n",
    "            visualisation.plot_indicator(\n",
    "                timestamp,\n",
    "                f\"ETH/BTC RSI\",\n",
    "                PlotKind.technical_indicator_detached,\n",
    "                eth_btc_rsi_yesterday,\n",
    "                colour=\"grey\",\n",
    "            )\n",
    "\n",
    "        state.visualisation.add_calculations(timestamp, alpha_model.to_dict())  # Record alpha model thinking\n",
    "\n",
    "    position_manager.log(\n",
    "        f\"BTC RSI: {current_rsi_values[btc_pair]}, BTC RSI yesterday: {previous_rsi_values[btc_pair]}\",\n",
    "    )\n",
    "\n",
    "    return trades"
   ]
  },
  {
   "cell_type": "markdown",
   "metadata": {
    "collapsed": false
   },
   "source": [
    "# Strategy indicators\n",
    "\n",
    "- Set up indicators used to decide trades\n",
    "- Indicator data will be precalculated and cached between strategy runs \n",
    "- The actual calculation is run (if needed) later on `run_backtest_inline()` call"
   ]
  },
  {
   "cell_type": "code",
   "execution_count": null,
   "metadata": {
    "ExecuteTime": {
     "end_time": "2024-03-22T12:04:47.314900Z",
     "start_time": "2024-03-22T12:04:47.308283Z"
    },
    "collapsed": false
   },
   "outputs": [],
   "source": [
    "import pandas_ta\n",
    "\n",
    "from tradeexecutor.strategy.cycle import CycleDuration\n",
    "from tradeexecutor.strategy.execution_context import ExecutionContext\n",
    "from tradeexecutor.strategy.pandas_trader.indicator import IndicatorSet, IndicatorSource\n",
    "from tradeexecutor.strategy.parameters import StrategyParameters\n",
    "from tradeexecutor.strategy.trading_strategy_universe import TradingStrategyUniverse\n",
    "\n",
    "\n",
    "def calculate_shifted_btc_price(strategy_universe: TradingStrategyUniverse, upsample: TimeBucket, shift: int):\n",
    "    \"\"\"\"BTC price (shifted)\n",
    "\n",
    "    \"For diagnostics.\n",
    "    \"\"\"\n",
    "    btc = strategy_universe.get_pair_by_human_description(our_pairs[0])\n",
    "    btc_price = strategy_universe.data_universe.candles.get_candles_by_pair(btc.internal_id)\n",
    "    resampled_btc = resample_price_series(btc_price[\"close\"], upsample.to_pandas_timedelta(), shift=shift)\n",
    "    return resampled_btc\n",
    "\n",
    "\n",
    "def calculate_shifted_rsi(pair_close_price_series: pd.Series, length: int, upsample: TimeBucket, shift: int):\n",
    "    resampled_close = resample_price_series(pair_close_price_series, upsample.to_pandas_timedelta(), shift=shift)\n",
    "    return pandas_ta.rsi(resampled_close, length=length)\n",
    "\n",
    "\n",
    "def calculate_shifted_sma(pair_close_price_series: pd.Series, length: int, upsample: TimeBucket, shift: int):\n",
    "    resampled_close = resample_price_series(pair_close_price_series, upsample.to_pandas_timedelta(), shift=shift)\n",
    "    return pandas_ta.sma(resampled_close, length=length)\n",
    "\n",
    "\n",
    "def calculate_shifted_eth_btc(strategy_universe: TradingStrategyUniverse, upsample: TimeBucket, shift: int):\n",
    "    \"\"\"ETH/BTC price series.\"\"\"\n",
    "    btc = strategy_universe.get_pair_by_human_description(our_pairs[0])\n",
    "    eth = strategy_universe.get_pair_by_human_description(our_pairs[1])\n",
    "    btc_price = strategy_universe.data_universe.candles.get_candles_by_pair(btc.internal_id)\n",
    "    eth_price = strategy_universe.data_universe.candles.get_candles_by_pair(eth.internal_id)\n",
    "    resampled_btc = resample_price_series(btc_price[\"close\"], upsample.to_pandas_timedelta(), shift=shift)\n",
    "    resampled_eth = resample_price_series(eth_price[\"close\"], upsample.to_pandas_timedelta(), shift=shift)\n",
    "    series = resampled_eth / resampled_btc\n",
    "    return series\n",
    "\n",
    "\n",
    "def calculate_shifted_eth_btc_rsi(strategy_universe: TradingStrategyUniverse, length: int, upsample: TimeBucket, shift: int):\n",
    "     \"\"\"ETH/BTC RSI series.\"\"\"\n",
    "     etc_btc = calculate_shifted_eth_btc(strategy_universe, upsample, shift)\n",
    "     return pandas_ta.rsi(etc_btc, length=length)\n",
    "\n",
    "\n",
    "def create_indicators(\n",
    "    parameters: StrategyParameters,\n",
    "    indicators: IndicatorSet,\n",
    "    strategy_universe: TradingStrategyUniverse,\n",
    "    execution_context: ExecutionContext\n",
    "):\n",
    "    indicators.add(\"rsi\", calculate_shifted_rsi, {\"length\": parameters.rsi_bars, \"upsample\": parameters.upsample, \"shift\": parameters.shift})\n",
    "    indicators.add(\"sma\", calculate_shifted_sma, {\"length\": parameters.regime_filter_ma_length, \"upsample\": parameters.upsample, \"shift\": parameters.shift})\n",
    "    indicators.add(\"eth_btc\", calculate_shifted_eth_btc, {\"upsample\": parameters.upsample, \"shift\": parameters.shift}, source=IndicatorSource.strategy_universe)\n",
    "    indicators.add(\"eth_btc_rsi\", calculate_shifted_eth_btc_rsi, {\"upsample\": parameters.upsample, \"shift\": parameters.shift, \"length\": parameters.eth_btc_rsi_bars}, source=IndicatorSource.strategy_universe)\n",
    "    indicators.add(\"resampled_btc\", calculate_shifted_btc_price, {\"upsample\": parameters.upsample, \"shift\": parameters.shift}, source=IndicatorSource.strategy_universe)\n",
    "\n"
   ]
  },
  {
   "cell_type": "markdown",
   "metadata": {},
   "source": [
    "# Parameters\n",
    "\n",
    "- Set up strategy parameters for this backtest run"
   ]
  },
  {
   "cell_type": "code",
   "execution_count": null,
   "metadata": {
    "ExecuteTime": {
     "end_time": "2024-03-22T12:04:47.318054Z",
     "start_time": "2024-03-22T12:04:47.316356Z"
    }
   },
   "outputs": [],
   "source": [
    "class HighFeeStopLossStrategyParameters:\n",
    "    cycle_duration = CycleDuration.cycle_1d\n",
    "    rsi_bars = [5, 8, 12, 21, 30]\n",
    "    eth_btc_rsi_bars = 5\n",
    "    \n",
    "    bullish_rsi_entry = [50, 55, 60, 65, 67, 70, 75, 80]\n",
    "    bullish_rsi_exit = [50, 54, 60, 65, 67, 70, 75, 80]\n",
    "\n",
    "    bearish_rsi_entry = [50, 55, 60, 65, 67, 70, 75, 80]\n",
    "    bearish_rsi_exit = [50, 54, 60, 65, 67, 70, 75, 80]\n",
    "\n",
    "    regime_filter_ma_length = [20, 50, 100, 200] \n",
    "\n",
    "    allocation = 0.98 \n",
    "    rebalance_threshold = 0.275\n",
    "    initial_cash = 10_000 \n",
    "    trailing_stop_loss = 0.975\n",
    "    trailing_stop_loss_activation_level = 1.06\n",
    "    stop_loss = 0.85\n",
    "    shift = 0    \n",
    "    upsample = TimeBucket.d1\n",
    "    momentum_exponent = 2.5\n",
    "    trading_fee_override = 0.0030\n",
    "    "
   ]
  },
  {
   "cell_type": "markdown",
   "metadata": {
    "collapsed": false
   },
   "source": [
    "# Grid search\n",
    "\n",
    "Run the grid search."
   ]
  },
  {
   "cell_type": "code",
   "execution_count": null,
   "metadata": {
    "collapsed": false
   },
   "outputs": [],
   "source": [
    "import logging\n",
    "from tradeexecutor.cli.log import setup_notebook_logging\n",
    "from tradeexecutor.backtest.grid_search import GridCombination, get_grid_search_result_path, perform_grid_search, prepare_grid_combinations\n",
    "\n",
    "# This is the path where we keep the result files around\n",
    "storage_folder = get_grid_search_result_path(\"v42\")\n",
    "\n",
    "# Popular grid search combinations and indicators for them\n",
    "combinations = prepare_grid_combinations(\n",
    "    HighFeeStopLossStrategyParameters, \n",
    "    storage_folder,\n",
    "    create_indicators=create_indicators,\n",
    "    strategy_universe=strategy_universe,\n",
    ")\n",
    "\n",
    "indicators = GridCombination.get_all_indicators(combinations)\n",
    "\n",
    "print(f\"We prepared {len(combinations)} grid search combinations with total {len(indicators)} indicators which need to be calculated, stored in {storage_folder.resolve()}\")\n",
    "\n",
    "\n",
    "grid_search_results = perform_grid_search(\n",
    "    decide_trades,\n",
    "    strategy_universe,\n",
    "    combinations,\n",
    "    trading_strategy_engine_version=\"0.5\",\n",
    "    multiprocess=True,\n",
    ")"
   ]
  },
  {
   "cell_type": "markdown",
   "metadata": {},
   "source": [
    "# Grid search result comparison"
   ]
  },
  {
   "cell_type": "code",
   "execution_count": null,
   "metadata": {
    "ExecuteTime": {
     "end_time": "2024-03-22T12:04:56.919948Z",
     "start_time": "2024-03-22T12:04:56.643659Z"
    }
   },
   "outputs": [],
   "source": [
    "# Set Jupyter Notebook output mode parameters\n",
    "from tradeexecutor.analysis.grid_search import analyse_grid_search_result\n",
    "from tradeexecutor.analysis.grid_search import visualise_table\n",
    "\n",
    "# Print extension of our backtest\n",
    "cached_results = [r for r in grid_search_results if r.cached]\n",
    "print(f\"Grid search results available: {len(grid_search_results)}, of which we got cached {len(cached_results)} in {storage_folder}\")\n",
    "\n",
    "#table = analyse_grid_search_result(grid_search_results)\n",
    "#table = table.reset_index()\n",
    "#visualise_table(table)"
   ]
  },
  {
   "cell_type": "markdown",
   "metadata": {},
   "source": [
    "# Best CAGR and Sharpe \n",
    "\n",
    "- Check the best matches"
   ]
  },
  {
   "cell_type": "code",
   "execution_count": null,
   "metadata": {
    "ExecuteTime": {
     "start_time": "2024-03-22T12:04:56.919598Z"
    }
   },
   "outputs": [],
   "source": [
    "from tradeexecutor.analysis.grid_search import find_best_grid_search_results, render_grid_search_result_table\n",
    "\n",
    "best_results = find_best_grid_search_results(grid_search_results)\n",
    "render_grid_search_result_table(best_results.cagr)\n",
    "\n"
   ]
  },
  {
   "cell_type": "code",
   "execution_count": null,
   "metadata": {},
   "outputs": [],
   "source": [
    "render_grid_search_result_table(best_results.sharpe)"
   ]
  },
  {
   "cell_type": "code",
   "execution_count": null,
   "metadata": {},
   "outputs": [],
   "source": [
    "from tradeexecutor.analysis.grid_search import visualise_grid_search_equity_curves\n",
    "from tradeexecutor.visual.benchmark import create_benchmark_equity_curves\n",
    "\n",
    "benchmark_indexes = create_benchmark_equity_curves(\n",
    "    strategy_universe,\n",
    "    {\"BTC\": our_pairs[0], \"ETH\": our_pairs[1]},\n",
    "    initial_cash=HighFeeStopLossStrategyParameters.initial_cash,\n",
    ")\n",
    "\n",
    "# Limit number of curves to draw,\n",
    "# otherwise Plotly will crash\n",
    "#print(grid_search_results[0].metrics[\"Strategy\"])\n",
    "filtered_results = [r for r in grid_search_results if (r.metrics[\"Strategy\"][\"Max Drawdown\"] > -0.25 and r.metrics[\"Strategy\"][\"CAGR﹪\"] > 0.70)]\n",
    "print(f\"We have {len(filtered_results)} filtered results\")\n",
    "\n",
    "fig = visualise_grid_search_equity_curves(\n",
    "    grid_search_results,\n",
    "    name=\"High fee, 8h, stop loss with corrected momentum factor grid search\",\n",
    "    benchmark_indexes=benchmark_indexes,\n",
    "    log_y=True,\n",
    ")\n",
    "fig.show()"
   ]
  }
 ],
 "metadata": {
  "kernelspec": {
   "display_name": "Python 3 (ipykernel)",
   "language": "python",
   "name": "python3"
  },
  "language_info": {
   "codemirror_mode": {
    "name": "ipython",
    "version": 3
   },
   "file_extension": ".py",
   "mimetype": "text/x-python",
   "name": "python",
   "nbconvert_exporter": "python",
   "pygments_lexer": "ipython3",
   "version": "3.10.13"
  },
  "vscode": {
   "interpreter": {
    "hash": "f45fb66dacef78c495ceec56f258b06b84bd9cb2c0a9a6d3656125fb3c018996"
   }
  }
 },
 "nbformat": 4,
 "nbformat_minor": 4
}
