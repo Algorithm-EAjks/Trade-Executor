{
 "cells": [
  {
   "cell_type": "markdown",
   "metadata": {
    "collapsed": false
   },
   "source": [
    "# RSI momentum trading strategy example\n",
    "\n",
    "- This is a backtest example notebook\n",
    "    - Grid search over the hotspot \n",
    "\n",
    "# Set up\n",
    "\n",
    "Set up Trading Strategy data client.\n"
   ]
  },
  {
   "cell_type": "code",
   "execution_count": 1,
   "metadata": {
    "ExecuteTime": {
     "end_time": "2024-02-12T13:25:18.991903Z",
     "start_time": "2024-02-12T13:25:17.416556Z"
    },
    "collapsed": false
   },
   "outputs": [
    {
     "name": "stdout",
     "output_type": "stream",
     "text": [
      "Started Trading Strategy in Jupyter notebook environment, configuration is stored in /Users/moo/.tradingstrategy\n"
     ]
    }
   ],
   "source": [
    "from tradeexecutor.utils.notebook import setup_charting_and_output\n",
    "from tradingstrategy.client import Client\n",
    "\n",
    "client = Client.create_jupyter_client()\n",
    "\n",
    "# Render for Github web viewer\n",
    "from tradeexecutor.utils.notebook import setup_charting_and_output, OutputMode\n",
    "\n",
    "# setup_charting_and_output(OutputMode.static, image_format=\"png\", width=1500, height=1000)\n",
    "setup_charting_and_output(width=1500, height=1000)"
   ]
  },
  {
   "cell_type": "markdown",
   "metadata": {
    "collapsed": false
   },
   "source": [
    "# Load data\n",
    "\n",
    "We use Binance data so we get a longer period of data."
   ]
  },
  {
   "cell_type": "code",
   "execution_count": 2,
   "metadata": {
    "ExecuteTime": {
     "end_time": "2024-02-12T13:25:19.757698Z",
     "start_time": "2024-02-12T13:25:18.990973Z"
    },
    "collapsed": false
   },
   "outputs": [
    {
     "data": {
      "application/vnd.jupyter.widget-view+json": {
       "model_id": "c477ecda0e2c465589e262159418a423",
       "version_major": 2,
       "version_minor": 0
      },
      "text/plain": [
       "  0%|          | 0/2 [00:00<?, ?it/s]"
      ]
     },
     "metadata": {},
     "output_type": "display_data"
    }
   ],
   "source": [
    "import datetime\n",
    "from tradingstrategy.timebucket import TimeBucket\n",
    "from tradeexecutor.utils.binance import create_binance_universe\n",
    "\n",
    "strategy_universe = create_binance_universe(\n",
    "    [\"BTCUSDT\", \"ETHUSDT\"],   # Binance internal tickers later mapped to Trading strategy DEXPair metadata class\n",
    "    candle_time_bucket=TimeBucket.h8,\n",
    "    stop_loss_time_bucket=TimeBucket.h1,\n",
    "    start_at=datetime.datetime(2019, 1, 1),  # Backtest for 5 years data\n",
    "    end_at=datetime.datetime(2024, 2, 15),\n",
    "    include_lending=False\n",
    ")\n"
   ]
  },
  {
   "cell_type": "markdown",
   "metadata": {
    "collapsed": false
   },
   "source": [
    "# Show loaded trading universe\n",
    "\n",
    "Display generic troubleshooting information about the loaded data."
   ]
  },
  {
   "cell_type": "code",
   "execution_count": 3,
   "metadata": {
    "ExecuteTime": {
     "end_time": "2024-02-12T13:25:19.765203Z",
     "start_time": "2024-02-12T13:25:19.760202Z"
    },
    "collapsed": false
   },
   "outputs": [
    {
     "name": "stdout",
     "output_type": "stream",
     "text": [
      "Loaded 10,958 candles.\n",
      "Pair <Pair #1 BTC - USDT at exchange binance> first close price 3713.83 at 2019-01-01 00:00:00\n",
      "Pair <Pair #2 ETH - USDT at exchange binance> first close price 133.56 at 2019-01-01 00:00:00\n"
     ]
    }
   ],
   "source": [
    "pairs = strategy_universe.data_universe.pairs  # Trading pairs metadata\n",
    "candles = strategy_universe.data_universe.candles  # Candles for all trading pairs\n",
    "\n",
    "print(f\"Loaded {candles.get_candle_count():,} candles.\")\n",
    "\n",
    "for pair in pairs.iterate_pairs():\n",
    "    pair_candles = candles.get_candles_by_pair(pair)\n",
    "    first_close = pair_candles.iloc[0][\"close\"]\n",
    "    first_close_at = pair_candles.index[0]\n",
    "    print(f\"Pair {pair} first close price {first_close} at {first_close_at}\")"
   ]
  },
  {
   "cell_type": "markdown",
   "metadata": {
    "collapsed": false
   },
   "source": [
    "# Trading algorithm"
   ]
  },
  {
   "cell_type": "code",
   "execution_count": 4,
   "metadata": {},
   "outputs": [
    {
     "name": "stderr",
     "output_type": "stream",
     "text": [
      "/Users/moo/Library/Caches/pypoetry/virtualenvs/trade-executor-8Oz1GdY1-py3.10/lib/python3.10/site-packages/yfinance/base.py:48: FutureWarning: The default dtype for empty Series will be 'object' instead of 'float64' in a future version. Specify a dtype explicitly to silence this warning.\n",
      "  _empty_series = pd.Series()\n"
     ]
    }
   ],
   "source": [
    "from tradeexecutor.strategy.parameters import StrategyParameters\n",
    "from tradeexecutor.strategy.weighting import weight_equal, weight_by_1_slash_n, weight_passthrouh\n",
    "from tradeexecutor.strategy.alpha_model import AlphaModel\n",
    "import numpy as np\n",
    "from tradeexecutor.strategy.pandas_trader.position_manager import PositionManager\n",
    "from tradingstrategy.chain import ChainId\n",
    "from typing import List, Dict\n",
    "\n",
    "from pandas_ta.momentum import rsi\n",
    "import pandas as pd\n",
    "\n",
    "from tradeexecutor.strategy.trading_strategy_universe import TradingStrategyUniverse\n",
    "from tradeexecutor.state.visualisation import PlotKind, PlotShape, PlotLabel\n",
    "from tradeexecutor.state.trade import TradeExecution\n",
    "from tradeexecutor.strategy.pricing_model import PricingModel\n",
    "from tradeexecutor.state.state import State\n",
    "\n",
    "# List of pair descriptions we used to look up pair metadata\n",
    "our_pairs = [\n",
    "    (ChainId.centralised_exchange, \"binance\", \"BTC\", \"USDT\"),\n",
    "    (ChainId.centralised_exchange, \"binance\", \"ETH\", \"USDT\"),\n",
    "]\n",
    "\n",
    "def decide_trades(\n",
    "    timestamp: pd.Timestamp,\n",
    "    parameters: StrategyParameters,\n",
    "    strategy_universe: TradingStrategyUniverse,\n",
    "    state: State,\n",
    "    pricing_model: PricingModel,\n",
    ") -> List[TradeExecution]:\n",
    "\n",
    "    # Resolve our pair metadata for our two pair strategy\n",
    "    position_manager = PositionManager(timestamp, strategy_universe, state, pricing_model)\n",
    "    alpha_model = AlphaModel(timestamp)\n",
    "    btc_pair = position_manager.get_trading_pair(our_pairs[0])\n",
    "    eth_pair = position_manager.get_trading_pair(our_pairs[1])\n",
    "\n",
    "    position_manager.log(\"decide_trades() start\")\n",
    "\n",
    "    #\n",
    "    # Indicators\n",
    "    #\n",
    "    # Calculate indicators for each pair.\n",
    "    #\n",
    "\n",
    "    # Per-trading pair calcualted data\n",
    "    close_prices = {btc_pair: None, eth_pair: None}  # Recent close prices\n",
    "    current_rsi_values = {}  # RSI yesterday\n",
    "    previous_rsi_values = {}  # RSI day before yesterday\n",
    "    current_price = {}  # Close price yesterday\n",
    "    momentum = {btc_pair: 0, eth_pair: 0}\n",
    "    eth_btc_rsi_yesterday = None\n",
    "\n",
    "    for pair in [btc_pair, eth_pair]:\n",
    "\n",
    "        pair_candles = candles.get_last_entries_by_pair_and_timestamp(pair.internal_id, timestamp)\n",
    "        close_prices[pair] = pair_candles[\"close\"]\n",
    "\n",
    "        assert pair_candles is not None\n",
    "        rsi_series = rsi(pair_candles[\"close\"], length=parameters.rsi_bars)  # Will return None if the data buffer does not have enough days to look back\n",
    "\n",
    "        # Reset indicators for this cycle and this pair\n",
    "        current_rsi_values[pair] = None\n",
    "        previous_rsi_values[pair] = None\n",
    "        current_price[pair] = None\n",
    "        price_today = None\n",
    "\n",
    "        if len(pair_candles) > 0:\n",
    "            # We have enough data to get the latest price\n",
    "            current_price[pair] = price_today = pair_candles[\"close\"][-1]\n",
    "\n",
    "        if rsi_series is not None:\n",
    "            current_val = rsi_series[-1]\n",
    "            if np.isfinite(current_val):\n",
    "                # We have enough data and good value for RSI\n",
    "                assert 0 < current_val < 100, f\"RSI sanity check failed: {pair}: {current_val}\"  # Check we are in expected range\n",
    "                current_rsi_values[pair] = current_val\n",
    "\n",
    "            previous_val = rsi_series[-2]\n",
    "            if np.isfinite(previous_val):\n",
    "                # We have enough data and good value for RSI\n",
    "                assert 0 < previous_val < 100, f\"RSI sanity check failed: {pair}: {previous_val}\"  # Check we are in expected range\n",
    "                previous_rsi_values[pair] = previous_val\n",
    "\n",
    "            previous_rsi_values[pair] = previous_val\n",
    "\n",
    "    eth_btc_price = close_prices[eth_pair] / close_prices[btc_pair]\n",
    "    eth_btc_rsi = rsi(eth_btc_price, length=parameters.eth_btc_rsi_bars)\n",
    "    if eth_btc_rsi is not None:\n",
    "        # We scale the signal x^3 here to see some more notable effect in the results\n",
    "        eth_btc_rsi_yesterday = eth_btc_rsi[-1]\n",
    "        momentum[eth_pair] = (eth_btc_rsi_yesterday - 50) ** 3\n",
    "        momentum[btc_pair] = (50 - momentum[eth_pair]) ** 3\n",
    "    #\n",
    "    # Trading logic\n",
    "    #\n",
    "\n",
    "    for pair in [btc_pair, eth_pair]:\n",
    "\n",
    "        existing_position = position_manager.get_current_position_for_pair(pair)\n",
    "        pair_open = existing_position is not None\n",
    "        pair_momentum = momentum.get(pair, 0)\n",
    "        signal_strength = max(pair_momentum, 0.1)  # Singal strength must be positive, as we do long-only\n",
    "        if pd.isna(signal_strength):\n",
    "            signal_strength = 0\n",
    "        alpha_model.set_signal(pair, 0)\n",
    "\n",
    "        if pair_open:\n",
    "            # We have existing open position for this pair,\n",
    "            # keep it open by default unless we get a trigger condition below\n",
    "            position_manager.log(f\"Pair {pair} already open\")\n",
    "            alpha_model.set_signal(pair, signal_strength, trailing_stop_loss=parameters.trailing_stop_loss)\n",
    "\n",
    "        if current_rsi_values[pair] and previous_rsi_values[pair]:\n",
    "\n",
    "            # Check for RSI crossing our threshold values in this cycle, compared to the previous cycle\n",
    "            rsi_cross_above = current_rsi_values[pair] >= parameters.rsi_high and previous_rsi_values[pair] < parameters.rsi_high\n",
    "            rsi_cross_below = current_rsi_values[pair] < parameters.rsi_low and previous_rsi_values[pair] > parameters.rsi_low\n",
    "\n",
    "            if not pair_open:\n",
    "                # Check for opening a position if no position is open\n",
    "                if rsi_cross_above:\n",
    "                    position_manager.log(f\"Pair {pair} crossed above\")\n",
    "                    alpha_model.set_signal(pair, signal_strength, trailing_stop_loss=parameters.trailing_stop_loss)\n",
    "            else:\n",
    "                # We have open position, check for the closure condition\n",
    "                if rsi_cross_below:\n",
    "                    position_manager.log(f\"Pair {pair} crossed below\")\n",
    "                    alpha_model.set_signal(pair, 0)\n",
    "\n",
    "    # Equally weight for all assets that\n",
    "    alpha_model.select_top_signals(2)\n",
    "    alpha_model.assign_weights(weight_passthrouh)\n",
    "    alpha_model.normalise_weights()\n",
    "    alpha_model.update_old_weights(state.portfolio)\n",
    "    portfolio = position_manager.get_current_portfolio()\n",
    "    portfolio_target_value = portfolio.get_total_equity() * parameters.allocation\n",
    "    alpha_model.calculate_target_positions(position_manager, portfolio_target_value)\n",
    "    trades = alpha_model.generate_rebalance_trades_and_triggers(\n",
    "        position_manager,\n",
    "        min_trade_threshold=parameters.minimum_rebalance_trade_percent * portfolio.get_total_equity(),\n",
    "    )\n",
    "\n",
    "    #\n",
    "    # Visualisations\n",
    "    #\n",
    "\n",
    "    visualisation = state.visualisation  # Helper class to visualise strategy output\n",
    "\n",
    "    visualisation.plot_indicator(\n",
    "        timestamp,\n",
    "        f\"ETH\",\n",
    "        PlotKind.technical_indicator_detached,\n",
    "        current_price[eth_pair],\n",
    "        colour=\"blue\",\n",
    "    )\n",
    "\n",
    "    # Draw BTC + ETH RSI between its trigger zones for this pair of we got a valid value for RSI for this pair\n",
    "\n",
    "    # BTC RSI daily\n",
    "    visualisation.plot_indicator(\n",
    "        timestamp,\n",
    "        f\"RSI\",\n",
    "        PlotKind.technical_indicator_detached,\n",
    "        current_rsi_values[btc_pair],\n",
    "        colour=\"orange\",\n",
    "    )\n",
    "\n",
    "    # ETH RSI daily\n",
    "    visualisation.plot_indicator(\n",
    "        timestamp,\n",
    "        f\"RSI ETH\",\n",
    "        PlotKind.technical_indicator_overlay_on_detached,\n",
    "        current_rsi_values[eth_pair],\n",
    "        colour=\"blue\",\n",
    "        label=PlotLabel.hidden,\n",
    "        detached_overlay_name=f\"RSI\",\n",
    "    )\n",
    "\n",
    "    # Low (vertical line)\n",
    "    visualisation.plot_indicator(\n",
    "        timestamp,\n",
    "        f\"RSI low trigger\",\n",
    "        PlotKind.technical_indicator_overlay_on_detached,\n",
    "        parameters.rsi_low,\n",
    "        detached_overlay_name=f\"RSI\",\n",
    "        plot_shape=PlotShape.horizontal_vertical,\n",
    "        colour=\"red\",\n",
    "        label=PlotLabel.hidden,\n",
    "    )\n",
    "\n",
    "    # High (vertical line)\n",
    "    visualisation.plot_indicator(\n",
    "        timestamp,\n",
    "        f\"RSI high trigger\",\n",
    "        PlotKind.technical_indicator_overlay_on_detached,\n",
    "        parameters.rsi_high,\n",
    "        detached_overlay_name=f\"RSI\",\n",
    "        plot_shape=PlotShape.horizontal_vertical,\n",
    "        colour=\"red\",\n",
    "        label=PlotLabel.hidden,\n",
    "    )\n",
    "\n",
    "    if eth_btc_rsi_yesterday is not None:\n",
    "\n",
    "        visualisation.plot_indicator(\n",
    "            timestamp,\n",
    "            f\"ETH/BTC\",\n",
    "            PlotKind.technical_indicator_detached,\n",
    "            eth_btc_price[-1],\n",
    "            colour=\"grey\",\n",
    "        )\n",
    "\n",
    "        if pd.notna(eth_btc_rsi_yesterday):\n",
    "            visualisation.plot_indicator(\n",
    "                timestamp,\n",
    "                f\"ETH/BTC RSI\",\n",
    "                PlotKind.technical_indicator_detached,\n",
    "                eth_btc_rsi_yesterday,\n",
    "                colour=\"grey\",\n",
    "            )\n",
    "\n",
    "    state.visualisation.add_calculations(timestamp, alpha_model.to_dict())  # Record alpha model thinking\n",
    "\n",
    "    return trades"
   ]
  },
  {
   "cell_type": "markdown",
   "metadata": {
    "collapsed": false
   },
   "source": [
    "# Search space\n",
    "\n",
    "Prepare the parameters we search."
   ]
  },
  {
   "cell_type": "code",
   "execution_count": 5,
   "metadata": {
    "ExecuteTime": {
     "end_time": "2024-02-12T13:25:21.725394Z",
     "start_time": "2024-02-12T13:25:21.542713Z"
    },
    "collapsed": false
   },
   "outputs": [
    {
     "name": "stdout",
     "output_type": "stream",
     "text": [
      "We prepared 18 grid search combinations\n"
     ]
    }
   ],
   "source": [
    "from tradeexecutor.strategy.cycle import CycleDuration\n",
    "from pathlib import Path\n",
    "from tradeexecutor.backtest.grid_search import prepare_grid_combinations\n",
    "\n",
    "# This is the path where we keep the result files around\n",
    "storage_folder = Path(\"/tmp/v13-small-timeframe\")\n",
    "\n",
    "class StrategyParameters:\n",
    "    cycle_duration = CycleDuration.cycle_8h\n",
    "    rsi_bars = [11, 12, 13]  # The length of RSI indicator\n",
    "    eth_btc_rsi_bars = [5, 10, 15]  # The length of ETH/BTC RSI\n",
    "    rsi_high = [67] # RSI trigger threshold for decision making\n",
    "    rsi_low = [60]  # RSI trigger threshold for decision making\n",
    "    allocation = 0.98 # Allocate 90% of cash to each position\n",
    "    lookback_candles = 120\n",
    "    minimum_rebalance_trade_percent = 0.10  # Don't do trades that would have less than 10% impact on the portfolio\n",
    "    initial_cash = 10_000 # Start with 10k USD\n",
    "    trailing_stop_loss = [None, 0.85]\n",
    "\n",
    "\n",
    "combinations = prepare_grid_combinations(StrategyParameters, storage_folder)\n",
    "print(f\"We prepared {len(combinations)} grid search combinations\")"
   ]
  },
  {
   "cell_type": "markdown",
   "metadata": {
    "collapsed": false
   },
   "source": [
    "# Grid search\n",
    "\n",
    "Run a grid search on the above function."
   ]
  },
  {
   "cell_type": "code",
   "execution_count": 6,
   "metadata": {
    "ExecuteTime": {
     "end_time": "2024-02-12T13:25:56.691766Z",
     "start_time": "2024-02-12T13:25:21.726037Z"
    },
    "collapsed": false
   },
   "outputs": [
    {
     "name": "stdout",
     "output_type": "stream",
     "text": [
      "No cached grid search results found from previous runs\n"
     ]
    },
    {
     "data": {
      "application/vnd.jupyter.widget-view+json": {
       "model_id": "2f599146816344deb1565544448644e4",
       "version_major": 2,
       "version_minor": 0
      },
      "text/plain": [
       "Grid searching using 8 processes: eth_btc_rsi_bars, rsi_bars, trailing_stop_loss:   0%|          | 0/18 [00:00…"
      ]
     },
     "metadata": {},
     "output_type": "display_data"
    },
    {
     "name": "stderr",
     "output_type": "stream",
     "text": [
      "/Users/moo/Library/Caches/pypoetry/virtualenvs/trade-executor-8Oz1GdY1-py3.10/lib/python3.10/site-packages/yfinance/base.py:48: FutureWarning: The default dtype for empty Series will be 'object' instead of 'float64' in a future version. Specify a dtype explicitly to silence this warning.\n",
      "  _empty_series = pd.Series()\n",
      "/Users/moo/Library/Caches/pypoetry/virtualenvs/trade-executor-8Oz1GdY1-py3.10/lib/python3.10/site-packages/yfinance/base.py:48: FutureWarning: The default dtype for empty Series will be 'object' instead of 'float64' in a future version. Specify a dtype explicitly to silence this warning.\n",
      "  _empty_series = pd.Series()\n",
      "/Users/moo/Library/Caches/pypoetry/virtualenvs/trade-executor-8Oz1GdY1-py3.10/lib/python3.10/site-packages/yfinance/base.py:48: FutureWarning: The default dtype for empty Series will be 'object' instead of 'float64' in a future version. Specify a dtype explicitly to silence this warning.\n",
      "  _empty_series = pd.Series()\n",
      "/Users/moo/Library/Caches/pypoetry/virtualenvs/trade-executor-8Oz1GdY1-py3.10/lib/python3.10/site-packages/yfinance/base.py:48: FutureWarning: The default dtype for empty Series will be 'object' instead of 'float64' in a future version. Specify a dtype explicitly to silence this warning.\n",
      "  _empty_series = pd.Series()\n",
      "/Users/moo/Library/Caches/pypoetry/virtualenvs/trade-executor-8Oz1GdY1-py3.10/lib/python3.10/site-packages/yfinance/base.py:48: FutureWarning: The default dtype for empty Series will be 'object' instead of 'float64' in a future version. Specify a dtype explicitly to silence this warning.\n",
      "  _empty_series = pd.Series()\n",
      "/Users/moo/Library/Caches/pypoetry/virtualenvs/trade-executor-8Oz1GdY1-py3.10/lib/python3.10/site-packages/yfinance/base.py:48: FutureWarning: The default dtype for empty Series will be 'object' instead of 'float64' in a future version. Specify a dtype explicitly to silence this warning.\n",
      "  _empty_series = pd.Series()\n",
      "/Users/moo/Library/Caches/pypoetry/virtualenvs/trade-executor-8Oz1GdY1-py3.10/lib/python3.10/site-packages/yfinance/base.py:48: FutureWarning: The default dtype for empty Series will be 'object' instead of 'float64' in a future version. Specify a dtype explicitly to silence this warning.\n",
      "  _empty_series = pd.Series()\n",
      "/Users/moo/Library/Caches/pypoetry/virtualenvs/trade-executor-8Oz1GdY1-py3.10/lib/python3.10/site-packages/yfinance/base.py:48: FutureWarning: The default dtype for empty Series will be 'object' instead of 'float64' in a future version. Specify a dtype explicitly to silence this warning.\n",
      "  _empty_series = pd.Series()\n"
     ]
    }
   ],
   "source": [
    "from tradeexecutor.backtest.grid_search import perform_grid_search\n",
    "\n",
    "grid_search_results = perform_grid_search(\n",
    "    decide_trades,\n",
    "    strategy_universe,\n",
    "    combinations,\n",
    "    max_workers=8,\n",
    "    trading_strategy_engine_version=\"0.4\",\n",
    "    multiprocess=True,\n",
    ")\n"
   ]
  },
  {
   "cell_type": "markdown",
   "metadata": {
    "collapsed": false
   },
   "source": [
    "# Grid search result table\n",
    "\n",
    "- Show individual profit and risk for each grid combination"
   ]
  },
  {
   "cell_type": "code",
   "execution_count": 7,
   "metadata": {
    "ExecuteTime": {
     "end_time": "2024-02-12T13:25:56.853534Z",
     "start_time": "2024-02-12T13:25:56.693518Z"
    },
    "collapsed": false
   },
   "outputs": [
    {
     "name": "stdout",
     "output_type": "stream",
     "text": [
      "Grid search combinations available: 18\n"
     ]
    },
    {
     "data": {
      "text/html": [
       "<style type=\"text/css\">\n",
       "#T_876c3_row0_col0, #T_876c3_row0_col1, #T_876c3_row1_col0, #T_876c3_row1_col1, #T_876c3_row2_col0, #T_876c3_row2_col1, #T_876c3_row3_col0, #T_876c3_row3_col1, #T_876c3_row4_col0, #T_876c3_row4_col1, #T_876c3_row5_col0, #T_876c3_row5_col1, #T_876c3_row6_col0, #T_876c3_row6_col1, #T_876c3_row7_col0, #T_876c3_row7_col1, #T_876c3_row8_col0, #T_876c3_row8_col1, #T_876c3_row9_col0, #T_876c3_row9_col1, #T_876c3_row10_col0, #T_876c3_row10_col1, #T_876c3_row11_col0, #T_876c3_row11_col1, #T_876c3_row12_col0, #T_876c3_row12_col1, #T_876c3_row13_col0, #T_876c3_row13_col1, #T_876c3_row14_col0, #T_876c3_row14_col1, #T_876c3_row15_col0, #T_876c3_row15_col1, #T_876c3_row16_col0, #T_876c3_row16_col1, #T_876c3_row17_col0, #T_876c3_row17_col1 {\n",
       "  background-color: #333;\n",
       "}\n",
       "#T_876c3_row0_col2, #T_876c3_row4_col6 {\n",
       "  background-color: #056fae;\n",
       "  color: #f1f1f1;\n",
       "}\n",
       "#T_876c3_row0_col3, #T_876c3_row6_col3 {\n",
       "  background-color: #d1d2e6;\n",
       "  color: #000000;\n",
       "}\n",
       "#T_876c3_row0_col4 {\n",
       "  background-color: #0569a4;\n",
       "  color: #f1f1f1;\n",
       "}\n",
       "#T_876c3_row0_col5 {\n",
       "  background-color: #0771b1;\n",
       "  color: #f1f1f1;\n",
       "}\n",
       "#T_876c3_row0_col6 {\n",
       "  background-color: #cdd0e5;\n",
       "  color: #000000;\n",
       "}\n",
       "#T_876c3_row0_col7, #T_876c3_row1_col7 {\n",
       "  background-color: #81aed2;\n",
       "  color: #f1f1f1;\n",
       "}\n",
       "#T_876c3_row1_col2 {\n",
       "  background-color: #197db7;\n",
       "  color: #f1f1f1;\n",
       "}\n",
       "#T_876c3_row1_col3, #T_876c3_row3_col7, #T_876c3_row7_col3, #T_876c3_row13_col2, #T_876c3_row13_col4, #T_876c3_row13_col5, #T_876c3_row13_col6 {\n",
       "  background-color: #fff7fb;\n",
       "  color: #000000;\n",
       "  background-color: pink;\n",
       "}\n",
       "#T_876c3_row1_col4, #T_876c3_row4_col4, #T_876c3_row10_col4 {\n",
       "  background-color: #157ab5;\n",
       "  color: #f1f1f1;\n",
       "}\n",
       "#T_876c3_row1_col5, #T_876c3_row3_col3, #T_876c3_row9_col3 {\n",
       "  background-color: #358fc0;\n",
       "  color: #f1f1f1;\n",
       "}\n",
       "#T_876c3_row1_col6, #T_876c3_row4_col7, #T_876c3_row5_col7 {\n",
       "  background-color: #d4d4e8;\n",
       "  color: #000000;\n",
       "}\n",
       "#T_876c3_row2_col2, #T_876c3_row2_col4, #T_876c3_row2_col5, #T_876c3_row10_col6, #T_876c3_row14_col3, #T_876c3_row16_col7 {\n",
       "  background-color: #023858;\n",
       "  color: #f1f1f1;\n",
       "  background-color: darkgreen;\n",
       "}\n",
       "#T_876c3_row2_col3, #T_876c3_row8_col3 {\n",
       "  background-color: #045a8d;\n",
       "  color: #f1f1f1;\n",
       "}\n",
       "#T_876c3_row2_col6, #T_876c3_row10_col2 {\n",
       "  background-color: #2383ba;\n",
       "  color: #f1f1f1;\n",
       "}\n",
       "#T_876c3_row2_col7 {\n",
       "  background-color: #fff7fb;\n",
       "  color: #000000;\n",
       "}\n",
       "#T_876c3_row3_col2, #T_876c3_row10_col7, #T_876c3_row11_col7 {\n",
       "  background-color: #045e94;\n",
       "  color: #f1f1f1;\n",
       "}\n",
       "#T_876c3_row3_col4 {\n",
       "  background-color: #046198;\n",
       "  color: #f1f1f1;\n",
       "}\n",
       "#T_876c3_row3_col5 {\n",
       "  background-color: #056aa6;\n",
       "  color: #f1f1f1;\n",
       "}\n",
       "#T_876c3_row3_col6 {\n",
       "  background-color: #4094c3;\n",
       "  color: #f1f1f1;\n",
       "}\n",
       "#T_876c3_row4_col2 {\n",
       "  background-color: #3b92c1;\n",
       "  color: #f1f1f1;\n",
       "}\n",
       "#T_876c3_row4_col3, #T_876c3_row8_col4, #T_876c3_row10_col3, #T_876c3_row15_col3, #T_876c3_row16_col3 {\n",
       "  background-color: #0570b0;\n",
       "  color: #f1f1f1;\n",
       "}\n",
       "#T_876c3_row4_col5, #T_876c3_row10_col5, #T_876c3_row17_col6 {\n",
       "  background-color: #167bb6;\n",
       "  color: #f1f1f1;\n",
       "}\n",
       "#T_876c3_row5_col2 {\n",
       "  background-color: #7eadd1;\n",
       "  color: #f1f1f1;\n",
       "}\n",
       "#T_876c3_row5_col3, #T_876c3_row11_col3, #T_876c3_row12_col3 {\n",
       "  background-color: #a7bddb;\n",
       "  color: #000000;\n",
       "}\n",
       "#T_876c3_row5_col4, #T_876c3_row11_col4, #T_876c3_row14_col4, #T_876c3_row17_col3 {\n",
       "  background-color: #75a9cf;\n",
       "  color: #f1f1f1;\n",
       "}\n",
       "#T_876c3_row5_col5, #T_876c3_row11_col5, #T_876c3_row14_col5 {\n",
       "  background-color: #6fa7ce;\n",
       "  color: #f1f1f1;\n",
       "}\n",
       "#T_876c3_row5_col6 {\n",
       "  background-color: #2081b9;\n",
       "  color: #f1f1f1;\n",
       "}\n",
       "#T_876c3_row6_col2 {\n",
       "  background-color: #b5c4df;\n",
       "  color: #000000;\n",
       "}\n",
       "#T_876c3_row6_col4 {\n",
       "  background-color: #c2cbe2;\n",
       "  color: #000000;\n",
       "}\n",
       "#T_876c3_row6_col5, #T_876c3_row15_col4 {\n",
       "  background-color: #b4c4df;\n",
       "  color: #000000;\n",
       "}\n",
       "#T_876c3_row6_col6 {\n",
       "  background-color: #e0dded;\n",
       "  color: #000000;\n",
       "}\n",
       "#T_876c3_row6_col7, #T_876c3_row7_col7, #T_876c3_row12_col7, #T_876c3_row13_col7 {\n",
       "  background-color: #3991c1;\n",
       "  color: #f1f1f1;\n",
       "}\n",
       "#T_876c3_row7_col2 {\n",
       "  background-color: #c8cde4;\n",
       "  color: #000000;\n",
       "}\n",
       "#T_876c3_row7_col4 {\n",
       "  background-color: #d9d8ea;\n",
       "  color: #000000;\n",
       "}\n",
       "#T_876c3_row7_col5 {\n",
       "  background-color: #d3d4e7;\n",
       "  color: #000000;\n",
       "}\n",
       "#T_876c3_row7_col6 {\n",
       "  background-color: #e6e2ef;\n",
       "  color: #000000;\n",
       "}\n",
       "#T_876c3_row8_col2 {\n",
       "  background-color: #056ba9;\n",
       "  color: #f1f1f1;\n",
       "}\n",
       "#T_876c3_row8_col5 {\n",
       "  background-color: #056dac;\n",
       "  color: #f1f1f1;\n",
       "}\n",
       "#T_876c3_row8_col6 {\n",
       "  background-color: #1278b4;\n",
       "  color: #f1f1f1;\n",
       "}\n",
       "#T_876c3_row8_col7, #T_876c3_row9_col7, #T_876c3_row15_col2 {\n",
       "  background-color: #b9c6e0;\n",
       "  color: #000000;\n",
       "}\n",
       "#T_876c3_row9_col2 {\n",
       "  background-color: #348ebf;\n",
       "  color: #f1f1f1;\n",
       "}\n",
       "#T_876c3_row9_col4 {\n",
       "  background-color: #60a1ca;\n",
       "  color: #f1f1f1;\n",
       "}\n",
       "#T_876c3_row9_col5 {\n",
       "  background-color: #529bc7;\n",
       "  color: #f1f1f1;\n",
       "}\n",
       "#T_876c3_row9_col6 {\n",
       "  background-color: #308cbe;\n",
       "  color: #f1f1f1;\n",
       "}\n",
       "#T_876c3_row11_col2 {\n",
       "  background-color: #65a3cb;\n",
       "  color: #f1f1f1;\n",
       "}\n",
       "#T_876c3_row11_col6 {\n",
       "  background-color: #034e7b;\n",
       "  color: #f1f1f1;\n",
       "}\n",
       "#T_876c3_row12_col2 {\n",
       "  background-color: #f7f0f7;\n",
       "  color: #000000;\n",
       "}\n",
       "#T_876c3_row12_col4 {\n",
       "  background-color: #f2ecf5;\n",
       "  color: #000000;\n",
       "}\n",
       "#T_876c3_row12_col5 {\n",
       "  background-color: #f0eaf4;\n",
       "  color: #000000;\n",
       "}\n",
       "#T_876c3_row12_col6 {\n",
       "  background-color: #fdf5fa;\n",
       "  color: #000000;\n",
       "}\n",
       "#T_876c3_row13_col3 {\n",
       "  background-color: #ede7f2;\n",
       "  color: #000000;\n",
       "}\n",
       "#T_876c3_row14_col2 {\n",
       "  background-color: #84b0d3;\n",
       "  color: #f1f1f1;\n",
       "}\n",
       "#T_876c3_row14_col6 {\n",
       "  background-color: #6da6cd;\n",
       "  color: #f1f1f1;\n",
       "}\n",
       "#T_876c3_row14_col7, #T_876c3_row15_col7, #T_876c3_row16_col5 {\n",
       "  background-color: #9fbad9;\n",
       "  color: #000000;\n",
       "}\n",
       "#T_876c3_row15_col5, #T_876c3_row16_col2 {\n",
       "  background-color: #bbc7e0;\n",
       "  color: #000000;\n",
       "}\n",
       "#T_876c3_row15_col6 {\n",
       "  background-color: #89b1d4;\n",
       "  color: #000000;\n",
       "}\n",
       "#T_876c3_row16_col4 {\n",
       "  background-color: #96b6d7;\n",
       "  color: #000000;\n",
       "}\n",
       "#T_876c3_row16_col6 {\n",
       "  background-color: #056ba7;\n",
       "  color: #f1f1f1;\n",
       "}\n",
       "#T_876c3_row17_col2 {\n",
       "  background-color: #e0deed;\n",
       "  color: #000000;\n",
       "}\n",
       "#T_876c3_row17_col4 {\n",
       "  background-color: #d0d1e6;\n",
       "  color: #000000;\n",
       "}\n",
       "#T_876c3_row17_col5 {\n",
       "  background-color: #d8d7e9;\n",
       "  color: #000000;\n",
       "}\n",
       "#T_876c3_row17_col7 {\n",
       "  background-color: #023858;\n",
       "  color: #f1f1f1;\n",
       "}\n",
       "</style>\n",
       "<table id=\"T_876c3\">\n",
       "  <thead>\n",
       "    <tr>\n",
       "      <th class=\"blank\" >&nbsp;</th>\n",
       "      <th class=\"blank\" >&nbsp;</th>\n",
       "      <th class=\"blank level0\" >&nbsp;</th>\n",
       "      <th id=\"T_876c3_level0_col0\" class=\"col_heading level0 col0\" >Positions</th>\n",
       "      <th id=\"T_876c3_level0_col1\" class=\"col_heading level0 col1\" >Trades</th>\n",
       "      <th id=\"T_876c3_level0_col2\" class=\"col_heading level0 col2\" >CAGR</th>\n",
       "      <th id=\"T_876c3_level0_col3\" class=\"col_heading level0 col3\" >Max drawdown</th>\n",
       "      <th id=\"T_876c3_level0_col4\" class=\"col_heading level0 col4\" >Sharpe</th>\n",
       "      <th id=\"T_876c3_level0_col5\" class=\"col_heading level0 col5\" >Sortino</th>\n",
       "      <th id=\"T_876c3_level0_col6\" class=\"col_heading level0 col6\" >Average position</th>\n",
       "      <th id=\"T_876c3_level0_col7\" class=\"col_heading level0 col7\" >Median position</th>\n",
       "    </tr>\n",
       "    <tr>\n",
       "      <th class=\"index_name level0\" >eth_btc_rsi_bars</th>\n",
       "      <th class=\"index_name level1\" >rsi_bars</th>\n",
       "      <th class=\"index_name level2\" >trailing_stop_loss</th>\n",
       "      <th class=\"blank col0\" >&nbsp;</th>\n",
       "      <th class=\"blank col1\" >&nbsp;</th>\n",
       "      <th class=\"blank col2\" >&nbsp;</th>\n",
       "      <th class=\"blank col3\" >&nbsp;</th>\n",
       "      <th class=\"blank col4\" >&nbsp;</th>\n",
       "      <th class=\"blank col5\" >&nbsp;</th>\n",
       "      <th class=\"blank col6\" >&nbsp;</th>\n",
       "      <th class=\"blank col7\" >&nbsp;</th>\n",
       "    </tr>\n",
       "  </thead>\n",
       "  <tbody>\n",
       "    <tr>\n",
       "      <th id=\"T_876c3_level0_row0\" class=\"row_heading level0 row0\" rowspan=\"6\">5</th>\n",
       "      <th id=\"T_876c3_level1_row0\" class=\"row_heading level1 row0\" rowspan=\"2\">11</th>\n",
       "      <th id=\"T_876c3_level2_row0\" class=\"row_heading level2 row0\" >0.850000</th>\n",
       "      <td id=\"T_876c3_row0_col0\" class=\"data row0 col0\" >167</td>\n",
       "      <td id=\"T_876c3_row0_col1\" class=\"data row0 col1\" >336</td>\n",
       "      <td id=\"T_876c3_row0_col2\" class=\"data row0 col2\" >85.75%</td>\n",
       "      <td id=\"T_876c3_row0_col3\" class=\"data row0 col3\" >-27.00%</td>\n",
       "      <td id=\"T_876c3_row0_col4\" class=\"data row0 col4\" >1.970000</td>\n",
       "      <td id=\"T_876c3_row0_col5\" class=\"data row0 col5\" >3.180000</td>\n",
       "      <td id=\"T_876c3_row0_col6\" class=\"data row0 col6\" >2.52%</td>\n",
       "      <td id=\"T_876c3_row0_col7\" class=\"data row0 col7\" >-0.57%</td>\n",
       "    </tr>\n",
       "    <tr>\n",
       "      <th id=\"T_876c3_level2_row1\" class=\"row_heading level2 row1\" >nan</th>\n",
       "      <td id=\"T_876c3_row1_col0\" class=\"data row1 col0\" >167</td>\n",
       "      <td id=\"T_876c3_row1_col1\" class=\"data row1 col1\" >336</td>\n",
       "      <td id=\"T_876c3_row1_col2\" class=\"data row1 col2\" >84.80%</td>\n",
       "      <td id=\"T_876c3_row1_col3\" class=\"data row1 col3\" >-29.00%</td>\n",
       "      <td id=\"T_876c3_row1_col4\" class=\"data row1 col4\" >1.950000</td>\n",
       "      <td id=\"T_876c3_row1_col5\" class=\"data row1 col5\" >3.120000</td>\n",
       "      <td id=\"T_876c3_row1_col6\" class=\"data row1 col6\" >2.49%</td>\n",
       "      <td id=\"T_876c3_row1_col7\" class=\"data row1 col7\" >-0.57%</td>\n",
       "    </tr>\n",
       "    <tr>\n",
       "      <th id=\"T_876c3_level1_row2\" class=\"row_heading level1 row2\" rowspan=\"2\">12</th>\n",
       "      <th id=\"T_876c3_level2_row2\" class=\"row_heading level2 row2\" >0.850000</th>\n",
       "      <td id=\"T_876c3_row2_col0\" class=\"data row2 col0\" >149</td>\n",
       "      <td id=\"T_876c3_row2_col1\" class=\"data row2 col1\" >298</td>\n",
       "      <td id=\"T_876c3_row2_col2\" class=\"data row2 col2\" >89.70%</td>\n",
       "      <td id=\"T_876c3_row2_col3\" class=\"data row2 col3\" >-22.00%</td>\n",
       "      <td id=\"T_876c3_row2_col4\" class=\"data row2 col4\" >2.020000</td>\n",
       "      <td id=\"T_876c3_row2_col5\" class=\"data row2 col5\" >3.310000</td>\n",
       "      <td id=\"T_876c3_row2_col6\" class=\"data row2 col6\" >2.90%</td>\n",
       "      <td id=\"T_876c3_row2_col7\" class=\"data row2 col7\" >-0.79%</td>\n",
       "    </tr>\n",
       "    <tr>\n",
       "      <th id=\"T_876c3_level2_row3\" class=\"row_heading level2 row3\" >nan</th>\n",
       "      <td id=\"T_876c3_row3_col0\" class=\"data row3 col0\" >149</td>\n",
       "      <td id=\"T_876c3_row3_col1\" class=\"data row3 col1\" >298</td>\n",
       "      <td id=\"T_876c3_row3_col2\" class=\"data row3 col2\" >87.30%</td>\n",
       "      <td id=\"T_876c3_row3_col3\" class=\"data row3 col3\" >-24.00%</td>\n",
       "      <td id=\"T_876c3_row3_col4\" class=\"data row3 col4\" >1.980000</td>\n",
       "      <td id=\"T_876c3_row3_col5\" class=\"data row3 col5\" >3.200000</td>\n",
       "      <td id=\"T_876c3_row3_col6\" class=\"data row3 col6\" >2.83%</td>\n",
       "      <td id=\"T_876c3_row3_col7\" class=\"data row3 col7\" >-0.79%</td>\n",
       "    </tr>\n",
       "    <tr>\n",
       "      <th id=\"T_876c3_level1_row4\" class=\"row_heading level1 row4\" rowspan=\"2\">13</th>\n",
       "      <th id=\"T_876c3_level2_row4\" class=\"row_heading level2 row4\" >0.850000</th>\n",
       "      <td id=\"T_876c3_row4_col0\" class=\"data row4 col0\" >138</td>\n",
       "      <td id=\"T_876c3_row4_col1\" class=\"data row4 col1\" >276</td>\n",
       "      <td id=\"T_876c3_row4_col2\" class=\"data row4 col2\" >83.51%</td>\n",
       "      <td id=\"T_876c3_row4_col3\" class=\"data row4 col3\" >-23.00%</td>\n",
       "      <td id=\"T_876c3_row4_col4\" class=\"data row4 col4\" >1.950000</td>\n",
       "      <td id=\"T_876c3_row4_col5\" class=\"data row4 col5\" >3.160000</td>\n",
       "      <td id=\"T_876c3_row4_col6\" class=\"data row4 col6\" >2.98%</td>\n",
       "      <td id=\"T_876c3_row4_col7\" class=\"data row4 col7\" >-0.68%</td>\n",
       "    </tr>\n",
       "    <tr>\n",
       "      <th id=\"T_876c3_level2_row5\" class=\"row_heading level2 row5\" >nan</th>\n",
       "      <td id=\"T_876c3_row5_col0\" class=\"data row5 col0\" >138</td>\n",
       "      <td id=\"T_876c3_row5_col1\" class=\"data row5 col1\" >276</td>\n",
       "      <td id=\"T_876c3_row5_col2\" class=\"data row5 col2\" >81.19%</td>\n",
       "      <td id=\"T_876c3_row5_col3\" class=\"data row5 col3\" >-26.00%</td>\n",
       "      <td id=\"T_876c3_row5_col4\" class=\"data row5 col4\" >1.900000</td>\n",
       "      <td id=\"T_876c3_row5_col5\" class=\"data row5 col5\" >3.060000</td>\n",
       "      <td id=\"T_876c3_row5_col6\" class=\"data row5 col6\" >2.91%</td>\n",
       "      <td id=\"T_876c3_row5_col7\" class=\"data row5 col7\" >-0.68%</td>\n",
       "    </tr>\n",
       "    <tr>\n",
       "      <th id=\"T_876c3_level0_row6\" class=\"row_heading level0 row6\" rowspan=\"6\">10</th>\n",
       "      <th id=\"T_876c3_level1_row6\" class=\"row_heading level1 row6\" rowspan=\"2\">11</th>\n",
       "      <th id=\"T_876c3_level2_row6\" class=\"row_heading level2 row6\" >0.850000</th>\n",
       "      <td id=\"T_876c3_row6_col0\" class=\"data row6 col0\" >161</td>\n",
       "      <td id=\"T_876c3_row6_col1\" class=\"data row6 col1\" >324</td>\n",
       "      <td id=\"T_876c3_row6_col2\" class=\"data row6 col2\" >78.89%</td>\n",
       "      <td id=\"T_876c3_row6_col3\" class=\"data row6 col3\" >-27.00%</td>\n",
       "      <td id=\"T_876c3_row6_col4\" class=\"data row6 col4\" >1.850000</td>\n",
       "      <td id=\"T_876c3_row6_col5\" class=\"data row6 col5\" >2.970000</td>\n",
       "      <td id=\"T_876c3_row6_col6\" class=\"data row6 col6\" >2.44%</td>\n",
       "      <td id=\"T_876c3_row6_col7\" class=\"data row6 col7\" >-0.50%</td>\n",
       "    </tr>\n",
       "    <tr>\n",
       "      <th id=\"T_876c3_level2_row7\" class=\"row_heading level2 row7\" >nan</th>\n",
       "      <td id=\"T_876c3_row7_col0\" class=\"data row7 col0\" >161</td>\n",
       "      <td id=\"T_876c3_row7_col1\" class=\"data row7 col1\" >324</td>\n",
       "      <td id=\"T_876c3_row7_col2\" class=\"data row7 col2\" >77.98%</td>\n",
       "      <td id=\"T_876c3_row7_col3\" class=\"data row7 col3\" >-29.00%</td>\n",
       "      <td id=\"T_876c3_row7_col4\" class=\"data row7 col4\" >1.830000</td>\n",
       "      <td id=\"T_876c3_row7_col5\" class=\"data row7 col5\" >2.920000</td>\n",
       "      <td id=\"T_876c3_row7_col6\" class=\"data row7 col6\" >2.42%</td>\n",
       "      <td id=\"T_876c3_row7_col7\" class=\"data row7 col7\" >-0.50%</td>\n",
       "    </tr>\n",
       "    <tr>\n",
       "      <th id=\"T_876c3_level1_row8\" class=\"row_heading level1 row8\" rowspan=\"2\">12</th>\n",
       "      <th id=\"T_876c3_level2_row8\" class=\"row_heading level2 row8\" >0.850000</th>\n",
       "      <td id=\"T_876c3_row8_col0\" class=\"data row8 col0\" >142</td>\n",
       "      <td id=\"T_876c3_row8_col1\" class=\"data row8 col1\" >286</td>\n",
       "      <td id=\"T_876c3_row8_col2\" class=\"data row8 col2\" >86.08%</td>\n",
       "      <td id=\"T_876c3_row8_col3\" class=\"data row8 col3\" >-22.00%</td>\n",
       "      <td id=\"T_876c3_row8_col4\" class=\"data row8 col4\" >1.960000</td>\n",
       "      <td id=\"T_876c3_row8_col5\" class=\"data row8 col5\" >3.190000</td>\n",
       "      <td id=\"T_876c3_row8_col6\" class=\"data row8 col6\" >2.94%</td>\n",
       "      <td id=\"T_876c3_row8_col7\" class=\"data row8 col7\" >-0.64%</td>\n",
       "    </tr>\n",
       "    <tr>\n",
       "      <th id=\"T_876c3_level2_row9\" class=\"row_heading level2 row9\" >nan</th>\n",
       "      <td id=\"T_876c3_row9_col0\" class=\"data row9 col0\" >142</td>\n",
       "      <td id=\"T_876c3_row9_col1\" class=\"data row9 col1\" >286</td>\n",
       "      <td id=\"T_876c3_row9_col2\" class=\"data row9 col2\" >83.72%</td>\n",
       "      <td id=\"T_876c3_row9_col3\" class=\"data row9 col3\" >-24.00%</td>\n",
       "      <td id=\"T_876c3_row9_col4\" class=\"data row9 col4\" >1.910000</td>\n",
       "      <td id=\"T_876c3_row9_col5\" class=\"data row9 col5\" >3.090000</td>\n",
       "      <td id=\"T_876c3_row9_col6\" class=\"data row9 col6\" >2.87%</td>\n",
       "      <td id=\"T_876c3_row9_col7\" class=\"data row9 col7\" >-0.64%</td>\n",
       "    </tr>\n",
       "    <tr>\n",
       "      <th id=\"T_876c3_level1_row10\" class=\"row_heading level1 row10\" rowspan=\"2\">13</th>\n",
       "      <th id=\"T_876c3_level2_row10\" class=\"row_heading level2 row10\" >0.850000</th>\n",
       "      <td id=\"T_876c3_row10_col0\" class=\"data row10 col0\" >128</td>\n",
       "      <td id=\"T_876c3_row10_col1\" class=\"data row10 col1\" >258</td>\n",
       "      <td id=\"T_876c3_row10_col2\" class=\"data row10 col2\" >84.44%</td>\n",
       "      <td id=\"T_876c3_row10_col3\" class=\"data row10 col3\" >-23.00%</td>\n",
       "      <td id=\"T_876c3_row10_col4\" class=\"data row10 col4\" >1.950000</td>\n",
       "      <td id=\"T_876c3_row10_col5\" class=\"data row10 col5\" >3.160000</td>\n",
       "      <td id=\"T_876c3_row10_col6\" class=\"data row10 col6\" >3.21%</td>\n",
       "      <td id=\"T_876c3_row10_col7\" class=\"data row10 col7\" >-0.39%</td>\n",
       "    </tr>\n",
       "    <tr>\n",
       "      <th id=\"T_876c3_level2_row11\" class=\"row_heading level2 row11\" >nan</th>\n",
       "      <td id=\"T_876c3_row11_col0\" class=\"data row11 col0\" >128</td>\n",
       "      <td id=\"T_876c3_row11_col1\" class=\"data row11 col1\" >258</td>\n",
       "      <td id=\"T_876c3_row11_col2\" class=\"data row11 col2\" >82.10%</td>\n",
       "      <td id=\"T_876c3_row11_col3\" class=\"data row11 col3\" >-26.00%</td>\n",
       "      <td id=\"T_876c3_row11_col4\" class=\"data row11 col4\" >1.900000</td>\n",
       "      <td id=\"T_876c3_row11_col5\" class=\"data row11 col5\" >3.060000</td>\n",
       "      <td id=\"T_876c3_row11_col6\" class=\"data row11 col6\" >3.13%</td>\n",
       "      <td id=\"T_876c3_row11_col7\" class=\"data row11 col7\" >-0.39%</td>\n",
       "    </tr>\n",
       "    <tr>\n",
       "      <th id=\"T_876c3_level0_row12\" class=\"row_heading level0 row12\" rowspan=\"6\">15</th>\n",
       "      <th id=\"T_876c3_level1_row12\" class=\"row_heading level1 row12\" rowspan=\"2\">11</th>\n",
       "      <th id=\"T_876c3_level2_row12\" class=\"row_heading level2 row12\" >0.850000</th>\n",
       "      <td id=\"T_876c3_row12_col0\" class=\"data row12 col0\" >161</td>\n",
       "      <td id=\"T_876c3_row12_col1\" class=\"data row12 col1\" >324</td>\n",
       "      <td id=\"T_876c3_row12_col2\" class=\"data row12 col2\" >74.38%</td>\n",
       "      <td id=\"T_876c3_row12_col3\" class=\"data row12 col3\" >-26.00%</td>\n",
       "      <td id=\"T_876c3_row12_col4\" class=\"data row12 col4\" >1.800000</td>\n",
       "      <td id=\"T_876c3_row12_col5\" class=\"data row12 col5\" >2.850000</td>\n",
       "      <td id=\"T_876c3_row12_col6\" class=\"data row12 col6\" >2.29%</td>\n",
       "      <td id=\"T_876c3_row12_col7\" class=\"data row12 col7\" >-0.50%</td>\n",
       "    </tr>\n",
       "    <tr>\n",
       "      <th id=\"T_876c3_level2_row13\" class=\"row_heading level2 row13\" >nan</th>\n",
       "      <td id=\"T_876c3_row13_col0\" class=\"data row13 col0\" >161</td>\n",
       "      <td id=\"T_876c3_row13_col1\" class=\"data row13 col1\" >324</td>\n",
       "      <td id=\"T_876c3_row13_col2\" class=\"data row13 col2\" >73.53%</td>\n",
       "      <td id=\"T_876c3_row13_col3\" class=\"data row13 col3\" >-28.00%</td>\n",
       "      <td id=\"T_876c3_row13_col4\" class=\"data row13 col4\" >1.780000</td>\n",
       "      <td id=\"T_876c3_row13_col5\" class=\"data row13 col5\" >2.800000</td>\n",
       "      <td id=\"T_876c3_row13_col6\" class=\"data row13 col6\" >2.27%</td>\n",
       "      <td id=\"T_876c3_row13_col7\" class=\"data row13 col7\" >-0.50%</td>\n",
       "    </tr>\n",
       "    <tr>\n",
       "      <th id=\"T_876c3_level1_row14\" class=\"row_heading level1 row14\" rowspan=\"2\">12</th>\n",
       "      <th id=\"T_876c3_level2_row14\" class=\"row_heading level2 row14\" >0.850000</th>\n",
       "      <td id=\"T_876c3_row14_col0\" class=\"data row14 col0\" >143</td>\n",
       "      <td id=\"T_876c3_row14_col1\" class=\"data row14 col1\" >286</td>\n",
       "      <td id=\"T_876c3_row14_col2\" class=\"data row14 col2\" >80.95%</td>\n",
       "      <td id=\"T_876c3_row14_col3\" class=\"data row14 col3\" >-21.00%</td>\n",
       "      <td id=\"T_876c3_row14_col4\" class=\"data row14 col4\" >1.900000</td>\n",
       "      <td id=\"T_876c3_row14_col5\" class=\"data row14 col5\" >3.060000</td>\n",
       "      <td id=\"T_876c3_row14_col6\" class=\"data row14 col6\" >2.75%</td>\n",
       "      <td id=\"T_876c3_row14_col7\" class=\"data row14 col7\" >-0.61%</td>\n",
       "    </tr>\n",
       "    <tr>\n",
       "      <th id=\"T_876c3_level2_row15\" class=\"row_heading level2 row15\" >nan</th>\n",
       "      <td id=\"T_876c3_row15_col0\" class=\"data row15 col0\" >143</td>\n",
       "      <td id=\"T_876c3_row15_col1\" class=\"data row15 col1\" >286</td>\n",
       "      <td id=\"T_876c3_row15_col2\" class=\"data row15 col2\" >78.70%</td>\n",
       "      <td id=\"T_876c3_row15_col3\" class=\"data row15 col3\" >-23.00%</td>\n",
       "      <td id=\"T_876c3_row15_col4\" class=\"data row15 col4\" >1.860000</td>\n",
       "      <td id=\"T_876c3_row15_col5\" class=\"data row15 col5\" >2.960000</td>\n",
       "      <td id=\"T_876c3_row15_col6\" class=\"data row15 col6\" >2.69%</td>\n",
       "      <td id=\"T_876c3_row15_col7\" class=\"data row15 col7\" >-0.61%</td>\n",
       "    </tr>\n",
       "    <tr>\n",
       "      <th id=\"T_876c3_level1_row16\" class=\"row_heading level1 row16\" rowspan=\"2\">13</th>\n",
       "      <th id=\"T_876c3_level2_row16\" class=\"row_heading level2 row16\" >0.850000</th>\n",
       "      <td id=\"T_876c3_row16_col0\" class=\"data row16 col0\" >128</td>\n",
       "      <td id=\"T_876c3_row16_col1\" class=\"data row16 col1\" >256</td>\n",
       "      <td id=\"T_876c3_row16_col2\" class=\"data row16 col2\" >78.60%</td>\n",
       "      <td id=\"T_876c3_row16_col3\" class=\"data row16 col3\" >-23.00%</td>\n",
       "      <td id=\"T_876c3_row16_col4\" class=\"data row16 col4\" >1.880000</td>\n",
       "      <td id=\"T_876c3_row16_col5\" class=\"data row16 col5\" >3.000000</td>\n",
       "      <td id=\"T_876c3_row16_col6\" class=\"data row16 col6\" >3.00%</td>\n",
       "      <td id=\"T_876c3_row16_col7\" class=\"data row16 col7\" >-0.32%</td>\n",
       "    </tr>\n",
       "    <tr>\n",
       "      <th id=\"T_876c3_level2_row17\" class=\"row_heading level2 row17\" >nan</th>\n",
       "      <td id=\"T_876c3_row17_col0\" class=\"data row17 col0\" >128</td>\n",
       "      <td id=\"T_876c3_row17_col1\" class=\"data row17 col1\" >256</td>\n",
       "      <td id=\"T_876c3_row17_col2\" class=\"data row17 col2\" >76.38%</td>\n",
       "      <td id=\"T_876c3_row17_col3\" class=\"data row17 col3\" >-25.00%</td>\n",
       "      <td id=\"T_876c3_row17_col4\" class=\"data row17 col4\" >1.840000</td>\n",
       "      <td id=\"T_876c3_row17_col5\" class=\"data row17 col5\" >2.910000</td>\n",
       "      <td id=\"T_876c3_row17_col6\" class=\"data row17 col6\" >2.93%</td>\n",
       "      <td id=\"T_876c3_row17_col7\" class=\"data row17 col7\" >-0.32%</td>\n",
       "    </tr>\n",
       "  </tbody>\n",
       "</table>\n"
      ],
      "text/plain": [
       "<pandas.io.formats.style.Styler at 0x167467280>"
      ]
     },
     "metadata": {},
     "output_type": "display_data"
    }
   ],
   "source": [
    "# Set Jupyter Notebook output mode parameters\n",
    "from tradeexecutor.analysis.grid_search import analyse_grid_search_result\n",
    "from tradeexecutor.analysis.grid_search import visualise_table\n",
    "\n",
    "# Print extension of our backtest\n",
    "print(f\"Grid search combinations available: {len(grid_search_results)}\")\n",
    "\n",
    "table = analyse_grid_search_result(grid_search_results)\n",
    "visualise_table(table)\n"
   ]
  },
  {
   "cell_type": "markdown",
   "metadata": {
    "collapsed": false
   },
   "source": [
    "# Heatmap\n",
    "\n",
    "- Verify that results look to cluster around certain values and do not follow a random pattern]"
   ]
  },
  {
   "cell_type": "code",
   "execution_count": 12,
   "metadata": {
    "ExecuteTime": {
     "end_time": "2024-02-12T13:25:57.821918Z",
     "start_time": "2024-02-12T13:25:56.857061Z"
    },
    "collapsed": false
   },
   "outputs": [
    {
     "data": {
      "application/vnd.plotly.v1+json": {
       "config": {
        "plotlyServerURL": "https://plot.ly"
       },
       "data": [
        {
         "coloraxis": "coloraxis",
         "hovertemplate": "rsi_bars: %{x}<br>eth_btc_rsi_bars: %{y}<br>CAGR: %{z}<extra></extra>",
         "name": "0",
         "text": [
          [
           "85.75%",
           "89.70%",
           "83.51%"
          ],
          [
           "78.89%",
           "86.08%",
           "84.44%"
          ],
          [
           "74.38%",
           "80.95%",
           "78.60%"
          ]
         ],
         "texttemplate": "%{text}",
         "type": "heatmap",
         "x": [
          11,
          12,
          13
         ],
         "xaxis": "x",
         "y": [
          5,
          10,
          15
         ],
         "yaxis": "y",
         "z": [
          [
           0.8574529555831547,
           0.8970452245362952,
           0.8351113328432471
          ],
          [
           0.7888654572782903,
           0.8608004577807928,
           0.8443781186801533
          ],
          [
           0.7438153845515068,
           0.809484676494719,
           0.7860181594933304
          ]
         ]
        }
       ],
       "layout": {
        "coloraxis": {
         "colorbar": {
          "title": {
           "text": "CAGR"
          }
         },
         "colorscale": [
          [
           0,
           "rgb(255,0,0)"
          ],
          [
           1,
           "rgb(0,0,255)"
          ]
         ]
        },
        "height": 600,
        "template": {
         "data": {
          "bar": [
           {
            "error_x": {
             "color": "#2a3f5f"
            },
            "error_y": {
             "color": "#2a3f5f"
            },
            "marker": {
             "line": {
              "color": "#E5ECF6",
              "width": 0.5
             },
             "pattern": {
              "fillmode": "overlay",
              "size": 10,
              "solidity": 0.2
             }
            },
            "type": "bar"
           }
          ],
          "barpolar": [
           {
            "marker": {
             "line": {
              "color": "#E5ECF6",
              "width": 0.5
             },
             "pattern": {
              "fillmode": "overlay",
              "size": 10,
              "solidity": 0.2
             }
            },
            "type": "barpolar"
           }
          ],
          "carpet": [
           {
            "aaxis": {
             "endlinecolor": "#2a3f5f",
             "gridcolor": "white",
             "linecolor": "white",
             "minorgridcolor": "white",
             "startlinecolor": "#2a3f5f"
            },
            "baxis": {
             "endlinecolor": "#2a3f5f",
             "gridcolor": "white",
             "linecolor": "white",
             "minorgridcolor": "white",
             "startlinecolor": "#2a3f5f"
            },
            "type": "carpet"
           }
          ],
          "choropleth": [
           {
            "colorbar": {
             "outlinewidth": 0,
             "ticks": ""
            },
            "type": "choropleth"
           }
          ],
          "contour": [
           {
            "colorbar": {
             "outlinewidth": 0,
             "ticks": ""
            },
            "colorscale": [
             [
              0,
              "#0d0887"
             ],
             [
              0.1111111111111111,
              "#46039f"
             ],
             [
              0.2222222222222222,
              "#7201a8"
             ],
             [
              0.3333333333333333,
              "#9c179e"
             ],
             [
              0.4444444444444444,
              "#bd3786"
             ],
             [
              0.5555555555555556,
              "#d8576b"
             ],
             [
              0.6666666666666666,
              "#ed7953"
             ],
             [
              0.7777777777777778,
              "#fb9f3a"
             ],
             [
              0.8888888888888888,
              "#fdca26"
             ],
             [
              1,
              "#f0f921"
             ]
            ],
            "type": "contour"
           }
          ],
          "contourcarpet": [
           {
            "colorbar": {
             "outlinewidth": 0,
             "ticks": ""
            },
            "type": "contourcarpet"
           }
          ],
          "heatmap": [
           {
            "colorbar": {
             "outlinewidth": 0,
             "ticks": ""
            },
            "colorscale": [
             [
              0,
              "#0d0887"
             ],
             [
              0.1111111111111111,
              "#46039f"
             ],
             [
              0.2222222222222222,
              "#7201a8"
             ],
             [
              0.3333333333333333,
              "#9c179e"
             ],
             [
              0.4444444444444444,
              "#bd3786"
             ],
             [
              0.5555555555555556,
              "#d8576b"
             ],
             [
              0.6666666666666666,
              "#ed7953"
             ],
             [
              0.7777777777777778,
              "#fb9f3a"
             ],
             [
              0.8888888888888888,
              "#fdca26"
             ],
             [
              1,
              "#f0f921"
             ]
            ],
            "type": "heatmap"
           }
          ],
          "heatmapgl": [
           {
            "colorbar": {
             "outlinewidth": 0,
             "ticks": ""
            },
            "colorscale": [
             [
              0,
              "#0d0887"
             ],
             [
              0.1111111111111111,
              "#46039f"
             ],
             [
              0.2222222222222222,
              "#7201a8"
             ],
             [
              0.3333333333333333,
              "#9c179e"
             ],
             [
              0.4444444444444444,
              "#bd3786"
             ],
             [
              0.5555555555555556,
              "#d8576b"
             ],
             [
              0.6666666666666666,
              "#ed7953"
             ],
             [
              0.7777777777777778,
              "#fb9f3a"
             ],
             [
              0.8888888888888888,
              "#fdca26"
             ],
             [
              1,
              "#f0f921"
             ]
            ],
            "type": "heatmapgl"
           }
          ],
          "histogram": [
           {
            "marker": {
             "pattern": {
              "fillmode": "overlay",
              "size": 10,
              "solidity": 0.2
             }
            },
            "type": "histogram"
           }
          ],
          "histogram2d": [
           {
            "colorbar": {
             "outlinewidth": 0,
             "ticks": ""
            },
            "colorscale": [
             [
              0,
              "#0d0887"
             ],
             [
              0.1111111111111111,
              "#46039f"
             ],
             [
              0.2222222222222222,
              "#7201a8"
             ],
             [
              0.3333333333333333,
              "#9c179e"
             ],
             [
              0.4444444444444444,
              "#bd3786"
             ],
             [
              0.5555555555555556,
              "#d8576b"
             ],
             [
              0.6666666666666666,
              "#ed7953"
             ],
             [
              0.7777777777777778,
              "#fb9f3a"
             ],
             [
              0.8888888888888888,
              "#fdca26"
             ],
             [
              1,
              "#f0f921"
             ]
            ],
            "type": "histogram2d"
           }
          ],
          "histogram2dcontour": [
           {
            "colorbar": {
             "outlinewidth": 0,
             "ticks": ""
            },
            "colorscale": [
             [
              0,
              "#0d0887"
             ],
             [
              0.1111111111111111,
              "#46039f"
             ],
             [
              0.2222222222222222,
              "#7201a8"
             ],
             [
              0.3333333333333333,
              "#9c179e"
             ],
             [
              0.4444444444444444,
              "#bd3786"
             ],
             [
              0.5555555555555556,
              "#d8576b"
             ],
             [
              0.6666666666666666,
              "#ed7953"
             ],
             [
              0.7777777777777778,
              "#fb9f3a"
             ],
             [
              0.8888888888888888,
              "#fdca26"
             ],
             [
              1,
              "#f0f921"
             ]
            ],
            "type": "histogram2dcontour"
           }
          ],
          "mesh3d": [
           {
            "colorbar": {
             "outlinewidth": 0,
             "ticks": ""
            },
            "type": "mesh3d"
           }
          ],
          "parcoords": [
           {
            "line": {
             "colorbar": {
              "outlinewidth": 0,
              "ticks": ""
             }
            },
            "type": "parcoords"
           }
          ],
          "pie": [
           {
            "automargin": true,
            "type": "pie"
           }
          ],
          "scatter": [
           {
            "fillpattern": {
             "fillmode": "overlay",
             "size": 10,
             "solidity": 0.2
            },
            "type": "scatter"
           }
          ],
          "scatter3d": [
           {
            "line": {
             "colorbar": {
              "outlinewidth": 0,
              "ticks": ""
             }
            },
            "marker": {
             "colorbar": {
              "outlinewidth": 0,
              "ticks": ""
             }
            },
            "type": "scatter3d"
           }
          ],
          "scattercarpet": [
           {
            "marker": {
             "colorbar": {
              "outlinewidth": 0,
              "ticks": ""
             }
            },
            "type": "scattercarpet"
           }
          ],
          "scattergeo": [
           {
            "marker": {
             "colorbar": {
              "outlinewidth": 0,
              "ticks": ""
             }
            },
            "type": "scattergeo"
           }
          ],
          "scattergl": [
           {
            "marker": {
             "colorbar": {
              "outlinewidth": 0,
              "ticks": ""
             }
            },
            "type": "scattergl"
           }
          ],
          "scattermapbox": [
           {
            "marker": {
             "colorbar": {
              "outlinewidth": 0,
              "ticks": ""
             }
            },
            "type": "scattermapbox"
           }
          ],
          "scatterpolar": [
           {
            "marker": {
             "colorbar": {
              "outlinewidth": 0,
              "ticks": ""
             }
            },
            "type": "scatterpolar"
           }
          ],
          "scatterpolargl": [
           {
            "marker": {
             "colorbar": {
              "outlinewidth": 0,
              "ticks": ""
             }
            },
            "type": "scatterpolargl"
           }
          ],
          "scatterternary": [
           {
            "marker": {
             "colorbar": {
              "outlinewidth": 0,
              "ticks": ""
             }
            },
            "type": "scatterternary"
           }
          ],
          "surface": [
           {
            "colorbar": {
             "outlinewidth": 0,
             "ticks": ""
            },
            "colorscale": [
             [
              0,
              "#0d0887"
             ],
             [
              0.1111111111111111,
              "#46039f"
             ],
             [
              0.2222222222222222,
              "#7201a8"
             ],
             [
              0.3333333333333333,
              "#9c179e"
             ],
             [
              0.4444444444444444,
              "#bd3786"
             ],
             [
              0.5555555555555556,
              "#d8576b"
             ],
             [
              0.6666666666666666,
              "#ed7953"
             ],
             [
              0.7777777777777778,
              "#fb9f3a"
             ],
             [
              0.8888888888888888,
              "#fdca26"
             ],
             [
              1,
              "#f0f921"
             ]
            ],
            "type": "surface"
           }
          ],
          "table": [
           {
            "cells": {
             "fill": {
              "color": "#EBF0F8"
             },
             "line": {
              "color": "white"
             }
            },
            "header": {
             "fill": {
              "color": "#C8D4E3"
             },
             "line": {
              "color": "white"
             }
            },
            "type": "table"
           }
          ]
         },
         "layout": {
          "annotationdefaults": {
           "arrowcolor": "#2a3f5f",
           "arrowhead": 0,
           "arrowwidth": 1
          },
          "autotypenumbers": "strict",
          "coloraxis": {
           "colorbar": {
            "outlinewidth": 0,
            "ticks": ""
           }
          },
          "colorscale": {
           "diverging": [
            [
             0,
             "#8e0152"
            ],
            [
             0.1,
             "#c51b7d"
            ],
            [
             0.2,
             "#de77ae"
            ],
            [
             0.3,
             "#f1b6da"
            ],
            [
             0.4,
             "#fde0ef"
            ],
            [
             0.5,
             "#f7f7f7"
            ],
            [
             0.6,
             "#e6f5d0"
            ],
            [
             0.7,
             "#b8e186"
            ],
            [
             0.8,
             "#7fbc41"
            ],
            [
             0.9,
             "#4d9221"
            ],
            [
             1,
             "#276419"
            ]
           ],
           "sequential": [
            [
             0,
             "#0d0887"
            ],
            [
             0.1111111111111111,
             "#46039f"
            ],
            [
             0.2222222222222222,
             "#7201a8"
            ],
            [
             0.3333333333333333,
             "#9c179e"
            ],
            [
             0.4444444444444444,
             "#bd3786"
            ],
            [
             0.5555555555555556,
             "#d8576b"
            ],
            [
             0.6666666666666666,
             "#ed7953"
            ],
            [
             0.7777777777777778,
             "#fb9f3a"
            ],
            [
             0.8888888888888888,
             "#fdca26"
            ],
            [
             1,
             "#f0f921"
            ]
           ],
           "sequentialminus": [
            [
             0,
             "#0d0887"
            ],
            [
             0.1111111111111111,
             "#46039f"
            ],
            [
             0.2222222222222222,
             "#7201a8"
            ],
            [
             0.3333333333333333,
             "#9c179e"
            ],
            [
             0.4444444444444444,
             "#bd3786"
            ],
            [
             0.5555555555555556,
             "#d8576b"
            ],
            [
             0.6666666666666666,
             "#ed7953"
            ],
            [
             0.7777777777777778,
             "#fb9f3a"
            ],
            [
             0.8888888888888888,
             "#fdca26"
            ],
            [
             1,
             "#f0f921"
            ]
           ]
          },
          "colorway": [
           "#636efa",
           "#EF553B",
           "#00cc96",
           "#ab63fa",
           "#FFA15A",
           "#19d3f3",
           "#FF6692",
           "#B6E880",
           "#FF97FF",
           "#FECB52"
          ],
          "font": {
           "color": "#2a3f5f"
          },
          "geo": {
           "bgcolor": "white",
           "lakecolor": "white",
           "landcolor": "#E5ECF6",
           "showlakes": true,
           "showland": true,
           "subunitcolor": "white"
          },
          "hoverlabel": {
           "align": "left"
          },
          "hovermode": "closest",
          "mapbox": {
           "style": "light"
          },
          "paper_bgcolor": "white",
          "plot_bgcolor": "#E5ECF6",
          "polar": {
           "angularaxis": {
            "gridcolor": "white",
            "linecolor": "white",
            "ticks": ""
           },
           "bgcolor": "#E5ECF6",
           "radialaxis": {
            "gridcolor": "white",
            "linecolor": "white",
            "ticks": ""
           }
          },
          "scene": {
           "xaxis": {
            "backgroundcolor": "#E5ECF6",
            "gridcolor": "white",
            "gridwidth": 2,
            "linecolor": "white",
            "showbackground": true,
            "ticks": "",
            "zerolinecolor": "white"
           },
           "yaxis": {
            "backgroundcolor": "#E5ECF6",
            "gridcolor": "white",
            "gridwidth": 2,
            "linecolor": "white",
            "showbackground": true,
            "ticks": "",
            "zerolinecolor": "white"
           },
           "zaxis": {
            "backgroundcolor": "#E5ECF6",
            "gridcolor": "white",
            "gridwidth": 2,
            "linecolor": "white",
            "showbackground": true,
            "ticks": "",
            "zerolinecolor": "white"
           }
          },
          "shapedefaults": {
           "line": {
            "color": "#2a3f5f"
           }
          },
          "ternary": {
           "aaxis": {
            "gridcolor": "white",
            "linecolor": "white",
            "ticks": ""
           },
           "baxis": {
            "gridcolor": "white",
            "linecolor": "white",
            "ticks": ""
           },
           "bgcolor": "#E5ECF6",
           "caxis": {
            "gridcolor": "white",
            "linecolor": "white",
            "ticks": ""
           }
          },
          "title": {
           "x": 0.05
          },
          "xaxis": {
           "automargin": true,
           "gridcolor": "white",
           "linecolor": "white",
           "ticks": "",
           "title": {
            "standoff": 15
           },
           "zerolinecolor": "white",
           "zerolinewidth": 2
          },
          "yaxis": {
           "automargin": true,
           "gridcolor": "white",
           "linecolor": "white",
           "ticks": "",
           "title": {
            "standoff": 15
           },
           "zerolinecolor": "white",
           "zerolinewidth": 2
          }
         }
        },
        "title": {
         "text": "CAGR"
        },
        "xaxis": {
         "anchor": "y",
         "domain": [
          0,
          1
         ],
         "title": {
          "text": "rsi_bars"
         }
        },
        "yaxis": {
         "anchor": "x",
         "autorange": "reversed",
         "domain": [
          0,
          1
         ],
         "title": {
          "text": "eth_btc_rsi_bars"
         }
        }
       }
      }
     },
     "metadata": {},
     "output_type": "display_data"
    }
   ],
   "source": [
    "from tradeexecutor.analysis.grid_search import visualise_heatmap_2d\n",
    "\n",
    "\n",
    "# RSI length = 8, no stop loss\n",
    "heatmap_data = table.xs(key=(0.85,), level=(\"trailing_stop_loss\",))\n",
    "\n",
    "fig = visualise_heatmap_2d(heatmap_data, \"eth_btc_rsi_bars\", \"rsi_bars\", \"CAGR\")\n",
    "display(fig)\n"
   ]
  },
  {
   "cell_type": "code",
   "execution_count": null,
   "metadata": {},
   "outputs": [],
   "source": [
    "from tradeexecutor.analysis.grid_search import visualise_heatmap_2d\n",
    "\n",
    "\n",
    "# RSI length = 8, no stop loss\n",
    "heatmap_data = table.xs(key=(0.85,), level=(\"trailing_stop_loss\",))\n",
    "\n",
    "fig = visualise_heatmap_2d(heatmap_data, \"eth_btc_rsi_bars\", \"rsi_bars\", \"CAGR\")\n",
    "display(fig)\n"
   ]
  },
  {
   "cell_type": "markdown",
   "metadata": {
    "collapsed": false
   },
   "source": [
    "# Equity curve comparison\n",
    "\n",
    "- Compare the equity curves of all grid search results\n",
    "- Show the grid search parameters as the tool tip\n",
    "- Add buy and hold benchmarks on the plot"
   ]
  },
  {
   "cell_type": "code",
   "execution_count": null,
   "metadata": {
    "ExecuteTime": {
     "end_time": "2024-02-12T13:26:01.605348Z",
     "start_time": "2024-02-12T13:25:57.829917Z"
    },
    "collapsed": false
   },
   "outputs": [],
   "source": [
    "from tradeexecutor.analysis.grid_search import visualise_grid_search_equity_curves\n",
    "from tradeexecutor.visual.benchmark import create_benchmark_equity_curves\n",
    "\n",
    "benchmark_indexes = create_benchmark_equity_curves(\n",
    "    strategy_universe,\n",
    "    {\"BTC\": our_pairs[0], \"ETH\": our_pairs[1]},\n",
    "    initial_cash=StrategyParameters.initial_cash,\n",
    ")\n",
    "\n",
    "# Remove visual clutter\n",
    "filtered_grid_search_results = [r for r in grid_search_results if r.get_metric(\"CAGR﹪\") >= 0.40]\n",
    "\n",
    "fig = visualise_grid_search_equity_curves(\n",
    "    filtered_grid_search_results,\n",
    "    benchmark_indexes=benchmark_indexes,\n",
    "    log_y=True,\n",
    ")\n",
    "fig.show()"
   ]
  }
 ],
 "metadata": {
  "kernelspec": {
   "display_name": "Python 3 (ipykernel)",
   "language": "python",
   "name": "python3"
  },
  "language_info": {
   "codemirror_mode": {
    "name": "ipython",
    "version": 3
   },
   "file_extension": ".py",
   "mimetype": "text/x-python",
   "name": "python",
   "nbconvert_exporter": "python",
   "pygments_lexer": "ipython3",
   "version": "3.10.13"
  },
  "vscode": {
   "interpreter": {
    "hash": "f45fb66dacef78c495ceec56f258b06b84bd9cb2c0a9a6d3656125fb3c018996"
   }
  }
 },
 "nbformat": 4,
 "nbformat_minor": 4
}
