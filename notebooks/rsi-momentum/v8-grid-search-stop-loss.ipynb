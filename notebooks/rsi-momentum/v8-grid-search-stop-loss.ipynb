{
 "cells": [
  {
   "cell_type": "markdown",
   "metadata": {
    "collapsed": false
   },
   "source": [
    "# RSI momentum trading strategy example\n",
    "\n",
    "- This is a backtest example notebook\n",
    "    - This notebook does a grid search over parameters of v7 notebook, enabling few more searchable parameters like trailing stop loss and ETH/BTC RSI\n",
    "    - Because we have thousands of output entries, we filter out with Sharpe > 1\n",
    "    - Running this notebook will take some hours\n",
    "\n",
    "# Set up\n",
    "\n",
    "Set up Trading Strategy data client.\n"
   ]
  },
  {
   "cell_type": "code",
   "execution_count": 1,
   "metadata": {
    "collapsed": false,
    "ExecuteTime": {
     "end_time": "2024-02-13T09:42:01.880091Z",
     "start_time": "2024-02-13T09:41:58.458757Z"
    }
   },
   "outputs": [
    {
     "name": "stdout",
     "output_type": "stream",
     "text": [
      "Started Trading Strategy in Jupyter notebook environment, configuration is stored in /Users/moo/.tradingstrategy\n"
     ]
    }
   ],
   "source": [
    "from tradeexecutor.utils.notebook import setup_charting_and_output\n",
    "from tradingstrategy.client import Client\n",
    "\n",
    "client = Client.create_jupyter_client()\n",
    "\n",
    "# Render for Github web viewer\n",
    "from tradeexecutor.utils.notebook import setup_charting_and_output, OutputMode\n",
    "\n",
    "#setup_charting_and_output(OutputMode.static, image_format=\"png\", width=1500, height=1000)\n",
    "setup_charting_and_output(width=1500, height=1000)"
   ]
  },
  {
   "cell_type": "markdown",
   "metadata": {
    "collapsed": false
   },
   "source": [
    "# Load data\n",
    "\n",
    "We use Binance data so we get a longer period of data."
   ]
  },
  {
   "cell_type": "code",
   "execution_count": 2,
   "metadata": {
    "collapsed": false,
    "ExecuteTime": {
     "end_time": "2024-02-13T09:42:03.202552Z",
     "start_time": "2024-02-13T09:42:01.878213Z"
    }
   },
   "outputs": [
    {
     "data": {
      "text/plain": "  0%|          | 0/2 [00:00<?, ?it/s]",
      "application/vnd.jupyter.widget-view+json": {
       "version_major": 2,
       "version_minor": 0,
       "model_id": "7f26a8a613804266a0045fb646fe28b7"
      }
     },
     "metadata": {},
     "output_type": "display_data"
    }
   ],
   "source": [
    "import datetime\n",
    "from tradingstrategy.timebucket import TimeBucket\n",
    "from tradeexecutor.utils.binance import create_binance_universe\n",
    "\n",
    "strategy_universe = create_binance_universe(\n",
    "    [\"BTCUSDT\", \"ETHUSDT\"],   # Binance internal tickers later mapped to Trading strategy DEXPair metadata class\n",
    "    candle_time_bucket=TimeBucket.d1,\n",
    "    stop_loss_time_bucket=TimeBucket.h1,\n",
    "    start_at=datetime.datetime(2019, 1, 1),  # Backtest for 5 years data\n",
    "    end_at=datetime.datetime(2024, 1, 1),\n",
    "    include_lending=False\n",
    ")\n"
   ]
  },
  {
   "cell_type": "markdown",
   "metadata": {
    "collapsed": false
   },
   "source": [
    "# Show loaded trading universe\n",
    "\n",
    "Display generic troubleshooting information about the loaded data."
   ]
  },
  {
   "cell_type": "code",
   "execution_count": 3,
   "metadata": {
    "collapsed": false,
    "ExecuteTime": {
     "end_time": "2024-02-13T09:42:03.226149Z",
     "start_time": "2024-02-13T09:42:03.203428Z"
    }
   },
   "outputs": [
    {
     "name": "stdout",
     "output_type": "stream",
     "text": [
      "Loaded 87,578 candles.\n",
      "Pair <Pair #1 BTC - USDT at exchange binance> first close price 3702.9 at 2018-12-31 23:00:00\n",
      "Pair <Pair #2 ETH - USDT at exchange binance> first close price 131.45 at 2018-12-31 23:00:00\n"
     ]
    }
   ],
   "source": [
    "pairs = strategy_universe.data_universe.pairs  # Trading pairs metadata\n",
    "candles = strategy_universe.data_universe.candles  # Candles for all trading pairs\n",
    "\n",
    "print(f\"Loaded {candles.get_candle_count():,} candles.\")\n",
    "\n",
    "for pair in pairs.iterate_pairs():\n",
    "    pair_candles = candles.get_candles_by_pair(pair)\n",
    "    first_close = pair_candles.iloc[0][\"close\"]\n",
    "    first_close_at = pair_candles.index[0]\n",
    "    print(f\"Pair {pair} first close price {first_close} at {first_close_at}\")"
   ]
  },
  {
   "cell_type": "markdown",
   "metadata": {
    "collapsed": false
   },
   "source": [
    "# Trading algorithm"
   ]
  },
  {
   "cell_type": "code",
   "execution_count": 4,
   "metadata": {
    "collapsed": false,
    "ExecuteTime": {
     "end_time": "2024-02-13T09:42:06.369244Z",
     "start_time": "2024-02-13T09:42:03.276987Z"
    }
   },
   "outputs": [],
   "source": [
    "from tradeexecutor.strategy.parameters import StrategyParameters\n",
    "from tradeexecutor.strategy.weighting import weight_equal, weight_by_1_slash_n, weight_passthrouh\n",
    "from tradeexecutor.strategy.alpha_model import AlphaModel\n",
    "import numpy as np\n",
    "from tradeexecutor.strategy.pandas_trader.position_manager import PositionManager\n",
    "from tradingstrategy.chain import ChainId\n",
    "from typing import List, Dict\n",
    "\n",
    "from pandas_ta.momentum import rsi\n",
    "import pandas as pd\n",
    "\n",
    "from tradeexecutor.strategy.trading_strategy_universe import TradingStrategyUniverse\n",
    "from tradeexecutor.state.visualisation import PlotKind, PlotShape, PlotLabel\n",
    "from tradeexecutor.state.trade import TradeExecution\n",
    "from tradeexecutor.strategy.pricing_model import PricingModel\n",
    "from tradeexecutor.state.state import State\n",
    "\n",
    "# List of pair descriptions we used to look up pair metadata\n",
    "our_pairs = [\n",
    "    (ChainId.centralised_exchange, \"binance\", \"BTC\", \"USDT\"),\n",
    "    (ChainId.centralised_exchange, \"binance\", \"ETH\", \"USDT\"),\n",
    "]\n",
    "\n",
    "def decide_trades(\n",
    "    timestamp: pd.Timestamp,\n",
    "    parameters: StrategyParameters,\n",
    "    strategy_universe: TradingStrategyUniverse,\n",
    "    state: State,\n",
    "    pricing_model: PricingModel,\n",
    ") -> List[TradeExecution]:\n",
    "\n",
    "    # Resolve our pair metadata for our two pair strategy\n",
    "    position_manager = PositionManager(timestamp, strategy_universe, state, pricing_model)\n",
    "    alpha_model = AlphaModel(timestamp)\n",
    "    btc_pair = position_manager.get_trading_pair(our_pairs[0])\n",
    "    eth_pair = position_manager.get_trading_pair(our_pairs[1])\n",
    "\n",
    "    position_manager.log(\"decide_trades() start\")\n",
    "\n",
    "    #\n",
    "    # Indicators\n",
    "    #\n",
    "    # Calculate indicators for each pair.\n",
    "    #\n",
    "\n",
    "    # Per-trading pair calcualted data\n",
    "    close_prices = {btc_pair: None, eth_pair: None}  # Recent close prices\n",
    "    current_rsi_values = {}  # RSI yesterday\n",
    "    previous_rsi_values = {}  # RSI day before yesterday\n",
    "    current_price = {}  # Close price yesterday\n",
    "    momentum = {btc_pair: 0, eth_pair: 0}\n",
    "    eth_btc_rsi_yesterday = None\n",
    "\n",
    "    for pair in [btc_pair, eth_pair]:\n",
    "\n",
    "        pair_candles = candles.get_last_entries_by_pair_and_timestamp(pair.internal_id, timestamp)\n",
    "        close_prices[pair] = pair_candles[\"close\"]\n",
    "\n",
    "        assert pair_candles is not None\n",
    "        rsi_series = rsi(pair_candles[\"close\"], length=parameters.rsi_days)  # Will return None if the data buffer does not have enough days to look back\n",
    "\n",
    "        # Reset indicators for this cycle and this pair\n",
    "        current_rsi_values[pair] = None\n",
    "        previous_rsi_values[pair] = None\n",
    "        current_price[pair] = None\n",
    "        price_today = None\n",
    "\n",
    "        if len(pair_candles) > 0:\n",
    "            # We have enough data to get the latest price\n",
    "            current_price[pair] = price_today = pair_candles[\"close\"][-1]\n",
    "\n",
    "        if rsi_series is not None:\n",
    "            current_val = rsi_series[-1]\n",
    "            if np.isfinite(current_val):\n",
    "                # We have enough data and good value for RSI\n",
    "                assert 0 < current_val < 100, f\"RSI sanity check failed: {pair}: {current_val}\"  # Check we are in expected range\n",
    "                current_rsi_values[pair] = current_val\n",
    "\n",
    "            previous_val = rsi_series[-2]\n",
    "            if np.isfinite(previous_val):\n",
    "                # We have enough data and good value for RSI\n",
    "                assert 0 < previous_val < 100, f\"RSI sanity check failed: {pair}: {previous_val}\"  # Check we are in expected range\n",
    "                previous_rsi_values[pair] = previous_val\n",
    "\n",
    "            previous_rsi_values[pair] = previous_val\n",
    "\n",
    "    eth_btc_price = close_prices[eth_pair] / close_prices[btc_pair]\n",
    "    eth_btc_rsi = rsi(eth_btc_price, length=parameters.eth_btc_rsi_days)\n",
    "    if eth_btc_rsi is not None:\n",
    "        eth_btc_rsi_yesterday = eth_btc_rsi[-1]\n",
    "        momentum[eth_pair] = eth_btc_rsi_yesterday / 100\n",
    "        momentum[btc_pair] = 1 - momentum[eth_pair]\n",
    "\n",
    "    #\n",
    "    # Trading logic\n",
    "    #\n",
    "\n",
    "    for pair in [btc_pair, eth_pair]:\n",
    "\n",
    "        existing_position = position_manager.get_current_position_for_pair(pair)\n",
    "        pair_open = existing_position is not None\n",
    "        pair_momentum = momentum.get(pair, 0)\n",
    "        signal_strength = max(pair_momentum, 0.1)  # Singal strength must be positive, as we do long-only\n",
    "        if pd.isna(signal_strength):\n",
    "            signal_strength = 0\n",
    "        alpha_model.set_signal(pair, 0)\n",
    "\n",
    "        if pair_open:\n",
    "            # We have existing open position for this pair,\n",
    "            # keep it open by default unless we get a trigger condition below\n",
    "            position_manager.log(f\"Pair {pair} already open\")\n",
    "            alpha_model.set_signal(pair, signal_strength, trailing_stop_loss=parameters.trailing_stop_loss)\n",
    "\n",
    "        if current_rsi_values[pair] and previous_rsi_values[pair]:\n",
    "\n",
    "            # Check for RSI crossing our threshold values in this cycle, compared to the previous cycle\n",
    "            rsi_cross_above = current_rsi_values[pair] >= parameters.rsi_high and previous_rsi_values[btc_pair] < parameters.rsi_high\n",
    "            rsi_cross_below = current_rsi_values[pair] < parameters.rsi_low and previous_rsi_values[pair] > parameters.rsi_low\n",
    "\n",
    "            if not pair_open:\n",
    "                # Check for opening a position if no position is open\n",
    "                if rsi_cross_above:\n",
    "                    position_manager.log(f\"Pair {pair} crossed above\")\n",
    "                    alpha_model.set_signal(pair, signal_strength, trailing_stop_loss=parameters.trailing_stop_loss)\n",
    "            else:\n",
    "                # We have open position, check for the closure condition\n",
    "                if rsi_cross_below:\n",
    "                    position_manager.log(f\"Pair {pair} crossed below\")\n",
    "                    alpha_model.set_signal(pair, 0)\n",
    "\n",
    "    # Equally weight for all assets that\n",
    "    alpha_model.select_top_signals(2)\n",
    "    alpha_model.assign_weights(weight_passthrouh)\n",
    "    alpha_model.normalise_weights()\n",
    "    alpha_model.update_old_weights(state.portfolio)\n",
    "    portfolio = position_manager.get_current_portfolio()\n",
    "    portfolio_target_value = portfolio.get_total_equity() * parameters.allocation\n",
    "    alpha_model.calculate_target_positions(position_manager, portfolio_target_value)\n",
    "    trades = alpha_model.generate_rebalance_trades_and_triggers(\n",
    "        position_manager,\n",
    "        min_trade_threshold=parameters.minimum_rebalance_trade_threshold,\n",
    "    )\n",
    "\n",
    "    #\n",
    "    # Visualisations\n",
    "    #\n",
    "\n",
    "    visualisation = state.visualisation  # Helper class to visualise strategy output\n",
    "\n",
    "    visualisation.plot_indicator(\n",
    "        timestamp,\n",
    "        f\"ETH\",\n",
    "        PlotKind.technical_indicator_detached,\n",
    "        current_price[eth_pair],\n",
    "        colour=\"blue\",\n",
    "    )\n",
    "\n",
    "    # Draw BTC + ETH RSI between its trigger zones for this pair of we got a valid value for RSI for this pair\n",
    "\n",
    "    # BTC RSI daily\n",
    "    visualisation.plot_indicator(\n",
    "        timestamp,\n",
    "        f\"RSI\",\n",
    "        PlotKind.technical_indicator_detached,\n",
    "        current_rsi_values[btc_pair],\n",
    "        colour=\"orange\",\n",
    "    )\n",
    "\n",
    "    # ETH RSI daily\n",
    "    visualisation.plot_indicator(\n",
    "        timestamp,\n",
    "        f\"RSI ETH\",\n",
    "        PlotKind.technical_indicator_overlay_on_detached,\n",
    "        current_rsi_values[eth_pair],\n",
    "        colour=\"blue\",\n",
    "        label=PlotLabel.hidden,\n",
    "        detached_overlay_name=f\"RSI\",\n",
    "    )\n",
    "\n",
    "    # Low (vertical line)\n",
    "    visualisation.plot_indicator(\n",
    "        timestamp,\n",
    "        f\"RSI low trigger\",\n",
    "        PlotKind.technical_indicator_overlay_on_detached,\n",
    "        parameters.rsi_low,\n",
    "        detached_overlay_name=f\"RSI\",\n",
    "        plot_shape=PlotShape.horizontal_vertical,\n",
    "        colour=\"red\",\n",
    "        label=PlotLabel.hidden,\n",
    "    )\n",
    "\n",
    "    # High (vertical line)\n",
    "    visualisation.plot_indicator(\n",
    "        timestamp,\n",
    "        f\"RSI high trigger\",\n",
    "        PlotKind.technical_indicator_overlay_on_detached,\n",
    "        parameters.rsi_high,\n",
    "        detached_overlay_name=f\"RSI\",\n",
    "        plot_shape=PlotShape.horizontal_vertical,\n",
    "        colour=\"red\",\n",
    "        label=PlotLabel.hidden,\n",
    "    )\n",
    "\n",
    "    if eth_btc_rsi_yesterday is not None:\n",
    "\n",
    "        visualisation.plot_indicator(\n",
    "            timestamp,\n",
    "            f\"ETH/BTC\",\n",
    "            PlotKind.technical_indicator_detached,\n",
    "            eth_btc_price[-1],\n",
    "            colour=\"grey\",\n",
    "        )\n",
    "\n",
    "        if pd.notna(eth_btc_rsi_yesterday):\n",
    "            visualisation.plot_indicator(\n",
    "                timestamp,\n",
    "                f\"ETH/BTC RSI\",\n",
    "                PlotKind.technical_indicator_detached,\n",
    "                eth_btc_rsi_yesterday,\n",
    "                colour=\"grey\",\n",
    "            )\n",
    "\n",
    "    state.visualisation.add_calculations(timestamp, alpha_model.to_dict())  # Record alpha model thinking\n",
    "\n",
    "    return trades"
   ]
  },
  {
   "cell_type": "markdown",
   "metadata": {
    "collapsed": false
   },
   "source": [
    "# Search space\n",
    "\n",
    "Prepare the parameters we search."
   ]
  },
  {
   "cell_type": "code",
   "execution_count": 5,
   "metadata": {
    "collapsed": false,
    "ExecuteTime": {
     "end_time": "2024-02-13T09:42:06.685412Z",
     "start_time": "2024-02-13T09:42:06.370881Z"
    }
   },
   "outputs": [
    {
     "name": "stdout",
     "output_type": "stream",
     "text": [
      "We prepared 4032 grid search combinations, the first combination is #1, eth_btc_rsi_days=21, rsi_days=5, rsi_high=55, rsi_low=30, trailing_stop_loss=None\n"
     ]
    }
   ],
   "source": [
    "from tradeexecutor.strategy.cycle import CycleDuration\n",
    "from pathlib import Path\n",
    "from tradeexecutor.backtest.grid_search import prepare_grid_combinations\n",
    "\n",
    "# This is the path where we keep the result files around\n",
    "storage_folder = Path(\"/tmp/v8-grid-search-stop-loss\")\n",
    "\n",
    "class StrategyParameters:\n",
    "    cycle_duration = CycleDuration.cycle_1d\n",
    "    rsi_days = [5, 6, 8, 9, 10, 12, 14, 16]  # The length of RSI indicator\n",
    "    eth_btc_rsi_days = [21, 60, 120]  # The length of ETH/BTC RSI\n",
    "    rsi_high = [55, 60, 67, 70, 73, 77, 80] # RSI trigger threshold for decision making\n",
    "    rsi_low = [30, 40, 50, 60]  # RSI trigger threshold for decision making\n",
    "    allocation = 0.85 # Allocate 90% of cash to each position\n",
    "    lookback_candles = 140\n",
    "    minimum_rebalance_trade_threshold = 500.00  # Don't do trades that would have less than 500 USD value change\n",
    "    initial_cash = 10_000 # Start with 10k USD\n",
    "    trailing_stop_loss = [None, 0.85, 0.875, 0.90, 0.925, 0.95]\n",
    "\n",
    "combinations = prepare_grid_combinations(StrategyParameters, storage_folder)\n",
    "print(f\"We prepared {len(combinations)} grid search combinations, the first combination is {combinations[0].get_label()}\")"
   ]
  },
  {
   "cell_type": "markdown",
   "metadata": {
    "collapsed": false
   },
   "source": [
    "# Grid search\n",
    "\n",
    "Run a grid search on the above function."
   ]
  },
  {
   "cell_type": "code",
   "execution_count": 6,
   "metadata": {
    "collapsed": false,
    "ExecuteTime": {
     "end_time": "2024-02-13T09:48:15.445385Z",
     "start_time": "2024-02-13T09:42:06.684923Z"
    }
   },
   "outputs": [
    {
     "data": {
      "text/plain": "Reading cached grid search results using 16 threads: eth_btc_rsi_days, rsi_days, rsi_high, rsi_low, trailing_s…",
      "application/vnd.jupyter.widget-view+json": {
       "version_major": 2,
       "version_minor": 0,
       "model_id": "fd0d9865dd84475fa7ff4b41c9e4f35c"
      }
     },
     "metadata": {},
     "output_type": "display_data"
    },
    {
     "ename": "KeyboardInterrupt",
     "evalue": "",
     "output_type": "error",
     "traceback": [
      "\u001B[0;31m---------------------------------------------------------------------------\u001B[0m",
      "\u001B[0;31mKeyboardInterrupt\u001B[0m                         Traceback (most recent call last)",
      "Cell \u001B[0;32mIn[6], line 3\u001B[0m\n\u001B[1;32m      1\u001B[0m \u001B[38;5;28;01mfrom\u001B[39;00m \u001B[38;5;21;01mtradeexecutor\u001B[39;00m\u001B[38;5;21;01m.\u001B[39;00m\u001B[38;5;21;01mbacktest\u001B[39;00m\u001B[38;5;21;01m.\u001B[39;00m\u001B[38;5;21;01mgrid_search\u001B[39;00m \u001B[38;5;28;01mimport\u001B[39;00m perform_grid_search\n\u001B[0;32m----> 3\u001B[0m grid_search_results \u001B[38;5;241m=\u001B[39m \u001B[43mperform_grid_search\u001B[49m\u001B[43m(\u001B[49m\n\u001B[1;32m      4\u001B[0m \u001B[43m    \u001B[49m\u001B[43mdecide_trades\u001B[49m\u001B[43m,\u001B[49m\n\u001B[1;32m      5\u001B[0m \u001B[43m    \u001B[49m\u001B[43mstrategy_universe\u001B[49m\u001B[43m,\u001B[49m\n\u001B[1;32m      6\u001B[0m \u001B[43m    \u001B[49m\u001B[43mcombinations\u001B[49m\u001B[43m,\u001B[49m\n\u001B[1;32m      7\u001B[0m \u001B[43m    \u001B[49m\u001B[43mmax_workers\u001B[49m\u001B[38;5;241;43m=\u001B[39;49m\u001B[38;5;241;43m8\u001B[39;49m\u001B[43m,\u001B[49m\n\u001B[1;32m      8\u001B[0m \u001B[43m    \u001B[49m\u001B[43mtrading_strategy_engine_version\u001B[49m\u001B[38;5;241;43m=\u001B[39;49m\u001B[38;5;124;43m\"\u001B[39;49m\u001B[38;5;124;43m0.4\u001B[39;49m\u001B[38;5;124;43m\"\u001B[39;49m\u001B[43m,\u001B[49m\n\u001B[1;32m      9\u001B[0m \u001B[43m    \u001B[49m\u001B[43mmultiprocess\u001B[49m\u001B[38;5;241;43m=\u001B[39;49m\u001B[38;5;28;43;01mTrue\u001B[39;49;00m\u001B[43m,\u001B[49m\n\u001B[1;32m     10\u001B[0m \u001B[43m)\u001B[49m\n",
      "File \u001B[0;32m~/code/ts/trade-executor/tradeexecutor/backtest/grid_search.py:75\u001B[0m, in \u001B[0;36m_hide_warnings.<locals>.wrapper\u001B[0;34m(*args, **kwargs)\u001B[0m\n\u001B[1;32m     73\u001B[0m \u001B[38;5;28;01mwith\u001B[39;00m warnings\u001B[38;5;241m.\u001B[39mcatch_warnings():\n\u001B[1;32m     74\u001B[0m     warnings\u001B[38;5;241m.\u001B[39msimplefilter(\u001B[38;5;124m\"\u001B[39m\u001B[38;5;124mignore\u001B[39m\u001B[38;5;124m\"\u001B[39m)\n\u001B[0;32m---> 75\u001B[0m     \u001B[38;5;28;01mreturn\u001B[39;00m \u001B[43mfunc\u001B[49m\u001B[43m(\u001B[49m\u001B[38;5;241;43m*\u001B[39;49m\u001B[43margs\u001B[49m\u001B[43m,\u001B[49m\u001B[43m \u001B[49m\u001B[38;5;241;43m*\u001B[39;49m\u001B[38;5;241;43m*\u001B[39;49m\u001B[43mkwargs\u001B[49m\u001B[43m)\u001B[49m\n",
      "File \u001B[0;32m~/code/ts/trade-executor/tradeexecutor/backtest/grid_search.py:596\u001B[0m, in \u001B[0;36mperform_grid_search\u001B[0;34m(grid_search_worker, universe, combinations, max_workers, reader_pool_size, multiprocess, trading_strategy_engine_version)\u001B[0m\n\u001B[1;32m    589\u001B[0m start \u001B[38;5;241m=\u001B[39m datetime\u001B[38;5;241m.\u001B[39mdatetime\u001B[38;5;241m.\u001B[39mutcnow()\n\u001B[1;32m    591\u001B[0m logger\u001B[38;5;241m.\u001B[39minfo(\u001B[38;5;124m\"\u001B[39m\u001B[38;5;124mPerforming a grid search over \u001B[39m\u001B[38;5;132;01m%s\u001B[39;00m\u001B[38;5;124m combinations, with \u001B[39m\u001B[38;5;132;01m%d\u001B[39;00m\u001B[38;5;124m threads\u001B[39m\u001B[38;5;124m\"\u001B[39m,\n\u001B[1;32m    592\u001B[0m             \u001B[38;5;28mlen\u001B[39m(combinations),\n\u001B[1;32m    593\u001B[0m             max_workers,\n\u001B[1;32m    594\u001B[0m             )\n\u001B[0;32m--> 596\u001B[0m cached_results \u001B[38;5;241m=\u001B[39m \u001B[43m_read_cached_results\u001B[49m\u001B[43m(\u001B[49m\u001B[43mcombinations\u001B[49m\u001B[43m,\u001B[49m\u001B[43m \u001B[49m\u001B[43mreader_pool_size\u001B[49m\u001B[43m)\u001B[49m\n\u001B[1;32m    597\u001B[0m logger\u001B[38;5;241m.\u001B[39minfo(\u001B[38;5;124m\"\u001B[39m\u001B[38;5;124mRead \u001B[39m\u001B[38;5;132;01m%d\u001B[39;00m\u001B[38;5;124m cached results\u001B[39m\u001B[38;5;124m\"\u001B[39m, \u001B[38;5;28mlen\u001B[39m(cached_results))\n\u001B[1;32m    599\u001B[0m \u001B[38;5;28;01mif\u001B[39;00m \u001B[38;5;28mlen\u001B[39m(cached_results) \u001B[38;5;241m==\u001B[39m \u001B[38;5;28mlen\u001B[39m(combinations):\n",
      "File \u001B[0;32m~/code/ts/trade-executor/tradeexecutor/backtest/grid_search.py:532\u001B[0m, in \u001B[0;36m_read_cached_results\u001B[0;34m(combinations, reader_pool_size)\u001B[0m\n\u001B[1;32m    529\u001B[0m label \u001B[38;5;241m=\u001B[39m \u001B[38;5;124m\"\u001B[39m\u001B[38;5;124m, \u001B[39m\u001B[38;5;124m\"\u001B[39m\u001B[38;5;241m.\u001B[39mjoin(p\u001B[38;5;241m.\u001B[39mname \u001B[38;5;28;01mfor\u001B[39;00m p \u001B[38;5;129;01min\u001B[39;00m combinations[\u001B[38;5;241m0\u001B[39m]\u001B[38;5;241m.\u001B[39msearchable_parameters)\n\u001B[1;32m    530\u001B[0m \u001B[38;5;28;01mwith\u001B[39;00m tqdm(total\u001B[38;5;241m=\u001B[39m\u001B[38;5;28mlen\u001B[39m(task_args), desc\u001B[38;5;241m=\u001B[39m\u001B[38;5;124mf\u001B[39m\u001B[38;5;124m\"\u001B[39m\u001B[38;5;124mReading cached grid search results using \u001B[39m\u001B[38;5;132;01m{\u001B[39;00mreader_pool_size\u001B[38;5;132;01m}\u001B[39;00m\u001B[38;5;124m threads: \u001B[39m\u001B[38;5;132;01m{\u001B[39;00mlabel\u001B[38;5;132;01m}\u001B[39;00m\u001B[38;5;124m\"\u001B[39m) \u001B[38;5;28;01mas\u001B[39;00m progress_bar:\n\u001B[1;32m    531\u001B[0m     \u001B[38;5;66;03m# Extract results from the parallel task queue\u001B[39;00m\n\u001B[0;32m--> 532\u001B[0m     \u001B[38;5;28;01mfor\u001B[39;00m task \u001B[38;5;129;01min\u001B[39;00m tm\u001B[38;5;241m.\u001B[39mas_completed():\n\u001B[1;32m    533\u001B[0m         results[task\u001B[38;5;241m.\u001B[39margs[\u001B[38;5;241m0\u001B[39m]] \u001B[38;5;241m=\u001B[39m task\u001B[38;5;241m.\u001B[39mresult\n\u001B[1;32m    534\u001B[0m         progress_bar\u001B[38;5;241m.\u001B[39mupdate()\n",
      "File \u001B[0;32m~/Library/Caches/pypoetry/virtualenvs/trade-executor-8Oz1GdY1-py3.10/lib/python3.10/site-packages/futureproof/task_manager.py:129\u001B[0m, in \u001B[0;36mTaskManager.as_completed\u001B[0;34m(self)\u001B[0m\n\u001B[1;32m    127\u001B[0m     \u001B[38;5;28;01mif\u001B[39;00m \u001B[38;5;28mself\u001B[39m\u001B[38;5;241m.\u001B[39m_tasks_in_queue \u001B[38;5;241m==\u001B[39m \u001B[38;5;28mself\u001B[39m\u001B[38;5;241m.\u001B[39m_executor\u001B[38;5;241m.\u001B[39mmax_workers:\n\u001B[1;32m    128\u001B[0m         logger\u001B[38;5;241m.\u001B[39mdebug(\u001B[38;5;124m\"\u001B[39m\u001B[38;5;124mQueue full, waiting for result\u001B[39m\u001B[38;5;124m\"\u001B[39m)\n\u001B[0;32m--> 129\u001B[0m         \u001B[38;5;28;01myield\u001B[39;00m \u001B[38;5;28;43mself\u001B[39;49m\u001B[38;5;241;43m.\u001B[39;49m\u001B[43m_wait_for_result\u001B[49m\u001B[43m(\u001B[49m\u001B[43m)\u001B[49m\n\u001B[1;32m    131\u001B[0m     \u001B[38;5;28mself\u001B[39m\u001B[38;5;241m.\u001B[39m_submit_task(task)\n\u001B[1;32m    133\u001B[0m \u001B[38;5;28;01mwhile\u001B[39;00m \u001B[38;5;28mlen\u001B[39m(\u001B[38;5;28mself\u001B[39m\u001B[38;5;241m.\u001B[39mcompleted_tasks) \u001B[38;5;241m<\u001B[39m \u001B[38;5;28mself\u001B[39m\u001B[38;5;241m.\u001B[39m_submitted_task_count:\n",
      "File \u001B[0;32m~/Library/Caches/pypoetry/virtualenvs/trade-executor-8Oz1GdY1-py3.10/lib/python3.10/site-packages/futureproof/task_manager.py:177\u001B[0m, in \u001B[0;36mTaskManager._wait_for_result\u001B[0;34m(self)\u001B[0m\n\u001B[1;32m    175\u001B[0m \u001B[38;5;28;01mdef\u001B[39;00m \u001B[38;5;21m_wait_for_result\u001B[39m(\u001B[38;5;28mself\u001B[39m) \u001B[38;5;241m-\u001B[39m\u001B[38;5;241m>\u001B[39m Task:\n\u001B[1;32m    176\u001B[0m \u001B[38;5;250m    \u001B[39m\u001B[38;5;124;03m\"\"\"Gather result from a submitted tasks.\"\"\"\u001B[39;00m\n\u001B[0;32m--> 177\u001B[0m     completed_task \u001B[38;5;241m=\u001B[39m \u001B[38;5;28;43mself\u001B[39;49m\u001B[38;5;241;43m.\u001B[39;49m\u001B[43m_results_queue\u001B[49m\u001B[38;5;241;43m.\u001B[39;49m\u001B[43mget\u001B[49m\u001B[43m(\u001B[49m\u001B[43mblock\u001B[49m\u001B[38;5;241;43m=\u001B[39;49m\u001B[38;5;28;43;01mTrue\u001B[39;49;00m\u001B[43m)\u001B[49m\n\u001B[1;32m    178\u001B[0m     logger\u001B[38;5;241m.\u001B[39mdebug(\u001B[38;5;124m\"\u001B[39m\u001B[38;5;124mGathering result for completed task \u001B[39m\u001B[38;5;132;01m%r\u001B[39;00m\u001B[38;5;124m\"\u001B[39m, completed_task)\n\u001B[1;32m    179\u001B[0m     \u001B[38;5;28mself\u001B[39m\u001B[38;5;241m.\u001B[39m_tasks_in_queue \u001B[38;5;241m-\u001B[39m\u001B[38;5;241m=\u001B[39m \u001B[38;5;241m1\u001B[39m\n",
      "File \u001B[0;32m/opt/homebrew/Cellar/python@3.10/3.10.13/Frameworks/Python.framework/Versions/3.10/lib/python3.10/queue.py:171\u001B[0m, in \u001B[0;36mQueue.get\u001B[0;34m(self, block, timeout)\u001B[0m\n\u001B[1;32m    169\u001B[0m \u001B[38;5;28;01melif\u001B[39;00m timeout \u001B[38;5;129;01mis\u001B[39;00m \u001B[38;5;28;01mNone\u001B[39;00m:\n\u001B[1;32m    170\u001B[0m     \u001B[38;5;28;01mwhile\u001B[39;00m \u001B[38;5;129;01mnot\u001B[39;00m \u001B[38;5;28mself\u001B[39m\u001B[38;5;241m.\u001B[39m_qsize():\n\u001B[0;32m--> 171\u001B[0m         \u001B[38;5;28;43mself\u001B[39;49m\u001B[38;5;241;43m.\u001B[39;49m\u001B[43mnot_empty\u001B[49m\u001B[38;5;241;43m.\u001B[39;49m\u001B[43mwait\u001B[49m\u001B[43m(\u001B[49m\u001B[43m)\u001B[49m\n\u001B[1;32m    172\u001B[0m \u001B[38;5;28;01melif\u001B[39;00m timeout \u001B[38;5;241m<\u001B[39m \u001B[38;5;241m0\u001B[39m:\n\u001B[1;32m    173\u001B[0m     \u001B[38;5;28;01mraise\u001B[39;00m \u001B[38;5;167;01mValueError\u001B[39;00m(\u001B[38;5;124m\"\u001B[39m\u001B[38;5;124m'\u001B[39m\u001B[38;5;124mtimeout\u001B[39m\u001B[38;5;124m'\u001B[39m\u001B[38;5;124m must be a non-negative number\u001B[39m\u001B[38;5;124m\"\u001B[39m)\n",
      "File \u001B[0;32m/opt/homebrew/Cellar/python@3.10/3.10.13/Frameworks/Python.framework/Versions/3.10/lib/python3.10/threading.py:320\u001B[0m, in \u001B[0;36mCondition.wait\u001B[0;34m(self, timeout)\u001B[0m\n\u001B[1;32m    318\u001B[0m \u001B[38;5;28;01mtry\u001B[39;00m:    \u001B[38;5;66;03m# restore state no matter what (e.g., KeyboardInterrupt)\u001B[39;00m\n\u001B[1;32m    319\u001B[0m     \u001B[38;5;28;01mif\u001B[39;00m timeout \u001B[38;5;129;01mis\u001B[39;00m \u001B[38;5;28;01mNone\u001B[39;00m:\n\u001B[0;32m--> 320\u001B[0m         \u001B[43mwaiter\u001B[49m\u001B[38;5;241;43m.\u001B[39;49m\u001B[43macquire\u001B[49m\u001B[43m(\u001B[49m\u001B[43m)\u001B[49m\n\u001B[1;32m    321\u001B[0m         gotit \u001B[38;5;241m=\u001B[39m \u001B[38;5;28;01mTrue\u001B[39;00m\n\u001B[1;32m    322\u001B[0m     \u001B[38;5;28;01melse\u001B[39;00m:\n",
      "\u001B[0;31mKeyboardInterrupt\u001B[0m: "
     ]
    }
   ],
   "source": [
    "from tradeexecutor.backtest.grid_search import perform_grid_search\n",
    "\n",
    "grid_search_results = perform_grid_search(\n",
    "    decide_trades,\n",
    "    strategy_universe,\n",
    "    combinations,\n",
    "    max_workers=8,\n",
    "    trading_strategy_engine_version=\"0.4\",\n",
    "    multiprocess=True,\n",
    ")\n"
   ]
  },
  {
   "cell_type": "markdown",
   "metadata": {
    "collapsed": false
   },
   "source": [
    "# Grid search result table\n",
    "\n",
    "- Show individual profit and risk for each grid combination\n",
    "- Because of high number of results, we filter the results using Sharpe to more interesting ones"
   ]
  },
  {
   "cell_type": "markdown",
   "source": [],
   "metadata": {
    "collapsed": false
   }
  },
  {
   "cell_type": "code",
   "execution_count": null,
   "metadata": {
    "collapsed": false
   },
   "outputs": [],
   "source": [
    "# Set Jupyter Notebook output mode parameters\n",
    "from tradeexecutor.analysis.grid_search import analyse_grid_search_result\n",
    "from tradeexecutor.analysis.grid_search import visualise_table\n",
    "\n",
    "# Print extension of our backtest\n",
    "cached_results = [r for r in grid_search_results if r.cached]\n",
    "print(f\"Grid search results available: {len(grid_search_results)}, of which we got cached {len(cached_results)} in {storage_folder}\")\n",
    "\n",
    "# Filter out non-performant results\n",
    "grid_search_results = [r for r in grid_search_results if r.get_metric(\"Sharpe\") >= 1]\n",
    "print(f\"Grid search results filtered: {len(grid_search_results)}\")\n",
    "table = analyse_grid_search_result(grid_search_results)\n",
    "\n",
    "visualise_table(table)\n",
    "\n"
   ]
  },
  {
   "cell_type": "markdown",
   "metadata": {
    "collapsed": false
   },
   "source": [
    "# Equity curve comparison\n",
    "\n",
    "- Compare the equity curves of all grid search results\n",
    "- Show the grid search parameters as the tool tip\n",
    "- Add buy and hold benchmarks on the plot"
   ]
  },
  {
   "cell_type": "code",
   "execution_count": null,
   "metadata": {
    "collapsed": false
   },
   "outputs": [],
   "source": [
    "from tradeexecutor.analysis.grid_search import visualise_grid_search_equity_curves\n",
    "from tradeexecutor.visual.benchmark import create_benchmark_equity_curves\n",
    "\n",
    "benchmark_indexes = create_benchmark_equity_curves(\n",
    "    strategy_universe,\n",
    "    {\"BTC\": our_pairs[0], \"ETH\": our_pairs[1]},\n",
    "    initial_cash=StrategyParameters.initial_cash,\n",
    ")\n",
    "\n",
    "fig = visualise_grid_search_equity_curves(\n",
    "    grid_search_results,\n",
    "    benchmark_indexes=benchmark_indexes,\n",
    ")\n",
    "fig.show()"
   ]
  },
  {
   "cell_type": "code",
   "execution_count": null,
   "metadata": {
    "collapsed": false
   },
   "outputs": [],
   "source": []
  }
 ],
 "metadata": {
  "kernelspec": {
   "display_name": "Python 3 (ipykernel)",
   "language": "python",
   "name": "python3"
  },
  "language_info": {
   "codemirror_mode": {
    "name": "ipython",
    "version": 3
   },
   "file_extension": ".py",
   "mimetype": "text/x-python",
   "name": "python",
   "nbconvert_exporter": "python",
   "pygments_lexer": "ipython3",
   "version": "3.10.13"
  },
  "vscode": {
   "interpreter": {
    "hash": "f45fb66dacef78c495ceec56f258b06b84bd9cb2c0a9a6d3656125fb3c018996"
   }
  }
 },
 "nbformat": 4,
 "nbformat_minor": 4
}
