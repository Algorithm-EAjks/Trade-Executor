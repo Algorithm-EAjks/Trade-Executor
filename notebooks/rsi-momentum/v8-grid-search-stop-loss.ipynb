{
 "cells": [
  {
   "cell_type": "markdown",
   "metadata": {
    "collapsed": false
   },
   "source": [
    "# RSI momentum trading strategy example\n",
    "\n",
    "- This is a backtest example notebook\n",
    "    - This notebook does a grid search over parameters of v7 notebook, enabling few more searchable parameters like trailing stop loss and ETH/BTC RSI\n",
    "    - Because we have thousands of output entries, we filter out with Sharpe > 1\n",
    "    - Running this notebook will take some hours\n",
    "\n",
    "# Set up\n",
    "\n",
    "Set up Trading Strategy data client.\n"
   ]
  },
  {
   "cell_type": "code",
   "execution_count": null,
   "metadata": {
    "collapsed": false
   },
   "outputs": [],
   "source": [
    "from tradeexecutor.utils.notebook import setup_charting_and_output\n",
    "from tradingstrategy.client import Client\n",
    "\n",
    "client = Client.create_jupyter_client()\n",
    "\n",
    "# Render for Github web viewer\n",
    "from tradeexecutor.utils.notebook import setup_charting_and_output, OutputMode\n",
    "\n",
    "#setup_charting_and_output(OutputMode.static, image_format=\"png\", width=1500, height=1000)\n",
    "setup_charting_and_output(width=1500, height=1000)"
   ]
  },
  {
   "cell_type": "markdown",
   "metadata": {
    "collapsed": false
   },
   "source": [
    "# Load data\n",
    "\n",
    "We use Binance data so we get a longer period of data."
   ]
  },
  {
   "cell_type": "code",
   "execution_count": null,
   "metadata": {
    "collapsed": false
   },
   "outputs": [],
   "source": [
    "import datetime\n",
    "from tradingstrategy.timebucket import TimeBucket\n",
    "from tradeexecutor.utils.binance import create_binance_universe\n",
    "\n",
    "strategy_universe = create_binance_universe(\n",
    "    [\"BTCUSDT\", \"ETHUSDT\"],   # Binance internal tickers later mapped to Trading strategy DEXPair metadata class\n",
    "    candle_time_bucket=TimeBucket.d1,\n",
    "    stop_loss_time_bucket=TimeBucket.h1,\n",
    "    start_at=datetime.datetime(2019, 1, 1),  # Backtest for 5 years data\n",
    "    end_at=datetime.datetime(2024, 1, 1),\n",
    "    include_lending=False\n",
    ")\n"
   ]
  },
  {
   "cell_type": "markdown",
   "metadata": {
    "collapsed": false
   },
   "source": [
    "# Show loaded trading universe\n",
    "\n",
    "Display generic troubleshooting information about the loaded data."
   ]
  },
  {
   "cell_type": "code",
   "execution_count": null,
   "metadata": {
    "collapsed": false
   },
   "outputs": [],
   "source": [
    "pairs = strategy_universe.data_universe.pairs  # Trading pairs metadata\n",
    "candles = strategy_universe.data_universe.candles  # Candles for all trading pairs\n",
    "\n",
    "print(f\"Loaded {candles.get_candle_count():,} candles.\")\n",
    "\n",
    "for pair in pairs.iterate_pairs():\n",
    "    pair_candles = candles.get_candles_by_pair(pair)\n",
    "    first_close = pair_candles.iloc[0][\"close\"]\n",
    "    first_close_at = pair_candles.index[0]\n",
    "    print(f\"Pair {pair} first close price {first_close} at {first_close_at}\")"
   ]
  },
  {
   "cell_type": "markdown",
   "metadata": {
    "collapsed": false
   },
   "source": [
    "# Trading algorithm"
   ]
  },
  {
   "cell_type": "code",
   "execution_count": null,
   "metadata": {
    "collapsed": false
   },
   "outputs": [],
   "source": [
    "from tradeexecutor.strategy.parameters import StrategyParameters\n",
    "from tradeexecutor.strategy.weighting import weight_equal, weight_by_1_slash_n, weight_passthrouh\n",
    "from tradeexecutor.strategy.alpha_model import AlphaModel\n",
    "import numpy as np\n",
    "from tradeexecutor.strategy.pandas_trader.position_manager import PositionManager\n",
    "from tradingstrategy.chain import ChainId\n",
    "from typing import List, Dict\n",
    "\n",
    "from pandas_ta.momentum import rsi\n",
    "import pandas as pd\n",
    "\n",
    "from tradeexecutor.strategy.trading_strategy_universe import TradingStrategyUniverse\n",
    "from tradeexecutor.state.visualisation import PlotKind, PlotShape, PlotLabel\n",
    "from tradeexecutor.state.trade import TradeExecution\n",
    "from tradeexecutor.strategy.pricing_model import PricingModel\n",
    "from tradeexecutor.state.state import State\n",
    "\n",
    "# List of pair descriptions we used to look up pair metadata\n",
    "our_pairs = [\n",
    "    (ChainId.centralised_exchange, \"binance\", \"BTC\", \"USDT\"),\n",
    "    (ChainId.centralised_exchange, \"binance\", \"ETH\", \"USDT\"),\n",
    "]\n",
    "\n",
    "def decide_trades(\n",
    "    timestamp: pd.Timestamp,\n",
    "    parameters: StrategyParameters,\n",
    "    strategy_universe: TradingStrategyUniverse,\n",
    "    state: State,\n",
    "    pricing_model: PricingModel,\n",
    ") -> List[TradeExecution]:\n",
    "\n",
    "    # Resolve our pair metadata for our two pair strategy\n",
    "    position_manager = PositionManager(timestamp, strategy_universe, state, pricing_model)\n",
    "    alpha_model = AlphaModel(timestamp)\n",
    "    btc_pair = position_manager.get_trading_pair(our_pairs[0])\n",
    "    eth_pair = position_manager.get_trading_pair(our_pairs[1])\n",
    "\n",
    "    position_manager.log(\"decide_trades() start\")\n",
    "\n",
    "    #\n",
    "    # Indicators\n",
    "    #\n",
    "    # Calculate indicators for each pair.\n",
    "    #\n",
    "\n",
    "    # Per-trading pair calcualted data\n",
    "    close_prices = {btc_pair: None, eth_pair: None}  # Recent close prices\n",
    "    current_rsi_values = {}  # RSI yesterday\n",
    "    previous_rsi_values = {}  # RSI day before yesterday\n",
    "    current_price = {}  # Close price yesterday\n",
    "    momentum = {btc_pair: 0, eth_pair: 0}\n",
    "    eth_btc_rsi_yesterday = None\n",
    "\n",
    "    for pair in [btc_pair, eth_pair]:\n",
    "\n",
    "        pair_candles = candles.get_last_entries_by_pair_and_timestamp(pair.internal_id, timestamp)\n",
    "        close_prices[pair] = pair_candles[\"close\"]\n",
    "\n",
    "        assert pair_candles is not None\n",
    "        rsi_series = rsi(pair_candles[\"close\"], length=parameters.rsi_days)  # Will return None if the data buffer does not have enough days to look back\n",
    "\n",
    "        # Reset indicators for this cycle and this pair\n",
    "        current_rsi_values[pair] = None\n",
    "        previous_rsi_values[pair] = None\n",
    "        current_price[pair] = None\n",
    "        price_today = None\n",
    "\n",
    "        if len(pair_candles) > 0:\n",
    "            # We have enough data to get the latest price\n",
    "            current_price[pair] = price_today = pair_candles[\"close\"][-1]\n",
    "\n",
    "        if rsi_series is not None:\n",
    "            current_val = rsi_series[-1]\n",
    "            if np.isfinite(current_val):\n",
    "                # We have enough data and good value for RSI\n",
    "                assert 0 < current_val < 100, f\"RSI sanity check failed: {pair}: {current_val}\"  # Check we are in expected range\n",
    "                current_rsi_values[pair] = current_val\n",
    "\n",
    "            previous_val = rsi_series[-2]\n",
    "            if np.isfinite(previous_val):\n",
    "                # We have enough data and good value for RSI\n",
    "                assert 0 < previous_val < 100, f\"RSI sanity check failed: {pair}: {previous_val}\"  # Check we are in expected range\n",
    "                previous_rsi_values[pair] = previous_val\n",
    "\n",
    "            previous_rsi_values[pair] = previous_val\n",
    "\n",
    "    eth_btc_price = close_prices[eth_pair] / close_prices[btc_pair]\n",
    "    eth_btc_rsi = rsi(eth_btc_price, length=parameters.eth_btc_rsi_days)\n",
    "    if eth_btc_rsi is not None:\n",
    "        eth_btc_rsi_yesterday = eth_btc_rsi[-1]\n",
    "        momentum[eth_pair] = eth_btc_rsi_yesterday / 100\n",
    "        momentum[btc_pair] = 1 - momentum[eth_pair]\n",
    "\n",
    "    #\n",
    "    # Trading logic\n",
    "    #\n",
    "\n",
    "    for pair in [btc_pair, eth_pair]:\n",
    "\n",
    "        existing_position = position_manager.get_current_position_for_pair(pair)\n",
    "        pair_open = existing_position is not None\n",
    "        pair_momentum = momentum.get(pair, 0)\n",
    "        signal_strength = max(pair_momentum, 0.1)  # Singal strength must be positive, as we do long-only\n",
    "        if pd.isna(signal_strength):\n",
    "            signal_strength = 0\n",
    "        alpha_model.set_signal(pair, 0)\n",
    "\n",
    "        if pair_open:\n",
    "            # We have existing open position for this pair,\n",
    "            # keep it open by default unless we get a trigger condition below\n",
    "            position_manager.log(f\"Pair {pair} already open\")\n",
    "            alpha_model.set_signal(pair, signal_strength, trailing_stop_loss=parameters.trailing_stop_loss)\n",
    "\n",
    "        if current_rsi_values[pair] and previous_rsi_values[pair]:\n",
    "\n",
    "            # Check for RSI crossing our threshold values in this cycle, compared to the previous cycle\n",
    "            rsi_cross_above = current_rsi_values[pair] >= parameters.rsi_high and previous_rsi_values[btc_pair] < parameters.rsi_high\n",
    "            rsi_cross_below = current_rsi_values[pair] < parameters.rsi_low and previous_rsi_values[pair] > parameters.rsi_low\n",
    "\n",
    "            if not pair_open:\n",
    "                # Check for opening a position if no position is open\n",
    "                if rsi_cross_above:\n",
    "                    position_manager.log(f\"Pair {pair} crossed above\")\n",
    "                    alpha_model.set_signal(pair, signal_strength, trailing_stop_loss=parameters.trailing_stop_loss)\n",
    "            else:\n",
    "                # We have open position, check for the closure condition\n",
    "                if rsi_cross_below:\n",
    "                    position_manager.log(f\"Pair {pair} crossed below\")\n",
    "                    alpha_model.set_signal(pair, 0)\n",
    "\n",
    "    # Equally weight for all assets that\n",
    "    alpha_model.select_top_signals(2)\n",
    "    alpha_model.assign_weights(weight_passthrouh)\n",
    "    alpha_model.normalise_weights()\n",
    "    alpha_model.update_old_weights(state.portfolio)\n",
    "    portfolio = position_manager.get_current_portfolio()\n",
    "    portfolio_target_value = portfolio.get_total_equity() * parameters.allocation\n",
    "    alpha_model.calculate_target_positions(position_manager, portfolio_target_value)\n",
    "    trades = alpha_model.generate_rebalance_trades_and_triggers(\n",
    "        position_manager,\n",
    "        min_trade_threshold=parameters.minimum_rebalance_trade_threshold,\n",
    "    )\n",
    "\n",
    "    #\n",
    "    # Visualisations\n",
    "    #\n",
    "\n",
    "    visualisation = state.visualisation  # Helper class to visualise strategy output\n",
    "\n",
    "    visualisation.plot_indicator(\n",
    "        timestamp,\n",
    "        f\"ETH\",\n",
    "        PlotKind.technical_indicator_detached,\n",
    "        current_price[eth_pair],\n",
    "        colour=\"blue\",\n",
    "    )\n",
    "\n",
    "    # Draw BTC + ETH RSI between its trigger zones for this pair of we got a valid value for RSI for this pair\n",
    "\n",
    "    # BTC RSI daily\n",
    "    visualisation.plot_indicator(\n",
    "        timestamp,\n",
    "        f\"RSI\",\n",
    "        PlotKind.technical_indicator_detached,\n",
    "        current_rsi_values[btc_pair],\n",
    "        colour=\"orange\",\n",
    "    )\n",
    "\n",
    "    # ETH RSI daily\n",
    "    visualisation.plot_indicator(\n",
    "        timestamp,\n",
    "        f\"RSI ETH\",\n",
    "        PlotKind.technical_indicator_overlay_on_detached,\n",
    "        current_rsi_values[eth_pair],\n",
    "        colour=\"blue\",\n",
    "        label=PlotLabel.hidden,\n",
    "        detached_overlay_name=f\"RSI\",\n",
    "    )\n",
    "\n",
    "    # Low (vertical line)\n",
    "    visualisation.plot_indicator(\n",
    "        timestamp,\n",
    "        f\"RSI low trigger\",\n",
    "        PlotKind.technical_indicator_overlay_on_detached,\n",
    "        parameters.rsi_low,\n",
    "        detached_overlay_name=f\"RSI\",\n",
    "        plot_shape=PlotShape.horizontal_vertical,\n",
    "        colour=\"red\",\n",
    "        label=PlotLabel.hidden,\n",
    "    )\n",
    "\n",
    "    # High (vertical line)\n",
    "    visualisation.plot_indicator(\n",
    "        timestamp,\n",
    "        f\"RSI high trigger\",\n",
    "        PlotKind.technical_indicator_overlay_on_detached,\n",
    "        parameters.rsi_high,\n",
    "        detached_overlay_name=f\"RSI\",\n",
    "        plot_shape=PlotShape.horizontal_vertical,\n",
    "        colour=\"red\",\n",
    "        label=PlotLabel.hidden,\n",
    "    )\n",
    "\n",
    "    if eth_btc_rsi_yesterday is not None:\n",
    "\n",
    "        visualisation.plot_indicator(\n",
    "            timestamp,\n",
    "            f\"ETH/BTC\",\n",
    "            PlotKind.technical_indicator_detached,\n",
    "            eth_btc_price[-1],\n",
    "            colour=\"grey\",\n",
    "        )\n",
    "\n",
    "        if pd.notna(eth_btc_rsi_yesterday):\n",
    "            visualisation.plot_indicator(\n",
    "                timestamp,\n",
    "                f\"ETH/BTC RSI\",\n",
    "                PlotKind.technical_indicator_detached,\n",
    "                eth_btc_rsi_yesterday,\n",
    "                colour=\"grey\",\n",
    "            )\n",
    "\n",
    "    state.visualisation.add_calculations(timestamp, alpha_model.to_dict())  # Record alpha model thinking\n",
    "\n",
    "    return trades"
   ]
  },
  {
   "cell_type": "markdown",
   "metadata": {
    "collapsed": false
   },
   "source": [
    "# Search space\n",
    "\n",
    "Prepare the parameters we search."
   ]
  },
  {
   "cell_type": "code",
   "execution_count": null,
   "metadata": {
    "collapsed": false
   },
   "outputs": [],
   "source": [
    "from tradeexecutor.strategy.cycle import CycleDuration\n",
    "from pathlib import Path\n",
    "from tradeexecutor.backtest.grid_search import prepare_grid_combinations\n",
    "\n",
    "# This is the path where we keep the result files around\n",
    "storage_folder = Path(\"/tmp/v8-grid-search-stop-loss\")\n",
    "\n",
    "class StrategyParameters:\n",
    "    cycle_duration = CycleDuration.cycle_1d\n",
    "    rsi_days = [5, 6, 8, 9, 10, 12, 14, 16]  # The length of RSI indicator\n",
    "    eth_btc_rsi_days = [21, 60, 120]  # The length of ETH/BTC RSI\n",
    "    rsi_high = [55, 60, 67, 70, 73, 77, 80] # RSI trigger threshold for decision making\n",
    "    rsi_low = [30, 40, 50, 60]  # RSI trigger threshold for decision making\n",
    "    allocation = 0.85 # Allocate 90% of cash to each position\n",
    "    lookback_candles = 140\n",
    "    minimum_rebalance_trade_threshold = 500.00  # Don't do trades that would have less than 500 USD value change\n",
    "    initial_cash = 10_000 # Start with 10k USD\n",
    "    trailing_stop_loss = [None, 0.85, 0.875, 0.90, 0.925, 0.95]\n",
    "\n",
    "combinations = prepare_grid_combinations(StrategyParameters, storage_folder)\n",
    "print(f\"We prepared {len(combinations)} grid search combinations, the first combination is {combinations[0].get_label()}\")"
   ]
  },
  {
   "cell_type": "markdown",
   "metadata": {
    "collapsed": false
   },
   "source": [
    "# Grid search\n",
    "\n",
    "Run a grid search on the above function."
   ]
  },
  {
   "cell_type": "code",
   "execution_count": null,
   "metadata": {
    "collapsed": false
   },
   "outputs": [],
   "source": [
    "from tradeexecutor.backtest.grid_search import perform_grid_search\n",
    "\n",
    "\n",
    "grid_search_results = perform_grid_search(\n",
    "    decide_trades,\n",
    "    strategy_universe,\n",
    "    combinations,\n",
    "    max_workers=8,\n",
    "    trading_strategy_engine_version=\"0.4\",\n",
    "    multiprocess=True,\n",
    ")\n"
   ]
  },
  {
   "cell_type": "markdown",
   "metadata": {
    "collapsed": false
   },
   "source": [
    "# Grid search result table\n",
    "\n",
    "- Show individual profit and risk for each grid combination\n",
    "- Because of high number of results, we filter the results using Sharpe to more interesting ones"
   ]
  },
  {
   "cell_type": "markdown",
   "metadata": {
    "collapsed": false
   },
   "source": []
  },
  {
   "cell_type": "code",
   "execution_count": null,
   "metadata": {
    "collapsed": false
   },
   "outputs": [],
   "source": [
    "# Set Jupyter Notebook output mode parameters\n",
    "from tradeexecutor.analysis.grid_search import analyse_grid_search_result\n",
    "from tradeexecutor.analysis.grid_search import visualise_table\n",
    "\n",
    "# Print extension of our backtest\n",
    "cached_results = [r for r in grid_search_results if r.cached]\n",
    "print(f\"Grid search results available: {len(grid_search_results)}, of which we got cached {len(cached_results)} in {storage_folder}\")\n",
    "\n",
    "# Filter out non-performant results\n",
    "grid_search_results = [r for r in grid_search_results if r.get_metric(\"Sharpe\") >= 1]\n",
    "print(f\"Grid search results filtered: {len(grid_search_results)}\")\n",
    "table = analyse_grid_search_result(grid_search_results)\n",
    "\n",
    "visualise_table(table)"
   ]
  },
  {
   "cell_type": "markdown",
   "metadata": {
    "collapsed": false
   },
   "source": [
    "# Equity curve comparison\n",
    "\n",
    "- Compare the equity curves of all grid search results\n",
    "- Show the grid search parameters as the tool tip\n",
    "- Add buy and hold benchmarks on the plot"
   ]
  },
  {
   "cell_type": "code",
   "execution_count": null,
   "metadata": {
    "collapsed": false
   },
   "outputs": [],
   "source": [
    "from tradeexecutor.analysis.grid_search import visualise_grid_search_equity_curves\n",
    "from tradeexecutor.visual.benchmark import create_benchmark_equity_curves\n",
    "\n",
    "# To not to crash the notebook with too many plots,\n",
    "# further limit the results to once that have 20% yearly profit\n",
    "grid_search_results = [r for r in grid_search_results if r.get_metric(\"CAGR﹪\") >= 0.20]\n",
    "\n",
    "benchmark_indexes = create_benchmark_equity_curves(\n",
    "    strategy_universe,\n",
    "    {\"BTC\": our_pairs[0], \"ETH\": our_pairs[1]},\n",
    "    initial_cash=StrategyParameters.initial_cash,\n",
    ")\n",
    "\n",
    "fig = visualise_grid_search_equity_curves(\n",
    "    grid_search_results,\n",
    "    benchmark_indexes=benchmark_indexes,\n",
    ")\n",
    "fig.show()"
   ]
  },
  {
   "cell_type": "code",
   "execution_count": null,
   "metadata": {
    "collapsed": false
   },
   "outputs": [],
   "source": []
  }
 ],
 "metadata": {
  "kernelspec": {
   "display_name": "Python 3 (ipykernel)",
   "language": "python",
   "name": "python3"
  },
  "language_info": {
   "codemirror_mode": {
    "name": "ipython",
    "version": 3
   },
   "file_extension": ".py",
   "mimetype": "text/x-python",
   "name": "python",
   "nbconvert_exporter": "python",
   "pygments_lexer": "ipython3",
   "version": "3.10.13"
  },
  "vscode": {
   "interpreter": {
    "hash": "f45fb66dacef78c495ceec56f258b06b84bd9cb2c0a9a6d3656125fb3c018996"
   }
  }
 },
 "nbformat": 4,
 "nbformat_minor": 4
}
