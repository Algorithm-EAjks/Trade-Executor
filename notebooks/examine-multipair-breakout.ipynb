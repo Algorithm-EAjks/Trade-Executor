{
 "cells": [
  {
   "cell_type": "code",
   "execution_count": 6,
   "metadata": {},
   "outputs": [
    {
     "name": "stdout",
     "output_type": "stream",
     "text": [
      "Started Trading Strategy in Jupyter notebook environment, configuration is stored in /home/alex/.tradingstrategy\n"
     ]
    }
   ],
   "source": [
    "from tradingstrategy.client import Client\n",
    "\n",
    "client = Client.create_jupyter_client()"
   ]
  },
  {
   "cell_type": "code",
   "execution_count": 7,
   "metadata": {},
   "outputs": [
    {
     "name": "stdout",
     "output_type": "stream",
     "text": [
      "Downloaded 10,121,003 bytes state data\n"
     ]
    },
    {
     "name": "stderr",
     "output_type": "stream",
     "text": [
      "/home/alex/.cache/pypoetry/virtualenvs/trade-executor-xSh0vQvh-py3.10/lib/python3.10/site-packages/dataclasses_json/core.py:187: RuntimeWarning: 'NoneType' object value of non-optional type closing detected when decoding TradeExecution.\n",
      "  warnings.warn(\n",
      "/home/alex/.cache/pypoetry/virtualenvs/trade-executor-xSh0vQvh-py3.10/lib/python3.10/site-packages/dataclasses_json/core.py:187: RuntimeWarning: 'NoneType' object value of non-optional type initial_cash detected when decoding TradeSummary.\n",
      "  warnings.warn(\n"
     ]
    },
    {
     "name": "stdout",
     "output_type": "stream",
     "text": [
      "trade-executor was launched at: 2023-06-23 13:01:41, we have 170 trades\n"
     ]
    }
   ],
   "source": [
    "\n",
    "from tradeexecutor.monkeypatch.dataclasses_json import patch_dataclasses_json\n",
    "from tradeexecutor.state.state import State\n",
    "import requests\n",
    "\n",
    "# Currently needed because unpatched dataclasses_json package issues\n",
    "patch_dataclasses_json()\n",
    "\n",
    "# Public internet endpoint as exposed by the trade executor Docker\n",
    "webbhook_url = \"https://enzyme-polygon-multipair.tradingstrategy.ai/\"\n",
    "\n",
    "state_api = f\"{webbhook_url}/state\"\n",
    "\n",
    "resp = requests.get(state_api)\n",
    "\n",
    "state_blob = resp.content\n",
    "\n",
    "print(f\"Downloaded {len(state_blob):,} bytes state data\")\n",
    "\n",
    "state = State.from_json(state_blob)\n",
    "\n",
    "print(f\"trade-executor was launched at: {state.created_at}, we have {len(list(state.portfolio.get_all_trades()))} trades\")"
   ]
  },
  {
   "cell_type": "markdown",
   "metadata": {},
   "source": [
    "### Breakpoint\n",
    "Convert to normal for loop (with enumerate) and set conditional breakpoint here (i == 80). After reaching this breakpoint, the next step is to step into the `get_size_relative_realised_profit_percent` method and go from there.\n",
    "\n",
    "```python\n",
    "\n",
    "https://github.com/tradingstrategy-ai/trade-executor/blob/7c74a2ce9443558f7c40abf6675a57bf05a78108/tradeexecutor/visual/equity_curve.py#L366\n",
    "\n",
    "```python\n",
    "data = []\n",
    "for i, p in enumerate(state.portfolio.closed_positions.values()):\n",
    "    if not p.is_closed():\n",
    "        continue\n",
    "\n",
    "    data.append((p.closed_at, p.get_size_relative_realised_profit_percent()))\n",
    "```"
   ]
  },
  {
   "cell_type": "code",
   "execution_count": 8,
   "metadata": {},
   "outputs": [
    {
     "name": "stdout",
     "output_type": "stream",
     "text": [
      "Returns all time: -28.38%\n"
     ]
    }
   ],
   "source": [
    "from tradeexecutor.visual.equity_curve import calculate_compounding_realised_trading_profitability\n",
    "\n",
    "profitability = calculate_compounding_realised_trading_profitability(state)\n",
    "\n",
    "returns_all_time = profitability.iloc[-1]\n",
    "\n",
    "print(f\"Returns all time: {returns_all_time:.2%}\")"
   ]
  }
 ],
 "metadata": {
  "kernelspec": {
   "display_name": "trade-executor-xSh0vQvh-py3.10",
   "language": "python",
   "name": "python3"
  },
  "language_info": {
   "codemirror_mode": {
    "name": "ipython",
    "version": 3
   },
   "file_extension": ".py",
   "mimetype": "text/x-python",
   "name": "python",
   "nbconvert_exporter": "python",
   "pygments_lexer": "ipython3",
   "version": "3.10.8"
  }
 },
 "nbformat": 4,
 "nbformat_minor": 2
}
