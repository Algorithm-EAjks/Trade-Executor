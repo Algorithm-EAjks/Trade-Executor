{
 "cells": [
  {
   "cell_type": "code",
   "execution_count": null,
   "metadata": {
    "ExecuteTime": {
     "end_time": "2023-10-26T18:37:01.320034Z",
     "start_time": "2023-10-26T18:36:58.757078Z"
    }
   },
   "outputs": [
    {
     "name": "stdout",
     "output_type": "stream",
     "text": [
      "Started Trading Strategy in Jupyter notebook environment, configuration is stored in /Users/moo/.tradingstrategy\n"
     ]
    }
   ],
   "source": [
    "from tradingstrategy.client import Client\n",
    "\n",
    "client = Client.create_jupyter_client()"
   ]
  },
  {
   "cell_type": "code",
   "execution_count": null,
   "metadata": {
    "ExecuteTime": {
     "start_time": "2023-10-26T18:37:01.321509Z"
    }
   },
   "outputs": [
    {
     "name": "stdout",
     "output_type": "stream",
     "text": [
      "Downloaded 10,344,843 bytes state data\n"
     ]
    },
    {
     "name": "stderr",
     "output_type": "stream",
     "text": [
      "/Users/moo/Library/Caches/pypoetry/virtualenvs/trade-executor-8Oz1GdY1-py3.10/lib/python3.10/site-packages/dataclasses_json/core.py:187: RuntimeWarning: 'NoneType' object value of non-optional type initial_cash detected when decoding TradeSummary.\n",
      "  warnings.warn(\n"
     ]
    },
    {
     "name": "stdout",
     "output_type": "stream",
     "text": [
      "trade-executor was launched at: 2023-06-23 13:01:41, we have 174 trades\n"
     ]
    }
   ],
   "source": [
    "\n",
    "from tradeexecutor.monkeypatch.dataclasses_json import patch_dataclasses_json\n",
    "from tradeexecutor.state.state import State\n",
    "import requests\n",
    "\n",
    "# Currently needed because unpatched dataclasses_json package issues\n",
    "patch_dataclasses_json()\n",
    "\n",
    "# Public internet endpoint as exposed by the trade executor Docker\n",
    "webbhook_url = \"https://enzyme-polygon-multipair.tradingstrategy.ai/\"\n",
    "\n",
    "state_api = f\"{webbhook_url}/state\"\n",
    "\n",
    "resp = requests.get(state_api)\n",
    "\n",
    "state_blob = resp.content\n",
    "\n",
    "print(f\"Downloaded {len(state_blob):,} bytes state data\")\n",
    "\n",
    "state = State.read_json_blob(state_blob)\n",
    "\n",
    "print(f\"trade-executor was launched at: {state.created_at}, we have {len(list(state.portfolio.get_all_trades()))} trades\")"
   ]
  },
  {
   "cell_type": "code",
   "execution_count": null,
   "metadata": {
    "collapsed": false
   },
   "outputs": [
    {
     "data": {
      "text/html": [
       "<div>\n",
       "<style scoped>\n",
       "    .dataframe tbody tr th:only-of-type {\n",
       "        vertical-align: middle;\n",
       "    }\n",
       "\n",
       "    .dataframe tbody tr th {\n",
       "        vertical-align: top;\n",
       "    }\n",
       "\n",
       "    .dataframe thead th {\n",
       "        text-align: right;\n",
       "    }\n",
       "</style>\n",
       "<table border=\"1\" class=\"dataframe\">\n",
       "  <thead>\n",
       "    <tr style=\"text-align: right;\">\n",
       "      <th></th>\n",
       "      <th>0</th>\n",
       "      <th>1</th>\n",
       "    </tr>\n",
       "  </thead>\n",
       "  <tbody>\n",
       "    <tr>\n",
       "      <th>0</th>\n",
       "      <td>2023-06-29 13:31:00</td>\n",
       "      <td>0.000000</td>\n",
       "    </tr>\n",
       "    <tr>\n",
       "      <th>1</th>\n",
       "      <td>2023-06-30 05:36:10</td>\n",
       "      <td>0.702420</td>\n",
       "    </tr>\n",
       "    <tr>\n",
       "      <th>2</th>\n",
       "      <td>2023-07-03 07:48:02</td>\n",
       "      <td>0.000000</td>\n",
       "    </tr>\n",
       "    <tr>\n",
       "      <th>3</th>\n",
       "      <td>2023-07-03 07:48:02</td>\n",
       "      <td>0.000000</td>\n",
       "    </tr>\n",
       "    <tr>\n",
       "      <th>4</th>\n",
       "      <td>2023-07-03 07:48:02</td>\n",
       "      <td>0.000000</td>\n",
       "    </tr>\n",
       "    <tr>\n",
       "      <th>...</th>\n",
       "      <td>...</td>\n",
       "      <td>...</td>\n",
       "    </tr>\n",
       "    <tr>\n",
       "      <th>82</th>\n",
       "      <td>2023-10-23 23:09:31</td>\n",
       "      <td>3.416912</td>\n",
       "    </tr>\n",
       "    <tr>\n",
       "      <th>83</th>\n",
       "      <td>2023-10-24 03:18:31</td>\n",
       "      <td>0.994867</td>\n",
       "    </tr>\n",
       "    <tr>\n",
       "      <th>84</th>\n",
       "      <td>2023-10-24 03:33:28</td>\n",
       "      <td>3.230938</td>\n",
       "    </tr>\n",
       "    <tr>\n",
       "      <th>85</th>\n",
       "      <td>2023-10-26 08:32:10</td>\n",
       "      <td>0.000000</td>\n",
       "    </tr>\n",
       "    <tr>\n",
       "      <th>86</th>\n",
       "      <td>2023-10-26 15:02:46</td>\n",
       "      <td>-3.139502</td>\n",
       "    </tr>\n",
       "  </tbody>\n",
       "</table>\n",
       "<p>87 rows × 2 columns</p>\n",
       "</div>"
      ],
      "text/plain": [
       "                     0         1\n",
       "0  2023-06-29 13:31:00  0.000000\n",
       "1  2023-06-30 05:36:10  0.702420\n",
       "2  2023-07-03 07:48:02  0.000000\n",
       "3  2023-07-03 07:48:02  0.000000\n",
       "4  2023-07-03 07:48:02  0.000000\n",
       "..                 ...       ...\n",
       "82 2023-10-23 23:09:31  3.416912\n",
       "83 2023-10-24 03:18:31  0.994867\n",
       "84 2023-10-24 03:33:28  3.230938\n",
       "85 2023-10-26 08:32:10  0.000000\n",
       "86 2023-10-26 15:02:46 -3.139502\n",
       "\n",
       "[87 rows x 2 columns]"
      ]
     },
     "execution_count": 3,
     "metadata": {},
     "output_type": "execute_result"
    }
   ],
   "source": [
    "from io import StringIO\n",
    "from typing import Iterable, List\n",
    "import pandas as pd\n",
    "\n",
    "from tradeexecutor.state.position import TradingPosition\n",
    "from tradeexecutor.state import position \n",
    "\n",
    "positions = state.portfolio.closed_positions.values()\n",
    "\n",
    "data = [(p.closed_at, p.get_realised_profit_percent() * 100, p.is_repaired) for p in positions]\n",
    "\n",
    "df = pd.DataFrame(data)\n",
    "df"
   ]
  },
  {
   "cell_type": "markdown",
   "metadata": {},
   "source": [
    "### Breakpoint\n",
    "Convert to normal for loop (with enumerate) and set conditional breakpoint here (i == 80). After reaching this breakpoint, the next step is to step into the `get_size_relative_realised_profit_percent` method and go from there.\n",
    "\n",
    "```python\n",
    "\n",
    "https://github.com/tradingstrategy-ai/trade-executor/blob/7c74a2ce9443558f7c40abf6675a57bf05a78108/tradeexecutor/visual/equity_curve.py#L366\n",
    "\n",
    "```python\n",
    "data = []\n",
    "for i, p in enumerate(state.portfolio.closed_positions.values()):\n",
    "    if not p.is_closed():\n",
    "        continue\n",
    "\n",
    "    data.append((p.closed_at, p.get_size_relative_realised_profit_percent()))\n",
    "```"
   ]
  },
  {
   "cell_type": "code",
   "execution_count": null,
   "metadata": {},
   "outputs": [
    {
     "name": "stdout",
     "output_type": "stream",
     "text": [
      "Returns all time: -29.06%\n"
     ]
    }
   ],
   "source": [
    "from tradeexecutor.visual.equity_curve import calculate_compounding_realised_trading_profitability\n",
    "\n",
    "profitability = calculate_compounding_realised_trading_profitability(state)\n",
    "\n",
    "returns_all_time = profitability.iloc[-1]\n",
    "\n",
    "print(f\"Returns all time: {returns_all_time:.2%}\")"
   ]
  }
 ],
 "metadata": {
  "kernelspec": {
   "display_name": "trade-executor-xSh0vQvh-py3.10",
   "language": "python",
   "name": "python3"
  },
  "language_info": {
   "codemirror_mode": {
    "name": "ipython",
    "version": 3
   },
   "file_extension": ".py",
   "mimetype": "text/x-python",
   "name": "python",
   "nbconvert_exporter": "python",
   "pygments_lexer": "ipython3",
   "version": "3.10.13"
  }
 },
 "nbformat": 4,
 "nbformat_minor": 2
}
