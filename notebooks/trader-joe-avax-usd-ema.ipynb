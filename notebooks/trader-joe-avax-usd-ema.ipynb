{
 "cells": [
  {
   "cell_type": "code",
   "execution_count": 7,
   "metadata": {},
   "outputs": [],
   "source": [
    "import logging\n",
    "import datetime\n",
    "import pandas as pd\n",
    "from pandas_ta import ema\n",
    "\n",
    "from tradingstrategy.chain import ChainId\n",
    "from tradingstrategy.timebucket import TimeBucket\n",
    "from tradingstrategy.universe import Universe\n",
    "\n",
    "from tradeexecutor.state.state import State\n",
    "from tradeexecutor.state.trade import TradeExecution\n",
    "from tradeexecutor.state.visualisation import PlotKind\n",
    "from tradeexecutor.strategy.cycle import CycleDuration\n",
    "from tradeexecutor.strategy.pandas_trader.position_manager import PositionManager\n",
    "from tradeexecutor.strategy.pricing_model import PricingModel\n",
    "from tradeexecutor.strategy.strategy_module import StrategyType, TradeRouting, ReserveCurrency\n",
    "\n",
    "from typing import Optional, List, Dict\n",
    "from tradeexecutor.strategy.trading_strategy_universe import load_pair_data_for_single_exchange, TradingStrategyUniverse\n",
    "from tradeexecutor.strategy.execution_context import ExecutionContext\n",
    "from tradingstrategy.client import Client\n",
    "\n",
    "from tradeexecutor.strategy.universe_model import UniverseOptions\n",
    "\n",
    "# Tell what trade execution engine version this strategy needs to use\n",
    "# NOTE: this setting has currently no effect\n",
    "TRADING_STRATEGY_ENGINE_VERSION = \"0.1\"\n",
    "\n",
    "# What kind of strategy we are running.\n",
    "# This tells we are going to use\n",
    "# NOTE: this setting has currently no effect\n",
    "TRADING_STRATEGY_TYPE = StrategyType.managed_positions\n",
    "\n",
    "# How our trades are routed.\n",
    "TRADE_ROUTING = TradeRouting.trader_joe_usdc\n",
    "# How often the strategy performs the decide_trades cycle.\n",
    "# We do it for every 4h.\n",
    "TRADING_STRATEGY_CYCLE = CycleDuration.cycle_2h\n",
    "\n",
    "# Strategy keeps its cash in USDC\n",
    "RESERVE_CURRENCY = ReserveCurrency.usdc\n",
    "\n",
    "# Time bucket for our candles\n",
    "CANDLE_TIME_BUCKET = TimeBucket.h1\n",
    "\n",
    "# Which chain we are trading\n",
    "CHAIN_ID = ChainId.avalanche\n",
    "\n",
    "# Which exchange we are trading on.\n",
    "EXCHANGE_SLUG = \"trader-joe\"\n",
    "\n",
    "# Which trading pair we are trading\n",
    "TRADING_PAIR = (\"WAVAX\", \"USDC\")\n",
    "\n",
    "# How much of the cash to put on a single trade\n",
    "POSITION_SIZE = 0.70\n",
    "\n",
    "#\n",
    "# Strategy thinking specific parameter\n",
    "#\n",
    "\n",
    "BATCH_SIZE = 90\n",
    "\n",
    "SLOW_EMA_CANDLE_COUNT = 10\n",
    "FAST_EMA_CANDLE_COUNT = 3\n",
    "\n",
    "\n",
    "# Range of backtesting and synthetic data generation.\n",
    "# Because we are using synthetic data actual dates do not really matter -\n",
    "# only the duration\n",
    "\n",
    "START_AT = datetime.datetime(2022, 1, 1)\n",
    "\n",
    "END_AT = datetime.datetime(2022, 1, 18)\n",
    "\n",
    "# Start with 10,000 USD\n",
    "INITIAL_DEPOSIT = 10_000\n",
    "\n",
    "# If the price drops 0.7% we trigger a stop loss\n",
    "STOP_LOSS_PCT = 0.993\n",
    "\n",
    "STOP_LOSS_TIME_BUCKET = TimeBucket.m15\n",
    "\n",
    "\n",
    "logger = logging.getLogger(__name__)"
   ]
  },
  {
   "cell_type": "code",
   "execution_count": 8,
   "metadata": {},
   "outputs": [],
   "source": [
    "def decide_trades(\n",
    "        timestamp: pd.Timestamp,\n",
    "        universe: Universe,\n",
    "        state: State,\n",
    "        pricing_model: PricingModel,\n",
    "        cycle_debug_data: Dict) -> List[TradeExecution]:\n",
    "    \"\"\"The brain function to decide the trades on each trading strategy cycle.\n",
    "\n",
    "    - Reads incoming execution state (positions, past trades)\n",
    "\n",
    "    - Reads the current universe (candles)\n",
    "\n",
    "    - Decides what trades to do next, if any, at current timestamp.\n",
    "\n",
    "    - Outputs strategy thinking for visualisation and debug messages\n",
    "\n",
    "    :param timestamp:\n",
    "        The Pandas timestamp object for this cycle. Matches\n",
    "        TRADING_STRATEGY_CYCLE division.\n",
    "        Always truncated to the zero seconds and minutes, never a real-time clock.\n",
    "\n",
    "    :param universe:\n",
    "        Trading universe that was constructed earlier.\n",
    "\n",
    "    :param state:\n",
    "        The current trade execution state.\n",
    "        Contains current open positions and all previously executed trades, plus output\n",
    "        for statistics, visualisation and diangnostics of the strategy.\n",
    "\n",
    "    :param pricing_model:\n",
    "        Pricing model can tell the buy/sell price of the particular asset at a particular moment.\n",
    "\n",
    "    :param cycle_debug_data:\n",
    "        Python dictionary for various debug variables you can read or set, specific to this trade cycle.\n",
    "        This data is discarded at the end of the trade cycle.\n",
    "\n",
    "    :return:\n",
    "        List of trade instructions in the form of :py:class:`TradeExecution` instances.\n",
    "        The trades can be generated using `position_manager` but strategy could also hand craft its trades.\n",
    "    \"\"\"\n",
    "\n",
    "    # The pair we are trading\n",
    "    pair = universe.pairs.get_single()\n",
    "\n",
    "    # How much cash we have in the hand\n",
    "    cash = state.portfolio.get_current_cash()\n",
    "\n",
    "    # Get OHLCV candles for our trading pair as Pandas Dataframe.\n",
    "    # We could have candles for multiple trading pairs in a different strategy,\n",
    "    # but this strategy only operates on single pair candle.\n",
    "    # We also limit our sample size to N latest candles to speed up calculations.\n",
    "    candles: pd.DataFrame = universe.candles.get_single_pair_data(timestamp, sample_count=BATCH_SIZE)\n",
    "\n",
    "    # We have data for open, high, close, etc.\n",
    "    # We only operate using candle close values in this strategy.\n",
    "    close_prices = candles[\"close\"]\n",
    "\n",
    "    # Calculate exponential moving averages based on slow and fast sample numbers.\n",
    "    slow_ema_series = ema(close_prices, length=SLOW_EMA_CANDLE_COUNT)\n",
    "    fast_ema_series = ema(close_prices, length=FAST_EMA_CANDLE_COUNT)\n",
    "\n",
    "    if slow_ema_series is None or fast_ema_series is None:\n",
    "        # Cannot calculate EMA, because\n",
    "        # not enough samples in backtesting\n",
    "        logger.warning(\"slow_ema_series or fast_ema_series None\")\n",
    "        return []\n",
    "\n",
    "    if len(slow_ema_series) < 2 or len(fast_ema_series) < 2:\n",
    "        # We need at least two data points to determine if EMA crossover (or crossunder)\n",
    "        # occurred at current timestamp.\n",
    "        logger.warning(\"series too short\")\n",
    "        return []\n",
    "\n",
    "    slow_ema_latest = slow_ema_series.iloc[-1]\n",
    "    fast_ema_latest = fast_ema_series.iloc[-1]\n",
    "    price_latest = close_prices.iloc[-1]\n",
    "\n",
    "    # Compute technical indicators needed for trade decisions.\n",
    "    slow_ema_crossover = (\n",
    "            close_prices.iloc[-3] < slow_ema_series.iloc[-2]\n",
    "            and price_latest > slow_ema_latest\n",
    "    )\n",
    "    slow_ema_crossunder = (\n",
    "            close_prices.iloc[-2] > slow_ema_series.iloc[-2]\n",
    "            and price_latest < slow_ema_latest\n",
    "    )\n",
    "    fast_ema_crossunder = (\n",
    "            close_prices.iloc[-2] > fast_ema_series.iloc[-2]\n",
    "            and price_latest < fast_ema_latest\n",
    "    )\n",
    "\n",
    "    trades = []\n",
    "\n",
    "    # Create a position manager helper class that allows us easily to create\n",
    "    # opening/closing trades for different positions\n",
    "    position_manager = PositionManager(timestamp, universe, state, pricing_model)\n",
    "\n",
    "    if not position_manager.is_any_open():\n",
    "        # No open positions, decide if BUY in this cycle.\n",
    "        # We buy if we just crossed over the slow EMA or if this is a very first\n",
    "        # trading cycle and the price is already above the slow EMA.\n",
    "\n",
    "        logger.trade(\"Starting a new trade\")\n",
    "\n",
    "        if (\n",
    "                slow_ema_crossunder\n",
    "                or price_latest < slow_ema_latest and timestamp == START_AT\n",
    "        ):\n",
    "            buy_amount = cash * POSITION_SIZE\n",
    "            new_trades = position_manager.open_1x_long(pair, buy_amount, stop_loss_pct=STOP_LOSS_PCT)\n",
    "            trades.extend(new_trades)\n",
    "    else:\n",
    "\n",
    "        logger.trade(\"Checking for close\")\n",
    "\n",
    "        # We have an open position, decide if SELL in this cycle.\n",
    "        # We do that if we fall below any of the two moving averages.\n",
    "        if slow_ema_crossover or (fast_ema_crossunder and fast_ema_latest > slow_ema_latest):\n",
    "            new_trades = position_manager.close_all()\n",
    "            assert len(new_trades) == 1\n",
    "            trades.extend(new_trades)\n",
    "\n",
    "    # Visualize strategy\n",
    "    # See available Plotly colours here\n",
    "    # https://community.plotly.com/t/plotly-colours-list/11730/3?u=miohtama\n",
    "    visualisation = state.visualisation\n",
    "    #visualisation.plot_indicator(timestamp, \"Slow EMA\", PlotKind.technical_indicator_on_price, slow_ema_latest,colour=\"green\")\n",
    "    #visualisation.plot_indicator(timestamp, \"Fast EMA\", PlotKind.technical_indicator_on_price, fast_ema_latest,colour=\"red\")\n",
    "\n",
    "    return trades"
   ]
  },
  {
   "cell_type": "code",
   "execution_count": 9,
   "metadata": {},
   "outputs": [],
   "source": [
    "def create_trading_universe(\n",
    "        ts: datetime.datetime,\n",
    "        client: Client,\n",
    "        execution_context: ExecutionContext,\n",
    "        universe_options: UniverseOptions,\n",
    ") -> TradingStrategyUniverse:\n",
    "\n",
    "    dataset = load_pair_data_for_single_exchange(\n",
    "        client,\n",
    "        execution_context,\n",
    "        CANDLE_TIME_BUCKET,\n",
    "        CHAIN_ID,\n",
    "        EXCHANGE_SLUG,\n",
    "        [TRADING_PAIR],\n",
    "        universe_options,\n",
    "        stop_loss_time_bucket=STOP_LOSS_TIME_BUCKET,\n",
    "    )\n",
    "\n",
    "    # Filter down to the single pair we are interested in\n",
    "    universe = TradingStrategyUniverse.create_single_pair_universe(\n",
    "        dataset,\n",
    "        CHAIN_ID,\n",
    "        EXCHANGE_SLUG,\n",
    "        TRADING_PAIR[0],\n",
    "        TRADING_PAIR[1],\n",
    "    )\n",
    "\n",
    "    logger.warning(\"Universe created, we have %d pairs\")\n",
    "\n",
    "    return universe"
   ]
  },
  {
   "cell_type": "code",
   "execution_count": 10,
   "metadata": {},
   "outputs": [
    {
     "name": "stdout",
     "output_type": "stream",
     "text": [
      "Started Trading Strategy in Jupyter notebook environment, configuration is stored in /home/alex/.tradingstrategy\n"
     ]
    }
   ],
   "source": [
    "from tradingstrategy.client import Client\n",
    "\n",
    "client = Client.create_jupyter_client()"
   ]
  },
  {
   "cell_type": "code",
   "execution_count": 11,
   "metadata": {},
   "outputs": [
    {
     "name": "stderr",
     "output_type": "stream",
     "text": [
      "Universe created, we have %d pairs\n"
     ]
    },
    {
     "name": "stdout",
     "output_type": "stream",
     "text": [
      "We loaded 11,750 candles.\n"
     ]
    }
   ],
   "source": [
    "from tradeexecutor.strategy.execution_context import ExecutionMode\n",
    "\n",
    "universe = create_trading_universe(\n",
    "    END_AT,\n",
    "    client,\n",
    "    ExecutionContext(mode=ExecutionMode.data_preload),\n",
    "    universe_options=UniverseOptions()\n",
    ")\n",
    "print(f\"We loaded {universe.universe.candles.get_candle_count():,} candles.\")\n"
   ]
  },
  {
   "attachments": {},
   "cell_type": "markdown",
   "metadata": {},
   "source": [
    "# Upsample candle data\n",
    "\n",
    "Here, we create custom 2 hour candles"
   ]
  },
  {
   "cell_type": "code",
   "execution_count": 12,
   "metadata": {},
   "outputs": [],
   "source": [
    "from tradingstrategy.utils.groupeduniverse import resample_candles, PairGroupedUniverse\n",
    "from tradingstrategy.candle import GroupedCandleUniverse\n",
    "\n",
    "# candles = universe.universe.candles.get_candles_by_pair(universe.get_single_pair().internal_id)\n",
    "\n",
    "candles = universe.universe.candles.df\n",
    "\n",
    "resampled_candles = resample_candles(candles, TimeBucket.h2)\n",
    "grouped_candle_universe = GroupedCandleUniverse(resampled_candles, TimeBucket.h2)\n",
    "\n",
    "universe.universe.candles = grouped_candle_universe"
   ]
  },
  {
   "cell_type": "code",
   "execution_count": 13,
   "metadata": {},
   "outputs": [
    {
     "data": {
      "application/vnd.jupyter.widget-view+json": {
       "model_id": "609bbe7d800e4c49a7d5993a0e4ae0da",
       "version_major": 2,
       "version_minor": 0
      },
      "text/plain": [
       "  0%|          | 0/1468800 [00:00<?, ?it/s]"
      ]
     },
     "metadata": {},
     "output_type": "display_data"
    },
    {
     "name": "stdout",
     "output_type": "stream",
     "text": [
      "Backtesting completed, backtested strategy made 40 trades\n"
     ]
    }
   ],
   "source": [
    "import logging\n",
    "\n",
    "from tradeexecutor.backtest.backtest_runner import run_backtest_inline\n",
    "\n",
    "state, universe, debug_dump = run_backtest_inline(\n",
    "    name=\"ETH/USDC fast and slow EMA example\",\n",
    "    start_at=START_AT,\n",
    "    end_at=END_AT,\n",
    "    client=client,\n",
    "    cycle_duration=TRADING_STRATEGY_CYCLE,\n",
    "    decide_trades=decide_trades,\n",
    "    universe=universe,\n",
    "    # create_trading_universe=create_single_pair_trading_universe,\n",
    "    initial_deposit=INITIAL_DEPOSIT,\n",
    "    reserve_currency=RESERVE_CURRENCY,\n",
    "    trade_routing=TRADE_ROUTING,\n",
    "    log_level=logging.WARNING,\n",
    ")\n",
    "\n",
    "trade_count = len(list(state.portfolio.get_all_trades()))\n",
    "print(f\"Backtesting completed, backtested strategy made {trade_count} trades\")"
   ]
  },
  {
   "cell_type": "code",
   "execution_count": 14,
   "metadata": {},
   "outputs": [
    {
     "name": "stdout",
     "output_type": "stream",
     "text": [
      "Positions taken: 20\n",
      "Trades made: 40\n"
     ]
    }
   ],
   "source": [
    "print(f\"Positions taken: {len(list(state.portfolio.get_all_positions()))}\")\n",
    "print(f\"Trades made: {len(list(state.portfolio.get_all_trades()))}\")"
   ]
  },
  {
   "cell_type": "code",
   "execution_count": 15,
   "metadata": {},
   "outputs": [
    {
     "data": {
      "application/vnd.plotly.v1+json": {
       "config": {
        "plotlyServerURL": "https://plot.ly"
       },
       "data": [
        {
         "marker": {
          "color": "rgba(128,128,128,0.5)"
         },
         "showlegend": false,
         "type": "bar",
         "x": [
          "2022-01-01T00:00:00",
          "2022-01-01T02:00:00",
          "2022-01-01T04:00:00",
          "2022-01-01T06:00:00",
          "2022-01-01T08:00:00",
          "2022-01-01T10:00:00",
          "2022-01-01T12:00:00",
          "2022-01-01T14:00:00",
          "2022-01-01T16:00:00",
          "2022-01-01T18:00:00",
          "2022-01-01T20:00:00",
          "2022-01-01T22:00:00",
          "2022-01-02T00:00:00",
          "2022-01-02T02:00:00",
          "2022-01-02T04:00:00",
          "2022-01-02T06:00:00",
          "2022-01-02T08:00:00",
          "2022-01-02T10:00:00",
          "2022-01-02T12:00:00",
          "2022-01-02T14:00:00",
          "2022-01-02T16:00:00",
          "2022-01-02T18:00:00",
          "2022-01-02T20:00:00",
          "2022-01-02T22:00:00",
          "2022-01-03T00:00:00",
          "2022-01-03T02:00:00",
          "2022-01-03T04:00:00",
          "2022-01-03T06:00:00",
          "2022-01-03T08:00:00",
          "2022-01-03T10:00:00",
          "2022-01-03T12:00:00",
          "2022-01-03T14:00:00",
          "2022-01-03T16:00:00",
          "2022-01-03T18:00:00",
          "2022-01-03T20:00:00",
          "2022-01-03T22:00:00",
          "2022-01-04T00:00:00",
          "2022-01-04T02:00:00",
          "2022-01-04T04:00:00",
          "2022-01-04T06:00:00",
          "2022-01-04T08:00:00",
          "2022-01-04T10:00:00",
          "2022-01-04T12:00:00",
          "2022-01-04T14:00:00",
          "2022-01-04T16:00:00",
          "2022-01-04T18:00:00",
          "2022-01-04T20:00:00",
          "2022-01-04T22:00:00",
          "2022-01-05T00:00:00",
          "2022-01-05T02:00:00",
          "2022-01-05T04:00:00",
          "2022-01-05T06:00:00",
          "2022-01-05T08:00:00",
          "2022-01-05T10:00:00",
          "2022-01-05T12:00:00",
          "2022-01-05T14:00:00",
          "2022-01-05T16:00:00",
          "2022-01-05T18:00:00",
          "2022-01-05T20:00:00",
          "2022-01-05T22:00:00",
          "2022-01-06T00:00:00",
          "2022-01-06T02:00:00",
          "2022-01-06T04:00:00",
          "2022-01-06T06:00:00",
          "2022-01-06T08:00:00",
          "2022-01-06T10:00:00",
          "2022-01-06T12:00:00",
          "2022-01-06T14:00:00",
          "2022-01-06T16:00:00",
          "2022-01-06T18:00:00",
          "2022-01-06T20:00:00",
          "2022-01-06T22:00:00",
          "2022-01-07T00:00:00",
          "2022-01-07T02:00:00",
          "2022-01-07T04:00:00",
          "2022-01-07T06:00:00",
          "2022-01-07T08:00:00",
          "2022-01-07T10:00:00",
          "2022-01-07T12:00:00",
          "2022-01-07T14:00:00",
          "2022-01-07T16:00:00",
          "2022-01-07T18:00:00",
          "2022-01-07T20:00:00",
          "2022-01-07T22:00:00",
          "2022-01-08T00:00:00",
          "2022-01-08T02:00:00",
          "2022-01-08T04:00:00",
          "2022-01-08T06:00:00",
          "2022-01-08T08:00:00",
          "2022-01-08T10:00:00",
          "2022-01-08T12:00:00",
          "2022-01-08T14:00:00",
          "2022-01-08T16:00:00",
          "2022-01-08T18:00:00",
          "2022-01-08T20:00:00",
          "2022-01-08T22:00:00",
          "2022-01-09T00:00:00",
          "2022-01-09T02:00:00",
          "2022-01-09T04:00:00",
          "2022-01-09T06:00:00",
          "2022-01-09T08:00:00",
          "2022-01-09T10:00:00",
          "2022-01-09T12:00:00",
          "2022-01-09T14:00:00",
          "2022-01-09T16:00:00",
          "2022-01-09T18:00:00",
          "2022-01-09T20:00:00",
          "2022-01-09T22:00:00",
          "2022-01-10T00:00:00",
          "2022-01-10T02:00:00",
          "2022-01-10T04:00:00",
          "2022-01-10T06:00:00",
          "2022-01-10T08:00:00",
          "2022-01-10T10:00:00",
          "2022-01-10T12:00:00",
          "2022-01-10T14:00:00",
          "2022-01-10T16:00:00",
          "2022-01-10T18:00:00",
          "2022-01-10T20:00:00",
          "2022-01-10T22:00:00",
          "2022-01-11T00:00:00",
          "2022-01-11T02:00:00",
          "2022-01-11T04:00:00",
          "2022-01-11T06:00:00",
          "2022-01-11T08:00:00",
          "2022-01-11T10:00:00",
          "2022-01-11T12:00:00",
          "2022-01-11T14:00:00",
          "2022-01-11T16:00:00",
          "2022-01-11T18:00:00",
          "2022-01-11T20:00:00",
          "2022-01-11T22:00:00",
          "2022-01-12T00:00:00",
          "2022-01-12T02:00:00",
          "2022-01-12T04:00:00",
          "2022-01-12T06:00:00",
          "2022-01-12T08:00:00",
          "2022-01-12T10:00:00",
          "2022-01-12T12:00:00",
          "2022-01-12T14:00:00",
          "2022-01-12T16:00:00",
          "2022-01-12T18:00:00",
          "2022-01-12T20:00:00",
          "2022-01-12T22:00:00",
          "2022-01-13T00:00:00",
          "2022-01-13T02:00:00",
          "2022-01-13T04:00:00",
          "2022-01-13T06:00:00",
          "2022-01-13T08:00:00",
          "2022-01-13T10:00:00",
          "2022-01-13T12:00:00",
          "2022-01-13T14:00:00",
          "2022-01-13T16:00:00",
          "2022-01-13T18:00:00",
          "2022-01-13T20:00:00",
          "2022-01-13T22:00:00",
          "2022-01-14T00:00:00",
          "2022-01-14T02:00:00",
          "2022-01-14T04:00:00",
          "2022-01-14T06:00:00",
          "2022-01-14T08:00:00",
          "2022-01-14T10:00:00",
          "2022-01-14T12:00:00",
          "2022-01-14T14:00:00",
          "2022-01-14T16:00:00",
          "2022-01-14T18:00:00",
          "2022-01-14T20:00:00",
          "2022-01-14T22:00:00",
          "2022-01-15T00:00:00",
          "2022-01-15T02:00:00",
          "2022-01-15T04:00:00",
          "2022-01-15T06:00:00",
          "2022-01-15T08:00:00",
          "2022-01-15T10:00:00",
          "2022-01-15T12:00:00",
          "2022-01-15T14:00:00",
          "2022-01-15T16:00:00",
          "2022-01-15T18:00:00",
          "2022-01-15T20:00:00",
          "2022-01-15T22:00:00",
          "2022-01-16T00:00:00",
          "2022-01-16T02:00:00",
          "2022-01-16T04:00:00",
          "2022-01-16T06:00:00",
          "2022-01-16T08:00:00",
          "2022-01-16T10:00:00",
          "2022-01-16T12:00:00",
          "2022-01-16T14:00:00",
          "2022-01-16T16:00:00",
          "2022-01-16T18:00:00",
          "2022-01-16T20:00:00",
          "2022-01-16T22:00:00",
          "2022-01-17T00:00:00",
          "2022-01-17T02:00:00",
          "2022-01-17T04:00:00",
          "2022-01-17T06:00:00",
          "2022-01-17T08:00:00",
          "2022-01-17T10:00:00",
          "2022-01-17T12:00:00",
          "2022-01-17T14:00:00",
          "2022-01-17T16:00:00",
          "2022-01-17T18:00:00",
          "2022-01-17T20:00:00",
          "2022-01-17T22:00:00",
          "2022-01-18T00:00:00"
         ],
         "xaxis": "x",
         "y": [
          2776.6341795,
          325.0824925,
          423.3142355,
          2344.2576735,
          998.2839935,
          360.7675495,
          648.754168,
          845.9438439999999,
          903.5020325,
          2415.465371,
          583.224568,
          663.3578435,
          459.1633755,
          367.1807005,
          359.06065799999993,
          256.74328649999995,
          560.282533,
          537.5657894999999,
          650.8398645,
          3216.0277814999995,
          1064.1670125,
          651.6703055,
          1406.9932844999998,
          529.737758,
          441.81410350000004,
          1173.416529,
          2324.0232575,
          337.166281,
          1666.315857,
          942.0896170000001,
          1177.3051705,
          1075.0663260000001,
          1497.6387824999997,
          929.2220479999999,
          1051.8646215,
          464.8182495,
          422.50007899999997,
          1495.8150179999998,
          2876.6443734999993,
          1267.8186905,
          920.2164554999999,
          1412.43597,
          1919.7116055000001,
          2132.537566,
          1266.1773855,
          2144.880863,
          1975.8110474999999,
          2941.4533539999998,
          1857.5406885,
          6485.0604815,
          917.6968775,
          1172.5050959999999,
          1834.3865544999999,
          627.2510104999999,
          1192.9190835,
          2399.1906565,
          1550.6576525,
          1599.7065265,
          2336.0704614999995,
          2813.6081065,
          933.7960410000001,
          1144.7903215,
          2058.3047654999996,
          1857.5884420000002,
          1254.709547,
          1634.5723325,
          2441.5037045,
          898.8181284999998,
          1081.525561,
          1051.2525805,
          2227.2521909999996,
          990.0815554999999,
          1297.4340469999997,
          1118.9970105,
          3108.1619669999995,
          1886.6264204999998,
          2778.248479499999,
          772.3579255,
          1831.387432,
          2163.6636415,
          4455.891499,
          1196.175377,
          1881.5958815,
          3292.7094435,
          589.3216955,
          966.97569,
          434.7379895,
          7456.613777,
          5869.214808000001,
          1557.548402,
          2146.9715675,
          3285.322274,
          2614.5442000000003,
          2924.5605459999997,
          1224.2704294999999,
          1357.7751925,
          1564.4973810000001,
          1165.366407,
          590.9954524999998,
          840.2344865,
          1042.609959,
          1525.514174,
          1783.8534625,
          2733.0652655,
          3004.618130499999,
          1896.1728739999999,
          1714.1677045000001,
          1870.1093275,
          7743.4934075,
          844.853226,
          729.8687675,
          999.2000784999998,
          967.488828,
          1446.8728155,
          1901.0253454999997,
          5143.8738730000005,
          4119.519639499999,
          2224.6268465,
          1519.4958195,
          828.7144679999999,
          1139.22928,
          826.450315,
          1613.4983705,
          744.404873,
          1280.8202904999998,
          427.76818849999995,
          655.2826075,
          668.368481,
          1475.6106795,
          1604.7858915000002,
          727.315153,
          1974.4195369999998,
          1140.0207655,
          835.2809484999999,
          1447.671724,
          1748.595652,
          1580.6453124999998,
          449.1162015,
          929.395971,
          965.5769744999999,
          1212.47996,
          1658.5142715,
          1036.764137,
          1685.2963025,
          1457.0028214999998,
          1335.5732635,
          636.857102,
          742.084234,
          1147.1380159999999,
          771.020622,
          969.7579819999999,
          1091.856677,
          1720.147235,
          1854.4117449999999,
          1516.782702,
          784.1901365,
          538.925377,
          1529.7137015,
          723.0601805,
          1354.2400755,
          881.2720319999999,
          4014.6559185,
          857.4879884999999,
          1015.7763815,
          1183.8057055,
          813.0002985,
          1798.3941905,
          1218.6780559999997,
          5881.8570015,
          1399.6290949999998,
          773.20357,
          752.1295494999999,
          1908.8428655,
          1220.046664,
          3268.874366,
          3278.9685755,
          9475.4734055,
          4761.465388,
          4396.909057000001,
          5483.3162919999995,
          3802.6854735,
          3971.516297999999,
          4519.938217499999,
          4309.2825295,
          4605.579428499999,
          2784.4209915,
          2590.0684425,
          5832.3769305000005,
          3835.8364629999996,
          761.5143390000001,
          789.2683730000001,
          894.4308589999999,
          1228.723871,
          1197.4668820000002,
          701.0072355,
          399.6323685,
          4623.871831500001,
          1150.9630809999999,
          2613.24067,
          2181.5459305,
          1191.3283834999997,
          957.191662,
          945.299514,
          1277.3277764999998,
          1240.365807
         ],
         "yaxis": "y2"
        },
        {
         "close": [
          110.28340976719218,
          109.32027684193304,
          109.78959196450384,
          110.1481227652755,
          110.13221850538716,
          108.71735723138896,
          109.56925257503374,
          109.58012448609273,
          111.99421231737153,
          112.75324207897643,
          113.01638001480504,
          113.50181450764128,
          115.64830281187699,
          116.07886769908075,
          116.65856394333754,
          115.73364772743999,
          115.93940374712787,
          115.95646512717738,
          115.1736889681315,
          113.65539601241302,
          115.63299088184453,
          112.91557645800026,
          113.287377992005,
          113.15007132912615,
          112.79850233957792,
          111.30949983811112,
          112.22423870687834,
          111.38982443439437,
          111.51911218035363,
          110.59483297390216,
          111.46484346675939,
          111.63468947780504,
          109.72135847427762,
          109.04567868404797,
          107.88516013574173,
          108.44367235237311,
          106.4473898212866,
          105.23753092396714,
          105.05658266722946,
          106.35378652634039,
          106.47573263868841,
          107.2383500314392,
          106.75637628188599,
          107.95729876033016,
          107.67759804312799,
          104.36373359458537,
          104.32660978910343,
          103.88217857267723,
          104.30485584547253,
          104.73899510677339,
          105.8461771112143,
          105.12041600782977,
          105.57039564800492,
          105.06023115818086,
          104.19760251412487,
          105.11459243955264,
          103.63588991584301,
          99.6756897201407,
          96.70111631170735,
          96.70314808671044,
          96.37681585590343,
          93.77971095382857,
          92.76373498449443,
          93.68714696668846,
          92.7971297828328,
          92.57111169428754,
          93.2487267859629,
          93.93077122019378,
          94.31141360691998,
          96.28817606848871,
          94.49449045926374,
          95.44035830925003,
          92.62758782970403,
          89.0267340042437,
          87.31533684583195,
          86.86968627803313,
          89.6450189788072,
          89.21875227346482,
          89.634672278415,
          87.20519095583296,
          87.93986075627976,
          88.23194815586773,
          87.35151374358625,
          85.65392242341926,
          87.28669971538339,
          86.96017782753404,
          87.30369935870944,
          86.99353558896911,
          87.81822186192383,
          86.5283690782463,
          85.22995167684559,
          83.77094204624515,
          81.12168328037626,
          79.49162494472569,
          82.11767741340864,
          84.19820283956744,
          83.78159410583396,
          85.52886271143862,
          84.82238241441857,
          85.4000912085356,
          84.23573032500684,
          84.62862472093234,
          84.32815464517398,
          84.63798779994121,
          88.72468969575641,
          90.74585993402758,
          90.53826078970499,
          89.28830113107665,
          88.57404782743743,
          88.77574660094074,
          89.35964649442101,
          88.8487494199527,
          87.7973342679676,
          87.54014874574304,
          84.359945446394,
          83.72518670118156,
          84.05894525635324,
          83.7458223548225,
          84.27572504959755,
          84.30186694169089,
          83.8687084220903,
          86.29856017020373,
          85.49661941918663,
          85.78147609005671,
          85.70574644630585,
          85.23706435240804,
          85.87800051190167,
          86.42256445515338,
          89.56225191940791,
          89.81962166538395,
          89.0625135948816,
          89.13693121936012,
          88.90871011098817,
          88.98782127335406,
          89.87844644265545,
          91.31524462700366,
          92.32678666139896,
          94.0451188055359,
          95.95518143532911,
          96.01148264542114,
          95.45199769352578,
          94.5892019027668,
          94.95337404228425,
          94.94049690300697,
          94.0226807205774,
          93.48199404534364,
          93.61897022199926,
          94.2440207336202,
          94.78998301579705,
          94.59993134330637,
          94.53577861582733,
          94.21016976785964,
          92.9230887184547,
          91.16493724516545,
          91.27675700454584,
          89.38337145129253,
          89.69516679495848,
          89.41675038302118,
          90.17602220422552,
          91.1491632319406,
          89.58985853841698,
          88.83624307958192,
          88.69388441737269,
          90.54636248517335,
          89.94029169066025,
          89.9984781507033,
          90.22761290411165,
          90.19335455156595,
          90.82647124323637,
          90.90400627149303,
          90.56906609773091,
          89.81770680171402,
          89.24538445371482,
          90.23518589470626,
          89.94363522943624,
          91.94902295855456,
          92.65795223178321,
          93.35365444530352,
          92.99605758562645,
          93.19125961199236,
          92.93146319217493,
          92.02410777954606,
          91.9798664216943,
          92.56976908965461,
          93.2222053107049,
          93.02444586870308,
          93.12983717384428,
          93.40673123113174,
          93.15241401562167,
          92.48068890836376,
          92.34893681555708,
          92.07394077179129,
          91.67156717394442,
          90.21823647126595,
          88.90589087804584,
          88.77173774502766,
          89.84798128934816,
          88.71403347553442,
          89.20347857666616,
          88.33745941852058,
          86.81581145091303,
          86.91539270355726,
          86.69382870252839,
          86.40980730429229,
          86.71458207386885
         ],
         "high": [
          111.15422929423116,
          110.89308374145068,
          110.00597836055903,
          111.08738457214702,
          110.70231353314381,
          109.86528535131197,
          110.22546483802327,
          110.86334000193635,
          112.61531673072693,
          115.3580050313887,
          114.18686754754961,
          114.26074860267192,
          116.68990240476339,
          116.08005777104577,
          117.13654937916453,
          115.82857817713926,
          116.68483609693251,
          116.95626581065788,
          116.4026931730971,
          118.42275098565156,
          116.18851395800229,
          114.77896614099588,
          115.03256845715019,
          114.02373328996606,
          113.61421519984069,
          113.68205205530846,
          113.27820961263156,
          112.37784923547687,
          112.56277349698782,
          112.18398306881592,
          112.86336356747,
          113.01619896203323,
          110.78845529496212,
          110.41015740272661,
          108.73611159900915,
          109.143430133252,
          107.80769469096589,
          106.43367471849031,
          106.7042942648392,
          106.74200315524915,
          106.81531131583682,
          107.903875628912,
          107.88994931176381,
          109.18170383935706,
          108.48070352579612,
          106.98457896488168,
          105.99695146937826,
          105.1276558900465,
          105.47744271689578,
          121.40103421664372,
          106.04733985482935,
          106.8201072076396,
          106.03296251741673,
          106.2338571469386,
          105.43489554122218,
          105.50816015508445,
          105.64207047013096,
          102.81383972291252,
          98.53701290445349,
          97.36656444098304,
          97.24049600162347,
          95.5010040999772,
          94.21268413592452,
          94.81743829867304,
          94.4252340629302,
          93.7252124258703,
          93.6635392590465,
          94.57834249693022,
          94.9237216341599,
          96.6637368429242,
          96.47866389574764,
          95.69849516479562,
          94.70113962179056,
          92.13087260325088,
          87.77459262659215,
          90.42683104136361,
          91.76702929691876,
          90.1885783345148,
          91.97705688607356,
          90.03306664905843,
          91.04474565826196,
          89.02404101383584,
          88.59220767345727,
          90.53489905513047,
          87.69903220278589,
          87.89978790400255,
          87.86134781409466,
          89.2181359142518,
          89.11828933978758,
          87.37619176449633,
          86.94993833089688,
          85.79796608711743,
          82.64316614381545,
          81.3855638232292,
          82.41066049404256,
          84.98202783096673,
          84.82456527883186,
          86.12833886452555,
          85.45663587787126,
          85.61119241089844,
          84.86380099060986,
          85.3880431823461,
          85.14119618052494,
          85.16659840357346,
          89.40620238511218,
          91.34060170329634,
          91.90679553836041,
          90.73263523137507,
          104.98977377870227,
          89.44700335088635,
          90.10662375246412,
          89.92997527214308,
          89.0475860294375,
          88.46120161791717,
          86.36667213167036,
          84.71660587258087,
          85.51080979407288,
          84.11691611363719,
          84.67915258197925,
          84.62464475521115,
          84.71889503293475,
          86.57701209854278,
          86.85511794136815,
          86.51677856296337,
          86.34176084741739,
          85.86664917506016,
          86.51112803321226,
          86.51404296037809,
          90.53859215161097,
          90.41219289980344,
          90.03464223943311,
          90.24793829016662,
          90.0694211613905,
          89.816096841417,
          90.43109294300913,
          91.37742901165444,
          92.87077474275935,
          94.45368388474705,
          96.56770454243255,
          96.80645111241334,
          96.08057432053494,
          95.4851738068373,
          95.78864994234603,
          95.2875864370302,
          95.95883818209663,
          94.31251247778386,
          94.12435361635177,
          95.66484402335581,
          95.63230007026918,
          95.04142467378925,
          94.72169417177412,
          97.39026056842346,
          94.17524410630922,
          94.50810943894639,
          92.318107937588,
          91.24998897216278,
          89.96224501696523,
          90.30283165947256,
          90.37918833314086,
          92.12539674503904,
          90.33246026367074,
          89.66145915184613,
          89.15255842875284,
          90.80492105696544,
          91.0246130633854,
          90.75411907397438,
          91.03026920055314,
          91.72414151225763,
          105.25210761837556,
          91.74161803536319,
          91.35236061063966,
          90.61982316424226,
          90.32871766693285,
          91.36637244951083,
          91.25099769175381,
          92.41501547231019,
          93.80398292766796,
          93.70470235740189,
          94.23843269773624,
          94.09061789402017,
          93.59016868102549,
          92.88572540000308,
          92.92909249467426,
          93.38092182304614,
          94.11294001173522,
          93.36107658147124,
          93.69410746409031,
          94.34948672019351,
          94.57719616502578,
          93.5118481077618,
          93.19895525902162,
          93.029880928138,
          92.85876030495794,
          91.26846023208735,
          89.58795023798143,
          89.18002143173626,
          98.19749066598685,
          89.66045905960465,
          89.77079353706407,
          89.07503955458819,
          87.83603495818237,
          86.97892094552734,
          87.5537280314211,
          87.27856531430942,
          87.27160634670452
         ],
         "hoverinfo": "text",
         "low": [
          99.78992998480696,
          109.32027684193304,
          108.78583994967002,
          104.57795892514108,
          108.91351214472436,
          108.53353537083717,
          108.3949728095383,
          109.08056702459776,
          110.03443941692257,
          106.39477374550518,
          112.66386938800278,
          112.05862487913936,
          113.8309044038565,
          114.83429286531799,
          116.11992134576084,
          114.98102757833647,
          115.18197522178491,
          115.0511194191377,
          114.44359962087277,
          109.63203605634462,
          113.2596839006255,
          112.45132013662607,
          111.888684599693,
          112.78480536495648,
          112.0160541729969,
          110.76439302847623,
          109.3350290267505,
          111.16593462098464,
          106.25494494945136,
          109.46094617689026,
          110.6271105906985,
          110.995977847433,
          107.40324360978605,
          108.26078428893095,
          106.11679836296773,
          107.95007074893218,
          106.31441615849425,
          104.45964939577163,
          97.40502091661908,
          103.39406622630013,
          105.44066723184054,
          105.98117367532012,
          104.74662800013937,
          106.7608932293434,
          106.71249045897164,
          103.57714550217585,
          103.5825737966363,
          99.67450704069147,
          102.36669684906965,
          103.46483353509625,
          104.50018046243227,
          104.90294933683629,
          104.45955525064439,
          104.82089097319509,
          102.58970152221076,
          103.66169450011589,
          103.57156054511697,
          99.20266731654036,
          95.67290514167306,
          93.20836691847867,
          95.72250442605383,
          93.44610165663235,
          91.81912442120279,
          92.93622500635362,
          92.30270049035809,
          91.60965344733381,
          90.23423819862583,
          92.89617598996375,
          93.00666179628487,
          94.6155740992802,
          93.20924735468924,
          94.42454655495584,
          92.00984329140843,
          88.93219046793061,
          84.49162465259573,
          85.40048239451872,
          86.39206042060212,
          88.88364143930264,
          88.74941021297138,
          86.52411032117416,
          85.33575647214658,
          87.14654065467533,
          86.17640445047425,
          85.27335199844009,
          86.6921964972789,
          86.45204166743909,
          86.84364930769371,
          86.17689715174993,
          86.39535121307327,
          85.61514174569669,
          84.60215709762298,
          81.07332442481406,
          80.03259913532656,
          78.97042361579523,
          80.00882907413938,
          82.5248838872399,
          82.35559488147837,
          84.37714328705627,
          84.82238241441857,
          84.36913235365412,
          83.09038870960714,
          83.41631317327435,
          83.40332082962232,
          83.32156490657883,
          86.50074939687673,
          88.97806132931436,
          90.19306374783577,
          88.2850882400856,
          86.2837546636036,
          87.71768318198427,
          88.72381766177222,
          88.26457145256745,
          87.3542638371326,
          86.46638402252702,
          84.07709748955551,
          80.29063459737566,
          82.04709677813568,
          82.32473604416236,
          83.18410970991152,
          83.73395246908517,
          82.67638793968099,
          84.85132614852726,
          84.8871018625858,
          85.22814380253334,
          84.9810888382297,
          84.87632689511557,
          85.35362698370332,
          85.42129609918445,
          87.60928691589966,
          89.03754736030083,
          88.77415540150258,
          88.45979024320334,
          88.70390007333677,
          88.71616859397056,
          88.94527332735672,
          89.51829651035509,
          91.00075080722203,
          93.3950362619791,
          94.82276767727487,
          95.20141656591179,
          94.76766876739887,
          93.61142146180396,
          94.11287945098451,
          93.88172065704313,
          93.7654885797983,
          93.07600631529367,
          92.98955881633294,
          93.91886720164953,
          94.13038635372718,
          93.94537741519918,
          93.45433433659346,
          93.90334231530645,
          92.01638125673036,
          90.8277551144849,
          90.31638407787821,
          89.38337145129253,
          89.20151438403545,
          88.73491068528027,
          89.5080475455217,
          89.95750113498815,
          89.24272433721333,
          80.53297165723238,
          87.97063093392103,
          88.82297395127347,
          89.74740684603216,
          89.32965362752377,
          88.69006068880635,
          89.60489126978823,
          89.84057431708126,
          89.82866572327798,
          90.02425130234866,
          89.4798489433922,
          87.7975842302152,
          89.14837882156098,
          87.64700394428112,
          90.86596634390166,
          92.03536317915804,
          92.6656729429654,
          92.77180403437515,
          92.6901703675414,
          92.30355269363292,
          91.29890538058322,
          91.47138740943416,
          91.91021326898982,
          92.91312882683283,
          92.1638336185426,
          92.32199522079532,
          92.91118211581268,
          92.47730714282501,
          92.2064104174743,
          92.03736364011631,
          91.50459464513128,
          91.12355733145426,
          89.56406372688699,
          88.58979854309234,
          88.59714491164738,
          88.38489332835563,
          88.15040313559587,
          87.65123608446186,
          86.28802709865816,
          86.31511932124306,
          85.94227017897965,
          85.8959360323192,
          85.3755910185136,
          86.12858331903874
         ],
         "open": [
          99.81028875611673,
          110.66371671565881,
          109.80009867255423,
          109.34925198121888,
          109.9522055678932,
          109.40169537160958,
          109.2361042932305,
          109.17009056841182,
          110.92657507223366,
          112.70901624095612,
          114.09744669674237,
          113.29852940441708,
          115.105037388303,
          115.01222002832483,
          116.57221758733117,
          115.40543805938569,
          115.3264679151458,
          115.91595928174046,
          115.45476727250566,
          114.17031355368192,
          114.96164252202671,
          114.75718001117534,
          112.25859435131484,
          113.24254770997553,
          112.81689819557546,
          113.08842833946599,
          109.46953228157804,
          111.95479840759644,
          111.57873757277153,
          110.67061924358146,
          111.9718567546195,
          112.21829785287139,
          109.67893422941235,
          110.23404441640206,
          108.73611159900915,
          108.29350902432611,
          107.70368649800766,
          105.72204385956765,
          104.68458983912492,
          105.42943604942245,
          106.41741938523685,
          106.85680898409467,
          106.88308123678787,
          108.679427204202,
          107.98497966566659,
          106.28131069153909,
          104.6681072122732,
          104.54556820970882,
          104.18608409091888,
          104.24164605522311,
          105.18606588039282,
          106.8201072076396,
          105.22639505629091,
          105.50854882142438,
          104.09197504742926,
          104.3186155836413,
          104.41968725440347,
          102.81383972291252,
          97.08201767566908,
          95.67404299995687,
          96.51339340044387,
          95.5010040999772,
          93.24296183454194,
          93.5409877492564,
          93.861653010505,
          92.23801875329781,
          92.5662793726744,
          94.23525374209197,
          93.8019252371065,
          95.57478864821542,
          95.57930613513196,
          94.50102415479202,
          94.36648334085567,
          91.61752886661475,
          86.78396009459505,
          87.14884173842171,
          88.78321791781252,
          89.87960766769757,
          89.88268987950252,
          89.17001734313945,
          87.7235117231507,
          88.84420889233851,
          86.92042093233357,
          86.43716513398405,
          86.83260401192737,
          87.4445022849792,
          87.01896888994179,
          86.96672359482508,
          87.36964870296352,
          86.80343826725051,
          85.73824901791,
          85.71170699315944,
          82.06793396051026,
          79.81939946282087,
          80.05812896395642,
          83.6964809652099,
          84.00315708254485,
          84.95595483276603,
          85.07775123799098,
          84.86645042014018,
          84.32285569075223,
          84.0115383207843,
          85.01702392434603,
          83.75726267221732,
          87.11710623142815,
          89.47341703935203,
          90.9963263034211,
          89.66325526585543,
          88.75460034448662,
          88.9510593820094,
          88.90185099388644,
          88.89197917677518,
          88.21510750150458,
          87.81126513080571,
          85.64678087088892,
          84.13733114272918,
          83.61814428297751,
          83.61111576288351,
          83.68679503739648,
          84.18406721160143,
          83.27489523901741,
          85.19297995675905,
          86.24950460759243,
          85.5563696137483,
          85.82248022403866,
          85.2508624239533,
          86.01897852920865,
          85.98605846699698,
          88.94965381987538,
          89.69315428930858,
          89.36098254713508,
          88.73539102448183,
          89.41056717422104,
          89.816096841417,
          89.62686191779858,
          90.78730089230561,
          91.09954954528634,
          93.59094921050395,
          95.357421996559,
          96.48727876833848,
          95.73552973305937,
          94.77622899044187,
          94.5797917270638,
          94.47556683529989,
          94.8228117796777,
          93.85455966010628,
          93.73509150392869,
          93.94392583989244,
          94.6874929731623,
          94.78799077512869,
          94.30576684548834,
          95.42107459654514,
          93.37156481886974,
          92.02358125264504,
          91.02470808140686,
          90.6983332104209,
          89.54937307715991,
          89.93509567009193,
          89.82070829093087,
          90.84425002994357,
          90.17099456374497,
          88.96068727643858,
          88.1611966840417,
          89.43662647782082,
          90.46288552881731,
          89.34217871876993,
          90.01319043665768,
          90.42194640640852,
          90.55932128653586,
          91.17781099829428,
          90.64931678530006,
          89.93079237145601,
          89.4087191116572,
          89.88387669374202,
          90.45966026494176,
          91.46713512283637,
          92.50902606831201,
          93.08726432744774,
          93.54586611744608,
          93.06983686161132,
          92.79841275275788,
          92.52511336690154,
          92.12427655337058,
          92.20379303493452,
          93.8773021721337,
          93.07363505436085,
          92.96404251496514,
          93.67092265620968,
          93.48826914355769,
          93.17155616584155,
          92.47423848737964,
          92.13503502834968,
          92.10930159615774,
          90.89828124489969,
          88.95240411127776,
          88.59714491164738,
          89.15127159062877,
          89.43990463539151,
          88.62563768212897,
          88.19156411415754,
          87.37782995559313,
          86.57105596262993,
          87.20830341363839,
          86.04006485729539,
          86.56149248300827
         ],
         "showlegend": false,
         "text": [
          "2022-01-01 00:00:00 UTC<br><br>Open: 99.81028875611673 USDC/USD<br>High: 111.15422929423116 USDC/USD<br>Low: 99.78992998480696 USDC/USD<br>Close: 110.28340976719218 USDC/USD<br>Volume: 2776.6341795 USD<br>Change: 0.10 %<br><br>Exchange rate: 1.0 USDC / USD<br><br>Buys: 4.0 txs<br>Sells: 5.0 txs<br>Total: 9.0 trades<br>",
          "2022-01-01 02:00:00 UTC<br><br>Open: 110.66371671565881 USDC/USD<br>High: 110.89308374145068 USDC/USD<br>Low: 109.32027684193304 USDC/USD<br>Close: 109.32027684193304 USDC/USD<br>Volume: 325.0824925 USD<br>Change: -0.01 %<br><br>Exchange rate: 1.0 USDC / USD<br><br>Buys: 3.0 txs<br>Sells: 4.0 txs<br>Total: 7.0 trades<br>",
          "2022-01-01 04:00:00 UTC<br><br>Open: 109.80009867255423 USDC/USD<br>High: 110.00597836055903 USDC/USD<br>Low: 108.78583994967002 USDC/USD<br>Close: 109.78959196450384 USDC/USD<br>Volume: 423.3142355 USD<br>Change: -0.00 %<br><br>Exchange rate: 1.0 USDC / USD<br><br>Buys: 4.5 txs<br>Sells: 3.5 txs<br>Total: 8.0 trades<br>",
          "2022-01-01 06:00:00 UTC<br><br>Open: 109.34925198121888 USDC/USD<br>High: 111.08738457214702 USDC/USD<br>Low: 104.57795892514108 USDC/USD<br>Close: 110.1481227652755 USDC/USD<br>Volume: 2344.2576735 USD<br>Change: 0.01 %<br><br>Exchange rate: 1.0 USDC / USD<br><br>Buys: 5.5 txs<br>Sells: 9.0 txs<br>Total: 14.5 trades<br>",
          "2022-01-01 08:00:00 UTC<br><br>Open: 109.9522055678932 USDC/USD<br>High: 110.70231353314381 USDC/USD<br>Low: 108.91351214472436 USDC/USD<br>Close: 110.13221850538716 USDC/USD<br>Volume: 998.2839935 USD<br>Change: 0.00 %<br><br>Exchange rate: 1.0 USDC / USD<br><br>Buys: 5.5 txs<br>Sells: 8.0 txs<br>Total: 13.5 trades<br>",
          "2022-01-01 10:00:00 UTC<br><br>Open: 109.40169537160958 USDC/USD<br>High: 109.86528535131197 USDC/USD<br>Low: 108.53353537083717 USDC/USD<br>Close: 108.71735723138896 USDC/USD<br>Volume: 360.7675495 USD<br>Change: -0.01 %<br><br>Exchange rate: 1.0 USDC / USD<br><br>Buys: 3.5 txs<br>Sells: 4.5 txs<br>Total: 8.0 trades<br>",
          "2022-01-01 12:00:00 UTC<br><br>Open: 109.2361042932305 USDC/USD<br>High: 110.22546483802327 USDC/USD<br>Low: 108.3949728095383 USDC/USD<br>Close: 109.56925257503374 USDC/USD<br>Volume: 648.754168 USD<br>Change: 0.00 %<br><br>Exchange rate: 1.0 USDC / USD<br><br>Buys: 4.5 txs<br>Sells: 7.5 txs<br>Total: 12.0 trades<br>",
          "2022-01-01 14:00:00 UTC<br><br>Open: 109.17009056841182 USDC/USD<br>High: 110.86334000193635 USDC/USD<br>Low: 109.08056702459776 USDC/USD<br>Close: 109.58012448609273 USDC/USD<br>Volume: 845.9438439999999 USD<br>Change: 0.00 %<br><br>Exchange rate: 1.0 USDC / USD<br><br>Buys: 5.5 txs<br>Sells: 11.0 txs<br>Total: 16.5 trades<br>",
          "2022-01-01 16:00:00 UTC<br><br>Open: 110.92657507223366 USDC/USD<br>High: 112.61531673072693 USDC/USD<br>Low: 110.03443941692257 USDC/USD<br>Close: 111.99421231737153 USDC/USD<br>Volume: 903.5020325 USD<br>Change: 0.01 %<br><br>Exchange rate: 1.0 USDC / USD<br><br>Buys: 8.5 txs<br>Sells: 7.5 txs<br>Total: 16.0 trades<br>",
          "2022-01-01 18:00:00 UTC<br><br>Open: 112.70901624095612 USDC/USD<br>High: 115.3580050313887 USDC/USD<br>Low: 106.39477374550518 USDC/USD<br>Close: 112.75324207897643 USDC/USD<br>Volume: 2415.465371 USD<br>Change: 0.00 %<br><br>Exchange rate: 1.0 USDC / USD<br><br>Buys: 5.5 txs<br>Sells: 10.0 txs<br>Total: 15.5 trades<br>",
          "2022-01-01 20:00:00 UTC<br><br>Open: 114.09744669674237 USDC/USD<br>High: 114.18686754754961 USDC/USD<br>Low: 112.66386938800278 USDC/USD<br>Close: 113.01638001480504 USDC/USD<br>Volume: 583.224568 USD<br>Change: -0.01 %<br><br>Exchange rate: 1.0 USDC / USD<br><br>Buys: 5.0 txs<br>Sells: 6.5 txs<br>Total: 11.5 trades<br>",
          "2022-01-01 22:00:00 UTC<br><br>Open: 113.29852940441708 USDC/USD<br>High: 114.26074860267192 USDC/USD<br>Low: 112.05862487913936 USDC/USD<br>Close: 113.50181450764128 USDC/USD<br>Volume: 663.3578435 USD<br>Change: 0.00 %<br><br>Exchange rate: 1.0 USDC / USD<br><br>Buys: 5.0 txs<br>Sells: 7.0 txs<br>Total: 12.0 trades<br>",
          "2022-01-02 00:00:00 UTC<br><br>Open: 115.105037388303 USDC/USD<br>High: 116.68990240476339 USDC/USD<br>Low: 113.8309044038565 USDC/USD<br>Close: 115.64830281187699 USDC/USD<br>Volume: 459.1633755 USD<br>Change: 0.00 %<br><br>Exchange rate: 1.0 USDC / USD<br><br>Buys: 5.0 txs<br>Sells: 4.5 txs<br>Total: 9.5 trades<br>",
          "2022-01-02 02:00:00 UTC<br><br>Open: 115.01222002832483 USDC/USD<br>High: 116.08005777104577 USDC/USD<br>Low: 114.83429286531799 USDC/USD<br>Close: 116.07886769908075 USDC/USD<br>Volume: 367.1807005 USD<br>Change: 0.01 %<br><br>Exchange rate: 1.0 USDC / USD<br><br>Buys: 10.0 txs<br>Sells: 4.0 txs<br>Total: 14.0 trades<br>",
          "2022-01-02 04:00:00 UTC<br><br>Open: 116.57221758733117 USDC/USD<br>High: 117.13654937916453 USDC/USD<br>Low: 116.11992134576084 USDC/USD<br>Close: 116.65856394333754 USDC/USD<br>Volume: 359.06065799999993 USD<br>Change: 0.00 %<br><br>Exchange rate: 1.0 USDC / USD<br><br>Buys: 3.0 txs<br>Sells: 5.0 txs<br>Total: 8.0 trades<br>",
          "2022-01-02 06:00:00 UTC<br><br>Open: 115.40543805938569 USDC/USD<br>High: 115.82857817713926 USDC/USD<br>Low: 114.98102757833647 USDC/USD<br>Close: 115.73364772743999 USDC/USD<br>Volume: 256.74328649999995 USD<br>Change: 0.00 %<br><br>Exchange rate: 1.0 USDC / USD<br><br>Buys: 2.5 txs<br>Sells: 2.5 txs<br>Total: 5.0 trades<br>",
          "2022-01-02 08:00:00 UTC<br><br>Open: 115.3264679151458 USDC/USD<br>High: 116.68483609693251 USDC/USD<br>Low: 115.18197522178491 USDC/USD<br>Close: 115.93940374712787 USDC/USD<br>Volume: 560.282533 USD<br>Change: 0.01 %<br><br>Exchange rate: 1.0 USDC / USD<br><br>Buys: 3.5 txs<br>Sells: 6.5 txs<br>Total: 10.0 trades<br>",
          "2022-01-02 10:00:00 UTC<br><br>Open: 115.91595928174046 USDC/USD<br>High: 116.95626581065788 USDC/USD<br>Low: 115.0511194191377 USDC/USD<br>Close: 115.95646512717738 USDC/USD<br>Volume: 537.5657894999999 USD<br>Change: 0.00 %<br><br>Exchange rate: 1.0 USDC / USD<br><br>Buys: 4.0 txs<br>Sells: 7.5 txs<br>Total: 11.5 trades<br>",
          "2022-01-02 12:00:00 UTC<br><br>Open: 115.45476727250566 USDC/USD<br>High: 116.4026931730971 USDC/USD<br>Low: 114.44359962087277 USDC/USD<br>Close: 115.1736889681315 USDC/USD<br>Volume: 650.8398645 USD<br>Change: -0.00 %<br><br>Exchange rate: 1.0 USDC / USD<br><br>Buys: 4.0 txs<br>Sells: 5.5 txs<br>Total: 9.5 trades<br>",
          "2022-01-02 14:00:00 UTC<br><br>Open: 114.17031355368192 USDC/USD<br>High: 118.42275098565156 USDC/USD<br>Low: 109.63203605634462 USDC/USD<br>Close: 113.65539601241302 USDC/USD<br>Volume: 3216.0277814999995 USD<br>Change: -0.00 %<br><br>Exchange rate: 1.0 USDC / USD<br><br>Buys: 13.5 txs<br>Sells: 14.5 txs<br>Total: 28.0 trades<br>",
          "2022-01-02 16:00:00 UTC<br><br>Open: 114.96164252202671 USDC/USD<br>High: 116.18851395800229 USDC/USD<br>Low: 113.2596839006255 USDC/USD<br>Close: 115.63299088184453 USDC/USD<br>Volume: 1064.1670125 USD<br>Change: 0.01 %<br><br>Exchange rate: 1.0 USDC / USD<br><br>Buys: 9.0 txs<br>Sells: 11.5 txs<br>Total: 20.5 trades<br>",
          "2022-01-02 18:00:00 UTC<br><br>Open: 114.75718001117534 USDC/USD<br>High: 114.77896614099588 USDC/USD<br>Low: 112.45132013662607 USDC/USD<br>Close: 112.91557645800026 USDC/USD<br>Volume: 651.6703055 USD<br>Change: -0.02 %<br><br>Exchange rate: 1.0 USDC / USD<br><br>Buys: 7.0 txs<br>Sells: 11.0 txs<br>Total: 18.0 trades<br>",
          "2022-01-02 20:00:00 UTC<br><br>Open: 112.25859435131484 USDC/USD<br>High: 115.03256845715019 USDC/USD<br>Low: 111.888684599693 USDC/USD<br>Close: 113.287377992005 USDC/USD<br>Volume: 1406.9932844999998 USD<br>Change: 0.01 %<br><br>Exchange rate: 1.0 USDC / USD<br><br>Buys: 8.5 txs<br>Sells: 10.0 txs<br>Total: 18.5 trades<br>",
          "2022-01-02 22:00:00 UTC<br><br>Open: 113.24254770997553 USDC/USD<br>High: 114.02373328996606 USDC/USD<br>Low: 112.78480536495648 USDC/USD<br>Close: 113.15007132912615 USDC/USD<br>Volume: 529.737758 USD<br>Change: -0.00 %<br><br>Exchange rate: 1.0 USDC / USD<br><br>Buys: 6.5 txs<br>Sells: 6.0 txs<br>Total: 12.5 trades<br>",
          "2022-01-03 00:00:00 UTC<br><br>Open: 112.81689819557546 USDC/USD<br>High: 113.61421519984069 USDC/USD<br>Low: 112.0160541729969 USDC/USD<br>Close: 112.79850233957792 USDC/USD<br>Volume: 441.81410350000004 USD<br>Change: -0.00 %<br><br>Exchange rate: 1.0 USDC / USD<br><br>Buys: 3.5 txs<br>Sells: 6.0 txs<br>Total: 9.5 trades<br>",
          "2022-01-03 02:00:00 UTC<br><br>Open: 113.08842833946599 USDC/USD<br>High: 113.68205205530846 USDC/USD<br>Low: 110.76439302847623 USDC/USD<br>Close: 111.30949983811112 USDC/USD<br>Volume: 1173.416529 USD<br>Change: -0.02 %<br><br>Exchange rate: 1.0 USDC / USD<br><br>Buys: 8.0 txs<br>Sells: 10.5 txs<br>Total: 18.5 trades<br>",
          "2022-01-03 04:00:00 UTC<br><br>Open: 109.46953228157804 USDC/USD<br>High: 113.27820961263156 USDC/USD<br>Low: 109.3350290267505 USDC/USD<br>Close: 112.22423870687834 USDC/USD<br>Volume: 2324.0232575 USD<br>Change: 0.03 %<br><br>Exchange rate: 1.0 USDC / USD<br><br>Buys: 12.0 txs<br>Sells: 12.0 txs<br>Total: 24.0 trades<br>",
          "2022-01-03 06:00:00 UTC<br><br>Open: 111.95479840759644 USDC/USD<br>High: 112.37784923547687 USDC/USD<br>Low: 111.16593462098464 USDC/USD<br>Close: 111.38982443439437 USDC/USD<br>Volume: 337.166281 USD<br>Change: -0.01 %<br><br>Exchange rate: 1.0 USDC / USD<br><br>Buys: 5.0 txs<br>Sells: 8.5 txs<br>Total: 13.5 trades<br>",
          "2022-01-03 08:00:00 UTC<br><br>Open: 111.57873757277153 USDC/USD<br>High: 112.56277349698782 USDC/USD<br>Low: 106.25494494945136 USDC/USD<br>Close: 111.51911218035363 USDC/USD<br>Volume: 1666.315857 USD<br>Change: -0.00 %<br><br>Exchange rate: 1.0 USDC / USD<br><br>Buys: 6.5 txs<br>Sells: 9.0 txs<br>Total: 15.5 trades<br>",
          "2022-01-03 10:00:00 UTC<br><br>Open: 110.67061924358146 USDC/USD<br>High: 112.18398306881592 USDC/USD<br>Low: 109.46094617689026 USDC/USD<br>Close: 110.59483297390216 USDC/USD<br>Volume: 942.0896170000001 USD<br>Change: -0.00 %<br><br>Exchange rate: 1.0 USDC / USD<br><br>Buys: 8.0 txs<br>Sells: 6.5 txs<br>Total: 14.5 trades<br>",
          "2022-01-03 12:00:00 UTC<br><br>Open: 111.9718567546195 USDC/USD<br>High: 112.86336356747 USDC/USD<br>Low: 110.6271105906985 USDC/USD<br>Close: 111.46484346675939 USDC/USD<br>Volume: 1177.3051705 USD<br>Change: -0.00 %<br><br>Exchange rate: 1.0 USDC / USD<br><br>Buys: 10.0 txs<br>Sells: 9.0 txs<br>Total: 19.0 trades<br>",
          "2022-01-03 14:00:00 UTC<br><br>Open: 112.21829785287139 USDC/USD<br>High: 113.01619896203323 USDC/USD<br>Low: 110.995977847433 USDC/USD<br>Close: 111.63468947780504 USDC/USD<br>Volume: 1075.0663260000001 USD<br>Change: -0.01 %<br><br>Exchange rate: 1.0 USDC / USD<br><br>Buys: 13.5 txs<br>Sells: 9.0 txs<br>Total: 22.5 trades<br>",
          "2022-01-03 16:00:00 UTC<br><br>Open: 109.67893422941235 USDC/USD<br>High: 110.78845529496212 USDC/USD<br>Low: 107.40324360978605 USDC/USD<br>Close: 109.72135847427762 USDC/USD<br>Volume: 1497.6387824999997 USD<br>Change: 0.00 %<br><br>Exchange rate: 1.0 USDC / USD<br><br>Buys: 12.5 txs<br>Sells: 10.5 txs<br>Total: 23.0 trades<br>",
          "2022-01-03 18:00:00 UTC<br><br>Open: 110.23404441640206 USDC/USD<br>High: 110.41015740272661 USDC/USD<br>Low: 108.26078428893095 USDC/USD<br>Close: 109.04567868404797 USDC/USD<br>Volume: 929.2220479999999 USD<br>Change: -0.01 %<br><br>Exchange rate: 1.0 USDC / USD<br><br>Buys: 11.0 txs<br>Sells: 11.5 txs<br>Total: 22.5 trades<br>",
          "2022-01-03 20:00:00 UTC<br><br>Open: 108.73611159900915 USDC/USD<br>High: 108.73611159900915 USDC/USD<br>Low: 106.11679836296773 USDC/USD<br>Close: 107.88516013574173 USDC/USD<br>Volume: 1051.8646215 USD<br>Change: -0.01 %<br><br>Exchange rate: 1.0 USDC / USD<br><br>Buys: 6.0 txs<br>Sells: 8.5 txs<br>Total: 14.5 trades<br>",
          "2022-01-03 22:00:00 UTC<br><br>Open: 108.29350902432611 USDC/USD<br>High: 109.143430133252 USDC/USD<br>Low: 107.95007074893218 USDC/USD<br>Close: 108.44367235237311 USDC/USD<br>Volume: 464.8182495 USD<br>Change: 0.00 %<br><br>Exchange rate: 1.0 USDC / USD<br><br>Buys: 6.5 txs<br>Sells: 5.0 txs<br>Total: 11.5 trades<br>",
          "2022-01-04 00:00:00 UTC<br><br>Open: 107.70368649800766 USDC/USD<br>High: 107.80769469096589 USDC/USD<br>Low: 106.31441615849425 USDC/USD<br>Close: 106.4473898212866 USDC/USD<br>Volume: 422.50007899999997 USD<br>Change: -0.01 %<br><br>Exchange rate: 1.0 USDC / USD<br><br>Buys: 4.5 txs<br>Sells: 9.0 txs<br>Total: 13.5 trades<br>",
          "2022-01-04 02:00:00 UTC<br><br>Open: 105.72204385956765 USDC/USD<br>High: 106.43367471849031 USDC/USD<br>Low: 104.45964939577163 USDC/USD<br>Close: 105.23753092396714 USDC/USD<br>Volume: 1495.8150179999998 USD<br>Change: -0.00 %<br><br>Exchange rate: 1.0 USDC / USD<br><br>Buys: 12.0 txs<br>Sells: 13.5 txs<br>Total: 25.5 trades<br>",
          "2022-01-04 04:00:00 UTC<br><br>Open: 104.68458983912492 USDC/USD<br>High: 106.7042942648392 USDC/USD<br>Low: 97.40502091661908 USDC/USD<br>Close: 105.05658266722946 USDC/USD<br>Volume: 2876.6443734999993 USD<br>Change: 0.00 %<br><br>Exchange rate: 1.0 USDC / USD<br><br>Buys: 9.0 txs<br>Sells: 8.0 txs<br>Total: 17.0 trades<br>",
          "2022-01-04 06:00:00 UTC<br><br>Open: 105.42943604942245 USDC/USD<br>High: 106.74200315524915 USDC/USD<br>Low: 103.39406622630013 USDC/USD<br>Close: 106.35378652634039 USDC/USD<br>Volume: 1267.8186905 USD<br>Change: 0.01 %<br><br>Exchange rate: 1.0 USDC / USD<br><br>Buys: 6.0 txs<br>Sells: 7.0 txs<br>Total: 13.0 trades<br>",
          "2022-01-04 08:00:00 UTC<br><br>Open: 106.41741938523685 USDC/USD<br>High: 106.81531131583682 USDC/USD<br>Low: 105.44066723184054 USDC/USD<br>Close: 106.47573263868841 USDC/USD<br>Volume: 920.2164554999999 USD<br>Change: 0.00 %<br><br>Exchange rate: 1.0 USDC / USD<br><br>Buys: 5.5 txs<br>Sells: 11.0 txs<br>Total: 16.5 trades<br>",
          "2022-01-04 10:00:00 UTC<br><br>Open: 106.85680898409467 USDC/USD<br>High: 107.903875628912 USDC/USD<br>Low: 105.98117367532012 USDC/USD<br>Close: 107.2383500314392 USDC/USD<br>Volume: 1412.43597 USD<br>Change: 0.00 %<br><br>Exchange rate: 1.0 USDC / USD<br><br>Buys: 7.5 txs<br>Sells: 10.0 txs<br>Total: 17.5 trades<br>",
          "2022-01-04 12:00:00 UTC<br><br>Open: 106.88308123678787 USDC/USD<br>High: 107.88994931176381 USDC/USD<br>Low: 104.74662800013937 USDC/USD<br>Close: 106.75637628188599 USDC/USD<br>Volume: 1919.7116055000001 USD<br>Change: -0.00 %<br><br>Exchange rate: 1.0 USDC / USD<br><br>Buys: 9.0 txs<br>Sells: 10.5 txs<br>Total: 19.5 trades<br>",
          "2022-01-04 14:00:00 UTC<br><br>Open: 108.679427204202 USDC/USD<br>High: 109.18170383935706 USDC/USD<br>Low: 106.7608932293434 USDC/USD<br>Close: 107.95729876033016 USDC/USD<br>Volume: 2132.537566 USD<br>Change: -0.01 %<br><br>Exchange rate: 1.0 USDC / USD<br><br>Buys: 12.5 txs<br>Sells: 13.0 txs<br>Total: 25.5 trades<br>",
          "2022-01-04 16:00:00 UTC<br><br>Open: 107.98497966566659 USDC/USD<br>High: 108.48070352579612 USDC/USD<br>Low: 106.71249045897164 USDC/USD<br>Close: 107.67759804312799 USDC/USD<br>Volume: 1266.1773855 USD<br>Change: -0.00 %<br><br>Exchange rate: 1.0 USDC / USD<br><br>Buys: 7.5 txs<br>Sells: 11.0 txs<br>Total: 18.5 trades<br>",
          "2022-01-04 18:00:00 UTC<br><br>Open: 106.28131069153909 USDC/USD<br>High: 106.98457896488168 USDC/USD<br>Low: 103.57714550217585 USDC/USD<br>Close: 104.36373359458537 USDC/USD<br>Volume: 2144.880863 USD<br>Change: -0.02 %<br><br>Exchange rate: 1.0 USDC / USD<br><br>Buys: 10.5 txs<br>Sells: 16.5 txs<br>Total: 27.0 trades<br>",
          "2022-01-04 20:00:00 UTC<br><br>Open: 104.6681072122732 USDC/USD<br>High: 105.99695146937826 USDC/USD<br>Low: 103.5825737966363 USDC/USD<br>Close: 104.32660978910343 USDC/USD<br>Volume: 1975.8110474999999 USD<br>Change: -0.00 %<br><br>Exchange rate: 1.0 USDC / USD<br><br>Buys: 12.5 txs<br>Sells: 13.0 txs<br>Total: 25.5 trades<br>",
          "2022-01-04 22:00:00 UTC<br><br>Open: 104.54556820970882 USDC/USD<br>High: 105.1276558900465 USDC/USD<br>Low: 99.67450704069147 USDC/USD<br>Close: 103.88217857267723 USDC/USD<br>Volume: 2941.4533539999998 USD<br>Change: -0.01 %<br><br>Exchange rate: 1.0 USDC / USD<br><br>Buys: 10.0 txs<br>Sells: 14.0 txs<br>Total: 24.0 trades<br>",
          "2022-01-05 00:00:00 UTC<br><br>Open: 104.18608409091888 USDC/USD<br>High: 105.47744271689578 USDC/USD<br>Low: 102.36669684906965 USDC/USD<br>Close: 104.30485584547253 USDC/USD<br>Volume: 1857.5406885 USD<br>Change: 0.00 %<br><br>Exchange rate: 1.0 USDC / USD<br><br>Buys: 8.5 txs<br>Sells: 9.0 txs<br>Total: 17.5 trades<br>",
          "2022-01-05 02:00:00 UTC<br><br>Open: 104.24164605522311 USDC/USD<br>High: 121.40103421664372 USDC/USD<br>Low: 103.46483353509625 USDC/USD<br>Close: 104.73899510677339 USDC/USD<br>Volume: 6485.0604815 USD<br>Change: 0.00 %<br><br>Exchange rate: 1.0 USDC / USD<br><br>Buys: 9.5 txs<br>Sells: 10.5 txs<br>Total: 20.0 trades<br>",
          "2022-01-05 04:00:00 UTC<br><br>Open: 105.18606588039282 USDC/USD<br>High: 106.04733985482935 USDC/USD<br>Low: 104.50018046243227 USDC/USD<br>Close: 105.8461771112143 USDC/USD<br>Volume: 917.6968775 USD<br>Change: 0.01 %<br><br>Exchange rate: 1.0 USDC / USD<br><br>Buys: 6.0 txs<br>Sells: 12.5 txs<br>Total: 18.5 trades<br>",
          "2022-01-05 06:00:00 UTC<br><br>Open: 106.8201072076396 USDC/USD<br>High: 106.8201072076396 USDC/USD<br>Low: 104.90294933683629 USDC/USD<br>Close: 105.12041600782977 USDC/USD<br>Volume: 1172.5050959999999 USD<br>Change: -0.02 %<br><br>Exchange rate: 1.0 USDC / USD<br><br>Buys: 7.5 txs<br>Sells: 7.0 txs<br>Total: 14.5 trades<br>",
          "2022-01-05 08:00:00 UTC<br><br>Open: 105.22639505629091 USDC/USD<br>High: 106.03296251741673 USDC/USD<br>Low: 104.45955525064439 USDC/USD<br>Close: 105.57039564800492 USDC/USD<br>Volume: 1834.3865544999999 USD<br>Change: 0.00 %<br><br>Exchange rate: 1.0 USDC / USD<br><br>Buys: 12.5 txs<br>Sells: 13.0 txs<br>Total: 25.5 trades<br>",
          "2022-01-05 10:00:00 UTC<br><br>Open: 105.50854882142438 USDC/USD<br>High: 106.2338571469386 USDC/USD<br>Low: 104.82089097319509 USDC/USD<br>Close: 105.06023115818086 USDC/USD<br>Volume: 627.2510104999999 USD<br>Change: -0.00 %<br><br>Exchange rate: 1.0 USDC / USD<br><br>Buys: 4.5 txs<br>Sells: 8.0 txs<br>Total: 12.5 trades<br>",
          "2022-01-05 12:00:00 UTC<br><br>Open: 104.09197504742926 USDC/USD<br>High: 105.43489554122218 USDC/USD<br>Low: 102.58970152221076 USDC/USD<br>Close: 104.19760251412487 USDC/USD<br>Volume: 1192.9190835 USD<br>Change: 0.00 %<br><br>Exchange rate: 1.0 USDC / USD<br><br>Buys: 9.0 txs<br>Sells: 7.5 txs<br>Total: 16.5 trades<br>",
          "2022-01-05 14:00:00 UTC<br><br>Open: 104.3186155836413 USDC/USD<br>High: 105.50816015508445 USDC/USD<br>Low: 103.66169450011589 USDC/USD<br>Close: 105.11459243955264 USDC/USD<br>Volume: 2399.1906565 USD<br>Change: 0.01 %<br><br>Exchange rate: 1.0 USDC / USD<br><br>Buys: 15.5 txs<br>Sells: 15.0 txs<br>Total: 30.5 trades<br>",
          "2022-01-05 16:00:00 UTC<br><br>Open: 104.41968725440347 USDC/USD<br>High: 105.64207047013096 USDC/USD<br>Low: 103.57156054511697 USDC/USD<br>Close: 103.63588991584301 USDC/USD<br>Volume: 1550.6576525 USD<br>Change: -0.01 %<br><br>Exchange rate: 1.0 USDC / USD<br><br>Buys: 10.5 txs<br>Sells: 15.0 txs<br>Total: 25.5 trades<br>",
          "2022-01-05 18:00:00 UTC<br><br>Open: 102.81383972291252 USDC/USD<br>High: 102.81383972291252 USDC/USD<br>Low: 99.20266731654036 USDC/USD<br>Close: 99.6756897201407 USDC/USD<br>Volume: 1599.7065265 USD<br>Change: -0.03 %<br><br>Exchange rate: 1.0 USDC / USD<br><br>Buys: 10.0 txs<br>Sells: 14.5 txs<br>Total: 24.5 trades<br>",
          "2022-01-05 20:00:00 UTC<br><br>Open: 97.08201767566908 USDC/USD<br>High: 98.53701290445349 USDC/USD<br>Low: 95.67290514167306 USDC/USD<br>Close: 96.70111631170735 USDC/USD<br>Volume: 2336.0704614999995 USD<br>Change: -0.00 %<br><br>Exchange rate: 1.0 USDC / USD<br><br>Buys: 10.0 txs<br>Sells: 13.5 txs<br>Total: 23.5 trades<br>",
          "2022-01-05 22:00:00 UTC<br><br>Open: 95.67404299995687 USDC/USD<br>High: 97.36656444098304 USDC/USD<br>Low: 93.20836691847867 USDC/USD<br>Close: 96.70314808671044 USDC/USD<br>Volume: 2813.6081065 USD<br>Change: 0.01 %<br><br>Exchange rate: 1.0 USDC / USD<br><br>Buys: 16.0 txs<br>Sells: 13.5 txs<br>Total: 29.5 trades<br>",
          "2022-01-06 00:00:00 UTC<br><br>Open: 96.51339340044387 USDC/USD<br>High: 97.24049600162347 USDC/USD<br>Low: 95.72250442605383 USDC/USD<br>Close: 96.37681585590343 USDC/USD<br>Volume: 933.7960410000001 USD<br>Change: -0.00 %<br><br>Exchange rate: 1.0 USDC / USD<br><br>Buys: 5.5 txs<br>Sells: 7.5 txs<br>Total: 13.0 trades<br>",
          "2022-01-06 02:00:00 UTC<br><br>Open: 95.5010040999772 USDC/USD<br>High: 95.5010040999772 USDC/USD<br>Low: 93.44610165663235 USDC/USD<br>Close: 93.77971095382857 USDC/USD<br>Volume: 1144.7903215 USD<br>Change: -0.02 %<br><br>Exchange rate: 1.0 USDC / USD<br><br>Buys: 7.0 txs<br>Sells: 12.5 txs<br>Total: 19.5 trades<br>",
          "2022-01-06 04:00:00 UTC<br><br>Open: 93.24296183454194 USDC/USD<br>High: 94.21268413592452 USDC/USD<br>Low: 91.81912442120279 USDC/USD<br>Close: 92.76373498449443 USDC/USD<br>Volume: 2058.3047654999996 USD<br>Change: -0.01 %<br><br>Exchange rate: 1.0 USDC / USD<br><br>Buys: 12.0 txs<br>Sells: 10.0 txs<br>Total: 22.0 trades<br>",
          "2022-01-06 06:00:00 UTC<br><br>Open: 93.5409877492564 USDC/USD<br>High: 94.81743829867304 USDC/USD<br>Low: 92.93622500635362 USDC/USD<br>Close: 93.68714696668846 USDC/USD<br>Volume: 1857.5884420000002 USD<br>Change: 0.00 %<br><br>Exchange rate: 1.0 USDC / USD<br><br>Buys: 8.0 txs<br>Sells: 12.5 txs<br>Total: 20.5 trades<br>",
          "2022-01-06 08:00:00 UTC<br><br>Open: 93.861653010505 USDC/USD<br>High: 94.4252340629302 USDC/USD<br>Low: 92.30270049035809 USDC/USD<br>Close: 92.7971297828328 USDC/USD<br>Volume: 1254.709547 USD<br>Change: -0.01 %<br><br>Exchange rate: 1.0 USDC / USD<br><br>Buys: 9.0 txs<br>Sells: 12.5 txs<br>Total: 21.5 trades<br>",
          "2022-01-06 10:00:00 UTC<br><br>Open: 92.23801875329781 USDC/USD<br>High: 93.7252124258703 USDC/USD<br>Low: 91.60965344733381 USDC/USD<br>Close: 92.57111169428754 USDC/USD<br>Volume: 1634.5723325 USD<br>Change: 0.00 %<br><br>Exchange rate: 1.0 USDC / USD<br><br>Buys: 8.5 txs<br>Sells: 11.0 txs<br>Total: 19.5 trades<br>",
          "2022-01-06 12:00:00 UTC<br><br>Open: 92.5662793726744 USDC/USD<br>High: 93.6635392590465 USDC/USD<br>Low: 90.23423819862583 USDC/USD<br>Close: 93.2487267859629 USDC/USD<br>Volume: 2441.5037045 USD<br>Change: 0.01 %<br><br>Exchange rate: 1.0 USDC / USD<br><br>Buys: 10.5 txs<br>Sells: 8.5 txs<br>Total: 19.0 trades<br>",
          "2022-01-06 14:00:00 UTC<br><br>Open: 94.23525374209197 USDC/USD<br>High: 94.57834249693022 USDC/USD<br>Low: 92.89617598996375 USDC/USD<br>Close: 93.93077122019378 USDC/USD<br>Volume: 898.8181284999998 USD<br>Change: -0.00 %<br><br>Exchange rate: 1.0 USDC / USD<br><br>Buys: 5.5 txs<br>Sells: 9.5 txs<br>Total: 15.0 trades<br>",
          "2022-01-06 16:00:00 UTC<br><br>Open: 93.8019252371065 USDC/USD<br>High: 94.9237216341599 USDC/USD<br>Low: 93.00666179628487 USDC/USD<br>Close: 94.31141360691998 USDC/USD<br>Volume: 1081.525561 USD<br>Change: 0.01 %<br><br>Exchange rate: 1.0 USDC / USD<br><br>Buys: 10.0 txs<br>Sells: 9.0 txs<br>Total: 19.0 trades<br>",
          "2022-01-06 18:00:00 UTC<br><br>Open: 95.57478864821542 USDC/USD<br>High: 96.6637368429242 USDC/USD<br>Low: 94.6155740992802 USDC/USD<br>Close: 96.28817606848871 USDC/USD<br>Volume: 1051.2525805 USD<br>Change: 0.01 %<br><br>Exchange rate: 1.0 USDC / USD<br><br>Buys: 8.5 txs<br>Sells: 9.0 txs<br>Total: 17.5 trades<br>",
          "2022-01-06 20:00:00 UTC<br><br>Open: 95.57930613513196 USDC/USD<br>High: 96.47866389574764 USDC/USD<br>Low: 93.20924735468924 USDC/USD<br>Close: 94.49449045926374 USDC/USD<br>Volume: 2227.2521909999996 USD<br>Change: -0.01 %<br><br>Exchange rate: 1.0 USDC / USD<br><br>Buys: 13.0 txs<br>Sells: 15.5 txs<br>Total: 28.5 trades<br>",
          "2022-01-06 22:00:00 UTC<br><br>Open: 94.50102415479202 USDC/USD<br>High: 95.69849516479562 USDC/USD<br>Low: 94.42454655495584 USDC/USD<br>Close: 95.44035830925003 USDC/USD<br>Volume: 990.0815554999999 USD<br>Change: 0.01 %<br><br>Exchange rate: 1.0 USDC / USD<br><br>Buys: 7.5 txs<br>Sells: 7.5 txs<br>Total: 15.0 trades<br>",
          "2022-01-07 00:00:00 UTC<br><br>Open: 94.36648334085567 USDC/USD<br>High: 94.70113962179056 USDC/USD<br>Low: 92.00984329140843 USDC/USD<br>Close: 92.62758782970403 USDC/USD<br>Volume: 1297.4340469999997 USD<br>Change: -0.02 %<br><br>Exchange rate: 1.0 USDC / USD<br><br>Buys: 7.5 txs<br>Sells: 10.0 txs<br>Total: 17.5 trades<br>",
          "2022-01-07 02:00:00 UTC<br><br>Open: 91.61752886661475 USDC/USD<br>High: 92.13087260325088 USDC/USD<br>Low: 88.93219046793061 USDC/USD<br>Close: 89.0267340042437 USDC/USD<br>Volume: 1118.9970105 USD<br>Change: -0.03 %<br><br>Exchange rate: 1.0 USDC / USD<br><br>Buys: 4.5 txs<br>Sells: 8.5 txs<br>Total: 13.0 trades<br>",
          "2022-01-07 04:00:00 UTC<br><br>Open: 86.78396009459505 USDC/USD<br>High: 87.77459262659215 USDC/USD<br>Low: 84.49162465259573 USDC/USD<br>Close: 87.31533684583195 USDC/USD<br>Volume: 3108.1619669999995 USD<br>Change: 0.01 %<br><br>Exchange rate: 1.0 USDC / USD<br><br>Buys: 9.5 txs<br>Sells: 10.5 txs<br>Total: 20.0 trades<br>",
          "2022-01-07 06:00:00 UTC<br><br>Open: 87.14884173842171 USDC/USD<br>High: 90.42683104136361 USDC/USD<br>Low: 85.40048239451872 USDC/USD<br>Close: 86.86968627803313 USDC/USD<br>Volume: 1886.6264204999998 USD<br>Change: -0.00 %<br><br>Exchange rate: 1.0 USDC / USD<br><br>Buys: 10.0 txs<br>Sells: 17.5 txs<br>Total: 27.5 trades<br>",
          "2022-01-07 08:00:00 UTC<br><br>Open: 88.78321791781252 USDC/USD<br>High: 91.76702929691876 USDC/USD<br>Low: 86.39206042060212 USDC/USD<br>Close: 89.6450189788072 USDC/USD<br>Volume: 2778.248479499999 USD<br>Change: 0.01 %<br><br>Exchange rate: 1.0 USDC / USD<br><br>Buys: 12.0 txs<br>Sells: 13.0 txs<br>Total: 25.0 trades<br>",
          "2022-01-07 10:00:00 UTC<br><br>Open: 89.87960766769757 USDC/USD<br>High: 90.1885783345148 USDC/USD<br>Low: 88.88364143930264 USDC/USD<br>Close: 89.21875227346482 USDC/USD<br>Volume: 772.3579255 USD<br>Change: -0.01 %<br><br>Exchange rate: 1.0 USDC / USD<br><br>Buys: 6.0 txs<br>Sells: 10.5 txs<br>Total: 16.5 trades<br>",
          "2022-01-07 12:00:00 UTC<br><br>Open: 89.88268987950252 USDC/USD<br>High: 91.97705688607356 USDC/USD<br>Low: 88.74941021297138 USDC/USD<br>Close: 89.634672278415 USDC/USD<br>Volume: 1831.387432 USD<br>Change: -0.00 %<br><br>Exchange rate: 1.0 USDC / USD<br><br>Buys: 11.0 txs<br>Sells: 12.5 txs<br>Total: 23.5 trades<br>",
          "2022-01-07 14:00:00 UTC<br><br>Open: 89.17001734313945 USDC/USD<br>High: 90.03306664905843 USDC/USD<br>Low: 86.52411032117416 USDC/USD<br>Close: 87.20519095583296 USDC/USD<br>Volume: 2163.6636415 USD<br>Change: -0.02 %<br><br>Exchange rate: 1.0 USDC / USD<br><br>Buys: 10.5 txs<br>Sells: 13.0 txs<br>Total: 23.5 trades<br>",
          "2022-01-07 16:00:00 UTC<br><br>Open: 87.7235117231507 USDC/USD<br>High: 91.04474565826196 USDC/USD<br>Low: 85.33575647214658 USDC/USD<br>Close: 87.93986075627976 USDC/USD<br>Volume: 4455.891499 USD<br>Change: 0.00 %<br><br>Exchange rate: 1.0 USDC / USD<br><br>Buys: 14.0 txs<br>Sells: 21.0 txs<br>Total: 35.0 trades<br>",
          "2022-01-07 18:00:00 UTC<br><br>Open: 88.84420889233851 USDC/USD<br>High: 89.02404101383584 USDC/USD<br>Low: 87.14654065467533 USDC/USD<br>Close: 88.23194815586773 USDC/USD<br>Volume: 1196.175377 USD<br>Change: -0.01 %<br><br>Exchange rate: 1.0 USDC / USD<br><br>Buys: 7.5 txs<br>Sells: 10.0 txs<br>Total: 17.5 trades<br>",
          "2022-01-07 20:00:00 UTC<br><br>Open: 86.92042093233357 USDC/USD<br>High: 88.59220767345727 USDC/USD<br>Low: 86.17640445047425 USDC/USD<br>Close: 87.35151374358625 USDC/USD<br>Volume: 1881.5958815 USD<br>Change: 0.00 %<br><br>Exchange rate: 1.0 USDC / USD<br><br>Buys: 12.5 txs<br>Sells: 12.0 txs<br>Total: 24.5 trades<br>",
          "2022-01-07 22:00:00 UTC<br><br>Open: 86.43716513398405 USDC/USD<br>High: 90.53489905513047 USDC/USD<br>Low: 85.27335199844009 USDC/USD<br>Close: 85.65392242341926 USDC/USD<br>Volume: 3292.7094435 USD<br>Change: -0.01 %<br><br>Exchange rate: 1.0 USDC / USD<br><br>Buys: 9.5 txs<br>Sells: 14.5 txs<br>Total: 24.0 trades<br>",
          "2022-01-08 00:00:00 UTC<br><br>Open: 86.83260401192737 USDC/USD<br>High: 87.69903220278589 USDC/USD<br>Low: 86.6921964972789 USDC/USD<br>Close: 87.28669971538339 USDC/USD<br>Volume: 589.3216955 USD<br>Change: 0.01 %<br><br>Exchange rate: 1.0 USDC / USD<br><br>Buys: 5.5 txs<br>Sells: 5.0 txs<br>Total: 10.5 trades<br>",
          "2022-01-08 02:00:00 UTC<br><br>Open: 87.4445022849792 USDC/USD<br>High: 87.89978790400255 USDC/USD<br>Low: 86.45204166743909 USDC/USD<br>Close: 86.96017782753404 USDC/USD<br>Volume: 966.97569 USD<br>Change: -0.01 %<br><br>Exchange rate: 1.0 USDC / USD<br><br>Buys: 7.5 txs<br>Sells: 11.5 txs<br>Total: 19.0 trades<br>",
          "2022-01-08 04:00:00 UTC<br><br>Open: 87.01896888994179 USDC/USD<br>High: 87.86134781409466 USDC/USD<br>Low: 86.84364930769371 USDC/USD<br>Close: 87.30369935870944 USDC/USD<br>Volume: 434.7379895 USD<br>Change: 0.00 %<br><br>Exchange rate: 1.0 USDC / USD<br><br>Buys: 4.5 txs<br>Sells: 5.5 txs<br>Total: 10.0 trades<br>",
          "2022-01-08 06:00:00 UTC<br><br>Open: 86.96672359482508 USDC/USD<br>High: 89.2181359142518 USDC/USD<br>Low: 86.17689715174993 USDC/USD<br>Close: 86.99353558896911 USDC/USD<br>Volume: 7456.613777 USD<br>Change: 0.00 %<br><br>Exchange rate: 1.0 USDC / USD<br><br>Buys: 46.0 txs<br>Sells: 80.5 txs<br>Total: 126.5 trades<br>",
          "2022-01-08 08:00:00 UTC<br><br>Open: 87.36964870296352 USDC/USD<br>High: 89.11828933978758 USDC/USD<br>Low: 86.39535121307327 USDC/USD<br>Close: 87.81822186192383 USDC/USD<br>Volume: 5869.214808000001 USD<br>Change: 0.01 %<br><br>Exchange rate: 1.0 USDC / USD<br><br>Buys: 52.5 txs<br>Sells: 59.0 txs<br>Total: 111.5 trades<br>",
          "2022-01-08 10:00:00 UTC<br><br>Open: 86.80343826725051 USDC/USD<br>High: 87.37619176449633 USDC/USD<br>Low: 85.61514174569669 USDC/USD<br>Close: 86.5283690782463 USDC/USD<br>Volume: 1557.548402 USD<br>Change: -0.00 %<br><br>Exchange rate: 1.0 USDC / USD<br><br>Buys: 13.0 txs<br>Sells: 16.5 txs<br>Total: 29.5 trades<br>",
          "2022-01-08 12:00:00 UTC<br><br>Open: 85.73824901791 USDC/USD<br>High: 86.94993833089688 USDC/USD<br>Low: 84.60215709762298 USDC/USD<br>Close: 85.22995167684559 USDC/USD<br>Volume: 2146.9715675 USD<br>Change: -0.01 %<br><br>Exchange rate: 1.0 USDC / USD<br><br>Buys: 16.0 txs<br>Sells: 21.0 txs<br>Total: 37.0 trades<br>",
          "2022-01-08 14:00:00 UTC<br><br>Open: 85.71170699315944 USDC/USD<br>High: 85.79796608711743 USDC/USD<br>Low: 81.07332442481406 USDC/USD<br>Close: 83.77094204624515 USDC/USD<br>Volume: 3285.322274 USD<br>Change: -0.02 %<br><br>Exchange rate: 1.0 USDC / USD<br><br>Buys: 15.5 txs<br>Sells: 22.0 txs<br>Total: 37.5 trades<br>",
          "2022-01-08 16:00:00 UTC<br><br>Open: 82.06793396051026 USDC/USD<br>High: 82.64316614381545 USDC/USD<br>Low: 80.03259913532656 USDC/USD<br>Close: 81.12168328037626 USDC/USD<br>Volume: 2614.5442000000003 USD<br>Change: -0.01 %<br><br>Exchange rate: 1.0 USDC / USD<br><br>Buys: 18.0 txs<br>Sells: 28.0 txs<br>Total: 46.0 trades<br>",
          "2022-01-08 18:00:00 UTC<br><br>Open: 79.81939946282087 USDC/USD<br>High: 81.3855638232292 USDC/USD<br>Low: 78.97042361579523 USDC/USD<br>Close: 79.49162494472569 USDC/USD<br>Volume: 2924.5605459999997 USD<br>Change: -0.00 %<br><br>Exchange rate: 1.0 USDC / USD<br><br>Buys: 16.0 txs<br>Sells: 26.0 txs<br>Total: 42.0 trades<br>",
          "2022-01-08 20:00:00 UTC<br><br>Open: 80.05812896395642 USDC/USD<br>High: 82.41066049404256 USDC/USD<br>Low: 80.00882907413938 USDC/USD<br>Close: 82.11767741340864 USDC/USD<br>Volume: 1224.2704294999999 USD<br>Change: 0.03 %<br><br>Exchange rate: 1.0 USDC / USD<br><br>Buys: 13.5 txs<br>Sells: 14.5 txs<br>Total: 28.0 trades<br>",
          "2022-01-08 22:00:00 UTC<br><br>Open: 83.6964809652099 USDC/USD<br>High: 84.98202783096673 USDC/USD<br>Low: 82.5248838872399 USDC/USD<br>Close: 84.19820283956744 USDC/USD<br>Volume: 1357.7751925 USD<br>Change: 0.01 %<br><br>Exchange rate: 1.0 USDC / USD<br><br>Buys: 8.0 txs<br>Sells: 11.5 txs<br>Total: 19.5 trades<br>",
          "2022-01-09 00:00:00 UTC<br><br>Open: 84.00315708254485 USDC/USD<br>High: 84.82456527883186 USDC/USD<br>Low: 82.35559488147837 USDC/USD<br>Close: 83.78159410583396 USDC/USD<br>Volume: 1564.4973810000001 USD<br>Change: -0.00 %<br><br>Exchange rate: 1.0 USDC / USD<br><br>Buys: 7.5 txs<br>Sells: 15.0 txs<br>Total: 22.5 trades<br>",
          "2022-01-09 02:00:00 UTC<br><br>Open: 84.95595483276603 USDC/USD<br>High: 86.12833886452555 USDC/USD<br>Low: 84.37714328705627 USDC/USD<br>Close: 85.52886271143862 USDC/USD<br>Volume: 1165.366407 USD<br>Change: 0.01 %<br><br>Exchange rate: 1.0 USDC / USD<br><br>Buys: 9.5 txs<br>Sells: 9.5 txs<br>Total: 19.0 trades<br>",
          "2022-01-09 04:00:00 UTC<br><br>Open: 85.07775123799098 USDC/USD<br>High: 85.45663587787126 USDC/USD<br>Low: 84.82238241441857 USDC/USD<br>Close: 84.82238241441857 USDC/USD<br>Volume: 590.9954524999998 USD<br>Change: -0.00 %<br><br>Exchange rate: 1.0 USDC / USD<br><br>Buys: 7.0 txs<br>Sells: 12.5 txs<br>Total: 19.5 trades<br>",
          "2022-01-09 06:00:00 UTC<br><br>Open: 84.86645042014018 USDC/USD<br>High: 85.61119241089844 USDC/USD<br>Low: 84.36913235365412 USDC/USD<br>Close: 85.4000912085356 USDC/USD<br>Volume: 840.2344865 USD<br>Change: 0.01 %<br><br>Exchange rate: 1.0 USDC / USD<br><br>Buys: 8.0 txs<br>Sells: 12.0 txs<br>Total: 20.0 trades<br>",
          "2022-01-09 08:00:00 UTC<br><br>Open: 84.32285569075223 USDC/USD<br>High: 84.86380099060986 USDC/USD<br>Low: 83.09038870960714 USDC/USD<br>Close: 84.23573032500684 USDC/USD<br>Volume: 1042.609959 USD<br>Change: -0.00 %<br><br>Exchange rate: 1.0 USDC / USD<br><br>Buys: 8.0 txs<br>Sells: 13.0 txs<br>Total: 21.0 trades<br>",
          "2022-01-09 10:00:00 UTC<br><br>Open: 84.0115383207843 USDC/USD<br>High: 85.3880431823461 USDC/USD<br>Low: 83.41631317327435 USDC/USD<br>Close: 84.62862472093234 USDC/USD<br>Volume: 1525.514174 USD<br>Change: 0.01 %<br><br>Exchange rate: 1.0 USDC / USD<br><br>Buys: 9.0 txs<br>Sells: 32.5 txs<br>Total: 41.5 trades<br>",
          "2022-01-09 12:00:00 UTC<br><br>Open: 85.01702392434603 USDC/USD<br>High: 85.14119618052494 USDC/USD<br>Low: 83.40332082962232 USDC/USD<br>Close: 84.32815464517398 USDC/USD<br>Volume: 1783.8534625 USD<br>Change: -0.01 %<br><br>Exchange rate: 1.0 USDC / USD<br><br>Buys: 10.5 txs<br>Sells: 40.5 txs<br>Total: 51.0 trades<br>",
          "2022-01-09 14:00:00 UTC<br><br>Open: 83.75726267221732 USDC/USD<br>High: 85.16659840357346 USDC/USD<br>Low: 83.32156490657883 USDC/USD<br>Close: 84.63798779994121 USDC/USD<br>Volume: 2733.0652655 USD<br>Change: 0.01 %<br><br>Exchange rate: 1.0 USDC / USD<br><br>Buys: 16.5 txs<br>Sells: 36.0 txs<br>Total: 52.5 trades<br>",
          "2022-01-09 16:00:00 UTC<br><br>Open: 87.11710623142815 USDC/USD<br>High: 89.40620238511218 USDC/USD<br>Low: 86.50074939687673 USDC/USD<br>Close: 88.72468969575641 USDC/USD<br>Volume: 3004.618130499999 USD<br>Change: 0.02 %<br><br>Exchange rate: 1.0 USDC / USD<br><br>Buys: 28.5 txs<br>Sells: 53.0 txs<br>Total: 81.5 trades<br>",
          "2022-01-09 18:00:00 UTC<br><br>Open: 89.47341703935203 USDC/USD<br>High: 91.34060170329634 USDC/USD<br>Low: 88.97806132931436 USDC/USD<br>Close: 90.74585993402758 USDC/USD<br>Volume: 1896.1728739999999 USD<br>Change: 0.01 %<br><br>Exchange rate: 1.0 USDC / USD<br><br>Buys: 18.5 txs<br>Sells: 29.5 txs<br>Total: 48.0 trades<br>",
          "2022-01-09 20:00:00 UTC<br><br>Open: 90.9963263034211 USDC/USD<br>High: 91.90679553836041 USDC/USD<br>Low: 90.19306374783577 USDC/USD<br>Close: 90.53826078970499 USDC/USD<br>Volume: 1714.1677045000001 USD<br>Change: -0.01 %<br><br>Exchange rate: 1.0 USDC / USD<br><br>Buys: 13.5 txs<br>Sells: 23.5 txs<br>Total: 37.0 trades<br>",
          "2022-01-09 22:00:00 UTC<br><br>Open: 89.66325526585543 USDC/USD<br>High: 90.73263523137507 USDC/USD<br>Low: 88.2850882400856 USDC/USD<br>Close: 89.28830113107665 USDC/USD<br>Volume: 1870.1093275 USD<br>Change: -0.00 %<br><br>Exchange rate: 1.0 USDC / USD<br><br>Buys: 18.5 txs<br>Sells: 33.5 txs<br>Total: 52.0 trades<br>",
          "2022-01-10 00:00:00 UTC<br><br>Open: 88.75460034448662 USDC/USD<br>High: 104.98977377870227 USDC/USD<br>Low: 86.2837546636036 USDC/USD<br>Close: 88.57404782743743 USDC/USD<br>Volume: 7743.4934075 USD<br>Change: -0.00 %<br><br>Exchange rate: 1.0 USDC / USD<br><br>Buys: 13.5 txs<br>Sells: 22.5 txs<br>Total: 36.0 trades<br>",
          "2022-01-10 02:00:00 UTC<br><br>Open: 88.9510593820094 USDC/USD<br>High: 89.44700335088635 USDC/USD<br>Low: 87.71768318198427 USDC/USD<br>Close: 88.77574660094074 USDC/USD<br>Volume: 844.853226 USD<br>Change: -0.00 %<br><br>Exchange rate: 1.0 USDC / USD<br><br>Buys: 5.0 txs<br>Sells: 9.5 txs<br>Total: 14.5 trades<br>",
          "2022-01-10 04:00:00 UTC<br><br>Open: 88.90185099388644 USDC/USD<br>High: 90.10662375246412 USDC/USD<br>Low: 88.72381766177222 USDC/USD<br>Close: 89.35964649442101 USDC/USD<br>Volume: 729.8687675 USD<br>Change: 0.01 %<br><br>Exchange rate: 1.0 USDC / USD<br><br>Buys: 6.0 txs<br>Sells: 7.0 txs<br>Total: 13.0 trades<br>",
          "2022-01-10 06:00:00 UTC<br><br>Open: 88.89197917677518 USDC/USD<br>High: 89.92997527214308 USDC/USD<br>Low: 88.26457145256745 USDC/USD<br>Close: 88.8487494199527 USDC/USD<br>Volume: 999.2000784999998 USD<br>Change: -0.00 %<br><br>Exchange rate: 1.0 USDC / USD<br><br>Buys: 5.5 txs<br>Sells: 10.0 txs<br>Total: 15.5 trades<br>",
          "2022-01-10 08:00:00 UTC<br><br>Open: 88.21510750150458 USDC/USD<br>High: 89.0475860294375 USDC/USD<br>Low: 87.3542638371326 USDC/USD<br>Close: 87.7973342679676 USDC/USD<br>Volume: 967.488828 USD<br>Change: -0.00 %<br><br>Exchange rate: 1.0 USDC / USD<br><br>Buys: 8.5 txs<br>Sells: 6.0 txs<br>Total: 14.5 trades<br>",
          "2022-01-10 10:00:00 UTC<br><br>Open: 87.81126513080571 USDC/USD<br>High: 88.46120161791717 USDC/USD<br>Low: 86.46638402252702 USDC/USD<br>Close: 87.54014874574304 USDC/USD<br>Volume: 1446.8728155 USD<br>Change: -0.00 %<br><br>Exchange rate: 1.0 USDC / USD<br><br>Buys: 8.0 txs<br>Sells: 13.0 txs<br>Total: 21.0 trades<br>",
          "2022-01-10 12:00:00 UTC<br><br>Open: 85.64678087088892 USDC/USD<br>High: 86.36667213167036 USDC/USD<br>Low: 84.07709748955551 USDC/USD<br>Close: 84.359945446394 USDC/USD<br>Volume: 1901.0253454999997 USD<br>Change: -0.02 %<br><br>Exchange rate: 1.0 USDC / USD<br><br>Buys: 9.5 txs<br>Sells: 12.5 txs<br>Total: 22.0 trades<br>",
          "2022-01-10 14:00:00 UTC<br><br>Open: 84.13733114272918 USDC/USD<br>High: 84.71660587258087 USDC/USD<br>Low: 80.29063459737566 USDC/USD<br>Close: 83.72518670118156 USDC/USD<br>Volume: 5143.8738730000005 USD<br>Change: -0.00 %<br><br>Exchange rate: 1.0 USDC / USD<br><br>Buys: 25.5 txs<br>Sells: 73.5 txs<br>Total: 99.0 trades<br>",
          "2022-01-10 16:00:00 UTC<br><br>Open: 83.61814428297751 USDC/USD<br>High: 85.51080979407288 USDC/USD<br>Low: 82.04709677813568 USDC/USD<br>Close: 84.05894525635324 USDC/USD<br>Volume: 4119.519639499999 USD<br>Change: 0.01 %<br><br>Exchange rate: 1.0 USDC / USD<br><br>Buys: 31.5 txs<br>Sells: 81.0 txs<br>Total: 112.5 trades<br>",
          "2022-01-10 18:00:00 UTC<br><br>Open: 83.61111576288351 USDC/USD<br>High: 84.11691611363719 USDC/USD<br>Low: 82.32473604416236 USDC/USD<br>Close: 83.7458223548225 USDC/USD<br>Volume: 2224.6268465 USD<br>Change: 0.00 %<br><br>Exchange rate: 1.0 USDC / USD<br><br>Buys: 16.5 txs<br>Sells: 29.0 txs<br>Total: 45.5 trades<br>",
          "2022-01-10 20:00:00 UTC<br><br>Open: 83.68679503739648 USDC/USD<br>High: 84.67915258197925 USDC/USD<br>Low: 83.18410970991152 USDC/USD<br>Close: 84.27572504959755 USDC/USD<br>Volume: 1519.4958195 USD<br>Change: 0.01 %<br><br>Exchange rate: 1.0 USDC / USD<br><br>Buys: 13.5 txs<br>Sells: 14.5 txs<br>Total: 28.0 trades<br>",
          "2022-01-10 22:00:00 UTC<br><br>Open: 84.18406721160143 USDC/USD<br>High: 84.62464475521115 USDC/USD<br>Low: 83.73395246908517 USDC/USD<br>Close: 84.30186694169089 USDC/USD<br>Volume: 828.7144679999999 USD<br>Change: 0.00 %<br><br>Exchange rate: 1.0 USDC / USD<br><br>Buys: 8.5 txs<br>Sells: 13.0 txs<br>Total: 21.5 trades<br>",
          "2022-01-11 00:00:00 UTC<br><br>Open: 83.27489523901741 USDC/USD<br>High: 84.71889503293475 USDC/USD<br>Low: 82.67638793968099 USDC/USD<br>Close: 83.8687084220903 USDC/USD<br>Volume: 1139.22928 USD<br>Change: 0.01 %<br><br>Exchange rate: 1.0 USDC / USD<br><br>Buys: 8.0 txs<br>Sells: 10.5 txs<br>Total: 18.5 trades<br>",
          "2022-01-11 02:00:00 UTC<br><br>Open: 85.19297995675905 USDC/USD<br>High: 86.57701209854278 USDC/USD<br>Low: 84.85132614852726 USDC/USD<br>Close: 86.29856017020373 USDC/USD<br>Volume: 826.450315 USD<br>Change: 0.01 %<br><br>Exchange rate: 1.0 USDC / USD<br><br>Buys: 6.0 txs<br>Sells: 7.0 txs<br>Total: 13.0 trades<br>",
          "2022-01-11 04:00:00 UTC<br><br>Open: 86.24950460759243 USDC/USD<br>High: 86.85511794136815 USDC/USD<br>Low: 84.8871018625858 USDC/USD<br>Close: 85.49661941918663 USDC/USD<br>Volume: 1613.4983705 USD<br>Change: -0.01 %<br><br>Exchange rate: 1.0 USDC / USD<br><br>Buys: 12.0 txs<br>Sells: 12.0 txs<br>Total: 24.0 trades<br>",
          "2022-01-11 06:00:00 UTC<br><br>Open: 85.5563696137483 USDC/USD<br>High: 86.51677856296337 USDC/USD<br>Low: 85.22814380253334 USDC/USD<br>Close: 85.78147609005671 USDC/USD<br>Volume: 744.404873 USD<br>Change: 0.00 %<br><br>Exchange rate: 1.0 USDC / USD<br><br>Buys: 5.5 txs<br>Sells: 9.0 txs<br>Total: 14.5 trades<br>",
          "2022-01-11 08:00:00 UTC<br><br>Open: 85.82248022403866 USDC/USD<br>High: 86.34176084741739 USDC/USD<br>Low: 84.9810888382297 USDC/USD<br>Close: 85.70574644630585 USDC/USD<br>Volume: 1280.8202904999998 USD<br>Change: -0.00 %<br><br>Exchange rate: 1.0 USDC / USD<br><br>Buys: 6.5 txs<br>Sells: 10.5 txs<br>Total: 17.0 trades<br>",
          "2022-01-11 10:00:00 UTC<br><br>Open: 85.2508624239533 USDC/USD<br>High: 85.86664917506016 USDC/USD<br>Low: 84.87632689511557 USDC/USD<br>Close: 85.23706435240804 USDC/USD<br>Volume: 427.76818849999995 USD<br>Change: -0.00 %<br><br>Exchange rate: 1.0 USDC / USD<br><br>Buys: 3.5 txs<br>Sells: 4.5 txs<br>Total: 8.0 trades<br>",
          "2022-01-11 12:00:00 UTC<br><br>Open: 86.01897852920865 USDC/USD<br>High: 86.51112803321226 USDC/USD<br>Low: 85.35362698370332 USDC/USD<br>Close: 85.87800051190167 USDC/USD<br>Volume: 655.2826075 USD<br>Change: -0.00 %<br><br>Exchange rate: 1.0 USDC / USD<br><br>Buys: 6.0 txs<br>Sells: 7.0 txs<br>Total: 13.0 trades<br>",
          "2022-01-11 14:00:00 UTC<br><br>Open: 85.98605846699698 USDC/USD<br>High: 86.51404296037809 USDC/USD<br>Low: 85.42129609918445 USDC/USD<br>Close: 86.42256445515338 USDC/USD<br>Volume: 668.368481 USD<br>Change: 0.01 %<br><br>Exchange rate: 1.0 USDC / USD<br><br>Buys: 9.5 txs<br>Sells: 6.0 txs<br>Total: 15.5 trades<br>",
          "2022-01-11 16:00:00 UTC<br><br>Open: 88.94965381987538 USDC/USD<br>High: 90.53859215161097 USDC/USD<br>Low: 87.60928691589966 USDC/USD<br>Close: 89.56225191940791 USDC/USD<br>Volume: 1475.6106795 USD<br>Change: 0.01 %<br><br>Exchange rate: 1.0 USDC / USD<br><br>Buys: 10.0 txs<br>Sells: 8.5 txs<br>Total: 18.5 trades<br>",
          "2022-01-11 18:00:00 UTC<br><br>Open: 89.69315428930858 USDC/USD<br>High: 90.41219289980344 USDC/USD<br>Low: 89.03754736030083 USDC/USD<br>Close: 89.81962166538395 USDC/USD<br>Volume: 1604.7858915000002 USD<br>Change: 0.00 %<br><br>Exchange rate: 1.0 USDC / USD<br><br>Buys: 11.5 txs<br>Sells: 20.0 txs<br>Total: 31.5 trades<br>",
          "2022-01-11 20:00:00 UTC<br><br>Open: 89.36098254713508 USDC/USD<br>High: 90.03464223943311 USDC/USD<br>Low: 88.77415540150258 USDC/USD<br>Close: 89.0625135948816 USDC/USD<br>Volume: 727.315153 USD<br>Change: -0.00 %<br><br>Exchange rate: 1.0 USDC / USD<br><br>Buys: 9.0 txs<br>Sells: 10.5 txs<br>Total: 19.5 trades<br>",
          "2022-01-11 22:00:00 UTC<br><br>Open: 88.73539102448183 USDC/USD<br>High: 90.24793829016662 USDC/USD<br>Low: 88.45979024320334 USDC/USD<br>Close: 89.13693121936012 USDC/USD<br>Volume: 1974.4195369999998 USD<br>Change: 0.00 %<br><br>Exchange rate: 1.0 USDC / USD<br><br>Buys: 12.0 txs<br>Sells: 19.5 txs<br>Total: 31.5 trades<br>",
          "2022-01-12 00:00:00 UTC<br><br>Open: 89.41056717422104 USDC/USD<br>High: 90.0694211613905 USDC/USD<br>Low: 88.70390007333677 USDC/USD<br>Close: 88.90871011098817 USDC/USD<br>Volume: 1140.0207655 USD<br>Change: -0.01 %<br><br>Exchange rate: 1.0 USDC / USD<br><br>Buys: 11.0 txs<br>Sells: 9.0 txs<br>Total: 20.0 trades<br>",
          "2022-01-12 02:00:00 UTC<br><br>Open: 89.816096841417 USDC/USD<br>High: 89.816096841417 USDC/USD<br>Low: 88.71616859397056 USDC/USD<br>Close: 88.98782127335406 USDC/USD<br>Volume: 835.2809484999999 USD<br>Change: -0.01 %<br><br>Exchange rate: 1.0 USDC / USD<br><br>Buys: 7.0 txs<br>Sells: 6.5 txs<br>Total: 13.5 trades<br>",
          "2022-01-12 04:00:00 UTC<br><br>Open: 89.62686191779858 USDC/USD<br>High: 90.43109294300913 USDC/USD<br>Low: 88.94527332735672 USDC/USD<br>Close: 89.87844644265545 USDC/USD<br>Volume: 1447.671724 USD<br>Change: 0.00 %<br><br>Exchange rate: 1.0 USDC / USD<br><br>Buys: 8.5 txs<br>Sells: 11.0 txs<br>Total: 19.5 trades<br>",
          "2022-01-12 06:00:00 UTC<br><br>Open: 90.78730089230561 USDC/USD<br>High: 91.37742901165444 USDC/USD<br>Low: 89.51829651035509 USDC/USD<br>Close: 91.31524462700366 USDC/USD<br>Volume: 1748.595652 USD<br>Change: 0.01 %<br><br>Exchange rate: 1.0 USDC / USD<br><br>Buys: 9.0 txs<br>Sells: 10.5 txs<br>Total: 19.5 trades<br>",
          "2022-01-12 08:00:00 UTC<br><br>Open: 91.09954954528634 USDC/USD<br>High: 92.87077474275935 USDC/USD<br>Low: 91.00075080722203 USDC/USD<br>Close: 92.32678666139896 USDC/USD<br>Volume: 1580.6453124999998 USD<br>Change: 0.01 %<br><br>Exchange rate: 1.0 USDC / USD<br><br>Buys: 7.5 txs<br>Sells: 8.5 txs<br>Total: 16.0 trades<br>",
          "2022-01-12 10:00:00 UTC<br><br>Open: 93.59094921050395 USDC/USD<br>High: 94.45368388474705 USDC/USD<br>Low: 93.3950362619791 USDC/USD<br>Close: 94.0451188055359 USDC/USD<br>Volume: 449.1162015 USD<br>Change: 0.00 %<br><br>Exchange rate: 1.0 USDC / USD<br><br>Buys: 5.5 txs<br>Sells: 5.0 txs<br>Total: 10.5 trades<br>",
          "2022-01-12 12:00:00 UTC<br><br>Open: 95.357421996559 USDC/USD<br>High: 96.56770454243255 USDC/USD<br>Low: 94.82276767727487 USDC/USD<br>Close: 95.95518143532911 USDC/USD<br>Volume: 929.395971 USD<br>Change: 0.01 %<br><br>Exchange rate: 1.0 USDC / USD<br><br>Buys: 9.5 txs<br>Sells: 7.0 txs<br>Total: 16.5 trades<br>",
          "2022-01-12 14:00:00 UTC<br><br>Open: 96.48727876833848 USDC/USD<br>High: 96.80645111241334 USDC/USD<br>Low: 95.20141656591179 USDC/USD<br>Close: 96.01148264542114 USDC/USD<br>Volume: 965.5769744999999 USD<br>Change: -0.00 %<br><br>Exchange rate: 1.0 USDC / USD<br><br>Buys: 7.5 txs<br>Sells: 13.5 txs<br>Total: 21.0 trades<br>",
          "2022-01-12 16:00:00 UTC<br><br>Open: 95.73552973305937 USDC/USD<br>High: 96.08057432053494 USDC/USD<br>Low: 94.76766876739887 USDC/USD<br>Close: 95.45199769352578 USDC/USD<br>Volume: 1212.47996 USD<br>Change: -0.00 %<br><br>Exchange rate: 1.0 USDC / USD<br><br>Buys: 12.0 txs<br>Sells: 10.5 txs<br>Total: 22.5 trades<br>",
          "2022-01-12 18:00:00 UTC<br><br>Open: 94.77622899044187 USDC/USD<br>High: 95.4851738068373 USDC/USD<br>Low: 93.61142146180396 USDC/USD<br>Close: 94.5892019027668 USDC/USD<br>Volume: 1658.5142715 USD<br>Change: -0.00 %<br><br>Exchange rate: 1.0 USDC / USD<br><br>Buys: 14.5 txs<br>Sells: 85.0 txs<br>Total: 99.5 trades<br>",
          "2022-01-12 20:00:00 UTC<br><br>Open: 94.5797917270638 USDC/USD<br>High: 95.78864994234603 USDC/USD<br>Low: 94.11287945098451 USDC/USD<br>Close: 94.95337404228425 USDC/USD<br>Volume: 1036.764137 USD<br>Change: 0.00 %<br><br>Exchange rate: 1.0 USDC / USD<br><br>Buys: 11.5 txs<br>Sells: 12.5 txs<br>Total: 24.0 trades<br>",
          "2022-01-12 22:00:00 UTC<br><br>Open: 94.47556683529989 USDC/USD<br>High: 95.2875864370302 USDC/USD<br>Low: 93.88172065704313 USDC/USD<br>Close: 94.94049690300697 USDC/USD<br>Volume: 1685.2963025 USD<br>Change: 0.00 %<br><br>Exchange rate: 1.0 USDC / USD<br><br>Buys: 11.5 txs<br>Sells: 13.0 txs<br>Total: 24.5 trades<br>",
          "2022-01-13 00:00:00 UTC<br><br>Open: 94.8228117796777 USDC/USD<br>High: 95.95883818209663 USDC/USD<br>Low: 93.7654885797983 USDC/USD<br>Close: 94.0226807205774 USDC/USD<br>Volume: 1457.0028214999998 USD<br>Change: -0.01 %<br><br>Exchange rate: 1.0 USDC / USD<br><br>Buys: 7.0 txs<br>Sells: 11.5 txs<br>Total: 18.5 trades<br>",
          "2022-01-13 02:00:00 UTC<br><br>Open: 93.85455966010628 USDC/USD<br>High: 94.31251247778386 USDC/USD<br>Low: 93.07600631529367 USDC/USD<br>Close: 93.48199404534364 USDC/USD<br>Volume: 1335.5732635 USD<br>Change: -0.00 %<br><br>Exchange rate: 1.0 USDC / USD<br><br>Buys: 7.5 txs<br>Sells: 9.5 txs<br>Total: 17.0 trades<br>",
          "2022-01-13 04:00:00 UTC<br><br>Open: 93.73509150392869 USDC/USD<br>High: 94.12435361635177 USDC/USD<br>Low: 92.98955881633294 USDC/USD<br>Close: 93.61897022199926 USDC/USD<br>Volume: 636.857102 USD<br>Change: -0.00 %<br><br>Exchange rate: 1.0 USDC / USD<br><br>Buys: 7.0 txs<br>Sells: 4.5 txs<br>Total: 11.5 trades<br>",
          "2022-01-13 06:00:00 UTC<br><br>Open: 93.94392583989244 USDC/USD<br>High: 95.66484402335581 USDC/USD<br>Low: 93.91886720164953 USDC/USD<br>Close: 94.2440207336202 USDC/USD<br>Volume: 742.084234 USD<br>Change: 0.00 %<br><br>Exchange rate: 1.0 USDC / USD<br><br>Buys: 3.5 txs<br>Sells: 5.5 txs<br>Total: 9.0 trades<br>",
          "2022-01-13 08:00:00 UTC<br><br>Open: 94.6874929731623 USDC/USD<br>High: 95.63230007026918 USDC/USD<br>Low: 94.13038635372718 USDC/USD<br>Close: 94.78998301579705 USDC/USD<br>Volume: 1147.1380159999999 USD<br>Change: 0.00 %<br><br>Exchange rate: 1.0 USDC / USD<br><br>Buys: 7.0 txs<br>Sells: 7.0 txs<br>Total: 14.0 trades<br>",
          "2022-01-13 10:00:00 UTC<br><br>Open: 94.78799077512869 USDC/USD<br>High: 95.04142467378925 USDC/USD<br>Low: 93.94537741519918 USDC/USD<br>Close: 94.59993134330637 USDC/USD<br>Volume: 771.020622 USD<br>Change: -0.00 %<br><br>Exchange rate: 1.0 USDC / USD<br><br>Buys: 6.5 txs<br>Sells: 7.0 txs<br>Total: 13.5 trades<br>",
          "2022-01-13 12:00:00 UTC<br><br>Open: 94.30576684548834 USDC/USD<br>High: 94.72169417177412 USDC/USD<br>Low: 93.45433433659346 USDC/USD<br>Close: 94.53577861582733 USDC/USD<br>Volume: 969.7579819999999 USD<br>Change: 0.00 %<br><br>Exchange rate: 1.0 USDC / USD<br><br>Buys: 9.0 txs<br>Sells: 6.5 txs<br>Total: 15.5 trades<br>",
          "2022-01-13 14:00:00 UTC<br><br>Open: 95.42107459654514 USDC/USD<br>High: 97.39026056842346 USDC/USD<br>Low: 93.90334231530645 USDC/USD<br>Close: 94.21016976785964 USDC/USD<br>Volume: 1091.856677 USD<br>Change: -0.01 %<br><br>Exchange rate: 1.0 USDC / USD<br><br>Buys: 7.0 txs<br>Sells: 8.5 txs<br>Total: 15.5 trades<br>",
          "2022-01-13 16:00:00 UTC<br><br>Open: 93.37156481886974 USDC/USD<br>High: 94.17524410630922 USDC/USD<br>Low: 92.01638125673036 USDC/USD<br>Close: 92.9230887184547 USDC/USD<br>Volume: 1720.147235 USD<br>Change: -0.00 %<br><br>Exchange rate: 1.0 USDC / USD<br><br>Buys: 9.0 txs<br>Sells: 13.5 txs<br>Total: 22.5 trades<br>",
          "2022-01-13 18:00:00 UTC<br><br>Open: 92.02358125264504 USDC/USD<br>High: 94.50810943894639 USDC/USD<br>Low: 90.8277551144849 USDC/USD<br>Close: 91.16493724516545 USDC/USD<br>Volume: 1854.4117449999999 USD<br>Change: -0.01 %<br><br>Exchange rate: 1.0 USDC / USD<br><br>Buys: 7.5 txs<br>Sells: 12.5 txs<br>Total: 20.0 trades<br>",
          "2022-01-13 20:00:00 UTC<br><br>Open: 91.02470808140686 USDC/USD<br>High: 92.318107937588 USDC/USD<br>Low: 90.31638407787821 USDC/USD<br>Close: 91.27675700454584 USDC/USD<br>Volume: 1516.782702 USD<br>Change: 0.00 %<br><br>Exchange rate: 1.0 USDC / USD<br><br>Buys: 10.5 txs<br>Sells: 12.5 txs<br>Total: 23.0 trades<br>",
          "2022-01-13 22:00:00 UTC<br><br>Open: 90.6983332104209 USDC/USD<br>High: 91.24998897216278 USDC/USD<br>Low: 89.38337145129253 USDC/USD<br>Close: 89.38337145129253 USDC/USD<br>Volume: 784.1901365 USD<br>Change: -0.01 %<br><br>Exchange rate: 1.0 USDC / USD<br><br>Buys: 8.0 txs<br>Sells: 7.5 txs<br>Total: 15.5 trades<br>",
          "2022-01-14 00:00:00 UTC<br><br>Open: 89.54937307715991 USDC/USD<br>High: 89.96224501696523 USDC/USD<br>Low: 89.20151438403545 USDC/USD<br>Close: 89.69516679495848 USDC/USD<br>Volume: 538.925377 USD<br>Change: 0.00 %<br><br>Exchange rate: 1.0 USDC / USD<br><br>Buys: 5.0 txs<br>Sells: 5.5 txs<br>Total: 10.5 trades<br>",
          "2022-01-14 02:00:00 UTC<br><br>Open: 89.93509567009193 USDC/USD<br>High: 90.30283165947256 USDC/USD<br>Low: 88.73491068528027 USDC/USD<br>Close: 89.41675038302118 USDC/USD<br>Volume: 1529.7137015 USD<br>Change: -0.01 %<br><br>Exchange rate: 1.0 USDC / USD<br><br>Buys: 8.5 txs<br>Sells: 9.5 txs<br>Total: 18.0 trades<br>",
          "2022-01-14 04:00:00 UTC<br><br>Open: 89.82070829093087 USDC/USD<br>High: 90.37918833314086 USDC/USD<br>Low: 89.5080475455217 USDC/USD<br>Close: 90.17602220422552 USDC/USD<br>Volume: 723.0601805 USD<br>Change: 0.00 %<br><br>Exchange rate: 1.0 USDC / USD<br><br>Buys: 5.0 txs<br>Sells: 7.0 txs<br>Total: 12.0 trades<br>",
          "2022-01-14 06:00:00 UTC<br><br>Open: 90.84425002994357 USDC/USD<br>High: 92.12539674503904 USDC/USD<br>Low: 89.95750113498815 USDC/USD<br>Close: 91.1491632319406 USDC/USD<br>Volume: 1354.2400755 USD<br>Change: 0.00 %<br><br>Exchange rate: 1.0 USDC / USD<br><br>Buys: 10.5 txs<br>Sells: 11.0 txs<br>Total: 21.5 trades<br>",
          "2022-01-14 08:00:00 UTC<br><br>Open: 90.17099456374497 USDC/USD<br>High: 90.33246026367074 USDC/USD<br>Low: 89.24272433721333 USDC/USD<br>Close: 89.58985853841698 USDC/USD<br>Volume: 881.2720319999999 USD<br>Change: -0.01 %<br><br>Exchange rate: 1.0 USDC / USD<br><br>Buys: 7.0 txs<br>Sells: 9.0 txs<br>Total: 16.0 trades<br>",
          "2022-01-14 10:00:00 UTC<br><br>Open: 88.96068727643858 USDC/USD<br>High: 89.66145915184613 USDC/USD<br>Low: 80.53297165723238 USDC/USD<br>Close: 88.83624307958192 USDC/USD<br>Volume: 4014.6559185 USD<br>Change: -0.00 %<br><br>Exchange rate: 1.0 USDC / USD<br><br>Buys: 8.0 txs<br>Sells: 8.0 txs<br>Total: 16.0 trades<br>",
          "2022-01-14 12:00:00 UTC<br><br>Open: 88.1611966840417 USDC/USD<br>High: 89.15255842875284 USDC/USD<br>Low: 87.97063093392103 USDC/USD<br>Close: 88.69388441737269 USDC/USD<br>Volume: 857.4879884999999 USD<br>Change: 0.01 %<br><br>Exchange rate: 1.0 USDC / USD<br><br>Buys: 4.5 txs<br>Sells: 9.0 txs<br>Total: 13.5 trades<br>",
          "2022-01-14 14:00:00 UTC<br><br>Open: 89.43662647782082 USDC/USD<br>High: 90.80492105696544 USDC/USD<br>Low: 88.82297395127347 USDC/USD<br>Close: 90.54636248517335 USDC/USD<br>Volume: 1015.7763815 USD<br>Change: 0.01 %<br><br>Exchange rate: 1.0 USDC / USD<br><br>Buys: 11.5 txs<br>Sells: 6.0 txs<br>Total: 17.5 trades<br>",
          "2022-01-14 16:00:00 UTC<br><br>Open: 90.46288552881731 USDC/USD<br>High: 91.0246130633854 USDC/USD<br>Low: 89.74740684603216 USDC/USD<br>Close: 89.94029169066025 USDC/USD<br>Volume: 1183.8057055 USD<br>Change: -0.01 %<br><br>Exchange rate: 1.0 USDC / USD<br><br>Buys: 11.5 txs<br>Sells: 12.0 txs<br>Total: 23.5 trades<br>",
          "2022-01-14 18:00:00 UTC<br><br>Open: 89.34217871876993 USDC/USD<br>High: 90.75411907397438 USDC/USD<br>Low: 89.32965362752377 USDC/USD<br>Close: 89.9984781507033 USDC/USD<br>Volume: 813.0002985 USD<br>Change: 0.01 %<br><br>Exchange rate: 1.0 USDC / USD<br><br>Buys: 8.5 txs<br>Sells: 9.5 txs<br>Total: 18.0 trades<br>",
          "2022-01-14 20:00:00 UTC<br><br>Open: 90.01319043665768 USDC/USD<br>High: 91.03026920055314 USDC/USD<br>Low: 88.69006068880635 USDC/USD<br>Close: 90.22761290411165 USDC/USD<br>Volume: 1798.3941905 USD<br>Change: 0.00 %<br><br>Exchange rate: 1.0 USDC / USD<br><br>Buys: 12.0 txs<br>Sells: 15.5 txs<br>Total: 27.5 trades<br>",
          "2022-01-14 22:00:00 UTC<br><br>Open: 90.42194640640852 USDC/USD<br>High: 91.72414151225763 USDC/USD<br>Low: 89.60489126978823 USDC/USD<br>Close: 90.19335455156595 USDC/USD<br>Volume: 1218.6780559999997 USD<br>Change: -0.00 %<br><br>Exchange rate: 1.0 USDC / USD<br><br>Buys: 4.5 txs<br>Sells: 11.0 txs<br>Total: 15.5 trades<br>",
          "2022-01-15 00:00:00 UTC<br><br>Open: 90.55932128653586 USDC/USD<br>High: 105.25210761837556 USDC/USD<br>Low: 89.84057431708126 USDC/USD<br>Close: 90.82647124323637 USDC/USD<br>Volume: 5881.8570015 USD<br>Change: 0.00 %<br><br>Exchange rate: 1.0 USDC / USD<br><br>Buys: 6.0 txs<br>Sells: 7.5 txs<br>Total: 13.5 trades<br>",
          "2022-01-15 02:00:00 UTC<br><br>Open: 91.17781099829428 USDC/USD<br>High: 91.74161803536319 USDC/USD<br>Low: 89.82866572327798 USDC/USD<br>Close: 90.90400627149303 USDC/USD<br>Volume: 1399.6290949999998 USD<br>Change: -0.00 %<br><br>Exchange rate: 1.0 USDC / USD<br><br>Buys: 10.0 txs<br>Sells: 9.0 txs<br>Total: 19.0 trades<br>",
          "2022-01-15 04:00:00 UTC<br><br>Open: 90.64931678530006 USDC/USD<br>High: 91.35236061063966 USDC/USD<br>Low: 90.02425130234866 USDC/USD<br>Close: 90.56906609773091 USDC/USD<br>Volume: 773.20357 USD<br>Change: -0.00 %<br><br>Exchange rate: 1.0 USDC / USD<br><br>Buys: 5.0 txs<br>Sells: 8.0 txs<br>Total: 13.0 trades<br>",
          "2022-01-15 06:00:00 UTC<br><br>Open: 89.93079237145601 USDC/USD<br>High: 90.61982316424226 USDC/USD<br>Low: 89.4798489433922 USDC/USD<br>Close: 89.81770680171402 USDC/USD<br>Volume: 752.1295494999999 USD<br>Change: -0.00 %<br><br>Exchange rate: 1.0 USDC / USD<br><br>Buys: 5.0 txs<br>Sells: 9.0 txs<br>Total: 14.0 trades<br>",
          "2022-01-15 08:00:00 UTC<br><br>Open: 89.4087191116572 USDC/USD<br>High: 90.32871766693285 USDC/USD<br>Low: 87.7975842302152 USDC/USD<br>Close: 89.24538445371482 USDC/USD<br>Volume: 1908.8428655 USD<br>Change: -0.00 %<br><br>Exchange rate: 1.0 USDC / USD<br><br>Buys: 8.0 txs<br>Sells: 16.5 txs<br>Total: 24.5 trades<br>",
          "2022-01-15 10:00:00 UTC<br><br>Open: 89.88387669374202 USDC/USD<br>High: 91.36637244951083 USDC/USD<br>Low: 89.14837882156098 USDC/USD<br>Close: 90.23518589470626 USDC/USD<br>Volume: 1220.046664 USD<br>Change: 0.00 %<br><br>Exchange rate: 1.0 USDC / USD<br><br>Buys: 8.5 txs<br>Sells: 8.0 txs<br>Total: 16.5 trades<br>",
          "2022-01-15 12:00:00 UTC<br><br>Open: 90.45966026494176 USDC/USD<br>High: 91.25099769175381 USDC/USD<br>Low: 87.64700394428112 USDC/USD<br>Close: 89.94363522943624 USDC/USD<br>Volume: 3268.874366 USD<br>Change: -0.01 %<br><br>Exchange rate: 1.0 USDC / USD<br><br>Buys: 10.0 txs<br>Sells: 13.0 txs<br>Total: 23.0 trades<br>",
          "2022-01-15 14:00:00 UTC<br><br>Open: 91.46713512283637 USDC/USD<br>High: 92.41501547231019 USDC/USD<br>Low: 90.86596634390166 USDC/USD<br>Close: 91.94902295855456 USDC/USD<br>Volume: 3278.9685755 USD<br>Change: 0.01 %<br><br>Exchange rate: 1.0 USDC / USD<br><br>Buys: 14.0 txs<br>Sells: 13.5 txs<br>Total: 27.5 trades<br>",
          "2022-01-15 16:00:00 UTC<br><br>Open: 92.50902606831201 USDC/USD<br>High: 93.80398292766796 USDC/USD<br>Low: 92.03536317915804 USDC/USD<br>Close: 92.65795223178321 USDC/USD<br>Volume: 9475.4734055 USD<br>Change: 0.00 %<br><br>Exchange rate: 1.0 USDC / USD<br><br>Buys: 21.0 txs<br>Sells: 28.5 txs<br>Total: 49.5 trades<br>",
          "2022-01-15 18:00:00 UTC<br><br>Open: 93.08726432744774 USDC/USD<br>High: 93.70470235740189 USDC/USD<br>Low: 92.6656729429654 USDC/USD<br>Close: 93.35365444530352 USDC/USD<br>Volume: 4761.465388 USD<br>Change: 0.00 %<br><br>Exchange rate: 1.0 USDC / USD<br><br>Buys: 21.0 txs<br>Sells: 19.0 txs<br>Total: 40.0 trades<br>",
          "2022-01-15 20:00:00 UTC<br><br>Open: 93.54586611744608 USDC/USD<br>High: 94.23843269773624 USDC/USD<br>Low: 92.77180403437515 USDC/USD<br>Close: 92.99605758562645 USDC/USD<br>Volume: 4396.909057000001 USD<br>Change: -0.01 %<br><br>Exchange rate: 1.0 USDC / USD<br><br>Buys: 17.0 txs<br>Sells: 53.0 txs<br>Total: 70.0 trades<br>",
          "2022-01-15 22:00:00 UTC<br><br>Open: 93.06983686161132 USDC/USD<br>High: 94.09061789402017 USDC/USD<br>Low: 92.6901703675414 USDC/USD<br>Close: 93.19125961199236 USDC/USD<br>Volume: 5483.3162919999995 USD<br>Change: 0.00 %<br><br>Exchange rate: 1.0 USDC / USD<br><br>Buys: 16.5 txs<br>Sells: 23.5 txs<br>Total: 40.0 trades<br>",
          "2022-01-16 00:00:00 UTC<br><br>Open: 92.79841275275788 USDC/USD<br>High: 93.59016868102549 USDC/USD<br>Low: 92.30355269363292 USDC/USD<br>Close: 92.93146319217493 USDC/USD<br>Volume: 3802.6854735 USD<br>Change: 0.00 %<br><br>Exchange rate: 1.0 USDC / USD<br><br>Buys: 13.0 txs<br>Sells: 14.0 txs<br>Total: 27.0 trades<br>",
          "2022-01-16 02:00:00 UTC<br><br>Open: 92.52511336690154 USDC/USD<br>High: 92.88572540000308 USDC/USD<br>Low: 91.29890538058322 USDC/USD<br>Close: 92.02410777954606 USDC/USD<br>Volume: 3971.516297999999 USD<br>Change: -0.01 %<br><br>Exchange rate: 1.0 USDC / USD<br><br>Buys: 10.0 txs<br>Sells: 16.5 txs<br>Total: 26.5 trades<br>",
          "2022-01-16 04:00:00 UTC<br><br>Open: 92.12427655337058 USDC/USD<br>High: 92.92909249467426 USDC/USD<br>Low: 91.47138740943416 USDC/USD<br>Close: 91.9798664216943 USDC/USD<br>Volume: 4519.938217499999 USD<br>Change: -0.00 %<br><br>Exchange rate: 1.0 USDC / USD<br><br>Buys: 15.5 txs<br>Sells: 16.5 txs<br>Total: 32.0 trades<br>",
          "2022-01-16 06:00:00 UTC<br><br>Open: 92.20379303493452 USDC/USD<br>High: 93.38092182304614 USDC/USD<br>Low: 91.91021326898982 USDC/USD<br>Close: 92.56976908965461 USDC/USD<br>Volume: 4309.2825295 USD<br>Change: 0.00 %<br><br>Exchange rate: 1.0 USDC / USD<br><br>Buys: 11.5 txs<br>Sells: 14.5 txs<br>Total: 26.0 trades<br>",
          "2022-01-16 08:00:00 UTC<br><br>Open: 93.8773021721337 USDC/USD<br>High: 94.11294001173522 USDC/USD<br>Low: 92.91312882683283 USDC/USD<br>Close: 93.2222053107049 USDC/USD<br>Volume: 4605.579428499999 USD<br>Change: -0.01 %<br><br>Exchange rate: 1.0 USDC / USD<br><br>Buys: 14.5 txs<br>Sells: 14.5 txs<br>Total: 29.0 trades<br>",
          "2022-01-16 10:00:00 UTC<br><br>Open: 93.07363505436085 USDC/USD<br>High: 93.36107658147124 USDC/USD<br>Low: 92.1638336185426 USDC/USD<br>Close: 93.02444586870308 USDC/USD<br>Volume: 2784.4209915 USD<br>Change: -0.00 %<br><br>Exchange rate: 1.0 USDC / USD<br><br>Buys: 11.0 txs<br>Sells: 14.0 txs<br>Total: 25.0 trades<br>",
          "2022-01-16 12:00:00 UTC<br><br>Open: 92.96404251496514 USDC/USD<br>High: 93.69410746409031 USDC/USD<br>Low: 92.32199522079532 USDC/USD<br>Close: 93.12983717384428 USDC/USD<br>Volume: 2590.0684425 USD<br>Change: 0.00 %<br><br>Exchange rate: 1.0 USDC / USD<br><br>Buys: 10.5 txs<br>Sells: 6.0 txs<br>Total: 16.5 trades<br>",
          "2022-01-16 14:00:00 UTC<br><br>Open: 93.67092265620968 USDC/USD<br>High: 94.34948672019351 USDC/USD<br>Low: 92.91118211581268 USDC/USD<br>Close: 93.40673123113174 USDC/USD<br>Volume: 5832.3769305000005 USD<br>Change: -0.00 %<br><br>Exchange rate: 1.0 USDC / USD<br><br>Buys: 17.5 txs<br>Sells: 23.5 txs<br>Total: 41.0 trades<br>",
          "2022-01-16 16:00:00 UTC<br><br>Open: 93.48826914355769 USDC/USD<br>High: 94.57719616502578 USDC/USD<br>Low: 92.47730714282501 USDC/USD<br>Close: 93.15241401562167 USDC/USD<br>Volume: 3835.8364629999996 USD<br>Change: -0.00 %<br><br>Exchange rate: 1.0 USDC / USD<br><br>Buys: 13.5 txs<br>Sells: 20.0 txs<br>Total: 33.5 trades<br>",
          "2022-01-16 18:00:00 UTC<br><br>Open: 93.17155616584155 USDC/USD<br>High: 93.5118481077618 USDC/USD<br>Low: 92.2064104174743 USDC/USD<br>Close: 92.48068890836376 USDC/USD<br>Volume: 761.5143390000001 USD<br>Change: -0.01 %<br><br>Exchange rate: 1.0 USDC / USD<br><br>Buys: 6.5 txs<br>Sells: 8.0 txs<br>Total: 14.5 trades<br>",
          "2022-01-16 20:00:00 UTC<br><br>Open: 92.47423848737964 USDC/USD<br>High: 93.19895525902162 USDC/USD<br>Low: 92.03736364011631 USDC/USD<br>Close: 92.34893681555708 USDC/USD<br>Volume: 789.2683730000001 USD<br>Change: -0.00 %<br><br>Exchange rate: 1.0 USDC / USD<br><br>Buys: 7.0 txs<br>Sells: 8.5 txs<br>Total: 15.5 trades<br>",
          "2022-01-16 22:00:00 UTC<br><br>Open: 92.13503502834968 USDC/USD<br>High: 93.029880928138 USDC/USD<br>Low: 91.50459464513128 USDC/USD<br>Close: 92.07394077179129 USDC/USD<br>Volume: 894.4308589999999 USD<br>Change: -0.00 %<br><br>Exchange rate: 1.0 USDC / USD<br><br>Buys: 8.5 txs<br>Sells: 9.5 txs<br>Total: 18.0 trades<br>",
          "2022-01-17 00:00:00 UTC<br><br>Open: 92.10930159615774 USDC/USD<br>High: 92.85876030495794 USDC/USD<br>Low: 91.12355733145426 USDC/USD<br>Close: 91.67156717394442 USDC/USD<br>Volume: 1228.723871 USD<br>Change: -0.00 %<br><br>Exchange rate: 1.0 USDC / USD<br><br>Buys: 8.0 txs<br>Sells: 9.5 txs<br>Total: 17.5 trades<br>",
          "2022-01-17 02:00:00 UTC<br><br>Open: 90.89828124489969 USDC/USD<br>High: 91.26846023208735 USDC/USD<br>Low: 89.56406372688699 USDC/USD<br>Close: 90.21823647126595 USDC/USD<br>Volume: 1197.4668820000002 USD<br>Change: -0.01 %<br><br>Exchange rate: 1.0 USDC / USD<br><br>Buys: 7.0 txs<br>Sells: 10.0 txs<br>Total: 17.0 trades<br>",
          "2022-01-17 04:00:00 UTC<br><br>Open: 88.95240411127776 USDC/USD<br>High: 89.58795023798143 USDC/USD<br>Low: 88.58979854309234 USDC/USD<br>Close: 88.90589087804584 USDC/USD<br>Volume: 701.0072355 USD<br>Change: -0.00 %<br><br>Exchange rate: 1.0 USDC / USD<br><br>Buys: 4.5 txs<br>Sells: 6.5 txs<br>Total: 11.0 trades<br>",
          "2022-01-17 06:00:00 UTC<br><br>Open: 88.59714491164738 USDC/USD<br>High: 89.18002143173626 USDC/USD<br>Low: 88.59714491164738 USDC/USD<br>Close: 88.77173774502766 USDC/USD<br>Volume: 399.6323685 USD<br>Change: 0.00 %<br><br>Exchange rate: 1.0 USDC / USD<br><br>Buys: 5.5 txs<br>Sells: 7.0 txs<br>Total: 12.5 trades<br>",
          "2022-01-17 08:00:00 UTC<br><br>Open: 89.15127159062877 USDC/USD<br>High: 98.19749066598685 USDC/USD<br>Low: 88.38489332835563 USDC/USD<br>Close: 89.84798128934816 USDC/USD<br>Volume: 4623.871831500001 USD<br>Change: 0.01 %<br><br>Exchange rate: 1.0 USDC / USD<br><br>Buys: 7.5 txs<br>Sells: 10.0 txs<br>Total: 17.5 trades<br>",
          "2022-01-17 10:00:00 UTC<br><br>Open: 89.43990463539151 USDC/USD<br>High: 89.66045905960465 USDC/USD<br>Low: 88.15040313559587 USDC/USD<br>Close: 88.71403347553442 USDC/USD<br>Volume: 1150.9630809999999 USD<br>Change: -0.01 %<br><br>Exchange rate: 1.0 USDC / USD<br><br>Buys: 8.5 txs<br>Sells: 15.5 txs<br>Total: 24.0 trades<br>",
          "2022-01-17 12:00:00 UTC<br><br>Open: 88.62563768212897 USDC/USD<br>High: 89.77079353706407 USDC/USD<br>Low: 87.65123608446186 USDC/USD<br>Close: 89.20347857666616 USDC/USD<br>Volume: 2613.24067 USD<br>Change: 0.01 %<br><br>Exchange rate: 1.0 USDC / USD<br><br>Buys: 15.0 txs<br>Sells: 18.5 txs<br>Total: 33.5 trades<br>",
          "2022-01-17 14:00:00 UTC<br><br>Open: 88.19156411415754 USDC/USD<br>High: 89.07503955458819 USDC/USD<br>Low: 86.28802709865816 USDC/USD<br>Close: 88.33745941852058 USDC/USD<br>Volume: 2181.5459305 USD<br>Change: 0.00 %<br><br>Exchange rate: 1.0 USDC / USD<br><br>Buys: 10.0 txs<br>Sells: 15.0 txs<br>Total: 25.0 trades<br>",
          "2022-01-17 16:00:00 UTC<br><br>Open: 87.37782995559313 USDC/USD<br>High: 87.83603495818237 USDC/USD<br>Low: 86.31511932124306 USDC/USD<br>Close: 86.81581145091303 USDC/USD<br>Volume: 1191.3283834999997 USD<br>Change: -0.01 %<br><br>Exchange rate: 1.0 USDC / USD<br><br>Buys: 12.0 txs<br>Sells: 9.5 txs<br>Total: 21.5 trades<br>",
          "2022-01-17 18:00:00 UTC<br><br>Open: 86.57105596262993 USDC/USD<br>High: 86.97892094552734 USDC/USD<br>Low: 85.94227017897965 USDC/USD<br>Close: 86.91539270355726 USDC/USD<br>Volume: 957.191662 USD<br>Change: 0.00 %<br><br>Exchange rate: 1.0 USDC / USD<br><br>Buys: 10.5 txs<br>Sells: 10.0 txs<br>Total: 20.5 trades<br>",
          "2022-01-17 20:00:00 UTC<br><br>Open: 87.20830341363839 USDC/USD<br>High: 87.5537280314211 USDC/USD<br>Low: 85.8959360323192 USDC/USD<br>Close: 86.69382870252839 USDC/USD<br>Volume: 945.299514 USD<br>Change: -0.01 %<br><br>Exchange rate: 1.0 USDC / USD<br><br>Buys: 7.5 txs<br>Sells: 8.5 txs<br>Total: 16.0 trades<br>",
          "2022-01-17 22:00:00 UTC<br><br>Open: 86.04006485729539 USDC/USD<br>High: 87.27856531430942 USDC/USD<br>Low: 85.3755910185136 USDC/USD<br>Close: 86.40980730429229 USDC/USD<br>Volume: 1277.3277764999998 USD<br>Change: 0.00 %<br><br>Exchange rate: 1.0 USDC / USD<br><br>Buys: 12.0 txs<br>Sells: 13.5 txs<br>Total: 25.5 trades<br>",
          "2022-01-18 00:00:00 UTC<br><br>Open: 86.56149248300827 USDC/USD<br>High: 87.27160634670452 USDC/USD<br>Low: 86.12858331903874 USDC/USD<br>Close: 86.71458207386885 USDC/USD<br>Volume: 1240.365807 USD<br>Change: 0.00 %<br><br>Exchange rate: 1.0 USDC / USD<br><br>Buys: 13.0 txs<br>Sells: 8.5 txs<br>Total: 21.5 trades<br>"
         ],
         "type": "candlestick",
         "x": [
          "2022-01-01T00:00:00",
          "2022-01-01T02:00:00",
          "2022-01-01T04:00:00",
          "2022-01-01T06:00:00",
          "2022-01-01T08:00:00",
          "2022-01-01T10:00:00",
          "2022-01-01T12:00:00",
          "2022-01-01T14:00:00",
          "2022-01-01T16:00:00",
          "2022-01-01T18:00:00",
          "2022-01-01T20:00:00",
          "2022-01-01T22:00:00",
          "2022-01-02T00:00:00",
          "2022-01-02T02:00:00",
          "2022-01-02T04:00:00",
          "2022-01-02T06:00:00",
          "2022-01-02T08:00:00",
          "2022-01-02T10:00:00",
          "2022-01-02T12:00:00",
          "2022-01-02T14:00:00",
          "2022-01-02T16:00:00",
          "2022-01-02T18:00:00",
          "2022-01-02T20:00:00",
          "2022-01-02T22:00:00",
          "2022-01-03T00:00:00",
          "2022-01-03T02:00:00",
          "2022-01-03T04:00:00",
          "2022-01-03T06:00:00",
          "2022-01-03T08:00:00",
          "2022-01-03T10:00:00",
          "2022-01-03T12:00:00",
          "2022-01-03T14:00:00",
          "2022-01-03T16:00:00",
          "2022-01-03T18:00:00",
          "2022-01-03T20:00:00",
          "2022-01-03T22:00:00",
          "2022-01-04T00:00:00",
          "2022-01-04T02:00:00",
          "2022-01-04T04:00:00",
          "2022-01-04T06:00:00",
          "2022-01-04T08:00:00",
          "2022-01-04T10:00:00",
          "2022-01-04T12:00:00",
          "2022-01-04T14:00:00",
          "2022-01-04T16:00:00",
          "2022-01-04T18:00:00",
          "2022-01-04T20:00:00",
          "2022-01-04T22:00:00",
          "2022-01-05T00:00:00",
          "2022-01-05T02:00:00",
          "2022-01-05T04:00:00",
          "2022-01-05T06:00:00",
          "2022-01-05T08:00:00",
          "2022-01-05T10:00:00",
          "2022-01-05T12:00:00",
          "2022-01-05T14:00:00",
          "2022-01-05T16:00:00",
          "2022-01-05T18:00:00",
          "2022-01-05T20:00:00",
          "2022-01-05T22:00:00",
          "2022-01-06T00:00:00",
          "2022-01-06T02:00:00",
          "2022-01-06T04:00:00",
          "2022-01-06T06:00:00",
          "2022-01-06T08:00:00",
          "2022-01-06T10:00:00",
          "2022-01-06T12:00:00",
          "2022-01-06T14:00:00",
          "2022-01-06T16:00:00",
          "2022-01-06T18:00:00",
          "2022-01-06T20:00:00",
          "2022-01-06T22:00:00",
          "2022-01-07T00:00:00",
          "2022-01-07T02:00:00",
          "2022-01-07T04:00:00",
          "2022-01-07T06:00:00",
          "2022-01-07T08:00:00",
          "2022-01-07T10:00:00",
          "2022-01-07T12:00:00",
          "2022-01-07T14:00:00",
          "2022-01-07T16:00:00",
          "2022-01-07T18:00:00",
          "2022-01-07T20:00:00",
          "2022-01-07T22:00:00",
          "2022-01-08T00:00:00",
          "2022-01-08T02:00:00",
          "2022-01-08T04:00:00",
          "2022-01-08T06:00:00",
          "2022-01-08T08:00:00",
          "2022-01-08T10:00:00",
          "2022-01-08T12:00:00",
          "2022-01-08T14:00:00",
          "2022-01-08T16:00:00",
          "2022-01-08T18:00:00",
          "2022-01-08T20:00:00",
          "2022-01-08T22:00:00",
          "2022-01-09T00:00:00",
          "2022-01-09T02:00:00",
          "2022-01-09T04:00:00",
          "2022-01-09T06:00:00",
          "2022-01-09T08:00:00",
          "2022-01-09T10:00:00",
          "2022-01-09T12:00:00",
          "2022-01-09T14:00:00",
          "2022-01-09T16:00:00",
          "2022-01-09T18:00:00",
          "2022-01-09T20:00:00",
          "2022-01-09T22:00:00",
          "2022-01-10T00:00:00",
          "2022-01-10T02:00:00",
          "2022-01-10T04:00:00",
          "2022-01-10T06:00:00",
          "2022-01-10T08:00:00",
          "2022-01-10T10:00:00",
          "2022-01-10T12:00:00",
          "2022-01-10T14:00:00",
          "2022-01-10T16:00:00",
          "2022-01-10T18:00:00",
          "2022-01-10T20:00:00",
          "2022-01-10T22:00:00",
          "2022-01-11T00:00:00",
          "2022-01-11T02:00:00",
          "2022-01-11T04:00:00",
          "2022-01-11T06:00:00",
          "2022-01-11T08:00:00",
          "2022-01-11T10:00:00",
          "2022-01-11T12:00:00",
          "2022-01-11T14:00:00",
          "2022-01-11T16:00:00",
          "2022-01-11T18:00:00",
          "2022-01-11T20:00:00",
          "2022-01-11T22:00:00",
          "2022-01-12T00:00:00",
          "2022-01-12T02:00:00",
          "2022-01-12T04:00:00",
          "2022-01-12T06:00:00",
          "2022-01-12T08:00:00",
          "2022-01-12T10:00:00",
          "2022-01-12T12:00:00",
          "2022-01-12T14:00:00",
          "2022-01-12T16:00:00",
          "2022-01-12T18:00:00",
          "2022-01-12T20:00:00",
          "2022-01-12T22:00:00",
          "2022-01-13T00:00:00",
          "2022-01-13T02:00:00",
          "2022-01-13T04:00:00",
          "2022-01-13T06:00:00",
          "2022-01-13T08:00:00",
          "2022-01-13T10:00:00",
          "2022-01-13T12:00:00",
          "2022-01-13T14:00:00",
          "2022-01-13T16:00:00",
          "2022-01-13T18:00:00",
          "2022-01-13T20:00:00",
          "2022-01-13T22:00:00",
          "2022-01-14T00:00:00",
          "2022-01-14T02:00:00",
          "2022-01-14T04:00:00",
          "2022-01-14T06:00:00",
          "2022-01-14T08:00:00",
          "2022-01-14T10:00:00",
          "2022-01-14T12:00:00",
          "2022-01-14T14:00:00",
          "2022-01-14T16:00:00",
          "2022-01-14T18:00:00",
          "2022-01-14T20:00:00",
          "2022-01-14T22:00:00",
          "2022-01-15T00:00:00",
          "2022-01-15T02:00:00",
          "2022-01-15T04:00:00",
          "2022-01-15T06:00:00",
          "2022-01-15T08:00:00",
          "2022-01-15T10:00:00",
          "2022-01-15T12:00:00",
          "2022-01-15T14:00:00",
          "2022-01-15T16:00:00",
          "2022-01-15T18:00:00",
          "2022-01-15T20:00:00",
          "2022-01-15T22:00:00",
          "2022-01-16T00:00:00",
          "2022-01-16T02:00:00",
          "2022-01-16T04:00:00",
          "2022-01-16T06:00:00",
          "2022-01-16T08:00:00",
          "2022-01-16T10:00:00",
          "2022-01-16T12:00:00",
          "2022-01-16T14:00:00",
          "2022-01-16T16:00:00",
          "2022-01-16T18:00:00",
          "2022-01-16T20:00:00",
          "2022-01-16T22:00:00",
          "2022-01-17T00:00:00",
          "2022-01-17T02:00:00",
          "2022-01-17T04:00:00",
          "2022-01-17T06:00:00",
          "2022-01-17T08:00:00",
          "2022-01-17T10:00:00",
          "2022-01-17T12:00:00",
          "2022-01-17T14:00:00",
          "2022-01-17T16:00:00",
          "2022-01-17T18:00:00",
          "2022-01-17T20:00:00",
          "2022-01-17T22:00:00",
          "2022-01-18T00:00:00"
         ],
         "xaxis": "x",
         "yaxis": "y"
        },
        {
         "hoverinfo": "text",
         "marker": {
          "color": "#aaaaff",
          "line": {
           "color": "#3333aa",
           "width": 1
          },
          "size": 12,
          "symbol": "triangle-right"
         },
         "mode": "markers",
         "name": "Buy",
         "text": [
          "Buy WAVAX<br><br>Executed at: 2022-01-02 16:00:00<br>Value: 7000.0000 USD<br>Quantity: 60.707751 WAVAX<br><br>Mid-price: 114.9616 WAVAX / USD<br>Executed at price: 115.3065 WAVAX / USD<br>Estimated execution price: 115.3065 WAVAX / USD<br><br>Fees paid: $21.00<br>Fees planned: $21.00<br>Fees: 0.0030 %",
          "Buy WAVAX<br><br>Executed at: 2022-01-02 20:00:00<br>Value: 6931.0283 USD<br>Quantity: 61.556957 WAVAX<br><br>Mid-price: 112.2586 WAVAX / USD<br>Executed at price: 112.5954 WAVAX / USD<br>Estimated execution price: 112.5954 WAVAX / USD<br><br>Fees paid: $20.79<br>Fees planned: $20.79<br>Fees: 0.0030 %",
          "Buy WAVAX<br><br>Executed at: 2022-01-04 20:00:00<br>Value: 6866.3534 USD<br>Quantity: 65.404985 WAVAX<br><br>Mid-price: 104.6681 WAVAX / USD<br>Executed at price: 104.9821 WAVAX / USD<br>Estimated execution price: 104.9821 WAVAX / USD<br><br>Fees paid: $20.60<br>Fees planned: $20.60<br>Fees: 0.0030 %",
          "Buy WAVAX<br><br>Executed at: 2022-01-05 08:00:00<br>Value: 6784.0911 USD<br>Quantity: 64.278546 WAVAX<br><br>Mid-price: 105.2264 WAVAX / USD<br>Executed at price: 105.5421 WAVAX / USD<br>Estimated execution price: 105.5421 WAVAX / USD<br><br>Fees paid: $20.35<br>Fees planned: $20.35<br>Fees: 0.0030 %",
          "Buy WAVAX<br><br>Executed at: 2022-01-05 12:00:00<br>Value: 6709.0574 USD<br>Quantity: 64.260385 WAVAX<br><br>Mid-price: 104.0920 WAVAX / USD<br>Executed at price: 104.4043 WAVAX / USD<br>Estimated execution price: 104.4043 WAVAX / USD<br><br>Fees paid: $20.13<br>Fees planned: $20.13<br>Fees: 0.0030 %",
          "Buy WAVAX<br><br>Executed at: 2022-01-06 22:00:00<br>Value: 6638.6675 USD<br>Quantity: 70.039569 WAVAX<br><br>Mid-price: 94.5010 WAVAX / USD<br>Executed at price: 94.7845 WAVAX / USD<br>Estimated execution price: 94.7845 WAVAX / USD<br><br>Fees paid: $19.92<br>Fees planned: $19.92<br>Fees: 0.0030 %",
          "Buy WAVAX<br><br>Executed at: 2022-01-07 02:00:00<br>Value: 6577.7268 USD<br>Quantity: 71.580763 WAVAX<br><br>Mid-price: 91.6175 WAVAX / USD<br>Executed at price: 91.8924 WAVAX / USD<br>Estimated execution price: 91.8924 WAVAX / USD<br><br>Fees paid: $19.73<br>Fees planned: $19.73<br>Fees: 0.0030 %",
          "Buy WAVAX<br><br>Executed at: 2022-01-08 12:00:00<br>Value: 6499.3291 USD<br>Quantity: 75.577581 WAVAX<br><br>Mid-price: 85.7382 WAVAX / USD<br>Executed at price: 85.9955 WAVAX / USD<br>Estimated execution price: 85.9955 WAVAX / USD<br><br>Fees paid: $19.50<br>Fees planned: $19.50<br>Fees: 0.0030 %",
          "Buy WAVAX<br><br>Executed at: 2022-01-09 02:00:00<br>Value: 6426.6870 USD<br>Quantity: 75.421018 WAVAX<br><br>Mid-price: 84.9560 WAVAX / USD<br>Executed at price: 85.2108 WAVAX / USD<br>Estimated execution price: 85.2108 WAVAX / USD<br><br>Fees paid: $19.28<br>Fees planned: $19.28<br>Fees: 0.0030 %",
          "Buy WAVAX<br><br>Executed at: 2022-01-09 10:00:00<br>Value: 6357.9113 USD<br>Quantity: 75.452667 WAVAX<br><br>Mid-price: 84.0115 WAVAX / USD<br>Executed at price: 84.2636 WAVAX / USD<br>Estimated execution price: 84.2636 WAVAX / USD<br><br>Fees paid: $19.07<br>Fees planned: $19.07<br>Fees: 0.0030 %",
          "Buy WAVAX<br><br>Executed at: 2022-01-09 14:00:00<br>Value: 6293.1556 USD<br>Quantity: 74.910908 WAVAX<br><br>Mid-price: 83.7573 WAVAX / USD<br>Executed at price: 84.0085 WAVAX / USD<br>Estimated execution price: 84.0085 WAVAX / USD<br><br>Fees paid: $18.88<br>Fees planned: $18.88<br>Fees: 0.0030 %",
          "Buy WAVAX<br><br>Executed at: 2022-01-10 10:00:00<br>Value: 6565.6458 USD<br>Quantity: 74.546333 WAVAX<br><br>Mid-price: 87.8113 WAVAX / USD<br>Executed at price: 88.0747 WAVAX / USD<br>Estimated execution price: 88.0747 WAVAX / USD<br><br>Fees paid: $19.70<br>Fees planned: $19.70<br>Fees: 0.0030 %",
          "Buy WAVAX<br><br>Executed at: 2022-01-11 12:00:00<br>Value: 6465.8258 USD<br>Quantity: 74.942606 WAVAX<br><br>Mid-price: 86.0190 WAVAX / USD<br>Executed at price: 86.2770 WAVAX / USD<br>Estimated execution price: 86.2770 WAVAX / USD<br><br>Fees paid: $19.40<br>Fees planned: $19.40<br>Fees: 0.0030 %",
          "Buy WAVAX<br><br>Executed at: 2022-01-13 04:00:00<br>Value: 6392.5978 USD<br>Quantity: 67.994571 WAVAX<br><br>Mid-price: 93.7351 WAVAX / USD<br>Executed at price: 94.0163 WAVAX / USD<br>Estimated execution price: 94.0163 WAVAX / USD<br><br>Fees paid: $19.18<br>Fees planned: $19.18<br>Fees: 0.0030 %",
          "Buy WAVAX<br><br>Executed at: 2022-01-13 18:00:00<br>Value: 6411.0239 USD<br>Quantity: 69.458809 WAVAX<br><br>Mid-price: 92.0236 WAVAX / USD<br>Executed at price: 92.2997 WAVAX / USD<br>Estimated execution price: 92.2997 WAVAX / USD<br><br>Fees paid: $19.23<br>Fees planned: $19.23<br>Fees: 0.0030 %",
          "Buy WAVAX<br><br>Executed at: 2022-01-14 18:00:00<br>Value: 6344.4886 USD<br>Quantity: 70.800960 WAVAX<br><br>Mid-price: 89.3422 WAVAX / USD<br>Executed at price: 89.6102 WAVAX / USD<br>Estimated execution price: 89.6102 WAVAX / USD<br><br>Fees paid: $19.03<br>Fees planned: $19.03<br>Fees: 0.0030 %",
          "Buy WAVAX<br><br>Executed at: 2022-01-15 08:00:00<br>Value: 6371.2749 USD<br>Quantity: 71.046966 WAVAX<br><br>Mid-price: 89.4087 WAVAX / USD<br>Executed at price: 89.6769 WAVAX / USD<br>Estimated execution price: 89.6769 WAVAX / USD<br><br>Fees paid: $19.11<br>Fees planned: $19.11<br>Fees: 0.0030 %",
          "Buy WAVAX<br><br>Executed at: 2022-01-15 14:00:00<br>Value: 6396.7051 USD<br>Quantity: 69.725289 WAVAX<br><br>Mid-price: 91.4671 WAVAX / USD<br>Executed at price: 91.7415 WAVAX / USD<br>Estimated execution price: 91.7415 WAVAX / USD<br><br>Fees paid: $19.19<br>Fees planned: $19.19<br>Fees: 0.0030 %",
          "Buy WAVAX<br><br>Executed at: 2022-01-16 04:00:00<br>Value: 6337.0942 USD<br>Quantity: 68.582788 WAVAX<br><br>Mid-price: 92.1243 WAVAX / USD<br>Executed at price: 92.4006 WAVAX / USD<br>Estimated execution price: 92.4006 WAVAX / USD<br><br>Fees paid: $19.01<br>Fees planned: $19.01<br>Fees: 0.0030 %",
          "Buy WAVAX<br><br>Executed at: 2022-01-16 20:00:00<br>Value: 6275.0438 USD<br>Quantity: 67.654246 WAVAX<br><br>Mid-price: 92.4742 WAVAX / USD<br>Executed at price: 92.7517 WAVAX / USD<br>Estimated execution price: 92.7517 WAVAX / USD<br><br>Fees paid: $18.83<br>Fees planned: $18.83<br>Fees: 0.0030 %"
         ],
         "type": "scatter",
         "x": [
          "2022-01-02T16:00:00",
          "2022-01-02T20:00:00",
          "2022-01-04T20:00:00",
          "2022-01-05T08:00:00",
          "2022-01-05T12:00:00",
          "2022-01-06T22:00:00",
          "2022-01-07T02:00:00",
          "2022-01-08T12:00:00",
          "2022-01-09T02:00:00",
          "2022-01-09T10:00:00",
          "2022-01-09T14:00:00",
          "2022-01-10T10:00:00",
          "2022-01-11T12:00:00",
          "2022-01-13T04:00:00",
          "2022-01-13T18:00:00",
          "2022-01-14T18:00:00",
          "2022-01-15T08:00:00",
          "2022-01-15T14:00:00",
          "2022-01-16T04:00:00",
          "2022-01-16T20:00:00"
         ],
         "xaxis": "x",
         "y": [
          114.96164252202671,
          112.25859435131484,
          104.6681072122732,
          105.22639505629091,
          104.09197504742926,
          94.50102415479202,
          91.61752886661475,
          85.73824901791,
          84.95595483276603,
          84.0115383207843,
          83.75726267221732,
          87.81126513080571,
          86.01897852920865,
          93.73509150392869,
          92.02358125264504,
          89.34217871876993,
          89.4087191116572,
          91.46713512283637,
          92.12427655337058,
          92.47423848737964
         ],
         "yaxis": "y"
        },
        {
         "hoverinfo": "text",
         "marker": {
          "color": "#aaaaff",
          "line": {
           "color": "#3333aa",
           "width": 1
          },
          "size": 12,
          "symbol": "triangle-left"
         },
         "mode": "markers",
         "name": "Sell",
         "text": [
          "Sell WAVAX<br><br>Executed at: 2022-01-09 18:00:00<br>Value: 6682.4273 USD<br>Quantity: 74.910908 WAVAX<br><br>Mid-price: 89.4734 WAVAX / USD<br>Executed at price: 89.2050 WAVAX / USD<br>Estimated execution price: 89.2050 WAVAX / USD<br><br>Fees paid: $20.11<br>Fees planned: $20.11<br>Fees: 0.0030 %",
          "Sell WAVAX<br><br>Executed at: 2022-01-13 08:00:00<br>Value: 6418.9208 USD<br>Quantity: 67.994571 WAVAX<br><br>Mid-price: 94.6875 WAVAX / USD<br>Executed at price: 94.4034 WAVAX / USD<br>Estimated execution price: 94.4034 WAVAX / USD<br><br>Fees paid: $19.31<br>Fees planned: $19.31<br>Fees: 0.0030 %",
          "Sell WAVAX<br><br>Executed at: 2022-01-14 22:00:00<br>Value: 6382.7548 USD<br>Quantity: 70.800960 WAVAX<br><br>Mid-price: 90.4219 WAVAX / USD<br>Executed at price: 90.1507 WAVAX / USD<br>Estimated execution price: 90.1507 WAVAX / USD<br><br>Fees paid: $19.21<br>Fees planned: $19.21<br>Fees: 0.0030 %",
          "Sell WAVAX<br><br>Executed at: 2022-01-15 12:00:00<br>Value: 6407.6038 USD<br>Quantity: 71.046966 WAVAX<br><br>Mid-price: 90.4597 WAVAX / USD<br>Executed at price: 90.1883 WAVAX / USD<br>Estimated execution price: 90.1883 WAVAX / USD<br><br>Fees paid: $19.28<br>Fees planned: $19.28<br>Fees: 0.0030 %"
         ],
         "type": "scatter",
         "x": [
          "2022-01-09T18:00:00",
          "2022-01-13T08:00:00",
          "2022-01-14T22:00:00",
          "2022-01-15T12:00:00"
         ],
         "xaxis": "x",
         "y": [
          89.47341703935203,
          94.6874929731623,
          90.42194640640852,
          90.45966026494176
         ],
         "yaxis": "y"
        },
        {
         "hoverinfo": "text",
         "marker": {
          "line": {
           "color": "black",
           "width": 1
          },
          "size": 12,
          "symbol": "triangle-left"
         },
         "mode": "markers",
         "name": "Stop loss",
         "text": [
          "Stop loss WAVAX<br><br>Trigger was at 114.1569 WAVAX / USD<br><br>Executed at: 2022-01-02 16:15:00<br>Value: 6901.4690 USD<br>Quantity: 60.707751 WAVAX<br><br>Mid-price: 114.0256 WAVAX / USD<br>Executed at price: 113.6835 WAVAX / USD<br>Estimated execution price: 113.6835 WAVAX / USD<br><br>Fees paid: $20.77<br>Fees planned: $20.77<br>Fees: 0.0030 %",
          "Stop loss WAVAX<br><br>Trigger was at 111.4728 WAVAX / USD<br><br>Executed at: 2022-01-03 01:15:00<br>Value: 6838.6356 USD<br>Quantity: 61.556957 WAVAX<br><br>Mid-price: 111.4287 WAVAX / USD<br>Executed at price: 111.0944 WAVAX / USD<br>Estimated execution price: 111.0944 WAVAX / USD<br><br>Fees paid: $20.58<br>Fees planned: $20.58<br>Fees: 0.0030 %",
          "Stop loss WAVAX<br><br>Trigger was at 103.9354 WAVAX / USD<br><br>Executed at: 2022-01-04 20:00:00<br>Value: 6748.8358 USD<br>Quantity: 65.404985 WAVAX<br><br>Mid-price: 103.4958 WAVAX / USD<br>Executed at price: 103.1853 WAVAX / USD<br>Estimated execution price: 103.1853 WAVAX / USD<br><br>Fees paid: $20.31<br>Fees planned: $20.31<br>Fees: 0.0030 %",
          "Stop loss WAVAX<br><br>Trigger was at 104.4898 WAVAX / USD<br><br>Executed at: 2022-01-05 08:30:00<br>Value: 6676.9001 USD<br>Quantity: 64.278546 WAVAX<br><br>Mid-price: 104.1870 WAVAX / USD<br>Executed at price: 103.8745 WAVAX / USD<br>Estimated execution price: 103.8745 WAVAX / USD<br><br>Fees paid: $20.09<br>Fees planned: $20.09<br>Fees: 0.0030 %",
          "Stop loss WAVAX<br><br>Trigger was at 103.3633 WAVAX / USD<br><br>Executed at: 2022-01-05 18:00:00<br>Value: 6608.5004 USD<br>Quantity: 64.260385 WAVAX<br><br>Mid-price: 103.1489 WAVAX / USD<br>Executed at price: 102.8394 WAVAX / USD<br>Estimated execution price: 102.8394 WAVAX / USD<br><br>Fees paid: $19.89<br>Fees planned: $19.89<br>Fees: 0.0030 %",
          "Stop loss WAVAX<br><br>Trigger was at 93.8395 WAVAX / USD<br><br>Executed at: 2022-01-06 22:00:00<br>Value: 6551.6094 USD<br>Quantity: 70.039569 WAVAX<br><br>Mid-price: 93.8230 WAVAX / USD<br>Executed at price: 93.5415 WAVAX / USD<br>Estimated execution price: 93.5415 WAVAX / USD<br><br>Fees paid: $19.71<br>Fees planned: $19.71<br>Fees: 0.0030 %",
          "Stop loss WAVAX<br><br>Trigger was at 90.9762 WAVAX / USD<br><br>Executed at: 2022-01-07 03:00:00<br>Value: 6465.7301 USD<br>Quantity: 71.580763 WAVAX<br><br>Mid-price: 90.5996 WAVAX / USD<br>Executed at price: 90.3278 WAVAX / USD<br>Estimated execution price: 90.3278 WAVAX / USD<br><br>Fees paid: $19.46<br>Fees planned: $19.46<br>Fees: 0.0030 %",
          "Stop loss WAVAX<br><br>Trigger was at 85.1381 WAVAX / USD<br><br>Executed at: 2022-01-08 12:45:00<br>Value: 6395.5547 USD<br>Quantity: 75.577581 WAVAX<br><br>Mid-price: 84.8770 WAVAX / USD<br>Executed at price: 84.6224 WAVAX / USD<br>Estimated execution price: 84.6224 WAVAX / USD<br><br>Fees paid: $19.24<br>Fees planned: $19.24<br>Fees: 0.0030 %",
          "Stop loss WAVAX<br><br>Trigger was at 84.3613 WAVAX / USD<br><br>Executed at: 2022-01-09 02:00:00<br>Value: 6328.4360 USD<br>Quantity: 75.421018 WAVAX<br><br>Mid-price: 84.1606 WAVAX / USD<br>Executed at price: 83.9081 WAVAX / USD<br>Estimated execution price: 83.9081 WAVAX / USD<br><br>Fees paid: $19.04<br>Fees planned: $19.04<br>Fees: 0.0030 %",
          "Stop loss WAVAX<br><br>Trigger was at 83.4235 WAVAX / USD<br><br>Executed at: 2022-01-09 10:15:00<br>Value: 6265.4032 USD<br>Quantity: 75.452667 WAVAX<br><br>Mid-price: 83.2874 WAVAX / USD<br>Executed at price: 83.0375 WAVAX / USD<br>Estimated execution price: 83.0375 WAVAX / USD<br><br>Fees paid: $18.85<br>Fees planned: $18.85<br>Fees: 0.0030 %",
          "Stop loss WAVAX<br><br>Trigger was at 87.1966 WAVAX / USD<br><br>Executed at: 2022-01-10 12:00:00<br>Value: 6423.0458 USD<br>Quantity: 74.546333 WAVAX<br><br>Mid-price: 86.4211 WAVAX / USD<br>Executed at price: 86.1618 WAVAX / USD<br>Estimated execution price: 86.1618 WAVAX / USD<br><br>Fees paid: $19.33<br>Fees planned: $19.33<br>Fees: 0.0030 %",
          "Stop loss WAVAX<br><br>Trigger was at 85.4168 WAVAX / USD<br><br>Executed at: 2022-01-11 12:15:00<br>Value: 6361.2143 USD<br>Quantity: 74.942606 WAVAX<br><br>Mid-price: 85.1366 WAVAX / USD<br>Executed at price: 84.8811 WAVAX / USD<br>Estimated execution price: 84.8811 WAVAX / USD<br><br>Fees paid: $19.14<br>Fees planned: $19.14<br>Fees: 0.0030 %",
          "Stop loss WAVAX<br><br>Trigger was at 91.3794 WAVAX / USD<br><br>Executed at: 2022-01-13 19:30:00<br>Value: 6315.9735 USD<br>Quantity: 69.458809 WAVAX<br><br>Mid-price: 91.2048 WAVAX / USD<br>Executed at price: 90.9312 WAVAX / USD<br>Estimated execution price: 90.9312 WAVAX / USD<br><br>Fees paid: $19.00<br>Fees planned: $19.00<br>Fees: 0.0030 %",
          "Stop loss WAVAX<br><br>Trigger was at 90.8269 WAVAX / USD<br><br>Executed at: 2022-01-15 14:00:00<br>Value: 6311.5466 USD<br>Quantity: 69.725289 WAVAX<br><br>Mid-price: 90.7926 WAVAX / USD<br>Executed at price: 90.5202 WAVAX / USD<br>Estimated execution price: 90.5202 WAVAX / USD<br><br>Fees paid: $18.99<br>Fees planned: $18.99<br>Fees: 0.0030 %",
          "Stop loss WAVAX<br><br>Trigger was at 91.4794 WAVAX / USD<br><br>Executed at: 2022-01-16 06:15:00<br>Value: 6248.4507 USD<br>Quantity: 68.582788 WAVAX<br><br>Mid-price: 91.3823 WAVAX / USD<br>Executed at price: 91.1081 WAVAX / USD<br>Estimated execution price: 91.1081 WAVAX / USD<br><br>Fees paid: $18.80<br>Fees planned: $18.80<br>Fees: 0.0030 %",
          "Stop loss WAVAX<br><br>Trigger was at 91.8269 WAVAX / USD<br><br>Executed at: 2022-01-17 01:15:00<br>Value: 6190.8445 USD<br>Quantity: 67.654246 WAVAX<br><br>Mid-price: 91.7825 WAVAX / USD<br>Executed at price: 91.5071 WAVAX / USD<br>Estimated execution price: 91.5071 WAVAX / USD<br><br>Fees paid: $18.63<br>Fees planned: $18.63<br>Fees: 0.0030 %"
         ],
         "type": "scatter",
         "x": [
          "2022-01-02T16:15:00",
          "2022-01-03T01:15:00",
          "2022-01-04T20:00:00",
          "2022-01-05T08:30:00",
          "2022-01-05T18:00:00",
          "2022-01-06T22:00:00",
          "2022-01-07T03:00:00",
          "2022-01-08T12:45:00",
          "2022-01-09T02:00:00",
          "2022-01-09T10:15:00",
          "2022-01-10T12:00:00",
          "2022-01-11T12:15:00",
          "2022-01-13T19:30:00",
          "2022-01-15T14:00:00",
          "2022-01-16T06:15:00",
          "2022-01-17T01:15:00"
         ],
         "xaxis": "x",
         "y": [
          114.025566157434,
          111.42872620361099,
          103.4958309525104,
          104.18703315007699,
          103.1488605849127,
          93.82301202092209,
          90.59955971028631,
          84.87700996445481,
          84.1606042076588,
          83.28739328448371,
          86.42105810351731,
          85.13655669365437,
          91.20482373894318,
          90.79257119264331,
          91.38229326140527,
          91.78245580672136
         ],
         "yaxis": "y"
        },
        {
         "hoverinfo": "text",
         "marker": {
          "line": {
           "color": "black",
           "width": 1
          },
          "size": 12,
          "symbol": "triangle-left"
         },
         "mode": "markers",
         "name": "Take profit",
         "text": [],
         "type": "scatter",
         "x": [],
         "xaxis": "x",
         "y": [],
         "yaxis": "y"
        }
       ],
       "layout": {
        "height": 800,
        "legend": {
         "orientation": "h",
         "x": 1,
         "xanchor": "right",
         "y": 1.02,
         "yanchor": "bottom"
        },
        "template": {
         "data": {
          "bar": [
           {
            "error_x": {
             "color": "#2a3f5f"
            },
            "error_y": {
             "color": "#2a3f5f"
            },
            "marker": {
             "line": {
              "color": "white",
              "width": 0.5
             },
             "pattern": {
              "fillmode": "overlay",
              "size": 10,
              "solidity": 0.2
             }
            },
            "type": "bar"
           }
          ],
          "barpolar": [
           {
            "marker": {
             "line": {
              "color": "white",
              "width": 0.5
             },
             "pattern": {
              "fillmode": "overlay",
              "size": 10,
              "solidity": 0.2
             }
            },
            "type": "barpolar"
           }
          ],
          "carpet": [
           {
            "aaxis": {
             "endlinecolor": "#2a3f5f",
             "gridcolor": "#C8D4E3",
             "linecolor": "#C8D4E3",
             "minorgridcolor": "#C8D4E3",
             "startlinecolor": "#2a3f5f"
            },
            "baxis": {
             "endlinecolor": "#2a3f5f",
             "gridcolor": "#C8D4E3",
             "linecolor": "#C8D4E3",
             "minorgridcolor": "#C8D4E3",
             "startlinecolor": "#2a3f5f"
            },
            "type": "carpet"
           }
          ],
          "choropleth": [
           {
            "colorbar": {
             "outlinewidth": 0,
             "ticks": ""
            },
            "type": "choropleth"
           }
          ],
          "contour": [
           {
            "colorbar": {
             "outlinewidth": 0,
             "ticks": ""
            },
            "colorscale": [
             [
              0,
              "#0d0887"
             ],
             [
              0.1111111111111111,
              "#46039f"
             ],
             [
              0.2222222222222222,
              "#7201a8"
             ],
             [
              0.3333333333333333,
              "#9c179e"
             ],
             [
              0.4444444444444444,
              "#bd3786"
             ],
             [
              0.5555555555555556,
              "#d8576b"
             ],
             [
              0.6666666666666666,
              "#ed7953"
             ],
             [
              0.7777777777777778,
              "#fb9f3a"
             ],
             [
              0.8888888888888888,
              "#fdca26"
             ],
             [
              1,
              "#f0f921"
             ]
            ],
            "type": "contour"
           }
          ],
          "contourcarpet": [
           {
            "colorbar": {
             "outlinewidth": 0,
             "ticks": ""
            },
            "type": "contourcarpet"
           }
          ],
          "heatmap": [
           {
            "colorbar": {
             "outlinewidth": 0,
             "ticks": ""
            },
            "colorscale": [
             [
              0,
              "#0d0887"
             ],
             [
              0.1111111111111111,
              "#46039f"
             ],
             [
              0.2222222222222222,
              "#7201a8"
             ],
             [
              0.3333333333333333,
              "#9c179e"
             ],
             [
              0.4444444444444444,
              "#bd3786"
             ],
             [
              0.5555555555555556,
              "#d8576b"
             ],
             [
              0.6666666666666666,
              "#ed7953"
             ],
             [
              0.7777777777777778,
              "#fb9f3a"
             ],
             [
              0.8888888888888888,
              "#fdca26"
             ],
             [
              1,
              "#f0f921"
             ]
            ],
            "type": "heatmap"
           }
          ],
          "heatmapgl": [
           {
            "colorbar": {
             "outlinewidth": 0,
             "ticks": ""
            },
            "colorscale": [
             [
              0,
              "#0d0887"
             ],
             [
              0.1111111111111111,
              "#46039f"
             ],
             [
              0.2222222222222222,
              "#7201a8"
             ],
             [
              0.3333333333333333,
              "#9c179e"
             ],
             [
              0.4444444444444444,
              "#bd3786"
             ],
             [
              0.5555555555555556,
              "#d8576b"
             ],
             [
              0.6666666666666666,
              "#ed7953"
             ],
             [
              0.7777777777777778,
              "#fb9f3a"
             ],
             [
              0.8888888888888888,
              "#fdca26"
             ],
             [
              1,
              "#f0f921"
             ]
            ],
            "type": "heatmapgl"
           }
          ],
          "histogram": [
           {
            "marker": {
             "pattern": {
              "fillmode": "overlay",
              "size": 10,
              "solidity": 0.2
             }
            },
            "type": "histogram"
           }
          ],
          "histogram2d": [
           {
            "colorbar": {
             "outlinewidth": 0,
             "ticks": ""
            },
            "colorscale": [
             [
              0,
              "#0d0887"
             ],
             [
              0.1111111111111111,
              "#46039f"
             ],
             [
              0.2222222222222222,
              "#7201a8"
             ],
             [
              0.3333333333333333,
              "#9c179e"
             ],
             [
              0.4444444444444444,
              "#bd3786"
             ],
             [
              0.5555555555555556,
              "#d8576b"
             ],
             [
              0.6666666666666666,
              "#ed7953"
             ],
             [
              0.7777777777777778,
              "#fb9f3a"
             ],
             [
              0.8888888888888888,
              "#fdca26"
             ],
             [
              1,
              "#f0f921"
             ]
            ],
            "type": "histogram2d"
           }
          ],
          "histogram2dcontour": [
           {
            "colorbar": {
             "outlinewidth": 0,
             "ticks": ""
            },
            "colorscale": [
             [
              0,
              "#0d0887"
             ],
             [
              0.1111111111111111,
              "#46039f"
             ],
             [
              0.2222222222222222,
              "#7201a8"
             ],
             [
              0.3333333333333333,
              "#9c179e"
             ],
             [
              0.4444444444444444,
              "#bd3786"
             ],
             [
              0.5555555555555556,
              "#d8576b"
             ],
             [
              0.6666666666666666,
              "#ed7953"
             ],
             [
              0.7777777777777778,
              "#fb9f3a"
             ],
             [
              0.8888888888888888,
              "#fdca26"
             ],
             [
              1,
              "#f0f921"
             ]
            ],
            "type": "histogram2dcontour"
           }
          ],
          "mesh3d": [
           {
            "colorbar": {
             "outlinewidth": 0,
             "ticks": ""
            },
            "type": "mesh3d"
           }
          ],
          "parcoords": [
           {
            "line": {
             "colorbar": {
              "outlinewidth": 0,
              "ticks": ""
             }
            },
            "type": "parcoords"
           }
          ],
          "pie": [
           {
            "automargin": true,
            "type": "pie"
           }
          ],
          "scatter": [
           {
            "fillpattern": {
             "fillmode": "overlay",
             "size": 10,
             "solidity": 0.2
            },
            "type": "scatter"
           }
          ],
          "scatter3d": [
           {
            "line": {
             "colorbar": {
              "outlinewidth": 0,
              "ticks": ""
             }
            },
            "marker": {
             "colorbar": {
              "outlinewidth": 0,
              "ticks": ""
             }
            },
            "type": "scatter3d"
           }
          ],
          "scattercarpet": [
           {
            "marker": {
             "colorbar": {
              "outlinewidth": 0,
              "ticks": ""
             }
            },
            "type": "scattercarpet"
           }
          ],
          "scattergeo": [
           {
            "marker": {
             "colorbar": {
              "outlinewidth": 0,
              "ticks": ""
             }
            },
            "type": "scattergeo"
           }
          ],
          "scattergl": [
           {
            "marker": {
             "colorbar": {
              "outlinewidth": 0,
              "ticks": ""
             }
            },
            "type": "scattergl"
           }
          ],
          "scattermapbox": [
           {
            "marker": {
             "colorbar": {
              "outlinewidth": 0,
              "ticks": ""
             }
            },
            "type": "scattermapbox"
           }
          ],
          "scatterpolar": [
           {
            "marker": {
             "colorbar": {
              "outlinewidth": 0,
              "ticks": ""
             }
            },
            "type": "scatterpolar"
           }
          ],
          "scatterpolargl": [
           {
            "marker": {
             "colorbar": {
              "outlinewidth": 0,
              "ticks": ""
             }
            },
            "type": "scatterpolargl"
           }
          ],
          "scatterternary": [
           {
            "marker": {
             "colorbar": {
              "outlinewidth": 0,
              "ticks": ""
             }
            },
            "type": "scatterternary"
           }
          ],
          "surface": [
           {
            "colorbar": {
             "outlinewidth": 0,
             "ticks": ""
            },
            "colorscale": [
             [
              0,
              "#0d0887"
             ],
             [
              0.1111111111111111,
              "#46039f"
             ],
             [
              0.2222222222222222,
              "#7201a8"
             ],
             [
              0.3333333333333333,
              "#9c179e"
             ],
             [
              0.4444444444444444,
              "#bd3786"
             ],
             [
              0.5555555555555556,
              "#d8576b"
             ],
             [
              0.6666666666666666,
              "#ed7953"
             ],
             [
              0.7777777777777778,
              "#fb9f3a"
             ],
             [
              0.8888888888888888,
              "#fdca26"
             ],
             [
              1,
              "#f0f921"
             ]
            ],
            "type": "surface"
           }
          ],
          "table": [
           {
            "cells": {
             "fill": {
              "color": "#EBF0F8"
             },
             "line": {
              "color": "white"
             }
            },
            "header": {
             "fill": {
              "color": "#C8D4E3"
             },
             "line": {
              "color": "white"
             }
            },
            "type": "table"
           }
          ]
         },
         "layout": {
          "annotationdefaults": {
           "arrowcolor": "#2a3f5f",
           "arrowhead": 0,
           "arrowwidth": 1
          },
          "autotypenumbers": "strict",
          "coloraxis": {
           "colorbar": {
            "outlinewidth": 0,
            "ticks": ""
           }
          },
          "colorscale": {
           "diverging": [
            [
             0,
             "#8e0152"
            ],
            [
             0.1,
             "#c51b7d"
            ],
            [
             0.2,
             "#de77ae"
            ],
            [
             0.3,
             "#f1b6da"
            ],
            [
             0.4,
             "#fde0ef"
            ],
            [
             0.5,
             "#f7f7f7"
            ],
            [
             0.6,
             "#e6f5d0"
            ],
            [
             0.7,
             "#b8e186"
            ],
            [
             0.8,
             "#7fbc41"
            ],
            [
             0.9,
             "#4d9221"
            ],
            [
             1,
             "#276419"
            ]
           ],
           "sequential": [
            [
             0,
             "#0d0887"
            ],
            [
             0.1111111111111111,
             "#46039f"
            ],
            [
             0.2222222222222222,
             "#7201a8"
            ],
            [
             0.3333333333333333,
             "#9c179e"
            ],
            [
             0.4444444444444444,
             "#bd3786"
            ],
            [
             0.5555555555555556,
             "#d8576b"
            ],
            [
             0.6666666666666666,
             "#ed7953"
            ],
            [
             0.7777777777777778,
             "#fb9f3a"
            ],
            [
             0.8888888888888888,
             "#fdca26"
            ],
            [
             1,
             "#f0f921"
            ]
           ],
           "sequentialminus": [
            [
             0,
             "#0d0887"
            ],
            [
             0.1111111111111111,
             "#46039f"
            ],
            [
             0.2222222222222222,
             "#7201a8"
            ],
            [
             0.3333333333333333,
             "#9c179e"
            ],
            [
             0.4444444444444444,
             "#bd3786"
            ],
            [
             0.5555555555555556,
             "#d8576b"
            ],
            [
             0.6666666666666666,
             "#ed7953"
            ],
            [
             0.7777777777777778,
             "#fb9f3a"
            ],
            [
             0.8888888888888888,
             "#fdca26"
            ],
            [
             1,
             "#f0f921"
            ]
           ]
          },
          "colorway": [
           "#636efa",
           "#EF553B",
           "#00cc96",
           "#ab63fa",
           "#FFA15A",
           "#19d3f3",
           "#FF6692",
           "#B6E880",
           "#FF97FF",
           "#FECB52"
          ],
          "font": {
           "color": "#2a3f5f"
          },
          "geo": {
           "bgcolor": "white",
           "lakecolor": "white",
           "landcolor": "white",
           "showlakes": true,
           "showland": true,
           "subunitcolor": "#C8D4E3"
          },
          "hoverlabel": {
           "align": "left"
          },
          "hovermode": "closest",
          "mapbox": {
           "style": "light"
          },
          "paper_bgcolor": "white",
          "plot_bgcolor": "white",
          "polar": {
           "angularaxis": {
            "gridcolor": "#EBF0F8",
            "linecolor": "#EBF0F8",
            "ticks": ""
           },
           "bgcolor": "white",
           "radialaxis": {
            "gridcolor": "#EBF0F8",
            "linecolor": "#EBF0F8",
            "ticks": ""
           }
          },
          "scene": {
           "xaxis": {
            "backgroundcolor": "white",
            "gridcolor": "#DFE8F3",
            "gridwidth": 2,
            "linecolor": "#EBF0F8",
            "showbackground": true,
            "ticks": "",
            "zerolinecolor": "#EBF0F8"
           },
           "yaxis": {
            "backgroundcolor": "white",
            "gridcolor": "#DFE8F3",
            "gridwidth": 2,
            "linecolor": "#EBF0F8",
            "showbackground": true,
            "ticks": "",
            "zerolinecolor": "#EBF0F8"
           },
           "zaxis": {
            "backgroundcolor": "white",
            "gridcolor": "#DFE8F3",
            "gridwidth": 2,
            "linecolor": "#EBF0F8",
            "showbackground": true,
            "ticks": "",
            "zerolinecolor": "#EBF0F8"
           }
          },
          "shapedefaults": {
           "line": {
            "color": "#2a3f5f"
           }
          },
          "ternary": {
           "aaxis": {
            "gridcolor": "#DFE8F3",
            "linecolor": "#A2B1C6",
            "ticks": ""
           },
           "baxis": {
            "gridcolor": "#DFE8F3",
            "linecolor": "#A2B1C6",
            "ticks": ""
           },
           "bgcolor": "white",
           "caxis": {
            "gridcolor": "#DFE8F3",
            "linecolor": "#A2B1C6",
            "ticks": ""
           }
          },
          "title": {
           "x": 0.05
          },
          "xaxis": {
           "automargin": true,
           "gridcolor": "#EBF0F8",
           "linecolor": "#EBF0F8",
           "ticks": "",
           "title": {
            "standoff": 15
           },
           "zerolinecolor": "#EBF0F8",
           "zerolinewidth": 2
          },
          "yaxis": {
           "automargin": true,
           "gridcolor": "#EBF0F8",
           "linecolor": "#EBF0F8",
           "ticks": "",
           "title": {
            "standoff": 15
           },
           "zerolinecolor": "#EBF0F8",
           "zerolinewidth": 2
          }
         }
        },
        "title": {
         "text": "ETH/USDC fast and slow EMA example"
        },
        "xaxis": {
         "anchor": "y",
         "domain": [
          0,
          0.94
         ],
         "rangeslider": {
          "visible": false
         }
        },
        "yaxis": {
         "anchor": "x",
         "domain": [
          0,
          1
         ]
        },
        "yaxis2": {
         "anchor": "x",
         "overlaying": "y",
         "showgrid": false,
         "side": "right",
         "title": {
          "text": "Volume USD"
         }
        }
       }
      }
     },
     "metadata": {},
     "output_type": "display_data"
    }
   ],
   "source": [
    "from tradeexecutor.visual.single_pair import visualise_single_pair\n",
    "\n",
    "figure = visualise_single_pair(\n",
    "    state,\n",
    "    universe.universe.candles,\n",
    "    start_at=START_AT,\n",
    "    end_at=END_AT)\n",
    "\n",
    "figure.show()"
   ]
  },
  {
   "cell_type": "code",
   "execution_count": 16,
   "metadata": {},
   "outputs": [
    {
     "data": {
      "application/vnd.plotly.v1+json": {
       "config": {
        "plotlyServerURL": "https://plot.ly"
       },
       "data": [
        {
         "line": {
          "color": "#008800"
         },
         "mode": "lines",
         "name": "ETH/USDC fast and slow EMA example",
         "type": "scatter",
         "x": [
          "2022-01-01T00:00:00",
          "2022-01-01T02:00:00",
          "2022-01-01T04:00:00",
          "2022-01-01T06:00:00",
          "2022-01-01T08:00:00",
          "2022-01-01T10:00:00",
          "2022-01-01T12:00:00",
          "2022-01-01T14:00:00",
          "2022-01-01T16:00:00",
          "2022-01-01T18:00:00",
          "2022-01-01T20:00:00",
          "2022-01-01T22:00:00",
          "2022-01-02T00:00:00",
          "2022-01-02T02:00:00",
          "2022-01-02T04:00:00",
          "2022-01-02T06:00:00",
          "2022-01-02T08:00:00",
          "2022-01-02T10:00:00",
          "2022-01-02T12:00:00",
          "2022-01-02T14:00:00",
          "2022-01-02T16:00:00",
          "2022-01-02T18:00:00",
          "2022-01-02T20:00:00",
          "2022-01-02T22:00:00",
          "2022-01-03T00:00:00",
          "2022-01-03T02:00:00",
          "2022-01-03T04:00:00",
          "2022-01-03T06:00:00",
          "2022-01-03T08:00:00",
          "2022-01-03T10:00:00",
          "2022-01-03T12:00:00",
          "2022-01-03T14:00:00",
          "2022-01-03T16:00:00",
          "2022-01-03T18:00:00",
          "2022-01-03T20:00:00",
          "2022-01-03T22:00:00",
          "2022-01-04T00:00:00",
          "2022-01-04T02:00:00",
          "2022-01-04T04:00:00",
          "2022-01-04T06:00:00",
          "2022-01-04T08:00:00",
          "2022-01-04T10:00:00",
          "2022-01-04T12:00:00",
          "2022-01-04T14:00:00",
          "2022-01-04T16:00:00",
          "2022-01-04T18:00:00",
          "2022-01-04T20:00:00",
          "2022-01-04T22:00:00",
          "2022-01-05T00:00:00",
          "2022-01-05T02:00:00",
          "2022-01-05T04:00:00",
          "2022-01-05T06:00:00",
          "2022-01-05T08:00:00",
          "2022-01-05T10:00:00",
          "2022-01-05T12:00:00",
          "2022-01-05T14:00:00",
          "2022-01-05T16:00:00",
          "2022-01-05T18:00:00",
          "2022-01-05T20:00:00",
          "2022-01-05T22:00:00",
          "2022-01-06T00:00:00",
          "2022-01-06T02:00:00",
          "2022-01-06T04:00:00",
          "2022-01-06T06:00:00",
          "2022-01-06T08:00:00",
          "2022-01-06T10:00:00",
          "2022-01-06T12:00:00",
          "2022-01-06T14:00:00",
          "2022-01-06T16:00:00",
          "2022-01-06T18:00:00",
          "2022-01-06T20:00:00",
          "2022-01-06T22:00:00",
          "2022-01-07T00:00:00",
          "2022-01-07T02:00:00",
          "2022-01-07T04:00:00",
          "2022-01-07T06:00:00",
          "2022-01-07T08:00:00",
          "2022-01-07T10:00:00",
          "2022-01-07T12:00:00",
          "2022-01-07T14:00:00",
          "2022-01-07T16:00:00",
          "2022-01-07T18:00:00",
          "2022-01-07T20:00:00",
          "2022-01-07T22:00:00",
          "2022-01-08T00:00:00",
          "2022-01-08T02:00:00",
          "2022-01-08T04:00:00",
          "2022-01-08T06:00:00",
          "2022-01-08T08:00:00",
          "2022-01-08T10:00:00",
          "2022-01-08T12:00:00",
          "2022-01-08T14:00:00",
          "2022-01-08T16:00:00",
          "2022-01-08T18:00:00",
          "2022-01-08T20:00:00",
          "2022-01-08T22:00:00",
          "2022-01-09T00:00:00",
          "2022-01-09T02:00:00",
          "2022-01-09T04:00:00",
          "2022-01-09T06:00:00",
          "2022-01-09T08:00:00",
          "2022-01-09T10:00:00",
          "2022-01-09T12:00:00",
          "2022-01-09T14:00:00",
          "2022-01-09T16:00:00",
          "2022-01-09T18:00:00",
          "2022-01-09T20:00:00",
          "2022-01-09T22:00:00",
          "2022-01-10T00:00:00",
          "2022-01-10T02:00:00",
          "2022-01-10T04:00:00",
          "2022-01-10T06:00:00",
          "2022-01-10T08:00:00",
          "2022-01-10T10:00:00",
          "2022-01-10T12:00:00",
          "2022-01-10T14:00:00",
          "2022-01-10T16:00:00",
          "2022-01-10T18:00:00",
          "2022-01-10T20:00:00",
          "2022-01-10T22:00:00",
          "2022-01-11T00:00:00",
          "2022-01-11T02:00:00",
          "2022-01-11T04:00:00",
          "2022-01-11T06:00:00",
          "2022-01-11T08:00:00",
          "2022-01-11T10:00:00",
          "2022-01-11T12:00:00",
          "2022-01-11T14:00:00",
          "2022-01-11T16:00:00",
          "2022-01-11T18:00:00",
          "2022-01-11T20:00:00",
          "2022-01-11T22:00:00",
          "2022-01-12T00:00:00",
          "2022-01-12T02:00:00",
          "2022-01-12T04:00:00",
          "2022-01-12T06:00:00",
          "2022-01-12T08:00:00",
          "2022-01-12T10:00:00",
          "2022-01-12T12:00:00",
          "2022-01-12T14:00:00",
          "2022-01-12T16:00:00",
          "2022-01-12T18:00:00",
          "2022-01-12T20:00:00",
          "2022-01-12T22:00:00",
          "2022-01-13T00:00:00",
          "2022-01-13T02:00:00",
          "2022-01-13T04:00:00",
          "2022-01-13T06:00:00",
          "2022-01-13T08:00:00",
          "2022-01-13T10:00:00",
          "2022-01-13T12:00:00",
          "2022-01-13T14:00:00",
          "2022-01-13T16:00:00",
          "2022-01-13T18:00:00",
          "2022-01-13T20:00:00",
          "2022-01-13T22:00:00",
          "2022-01-14T00:00:00",
          "2022-01-14T02:00:00",
          "2022-01-14T04:00:00",
          "2022-01-14T06:00:00",
          "2022-01-14T08:00:00",
          "2022-01-14T10:00:00",
          "2022-01-14T12:00:00",
          "2022-01-14T14:00:00",
          "2022-01-14T16:00:00",
          "2022-01-14T18:00:00",
          "2022-01-14T20:00:00",
          "2022-01-14T22:00:00",
          "2022-01-15T00:00:00",
          "2022-01-15T02:00:00",
          "2022-01-15T04:00:00",
          "2022-01-15T06:00:00",
          "2022-01-15T08:00:00",
          "2022-01-15T10:00:00",
          "2022-01-15T12:00:00",
          "2022-01-15T14:00:00",
          "2022-01-15T16:00:00",
          "2022-01-15T18:00:00",
          "2022-01-15T20:00:00",
          "2022-01-15T22:00:00",
          "2022-01-16T00:00:00",
          "2022-01-16T02:00:00",
          "2022-01-16T04:00:00",
          "2022-01-16T06:00:00",
          "2022-01-16T08:00:00",
          "2022-01-16T10:00:00",
          "2022-01-16T12:00:00",
          "2022-01-16T14:00:00",
          "2022-01-16T16:00:00",
          "2022-01-16T18:00:00",
          "2022-01-16T20:00:00",
          "2022-01-16T22:00:00",
          "2022-01-17T00:00:00",
          "2022-01-17T02:00:00",
          "2022-01-17T04:00:00",
          "2022-01-17T06:00:00",
          "2022-01-17T08:00:00",
          "2022-01-17T10:00:00",
          "2022-01-17T12:00:00",
          "2022-01-17T14:00:00",
          "2022-01-17T16:00:00",
          "2022-01-17T18:00:00",
          "2022-01-17T20:00:00",
          "2022-01-17T22:00:00"
         ],
         "y": [
          10000,
          10000,
          10000,
          10000,
          10000,
          10000,
          10000,
          10000,
          10000,
          10000,
          10000,
          10000,
          10000,
          10000,
          10000,
          10000,
          10000,
          10000,
          10000,
          10000,
          9958.125623130609,
          9901.469013197157,
          9860.007228695235,
          9920.39469533779,
          9894.271611732242,
          9809.076323641566,
          9809.076323641566,
          9809.076323641566,
          9809.076323641566,
          9809.076323641566,
          9809.076323641566,
          9809.076323641566,
          9809.076323641566,
          9809.076323641566,
          9809.076323641566,
          9809.076323641566,
          9809.076323641566,
          9809.076323641566,
          9809.076323641566,
          9809.076323641566,
          9809.076323641566,
          9809.076323641566,
          9809.076323641566,
          9809.076323641566,
          9809.076323641566,
          9809.076323641566,
          9768.001427769887,
          9691.55873475782,
          9691.55873475782,
          9691.55873475782,
          9691.55873475782,
          9691.55873475782,
          9650.975936466712,
          9584.367689988452,
          9544.233747517912,
          9558.754063650142,
          9565.22948343165,
          9483.810663574068,
          9483.810663574068,
          9483.810663574068,
          9483.810663574068,
          9483.810663574068,
          9483.810663574068,
          9483.810663574068,
          9483.810663574068,
          9483.810663574068,
          9483.810663574068,
          9483.810663574068,
          9483.810663574068,
          9483.810663574068,
          9483.810663574068,
          9444.097797385622,
          9396.752582574145,
          9357.40426667503,
          9284.75585845559,
          9284.75585845559,
          9284.75585845559,
          9284.75585845559,
          9284.75585845559,
          9284.75585845559,
          9284.75585845559,
          9284.75585845559,
          9284.75585845559,
          9284.75585845559,
          9284.75585845559,
          9284.75585845559,
          9284.75585845559,
          9284.75585845559,
          9284.75585845559,
          9284.75585845559,
          9245.876521859866,
          9180.98142890365,
          9180.98142890365,
          9180.98142890365,
          9180.98142890365,
          9180.98142890365,
          9180.98142890365,
          9142.536641265171,
          9082.730445841617,
          9082.730445841617,
          9082.730445841617,
          9044.69707807239,
          8990.222319784663,
          8952.576324028836,
          9203.510190095865,
          9379.49403287536,
          9379.49403287536,
          9379.49403287536,
          9379.49403287536,
          9379.49403287536,
          9379.49403287536,
          9379.49403287536,
          9379.49403287536,
          9340.217986077678,
          9236.894054779554,
          9236.894054779554,
          9236.894054779554,
          9236.894054779554,
          9236.894054779554,
          9236.894054779554,
          9236.894054779554,
          9236.894054779554,
          9236.894054779554,
          9236.894054779554,
          9236.894054779554,
          9236.894054779554,
          9198.215136504305,
          9132.282537913172,
          9132.282537913172,
          9132.282537913172,
          9132.282537913172,
          9132.282537913172,
          9132.282537913172,
          9132.282537913172,
          9132.282537913172,
          9132.282537913172,
          9132.282537913172,
          9132.282537913172,
          9132.282537913172,
          9132.282537913172,
          9132.282537913172,
          9132.282537913172,
          9132.282537913172,
          9132.282537913172,
          9132.282537913172,
          9132.282537913172,
          9094.041673846139,
          9108.198676149137,
          9158.605528880298,
          9158.605528880298,
          9158.605528880298,
          9158.605528880298,
          9158.605528880298,
          9120.254438928856,
          9063.555127185267,
          9063.555127185267,
          9063.555127185267,
          9063.555127185267,
          9063.555127185267,
          9063.555127185267,
          9063.555127185267,
          9063.555127185267,
          9063.555127185267,
          9063.555127185267,
          9063.555127185267,
          9025.602054868043,
          9072.96780407716,
          9101.821298337874,
          9101.821298337874,
          9101.821298337874,
          9101.821298337874,
          9101.821298337874,
          9063.70798881343,
          9097.365218023071,
          9138.150170976967,
          9099.88473656211,
          9052.991674280993,
          9052.991674280993,
          9052.991674280993,
          9052.991674280993,
          9052.991674280993,
          9052.991674280993,
          9015.082835764562,
          9020.51993739702,
          8964.34821460607,
          8964.34821460607,
          8964.34821460607,
          8964.34821460607,
          8964.34821460607,
          8964.34821460607,
          8926.810565053385,
          8903.930856286093,
          8902.195103249205,
          8880.148935160278,
          8880.148935160278,
          8880.148935160278,
          8880.148935160278,
          8880.148935160278,
          8880.148935160278,
          8880.148935160278,
          8880.148935160278,
          8880.148935160278,
          8880.148935160278,
          8880.148935160278
         ]
        },
        {
         "line": {
          "color": "#000088"
         },
         "mode": "lines",
         "name": "Hold cash",
         "type": "scatter",
         "x": [
          "2022-01-01T00:00:00",
          "2022-01-18T00:00:00"
         ],
         "y": [
          10000,
          10000
         ]
        },
        {
         "line": {
          "color": "#880000"
         },
         "mode": "lines",
         "name": "Buy and hold WAVAX",
         "type": "scatter",
         "x": [
          "2022-01-01T00:00:00",
          "2022-01-01T02:00:00",
          "2022-01-01T04:00:00",
          "2022-01-01T06:00:00",
          "2022-01-01T08:00:00",
          "2022-01-01T10:00:00",
          "2022-01-01T12:00:00",
          "2022-01-01T14:00:00",
          "2022-01-01T16:00:00",
          "2022-01-01T18:00:00",
          "2022-01-01T20:00:00",
          "2022-01-01T22:00:00",
          "2022-01-02T00:00:00",
          "2022-01-02T02:00:00",
          "2022-01-02T04:00:00",
          "2022-01-02T06:00:00",
          "2022-01-02T08:00:00",
          "2022-01-02T10:00:00",
          "2022-01-02T12:00:00",
          "2022-01-02T14:00:00",
          "2022-01-02T16:00:00",
          "2022-01-02T18:00:00",
          "2022-01-02T20:00:00",
          "2022-01-02T22:00:00",
          "2022-01-03T00:00:00",
          "2022-01-03T02:00:00",
          "2022-01-03T04:00:00",
          "2022-01-03T06:00:00",
          "2022-01-03T08:00:00",
          "2022-01-03T10:00:00",
          "2022-01-03T12:00:00",
          "2022-01-03T14:00:00",
          "2022-01-03T16:00:00",
          "2022-01-03T18:00:00",
          "2022-01-03T20:00:00",
          "2022-01-03T22:00:00",
          "2022-01-04T00:00:00",
          "2022-01-04T02:00:00",
          "2022-01-04T04:00:00",
          "2022-01-04T06:00:00",
          "2022-01-04T08:00:00",
          "2022-01-04T10:00:00",
          "2022-01-04T12:00:00",
          "2022-01-04T14:00:00",
          "2022-01-04T16:00:00",
          "2022-01-04T18:00:00",
          "2022-01-04T20:00:00",
          "2022-01-04T22:00:00",
          "2022-01-05T00:00:00",
          "2022-01-05T02:00:00",
          "2022-01-05T04:00:00",
          "2022-01-05T06:00:00",
          "2022-01-05T08:00:00",
          "2022-01-05T10:00:00",
          "2022-01-05T12:00:00",
          "2022-01-05T14:00:00",
          "2022-01-05T16:00:00",
          "2022-01-05T18:00:00",
          "2022-01-05T20:00:00",
          "2022-01-05T22:00:00",
          "2022-01-06T00:00:00",
          "2022-01-06T02:00:00",
          "2022-01-06T04:00:00",
          "2022-01-06T06:00:00",
          "2022-01-06T08:00:00",
          "2022-01-06T10:00:00",
          "2022-01-06T12:00:00",
          "2022-01-06T14:00:00",
          "2022-01-06T16:00:00",
          "2022-01-06T18:00:00",
          "2022-01-06T20:00:00",
          "2022-01-06T22:00:00",
          "2022-01-07T00:00:00",
          "2022-01-07T02:00:00",
          "2022-01-07T04:00:00",
          "2022-01-07T06:00:00",
          "2022-01-07T08:00:00",
          "2022-01-07T10:00:00",
          "2022-01-07T12:00:00",
          "2022-01-07T14:00:00",
          "2022-01-07T16:00:00",
          "2022-01-07T18:00:00",
          "2022-01-07T20:00:00",
          "2022-01-07T22:00:00",
          "2022-01-08T00:00:00",
          "2022-01-08T02:00:00",
          "2022-01-08T04:00:00",
          "2022-01-08T06:00:00",
          "2022-01-08T08:00:00",
          "2022-01-08T10:00:00",
          "2022-01-08T12:00:00",
          "2022-01-08T14:00:00",
          "2022-01-08T16:00:00",
          "2022-01-08T18:00:00",
          "2022-01-08T20:00:00",
          "2022-01-08T22:00:00",
          "2022-01-09T00:00:00",
          "2022-01-09T02:00:00",
          "2022-01-09T04:00:00",
          "2022-01-09T06:00:00",
          "2022-01-09T08:00:00",
          "2022-01-09T10:00:00",
          "2022-01-09T12:00:00",
          "2022-01-09T14:00:00",
          "2022-01-09T16:00:00",
          "2022-01-09T18:00:00",
          "2022-01-09T20:00:00",
          "2022-01-09T22:00:00",
          "2022-01-10T00:00:00",
          "2022-01-10T02:00:00",
          "2022-01-10T04:00:00",
          "2022-01-10T06:00:00",
          "2022-01-10T08:00:00",
          "2022-01-10T10:00:00",
          "2022-01-10T12:00:00",
          "2022-01-10T14:00:00",
          "2022-01-10T16:00:00",
          "2022-01-10T18:00:00",
          "2022-01-10T20:00:00",
          "2022-01-10T22:00:00",
          "2022-01-11T00:00:00",
          "2022-01-11T02:00:00",
          "2022-01-11T04:00:00",
          "2022-01-11T06:00:00",
          "2022-01-11T08:00:00",
          "2022-01-11T10:00:00",
          "2022-01-11T12:00:00",
          "2022-01-11T14:00:00",
          "2022-01-11T16:00:00",
          "2022-01-11T18:00:00",
          "2022-01-11T20:00:00",
          "2022-01-11T22:00:00",
          "2022-01-12T00:00:00",
          "2022-01-12T02:00:00",
          "2022-01-12T04:00:00",
          "2022-01-12T06:00:00",
          "2022-01-12T08:00:00",
          "2022-01-12T10:00:00",
          "2022-01-12T12:00:00",
          "2022-01-12T14:00:00",
          "2022-01-12T16:00:00",
          "2022-01-12T18:00:00",
          "2022-01-12T20:00:00",
          "2022-01-12T22:00:00",
          "2022-01-13T00:00:00",
          "2022-01-13T02:00:00",
          "2022-01-13T04:00:00",
          "2022-01-13T06:00:00",
          "2022-01-13T08:00:00",
          "2022-01-13T10:00:00",
          "2022-01-13T12:00:00",
          "2022-01-13T14:00:00",
          "2022-01-13T16:00:00",
          "2022-01-13T18:00:00",
          "2022-01-13T20:00:00",
          "2022-01-13T22:00:00",
          "2022-01-14T00:00:00",
          "2022-01-14T02:00:00",
          "2022-01-14T04:00:00",
          "2022-01-14T06:00:00",
          "2022-01-14T08:00:00",
          "2022-01-14T10:00:00",
          "2022-01-14T12:00:00",
          "2022-01-14T14:00:00",
          "2022-01-14T16:00:00",
          "2022-01-14T18:00:00",
          "2022-01-14T20:00:00",
          "2022-01-14T22:00:00",
          "2022-01-15T00:00:00",
          "2022-01-15T02:00:00",
          "2022-01-15T04:00:00",
          "2022-01-15T06:00:00",
          "2022-01-15T08:00:00",
          "2022-01-15T10:00:00",
          "2022-01-15T12:00:00",
          "2022-01-15T14:00:00",
          "2022-01-15T16:00:00",
          "2022-01-15T18:00:00",
          "2022-01-15T20:00:00",
          "2022-01-15T22:00:00",
          "2022-01-16T00:00:00",
          "2022-01-16T02:00:00",
          "2022-01-16T04:00:00",
          "2022-01-16T06:00:00",
          "2022-01-16T08:00:00",
          "2022-01-16T10:00:00",
          "2022-01-16T12:00:00",
          "2022-01-16T14:00:00",
          "2022-01-16T16:00:00",
          "2022-01-16T18:00:00",
          "2022-01-16T20:00:00",
          "2022-01-16T22:00:00",
          "2022-01-17T00:00:00",
          "2022-01-17T02:00:00",
          "2022-01-17T04:00:00",
          "2022-01-17T06:00:00",
          "2022-01-17T08:00:00",
          "2022-01-17T10:00:00",
          "2022-01-17T12:00:00",
          "2022-01-17T14:00:00",
          "2022-01-17T16:00:00",
          "2022-01-17T18:00:00",
          "2022-01-17T20:00:00",
          "2022-01-17T22:00:00",
          "2022-01-18T00:00:00"
         ],
         "y": [
          10000,
          9912.667469450544,
          9955.22283870885,
          9987.732787533296,
          9986.290661294914,
          9857.997450467921,
          9935.243461036795,
          9936.2292766805,
          10155.127825099971,
          10223.95320538221,
          10247.813361355269,
          10291.830362086477,
          10486.464197653126,
          10525.505871111778,
          10578.070100444234,
          10494.202887973199,
          10512.8599117379,
          10514.406960390595,
          10443.42836436257,
          10305.756437195683,
          10485.075781202748,
          10238.672951476978,
          10272.38623027291,
          10259.935884099474,
          10228.057200778892,
          10093.041199314113,
          10175.985576052031,
          10100.324669824575,
          10112.047896938444,
          10028.238445598245,
          10107.127055833802,
          10122.527922691672,
          9949.035734921412,
          9887.76815245765,
          9782.53758779193,
          9833.18094546562,
          9652.167088957132,
          9542.46256496087,
          9526.054996758214,
          9643.679566206085,
          9654.737087242609,
          9723.887777664737,
          9680.184581456835,
          9789.078791472586,
          9763.716797516048,
          9463.230581544112,
          9459.864363038509,
          9419.565353662176,
          9457.891813978153,
          9497.257595487568,
          9597.651843976817,
          9531.843114910804,
          9572.645230217635,
          9526.385825389563,
          9448.1665677626,
          9531.315060120929,
          9397.233013978977,
          9038.140000436662,
          8768.419158950834,
          8768.60339110392,
          8739.013062740305,
          8503.519355431352,
          8411.395257030797,
          8495.126072403966,
          8414.423346061492,
          8393.92904968252,
          8455.372116514221,
          8517.216816063381,
          8551.731743333923,
          8730.975608366902,
          8568.332322943334,
          8654.099334680006,
          8399.050049798105,
          8072.54093722517,
          7917.359195744333,
          7876.9496211093465,
          8128.604217810046,
          8089.952284011279,
          8127.666025890332,
          7907.3716654139325,
          7973.988194772036,
          8000.47335697409,
          7920.639552946805,
          7766.709662335825,
          7914.762510485054,
          7885.154984880011,
          7916.303961131342,
          7888.179715572097,
          7962.9585308713,
          7846.000523642434,
          7728.265915677222,
          7595.9695318711365,
          7355.746748456889,
          7207.94044294896,
          7446.058984461825,
          7634.711605064578,
          7596.935412379482,
          7755.369814189613,
          7691.309381300257,
          7743.693397657438,
          7638.114427440003,
          7673.740311401598,
          7646.4950460989885,
          7674.5893129902,
          8045.152927630172,
          8228.423488681725,
          8209.599338724734,
          8096.258659354465,
          8031.493405437578,
          8049.782536498097,
          8102.7279336990805,
          8056.402101414168,
          7961.064538474771,
          7937.744120402146,
          7649.377691937299,
          7591.820644458226,
          7622.084358273046,
          7593.691792048285,
          7641.740967884766,
          7644.111396233738,
          7604.8345439388195,
          7825.162492924333,
          7752.446138514363,
          7778.275650992388,
          7771.4088299618525,
          7728.9108608759125,
          7787.028048297543,
          7836.406639728591,
          8121.099275808886,
          8144.436398456739,
          8075.785268418177,
          8082.53312148471,
          8061.839065247808,
          8069.012507067651,
          8149.770362776094,
          8280.052713256668,
          8371.77476252325,
          8527.585337093291,
          8700.781163539474,
          8705.88630221907,
          8655.154741318258,
          8576.920327585465,
          8609.941807451403,
          8608.774166796798,
          8525.550753196594,
          8476.523734864903,
          8488.944114044762,
          8545.620862881275,
          8595.126249351402,
          8577.89322464788,
          8572.076145939987,
          8542.551410655231,
          8425.844731733898,
          8266.423520782886,
          8276.562830005954,
          8104.879205311157,
          8133.151394602743,
          8107.90585562956,
          8176.753184779716,
          8264.993204721917,
          8123.602518959179,
          8055.268083124638,
          8042.359644538114,
          8210.333963768107,
          8155.378209698432,
          8160.65429430317,
          8181.431195733045,
          8178.324803518837,
          8235.73295702143,
          8242.763482140334,
          8212.392624504613,
          8144.262767293723,
          8092.367169469229,
          8182.117880213566,
          8155.68138664799,
          8337.52086126631,
          8401.803356224093,
          8464.886481327761,
          8432.461218050905,
          8450.161253512086,
          8426.604091073432,
          8344.329212690156,
          8340.317606779063,
          8393.807308376574,
          8452.967269283437,
          8435.035338957809,
          8444.591745072172,
          8469.699243822162,
          8446.638910808619,
          8385.729921081522,
          8373.783238159329,
          8348.847842677244,
          8312.362427627393,
          8180.580983279015,
          8061.583429976077,
          8049.419031604521,
          8147.007920685157,
          8044.186669854457,
          8088.56733437734,
          8010.040640292188,
          7872.064495845825,
          7881.0940727200295,
          7861.003652819468,
          7835.249879080002,
          7862.885474517244
         ]
        }
       ],
       "layout": {
        "height": 800,
        "legend": {
         "orientation": "h",
         "x": 1,
         "xanchor": "right",
         "y": 1.02,
         "yanchor": "bottom"
        },
        "template": {
         "data": {
          "bar": [
           {
            "error_x": {
             "color": "#2a3f5f"
            },
            "error_y": {
             "color": "#2a3f5f"
            },
            "marker": {
             "line": {
              "color": "#E5ECF6",
              "width": 0.5
             },
             "pattern": {
              "fillmode": "overlay",
              "size": 10,
              "solidity": 0.2
             }
            },
            "type": "bar"
           }
          ],
          "barpolar": [
           {
            "marker": {
             "line": {
              "color": "#E5ECF6",
              "width": 0.5
             },
             "pattern": {
              "fillmode": "overlay",
              "size": 10,
              "solidity": 0.2
             }
            },
            "type": "barpolar"
           }
          ],
          "carpet": [
           {
            "aaxis": {
             "endlinecolor": "#2a3f5f",
             "gridcolor": "white",
             "linecolor": "white",
             "minorgridcolor": "white",
             "startlinecolor": "#2a3f5f"
            },
            "baxis": {
             "endlinecolor": "#2a3f5f",
             "gridcolor": "white",
             "linecolor": "white",
             "minorgridcolor": "white",
             "startlinecolor": "#2a3f5f"
            },
            "type": "carpet"
           }
          ],
          "choropleth": [
           {
            "colorbar": {
             "outlinewidth": 0,
             "ticks": ""
            },
            "type": "choropleth"
           }
          ],
          "contour": [
           {
            "colorbar": {
             "outlinewidth": 0,
             "ticks": ""
            },
            "colorscale": [
             [
              0,
              "#0d0887"
             ],
             [
              0.1111111111111111,
              "#46039f"
             ],
             [
              0.2222222222222222,
              "#7201a8"
             ],
             [
              0.3333333333333333,
              "#9c179e"
             ],
             [
              0.4444444444444444,
              "#bd3786"
             ],
             [
              0.5555555555555556,
              "#d8576b"
             ],
             [
              0.6666666666666666,
              "#ed7953"
             ],
             [
              0.7777777777777778,
              "#fb9f3a"
             ],
             [
              0.8888888888888888,
              "#fdca26"
             ],
             [
              1,
              "#f0f921"
             ]
            ],
            "type": "contour"
           }
          ],
          "contourcarpet": [
           {
            "colorbar": {
             "outlinewidth": 0,
             "ticks": ""
            },
            "type": "contourcarpet"
           }
          ],
          "heatmap": [
           {
            "colorbar": {
             "outlinewidth": 0,
             "ticks": ""
            },
            "colorscale": [
             [
              0,
              "#0d0887"
             ],
             [
              0.1111111111111111,
              "#46039f"
             ],
             [
              0.2222222222222222,
              "#7201a8"
             ],
             [
              0.3333333333333333,
              "#9c179e"
             ],
             [
              0.4444444444444444,
              "#bd3786"
             ],
             [
              0.5555555555555556,
              "#d8576b"
             ],
             [
              0.6666666666666666,
              "#ed7953"
             ],
             [
              0.7777777777777778,
              "#fb9f3a"
             ],
             [
              0.8888888888888888,
              "#fdca26"
             ],
             [
              1,
              "#f0f921"
             ]
            ],
            "type": "heatmap"
           }
          ],
          "heatmapgl": [
           {
            "colorbar": {
             "outlinewidth": 0,
             "ticks": ""
            },
            "colorscale": [
             [
              0,
              "#0d0887"
             ],
             [
              0.1111111111111111,
              "#46039f"
             ],
             [
              0.2222222222222222,
              "#7201a8"
             ],
             [
              0.3333333333333333,
              "#9c179e"
             ],
             [
              0.4444444444444444,
              "#bd3786"
             ],
             [
              0.5555555555555556,
              "#d8576b"
             ],
             [
              0.6666666666666666,
              "#ed7953"
             ],
             [
              0.7777777777777778,
              "#fb9f3a"
             ],
             [
              0.8888888888888888,
              "#fdca26"
             ],
             [
              1,
              "#f0f921"
             ]
            ],
            "type": "heatmapgl"
           }
          ],
          "histogram": [
           {
            "marker": {
             "pattern": {
              "fillmode": "overlay",
              "size": 10,
              "solidity": 0.2
             }
            },
            "type": "histogram"
           }
          ],
          "histogram2d": [
           {
            "colorbar": {
             "outlinewidth": 0,
             "ticks": ""
            },
            "colorscale": [
             [
              0,
              "#0d0887"
             ],
             [
              0.1111111111111111,
              "#46039f"
             ],
             [
              0.2222222222222222,
              "#7201a8"
             ],
             [
              0.3333333333333333,
              "#9c179e"
             ],
             [
              0.4444444444444444,
              "#bd3786"
             ],
             [
              0.5555555555555556,
              "#d8576b"
             ],
             [
              0.6666666666666666,
              "#ed7953"
             ],
             [
              0.7777777777777778,
              "#fb9f3a"
             ],
             [
              0.8888888888888888,
              "#fdca26"
             ],
             [
              1,
              "#f0f921"
             ]
            ],
            "type": "histogram2d"
           }
          ],
          "histogram2dcontour": [
           {
            "colorbar": {
             "outlinewidth": 0,
             "ticks": ""
            },
            "colorscale": [
             [
              0,
              "#0d0887"
             ],
             [
              0.1111111111111111,
              "#46039f"
             ],
             [
              0.2222222222222222,
              "#7201a8"
             ],
             [
              0.3333333333333333,
              "#9c179e"
             ],
             [
              0.4444444444444444,
              "#bd3786"
             ],
             [
              0.5555555555555556,
              "#d8576b"
             ],
             [
              0.6666666666666666,
              "#ed7953"
             ],
             [
              0.7777777777777778,
              "#fb9f3a"
             ],
             [
              0.8888888888888888,
              "#fdca26"
             ],
             [
              1,
              "#f0f921"
             ]
            ],
            "type": "histogram2dcontour"
           }
          ],
          "mesh3d": [
           {
            "colorbar": {
             "outlinewidth": 0,
             "ticks": ""
            },
            "type": "mesh3d"
           }
          ],
          "parcoords": [
           {
            "line": {
             "colorbar": {
              "outlinewidth": 0,
              "ticks": ""
             }
            },
            "type": "parcoords"
           }
          ],
          "pie": [
           {
            "automargin": true,
            "type": "pie"
           }
          ],
          "scatter": [
           {
            "fillpattern": {
             "fillmode": "overlay",
             "size": 10,
             "solidity": 0.2
            },
            "type": "scatter"
           }
          ],
          "scatter3d": [
           {
            "line": {
             "colorbar": {
              "outlinewidth": 0,
              "ticks": ""
             }
            },
            "marker": {
             "colorbar": {
              "outlinewidth": 0,
              "ticks": ""
             }
            },
            "type": "scatter3d"
           }
          ],
          "scattercarpet": [
           {
            "marker": {
             "colorbar": {
              "outlinewidth": 0,
              "ticks": ""
             }
            },
            "type": "scattercarpet"
           }
          ],
          "scattergeo": [
           {
            "marker": {
             "colorbar": {
              "outlinewidth": 0,
              "ticks": ""
             }
            },
            "type": "scattergeo"
           }
          ],
          "scattergl": [
           {
            "marker": {
             "colorbar": {
              "outlinewidth": 0,
              "ticks": ""
             }
            },
            "type": "scattergl"
           }
          ],
          "scattermapbox": [
           {
            "marker": {
             "colorbar": {
              "outlinewidth": 0,
              "ticks": ""
             }
            },
            "type": "scattermapbox"
           }
          ],
          "scatterpolar": [
           {
            "marker": {
             "colorbar": {
              "outlinewidth": 0,
              "ticks": ""
             }
            },
            "type": "scatterpolar"
           }
          ],
          "scatterpolargl": [
           {
            "marker": {
             "colorbar": {
              "outlinewidth": 0,
              "ticks": ""
             }
            },
            "type": "scatterpolargl"
           }
          ],
          "scatterternary": [
           {
            "marker": {
             "colorbar": {
              "outlinewidth": 0,
              "ticks": ""
             }
            },
            "type": "scatterternary"
           }
          ],
          "surface": [
           {
            "colorbar": {
             "outlinewidth": 0,
             "ticks": ""
            },
            "colorscale": [
             [
              0,
              "#0d0887"
             ],
             [
              0.1111111111111111,
              "#46039f"
             ],
             [
              0.2222222222222222,
              "#7201a8"
             ],
             [
              0.3333333333333333,
              "#9c179e"
             ],
             [
              0.4444444444444444,
              "#bd3786"
             ],
             [
              0.5555555555555556,
              "#d8576b"
             ],
             [
              0.6666666666666666,
              "#ed7953"
             ],
             [
              0.7777777777777778,
              "#fb9f3a"
             ],
             [
              0.8888888888888888,
              "#fdca26"
             ],
             [
              1,
              "#f0f921"
             ]
            ],
            "type": "surface"
           }
          ],
          "table": [
           {
            "cells": {
             "fill": {
              "color": "#EBF0F8"
             },
             "line": {
              "color": "white"
             }
            },
            "header": {
             "fill": {
              "color": "#C8D4E3"
             },
             "line": {
              "color": "white"
             }
            },
            "type": "table"
           }
          ]
         },
         "layout": {
          "annotationdefaults": {
           "arrowcolor": "#2a3f5f",
           "arrowhead": 0,
           "arrowwidth": 1
          },
          "autotypenumbers": "strict",
          "coloraxis": {
           "colorbar": {
            "outlinewidth": 0,
            "ticks": ""
           }
          },
          "colorscale": {
           "diverging": [
            [
             0,
             "#8e0152"
            ],
            [
             0.1,
             "#c51b7d"
            ],
            [
             0.2,
             "#de77ae"
            ],
            [
             0.3,
             "#f1b6da"
            ],
            [
             0.4,
             "#fde0ef"
            ],
            [
             0.5,
             "#f7f7f7"
            ],
            [
             0.6,
             "#e6f5d0"
            ],
            [
             0.7,
             "#b8e186"
            ],
            [
             0.8,
             "#7fbc41"
            ],
            [
             0.9,
             "#4d9221"
            ],
            [
             1,
             "#276419"
            ]
           ],
           "sequential": [
            [
             0,
             "#0d0887"
            ],
            [
             0.1111111111111111,
             "#46039f"
            ],
            [
             0.2222222222222222,
             "#7201a8"
            ],
            [
             0.3333333333333333,
             "#9c179e"
            ],
            [
             0.4444444444444444,
             "#bd3786"
            ],
            [
             0.5555555555555556,
             "#d8576b"
            ],
            [
             0.6666666666666666,
             "#ed7953"
            ],
            [
             0.7777777777777778,
             "#fb9f3a"
            ],
            [
             0.8888888888888888,
             "#fdca26"
            ],
            [
             1,
             "#f0f921"
            ]
           ],
           "sequentialminus": [
            [
             0,
             "#0d0887"
            ],
            [
             0.1111111111111111,
             "#46039f"
            ],
            [
             0.2222222222222222,
             "#7201a8"
            ],
            [
             0.3333333333333333,
             "#9c179e"
            ],
            [
             0.4444444444444444,
             "#bd3786"
            ],
            [
             0.5555555555555556,
             "#d8576b"
            ],
            [
             0.6666666666666666,
             "#ed7953"
            ],
            [
             0.7777777777777778,
             "#fb9f3a"
            ],
            [
             0.8888888888888888,
             "#fdca26"
            ],
            [
             1,
             "#f0f921"
            ]
           ]
          },
          "colorway": [
           "#636efa",
           "#EF553B",
           "#00cc96",
           "#ab63fa",
           "#FFA15A",
           "#19d3f3",
           "#FF6692",
           "#B6E880",
           "#FF97FF",
           "#FECB52"
          ],
          "font": {
           "color": "#2a3f5f"
          },
          "geo": {
           "bgcolor": "white",
           "lakecolor": "white",
           "landcolor": "#E5ECF6",
           "showlakes": true,
           "showland": true,
           "subunitcolor": "white"
          },
          "hoverlabel": {
           "align": "left"
          },
          "hovermode": "closest",
          "mapbox": {
           "style": "light"
          },
          "paper_bgcolor": "white",
          "plot_bgcolor": "#E5ECF6",
          "polar": {
           "angularaxis": {
            "gridcolor": "white",
            "linecolor": "white",
            "ticks": ""
           },
           "bgcolor": "#E5ECF6",
           "radialaxis": {
            "gridcolor": "white",
            "linecolor": "white",
            "ticks": ""
           }
          },
          "scene": {
           "xaxis": {
            "backgroundcolor": "#E5ECF6",
            "gridcolor": "white",
            "gridwidth": 2,
            "linecolor": "white",
            "showbackground": true,
            "ticks": "",
            "zerolinecolor": "white"
           },
           "yaxis": {
            "backgroundcolor": "#E5ECF6",
            "gridcolor": "white",
            "gridwidth": 2,
            "linecolor": "white",
            "showbackground": true,
            "ticks": "",
            "zerolinecolor": "white"
           },
           "zaxis": {
            "backgroundcolor": "#E5ECF6",
            "gridcolor": "white",
            "gridwidth": 2,
            "linecolor": "white",
            "showbackground": true,
            "ticks": "",
            "zerolinecolor": "white"
           }
          },
          "shapedefaults": {
           "line": {
            "color": "#2a3f5f"
           }
          },
          "ternary": {
           "aaxis": {
            "gridcolor": "white",
            "linecolor": "white",
            "ticks": ""
           },
           "baxis": {
            "gridcolor": "white",
            "linecolor": "white",
            "ticks": ""
           },
           "bgcolor": "#E5ECF6",
           "caxis": {
            "gridcolor": "white",
            "linecolor": "white",
            "ticks": ""
           }
          },
          "title": {
           "x": 0.05
          },
          "xaxis": {
           "automargin": true,
           "gridcolor": "white",
           "linecolor": "white",
           "ticks": "",
           "title": {
            "standoff": 15
           },
           "zerolinecolor": "white",
           "zerolinewidth": 2
          },
          "yaxis": {
           "automargin": true,
           "gridcolor": "white",
           "linecolor": "white",
           "ticks": "",
           "title": {
            "standoff": 15
           },
           "zerolinecolor": "white",
           "zerolinewidth": 2
          }
         }
        },
        "title": {
         "text": "ETH/USDC fast and slow EMA example portfolio value"
        },
        "xaxis": {
         "rangeslider": {
          "visible": false
         }
        },
        "yaxis": {
         "showgrid": false,
         "title": {
          "text": "Value $"
         }
        }
       }
      }
     },
     "metadata": {},
     "output_type": "display_data"
    }
   ],
   "source": [
    "from tradeexecutor.visual.benchmark import visualise_benchmark\n",
    "\n",
    "traded_pair = universe.universe.pairs.get_single()\n",
    "\n",
    "fig = visualise_benchmark(\n",
    "    state.name,\n",
    "    portfolio_statistics=state.stats.portfolio,\n",
    "    all_cash=state.portfolio.get_initial_deposit(),\n",
    "    buy_and_hold_asset_name=traded_pair.base_token_symbol,\n",
    "    buy_and_hold_price_series=universe.universe.candles.get_single_pair_data()[\"close\"],\n",
    "    start_at=START_AT,\n",
    "    end_at=END_AT,\n",
    "    height=800\n",
    ")\n",
    "\n",
    "fig.show()"
   ]
  },
  {
   "cell_type": "code",
   "execution_count": 17,
   "metadata": {},
   "outputs": [],
   "source": [
    "from tradeexecutor.analysis.trade_analyser import build_trade_analysis\n",
    "\n",
    "analysis = build_trade_analysis(state.portfolio)"
   ]
  },
  {
   "cell_type": "code",
   "execution_count": 18,
   "metadata": {},
   "outputs": [
    {
     "data": {
      "text/html": [
       "<div>\n",
       "<style scoped>\n",
       "    .dataframe tbody tr th:only-of-type {\n",
       "        vertical-align: middle;\n",
       "    }\n",
       "\n",
       "    .dataframe tbody tr th {\n",
       "        vertical-align: top;\n",
       "    }\n",
       "\n",
       "    .dataframe thead th {\n",
       "        text-align: right;\n",
       "    }\n",
       "</style>\n",
       "<table border=\"1\" class=\"dataframe\">\n",
       "  <thead>\n",
       "    <tr style=\"text-align: right;\">\n",
       "      <th></th>\n",
       "      <th>0</th>\n",
       "    </tr>\n",
       "  </thead>\n",
       "  <tbody>\n",
       "    <tr>\n",
       "      <th>Trading period length</th>\n",
       "      <td>14 days</td>\n",
       "    </tr>\n",
       "    <tr>\n",
       "      <th>Return %</th>\n",
       "      <td>-11.20%</td>\n",
       "    </tr>\n",
       "    <tr>\n",
       "      <th>Annualised return %</th>\n",
       "      <td>-284.14%</td>\n",
       "    </tr>\n",
       "    <tr>\n",
       "      <th>Cash at start</th>\n",
       "      <td>$10,000.00</td>\n",
       "    </tr>\n",
       "    <tr>\n",
       "      <th>Value at end</th>\n",
       "      <td>$8,880.15</td>\n",
       "    </tr>\n",
       "    <tr>\n",
       "      <th>Trade volume</th>\n",
       "      <td>$260,167.56</td>\n",
       "    </tr>\n",
       "    <tr>\n",
       "      <th>Position win percent</th>\n",
       "      <td>20.00%</td>\n",
       "    </tr>\n",
       "    <tr>\n",
       "      <th>Total positions</th>\n",
       "      <td>20</td>\n",
       "    </tr>\n",
       "    <tr>\n",
       "      <th>Won positions</th>\n",
       "      <td>4</td>\n",
       "    </tr>\n",
       "    <tr>\n",
       "      <th>Lost positions</th>\n",
       "      <td>16</td>\n",
       "    </tr>\n",
       "    <tr>\n",
       "      <th>Stop losses triggered</th>\n",
       "      <td>16</td>\n",
       "    </tr>\n",
       "    <tr>\n",
       "      <th>Stop loss % of all</th>\n",
       "      <td>80.00%</td>\n",
       "    </tr>\n",
       "    <tr>\n",
       "      <th>Stop loss % of lost</th>\n",
       "      <td>100.00%</td>\n",
       "    </tr>\n",
       "    <tr>\n",
       "      <th>Winning stop losses</th>\n",
       "      <td>0</td>\n",
       "    </tr>\n",
       "    <tr>\n",
       "      <th>Winning stop losses percent</th>\n",
       "      <td>0.00%</td>\n",
       "    </tr>\n",
       "    <tr>\n",
       "      <th>Losing stop losses</th>\n",
       "      <td>16</td>\n",
       "    </tr>\n",
       "    <tr>\n",
       "      <th>Losing stop losses percent</th>\n",
       "      <td>100.00%</td>\n",
       "    </tr>\n",
       "    <tr>\n",
       "      <th>Take profits triggered</th>\n",
       "      <td>0</td>\n",
       "    </tr>\n",
       "    <tr>\n",
       "      <th>Take profit % of all</th>\n",
       "      <td>0.00%</td>\n",
       "    </tr>\n",
       "    <tr>\n",
       "      <th>Take profit % of won</th>\n",
       "      <td>0.00%</td>\n",
       "    </tr>\n",
       "    <tr>\n",
       "      <th>Zero profit positions</th>\n",
       "      <td>0</td>\n",
       "    </tr>\n",
       "    <tr>\n",
       "      <th>Positions open at the end</th>\n",
       "      <td>0</td>\n",
       "    </tr>\n",
       "    <tr>\n",
       "      <th>Realised profit and loss</th>\n",
       "      <td>$-1,119.85</td>\n",
       "    </tr>\n",
       "    <tr>\n",
       "      <th>Portfolio unrealised value</th>\n",
       "      <td>$0.00</td>\n",
       "    </tr>\n",
       "    <tr>\n",
       "      <th>Extra returns on lending pool interest</th>\n",
       "      <td>$0.00</td>\n",
       "    </tr>\n",
       "    <tr>\n",
       "      <th>Cash left at the end</th>\n",
       "      <td>$8,880.15</td>\n",
       "    </tr>\n",
       "    <tr>\n",
       "      <th>Average winning position profit %</th>\n",
       "      <td>1.94%</td>\n",
       "    </tr>\n",
       "    <tr>\n",
       "      <th>Average losing position loss %</th>\n",
       "      <td>-1.53%</td>\n",
       "    </tr>\n",
       "    <tr>\n",
       "      <th>Biggest winning position %</th>\n",
       "      <td>6.19%</td>\n",
       "    </tr>\n",
       "    <tr>\n",
       "      <th>Biggest losing position %</th>\n",
       "      <td>-2.17%</td>\n",
       "    </tr>\n",
       "    <tr>\n",
       "      <th>Average duration of winning positions</th>\n",
       "      <td>0 days</td>\n",
       "    </tr>\n",
       "    <tr>\n",
       "      <th>Average duration of losing positions</th>\n",
       "      <td>0 days</td>\n",
       "    </tr>\n",
       "    <tr>\n",
       "      <th>LP fees paid</th>\n",
       "      <td>$781.67</td>\n",
       "    </tr>\n",
       "    <tr>\n",
       "      <th>LP fees paid % of volume</th>\n",
       "      <td>0.30%</td>\n",
       "    </tr>\n",
       "    <tr>\n",
       "      <th>Average position:</th>\n",
       "      <td>-0.83%</td>\n",
       "    </tr>\n",
       "    <tr>\n",
       "      <th>Median position:</th>\n",
       "      <td>-1.43%</td>\n",
       "    </tr>\n",
       "    <tr>\n",
       "      <th>Most consecutive wins</th>\n",
       "      <td>2</td>\n",
       "    </tr>\n",
       "    <tr>\n",
       "      <th>Most consecutive losses</th>\n",
       "      <td>10</td>\n",
       "    </tr>\n",
       "    <tr>\n",
       "      <th>Biggest realized risk</th>\n",
       "      <td>-1.52%</td>\n",
       "    </tr>\n",
       "    <tr>\n",
       "      <th>Avg realised risk</th>\n",
       "      <td>-1.07%</td>\n",
       "    </tr>\n",
       "    <tr>\n",
       "      <th>Max pullback of total capital</th>\n",
       "      <td>-11.23%</td>\n",
       "    </tr>\n",
       "    <tr>\n",
       "      <th>Max loss risk at opening of position</th>\n",
       "      <td>0.70%</td>\n",
       "    </tr>\n",
       "  </tbody>\n",
       "</table>\n",
       "</div>"
      ],
      "text/plain": [
       "                                                  0\n",
       "Trading period length                       14 days\n",
       "Return %                                    -11.20%\n",
       "Annualised return %                        -284.14%\n",
       "Cash at start                            $10,000.00\n",
       "Value at end                              $8,880.15\n",
       "Trade volume                            $260,167.56\n",
       "Position win percent                         20.00%\n",
       "Total positions                                  20\n",
       "Won positions                                     4\n",
       "Lost positions                                   16\n",
       "Stop losses triggered                            16\n",
       "Stop loss % of all                           80.00%\n",
       "Stop loss % of lost                         100.00%\n",
       "Winning stop losses                               0\n",
       "Winning stop losses percent                   0.00%\n",
       "Losing stop losses                               16\n",
       "Losing stop losses percent                  100.00%\n",
       "Take profits triggered                            0\n",
       "Take profit % of all                          0.00%\n",
       "Take profit % of won                          0.00%\n",
       "Zero profit positions                             0\n",
       "Positions open at the end                         0\n",
       "Realised profit and loss                 $-1,119.85\n",
       "Portfolio unrealised value                    $0.00\n",
       "Extra returns on lending pool interest        $0.00\n",
       "Cash left at the end                      $8,880.15\n",
       "Average winning position profit %             1.94%\n",
       "Average losing position loss %               -1.53%\n",
       "Biggest winning position %                    6.19%\n",
       "Biggest losing position %                    -2.17%\n",
       "Average duration of winning positions        0 days\n",
       "Average duration of losing positions         0 days\n",
       "LP fees paid                                $781.67\n",
       "LP fees paid % of volume                      0.30%\n",
       "Average position:                            -0.83%\n",
       "Median position:                             -1.43%\n",
       "Most consecutive wins                             2\n",
       "Most consecutive losses                          10\n",
       "Biggest realized risk                        -1.52%\n",
       "Avg realised risk                            -1.07%\n",
       "Max pullback of total capital               -11.23%\n",
       "Max loss risk at opening of position          0.70%"
      ]
     },
     "metadata": {},
     "output_type": "display_data"
    }
   ],
   "source": [
    "from IPython.core.display_functions import display\n",
    "\n",
    "summary = analysis.calculate_summary_statistics()\n",
    "\n",
    "with pd.option_context(\"display.max_row\", None):\n",
    "    display(summary.to_dataframe())"
   ]
  },
  {
   "cell_type": "code",
   "execution_count": 19,
   "metadata": {},
   "outputs": [
    {
     "data": {
      "text/html": [
       "<style type=\"text/css\">\n",
       "#T_ad81a td.col2 {\n",
       "  white-space: nowrap;\n",
       "}\n",
       "#T_ad81a td.col4 {\n",
       "  white-space: nowrap;\n",
       "}\n",
       "#T_ad81a_row0_col1, #T_ad81a_row0_col2, #T_ad81a_row0_col3, #T_ad81a_row0_col4, #T_ad81a_row0_col5, #T_ad81a_row0_col6, #T_ad81a_row0_col7, #T_ad81a_row0_col8, #T_ad81a_row0_col9, #T_ad81a_row0_col11, #T_ad81a_row0_col12, #T_ad81a_row0_col13, #T_ad81a_row0_col14, #T_ad81a_row1_col1, #T_ad81a_row1_col2, #T_ad81a_row1_col3, #T_ad81a_row1_col4, #T_ad81a_row1_col5, #T_ad81a_row1_col6, #T_ad81a_row1_col7, #T_ad81a_row1_col8, #T_ad81a_row1_col9, #T_ad81a_row1_col11, #T_ad81a_row1_col12, #T_ad81a_row1_col13, #T_ad81a_row1_col14, #T_ad81a_row2_col1, #T_ad81a_row2_col2, #T_ad81a_row2_col3, #T_ad81a_row2_col4, #T_ad81a_row2_col5, #T_ad81a_row2_col6, #T_ad81a_row2_col7, #T_ad81a_row2_col8, #T_ad81a_row2_col9, #T_ad81a_row2_col11, #T_ad81a_row2_col12, #T_ad81a_row2_col13, #T_ad81a_row2_col14, #T_ad81a_row3_col1, #T_ad81a_row3_col2, #T_ad81a_row3_col3, #T_ad81a_row3_col4, #T_ad81a_row3_col5, #T_ad81a_row3_col6, #T_ad81a_row3_col7, #T_ad81a_row3_col8, #T_ad81a_row3_col9, #T_ad81a_row3_col11, #T_ad81a_row3_col12, #T_ad81a_row3_col13, #T_ad81a_row3_col14, #T_ad81a_row4_col1, #T_ad81a_row4_col2, #T_ad81a_row4_col3, #T_ad81a_row4_col4, #T_ad81a_row4_col5, #T_ad81a_row4_col6, #T_ad81a_row4_col7, #T_ad81a_row4_col8, #T_ad81a_row4_col9, #T_ad81a_row4_col11, #T_ad81a_row4_col12, #T_ad81a_row4_col13, #T_ad81a_row4_col14, #T_ad81a_row5_col1, #T_ad81a_row5_col2, #T_ad81a_row5_col3, #T_ad81a_row5_col4, #T_ad81a_row5_col5, #T_ad81a_row5_col6, #T_ad81a_row5_col7, #T_ad81a_row5_col8, #T_ad81a_row5_col9, #T_ad81a_row5_col11, #T_ad81a_row5_col12, #T_ad81a_row5_col13, #T_ad81a_row5_col14, #T_ad81a_row6_col1, #T_ad81a_row6_col2, #T_ad81a_row6_col3, #T_ad81a_row6_col4, #T_ad81a_row6_col5, #T_ad81a_row6_col6, #T_ad81a_row6_col7, #T_ad81a_row6_col8, #T_ad81a_row6_col9, #T_ad81a_row6_col11, #T_ad81a_row6_col12, #T_ad81a_row6_col13, #T_ad81a_row6_col14, #T_ad81a_row7_col1, #T_ad81a_row7_col2, #T_ad81a_row7_col3, #T_ad81a_row7_col4, #T_ad81a_row7_col5, #T_ad81a_row7_col6, #T_ad81a_row7_col7, #T_ad81a_row7_col8, #T_ad81a_row7_col9, #T_ad81a_row7_col11, #T_ad81a_row7_col12, #T_ad81a_row7_col13, #T_ad81a_row7_col14, #T_ad81a_row8_col1, #T_ad81a_row8_col2, #T_ad81a_row8_col3, #T_ad81a_row8_col4, #T_ad81a_row8_col5, #T_ad81a_row8_col6, #T_ad81a_row8_col7, #T_ad81a_row8_col8, #T_ad81a_row8_col9, #T_ad81a_row8_col11, #T_ad81a_row8_col12, #T_ad81a_row8_col13, #T_ad81a_row8_col14, #T_ad81a_row9_col1, #T_ad81a_row9_col2, #T_ad81a_row9_col3, #T_ad81a_row9_col4, #T_ad81a_row9_col5, #T_ad81a_row9_col6, #T_ad81a_row9_col7, #T_ad81a_row9_col8, #T_ad81a_row9_col9, #T_ad81a_row9_col11, #T_ad81a_row9_col12, #T_ad81a_row9_col13, #T_ad81a_row9_col14, #T_ad81a_row11_col1, #T_ad81a_row11_col2, #T_ad81a_row11_col3, #T_ad81a_row11_col4, #T_ad81a_row11_col5, #T_ad81a_row11_col6, #T_ad81a_row11_col7, #T_ad81a_row11_col8, #T_ad81a_row11_col9, #T_ad81a_row11_col11, #T_ad81a_row11_col12, #T_ad81a_row11_col13, #T_ad81a_row11_col14, #T_ad81a_row12_col1, #T_ad81a_row12_col2, #T_ad81a_row12_col3, #T_ad81a_row12_col4, #T_ad81a_row12_col5, #T_ad81a_row12_col6, #T_ad81a_row12_col7, #T_ad81a_row12_col8, #T_ad81a_row12_col9, #T_ad81a_row12_col11, #T_ad81a_row12_col12, #T_ad81a_row12_col13, #T_ad81a_row12_col14, #T_ad81a_row14_col1, #T_ad81a_row14_col2, #T_ad81a_row14_col3, #T_ad81a_row14_col4, #T_ad81a_row14_col5, #T_ad81a_row14_col6, #T_ad81a_row14_col7, #T_ad81a_row14_col8, #T_ad81a_row14_col9, #T_ad81a_row14_col11, #T_ad81a_row14_col12, #T_ad81a_row14_col13, #T_ad81a_row14_col14, #T_ad81a_row17_col1, #T_ad81a_row17_col2, #T_ad81a_row17_col3, #T_ad81a_row17_col4, #T_ad81a_row17_col5, #T_ad81a_row17_col6, #T_ad81a_row17_col7, #T_ad81a_row17_col8, #T_ad81a_row17_col9, #T_ad81a_row17_col11, #T_ad81a_row17_col12, #T_ad81a_row17_col13, #T_ad81a_row17_col14, #T_ad81a_row18_col1, #T_ad81a_row18_col2, #T_ad81a_row18_col3, #T_ad81a_row18_col4, #T_ad81a_row18_col5, #T_ad81a_row18_col6, #T_ad81a_row18_col7, #T_ad81a_row18_col8, #T_ad81a_row18_col9, #T_ad81a_row18_col11, #T_ad81a_row18_col12, #T_ad81a_row18_col13, #T_ad81a_row18_col14, #T_ad81a_row19_col1, #T_ad81a_row19_col2, #T_ad81a_row19_col3, #T_ad81a_row19_col4, #T_ad81a_row19_col5, #T_ad81a_row19_col6, #T_ad81a_row19_col7, #T_ad81a_row19_col8, #T_ad81a_row19_col9, #T_ad81a_row19_col11, #T_ad81a_row19_col12, #T_ad81a_row19_col13, #T_ad81a_row19_col14 {\n",
       "  background-color: LightSalmon;\n",
       "}\n",
       "#T_ad81a_row10_col1, #T_ad81a_row10_col2, #T_ad81a_row10_col3, #T_ad81a_row10_col4, #T_ad81a_row10_col5, #T_ad81a_row10_col6, #T_ad81a_row10_col7, #T_ad81a_row10_col8, #T_ad81a_row10_col9, #T_ad81a_row10_col11, #T_ad81a_row10_col12, #T_ad81a_row10_col13, #T_ad81a_row10_col14 {\n",
       "  background-color: LawnGreen;\n",
       "}\n",
       "#T_ad81a_row13_col1, #T_ad81a_row13_col2, #T_ad81a_row13_col3, #T_ad81a_row13_col4, #T_ad81a_row13_col5, #T_ad81a_row13_col6, #T_ad81a_row13_col7, #T_ad81a_row13_col8, #T_ad81a_row13_col9, #T_ad81a_row13_col11, #T_ad81a_row13_col12, #T_ad81a_row13_col13, #T_ad81a_row13_col14, #T_ad81a_row15_col1, #T_ad81a_row15_col2, #T_ad81a_row15_col3, #T_ad81a_row15_col4, #T_ad81a_row15_col5, #T_ad81a_row15_col6, #T_ad81a_row15_col7, #T_ad81a_row15_col8, #T_ad81a_row15_col9, #T_ad81a_row15_col11, #T_ad81a_row15_col12, #T_ad81a_row15_col13, #T_ad81a_row15_col14, #T_ad81a_row16_col1, #T_ad81a_row16_col2, #T_ad81a_row16_col3, #T_ad81a_row16_col4, #T_ad81a_row16_col5, #T_ad81a_row16_col6, #T_ad81a_row16_col7, #T_ad81a_row16_col8, #T_ad81a_row16_col9, #T_ad81a_row16_col11, #T_ad81a_row16_col12, #T_ad81a_row16_col13, #T_ad81a_row16_col14 {\n",
       "  background-color: PaleGreen;\n",
       "}\n",
       "</style>\n",
       "<table id=\"T_ad81a\">\n",
       "  <thead>\n",
       "    <tr>\n",
       "      <th id=\"T_ad81a_level0_col1\" class=\"col_heading level0 col1\" >Remarks</th>\n",
       "      <th id=\"T_ad81a_level0_col2\" class=\"col_heading level0 col2\" >Opened at</th>\n",
       "      <th id=\"T_ad81a_level0_col3\" class=\"col_heading level0 col3\" >Duration</th>\n",
       "      <th id=\"T_ad81a_level0_col4\" class=\"col_heading level0 col4\" >Exchange</th>\n",
       "      <th id=\"T_ad81a_level0_col5\" class=\"col_heading level0 col5\" >Base asset</th>\n",
       "      <th id=\"T_ad81a_level0_col6\" class=\"col_heading level0 col6\" >Quote asset</th>\n",
       "      <th id=\"T_ad81a_level0_col7\" class=\"col_heading level0 col7\" >Position max value</th>\n",
       "      <th id=\"T_ad81a_level0_col8\" class=\"col_heading level0 col8\" >PnL USD</th>\n",
       "      <th id=\"T_ad81a_level0_col9\" class=\"col_heading level0 col9\" >PnL %</th>\n",
       "      <th id=\"T_ad81a_level0_col11\" class=\"col_heading level0 col11\" >Open mid price USD</th>\n",
       "      <th id=\"T_ad81a_level0_col12\" class=\"col_heading level0 col12\" >Close mid price USD</th>\n",
       "      <th id=\"T_ad81a_level0_col13\" class=\"col_heading level0 col13\" >Trade count</th>\n",
       "      <th id=\"T_ad81a_level0_col14\" class=\"col_heading level0 col14\" >LP fees</th>\n",
       "    </tr>\n",
       "  </thead>\n",
       "  <tbody>\n",
       "    <tr>\n",
       "      <td id=\"T_ad81a_row0_col1\" class=\"data row0 col1\" >SL</td>\n",
       "      <td id=\"T_ad81a_row0_col2\" class=\"data row0 col2\" >2022-01-02</td>\n",
       "      <td id=\"T_ad81a_row0_col3\" class=\"data row0 col3\" >  15 mins    </td>\n",
       "      <td id=\"T_ad81a_row0_col4\" class=\"data row0 col4\" >Trader Joe</td>\n",
       "      <td id=\"T_ad81a_row0_col5\" class=\"data row0 col5\" >WAVAX</td>\n",
       "      <td id=\"T_ad81a_row0_col6\" class=\"data row0 col6\" >USDC</td>\n",
       "      <td id=\"T_ad81a_row0_col7\" class=\"data row0 col7\" >$7,000.00</td>\n",
       "      <td id=\"T_ad81a_row0_col8\" class=\"data row0 col8\" >$-98.53</td>\n",
       "      <td id=\"T_ad81a_row0_col9\" class=\"data row0 col9\" >-1.41%</td>\n",
       "      <td id=\"T_ad81a_row0_col11\" class=\"data row0 col11\" >$115.306527</td>\n",
       "      <td id=\"T_ad81a_row0_col12\" class=\"data row0 col12\" >$113.683489</td>\n",
       "      <td id=\"T_ad81a_row0_col13\" class=\"data row0 col13\" >2</td>\n",
       "      <td id=\"T_ad81a_row0_col14\" class=\"data row0 col14\" >$41.77</td>\n",
       "    </tr>\n",
       "    <tr>\n",
       "      <td id=\"T_ad81a_row1_col1\" class=\"data row1 col1\" >SL</td>\n",
       "      <td id=\"T_ad81a_row1_col2\" class=\"data row1 col2\" >2022-01-02</td>\n",
       "      <td id=\"T_ad81a_row1_col3\" class=\"data row1 col3\" > 5 hours 15 mins    </td>\n",
       "      <td id=\"T_ad81a_row1_col4\" class=\"data row1 col4\" >Trader Joe</td>\n",
       "      <td id=\"T_ad81a_row1_col5\" class=\"data row1 col5\" >WAVAX</td>\n",
       "      <td id=\"T_ad81a_row1_col6\" class=\"data row1 col6\" >USDC</td>\n",
       "      <td id=\"T_ad81a_row1_col7\" class=\"data row1 col7\" >$6,931.03</td>\n",
       "      <td id=\"T_ad81a_row1_col8\" class=\"data row1 col8\" >$-92.39</td>\n",
       "      <td id=\"T_ad81a_row1_col9\" class=\"data row1 col9\" >-1.33%</td>\n",
       "      <td id=\"T_ad81a_row1_col11\" class=\"data row1 col11\" >$112.595370</td>\n",
       "      <td id=\"T_ad81a_row1_col12\" class=\"data row1 col12\" >$111.094440</td>\n",
       "      <td id=\"T_ad81a_row1_col13\" class=\"data row1 col13\" >2</td>\n",
       "      <td id=\"T_ad81a_row1_col14\" class=\"data row1 col14\" >$41.37</td>\n",
       "    </tr>\n",
       "    <tr>\n",
       "      <td id=\"T_ad81a_row2_col1\" class=\"data row2 col1\" >SL</td>\n",
       "      <td id=\"T_ad81a_row2_col2\" class=\"data row2 col2\" >2022-01-04</td>\n",
       "      <td id=\"T_ad81a_row2_col3\" class=\"data row2 col3\" ></td>\n",
       "      <td id=\"T_ad81a_row2_col4\" class=\"data row2 col4\" >Trader Joe</td>\n",
       "      <td id=\"T_ad81a_row2_col5\" class=\"data row2 col5\" >WAVAX</td>\n",
       "      <td id=\"T_ad81a_row2_col6\" class=\"data row2 col6\" >USDC</td>\n",
       "      <td id=\"T_ad81a_row2_col7\" class=\"data row2 col7\" >$6,866.35</td>\n",
       "      <td id=\"T_ad81a_row2_col8\" class=\"data row2 col8\" >$-117.52</td>\n",
       "      <td id=\"T_ad81a_row2_col9\" class=\"data row2 col9\" >-1.71%</td>\n",
       "      <td id=\"T_ad81a_row2_col11\" class=\"data row2 col11\" >$104.982112</td>\n",
       "      <td id=\"T_ad81a_row2_col12\" class=\"data row2 col12\" >$103.185343</td>\n",
       "      <td id=\"T_ad81a_row2_col13\" class=\"data row2 col13\" >2</td>\n",
       "      <td id=\"T_ad81a_row2_col14\" class=\"data row2 col14\" >$40.91</td>\n",
       "    </tr>\n",
       "    <tr>\n",
       "      <td id=\"T_ad81a_row3_col1\" class=\"data row3 col1\" >SL</td>\n",
       "      <td id=\"T_ad81a_row3_col2\" class=\"data row3 col2\" >2022-01-05</td>\n",
       "      <td id=\"T_ad81a_row3_col3\" class=\"data row3 col3\" >  30 mins    </td>\n",
       "      <td id=\"T_ad81a_row3_col4\" class=\"data row3 col4\" >Trader Joe</td>\n",
       "      <td id=\"T_ad81a_row3_col5\" class=\"data row3 col5\" >WAVAX</td>\n",
       "      <td id=\"T_ad81a_row3_col6\" class=\"data row3 col6\" >USDC</td>\n",
       "      <td id=\"T_ad81a_row3_col7\" class=\"data row3 col7\" >$6,784.09</td>\n",
       "      <td id=\"T_ad81a_row3_col8\" class=\"data row3 col8\" >$-107.19</td>\n",
       "      <td id=\"T_ad81a_row3_col9\" class=\"data row3 col9\" >-1.58%</td>\n",
       "      <td id=\"T_ad81a_row3_col11\" class=\"data row3 col11\" >$105.542074</td>\n",
       "      <td id=\"T_ad81a_row3_col12\" class=\"data row3 col12\" >$103.874472</td>\n",
       "      <td id=\"T_ad81a_row3_col13\" class=\"data row3 col13\" >2</td>\n",
       "      <td id=\"T_ad81a_row3_col14\" class=\"data row3 col14\" >$40.44</td>\n",
       "    </tr>\n",
       "    <tr>\n",
       "      <td id=\"T_ad81a_row4_col1\" class=\"data row4 col1\" >SL</td>\n",
       "      <td id=\"T_ad81a_row4_col2\" class=\"data row4 col2\" >2022-01-05</td>\n",
       "      <td id=\"T_ad81a_row4_col3\" class=\"data row4 col3\" > 6 hours     </td>\n",
       "      <td id=\"T_ad81a_row4_col4\" class=\"data row4 col4\" >Trader Joe</td>\n",
       "      <td id=\"T_ad81a_row4_col5\" class=\"data row4 col5\" >WAVAX</td>\n",
       "      <td id=\"T_ad81a_row4_col6\" class=\"data row4 col6\" >USDC</td>\n",
       "      <td id=\"T_ad81a_row4_col7\" class=\"data row4 col7\" >$6,709.06</td>\n",
       "      <td id=\"T_ad81a_row4_col8\" class=\"data row4 col8\" >$-100.56</td>\n",
       "      <td id=\"T_ad81a_row4_col9\" class=\"data row4 col9\" >-1.50%</td>\n",
       "      <td id=\"T_ad81a_row4_col11\" class=\"data row4 col11\" >$104.404251</td>\n",
       "      <td id=\"T_ad81a_row4_col12\" class=\"data row4 col12\" >$102.839414</td>\n",
       "      <td id=\"T_ad81a_row4_col13\" class=\"data row4 col13\" >2</td>\n",
       "      <td id=\"T_ad81a_row4_col14\" class=\"data row4 col14\" >$40.01</td>\n",
       "    </tr>\n",
       "    <tr>\n",
       "      <td id=\"T_ad81a_row5_col1\" class=\"data row5 col1\" >SL</td>\n",
       "      <td id=\"T_ad81a_row5_col2\" class=\"data row5 col2\" >2022-01-06</td>\n",
       "      <td id=\"T_ad81a_row5_col3\" class=\"data row5 col3\" ></td>\n",
       "      <td id=\"T_ad81a_row5_col4\" class=\"data row5 col4\" >Trader Joe</td>\n",
       "      <td id=\"T_ad81a_row5_col5\" class=\"data row5 col5\" >WAVAX</td>\n",
       "      <td id=\"T_ad81a_row5_col6\" class=\"data row5 col6\" >USDC</td>\n",
       "      <td id=\"T_ad81a_row5_col7\" class=\"data row5 col7\" >$6,638.67</td>\n",
       "      <td id=\"T_ad81a_row5_col8\" class=\"data row5 col8\" >$-87.06</td>\n",
       "      <td id=\"T_ad81a_row5_col9\" class=\"data row5 col9\" >-1.31%</td>\n",
       "      <td id=\"T_ad81a_row5_col11\" class=\"data row5 col11\" >$94.784527</td>\n",
       "      <td id=\"T_ad81a_row5_col12\" class=\"data row5 col12\" >$93.541543</td>\n",
       "      <td id=\"T_ad81a_row5_col13\" class=\"data row5 col13\" >2</td>\n",
       "      <td id=\"T_ad81a_row5_col14\" class=\"data row5 col14\" >$39.63</td>\n",
       "    </tr>\n",
       "    <tr>\n",
       "      <td id=\"T_ad81a_row6_col1\" class=\"data row6 col1\" >SL</td>\n",
       "      <td id=\"T_ad81a_row6_col2\" class=\"data row6 col2\" >2022-01-07</td>\n",
       "      <td id=\"T_ad81a_row6_col3\" class=\"data row6 col3\" > 1 hours     </td>\n",
       "      <td id=\"T_ad81a_row6_col4\" class=\"data row6 col4\" >Trader Joe</td>\n",
       "      <td id=\"T_ad81a_row6_col5\" class=\"data row6 col5\" >WAVAX</td>\n",
       "      <td id=\"T_ad81a_row6_col6\" class=\"data row6 col6\" >USDC</td>\n",
       "      <td id=\"T_ad81a_row6_col7\" class=\"data row6 col7\" >$6,577.73</td>\n",
       "      <td id=\"T_ad81a_row6_col8\" class=\"data row6 col8\" >$-112.00</td>\n",
       "      <td id=\"T_ad81a_row6_col9\" class=\"data row6 col9\" >-1.70%</td>\n",
       "      <td id=\"T_ad81a_row6_col11\" class=\"data row6 col11\" >$91.892381</td>\n",
       "      <td id=\"T_ad81a_row6_col12\" class=\"data row6 col12\" >$90.327761</td>\n",
       "      <td id=\"T_ad81a_row6_col13\" class=\"data row6 col13\" >2</td>\n",
       "      <td id=\"T_ad81a_row6_col14\" class=\"data row6 col14\" >$39.19</td>\n",
       "    </tr>\n",
       "    <tr>\n",
       "      <td id=\"T_ad81a_row7_col1\" class=\"data row7 col1\" >SL</td>\n",
       "      <td id=\"T_ad81a_row7_col2\" class=\"data row7 col2\" >2022-01-08</td>\n",
       "      <td id=\"T_ad81a_row7_col3\" class=\"data row7 col3\" >  45 mins    </td>\n",
       "      <td id=\"T_ad81a_row7_col4\" class=\"data row7 col4\" >Trader Joe</td>\n",
       "      <td id=\"T_ad81a_row7_col5\" class=\"data row7 col5\" >WAVAX</td>\n",
       "      <td id=\"T_ad81a_row7_col6\" class=\"data row7 col6\" >USDC</td>\n",
       "      <td id=\"T_ad81a_row7_col7\" class=\"data row7 col7\" >$6,499.33</td>\n",
       "      <td id=\"T_ad81a_row7_col8\" class=\"data row7 col8\" >$-103.77</td>\n",
       "      <td id=\"T_ad81a_row7_col9\" class=\"data row7 col9\" >-1.60%</td>\n",
       "      <td id=\"T_ad81a_row7_col11\" class=\"data row7 col11\" >$85.995464</td>\n",
       "      <td id=\"T_ad81a_row7_col12\" class=\"data row7 col12\" >$84.622379</td>\n",
       "      <td id=\"T_ad81a_row7_col13\" class=\"data row7 col13\" >2</td>\n",
       "      <td id=\"T_ad81a_row7_col14\" class=\"data row7 col14\" >$38.74</td>\n",
       "    </tr>\n",
       "    <tr>\n",
       "      <td id=\"T_ad81a_row8_col1\" class=\"data row8 col1\" >SL</td>\n",
       "      <td id=\"T_ad81a_row8_col2\" class=\"data row8 col2\" >2022-01-09</td>\n",
       "      <td id=\"T_ad81a_row8_col3\" class=\"data row8 col3\" ></td>\n",
       "      <td id=\"T_ad81a_row8_col4\" class=\"data row8 col4\" >Trader Joe</td>\n",
       "      <td id=\"T_ad81a_row8_col5\" class=\"data row8 col5\" >WAVAX</td>\n",
       "      <td id=\"T_ad81a_row8_col6\" class=\"data row8 col6\" >USDC</td>\n",
       "      <td id=\"T_ad81a_row8_col7\" class=\"data row8 col7\" >$6,426.69</td>\n",
       "      <td id=\"T_ad81a_row8_col8\" class=\"data row8 col8\" >$-98.25</td>\n",
       "      <td id=\"T_ad81a_row8_col9\" class=\"data row8 col9\" >-1.53%</td>\n",
       "      <td id=\"T_ad81a_row8_col11\" class=\"data row8 col11\" >$85.210823</td>\n",
       "      <td id=\"T_ad81a_row8_col12\" class=\"data row8 col12\" >$83.908122</td>\n",
       "      <td id=\"T_ad81a_row8_col13\" class=\"data row8 col13\" >2</td>\n",
       "      <td id=\"T_ad81a_row8_col14\" class=\"data row8 col14\" >$38.32</td>\n",
       "    </tr>\n",
       "    <tr>\n",
       "      <td id=\"T_ad81a_row9_col1\" class=\"data row9 col1\" >SL</td>\n",
       "      <td id=\"T_ad81a_row9_col2\" class=\"data row9 col2\" >2022-01-09</td>\n",
       "      <td id=\"T_ad81a_row9_col3\" class=\"data row9 col3\" >  15 mins    </td>\n",
       "      <td id=\"T_ad81a_row9_col4\" class=\"data row9 col4\" >Trader Joe</td>\n",
       "      <td id=\"T_ad81a_row9_col5\" class=\"data row9 col5\" >WAVAX</td>\n",
       "      <td id=\"T_ad81a_row9_col6\" class=\"data row9 col6\" >USDC</td>\n",
       "      <td id=\"T_ad81a_row9_col7\" class=\"data row9 col7\" >$6,357.91</td>\n",
       "      <td id=\"T_ad81a_row9_col8\" class=\"data row9 col8\" >$-92.51</td>\n",
       "      <td id=\"T_ad81a_row9_col9\" class=\"data row9 col9\" >-1.46%</td>\n",
       "      <td id=\"T_ad81a_row9_col11\" class=\"data row9 col11\" >$84.263573</td>\n",
       "      <td id=\"T_ad81a_row9_col12\" class=\"data row9 col12\" >$83.037531</td>\n",
       "      <td id=\"T_ad81a_row9_col13\" class=\"data row9 col13\" >2</td>\n",
       "      <td id=\"T_ad81a_row9_col14\" class=\"data row9 col14\" >$37.93</td>\n",
       "    </tr>\n",
       "    <tr>\n",
       "      <td id=\"T_ad81a_row10_col1\" class=\"data row10 col1\" ></td>\n",
       "      <td id=\"T_ad81a_row10_col2\" class=\"data row10 col2\" >2022-01-09</td>\n",
       "      <td id=\"T_ad81a_row10_col3\" class=\"data row10 col3\" > 4 hours     </td>\n",
       "      <td id=\"T_ad81a_row10_col4\" class=\"data row10 col4\" >Trader Joe</td>\n",
       "      <td id=\"T_ad81a_row10_col5\" class=\"data row10 col5\" >WAVAX</td>\n",
       "      <td id=\"T_ad81a_row10_col6\" class=\"data row10 col6\" >USDC</td>\n",
       "      <td id=\"T_ad81a_row10_col7\" class=\"data row10 col7\" >$6,293.16</td>\n",
       "      <td id=\"T_ad81a_row10_col8\" class=\"data row10 col8\" >$389.27</td>\n",
       "      <td id=\"T_ad81a_row10_col9\" class=\"data row10 col9\" >6.19%</td>\n",
       "      <td id=\"T_ad81a_row10_col11\" class=\"data row10 col11\" >$84.008534</td>\n",
       "      <td id=\"T_ad81a_row10_col12\" class=\"data row10 col12\" >$89.204997</td>\n",
       "      <td id=\"T_ad81a_row10_col13\" class=\"data row10 col13\" >2</td>\n",
       "      <td id=\"T_ad81a_row10_col14\" class=\"data row10 col14\" >$38.99</td>\n",
       "    </tr>\n",
       "    <tr>\n",
       "      <td id=\"T_ad81a_row11_col1\" class=\"data row11 col1\" >SL</td>\n",
       "      <td id=\"T_ad81a_row11_col2\" class=\"data row11 col2\" >2022-01-10</td>\n",
       "      <td id=\"T_ad81a_row11_col3\" class=\"data row11 col3\" > 2 hours     </td>\n",
       "      <td id=\"T_ad81a_row11_col4\" class=\"data row11 col4\" >Trader Joe</td>\n",
       "      <td id=\"T_ad81a_row11_col5\" class=\"data row11 col5\" >WAVAX</td>\n",
       "      <td id=\"T_ad81a_row11_col6\" class=\"data row11 col6\" >USDC</td>\n",
       "      <td id=\"T_ad81a_row11_col7\" class=\"data row11 col7\" >$6,565.65</td>\n",
       "      <td id=\"T_ad81a_row11_col8\" class=\"data row11 col8\" >$-142.60</td>\n",
       "      <td id=\"T_ad81a_row11_col9\" class=\"data row11 col9\" >-2.17%</td>\n",
       "      <td id=\"T_ad81a_row11_col11\" class=\"data row11 col11\" >$88.074699</td>\n",
       "      <td id=\"T_ad81a_row11_col12\" class=\"data row11 col12\" >$86.161795</td>\n",
       "      <td id=\"T_ad81a_row11_col13\" class=\"data row11 col13\" >2</td>\n",
       "      <td id=\"T_ad81a_row11_col14\" class=\"data row11 col14\" >$39.02</td>\n",
       "    </tr>\n",
       "    <tr>\n",
       "      <td id=\"T_ad81a_row12_col1\" class=\"data row12 col1\" >SL</td>\n",
       "      <td id=\"T_ad81a_row12_col2\" class=\"data row12 col2\" >2022-01-11</td>\n",
       "      <td id=\"T_ad81a_row12_col3\" class=\"data row12 col3\" >  15 mins    </td>\n",
       "      <td id=\"T_ad81a_row12_col4\" class=\"data row12 col4\" >Trader Joe</td>\n",
       "      <td id=\"T_ad81a_row12_col5\" class=\"data row12 col5\" >WAVAX</td>\n",
       "      <td id=\"T_ad81a_row12_col6\" class=\"data row12 col6\" >USDC</td>\n",
       "      <td id=\"T_ad81a_row12_col7\" class=\"data row12 col7\" >$6,465.83</td>\n",
       "      <td id=\"T_ad81a_row12_col8\" class=\"data row12 col8\" >$-104.61</td>\n",
       "      <td id=\"T_ad81a_row12_col9\" class=\"data row12 col9\" >-1.62%</td>\n",
       "      <td id=\"T_ad81a_row12_col11\" class=\"data row12 col11\" >$86.277035</td>\n",
       "      <td id=\"T_ad81a_row12_col12\" class=\"data row12 col12\" >$84.881147</td>\n",
       "      <td id=\"T_ad81a_row12_col13\" class=\"data row12 col13\" >2</td>\n",
       "      <td id=\"T_ad81a_row12_col14\" class=\"data row12 col14\" >$38.54</td>\n",
       "    </tr>\n",
       "    <tr>\n",
       "      <td id=\"T_ad81a_row13_col1\" class=\"data row13 col1\" ></td>\n",
       "      <td id=\"T_ad81a_row13_col2\" class=\"data row13 col2\" >2022-01-13</td>\n",
       "      <td id=\"T_ad81a_row13_col3\" class=\"data row13 col3\" > 4 hours     </td>\n",
       "      <td id=\"T_ad81a_row13_col4\" class=\"data row13 col4\" >Trader Joe</td>\n",
       "      <td id=\"T_ad81a_row13_col5\" class=\"data row13 col5\" >WAVAX</td>\n",
       "      <td id=\"T_ad81a_row13_col6\" class=\"data row13 col6\" >USDC</td>\n",
       "      <td id=\"T_ad81a_row13_col7\" class=\"data row13 col7\" >$6,392.60</td>\n",
       "      <td id=\"T_ad81a_row13_col8\" class=\"data row13 col8\" >$26.32</td>\n",
       "      <td id=\"T_ad81a_row13_col9\" class=\"data row13 col9\" >0.41%</td>\n",
       "      <td id=\"T_ad81a_row13_col11\" class=\"data row13 col11\" >$94.016297</td>\n",
       "      <td id=\"T_ad81a_row13_col12\" class=\"data row13 col12\" >$94.403430</td>\n",
       "      <td id=\"T_ad81a_row13_col13\" class=\"data row13 col13\" >2</td>\n",
       "      <td id=\"T_ad81a_row13_col14\" class=\"data row13 col14\" >$38.49</td>\n",
       "    </tr>\n",
       "    <tr>\n",
       "      <td id=\"T_ad81a_row14_col1\" class=\"data row14 col1\" >SL</td>\n",
       "      <td id=\"T_ad81a_row14_col2\" class=\"data row14 col2\" >2022-01-13</td>\n",
       "      <td id=\"T_ad81a_row14_col3\" class=\"data row14 col3\" > 1 hours 30 mins    </td>\n",
       "      <td id=\"T_ad81a_row14_col4\" class=\"data row14 col4\" >Trader Joe</td>\n",
       "      <td id=\"T_ad81a_row14_col5\" class=\"data row14 col5\" >WAVAX</td>\n",
       "      <td id=\"T_ad81a_row14_col6\" class=\"data row14 col6\" >USDC</td>\n",
       "      <td id=\"T_ad81a_row14_col7\" class=\"data row14 col7\" >$6,411.02</td>\n",
       "      <td id=\"T_ad81a_row14_col8\" class=\"data row14 col8\" >$-95.05</td>\n",
       "      <td id=\"T_ad81a_row14_col9\" class=\"data row14 col9\" >-1.48%</td>\n",
       "      <td id=\"T_ad81a_row14_col11\" class=\"data row14 col11\" >$92.299652</td>\n",
       "      <td id=\"T_ad81a_row14_col12\" class=\"data row14 col12\" >$90.931209</td>\n",
       "      <td id=\"T_ad81a_row14_col13\" class=\"data row14 col13\" >2</td>\n",
       "      <td id=\"T_ad81a_row14_col14\" class=\"data row14 col14\" >$38.24</td>\n",
       "    </tr>\n",
       "    <tr>\n",
       "      <td id=\"T_ad81a_row15_col1\" class=\"data row15 col1\" ></td>\n",
       "      <td id=\"T_ad81a_row15_col2\" class=\"data row15 col2\" >2022-01-14</td>\n",
       "      <td id=\"T_ad81a_row15_col3\" class=\"data row15 col3\" > 4 hours     </td>\n",
       "      <td id=\"T_ad81a_row15_col4\" class=\"data row15 col4\" >Trader Joe</td>\n",
       "      <td id=\"T_ad81a_row15_col5\" class=\"data row15 col5\" >WAVAX</td>\n",
       "      <td id=\"T_ad81a_row15_col6\" class=\"data row15 col6\" >USDC</td>\n",
       "      <td id=\"T_ad81a_row15_col7\" class=\"data row15 col7\" >$6,344.49</td>\n",
       "      <td id=\"T_ad81a_row15_col8\" class=\"data row15 col8\" >$38.27</td>\n",
       "      <td id=\"T_ad81a_row15_col9\" class=\"data row15 col9\" >0.60%</td>\n",
       "      <td id=\"T_ad81a_row15_col11\" class=\"data row15 col11\" >$89.610205</td>\n",
       "      <td id=\"T_ad81a_row15_col12\" class=\"data row15 col12\" >$90.150681</td>\n",
       "      <td id=\"T_ad81a_row15_col13\" class=\"data row15 col13\" >2</td>\n",
       "      <td id=\"T_ad81a_row15_col14\" class=\"data row15 col14\" >$38.24</td>\n",
       "    </tr>\n",
       "    <tr>\n",
       "      <td id=\"T_ad81a_row16_col1\" class=\"data row16 col1\" ></td>\n",
       "      <td id=\"T_ad81a_row16_col2\" class=\"data row16 col2\" >2022-01-15</td>\n",
       "      <td id=\"T_ad81a_row16_col3\" class=\"data row16 col3\" > 4 hours     </td>\n",
       "      <td id=\"T_ad81a_row16_col4\" class=\"data row16 col4\" >Trader Joe</td>\n",
       "      <td id=\"T_ad81a_row16_col5\" class=\"data row16 col5\" >WAVAX</td>\n",
       "      <td id=\"T_ad81a_row16_col6\" class=\"data row16 col6\" >USDC</td>\n",
       "      <td id=\"T_ad81a_row16_col7\" class=\"data row16 col7\" >$6,371.27</td>\n",
       "      <td id=\"T_ad81a_row16_col8\" class=\"data row16 col8\" >$36.33</td>\n",
       "      <td id=\"T_ad81a_row16_col9\" class=\"data row16 col9\" >0.57%</td>\n",
       "      <td id=\"T_ad81a_row16_col11\" class=\"data row16 col11\" >$89.676945</td>\n",
       "      <td id=\"T_ad81a_row16_col12\" class=\"data row16 col12\" >$90.188281</td>\n",
       "      <td id=\"T_ad81a_row16_col13\" class=\"data row16 col13\" >2</td>\n",
       "      <td id=\"T_ad81a_row16_col14\" class=\"data row16 col14\" >$38.39</td>\n",
       "    </tr>\n",
       "    <tr>\n",
       "      <td id=\"T_ad81a_row17_col1\" class=\"data row17 col1\" >SL</td>\n",
       "      <td id=\"T_ad81a_row17_col2\" class=\"data row17 col2\" >2022-01-15</td>\n",
       "      <td id=\"T_ad81a_row17_col3\" class=\"data row17 col3\" ></td>\n",
       "      <td id=\"T_ad81a_row17_col4\" class=\"data row17 col4\" >Trader Joe</td>\n",
       "      <td id=\"T_ad81a_row17_col5\" class=\"data row17 col5\" >WAVAX</td>\n",
       "      <td id=\"T_ad81a_row17_col6\" class=\"data row17 col6\" >USDC</td>\n",
       "      <td id=\"T_ad81a_row17_col7\" class=\"data row17 col7\" >$6,396.71</td>\n",
       "      <td id=\"T_ad81a_row17_col8\" class=\"data row17 col8\" >$-85.16</td>\n",
       "      <td id=\"T_ad81a_row17_col9\" class=\"data row17 col9\" >-1.33%</td>\n",
       "      <td id=\"T_ad81a_row17_col11\" class=\"data row17 col11\" >$91.741537</td>\n",
       "      <td id=\"T_ad81a_row17_col12\" class=\"data row17 col12\" >$90.520193</td>\n",
       "      <td id=\"T_ad81a_row17_col13\" class=\"data row17 col13\" >2</td>\n",
       "      <td id=\"T_ad81a_row17_col14\" class=\"data row17 col14\" >$38.18</td>\n",
       "    </tr>\n",
       "    <tr>\n",
       "      <td id=\"T_ad81a_row18_col1\" class=\"data row18 col1\" >SL</td>\n",
       "      <td id=\"T_ad81a_row18_col2\" class=\"data row18 col2\" >2022-01-16</td>\n",
       "      <td id=\"T_ad81a_row18_col3\" class=\"data row18 col3\" > 2 hours 15 mins    </td>\n",
       "      <td id=\"T_ad81a_row18_col4\" class=\"data row18 col4\" >Trader Joe</td>\n",
       "      <td id=\"T_ad81a_row18_col5\" class=\"data row18 col5\" >WAVAX</td>\n",
       "      <td id=\"T_ad81a_row18_col6\" class=\"data row18 col6\" >USDC</td>\n",
       "      <td id=\"T_ad81a_row18_col7\" class=\"data row18 col7\" >$6,337.09</td>\n",
       "      <td id=\"T_ad81a_row18_col8\" class=\"data row18 col8\" >$-88.64</td>\n",
       "      <td id=\"T_ad81a_row18_col9\" class=\"data row18 col9\" >-1.40%</td>\n",
       "      <td id=\"T_ad81a_row18_col11\" class=\"data row18 col11\" >$92.400649</td>\n",
       "      <td id=\"T_ad81a_row18_col12\" class=\"data row18 col12\" >$91.108146</td>\n",
       "      <td id=\"T_ad81a_row18_col13\" class=\"data row18 col13\" >2</td>\n",
       "      <td id=\"T_ad81a_row18_col14\" class=\"data row18 col14\" >$37.81</td>\n",
       "    </tr>\n",
       "    <tr>\n",
       "      <td id=\"T_ad81a_row19_col1\" class=\"data row19 col1\" >SL</td>\n",
       "      <td id=\"T_ad81a_row19_col2\" class=\"data row19 col2\" >2022-01-16</td>\n",
       "      <td id=\"T_ad81a_row19_col3\" class=\"data row19 col3\" > 5 hours 15 mins    </td>\n",
       "      <td id=\"T_ad81a_row19_col4\" class=\"data row19 col4\" >Trader Joe</td>\n",
       "      <td id=\"T_ad81a_row19_col5\" class=\"data row19 col5\" >WAVAX</td>\n",
       "      <td id=\"T_ad81a_row19_col6\" class=\"data row19 col6\" >USDC</td>\n",
       "      <td id=\"T_ad81a_row19_col7\" class=\"data row19 col7\" >$6,275.04</td>\n",
       "      <td id=\"T_ad81a_row19_col8\" class=\"data row19 col8\" >$-84.20</td>\n",
       "      <td id=\"T_ad81a_row19_col9\" class=\"data row19 col9\" >-1.34%</td>\n",
       "      <td id=\"T_ad81a_row19_col11\" class=\"data row19 col11\" >$92.751661</td>\n",
       "      <td id=\"T_ad81a_row19_col12\" class=\"data row19 col12\" >$91.507108</td>\n",
       "      <td id=\"T_ad81a_row19_col13\" class=\"data row19 col13\" >2</td>\n",
       "      <td id=\"T_ad81a_row19_col14\" class=\"data row19 col14\" >$37.45</td>\n",
       "    </tr>\n",
       "  </tbody>\n",
       "</table>\n"
      ],
      "text/plain": [
       "<pandas.io.formats.style.Styler at 0x7fb17ece8ac0>"
      ]
     },
     "metadata": {},
     "output_type": "display_data"
    }
   ],
   "source": [
    "from tradeexecutor.analysis.trade_analyser import expand_timeline\n",
    "\n",
    "timeline = analysis.create_timeline()\n",
    "\n",
    "expanded_timeline, apply_styles = expand_timeline(\n",
    "        universe.universe.exchanges,\n",
    "        universe.universe.pairs,\n",
    "        timeline)\n",
    "\n",
    "# Do not truncate the row output\n",
    "with pd.option_context(\"display.max_row\", None):\n",
    "    display(apply_styles(expanded_timeline))"
   ]
  },
  {
   "cell_type": "code",
   "execution_count": null,
   "metadata": {},
   "outputs": [],
   "source": []
  }
 ],
 "metadata": {
  "kernelspec": {
   "display_name": "Python 3 (ipykernel)",
   "language": "python",
   "name": "python3"
  },
  "language_info": {
   "codemirror_mode": {
    "name": "ipython",
    "version": 3
   },
   "file_extension": ".py",
   "mimetype": "text/x-python",
   "name": "python",
   "nbconvert_exporter": "python",
   "pygments_lexer": "ipython3",
   "version": "3.10.8"
  },
  "vscode": {
   "interpreter": {
    "hash": "30902ce71bdff02eda16dbc4024e7c2dd1105d1a637ef613944329989441fc28"
   }
  }
 },
 "nbformat": 4,
 "nbformat_minor": 4
}
