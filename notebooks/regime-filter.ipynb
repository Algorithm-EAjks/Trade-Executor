{
 "cells": [
  {
   "cell_type": "markdown",
   "source": [
    "# Market regime filter example\n",
    "\n",
    "- Test out GaussianHMM\n",
    "- See https://www.quantstart.com/articles/market-regime-detection-using-hidden-markov-models-in-qstrader/"
   ],
   "metadata": {
    "collapsed": false
   }
  },
  {
   "cell_type": "markdown",
   "source": [
    "## Download data\n",
    "\n",
    "- Train on Binance daily data\n",
    "- Only consider major pairs (may cause survivorship bias)"
   ],
   "metadata": {
    "collapsed": false
   }
  },
  {
   "cell_type": "code",
   "execution_count": 19,
   "outputs": [
    {
     "data": {
      "text/plain": "  0%|          | 0/7 [00:00<?, ?it/s]",
      "application/vnd.jupyter.widget-view+json": {
       "version_major": 2,
       "version_minor": 0,
       "model_id": "a3841b4f721d4be6ab0fee3de0b7f4db"
      }
     },
     "metadata": {},
     "output_type": "display_data"
    }
   ],
   "source": [
    "import datetime\n",
    "from tradingstrategy.timebucket import TimeBucket\n",
    "from tradingstrategy.chain import ChainId\n",
    "from tradeexecutor.utils.binance import create_binance_universe\n",
    "\n",
    "strategy_universe = create_binance_universe(\n",
    "    [\"ETHUSDT\", \"MATICUSDT\", \"BTCUSDT\", \"SOLUSDT\", \"BNBUSDT\", \"DOGEUSDT\", \"XRPUSDT\"],   # Binance internal tickers later mapped to Trading strategy DEXPair metadata class\n",
    "    candle_time_bucket=TimeBucket.d1,\n",
    "    start_at=datetime.datetime(2018, 1, 1),  # Backtest for 5 years data\n",
    "    end_at=datetime.datetime(2024, 3, 10),\n",
    "    include_lending=False\n",
    ")\n"
   ],
   "metadata": {
    "collapsed": false,
    "ExecuteTime": {
     "end_time": "2024-03-14T23:59:51.048526Z",
     "start_time": "2024-03-14T23:59:50.926392Z"
    }
   }
  },
  {
   "cell_type": "markdown",
   "source": [
    "## Create returns series\n",
    "\n",
    "- For each pair, create returns series."
   ],
   "metadata": {
    "collapsed": false
   }
  },
  {
   "cell_type": "code",
   "execution_count": 20,
   "outputs": [
    {
     "data": {
      "text/plain": "            ETH-USDT  MATIC-USDT  BTC-USDT  SOL-USDT  BNB-USDT  DOGE-USDT  \\\ntimestamp                                                                   \n2020-08-12  0.021583    0.097699  0.015120  0.138639  0.009474   0.020645   \n2020-08-13  0.096493    0.073972  0.018650 -0.006869  0.012786   0.007831   \n2020-08-14  0.031964    0.038674 -0.001652 -0.085818  0.061470   0.024486   \n2020-08-15 -0.013216    0.065603  0.007811 -0.069474 -0.000718  -0.011279   \n2020-08-16  0.003007    0.002995  0.004944  0.067917  0.019096  -0.000736   \n...              ...         ...       ...       ...       ...        ...   \n2024-03-06  0.074554    0.082164  0.036878  0.043732  0.089571   0.031364   \n2024-03-07  0.013138    0.037829  0.011338  0.099625  0.105263  -0.001267   \n2024-03-08  0.003774   -0.030246  0.019470  0.006745  0.023599   0.043961   \n2024-03-09  0.005627    0.027723  0.002776 -0.003453  0.005146   0.086164   \n2024-03-10 -0.006847    0.061992  0.009407  0.000693  0.083146  -0.049119   \n\n            XRP-USDT  \ntimestamp             \n2020-08-12 -0.002720  \n2020-08-13  0.042043  \n2020-08-14  0.019545  \n2020-08-15 -0.003701  \n2020-08-16  0.019107  \n...              ...  \n2024-03-06  0.035352  \n2024-03-07  0.024342  \n2024-03-08 -0.011164  \n2024-03-09 -0.000484  \n2024-03-10 -0.018880  \n\n[1307 rows x 7 columns]",
      "text/html": "<div>\n<style scoped>\n    .dataframe tbody tr th:only-of-type {\n        vertical-align: middle;\n    }\n\n    .dataframe tbody tr th {\n        vertical-align: top;\n    }\n\n    .dataframe thead th {\n        text-align: right;\n    }\n</style>\n<table border=\"1\" class=\"dataframe\">\n  <thead>\n    <tr style=\"text-align: right;\">\n      <th></th>\n      <th>ETH-USDT</th>\n      <th>MATIC-USDT</th>\n      <th>BTC-USDT</th>\n      <th>SOL-USDT</th>\n      <th>BNB-USDT</th>\n      <th>DOGE-USDT</th>\n      <th>XRP-USDT</th>\n    </tr>\n    <tr>\n      <th>timestamp</th>\n      <th></th>\n      <th></th>\n      <th></th>\n      <th></th>\n      <th></th>\n      <th></th>\n      <th></th>\n    </tr>\n  </thead>\n  <tbody>\n    <tr>\n      <th>2020-08-12</th>\n      <td>0.021583</td>\n      <td>0.097699</td>\n      <td>0.015120</td>\n      <td>0.138639</td>\n      <td>0.009474</td>\n      <td>0.020645</td>\n      <td>-0.002720</td>\n    </tr>\n    <tr>\n      <th>2020-08-13</th>\n      <td>0.096493</td>\n      <td>0.073972</td>\n      <td>0.018650</td>\n      <td>-0.006869</td>\n      <td>0.012786</td>\n      <td>0.007831</td>\n      <td>0.042043</td>\n    </tr>\n    <tr>\n      <th>2020-08-14</th>\n      <td>0.031964</td>\n      <td>0.038674</td>\n      <td>-0.001652</td>\n      <td>-0.085818</td>\n      <td>0.061470</td>\n      <td>0.024486</td>\n      <td>0.019545</td>\n    </tr>\n    <tr>\n      <th>2020-08-15</th>\n      <td>-0.013216</td>\n      <td>0.065603</td>\n      <td>0.007811</td>\n      <td>-0.069474</td>\n      <td>-0.000718</td>\n      <td>-0.011279</td>\n      <td>-0.003701</td>\n    </tr>\n    <tr>\n      <th>2020-08-16</th>\n      <td>0.003007</td>\n      <td>0.002995</td>\n      <td>0.004944</td>\n      <td>0.067917</td>\n      <td>0.019096</td>\n      <td>-0.000736</td>\n      <td>0.019107</td>\n    </tr>\n    <tr>\n      <th>...</th>\n      <td>...</td>\n      <td>...</td>\n      <td>...</td>\n      <td>...</td>\n      <td>...</td>\n      <td>...</td>\n      <td>...</td>\n    </tr>\n    <tr>\n      <th>2024-03-06</th>\n      <td>0.074554</td>\n      <td>0.082164</td>\n      <td>0.036878</td>\n      <td>0.043732</td>\n      <td>0.089571</td>\n      <td>0.031364</td>\n      <td>0.035352</td>\n    </tr>\n    <tr>\n      <th>2024-03-07</th>\n      <td>0.013138</td>\n      <td>0.037829</td>\n      <td>0.011338</td>\n      <td>0.099625</td>\n      <td>0.105263</td>\n      <td>-0.001267</td>\n      <td>0.024342</td>\n    </tr>\n    <tr>\n      <th>2024-03-08</th>\n      <td>0.003774</td>\n      <td>-0.030246</td>\n      <td>0.019470</td>\n      <td>0.006745</td>\n      <td>0.023599</td>\n      <td>0.043961</td>\n      <td>-0.011164</td>\n    </tr>\n    <tr>\n      <th>2024-03-09</th>\n      <td>0.005627</td>\n      <td>0.027723</td>\n      <td>0.002776</td>\n      <td>-0.003453</td>\n      <td>0.005146</td>\n      <td>0.086164</td>\n      <td>-0.000484</td>\n    </tr>\n    <tr>\n      <th>2024-03-10</th>\n      <td>-0.006847</td>\n      <td>0.061992</td>\n      <td>0.009407</td>\n      <td>0.000693</td>\n      <td>0.083146</td>\n      <td>-0.049119</td>\n      <td>-0.018880</td>\n    </tr>\n  </tbody>\n</table>\n<p>1307 rows × 7 columns</p>\n</div>"
     },
     "metadata": {},
     "output_type": "display_data"
    }
   ],
   "source": [
    "import pandas as pd\n",
    "\n",
    "returns = pd.DataFrame()\n",
    "closes = pd.DataFrame()\n",
    "universe = strategy_universe.data_universe\n",
    "for pair in universe.pairs.iterate_pairs():\n",
    "    close = universe.candles.get_candles_by_pair(pair)[\"close\"]\n",
    "    close = close.dropna()\n",
    "    returns[pair.get_ticker()] = close.pct_change()\n",
    "    closes[pair.get_ticker()] = close\n",
    "\n",
    "returns = returns.ffill().dropna()\n",
    "display(returns)\n"
   ],
   "metadata": {
    "collapsed": false,
    "ExecuteTime": {
     "end_time": "2024-03-14T23:59:51.068996Z",
     "start_time": "2024-03-14T23:59:51.051370Z"
    }
   }
  },
  {
   "cell_type": "markdown",
   "source": [
    "# Train model"
   ],
   "metadata": {
    "collapsed": false
   }
  },
  {
   "cell_type": "code",
   "execution_count": 21,
   "outputs": [
    {
     "name": "stdout",
     "output_type": "stream",
     "text": [
      "Model Score: 15751.022712979579\n"
     ]
    }
   ],
   "source": [
    " from hmmlearn.hmm import GaussianHMM\n",
    "\n",
    " hmm_model = GaussianHMM(\n",
    "    n_components=2,\n",
    "    covariance_type=\"full\",\n",
    "    n_iter=1000\n",
    ").fit(returns)\n",
    "print(\"Model Score:\", hmm_model.score(returns))"
   ],
   "metadata": {
    "collapsed": false,
    "ExecuteTime": {
     "end_time": "2024-03-14T23:59:51.300773Z",
     "start_time": "2024-03-14T23:59:51.069764Z"
    }
   }
  },
  {
   "cell_type": "markdown",
   "source": [
    "# Plot model"
   ],
   "metadata": {
    "collapsed": false
   }
  },
  {
   "cell_type": "code",
   "execution_count": 22,
   "outputs": [
    {
     "ename": "IndexError",
     "evalue": "Boolean index has wrong length: 1307 instead of 2261",
     "output_type": "error",
     "traceback": [
      "\u001B[0;31m---------------------------------------------------------------------------\u001B[0m",
      "\u001B[0;31mIndexError\u001B[0m                                Traceback (most recent call last)",
      "Cell \u001B[0;32mIn[22], line 38\u001B[0m\n\u001B[1;32m     34\u001B[0m         ax\u001B[38;5;241m.\u001B[39mgrid(\u001B[38;5;28;01mTrue\u001B[39;00m)\n\u001B[1;32m     35\u001B[0m     plt\u001B[38;5;241m.\u001B[39mshow()\n\u001B[0;32m---> 38\u001B[0m \u001B[43mplot_in_sample_hidden_states\u001B[49m\u001B[43m(\u001B[49m\u001B[43mhmm_model\u001B[49m\u001B[43m,\u001B[49m\u001B[43m \u001B[49m\u001B[43mcloses\u001B[49m\u001B[43m)\u001B[49m\n",
      "Cell \u001B[0;32mIn[22], line 26\u001B[0m, in \u001B[0;36mplot_in_sample_hidden_states\u001B[0;34m(hmm_model, df)\u001B[0m\n\u001B[1;32m     23\u001B[0m \u001B[38;5;28;01mfor\u001B[39;00m i, (ax, colour) \u001B[38;5;129;01min\u001B[39;00m \u001B[38;5;28menumerate\u001B[39m(\u001B[38;5;28mzip\u001B[39m(axs, colours)):\n\u001B[1;32m     24\u001B[0m     mask \u001B[38;5;241m=\u001B[39m hidden_states \u001B[38;5;241m==\u001B[39m i\n\u001B[1;32m     25\u001B[0m     ax\u001B[38;5;241m.\u001B[39mplot_date(\n\u001B[0;32m---> 26\u001B[0m         \u001B[43mdf\u001B[49m\u001B[38;5;241;43m.\u001B[39;49m\u001B[43mindex\u001B[49m\u001B[43m[\u001B[49m\u001B[43mmask\u001B[49m\u001B[43m]\u001B[49m,\n\u001B[1;32m     27\u001B[0m         df[mask],\n\u001B[1;32m     28\u001B[0m         \u001B[38;5;124m\"\u001B[39m\u001B[38;5;124m.\u001B[39m\u001B[38;5;124m\"\u001B[39m, linestyle\u001B[38;5;241m=\u001B[39m\u001B[38;5;124m'\u001B[39m\u001B[38;5;124mnone\u001B[39m\u001B[38;5;124m'\u001B[39m,\n\u001B[1;32m     29\u001B[0m         c\u001B[38;5;241m=\u001B[39mcolour\n\u001B[1;32m     30\u001B[0m     )\n\u001B[1;32m     31\u001B[0m     ax\u001B[38;5;241m.\u001B[39mset_title(\u001B[38;5;124m\"\u001B[39m\u001B[38;5;124mHidden State #\u001B[39m\u001B[38;5;132;01m%s\u001B[39;00m\u001B[38;5;124m\"\u001B[39m \u001B[38;5;241m%\u001B[39m i)\n\u001B[1;32m     32\u001B[0m     ax\u001B[38;5;241m.\u001B[39mxaxis\u001B[38;5;241m.\u001B[39mset_major_locator(YearLocator())\n",
      "File \u001B[0;32m~/Library/Caches/pypoetry/virtualenvs/trade-executor-8Oz1GdY1-py3.10/lib/python3.10/site-packages/pandas/core/indexes/base.py:5339\u001B[0m, in \u001B[0;36mIndex.__getitem__\u001B[0;34m(self, key)\u001B[0m\n\u001B[1;32m   5336\u001B[0m     \u001B[38;5;28;01melse\u001B[39;00m:\n\u001B[1;32m   5337\u001B[0m         key \u001B[38;5;241m=\u001B[39m np\u001B[38;5;241m.\u001B[39masarray(key, dtype\u001B[38;5;241m=\u001B[39m\u001B[38;5;28mbool\u001B[39m)\n\u001B[0;32m-> 5339\u001B[0m result \u001B[38;5;241m=\u001B[39m \u001B[43mgetitem\u001B[49m\u001B[43m(\u001B[49m\u001B[43mkey\u001B[49m\u001B[43m)\u001B[49m\n\u001B[1;32m   5340\u001B[0m \u001B[38;5;66;03m# Because we ruled out integer above, we always get an arraylike here\u001B[39;00m\n\u001B[1;32m   5341\u001B[0m \u001B[38;5;28;01mif\u001B[39;00m result\u001B[38;5;241m.\u001B[39mndim \u001B[38;5;241m>\u001B[39m \u001B[38;5;241m1\u001B[39m:\n",
      "File \u001B[0;32m~/Library/Caches/pypoetry/virtualenvs/trade-executor-8Oz1GdY1-py3.10/lib/python3.10/site-packages/pandas/core/arrays/datetimelike.py:358\u001B[0m, in \u001B[0;36mDatetimeLikeArrayMixin.__getitem__\u001B[0;34m(self, key)\u001B[0m\n\u001B[1;32m    350\u001B[0m \u001B[38;5;250m\u001B[39m\u001B[38;5;124;03m\"\"\"\u001B[39;00m\n\u001B[1;32m    351\u001B[0m \u001B[38;5;124;03mThis getitem defers to the underlying array, which by-definition can\u001B[39;00m\n\u001B[1;32m    352\u001B[0m \u001B[38;5;124;03monly handle list-likes, slices, and integer scalars\u001B[39;00m\n\u001B[1;32m    353\u001B[0m \u001B[38;5;124;03m\"\"\"\u001B[39;00m\n\u001B[1;32m    354\u001B[0m \u001B[38;5;66;03m# Use cast as we know we will get back a DatetimeLikeArray or DTScalar,\u001B[39;00m\n\u001B[1;32m    355\u001B[0m \u001B[38;5;66;03m# but skip evaluating the Union at runtime for performance\u001B[39;00m\n\u001B[1;32m    356\u001B[0m \u001B[38;5;66;03m# (see https://github.com/pandas-dev/pandas/pull/44624)\u001B[39;00m\n\u001B[1;32m    357\u001B[0m result \u001B[38;5;241m=\u001B[39m cast(\n\u001B[0;32m--> 358\u001B[0m     \u001B[38;5;124m\"\u001B[39m\u001B[38;5;124mUnion[DatetimeLikeArrayT, DTScalarOrNaT]\u001B[39m\u001B[38;5;124m\"\u001B[39m, \u001B[38;5;28;43msuper\u001B[39;49m\u001B[43m(\u001B[49m\u001B[43m)\u001B[49m\u001B[38;5;241;43m.\u001B[39;49m\u001B[38;5;21;43m__getitem__\u001B[39;49m\u001B[43m(\u001B[49m\u001B[43mkey\u001B[49m\u001B[43m)\u001B[49m\n\u001B[1;32m    359\u001B[0m )\n\u001B[1;32m    360\u001B[0m \u001B[38;5;28;01mif\u001B[39;00m lib\u001B[38;5;241m.\u001B[39mis_scalar(result):\n\u001B[1;32m    361\u001B[0m     \u001B[38;5;28;01mreturn\u001B[39;00m result\n",
      "File \u001B[0;32m~/Library/Caches/pypoetry/virtualenvs/trade-executor-8Oz1GdY1-py3.10/lib/python3.10/site-packages/pandas/core/arrays/_mixins.py:297\u001B[0m, in \u001B[0;36mNDArrayBackedExtensionArray.__getitem__\u001B[0;34m(self, key)\u001B[0m\n\u001B[1;32m    294\u001B[0m \u001B[38;5;66;03m# error: Incompatible types in assignment (expression has type \"ExtensionArray\",\u001B[39;00m\n\u001B[1;32m    295\u001B[0m \u001B[38;5;66;03m# variable has type \"Union[int, slice, ndarray]\")\u001B[39;00m\n\u001B[1;32m    296\u001B[0m key \u001B[38;5;241m=\u001B[39m extract_array(key, extract_numpy\u001B[38;5;241m=\u001B[39m\u001B[38;5;28;01mTrue\u001B[39;00m)  \u001B[38;5;66;03m# type: ignore[assignment]\u001B[39;00m\n\u001B[0;32m--> 297\u001B[0m key \u001B[38;5;241m=\u001B[39m \u001B[43mcheck_array_indexer\u001B[49m\u001B[43m(\u001B[49m\u001B[38;5;28;43mself\u001B[39;49m\u001B[43m,\u001B[49m\u001B[43m \u001B[49m\u001B[43mkey\u001B[49m\u001B[43m)\u001B[49m\n\u001B[1;32m    298\u001B[0m result \u001B[38;5;241m=\u001B[39m \u001B[38;5;28mself\u001B[39m\u001B[38;5;241m.\u001B[39m_ndarray[key]\n\u001B[1;32m    299\u001B[0m \u001B[38;5;28;01mif\u001B[39;00m lib\u001B[38;5;241m.\u001B[39mis_scalar(result):\n",
      "File \u001B[0;32m~/Library/Caches/pypoetry/virtualenvs/trade-executor-8Oz1GdY1-py3.10/lib/python3.10/site-packages/pandas/core/indexers/utils.py:552\u001B[0m, in \u001B[0;36mcheck_array_indexer\u001B[0;34m(array, indexer)\u001B[0m\n\u001B[1;32m    550\u001B[0m     \u001B[38;5;66;03m# GH26658\u001B[39;00m\n\u001B[1;32m    551\u001B[0m     \u001B[38;5;28;01mif\u001B[39;00m \u001B[38;5;28mlen\u001B[39m(indexer) \u001B[38;5;241m!=\u001B[39m \u001B[38;5;28mlen\u001B[39m(array):\n\u001B[0;32m--> 552\u001B[0m         \u001B[38;5;28;01mraise\u001B[39;00m \u001B[38;5;167;01mIndexError\u001B[39;00m(\n\u001B[1;32m    553\u001B[0m             \u001B[38;5;124mf\u001B[39m\u001B[38;5;124m\"\u001B[39m\u001B[38;5;124mBoolean index has wrong length: \u001B[39m\u001B[38;5;124m\"\u001B[39m\n\u001B[1;32m    554\u001B[0m             \u001B[38;5;124mf\u001B[39m\u001B[38;5;124m\"\u001B[39m\u001B[38;5;132;01m{\u001B[39;00m\u001B[38;5;28mlen\u001B[39m(indexer)\u001B[38;5;132;01m}\u001B[39;00m\u001B[38;5;124m instead of \u001B[39m\u001B[38;5;132;01m{\u001B[39;00m\u001B[38;5;28mlen\u001B[39m(array)\u001B[38;5;132;01m}\u001B[39;00m\u001B[38;5;124m\"\u001B[39m\n\u001B[1;32m    555\u001B[0m         )\n\u001B[1;32m    556\u001B[0m \u001B[38;5;28;01melif\u001B[39;00m is_integer_dtype(dtype):\n\u001B[1;32m    557\u001B[0m     \u001B[38;5;28;01mtry\u001B[39;00m:\n",
      "\u001B[0;31mIndexError\u001B[0m: Boolean index has wrong length: 1307 instead of 2261"
     ]
    },
    {
     "data": {
      "text/plain": "<Figure size 640x480 with 2 Axes>",
      "image/png": "[encoded data removed]"
     },
     "metadata": {},
     "output_type": "display_data"
    }
   ],
   "source": [
    "from matplotlib import cm, pyplot as plt\n",
    "from matplotlib.dates import YearLocator, MonthLocator\n",
    "import numpy as np\n",
    "import pandas as pd\n",
    "import seaborn as sns\n",
    "\n",
    "def plot_in_sample_hidden_states(hmm_model, df):\n",
    "    \"\"\"\n",
    "    Plot the adjusted closing prices masked by\n",
    "    the in-sample hidden states as a mechanism\n",
    "    to understand the market regimes.\n",
    "    \"\"\"\n",
    "    # Predict the hidden states array\n",
    "    hidden_states = hmm_model.predict(returns)\n",
    "    # Create the correctly formatted plot\n",
    "    fig, axs = plt.subplots(\n",
    "        hmm_model.n_components,\n",
    "        sharex=True, sharey=True\n",
    "    )\n",
    "    colours = cm.rainbow(\n",
    "        np.linspace(0, 1, hmm_model.n_components)\n",
    "    )\n",
    "    for i, (ax, colour) in enumerate(zip(axs, colours)):\n",
    "        mask = hidden_states == i\n",
    "        ax.plot_date(\n",
    "            df.index[mask],\n",
    "            df[mask],\n",
    "            \".\", linestyle='none',\n",
    "            c=colour\n",
    "        )\n",
    "        ax.set_title(\"Hidden State #%s\" % i)\n",
    "        ax.xaxis.set_major_locator(YearLocator())\n",
    "        ax.xaxis.set_minor_locator(MonthLocator())\n",
    "        ax.grid(True)\n",
    "    plt.show()\n",
    "\n",
    "\n",
    "plot_in_sample_hidden_states(hmm_model, closes)"
   ],
   "metadata": {
    "collapsed": false,
    "ExecuteTime": {
     "end_time": "2024-03-14T23:59:51.840949Z",
     "start_time": "2024-03-14T23:59:51.314772Z"
    }
   }
  }
 ],
 "metadata": {
  "kernelspec": {
   "display_name": "Python 3",
   "language": "python",
   "name": "python3"
  },
  "language_info": {
   "codemirror_mode": {
    "name": "ipython",
    "version": 2
   },
   "file_extension": ".py",
   "mimetype": "text/x-python",
   "name": "python",
   "nbconvert_exporter": "python",
   "pygments_lexer": "ipython2",
   "version": "2.7.6"
  }
 },
 "nbformat": 4,
 "nbformat_minor": 0
}
