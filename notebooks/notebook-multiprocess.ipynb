{
 "cells": [
  {
   "cell_type": "code",
   "execution_count": 2,
   "outputs": [],
   "source": [
    "# Enable multiprocess happy pickle support\n",
    "from tradeexecutor.monkeypatch import cloudpickle_patch"
   ],
   "metadata": {
    "collapsed": false,
    "ExecuteTime": {
     "end_time": "2024-02-08T14:19:40.216519Z",
     "start_time": "2024-02-08T14:19:40.211244Z"
    }
   }
  },
  {
   "cell_type": "code",
   "execution_count": 3,
   "outputs": [],
   "source": [
    "# Does not do actual multiprocessing, but demostrates it fails in a notebook\n",
    "from multiprocessing import Process\n",
    "\n",
    "def task():\n",
    "    return 2\n",
    "\n",
    "p = Process(target=task)\n",
    "p.start()\n",
    "p.join()"
   ],
   "metadata": {
    "collapsed": false,
    "ExecuteTime": {
     "end_time": "2024-02-08T14:19:40.270629Z",
     "start_time": "2024-02-08T14:19:40.217703Z"
    }
   }
  }
 ],
 "metadata": {
  "kernelspec": {
   "display_name": "Python 3",
   "language": "python",
   "name": "python3"
  },
  "language_info": {
   "codemirror_mode": {
    "name": "ipython",
    "version": 2
   },
   "file_extension": ".py",
   "mimetype": "text/x-python",
   "name": "python",
   "nbconvert_exporter": "python",
   "pygments_lexer": "ipython2",
   "version": "2.7.6"
  }
 },
 "nbformat": 4,
 "nbformat_minor": 0
}
