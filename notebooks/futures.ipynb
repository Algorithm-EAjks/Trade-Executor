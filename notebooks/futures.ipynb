{
 "cells": [
  {
   "cell_type": "code",
   "execution_count": 7,
   "metadata": {},
   "outputs": [
    {
     "name": "stdout",
     "output_type": "stream",
     "text": [
      "595\n"
     ]
    }
   ],
   "source": [
    "# https://api.binance.com/api/v3/exchangeInfo\n",
    "\n",
    "from tradingstrategy.binance.downloader import BinanceDownloader\n",
    "\n",
    "\n",
    "downloader = BinanceDownloader()\n",
    "_margin_assets = downloader.fetch_assets('MARGIN')\n",
    "margin_assets = list(_margin_assets)\n",
    "print(len(margin_assets))"
   ]
  },
  {
   "cell_type": "code",
   "execution_count": 16,
   "metadata": {},
   "outputs": [
    {
     "name": "stdout",
     "output_type": "stream",
     "text": [
      "['BLZBTC', 'ZILBTC', 'ONTBTC', 'QTUMUSDT', 'ADAUSDT', 'XRPUSDT', 'BTCTUSD', 'ETHTUSD', 'EOSUSDT', 'THETABTC', 'TUSDUSDT']\n"
     ]
    }
   ],
   "source": [
    "start = 39\n",
    "print(margin_assets[start:start+11])"
   ]
  },
  {
   "cell_type": "code",
   "execution_count": null,
   "metadata": {},
   "outputs": [],
   "source": [
    "from tradingstrategy.chain import ChainId\n",
    "\n",
    "# chain_id, address, tvl, has_lending\n",
    "\n",
    "futures_mappings = {\n",
    "    \"ETHBTC\": (ChainId.ethereum, '0xceff51756c56ceffca006cd410b03ffc46dd3a58'),\n",
    "    \"BNBBTC\": (ChainId.binance, '0x61eb789d75a95caa3ff50ed7e47b96c132fec082'),\n",
    "    \"BNBETH\": (ChainId.binance, '0x74e4716e431f45807dcf19f284c7aa99f18a4fbc'),\n",
    "    \"BTCUSDT\": [\n",
    "        (ChainId.ethereum, \"uniswap-v3\", '0x9db9e0e53058c89e5b94e29621a205198648425b', \"9.71M\", \"0.3%\"), # USDT\n",
    "        (ChainId.ethereum, \"uniswap-v3\", '0x99ac8ca7087fa4a2a1fb6357269965a2014abc35', \"20.00M\", \"0.3%\"), # USDC\n",
    "        (ChainId.ethereum, \"uniswap-v3\", '0x9a772018fbd77fcd2d25657e5c547baff3fd7d16', \"5.85M\", \"0.05%\"), # USDC\n",
    "        (ChainId.arbitrum, \"uniswap-v3\", '0x5969efdde3cf5c0d9a88ae51e47d721096a97203', \"2.2M\", \"0.05%\"), # USDT\n",
    "        (ChainId.binance, \"pancakeswap-v2\", '0x5840b79d19c053a79923df738a251426d8879308', \"1.36M\", \"0.25%\"), # USDT\n",
    "        (ChainId.arbitrum, \"uniswap-v3\", '0xac70bd92f89e6739b3a08db9b6081a923912f73d', \"262.26K\", \"0.05%\"), # USDC\n",
    "    ],\n",
    "    \"ETHUSDT\": [\n",
    "        (ChainId.ethereum, \"uniswap-v3\", '0x88e6a0c2ddd26feeb64f039a2c41296fcb3f5640', '151.99M', \"0.05%\"), # USDC\n",
    "        (ChainId.arbitrum, \"uniswap-v3\", '0x641c00a822e8b671738d32a431a4fb6074e5c79d', '12.38M', \"0.05%\"), # USDT \n",
    "        (ChainId.arbitrum, \"uniswap-v3\", '0xc31e54c7a869b9fcbecc14363cf510d1c41fa443', '9.26M', \"0.05%\"), # USDC\n",
    "        (ChainId.binance, \"biswap\", '0x63b30de1a998e9e64fd58a21f68d323b9bcd8f85', '3.18M', \"0.3%\"), # USDT\n",
    "    ],\n",
    "    \"ETHBNB\": (ChainId.binance, '0x74e4716e431f45807dcf19f284c7aa99f18a4fbc', '4.12M'),\n",
    "    \"LINKETH\": (ChainId.ethereum, \"0xa2107fa5b38d9bbd2c461d6edf11b11a50f6b974\", '2.63M'),\n",
    "    \"XRTETH\": (ChainId.ethereum, \"0xb49159afeb54f8922b0a82a5d58bd4728b8c20bb\", '113.92K'),\n",
    "    \"BNBUSDT\": [\n",
    "        (ChainId.binance, \"pancakeswap-v2\", \"0x16b9a82891338f9ba80e2d6970fdda79d1eb0dae\", \"14.00M\", \"0.25%\"), # USDT\n",
    "        (ChainId.binance, \"pancakeswap-v2\", \"0xd99c7f6c65857ac913a8f880a4cb84032ab2fc5b\", \"727.80K\", \"0.25%\"), # USDC\n",
    "    ],\n",
    "    \"LTCUSDT\": (ChainId.binance, \"biswap\", \"0x412b607f4cbe9cae77c6f720a701cd60fa0ebd3f\", \"396.92K\"),\n",
    "}"
   ]
  }
 ],
 "metadata": {
  "kernelspec": {
   "display_name": "trade-executor-xSh0vQvh-py3.10",
   "language": "python",
   "name": "python3"
  },
  "language_info": {
   "codemirror_mode": {
    "name": "ipython",
    "version": 3
   },
   "file_extension": ".py",
   "mimetype": "text/x-python",
   "name": "python",
   "nbconvert_exporter": "python",
   "pygments_lexer": "ipython3",
   "version": "3.10.8"
  }
 },
 "nbformat": 4,
 "nbformat_minor": 2
}
