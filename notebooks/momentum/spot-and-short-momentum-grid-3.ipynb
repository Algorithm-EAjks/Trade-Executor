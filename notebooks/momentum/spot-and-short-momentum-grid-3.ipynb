{
 "cells": [
  {
   "attachments": {},
   "cell_type": "markdown",
   "metadata": {},
   "source": [
    "# Spot/short grid search example\n",
    "\n",
    "See the earlier notebook for more information."
   ]
  },
  {
   "cell_type": "markdown",
   "metadata": {},
   "source": [
    "### Grid search target strategy loading\n"
   ]
  },
  {
   "cell_type": "code",
   "execution_count": 7,
   "metadata": {
    "ExecuteTime": {
     "end_time": "2023-11-06T11:23:56.822575Z",
     "start_time": "2023-11-06T11:23:56.740008Z"
    },
    "collapsed": false,
    "jupyter": {
     "outputs_hidden": false
    }
   },
   "outputs": [
    {
     "name": "stdout",
     "output_type": "stream",
     "text": [
      "Backtesting for strategy /Users/moo/code/ts/trade-executor/strategies/spot-and-short-momentum-grid-3.py, engine version 0.3\n"
     ]
    }
   ],
   "source": [
    "import datetime\n",
    "import importlib.util\n",
    "import sys\n",
    "\n",
    "from tradeexecutor.utils.default_strategies import get_default_strategies_path\n",
    "\n",
    "strategies_folder = get_default_strategies_path()\n",
    "strategy_path = strategies_folder / \"spot-and-short-momentum-grid-3.py\"\n",
    "\n",
    "# See https://stackoverflow.com/a/67692/315168\n",
    "spec = importlib.util.spec_from_file_location(\"strategy_mod\", strategy_path)\n",
    "python_mod = importlib.util.module_from_spec(spec)\n",
    "sys.modules[\"strategy_mod\"] = python_mod\n",
    "spec.loader.exec_module(python_mod)\n",
    "\n",
    "print(f\"Backtesting for strategy {strategy_path}, engine version {python_mod.trading_strategy_engine_version}\")"
   ]
  },
  {
   "cell_type": "markdown",
   "metadata": {},
   "source": [
    "### Set up the market data client\n",
    "\n"
   ]
  },
  {
   "cell_type": "code",
   "execution_count": 8,
   "metadata": {
    "ExecuteTime": {
     "end_time": "2023-11-06T11:23:56.825354Z",
     "start_time": "2023-11-06T11:23:56.745601Z"
    },
    "collapsed": false
   },
   "outputs": [
    {
     "name": "stdout",
     "output_type": "stream",
     "text": [
      "Started Trading Strategy in Jupyter notebook environment, configuration is stored in /Users/moo/.tradingstrategy\n"
     ]
    }
   ],
   "source": [
    "from tradingstrategy.client import Client\n",
    "\n",
    "client = Client.create_jupyter_client()"
   ]
  },
  {
   "cell_type": "markdown",
   "metadata": {
    "collapsed": false
   },
   "source": [
    "Load the strategy universe and analyse what trading pairs the strategy code gives for us."
   ]
  },
  {
   "cell_type": "code",
   "execution_count": 9,
   "metadata": {
    "ExecuteTime": {
     "end_time": "2023-11-06T11:23:57.946683Z",
     "start_time": "2023-11-06T11:23:56.753877Z"
    },
    "collapsed": false
   },
   "outputs": [
    {
     "data": {
      "application/vnd.jupyter.widget-view+json": {
       "model_id": "0fd1344cc9024158889bb88eb1b7a1ae",
       "version_major": 2,
       "version_minor": 0
      },
      "text/plain": [
       "Downloading interest rate data for 5 assets:   0%|          | 0/10 [00:00<?, ?it/s]"
      ]
     },
     "metadata": {},
     "output_type": "display_data"
    }
   ],
   "source": [
    "from tradeexecutor.strategy.execution_context import notebook_execution_context\n",
    "\n",
    "universe = python_mod.create_trading_universe(\n",
    "    datetime.datetime.utcnow(),\n",
    "    client,\n",
    "    notebook_execution_context,\n",
    "    python_mod.universe_options,\n",
    ")"
   ]
  },
  {
   "attachments": {},
   "cell_type": "markdown",
   "metadata": {},
   "source": []
  },
  {
   "cell_type": "markdown",
   "metadata": {
    "collapsed": false
   },
   "source": [
    "## Available trading universe\n",
    "\n",
    "Inspect trading pairs and lending markets we are going to backtest.\n"
   ]
  },
  {
   "cell_type": "code",
   "execution_count": 10,
   "metadata": {
    "ExecuteTime": {
     "end_time": "2023-11-06T11:23:57.947922Z",
     "start_time": "2023-11-06T11:23:57.928149Z"
    },
    "collapsed": false
   },
   "outputs": [
    {
     "data": {
      "text/html": [
       "<table border=\"1\" class=\"dataframe\">\n",
       "  <thead>\n",
       "    <tr style=\"text-align: right;\">\n",
       "      <th></th>\n",
       "      <th>Lending asset</th>\n",
       "      <th>Stablecoin</th>\n",
       "      <th>Best trading pair</th>\n",
       "      <th>Lending available at</th>\n",
       "      <th>Trading available at</th>\n",
       "      <th>Price data page</th>\n",
       "      <th>Lending rate page</th>\n",
       "    </tr>\n",
       "  </thead>\n",
       "  <tbody>\n",
       "    <tr>\n",
       "      <th>0</th>\n",
       "      <td>BAL</td>\n",
       "      <td>no</td>\n",
       "      <td>No AMM pools found</td>\n",
       "      <td>2022-03-16</td>\n",
       "      <td>-</td>\n",
       "      <td><a href=\"-\">View</a></td>\n",
       "      <td><a href=\"https://tradingstrategy.ai/trading-view/polygon/lending/aave_v3/bal\">View</a></td>\n",
       "    </tr>\n",
       "    <tr>\n",
       "      <th>1</th>\n",
       "      <td>LINK</td>\n",
       "      <td>no</td>\n",
       "      <td>LINK-USDC at 5 BPS fee tier on Uniswap v3</td>\n",
       "      <td>2022-03-16</td>\n",
       "      <td>2022-08-21</td>\n",
       "      <td><a href=\"https://tradingstrategy.ai/trading-view/polygon/uniswap-v3/link-usdc-fee-5\">View</a></td>\n",
       "      <td><a href=\"https://tradingstrategy.ai/trading-view/polygon/lending/aave_v3/link\">View</a></td>\n",
       "    </tr>\n",
       "    <tr>\n",
       "      <th>2</th>\n",
       "      <td>USDC</td>\n",
       "      <td>yes</td>\n",
       "      <td>No AMM pools found</td>\n",
       "      <td>2022-03-16</td>\n",
       "      <td>-</td>\n",
       "      <td><a href=\"-\">View</a></td>\n",
       "      <td><a href=\"https://tradingstrategy.ai/trading-view/polygon/lending/aave_v3/usdc\">View</a></td>\n",
       "    </tr>\n",
       "    <tr>\n",
       "      <th>3</th>\n",
       "      <td>WETH</td>\n",
       "      <td>no</td>\n",
       "      <td>WETH-USDC at 5 BPS fee tier on Uniswap v3</td>\n",
       "      <td>2022-03-16</td>\n",
       "      <td>2022-07-07</td>\n",
       "      <td><a href=\"https://tradingstrategy.ai/trading-view/polygon/uniswap-v3/eth-usdc-fee-5\">View</a></td>\n",
       "      <td><a href=\"https://tradingstrategy.ai/trading-view/polygon/lending/aave_v3/weth\">View</a></td>\n",
       "    </tr>\n",
       "    <tr>\n",
       "      <th>4</th>\n",
       "      <td>WMATIC</td>\n",
       "      <td>no</td>\n",
       "      <td>WMATIC-USDC at 5 BPS fee tier on Uniswap v3</td>\n",
       "      <td>2022-03-12</td>\n",
       "      <td>2022-07-07</td>\n",
       "      <td><a href=\"https://tradingstrategy.ai/trading-view/polygon/uniswap-v3/matic-usdc-fee-5\">View</a></td>\n",
       "      <td><a href=\"https://tradingstrategy.ai/trading-view/polygon/lending/aave_v3/wmatic\">View</a></td>\n",
       "    </tr>\n",
       "  </tbody>\n",
       "</table>"
      ],
      "text/plain": [
       "<IPython.core.display.HTML object>"
      ]
     },
     "metadata": {},
     "output_type": "display_data"
    }
   ],
   "source": [
    "from IPython.display import HTML\n",
    "\n",
    "from tradeexecutor.analysis.universe import analyse_long_short_universe\n",
    "from tradingstrategy.utils.jupyter import format_links_for_html_output\n",
    "\n",
    "df = analyse_long_short_universe(universe)\n",
    "df = format_links_for_html_output(df, (\"Price data page\", \"Lending rate page\",))\n",
    "\n",
    "display(HTML(df.to_html(escape=False)))"
   ]
  },
  {
   "cell_type": "markdown",
   "metadata": {},
   "source": [
    "## Run grid search"
   ]
  },
  {
   "cell_type": "code",
   "execution_count": 11,
   "metadata": {
    "ExecuteTime": {
     "end_time": "2023-11-06T11:24:00.239763Z",
     "start_time": "2023-11-06T11:23:57.941020Z"
    },
    "collapsed": false,
    "jupyter": {
     "outputs_hidden": false
    }
   },
   "outputs": [
    {
     "data": {
      "application/vnd.jupyter.widget-view+json": {
       "model_id": "750d56bc436c44cca3f4ba5442af237e",
       "version_major": 2,
       "version_minor": 0
      },
      "text/plain": [
       "  0%|          | 0/57801600 [00:00<?, ?it/s]"
      ]
     },
     "metadata": {},
     "output_type": "display_data"
    },
    {
     "data": {
      "application/vnd.jupyter.widget-view+json": {
       "model_id": "c1e4089398e04ddca7312b5c3a41eb13",
       "version_major": 2,
       "version_minor": 0
      },
      "text/plain": [
       "  0%|          | 0/57801600 [00:00<?, ?it/s]"
      ]
     },
     "metadata": {},
     "output_type": "display_data"
    },
    {
     "data": {
      "application/vnd.jupyter.widget-view+json": {
       "model_id": "a4acdcdb7e614ba68fd3203e2513fcb1",
       "version_major": 2,
       "version_minor": 0
      },
      "text/plain": [
       "  0%|          | 0/57801600 [00:00<?, ?it/s]"
      ]
     },
     "metadata": {},
     "output_type": "display_data"
    },
    {
     "data": {
      "application/vnd.jupyter.widget-view+json": {
       "model_id": "c22605f65a5b4279810f8770673bb1b4",
       "version_major": 2,
       "version_minor": 0
      },
      "text/plain": [
       "  0%|          | 0/57801600 [00:00<?, ?it/s]"
      ]
     },
     "metadata": {},
     "output_type": "display_data"
    },
    {
     "data": {
      "application/vnd.jupyter.widget-view+json": {
       "model_id": "d56357e394fa47bea3f59c355beeb047",
       "version_major": 2,
       "version_minor": 0
      },
      "text/plain": [
       "  0%|          | 0/57801600 [00:00<?, ?it/s]"
      ]
     },
     "metadata": {},
     "output_type": "display_data"
    },
    {
     "data": {
      "application/vnd.jupyter.widget-view+json": {
       "model_id": "6a98ab376ed945ba8d3042ae0393f35e",
       "version_major": 2,
       "version_minor": 0
      },
      "text/plain": [
       "  0%|          | 0/57801600 [00:00<?, ?it/s]"
      ]
     },
     "metadata": {},
     "output_type": "display_data"
    },
    {
     "data": {
      "application/vnd.jupyter.widget-view+json": {
       "model_id": "be3ec0861026410db2beb174182b1f06",
       "version_major": 2,
       "version_minor": 0
      },
      "text/plain": [
       "  0%|          | 0/57801600 [00:00<?, ?it/s]"
      ]
     },
     "metadata": {},
     "output_type": "display_data"
    },
    {
     "data": {
      "application/vnd.jupyter.widget-view+json": {
       "model_id": "9cb52fbbf07145d5a57f16e48a7a58eb",
       "version_major": 2,
       "version_minor": 0
      },
      "text/plain": [
       "  0%|          | 0/57801600 [00:00<?, ?it/s]"
      ]
     },
     "metadata": {},
     "output_type": "display_data"
    },
    {
     "data": {
      "application/vnd.jupyter.widget-view+json": {
       "model_id": "622a8935a00b4072967d9126dd40b447",
       "version_major": 2,
       "version_minor": 0
      },
      "text/plain": [
       "  0%|          | 0/57801600 [00:00<?, ?it/s]"
      ]
     },
     "metadata": {},
     "output_type": "display_data"
    }
   ],
   "source": [
    "from pathlib import Path\n",
    "from tradeexecutor.backtest.grid_search import perform_grid_search, prepare_grid_combinations\n",
    "\n",
    "# This is the path where we keep the result files around\n",
    "storage_folder = Path(f\"/tmp/{strategy_path.stem}-grid-search\")\n",
    "\n",
    "parameters = {\n",
    "    \"cycle_duration_days\": [7],\n",
    "    \"momentum_lookback\": [7],\n",
    "    \"take_profit\": [1.07],\n",
    "    \"negative_take_profit\": [1.07],\n",
    "    \"positive_mometum_threshold\": [0.01],\n",
    "    \"negative_mometum_threshold\": [-0.05],\n",
    "    \"mod_adjust\": [0, 1, 2, 3, 4, 5, 6, 7, 8],\n",
    "}\n",
    "combinations = prepare_grid_combinations(parameters, storage_folder, clear_cached_results=True)\n",
    "\n",
    "grid_search_results = perform_grid_search(\n",
    "    python_mod.grid_search_worker,\n",
    "    universe,\n",
    "    combinations,\n",
    "    max_workers=4,\n",
    ")\n"
   ]
  },
  {
   "attachments": {},
   "cell_type": "markdown",
   "metadata": {},
   "source": [
    "## Examine grid search results\n"
   ]
  },
  {
   "cell_type": "code",
   "execution_count": 12,
   "metadata": {
    "ExecuteTime": {
     "end_time": "2023-11-06T11:24:00.246393Z",
     "start_time": "2023-11-06T11:24:00.242327Z"
    },
    "collapsed": false,
    "jupyter": {
     "outputs_hidden": false
    }
   },
   "outputs": [
    {
     "data": {
      "text/html": [
       "<style type=\"text/css\">\n",
       "#T_966c0_row0_col1, #T_966c0_row0_col2, #T_966c0_row0_col3, #T_966c0_row0_col4, #T_966c0_row0_col5, #T_966c0_row0_col6, #T_966c0_row7_col1, #T_966c0_row7_col2, #T_966c0_row7_col3, #T_966c0_row7_col4, #T_966c0_row7_col5, #T_966c0_row7_col6 {\n",
       "  background-color: #023858;\n",
       "  color: #f1f1f1;\n",
       "  background-color: darkgreen;\n",
       "}\n",
       "#T_966c0_row1_col1, #T_966c0_row8_col1 {\n",
       "  background-color: #e9e5f1;\n",
       "  color: #000000;\n",
       "}\n",
       "#T_966c0_row1_col2, #T_966c0_row8_col2 {\n",
       "  background-color: #9fbad9;\n",
       "  color: #000000;\n",
       "}\n",
       "#T_966c0_row1_col3, #T_966c0_row3_col6, #T_966c0_row8_col3 {\n",
       "  background-color: #e7e3f0;\n",
       "  color: #000000;\n",
       "}\n",
       "#T_966c0_row1_col4, #T_966c0_row8_col4 {\n",
       "  background-color: #ebe6f2;\n",
       "  color: #000000;\n",
       "}\n",
       "#T_966c0_row1_col5, #T_966c0_row8_col5 {\n",
       "  background-color: #dcdaeb;\n",
       "  color: #000000;\n",
       "}\n",
       "#T_966c0_row1_col6, #T_966c0_row3_col1, #T_966c0_row3_col2, #T_966c0_row3_col3, #T_966c0_row3_col4, #T_966c0_row3_col5, #T_966c0_row8_col6 {\n",
       "  background-color: #fff7fb;\n",
       "  color: #000000;\n",
       "  background-color: pink;\n",
       "}\n",
       "#T_966c0_row2_col1 {\n",
       "  background-color: #f4eef6;\n",
       "  color: #000000;\n",
       "}\n",
       "#T_966c0_row2_col2 {\n",
       "  background-color: #b8c6e0;\n",
       "  color: #000000;\n",
       "}\n",
       "#T_966c0_row2_col3 {\n",
       "  background-color: #f7f0f7;\n",
       "  color: #000000;\n",
       "}\n",
       "#T_966c0_row2_col4 {\n",
       "  background-color: #f8f1f8;\n",
       "  color: #000000;\n",
       "}\n",
       "#T_966c0_row2_col5 {\n",
       "  background-color: #fbf4f9;\n",
       "  color: #000000;\n",
       "}\n",
       "#T_966c0_row2_col6 {\n",
       "  background-color: #f0eaf4;\n",
       "  color: #000000;\n",
       "}\n",
       "#T_966c0_row4_col1 {\n",
       "  background-color: #056fae;\n",
       "  color: #f1f1f1;\n",
       "}\n",
       "#T_966c0_row4_col2 {\n",
       "  background-color: #045d92;\n",
       "  color: #f1f1f1;\n",
       "}\n",
       "#T_966c0_row4_col3 {\n",
       "  background-color: #0771b1;\n",
       "  color: #f1f1f1;\n",
       "}\n",
       "#T_966c0_row4_col4 {\n",
       "  background-color: #0d75b3;\n",
       "  color: #f1f1f1;\n",
       "}\n",
       "#T_966c0_row4_col5 {\n",
       "  background-color: #045e93;\n",
       "  color: #f1f1f1;\n",
       "}\n",
       "#T_966c0_row4_col6 {\n",
       "  background-color: #5c9fc9;\n",
       "  color: #f1f1f1;\n",
       "}\n",
       "#T_966c0_row5_col1, #T_966c0_row5_col4 {\n",
       "  background-color: #d2d2e7;\n",
       "  color: #000000;\n",
       "}\n",
       "#T_966c0_row5_col2 {\n",
       "  background-color: #509ac6;\n",
       "  color: #f1f1f1;\n",
       "}\n",
       "#T_966c0_row5_col3 {\n",
       "  background-color: #cacee5;\n",
       "  color: #000000;\n",
       "}\n",
       "#T_966c0_row5_col5 {\n",
       "  background-color: #8fb4d6;\n",
       "  color: #000000;\n",
       "}\n",
       "#T_966c0_row5_col6 {\n",
       "  background-color: #d4d4e8;\n",
       "  color: #000000;\n",
       "}\n",
       "#T_966c0_row6_col1 {\n",
       "  background-color: #ced0e6;\n",
       "  color: #000000;\n",
       "}\n",
       "#T_966c0_row6_col2 {\n",
       "  background-color: #73a9cf;\n",
       "  color: #f1f1f1;\n",
       "}\n",
       "#T_966c0_row6_col3 {\n",
       "  background-color: #c1cae2;\n",
       "  color: #000000;\n",
       "}\n",
       "#T_966c0_row6_col4 {\n",
       "  background-color: #cccfe5;\n",
       "  color: #000000;\n",
       "}\n",
       "#T_966c0_row6_col5 {\n",
       "  background-color: #d8d7e9;\n",
       "  color: #000000;\n",
       "}\n",
       "#T_966c0_row6_col6 {\n",
       "  background-color: #e1dfed;\n",
       "  color: #000000;\n",
       "}\n",
       "</style>\n",
       "<table id=\"T_966c0\">\n",
       "  <thead>\n",
       "    <tr>\n",
       "      <th class=\"blank\" >&nbsp;</th>\n",
       "      <th class=\"blank\" >&nbsp;</th>\n",
       "      <th class=\"blank\" >&nbsp;</th>\n",
       "      <th class=\"blank\" >&nbsp;</th>\n",
       "      <th class=\"blank\" >&nbsp;</th>\n",
       "      <th class=\"blank\" >&nbsp;</th>\n",
       "      <th class=\"blank level0\" >&nbsp;</th>\n",
       "      <th id=\"T_966c0_level0_col0\" class=\"col_heading level0 col0\" >Positions</th>\n",
       "      <th id=\"T_966c0_level0_col1\" class=\"col_heading level0 col1\" >Annualised return</th>\n",
       "      <th id=\"T_966c0_level0_col2\" class=\"col_heading level0 col2\" >Max drawdown</th>\n",
       "      <th id=\"T_966c0_level0_col3\" class=\"col_heading level0 col3\" >Sharpe</th>\n",
       "      <th id=\"T_966c0_level0_col4\" class=\"col_heading level0 col4\" >Sortino</th>\n",
       "      <th id=\"T_966c0_level0_col5\" class=\"col_heading level0 col5\" >Average position</th>\n",
       "      <th id=\"T_966c0_level0_col6\" class=\"col_heading level0 col6\" >Median position</th>\n",
       "    </tr>\n",
       "    <tr>\n",
       "      <th class=\"index_name level0\" >cycle_duration_days</th>\n",
       "      <th class=\"index_name level1\" >momentum_lookback</th>\n",
       "      <th class=\"index_name level2\" >take_profit</th>\n",
       "      <th class=\"index_name level3\" >negative_take_profit</th>\n",
       "      <th class=\"index_name level4\" >positive_mometum_threshold</th>\n",
       "      <th class=\"index_name level5\" >negative_mometum_threshold</th>\n",
       "      <th class=\"index_name level6\" >mod_adjust</th>\n",
       "      <th class=\"blank col0\" >&nbsp;</th>\n",
       "      <th class=\"blank col1\" >&nbsp;</th>\n",
       "      <th class=\"blank col2\" >&nbsp;</th>\n",
       "      <th class=\"blank col3\" >&nbsp;</th>\n",
       "      <th class=\"blank col4\" >&nbsp;</th>\n",
       "      <th class=\"blank col5\" >&nbsp;</th>\n",
       "      <th class=\"blank col6\" >&nbsp;</th>\n",
       "    </tr>\n",
       "  </thead>\n",
       "  <tbody>\n",
       "    <tr>\n",
       "      <th id=\"T_966c0_level0_row0\" class=\"row_heading level0 row0\" rowspan=\"9\">7</th>\n",
       "      <th id=\"T_966c0_level1_row0\" class=\"row_heading level1 row0\" rowspan=\"9\">7</th>\n",
       "      <th id=\"T_966c0_level2_row0\" class=\"row_heading level2 row0\" rowspan=\"9\">1.070000</th>\n",
       "      <th id=\"T_966c0_level3_row0\" class=\"row_heading level3 row0\" rowspan=\"9\">1.070000</th>\n",
       "      <th id=\"T_966c0_level4_row0\" class=\"row_heading level4 row0\" rowspan=\"9\">0.010000</th>\n",
       "      <th id=\"T_966c0_level5_row0\" class=\"row_heading level5 row0\" rowspan=\"9\">-0.050000</th>\n",
       "      <th id=\"T_966c0_level6_row0\" class=\"row_heading level6 row0\" >0</th>\n",
       "      <td id=\"T_966c0_row0_col0\" class=\"data row0 col0\" >122</td>\n",
       "      <td id=\"T_966c0_row0_col1\" class=\"data row0 col1\" >60.14%</td>\n",
       "      <td id=\"T_966c0_row0_col2\" class=\"data row0 col2\" >-23.00%</td>\n",
       "      <td id=\"T_966c0_row0_col3\" class=\"data row0 col3\" >1.560000</td>\n",
       "      <td id=\"T_966c0_row0_col4\" class=\"data row0 col4\" >2.470000</td>\n",
       "      <td id=\"T_966c0_row0_col5\" class=\"data row0 col5\" >2.15%</td>\n",
       "      <td id=\"T_966c0_row0_col6\" class=\"data row0 col6\" >7.05%</td>\n",
       "    </tr>\n",
       "    <tr>\n",
       "      <th id=\"T_966c0_level6_row1\" class=\"row_heading level6 row1\" >1</th>\n",
       "      <td id=\"T_966c0_row1_col0\" class=\"data row1 col0\" >129</td>\n",
       "      <td id=\"T_966c0_row1_col1\" class=\"data row1 col1\" >-10.02%</td>\n",
       "      <td id=\"T_966c0_row1_col2\" class=\"data row1 col2\" >-40.00%</td>\n",
       "      <td id=\"T_966c0_row1_col3\" class=\"data row1 col3\" >-0.090000</td>\n",
       "      <td id=\"T_966c0_row1_col4\" class=\"data row1 col4\" >-0.130000</td>\n",
       "      <td id=\"T_966c0_row1_col5\" class=\"data row1 col5\" >0.12%</td>\n",
       "      <td id=\"T_966c0_row1_col6\" class=\"data row1 col6\" >-1.56%</td>\n",
       "    </tr>\n",
       "    <tr>\n",
       "      <th id=\"T_966c0_level6_row2\" class=\"row_heading level6 row2\" >2</th>\n",
       "      <td id=\"T_966c0_row2_col0\" class=\"data row2 col0\" >122</td>\n",
       "      <td id=\"T_966c0_row2_col1\" class=\"data row2 col1\" >-15.27%</td>\n",
       "      <td id=\"T_966c0_row2_col2\" class=\"data row2 col2\" >-42.00%</td>\n",
       "      <td id=\"T_966c0_row2_col3\" class=\"data row2 col3\" >-0.280000</td>\n",
       "      <td id=\"T_966c0_row2_col4\" class=\"data row2 col4\" >-0.380000</td>\n",
       "      <td id=\"T_966c0_row2_col5\" class=\"data row2 col5\" >-0.31%</td>\n",
       "      <td id=\"T_966c0_row2_col6\" class=\"data row2 col6\" >-0.65%</td>\n",
       "    </tr>\n",
       "    <tr>\n",
       "      <th id=\"T_966c0_level6_row3\" class=\"row_heading level6 row3\" >3</th>\n",
       "      <td id=\"T_966c0_row3_col0\" class=\"data row3 col0\" >114</td>\n",
       "      <td id=\"T_966c0_row3_col1\" class=\"data row3 col1\" >-21.31%</td>\n",
       "      <td id=\"T_966c0_row3_col2\" class=\"data row3 col2\" >-51.00%</td>\n",
       "      <td id=\"T_966c0_row3_col3\" class=\"data row3 col3\" >-0.380000</td>\n",
       "      <td id=\"T_966c0_row3_col4\" class=\"data row3 col4\" >-0.520000</td>\n",
       "      <td id=\"T_966c0_row3_col5\" class=\"data row3 col5\" >-0.37%</td>\n",
       "      <td id=\"T_966c0_row3_col6\" class=\"data row3 col6\" >-0.25%</td>\n",
       "    </tr>\n",
       "    <tr>\n",
       "      <th id=\"T_966c0_level6_row4\" class=\"row_heading level6 row4\" >4</th>\n",
       "      <td id=\"T_966c0_row4_col0\" class=\"data row4 col0\" >116</td>\n",
       "      <td id=\"T_966c0_row4_col1\" class=\"data row4 col1\" >40.12%</td>\n",
       "      <td id=\"T_966c0_row4_col2\" class=\"data row4 col2\" >-27.00%</td>\n",
       "      <td id=\"T_966c0_row4_col3\" class=\"data row4 col3\" >1.060000</td>\n",
       "      <td id=\"T_966c0_row4_col4\" class=\"data row4 col4\" >1.660000</td>\n",
       "      <td id=\"T_966c0_row4_col5\" class=\"data row4 col5\" >1.79%</td>\n",
       "      <td id=\"T_966c0_row4_col6\" class=\"data row4 col6\" >3.16%</td>\n",
       "    </tr>\n",
       "    <tr>\n",
       "      <th id=\"T_966c0_level6_row5\" class=\"row_heading level6 row5\" >5</th>\n",
       "      <td id=\"T_966c0_row5_col0\" class=\"data row5 col0\" >117</td>\n",
       "      <td id=\"T_966c0_row5_col1\" class=\"data row5 col1\" >-1.45%</td>\n",
       "      <td id=\"T_966c0_row5_col2\" class=\"data row5 col2\" >-35.00%</td>\n",
       "      <td id=\"T_966c0_row5_col3\" class=\"data row5 col3\" >0.140000</td>\n",
       "      <td id=\"T_966c0_row5_col4\" class=\"data row5 col4\" >0.210000</td>\n",
       "      <td id=\"T_966c0_row5_col5\" class=\"data row5 col5\" >0.72%</td>\n",
       "      <td id=\"T_966c0_row5_col6\" class=\"data row5 col6\" >0.43%</td>\n",
       "    </tr>\n",
       "    <tr>\n",
       "      <th id=\"T_966c0_level6_row6\" class=\"row_heading level6 row6\" >6</th>\n",
       "      <td id=\"T_966c0_row6_col0\" class=\"data row6 col0\" >121</td>\n",
       "      <td id=\"T_966c0_row6_col1\" class=\"data row6 col1\" >-0.41%</td>\n",
       "      <td id=\"T_966c0_row6_col2\" class=\"data row6 col2\" >-37.00%</td>\n",
       "      <td id=\"T_966c0_row6_col3\" class=\"data row6 col3\" >0.190000</td>\n",
       "      <td id=\"T_966c0_row6_col4\" class=\"data row6 col4\" >0.270000</td>\n",
       "      <td id=\"T_966c0_row6_col5\" class=\"data row6 col5\" >0.18%</td>\n",
       "      <td id=\"T_966c0_row6_col6\" class=\"data row6 col6\" >-0.05%</td>\n",
       "    </tr>\n",
       "    <tr>\n",
       "      <th id=\"T_966c0_level6_row7\" class=\"row_heading level6 row7\" >7</th>\n",
       "      <td id=\"T_966c0_row7_col0\" class=\"data row7 col0\" >122</td>\n",
       "      <td id=\"T_966c0_row7_col1\" class=\"data row7 col1\" >60.14%</td>\n",
       "      <td id=\"T_966c0_row7_col2\" class=\"data row7 col2\" >-23.00%</td>\n",
       "      <td id=\"T_966c0_row7_col3\" class=\"data row7 col3\" >1.560000</td>\n",
       "      <td id=\"T_966c0_row7_col4\" class=\"data row7 col4\" >2.470000</td>\n",
       "      <td id=\"T_966c0_row7_col5\" class=\"data row7 col5\" >2.15%</td>\n",
       "      <td id=\"T_966c0_row7_col6\" class=\"data row7 col6\" >7.05%</td>\n",
       "    </tr>\n",
       "    <tr>\n",
       "      <th id=\"T_966c0_level6_row8\" class=\"row_heading level6 row8\" >8</th>\n",
       "      <td id=\"T_966c0_row8_col0\" class=\"data row8 col0\" >129</td>\n",
       "      <td id=\"T_966c0_row8_col1\" class=\"data row8 col1\" >-10.02%</td>\n",
       "      <td id=\"T_966c0_row8_col2\" class=\"data row8 col2\" >-40.00%</td>\n",
       "      <td id=\"T_966c0_row8_col3\" class=\"data row8 col3\" >-0.090000</td>\n",
       "      <td id=\"T_966c0_row8_col4\" class=\"data row8 col4\" >-0.130000</td>\n",
       "      <td id=\"T_966c0_row8_col5\" class=\"data row8 col5\" >0.12%</td>\n",
       "      <td id=\"T_966c0_row8_col6\" class=\"data row8 col6\" >-1.56%</td>\n",
       "    </tr>\n",
       "  </tbody>\n",
       "</table>\n"
      ],
      "text/plain": [
       "<pandas.io.formats.style.Styler at 0x29fb120e0>"
      ]
     },
     "metadata": {},
     "output_type": "display_data"
    }
   ],
   "source": [
    "from tradeexecutor.analysis.grid_search import analyse_grid_search_result\n",
    "from tradeexecutor.analysis.grid_search import visualise_table\n",
    "table = analyse_grid_search_result(grid_search_results)\n",
    "\n",
    "visualise_table(table)"
   ]
  },
  {
   "cell_type": "markdown",
   "metadata": {
    "collapsed": false
   },
   "source": []
  }
 ],
 "metadata": {
  "kernelspec": {
   "display_name": "trade-executor-8Oz1GdY1-py3.10",
   "language": "python",
   "name": "python3"
  },
  "language_info": {
   "codemirror_mode": {
    "name": "ipython",
    "version": 3
   },
   "file_extension": ".py",
   "mimetype": "text/x-python",
   "name": "python",
   "nbconvert_exporter": "python",
   "pygments_lexer": "ipython3",
   "version": "3.10.13"
  },
  "vscode": {
   "interpreter": {
    "hash": "7adede735167b7e67e1575a49b63099e273f8f003d80ae98ec60bd132e113570"
   }
  }
 },
 "nbformat": 4,
 "nbformat_minor": 4
}
