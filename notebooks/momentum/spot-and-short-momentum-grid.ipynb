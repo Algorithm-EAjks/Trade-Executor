{
 "cells": [
  {
   "attachments": {},
   "cell_type": "markdown",
   "metadata": {},
   "source": [
    "# Spot/short grid search example\n",
    "\n",
    "See ``spot-and-short-momentum.ipynb`` for more details.\n",
    "This notebook is based on the same strategy, but uses a grid search to test out different parameters.\n",
    "\n",
    "To run:\n",
    "\n",
    "```shell\n",
    "ipython notebooks/spot-and-short-momentum-grid.ipynb\n",
    "```"
   ]
  },
  {
   "cell_type": "markdown",
   "metadata": {},
   "source": [
    "### Grid search target strategy loading\n"
   ]
  },
  {
   "cell_type": "code",
   "execution_count": 1,
   "metadata": {
    "ExecuteTime": {
     "end_time": "2023-11-06T11:23:56.822575Z",
     "start_time": "2023-11-06T11:23:56.740008Z"
    },
    "collapsed": false,
    "jupyter": {
     "outputs_hidden": false
    }
   },
   "outputs": [
    {
     "name": "stdout",
     "output_type": "stream",
     "text": [
      "Backtesting for strategy /Users/moo/code/ts/trade-executor/strategies/spot-and-short-momentum-grid.py, engine version 0.3\n"
     ]
    }
   ],
   "source": [
    "import datetime\n",
    "import importlib.util\n",
    "import sys\n",
    "\n",
    "from tradeexecutor.utils.default_strategies import get_default_strategies_path\n",
    "\n",
    "strategies_folder = get_default_strategies_path()\n",
    "strategy_path = strategies_folder / \"spot-and-short-momentum-grid.py\"\n",
    "\n",
    "# See https://stackoverflow.com/a/67692/315168\n",
    "spec = importlib.util.spec_from_file_location(\"strategy_mod\", strategy_path)\n",
    "python_mod = importlib.util.module_from_spec(spec)\n",
    "sys.modules[\"strategy_mod\"] = python_mod\n",
    "spec.loader.exec_module(python_mod)\n",
    "\n",
    "print(f\"Backtesting for strategy {strategy_path}, engine version {python_mod.trading_strategy_engine_version}\")"
   ]
  },
  {
   "cell_type": "markdown",
   "metadata": {},
   "source": [
    "### Set up the market data client\n",
    "\n"
   ]
  },
  {
   "cell_type": "code",
   "execution_count": 2,
   "metadata": {
    "ExecuteTime": {
     "end_time": "2023-11-06T11:23:56.825354Z",
     "start_time": "2023-11-06T11:23:56.745601Z"
    },
    "collapsed": false
   },
   "outputs": [
    {
     "name": "stdout",
     "output_type": "stream",
     "text": [
      "Started Trading Strategy in Jupyter notebook environment, configuration is stored in /Users/moo/.tradingstrategy\n"
     ]
    }
   ],
   "source": [
    "from tradingstrategy.client import Client\n",
    "\n",
    "client = Client.create_jupyter_client()"
   ]
  },
  {
   "cell_type": "markdown",
   "metadata": {
    "collapsed": false
   },
   "source": [
    "Load the strategy universe and analyse what trading pairs the strategy code gives for us."
   ]
  },
  {
   "cell_type": "code",
   "execution_count": 3,
   "metadata": {
    "ExecuteTime": {
     "end_time": "2023-11-06T11:23:57.946683Z",
     "start_time": "2023-11-06T11:23:56.753877Z"
    },
    "collapsed": false
   },
   "outputs": [
    {
     "data": {
      "application/vnd.jupyter.widget-view+json": {
       "model_id": "6dd9263e8d2044039e1486479d8b29ed",
       "version_major": 2,
       "version_minor": 0
      },
      "text/plain": [
       "Downloading interest rate data for 5 assets:   0%|          | 0/10 [00:00<?, ?it/s]"
      ]
     },
     "metadata": {},
     "output_type": "display_data"
    }
   ],
   "source": [
    "from tradeexecutor.strategy.execution_context import notebook_execution_context\n",
    "\n",
    "universe = python_mod.create_trading_universe(\n",
    "    datetime.datetime.utcnow(),\n",
    "    client,\n",
    "    notebook_execution_context,\n",
    "    python_mod.universe_options,\n",
    ")"
   ]
  },
  {
   "attachments": {},
   "cell_type": "markdown",
   "metadata": {},
   "source": []
  },
  {
   "cell_type": "markdown",
   "metadata": {
    "collapsed": false
   },
   "source": [
    "## Available trading universe\n",
    "\n",
    "Inspect trading pairs and lending markets we are going to backtest.\n"
   ]
  },
  {
   "cell_type": "code",
   "execution_count": 4,
   "metadata": {
    "ExecuteTime": {
     "end_time": "2023-11-06T11:23:57.947922Z",
     "start_time": "2023-11-06T11:23:57.928149Z"
    },
    "collapsed": false
   },
   "outputs": [
    {
     "data": {
      "text/html": [
       "<table border=\"1\" class=\"dataframe\">\n",
       "  <thead>\n",
       "    <tr style=\"text-align: right;\">\n",
       "      <th></th>\n",
       "      <th>Lending asset</th>\n",
       "      <th>Stablecoin</th>\n",
       "      <th>Best trading pair</th>\n",
       "      <th>Lending available at</th>\n",
       "      <th>Trading available at</th>\n",
       "      <th>Price data page</th>\n",
       "      <th>Lending rate page</th>\n",
       "    </tr>\n",
       "  </thead>\n",
       "  <tbody>\n",
       "    <tr>\n",
       "      <th>0</th>\n",
       "      <td>BAL</td>\n",
       "      <td>no</td>\n",
       "      <td>No AMM pools found</td>\n",
       "      <td>2022-03-16</td>\n",
       "      <td>-</td>\n",
       "      <td><a href=\"-\">View</a></td>\n",
       "      <td><a href=\"https://tradingstrategy.ai/trading-view/polygon/lending/aave_v3/bal\">View</a></td>\n",
       "    </tr>\n",
       "    <tr>\n",
       "      <th>1</th>\n",
       "      <td>LINK</td>\n",
       "      <td>no</td>\n",
       "      <td>LINK-USDC at 5 BPS fee tier on Uniswap v3</td>\n",
       "      <td>2022-03-16</td>\n",
       "      <td>2022-08-21</td>\n",
       "      <td><a href=\"https://tradingstrategy.ai/trading-view/polygon/uniswap-v3/link-usdc-fee-5\">View</a></td>\n",
       "      <td><a href=\"https://tradingstrategy.ai/trading-view/polygon/lending/aave_v3/link\">View</a></td>\n",
       "    </tr>\n",
       "    <tr>\n",
       "      <th>2</th>\n",
       "      <td>USDC</td>\n",
       "      <td>yes</td>\n",
       "      <td>No AMM pools found</td>\n",
       "      <td>2022-03-16</td>\n",
       "      <td>-</td>\n",
       "      <td><a href=\"-\">View</a></td>\n",
       "      <td><a href=\"https://tradingstrategy.ai/trading-view/polygon/lending/aave_v3/usdc\">View</a></td>\n",
       "    </tr>\n",
       "    <tr>\n",
       "      <th>3</th>\n",
       "      <td>WETH</td>\n",
       "      <td>no</td>\n",
       "      <td>WETH-USDC at 5 BPS fee tier on Uniswap v3</td>\n",
       "      <td>2022-03-16</td>\n",
       "      <td>2022-07-07</td>\n",
       "      <td><a href=\"https://tradingstrategy.ai/trading-view/polygon/uniswap-v3/eth-usdc-fee-5\">View</a></td>\n",
       "      <td><a href=\"https://tradingstrategy.ai/trading-view/polygon/lending/aave_v3/weth\">View</a></td>\n",
       "    </tr>\n",
       "    <tr>\n",
       "      <th>4</th>\n",
       "      <td>WMATIC</td>\n",
       "      <td>no</td>\n",
       "      <td>WMATIC-USDC at 5 BPS fee tier on Uniswap v3</td>\n",
       "      <td>2022-03-12</td>\n",
       "      <td>2022-07-07</td>\n",
       "      <td><a href=\"https://tradingstrategy.ai/trading-view/polygon/uniswap-v3/matic-usdc-fee-5\">View</a></td>\n",
       "      <td><a href=\"https://tradingstrategy.ai/trading-view/polygon/lending/aave_v3/wmatic\">View</a></td>\n",
       "    </tr>\n",
       "  </tbody>\n",
       "</table>"
      ],
      "text/plain": [
       "<IPython.core.display.HTML object>"
      ]
     },
     "metadata": {},
     "output_type": "display_data"
    }
   ],
   "source": [
    "from IPython.display import HTML\n",
    "\n",
    "from tradeexecutor.analysis.universe import analyse_long_short_universe\n",
    "from tradingstrategy.utils.jupyter import format_links_for_html_output\n",
    "\n",
    "df = analyse_long_short_universe(universe)\n",
    "df = format_links_for_html_output(df, (\"Price data page\", \"Lending rate page\",))\n",
    "\n",
    "display(HTML(df.to_html(escape=False)))"
   ]
  },
  {
   "cell_type": "markdown",
   "metadata": {},
   "source": [
    "## Run grid search"
   ]
  },
  {
   "cell_type": "code",
   "execution_count": 5,
   "metadata": {
    "ExecuteTime": {
     "end_time": "2023-11-06T11:24:00.239763Z",
     "start_time": "2023-11-06T11:23:57.941020Z"
    },
    "collapsed": false,
    "jupyter": {
     "outputs_hidden": false
    }
   },
   "outputs": [
    {
     "data": {
      "application/vnd.jupyter.widget-view+json": {
       "model_id": "838b716155c54d74b7653f9d0cce342e",
       "version_major": 2,
       "version_minor": 0
      },
      "text/plain": [
       "  0%|          | 0/57801600 [00:00<?, ?it/s]"
      ]
     },
     "metadata": {},
     "output_type": "display_data"
    },
    {
     "data": {
      "application/vnd.jupyter.widget-view+json": {
       "model_id": "8112f5cbc69e4e14a43b184ab7ab52f3",
       "version_major": 2,
       "version_minor": 0
      },
      "text/plain": [
       "  0%|          | 0/57801600 [00:00<?, ?it/s]"
      ]
     },
     "metadata": {},
     "output_type": "display_data"
    },
    {
     "data": {
      "application/vnd.jupyter.widget-view+json": {
       "model_id": "c666f06f36064f7796472c61576d20b0",
       "version_major": 2,
       "version_minor": 0
      },
      "text/plain": [
       "  0%|          | 0/57801600 [00:00<?, ?it/s]"
      ]
     },
     "metadata": {},
     "output_type": "display_data"
    },
    {
     "data": {
      "application/vnd.jupyter.widget-view+json": {
       "model_id": "9223cc5f1c1b436f88545306bb827e09",
       "version_major": 2,
       "version_minor": 0
      },
      "text/plain": [
       "  0%|          | 0/57801600 [00:00<?, ?it/s]"
      ]
     },
     "metadata": {},
     "output_type": "display_data"
    },
    {
     "data": {
      "application/vnd.jupyter.widget-view+json": {
       "model_id": "56a5dcafad2b48d28498ff646daf4010",
       "version_major": 2,
       "version_minor": 0
      },
      "text/plain": [
       "  0%|          | 0/57801600 [00:00<?, ?it/s]"
      ]
     },
     "metadata": {},
     "output_type": "display_data"
    },
    {
     "data": {
      "application/vnd.jupyter.widget-view+json": {
       "model_id": "f613ff9588f04244ba14e30f0f1c100b",
       "version_major": 2,
       "version_minor": 0
      },
      "text/plain": [
       "  0%|          | 0/57801600 [00:00<?, ?it/s]"
      ]
     },
     "metadata": {},
     "output_type": "display_data"
    },
    {
     "data": {
      "application/vnd.jupyter.widget-view+json": {
       "model_id": "16f018c7a94d4f4ab84dca71abda0a3f",
       "version_major": 2,
       "version_minor": 0
      },
      "text/plain": [
       "  0%|          | 0/57801600 [00:00<?, ?it/s]"
      ]
     },
     "metadata": {},
     "output_type": "display_data"
    },
    {
     "data": {
      "application/vnd.jupyter.widget-view+json": {
       "model_id": "8f664db95a004f84ab4d8b5f5f89fb05",
       "version_major": 2,
       "version_minor": 0
      },
      "text/plain": [
       "  0%|          | 0/57801600 [00:00<?, ?it/s]"
      ]
     },
     "metadata": {},
     "output_type": "display_data"
    },
    {
     "data": {
      "application/vnd.jupyter.widget-view+json": {
       "model_id": "f11e2aace0894de29d659065ae760a8d",
       "version_major": 2,
       "version_minor": 0
      },
      "text/plain": [
       "  0%|          | 0/57801600 [00:00<?, ?it/s]"
      ]
     },
     "metadata": {},
     "output_type": "display_data"
    },
    {
     "data": {
      "application/vnd.jupyter.widget-view+json": {
       "model_id": "0a59bebd02884157a24348c699f05a1e",
       "version_major": 2,
       "version_minor": 0
      },
      "text/plain": [
       "  0%|          | 0/57801600 [00:00<?, ?it/s]"
      ]
     },
     "metadata": {},
     "output_type": "display_data"
    },
    {
     "data": {
      "application/vnd.jupyter.widget-view+json": {
       "model_id": "397aefeea20f43a1bed5b3568f8668de",
       "version_major": 2,
       "version_minor": 0
      },
      "text/plain": [
       "  0%|          | 0/57801600 [00:00<?, ?it/s]"
      ]
     },
     "metadata": {},
     "output_type": "display_data"
    },
    {
     "data": {
      "application/vnd.jupyter.widget-view+json": {
       "model_id": "d00a9efd775d477c872bb958b7ed5d60",
       "version_major": 2,
       "version_minor": 0
      },
      "text/plain": [
       "  0%|          | 0/57801600 [00:00<?, ?it/s]"
      ]
     },
     "metadata": {},
     "output_type": "display_data"
    },
    {
     "data": {
      "application/vnd.jupyter.widget-view+json": {
       "model_id": "602e5796fd314420911f63813d89caef",
       "version_major": 2,
       "version_minor": 0
      },
      "text/plain": [
       "  0%|          | 0/57801600 [00:00<?, ?it/s]"
      ]
     },
     "metadata": {},
     "output_type": "display_data"
    },
    {
     "data": {
      "application/vnd.jupyter.widget-view+json": {
       "model_id": "47d8bf890f0a4f7eba40c2839daaf6ce",
       "version_major": 2,
       "version_minor": 0
      },
      "text/plain": [
       "  0%|          | 0/57801600 [00:00<?, ?it/s]"
      ]
     },
     "metadata": {},
     "output_type": "display_data"
    },
    {
     "data": {
      "application/vnd.jupyter.widget-view+json": {
       "model_id": "93960dd2f31e46938dfefb4e005309f1",
       "version_major": 2,
       "version_minor": 0
      },
      "text/plain": [
       "  0%|          | 0/57801600 [00:00<?, ?it/s]"
      ]
     },
     "metadata": {},
     "output_type": "display_data"
    },
    {
     "data": {
      "application/vnd.jupyter.widget-view+json": {
       "model_id": "738195c0ef864dadbe874417bb99f922",
       "version_major": 2,
       "version_minor": 0
      },
      "text/plain": [
       "  0%|          | 0/57801600 [00:00<?, ?it/s]"
      ]
     },
     "metadata": {},
     "output_type": "display_data"
    },
    {
     "data": {
      "application/vnd.jupyter.widget-view+json": {
       "model_id": "90142a6a84f740aa9a9bc2695259cacf",
       "version_major": 2,
       "version_minor": 0
      },
      "text/plain": [
       "  0%|          | 0/57801600 [00:00<?, ?it/s]"
      ]
     },
     "metadata": {},
     "output_type": "display_data"
    },
    {
     "data": {
      "application/vnd.jupyter.widget-view+json": {
       "model_id": "51af3310ead842aa922eabb94e6348cb",
       "version_major": 2,
       "version_minor": 0
      },
      "text/plain": [
       "  0%|          | 0/57801600 [00:00<?, ?it/s]"
      ]
     },
     "metadata": {},
     "output_type": "display_data"
    },
    {
     "data": {
      "application/vnd.jupyter.widget-view+json": {
       "model_id": "6e59abf9f3bd462e8d5aa3be94f27b72",
       "version_major": 2,
       "version_minor": 0
      },
      "text/plain": [
       "  0%|          | 0/57801600 [00:00<?, ?it/s]"
      ]
     },
     "metadata": {},
     "output_type": "display_data"
    },
    {
     "data": {
      "application/vnd.jupyter.widget-view+json": {
       "model_id": "006f58c10f9a4b5cbea55c18c5cfeeb5",
       "version_major": 2,
       "version_minor": 0
      },
      "text/plain": [
       "  0%|          | 0/57801600 [00:00<?, ?it/s]"
      ]
     },
     "metadata": {},
     "output_type": "display_data"
    },
    {
     "data": {
      "application/vnd.jupyter.widget-view+json": {
       "model_id": "676b1b9e9c7245b9b205553a1ef8a9bc",
       "version_major": 2,
       "version_minor": 0
      },
      "text/plain": [
       "  0%|          | 0/57801600 [00:00<?, ?it/s]"
      ]
     },
     "metadata": {},
     "output_type": "display_data"
    },
    {
     "data": {
      "application/vnd.jupyter.widget-view+json": {
       "model_id": "e74cd1d13ee54bc5b153a3a85b0d0f0d",
       "version_major": 2,
       "version_minor": 0
      },
      "text/plain": [
       "  0%|          | 0/57801600 [00:00<?, ?it/s]"
      ]
     },
     "metadata": {},
     "output_type": "display_data"
    },
    {
     "data": {
      "application/vnd.jupyter.widget-view+json": {
       "model_id": "330352197cc34817af307333680049cb",
       "version_major": 2,
       "version_minor": 0
      },
      "text/plain": [
       "  0%|          | 0/57801600 [00:00<?, ?it/s]"
      ]
     },
     "metadata": {},
     "output_type": "display_data"
    },
    {
     "data": {
      "application/vnd.jupyter.widget-view+json": {
       "model_id": "4304a9143bd54659a56491c7632ab83d",
       "version_major": 2,
       "version_minor": 0
      },
      "text/plain": [
       "  0%|          | 0/57801600 [00:00<?, ?it/s]"
      ]
     },
     "metadata": {},
     "output_type": "display_data"
    },
    {
     "data": {
      "application/vnd.jupyter.widget-view+json": {
       "model_id": "4c853a10cb9f4817bb232b43129a94be",
       "version_major": 2,
       "version_minor": 0
      },
      "text/plain": [
       "  0%|          | 0/57801600 [00:00<?, ?it/s]"
      ]
     },
     "metadata": {},
     "output_type": "display_data"
    },
    {
     "data": {
      "application/vnd.jupyter.widget-view+json": {
       "model_id": "efd2785568974559babb97e86b2df028",
       "version_major": 2,
       "version_minor": 0
      },
      "text/plain": [
       "  0%|          | 0/57801600 [00:00<?, ?it/s]"
      ]
     },
     "metadata": {},
     "output_type": "display_data"
    },
    {
     "data": {
      "application/vnd.jupyter.widget-view+json": {
       "model_id": "2c464596ca8c473d971c055fa2a40920",
       "version_major": 2,
       "version_minor": 0
      },
      "text/plain": [
       "  0%|          | 0/57801600 [00:00<?, ?it/s]"
      ]
     },
     "metadata": {},
     "output_type": "display_data"
    },
    {
     "data": {
      "application/vnd.jupyter.widget-view+json": {
       "model_id": "9ede27f4fdfd4d2caf8e27d89ee55f38",
       "version_major": 2,
       "version_minor": 0
      },
      "text/plain": [
       "  0%|          | 0/57801600 [00:00<?, ?it/s]"
      ]
     },
     "metadata": {},
     "output_type": "display_data"
    },
    {
     "data": {
      "application/vnd.jupyter.widget-view+json": {
       "model_id": "645f8711a5f14a7e9b355da6ba0653cd",
       "version_major": 2,
       "version_minor": 0
      },
      "text/plain": [
       "  0%|          | 0/57801600 [00:00<?, ?it/s]"
      ]
     },
     "metadata": {},
     "output_type": "display_data"
    },
    {
     "data": {
      "application/vnd.jupyter.widget-view+json": {
       "model_id": "a183f6ae874941ae9928ae1287fbe02b",
       "version_major": 2,
       "version_minor": 0
      },
      "text/plain": [
       "  0%|          | 0/57801600 [00:00<?, ?it/s]"
      ]
     },
     "metadata": {},
     "output_type": "display_data"
    },
    {
     "data": {
      "application/vnd.jupyter.widget-view+json": {
       "model_id": "0a999f074eaf46ef9952e9fbdc50bd03",
       "version_major": 2,
       "version_minor": 0
      },
      "text/plain": [
       "  0%|          | 0/57801600 [00:00<?, ?it/s]"
      ]
     },
     "metadata": {},
     "output_type": "display_data"
    },
    {
     "data": {
      "application/vnd.jupyter.widget-view+json": {
       "model_id": "8e7da8ca2bb34a5fa1aa33636e4eb4e6",
       "version_major": 2,
       "version_minor": 0
      },
      "text/plain": [
       "  0%|          | 0/57801600 [00:00<?, ?it/s]"
      ]
     },
     "metadata": {},
     "output_type": "display_data"
    },
    {
     "data": {
      "application/vnd.jupyter.widget-view+json": {
       "model_id": "5c6ee472c16441f2849a0d3b102944a3",
       "version_major": 2,
       "version_minor": 0
      },
      "text/plain": [
       "  0%|          | 0/57801600 [00:00<?, ?it/s]"
      ]
     },
     "metadata": {},
     "output_type": "display_data"
    },
    {
     "data": {
      "application/vnd.jupyter.widget-view+json": {
       "model_id": "fd5a7edcf30444df8c1e98523f6936a7",
       "version_major": 2,
       "version_minor": 0
      },
      "text/plain": [
       "  0%|          | 0/57801600 [00:00<?, ?it/s]"
      ]
     },
     "metadata": {},
     "output_type": "display_data"
    },
    {
     "data": {
      "application/vnd.jupyter.widget-view+json": {
       "model_id": "74d54afc82a74d518b73a41ddd481a03",
       "version_major": 2,
       "version_minor": 0
      },
      "text/plain": [
       "  0%|          | 0/57801600 [00:00<?, ?it/s]"
      ]
     },
     "metadata": {},
     "output_type": "display_data"
    },
    {
     "data": {
      "application/vnd.jupyter.widget-view+json": {
       "model_id": "e4abb05e8a1a463a923aaedc7840bdf2",
       "version_major": 2,
       "version_minor": 0
      },
      "text/plain": [
       "  0%|          | 0/57801600 [00:00<?, ?it/s]"
      ]
     },
     "metadata": {},
     "output_type": "display_data"
    },
    {
     "data": {
      "application/vnd.jupyter.widget-view+json": {
       "model_id": "c454246198e644bfa3e3b72ed5b0182e",
       "version_major": 2,
       "version_minor": 0
      },
      "text/plain": [
       "  0%|          | 0/57801600 [00:00<?, ?it/s]"
      ]
     },
     "metadata": {},
     "output_type": "display_data"
    },
    {
     "data": {
      "application/vnd.jupyter.widget-view+json": {
       "model_id": "37096560c05046ee935e0d352eeefc47",
       "version_major": 2,
       "version_minor": 0
      },
      "text/plain": [
       "  0%|          | 0/57801600 [00:00<?, ?it/s]"
      ]
     },
     "metadata": {},
     "output_type": "display_data"
    },
    {
     "data": {
      "application/vnd.jupyter.widget-view+json": {
       "model_id": "fc56e8c3811a4ee68fc4a2749eb0e749",
       "version_major": 2,
       "version_minor": 0
      },
      "text/plain": [
       "  0%|          | 0/57801600 [00:00<?, ?it/s]"
      ]
     },
     "metadata": {},
     "output_type": "display_data"
    },
    {
     "data": {
      "application/vnd.jupyter.widget-view+json": {
       "model_id": "9ba106a02d8c43de90c1f33f3d450053",
       "version_major": 2,
       "version_minor": 0
      },
      "text/plain": [
       "  0%|          | 0/57801600 [00:00<?, ?it/s]"
      ]
     },
     "metadata": {},
     "output_type": "display_data"
    },
    {
     "data": {
      "application/vnd.jupyter.widget-view+json": {
       "model_id": "b50ada04f7c34367afe57f0c4c7d6a04",
       "version_major": 2,
       "version_minor": 0
      },
      "text/plain": [
       "  0%|          | 0/57801600 [00:00<?, ?it/s]"
      ]
     },
     "metadata": {},
     "output_type": "display_data"
    },
    {
     "data": {
      "application/vnd.jupyter.widget-view+json": {
       "model_id": "4457ce86e1c24881834f5286053dbd41",
       "version_major": 2,
       "version_minor": 0
      },
      "text/plain": [
       "  0%|          | 0/57801600 [00:00<?, ?it/s]"
      ]
     },
     "metadata": {},
     "output_type": "display_data"
    },
    {
     "data": {
      "application/vnd.jupyter.widget-view+json": {
       "model_id": "d394a96051e44fe9b689c713f329d2ef",
       "version_major": 2,
       "version_minor": 0
      },
      "text/plain": [
       "  0%|          | 0/57801600 [00:00<?, ?it/s]"
      ]
     },
     "metadata": {},
     "output_type": "display_data"
    },
    {
     "data": {
      "application/vnd.jupyter.widget-view+json": {
       "model_id": "db53918ef282449ca0a545ef105bcdc7",
       "version_major": 2,
       "version_minor": 0
      },
      "text/plain": [
       "  0%|          | 0/57801600 [00:00<?, ?it/s]"
      ]
     },
     "metadata": {},
     "output_type": "display_data"
    },
    {
     "data": {
      "application/vnd.jupyter.widget-view+json": {
       "model_id": "e7478bdc0d9b4047a4ed7d2bbb1df0fb",
       "version_major": 2,
       "version_minor": 0
      },
      "text/plain": [
       "  0%|          | 0/57801600 [00:00<?, ?it/s]"
      ]
     },
     "metadata": {},
     "output_type": "display_data"
    },
    {
     "data": {
      "application/vnd.jupyter.widget-view+json": {
       "model_id": "6564a895d2904ce09ff0818afab91622",
       "version_major": 2,
       "version_minor": 0
      },
      "text/plain": [
       "  0%|          | 0/57801600 [00:00<?, ?it/s]"
      ]
     },
     "metadata": {},
     "output_type": "display_data"
    },
    {
     "data": {
      "application/vnd.jupyter.widget-view+json": {
       "model_id": "485d1598c81748569d160a99844fcbd4",
       "version_major": 2,
       "version_minor": 0
      },
      "text/plain": [
       "  0%|          | 0/57801600 [00:00<?, ?it/s]"
      ]
     },
     "metadata": {},
     "output_type": "display_data"
    },
    {
     "data": {
      "application/vnd.jupyter.widget-view+json": {
       "model_id": "2084d9956b224dc7a901e907b26ddfa8",
       "version_major": 2,
       "version_minor": 0
      },
      "text/plain": [
       "  0%|          | 0/57801600 [00:00<?, ?it/s]"
      ]
     },
     "metadata": {},
     "output_type": "display_data"
    },
    {
     "data": {
      "application/vnd.jupyter.widget-view+json": {
       "model_id": "9bd88a6d189f40d599aaee45e7872615",
       "version_major": 2,
       "version_minor": 0
      },
      "text/plain": [
       "  0%|          | 0/57801600 [00:00<?, ?it/s]"
      ]
     },
     "metadata": {},
     "output_type": "display_data"
    },
    {
     "data": {
      "application/vnd.jupyter.widget-view+json": {
       "model_id": "f1bdb35d8a9e42d888b6b6f66460548a",
       "version_major": 2,
       "version_minor": 0
      },
      "text/plain": [
       "  0%|          | 0/57801600 [00:00<?, ?it/s]"
      ]
     },
     "metadata": {},
     "output_type": "display_data"
    },
    {
     "data": {
      "application/vnd.jupyter.widget-view+json": {
       "model_id": "60718eb178034c8cb21a4564ed02822c",
       "version_major": 2,
       "version_minor": 0
      },
      "text/plain": [
       "  0%|          | 0/57801600 [00:00<?, ?it/s]"
      ]
     },
     "metadata": {},
     "output_type": "display_data"
    },
    {
     "data": {
      "application/vnd.jupyter.widget-view+json": {
       "model_id": "ee3e12cff3624fe28bd74663d7ed268c",
       "version_major": 2,
       "version_minor": 0
      },
      "text/plain": [
       "  0%|          | 0/57801600 [00:00<?, ?it/s]"
      ]
     },
     "metadata": {},
     "output_type": "display_data"
    },
    {
     "data": {
      "application/vnd.jupyter.widget-view+json": {
       "model_id": "29199807949340b5843fa11e05f8d144",
       "version_major": 2,
       "version_minor": 0
      },
      "text/plain": [
       "  0%|          | 0/57801600 [00:00<?, ?it/s]"
      ]
     },
     "metadata": {},
     "output_type": "display_data"
    },
    {
     "data": {
      "application/vnd.jupyter.widget-view+json": {
       "model_id": "9b4f671cd52c4042b85c4556e3fa067f",
       "version_major": 2,
       "version_minor": 0
      },
      "text/plain": [
       "  0%|          | 0/57801600 [00:00<?, ?it/s]"
      ]
     },
     "metadata": {},
     "output_type": "display_data"
    },
    {
     "data": {
      "application/vnd.jupyter.widget-view+json": {
       "model_id": "210ac14e11f74bf687adcbdbc26e3123",
       "version_major": 2,
       "version_minor": 0
      },
      "text/plain": [
       "  0%|          | 0/57801600 [00:00<?, ?it/s]"
      ]
     },
     "metadata": {},
     "output_type": "display_data"
    },
    {
     "data": {
      "application/vnd.jupyter.widget-view+json": {
       "model_id": "b552b31b84384647877b3157b1203f1b",
       "version_major": 2,
       "version_minor": 0
      },
      "text/plain": [
       "  0%|          | 0/57801600 [00:00<?, ?it/s]"
      ]
     },
     "metadata": {},
     "output_type": "display_data"
    },
    {
     "data": {
      "application/vnd.jupyter.widget-view+json": {
       "model_id": "5d64d421e78d47cb963f521e8c280617",
       "version_major": 2,
       "version_minor": 0
      },
      "text/plain": [
       "  0%|          | 0/57801600 [00:00<?, ?it/s]"
      ]
     },
     "metadata": {},
     "output_type": "display_data"
    },
    {
     "data": {
      "application/vnd.jupyter.widget-view+json": {
       "model_id": "2c66055e8d0e4d54be1e87f5f3ca5fb9",
       "version_major": 2,
       "version_minor": 0
      },
      "text/plain": [
       "  0%|          | 0/57801600 [00:00<?, ?it/s]"
      ]
     },
     "metadata": {},
     "output_type": "display_data"
    },
    {
     "data": {
      "application/vnd.jupyter.widget-view+json": {
       "model_id": "51a630d192bf4360a4421c937e8d3ab0",
       "version_major": 2,
       "version_minor": 0
      },
      "text/plain": [
       "  0%|          | 0/57801600 [00:00<?, ?it/s]"
      ]
     },
     "metadata": {},
     "output_type": "display_data"
    },
    {
     "data": {
      "application/vnd.jupyter.widget-view+json": {
       "model_id": "40854e44fb324ebba7d9d4e0c0ae149d",
       "version_major": 2,
       "version_minor": 0
      },
      "text/plain": [
       "  0%|          | 0/57801600 [00:00<?, ?it/s]"
      ]
     },
     "metadata": {},
     "output_type": "display_data"
    }
   ],
   "source": [
    "from pathlib import Path\n",
    "from tradeexecutor.backtest.grid_search import perform_grid_search, prepare_grid_combinations\n",
    "\n",
    "# This is the path where we keep the result files around\n",
    "storage_folder = Path(f\"/tmp/{strategy_path.stem}-grid-search\")\n",
    "\n",
    "parameters = {\n",
    "    \"cycle_duration_days\": [7],\n",
    "    \"momentum_lookback\": [7],\n",
    "    \"take_profit\": [1.06, 1.07, 1.08],\n",
    "    \"positive_mometum_threshold\": [0.0001, 0.01, 0.025, 0.04],\n",
    "    \"negative_mometum_threshold\": [-0.04, -0.05, -0.06, -0.07],\n",
    "}\n",
    "combinations = prepare_grid_combinations(parameters, storage_folder, clear_cached_results=True)\n",
    "\n",
    "grid_search_results = perform_grid_search(\n",
    "    python_mod.grid_search_worker,\n",
    "    universe,\n",
    "    combinations,\n",
    "    max_workers=4,\n",
    ")\n"
   ]
  },
  {
   "attachments": {},
   "cell_type": "markdown",
   "metadata": {},
   "source": [
    "## Examine grid search results\n"
   ]
  },
  {
   "cell_type": "code",
   "execution_count": 6,
   "metadata": {
    "ExecuteTime": {
     "end_time": "2023-11-06T11:24:00.246393Z",
     "start_time": "2023-11-06T11:24:00.242327Z"
    },
    "collapsed": false,
    "jupyter": {
     "outputs_hidden": false
    }
   },
   "outputs": [
    {
     "data": {
      "text/html": [
       "<style type=\"text/css\">\n",
       "#T_a2a58_row0_col1, #T_a2a58_row11_col3, #T_a2a58_row36_col1 {\n",
       "  background-color: #4697c4;\n",
       "  color: #f1f1f1;\n",
       "}\n",
       "#T_a2a58_row0_col2, #T_a2a58_row21_col2 {\n",
       "  background-color: #034871;\n",
       "  color: #f1f1f1;\n",
       "}\n",
       "#T_a2a58_row0_col3 {\n",
       "  background-color: #1c7fb8;\n",
       "  color: #f1f1f1;\n",
       "}\n",
       "#T_a2a58_row0_col4 {\n",
       "  background-color: #2987bc;\n",
       "  color: #f1f1f1;\n",
       "}\n",
       "#T_a2a58_row0_col5, #T_a2a58_row24_col4, #T_a2a58_row47_col5, #T_a2a58_row58_col4 {\n",
       "  background-color: #8fb4d6;\n",
       "  color: #000000;\n",
       "}\n",
       "#T_a2a58_row0_col6, #T_a2a58_row3_col6, #T_a2a58_row5_col6, #T_a2a58_row14_col6 {\n",
       "  background-color: #1379b5;\n",
       "  color: #f1f1f1;\n",
       "}\n",
       "#T_a2a58_row1_col1 {\n",
       "  background-color: #3f93c2;\n",
       "  color: #f1f1f1;\n",
       "}\n",
       "#T_a2a58_row1_col2 {\n",
       "  background-color: #04639b;\n",
       "  color: #f1f1f1;\n",
       "}\n",
       "#T_a2a58_row1_col3, #T_a2a58_row4_col6, #T_a2a58_row9_col6, #T_a2a58_row25_col3, #T_a2a58_row26_col4, #T_a2a58_row48_col5 {\n",
       "  background-color: #0c74b2;\n",
       "  color: #f1f1f1;\n",
       "}\n",
       "#T_a2a58_row1_col4, #T_a2a58_row8_col6, #T_a2a58_row19_col6, #T_a2a58_row56_col1 {\n",
       "  background-color: #157ab5;\n",
       "  color: #f1f1f1;\n",
       "}\n",
       "#T_a2a58_row1_col5, #T_a2a58_row3_col1 {\n",
       "  background-color: #a7bddb;\n",
       "  color: #000000;\n",
       "}\n",
       "#T_a2a58_row1_col6, #T_a2a58_row10_col6, #T_a2a58_row26_col2, #T_a2a58_row31_col2, #T_a2a58_row46_col5 {\n",
       "  background-color: #167bb6;\n",
       "  color: #f1f1f1;\n",
       "}\n",
       "#T_a2a58_row2_col1, #T_a2a58_row18_col5 {\n",
       "  background-color: #cccfe5;\n",
       "  color: #000000;\n",
       "}\n",
       "#T_a2a58_row2_col2, #T_a2a58_row3_col2, #T_a2a58_row4_col2, #T_a2a58_row22_col2, #T_a2a58_row23_col2, #T_a2a58_row24_col2, #T_a2a58_row29_col2, #T_a2a58_row33_col2, #T_a2a58_row34_col2, #T_a2a58_row53_col2, #T_a2a58_row59_col2 {\n",
       "  background-color: #80aed2;\n",
       "  color: #f1f1f1;\n",
       "}\n",
       "#T_a2a58_row2_col3, #T_a2a58_row8_col5 {\n",
       "  background-color: #b5c4df;\n",
       "  color: #000000;\n",
       "}\n",
       "#T_a2a58_row2_col4, #T_a2a58_row11_col5, #T_a2a58_row13_col5 {\n",
       "  background-color: #c4cbe3;\n",
       "  color: #000000;\n",
       "}\n",
       "#T_a2a58_row2_col5 {\n",
       "  background-color: #e6e2ef;\n",
       "  color: #000000;\n",
       "}\n",
       "#T_a2a58_row2_col6, #T_a2a58_row6_col6, #T_a2a58_row13_col6, #T_a2a58_row18_col6, #T_a2a58_row34_col5, #T_a2a58_row46_col1 {\n",
       "  background-color: #187cb6;\n",
       "  color: #f1f1f1;\n",
       "}\n",
       "#T_a2a58_row3_col3, #T_a2a58_row5_col3, #T_a2a58_row10_col1, #T_a2a58_row22_col4, #T_a2a58_row33_col1, #T_a2a58_row42_col5 {\n",
       "  background-color: #78abd0;\n",
       "  color: #f1f1f1;\n",
       "}\n",
       "#T_a2a58_row3_col4, #T_a2a58_row16_col3, #T_a2a58_row16_col4, #T_a2a58_row44_col3 {\n",
       "  background-color: #93b5d6;\n",
       "  color: #000000;\n",
       "}\n",
       "#T_a2a58_row3_col5, #T_a2a58_row15_col1 {\n",
       "  background-color: #acc0dd;\n",
       "  color: #000000;\n",
       "}\n",
       "#T_a2a58_row4_col1, #T_a2a58_row18_col1, #T_a2a58_row27_col3, #T_a2a58_row36_col6, #T_a2a58_row57_col4 {\n",
       "  background-color: #d9d8ea;\n",
       "  color: #000000;\n",
       "}\n",
       "#T_a2a58_row4_col3, #T_a2a58_row32_col4, #T_a2a58_row52_col5 {\n",
       "  background-color: #bcc7e1;\n",
       "  color: #000000;\n",
       "}\n",
       "#T_a2a58_row4_col4 {\n",
       "  background-color: #ced0e6;\n",
       "  color: #000000;\n",
       "}\n",
       "#T_a2a58_row4_col5 {\n",
       "  background-color: #abbfdc;\n",
       "  color: #000000;\n",
       "}\n",
       "#T_a2a58_row5_col1, #T_a2a58_row15_col4 {\n",
       "  background-color: #9ab8d8;\n",
       "  color: #000000;\n",
       "}\n",
       "#T_a2a58_row5_col2, #T_a2a58_row10_col2, #T_a2a58_row11_col2, #T_a2a58_row30_col2, #T_a2a58_row36_col2 {\n",
       "  background-color: #2d8abd;\n",
       "  color: #f1f1f1;\n",
       "}\n",
       "#T_a2a58_row5_col4 {\n",
       "  background-color: #88b1d4;\n",
       "  color: #000000;\n",
       "}\n",
       "#T_a2a58_row5_col5 {\n",
       "  background-color: #9cb9d9;\n",
       "  color: #000000;\n",
       "}\n",
       "#T_a2a58_row6_col1, #T_a2a58_row24_col1 {\n",
       "  background-color: #94b6d7;\n",
       "  color: #000000;\n",
       "}\n",
       "#T_a2a58_row6_col2, #T_a2a58_row35_col4, #T_a2a58_row42_col2, #T_a2a58_row43_col2, #T_a2a58_row44_col2, #T_a2a58_row45_col2, #T_a2a58_row49_col2, #T_a2a58_row50_col2, #T_a2a58_row54_col2, #T_a2a58_row55_col2 {\n",
       "  background-color: #65a3cb;\n",
       "  color: #f1f1f1;\n",
       "}\n",
       "#T_a2a58_row6_col3, #T_a2a58_row12_col6 {\n",
       "  background-color: #6ba5cd;\n",
       "  color: #f1f1f1;\n",
       "}\n",
       "#T_a2a58_row6_col4, #T_a2a58_row24_col3 {\n",
       "  background-color: #75a9cf;\n",
       "  color: #f1f1f1;\n",
       "}\n",
       "#T_a2a58_row6_col5, #T_a2a58_row9_col5, #T_a2a58_row34_col1, #T_a2a58_row38_col3 {\n",
       "  background-color: #b3c3de;\n",
       "  color: #000000;\n",
       "}\n",
       "#T_a2a58_row7_col1, #T_a2a58_row7_col4, #T_a2a58_row51_col6, #T_a2a58_row56_col6 {\n",
       "  background-color: #fef6fa;\n",
       "  color: #000000;\n",
       "}\n",
       "#T_a2a58_row7_col2, #T_a2a58_row7_col5, #T_a2a58_row17_col2, #T_a2a58_row32_col2, #T_a2a58_row39_col4 {\n",
       "  background-color: #ede8f3;\n",
       "  color: #000000;\n",
       "}\n",
       "#T_a2a58_row7_col3 {\n",
       "  background-color: #fdf5fa;\n",
       "  color: #000000;\n",
       "}\n",
       "#T_a2a58_row7_col6, #T_a2a58_row15_col6, #T_a2a58_row24_col6, #T_a2a58_row25_col4, #T_a2a58_row29_col6 {\n",
       "  background-color: #197db7;\n",
       "  color: #f1f1f1;\n",
       "}\n",
       "#T_a2a58_row8_col1, #T_a2a58_row47_col1 {\n",
       "  background-color: #e3e0ee;\n",
       "  color: #000000;\n",
       "}\n",
       "#T_a2a58_row8_col2, #T_a2a58_row13_col2, #T_a2a58_row27_col5, #T_a2a58_row28_col2, #T_a2a58_row38_col2, #T_a2a58_row39_col2, #T_a2a58_row48_col2, #T_a2a58_row58_col2 {\n",
       "  background-color: #97b7d7;\n",
       "  color: #000000;\n",
       "}\n",
       "#T_a2a58_row8_col3, #T_a2a58_row29_col4, #T_a2a58_row57_col1 {\n",
       "  background-color: #d5d5e8;\n",
       "  color: #000000;\n",
       "}\n",
       "#T_a2a58_row8_col4, #T_a2a58_row27_col1, #T_a2a58_row49_col1 {\n",
       "  background-color: #dedcec;\n",
       "  color: #000000;\n",
       "}\n",
       "#T_a2a58_row9_col1, #T_a2a58_row41_col6 {\n",
       "  background-color: #f7f0f7;\n",
       "  color: #000000;\n",
       "}\n",
       "#T_a2a58_row9_col2, #T_a2a58_row10_col5, #T_a2a58_row14_col2, #T_a2a58_row16_col1, #T_a2a58_row18_col2, #T_a2a58_row32_col3, #T_a2a58_row35_col6, #T_a2a58_row52_col4 {\n",
       "  background-color: #adc1dd;\n",
       "  color: #000000;\n",
       "}\n",
       "#T_a2a58_row9_col3, #T_a2a58_row59_col6 {\n",
       "  background-color: #f0eaf4;\n",
       "  color: #000000;\n",
       "}\n",
       "#T_a2a58_row9_col4 {\n",
       "  background-color: #f4eef6;\n",
       "  color: #000000;\n",
       "}\n",
       "#T_a2a58_row10_col3, #T_a2a58_row16_col6, #T_a2a58_row33_col5, #T_a2a58_row53_col3 {\n",
       "  background-color: #5a9ec9;\n",
       "  color: #f1f1f1;\n",
       "}\n",
       "#T_a2a58_row10_col4 {\n",
       "  background-color: #63a2cb;\n",
       "  color: #f1f1f1;\n",
       "}\n",
       "#T_a2a58_row11_col1 {\n",
       "  background-color: #73a9cf;\n",
       "  color: #f1f1f1;\n",
       "}\n",
       "#T_a2a58_row11_col4 {\n",
       "  background-color: #4c99c5;\n",
       "  color: #f1f1f1;\n",
       "}\n",
       "#T_a2a58_row11_col6 {\n",
       "  background-color: #1e80b8;\n",
       "  color: #f1f1f1;\n",
       "}\n",
       "#T_a2a58_row12_col1, #T_a2a58_row12_col4, #T_a2a58_row37_col1, #T_a2a58_row39_col1 {\n",
       "  background-color: #ece7f2;\n",
       "  color: #000000;\n",
       "}\n",
       "#T_a2a58_row12_col2 {\n",
       "  background-color: #e0deed;\n",
       "  color: #000000;\n",
       "}\n",
       "#T_a2a58_row12_col3, #T_a2a58_row45_col6 {\n",
       "  background-color: #e7e3f0;\n",
       "  color: #000000;\n",
       "}\n",
       "#T_a2a58_row12_col5, #T_a2a58_row19_col3 {\n",
       "  background-color: #f8f1f8;\n",
       "  color: #000000;\n",
       "}\n",
       "#T_a2a58_row13_col1, #T_a2a58_row21_col6, #T_a2a58_row57_col5 {\n",
       "  background-color: #c2cbe2;\n",
       "  color: #000000;\n",
       "}\n",
       "#T_a2a58_row13_col3, #T_a2a58_row28_col3 {\n",
       "  background-color: #a9bfdc;\n",
       "  color: #000000;\n",
       "}\n",
       "#T_a2a58_row13_col4, #T_a2a58_row15_col5 {\n",
       "  background-color: #b9c6e0;\n",
       "  color: #000000;\n",
       "}\n",
       "#T_a2a58_row14_col1, #T_a2a58_row39_col3, #T_a2a58_row47_col4 {\n",
       "  background-color: #e8e4f0;\n",
       "  color: #000000;\n",
       "}\n",
       "#T_a2a58_row14_col3, #T_a2a58_row22_col6 {\n",
       "  background-color: #dddbec;\n",
       "  color: #000000;\n",
       "}\n",
       "#T_a2a58_row14_col4 {\n",
       "  background-color: #e4e1ef;\n",
       "  color: #000000;\n",
       "}\n",
       "#T_a2a58_row14_col5, #T_a2a58_row38_col4 {\n",
       "  background-color: #bfc9e1;\n",
       "  color: #000000;\n",
       "}\n",
       "#T_a2a58_row15_col2, #T_a2a58_row16_col2, #T_a2a58_row25_col2, #T_a2a58_row35_col2, #T_a2a58_row46_col2, #T_a2a58_row51_col2, #T_a2a58_row56_col2 {\n",
       "  background-color: #4897c4;\n",
       "  color: #f1f1f1;\n",
       "}\n",
       "#T_a2a58_row15_col3, #T_a2a58_row54_col3 {\n",
       "  background-color: #96b6d7;\n",
       "  color: #000000;\n",
       "}\n",
       "#T_a2a58_row16_col5, #T_a2a58_row28_col6, #T_a2a58_row59_col3 {\n",
       "  background-color: #d0d1e6;\n",
       "  color: #000000;\n",
       "}\n",
       "#T_a2a58_row17_col1, #T_a2a58_row17_col3, #T_a2a58_row17_col4, #T_a2a58_row17_col5, #T_a2a58_row47_col2, #T_a2a58_row47_col6, #T_a2a58_row57_col2 {\n",
       "  background-color: #fff7fb;\n",
       "  color: #000000;\n",
       "  background-color: pink;\n",
       "}\n",
       "#T_a2a58_row17_col6 {\n",
       "  background-color: #afc1dd;\n",
       "  color: #000000;\n",
       "}\n",
       "#T_a2a58_row18_col3 {\n",
       "  background-color: #cacee5;\n",
       "  color: #000000;\n",
       "}\n",
       "#T_a2a58_row18_col4, #T_a2a58_row33_col6, #T_a2a58_row38_col6 {\n",
       "  background-color: #d2d3e7;\n",
       "  color: #000000;\n",
       "}\n",
       "#T_a2a58_row19_col1 {\n",
       "  background-color: #fbf4f9;\n",
       "  color: #000000;\n",
       "}\n",
       "#T_a2a58_row19_col2, #T_a2a58_row59_col1 {\n",
       "  background-color: #d3d4e7;\n",
       "  color: #000000;\n",
       "}\n",
       "#T_a2a58_row19_col4 {\n",
       "  background-color: #faf3f9;\n",
       "  color: #000000;\n",
       "}\n",
       "#T_a2a58_row19_col5 {\n",
       "  background-color: #d2d2e7;\n",
       "  color: #000000;\n",
       "}\n",
       "#T_a2a58_row20_col1, #T_a2a58_row20_col2, #T_a2a58_row20_col5, #T_a2a58_row20_col6, #T_a2a58_row21_col3, #T_a2a58_row21_col4, #T_a2a58_row25_col6 {\n",
       "  background-color: #023858;\n",
       "  color: #f1f1f1;\n",
       "  background-color: darkgreen;\n",
       "}\n",
       "#T_a2a58_row20_col3 {\n",
       "  background-color: #034267;\n",
       "  color: #f1f1f1;\n",
       "}\n",
       "#T_a2a58_row20_col4 {\n",
       "  background-color: #03466e;\n",
       "  color: #f1f1f1;\n",
       "}\n",
       "#T_a2a58_row21_col1 {\n",
       "  background-color: #023a5b;\n",
       "  color: #f1f1f1;\n",
       "}\n",
       "#T_a2a58_row21_col5 {\n",
       "  background-color: #056caa;\n",
       "  color: #f1f1f1;\n",
       "}\n",
       "#T_a2a58_row22_col1, #T_a2a58_row33_col3 {\n",
       "  background-color: #6fa7ce;\n",
       "  color: #f1f1f1;\n",
       "}\n",
       "#T_a2a58_row22_col3 {\n",
       "  background-color: #60a1ca;\n",
       "  color: #f1f1f1;\n",
       "}\n",
       "#T_a2a58_row22_col5, #T_a2a58_row33_col4 {\n",
       "  background-color: #83afd3;\n",
       "  color: #f1f1f1;\n",
       "}\n",
       "#T_a2a58_row23_col1, #T_a2a58_row35_col1 {\n",
       "  background-color: #4e9ac6;\n",
       "  color: #f1f1f1;\n",
       "}\n",
       "#T_a2a58_row23_col3 {\n",
       "  background-color: #358fc0;\n",
       "  color: #f1f1f1;\n",
       "}\n",
       "#T_a2a58_row23_col4 {\n",
       "  background-color: #509ac6;\n",
       "  color: #f1f1f1;\n",
       "}\n",
       "#T_a2a58_row23_col5, #T_a2a58_row26_col5 {\n",
       "  background-color: #0f76b3;\n",
       "  color: #f1f1f1;\n",
       "}\n",
       "#T_a2a58_row23_col6 {\n",
       "  background-color: #b0c2de;\n",
       "  color: #000000;\n",
       "}\n",
       "#T_a2a58_row24_col5, #T_a2a58_row30_col5, #T_a2a58_row51_col4 {\n",
       "  background-color: #045f95;\n",
       "  color: #f1f1f1;\n",
       "}\n",
       "#T_a2a58_row25_col1, #T_a2a58_row41_col5 {\n",
       "  background-color: #0a73b2;\n",
       "  color: #f1f1f1;\n",
       "}\n",
       "#T_a2a58_row25_col5 {\n",
       "  background-color: #03446a;\n",
       "  color: #f1f1f1;\n",
       "}\n",
       "#T_a2a58_row26_col1 {\n",
       "  background-color: #0d75b3;\n",
       "  color: #f1f1f1;\n",
       "}\n",
       "#T_a2a58_row26_col3 {\n",
       "  background-color: #056fae;\n",
       "  color: #f1f1f1;\n",
       "}\n",
       "#T_a2a58_row26_col6, #T_a2a58_row29_col3 {\n",
       "  background-color: #c9cee4;\n",
       "  color: #000000;\n",
       "}\n",
       "#T_a2a58_row27_col2, #T_a2a58_row37_col2, #T_a2a58_row49_col6, #T_a2a58_row52_col2 {\n",
       "  background-color: #f6eff7;\n",
       "  color: #000000;\n",
       "}\n",
       "#T_a2a58_row27_col4 {\n",
       "  background-color: #e1dfed;\n",
       "  color: #000000;\n",
       "}\n",
       "#T_a2a58_row27_col6, #T_a2a58_row32_col6, #T_a2a58_row37_col5, #T_a2a58_row49_col4 {\n",
       "  background-color: #dfddec;\n",
       "  color: #000000;\n",
       "}\n",
       "#T_a2a58_row28_col1, #T_a2a58_row34_col4 {\n",
       "  background-color: #b7c5df;\n",
       "  color: #000000;\n",
       "}\n",
       "#T_a2a58_row28_col4, #T_a2a58_row48_col3 {\n",
       "  background-color: #b8c6e0;\n",
       "  color: #000000;\n",
       "}\n",
       "#T_a2a58_row28_col5, #T_a2a58_row45_col1, #T_a2a58_row46_col3, #T_a2a58_row56_col3, #T_a2a58_row58_col5 {\n",
       "  background-color: #2484ba;\n",
       "  color: #f1f1f1;\n",
       "}\n",
       "#T_a2a58_row29_col1, #T_a2a58_row31_col6, #T_a2a58_row57_col3, #T_a2a58_row59_col4 {\n",
       "  background-color: #d6d6e9;\n",
       "  color: #000000;\n",
       "}\n",
       "#T_a2a58_row29_col5 {\n",
       "  background-color: #0569a4;\n",
       "  color: #f1f1f1;\n",
       "}\n",
       "#T_a2a58_row30_col1 {\n",
       "  background-color: #045b8e;\n",
       "  color: #f1f1f1;\n",
       "}\n",
       "#T_a2a58_row30_col3 {\n",
       "  background-color: #04649d;\n",
       "  color: #f1f1f1;\n",
       "}\n",
       "#T_a2a58_row30_col4, #T_a2a58_row35_col5, #T_a2a58_row55_col5 {\n",
       "  background-color: #0567a1;\n",
       "  color: #f1f1f1;\n",
       "}\n",
       "#T_a2a58_row30_col6, #T_a2a58_row58_col3 {\n",
       "  background-color: #86b0d3;\n",
       "  color: #000000;\n",
       "}\n",
       "#T_a2a58_row31_col1 {\n",
       "  background-color: #045d92;\n",
       "  color: #f1f1f1;\n",
       "}\n",
       "#T_a2a58_row31_col3 {\n",
       "  background-color: #045e94;\n",
       "  color: #f1f1f1;\n",
       "}\n",
       "#T_a2a58_row31_col4, #T_a2a58_row51_col3 {\n",
       "  background-color: #046096;\n",
       "  color: #f1f1f1;\n",
       "}\n",
       "#T_a2a58_row31_col5, #T_a2a58_row36_col4, #T_a2a58_row55_col4 {\n",
       "  background-color: #4496c3;\n",
       "  color: #f1f1f1;\n",
       "}\n",
       "#T_a2a58_row32_col1 {\n",
       "  background-color: #b1c2de;\n",
       "  color: #000000;\n",
       "}\n",
       "#T_a2a58_row32_col5 {\n",
       "  background-color: #cdd0e5;\n",
       "  color: #000000;\n",
       "}\n",
       "#T_a2a58_row34_col3, #T_a2a58_row34_col6, #T_a2a58_row52_col3, #T_a2a58_row54_col4 {\n",
       "  background-color: #a4bcda;\n",
       "  color: #000000;\n",
       "}\n",
       "#T_a2a58_row35_col3, #T_a2a58_row53_col1 {\n",
       "  background-color: #569dc8;\n",
       "  color: #f1f1f1;\n",
       "}\n",
       "#T_a2a58_row36_col3, #T_a2a58_row51_col5, #T_a2a58_row56_col5 {\n",
       "  background-color: #4094c3;\n",
       "  color: #f1f1f1;\n",
       "}\n",
       "#T_a2a58_row36_col5 {\n",
       "  background-color: #62a2cb;\n",
       "  color: #f1f1f1;\n",
       "}\n",
       "#T_a2a58_row37_col3 {\n",
       "  background-color: #ebe6f2;\n",
       "  color: #000000;\n",
       "}\n",
       "#T_a2a58_row37_col4 {\n",
       "  background-color: #eee8f3;\n",
       "  color: #000000;\n",
       "}\n",
       "#T_a2a58_row37_col6 {\n",
       "  background-color: #e9e5f1;\n",
       "  color: #000000;\n",
       "}\n",
       "#T_a2a58_row38_col1, #T_a2a58_row48_col1 {\n",
       "  background-color: #bbc7e0;\n",
       "  color: #000000;\n",
       "}\n",
       "#T_a2a58_row38_col5 {\n",
       "  background-color: #71a8ce;\n",
       "  color: #f1f1f1;\n",
       "}\n",
       "#T_a2a58_row39_col5 {\n",
       "  background-color: #4295c3;\n",
       "  color: #f1f1f1;\n",
       "}\n",
       "#T_a2a58_row39_col6 {\n",
       "  background-color: #b4c4df;\n",
       "  color: #000000;\n",
       "}\n",
       "#T_a2a58_row40_col1 {\n",
       "  background-color: #045382;\n",
       "  color: #f1f1f1;\n",
       "}\n",
       "#T_a2a58_row40_col2, #T_a2a58_row41_col2 {\n",
       "  background-color: #04588a;\n",
       "  color: #f1f1f1;\n",
       "}\n",
       "#T_a2a58_row40_col3 {\n",
       "  background-color: #0567a2;\n",
       "  color: #f1f1f1;\n",
       "}\n",
       "#T_a2a58_row40_col4 {\n",
       "  background-color: #056dac;\n",
       "  color: #f1f1f1;\n",
       "}\n",
       "#T_a2a58_row40_col5 {\n",
       "  background-color: #045280;\n",
       "  color: #f1f1f1;\n",
       "}\n",
       "#T_a2a58_row40_col6 {\n",
       "  background-color: #d4d4e8;\n",
       "  color: #000000;\n",
       "}\n",
       "#T_a2a58_row41_col1 {\n",
       "  background-color: #034a74;\n",
       "  color: #f1f1f1;\n",
       "}\n",
       "#T_a2a58_row41_col3, #T_a2a58_row50_col1 {\n",
       "  background-color: #04598c;\n",
       "  color: #f1f1f1;\n",
       "}\n",
       "#T_a2a58_row41_col4 {\n",
       "  background-color: #045e93;\n",
       "  color: #f1f1f1;\n",
       "}\n",
       "#T_a2a58_row42_col1 {\n",
       "  background-color: #79abd0;\n",
       "  color: #f1f1f1;\n",
       "}\n",
       "#T_a2a58_row42_col3 {\n",
       "  background-color: #7bacd1;\n",
       "  color: #f1f1f1;\n",
       "}\n",
       "#T_a2a58_row42_col4 {\n",
       "  background-color: #8cb3d5;\n",
       "  color: #000000;\n",
       "}\n",
       "#T_a2a58_row42_col6 {\n",
       "  background-color: #fbf3f9;\n",
       "  color: #000000;\n",
       "}\n",
       "#T_a2a58_row43_col1 {\n",
       "  background-color: #549cc7;\n",
       "  color: #f1f1f1;\n",
       "}\n",
       "#T_a2a58_row43_col3, #T_a2a58_row45_col4 {\n",
       "  background-color: #529bc7;\n",
       "  color: #f1f1f1;\n",
       "}\n",
       "#T_a2a58_row43_col4 {\n",
       "  background-color: #67a4cc;\n",
       "  color: #f1f1f1;\n",
       "}\n",
       "#T_a2a58_row43_col5 {\n",
       "  background-color: #046299;\n",
       "  color: #f1f1f1;\n",
       "}\n",
       "#T_a2a58_row43_col6, #T_a2a58_row48_col6, #T_a2a58_row53_col6, #T_a2a58_row58_col6 {\n",
       "  background-color: #fff7fb;\n",
       "  color: #000000;\n",
       "}\n",
       "#T_a2a58_row44_col1 {\n",
       "  background-color: #a2bcda;\n",
       "  color: #000000;\n",
       "}\n",
       "#T_a2a58_row44_col4 {\n",
       "  background-color: #a5bddb;\n",
       "  color: #000000;\n",
       "}\n",
       "#T_a2a58_row44_col5 {\n",
       "  background-color: #034369;\n",
       "  color: #f1f1f1;\n",
       "}\n",
       "#T_a2a58_row44_col6 {\n",
       "  background-color: #e2dfee;\n",
       "  color: #000000;\n",
       "}\n",
       "#T_a2a58_row45_col3, #T_a2a58_row55_col3 {\n",
       "  background-color: #3d93c2;\n",
       "  color: #f1f1f1;\n",
       "}\n",
       "#T_a2a58_row45_col5 {\n",
       "  background-color: #045a8d;\n",
       "  color: #f1f1f1;\n",
       "}\n",
       "#T_a2a58_row46_col4 {\n",
       "  background-color: #308cbe;\n",
       "  color: #f1f1f1;\n",
       "}\n",
       "#T_a2a58_row46_col6, #T_a2a58_row52_col6, #T_a2a58_row57_col6 {\n",
       "  background-color: #fef6fb;\n",
       "  color: #000000;\n",
       "}\n",
       "#T_a2a58_row47_col3 {\n",
       "  background-color: #e5e1ef;\n",
       "  color: #000000;\n",
       "}\n",
       "#T_a2a58_row48_col4 {\n",
       "  background-color: #c1cae2;\n",
       "  color: #000000;\n",
       "}\n",
       "#T_a2a58_row49_col3 {\n",
       "  background-color: #d8d7e9;\n",
       "  color: #000000;\n",
       "}\n",
       "#T_a2a58_row49_col5 {\n",
       "  background-color: #045b8f;\n",
       "  color: #f1f1f1;\n",
       "}\n",
       "#T_a2a58_row50_col3 {\n",
       "  background-color: #056ba9;\n",
       "  color: #f1f1f1;\n",
       "}\n",
       "#T_a2a58_row50_col4 {\n",
       "  background-color: #056faf;\n",
       "  color: #f1f1f1;\n",
       "}\n",
       "#T_a2a58_row50_col5 {\n",
       "  background-color: #0569a5;\n",
       "  color: #f1f1f1;\n",
       "}\n",
       "#T_a2a58_row50_col6, #T_a2a58_row55_col6 {\n",
       "  background-color: #e0dded;\n",
       "  color: #000000;\n",
       "}\n",
       "#T_a2a58_row51_col1 {\n",
       "  background-color: #034f7d;\n",
       "  color: #f1f1f1;\n",
       "}\n",
       "#T_a2a58_row52_col1, #T_a2a58_row54_col1 {\n",
       "  background-color: #9fbad9;\n",
       "  color: #000000;\n",
       "}\n",
       "#T_a2a58_row53_col4 {\n",
       "  background-color: #69a5cc;\n",
       "  color: #f1f1f1;\n",
       "}\n",
       "#T_a2a58_row53_col5 {\n",
       "  background-color: #2a88bc;\n",
       "  color: #f1f1f1;\n",
       "}\n",
       "#T_a2a58_row54_col5 {\n",
       "  background-color: #05659f;\n",
       "  color: #f1f1f1;\n",
       "}\n",
       "#T_a2a58_row54_col6 {\n",
       "  background-color: #ede7f2;\n",
       "  color: #000000;\n",
       "}\n",
       "#T_a2a58_row55_col1 {\n",
       "  background-color: #2182b9;\n",
       "  color: #f1f1f1;\n",
       "}\n",
       "#T_a2a58_row56_col4 {\n",
       "  background-color: #2383ba;\n",
       "  color: #f1f1f1;\n",
       "}\n",
       "#T_a2a58_row58_col1 {\n",
       "  background-color: #84b0d3;\n",
       "  color: #f1f1f1;\n",
       "}\n",
       "#T_a2a58_row59_col5 {\n",
       "  background-color: #056ead;\n",
       "  color: #f1f1f1;\n",
       "}\n",
       "</style>\n",
       "<table id=\"T_a2a58\">\n",
       "  <thead>\n",
       "    <tr>\n",
       "      <th class=\"blank\" >&nbsp;</th>\n",
       "      <th class=\"blank\" >&nbsp;</th>\n",
       "      <th class=\"blank\" >&nbsp;</th>\n",
       "      <th class=\"blank\" >&nbsp;</th>\n",
       "      <th class=\"blank level0\" >&nbsp;</th>\n",
       "      <th id=\"T_a2a58_level0_col0\" class=\"col_heading level0 col0\" >Positions</th>\n",
       "      <th id=\"T_a2a58_level0_col1\" class=\"col_heading level0 col1\" >Annualised return</th>\n",
       "      <th id=\"T_a2a58_level0_col2\" class=\"col_heading level0 col2\" >Max drawdown</th>\n",
       "      <th id=\"T_a2a58_level0_col3\" class=\"col_heading level0 col3\" >Sharpe</th>\n",
       "      <th id=\"T_a2a58_level0_col4\" class=\"col_heading level0 col4\" >Sortino</th>\n",
       "      <th id=\"T_a2a58_level0_col5\" class=\"col_heading level0 col5\" >Average position</th>\n",
       "      <th id=\"T_a2a58_level0_col6\" class=\"col_heading level0 col6\" >Median position</th>\n",
       "    </tr>\n",
       "    <tr>\n",
       "      <th class=\"index_name level0\" >cycle_duration_days</th>\n",
       "      <th class=\"index_name level1\" >momentum_lookback</th>\n",
       "      <th class=\"index_name level2\" >take_profit</th>\n",
       "      <th class=\"index_name level3\" >positive_mometum_threshold</th>\n",
       "      <th class=\"index_name level4\" >negative_mometum_threshold</th>\n",
       "      <th class=\"blank col0\" >&nbsp;</th>\n",
       "      <th class=\"blank col1\" >&nbsp;</th>\n",
       "      <th class=\"blank col2\" >&nbsp;</th>\n",
       "      <th class=\"blank col3\" >&nbsp;</th>\n",
       "      <th class=\"blank col4\" >&nbsp;</th>\n",
       "      <th class=\"blank col5\" >&nbsp;</th>\n",
       "      <th class=\"blank col6\" >&nbsp;</th>\n",
       "    </tr>\n",
       "  </thead>\n",
       "  <tbody>\n",
       "    <tr>\n",
       "      <th id=\"T_a2a58_level0_row0\" class=\"row_heading level0 row0\" rowspan=\"60\">7</th>\n",
       "      <th id=\"T_a2a58_level1_row0\" class=\"row_heading level1 row0\" rowspan=\"60\">7</th>\n",
       "      <th id=\"T_a2a58_level2_row0\" class=\"row_heading level2 row0\" rowspan=\"20\">1.050000</th>\n",
       "      <th id=\"T_a2a58_level3_row0\" class=\"row_heading level3 row0\" rowspan=\"5\">0.000100</th>\n",
       "      <th id=\"T_a2a58_level4_row0\" class=\"row_heading level4 row0\" >-0.050000</th>\n",
       "      <td id=\"T_a2a58_row0_col0\" class=\"data row0 col0\" >130</td>\n",
       "      <td id=\"T_a2a58_row0_col1\" class=\"data row0 col1\" >55.44%</td>\n",
       "      <td id=\"T_a2a58_row0_col2\" class=\"data row0 col2\" >-16.00%</td>\n",
       "      <td id=\"T_a2a58_row0_col3\" class=\"data row0 col3\" >1.580000</td>\n",
       "      <td id=\"T_a2a58_row0_col4\" class=\"data row0 col4\" >2.530000</td>\n",
       "      <td id=\"T_a2a58_row0_col5\" class=\"data row0 col5\" >1.59%</td>\n",
       "      <td id=\"T_a2a58_row0_col6\" class=\"data row0 col6\" >5.10%</td>\n",
       "    </tr>\n",
       "    <tr>\n",
       "      <th id=\"T_a2a58_level4_row1\" class=\"row_heading level4 row1\" >-0.040000</th>\n",
       "      <td id=\"T_a2a58_row1_col0\" class=\"data row1 col0\" >141</td>\n",
       "      <td id=\"T_a2a58_row1_col1\" class=\"data row1 col1\" >56.45%</td>\n",
       "      <td id=\"T_a2a58_row1_col2\" class=\"data row1 col2\" >-18.00%</td>\n",
       "      <td id=\"T_a2a58_row1_col3\" class=\"data row1 col3\" >1.640000</td>\n",
       "      <td id=\"T_a2a58_row1_col4\" class=\"data row1 col4\" >2.660000</td>\n",
       "      <td id=\"T_a2a58_row1_col5\" class=\"data row1 col5\" >1.51%</td>\n",
       "      <td id=\"T_a2a58_row1_col6\" class=\"data row1 col6\" >5.04%</td>\n",
       "    </tr>\n",
       "    <tr>\n",
       "      <th id=\"T_a2a58_level4_row2\" class=\"row_heading level4 row2\" >-0.025000</th>\n",
       "      <td id=\"T_a2a58_row2_col0\" class=\"data row2 col0\" >153</td>\n",
       "      <td id=\"T_a2a58_row2_col1\" class=\"data row2 col1\" >33.74%</td>\n",
       "      <td id=\"T_a2a58_row2_col2\" class=\"data row2 col2\" >-24.00%</td>\n",
       "      <td id=\"T_a2a58_row2_col3\" class=\"data row2 col3\" >1.080000</td>\n",
       "      <td id=\"T_a2a58_row2_col4\" class=\"data row2 col4\" >1.620000</td>\n",
       "      <td id=\"T_a2a58_row2_col5\" class=\"data row2 col5\" >1.24%</td>\n",
       "      <td id=\"T_a2a58_row2_col6\" class=\"data row2 col6\" >5.03%</td>\n",
       "    </tr>\n",
       "    <tr>\n",
       "      <th id=\"T_a2a58_level4_row3\" class=\"row_heading level4 row3\" >-0.010000</th>\n",
       "      <td id=\"T_a2a58_row3_col0\" class=\"data row3 col0\" >163</td>\n",
       "      <td id=\"T_a2a58_row3_col1\" class=\"data row3 col1\" >41.02%</td>\n",
       "      <td id=\"T_a2a58_row3_col2\" class=\"data row3 col2\" >-24.00%</td>\n",
       "      <td id=\"T_a2a58_row3_col3\" class=\"data row3 col3\" >1.300000</td>\n",
       "      <td id=\"T_a2a58_row3_col4\" class=\"data row3 col4\" >1.960000</td>\n",
       "      <td id=\"T_a2a58_row3_col5\" class=\"data row3 col5\" >1.50%</td>\n",
       "      <td id=\"T_a2a58_row3_col6\" class=\"data row3 col6\" >5.10%</td>\n",
       "    </tr>\n",
       "    <tr>\n",
       "      <th id=\"T_a2a58_level4_row4\" class=\"row_heading level4 row4\" >-0.000100</th>\n",
       "      <td id=\"T_a2a58_row4_col0\" class=\"data row4 col0\" >168</td>\n",
       "      <td id=\"T_a2a58_row4_col1\" class=\"data row4 col1\" >30.31%</td>\n",
       "      <td id=\"T_a2a58_row4_col2\" class=\"data row4 col2\" >-24.00%</td>\n",
       "      <td id=\"T_a2a58_row4_col3\" class=\"data row4 col3\" >1.050000</td>\n",
       "      <td id=\"T_a2a58_row4_col4\" class=\"data row4 col4\" >1.550000</td>\n",
       "      <td id=\"T_a2a58_row4_col5\" class=\"data row4 col5\" >1.50%</td>\n",
       "      <td id=\"T_a2a58_row4_col6\" class=\"data row4 col6\" >5.22%</td>\n",
       "    </tr>\n",
       "    <tr>\n",
       "      <th id=\"T_a2a58_level3_row5\" class=\"row_heading level3 row5\" rowspan=\"5\">0.010000</th>\n",
       "      <th id=\"T_a2a58_level4_row5\" class=\"row_heading level4 row5\" >-0.050000</th>\n",
       "      <td id=\"T_a2a58_row5_col0\" class=\"data row5 col0\" >125</td>\n",
       "      <td id=\"T_a2a58_row5_col1\" class=\"data row5 col1\" >43.09%</td>\n",
       "      <td id=\"T_a2a58_row5_col2\" class=\"data row5 col2\" >-21.00%</td>\n",
       "      <td id=\"T_a2a58_row5_col3\" class=\"data row5 col3\" >1.300000</td>\n",
       "      <td id=\"T_a2a58_row5_col4\" class=\"data row5 col4\" >2.030000</td>\n",
       "      <td id=\"T_a2a58_row5_col5\" class=\"data row5 col5\" >1.55%</td>\n",
       "      <td id=\"T_a2a58_row5_col6\" class=\"data row5 col6\" >5.10%</td>\n",
       "    </tr>\n",
       "    <tr>\n",
       "      <th id=\"T_a2a58_level4_row6\" class=\"row_heading level4 row6\" >-0.040000</th>\n",
       "      <td id=\"T_a2a58_row6_col0\" class=\"data row6 col0\" >136</td>\n",
       "      <td id=\"T_a2a58_row6_col1\" class=\"data row6 col1\" >44.03%</td>\n",
       "      <td id=\"T_a2a58_row6_col2\" class=\"data row6 col2\" >-23.00%</td>\n",
       "      <td id=\"T_a2a58_row6_col3\" class=\"data row6 col3\" >1.340000</td>\n",
       "      <td id=\"T_a2a58_row6_col4\" class=\"data row6 col4\" >2.140000</td>\n",
       "      <td id=\"T_a2a58_row6_col5\" class=\"data row6 col5\" >1.47%</td>\n",
       "      <td id=\"T_a2a58_row6_col6\" class=\"data row6 col6\" >5.04%</td>\n",
       "    </tr>\n",
       "    <tr>\n",
       "      <th id=\"T_a2a58_level4_row7\" class=\"row_heading level4 row7\" >-0.025000</th>\n",
       "      <td id=\"T_a2a58_row7_col0\" class=\"data row7 col0\" >148</td>\n",
       "      <td id=\"T_a2a58_row7_col1\" class=\"data row7 col1\" >16.95%</td>\n",
       "      <td id=\"T_a2a58_row7_col2\" class=\"data row7 col2\" >-30.00%</td>\n",
       "      <td id=\"T_a2a58_row7_col3\" class=\"data row7 col3\" >0.640000</td>\n",
       "      <td id=\"T_a2a58_row7_col4\" class=\"data row7 col4\" >0.940000</td>\n",
       "      <td id=\"T_a2a58_row7_col5\" class=\"data row7 col5\" >1.20%</td>\n",
       "      <td id=\"T_a2a58_row7_col6\" class=\"data row7 col6\" >5.01%</td>\n",
       "    </tr>\n",
       "    <tr>\n",
       "      <th id=\"T_a2a58_level4_row8\" class=\"row_heading level4 row8\" >-0.010000</th>\n",
       "      <td id=\"T_a2a58_row8_col0\" class=\"data row8 col0\" >158</td>\n",
       "      <td id=\"T_a2a58_row8_col1\" class=\"data row8 col1\" >27.29%</td>\n",
       "      <td id=\"T_a2a58_row8_col2\" class=\"data row8 col2\" >-25.00%</td>\n",
       "      <td id=\"T_a2a58_row8_col3\" class=\"data row8 col3\" >0.940000</td>\n",
       "      <td id=\"T_a2a58_row8_col4\" class=\"data row8 col4\" >1.380000</td>\n",
       "      <td id=\"T_a2a58_row8_col5\" class=\"data row8 col5\" >1.46%</td>\n",
       "      <td id=\"T_a2a58_row8_col6\" class=\"data row8 col6\" >5.09%</td>\n",
       "    </tr>\n",
       "    <tr>\n",
       "      <th id=\"T_a2a58_level4_row9\" class=\"row_heading level4 row9\" >-0.000100</th>\n",
       "      <td id=\"T_a2a58_row9_col0\" class=\"data row9 col0\" >163</td>\n",
       "      <td id=\"T_a2a58_row9_col1\" class=\"data row9 col1\" >20.12%</td>\n",
       "      <td id=\"T_a2a58_row9_col2\" class=\"data row9 col2\" >-26.00%</td>\n",
       "      <td id=\"T_a2a58_row9_col3\" class=\"data row9 col3\" >0.760000</td>\n",
       "      <td id=\"T_a2a58_row9_col4\" class=\"data row9 col4\" >1.100000</td>\n",
       "      <td id=\"T_a2a58_row9_col5\" class=\"data row9 col5\" >1.47%</td>\n",
       "      <td id=\"T_a2a58_row9_col6\" class=\"data row9 col6\" >5.22%</td>\n",
       "    </tr>\n",
       "    <tr>\n",
       "      <th id=\"T_a2a58_level3_row10\" class=\"row_heading level3 row10\" rowspan=\"5\">0.025000</th>\n",
       "      <th id=\"T_a2a58_level4_row10\" class=\"row_heading level4 row10\" >-0.050000</th>\n",
       "      <td id=\"T_a2a58_row10_col0\" class=\"data row10 col0\" >111</td>\n",
       "      <td id=\"T_a2a58_row10_col1\" class=\"data row10 col1\" >48.56%</td>\n",
       "      <td id=\"T_a2a58_row10_col2\" class=\"data row10 col2\" >-21.00%</td>\n",
       "      <td id=\"T_a2a58_row10_col3\" class=\"data row10 col3\" >1.390000</td>\n",
       "      <td id=\"T_a2a58_row10_col4\" class=\"data row10 col4\" >2.230000</td>\n",
       "      <td id=\"T_a2a58_row10_col5\" class=\"data row10 col5\" >1.49%</td>\n",
       "      <td id=\"T_a2a58_row10_col6\" class=\"data row10 col6\" >5.04%</td>\n",
       "    </tr>\n",
       "    <tr>\n",
       "      <th id=\"T_a2a58_level4_row11\" class=\"row_heading level4 row11\" >-0.040000</th>\n",
       "      <td id=\"T_a2a58_row11_col0\" class=\"data row11 col0\" >122</td>\n",
       "      <td id=\"T_a2a58_row11_col1\" class=\"data row11 col1\" >49.53%</td>\n",
       "      <td id=\"T_a2a58_row11_col2\" class=\"data row11 col2\" >-21.00%</td>\n",
       "      <td id=\"T_a2a58_row11_col3\" class=\"data row11 col3\" >1.440000</td>\n",
       "      <td id=\"T_a2a58_row11_col4\" class=\"data row11 col4\" >2.340000</td>\n",
       "      <td id=\"T_a2a58_row11_col5\" class=\"data row11 col5\" >1.41%</td>\n",
       "      <td id=\"T_a2a58_row11_col6\" class=\"data row11 col6\" >4.94%</td>\n",
       "    </tr>\n",
       "    <tr>\n",
       "      <th id=\"T_a2a58_level4_row12\" class=\"row_heading level4 row12\" >-0.025000</th>\n",
       "      <td id=\"T_a2a58_row12_col0\" class=\"data row12 col0\" >134</td>\n",
       "      <td id=\"T_a2a58_row12_col1\" class=\"data row12 col1\" >24.62%</td>\n",
       "      <td id=\"T_a2a58_row12_col2\" class=\"data row12 col2\" >-29.00%</td>\n",
       "      <td id=\"T_a2a58_row12_col3\" class=\"data row12 col3\" >0.830000</td>\n",
       "      <td id=\"T_a2a58_row12_col4\" class=\"data row12 col4\" >1.230000</td>\n",
       "      <td id=\"T_a2a58_row12_col5\" class=\"data row12 col5\" >1.11%</td>\n",
       "      <td id=\"T_a2a58_row12_col6\" class=\"data row12 col6\" >3.83%</td>\n",
       "    </tr>\n",
       "    <tr>\n",
       "      <th id=\"T_a2a58_level4_row13\" class=\"row_heading level4 row13\" >-0.010000</th>\n",
       "      <td id=\"T_a2a58_row13_col0\" class=\"data row13 col0\" >144</td>\n",
       "      <td id=\"T_a2a58_row13_col1\" class=\"data row13 col1\" >35.65%</td>\n",
       "      <td id=\"T_a2a58_row13_col2\" class=\"data row13 col2\" >-25.00%</td>\n",
       "      <td id=\"T_a2a58_row13_col3\" class=\"data row13 col3\" >1.130000</td>\n",
       "      <td id=\"T_a2a58_row13_col4\" class=\"data row13 col4\" >1.700000</td>\n",
       "      <td id=\"T_a2a58_row13_col5\" class=\"data row13 col5\" >1.41%</td>\n",
       "      <td id=\"T_a2a58_row13_col6\" class=\"data row13 col6\" >5.04%</td>\n",
       "    </tr>\n",
       "    <tr>\n",
       "      <th id=\"T_a2a58_level4_row14\" class=\"row_heading level4 row14\" >-0.000100</th>\n",
       "      <td id=\"T_a2a58_row14_col0\" class=\"data row14 col0\" >149</td>\n",
       "      <td id=\"T_a2a58_row14_col1\" class=\"data row14 col1\" >25.80%</td>\n",
       "      <td id=\"T_a2a58_row14_col2\" class=\"data row14 col2\" >-26.00%</td>\n",
       "      <td id=\"T_a2a58_row14_col3\" class=\"data row14 col3\" >0.890000</td>\n",
       "      <td id=\"T_a2a58_row14_col4\" class=\"data row14 col4\" >1.320000</td>\n",
       "      <td id=\"T_a2a58_row14_col5\" class=\"data row14 col5\" >1.43%</td>\n",
       "      <td id=\"T_a2a58_row14_col6\" class=\"data row14 col6\" >5.10%</td>\n",
       "    </tr>\n",
       "    <tr>\n",
       "      <th id=\"T_a2a58_level3_row15\" class=\"row_heading level3 row15\" rowspan=\"5\">0.040000</th>\n",
       "      <th id=\"T_a2a58_level4_row15\" class=\"row_heading level4 row15\" >-0.050000</th>\n",
       "      <td id=\"T_a2a58_row15_col0\" class=\"data row15 col0\" >102</td>\n",
       "      <td id=\"T_a2a58_row15_col1\" class=\"data row15 col1\" >39.85%</td>\n",
       "      <td id=\"T_a2a58_row15_col2\" class=\"data row15 col2\" >-22.00%</td>\n",
       "      <td id=\"T_a2a58_row15_col3\" class=\"data row15 col3\" >1.200000</td>\n",
       "      <td id=\"T_a2a58_row15_col4\" class=\"data row15 col4\" >1.910000</td>\n",
       "      <td id=\"T_a2a58_row15_col5\" class=\"data row15 col5\" >1.45%</td>\n",
       "      <td id=\"T_a2a58_row15_col6\" class=\"data row15 col6\" >5.01%</td>\n",
       "    </tr>\n",
       "    <tr>\n",
       "      <th id=\"T_a2a58_level4_row16\" class=\"row_heading level4 row16\" >-0.040000</th>\n",
       "      <td id=\"T_a2a58_row16_col0\" class=\"data row16 col0\" >113</td>\n",
       "      <td id=\"T_a2a58_row16_col1\" class=\"data row16 col1\" >39.61%</td>\n",
       "      <td id=\"T_a2a58_row16_col2\" class=\"data row16 col2\" >-22.00%</td>\n",
       "      <td id=\"T_a2a58_row16_col3\" class=\"data row16 col3\" >1.210000</td>\n",
       "      <td id=\"T_a2a58_row16_col4\" class=\"data row16 col4\" >1.960000</td>\n",
       "      <td id=\"T_a2a58_row16_col5\" class=\"data row16 col5\" >1.37%</td>\n",
       "      <td id=\"T_a2a58_row16_col6\" class=\"data row16 col6\" >4.06%</td>\n",
       "    </tr>\n",
       "    <tr>\n",
       "      <th id=\"T_a2a58_level4_row17\" class=\"row_heading level4 row17\" >-0.025000</th>\n",
       "      <td id=\"T_a2a58_row17_col0\" class=\"data row17 col0\" >125</td>\n",
       "      <td id=\"T_a2a58_row17_col1\" class=\"data row17 col1\" >16.35%</td>\n",
       "      <td id=\"T_a2a58_row17_col2\" class=\"data row17 col2\" >-30.00%</td>\n",
       "      <td id=\"T_a2a58_row17_col3\" class=\"data row17 col3\" >0.620000</td>\n",
       "      <td id=\"T_a2a58_row17_col4\" class=\"data row17 col4\" >0.920000</td>\n",
       "      <td id=\"T_a2a58_row17_col5\" class=\"data row17 col5\" >1.04%</td>\n",
       "      <td id=\"T_a2a58_row17_col6\" class=\"data row17 col6\" >2.73%</td>\n",
       "    </tr>\n",
       "    <tr>\n",
       "      <th id=\"T_a2a58_level4_row18\" class=\"row_heading level4 row18\" >-0.010000</th>\n",
       "      <td id=\"T_a2a58_row18_col0\" class=\"data row18 col0\" >135</td>\n",
       "      <td id=\"T_a2a58_row18_col1\" class=\"data row18 col1\" >30.04%</td>\n",
       "      <td id=\"T_a2a58_row18_col2\" class=\"data row18 col2\" >-26.00%</td>\n",
       "      <td id=\"T_a2a58_row18_col3\" class=\"data row18 col3\" >0.990000</td>\n",
       "      <td id=\"T_a2a58_row18_col4\" class=\"data row18 col4\" >1.510000</td>\n",
       "      <td id=\"T_a2a58_row18_col5\" class=\"data row18 col5\" >1.38%</td>\n",
       "      <td id=\"T_a2a58_row18_col6\" class=\"data row18 col6\" >5.03%</td>\n",
       "    </tr>\n",
       "    <tr>\n",
       "      <th id=\"T_a2a58_level4_row19\" class=\"row_heading level4 row19\" >-0.000100</th>\n",
       "      <td id=\"T_a2a58_row19_col0\" class=\"data row19 col0\" >140</td>\n",
       "      <td id=\"T_a2a58_row19_col1\" class=\"data row19 col1\" >17.92%</td>\n",
       "      <td id=\"T_a2a58_row19_col2\" class=\"data row19 col2\" >-28.00%</td>\n",
       "      <td id=\"T_a2a58_row19_col3\" class=\"data row19 col3\" >0.680000</td>\n",
       "      <td id=\"T_a2a58_row19_col4\" class=\"data row19 col4\" >1.000000</td>\n",
       "      <td id=\"T_a2a58_row19_col5\" class=\"data row19 col5\" >1.35%</td>\n",
       "      <td id=\"T_a2a58_row19_col6\" class=\"data row19 col6\" >5.09%</td>\n",
       "    </tr>\n",
       "    <tr>\n",
       "      <th id=\"T_a2a58_level2_row20\" class=\"row_heading level2 row20\" rowspan=\"20\">1.075000</th>\n",
       "      <th id=\"T_a2a58_level3_row20\" class=\"row_heading level3 row20\" rowspan=\"5\">0.000100</th>\n",
       "      <th id=\"T_a2a58_level4_row20\" class=\"row_heading level4 row20\" >-0.050000</th>\n",
       "      <td id=\"T_a2a58_row20_col0\" class=\"data row20 col0\" >124</td>\n",
       "      <td id=\"T_a2a58_row20_col1\" class=\"data row20 col1\" >82.23%</td>\n",
       "      <td id=\"T_a2a58_row20_col2\" class=\"data row20 col2\" >-15.00%</td>\n",
       "      <td id=\"T_a2a58_row20_col3\" class=\"data row20 col3\" >1.960000</td>\n",
       "      <td id=\"T_a2a58_row20_col4\" class=\"data row20 col4\" >3.240000</td>\n",
       "      <td id=\"T_a2a58_row20_col5\" class=\"data row20 col5\" >2.31%</td>\n",
       "      <td id=\"T_a2a58_row20_col6\" class=\"data row20 col6\" >6.97%</td>\n",
       "    </tr>\n",
       "    <tr>\n",
       "      <th id=\"T_a2a58_level4_row21\" class=\"row_heading level4 row21\" >-0.040000</th>\n",
       "      <td id=\"T_a2a58_row21_col0\" class=\"data row21 col0\" >134</td>\n",
       "      <td id=\"T_a2a58_row21_col1\" class=\"data row21 col1\" >81.50%</td>\n",
       "      <td id=\"T_a2a58_row21_col2\" class=\"data row21 col2\" >-16.00%</td>\n",
       "      <td id=\"T_a2a58_row21_col3\" class=\"data row21 col3\" >2.010000</td>\n",
       "      <td id=\"T_a2a58_row21_col4\" class=\"data row21 col4\" >3.370000</td>\n",
       "      <td id=\"T_a2a58_row21_col5\" class=\"data row21 col5\" >2.02%</td>\n",
       "      <td id=\"T_a2a58_row21_col6\" class=\"data row21 col6\" >2.36%</td>\n",
       "    </tr>\n",
       "    <tr>\n",
       "      <th id=\"T_a2a58_level4_row22\" class=\"row_heading level4 row22\" >-0.025000</th>\n",
       "      <td id=\"T_a2a58_row22_col0\" class=\"data row22 col0\" >145</td>\n",
       "      <td id=\"T_a2a58_row22_col1\" class=\"data row22 col1\" >49.93%</td>\n",
       "      <td id=\"T_a2a58_row22_col2\" class=\"data row22 col2\" >-24.00%</td>\n",
       "      <td id=\"T_a2a58_row22_col3\" class=\"data row22 col3\" >1.370000</td>\n",
       "      <td id=\"T_a2a58_row22_col4\" class=\"data row22 col4\" >2.120000</td>\n",
       "      <td id=\"T_a2a58_row22_col5\" class=\"data row22 col5\" >1.63%</td>\n",
       "      <td id=\"T_a2a58_row22_col6\" class=\"data row22 col6\" >1.71%</td>\n",
       "    </tr>\n",
       "    <tr>\n",
       "      <th id=\"T_a2a58_level4_row23\" class=\"row_heading level4 row23\" >-0.010000</th>\n",
       "      <td id=\"T_a2a58_row23_col0\" class=\"data row23 col0\" >151</td>\n",
       "      <td id=\"T_a2a58_row23_col1\" class=\"data row23 col1\" >54.27%</td>\n",
       "      <td id=\"T_a2a58_row23_col2\" class=\"data row23 col2\" >-24.00%</td>\n",
       "      <td id=\"T_a2a58_row23_col3\" class=\"data row23 col3\" >1.490000</td>\n",
       "      <td id=\"T_a2a58_row23_col4\" class=\"data row23 col4\" >2.320000</td>\n",
       "      <td id=\"T_a2a58_row23_col5\" class=\"data row23 col5\" >1.96%</td>\n",
       "      <td id=\"T_a2a58_row23_col6\" class=\"data row23 col6\" >2.71%</td>\n",
       "    </tr>\n",
       "    <tr>\n",
       "      <th id=\"T_a2a58_level4_row24\" class=\"row_heading level4 row24\" >-0.000100</th>\n",
       "      <td id=\"T_a2a58_row24_col0\" class=\"data row24 col0\" >156</td>\n",
       "      <td id=\"T_a2a58_row24_col1\" class=\"data row24 col1\" >44.05%</td>\n",
       "      <td id=\"T_a2a58_row24_col2\" class=\"data row24 col2\" >-24.00%</td>\n",
       "      <td id=\"T_a2a58_row24_col3\" class=\"data row24 col3\" >1.310000</td>\n",
       "      <td id=\"T_a2a58_row24_col4\" class=\"data row24 col4\" >1.980000</td>\n",
       "      <td id=\"T_a2a58_row24_col5\" class=\"data row24 col5\" >2.12%</td>\n",
       "      <td id=\"T_a2a58_row24_col6\" class=\"data row24 col6\" >5.00%</td>\n",
       "    </tr>\n",
       "    <tr>\n",
       "      <th id=\"T_a2a58_level3_row25\" class=\"row_heading level3 row25\" rowspan=\"5\">0.010000</th>\n",
       "      <th id=\"T_a2a58_level4_row25\" class=\"row_heading level4 row25\" >-0.050000</th>\n",
       "      <td id=\"T_a2a58_row25_col0\" class=\"data row25 col0\" >120</td>\n",
       "      <td id=\"T_a2a58_row25_col1\" class=\"data row25 col1\" >64.98%</td>\n",
       "      <td id=\"T_a2a58_row25_col2\" class=\"data row25 col2\" >-22.00%</td>\n",
       "      <td id=\"T_a2a58_row25_col3\" class=\"data row25 col3\" >1.640000</td>\n",
       "      <td id=\"T_a2a58_row25_col4\" class=\"data row25 col4\" >2.630000</td>\n",
       "      <td id=\"T_a2a58_row25_col5\" class=\"data row25 col5\" >2.25%</td>\n",
       "      <td id=\"T_a2a58_row25_col6\" class=\"data row25 col6\" >6.97%</td>\n",
       "    </tr>\n",
       "    <tr>\n",
       "      <th id=\"T_a2a58_level4_row26\" class=\"row_heading level4 row26\" >-0.040000</th>\n",
       "      <td id=\"T_a2a58_row26_col0\" class=\"data row26 col0\" >130</td>\n",
       "      <td id=\"T_a2a58_row26_col1\" class=\"data row26 col1\" >64.31%</td>\n",
       "      <td id=\"T_a2a58_row26_col2\" class=\"data row26 col2\" >-20.00%</td>\n",
       "      <td id=\"T_a2a58_row26_col3\" class=\"data row26 col3\" >1.670000</td>\n",
       "      <td id=\"T_a2a58_row26_col4\" class=\"data row26 col4\" >2.710000</td>\n",
       "      <td id=\"T_a2a58_row26_col5\" class=\"data row26 col5\" >1.96%</td>\n",
       "      <td id=\"T_a2a58_row26_col6\" class=\"data row26 col6\" >2.22%</td>\n",
       "    </tr>\n",
       "    <tr>\n",
       "      <th id=\"T_a2a58_level4_row27\" class=\"row_heading level4 row27\" >-0.025000</th>\n",
       "      <td id=\"T_a2a58_row27_col0\" class=\"data row27 col0\" >141</td>\n",
       "      <td id=\"T_a2a58_row27_col1\" class=\"data row27 col1\" >28.91%</td>\n",
       "      <td id=\"T_a2a58_row27_col2\" class=\"data row27 col2\" >-31.00%</td>\n",
       "      <td id=\"T_a2a58_row27_col3\" class=\"data row27 col3\" >0.910000</td>\n",
       "      <td id=\"T_a2a58_row27_col4\" class=\"data row27 col4\" >1.350000</td>\n",
       "      <td id=\"T_a2a58_row27_col5\" class=\"data row27 col5\" >1.57%</td>\n",
       "      <td id=\"T_a2a58_row27_col6\" class=\"data row27 col6\" >1.66%</td>\n",
       "    </tr>\n",
       "    <tr>\n",
       "      <th id=\"T_a2a58_level4_row28\" class=\"row_heading level4 row28\" >-0.010000</th>\n",
       "      <td id=\"T_a2a58_row28_col0\" class=\"data row28 col0\" >147</td>\n",
       "      <td id=\"T_a2a58_row28_col1\" class=\"data row28 col1\" >37.84%</td>\n",
       "      <td id=\"T_a2a58_row28_col2\" class=\"data row28 col2\" >-25.00%</td>\n",
       "      <td id=\"T_a2a58_row28_col3\" class=\"data row28 col3\" >1.130000</td>\n",
       "      <td id=\"T_a2a58_row28_col4\" class=\"data row28 col4\" >1.710000</td>\n",
       "      <td id=\"T_a2a58_row28_col5\" class=\"data row28 col5\" >1.89%</td>\n",
       "      <td id=\"T_a2a58_row28_col6\" class=\"data row28 col6\" >2.09%</td>\n",
       "    </tr>\n",
       "    <tr>\n",
       "      <th id=\"T_a2a58_level4_row29\" class=\"row_heading level4 row29\" >-0.000100</th>\n",
       "      <td id=\"T_a2a58_row29_col0\" class=\"data row29 col0\" >152</td>\n",
       "      <td id=\"T_a2a58_row29_col1\" class=\"data row29 col1\" >31.14%</td>\n",
       "      <td id=\"T_a2a58_row29_col2\" class=\"data row29 col2\" >-24.00%</td>\n",
       "      <td id=\"T_a2a58_row29_col3\" class=\"data row29 col3\" >1.000000</td>\n",
       "      <td id=\"T_a2a58_row29_col4\" class=\"data row29 col4\" >1.480000</td>\n",
       "      <td id=\"T_a2a58_row29_col5\" class=\"data row29 col5\" >2.05%</td>\n",
       "      <td id=\"T_a2a58_row29_col6\" class=\"data row29 col6\" >5.00%</td>\n",
       "    </tr>\n",
       "    <tr>\n",
       "      <th id=\"T_a2a58_level3_row30\" class=\"row_heading level3 row30\" rowspan=\"5\">0.025000</th>\n",
       "      <th id=\"T_a2a58_level4_row30\" class=\"row_heading level4 row30\" >-0.050000</th>\n",
       "      <td id=\"T_a2a58_row30_col0\" class=\"data row30 col0\" >106</td>\n",
       "      <td id=\"T_a2a58_row30_col1\" class=\"data row30 col1\" >73.55%</td>\n",
       "      <td id=\"T_a2a58_row30_col2\" class=\"data row30 col2\" >-21.00%</td>\n",
       "      <td id=\"T_a2a58_row30_col3\" class=\"data row30 col3\" >1.760000</td>\n",
       "      <td id=\"T_a2a58_row30_col4\" class=\"data row30 col4\" >2.890000</td>\n",
       "      <td id=\"T_a2a58_row30_col5\" class=\"data row30 col5\" >2.12%</td>\n",
       "      <td id=\"T_a2a58_row30_col6\" class=\"data row30 col6\" >3.42%</td>\n",
       "    </tr>\n",
       "    <tr>\n",
       "      <th id=\"T_a2a58_level4_row31\" class=\"row_heading level4 row31\" >-0.040000</th>\n",
       "      <td id=\"T_a2a58_row31_col0\" class=\"data row31 col0\" >116</td>\n",
       "      <td id=\"T_a2a58_row31_col1\" class=\"data row31 col1\" >72.85%</td>\n",
       "      <td id=\"T_a2a58_row31_col2\" class=\"data row31 col2\" >-20.00%</td>\n",
       "      <td id=\"T_a2a58_row31_col3\" class=\"data row31 col3\" >1.800000</td>\n",
       "      <td id=\"T_a2a58_row31_col4\" class=\"data row31 col4\" >2.980000</td>\n",
       "      <td id=\"T_a2a58_row31_col5\" class=\"data row31 col5\" >1.80%</td>\n",
       "      <td id=\"T_a2a58_row31_col6\" class=\"data row31 col6\" >1.91%</td>\n",
       "    </tr>\n",
       "    <tr>\n",
       "      <th id=\"T_a2a58_level4_row32\" class=\"row_heading level4 row32\" >-0.025000</th>\n",
       "      <td id=\"T_a2a58_row32_col0\" class=\"data row32 col0\" >127</td>\n",
       "      <td id=\"T_a2a58_row32_col1\" class=\"data row32 col1\" >38.92%</td>\n",
       "      <td id=\"T_a2a58_row32_col2\" class=\"data row32 col2\" >-30.00%</td>\n",
       "      <td id=\"T_a2a58_row32_col3\" class=\"data row32 col3\" >1.110000</td>\n",
       "      <td id=\"T_a2a58_row32_col4\" class=\"data row32 col4\" >1.680000</td>\n",
       "      <td id=\"T_a2a58_row32_col5\" class=\"data row32 col5\" >1.38%</td>\n",
       "      <td id=\"T_a2a58_row32_col6\" class=\"data row32 col6\" >1.66%</td>\n",
       "    </tr>\n",
       "    <tr>\n",
       "      <th id=\"T_a2a58_level4_row33\" class=\"row_heading level4 row33\" >-0.010000</th>\n",
       "      <td id=\"T_a2a58_row33_col0\" class=\"data row33 col0\" >133</td>\n",
       "      <td id=\"T_a2a58_row33_col1\" class=\"data row33 col1\" >48.55%</td>\n",
       "      <td id=\"T_a2a58_row33_col2\" class=\"data row33 col2\" >-24.00%</td>\n",
       "      <td id=\"T_a2a58_row33_col3\" class=\"data row33 col3\" >1.330000</td>\n",
       "      <td id=\"T_a2a58_row33_col4\" class=\"data row33 col4\" >2.050000</td>\n",
       "      <td id=\"T_a2a58_row33_col5\" class=\"data row33 col5\" >1.74%</td>\n",
       "      <td id=\"T_a2a58_row33_col6\" class=\"data row33 col6\" >2.02%</td>\n",
       "    </tr>\n",
       "    <tr>\n",
       "      <th id=\"T_a2a58_level4_row34\" class=\"row_heading level4 row34\" >-0.000100</th>\n",
       "      <td id=\"T_a2a58_row34_col0\" class=\"data row34 col0\" >138</td>\n",
       "      <td id=\"T_a2a58_row34_col1\" class=\"data row34 col1\" >38.60%</td>\n",
       "      <td id=\"T_a2a58_row34_col2\" class=\"data row34 col2\" >-24.00%</td>\n",
       "      <td id=\"T_a2a58_row34_col3\" class=\"data row34 col3\" >1.150000</td>\n",
       "      <td id=\"T_a2a58_row34_col4\" class=\"data row34 col4\" >1.720000</td>\n",
       "      <td id=\"T_a2a58_row34_col5\" class=\"data row34 col5\" >1.93%</td>\n",
       "      <td id=\"T_a2a58_row34_col6\" class=\"data row34 col6\" >2.95%</td>\n",
       "    </tr>\n",
       "    <tr>\n",
       "      <th id=\"T_a2a58_level3_row35\" class=\"row_heading level3 row35\" rowspan=\"5\">0.040000</th>\n",
       "      <th id=\"T_a2a58_level4_row35\" class=\"row_heading level4 row35\" >-0.050000</th>\n",
       "      <td id=\"T_a2a58_row35_col0\" class=\"data row35 col0\" >98</td>\n",
       "      <td id=\"T_a2a58_row35_col1\" class=\"data row35 col1\" >54.28%</td>\n",
       "      <td id=\"T_a2a58_row35_col2\" class=\"data row35 col2\" >-22.00%</td>\n",
       "      <td id=\"T_a2a58_row35_col3\" class=\"data row35 col3\" >1.400000</td>\n",
       "      <td id=\"T_a2a58_row35_col4\" class=\"data row35 col4\" >2.220000</td>\n",
       "      <td id=\"T_a2a58_row35_col5\" class=\"data row35 col5\" >2.06%</td>\n",
       "      <td id=\"T_a2a58_row35_col6\" class=\"data row35 col6\" >2.77%</td>\n",
       "    </tr>\n",
       "    <tr>\n",
       "      <th id=\"T_a2a58_level4_row36\" class=\"row_heading level4 row36\" >-0.040000</th>\n",
       "      <td id=\"T_a2a58_row36_col0\" class=\"data row36 col0\" >108</td>\n",
       "      <td id=\"T_a2a58_row36_col1\" class=\"data row36 col1\" >55.28%</td>\n",
       "      <td id=\"T_a2a58_row36_col2\" class=\"data row36 col2\" >-21.00%</td>\n",
       "      <td id=\"T_a2a58_row36_col3\" class=\"data row36 col3\" >1.460000</td>\n",
       "      <td id=\"T_a2a58_row36_col4\" class=\"data row36 col4\" >2.380000</td>\n",
       "      <td id=\"T_a2a58_row36_col5\" class=\"data row36 col5\" >1.72%</td>\n",
       "      <td id=\"T_a2a58_row36_col6\" class=\"data row36 col6\" >1.84%</td>\n",
       "    </tr>\n",
       "    <tr>\n",
       "      <th id=\"T_a2a58_level4_row37\" class=\"row_heading level4 row37\" >-0.025000</th>\n",
       "      <td id=\"T_a2a58_row37_col0\" class=\"data row37 col0\" >119</td>\n",
       "      <td id=\"T_a2a58_row37_col1\" class=\"data row37 col1\" >24.80%</td>\n",
       "      <td id=\"T_a2a58_row37_col2\" class=\"data row37 col2\" >-31.00%</td>\n",
       "      <td id=\"T_a2a58_row37_col3\" class=\"data row37 col3\" >0.800000</td>\n",
       "      <td id=\"T_a2a58_row37_col4\" class=\"data row37 col4\" >1.200000</td>\n",
       "      <td id=\"T_a2a58_row37_col5\" class=\"data row37 col5\" >1.28%</td>\n",
       "      <td id=\"T_a2a58_row37_col6\" class=\"data row37 col6\" >1.36%</td>\n",
       "    </tr>\n",
       "    <tr>\n",
       "      <th id=\"T_a2a58_level4_row38\" class=\"row_heading level4 row38\" >-0.010000</th>\n",
       "      <td id=\"T_a2a58_row38_col0\" class=\"data row38 col0\" >125</td>\n",
       "      <td id=\"T_a2a58_row38_col1\" class=\"data row38 col1\" >37.18%</td>\n",
       "      <td id=\"T_a2a58_row38_col2\" class=\"data row38 col2\" >-25.00%</td>\n",
       "      <td id=\"T_a2a58_row38_col3\" class=\"data row38 col3\" >1.090000</td>\n",
       "      <td id=\"T_a2a58_row38_col4\" class=\"data row38 col4\" >1.660000</td>\n",
       "      <td id=\"T_a2a58_row38_col5\" class=\"data row38 col5\" >1.68%</td>\n",
       "      <td id=\"T_a2a58_row38_col6\" class=\"data row38 col6\" >2.02%</td>\n",
       "    </tr>\n",
       "    <tr>\n",
       "      <th id=\"T_a2a58_level4_row39\" class=\"row_heading level4 row39\" >-0.000100</th>\n",
       "      <td id=\"T_a2a58_row39_col0\" class=\"data row39 col0\" >130</td>\n",
       "      <td id=\"T_a2a58_row39_col1\" class=\"data row39 col1\" >24.81%</td>\n",
       "      <td id=\"T_a2a58_row39_col2\" class=\"data row39 col2\" >-25.00%</td>\n",
       "      <td id=\"T_a2a58_row39_col3\" class=\"data row39 col3\" >0.820000</td>\n",
       "      <td id=\"T_a2a58_row39_col4\" class=\"data row39 col4\" >1.210000</td>\n",
       "      <td id=\"T_a2a58_row39_col5\" class=\"data row39 col5\" >1.80%</td>\n",
       "      <td id=\"T_a2a58_row39_col6\" class=\"data row39 col6\" >2.63%</td>\n",
       "    </tr>\n",
       "    <tr>\n",
       "      <th id=\"T_a2a58_level2_row40\" class=\"row_heading level2 row40\" rowspan=\"20\">1.090000</th>\n",
       "      <th id=\"T_a2a58_level3_row40\" class=\"row_heading level3 row40\" rowspan=\"5\">0.000100</th>\n",
       "      <th id=\"T_a2a58_level4_row40\" class=\"row_heading level4 row40\" >-0.050000</th>\n",
       "      <td id=\"T_a2a58_row40_col0\" class=\"data row40 col0\" >119</td>\n",
       "      <td id=\"T_a2a58_row40_col1\" class=\"data row40 col1\" >75.65%</td>\n",
       "      <td id=\"T_a2a58_row40_col2\" class=\"data row40 col2\" >-17.00%</td>\n",
       "      <td id=\"T_a2a58_row40_col3\" class=\"data row40 col3\" >1.730000</td>\n",
       "      <td id=\"T_a2a58_row40_col4\" class=\"data row40 col4\" >2.790000</td>\n",
       "      <td id=\"T_a2a58_row40_col5\" class=\"data row40 col5\" >2.19%</td>\n",
       "      <td id=\"T_a2a58_row40_col6\" class=\"data row40 col6\" >1.97%</td>\n",
       "    </tr>\n",
       "    <tr>\n",
       "      <th id=\"T_a2a58_level4_row41\" class=\"row_heading level4 row41\" >-0.040000</th>\n",
       "      <td id=\"T_a2a58_row41_col0\" class=\"data row41 col0\" >129</td>\n",
       "      <td id=\"T_a2a58_row41_col1\" class=\"data row41 col1\" >77.82%</td>\n",
       "      <td id=\"T_a2a58_row41_col2\" class=\"data row41 col2\" >-17.00%</td>\n",
       "      <td id=\"T_a2a58_row41_col3\" class=\"data row41 col3\" >1.840000</td>\n",
       "      <td id=\"T_a2a58_row41_col4\" class=\"data row41 col4\" >3.010000</td>\n",
       "      <td id=\"T_a2a58_row41_col5\" class=\"data row41 col5\" >1.98%</td>\n",
       "      <td id=\"T_a2a58_row41_col6\" class=\"data row41 col6\" >0.82%</td>\n",
       "    </tr>\n",
       "    <tr>\n",
       "      <th id=\"T_a2a58_level4_row42\" class=\"row_heading level4 row42\" >-0.025000</th>\n",
       "      <td id=\"T_a2a58_row42_col0\" class=\"data row42 col0\" >140</td>\n",
       "      <td id=\"T_a2a58_row42_col1\" class=\"data row42 col1\" >48.45%</td>\n",
       "      <td id=\"T_a2a58_row42_col2\" class=\"data row42 col2\" >-23.00%</td>\n",
       "      <td id=\"T_a2a58_row42_col3\" class=\"data row42 col3\" >1.290000</td>\n",
       "      <td id=\"T_a2a58_row42_col4\" class=\"data row42 col4\" >2.000000</td>\n",
       "      <td id=\"T_a2a58_row42_col5\" class=\"data row42 col5\" >1.67%</td>\n",
       "      <td id=\"T_a2a58_row42_col6\" class=\"data row42 col6\" >0.64%</td>\n",
       "    </tr>\n",
       "    <tr>\n",
       "      <th id=\"T_a2a58_level4_row43\" class=\"row_heading level4 row43\" >-0.010000</th>\n",
       "      <td id=\"T_a2a58_row43_col0\" class=\"data row43 col0\" >144</td>\n",
       "      <td id=\"T_a2a58_row43_col1\" class=\"data row43 col1\" >53.51%</td>\n",
       "      <td id=\"T_a2a58_row43_col2\" class=\"data row43 col2\" >-23.00%</td>\n",
       "      <td id=\"T_a2a58_row43_col3\" class=\"data row43 col3\" >1.410000</td>\n",
       "      <td id=\"T_a2a58_row43_col4\" class=\"data row43 col4\" >2.210000</td>\n",
       "      <td id=\"T_a2a58_row43_col5\" class=\"data row43 col5\" >2.09%</td>\n",
       "      <td id=\"T_a2a58_row43_col6\" class=\"data row43 col6\" >0.47%</td>\n",
       "    </tr>\n",
       "    <tr>\n",
       "      <th id=\"T_a2a58_level4_row44\" class=\"row_heading level4 row44\" >-0.000100</th>\n",
       "      <td id=\"T_a2a58_row44_col0\" class=\"data row44 col0\" >148</td>\n",
       "      <td id=\"T_a2a58_row44_col1\" class=\"data row44 col1\" >41.60%</td>\n",
       "      <td id=\"T_a2a58_row44_col2\" class=\"data row44 col2\" >-23.00%</td>\n",
       "      <td id=\"T_a2a58_row44_col3\" class=\"data row44 col3\" >1.210000</td>\n",
       "      <td id=\"T_a2a58_row44_col4\" class=\"data row44 col4\" >1.840000</td>\n",
       "      <td id=\"T_a2a58_row44_col5\" class=\"data row44 col5\" >2.26%</td>\n",
       "      <td id=\"T_a2a58_row44_col6\" class=\"data row44 col6\" >1.58%</td>\n",
       "    </tr>\n",
       "    <tr>\n",
       "      <th id=\"T_a2a58_level3_row45\" class=\"row_heading level3 row45\" rowspan=\"5\">0.010000</th>\n",
       "      <th id=\"T_a2a58_level4_row45\" class=\"row_heading level4 row45\" >-0.050000</th>\n",
       "      <td id=\"T_a2a58_row45_col0\" class=\"data row45 col0\" >116</td>\n",
       "      <td id=\"T_a2a58_row45_col1\" class=\"data row45 col1\" >60.53%</td>\n",
       "      <td id=\"T_a2a58_row45_col2\" class=\"data row45 col2\" >-23.00%</td>\n",
       "      <td id=\"T_a2a58_row45_col3\" class=\"data row45 col3\" >1.470000</td>\n",
       "      <td id=\"T_a2a58_row45_col4\" class=\"data row45 col4\" >2.310000</td>\n",
       "      <td id=\"T_a2a58_row45_col5\" class=\"data row45 col5\" >2.15%</td>\n",
       "      <td id=\"T_a2a58_row45_col6\" class=\"data row45 col6\" >1.42%</td>\n",
       "    </tr>\n",
       "    <tr>\n",
       "      <th id=\"T_a2a58_level4_row46\" class=\"row_heading level4 row46\" >-0.040000</th>\n",
       "      <td id=\"T_a2a58_row46_col0\" class=\"data row46 col0\" >126</td>\n",
       "      <td id=\"T_a2a58_row46_col1\" class=\"data row46 col1\" >62.52%</td>\n",
       "      <td id=\"T_a2a58_row46_col2\" class=\"data row46 col2\" >-22.00%</td>\n",
       "      <td id=\"T_a2a58_row46_col3\" class=\"data row46 col3\" >1.550000</td>\n",
       "      <td id=\"T_a2a58_row46_col4\" class=\"data row46 col4\" >2.480000</td>\n",
       "      <td id=\"T_a2a58_row46_col5\" class=\"data row46 col5\" >1.94%</td>\n",
       "      <td id=\"T_a2a58_row46_col6\" class=\"data row46 col6\" >0.49%</td>\n",
       "    </tr>\n",
       "    <tr>\n",
       "      <th id=\"T_a2a58_level4_row47\" class=\"row_heading level4 row47\" >-0.025000</th>\n",
       "      <td id=\"T_a2a58_row47_col0\" class=\"data row47 col0\" >137</td>\n",
       "      <td id=\"T_a2a58_row47_col1\" class=\"data row47 col1\" >27.17%</td>\n",
       "      <td id=\"T_a2a58_row47_col2\" class=\"data row47 col2\" >-32.00%</td>\n",
       "      <td id=\"T_a2a58_row47_col3\" class=\"data row47 col3\" >0.840000</td>\n",
       "      <td id=\"T_a2a58_row47_col4\" class=\"data row47 col4\" >1.270000</td>\n",
       "      <td id=\"T_a2a58_row47_col5\" class=\"data row47 col5\" >1.59%</td>\n",
       "      <td id=\"T_a2a58_row47_col6\" class=\"data row47 col6\" >0.46%</td>\n",
       "    </tr>\n",
       "    <tr>\n",
       "      <th id=\"T_a2a58_level4_row48\" class=\"row_heading level4 row48\" >-0.010000</th>\n",
       "      <td id=\"T_a2a58_row48_col0\" class=\"data row48 col0\" >141</td>\n",
       "      <td id=\"T_a2a58_row48_col1\" class=\"data row48 col1\" >37.15%</td>\n",
       "      <td id=\"T_a2a58_row48_col2\" class=\"data row48 col2\" >-25.00%</td>\n",
       "      <td id=\"T_a2a58_row48_col3\" class=\"data row48 col3\" >1.070000</td>\n",
       "      <td id=\"T_a2a58_row48_col4\" class=\"data row48 col4\" >1.640000</td>\n",
       "      <td id=\"T_a2a58_row48_col5\" class=\"data row48 col5\" >1.97%</td>\n",
       "      <td id=\"T_a2a58_row48_col6\" class=\"data row48 col6\" >0.46%</td>\n",
       "    </tr>\n",
       "    <tr>\n",
       "      <th id=\"T_a2a58_level4_row49\" class=\"row_heading level4 row49\" >-0.000100</th>\n",
       "      <td id=\"T_a2a58_row49_col0\" class=\"data row49 col0\" >145</td>\n",
       "      <td id=\"T_a2a58_row49_col1\" class=\"data row49 col1\" >28.90%</td>\n",
       "      <td id=\"T_a2a58_row49_col2\" class=\"data row49 col2\" >-23.00%</td>\n",
       "      <td id=\"T_a2a58_row49_col3\" class=\"data row49 col3\" >0.920000</td>\n",
       "      <td id=\"T_a2a58_row49_col4\" class=\"data row49 col4\" >1.370000</td>\n",
       "      <td id=\"T_a2a58_row49_col5\" class=\"data row49 col5\" >2.14%</td>\n",
       "      <td id=\"T_a2a58_row49_col6\" class=\"data row49 col6\" >0.84%</td>\n",
       "    </tr>\n",
       "    <tr>\n",
       "      <th id=\"T_a2a58_level3_row50\" class=\"row_heading level3 row50\" rowspan=\"5\">0.025000</th>\n",
       "      <th id=\"T_a2a58_level4_row50\" class=\"row_heading level4 row50\" >-0.050000</th>\n",
       "      <td id=\"T_a2a58_row50_col0\" class=\"data row50 col0\" >103</td>\n",
       "      <td id=\"T_a2a58_row50_col1\" class=\"data row50 col1\" >74.22%</td>\n",
       "      <td id=\"T_a2a58_row50_col2\" class=\"data row50 col2\" >-23.00%</td>\n",
       "      <td id=\"T_a2a58_row50_col3\" class=\"data row50 col3\" >1.700000</td>\n",
       "      <td id=\"T_a2a58_row50_col4\" class=\"data row50 col4\" >2.760000</td>\n",
       "      <td id=\"T_a2a58_row50_col5\" class=\"data row50 col5\" >2.04%</td>\n",
       "      <td id=\"T_a2a58_row50_col6\" class=\"data row50 col6\" >1.65%</td>\n",
       "    </tr>\n",
       "    <tr>\n",
       "      <th id=\"T_a2a58_level4_row51\" class=\"row_heading level4 row51\" >-0.040000</th>\n",
       "      <td id=\"T_a2a58_row51_col0\" class=\"data row51 col0\" >113</td>\n",
       "      <td id=\"T_a2a58_row51_col1\" class=\"data row51 col1\" >76.37%</td>\n",
       "      <td id=\"T_a2a58_row51_col2\" class=\"data row51 col2\" >-22.00%</td>\n",
       "      <td id=\"T_a2a58_row51_col3\" class=\"data row51 col3\" >1.790000</td>\n",
       "      <td id=\"T_a2a58_row51_col4\" class=\"data row51 col4\" >2.990000</td>\n",
       "      <td id=\"T_a2a58_row51_col5\" class=\"data row51 col5\" >1.81%</td>\n",
       "      <td id=\"T_a2a58_row51_col6\" class=\"data row51 col6\" >0.52%</td>\n",
       "    </tr>\n",
       "    <tr>\n",
       "      <th id=\"T_a2a58_level4_row52\" class=\"row_heading level4 row52\" >-0.025000</th>\n",
       "      <td id=\"T_a2a58_row52_col0\" class=\"data row52 col0\" >124</td>\n",
       "      <td id=\"T_a2a58_row52_col1\" class=\"data row52 col1\" >42.15%</td>\n",
       "      <td id=\"T_a2a58_row52_col2\" class=\"data row52 col2\" >-31.00%</td>\n",
       "      <td id=\"T_a2a58_row52_col3\" class=\"data row52 col3\" >1.150000</td>\n",
       "      <td id=\"T_a2a58_row52_col4\" class=\"data row52 col4\" >1.790000</td>\n",
       "      <td id=\"T_a2a58_row52_col5\" class=\"data row52 col5\" >1.44%</td>\n",
       "      <td id=\"T_a2a58_row52_col6\" class=\"data row52 col6\" >0.49%</td>\n",
       "    </tr>\n",
       "    <tr>\n",
       "      <th id=\"T_a2a58_level4_row53\" class=\"row_heading level4 row53\" >-0.010000</th>\n",
       "      <td id=\"T_a2a58_row53_col0\" class=\"data row53 col0\" >128</td>\n",
       "      <td id=\"T_a2a58_row53_col1\" class=\"data row53 col1\" >53.36%</td>\n",
       "      <td id=\"T_a2a58_row53_col2\" class=\"data row53 col2\" >-24.00%</td>\n",
       "      <td id=\"T_a2a58_row53_col3\" class=\"data row53 col3\" >1.390000</td>\n",
       "      <td id=\"T_a2a58_row53_col4\" class=\"data row53 col4\" >2.200000</td>\n",
       "      <td id=\"T_a2a58_row53_col5\" class=\"data row53 col5\" >1.88%</td>\n",
       "      <td id=\"T_a2a58_row53_col6\" class=\"data row53 col6\" >0.47%</td>\n",
       "    </tr>\n",
       "    <tr>\n",
       "      <th id=\"T_a2a58_level4_row54\" class=\"row_heading level4 row54\" >-0.000100</th>\n",
       "      <td id=\"T_a2a58_row54_col0\" class=\"data row54 col0\" >132</td>\n",
       "      <td id=\"T_a2a58_row54_col1\" class=\"data row54 col1\" >42.15%</td>\n",
       "      <td id=\"T_a2a58_row54_col2\" class=\"data row54 col2\" >-23.00%</td>\n",
       "      <td id=\"T_a2a58_row54_col3\" class=\"data row54 col3\" >1.200000</td>\n",
       "      <td id=\"T_a2a58_row54_col4\" class=\"data row54 col4\" >1.850000</td>\n",
       "      <td id=\"T_a2a58_row54_col5\" class=\"data row54 col5\" >2.07%</td>\n",
       "      <td id=\"T_a2a58_row54_col6\" class=\"data row54 col6\" >1.25%</td>\n",
       "    </tr>\n",
       "    <tr>\n",
       "      <th id=\"T_a2a58_level3_row55\" class=\"row_heading level3 row55\" rowspan=\"5\">0.040000</th>\n",
       "      <th id=\"T_a2a58_level4_row55\" class=\"row_heading level4 row55\" >-0.050000</th>\n",
       "      <td id=\"T_a2a58_row55_col0\" class=\"data row55 col0\" >95</td>\n",
       "      <td id=\"T_a2a58_row55_col1\" class=\"data row55 col1\" >61.12%</td>\n",
       "      <td id=\"T_a2a58_row55_col2\" class=\"data row55 col2\" >-23.00%</td>\n",
       "      <td id=\"T_a2a58_row55_col3\" class=\"data row55 col3\" >1.470000</td>\n",
       "      <td id=\"T_a2a58_row55_col4\" class=\"data row55 col4\" >2.380000</td>\n",
       "      <td id=\"T_a2a58_row55_col5\" class=\"data row55 col5\" >2.06%</td>\n",
       "      <td id=\"T_a2a58_row55_col6\" class=\"data row55 col6\" >1.65%</td>\n",
       "    </tr>\n",
       "    <tr>\n",
       "      <th id=\"T_a2a58_level4_row56\" class=\"row_heading level4 row56\" >-0.040000</th>\n",
       "      <td id=\"T_a2a58_row56_col0\" class=\"data row56 col0\" >105</td>\n",
       "      <td id=\"T_a2a58_row56_col1\" class=\"data row56 col1\" >63.16%</td>\n",
       "      <td id=\"T_a2a58_row56_col2\" class=\"data row56 col2\" >-22.00%</td>\n",
       "      <td id=\"T_a2a58_row56_col3\" class=\"data row56 col3\" >1.550000</td>\n",
       "      <td id=\"T_a2a58_row56_col4\" class=\"data row56 col4\" >2.570000</td>\n",
       "      <td id=\"T_a2a58_row56_col5\" class=\"data row56 col5\" >1.81%</td>\n",
       "      <td id=\"T_a2a58_row56_col6\" class=\"data row56 col6\" >0.52%</td>\n",
       "    </tr>\n",
       "    <tr>\n",
       "      <th id=\"T_a2a58_level4_row57\" class=\"row_heading level4 row57\" >-0.025000</th>\n",
       "      <td id=\"T_a2a58_row57_col0\" class=\"data row57 col0\" >116</td>\n",
       "      <td id=\"T_a2a58_row57_col1\" class=\"data row57 col1\" >31.50%</td>\n",
       "      <td id=\"T_a2a58_row57_col2\" class=\"data row57 col2\" >-32.00%</td>\n",
       "      <td id=\"T_a2a58_row57_col3\" class=\"data row57 col3\" >0.930000</td>\n",
       "      <td id=\"T_a2a58_row57_col4\" class=\"data row57 col4\" >1.430000</td>\n",
       "      <td id=\"T_a2a58_row57_col5\" class=\"data row57 col5\" >1.41%</td>\n",
       "      <td id=\"T_a2a58_row57_col6\" class=\"data row57 col6\" >0.49%</td>\n",
       "    </tr>\n",
       "    <tr>\n",
       "      <th id=\"T_a2a58_level4_row58\" class=\"row_heading level4 row58\" >-0.010000</th>\n",
       "      <td id=\"T_a2a58_row58_col0\" class=\"data row58 col0\" >120</td>\n",
       "      <td id=\"T_a2a58_row58_col1\" class=\"data row58 col1\" >46.61%</td>\n",
       "      <td id=\"T_a2a58_row58_col2\" class=\"data row58 col2\" >-25.00%</td>\n",
       "      <td id=\"T_a2a58_row58_col3\" class=\"data row58 col3\" >1.250000</td>\n",
       "      <td id=\"T_a2a58_row58_col4\" class=\"data row58 col4\" >1.980000</td>\n",
       "      <td id=\"T_a2a58_row58_col5\" class=\"data row58 col5\" >1.89%</td>\n",
       "      <td id=\"T_a2a58_row58_col6\" class=\"data row58 col6\" >0.47%</td>\n",
       "    </tr>\n",
       "    <tr>\n",
       "      <th id=\"T_a2a58_level4_row59\" class=\"row_heading level4 row59\" >-0.000100</th>\n",
       "      <td id=\"T_a2a58_row59_col0\" class=\"data row59 col0\" >124</td>\n",
       "      <td id=\"T_a2a58_row59_col1\" class=\"data row59 col1\" >31.96%</td>\n",
       "      <td id=\"T_a2a58_row59_col2\" class=\"data row59 col2\" >-24.00%</td>\n",
       "      <td id=\"T_a2a58_row59_col3\" class=\"data row59 col3\" >0.970000</td>\n",
       "      <td id=\"T_a2a58_row59_col4\" class=\"data row59 col4\" >1.470000</td>\n",
       "      <td id=\"T_a2a58_row59_col5\" class=\"data row59 col5\" >2.01%</td>\n",
       "      <td id=\"T_a2a58_row59_col6\" class=\"data row59 col6\" >1.11%</td>\n",
       "    </tr>\n",
       "  </tbody>\n",
       "</table>\n"
      ],
      "text/plain": [
       "<pandas.io.formats.style.Styler at 0x2a2a26590>"
      ]
     },
     "metadata": {},
     "output_type": "display_data"
    }
   ],
   "source": [
    "from tradeexecutor.analysis.grid_search import analyse_grid_search_result\n",
    "from tradeexecutor.analysis.grid_search import visualise_table\n",
    "table = analyse_grid_search_result(grid_search_results)\n",
    "\n",
    "visualise_table(table)"
   ]
  },
  {
   "cell_type": "markdown",
   "metadata": {
    "collapsed": false
   },
   "source": []
  }
 ],
 "metadata": {
  "kernelspec": {
   "display_name": "trade-executor-8Oz1GdY1-py3.10",
   "language": "python",
   "name": "python3"
  },
  "language_info": {
   "codemirror_mode": {
    "name": "ipython",
    "version": 3
   },
   "file_extension": ".py",
   "mimetype": "text/x-python",
   "name": "python",
   "nbconvert_exporter": "python",
   "pygments_lexer": "ipython3",
   "version": "3.10.13"
  },
  "vscode": {
   "interpreter": {
    "hash": "7adede735167b7e67e1575a49b63099e273f8f003d80ae98ec60bd132e113570"
   }
  }
 },
 "nbformat": 4,
 "nbformat_minor": 4
}
