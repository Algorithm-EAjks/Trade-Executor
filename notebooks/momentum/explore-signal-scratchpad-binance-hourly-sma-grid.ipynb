{
 "cells": [
  {
   "cell_type": "markdown",
   "metadata": {},
   "source": [
    "# Explore signal/price movement relationship\n",
    "\n",
    "This is an example notebook to explore whether a trading signal results to profitable trades.\n",
    "\n",
    "- 3 days \n",
    "- It explores a small set of pairs on Uni v3 on Polygon\n",
    "- Both long and short are considered (though shorts might be theoretical only, if such a lending market doest not exist in the point of time)\n",
    "\n",
    "First run to prepare the dataset:\n",
    "\n",
    "```shell\n",
    "python scripts/prepare-polygon-momentum-candles.py\n",
    "```"
   ]
  },
  {
   "cell_type": "code",
   "execution_count": null,
   "metadata": {},
   "outputs": [],
   "source": [
    "import pandas as pd\n",
    "\n",
    "from tradingstrategy.client import Client\n",
    "from tradingstrategy.chain import ChainId\n",
    "from tradingstrategy.pair import PandasPairUniverse\n",
    "from tradingstrategy.timebucket import TimeBucket\n",
    "from tradeexecutor.utils.default_strategies import get_default_strategies_path\n",
    "from tradeexecutor.strategy.execution_context import notebook_execution_context\n",
    "from tradeexecutor.utils.default_strategies import get_default_strategies_path\n",
    "from tradeexecutor.strategy.strategy_module import read_strategy_module\n",
    "from tradeexecutor.strategy.trading_strategy_universe import TradingStrategyUniverse, load_partial_data, load_trading_and_lending_data\n",
    "from tradeexecutor.strategy.universe_model import UniverseOptions\n",
    "\n",
    "client = Client.create_jupyter_client()\n",
    "\n"
   ]
  },
  {
   "cell_type": "markdown",
   "metadata": {},
   "source": [
    "### Interactive viewer mode\n",
    "\n",
    "Set Plotly chart output mode to interactive viewing."
   ]
  },
  {
   "cell_type": "code",
   "execution_count": null,
   "metadata": {},
   "outputs": [],
   "source": [
    "from tradeexecutor.utils.notebook import OutputMode, setup_charting_and_output\n",
    "\n",
    "# setup_charting_and_output(OutputMode.interactive, max_rows=35, height=1000)\n",
    "setup_charting_and_output(\n",
    "    OutputMode.static, \n",
    "    image_format=\"png\",\n",
    "    width=1500,\n",
    "    height=1200,\n",
    "    max_rows=30,    \n",
    "    #min_rows=10,\n",
    ")\n",
    "\n",
    "#pd.set_option('display.float_format', lambda x: '%.2f' % x)\n",
    "pd.options.display.float_format = '{:,.2f}'.format\n"
   ]
  },
  {
   "cell_type": "markdown",
   "metadata": {},
   "source": [
    "## Filter trading pairs"
   ]
  },
  {
   "cell_type": "code",
   "execution_count": null,
   "metadata": {},
   "outputs": [],
   "source": [
    "from tradingstrategy.pair import filter_for_stablecoins, StablecoinFilteringMode\n",
    "\n",
    "candles_df = all_candles_df\n",
    "\n",
    "print(f\"We have {len(pair_ids)} tradeable pairs\")\n",
    "print(f\"We have {len(candles_df):,} candles for tradeable pairs, out of {len(all_candles_df):,} total candles\")\n"
   ]
  },
  {
   "cell_type": "markdown",
   "metadata": {},
   "source": [
    "## Explore signal vs price change\n",
    "\n",
    "Create a function `calculate_signal_vs_profit` which calculates \n",
    "- Signal (naive momentum)\n",
    "- Profit: the last and the best future price we can get\n",
    "- Allows us to play around with different time windows\n",
    "- Split between shorts and longs\n"
   ]
  },
  {
   "cell_type": "code",
   "execution_count": null,
   "metadata": {},
   "outputs": [],
   "source": [
    "from pandas.tseries.frequencies import to_offset\n",
    "import humanize\n",
    "\n",
    "# Set up parameters of time windows\n",
    "# we use for this notebook run\n",
    "#lookback_window = pd.Timedelta(days=2)\n",
    "#profit_window = pd.Timedelta(days=2)\n",
    "\n",
    "lookback_window = pd.Timedelta(hours=4)\n",
    "profit_window = pd.Timedelta(hours=4)\n",
    "\n",
    "long_lookback_window = lookback_window * 4\n",
    "daily_volume_threshold = 10_000\n",
    "\n",
    "# short - long EMA pairs\n",
    "short_long_ema_pairs = [\n",
    "    (2, 4),\n",
    "    # (16, 48),\n",
    "    # (32, 96),\n",
    "]\n",
    "\n",
    "# Normalise EMA diff to 90 days/90 hours\n",
    "ema_diff_short_normalisation_period = 24*7\n",
    "ema_diff_long_normalisation_period =  30*24\n",
    "\n",
    "min_entries = 14\n",
    "\n",
    "min_age = pd.DateOffset(days=20)\n",
    "\n",
    "zero_signal_cut_off = 0.0001\n",
    "\n",
    "quantile_sanity_threshold = 0.9995\n",
    "\n",
    "#signal_source = \"momentum\"\n",
    "signal_source = \"weighted_ema\"\n",
    "\n",
    "apply_filter_by_signal = False\n",
    "apply_filter_by_profit = False\n",
    "apply_response_function = False\n",
    "\n",
    "# Use later in chart titles\n",
    "signal_window_label = humanize.naturaldelta(lookback_window)\n",
    "profit_window_label = humanize.naturaldelta(profit_window)\n"
   ]
  },
  {
   "cell_type": "markdown",
   "metadata": {},
   "source": [
    "Create a function `calculate_signal_vs_price_for_pair` which calculates \n",
    "- Calculates the signal vs. for certain trading pair\n",
    "- Bundle few different pairs to the same `DataFrame` so we can examine them together\n"
   ]
  },
  {
   "cell_type": "code",
   "execution_count": null,
   "metadata": {},
   "outputs": [],
   "source": [
    "\n",
    "\n"
   ]
  },
  {
   "cell_type": "markdown",
   "metadata": {},
   "source": [
    "## Grid search function"
   ]
  },
  {
   "cell_type": "code",
   "execution_count": null,
   "metadata": {},
   "outputs": [],
   "source": [
    "import importlib\n",
    "import sys\n",
    "\n",
    "grid_search_mod_path = get_default_strategies_path() / \"grid-search\" / \"binance-sma.py\"\n",
    "\n",
    "# See https://stackoverflow.com/a/67692/315168\n",
    "spec = importlib.util.spec_from_file_location(\"binance-sma\", grid_search_mod_path)\n",
    "python_mod = importlib.util.module_from_spec(spec)\n",
    "sys.modules[\"binance-sma\"] = python_mod\n",
    "spec.loader.exec_module(python_mod)\n",
    "\n",
    "print(f\"Grid searching for for strategy {grid_search_mod_path}\")"
   ]
  },
  {
   "cell_type": "markdown",
   "metadata": {},
   "source": [
    "## Execute grid search"
   ]
  },
  {
   "cell_type": "code",
   "execution_count": null,
   "metadata": {},
   "outputs": [],
   "source": [
    "import runpy\n",
    "\n",
    "mod = runpy.run_path(grid_search_mod_path)\n",
    "mod[\"main\"]()"
   ]
  },
  {
   "cell_type": "markdown",
   "metadata": {},
   "source": []
  },
  {
   "cell_type": "markdown",
   "metadata": {},
   "source": [
    "## Show grid search results"
   ]
  },
  {
   "cell_type": "code",
   "execution_count": null,
   "metadata": {},
   "outputs": [],
   "source": [
    "display(result_df)"
   ]
  }
 ],
 "metadata": {
  "kernelspec": {
   "display_name": "trade-executor-8Oz1GdY1-py3.10",
   "language": "python",
   "name": "python3"
  },
  "language_info": {
   "codemirror_mode": {
    "name": "ipython",
    "version": 3
   },
   "file_extension": ".py",
   "mimetype": "text/x-python",
   "name": "python",
   "nbconvert_exporter": "python",
   "pygments_lexer": "ipython3",
   "version": "3.10.13"
  }
 },
 "nbformat": 4,
 "nbformat_minor": 2
}
