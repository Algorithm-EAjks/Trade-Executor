{
 "cells": [
  {
   "cell_type": "code",
   "execution_count": 1,
   "metadata": {},
   "outputs": [
    {
     "name": "stderr",
     "output_type": "stream",
     "text": [
      "100%|██████████| 10/10 [00:10<00:00,  1.01s/it]\n"
     ]
    }
   ],
   "source": [
    "import time\n",
    "\n",
    "from tqdm import tqdm\n",
    "\n",
    "with tqdm(total=10) as progress_bar:\n",
    "    for i in range(10):\n",
    "        progress_bar.update()\n",
    "        time.sleep(1)\n",
    "\n",
    "import tradingstrategy\n",
    "import tradeexecutor\n",
    "\n",
    "print(tradingstrategy)\n",
    "print(tradeexecutor)\n",
    "\n",
    "from tradingstrategy.analysis import foo \n",
    "\n",
    "import web3 \n",
    "\n",
    "import pandas"
   ]
  }
 ],
 "metadata": {
  "kernelspec": {
   "display_name": "trade-executor-8Oz1GdY1-py3.10",
   "language": "python",
   "name": "python3"
  },
  "language_info": {
   "codemirror_mode": {
    "name": "ipython",
    "version": 3
   },
   "file_extension": ".py",
   "mimetype": "text/x-python",
   "name": "python",
   "nbconvert_exporter": "python",
   "pygments_lexer": "ipython3",
   "version": "3.10.13"
  }
 },
 "nbformat": 4,
 "nbformat_minor": 2
}
