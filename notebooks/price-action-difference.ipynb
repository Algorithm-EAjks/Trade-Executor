{
 "cells": [
  {
   "cell_type": "markdown",
   "source": [
    "# Price action difference\n",
    "\n",
    "- Analyse differences between CEX and DEX\n",
    "- In this notebook, we compare Arbitrum `WBTC-USDC` on Uniswap v3 to Binance price action\n",
    "  of `BTC-USDT`\n",
    "- We compare one hour candles\n",
    "\n"
   ],
   "metadata": {
    "collapsed": false
   }
  },
  {
   "cell_type": "markdown",
   "source": [
    "# Parameters\n",
    "\n",
    "Set up parameters we compare.\n"
   ],
   "metadata": {
    "collapsed": false
   }
  },
  {
   "cell_type": "code",
   "execution_count": 1,
   "outputs": [],
   "source": [
    "import pandas as pd\n",
    "from tradingstrategy.chain import ChainId\n",
    "from tradingstrategy.timebucket import TimeBucket\n",
    "\n",
    "time_bucket = TimeBucket.h1\n",
    "pair_description = (ChainId.arbitrum, \"uniswap-v3\", \"WBTC\", \"USDC\", 0.0005)\n",
    "binance_data = \"../tests/binance-BTCUSDT-1h.parquet\"\n",
    "start = pd.Timestamp(\"2022-12-21\")\n",
    "end = pd.Timestamp(\"2023-08-15\")"
   ],
   "metadata": {
    "collapsed": false,
    "ExecuteTime": {
     "end_time": "2023-08-18T08:22:12.338328Z",
     "start_time": "2023-08-18T08:22:12.069369Z"
    }
   }
  },
  {
   "cell_type": "markdown",
   "source": [
    "# Load Uniswap on Arbitrum data"
   ],
   "metadata": {
    "collapsed": false
   }
  },
  {
   "cell_type": "code",
   "execution_count": 2,
   "outputs": [
    {
     "name": "stdout",
     "output_type": "stream",
     "text": [
      "Started Trading Strategy in Jupyter notebook environment, configuration is stored in /Users/moo/.tradingstrategy\n"
     ]
    },
    {
     "data": {
      "text/plain": "Downloading exchange dataset(Unknown total file size): 0it [00:00, ?it/s]",
      "application/vnd.jupyter.widget-view+json": {
       "version_major": 2,
       "version_minor": 0,
       "model_id": "5c187bf1752e4c72aabc85dfdeebcc71"
      }
     },
     "metadata": {},
     "output_type": "display_data"
    },
    {
     "data": {
      "text/plain": "Downloading trading pair dataset:   0%|          | 0/24746285 [00:00<?, ?it/s]",
      "application/vnd.jupyter.widget-view+json": {
       "version_major": 2,
       "version_minor": 0,
       "model_id": "b10136b2718f46f59bcc45438c02e730"
      }
     },
     "metadata": {},
     "output_type": "display_data"
    },
    {
     "ename": "AssertionError",
     "evalue": "get_pair_by_human_description() needs exchange_universe passed as constructor or function argument in order to do pair lookups",
     "output_type": "error",
     "traceback": [
      "\u001B[0;31m---------------------------------------------------------------------------\u001B[0m",
      "\u001B[0;31mAssertionError\u001B[0m                            Traceback (most recent call last)",
      "Cell \u001B[0;32mIn[2], line 13\u001B[0m\n\u001B[1;32m      9\u001B[0m exchange_universe: ExchangeUniverse \u001B[38;5;241m=\u001B[39m client\u001B[38;5;241m.\u001B[39mfetch_exchange_universe()\n\u001B[1;32m     11\u001B[0m pair_universe \u001B[38;5;241m=\u001B[39m PandasPairUniverse(client\u001B[38;5;241m.\u001B[39mfetch_pair_universe()\u001B[38;5;241m.\u001B[39mto_pandas(), exchange_universe)\n\u001B[0;32m---> 13\u001B[0m pair \u001B[38;5;241m=\u001B[39m \u001B[43mpair_universe\u001B[49m\u001B[38;5;241;43m.\u001B[39;49m\u001B[43mget_pair_by_human_description\u001B[49m\u001B[43m(\u001B[49m\u001B[43mpair_description\u001B[49m\u001B[43m)\u001B[49m\n\u001B[1;32m     15\u001B[0m uniswap_candles: pd\u001B[38;5;241m.\u001B[39mDataFrame \u001B[38;5;241m=\u001B[39m client\u001B[38;5;241m.\u001B[39mfetch_candles_by_pair_ids(\n\u001B[1;32m     16\u001B[0m     {pair\u001B[38;5;241m.\u001B[39mpair_id},\n\u001B[1;32m     17\u001B[0m     TimeBucket\u001B[38;5;241m.\u001B[39md1,\n\u001B[1;32m     18\u001B[0m     progress_bar_description\u001B[38;5;241m=\u001B[39m\u001B[38;5;124mf\u001B[39m\u001B[38;5;124m\"\u001B[39m\u001B[38;5;124mDownload data for \u001B[39m\u001B[38;5;132;01m{\u001B[39;00mpair\u001B[38;5;241m.\u001B[39mget_ticker()\u001B[38;5;132;01m}\u001B[39;00m\u001B[38;5;124m\"\u001B[39m\n\u001B[1;32m     19\u001B[0m )\n",
      "File \u001B[0;32m~/code/executor/trade-executor/deps/trading-strategy/tradingstrategy/pair.py:1076\u001B[0m, in \u001B[0;36mPandasPairUniverse.get_pair_by_human_description\u001B[0;34m(self, desc, exchange_universe)\u001B[0m\n\u001B[1;32m   1073\u001B[0m \u001B[38;5;28;01mif\u001B[39;00m exchange_universe \u001B[38;5;129;01mis\u001B[39;00m \u001B[38;5;28;01mNone\u001B[39;00m:\n\u001B[1;32m   1074\u001B[0m     exchange_universe \u001B[38;5;241m=\u001B[39m \u001B[38;5;28mself\u001B[39m\u001B[38;5;241m.\u001B[39mexchange_universe\n\u001B[0;32m-> 1076\u001B[0m \u001B[38;5;28;01massert\u001B[39;00m exchange_universe \u001B[38;5;129;01mis\u001B[39;00m \u001B[38;5;129;01mnot\u001B[39;00m \u001B[38;5;28;01mNone\u001B[39;00m, \u001B[38;5;124m\"\u001B[39m\u001B[38;5;124mget_pair_by_human_description() needs exchange_universe passed as constructor or function argument in order to do pair lookups\u001B[39m\u001B[38;5;124m\"\u001B[39m\n\u001B[1;32m   1078\u001B[0m \u001B[38;5;28;01mif\u001B[39;00m \u001B[38;5;28mlen\u001B[39m(desc) \u001B[38;5;241m>\u001B[39m\u001B[38;5;241m=\u001B[39m \u001B[38;5;241m5\u001B[39m:\n\u001B[1;32m   1079\u001B[0m     chain_id, exchange_slug, base_token, quote_token, fee_tier \u001B[38;5;241m=\u001B[39m desc\n",
      "\u001B[0;31mAssertionError\u001B[0m: get_pair_by_human_description() needs exchange_universe passed as constructor or function argument in order to do pair lookups"
     ]
    }
   ],
   "source": [
    "from tradingstrategy.timebucket import TimeBucket\n",
    "from tradingstrategy.pair import PandasPairUniverse, DEXPair\n",
    "from tradingstrategy.exchange import ExchangeUniverse\n",
    "from tradingstrategy.client import Client\n",
    "\n",
    "client = Client.create_jupyter_client()\n",
    "\n",
    "# Fetch all exchange names, slugs and addresses\n",
    "exchange_universe: ExchangeUniverse = client.fetch_exchange_universe()\n",
    "\n",
    "pair_universe = PandasPairUniverse(client.fetch_pair_universe().to_pandas(), exchange_universe)\n",
    "\n",
    "pair = pair_universe.get_pair_by_human_description(pair_description)\n",
    "\n",
    "uniswap_candles: pd.DataFrame = client.fetch_candles_by_pair_ids(\n",
    "    {pair.pair_id},\n",
    "    TimeBucket.d1,\n",
    "    progress_bar_description=f\"Download data for {pair.get_ticker()}\"\n",
    ")"
   ],
   "metadata": {
    "collapsed": false,
    "ExecuteTime": {
     "end_time": "2023-08-18T08:22:21.624175Z",
     "start_time": "2023-08-18T08:22:12.347812Z"
    }
   }
  },
  {
   "cell_type": "markdown",
   "source": [
    "# Load Binance data"
   ],
   "metadata": {
    "collapsed": false
   }
  },
  {
   "cell_type": "code",
   "execution_count": null,
   "outputs": [],
   "source": [
    "from pathlib import Path\n",
    "from tradeexecutor.strategy.pandas_trader.alternative_market_data import load_candles_from_parquet\n",
    "\n",
    "binance_candles, _, binance_time_bucket, _ = load_candles_from_parquet(\n",
    "    Path(\"../tests/binance-BTCUSDT-1h.parquet\"),\n",
    ")"
   ],
   "metadata": {
    "collapsed": false
   }
  },
  {
   "cell_type": "markdown",
   "source": [
    "# Check data\n",
    "\n",
    "Make sure both dataframes are in a format we expect."
   ],
   "metadata": {
    "collapsed": false
   }
  },
  {
   "cell_type": "code",
   "execution_count": null,
   "outputs": [],
   "source": [
    "from tradingstrategy.charting.candle_chart import validate_ohclv_dataframe\n",
    "\n",
    "validate_ohclv_dataframe(uniswap_candles)\n",
    "validate_ohclv_dataframe(binance_candles)\n",
    "\n",
    "assert binance_time_bucket == time_bucket, \"Loaded candles are for different time frame\""
   ],
   "metadata": {
    "collapsed": false
   }
  },
  {
   "cell_type": "markdown",
   "source": [
    "# Align data\n",
    "\n",
    "Make sure both price feeds are aligned to the same time period.\n"
   ],
   "metadata": {
    "collapsed": false
   }
  },
  {
   "cell_type": "code",
   "execution_count": null,
   "outputs": [],
   "source": [
    "uniswap_candles = uniswap_candles[start:end]\n",
    "binance_candles = binance_candles[start:end]\n",
    "\n",
    "print(f\"Time period {start} - {end}\")\n",
    "print(f\"Uniswap has {len(uniswap_candles)} candles \")\n",
    "print(f\"Binance has {len(binance_candles)} candles \")\n"
   ],
   "metadata": {
    "collapsed": false
   }
  }
 ],
 "metadata": {
  "kernelspec": {
   "display_name": "Python 3",
   "language": "python",
   "name": "python3"
  },
  "language_info": {
   "codemirror_mode": {
    "name": "ipython",
    "version": 2
   },
   "file_extension": ".py",
   "mimetype": "text/x-python",
   "name": "python",
   "nbconvert_exporter": "python",
   "pygments_lexer": "ipython2",
   "version": "2.7.6"
  }
 },
 "nbformat": 4,
 "nbformat_minor": 0
}
