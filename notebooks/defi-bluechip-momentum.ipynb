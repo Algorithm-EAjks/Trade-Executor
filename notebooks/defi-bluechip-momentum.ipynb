{
 "cells": [
  {
   "attachments": {},
   "cell_type": "markdown",
   "metadata": {},
   "source": [
    "# Portfolio construction model trading strategy example\n",
    "\n",
    "This is an example notebook how to construct a momentum based portfolio construction strategy\n",
    "using [Trading Strategy framework](https://tradingstrategy.ai/docs/) and backtest it for DeFi tokens.\n",
    "\n",
    "This backtest uses alpha model approach where each trading pair has a signal\n",
    "and basede on the signal strenghts we construct new portfolio weightings \n",
    "for the upcoming week.\n",
    "\n",
    "Some highlights of this notebook:\n",
    "\n",
    "* **Not a realistic trading strategy, but more of an code example** - this may generate profits or loss but this is outside the scode of this example\n",
    "* Make sure you have studied some simpler backtesting examples first\n",
    "* The backtest has all its code within a single Jupyter notebook\n",
    "    - The backtest code and charts are self-contained in a single file\n",
    "    - The example code is easy to read\n",
    "* Runs a backtest for a momentum strategy\n",
    "    - Uses handpicked \"DeFi bluechip tokens\" - see *Trading universe definition* for the list\n",
    "    - Long only    \n",
    "    - Pick top 3 tokens for each strategy cycle\n",
    "    - Trade across multiple blockchains\n",
    "    - Trade across multiple DEXes\n",
    "    - Based on momentum (previous week price change %)\n",
    "    - Weekly rebalances - weekly strategy cycle\n",
    "    - Supports stop loss - although not used in this example\n",
    "    - Ignore price impact, and thus may cause unrealistic results\n",
    "    - Ignore available liquidity to trade, and thus may cause unrealistic results\n",
    "    - Ignore any complications of trading assets cross chain - we assume our reserve currency USDC is good on any chain and DEX and trading pair,\n",
    "      which is not a realistic assumption\n",
    "* Demostrates statistics and performance analyses\n",
    "    - Equity curve with comparison to buy and hold ETH\n",
    "    - Alpha model \n",
    "    - Aggregated monthly performance\n",
    "* Order routing is ignored; the strategy cannot be moved to live trading as is\n",
    "    - We use the oldest available DEX price data we have: Uniswap v2, others\n",
    "    - For live trade execution, one would want to choose execution on a newer DEX with less fees\n",
    "* You need a [Trading Strategy API key](https://tradingstrategy.ai/trading-view/backtesting) to run the notebook\n",
    "\n",
    "There is also a unit test version availble in the repository in `tests/strategy_tests`.\n"
   ]
  },
  {
   "cell_type": "markdown",
   "metadata": {},
   "source": [
    "## Strategy parameter set up\n",
    "\n",
    "Set up the parameters used in in this strategy backtest study.\n",
    "\n",
    "- Backtested blockchain, exchange and trading pair\n",
    "- Backtesting period\n",
    "- Strategy parameters for EMA crossovers"
   ]
  },
  {
   "cell_type": "code",
   "execution_count": 23,
   "metadata": {
    "collapsed": false,
    "jupyter": {
     "outputs_hidden": false
    }
   },
   "outputs": [],
   "source": [
    "import datetime\n",
    "import pandas as pd\n",
    "\n",
    "from tradingstrategy.chain import ChainId\n",
    "from tradingstrategy.timebucket import TimeBucket\n",
    "from tradeexecutor.strategy.cycle import CycleDuration\n",
    "from tradeexecutor.strategy.strategy_module import StrategyType, TradeRouting, ReserveCurrency\n",
    "\n",
    "# Tell what trade execution engine version this strategy needs to use\n",
    "trading_strategy_engine_version = \"0.1\"\n",
    "\n",
    "# What kind of strategy we are running.\n",
    "# This tells we are going to use\n",
    "trading_strategy_type = StrategyType.managed_positions\n",
    "\n",
    "# How our trades are routed.\n",
    "# PancakeSwap basic routing supports two way trades with BUSD\n",
    "# and three way trades with BUSD-BNB hop.\n",
    "trade_routing = TradeRouting.ignore\n",
    "\n",
    "# Set cycle to 7 days and look back the momentum of the previous candle\n",
    "trading_strategy_cycle = CycleDuration.cycle_7d\n",
    "momentum_lookback_period = datetime.timedelta(days=7)\n",
    "\n",
    "# Hold top 3 coins for every cycle\n",
    "max_assets_in_portfolio = 2\n",
    "\n",
    "# Leave 20% cash buffer\n",
    "value_allocated_to_positions = 0.80\n",
    "\n",
    "# Set 2% midprice stop loss\n",
    "stop_loss = 0.95\n",
    "\n",
    "# Use hourly candles to trigger the stop loss\n",
    "stop_loss_data_granularity = TimeBucket.h1\n",
    "\n",
    "# Strategy keeps its cash in USDC\n",
    "reserve_currency = ReserveCurrency.usdc\n",
    "\n",
    "# The duration of the backtesting period\n",
    "start_at = datetime.datetime(2020, 11, 1)\n",
    "end_at = datetime.datetime(2023, 1, 31)\n",
    "\n",
    "# Start with 10,000 USD\n",
    "initial_deposit = 10_000\n"
   ]
  },
  {
   "cell_type": "markdown",
   "metadata": {},
   "source": [
    "## Strategy logic and trade decisions\n",
    "\n",
    "`decide_trades` function decide what trades to take.\n",
    "In this example, we calculate two exponential moving averages\n",
    "(EMAs) and make decisions based on those.\n"
   ]
  },
  {
   "cell_type": "code",
   "execution_count": 24,
   "metadata": {
    "collapsed": false,
    "jupyter": {
     "outputs_hidden": false
    }
   },
   "outputs": [],
   "source": [
    "from tradeexecutor.strategy.trading_strategy_universe import translate_trading_pair\n",
    "from typing import List, Dict, Counter\n",
    "\n",
    "from tradingstrategy.universe import Universe\n",
    "from tradeexecutor.strategy.weighting import weight_by_1_slash_n\n",
    "from tradeexecutor.strategy.alpha_model import AlphaModel\n",
    "from tradeexecutor.state.trade import TradeExecution\n",
    "from tradeexecutor.strategy.pricing_model import PricingModel\n",
    "from tradeexecutor.strategy.pandas_trader.position_manager import PositionManager\n",
    "from tradeexecutor.state.state import State\n",
    "\n",
    "\n",
    "def decide_trades(\n",
    "        timestamp: pd.Timestamp,\n",
    "        universe: Universe,\n",
    "        state: State,\n",
    "        pricing_model: PricingModel,\n",
    "        cycle_debug_data: Dict) -> List[TradeExecution]:\n",
    "\n",
    "    # Create a position manager helper class that allows us easily to create\n",
    "    # opening/closing trades for different positions\n",
    "    position_manager = PositionManager(timestamp, universe, state, pricing_model)\n",
    "\n",
    "    alpha_model = AlphaModel(timestamp)\n",
    "\n",
    "    # Watch out for the inclusive range and include and avoid peeking in the future\n",
    "    adjusted_timestamp = timestamp - pd.Timedelta(seconds=1)\n",
    "    start = adjusted_timestamp - momentum_lookback_period - datetime.timedelta(seconds=1)\n",
    "    end = adjusted_timestamp \n",
    "\n",
    "    candle_universe = universe.candles\n",
    "    pair_universe = universe.pairs\n",
    "\n",
    "    # Get candle data for all candles, inclusive time range\n",
    "    candle_data = candle_universe.iterate_samples_by_pair_range(start, end)\n",
    "\n",
    "    # Iterate over all candles for all pairs in this timestamp (ts)\n",
    "    for pair_id, pair_df in candle_data:\n",
    "\n",
    "        # We should have candles for range start - end,\n",
    "        # where end is the current strategy cycle timestamp \n",
    "        # and start is one week before end.\n",
    "        # Because of sparse data we may have 0, 1 or 2 candles\n",
    "        first_candle = pair_df.iloc[0]\n",
    "        last_candle = pair_df.iloc[-1]\n",
    "\n",
    "        # How many candles we are going to evaluate\n",
    "        candle_count = len(pair_df)\n",
    "\n",
    "        assert last_candle[\"timestamp\"] < timestamp, \"Something wrong with the data - we should not be able to peek the candle of the current timestamp, but always use the previous candle\"\n",
    "\n",
    "        open = last_candle[\"open\"]\n",
    "        close = last_candle[\"close\"]\n",
    "\n",
    "        # DEXPair instance contains more data than internal TradingPairIdentifier\n",
    "        # we use to store this pair across the strategy\n",
    "        dex_pair = pair_universe.get_pair_by_id(pair_id)\n",
    "        pair = translate_trading_pair(dex_pair)\n",
    "\n",
    "        # We define momentum as how many % the trading pair price gained during\n",
    "        # the momentum window\n",
    "        momentum = (close - open) / open\n",
    "        \n",
    "        # This pair has not positive momentum,\n",
    "        # we only buy when stuff goes up\n",
    "        if momentum <= 0.025:\n",
    "            continue\n",
    "\n",
    "        alpha_model.set_signal(\n",
    "            pair,\n",
    "            momentum,\n",
    "            stop_loss=stop_loss,\n",
    "        )\n",
    "\n",
    "    # Select max_assets_in_portfolio assets in which we are going to invest\n",
    "    # Calculate a weight for ecah asset in the portfolio using 1/N method based on the raw signal\n",
    "    alpha_model.select_top_signals(max_assets_in_portfolio)\n",
    "    alpha_model.assign_weights(method=weight_by_1_slash_n)\n",
    "    alpha_model.normalise_weights()\n",
    "\n",
    "    # Load in old weight for each trading pair signal,\n",
    "    # so we can calculate the adjustment trade size\n",
    "    alpha_model.update_old_weights(state.portfolio)\n",
    "\n",
    "    # Calculate how much dollar value we want each individual position to be on this strategy cycle,\n",
    "    # based on our total available equity\n",
    "    portfolio = position_manager.get_current_portfolio()\n",
    "    portfolio_target_value = portfolio.get_total_equity() * value_allocated_to_positions\n",
    "    alpha_model.calculate_target_positions(portfolio_target_value)\n",
    "\n",
    "    # Shift portfolio from current positions to target positions\n",
    "    # determined by the alpha signals (momentum)\n",
    "    trades = alpha_model.generate_adjustment_trades_and_update_stop_losses(position_manager)\n",
    "\n",
    "    # Record alpha model state so we can later visualise our alpha model thinking better\n",
    "    state.visualisation.add_calculations(timestamp, alpha_model.to_dict())\n",
    "\n",
    "    return trades\n"
   ]
  },
  {
   "cell_type": "markdown",
   "metadata": {},
   "source": [
    "## Trading universe definition\n",
    "\n",
    "We create a trading universe with a single blockchain, exchange and trading pair.\n",
    "For the sake of easier understanding the code, we name this \"Uniswap v2\" like exchange with a single ETH-USDC trading pair.\n",
    "\n",
    "The trading pair contains generated noise-like OHLCV trading data."
   ]
  },
  {
   "cell_type": "code",
   "execution_count": 25,
   "metadata": {
    "collapsed": false,
    "jupyter": {
     "outputs_hidden": false
    }
   },
   "outputs": [],
   "source": [
    "from tradingstrategy.client import Client\n",
    "\n",
    "from tradeexecutor.strategy.trading_strategy_universe import TradingStrategyUniverse\n",
    "from tradeexecutor.strategy.trading_strategy_universe import load_partial_data\n",
    "from tradeexecutor.strategy.execution_context import ExecutionContext\n",
    "from tradeexecutor.strategy.universe_model import UniverseOptions\n",
    "\n",
    "\n",
    "# List of trading pairs that we consider \"DeFi blueschips\" for this strategy\n",
    "# For token ordering, wrappign see https://tradingstrategy.ai/docs/programming/market-data/trading-pairs.html\n",
    "pairs = (\n",
    "    (ChainId.ethereum, \"uniswap-v2\", \"WETH\", \"USDC\"),  # ETH\n",
    "    (ChainId.ethereum, \"uniswap-v2\", \"AAVE\", \"WETH\"),  # AAVE\n",
    "    (ChainId.ethereum, \"uniswap-v2\", \"UNI\", \"WETH\"),  # UNI\n",
    "    (ChainId.ethereum, \"uniswap-v2\", \"CRV\", \"WETH\"),  # Curve\n",
    "    (ChainId.ethereum, \"sushi\", \"SUSHI\", \"WETH\"),  # Sushi\n",
    "    (ChainId.bsc, \"pancakeswap-v2\", \"WBNB\", \"BUSD\"),  # BNB\n",
    "    (ChainId.bsc, \"pancakeswap-v2\", \"Cake\", \"BUSD\"),  # Cake\n",
    "    (ChainId.polygon, \"quickswap\", \"WMATIC\", \"USDC\"),  # Matic\n",
    "    (ChainId.avalanche, \"trader-joe\", \"WAVAX\", \"USDC\"),  # Avax\n",
    "    (ChainId.avalanche, \"trader-joe\", \"JOE\", \"WAVAX\"),  # TraderJoe\n",
    ")\n",
    "\n",
    "\n",
    "def create_trading_universe(\n",
    "        ts: datetime.datetime,\n",
    "        client: Client,\n",
    "        execution_context: ExecutionContext,\n",
    "        universe_options: UniverseOptions,\n",
    ") -> TradingStrategyUniverse:\n",
    "\n",
    "    assert not execution_context.mode.is_live_trading(), \\\n",
    "        f\"Only strategy backtesting supported, got {execution_context.mode}\"\n",
    "\n",
    "    # Load data for our trading pair whitelist\n",
    "    dataset = load_partial_data(\n",
    "        client=client,\n",
    "        time_bucket=trading_strategy_cycle.to_timebucket(),\n",
    "        pairs=pairs,\n",
    "        execution_context=execution_context,\n",
    "        universe_options=universe_options,\n",
    "        liquidity=False,\n",
    "        stop_loss_time_bucket=stop_loss_data_granularity,\n",
    "        start_at=start_at,\n",
    "        end_at=end_at,\n",
    "    )\n",
    "\n",
    "    # Filter down the dataset to the pairs we specified\n",
    "    universe = TradingStrategyUniverse.create_multichain_universe_by_pair_descriptions(\n",
    "        dataset,\n",
    "        pairs,\n",
    "        reserve_token_symbol=\"USDC\"  # Pick any USDC - does not matter as we do not route\n",
    "    )\n",
    "\n",
    "    return universe\n",
    "\n"
   ]
  },
  {
   "cell_type": "markdown",
   "metadata": {},
   "source": [
    "## Set up the market data client\n",
    "\n",
    "The [Trading Strategy market data client](https://tradingstrategy.ai/docs/programming/api/client/index.html)\n",
    "is the Python library responsible for managing the data feeds needed to run the backtest.None\n",
    "\n",
    "We set up the market data client with an API key.\n",
    "\n",
    "[If you do not have an API key yet, you can register one](https://tradingstrategy.ai/trading-view/backtesting)."
   ]
  },
  {
   "cell_type": "code",
   "execution_count": 26,
   "metadata": {
    "collapsed": false,
    "jupyter": {
     "outputs_hidden": false
    }
   },
   "outputs": [
    {
     "name": "stdout",
     "output_type": "stream",
     "text": [
      "Started Trading Strategy in Jupyter notebook environment, configuration is stored in /Users/moo/.tradingstrategy\n"
     ]
    }
   ],
   "source": [
    "from tradingstrategy.client import Client\n",
    "\n",
    "client = Client.create_jupyter_client()"
   ]
  },
  {
   "cell_type": "markdown",
   "metadata": {},
   "source": [
    "## Run backtest\n",
    "\n",
    "Run backtest using giving trading universe and strategy function.\n",
    "\n",
    "- Running the backtest outputs `state` object that contains all the information\n",
    "on the backtesting position and trades.\n",
    "- The trade execution engine will download the necessary datasets to run the backtest.\n",
    "  The datasets may be large, several gigabytes.\n"
   ]
  },
  {
   "cell_type": "code",
   "execution_count": 27,
   "metadata": {
    "collapsed": false,
    "jupyter": {
     "outputs_hidden": false
    }
   },
   "outputs": [
    {
     "data": {
      "application/vnd.jupyter.widget-view+json": {
       "model_id": "922bc704ec454f94be002cdb5541f2a5",
       "version_major": 2,
       "version_minor": 0
      },
      "text/plain": [
       "  0%|          | 0/70934400 [00:00<?, ?it/s]"
      ]
     },
     "metadata": {},
     "output_type": "display_data"
    },
    {
     "name": "stdout",
     "output_type": "stream",
     "text": [
      "Backtesting completed, backtested strategy made 298 trades\n"
     ]
    }
   ],
   "source": [
    "import logging\n",
    "\n",
    "from tradeexecutor.backtest.backtest_runner import run_backtest_inline\n",
    "\n",
    "state, universe, debug_dump = run_backtest_inline(\n",
    "    name=\"DeFi bluechip portfolio construction model example\",\n",
    "    start_at=start_at,\n",
    "    end_at=end_at,\n",
    "    client=client,\n",
    "    cycle_duration=trading_strategy_cycle,\n",
    "    decide_trades=decide_trades,\n",
    "    create_trading_universe=create_trading_universe,\n",
    "    initial_deposit=initial_deposit,\n",
    "    reserve_currency=reserve_currency,\n",
    "    trade_routing=trade_routing,\n",
    "    log_level=logging.WARNING,\n",
    ")\n",
    "\n",
    "trade_count = len(list(state.portfolio.get_all_trades()))\n",
    "print(f\"Backtesting completed, backtested strategy made {trade_count} trades\")"
   ]
  },
  {
   "cell_type": "markdown",
   "metadata": {},
   "source": [
    "## Examine backtest results\n",
    "\n",
    "Examine `state` that contains all actions the trade executor took.\n",
    "\n",
    "We plot out a chart that shows\n",
    "- The price action\n",
    "- When the strategy made buys or sells"
   ]
  },
  {
   "cell_type": "code",
   "execution_count": 28,
   "metadata": {
    "collapsed": false,
    "jupyter": {
     "outputs_hidden": false
    }
   },
   "outputs": [
    {
     "name": "stdout",
     "output_type": "stream",
     "text": [
      "Positions taken: 133\n",
      "Trades made: 298\n"
     ]
    }
   ],
   "source": [
    "print(f\"Positions taken: {len(list(state.portfolio.get_all_positions()))}\")\n",
    "print(f\"Trades made: {len(list(state.portfolio.get_all_trades()))}\")"
   ]
  },
  {
   "cell_type": "markdown",
   "metadata": {
    "collapsed": false
   },
   "source": []
  },
  {
   "cell_type": "markdown",
   "metadata": {},
   "source": [
    "## Benchmarking the strategy performance\n",
    "\n",
    "Here we benchmark the strategy performance against some baseline scenarios.\n",
    "\n",
    "- Buy and hold ETH\n",
    "- Buy and hold US Dollar (do nothing)\n"
   ]
  },
  {
   "cell_type": "code",
   "execution_count": 29,
   "metadata": {
    "collapsed": false,
    "jupyter": {
     "outputs_hidden": false
    },
    "pycharm": {
     "is_executing": true
    }
   },
   "outputs": [
    {
     "data": {
      "application/vnd.plotly.v1+json": {
       "config": {
        "plotlyServerURL": "https://plot.ly"
       },
       "data": [
        {
         "line": {
          "color": "#008800"
         },
         "mode": "lines",
         "name": "DeFi bluechip portfolio construction model example",
         "type": "scatter",
         "x": [
          "2020-10-26T00:00:00",
          "2020-11-02T00:00:00",
          "2020-11-09T00:00:00",
          "2020-11-16T00:00:00",
          "2020-11-23T00:00:00",
          "2020-11-30T00:00:00",
          "2020-12-07T00:00:00",
          "2020-12-14T00:00:00",
          "2020-12-21T00:00:00",
          "2020-12-28T00:00:00",
          "2021-01-04T00:00:00",
          "2021-01-11T00:00:00",
          "2021-01-18T00:00:00",
          "2021-01-25T00:00:00",
          "2021-02-01T00:00:00",
          "2021-02-08T00:00:00",
          "2021-02-15T00:00:00",
          "2021-02-22T00:00:00",
          "2021-03-01T00:00:00",
          "2021-03-08T00:00:00",
          "2021-03-15T00:00:00",
          "2021-03-22T00:00:00",
          "2021-03-29T00:00:00",
          "2021-04-05T00:00:00",
          "2021-04-12T00:00:00",
          "2021-04-19T00:00:00",
          "2021-04-26T00:00:00",
          "2021-05-03T00:00:00",
          "2021-05-10T00:00:00",
          "2021-05-17T00:00:00",
          "2021-05-24T00:00:00",
          "2021-05-31T00:00:00",
          "2021-06-07T00:00:00",
          "2021-06-14T00:00:00",
          "2021-06-21T00:00:00",
          "2021-06-28T00:00:00",
          "2021-07-05T00:00:00",
          "2021-07-12T00:00:00",
          "2021-07-19T00:00:00",
          "2021-07-26T00:00:00",
          "2021-08-02T00:00:00",
          "2021-08-09T00:00:00",
          "2021-08-16T00:00:00",
          "2021-08-23T00:00:00",
          "2021-08-30T00:00:00",
          "2021-09-06T00:00:00",
          "2021-09-13T00:00:00",
          "2021-09-20T00:00:00",
          "2021-09-27T00:00:00",
          "2021-10-04T00:00:00",
          "2021-10-11T00:00:00",
          "2021-10-18T00:00:00",
          "2021-10-25T00:00:00",
          "2021-11-01T00:00:00",
          "2021-11-08T00:00:00",
          "2021-11-15T00:00:00",
          "2021-11-22T00:00:00",
          "2021-11-29T00:00:00",
          "2021-12-06T00:00:00",
          "2021-12-13T00:00:00",
          "2021-12-20T00:00:00",
          "2021-12-27T00:00:00",
          "2022-01-03T00:00:00",
          "2022-01-10T00:00:00",
          "2022-01-17T00:00:00",
          "2022-01-24T00:00:00",
          "2022-01-31T00:00:00",
          "2022-02-07T00:00:00",
          "2022-02-14T00:00:00",
          "2022-02-21T00:00:00",
          "2022-02-28T00:00:00",
          "2022-03-07T00:00:00",
          "2022-03-14T00:00:00",
          "2022-03-21T00:00:00",
          "2022-03-28T00:00:00",
          "2022-04-04T00:00:00",
          "2022-04-11T00:00:00",
          "2022-04-18T00:00:00",
          "2022-04-25T00:00:00",
          "2022-05-02T00:00:00",
          "2022-05-09T00:00:00",
          "2022-05-16T00:00:00",
          "2022-05-23T00:00:00",
          "2022-05-30T00:00:00",
          "2022-06-06T00:00:00",
          "2022-06-13T00:00:00",
          "2022-06-20T00:00:00",
          "2022-06-27T00:00:00",
          "2022-07-04T00:00:00",
          "2022-07-11T00:00:00",
          "2022-07-18T00:00:00",
          "2022-07-25T00:00:00",
          "2022-08-01T00:00:00",
          "2022-08-08T00:00:00",
          "2022-08-15T00:00:00",
          "2022-08-22T00:00:00",
          "2022-08-29T00:00:00",
          "2022-09-05T00:00:00",
          "2022-09-12T00:00:00",
          "2022-09-19T00:00:00",
          "2022-09-26T00:00:00",
          "2022-10-03T00:00:00",
          "2022-10-10T00:00:00",
          "2022-10-17T00:00:00",
          "2022-10-24T00:00:00",
          "2022-10-31T00:00:00",
          "2022-11-07T00:00:00",
          "2022-11-14T00:00:00",
          "2022-11-21T00:00:00",
          "2022-11-28T00:00:00",
          "2022-12-05T00:00:00",
          "2022-12-12T00:00:00",
          "2022-12-19T00:00:00",
          "2022-12-26T00:00:00",
          "2023-01-02T00:00:00",
          "2023-01-09T00:00:00",
          "2023-01-16T00:00:00",
          "2023-01-23T00:00:00",
          "2023-01-30T00:00:00"
         ],
         "y": [
          10000,
          10000,
          9952.143569292124,
          9651.893216694954,
          9171.72946889903,
          8742.379389507276,
          8716.791810493376,
          8323.308486703101,
          9162.87558048494,
          8734.388845178823,
          11713.488678283662,
          13203.416530449551,
          12455.60678841824,
          11708.489545996461,
          11141.663463187791,
          11599.305571479661,
          12294.781737598461,
          11738.03864978875,
          11054.854995312267,
          10421.365113531157,
          10637.87195698492,
          9987.429842041845,
          9383.929366760456,
          9477.376469691624,
          9034.579958234608,
          9325.835128401872,
          8691.007084259234,
          10491.020204040293,
          12137.967596131095,
          11464.57189148056,
          10586.6006157625,
          10535.93692388248,
          12599.562836084426,
          11852.175400257029,
          11852.175400257029,
          11852.175400257029,
          11795.455119179029,
          11184.313044746355,
          10636.035507453293,
          10585.1352378264,
          11262.174696481923,
          12125.473277987889,
          13275.98535421945,
          12649.680063925316,
          12018.12860452674,
          11347.919987481444,
          10800.488373405404,
          9986.871604178974,
          9471.889745552226,
          9040.554946062071,
          8886.8855093701,
          8844.356047311301,
          8977.425472437275,
          9862.132470662984,
          10029.112026523158,
          9878.929079410866,
          9831.652050915181,
          9263.552106398833,
          9522.563384015652,
          9085.926797794415,
          8652.858332669457,
          8220.343475631184,
          7847.256761725878,
          7521.356439718888,
          7485.3619123902245,
          7143.44565104181,
          7109.259669860354,
          7654.054015321253,
          7263.178961981561,
          7263.178961981561,
          7228.419979910264,
          7014.285063940299,
          6773.975037913,
          8626.621091873641,
          9830.787271923877,
          10484.0758797858,
          9834.714390680294,
          9834.714390680294,
          9787.64895790336,
          9228.440762545211,
          9184.276738955765,
          8788.616410727685,
          8746.557229499876,
          8681.966624631936,
          8640.417831213957,
          8277.017916679972,
          8237.407063240229,
          10437.09400724425,
          9959.543103381486,
          11335.476966235445,
          10761.509839422197,
          12652.387169687094,
          12039.408037931207,
          11442.336461147963,
          10874.740804355213,
          10422.770571404391,
          10422.770571404391,
          10372.89091164094,
          10860.895311963395,
          10154.516540002483,
          10105.920648285623,
          10291.679252328157,
          10843.513907120541,
          10295.129218270922,
          9817.107057469268,
          10522.406089230926,
          10008.923448644331,
          9514.101894373403,
          9468.57079856783,
          9038.761034122299,
          9244.976716032825,
          9048.282493716939,
          9048.282493716939,
          9004.980643298355,
          8911.309214096178,
          8868.662868904094,
          10903.684654673087,
          12026.363786849925,
          11420.148493508015
         ]
        },
        {
         "line": {
          "color": "#000088"
         },
         "mode": "lines",
         "name": "All cash",
         "type": "scatter",
         "x": [
          "2020-11-01T00:00:00",
          "2023-01-31T00:00:00"
         ],
         "y": [
          10000,
          10000
         ]
        },
        {
         "line": {
          "color": "#880000"
         },
         "mode": "lines",
         "name": "Buy and hold ETH",
         "type": "scatter",
         "x": [
          "2020-11-02T00:00:00",
          "2020-11-09T00:00:00",
          "2020-11-16T00:00:00",
          "2020-11-23T00:00:00",
          "2020-11-30T00:00:00",
          "2020-12-07T00:00:00",
          "2020-12-14T00:00:00",
          "2020-12-21T00:00:00",
          "2020-12-28T00:00:00",
          "2021-01-04T00:00:00",
          "2021-01-11T00:00:00",
          "2021-01-18T00:00:00",
          "2021-01-25T00:00:00",
          "2021-02-01T00:00:00",
          "2021-02-08T00:00:00",
          "2021-02-15T00:00:00",
          "2021-02-22T00:00:00",
          "2021-03-01T00:00:00",
          "2021-03-08T00:00:00",
          "2021-03-15T00:00:00",
          "2021-03-22T00:00:00",
          "2021-03-29T00:00:00",
          "2021-04-05T00:00:00",
          "2021-04-12T00:00:00",
          "2021-04-19T00:00:00",
          "2021-04-26T00:00:00",
          "2021-05-03T00:00:00",
          "2021-05-10T00:00:00",
          "2021-05-17T00:00:00",
          "2021-05-24T00:00:00",
          "2021-05-31T00:00:00",
          "2021-06-07T00:00:00",
          "2021-06-14T00:00:00",
          "2021-06-21T00:00:00",
          "2021-06-28T00:00:00",
          "2021-07-05T00:00:00",
          "2021-07-12T00:00:00",
          "2021-07-19T00:00:00",
          "2021-07-26T00:00:00",
          "2021-08-02T00:00:00",
          "2021-08-09T00:00:00",
          "2021-08-16T00:00:00",
          "2021-08-23T00:00:00",
          "2021-08-30T00:00:00",
          "2021-09-06T00:00:00",
          "2021-09-13T00:00:00",
          "2021-09-20T00:00:00",
          "2021-09-27T00:00:00",
          "2021-10-04T00:00:00",
          "2021-10-11T00:00:00",
          "2021-10-18T00:00:00",
          "2021-10-25T00:00:00",
          "2021-11-01T00:00:00",
          "2021-11-08T00:00:00",
          "2021-11-15T00:00:00",
          "2021-11-22T00:00:00",
          "2021-11-29T00:00:00",
          "2021-12-06T00:00:00",
          "2021-12-13T00:00:00",
          "2021-12-20T00:00:00",
          "2021-12-27T00:00:00",
          "2022-01-03T00:00:00",
          "2022-01-10T00:00:00",
          "2022-01-17T00:00:00",
          "2022-01-24T00:00:00",
          "2022-01-31T00:00:00",
          "2022-02-07T00:00:00",
          "2022-02-14T00:00:00",
          "2022-02-21T00:00:00",
          "2022-02-28T00:00:00",
          "2022-03-07T00:00:00",
          "2022-03-14T00:00:00",
          "2022-03-21T00:00:00",
          "2022-03-28T00:00:00",
          "2022-04-04T00:00:00",
          "2022-04-11T00:00:00",
          "2022-04-18T00:00:00",
          "2022-04-25T00:00:00",
          "2022-05-02T00:00:00",
          "2022-05-09T00:00:00",
          "2022-05-16T00:00:00",
          "2022-05-23T00:00:00",
          "2022-05-30T00:00:00",
          "2022-06-06T00:00:00",
          "2022-06-13T00:00:00",
          "2022-06-20T00:00:00",
          "2022-06-27T00:00:00",
          "2022-07-04T00:00:00",
          "2022-07-11T00:00:00",
          "2022-07-18T00:00:00",
          "2022-07-25T00:00:00",
          "2022-08-01T00:00:00",
          "2022-08-08T00:00:00",
          "2022-08-15T00:00:00",
          "2022-08-22T00:00:00",
          "2022-08-29T00:00:00",
          "2022-09-05T00:00:00",
          "2022-09-12T00:00:00",
          "2022-09-19T00:00:00",
          "2022-09-26T00:00:00",
          "2022-10-03T00:00:00",
          "2022-10-10T00:00:00",
          "2022-10-17T00:00:00",
          "2022-10-24T00:00:00",
          "2022-10-31T00:00:00",
          "2022-11-07T00:00:00",
          "2022-11-14T00:00:00",
          "2022-11-21T00:00:00",
          "2022-11-28T00:00:00",
          "2022-12-05T00:00:00",
          "2022-12-12T00:00:00",
          "2022-12-19T00:00:00",
          "2022-12-26T00:00:00",
          "2023-01-02T00:00:00",
          "2023-01-09T00:00:00",
          "2023-01-16T00:00:00",
          "2023-01-23T00:00:00",
          "2023-01-30T00:00:00"
         ],
         "y": [
          10000,
          9842.077643133318,
          12281.64908050054,
          12592.81739711444,
          13217.395512772118,
          12903.917386801333,
          13956.43088076357,
          14998.628885226546,
          21438.325905566217,
          27590.811471253826,
          26976.242206042403,
          30586.527274915683,
          28742.08675325491,
          35528.78834677259,
          39672.00053743029,
          42275.40880839661,
          31144.5887665944,
          37888.37928125556,
          40594.197926014436,
          39091.02819482103,
          36963.448862276906,
          45229.707011769635,
          47036.45775210017,
          49033.830822762844,
          50733.83307651647,
          64665.277037182284,
          85962.44065843448,
          78551.8496649712,
          46133.16619964129,
          52429.26842176433,
          59330.67064829002,
          54969.189201364534,
          49108.20282743292,
          43376.884378109404,
          51043.78522616647,
          46964.72306439431,
          41604.82452789572,
          48013.97483480301,
          56241.813189001645,
          66051.10883196106,
          72484.48959427954,
          71171.3270736332,
          70893.37566164046,
          86653.25837790935,
          74735.29413429816,
          72712.25725483184,
          67032.27125196136,
          74853.99989396817,
          74973.83459445398,
          84441.07188125345,
          89498.38061672075,
          94543.72596015348,
          100815.5439890396,
          101121.31136841125,
          93681.28856663682,
          94121.89288219291,
          91853.25167366765,
          90672.16827107646,
          86167.28296592888,
          89098.93389788148,
          84074.66117795646,
          68803.99409821363,
          73420.20553260832,
          55570.11825935434,
          57208.308454493956,
          67190.6833470566,
          63012.68184255434,
          57690.07690782928,
          57411.022119754954,
          55915.58462192268,
          55136.806762857195,
          62687.38781278925,
          72286.31487244047,
          77221.31578368347,
          70327.37480961005,
          65459.00896499927,
          64211.45645471986,
          61949.595390073606,
          55168.371929979956,
          46999.45269841101,
          44886.99617826719,
          39769.161056306904,
          39607.59711694864,
          31377.30318088408,
          24659.300732544736,
          26288.30958796813,
          23516.168936237198,
          25565.644852660334,
          29367.74119701499,
          35043.9242693382,
          36914.204204232,
          37245.78806527345,
          42431.423385676804,
          35547.2484664741,
          31396.018913266867,
          34545.381470665794,
          38624.23356824165,
          29226.917790877324,
          28370.919498351235,
          27994.470549005186,
          28948.612678807116,
          28641.919352810244,
          29919.179020074167,
          34856.542830536775,
          34461.44479217611,
          26750.099561196555,
          25009.53291891067,
          26173.610724891932,
          28082.661801956303,
          27732.223614697414,
          25977.533448837352,
          26689.079041287456,
          26342.387677579514,
          28271.564486819596,
          34046.209203424296,
          35721.882749876124,
          36119.55252056109,
          35762.74576503215
         ]
        }
       ],
       "layout": {
        "height": 1200,
        "legend": {
         "orientation": "h",
         "x": 1,
         "xanchor": "right",
         "y": 1.02,
         "yanchor": "bottom"
        },
        "template": {
         "data": {
          "bar": [
           {
            "error_x": {
             "color": "#2a3f5f"
            },
            "error_y": {
             "color": "#2a3f5f"
            },
            "marker": {
             "line": {
              "color": "#E5ECF6",
              "width": 0.5
             },
             "pattern": {
              "fillmode": "overlay",
              "size": 10,
              "solidity": 0.2
             }
            },
            "type": "bar"
           }
          ],
          "barpolar": [
           {
            "marker": {
             "line": {
              "color": "#E5ECF6",
              "width": 0.5
             },
             "pattern": {
              "fillmode": "overlay",
              "size": 10,
              "solidity": 0.2
             }
            },
            "type": "barpolar"
           }
          ],
          "carpet": [
           {
            "aaxis": {
             "endlinecolor": "#2a3f5f",
             "gridcolor": "white",
             "linecolor": "white",
             "minorgridcolor": "white",
             "startlinecolor": "#2a3f5f"
            },
            "baxis": {
             "endlinecolor": "#2a3f5f",
             "gridcolor": "white",
             "linecolor": "white",
             "minorgridcolor": "white",
             "startlinecolor": "#2a3f5f"
            },
            "type": "carpet"
           }
          ],
          "choropleth": [
           {
            "colorbar": {
             "outlinewidth": 0,
             "ticks": ""
            },
            "type": "choropleth"
           }
          ],
          "contour": [
           {
            "colorbar": {
             "outlinewidth": 0,
             "ticks": ""
            },
            "colorscale": [
             [
              0,
              "#0d0887"
             ],
             [
              0.1111111111111111,
              "#46039f"
             ],
             [
              0.2222222222222222,
              "#7201a8"
             ],
             [
              0.3333333333333333,
              "#9c179e"
             ],
             [
              0.4444444444444444,
              "#bd3786"
             ],
             [
              0.5555555555555556,
              "#d8576b"
             ],
             [
              0.6666666666666666,
              "#ed7953"
             ],
             [
              0.7777777777777778,
              "#fb9f3a"
             ],
             [
              0.8888888888888888,
              "#fdca26"
             ],
             [
              1,
              "#f0f921"
             ]
            ],
            "type": "contour"
           }
          ],
          "contourcarpet": [
           {
            "colorbar": {
             "outlinewidth": 0,
             "ticks": ""
            },
            "type": "contourcarpet"
           }
          ],
          "heatmap": [
           {
            "colorbar": {
             "outlinewidth": 0,
             "ticks": ""
            },
            "colorscale": [
             [
              0,
              "#0d0887"
             ],
             [
              0.1111111111111111,
              "#46039f"
             ],
             [
              0.2222222222222222,
              "#7201a8"
             ],
             [
              0.3333333333333333,
              "#9c179e"
             ],
             [
              0.4444444444444444,
              "#bd3786"
             ],
             [
              0.5555555555555556,
              "#d8576b"
             ],
             [
              0.6666666666666666,
              "#ed7953"
             ],
             [
              0.7777777777777778,
              "#fb9f3a"
             ],
             [
              0.8888888888888888,
              "#fdca26"
             ],
             [
              1,
              "#f0f921"
             ]
            ],
            "type": "heatmap"
           }
          ],
          "heatmapgl": [
           {
            "colorbar": {
             "outlinewidth": 0,
             "ticks": ""
            },
            "colorscale": [
             [
              0,
              "#0d0887"
             ],
             [
              0.1111111111111111,
              "#46039f"
             ],
             [
              0.2222222222222222,
              "#7201a8"
             ],
             [
              0.3333333333333333,
              "#9c179e"
             ],
             [
              0.4444444444444444,
              "#bd3786"
             ],
             [
              0.5555555555555556,
              "#d8576b"
             ],
             [
              0.6666666666666666,
              "#ed7953"
             ],
             [
              0.7777777777777778,
              "#fb9f3a"
             ],
             [
              0.8888888888888888,
              "#fdca26"
             ],
             [
              1,
              "#f0f921"
             ]
            ],
            "type": "heatmapgl"
           }
          ],
          "histogram": [
           {
            "marker": {
             "pattern": {
              "fillmode": "overlay",
              "size": 10,
              "solidity": 0.2
             }
            },
            "type": "histogram"
           }
          ],
          "histogram2d": [
           {
            "colorbar": {
             "outlinewidth": 0,
             "ticks": ""
            },
            "colorscale": [
             [
              0,
              "#0d0887"
             ],
             [
              0.1111111111111111,
              "#46039f"
             ],
             [
              0.2222222222222222,
              "#7201a8"
             ],
             [
              0.3333333333333333,
              "#9c179e"
             ],
             [
              0.4444444444444444,
              "#bd3786"
             ],
             [
              0.5555555555555556,
              "#d8576b"
             ],
             [
              0.6666666666666666,
              "#ed7953"
             ],
             [
              0.7777777777777778,
              "#fb9f3a"
             ],
             [
              0.8888888888888888,
              "#fdca26"
             ],
             [
              1,
              "#f0f921"
             ]
            ],
            "type": "histogram2d"
           }
          ],
          "histogram2dcontour": [
           {
            "colorbar": {
             "outlinewidth": 0,
             "ticks": ""
            },
            "colorscale": [
             [
              0,
              "#0d0887"
             ],
             [
              0.1111111111111111,
              "#46039f"
             ],
             [
              0.2222222222222222,
              "#7201a8"
             ],
             [
              0.3333333333333333,
              "#9c179e"
             ],
             [
              0.4444444444444444,
              "#bd3786"
             ],
             [
              0.5555555555555556,
              "#d8576b"
             ],
             [
              0.6666666666666666,
              "#ed7953"
             ],
             [
              0.7777777777777778,
              "#fb9f3a"
             ],
             [
              0.8888888888888888,
              "#fdca26"
             ],
             [
              1,
              "#f0f921"
             ]
            ],
            "type": "histogram2dcontour"
           }
          ],
          "mesh3d": [
           {
            "colorbar": {
             "outlinewidth": 0,
             "ticks": ""
            },
            "type": "mesh3d"
           }
          ],
          "parcoords": [
           {
            "line": {
             "colorbar": {
              "outlinewidth": 0,
              "ticks": ""
             }
            },
            "type": "parcoords"
           }
          ],
          "pie": [
           {
            "automargin": true,
            "type": "pie"
           }
          ],
          "scatter": [
           {
            "fillpattern": {
             "fillmode": "overlay",
             "size": 10,
             "solidity": 0.2
            },
            "type": "scatter"
           }
          ],
          "scatter3d": [
           {
            "line": {
             "colorbar": {
              "outlinewidth": 0,
              "ticks": ""
             }
            },
            "marker": {
             "colorbar": {
              "outlinewidth": 0,
              "ticks": ""
             }
            },
            "type": "scatter3d"
           }
          ],
          "scattercarpet": [
           {
            "marker": {
             "colorbar": {
              "outlinewidth": 0,
              "ticks": ""
             }
            },
            "type": "scattercarpet"
           }
          ],
          "scattergeo": [
           {
            "marker": {
             "colorbar": {
              "outlinewidth": 0,
              "ticks": ""
             }
            },
            "type": "scattergeo"
           }
          ],
          "scattergl": [
           {
            "marker": {
             "colorbar": {
              "outlinewidth": 0,
              "ticks": ""
             }
            },
            "type": "scattergl"
           }
          ],
          "scattermapbox": [
           {
            "marker": {
             "colorbar": {
              "outlinewidth": 0,
              "ticks": ""
             }
            },
            "type": "scattermapbox"
           }
          ],
          "scatterpolar": [
           {
            "marker": {
             "colorbar": {
              "outlinewidth": 0,
              "ticks": ""
             }
            },
            "type": "scatterpolar"
           }
          ],
          "scatterpolargl": [
           {
            "marker": {
             "colorbar": {
              "outlinewidth": 0,
              "ticks": ""
             }
            },
            "type": "scatterpolargl"
           }
          ],
          "scatterternary": [
           {
            "marker": {
             "colorbar": {
              "outlinewidth": 0,
              "ticks": ""
             }
            },
            "type": "scatterternary"
           }
          ],
          "surface": [
           {
            "colorbar": {
             "outlinewidth": 0,
             "ticks": ""
            },
            "colorscale": [
             [
              0,
              "#0d0887"
             ],
             [
              0.1111111111111111,
              "#46039f"
             ],
             [
              0.2222222222222222,
              "#7201a8"
             ],
             [
              0.3333333333333333,
              "#9c179e"
             ],
             [
              0.4444444444444444,
              "#bd3786"
             ],
             [
              0.5555555555555556,
              "#d8576b"
             ],
             [
              0.6666666666666666,
              "#ed7953"
             ],
             [
              0.7777777777777778,
              "#fb9f3a"
             ],
             [
              0.8888888888888888,
              "#fdca26"
             ],
             [
              1,
              "#f0f921"
             ]
            ],
            "type": "surface"
           }
          ],
          "table": [
           {
            "cells": {
             "fill": {
              "color": "#EBF0F8"
             },
             "line": {
              "color": "white"
             }
            },
            "header": {
             "fill": {
              "color": "#C8D4E3"
             },
             "line": {
              "color": "white"
             }
            },
            "type": "table"
           }
          ]
         },
         "layout": {
          "annotationdefaults": {
           "arrowcolor": "#2a3f5f",
           "arrowhead": 0,
           "arrowwidth": 1
          },
          "autotypenumbers": "strict",
          "coloraxis": {
           "colorbar": {
            "outlinewidth": 0,
            "ticks": ""
           }
          },
          "colorscale": {
           "diverging": [
            [
             0,
             "#8e0152"
            ],
            [
             0.1,
             "#c51b7d"
            ],
            [
             0.2,
             "#de77ae"
            ],
            [
             0.3,
             "#f1b6da"
            ],
            [
             0.4,
             "#fde0ef"
            ],
            [
             0.5,
             "#f7f7f7"
            ],
            [
             0.6,
             "#e6f5d0"
            ],
            [
             0.7,
             "#b8e186"
            ],
            [
             0.8,
             "#7fbc41"
            ],
            [
             0.9,
             "#4d9221"
            ],
            [
             1,
             "#276419"
            ]
           ],
           "sequential": [
            [
             0,
             "#0d0887"
            ],
            [
             0.1111111111111111,
             "#46039f"
            ],
            [
             0.2222222222222222,
             "#7201a8"
            ],
            [
             0.3333333333333333,
             "#9c179e"
            ],
            [
             0.4444444444444444,
             "#bd3786"
            ],
            [
             0.5555555555555556,
             "#d8576b"
            ],
            [
             0.6666666666666666,
             "#ed7953"
            ],
            [
             0.7777777777777778,
             "#fb9f3a"
            ],
            [
             0.8888888888888888,
             "#fdca26"
            ],
            [
             1,
             "#f0f921"
            ]
           ],
           "sequentialminus": [
            [
             0,
             "#0d0887"
            ],
            [
             0.1111111111111111,
             "#46039f"
            ],
            [
             0.2222222222222222,
             "#7201a8"
            ],
            [
             0.3333333333333333,
             "#9c179e"
            ],
            [
             0.4444444444444444,
             "#bd3786"
            ],
            [
             0.5555555555555556,
             "#d8576b"
            ],
            [
             0.6666666666666666,
             "#ed7953"
            ],
            [
             0.7777777777777778,
             "#fb9f3a"
            ],
            [
             0.8888888888888888,
             "#fdca26"
            ],
            [
             1,
             "#f0f921"
            ]
           ]
          },
          "colorway": [
           "#636efa",
           "#EF553B",
           "#00cc96",
           "#ab63fa",
           "#FFA15A",
           "#19d3f3",
           "#FF6692",
           "#B6E880",
           "#FF97FF",
           "#FECB52"
          ],
          "font": {
           "color": "#2a3f5f"
          },
          "geo": {
           "bgcolor": "white",
           "lakecolor": "white",
           "landcolor": "#E5ECF6",
           "showlakes": true,
           "showland": true,
           "subunitcolor": "white"
          },
          "hoverlabel": {
           "align": "left"
          },
          "hovermode": "closest",
          "mapbox": {
           "style": "light"
          },
          "paper_bgcolor": "white",
          "plot_bgcolor": "#E5ECF6",
          "polar": {
           "angularaxis": {
            "gridcolor": "white",
            "linecolor": "white",
            "ticks": ""
           },
           "bgcolor": "#E5ECF6",
           "radialaxis": {
            "gridcolor": "white",
            "linecolor": "white",
            "ticks": ""
           }
          },
          "scene": {
           "xaxis": {
            "backgroundcolor": "#E5ECF6",
            "gridcolor": "white",
            "gridwidth": 2,
            "linecolor": "white",
            "showbackground": true,
            "ticks": "",
            "zerolinecolor": "white"
           },
           "yaxis": {
            "backgroundcolor": "#E5ECF6",
            "gridcolor": "white",
            "gridwidth": 2,
            "linecolor": "white",
            "showbackground": true,
            "ticks": "",
            "zerolinecolor": "white"
           },
           "zaxis": {
            "backgroundcolor": "#E5ECF6",
            "gridcolor": "white",
            "gridwidth": 2,
            "linecolor": "white",
            "showbackground": true,
            "ticks": "",
            "zerolinecolor": "white"
           }
          },
          "shapedefaults": {
           "line": {
            "color": "#2a3f5f"
           }
          },
          "ternary": {
           "aaxis": {
            "gridcolor": "white",
            "linecolor": "white",
            "ticks": ""
           },
           "baxis": {
            "gridcolor": "white",
            "linecolor": "white",
            "ticks": ""
           },
           "bgcolor": "#E5ECF6",
           "caxis": {
            "gridcolor": "white",
            "linecolor": "white",
            "ticks": ""
           }
          },
          "title": {
           "x": 0.05
          },
          "xaxis": {
           "automargin": true,
           "gridcolor": "white",
           "linecolor": "white",
           "ticks": "",
           "title": {
            "standoff": 15
           },
           "zerolinecolor": "white",
           "zerolinewidth": 2
          },
          "yaxis": {
           "automargin": true,
           "gridcolor": "white",
           "linecolor": "white",
           "ticks": "",
           "title": {
            "standoff": 15
           },
           "zerolinecolor": "white",
           "zerolinewidth": 2
          }
         }
        },
        "title": {
         "text": "DeFi bluechip portfolio construction model example portfolio value"
        },
        "xaxis": {
         "rangeslider": {
          "visible": false
         }
        },
        "yaxis": {
         "showgrid": false,
         "title": {
          "text": "Value $"
         }
        }
       }
      }
     },
     "metadata": {},
     "output_type": "display_data"
    }
   ],
   "source": [
    "from tradeexecutor.visual.benchmark import visualise_benchmark\n",
    "\n",
    "eth_usd = universe.get_pair_by_human_description((ChainId.ethereum, \"uniswap-v2\", \"WETH\", \"USDC\"))\n",
    "eth_candles = universe.universe.candles.get_candles_by_pair(eth_usd.internal_id)\n",
    "eth_price = eth_candles[\"close\"]\n",
    "\n",
    "fig = visualise_benchmark(\n",
    "    state.name,\n",
    "    portfolio_statistics=state.stats.portfolio,\n",
    "    all_cash=state.portfolio.get_initial_deposit(),\n",
    "    buy_and_hold_asset_name=\"ETH\",\n",
    "    buy_and_hold_price_series=eth_price,\n",
    "    start_at=start_at,\n",
    "    end_at=end_at\n",
    ")\n",
    "\n",
    "fig.show()"
   ]
  },
  {
   "attachments": {},
   "cell_type": "markdown",
   "metadata": {},
   "source": [
    "## Analysing  the strategy success\n",
    "\n",
    "Here we calculate statistics on how well the strategy performed.\n",
    "\n",
    "- Won/lost trades\n",
    "- Timeline of taken positions with color coding of trade performance\n"
   ]
  },
  {
   "cell_type": "code",
   "execution_count": 30,
   "metadata": {
    "collapsed": false,
    "jupyter": {
     "outputs_hidden": false
    },
    "pycharm": {
     "is_executing": true
    }
   },
   "outputs": [],
   "source": [
    "from tradeexecutor.analysis.trade_analyser import build_trade_analysis\n",
    "\n",
    "analysis = build_trade_analysis(state.portfolio)"
   ]
  },
  {
   "cell_type": "markdown",
   "metadata": {},
   "source": [
    "### Strategy summary\n",
    "\n",
    "Overview of strategy performance\n",
    "\n"
   ]
  },
  {
   "cell_type": "code",
   "execution_count": 31,
   "metadata": {
    "collapsed": false,
    "jupyter": {
     "outputs_hidden": false
    },
    "pycharm": {
     "is_executing": true
    }
   },
   "outputs": [
    {
     "data": {
      "text/html": [
       "<div>\n",
       "<style scoped>\n",
       "    .dataframe tbody tr th:only-of-type {\n",
       "        vertical-align: middle;\n",
       "    }\n",
       "\n",
       "    .dataframe tbody tr th {\n",
       "        vertical-align: top;\n",
       "    }\n",
       "\n",
       "    .dataframe thead th {\n",
       "        text-align: right;\n",
       "    }\n",
       "</style>\n",
       "<table border=\"1\" class=\"dataframe\">\n",
       "  <thead>\n",
       "    <tr style=\"text-align: right;\">\n",
       "      <th></th>\n",
       "      <th>0</th>\n",
       "    </tr>\n",
       "  </thead>\n",
       "  <tbody>\n",
       "    <tr>\n",
       "      <th>Trading period length</th>\n",
       "      <td>812 days</td>\n",
       "    </tr>\n",
       "    <tr>\n",
       "      <th>Return %</th>\n",
       "      <td>14.72%</td>\n",
       "    </tr>\n",
       "    <tr>\n",
       "      <th>Annualised return %</th>\n",
       "      <td>6.62%</td>\n",
       "    </tr>\n",
       "    <tr>\n",
       "      <th>Cash at start</th>\n",
       "      <td>$10,000.00</td>\n",
       "    </tr>\n",
       "    <tr>\n",
       "      <th>Value at end</th>\n",
       "      <td>$11,472.01</td>\n",
       "    </tr>\n",
       "    <tr>\n",
       "      <th>Trade win percent</th>\n",
       "      <td>22.90%</td>\n",
       "    </tr>\n",
       "    <tr>\n",
       "      <th>Total trades done</th>\n",
       "      <td>131</td>\n",
       "    </tr>\n",
       "    <tr>\n",
       "      <th>Won trades</th>\n",
       "      <td>30</td>\n",
       "    </tr>\n",
       "    <tr>\n",
       "      <th>Lost trades</th>\n",
       "      <td>101</td>\n",
       "    </tr>\n",
       "    <tr>\n",
       "      <th>Stop losses triggered</th>\n",
       "      <td>111</td>\n",
       "    </tr>\n",
       "    <tr>\n",
       "      <th>Stop loss % of all</th>\n",
       "      <td>84.73%</td>\n",
       "    </tr>\n",
       "    <tr>\n",
       "      <th>Stop loss % of lost</th>\n",
       "      <td>109.90%</td>\n",
       "    </tr>\n",
       "    <tr>\n",
       "      <th>Zero profit trades</th>\n",
       "      <td>0</td>\n",
       "    </tr>\n",
       "    <tr>\n",
       "      <th>Positions open at the end</th>\n",
       "      <td>2</td>\n",
       "    </tr>\n",
       "    <tr>\n",
       "      <th>Realised profit and loss</th>\n",
       "      <td>$1,472.01</td>\n",
       "    </tr>\n",
       "    <tr>\n",
       "      <th>Portfolio unrealised value</th>\n",
       "      <td>$9,177.61</td>\n",
       "    </tr>\n",
       "    <tr>\n",
       "      <th>Extra returns on lending pool interest</th>\n",
       "      <td>$0.00</td>\n",
       "    </tr>\n",
       "    <tr>\n",
       "      <th>Cash left at the end</th>\n",
       "      <td>$2,294.40</td>\n",
       "    </tr>\n",
       "    <tr>\n",
       "      <th>Average winning trade profit %</th>\n",
       "      <td>20.31%</td>\n",
       "    </tr>\n",
       "    <tr>\n",
       "      <th>Average losing trade loss %</th>\n",
       "      <td>-6.17%</td>\n",
       "    </tr>\n",
       "    <tr>\n",
       "      <th>Biggest winning trade %</th>\n",
       "      <td>72.51%</td>\n",
       "    </tr>\n",
       "    <tr>\n",
       "      <th>Biggest losing trade %</th>\n",
       "      <td>-11.88%</td>\n",
       "    </tr>\n",
       "    <tr>\n",
       "      <th>Average duration of winning trades</th>\n",
       "      <td>11 days</td>\n",
       "    </tr>\n",
       "    <tr>\n",
       "      <th>Average duration of losing trades</th>\n",
       "      <td>1 days</td>\n",
       "    </tr>\n",
       "    <tr>\n",
       "      <th>Average trade:</th>\n",
       "      <td>-0.11%</td>\n",
       "    </tr>\n",
       "    <tr>\n",
       "      <th>Median trade:</th>\n",
       "      <td>-5.85%</td>\n",
       "    </tr>\n",
       "    <tr>\n",
       "      <th>Consecutive wins</th>\n",
       "      <td>3</td>\n",
       "    </tr>\n",
       "    <tr>\n",
       "      <th>Consecutive losses</th>\n",
       "      <td>12</td>\n",
       "    </tr>\n",
       "    <tr>\n",
       "      <th>Biggest realized risk</th>\n",
       "      <td>-7.56%</td>\n",
       "    </tr>\n",
       "    <tr>\n",
       "      <th>Avg realised risk</th>\n",
       "      <td>-2.51%</td>\n",
       "    </tr>\n",
       "    <tr>\n",
       "      <th>Max pullback of total capital</th>\n",
       "      <td>-42.92%</td>\n",
       "    </tr>\n",
       "    <tr>\n",
       "      <th>Max loss risk at opening of position</th>\n",
       "      <td>4.23%</td>\n",
       "    </tr>\n",
       "  </tbody>\n",
       "</table>\n",
       "</div>"
      ],
      "text/plain": [
       "                                                 0\n",
       "Trading period length                     812 days\n",
       "Return %                                    14.72%\n",
       "Annualised return %                          6.62%\n",
       "Cash at start                           $10,000.00\n",
       "Value at end                            $11,472.01\n",
       "Trade win percent                           22.90%\n",
       "Total trades done                              131\n",
       "Won trades                                      30\n",
       "Lost trades                                    101\n",
       "Stop losses triggered                          111\n",
       "Stop loss % of all                          84.73%\n",
       "Stop loss % of lost                        109.90%\n",
       "Zero profit trades                               0\n",
       "Positions open at the end                        2\n",
       "Realised profit and loss                 $1,472.01\n",
       "Portfolio unrealised value               $9,177.61\n",
       "Extra returns on lending pool interest       $0.00\n",
       "Cash left at the end                     $2,294.40\n",
       "Average winning trade profit %              20.31%\n",
       "Average losing trade loss %                 -6.17%\n",
       "Biggest winning trade %                     72.51%\n",
       "Biggest losing trade %                     -11.88%\n",
       "Average duration of winning trades         11 days\n",
       "Average duration of losing trades           1 days\n",
       "Average trade:                              -0.11%\n",
       "Median trade:                               -5.85%\n",
       "Consecutive wins                                 3\n",
       "Consecutive losses                              12\n",
       "Biggest realized risk                       -7.56%\n",
       "Avg realised risk                           -2.51%\n",
       "Max pullback of total capital              -42.92%\n",
       "Max loss risk at opening of position         4.23%"
      ]
     },
     "metadata": {},
     "output_type": "display_data"
    }
   ],
   "source": [
    "from IPython.core.display_functions import display\n",
    "\n",
    "summary = analysis.calculate_summary_statistics()\n",
    "\n",
    "with pd.option_context(\"display.max_row\", None):\n",
    "    display(summary.to_dataframe())"
   ]
  },
  {
   "cell_type": "markdown",
   "metadata": {},
   "source": []
  },
  {
   "attachments": {},
   "cell_type": "markdown",
   "metadata": {},
   "source": [
    "### Alpha model timeline analysis\n",
    "\n",
    "We display a table that shows how alpha model performermed over time.\n",
    "\n",
    "- Events are in the timeline order\n",
    "\n",
    "- Display portfolio weightings at each strategy cycle\n",
    "\n",
    "- Show performance of individidual positions taken during this cycle\n",
    "\n",
    "- Stop loss events are shown as their own rows\n",
    "\n",
    "The visualisation will have the a column for each asset being traded. The cell of a column contains the following elements\n",
    "\n",
    "- Asset **price change** (up/down) since the last strategy cycle\n",
    "\n",
    "- **Price** of the asset at the start of the strategy cycle\n",
    "\n",
    "- **Weight** % as the part of the portfolio that was chosen for the next cycle\n",
    "\n",
    "- **Open** value of the position as USD\n",
    "\n",
    "- **Adjust** value of the position as USD -  to get to the target weight - how much asset needs to be bought or sold\n",
    "\n",
    "- **Close** the remaining value of the position as USD \n",
    "\n",
    "- **Profit**: The life time profit of the position so far\n",
    "\n",
    "Position opening and closing rules\n",
    "\n",
    "- A position may contain multiple trades\n",
    "\n",
    "- Unlike on some exchanges, we adjust existing positions by increasing or decreasing them - a trade can count against existing position\n",
    "\n",
    "- Posions are opened if there are no existing holdings of an asset\n",
    "\n",
    "- The position is adjusted over the time\n",
    "\n",
    "- The position is closed when the remaining assets of the position are sold"
   ]
  },
  {
   "cell_type": "code",
   "execution_count": 32,
   "metadata": {
    "collapsed": false,
    "jupyter": {
     "outputs_hidden": false
    },
    "pycharm": {
     "is_executing": true
    }
   },
   "outputs": [
    {
     "data": {
      "application/vnd.plotly.v1+json": {
       "config": {
        "plotlyServerURL": "https://plot.ly"
       },
       "data": [
        {
         "cells": {
          "align": "left",
          "fill": {
           "color": "lavender"
          },
          "font": {
           "family": "monospace"
          },
          "values": [
           [
            "2020-10-26",
            "2020-11-02",
            "2020-11-09",
            "2020-11-09 16:00",
            "2020-11-16",
            "2020-11-16 02:00",
            "2020-11-16 02:00",
            "2020-11-23",
            "2020-11-23 15:00",
            "2020-11-26 04:00",
            "2020-11-30",
            "2020-12-07",
            "2020-12-08 09:00",
            "2020-12-08 10:00",
            "2020-12-14",
            "2020-12-21",
            "2020-12-21 13:00",
            "2020-12-21 13:00",
            "2020-12-28",
            "2021-01-04",
            "2021-01-04 10:00",
            "2021-01-11",
            "2021-01-11 01:00",
            "2021-01-11 03:00",
            "2021-01-18",
            "2021-01-18 04:00",
            "2021-01-19 19:00",
            "2021-01-25",
            "2021-01-25 08:00",
            "2021-01-26 00:00",
            "2021-02-01",
            "2021-02-01 01:00",
            "2021-02-08",
            "2021-02-15",
            "2021-02-15 02:00",
            "2021-02-15 05:00",
            "2021-02-22",
            "2021-02-22 04:00",
            "2021-02-22 10:00",
            "2021-03-01",
            "2021-03-04 05:00",
            "2021-03-08",
            "2021-03-08 04:00",
            "2021-03-15",
            "2021-03-16 01:00",
            "2021-03-16 01:00",
            "2021-03-22",
            "2021-03-22 21:00",
            "2021-03-23 21:00",
            "2021-03-29",
            "2021-04-05",
            "2021-04-07 11:00",
            "2021-04-07 18:00",
            "2021-04-12",
            "2021-04-19",
            "2021-04-19 15:00",
            "2021-04-19 16:00",
            "2021-04-26",
            "2021-05-03",
            "2021-05-04 01:00",
            "2021-05-10",
            "2021-05-10 19:00",
            "2021-05-13 10:00",
            "2021-05-17",
            "2021-05-17 04:00",
            "2021-05-17 04:00",
            "2021-05-24",
            "2021-05-31",
            "2021-06-07",
            "2021-06-07 18:00",
            "2021-06-08 03:00",
            "2021-06-14",
            "2021-06-21",
            "2021-06-28",
            "2021-07-05",
            "2021-07-05 12:00",
            "2021-07-05 12:00",
            "2021-07-12",
            "2021-07-12 17:00",
            "2021-07-13 06:00",
            "2021-07-19",
            "2021-07-26",
            "2021-07-29 16:00",
            "2021-08-02",
            "2021-08-03 04:00",
            "2021-08-09",
            "2021-08-16",
            "2021-08-17 01:00",
            "2021-08-18 00:00",
            "2021-08-23",
            "2021-08-23 14:00",
            "2021-08-24 14:00",
            "2021-08-30",
            "2021-08-30 13:00",
            "2021-08-31 01:00",
            "2021-09-06",
            "2021-09-07 09:00",
            "2021-09-07 10:00",
            "2021-09-13",
            "2021-09-13 02:00",
            "2021-09-20",
            "2021-09-20 02:00",
            "2021-09-20 05:00",
            "2021-09-27",
            "2021-09-28 11:00",
            "2021-10-04",
            "2021-10-06 06:00",
            "2021-10-11",
            "2021-10-18",
            "2021-10-19 20:00",
            "2021-10-25",
            "2021-11-01",
            "2021-11-03 14:00",
            "2021-11-08",
            "2021-11-10 21:00",
            "2021-11-15",
            "2021-11-22",
            "2021-11-22 20:00",
            "2021-11-29",
            "2021-11-30 06:00",
            "2021-12-06",
            "2021-12-06 03:00",
            "2021-12-13",
            "2021-12-13 14:00",
            "2021-12-20",
            "2021-12-20 08:00",
            "2021-12-20 09:00",
            "2021-12-27",
            "2021-12-27 21:00",
            "2021-12-28 17:00",
            "2022-01-03",
            "2022-01-03 03:00",
            "2022-01-03 22:00",
            "2022-01-10",
            "2022-01-17",
            "2022-01-17 05:00",
            "2022-01-17 22:00",
            "2022-01-24",
            "2022-01-31",
            "2022-01-31 02:00",
            "2022-02-07",
            "2022-02-10 19:00",
            "2022-02-11 23:00",
            "2022-02-14",
            "2022-02-21",
            "2022-02-28",
            "2022-03-04 02:00",
            "2022-03-07",
            "2022-03-14",
            "2022-03-21",
            "2022-03-28",
            "2022-04-04",
            "2022-04-06 01:00",
            "2022-04-11",
            "2022-04-18",
            "2022-04-25",
            "2022-04-25 06:00",
            "2022-04-25 09:00",
            "2022-05-02",
            "2022-05-09",
            "2022-05-09 05:00",
            "2022-05-16",
            "2022-05-23",
            "2022-05-27 01:00",
            "2022-05-30",
            "2022-06-06",
            "2022-06-09 02:00",
            "2022-06-10 17:00",
            "2022-06-13",
            "2022-06-20",
            "2022-06-27",
            "2022-06-28 18:00",
            "2022-06-29 01:00",
            "2022-07-04",
            "2022-07-11",
            "2022-07-11 23:00",
            "2022-07-11 23:00",
            "2022-07-18",
            "2022-07-25",
            "2022-07-25 04:00",
            "2022-07-25 07:00",
            "2022-08-01",
            "2022-08-02 03:00",
            "2022-08-02 03:00",
            "2022-08-08",
            "2022-08-09 11:00",
            "2022-08-09 16:00",
            "2022-08-15",
            "2022-08-17 14:00",
            "2022-08-17 14:00",
            "2022-08-22",
            "2022-08-29",
            "2022-09-05",
            "2022-09-07 01:00",
            "2022-09-12",
            "2022-09-13 13:00",
            "2022-09-13 13:00",
            "2022-09-19",
            "2022-09-26",
            "2022-10-03",
            "2022-10-10",
            "2022-10-11 00:00",
            "2022-10-13 11:00",
            "2022-10-17",
            "2022-10-17 20:00",
            "2022-10-24",
            "2022-10-25 01:00",
            "2022-10-31",
            "2022-10-31 21:00",
            "2022-11-02 22:00",
            "2022-11-07",
            "2022-11-08 04:00",
            "2022-11-08 05:00",
            "2022-11-14",
            "2022-11-21",
            "2022-11-22 10:00",
            "2022-11-28",
            "2022-11-28 03:00",
            "2022-12-05",
            "2022-12-06 16:00",
            "2022-12-12",
            "2022-12-19",
            "2022-12-26",
            "2023-01-02",
            "2023-01-09",
            "2023-01-16",
            "2023-01-23",
            "2023-01-24 22:00",
            "2023-01-25 02:00",
            "2023-01-30"
           ],
           [
            "$10,000",
            "$10,000",
            "$9,952",
            "",
            "$9,652",
            "",
            "",
            "$9,172",
            "",
            "",
            "$8,742",
            "$8,717",
            "",
            "",
            "$8,323",
            "$9,163",
            "",
            "",
            "$8,734",
            "$11,713",
            "",
            "$13,203",
            "",
            "",
            "$12,456",
            "",
            "",
            "$11,708",
            "",
            "",
            "$11,142",
            "",
            "$11,599",
            "$12,295",
            "",
            "",
            "$11,738",
            "",
            "",
            "$11,055",
            "",
            "$10,421",
            "",
            "$10,638",
            "",
            "",
            "$9,987",
            "",
            "",
            "$9,384",
            "$9,477",
            "",
            "",
            "$9,035",
            "$9,326",
            "",
            "",
            "$8,691",
            "$10,491",
            "",
            "$12,138",
            "",
            "",
            "$11,465",
            "",
            "",
            "$10,587",
            "$10,536",
            "$12,600",
            "",
            "",
            "$11,852",
            "$11,852",
            "$11,852",
            "$11,795",
            "",
            "",
            "$11,184",
            "",
            "",
            "$10,636",
            "$10,585",
            "",
            "$11,262",
            "",
            "$12,125",
            "$13,276",
            "",
            "",
            "$12,650",
            "",
            "",
            "$12,018",
            "",
            "",
            "$11,348",
            "",
            "",
            "$10,800",
            "",
            "$9,987",
            "",
            "",
            "$9,472",
            "",
            "$9,041",
            "",
            "$8,887",
            "$8,844",
            "",
            "$8,977",
            "$9,862",
            "",
            "$10,029",
            "",
            "$9,879",
            "$9,832",
            "",
            "$9,264",
            "",
            "$9,523",
            "",
            "$9,086",
            "",
            "$8,653",
            "",
            "",
            "$8,220",
            "",
            "",
            "$7,847",
            "",
            "",
            "$7,521",
            "$7,485",
            "",
            "",
            "$7,143",
            "$7,109",
            "",
            "$7,654",
            "",
            "",
            "$7,263",
            "$7,263",
            "$7,228",
            "",
            "$7,014",
            "$6,774",
            "$8,627",
            "$9,831",
            "$10,484",
            "",
            "$9,835",
            "$9,835",
            "$9,788",
            "",
            "",
            "$9,228",
            "$9,184",
            "",
            "$8,789",
            "$8,747",
            "",
            "$8,682",
            "$8,640",
            "",
            "",
            "$8,277",
            "$8,237",
            "$10,437",
            "",
            "",
            "$9,960",
            "$11,335",
            "",
            "",
            "$10,762",
            "$12,652",
            "",
            "",
            "$12,039",
            "",
            "",
            "$11,442",
            "",
            "",
            "$10,875",
            "",
            "",
            "$10,423",
            "$10,423",
            "$10,373",
            "",
            "$10,861",
            "",
            "",
            "$10,155",
            "$10,106",
            "$10,292",
            "$10,844",
            "",
            "",
            "$10,295",
            "",
            "$9,817",
            "",
            "$10,522",
            "",
            "",
            "$10,009",
            "",
            "",
            "$9,514",
            "$9,469",
            "",
            "$9,039",
            "",
            "$9,245",
            "",
            "$9,048",
            "$9,048",
            "$9,005",
            "$8,911",
            "$8,869",
            "$10,904",
            "$12,026",
            "",
            "",
            "$11,420"
           ],
           [
            "",
            "",
            "Price: 457.44<br>Weight: 67% <br>Signal: 15% <br><br>Open: $5,333",
            "",
            "🔻 -2.16% <br>Price: 447.54<br>Weight: 0% <br>Signal: 0% <br><br>Close: $-5,217.95<br>Profit: $-115",
            "",
            "",
            "🌲 25.66% <br>Price: 562.40<br>Weight: 67% <br>Signal: 25% <br><br>Adjust: $+4,915<br>",
            "",
            "🛑 Stop loss<br><br>Price: $531<br><br>Loss: $-290",
            "",
            "Price: 604.63<br>Weight: 67% <br>Signal: 5% <br><br>Open: $4,671",
            "",
            "🛑 Stop loss<br><br>Price: $573<br><br>Loss: $-261",
            "",
            "Price: 638.48<br>Weight: 67% <br>Signal: 8% <br><br>Open: $4,903",
            "🛑 Stop loss<br><br>Price: $605<br><br>Loss: $-273",
            "🛑 Stop loss<br><br>Price: $605<br><br>Loss: $-273",
            "🌲 7.45% <br>Price: 686.08<br>Weight: 100% <br>Signal: 7% <br><br>Adjust: $+7,021<br>",
            "🌲 42.10% <br>Price: 974.91<br>Weight: 67% <br>Signal: 43% <br><br>Adjust: $-3,720<br>Profit: $2,956",
            "",
            "🌲 28.69% <br>Price: 1,254.59<br>Weight: 67% <br>Signal: 29% <br><br>Adjust: $-999<br>Profit: $4,751",
            "",
            "🛑 Stop loss<br><br>Price: $1,187<br><br>Loss: $4,353",
            "",
            "",
            "",
            "Price: 1,399.25<br>Weight: 67% <br>Signal: 13% <br><br>Open: $6,275",
            "",
            "🛑 Stop loss<br><br>Price: $1,317<br><br>Loss: $-387",
            "",
            "",
            "Price: 1,625.50<br>Weight: 67% <br>Signal: 24% <br><br>Open: $6,216",
            "🌲 10.95% <br>Price: 1,803.51<br>Weight: 67% <br>Signal: 12% <br><br>Adjust: $-329<br>Profit: $681",
            "",
            "🛑 Stop loss<br><br>Price: $1,717<br><br>Loss: $346",
            "🌲 7.36% <br>Price: 1,936.30<br>Weight: 67% <br>Signal: 7% <br><br>Adjust: $+6,290<br>",
            "",
            "🛑 Stop loss<br><br>Price: $1,821<br><br>Loss: $-392",
            "",
            "",
            "Price: 1,733.20<br>Weight: 67% <br>Signal: 21% <br><br>Open: $5,585",
            "",
            "🌲 6.52% <br>Price: 1,846.14<br>Weight: 67% <br>Signal: 7% <br><br>Adjust: $-266<br>Profit: $364",
            "🛑 Stop loss<br><br>Price: $1,731<br><br>Loss: $-7",
            "🛑 Stop loss<br><br>Price: $1,731<br><br>Loss: $-7",
            "",
            "",
            "",
            "",
            "Price: 2,079.57<br>Weight: 67% <br>Signal: 22% <br><br>Open: $5,079",
            "",
            "🛑 Stop loss<br><br>Price: $1,967<br><br>Loss: $-290",
            "🌲 3.60% <br>Price: 2,154.34<br>Weight: 100% <br>Signal: 3% <br><br>Adjust: $+7,262<br>",
            "🌲 3.62% <br>Price: 2,232.27<br>Weight: 67% <br>Signal: 4% <br><br>Adjust: $-2,543<br>Profit: $263",
            "",
            "🛑 Stop loss<br><br>Price: $2,099<br><br>Loss: $-49",
            "🌲 4.12% <br>Price: 2,324.27<br>Weight: 67% <br>Signal: 3% <br><br>Adjust: $+4,657<br>",
            "🌲 26.52% <br>Price: 2,940.56<br>Weight: 67% <br>Signal: 27% <br><br>Adjust: $-288<br>Profit: $1,235",
            "",
            "🌲 32.93% <br>Price: 3,908.82<br>Weight: 67% <br>Signal: 33% <br><br>Adjust: $-966<br>Profit: $3,080",
            "",
            "🛑 Stop loss<br><br>Price: $3,668<br><br>Loss: $2,662",
            "",
            "",
            "",
            "",
            "Price: 2,391.37<br>Weight: 67% <br>Signal: 14% <br><br>Open: $5,646",
            "🌲 13.49% <br>Price: 2,714.04<br>Weight: 67% <br>Signal: 13% <br><br>Adjust: $+351<br>Profit: $724",
            "",
            "🛑 Stop loss<br><br>Price: $2,496<br><br>Loss: $200",
            "",
            "",
            "",
            "Price: 2,329.55<br>Weight: 67% <br>Signal: 18% <br><br>Open: $6,321",
            "🛑 Stop loss<br><br>Price: $2,193<br><br>Loss: $-388",
            "🛑 Stop loss<br><br>Price: $2,193<br><br>Loss: $-388",
            "",
            "",
            "",
            "",
            "Price: 2,196.53<br>Weight: 67% <br>Signal: 16% <br><br>Open: $5,673",
            "",
            "🌲 16.43% <br>Price: 2,557.39<br>Weight: 67% <br>Signal: 17% <br><br>Adjust: $-588<br>Profit: $932",
            "",
            "🌲 17.44% <br>Price: 3,003.31<br>Weight: 67% <br>Signal: 17% <br><br>Adjust: $-588<br>Profit: $1,981",
            "🌲 9.74% <br>Price: 3,295.93<br>Weight: 67% <br>Signal: 10% <br><br>Adjust: $-28<br>Profit: $2,612",
            "🛑 Stop loss<br><br>Price: $3,126<br><br>Loss: $2,226",
            "",
            "",
            "",
            "",
            "",
            "",
            "",
            "Price: 3,964.03<br>Weight: 67% <br>Signal: 22% <br><br>Open: $6,081",
            "🛑 Stop loss<br><br>Price: $3,749<br><br>Loss: $-347",
            "",
            "",
            "",
            "",
            "",
            "",
            "",
            "",
            "Price: 3,424.29<br>Weight: 67% <br>Signal: 12% <br><br>Open: $4,845",
            "",
            "🔻 -0.44% <br>Price: 3,409.27<br>Weight: 0% <br>Signal: 0% <br><br>Close: $-4,823.56<br>Profit: $-21",
            "🌲 13.30% <br>Price: 3,862.84<br>Weight: 67% <br>Signal: 13% <br><br>Adjust: $+4,740<br>",
            "",
            "🌲 5.34% <br>Price: 4,069.23<br>Weight: 67% <br>Signal: 6% <br><br>Adjust: $-197<br>Profit: $253",
            "🌲 6.19% <br>Price: 4,321.22<br>Weight: 67% <br>Signal: 6% <br><br>Adjust: $+198<br>Profit: $520",
            "",
            "🌲 6.38% <br>Price: 4,596.85<br>Weight: 67% <br>Signal: 7% <br><br>Adjust: $-271<br>Profit: $888",
            "",
            "🌲 0.25% <br>Price: 4,608.17<br>Weight: 0% <br>Signal: 0% <br><br>Close: $-5,370.60<br>Profit: $901",
            "",
            "",
            "",
            "",
            "",
            "",
            "",
            "",
            "",
            "",
            "",
            "Price: 4,075.55<br>Weight: 67% <br>Signal: 3% <br><br>Open: $4,405",
            "",
            "🛑 Stop loss<br><br>Price: $3,855<br><br>Loss: $-251",
            "",
            "",
            "",
            "",
            "Price: 3,358.31<br>Weight: 67% <br>Signal: 7% <br><br>Open: $4,011",
            "",
            "🛑 Stop loss<br><br>Price: $3,158<br><br>Loss: $-250",
            "",
            "Price: 2,616.93<br>Weight: 67% <br>Signal: 3% <br><br>Open: $3,810",
            "",
            "🌲 16.75% <br>Price: 3,055.21<br>Weight: 67% <br>Signal: 17% <br><br>Adjust: $-359<br>Profit: $638",
            "",
            "🛑 Stop loss<br><br>Price: $2,889<br><br>Loss: $404",
            "",
            "",
            "",
            "",
            "",
            "",
            "Price: 2,867.63<br>Weight: 67% <br>Signal: 14% <br><br>Open: $4,623",
            "🌲 14.63% <br>Price: 3,287.25<br>Weight: 67% <br>Signal: 15% <br><br>Adjust: $-56<br>Profit: $676",
            "Weight: 67% <br>Signal: 7% <br><br>Hold<br>Profit: $1,034",
            "",
            "Price: 3,197.59<br>Weight: 0% <br>Signal: 0% <br><br>Close: $-5,100.08<br>Profit: $533",
            "",
            "",
            "",
            "",
            "",
            "",
            "",
            "",
            "",
            "",
            "",
            "",
            "",
            "",
            "",
            "",
            "Price: 1,202.52<br>Weight: 67% <br>Signal: 7% <br><br>Open: $5,593",
            "",
            "🛑 Stop loss<br><br>Price: $1,138<br><br>Loss: $-314",
            "",
            "Price: 1,169.50<br>Weight: 67% <br>Signal: 9% <br><br>Open: $6,065",
            "🛑 Stop loss<br><br>Price: $1,097<br><br>Loss: $-394",
            "🛑 Stop loss<br><br>Price: $1,097<br><br>Loss: $-394",
            "🌲 14.87% <br>Price: 1,343.43<br>Weight: 67% <br>Signal: 15% <br><br>Adjust: $+5,767<br>",
            "🌲 18.61% <br>Price: 1,593.38<br>Weight: 67% <br>Signal: 19% <br><br>Adjust: $-92<br>Profit: $1,073",
            "🛑 Stop loss<br><br>Price: $1,507<br><br>Loss: $689",
            "",
            "🌲 5.83% <br>Price: 1,686.22<br>Weight: 67% <br>Signal: 5% <br><br>Adjust: $+6,452<br>",
            "🛑 Stop loss<br><br>Price: $1,587<br><br>Loss: $-396",
            "🛑 Stop loss<br><br>Price: $1,587<br><br>Loss: $-396",
            "",
            "",
            "",
            "Price: 1,941.03<br>Weight: 67% <br>Signal: 14% <br><br>Open: $5,828",
            "🛑 Stop loss<br><br>Price: $1,833<br><br>Loss: $-340",
            "🛑 Stop loss<br><br>Price: $1,833<br><br>Loss: $-340",
            "",
            "",
            "Price: 1,580.29<br>Weight: 67% <br>Signal: 10% <br><br>Open: $5,559",
            "",
            "🌲 11.14% <br>Price: 1,756.39<br>Weight: 67% <br>Signal: 12% <br><br>Adjust: $-377<br>Profit: $619",
            "🛑 Stop loss<br><br>Price: $1,634<br><br>Loss: $198",
            "🛑 Stop loss<br><br>Price: $1,634<br><br>Loss: $198",
            "",
            "",
            "",
            "Price: 1,324.26<br>Weight: 67% <br>Signal: 3% <br><br>Open: $5,811",
            "",
            "🛑 Stop loss<br><br>Price: $1,244<br><br>Loss: $-367",
            "",
            "",
            "Price: 1,368.67<br>Weight: 67% <br>Signal: 4% <br><br>Open: $5,261",
            "",
            "🌲 15.80% <br>Price: 1,584.97<br>Weight: 67% <br>Signal: 17% <br><br>Adjust: $-471<br>Profit: $831",
            "",
            "🛑 Stop loss<br><br>Price: $1,510<br><br>Loss: $549",
            "",
            "",
            "",
            "",
            "",
            "",
            "Price: 1,197.28<br>Weight: 67% <br>Signal: 5% <br><br>Open: $4,844",
            "",
            "🌲 6.65% <br>Price: 1,276.95<br>Weight: 67% <br>Signal: 7% <br><br>Adjust: $-228<br>Profit: $322",
            "",
            "🔻 -1.25% <br>Price: 1,261.02<br>Weight: 0% <br>Signal: 0% <br><br>Close: $-4,876.91<br>Profit: $261",
            "",
            "Price: 1,220.88<br>Weight: 100% <br>Signal: 3% <br><br>Open: $7,239",
            "🔻 -1.89% <br>Price: 1,197.78<br>Weight: 0% <br>Signal: 0% <br><br>Close: $-7,101.65<br>Profit: $-137",
            "🌲 7.97% <br>Price: 1,293.30<br>Weight: 67% <br>Signal: 7% <br><br>Adjust: $+4,753<br>",
            "🌲 20.43% <br>Price: 1,557.46<br>Weight: 67% <br>Signal: 20% <br><br>Adjust: $+127<br>Profit: $937",
            "🌲 4.92% <br>Price: 1,634.10<br>Weight: 67% <br>Signal: 5% <br><br>Adjust: $+314<br>Profit: $1,222",
            "",
            "🛑 Stop loss<br><br>Price: $1,532<br><br>Loss: $838",
            ""
           ],
           [
            "",
            "",
            "Price: 0.46<br>Weight: 33% <br>Signal: 18% <br><br>Open: $2,667",
            "🛑 Stop loss<br><br>Price: $0<br><br>Loss: $-186",
            "🌲 67.68% <br>Price: 0.77<br>Weight: 67% <br>Signal: 70% <br><br>Adjust: $+5,172<br>",
            "🛑 Stop loss<br><br>Price: $1<br><br>Loss: $-306",
            "🛑 Stop loss<br><br>Price: $1<br><br>Loss: $-306",
            "",
            "",
            "",
            "",
            "Price: 0.71<br>Weight: 33% <br>Signal: 6% <br><br>Open: $2,336",
            "🛑 Stop loss<br><br>Price: $1<br><br>Loss: $-134",
            "",
            "",
            "",
            "",
            "",
            "",
            "Price: 0.68<br>Weight: 33% <br>Signal: 35% <br><br>Open: $3,129",
            "🛑 Stop loss<br><br>Price: $1<br><br>Loss: $-303",
            "🌲 11.45% <br>Price: 0.76<br>Weight: 33% <br>Signal: 12% <br><br>Adjust: $+3,527<br>",
            "🛑 Stop loss<br><br>Price: $1<br><br>Loss: $-311",
            "",
            "🌲 121.85% <br>Price: 1.69<br>Weight: 67% <br>Signal: 121% <br><br>Adjust: $+6,675<br>",
            "🛑 Stop loss<br><br>Price: $2<br><br>Loss: $-542",
            "",
            "🌲 35.16% <br>Price: 2.29<br>Weight: 33% <br>Signal: 35% <br><br>Adjust: $+3,137<br>",
            "🛑 Stop loss<br><br>Price: $2<br><br>Loss: $-183",
            "",
            "🌲 11.11% <br>Price: 2.54<br>Weight: 67% <br>Signal: 10% <br><br>Adjust: $+5,971<br>",
            "🛑 Stop loss<br><br>Price: $2<br><br>Loss: $-388",
            "🌲 16.16% <br>Price: 2.95<br>Weight: 33% <br>Signal: 18% <br><br>Adjust: $+3,108<br>",
            "🔻 -0.69% <br>Price: 2.93<br>Weight: 0% <br>Signal: 0% <br><br>Close: $-3,086.64<br>Profit: $-21",
            "",
            "",
            "",
            "",
            "",
            "",
            "",
            "Price: 2.27<br>Weight: 33% <br>Signal: 26% <br><br>Open: $2,792",
            "🛑 Stop loss<br><br>Price: $2<br><br>Loss: $-181",
            "",
            "",
            "",
            "Price: 2.61<br>Weight: 67% <br>Signal: 22% <br><br>Open: $5,352",
            "🛑 Stop loss<br><br>Price: $2<br><br>Loss: $-419",
            "",
            "🌲 15.98% <br>Price: 3.02<br>Weight: 100% <br>Signal: 16% <br><br>Adjust: $+7,543<br>",
            "🌲 1.24% <br>Price: 3.06<br>Weight: 0% <br>Signal: 0% <br><br>Close: $-7,637.14<br>Profit: $94",
            "",
            "",
            "",
            "Price: 3.25<br>Weight: 33% <br>Signal: 4% <br><br>Open: $2,491",
            "🛑 Stop loss<br><br>Price: $3<br><br>Loss: $-296",
            "",
            "",
            "Price: 3.27<br>Weight: 33% <br>Signal: 37% <br><br>Open: $2,802",
            "🛑 Stop loss<br><br>Price: $3<br><br>Loss: $-196",
            "🌲 5.49% <br>Price: 3.45<br>Weight: 33% <br>Signal: 6% <br><br>Adjust: $+3,242<br>",
            "🛑 Stop loss<br><br>Price: $3<br><br>Loss: $-220",
            "",
            "",
            "",
            "",
            "",
            "Price: 1.68<br>Weight: 33% <br>Signal: 25% <br><br>Open: $2,823",
            "🌲 45.75% <br>Price: 2.44<br>Weight: 33% <br>Signal: 47% <br><br>Adjust: $-754<br>Profit: $1,292",
            "🛑 Stop loss<br><br>Price: $2<br><br>Loss: $1,065",
            "",
            "",
            "",
            "",
            "Price: 1.84<br>Weight: 33% <br>Signal: 15% <br><br>Open: $3,161",
            "🛑 Stop loss<br><br>Price: $2<br><br>Loss: $-226",
            "🛑 Stop loss<br><br>Price: $2<br><br>Loss: $-226",
            "",
            "",
            "",
            "",
            "Price: 1.53<br>Weight: 33% <br>Signal: 6% <br><br>Open: $2,836",
            "🛑 Stop loss<br><br>Price: $1<br><br>Loss: $-288",
            "🌲 9.26% <br>Price: 1.67<br>Weight: 33% <br>Signal: 8% <br><br>Adjust: $+3,008<br>",
            "🛑 Stop loss<br><br>Price: $2<br><br>Loss: $-184",
            "🌲 4.74% <br>Price: 1.75<br>Weight: 33% <br>Signal: 7% <br><br>Adjust: $+3,239<br>",
            "🌲 15.44% <br>Price: 2.02<br>Weight: 33% <br>Signal: 28% <br><br>Adjust: $-198<br>Profit: $500",
            "",
            "🛑 Stop loss<br><br>Price: $2<br><br>Loss: $320",
            "🌲 22.38% <br>Price: 2.47<br>Weight: 67% <br>Signal: 21% <br><br>Adjust: $+6,779<br>",
            "🛑 Stop loss<br><br>Price: $2<br><br>Loss: $-380",
            "",
            "",
            "",
            "",
            "Price: 2.48<br>Weight: 33% <br>Signal: 17% <br><br>Open: $3,041",
            "",
            "🛑 Stop loss<br><br>Price: $2<br><br>Loss: $-203",
            "",
            "",
            "Price: 3.10<br>Weight: 67% <br>Signal: 25% <br><br>Open: $5,351",
            "🛑 Stop loss<br><br>Price: $3<br><br>Loss: $-366",
            "",
            "",
            "",
            "Price: 2.81<br>Weight: 33% <br>Signal: 10% <br><br>Open: $2,422",
            "🛑 Stop loss<br><br>Price: $3<br><br>Loss: $-176",
            "",
            "Price: 2.88<br>Weight: 33% <br>Signal: 7% <br><br>Open: $2,370",
            "🛑 Stop loss<br><br>Price: $3<br><br>Loss: $-148",
            "🌲 22.84% <br>Price: 3.54<br>Weight: 33% <br>Signal: 22% <br><br>Adjust: $+2,398<br>",
            "🌲 25.23% <br>Price: 4.43<br>Weight: 33% <br>Signal: 25% <br><br>Adjust: $-373<br>Profit: $605",
            "🛑 Stop loss<br><br>Price: $4<br><br>Loss: $419",
            "",
            "",
            "",
            "",
            "",
            "Price: 4.93<br>Weight: 67% <br>Signal: 31% <br><br>Open: $4,964",
            "🛑 Stop loss<br><br>Price: $5<br><br>Loss: $-329",
            "",
            "",
            "Price: 3.85<br>Weight: 67% <br>Signal: 8% <br><br>Open: $4,869",
            "🛑 Stop loss<br><br>Price: $4<br><br>Loss: $-309",
            "🌲 6.97% <br>Price: 4.12<br>Weight: 67% <br>Signal: 9% <br><br>Adjust: $+4,637<br>",
            "",
            "🛑 Stop loss<br><br>Price: $4<br><br>Loss: $-303",
            "🌲 39.96% <br>Price: 5.77<br>Weight: 33% <br>Signal: 40% <br><br>Adjust: $+2,203<br>",
            "🛑 Stop loss<br><br>Price: $5<br><br>Loss: $-124",
            "",
            "🌲 6.78% <br>Price: 6.16<br>Weight: 67% <br>Signal: 6% <br><br>Adjust: $+4,205<br>",
            "🛑 Stop loss<br><br>Price: $6<br><br>Loss: $-235",
            "",
            "",
            "Price: 5.17<br>Weight: 33% <br>Signal: 13% <br><br>Open: $2,006",
            "🛑 Stop loss<br><br>Price: $5<br><br>Loss: $-127",
            "",
            "",
            "Price: 3.20<br>Weight: 33% <br>Signal: 10% <br><br>Open: $1,905",
            "🛑 Stop loss<br><br>Price: $3<br><br>Loss: $-115",
            "🌲 5.31% <br>Price: 3.37<br>Weight: 33% <br>Signal: 6% <br><br>Adjust: $+2,044<br>",
            "🛑 Stop loss<br><br>Price: $3<br><br>Loss: $-169",
            "",
            "",
            "",
            "",
            "",
            "",
            "",
            "Price: 2.14<br>Weight: 33% <br>Signal: 13% <br><br>Open: $2,311",
            "🌲 21.03% <br>Price: 2.60<br>Weight: 33% <br>Signal: 22% <br><br>Adjust: $-176<br>Profit: $486",
            "🌲 11.29% <br>Price: 2.89<br>Weight: 33% <br>Signal: 14% <br><br>Adjust: $-122<br>Profit: $782",
            "🛑 Stop loss<br><br>Price: $3<br><br>Loss: $633",
            "",
            "",
            "Price: 2.72<br>Weight: 67% <br>Signal: 23% <br><br>Open: $5,245",
            "",
            "🛑 Stop loss<br><br>Price: $2<br><br>Loss: $-452",
            "",
            "Price: 2.36<br>Weight: 100% <br>Signal: 13% <br><br>Open: $7,383",
            "🛑 Stop loss<br><br>Price: $2<br><br>Loss: $-440",
            "",
            "",
            "",
            "",
            "",
            "",
            "",
            "",
            "",
            "Price: 0.76<br>Weight: 33% <br>Signal: 16% <br><br>Open: $2,797",
            "🛑 Stop loss<br><br>Price: $1<br><br>Loss: $-165",
            "",
            "🌲 5.46% <br>Price: 0.80<br>Weight: 100% <br>Signal: 5% <br><br>Adjust: $+8,006<br>",
            "🌲 17.04% <br>Price: 0.94<br>Weight: 33% <br>Signal: 19% <br><br>Adjust: $-6,338<br>Profit: $1,364",
            "🛑 Stop loss<br><br>Price: $1<br><br>Loss: $1,200",
            "🛑 Stop loss<br><br>Price: $1<br><br>Loss: $1,200",
            "🌲 15.63% <br>Price: 1.09<br>Weight: 33% <br>Signal: 18% <br><br>Adjust: $+2,884<br>",
            "🌲 26.57% <br>Price: 1.37<br>Weight: 33% <br>Signal: 29% <br><br>Adjust: $-276<br>Profit: $766",
            "",
            "🛑 Stop loss<br><br>Price: $1<br><br>Loss: $595",
            "",
            "",
            "",
            "Price: 1.42<br>Weight: 67% <br>Signal: 5% <br><br>Open: $6,132",
            "🛑 Stop loss<br><br>Price: $1<br><br>Loss: $-398",
            "",
            "",
            "",
            "",
            "",
            "",
            "Price: 1.10<br>Weight: 33% <br>Signal: 11% <br><br>Open: $2,779",
            "🛑 Stop loss<br><br>Price: $1<br><br>Loss: $-164",
            "🌲 7.18% <br>Price: 1.17<br>Weight: 33% <br>Signal: 8% <br><br>Adjust: $+2,901<br>",
            "🛑 Stop loss<br><br>Price: $1<br><br>Loss: $-302",
            "🛑 Stop loss<br><br>Price: $1<br><br>Loss: $-302",
            "",
            "",
            "",
            "Price: 0.89<br>Weight: 33% <br>Signal: 3% <br><br>Open: $2,906",
            "🛑 Stop loss<br><br>Price: $1<br><br>Loss: $-184",
            "",
            "",
            "",
            "Price: 0.92<br>Weight: 33% <br>Signal: 12% <br><br>Open: $2,630",
            "🛑 Stop loss<br><br>Price: $1<br><br>Loss: $-156",
            "",
            "",
            "",
            "Price: 0.96<br>Weight: 67% <br>Signal: 8% <br><br>Open: $5,364",
            "",
            "🛑 Stop loss<br><br>Price: $1<br><br>Loss: $-365",
            "",
            "",
            "",
            "Price: 0.67<br>Weight: 33% <br>Signal: 35% <br><br>Open: $2,422",
            "🛑 Stop loss<br><br>Price: $1<br><br>Loss: $-145",
            "",
            "",
            "",
            "",
            "",
            "",
            "Price: 0.58<br>Weight: 33% <br>Signal: 8% <br><br>Open: $2,376",
            "🌲 44.46% <br>Price: 0.84<br>Weight: 33% <br>Signal: 44% <br><br>Adjust: $-525<br>Profit: $1,057",
            "🌲 28.83% <br>Price: 1.08<br>Weight: 33% <br>Signal: 28% <br><br>Adjust: $-539<br>Profit: $1,895",
            "🛑 Stop loss<br><br>Price: $1<br><br>Loss: $1,723",
            "",
            ""
           ],
           [
            "",
            "",
            "",
            "",
            "Price: 1.26<br>Weight: 33% <br>Signal: 95% <br><br>Open: $2,586",
            "🛑 Stop loss<br><br>Price: $1<br><br>Loss: $-177",
            "🛑 Stop loss<br><br>Price: $1<br><br>Loss: $-177",
            "🌲 29.85% <br>Price: 1.63<br>Weight: 33% <br>Signal: 29% <br><br>Adjust: $+2,458<br>",
            "🛑 Stop loss<br><br>Price: $2<br><br>Loss: $-141",
            "",
            "",
            "",
            "",
            "",
            "Price: 2.39<br>Weight: 100% <br>Signal: 8% <br><br>Open: $6,691",
            "🌲 12.39% <br>Price: 2.69<br>Weight: 33% <br>Signal: 13% <br><br>Adjust: $-5,068<br>Profit: $829",
            "🛑 Stop loss<br><br>Price: $3<br><br>Loss: $686",
            "🛑 Stop loss<br><br>Price: $3<br><br>Loss: $686",
            "",
            "",
            "",
            "",
            "",
            "",
            "Price: 7.09<br>Weight: 33% <br>Signal: 60% <br><br>Open: $3,337",
            "",
            "🛑 Stop loss<br><br>Price: $7<br><br>Loss: $-209",
            "",
            "",
            "",
            "Price: 10.25<br>Weight: 33% <br>Signal: 22% <br><br>Open: $2,985",
            "",
            "🌲 28.40% <br>Price: 13.16<br>Weight: 0% <br>Signal: 0% <br><br>Close: $-3,833.13<br>Profit: $848",
            "🌲 15.27% <br>Price: 15.17<br>Weight: 33% <br>Signal: 15% <br><br>Adjust: $+3,284<br>",
            "🛑 Stop loss<br><br>Price: $14<br><br>Loss: $-185",
            "",
            "🌲 14.05% <br>Price: 17.30<br>Weight: 33% <br>Signal: 14% <br><br>Adjust: $+3,145<br>",
            "🛑 Stop loss<br><br>Price: $16<br><br>Loss: $-295",
            "",
            "",
            "",
            "",
            "",
            "Price: 20.95<br>Weight: 33% <br>Signal: 16% <br><br>Open: $2,841",
            "🛑 Stop loss<br><br>Price: $19<br><br>Loss: $-249",
            "🛑 Stop loss<br><br>Price: $19<br><br>Loss: $-249",
            "",
            "",
            "",
            "",
            "",
            "",
            "",
            "",
            "",
            "",
            "",
            "",
            "",
            "",
            "",
            "",
            "",
            "Price: 16.61<br>Weight: 67% <br>Signal: 6% <br><br>Open: $6,144",
            "🛑 Stop loss<br><br>Price: $15<br><br>Loss: $-629",
            "🛑 Stop loss<br><br>Price: $15<br><br>Loss: $-629",
            "",
            "",
            "",
            "",
            "",
            "",
            "",
            "",
            "",
            "",
            "",
            "Price: 8.23<br>Weight: 67% <br>Signal: 3% <br><br>Open: $5,994",
            "🛑 Stop loss<br><br>Price: $8<br><br>Loss: $-417",
            "",
            "",
            "",
            "",
            "",
            "",
            "",
            "",
            "",
            "",
            "Price: 13.84<br>Weight: 33% <br>Signal: 9% <br><br>Open: $3,389",
            "",
            "🛑 Stop loss<br><br>Price: $13<br><br>Loss: $-264",
            "",
            "",
            "",
            "",
            "",
            "",
            "",
            "",
            "",
            "",
            "",
            "",
            "",
            "",
            "",
            "",
            "",
            "",
            "",
            "",
            "",
            "Price: 12.17<br>Weight: 33% <br>Signal: 11% <br><br>Open: $2,679",
            "🛑 Stop loss<br><br>Price: $11<br><br>Loss: $-179",
            "",
            "",
            "",
            "",
            "",
            "",
            "",
            "Price: 5.64<br>Weight: 33% <br>Signal: 7% <br><br>Open: $2,435",
            "",
            "🔻 -5.17% <br>Price: 5.35<br>Weight: 0% <br>Signal: 0% <br><br>Close: $-2,308.82<br>Profit: $-126",
            "",
            "",
            "",
            "",
            "",
            "Price: 9.04<br>Weight: 33% <br>Signal: 13% <br><br>Open: $2,103",
            "",
            "🛑 Stop loss<br><br>Price: $9<br><br>Loss: $-128",
            "",
            "",
            "",
            "",
            "",
            "",
            "",
            "",
            "",
            "",
            "",
            "",
            "",
            "",
            "",
            "",
            "",
            "",
            "",
            "",
            "",
            "",
            "Price: 3.40<br>Weight: 33% <br>Signal: 6% <br><br>Open: $2,623",
            "🛑 Stop loss<br><br>Price: $3<br><br>Loss: $-154",
            "",
            "",
            "",
            "",
            "",
            "Price: 1.47<br>Weight: 67% <br>Signal: 5% <br><br>Open: $4,687",
            "",
            "🌲 1.48% <br>Price: 1.49<br>Weight: 0% <br>Signal: 0% <br><br>Close: $-4,756.84<br>Profit: $70",
            "🌲 4.94% <br>Price: 1.56<br>Weight: 67% <br>Signal: 5% <br><br>Adjust: $+4,630<br>",
            "🛑 Stop loss<br><br>Price: $1<br><br>Loss: $-269",
            "",
            "",
            "",
            "",
            "",
            "",
            "",
            "",
            "",
            "",
            "",
            "",
            "",
            "",
            "Price: 1.45<br>Weight: 33% <br>Signal: 7% <br><br>Open: $3,226",
            "🛑 Stop loss<br><br>Price: $1<br><br>Loss: $-204",
            "🛑 Stop loss<br><br>Price: $1<br><br>Loss: $-204",
            "🌲 4.35% <br>Price: 1.51<br>Weight: 33% <br>Signal: 4% <br><br>Adjust: $+3,066<br>",
            "",
            "🛑 Stop loss<br><br>Price: $1<br><br>Loss: $-172",
            "",
            "",
            "",
            "",
            "",
            "",
            "",
            "",
            "",
            "",
            "",
            "Price: 1.05<br>Weight: 67% <br>Signal: 3% <br><br>Open: $5,416",
            "🔻 -1.75% <br>Price: 1.03<br>Weight: 0% <br>Signal: 0% <br><br>Close: $-5,321.23<br>Profit: $-95",
            "",
            "",
            "",
            "Price: 1.48<br>Weight: 100% <br>Signal: 7% <br><br>Open: $8,276",
            "🛑 Stop loss<br><br>Price: $1<br><br>Loss: $-480",
            "",
            "",
            "Price: 1.71<br>Weight: 33% <br>Signal: 18% <br><br>Open: $2,810",
            "🛑 Stop loss<br><br>Price: $2<br><br>Loss: $-200",
            "",
            "",
            "",
            "",
            "",
            "",
            "",
            "",
            "",
            "Price: 1.35<br>Weight: 33% <br>Signal: 6% <br><br>Open: $2,469",
            "🛑 Stop loss<br><br>Price: $1<br><br>Loss: $-150",
            "",
            "",
            "",
            "",
            "",
            "",
            "",
            "",
            "",
            ""
           ],
           [
            "",
            "",
            "",
            "",
            "",
            "",
            "",
            "",
            "",
            "",
            "",
            "",
            "",
            "",
            "",
            "",
            "",
            "",
            "",
            "",
            "",
            "",
            "",
            "",
            "",
            "",
            "",
            "",
            "",
            "",
            "",
            "",
            "",
            "",
            "",
            "",
            "",
            "",
            "",
            "",
            "",
            "",
            "",
            "",
            "",
            "",
            "Price: 33.05<br>Weight: 33% <br>Signal: 8% <br><br>Open: $2,676",
            "",
            "🛑 Stop loss<br><br>Price: $31<br><br>Loss: $-187",
            "",
            "Price: 31.09<br>Weight: 33% <br>Signal: 11% <br><br>Open: $2,539",
            "🛑 Stop loss<br><br>Price: $29<br><br>Loss: $-155",
            "",
            "",
            "",
            "",
            "",
            "Price: 34.43<br>Weight: 33% <br>Signal: 7% <br><br>Open: $2,329",
            "🌲 23.19% <br>Price: 42.41<br>Weight: 0% <br>Signal: 0% <br><br>Close: $-2,868.77<br>Profit: $540",
            "",
            "",
            "",
            "",
            "",
            "",
            "",
            "",
            "",
            "",
            "",
            "",
            "",
            "",
            "",
            "",
            "",
            "",
            "",
            "",
            "",
            "",
            "",
            "",
            "",
            "",
            "",
            "",
            "",
            "",
            "",
            "",
            "",
            "",
            "",
            "",
            "",
            "",
            "",
            "",
            "",
            "",
            "",
            "",
            "",
            "",
            "",
            "",
            "",
            "",
            "",
            "",
            "",
            "",
            "",
            "",
            "",
            "",
            "",
            "",
            "",
            "",
            "",
            "",
            "",
            "",
            "",
            "",
            "",
            "",
            "",
            "",
            "",
            "",
            "",
            "",
            "",
            "",
            "",
            "",
            "",
            "",
            "",
            "",
            "",
            "",
            "Price: 9.72<br>Weight: 67% <br>Signal: 5% <br><br>Open: $3,874",
            "🛑 Stop loss<br><br>Price: $9<br><br>Loss: $-217",
            "",
            "",
            "",
            "",
            "",
            "",
            "",
            "",
            "",
            "",
            "",
            "",
            "",
            "",
            "",
            "",
            "",
            "",
            "Price: 5.13<br>Weight: 33% <br>Signal: 4% <br><br>Open: $2,315",
            "",
            "🛑 Stop loss<br><br>Price: $5<br><br>Loss: $-136",
            "",
            "Price: 4.20<br>Weight: 100% <br>Signal: 3% <br><br>Open: $6,622",
            "🌲 33.38% <br>Price: 5.60<br>Weight: 0% <br>Signal: 0% <br><br>Close: $-8,831.88<br>Profit: $2,210",
            "",
            "",
            "",
            "",
            "",
            "",
            "",
            "",
            "",
            "",
            "",
            "",
            "",
            "",
            "",
            "",
            "",
            "",
            "",
            "",
            "",
            "",
            "",
            "",
            "",
            "",
            "",
            "Price: 5.67<br>Weight: 33% <br>Signal: 5% <br><br>Open: $2,708",
            "🌲 10.38% <br>Price: 6.26<br>Weight: 67% <br>Signal: 11% <br><br>Adjust: $+2,535<br>Profit: $263",
            "🌲 6.54% <br>Price: 6.67<br>Weight: 0% <br>Signal: 0% <br><br>Close: $-5,884.94<br>Profit: $642",
            "",
            "",
            "",
            "",
            "",
            "",
            "",
            "",
            "",
            "Price: 7.14<br>Weight: 33% <br>Signal: 3% <br><br>Open: $2,682",
            "🛑 Stop loss<br><br>Price: $7<br><br>Loss: $-178",
            "",
            "",
            "",
            "",
            "",
            "",
            "",
            "",
            "",
            "",
            "",
            "",
            "",
            "",
            "",
            "",
            "",
            ""
           ],
           [
            "",
            "",
            "",
            "",
            "",
            "",
            "",
            "",
            "",
            "",
            "",
            "",
            "",
            "",
            "",
            "",
            "",
            "",
            "",
            "",
            "",
            "",
            "",
            "",
            "",
            "",
            "",
            "",
            "",
            "",
            "",
            "",
            "",
            "",
            "",
            "",
            "",
            "",
            "",
            "",
            "",
            "",
            "",
            "",
            "",
            "",
            "",
            "",
            "",
            "",
            "",
            "",
            "",
            "",
            "",
            "",
            "",
            "",
            "",
            "",
            "",
            "",
            "",
            "Price: 528.27<br>Weight: 33% <br>Signal: 14% <br><br>Open: $3,072",
            "🛑 Stop loss<br><br>Price: $477<br><br>Loss: $-304",
            "🛑 Stop loss<br><br>Price: $477<br><br>Loss: $-304",
            "",
            "",
            "",
            "",
            "",
            "",
            "",
            "",
            "",
            "",
            "",
            "Price: 304.67<br>Weight: 33% <br>Signal: 10% <br><br>Open: $2,997",
            "",
            "🛑 Stop loss<br><br>Price: $287<br><br>Loss: $-185",
            "",
            "",
            "",
            "",
            "",
            "",
            "",
            "",
            "",
            "",
            "",
            "",
            "",
            "",
            "",
            "",
            "",
            "",
            "",
            "",
            "",
            "",
            "",
            "",
            "",
            "",
            "",
            "",
            "",
            "",
            "",
            "",
            "",
            "",
            "",
            "",
            "",
            "",
            "",
            "",
            "",
            "",
            "",
            "",
            "Price: 183.85<br>Weight: 33% <br>Signal: 3% <br><br>Open: $2,319",
            "🛑 Stop loss<br><br>Price: $174<br><br>Loss: $-132",
            "",
            "",
            "",
            "",
            "",
            "",
            "",
            "",
            "",
            "",
            "",
            "",
            "",
            "",
            "",
            "",
            "",
            "",
            "",
            "",
            "",
            "",
            "Price: 115.24<br>Weight: 100% <br>Signal: 4% <br><br>Open: $5,445",
            "🌲 34.19% <br>Price: 154.64<br>Weight: 0% <br>Signal: 0% <br><br>Close: $-7,306.79<br>Profit: $1,862",
            "",
            "",
            "",
            "",
            "",
            "",
            "",
            "",
            "",
            "",
            "",
            "",
            "Price: 93.91<br>Weight: 33% <br>Signal: 4% <br><br>Open: $2,344",
            "🛑 Stop loss<br><br>Price: $87<br><br>Loss: $-176",
            "",
            "",
            "",
            "",
            "",
            "",
            "",
            "",
            "",
            "",
            "",
            "",
            "",
            "",
            "",
            "",
            "",
            "",
            "",
            "",
            "",
            "",
            "",
            "Price: 110.14<br>Weight: 33% <br>Signal: 5% <br><br>Open: $2,914",
            "🛑 Stop loss<br><br>Price: $104<br><br>Loss: $-164",
            "🛑 Stop loss<br><br>Price: $104<br><br>Loss: $-164",
            "",
            "",
            "",
            "",
            "",
            "",
            "",
            "",
            "",
            "",
            "",
            "",
            "",
            "",
            "",
            "",
            "",
            "",
            "",
            "",
            "",
            "",
            "",
            "",
            "Price: 56.54<br>Weight: 100% <br>Signal: 3% <br><br>Open: $7,611",
            "🛑 Stop loss<br><br>Price: $53<br><br>Loss: $-432",
            "",
            "",
            "",
            "",
            "",
            "",
            "",
            "",
            "",
            "",
            "",
            "",
            "",
            ""
           ],
           [
            "",
            "",
            "",
            "",
            "",
            "",
            "",
            "",
            "",
            "",
            "Price: 0.02<br>Weight: 100% <br>Signal: 5% <br><br>Open: $7,028",
            "🔻 -0.37% <br>Price: 0.02<br>Weight: 0% <br>Signal: 0% <br><br>Close: $-7,001.82<br>Profit: $-26",
            "",
            "",
            "",
            "",
            "",
            "",
            "",
            "",
            "",
            "",
            "",
            "",
            "",
            "",
            "",
            "",
            "",
            "",
            "",
            "",
            "",
            "",
            "",
            "",
            "",
            "",
            "",
            "Price: 0.22<br>Weight: 100% <br>Signal: 41% <br><br>Open: $8,886",
            "🛑 Stop loss<br><br>Price: $0<br><br>Loss: $-637",
            "",
            "",
            "",
            "",
            "",
            "",
            "",
            "",
            "",
            "",
            "",
            "",
            "",
            "",
            "",
            "",
            "",
            "",
            "",
            "",
            "",
            "",
            "",
            "",
            "",
            "",
            "",
            "",
            "",
            "",
            "",
            "",
            "",
            "",
            "",
            "",
            "",
            "",
            "",
            "",
            "",
            "",
            "",
            "",
            "",
            "",
            "",
            "",
            "",
            "",
            "",
            "",
            "",
            "",
            "",
            "",
            "",
            "",
            "",
            "",
            "",
            "",
            "",
            "",
            "",
            "",
            "",
            "",
            "",
            "",
            "",
            "",
            "",
            "",
            "",
            "",
            "",
            "Price: 1.66<br>Weight: 33% <br>Signal: 3% <br><br>Open: $2,482",
            "",
            "🌲 23.75% <br>Price: 2.05<br>Weight: 100% <br>Signal: 24% <br><br>Adjust: $+4,587<br>Profit: $571",
            "🛑 Stop loss<br><br>Price: $2<br><br>Loss: $151",
            "",
            "",
            "",
            "",
            "",
            "",
            "",
            "",
            "",
            "",
            "",
            "",
            "",
            "",
            "",
            "",
            "",
            "",
            "",
            "",
            "",
            "",
            "",
            "",
            "",
            "",
            "",
            "",
            "",
            "",
            "",
            "",
            "",
            "",
            "",
            "",
            "",
            "",
            "",
            "",
            "",
            "",
            "",
            "",
            "",
            "",
            "",
            "",
            "",
            "",
            "",
            "",
            "",
            "",
            "",
            "",
            "",
            "",
            "",
            "",
            "",
            "",
            "",
            "",
            "",
            "",
            "",
            "",
            "",
            "",
            "",
            "",
            "",
            "",
            "",
            "",
            "",
            "Price: 0.77<br>Weight: 33% <br>Signal: 3% <br><br>Open: $2,753",
            "🌲 7.02% <br>Price: 0.82<br>Weight: 0% <br>Signal: 0% <br><br>Close: $-2,946.06<br>Profit: $193",
            "",
            "",
            "",
            "",
            "",
            "",
            "",
            "",
            "",
            "",
            "",
            "",
            "",
            "",
            "",
            "",
            "",
            "",
            "",
            "",
            "",
            "",
            "",
            "",
            "",
            "",
            "",
            "",
            "Price: 1.18<br>Weight: 67% <br>Signal: 19% <br><br>Open: $6,118"
           ],
           [
            "",
            "",
            "",
            "",
            "",
            "",
            "",
            "",
            "",
            "",
            "",
            "",
            "",
            "",
            "",
            "",
            "",
            "",
            "",
            "",
            "",
            "",
            "",
            "",
            "",
            "",
            "",
            "",
            "",
            "",
            "",
            "",
            "",
            "",
            "",
            "",
            "",
            "",
            "",
            "",
            "",
            "",
            "",
            "",
            "",
            "",
            "",
            "",
            "",
            "",
            "",
            "",
            "",
            "",
            "",
            "",
            "",
            "",
            "",
            "",
            "",
            "",
            "",
            "",
            "",
            "",
            "",
            "",
            "",
            "",
            "",
            "",
            "",
            "",
            "",
            "",
            "",
            "",
            "",
            "",
            "",
            "",
            "",
            "",
            "",
            "",
            "",
            "",
            "",
            "",
            "",
            "",
            "Price: 25.36<br>Weight: 67% <br>Signal: 7% <br><br>Open: $6,435",
            "🛑 Stop loss<br><br>Price: $23<br><br>Loss: $-486",
            "",
            "",
            "",
            "",
            "",
            "",
            "Price: 22.79<br>Weight: 33% <br>Signal: 11% <br><br>Open: $2,675",
            "",
            "🛑 Stop loss<br><br>Price: $22<br><br>Loss: $-149",
            "",
            "",
            "",
            "",
            "",
            "",
            "",
            "",
            "",
            "",
            "",
            "",
            "",
            "",
            "",
            "",
            "",
            "",
            "",
            "",
            "",
            "",
            "",
            "",
            "",
            "",
            "",
            "",
            "",
            "",
            "",
            "",
            "",
            "",
            "",
            "",
            "",
            "",
            "",
            "",
            "",
            "",
            "",
            "",
            "",
            "",
            "",
            "",
            "",
            "",
            "",
            "",
            "",
            "",
            "",
            "",
            "",
            "",
            "",
            "",
            "",
            "",
            "",
            "",
            "",
            "",
            "",
            "",
            "",
            "",
            "",
            "",
            "",
            "",
            "",
            "",
            "",
            "",
            "",
            "",
            "",
            "",
            "",
            "",
            "",
            "",
            "",
            "",
            "",
            "",
            "",
            "",
            "",
            "",
            "",
            "",
            "",
            "",
            "",
            "",
            "",
            "",
            "",
            "",
            "",
            "",
            "",
            "",
            "",
            "",
            "",
            "",
            "",
            "",
            "",
            "",
            "",
            "",
            "",
            "",
            "",
            "",
            "",
            "",
            "",
            "",
            "Price: 4.13<br>Weight: 33% <br>Signal: 8% <br><br>Open: $3,059"
           ],
           [
            "",
            "",
            "",
            "",
            "",
            "",
            "",
            "",
            "",
            "",
            "",
            "",
            "",
            "",
            "",
            "",
            "",
            "",
            "",
            "",
            "",
            "",
            "",
            "",
            "",
            "",
            "",
            "",
            "",
            "",
            "",
            "",
            "",
            "",
            "",
            "",
            "",
            "",
            "",
            "",
            "",
            "",
            "",
            "",
            "",
            "",
            "",
            "",
            "",
            "",
            "",
            "",
            "",
            "",
            "",
            "",
            "",
            "",
            "",
            "",
            "",
            "",
            "",
            "",
            "",
            "",
            "",
            "",
            "",
            "",
            "",
            "",
            "",
            "",
            "",
            "",
            "",
            "",
            "",
            "",
            "",
            "",
            "",
            "",
            "",
            "",
            "",
            "",
            "",
            "",
            "",
            "",
            "Price: 482.26<br>Weight: 33% <br>Signal: 7% <br><br>Open: $3,218",
            "",
            "🛑 Stop loss<br><br>Price: $457<br><br>Loss: $-178",
            "",
            "",
            "",
            "",
            "",
            "",
            "",
            "",
            "",
            "",
            "",
            "",
            "",
            "",
            "",
            "",
            "",
            "",
            "",
            "",
            "",
            "",
            "",
            "",
            "",
            "",
            "",
            "",
            "",
            "",
            "",
            "",
            "",
            "",
            "",
            "",
            "",
            "",
            "",
            "",
            "",
            "",
            "",
            "",
            "",
            "",
            "",
            "",
            "",
            "",
            "",
            "",
            "Price: 376.00<br>Weight: 100% <br>Signal: 4% <br><br>Open: $5,634",
            "🔻 -4.19% <br>Price: 360.26<br>Weight: 0% <br>Signal: 0% <br><br>Close: $-5,398.07<br>Profit: $-236",
            "",
            "",
            "",
            "",
            "",
            "",
            "",
            "",
            "",
            "",
            "",
            "",
            "",
            "",
            "",
            "",
            "",
            "",
            "",
            "",
            "",
            "",
            "",
            "",
            "",
            "",
            "",
            "",
            "",
            "",
            "",
            "",
            "",
            "",
            "",
            "",
            "",
            "",
            "",
            "",
            "",
            "",
            "",
            "",
            "",
            "",
            "",
            "",
            "",
            "",
            "",
            "",
            "",
            "",
            "",
            "",
            "",
            "",
            "",
            "",
            "",
            "",
            "",
            "",
            "",
            "",
            "",
            "",
            "",
            "",
            "",
            "",
            "",
            "",
            "",
            "",
            "",
            "",
            "",
            "",
            ""
           ],
           [
            "",
            "",
            "",
            "",
            "",
            "",
            "",
            "",
            "",
            "",
            "",
            "",
            "",
            "",
            "",
            "",
            "",
            "",
            "",
            "",
            "",
            "",
            "",
            "",
            "",
            "",
            "",
            "",
            "",
            "",
            "",
            "",
            "",
            "",
            "",
            "",
            "",
            "",
            "",
            "",
            "",
            "",
            "",
            "",
            "",
            "",
            "",
            "",
            "",
            "",
            "",
            "",
            "",
            "",
            "",
            "",
            "",
            "",
            "",
            "",
            "",
            "",
            "",
            "",
            "",
            "",
            "",
            "",
            "",
            "",
            "",
            "",
            "",
            "",
            "",
            "",
            "",
            "",
            "",
            "",
            "",
            "",
            "",
            "",
            "",
            "",
            "",
            "",
            "",
            "",
            "",
            "",
            "",
            "",
            "",
            "",
            "",
            "",
            "Price: 2.16<br>Weight: 100% <br>Signal: 22% <br><br>Open: $8,682",
            "🛑 Stop loss<br><br>Price: $2<br><br>Loss: $-820",
            "",
            "",
            "",
            "Price: 3.76<br>Weight: 100% <br>Signal: 15% <br><br>Open: $7,614",
            "🛑 Stop loss<br><br>Price: $4<br><br>Loss: $-433",
            "",
            "",
            "",
            "",
            "",
            "",
            "",
            "",
            "",
            "",
            "",
            "Price: 4.57<br>Weight: 100% <br>Signal: 69% <br><br>Open: $7,903",
            "🛑 Stop loss<br><br>Price: $4<br><br>Loss: $-571",
            "",
            "",
            "",
            "",
            "",
            "",
            "",
            "",
            "",
            "",
            "",
            "",
            "",
            "",
            "",
            "",
            "",
            "",
            "",
            "",
            "",
            "",
            "",
            "",
            "",
            "",
            "",
            "Price: 1.05<br>Weight: 33% <br>Signal: 3% <br><br>Open: $1,937",
            "",
            "🔻 -0.19% <br>Price: 1.04<br>Weight: 0% <br>Signal: 0% <br><br>Close: $-1,933.13<br>Profit: $-4",
            "",
            "",
            "",
            "",
            "",
            "",
            "",
            "",
            "",
            "",
            "",
            "",
            "",
            "",
            "",
            "",
            "",
            "",
            "",
            "",
            "",
            "",
            "",
            "",
            "",
            "",
            "",
            "",
            "",
            "",
            "",
            "",
            "",
            "",
            "",
            "",
            "",
            "",
            "",
            "",
            "",
            "",
            "",
            "",
            "",
            "",
            "",
            "",
            "",
            "",
            "",
            "",
            "",
            "",
            "",
            "",
            "",
            "",
            "",
            "",
            "",
            "",
            "",
            "",
            "",
            "",
            "",
            "",
            "",
            "",
            "",
            "",
            "",
            "",
            "",
            "",
            "",
            "",
            "",
            "",
            "",
            ""
           ],
           [
            "",
            "",
            "",
            "",
            "",
            "",
            "",
            "",
            "",
            "",
            "",
            "",
            "",
            "",
            "",
            "",
            "",
            "",
            "",
            "",
            "",
            "",
            "",
            "",
            "",
            "",
            "",
            "",
            "",
            "",
            "",
            "",
            "",
            "",
            "",
            "",
            "",
            "",
            "",
            "",
            "",
            "",
            "",
            "",
            "",
            "",
            "",
            "",
            "",
            "",
            "",
            "",
            "",
            "",
            "",
            "",
            "",
            "",
            "",
            "",
            "",
            "",
            "",
            "",
            "",
            "",
            "",
            "",
            "",
            "",
            "",
            "",
            "",
            "",
            "",
            "",
            "",
            "",
            "",
            "",
            "",
            "",
            "",
            "",
            "",
            "",
            "",
            "",
            "",
            "",
            "",
            "",
            "",
            "",
            "",
            "",
            "",
            "",
            "",
            "",
            "",
            "",
            "",
            "",
            "",
            "",
            "",
            "",
            "",
            "",
            "",
            "",
            "",
            "",
            "",
            "",
            "",
            "",
            "",
            "",
            "",
            "",
            "",
            "",
            "",
            "",
            "",
            "",
            "",
            "",
            "",
            "",
            "",
            "",
            "",
            "",
            "",
            "",
            "",
            "",
            "",
            "",
            "",
            "",
            "",
            "",
            "",
            "",
            "",
            "",
            "",
            "",
            "",
            "",
            "",
            "",
            "",
            "",
            "",
            "",
            "",
            "",
            "",
            "",
            "",
            "",
            "",
            "",
            "",
            "",
            "",
            "",
            "",
            "",
            "",
            "",
            "",
            "",
            "",
            "",
            "",
            "",
            "",
            "",
            "",
            "",
            "",
            "",
            "",
            "",
            "",
            "",
            "",
            "",
            "",
            "",
            "",
            "",
            "",
            "",
            "",
            "",
            "",
            "",
            "",
            "",
            "",
            "",
            "",
            "",
            "",
            "",
            "",
            "",
            "",
            "",
            "",
            "",
            "",
            "",
            "",
            "",
            "",
            "",
            "",
            "",
            "",
            "",
            "",
            ""
           ]
          ]
         },
         "header": {
          "align": "left",
          "fill": {
           "color": "paleturquoise"
          },
          "values": [
           "Cycle",
           "Equity",
           "WETH",
           "CRV",
           "SUSHI",
           "UNI",
           "AAVE",
           "WMATIC",
           "Cake",
           "WBNB",
           "JOE",
           "WAVAX"
          ]
         },
         "type": "table"
        }
       ],
       "layout": {
        "template": {
         "data": {
          "bar": [
           {
            "error_x": {
             "color": "#2a3f5f"
            },
            "error_y": {
             "color": "#2a3f5f"
            },
            "marker": {
             "line": {
              "color": "#E5ECF6",
              "width": 0.5
             },
             "pattern": {
              "fillmode": "overlay",
              "size": 10,
              "solidity": 0.2
             }
            },
            "type": "bar"
           }
          ],
          "barpolar": [
           {
            "marker": {
             "line": {
              "color": "#E5ECF6",
              "width": 0.5
             },
             "pattern": {
              "fillmode": "overlay",
              "size": 10,
              "solidity": 0.2
             }
            },
            "type": "barpolar"
           }
          ],
          "carpet": [
           {
            "aaxis": {
             "endlinecolor": "#2a3f5f",
             "gridcolor": "white",
             "linecolor": "white",
             "minorgridcolor": "white",
             "startlinecolor": "#2a3f5f"
            },
            "baxis": {
             "endlinecolor": "#2a3f5f",
             "gridcolor": "white",
             "linecolor": "white",
             "minorgridcolor": "white",
             "startlinecolor": "#2a3f5f"
            },
            "type": "carpet"
           }
          ],
          "choropleth": [
           {
            "colorbar": {
             "outlinewidth": 0,
             "ticks": ""
            },
            "type": "choropleth"
           }
          ],
          "contour": [
           {
            "colorbar": {
             "outlinewidth": 0,
             "ticks": ""
            },
            "colorscale": [
             [
              0,
              "#0d0887"
             ],
             [
              0.1111111111111111,
              "#46039f"
             ],
             [
              0.2222222222222222,
              "#7201a8"
             ],
             [
              0.3333333333333333,
              "#9c179e"
             ],
             [
              0.4444444444444444,
              "#bd3786"
             ],
             [
              0.5555555555555556,
              "#d8576b"
             ],
             [
              0.6666666666666666,
              "#ed7953"
             ],
             [
              0.7777777777777778,
              "#fb9f3a"
             ],
             [
              0.8888888888888888,
              "#fdca26"
             ],
             [
              1,
              "#f0f921"
             ]
            ],
            "type": "contour"
           }
          ],
          "contourcarpet": [
           {
            "colorbar": {
             "outlinewidth": 0,
             "ticks": ""
            },
            "type": "contourcarpet"
           }
          ],
          "heatmap": [
           {
            "colorbar": {
             "outlinewidth": 0,
             "ticks": ""
            },
            "colorscale": [
             [
              0,
              "#0d0887"
             ],
             [
              0.1111111111111111,
              "#46039f"
             ],
             [
              0.2222222222222222,
              "#7201a8"
             ],
             [
              0.3333333333333333,
              "#9c179e"
             ],
             [
              0.4444444444444444,
              "#bd3786"
             ],
             [
              0.5555555555555556,
              "#d8576b"
             ],
             [
              0.6666666666666666,
              "#ed7953"
             ],
             [
              0.7777777777777778,
              "#fb9f3a"
             ],
             [
              0.8888888888888888,
              "#fdca26"
             ],
             [
              1,
              "#f0f921"
             ]
            ],
            "type": "heatmap"
           }
          ],
          "heatmapgl": [
           {
            "colorbar": {
             "outlinewidth": 0,
             "ticks": ""
            },
            "colorscale": [
             [
              0,
              "#0d0887"
             ],
             [
              0.1111111111111111,
              "#46039f"
             ],
             [
              0.2222222222222222,
              "#7201a8"
             ],
             [
              0.3333333333333333,
              "#9c179e"
             ],
             [
              0.4444444444444444,
              "#bd3786"
             ],
             [
              0.5555555555555556,
              "#d8576b"
             ],
             [
              0.6666666666666666,
              "#ed7953"
             ],
             [
              0.7777777777777778,
              "#fb9f3a"
             ],
             [
              0.8888888888888888,
              "#fdca26"
             ],
             [
              1,
              "#f0f921"
             ]
            ],
            "type": "heatmapgl"
           }
          ],
          "histogram": [
           {
            "marker": {
             "pattern": {
              "fillmode": "overlay",
              "size": 10,
              "solidity": 0.2
             }
            },
            "type": "histogram"
           }
          ],
          "histogram2d": [
           {
            "colorbar": {
             "outlinewidth": 0,
             "ticks": ""
            },
            "colorscale": [
             [
              0,
              "#0d0887"
             ],
             [
              0.1111111111111111,
              "#46039f"
             ],
             [
              0.2222222222222222,
              "#7201a8"
             ],
             [
              0.3333333333333333,
              "#9c179e"
             ],
             [
              0.4444444444444444,
              "#bd3786"
             ],
             [
              0.5555555555555556,
              "#d8576b"
             ],
             [
              0.6666666666666666,
              "#ed7953"
             ],
             [
              0.7777777777777778,
              "#fb9f3a"
             ],
             [
              0.8888888888888888,
              "#fdca26"
             ],
             [
              1,
              "#f0f921"
             ]
            ],
            "type": "histogram2d"
           }
          ],
          "histogram2dcontour": [
           {
            "colorbar": {
             "outlinewidth": 0,
             "ticks": ""
            },
            "colorscale": [
             [
              0,
              "#0d0887"
             ],
             [
              0.1111111111111111,
              "#46039f"
             ],
             [
              0.2222222222222222,
              "#7201a8"
             ],
             [
              0.3333333333333333,
              "#9c179e"
             ],
             [
              0.4444444444444444,
              "#bd3786"
             ],
             [
              0.5555555555555556,
              "#d8576b"
             ],
             [
              0.6666666666666666,
              "#ed7953"
             ],
             [
              0.7777777777777778,
              "#fb9f3a"
             ],
             [
              0.8888888888888888,
              "#fdca26"
             ],
             [
              1,
              "#f0f921"
             ]
            ],
            "type": "histogram2dcontour"
           }
          ],
          "mesh3d": [
           {
            "colorbar": {
             "outlinewidth": 0,
             "ticks": ""
            },
            "type": "mesh3d"
           }
          ],
          "parcoords": [
           {
            "line": {
             "colorbar": {
              "outlinewidth": 0,
              "ticks": ""
             }
            },
            "type": "parcoords"
           }
          ],
          "pie": [
           {
            "automargin": true,
            "type": "pie"
           }
          ],
          "scatter": [
           {
            "fillpattern": {
             "fillmode": "overlay",
             "size": 10,
             "solidity": 0.2
            },
            "type": "scatter"
           }
          ],
          "scatter3d": [
           {
            "line": {
             "colorbar": {
              "outlinewidth": 0,
              "ticks": ""
             }
            },
            "marker": {
             "colorbar": {
              "outlinewidth": 0,
              "ticks": ""
             }
            },
            "type": "scatter3d"
           }
          ],
          "scattercarpet": [
           {
            "marker": {
             "colorbar": {
              "outlinewidth": 0,
              "ticks": ""
             }
            },
            "type": "scattercarpet"
           }
          ],
          "scattergeo": [
           {
            "marker": {
             "colorbar": {
              "outlinewidth": 0,
              "ticks": ""
             }
            },
            "type": "scattergeo"
           }
          ],
          "scattergl": [
           {
            "marker": {
             "colorbar": {
              "outlinewidth": 0,
              "ticks": ""
             }
            },
            "type": "scattergl"
           }
          ],
          "scattermapbox": [
           {
            "marker": {
             "colorbar": {
              "outlinewidth": 0,
              "ticks": ""
             }
            },
            "type": "scattermapbox"
           }
          ],
          "scatterpolar": [
           {
            "marker": {
             "colorbar": {
              "outlinewidth": 0,
              "ticks": ""
             }
            },
            "type": "scatterpolar"
           }
          ],
          "scatterpolargl": [
           {
            "marker": {
             "colorbar": {
              "outlinewidth": 0,
              "ticks": ""
             }
            },
            "type": "scatterpolargl"
           }
          ],
          "scatterternary": [
           {
            "marker": {
             "colorbar": {
              "outlinewidth": 0,
              "ticks": ""
             }
            },
            "type": "scatterternary"
           }
          ],
          "surface": [
           {
            "colorbar": {
             "outlinewidth": 0,
             "ticks": ""
            },
            "colorscale": [
             [
              0,
              "#0d0887"
             ],
             [
              0.1111111111111111,
              "#46039f"
             ],
             [
              0.2222222222222222,
              "#7201a8"
             ],
             [
              0.3333333333333333,
              "#9c179e"
             ],
             [
              0.4444444444444444,
              "#bd3786"
             ],
             [
              0.5555555555555556,
              "#d8576b"
             ],
             [
              0.6666666666666666,
              "#ed7953"
             ],
             [
              0.7777777777777778,
              "#fb9f3a"
             ],
             [
              0.8888888888888888,
              "#fdca26"
             ],
             [
              1,
              "#f0f921"
             ]
            ],
            "type": "surface"
           }
          ],
          "table": [
           {
            "cells": {
             "fill": {
              "color": "#EBF0F8"
             },
             "line": {
              "color": "white"
             }
            },
            "header": {
             "fill": {
              "color": "#C8D4E3"
             },
             "line": {
              "color": "white"
             }
            },
            "type": "table"
           }
          ]
         },
         "layout": {
          "annotationdefaults": {
           "arrowcolor": "#2a3f5f",
           "arrowhead": 0,
           "arrowwidth": 1
          },
          "autotypenumbers": "strict",
          "coloraxis": {
           "colorbar": {
            "outlinewidth": 0,
            "ticks": ""
           }
          },
          "colorscale": {
           "diverging": [
            [
             0,
             "#8e0152"
            ],
            [
             0.1,
             "#c51b7d"
            ],
            [
             0.2,
             "#de77ae"
            ],
            [
             0.3,
             "#f1b6da"
            ],
            [
             0.4,
             "#fde0ef"
            ],
            [
             0.5,
             "#f7f7f7"
            ],
            [
             0.6,
             "#e6f5d0"
            ],
            [
             0.7,
             "#b8e186"
            ],
            [
             0.8,
             "#7fbc41"
            ],
            [
             0.9,
             "#4d9221"
            ],
            [
             1,
             "#276419"
            ]
           ],
           "sequential": [
            [
             0,
             "#0d0887"
            ],
            [
             0.1111111111111111,
             "#46039f"
            ],
            [
             0.2222222222222222,
             "#7201a8"
            ],
            [
             0.3333333333333333,
             "#9c179e"
            ],
            [
             0.4444444444444444,
             "#bd3786"
            ],
            [
             0.5555555555555556,
             "#d8576b"
            ],
            [
             0.6666666666666666,
             "#ed7953"
            ],
            [
             0.7777777777777778,
             "#fb9f3a"
            ],
            [
             0.8888888888888888,
             "#fdca26"
            ],
            [
             1,
             "#f0f921"
            ]
           ],
           "sequentialminus": [
            [
             0,
             "#0d0887"
            ],
            [
             0.1111111111111111,
             "#46039f"
            ],
            [
             0.2222222222222222,
             "#7201a8"
            ],
            [
             0.3333333333333333,
             "#9c179e"
            ],
            [
             0.4444444444444444,
             "#bd3786"
            ],
            [
             0.5555555555555556,
             "#d8576b"
            ],
            [
             0.6666666666666666,
             "#ed7953"
            ],
            [
             0.7777777777777778,
             "#fb9f3a"
            ],
            [
             0.8888888888888888,
             "#fdca26"
            ],
            [
             1,
             "#f0f921"
            ]
           ]
          },
          "colorway": [
           "#636efa",
           "#EF553B",
           "#00cc96",
           "#ab63fa",
           "#FFA15A",
           "#19d3f3",
           "#FF6692",
           "#B6E880",
           "#FF97FF",
           "#FECB52"
          ],
          "font": {
           "color": "#2a3f5f"
          },
          "geo": {
           "bgcolor": "white",
           "lakecolor": "white",
           "landcolor": "#E5ECF6",
           "showlakes": true,
           "showland": true,
           "subunitcolor": "white"
          },
          "hoverlabel": {
           "align": "left"
          },
          "hovermode": "closest",
          "mapbox": {
           "style": "light"
          },
          "paper_bgcolor": "white",
          "plot_bgcolor": "#E5ECF6",
          "polar": {
           "angularaxis": {
            "gridcolor": "white",
            "linecolor": "white",
            "ticks": ""
           },
           "bgcolor": "#E5ECF6",
           "radialaxis": {
            "gridcolor": "white",
            "linecolor": "white",
            "ticks": ""
           }
          },
          "scene": {
           "xaxis": {
            "backgroundcolor": "#E5ECF6",
            "gridcolor": "white",
            "gridwidth": 2,
            "linecolor": "white",
            "showbackground": true,
            "ticks": "",
            "zerolinecolor": "white"
           },
           "yaxis": {
            "backgroundcolor": "#E5ECF6",
            "gridcolor": "white",
            "gridwidth": 2,
            "linecolor": "white",
            "showbackground": true,
            "ticks": "",
            "zerolinecolor": "white"
           },
           "zaxis": {
            "backgroundcolor": "#E5ECF6",
            "gridcolor": "white",
            "gridwidth": 2,
            "linecolor": "white",
            "showbackground": true,
            "ticks": "",
            "zerolinecolor": "white"
           }
          },
          "shapedefaults": {
           "line": {
            "color": "#2a3f5f"
           }
          },
          "ternary": {
           "aaxis": {
            "gridcolor": "white",
            "linecolor": "white",
            "ticks": ""
           },
           "baxis": {
            "gridcolor": "white",
            "linecolor": "white",
            "ticks": ""
           },
           "bgcolor": "#E5ECF6",
           "caxis": {
            "gridcolor": "white",
            "linecolor": "white",
            "ticks": ""
           }
          },
          "title": {
           "x": 0.05
          },
          "xaxis": {
           "automargin": true,
           "gridcolor": "white",
           "linecolor": "white",
           "ticks": "",
           "title": {
            "standoff": 15
           },
           "zerolinecolor": "white",
           "zerolinewidth": 2
          },
          "yaxis": {
           "automargin": true,
           "gridcolor": "white",
           "linecolor": "white",
           "ticks": "",
           "title": {
            "standoff": 15
           },
           "zerolinecolor": "white",
           "zerolinewidth": 2
          }
         }
        }
       }
      }
     },
     "metadata": {},
     "output_type": "display_data"
    }
   ],
   "source": [
    "from tradeexecutor.analysis.alpha_model_analyser import render_alpha_model_plotly_table, create_alpha_model_timeline_all_assets\n",
    "\n",
    "timeline = create_alpha_model_timeline_all_assets(state, universe, new_line=\"<br>\")\n",
    "figure, table = render_alpha_model_plotly_table(timeline)\n",
    "\n",
    "display(figure)"
   ]
  },
  {
   "cell_type": "markdown",
   "metadata": {},
   "source": [
    "## Finishing notes\n",
    "\n",
    "Print out a line to signal the notebook finished the execution successfully."
   ]
  },
  {
   "cell_type": "code",
   "execution_count": 33,
   "metadata": {
    "collapsed": false,
    "jupyter": {
     "outputs_hidden": false
    },
    "pycharm": {
     "is_executing": true
    }
   },
   "outputs": [
    {
     "name": "stdout",
     "output_type": "stream",
     "text": [
      "All ok\n"
     ]
    }
   ],
   "source": [
    "print(\"All ok\")"
   ]
  },
  {
   "cell_type": "code",
   "execution_count": null,
   "metadata": {
    "collapsed": false,
    "jupyter": {
     "outputs_hidden": false
    },
    "pycharm": {
     "is_executing": true
    }
   },
   "outputs": [],
   "source": []
  }
 ],
 "metadata": {
  "kernelspec": {
   "display_name": "trade-executor-8Oz1GdY1-py3.10",
   "language": "python",
   "name": "python3"
  },
  "language_info": {
   "codemirror_mode": {
    "name": "ipython",
    "version": 3
   },
   "file_extension": ".py",
   "mimetype": "text/x-python",
   "name": "python",
   "nbconvert_exporter": "python",
   "pygments_lexer": "ipython3",
   "version": "3.10.10"
  },
  "vscode": {
   "interpreter": {
    "hash": "7adede735167b7e67e1575a49b63099e273f8f003d80ae98ec60bd132e113570"
   }
  }
 },
 "nbformat": 4,
 "nbformat_minor": 4
}
