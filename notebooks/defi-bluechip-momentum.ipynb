{
 "cells": [
  {
   "attachments": {},
   "cell_type": "markdown",
   "metadata": {},
   "source": [
    "# Portfolio construction model trading strategy example\n",
    "\n",
    "This is an example notebook how to construct a momentum based portfolio construction strategy\n",
    "using [Trading Strategy framework](https://tradingstrategy.ai/docs/) and backtest it for DeFi tokens.\n",
    "\n",
    "This backtest uses alpha model approach where each trading pair has a signal\n",
    "and basede on the signal strenghts we construct new portfolio weightings \n",
    "for the upcoming week.\n",
    "\n",
    "Some highlights of this notebook:\n",
    "\n",
    "* **Not a realistic trading strategy, but more of an code example** - this may generate profits or loss but this is outside the scode of this example\n",
    "* Make sure you have studied some simpler backtesting examples first\n",
    "* The backtest has all its code within a single Jupyter notebook\n",
    "    - The backtest code and charts are self-contained in a single file\n",
    "    - The example code is easy to read\n",
    "* Runs a backtest for a momentum strategy\n",
    "    - Uses handpicked \"DeFi bluechip tokens\" - see *Trading universe definition* for the list\n",
    "    - Long only    \n",
    "    - Pick top 3 tokens for each strategy cycle\n",
    "    - Trade across multiple blockchains\n",
    "    - Trade across multiple DEXes\n",
    "    - Based on momentum (previous week price change %)\n",
    "    - Weekly rebalances - weekly strategy cycle\n",
    "    - Supports stop loss - although not used in this example\n",
    "    - Ignore price impact, and thus may cause unrealistic results\n",
    "    - Ignore available liquidity to trade, and thus may cause unrealistic results\n",
    "    - Ignore any complications of trading assets cross chain - we assume our reserve currency USDC is good on any chain and DEX and trading pair,\n",
    "      which is not a realistic assumption\n",
    "* Demostrates statistics and performance analyses\n",
    "    - Equity curve with comparison to buy and hold ETH\n",
    "    - Alpha model \n",
    "    - Aggregated monthly performance\n",
    "* Order routing is ignored; the strategy cannot be moved to live trading as is\n",
    "    - We use the oldest available DEX price data we have: Uniswap v2, others\n",
    "    - For live trade execution, one would want to choose execution on a newer DEX with less fees\n",
    "* You need a [Trading Strategy API key](https://tradingstrategy.ai/trading-view/backtesting) to run the notebook\n",
    "\n",
    "There is also a unit test version availble in the repository in `tests/strategy_tests`.\n"
   ]
  },
  {
   "cell_type": "markdown",
   "metadata": {},
   "source": [
    "## Strategy parameter set up\n",
    "\n",
    "Set up the parameters used in in this strategy backtest study.\n",
    "\n",
    "- Backtested blockchain, exchange and trading pair\n",
    "- Backtesting period\n",
    "- Strategy parameters for EMA crossovers"
   ]
  },
  {
   "cell_type": "code",
   "execution_count": 1,
   "metadata": {
    "collapsed": false,
    "jupyter": {
     "outputs_hidden": false
    }
   },
   "outputs": [],
   "source": [
    "import datetime\n",
    "import pandas as pd\n",
    "\n",
    "from tradingstrategy.chain import ChainId\n",
    "from tradingstrategy.timebucket import TimeBucket\n",
    "from tradeexecutor.strategy.cycle import CycleDuration\n",
    "from tradeexecutor.strategy.strategy_module import StrategyType, TradeRouting, ReserveCurrency\n",
    "\n",
    "# Tell what trade execution engine version this strategy needs to use\n",
    "trading_strategy_engine_version = \"0.1\"\n",
    "\n",
    "# What kind of strategy we are running.\n",
    "# This tells we are going to use\n",
    "trading_strategy_type = StrategyType.managed_positions\n",
    "\n",
    "# How our trades are routed.\n",
    "# PancakeSwap basic routing supports two way trades with BUSD\n",
    "# and three way trades with BUSD-BNB hop.\n",
    "trade_routing = TradeRouting.ignore\n",
    "\n",
    "# Set cycle to 7 days and look back the momentum of the previous candle\n",
    "trading_strategy_cycle = CycleDuration.cycle_7d\n",
    "momentum_lookback_period = datetime.timedelta(days=7)\n",
    "\n",
    "# Hold top 3 coins for every cycle\n",
    "max_assets_in_portfolio = 3\n",
    "\n",
    "# Leave 20% cash buffer\n",
    "value_allocated_to_positions = 0.80\n",
    "\n",
    "# Set 5% midprice stop loss\n",
    "stop_loss = 0.95\n",
    "\n",
    "# Strategy keeps its cash in USDC\n",
    "reserve_currency = ReserveCurrency.usdc\n",
    "\n",
    "# The duration of the backtesting period\n",
    "start_at = datetime.datetime(2020, 11, 1)\n",
    "end_at = datetime.datetime(2023, 1, 31)\n",
    "\n",
    "# Start with 10,000 USD\n",
    "initial_deposit = 10_000\n"
   ]
  },
  {
   "cell_type": "markdown",
   "metadata": {},
   "source": [
    "## Strategy logic and trade decisions\n",
    "\n",
    "`decide_trades` function decide what trades to take.\n",
    "In this example, we calculate two exponential moving averages\n",
    "(EMAs) and make decisions based on those.\n"
   ]
  },
  {
   "cell_type": "code",
   "execution_count": 2,
   "metadata": {
    "collapsed": false,
    "jupyter": {
     "outputs_hidden": false
    }
   },
   "outputs": [],
   "source": [
    "from tradeexecutor.strategy.trading_strategy_universe import translate_trading_pair\n",
    "from typing import List, Dict, Counter\n",
    "\n",
    "from tradingstrategy.universe import Universe\n",
    "from tradeexecutor.strategy.weighting import weight_by_1_slash_n\n",
    "from tradeexecutor.strategy.alpha_model import AlphaModel\n",
    "from tradeexecutor.state.trade import TradeExecution\n",
    "from tradeexecutor.strategy.pricing_model import PricingModel\n",
    "from tradeexecutor.strategy.pandas_trader.position_manager import PositionManager\n",
    "from tradeexecutor.state.state import State\n",
    "\n",
    "\n",
    "def decide_trades(\n",
    "        timestamp: pd.Timestamp,\n",
    "        universe: Universe,\n",
    "        state: State,\n",
    "        pricing_model: PricingModel,\n",
    "        cycle_debug_data: Dict) -> List[TradeExecution]:\n",
    "\n",
    "    # Create a position manager helper class that allows us easily to create\n",
    "    # opening/closing trades for different positions\n",
    "    position_manager = PositionManager(timestamp, universe, state, pricing_model)\n",
    "\n",
    "    alpha_model = AlphaModel(timestamp)\n",
    "\n",
    "    # Watch out for the inclusive range and include and avoid peeking in the future\n",
    "    adjusted_timestamp = timestamp - pd.Timedelta(seconds=1)\n",
    "    start = adjusted_timestamp - momentum_lookback_period - datetime.timedelta(seconds=1)\n",
    "    end = adjusted_timestamp \n",
    "\n",
    "    candle_universe = universe.candles\n",
    "    pair_universe = universe.pairs\n",
    "\n",
    "    # Get candle data for all candles, inclusive time range\n",
    "    candle_data = candle_universe.iterate_samples_by_pair_range(start, end)\n",
    "\n",
    "    # Iterate over all candles for all pairs in this timestamp (ts)\n",
    "    for pair_id, pair_df in candle_data:\n",
    "\n",
    "        # We should have candles for range start - end,\n",
    "        # where end is the current strategy cycle timestamp \n",
    "        # and start is one week before end.\n",
    "        # Because of sparse data we may have 0, 1 or 2 candles\n",
    "        first_candle = pair_df.iloc[0]\n",
    "        last_candle = pair_df.iloc[-1]\n",
    "\n",
    "        # How many candles we are going to evaluate\n",
    "        candle_count = len(pair_df)\n",
    "\n",
    "        assert last_candle[\"timestamp\"] < timestamp, \"Something wrong with the data - we should not be able to peek the candle of the current timestamp, but always use the previous candle\"\n",
    "\n",
    "        open = last_candle[\"open\"]\n",
    "        close = last_candle[\"close\"]\n",
    "\n",
    "        # DEXPair instance contains more data than internal TradingPairIdentifier\n",
    "        # we use to store this pair across the strategy\n",
    "        dex_pair = pair_universe.get_pair_by_id(pair_id)\n",
    "        pair = translate_trading_pair(dex_pair)\n",
    "\n",
    "        # We define momentum as how many % the trading pair price gained during\n",
    "        # the momentum window\n",
    "        momentum = (close - open) / open\n",
    "        momentum = max(0, momentum)\n",
    "\n",
    "        # This pair has not positive momentum,\n",
    "        # we only buy when stuff goes up\n",
    "        if momentum <= 0:\n",
    "            continue\n",
    "\n",
    "        alpha_model.set_signal(\n",
    "            pair,\n",
    "            momentum,\n",
    "            stop_loss=stop_loss,\n",
    "        )\n",
    "\n",
    "    # Select max_assets_in_portfolio assets in which we are going to invest\n",
    "    # Calculate a weight for ecah asset in the portfolio using 1/N method based on the raw signal\n",
    "    alpha_model.select_top_signals(max_assets_in_portfolio)\n",
    "    alpha_model.assign_weights(method=weight_by_1_slash_n)\n",
    "    alpha_model.normalise_weights()\n",
    "\n",
    "    # Load in old weight for each trading pair signal,\n",
    "    # so we can calculate the adjustment trade size\n",
    "    alpha_model.update_old_weights(state.portfolio)\n",
    "\n",
    "    # Calculate how much dollar value we want each individual position to be on this strategy cycle,\n",
    "    # based on our total available equity\n",
    "    portfolio = position_manager.get_current_portfolio()\n",
    "    portfolio_target_value = portfolio.get_total_equity() * value_allocated_to_positions\n",
    "    alpha_model.calculate_target_positions(portfolio_target_value)\n",
    "\n",
    "    # Shift portfolio from current positions to target positions\n",
    "    # determined by the alpha signals (momentum)\n",
    "    trades = alpha_model.generate_adjustment_trades_and_update_stop_losses(position_manager)\n",
    "\n",
    "    # Record alpha model state so we can later visualise our alpha model thinking better\n",
    "    state.visualisation.add_calculations(timestamp, alpha_model.to_dict())\n",
    "\n",
    "    return trades\n"
   ]
  },
  {
   "cell_type": "markdown",
   "metadata": {},
   "source": [
    "## Trading universe definition\n",
    "\n",
    "We create a trading universe with a single blockchain, exchange and trading pair.\n",
    "For the sake of easier understanding the code, we name this \"Uniswap v2\" like exchange with a single ETH-USDC trading pair.\n",
    "\n",
    "The trading pair contains generated noise-like OHLCV trading data."
   ]
  },
  {
   "cell_type": "code",
   "execution_count": 3,
   "metadata": {
    "collapsed": false,
    "jupyter": {
     "outputs_hidden": false
    }
   },
   "outputs": [],
   "source": [
    "from tradeexecutor.strategy.trading_strategy_universe import load_all_data, TradingStrategyUniverse\n",
    "from tradeexecutor.strategy.execution_context import ExecutionContext\n",
    "from tradeexecutor.strategy.universe_model import UniverseOptions\n",
    "from tradingstrategy.client import Client\n",
    "import datetime\n",
    "\n",
    "\n",
    "# List of trading pairs that we consider \"DeFi blueschips\" for this strategy\n",
    "# For token ordering, wrappign see https://tradingstrategy.ai/docs/programming/market-data/trading-pairs.html\n",
    "pairs = (\n",
    "    (ChainId.ethereum, \"uniswap-v2\", \"WETH\", \"USDC\"),  # ETH\n",
    "    (ChainId.ethereum, \"uniswap-v2\", \"AAVE\", \"WETH\"),  # AAVE\n",
    "    (ChainId.ethereum, \"uniswap-v2\", \"UNI\", \"WETH\"),  # UNI\n",
    "    (ChainId.ethereum, \"uniswap-v2\", \"CRV\", \"WETH\"),  # Curve\n",
    "    (ChainId.ethereum, \"sushi\", \"SUSHI\", \"WETH\"),  # Sushi\n",
    "    (ChainId.bsc, \"pancakeswap-v2\", \"WBNB\", \"BUSD\"),  # BNB\n",
    "    (ChainId.bsc, \"pancakeswap-v2\", \"Cake\", \"BUSD\"),  # Cake\n",
    "    (ChainId.polygon, \"quickswap\", \"WMATIC\", \"USDC\"),  # Matic\n",
    "    (ChainId.avalanche, \"trader-joe\", \"WAVAX\", \"USDC\"),  # Avax\n",
    "    (ChainId.avalanche, \"trader-joe\", \"JOE\", \"WAVAX\"),  # TraderJoe\n",
    ")\n",
    "\n",
    "\n",
    "def create_trading_universe(\n",
    "        ts: datetime.datetime,\n",
    "        client: Client,\n",
    "        execution_context: ExecutionContext,\n",
    "        universe_options: UniverseOptions,\n",
    ") -> TradingStrategyUniverse:\n",
    "\n",
    "    assert not execution_context.mode.is_live_trading(), \\\n",
    "        f\"Only strategy backtesting supported, got {execution_context.mode}\"\n",
    "\n",
    "    # Load all datas we can get for our candle time bucket\n",
    "    dataset = load_all_data(\n",
    "        client,\n",
    "        trading_strategy_cycle.to_timebucket(),\n",
    "        execution_context,\n",
    "        universe_options,\n",
    "        with_liquidity=False,\n",
    "    )\n",
    "\n",
    "    # Filter down the dataset to the pairs we specified\n",
    "    universe = TradingStrategyUniverse.create_multichain_universe_by_pair_descriptions(\n",
    "        dataset,\n",
    "        pairs,\n",
    "        reserve_token_symbol=\"USDC\"  # Pick any USDC - does not matter as we do not route\n",
    "    )\n",
    "\n",
    "    return universe\n"
   ]
  },
  {
   "cell_type": "markdown",
   "metadata": {},
   "source": [
    "## Set up the market data client\n",
    "\n",
    "The [Trading Strategy market data client](https://tradingstrategy.ai/docs/programming/api/client/index.html)\n",
    "is the Python library responsible for managing the data feeds needed to run the backtest.None\n",
    "\n",
    "We set up the market data client with an API key.\n",
    "\n",
    "[If you do not have an API key yet, you can register one](https://tradingstrategy.ai/trading-view/backtesting)."
   ]
  },
  {
   "cell_type": "code",
   "execution_count": 4,
   "metadata": {
    "collapsed": false,
    "jupyter": {
     "outputs_hidden": false
    }
   },
   "outputs": [
    {
     "name": "stdout",
     "output_type": "stream",
     "text": [
      "Started Trading Strategy in Jupyter notebook environment, configuration is stored in /Users/moo/.tradingstrategy\n"
     ]
    }
   ],
   "source": [
    "from tradingstrategy.client import Client\n",
    "\n",
    "client = Client.create_jupyter_client()"
   ]
  },
  {
   "cell_type": "markdown",
   "metadata": {},
   "source": [
    "## Run backtest\n",
    "\n",
    "Run backtest using giving trading universe and strategy function.\n",
    "\n",
    "- Running the backtest outputs `state` object that contains all the information\n",
    "on the backtesting position and trades.\n",
    "- The trade execution engine will download the necessary datasets to run the backtest.\n",
    "  The datasets may be large, several gigabytes.\n"
   ]
  },
  {
   "cell_type": "code",
   "execution_count": 5,
   "metadata": {
    "collapsed": false,
    "jupyter": {
     "outputs_hidden": false
    }
   },
   "outputs": [
    {
     "data": {
      "application/vnd.jupyter.widget-view+json": {
       "model_id": "5735637be7f1441faf506e46215ba456",
       "version_major": 2,
       "version_minor": 0
      },
      "text/plain": [
       "  0%|          | 0/70934400 [00:00<?, ?it/s]"
      ]
     },
     "metadata": {},
     "output_type": "display_data"
    },
    {
     "name": "stdout",
     "output_type": "stream",
     "text": [
      "Backtesting completed, backtested strategy made 388 trades\n"
     ]
    }
   ],
   "source": [
    "import logging\n",
    "\n",
    "from tradeexecutor.backtest.backtest_runner import run_backtest_inline\n",
    "\n",
    "state, universe, debug_dump = run_backtest_inline(\n",
    "    name=\"DeFi bluechip portfolio construction model example\",\n",
    "    start_at=start_at,\n",
    "    end_at=end_at,\n",
    "    client=client,\n",
    "    cycle_duration=trading_strategy_cycle,\n",
    "    decide_trades=decide_trades,\n",
    "    create_trading_universe=create_trading_universe,\n",
    "    initial_deposit=initial_deposit,\n",
    "    reserve_currency=reserve_currency,\n",
    "    trade_routing=trade_routing,\n",
    "    log_level=logging.WARNING,\n",
    ")\n",
    "\n",
    "trade_count = len(list(state.portfolio.get_all_trades()))\n",
    "print(f\"Backtesting completed, backtested strategy made {trade_count} trades\")"
   ]
  },
  {
   "cell_type": "markdown",
   "metadata": {},
   "source": [
    "## Examine backtest results\n",
    "\n",
    "Examine `state` that contains all actions the trade executor took.\n",
    "\n",
    "We plot out a chart that shows\n",
    "- The price action\n",
    "- When the strategy made buys or sells"
   ]
  },
  {
   "cell_type": "code",
   "execution_count": 6,
   "metadata": {
    "collapsed": false,
    "jupyter": {
     "outputs_hidden": false
    }
   },
   "outputs": [
    {
     "name": "stdout",
     "output_type": "stream",
     "text": [
      "Positions taken: 134\n",
      "Trades made: 388\n"
     ]
    }
   ],
   "source": [
    "print(f\"Positions taken: {len(list(state.portfolio.get_all_positions()))}\")\n",
    "print(f\"Trades made: {len(list(state.portfolio.get_all_trades()))}\")"
   ]
  },
  {
   "cell_type": "markdown",
   "metadata": {
    "collapsed": false
   },
   "source": []
  },
  {
   "cell_type": "markdown",
   "metadata": {},
   "source": [
    "## Benchmarking the strategy performance\n",
    "\n",
    "Here we benchmark the strategy performance against some baseline scenarios.\n",
    "\n",
    "- Buy and hold ETH\n",
    "- Buy and hold US Dollar (do nothing)\n"
   ]
  },
  {
   "cell_type": "code",
   "execution_count": 7,
   "metadata": {
    "collapsed": false,
    "jupyter": {
     "outputs_hidden": false
    },
    "pycharm": {
     "is_executing": true
    }
   },
   "outputs": [
    {
     "data": {
      "application/vnd.plotly.v1+json": {
       "config": {
        "plotlyServerURL": "https://plot.ly"
       },
       "data": [
        {
         "line": {
          "color": "#008800"
         },
         "mode": "lines",
         "name": "DeFi bluechip portfolio construction model example",
         "type": "scatter",
         "x": [
          "2020-10-26T00:00:00",
          "2020-11-02T00:00:00",
          "2020-11-09T00:00:00",
          "2020-11-16T00:00:00",
          "2020-11-23T00:00:00",
          "2020-11-30T00:00:00",
          "2020-12-07T00:00:00",
          "2020-12-14T00:00:00",
          "2020-12-21T00:00:00",
          "2020-12-28T00:00:00",
          "2021-01-04T00:00:00",
          "2021-01-11T00:00:00",
          "2021-01-18T00:00:00",
          "2021-01-25T00:00:00",
          "2021-02-01T00:00:00",
          "2021-02-08T00:00:00",
          "2021-02-15T00:00:00",
          "2021-02-22T00:00:00",
          "2021-03-01T00:00:00",
          "2021-03-08T00:00:00",
          "2021-03-15T00:00:00",
          "2021-03-22T00:00:00",
          "2021-03-29T00:00:00",
          "2021-04-05T00:00:00",
          "2021-04-12T00:00:00",
          "2021-04-19T00:00:00",
          "2021-04-26T00:00:00",
          "2021-05-03T00:00:00",
          "2021-05-10T00:00:00",
          "2021-05-17T00:00:00",
          "2021-05-24T00:00:00",
          "2021-05-31T00:00:00",
          "2021-06-07T00:00:00",
          "2021-06-14T00:00:00",
          "2021-06-21T00:00:00",
          "2021-06-28T00:00:00",
          "2021-07-05T00:00:00",
          "2021-07-12T00:00:00",
          "2021-07-19T00:00:00",
          "2021-07-26T00:00:00",
          "2021-08-02T00:00:00",
          "2021-08-09T00:00:00",
          "2021-08-16T00:00:00",
          "2021-08-23T00:00:00",
          "2021-08-30T00:00:00",
          "2021-09-06T00:00:00",
          "2021-09-13T00:00:00",
          "2021-09-20T00:00:00",
          "2021-09-27T00:00:00",
          "2021-10-04T00:00:00",
          "2021-10-11T00:00:00",
          "2021-10-18T00:00:00",
          "2021-10-25T00:00:00",
          "2021-11-01T00:00:00",
          "2021-11-08T00:00:00",
          "2021-11-15T00:00:00",
          "2021-11-22T00:00:00",
          "2021-11-29T00:00:00",
          "2021-12-06T00:00:00",
          "2021-12-13T00:00:00",
          "2021-12-20T00:00:00",
          "2021-12-27T00:00:00",
          "2022-01-03T00:00:00",
          "2022-01-10T00:00:00",
          "2022-01-17T00:00:00",
          "2022-01-24T00:00:00",
          "2022-01-31T00:00:00",
          "2022-02-07T00:00:00",
          "2022-02-14T00:00:00",
          "2022-02-21T00:00:00",
          "2022-02-28T00:00:00",
          "2022-03-07T00:00:00",
          "2022-03-14T00:00:00",
          "2022-03-21T00:00:00",
          "2022-03-28T00:00:00",
          "2022-04-04T00:00:00",
          "2022-04-11T00:00:00",
          "2022-04-18T00:00:00",
          "2022-04-25T00:00:00",
          "2022-05-02T00:00:00",
          "2022-05-09T00:00:00",
          "2022-05-16T00:00:00",
          "2022-05-23T00:00:00",
          "2022-05-30T00:00:00",
          "2022-06-06T00:00:00",
          "2022-06-13T00:00:00",
          "2022-06-20T00:00:00",
          "2022-06-27T00:00:00",
          "2022-07-04T00:00:00",
          "2022-07-11T00:00:00",
          "2022-07-18T00:00:00",
          "2022-07-25T00:00:00",
          "2022-08-01T00:00:00",
          "2022-08-08T00:00:00",
          "2022-08-15T00:00:00",
          "2022-08-22T00:00:00",
          "2022-08-29T00:00:00",
          "2022-09-05T00:00:00",
          "2022-09-12T00:00:00",
          "2022-09-19T00:00:00",
          "2022-09-26T00:00:00",
          "2022-10-03T00:00:00",
          "2022-10-10T00:00:00",
          "2022-10-17T00:00:00",
          "2022-10-24T00:00:00",
          "2022-10-31T00:00:00",
          "2022-11-07T00:00:00",
          "2022-11-14T00:00:00",
          "2022-11-21T00:00:00",
          "2022-11-28T00:00:00",
          "2022-12-05T00:00:00",
          "2022-12-12T00:00:00",
          "2022-12-19T00:00:00",
          "2022-12-26T00:00:00",
          "2023-01-02T00:00:00",
          "2023-01-09T00:00:00",
          "2023-01-16T00:00:00",
          "2023-01-23T00:00:00",
          "2023-01-30T00:00:00"
         ],
         "y": [
          9952.143569292124,
          9076.585414512798,
          10140.806703795144,
          12939.405455234233,
          13476.99298409649,
          13261.028208790252,
          13585.7826407479,
          13178.896442522659,
          14504.356345992737,
          14805.550429875022,
          19847.342999263805,
          23600.707006622866,
          31683.920454273768,
          39533.10472547937,
          40603.08704296369,
          46296.36136418862,
          49606.60490415206,
          52152.88720158734,
          42908.28226475282,
          40846.31338863367,
          42534.0412821241,
          40614.0812103936,
          42336.95201706463,
          42815.18453927312,
          43148.428861190245,
          44336.919985435175,
          42879.18791068856,
          57076.19297238894,
          66987.32814198453,
          64075.95776930854,
          41854.562544513945,
          41654.26154729194,
          48711.95719610163,
          44341.18439537309,
          44341.18439537309,
          44341.18439537309,
          44128.98331352087,
          42237.566573156495,
          37537.97615233699,
          37358.33279687216,
          41023.31539189599,
          45234.80693777205,
          50935.24572435094,
          53501.40764034405,
          47129.46659574873,
          46642.71043020963,
          42372.24846130176,
          59974.96325526444,
          54767.638720329225,
          53665.98026071976,
          52459.781180987215,
          57630.27518700743,
          61414.25807326501,
          66378.712103531,
          69459.34992325258,
          67606.22031026534,
          62717.187083266086,
          46908.65631140309,
          45119.269735133035,
          45695.41505262131,
          47035.09813647164,
          61898.43545043723,
          62373.45573030159,
          50055.55087704634,
          49816.00287683715,
          37447.69996773417,
          37268.48864186666,
          41224.44958027422,
          37633.8551765005,
          37633.8551765005,
          37453.752978248056,
          34729.266412017874,
          31956.742950381806,
          40696.741421219405,
          46687.76975623483,
          49980.626790254886,
          44550.12847362038,
          44550.12847362038,
          44336.927459987906,
          35855.608322382,
          35684.016178865124,
          25133.965254262926,
          25013.68306760245,
          24760.442072460042,
          26126.516346955694,
          20535.218014133716,
          20436.943790337267,
          25909.1234550319,
          24529.138289174094,
          27911.0374625941,
          30930.439583333835,
          35175.70103877482,
          36405.814086935934,
          37128.742099318995,
          38972.90878990184,
          33406.43238277619,
          33406.43238277619,
          33246.56112112383,
          36052.88108853339,
          29523.013691622473,
          29381.727085720395,
          29805.06193763236,
          31256.538961480284,
          30786.15790815338,
          30141.200713830356,
          32552.202547128232,
          32526.80429577607,
          24841.469597857544,
          24722.587191008377,
          25880.762978226656,
          26896.507181149103,
          25661.449120737692,
          25661.449120737692,
          25538.64258456667,
          25152.037996378127,
          27239.127317369923,
          33098.14110380474,
          36050.46055963839,
          36399.724988536895
         ]
        },
        {
         "line": {
          "color": "#000088"
         },
         "mode": "lines",
         "name": "All cash",
         "type": "scatter",
         "x": [
          "2020-11-01T00:00:00",
          "2023-01-31T00:00:00"
         ],
         "y": [
          10000,
          10000
         ]
        },
        {
         "line": {
          "color": "#880000"
         },
         "mode": "lines",
         "name": "Buy and hold ETH",
         "type": "scatter",
         "x": [
          "2020-11-02T00:00:00",
          "2020-11-09T00:00:00",
          "2020-11-16T00:00:00",
          "2020-11-23T00:00:00",
          "2020-11-30T00:00:00",
          "2020-12-07T00:00:00",
          "2020-12-14T00:00:00",
          "2020-12-21T00:00:00",
          "2020-12-28T00:00:00",
          "2021-01-04T00:00:00",
          "2021-01-11T00:00:00",
          "2021-01-18T00:00:00",
          "2021-01-25T00:00:00",
          "2021-02-01T00:00:00",
          "2021-02-08T00:00:00",
          "2021-02-15T00:00:00",
          "2021-02-22T00:00:00",
          "2021-03-01T00:00:00",
          "2021-03-08T00:00:00",
          "2021-03-15T00:00:00",
          "2021-03-22T00:00:00",
          "2021-03-29T00:00:00",
          "2021-04-05T00:00:00",
          "2021-04-12T00:00:00",
          "2021-04-19T00:00:00",
          "2021-04-26T00:00:00",
          "2021-05-03T00:00:00",
          "2021-05-10T00:00:00",
          "2021-05-17T00:00:00",
          "2021-05-24T00:00:00",
          "2021-05-31T00:00:00",
          "2021-06-07T00:00:00",
          "2021-06-14T00:00:00",
          "2021-06-21T00:00:00",
          "2021-06-28T00:00:00",
          "2021-07-05T00:00:00",
          "2021-07-12T00:00:00",
          "2021-07-19T00:00:00",
          "2021-07-26T00:00:00",
          "2021-08-02T00:00:00",
          "2021-08-09T00:00:00",
          "2021-08-16T00:00:00",
          "2021-08-23T00:00:00",
          "2021-08-30T00:00:00",
          "2021-09-06T00:00:00",
          "2021-09-13T00:00:00",
          "2021-09-20T00:00:00",
          "2021-09-27T00:00:00",
          "2021-10-04T00:00:00",
          "2021-10-11T00:00:00",
          "2021-10-18T00:00:00",
          "2021-10-25T00:00:00",
          "2021-11-01T00:00:00",
          "2021-11-08T00:00:00",
          "2021-11-15T00:00:00",
          "2021-11-22T00:00:00",
          "2021-11-29T00:00:00",
          "2021-12-06T00:00:00",
          "2021-12-13T00:00:00",
          "2021-12-20T00:00:00",
          "2021-12-27T00:00:00",
          "2022-01-03T00:00:00",
          "2022-01-10T00:00:00",
          "2022-01-17T00:00:00",
          "2022-01-24T00:00:00",
          "2022-01-31T00:00:00",
          "2022-02-07T00:00:00",
          "2022-02-14T00:00:00",
          "2022-02-21T00:00:00",
          "2022-02-28T00:00:00",
          "2022-03-07T00:00:00",
          "2022-03-14T00:00:00",
          "2022-03-21T00:00:00",
          "2022-03-28T00:00:00",
          "2022-04-04T00:00:00",
          "2022-04-11T00:00:00",
          "2022-04-18T00:00:00",
          "2022-04-25T00:00:00",
          "2022-05-02T00:00:00",
          "2022-05-09T00:00:00",
          "2022-05-16T00:00:00",
          "2022-05-23T00:00:00",
          "2022-05-30T00:00:00",
          "2022-06-06T00:00:00",
          "2022-06-13T00:00:00",
          "2022-06-20T00:00:00",
          "2022-06-27T00:00:00",
          "2022-07-04T00:00:00",
          "2022-07-11T00:00:00",
          "2022-07-18T00:00:00",
          "2022-07-25T00:00:00",
          "2022-08-01T00:00:00",
          "2022-08-08T00:00:00",
          "2022-08-15T00:00:00",
          "2022-08-22T00:00:00",
          "2022-08-29T00:00:00",
          "2022-09-05T00:00:00",
          "2022-09-12T00:00:00",
          "2022-09-19T00:00:00",
          "2022-09-26T00:00:00",
          "2022-10-03T00:00:00",
          "2022-10-10T00:00:00",
          "2022-10-17T00:00:00",
          "2022-10-24T00:00:00",
          "2022-10-31T00:00:00",
          "2022-11-07T00:00:00",
          "2022-11-14T00:00:00",
          "2022-11-21T00:00:00",
          "2022-11-28T00:00:00",
          "2022-12-05T00:00:00",
          "2022-12-12T00:00:00",
          "2022-12-19T00:00:00",
          "2022-12-26T00:00:00",
          "2023-01-02T00:00:00",
          "2023-01-09T00:00:00",
          "2023-01-16T00:00:00",
          "2023-01-23T00:00:00",
          "2023-01-30T00:00:00"
         ],
         "y": [
          10000,
          9842.078125,
          12281.6484375,
          12592.8173828125,
          13217.3955078125,
          12903.9169921875,
          13956.431640625,
          14998.6298828125,
          21438.326171875,
          27590.8125,
          26976.244140625,
          30586.529296875,
          28742.0859375,
          35528.7890625,
          39672,
          42275.41015625,
          31144.587890625,
          37888.37890625,
          40594.19921875,
          39091.03125,
          36963.44921875,
          45229.70703125,
          47036.4609375,
          49033.83203125,
          50733.83203125,
          64665.28125,
          85962.4453125,
          78551.8515625,
          46133.16796875,
          52429.26953125,
          59330.671875,
          54969.19140625,
          49108.203125,
          43376.88671875,
          51043.78515625,
          46964.72265625,
          41604.828125,
          48013.9765625,
          56241.8125,
          66051.109375,
          72484.4921875,
          71171.328125,
          70893.3828125,
          86653.2578125,
          74735.296875,
          72712.2578125,
          67032.2734375,
          74854,
          74973.8359375,
          84441.078125,
          89498.3828125,
          94543.7265625,
          100815.5546875,
          101121.3125,
          93681.296875,
          94121.8984375,
          91853.2578125,
          90672.171875,
          86167.28125,
          89098.9375,
          84074.6640625,
          68804,
          73420.203125,
          55570.12109375,
          57208.3125,
          67190.6875,
          63012.68359375,
          57690.078125,
          57411.0234375,
          55915.5859375,
          55136.80859375,
          62687.390625,
          72286.3203125,
          77221.3203125,
          70327.375,
          65459.01171875,
          64211.4609375,
          61949.6015625,
          55168.37109375,
          46999.453125,
          44886.99609375,
          39769.1640625,
          39607.59765625,
          31377.3046875,
          24659.30078125,
          26288.310546875,
          23516.169921875,
          25565.646484375,
          29367.7421875,
          35043.92578125,
          36914.20703125,
          37245.7890625,
          42431.42578125,
          35547.25,
          31396.01953125,
          34545.3828125,
          38624.234375,
          29226.91796875,
          28370.921875,
          27994.470703125,
          28948.61328125,
          28641.921875,
          29919.181640625,
          34856.54296875,
          34461.4453125,
          26750.1015625,
          25009.53515625,
          26173.61328125,
          28082.662109375,
          27732.224609375,
          25977.53515625,
          26689.080078125,
          26342.390625,
          28271.56640625,
          34046.2109375,
          35721.8828125,
          36119.5546875,
          35762.74609375
         ]
        }
       ],
       "layout": {
        "height": 1200,
        "legend": {
         "orientation": "h",
         "x": 1,
         "xanchor": "right",
         "y": 1.02,
         "yanchor": "bottom"
        },
        "template": {
         "data": {
          "bar": [
           {
            "error_x": {
             "color": "#2a3f5f"
            },
            "error_y": {
             "color": "#2a3f5f"
            },
            "marker": {
             "line": {
              "color": "#E5ECF6",
              "width": 0.5
             },
             "pattern": {
              "fillmode": "overlay",
              "size": 10,
              "solidity": 0.2
             }
            },
            "type": "bar"
           }
          ],
          "barpolar": [
           {
            "marker": {
             "line": {
              "color": "#E5ECF6",
              "width": 0.5
             },
             "pattern": {
              "fillmode": "overlay",
              "size": 10,
              "solidity": 0.2
             }
            },
            "type": "barpolar"
           }
          ],
          "carpet": [
           {
            "aaxis": {
             "endlinecolor": "#2a3f5f",
             "gridcolor": "white",
             "linecolor": "white",
             "minorgridcolor": "white",
             "startlinecolor": "#2a3f5f"
            },
            "baxis": {
             "endlinecolor": "#2a3f5f",
             "gridcolor": "white",
             "linecolor": "white",
             "minorgridcolor": "white",
             "startlinecolor": "#2a3f5f"
            },
            "type": "carpet"
           }
          ],
          "choropleth": [
           {
            "colorbar": {
             "outlinewidth": 0,
             "ticks": ""
            },
            "type": "choropleth"
           }
          ],
          "contour": [
           {
            "colorbar": {
             "outlinewidth": 0,
             "ticks": ""
            },
            "colorscale": [
             [
              0,
              "#0d0887"
             ],
             [
              0.1111111111111111,
              "#46039f"
             ],
             [
              0.2222222222222222,
              "#7201a8"
             ],
             [
              0.3333333333333333,
              "#9c179e"
             ],
             [
              0.4444444444444444,
              "#bd3786"
             ],
             [
              0.5555555555555556,
              "#d8576b"
             ],
             [
              0.6666666666666666,
              "#ed7953"
             ],
             [
              0.7777777777777778,
              "#fb9f3a"
             ],
             [
              0.8888888888888888,
              "#fdca26"
             ],
             [
              1,
              "#f0f921"
             ]
            ],
            "type": "contour"
           }
          ],
          "contourcarpet": [
           {
            "colorbar": {
             "outlinewidth": 0,
             "ticks": ""
            },
            "type": "contourcarpet"
           }
          ],
          "heatmap": [
           {
            "colorbar": {
             "outlinewidth": 0,
             "ticks": ""
            },
            "colorscale": [
             [
              0,
              "#0d0887"
             ],
             [
              0.1111111111111111,
              "#46039f"
             ],
             [
              0.2222222222222222,
              "#7201a8"
             ],
             [
              0.3333333333333333,
              "#9c179e"
             ],
             [
              0.4444444444444444,
              "#bd3786"
             ],
             [
              0.5555555555555556,
              "#d8576b"
             ],
             [
              0.6666666666666666,
              "#ed7953"
             ],
             [
              0.7777777777777778,
              "#fb9f3a"
             ],
             [
              0.8888888888888888,
              "#fdca26"
             ],
             [
              1,
              "#f0f921"
             ]
            ],
            "type": "heatmap"
           }
          ],
          "heatmapgl": [
           {
            "colorbar": {
             "outlinewidth": 0,
             "ticks": ""
            },
            "colorscale": [
             [
              0,
              "#0d0887"
             ],
             [
              0.1111111111111111,
              "#46039f"
             ],
             [
              0.2222222222222222,
              "#7201a8"
             ],
             [
              0.3333333333333333,
              "#9c179e"
             ],
             [
              0.4444444444444444,
              "#bd3786"
             ],
             [
              0.5555555555555556,
              "#d8576b"
             ],
             [
              0.6666666666666666,
              "#ed7953"
             ],
             [
              0.7777777777777778,
              "#fb9f3a"
             ],
             [
              0.8888888888888888,
              "#fdca26"
             ],
             [
              1,
              "#f0f921"
             ]
            ],
            "type": "heatmapgl"
           }
          ],
          "histogram": [
           {
            "marker": {
             "pattern": {
              "fillmode": "overlay",
              "size": 10,
              "solidity": 0.2
             }
            },
            "type": "histogram"
           }
          ],
          "histogram2d": [
           {
            "colorbar": {
             "outlinewidth": 0,
             "ticks": ""
            },
            "colorscale": [
             [
              0,
              "#0d0887"
             ],
             [
              0.1111111111111111,
              "#46039f"
             ],
             [
              0.2222222222222222,
              "#7201a8"
             ],
             [
              0.3333333333333333,
              "#9c179e"
             ],
             [
              0.4444444444444444,
              "#bd3786"
             ],
             [
              0.5555555555555556,
              "#d8576b"
             ],
             [
              0.6666666666666666,
              "#ed7953"
             ],
             [
              0.7777777777777778,
              "#fb9f3a"
             ],
             [
              0.8888888888888888,
              "#fdca26"
             ],
             [
              1,
              "#f0f921"
             ]
            ],
            "type": "histogram2d"
           }
          ],
          "histogram2dcontour": [
           {
            "colorbar": {
             "outlinewidth": 0,
             "ticks": ""
            },
            "colorscale": [
             [
              0,
              "#0d0887"
             ],
             [
              0.1111111111111111,
              "#46039f"
             ],
             [
              0.2222222222222222,
              "#7201a8"
             ],
             [
              0.3333333333333333,
              "#9c179e"
             ],
             [
              0.4444444444444444,
              "#bd3786"
             ],
             [
              0.5555555555555556,
              "#d8576b"
             ],
             [
              0.6666666666666666,
              "#ed7953"
             ],
             [
              0.7777777777777778,
              "#fb9f3a"
             ],
             [
              0.8888888888888888,
              "#fdca26"
             ],
             [
              1,
              "#f0f921"
             ]
            ],
            "type": "histogram2dcontour"
           }
          ],
          "mesh3d": [
           {
            "colorbar": {
             "outlinewidth": 0,
             "ticks": ""
            },
            "type": "mesh3d"
           }
          ],
          "parcoords": [
           {
            "line": {
             "colorbar": {
              "outlinewidth": 0,
              "ticks": ""
             }
            },
            "type": "parcoords"
           }
          ],
          "pie": [
           {
            "automargin": true,
            "type": "pie"
           }
          ],
          "scatter": [
           {
            "fillpattern": {
             "fillmode": "overlay",
             "size": 10,
             "solidity": 0.2
            },
            "type": "scatter"
           }
          ],
          "scatter3d": [
           {
            "line": {
             "colorbar": {
              "outlinewidth": 0,
              "ticks": ""
             }
            },
            "marker": {
             "colorbar": {
              "outlinewidth": 0,
              "ticks": ""
             }
            },
            "type": "scatter3d"
           }
          ],
          "scattercarpet": [
           {
            "marker": {
             "colorbar": {
              "outlinewidth": 0,
              "ticks": ""
             }
            },
            "type": "scattercarpet"
           }
          ],
          "scattergeo": [
           {
            "marker": {
             "colorbar": {
              "outlinewidth": 0,
              "ticks": ""
             }
            },
            "type": "scattergeo"
           }
          ],
          "scattergl": [
           {
            "marker": {
             "colorbar": {
              "outlinewidth": 0,
              "ticks": ""
             }
            },
            "type": "scattergl"
           }
          ],
          "scattermapbox": [
           {
            "marker": {
             "colorbar": {
              "outlinewidth": 0,
              "ticks": ""
             }
            },
            "type": "scattermapbox"
           }
          ],
          "scatterpolar": [
           {
            "marker": {
             "colorbar": {
              "outlinewidth": 0,
              "ticks": ""
             }
            },
            "type": "scatterpolar"
           }
          ],
          "scatterpolargl": [
           {
            "marker": {
             "colorbar": {
              "outlinewidth": 0,
              "ticks": ""
             }
            },
            "type": "scatterpolargl"
           }
          ],
          "scatterternary": [
           {
            "marker": {
             "colorbar": {
              "outlinewidth": 0,
              "ticks": ""
             }
            },
            "type": "scatterternary"
           }
          ],
          "surface": [
           {
            "colorbar": {
             "outlinewidth": 0,
             "ticks": ""
            },
            "colorscale": [
             [
              0,
              "#0d0887"
             ],
             [
              0.1111111111111111,
              "#46039f"
             ],
             [
              0.2222222222222222,
              "#7201a8"
             ],
             [
              0.3333333333333333,
              "#9c179e"
             ],
             [
              0.4444444444444444,
              "#bd3786"
             ],
             [
              0.5555555555555556,
              "#d8576b"
             ],
             [
              0.6666666666666666,
              "#ed7953"
             ],
             [
              0.7777777777777778,
              "#fb9f3a"
             ],
             [
              0.8888888888888888,
              "#fdca26"
             ],
             [
              1,
              "#f0f921"
             ]
            ],
            "type": "surface"
           }
          ],
          "table": [
           {
            "cells": {
             "fill": {
              "color": "#EBF0F8"
             },
             "line": {
              "color": "white"
             }
            },
            "header": {
             "fill": {
              "color": "#C8D4E3"
             },
             "line": {
              "color": "white"
             }
            },
            "type": "table"
           }
          ]
         },
         "layout": {
          "annotationdefaults": {
           "arrowcolor": "#2a3f5f",
           "arrowhead": 0,
           "arrowwidth": 1
          },
          "autotypenumbers": "strict",
          "coloraxis": {
           "colorbar": {
            "outlinewidth": 0,
            "ticks": ""
           }
          },
          "colorscale": {
           "diverging": [
            [
             0,
             "#8e0152"
            ],
            [
             0.1,
             "#c51b7d"
            ],
            [
             0.2,
             "#de77ae"
            ],
            [
             0.3,
             "#f1b6da"
            ],
            [
             0.4,
             "#fde0ef"
            ],
            [
             0.5,
             "#f7f7f7"
            ],
            [
             0.6,
             "#e6f5d0"
            ],
            [
             0.7,
             "#b8e186"
            ],
            [
             0.8,
             "#7fbc41"
            ],
            [
             0.9,
             "#4d9221"
            ],
            [
             1,
             "#276419"
            ]
           ],
           "sequential": [
            [
             0,
             "#0d0887"
            ],
            [
             0.1111111111111111,
             "#46039f"
            ],
            [
             0.2222222222222222,
             "#7201a8"
            ],
            [
             0.3333333333333333,
             "#9c179e"
            ],
            [
             0.4444444444444444,
             "#bd3786"
            ],
            [
             0.5555555555555556,
             "#d8576b"
            ],
            [
             0.6666666666666666,
             "#ed7953"
            ],
            [
             0.7777777777777778,
             "#fb9f3a"
            ],
            [
             0.8888888888888888,
             "#fdca26"
            ],
            [
             1,
             "#f0f921"
            ]
           ],
           "sequentialminus": [
            [
             0,
             "#0d0887"
            ],
            [
             0.1111111111111111,
             "#46039f"
            ],
            [
             0.2222222222222222,
             "#7201a8"
            ],
            [
             0.3333333333333333,
             "#9c179e"
            ],
            [
             0.4444444444444444,
             "#bd3786"
            ],
            [
             0.5555555555555556,
             "#d8576b"
            ],
            [
             0.6666666666666666,
             "#ed7953"
            ],
            [
             0.7777777777777778,
             "#fb9f3a"
            ],
            [
             0.8888888888888888,
             "#fdca26"
            ],
            [
             1,
             "#f0f921"
            ]
           ]
          },
          "colorway": [
           "#636efa",
           "#EF553B",
           "#00cc96",
           "#ab63fa",
           "#FFA15A",
           "#19d3f3",
           "#FF6692",
           "#B6E880",
           "#FF97FF",
           "#FECB52"
          ],
          "font": {
           "color": "#2a3f5f"
          },
          "geo": {
           "bgcolor": "white",
           "lakecolor": "white",
           "landcolor": "#E5ECF6",
           "showlakes": true,
           "showland": true,
           "subunitcolor": "white"
          },
          "hoverlabel": {
           "align": "left"
          },
          "hovermode": "closest",
          "mapbox": {
           "style": "light"
          },
          "paper_bgcolor": "white",
          "plot_bgcolor": "#E5ECF6",
          "polar": {
           "angularaxis": {
            "gridcolor": "white",
            "linecolor": "white",
            "ticks": ""
           },
           "bgcolor": "#E5ECF6",
           "radialaxis": {
            "gridcolor": "white",
            "linecolor": "white",
            "ticks": ""
           }
          },
          "scene": {
           "xaxis": {
            "backgroundcolor": "#E5ECF6",
            "gridcolor": "white",
            "gridwidth": 2,
            "linecolor": "white",
            "showbackground": true,
            "ticks": "",
            "zerolinecolor": "white"
           },
           "yaxis": {
            "backgroundcolor": "#E5ECF6",
            "gridcolor": "white",
            "gridwidth": 2,
            "linecolor": "white",
            "showbackground": true,
            "ticks": "",
            "zerolinecolor": "white"
           },
           "zaxis": {
            "backgroundcolor": "#E5ECF6",
            "gridcolor": "white",
            "gridwidth": 2,
            "linecolor": "white",
            "showbackground": true,
            "ticks": "",
            "zerolinecolor": "white"
           }
          },
          "shapedefaults": {
           "line": {
            "color": "#2a3f5f"
           }
          },
          "ternary": {
           "aaxis": {
            "gridcolor": "white",
            "linecolor": "white",
            "ticks": ""
           },
           "baxis": {
            "gridcolor": "white",
            "linecolor": "white",
            "ticks": ""
           },
           "bgcolor": "#E5ECF6",
           "caxis": {
            "gridcolor": "white",
            "linecolor": "white",
            "ticks": ""
           }
          },
          "title": {
           "x": 0.05
          },
          "xaxis": {
           "automargin": true,
           "gridcolor": "white",
           "linecolor": "white",
           "ticks": "",
           "title": {
            "standoff": 15
           },
           "zerolinecolor": "white",
           "zerolinewidth": 2
          },
          "yaxis": {
           "automargin": true,
           "gridcolor": "white",
           "linecolor": "white",
           "ticks": "",
           "title": {
            "standoff": 15
           },
           "zerolinecolor": "white",
           "zerolinewidth": 2
          }
         }
        },
        "title": {
         "text": "DeFi bluechip portfolio construction model example portfolio value"
        },
        "xaxis": {
         "rangeslider": {
          "visible": false
         }
        },
        "yaxis": {
         "showgrid": false,
         "title": {
          "text": "Value $"
         }
        }
       }
      }
     },
     "metadata": {},
     "output_type": "display_data"
    }
   ],
   "source": [
    "from tradeexecutor.visual.benchmark import visualise_benchmark\n",
    "\n",
    "eth_usd = universe.get_pair_by_human_description((ChainId.ethereum, \"uniswap-v2\", \"WETH\", \"USDC\"))\n",
    "eth_candles = universe.universe.candles.get_candles_by_pair(eth_usd.internal_id)\n",
    "eth_price = eth_candles[\"close\"]\n",
    "\n",
    "fig = visualise_benchmark(\n",
    "    state.name,\n",
    "    portfolio_statistics=state.stats.portfolio,\n",
    "    all_cash=state.portfolio.get_initial_deposit(),\n",
    "    buy_and_hold_asset_name=\"ETH\",\n",
    "    buy_and_hold_price_series=eth_price,\n",
    "    start_at=start_at,\n",
    "    end_at=end_at\n",
    ")\n",
    "\n",
    "fig.show()"
   ]
  },
  {
   "attachments": {},
   "cell_type": "markdown",
   "metadata": {},
   "source": [
    "## Analysing  the strategy success\n",
    "\n",
    "Here we calculate statistics on how well the strategy performed.\n",
    "\n",
    "- Won/lost trades\n",
    "- Timeline of taken positions with color coding of trade performance\n"
   ]
  },
  {
   "cell_type": "code",
   "execution_count": 8,
   "metadata": {
    "collapsed": false,
    "jupyter": {
     "outputs_hidden": false
    },
    "pycharm": {
     "is_executing": true
    }
   },
   "outputs": [],
   "source": [
    "from tradeexecutor.analysis.trade_analyser import build_trade_analysis\n",
    "\n",
    "analysis = build_trade_analysis(state.portfolio)"
   ]
  },
  {
   "cell_type": "markdown",
   "metadata": {},
   "source": [
    "### Strategy summary\n",
    "\n",
    "Overview of strategy performance\n",
    "\n"
   ]
  },
  {
   "cell_type": "code",
   "execution_count": 9,
   "metadata": {
    "collapsed": false,
    "jupyter": {
     "outputs_hidden": false
    },
    "pycharm": {
     "is_executing": true
    }
   },
   "outputs": [
    {
     "data": {
      "text/html": [
       "<div>\n",
       "<style scoped>\n",
       "    .dataframe tbody tr th:only-of-type {\n",
       "        vertical-align: middle;\n",
       "    }\n",
       "\n",
       "    .dataframe tbody tr th {\n",
       "        vertical-align: top;\n",
       "    }\n",
       "\n",
       "    .dataframe thead th {\n",
       "        text-align: right;\n",
       "    }\n",
       "</style>\n",
       "<table border=\"1\" class=\"dataframe\">\n",
       "  <thead>\n",
       "    <tr style=\"text-align: right;\">\n",
       "      <th></th>\n",
       "      <th>0</th>\n",
       "    </tr>\n",
       "  </thead>\n",
       "  <tbody>\n",
       "    <tr>\n",
       "      <th>Trading period length</th>\n",
       "      <td>826 days</td>\n",
       "    </tr>\n",
       "    <tr>\n",
       "      <th>Return %</th>\n",
       "      <td>154.79%</td>\n",
       "    </tr>\n",
       "    <tr>\n",
       "      <th>Annualised return %</th>\n",
       "      <td>68.40%</td>\n",
       "    </tr>\n",
       "    <tr>\n",
       "      <th>Cash at start</th>\n",
       "      <td>$10,000.00</td>\n",
       "    </tr>\n",
       "    <tr>\n",
       "      <th>Value at end</th>\n",
       "      <td>$48,253.44</td>\n",
       "    </tr>\n",
       "    <tr>\n",
       "      <th>Trade win percent</th>\n",
       "      <td>38.17%</td>\n",
       "    </tr>\n",
       "    <tr>\n",
       "      <th>Total trades done</th>\n",
       "      <td>131</td>\n",
       "    </tr>\n",
       "    <tr>\n",
       "      <th>Won trades</th>\n",
       "      <td>50</td>\n",
       "    </tr>\n",
       "    <tr>\n",
       "      <th>Lost trades</th>\n",
       "      <td>81</td>\n",
       "    </tr>\n",
       "    <tr>\n",
       "      <th>Stop losses triggered</th>\n",
       "      <td>0</td>\n",
       "    </tr>\n",
       "    <tr>\n",
       "      <th>Stop loss % of all</th>\n",
       "      <td>0.00%</td>\n",
       "    </tr>\n",
       "    <tr>\n",
       "      <th>Stop loss % of lost</th>\n",
       "      <td>0.00%</td>\n",
       "    </tr>\n",
       "    <tr>\n",
       "      <th>Zero profit trades</th>\n",
       "      <td>0</td>\n",
       "    </tr>\n",
       "    <tr>\n",
       "      <th>Positions open at the end</th>\n",
       "      <td>3</td>\n",
       "    </tr>\n",
       "    <tr>\n",
       "      <th>Realised profit and loss</th>\n",
       "      <td>$15,478.54</td>\n",
       "    </tr>\n",
       "    <tr>\n",
       "      <th>Portfolio unrealised value</th>\n",
       "      <td>$40,973.49</td>\n",
       "    </tr>\n",
       "    <tr>\n",
       "      <th>Extra returns on lending pool interest</th>\n",
       "      <td>$0.00</td>\n",
       "    </tr>\n",
       "    <tr>\n",
       "      <th>Cash left at the end</th>\n",
       "      <td>$7,279.94</td>\n",
       "    </tr>\n",
       "    <tr>\n",
       "      <th>Average winning trade profit %</th>\n",
       "      <td>25.58%</td>\n",
       "    </tr>\n",
       "    <tr>\n",
       "      <th>Average losing trade loss %</th>\n",
       "      <td>-13.54%</td>\n",
       "    </tr>\n",
       "    <tr>\n",
       "      <th>Biggest winning trade %</th>\n",
       "      <td>127.94%</td>\n",
       "    </tr>\n",
       "    <tr>\n",
       "      <th>Biggest losing trade %</th>\n",
       "      <td>-43.82%</td>\n",
       "    </tr>\n",
       "    <tr>\n",
       "      <th>Average duration of winning trades</th>\n",
       "      <td>19 days</td>\n",
       "    </tr>\n",
       "    <tr>\n",
       "      <th>Average duration of losing trades</th>\n",
       "      <td>8 days</td>\n",
       "    </tr>\n",
       "    <tr>\n",
       "      <th>Average trade:</th>\n",
       "      <td>1.39%</td>\n",
       "    </tr>\n",
       "    <tr>\n",
       "      <th>Median trade:</th>\n",
       "      <td>-3.19%</td>\n",
       "    </tr>\n",
       "    <tr>\n",
       "      <th>Consecutive wins</th>\n",
       "      <td>4</td>\n",
       "    </tr>\n",
       "    <tr>\n",
       "      <th>Consecutive losses</th>\n",
       "      <td>8</td>\n",
       "    </tr>\n",
       "    <tr>\n",
       "      <th>Biggest realized risk</th>\n",
       "      <td>-29.90%</td>\n",
       "    </tr>\n",
       "    <tr>\n",
       "      <th>Avg realised risk</th>\n",
       "      <td>-4.15%</td>\n",
       "    </tr>\n",
       "    <tr>\n",
       "      <th>Max pullback of total capital</th>\n",
       "      <td>-96.23%</td>\n",
       "    </tr>\n",
       "    <tr>\n",
       "      <th>Max loss risk at opening of position</th>\n",
       "      <td>80.00%</td>\n",
       "    </tr>\n",
       "  </tbody>\n",
       "</table>\n",
       "</div>"
      ],
      "text/plain": [
       "                                                 0\n",
       "Trading period length                     826 days\n",
       "Return %                                   154.79%\n",
       "Annualised return %                         68.40%\n",
       "Cash at start                           $10,000.00\n",
       "Value at end                            $48,253.44\n",
       "Trade win percent                           38.17%\n",
       "Total trades done                              131\n",
       "Won trades                                      50\n",
       "Lost trades                                     81\n",
       "Stop losses triggered                            0\n",
       "Stop loss % of all                           0.00%\n",
       "Stop loss % of lost                          0.00%\n",
       "Zero profit trades                               0\n",
       "Positions open at the end                        3\n",
       "Realised profit and loss                $15,478.54\n",
       "Portfolio unrealised value              $40,973.49\n",
       "Extra returns on lending pool interest       $0.00\n",
       "Cash left at the end                     $7,279.94\n",
       "Average winning trade profit %              25.58%\n",
       "Average losing trade loss %                -13.54%\n",
       "Biggest winning trade %                    127.94%\n",
       "Biggest losing trade %                     -43.82%\n",
       "Average duration of winning trades         19 days\n",
       "Average duration of losing trades           8 days\n",
       "Average trade:                               1.39%\n",
       "Median trade:                               -3.19%\n",
       "Consecutive wins                                 4\n",
       "Consecutive losses                               8\n",
       "Biggest realized risk                      -29.90%\n",
       "Avg realised risk                           -4.15%\n",
       "Max pullback of total capital              -96.23%\n",
       "Max loss risk at opening of position        80.00%"
      ]
     },
     "metadata": {},
     "output_type": "display_data"
    }
   ],
   "source": [
    "from IPython.core.display_functions import display\n",
    "\n",
    "summary = analysis.calculate_summary_statistics()\n",
    "\n",
    "with pd.option_context(\"display.max_row\", None):\n",
    "    display(summary.to_dataframe())"
   ]
  },
  {
   "cell_type": "markdown",
   "metadata": {},
   "source": []
  },
  {
   "attachments": {},
   "cell_type": "markdown",
   "metadata": {},
   "source": [
    "### Alpha model timeline analysis\n",
    "\n",
    "We display a table that shows how alpha model performermed over time.\n",
    "\n",
    "- Display portfolio weightings at each strategy cycle\n",
    "\n",
    "- Show performance of individidual positions taken during this cycle\n",
    "\n",
    "The visualisation will have the a column for each asset being traded. The cell of a column contains the following elements\n",
    "\n",
    "- Asset **price change** (up/down) since the last strategy cycle\n",
    "\n",
    "- **Price** of the asset at the start of the strategy cycle\n",
    "\n",
    "- **Weight** % as the part of the portfolio that was chosen for the next cycle\n",
    "\n",
    "- **Open** value of the position as USD\n",
    "\n",
    "- **Adjust** value of the position as USD -  to get to the target weight - how much asset needs to be bought or sold\n",
    "\n",
    "- **Close** the remaining value of the position as USD \n",
    "\n",
    "- **Profit**: The life time profit of the position so far\n",
    "\n",
    "Position opening and closing rules\n",
    "\n",
    "- A position may contain multiple trades\n",
    "\n",
    "- Unlike on some exchanges, we adjust existing positions by increasing or decreasing them - a trade can count against existing position\n",
    "\n",
    "- Posions are opened if there are no existing holdings of an asset\n",
    "\n",
    "- The position is adjusted over the time\n",
    "\n",
    "- The position is closed when the remaining assets of the position are sold"
   ]
  },
  {
   "cell_type": "code",
   "execution_count": 10,
   "metadata": {
    "collapsed": false,
    "jupyter": {
     "outputs_hidden": false
    },
    "pycharm": {
     "is_executing": true
    }
   },
   "outputs": [
    {
     "data": {
      "application/vnd.plotly.v1+json": {
       "config": {
        "plotlyServerURL": "https://plot.ly"
       },
       "data": [
        {
         "cells": {
          "align": "left",
          "fill": {
           "color": "lavender"
          },
          "font": {
           "family": "monospace"
          },
          "values": [
           [
            "2020-10-26",
            "2020-11-02",
            "2020-11-09",
            "2020-11-16",
            "2020-11-23",
            "2020-11-30",
            "2020-12-07",
            "2020-12-14",
            "2020-12-21",
            "2020-12-28",
            "2021-01-04",
            "2021-01-11",
            "2021-01-18",
            "2021-01-25",
            "2021-02-01",
            "2021-02-08",
            "2021-02-15",
            "2021-02-22",
            "2021-03-01",
            "2021-03-08",
            "2021-03-15",
            "2021-03-22",
            "2021-03-29",
            "2021-04-05",
            "2021-04-12",
            "2021-04-19",
            "2021-04-26",
            "2021-05-03",
            "2021-05-10",
            "2021-05-17",
            "2021-05-24",
            "2021-05-31",
            "2021-06-07",
            "2021-06-14",
            "2021-06-21",
            "2021-06-28",
            "2021-07-05",
            "2021-07-12",
            "2021-07-19",
            "2021-07-26",
            "2021-08-02",
            "2021-08-09",
            "2021-08-16",
            "2021-08-23",
            "2021-08-30",
            "2021-09-06",
            "2021-09-13",
            "2021-09-20",
            "2021-09-27",
            "2021-10-04",
            "2021-10-11",
            "2021-10-18",
            "2021-10-25",
            "2021-11-01",
            "2021-11-08",
            "2021-11-15",
            "2021-11-22",
            "2021-11-29",
            "2021-12-06",
            "2021-12-13",
            "2021-12-20",
            "2021-12-27",
            "2022-01-03",
            "2022-01-10",
            "2022-01-17",
            "2022-01-24",
            "2022-01-31",
            "2022-02-07",
            "2022-02-14",
            "2022-02-21",
            "2022-02-28",
            "2022-03-07",
            "2022-03-14",
            "2022-03-21",
            "2022-03-28",
            "2022-04-04",
            "2022-04-11",
            "2022-04-18",
            "2022-04-25",
            "2022-05-02",
            "2022-05-09",
            "2022-05-16",
            "2022-05-23",
            "2022-05-30",
            "2022-06-06",
            "2022-06-13",
            "2022-06-20",
            "2022-06-27",
            "2022-07-04",
            "2022-07-11",
            "2022-07-18",
            "2022-07-25",
            "2022-08-01",
            "2022-08-08",
            "2022-08-15",
            "2022-08-22",
            "2022-08-29",
            "2022-09-05",
            "2022-09-12",
            "2022-09-19",
            "2022-09-26",
            "2022-10-03",
            "2022-10-10",
            "2022-10-17",
            "2022-10-24",
            "2022-10-31",
            "2022-11-07",
            "2022-11-14",
            "2022-11-21",
            "2022-11-28",
            "2022-12-05",
            "2022-12-12",
            "2022-12-19",
            "2022-12-26",
            "2023-01-02",
            "2023-01-09",
            "2023-01-16",
            "2023-01-23",
            "2023-01-30"
           ],
           [
            "$9,952",
            "$9,077",
            "$10,141",
            "$12,939",
            "$13,477",
            "$13,261",
            "$13,586",
            "$13,179",
            "$14,504",
            "$14,806",
            "$19,847",
            "$23,601",
            "$31,684",
            "$39,533",
            "$40,603",
            "$46,296",
            "$49,607",
            "$52,153",
            "$42,908",
            "$40,846",
            "$42,534",
            "$40,614",
            "$42,337",
            "$42,815",
            "$43,148",
            "$44,337",
            "$42,879",
            "$57,076",
            "$66,987",
            "$64,076",
            "$41,855",
            "$41,654",
            "$48,712",
            "$44,341",
            "$44,341",
            "$44,341",
            "$44,129",
            "$42,238",
            "$37,538",
            "$37,358",
            "$41,023",
            "$45,235",
            "$50,935",
            "$53,501",
            "$47,129",
            "$46,643",
            "$42,372",
            "$59,975",
            "$54,768",
            "$53,666",
            "$52,460",
            "$57,630",
            "$61,414",
            "$66,379",
            "$69,459",
            "$67,606",
            "$62,717",
            "$46,909",
            "$45,119",
            "$45,695",
            "$47,035",
            "$61,898",
            "$62,373",
            "$50,056",
            "$49,816",
            "$37,448",
            "$37,268",
            "$41,224",
            "$37,634",
            "$37,634",
            "$37,454",
            "$34,729",
            "$31,957",
            "$40,697",
            "$46,688",
            "$49,981",
            "$44,550",
            "$44,550",
            "$44,337",
            "$35,856",
            "$35,684",
            "$25,134",
            "$25,014",
            "$24,760",
            "$26,127",
            "$20,535",
            "$20,437",
            "$25,909",
            "$24,529",
            "$27,911",
            "$30,930",
            "$35,176",
            "$36,406",
            "$37,129",
            "$38,973",
            "$33,406",
            "$33,406",
            "$33,247",
            "$36,053",
            "$29,523",
            "$29,382",
            "$29,805",
            "$31,257",
            "$30,786",
            "$30,141",
            "$32,552",
            "$32,527",
            "$24,841",
            "$24,723",
            "$25,881",
            "$26,897",
            "$25,661",
            "$25,661",
            "$25,539",
            "$25,152",
            "$27,239",
            "$33,098",
            "$36,050",
            "$36,400"
           ],
           [
            "P:407.22<br>W:67% <br><br>Open: $5,333",
            "🔻 -3.19% <br>P:394.24<br>W:0% <br><br>Close: $-5,163.35<br>Profit: $-170",
            "🌲 16.03% <br>P:457.44<br>W:55% <br><br>Adjust: $+4,441<br>",
            "🔻 -2.16% <br>P:447.54<br>W:0% <br><br>Close: $-4,344.46<br>Profit: $-96",
            "🌲 25.66% <br>P:562.40<br>W:55% <br><br>Adjust: $+5,901<br>",
            "🌲 2.50% <br>P:576.45<br>W:67% <br><br>Adjust: $+1,075<br>Profit: $111",
            "🌲 4.26% <br>P:601.02<br>W:55% <br><br>Adjust: $-1,486<br>Profit: $451",
            "🔻 -2.37% <br>P:586.76<br>W:0% <br><br>Close: $-5,800.38<br>Profit: $310",
            "🌲 8.81% <br>P:638.48<br>W:55% <br><br>Adjust: $+6,351<br>",
            "🌲 7.45% <br>P:686.08<br>W:100% <br><br>Adjust: $+5,085<br>Profit: $433",
            "🌲 42.10% <br>P:974.91<br>W:55% <br><br>Adjust: $-8,244<br>Profit: $5,487",
            "🌲 28.69% <br>P:1,254.59<br>W:55% <br><br>Adjust: $-870<br>Profit: $7,977",
            "🔻 -2.15% <br>P:1,227.65<br>W:0% <br><br>Close: $-10,078.21<br>Profit: $7,756",
            "🌲 13.98% <br>P:1,399.25<br>W:55% <br><br>Adjust: $+17,296<br>",
            "🔻 -6.61% <br>P:1,306.78<br>W:0% <br><br>Close: $-16,152.97<br>Profit: $-1,143",
            "🌲 24.39% <br>P:1,625.50<br>W:55% <br><br>Adjust: $+20,255<br>",
            "🌲 10.95% <br>P:1,803.51<br>W:55% <br><br>Adjust: $-825<br>Profit: $2,218",
            "🌲 6.72% <br>P:1,924.71<br>W:55% <br><br>Adjust: $-318<br>Profit: $3,673",
            "🔻 -26.30% <br>P:1,418.42<br>W:0% <br><br>Close: $-16,791.95<br>Profit: $-2,321",
            "🌲 22.19% <br>P:1,733.20<br>W:55% <br><br>Adjust: $+17,910<br>",
            "🌲 6.52% <br>P:1,846.14<br>W:55% <br><br>Adjust: $-494<br>Profit: $1,167",
            "🔻 -3.70% <br>P:1,777.82<br>W:0% <br><br>Close: $-17,895.03<br>Profit: $479",
            "-",
            "P:2,079.57<br>W:55% <br><br>Open: $18,748",
            "🌲 2.98% <br>P:2,141.45<br>W:55% <br><br>Adjust: $-461<br>Profit: $558",
            "🌲 4.24% <br>P:2,232.27<br>W:55% <br><br>Adjust: $-280<br>Profit: $1,357",
            "🌲 3.50% <br>P:2,310.36<br>W:55% <br><br>Adjust: $-1,308<br>Profit: $2,034",
            "🌲 28.04% <br>P:2,958.25<br>W:55% <br><br>Adjust: $+1,120<br>Profit: $7,144",
            "🌲 32.13% <br>P:3,908.82<br>W:55% <br><br>Adjust: $-3,938<br>Profit: $15,355",
            "🔻 -8.62% <br>P:3,571.87<br>W:0% <br><br>Close: $-26,715.78<br>Profit: $12,835",
            "-",
            "P:2,391.37<br>W:55% <br><br>Open: $18,264",
            "🌲 13.49% <br>P:2,714.04<br>W:55% <br><br>Adjust: $+655<br>Profit: $2,340",
            "🔻 -7.90% <br>P:2,499.62<br>W:0% <br><br>Close: $-19,694.21<br>Profit: $775",
            "-",
            "-",
            "P:2,329.55<br>W:55% <br><br>Open: $19,349",
            "🔻 -8.33% <br>P:2,135.55<br>W:0% <br><br>Close: $-17,737.59<br>Profit: $-1,611",
            "-",
            "P:2,196.53<br>W:55% <br><br>Open: $16,380",
            "🌲 16.43% <br>P:2,557.39<br>W:55% <br><br>Adjust: $-1,169<br>Profit: $2,691",
            "🌲 17.44% <br>P:3,003.31<br>W:55% <br><br>Adjust: $-1,284<br>Profit: $5,813",
            "🌲 10.40% <br>P:3,315.76<br>W:55% <br><br>Adjust: $+564<br>Profit: $7,736",
            "🔻 -2.42% <br>P:3,235.50<br>W:0% <br><br>Close: $-21,816.93<br>Profit: $7,325",
            "-",
            "P:3,964.03<br>W:55% <br><br>Open: $20,451",
            "🔻 -14.28% <br>P:3,398.09<br>W:0% <br><br>Close: $-17,531.31<br>Profit: $-2,920",
            "-",
            "-",
            "P:3,424.29<br>W:55% <br><br>Open: $23,510",
            "🌲 0.16% <br>P:3,429.79<br>W:100% <br><br>Adjust: $+18,650<br>Profit: $-103",
            "🌲 11.95% <br>P:3,839.73<br>W:55% <br><br>Adjust: $-22,039<br>Profit: $5,081",
            "🌲 6.61% <br>P:4,093.72<br>W:55% <br><br>Adjust: $+114<br>Profit: $6,588",
            "🌲 5.56% <br>P:4,321.22<br>W:55% <br><br>Adjust: $+680<br>Profit: $8,078",
            "🌲 6.38% <br>P:4,596.85<br>W:55% <br><br>Adjust: $-712<br>Profit: $10,108",
            "🌲 0.85% <br>P:4,635.90<br>W:67% <br><br>Adjust: $+5,737<br>Profit: $10,183",
            "🔻 -8.11% <br>P:4,259.73<br>W:0% <br><br>Close: $-33,359.90<br>Profit: $7,420",
            "🌲 1.09% <br>P:4,305.97<br>W:55% <br><br>Adjust: $+20,568<br>",
            "🔻 -3.01% <br>P:4,176.57<br>W:0% <br><br>Close: $-19,949.56<br>Profit: $-618",
            "-",
            "-",
            "P:4,075.55<br>W:55% <br><br>Open: $27,105",
            "🔻 -6.20% <br>P:3,822.89<br>W:0% <br><br>Close: $-25,424.22<br>Profit: $-1,680",
            "-",
            "P:3,358.31<br>W:55% <br><br>Open: $21,842",
            "🔻 -24.76% <br>P:2,526.92<br>W:0% <br><br>Close: $-16,435.06<br>Profit: $-5,407",
            "🌲 3.56% <br>P:2,616.93<br>W:67% <br><br>Adjust: $+19,972<br>",
            "🌲 16.75% <br>P:3,055.21<br>W:55% <br><br>Adjust: $-5,312<br>Profit: $3,345",
            "🔻 -6.22% <br>P:2,865.25<br>W:0% <br><br>Close: $-16,885.12<br>Profit: $2,225",
            "-",
            "-",
            "-",
            "-",
            "P:2,867.63<br>W:55% <br><br>Open: $17,844",
            "🌲 14.63% <br>P:3,287.25<br>W:55% <br><br>Adjust: $-82<br>Profit: $2,611",
            "🌲 7.46% <br>P:3,532.45<br>W:55% <br><br>Adjust: $+48<br>Profit: $4,000",
            "🔻 -9.48% <br>P:3,197.59<br>W:0% <br><br>Close: $-19,860.92<br>Profit: $2,051",
            "-",
            "-",
            "-",
            "-",
            "-",
            "-",
            "-",
            "-",
            "-",
            "-",
            "P:1,202.52<br>W:55% <br><br>Open: $11,360",
            "🔻 -11.08% <br>P:1,069.33<br>W:0% <br><br>Close: $-10,101.90<br>Profit: $-1,258",
            "🌲 9.37% <br>P:1,169.50<br>W:55% <br><br>Adjust: $+12,222<br>",
            "🌲 14.18% <br>P:1,335.39<br>W:55% <br><br>Adjust: $-458<br>Profit: $1,734",
            "🌲 19.32% <br>P:1,593.38<br>W:55% <br><br>Adjust: $-742<br>Profit: $4,341",
            "🌲 5.19% <br>P:1,676.13<br>W:55% <br><br>Adjust: $-254<br>Profit: $5,139",
            "🌲 1.65% <br>P:1,703.81<br>W:55% <br><br>Adjust: $+150<br>Profit: $5,305",
            "🌲 13.24% <br>P:1,929.42<br>W:55% <br><br>Adjust: $-1,437<br>Profit: $7,563",
            "🔻 -16.23% <br>P:1,616.37<br>W:0% <br><br>Close: $-14,278.13<br>Profit: $4,797",
            "-",
            "P:1,580.29<br>W:55% <br><br>Open: $14,577",
            "🌲 11.14% <br>P:1,756.39<br>W:55% <br><br>Adjust: $-469<br>Profit: $1,624",
            "🔻 -24.33% <br>P:1,329.01<br>W:0% <br><br>Close: $-11,904.24<br>Profit: $-2,204",
            "-",
            "-",
            "P:1,324.26<br>W:55% <br><br>Open: $13,705",
            "🔻 -1.65% <br>P:1,302.40<br>W:0% <br><br>Close: $-13,478.51<br>Profit: $-226",
            "🌲 5.09% <br>P:1,368.67<br>W:55% <br><br>Adjust: $+13,216<br>",
            "🌲 15.80% <br>P:1,584.97<br>W:55% <br><br>Adjust: $-1,081<br>Profit: $2,088",
            "🔻 -1.13% <br>P:1,567.01<br>W:0% <br><br>Close: $-14,062.04<br>Profit: $1,927",
            "-",
            "-",
            "P:1,197.28<br>W:55% <br><br>Open: $11,348",
            "🌲 6.65% <br>P:1,276.95<br>W:55% <br><br>Adjust: $-351<br>Profit: $755",
            "🔻 -1.25% <br>P:1,261.02<br>W:0% <br><br>Close: $-11,605.18<br>Profit: $609",
            "-",
            "P:1,220.88<br>W:100% <br><br>Open: $20,529",
            "🔻 -1.89% <br>P:1,197.78<br>W:0% <br><br>Close: $-20,140.70<br>Profit: $-388",
            "🌲 7.97% <br>P:1,293.30<br>W:55% <br><br>Adjust: $+11,917<br>",
            "🌲 20.43% <br>P:1,557.46<br>W:55% <br><br>Adjust: $+178<br>Profit: $2,348",
            "🌲 4.92% <br>P:1,634.10<br>W:55% <br><br>Adjust: $+580<br>Profit: $3,058",
            "🌲 0.53% <br>P:1,642.73<br>W:55% <br><br>Close: $-24.60<br>Profit: $3,233"
           ],
           [
            "-",
            "P:0.40<br>W:100% <br><br>Open: $7,296",
            "🌲 14.47% <br>P:0.46<br>W:27% <br><br>Adjust: $-6,132<br>Profit: $1,056",
            "🌲 68.69% <br>P:0.77<br>W:55% <br><br>Adjust: $+1,933<br>Profit: $2,559",
            "🔻 -3.73% <br>P:0.74<br>W:0% <br><br>Close: $-5,466.84<br>Profit: $2,369",
            "-",
            "P:0.71<br>W:27% <br><br>Open: $2,971",
            "🔻 -13.43% <br>P:0.61<br>W:0% <br><br>Close: $-2,571.63<br>Profit: $-399",
            "-",
            "-",
            "P:0.68<br>W:27% <br><br>Open: $4,340",
            "🌲 11.45% <br>P:0.76<br>W:27% <br><br>Adjust: $+342<br>Profit: $468",
            "🌲 121.85% <br>P:1.69<br>W:55% <br><br>Adjust: $+2,428<br>Profit: $6,739",
            "🌲 34.36% <br>P:2.27<br>W:27% <br><br>Adjust: $-10,050<br>Profit: $11,588",
            "🌲 11.78% <br>P:2.54<br>W:55% <br><br>Adjust: $+8,150<br>Profit: $12,550",
            "🌲 15.47% <br>P:2.93<br>W:27% <br><br>Adjust: $-10,446<br>Profit: $15,363",
            "🌲 0.51% <br>P:2.95<br>W:27% <br><br>Adjust: $+706<br>Profit: $15,354",
            "🌲 0.71% <br>P:2.97<br>W:0% <br><br>Close: $-10,962.14<br>Profit: $15,492",
            "-",
            "P:2.27<br>W:27% <br><br>Open: $8,955",
            "🔻 -6.18% <br>P:2.13<br>W:0% <br><br>Close: $-8,401.48<br>Profit: $-553",
            "🌲 22.36% <br>P:2.61<br>W:67% <br><br>Adjust: $+21,765<br>",
            "🌲 15.98% <br>P:3.02<br>W:100% <br><br>Adjust: $+8,819<br>Profit: $3,327",
            "🌲 1.24% <br>P:3.06<br>W:27% <br><br>Adjust: $-25,113<br>Profit: $3,902",
            "🌲 1.51% <br>P:3.11<br>W:27% <br><br>Adjust: $-93<br>Profit: $4,044",
            "🌲 3.91% <br>P:3.23<br>W:27% <br><br>Adjust: $-109<br>Profit: $4,413",
            "🔻 -26.60% <br>P:2.37<br>W:0% <br><br>Close: $-7,106.55<br>Profit: $1,837",
            "🌲 38.10% <br>P:3.27<br>W:27% <br><br>Adjust: $+12,482<br>",
            "🌲 5.49% <br>P:3.45<br>W:27% <br><br>Adjust: $+1,530<br>Profit: $606",
            "🔻 -5.60% <br>P:3.26<br>W:0% <br><br>Close: $-13,873.90<br>Profit: $-138",
            "-",
            "P:1.68<br>W:27% <br><br>Open: $9,132",
            "🌲 45.75% <br>P:2.44<br>W:27% <br><br>Adjust: $-2,680<br>Profit: $4,178",
            "🔻 -10.12% <br>P:2.20<br>W:0% <br><br>Close: $-9,553.99<br>Profit: $3,102",
            "-",
            "-",
            "P:1.84<br>W:27% <br><br>Open: $9,674",
            "🔻 -4.75% <br>P:1.75<br>W:0% <br><br>Close: $-9,214.81<br>Profit: $-460",
            "-",
            "P:1.53<br>W:27% <br><br>Open: $8,190",
            "🌲 9.26% <br>P:1.67<br>W:27% <br><br>Adjust: $+57<br>Profit: $705",
            "🌲 4.74% <br>P:1.75<br>W:27% <br><br>Adjust: $+495<br>Profit: $1,129",
            "🌲 15.44% <br>P:2.02<br>W:27% <br><br>Adjust: $-345<br>Profit: $2,718",
            "🌲 22.38% <br>P:2.47<br>W:55% <br><br>Adjust: $+9,882<br>Profit: $5,123",
            "🔻 -15.25% <br>P:2.10<br>W:0% <br><br>Close: $-19,902.51<br>Profit: $1,624",
            "🌲 18.08% <br>P:2.48<br>W:27% <br><br>Adjust: $+10,226<br>",
            "🔻 -1.91% <br>P:2.43<br>W:0% <br><br>Close: $-10,030.50<br>Profit: $-195",
            "🌲 27.79% <br>P:3.10<br>W:55% <br><br>Adjust: $+26,297<br>",
            "🔻 -17.47% <br>P:2.56<br>W:0% <br><br>Close: $-21,703.34<br>Profit: $-4,593",
            "🌲 9.74% <br>P:2.81<br>W:27% <br><br>Adjust: $+11,755<br>",
            "🔻 -5.19% <br>P:2.67<br>W:0% <br><br>Close: $-11,145.11<br>Profit: $-610",
            "🌲 8.05% <br>P:2.88<br>W:27% <br><br>Adjust: $+12,601<br>",
            "🌲 22.11% <br>P:3.52<br>W:27% <br><br>Adjust: $-1,976<br>Profit: $2,786",
            "🌲 25.99% <br>P:4.43<br>W:27% <br><br>Adjust: $-2,400<br>Profit: $6,271",
            "🌲 0.80% <br>P:4.47<br>W:27% <br><br>Adjust: $+631<br>Profit: $6,299",
            "🔻 -7.20% <br>P:4.14<br>W:0% <br><br>Close: $-14,144.98<br>Profit: $5,289",
            "-",
            "P:4.93<br>W:27% <br><br>Open: $10,284",
            "🔻 -27.31% <br>P:3.58<br>W:0% <br><br>Close: $-7,475.40<br>Profit: $-2,808",
            "🌲 7.61% <br>P:3.85<br>W:55% <br><br>Adjust: $+20,018<br>",
            "🌲 6.33% <br>P:4.10<br>W:55% <br><br>Adjust: $-734<br>Profit: $1,267",
            "🌲 39.96% <br>P:5.73<br>W:27% <br><br>Adjust: $-15,212<br>Profit: $9,480",
            "🌲 7.42% <br>P:6.16<br>W:67% <br><br>Adjust: $+18,876<br>Profit: $10,398",
            "🔻 -25.95% <br>P:4.56<br>W:0% <br><br>Close: $-24,758.74<br>Profit: $1,810",
            "🌲 13.27% <br>P:5.17<br>W:27% <br><br>Adjust: $+10,921<br>",
            "🔻 -43.02% <br>P:2.94<br>W:0% <br><br>Close: $-6,223.28<br>Profit: $-4,698",
            "🌲 8.60% <br>P:3.20<br>W:33% <br><br>Adjust: $+9,986<br>",
            "🌲 4.68% <br>P:3.35<br>W:27% <br><br>Adjust: $-1,452<br>Profit: $468",
            "🔻 -18.46% <br>P:2.73<br>W:0% <br><br>Close: $-7,340.83<br>Profit: $-1,194",
            "-",
            "-",
            "-",
            "-",
            "P:2.14<br>W:27% <br><br>Open: $8,922",
            "🌲 21.03% <br>P:2.60<br>W:27% <br><br>Adjust: $-612<br>Profit: $1,877",
            "🌲 11.29% <br>P:2.89<br>W:27% <br><br>Adjust: $-431<br>Profit: $3,026",
            "🔻 -16.50% <br>P:2.41<br>W:0% <br><br>Close: $-9,105.08<br>Profit: $1,227",
            "-",
            "P:2.72<br>W:55% <br><br>Open: $19,440",
            "🔻 -23.63% <br>P:2.08<br>W:0% <br><br>Close: $-14,846.81<br>Profit: $-4,593",
            "🌲 13.31% <br>P:2.36<br>W:100% <br><br>Adjust: $+28,684<br>",
            "🔻 -37.38% <br>P:1.47<br>W:0% <br><br>Close: $-17,962.84<br>Profit: $-10,722",
            "-",
            "-",
            "-",
            "-",
            "-",
            "P:0.76<br>W:27% <br><br>Open: $5,680",
            "🌲 5.46% <br>P:0.80<br>W:100% <br><br>Adjust: $+13,735<br>Profit: $274",
            "🌲 17.04% <br>P:0.94<br>W:27% <br><br>Adjust: $-16,975<br>Profit: $3,671",
            "🌲 14.94% <br>P:1.08<br>W:27% <br><br>Adjust: $-275<br>Profit: $4,584",
            "🌲 27.33% <br>P:1.37<br>W:27% <br><br>Adjust: $-912<br>Profit: $6,429",
            "🔻 -3.98% <br>P:1.32<br>W:0% <br><br>Close: $-7,375.47<br>Profit: $6,123",
            "🌲 7.85% <br>P:1.42<br>W:27% <br><br>Adjust: $+8,112<br>",
            "🔻 -3.19% <br>P:1.38<br>W:0% <br><br>Close: $-7,852.96<br>Profit: $-259",
            "-",
            "-",
            "P:1.10<br>W:27% <br><br>Open: $7,289",
            "🌲 7.18% <br>P:1.17<br>W:27% <br><br>Adjust: $+101<br>Profit: $476",
            "🔻 -20.18% <br>P:0.94<br>W:0% <br><br>Close: $-6,316.23<br>Profit: $-1,074",
            "-",
            "-",
            "P:0.89<br>W:27% <br><br>Open: $6,852",
            "🔻 -7.98% <br>P:0.82<br>W:0% <br><br>Close: $-6,305.61<br>Profit: $-547",
            "🌲 11.95% <br>P:0.92<br>W:27% <br><br>Adjust: $+6,608<br>",
            "🔻 -2.52% <br>P:0.89<br>W:0% <br><br>Close: $-6,441.43<br>Profit: $-166",
            "🌲 7.28% <br>P:0.96<br>W:55% <br><br>Adjust: $+14,231<br>",
            "🔻 -34.67% <br>P:0.63<br>W:0% <br><br>Close: $-9,296.66<br>Profit: $-4,934",
            "-",
            "P:0.67<br>W:27% <br><br>Open: $5,674",
            "🔻 -0.55% <br>P:0.67<br>W:0% <br><br>Close: $-5,642.71<br>Profit: $-31",
            "-",
            "-",
            "-",
            "P:0.53<br>W:55% <br><br>Open: $11,028",
            "🌲 8.96% <br>P:0.58<br>W:27% <br><br>Adjust: $-6,058<br>Profit: $988",
            "🌲 45.33% <br>P:0.84<br>W:27% <br><br>Adjust: $-1,438<br>Profit: $3,689",
            "🌲 28.83% <br>P:1.08<br>W:27% <br><br>Adjust: $-1,437<br>Profit: $5,772",
            "🌲 1.29% <br>P:1.09<br>W:27% <br><br>Close: $-26.38<br>Profit: $5,873"
           ],
           [
            "-",
            "-",
            "P:0.65<br>W:18% <br><br>Open: $1,480",
            "🌲 93.20% <br>P:1.25<br>W:27% <br><br>Adjust: $-32<br>Profit: $1,379",
            "🌲 29.85% <br>P:1.62<br>W:27% <br><br>Adjust: $-721<br>Profit: $2,224",
            "🔻 -11.18% <br>P:1.44<br>W:0% <br><br>Close: $-2,620.88<br>Profit: $1,894",
            "🌲 53.06% <br>P:2.20<br>W:18% <br><br>Adjust: $+1,980<br>",
            "🌲 8.42% <br>P:2.39<br>W:100% <br><br>Adjust: $+8,449<br>Profit: $154",
            "🌲 12.39% <br>P:2.69<br>W:27% <br><br>Adjust: $-8,733<br>Profit: $1,480",
            "🔻 -1.86% <br>P:2.64<br>W:0% <br><br>Close: $-3,116.61<br>Profit: $1,420",
            "🌲 32.10% <br>P:3.48<br>W:18% <br><br>Adjust: $+2,893<br>",
            "🌲 26.06% <br>P:4.39<br>W:18% <br><br>Adjust: $-214<br>Profit: $754",
            "🌲 61.62% <br>P:7.09<br>W:27% <br><br>Adjust: $+1,408<br>Profit: $2,837",
            "🌲 18.14% <br>P:8.38<br>W:18% <br><br>Adjust: $-2,454<br>Profit: $4,132",
            "🌲 22.30% <br>P:10.25<br>W:27% <br><br>Adjust: $+1,871<br>Profit: $5,375",
            "🌲 28.40% <br>P:13.16<br>W:18% <br><br>Adjust: $-4,704<br>Profit: $7,951",
            "🌲 14.58% <br>P:15.08<br>W:18% <br><br>Adjust: $-520<br>Profit: $8,935",
            "🌲 14.73% <br>P:17.30<br>W:27% <br><br>Adjust: $+3,163<br>Profit: $9,949",
            "🔻 -12.52% <br>P:15.13<br>W:0% <br><br>Close: $-10,009.62<br>Profit: $8,566",
            "🌲 19.08% <br>P:18.02<br>W:18% <br><br>Adjust: $+5,970<br>",
            "🌲 16.26% <br>P:20.95<br>W:27% <br><br>Adjust: $+2,393<br>Profit: $929",
            "🔻 -10.08% <br>P:18.84<br>W:0% <br><br>Close: $-8,391.83<br>Profit: $29",
            "-",
            "P:15.35<br>W:18% <br><br>Open: $6,249",
            "🔻 -7.65% <br>P:14.17<br>W:0% <br><br>Close: $-5,771.05<br>Profit: $-478",
            "-",
            "-",
            "P:13.93<br>W:18% <br><br>Open: $8,321",
            "🌲 12.39% <br>P:15.66<br>W:18% <br><br>Adjust: $+450<br>Profit: $975",
            "🌲 6.05% <br>P:16.61<br>W:55% <br><br>Adjust: $+17,735<br>Profit: $1,562",
            "🔻 -45.60% <br>P:9.03<br>W:0% <br><br>Close: $-15,301.43<br>Profit: $-11,204",
            "🌲 20.17% <br>P:10.86<br>W:18% <br><br>Adjust: $+6,088<br>",
            "🌲 6.34% <br>P:11.54<br>W:18% <br><br>Adjust: $+652<br>Profit: $347",
            "🔻 -24.93% <br>P:8.67<br>W:0% <br><br>Close: $-5,349.03<br>Profit: $-1,390",
            "-",
            "-",
            "P:8.03<br>W:18% <br><br>Open: $6,450",
            "🌲 2.55% <br>P:8.23<br>W:55% <br><br>Adjust: $+11,925<br>Profit: $125",
            "🔻 -13.56% <br>P:7.12<br>W:0% <br><br>Close: $-16,025.13<br>Profit: $-2,350",
            "🌲 17.23% <br>P:8.34<br>W:18% <br><br>Adjust: $+5,460<br>",
            "🌲 2.31% <br>P:8.53<br>W:18% <br><br>Adjust: $+415<br>Profit: $93",
            "🌲 10.54% <br>P:9.43<br>W:18% <br><br>Adjust: $-53<br>Profit: $758",
            "🌲 33.26% <br>P:12.57<br>W:18% <br><br>Adjust: $-1,359<br>Profit: $2,947",
            "🌲 10.04% <br>P:13.84<br>W:27% <br><br>Adjust: $+3,596<br>Profit: $3,642",
            "🔻 -15.67% <br>P:11.67<br>W:0% <br><br>Close: $-9,908.86<br>Profit: $1,850",
            "🌲 22.60% <br>P:14.30<br>W:18% <br><br>Adjust: $+6,817<br>",
            "🔻 -17.25% <br>P:11.84<br>W:0% <br><br>Close: $-5,640.79<br>Profit: $-1,176",
            "🌲 2.23% <br>P:12.10<br>W:27% <br><br>Adjust: $+13,148<br>",
            "🔻 -5.70% <br>P:11.41<br>W:0% <br><br>Close: $-12,398.57<br>Profit: $-750",
            "-",
            "-",
            "P:11.27<br>W:18% <br><br>Open: $8,401",
            "🔻 -6.90% <br>P:10.49<br>W:0% <br><br>Close: $-7,821.24<br>Profit: $-580",
            "🌲 4.83% <br>P:11.00<br>W:18% <br><br>Adjust: $+9,664<br>",
            "🌲 9.97% <br>P:12.09<br>W:18% <br><br>Adjust: $-524<br>Profit: $964",
            "🔻 -7.88% <br>P:11.14<br>W:0% <br><br>Close: $-9,307.21<br>Profit: $167",
            "-",
            "-",
            "-",
            "P:5.64<br>W:27% <br><br>Open: $10,009",
            "🔻 -5.17% <br>P:5.35<br>W:0% <br><br>Close: $-9,492.12<br>Profit: $-517",
            "🌲 48.59% <br>P:7.95<br>W:18% <br><br>Adjust: $+9,035<br>",
            "🌲 13.66% <br>P:9.04<br>W:33% <br><br>Adjust: $+6,466<br>Profit: $1,173",
            "🔻 -23.56% <br>P:6.91<br>W:0% <br><br>Close: $-12,791.80<br>Profit: $-2,709",
            "🌲 1.18% <br>P:6.99<br>W:18% <br><br>Adjust: $+7,281<br>",
            "🔻 -34.37% <br>P:4.59<br>W:0% <br><br>Close: $-4,778.24<br>Profit: $-2,503",
            "-",
            "P:4.78<br>W:18% <br><br>Open: $6,002",
            "🔻 -14.09% <br>P:4.10<br>W:0% <br><br>Close: $-5,155.84<br>Profit: $-846",
            "-",
            "-",
            "-",
            "-",
            "P:3.26<br>W:18% <br><br>Open: $5,948",
            "🌲 21.98% <br>P:3.97<br>W:18% <br><br>Adjust: $-465<br>Profit: $1,308",
            "🌲 11.11% <br>P:4.41<br>W:18% <br><br>Adjust: $-276<br>Profit: $2,062",
            "🔻 -23.14% <br>P:3.39<br>W:0% <br><br>Close: $-5,587.95<br>Profit: $380",
            "-",
            "P:3.40<br>W:27% <br><br>Open: $9,720",
            "🔻 -29.76% <br>P:2.39<br>W:0% <br><br>Close: $-6,827.05<br>Profit: $-2,893",
            "-",
            "-",
            "P:1.47<br>W:55% <br><br>Open: $10,968",
            "🌲 2.10% <br>P:1.50<br>W:67% <br><br>Adjust: $+2,091<br>Profit: $163",
            "🌲 3.69% <br>P:1.55<br>W:55% <br><br>Adjust: $-2,363<br>Profit: $720",
            "🔻 -26.98% <br>P:1.13<br>W:0% <br><br>Close: $-8,336.03<br>Profit: $-2,360",
            "-",
            "P:1.15<br>W:18% <br><br>Open: $3,787",
            "🔻 -11.58% <br>P:1.02<br>W:0% <br><br>Close: $-3,348.40<br>Profit: $-438",
            "🌲 29.63% <br>P:1.32<br>W:18% <br><br>Adjust: $+4,074<br>",
            "🌲 7.42% <br>P:1.42<br>W:18% <br><br>Adjust: $+149<br>Profit: $276",
            "🔻 -4.49% <br>P:1.36<br>W:0% <br><br>Close: $-4,322.05<br>Profit: $99",
            "🌲 7.08% <br>P:1.45<br>W:27% <br><br>Adjust: $+7,953<br>",
            "🌲 3.73% <br>P:1.51<br>W:18% <br><br>Adjust: $-2,842<br>Profit: $296",
            "🔻 -2.21% <br>P:1.47<br>W:0% <br><br>Close: $-5,288.38<br>Profit: $177",
            "-",
            "-",
            "P:1.17<br>W:18% <br><br>Open: $4,859",
            "🌲 11.24% <br>P:1.30<br>W:18% <br><br>Adjust: $-161<br>Profit: $546",
            "🔻 -21.97% <br>P:1.02<br>W:0% <br><br>Close: $-4,091.85<br>Profit: $-606",
            "🌲 3.01% <br>P:1.05<br>W:55% <br><br>Adjust: $+12,883<br>",
            "🔻 -1.75% <br>P:1.03<br>W:0% <br><br>Close: $-12,657.94<br>Profit: $-225",
            "🌲 34.85% <br>P:1.39<br>W:18% <br><br>Adjust: $+4,568<br>",
            "🌲 6.40% <br>P:1.48<br>W:67% <br><br>Adjust: $+11,647<br>Profit: $263",
            "🔻 -2.44% <br>P:1.44<br>W:0% <br><br>Close: $-16,103.91<br>Profit: $-111",
            "🌲 19.01% <br>P:1.71<br>W:27% <br><br>Adjust: $+7,112<br>",
            "🌲 0.58% <br>P:1.72<br>W:27% <br><br>Adjust: $-38<br>Profit: $41",
            "🔻 -27.63% <br>P:1.25<br>W:0% <br><br>Close: $-5,149.42<br>Profit: $-1,924",
            "-",
            "P:1.28<br>W:18% <br><br>Open: $3,783",
            "🌲 5.98% <br>P:1.35<br>W:27% <br><br>Adjust: $+1,891<br>Profit: $202",
            "🔻 -15.77% <br>P:1.14<br>W:0% <br><br>Close: $-4,969.35<br>Profit: $-705",
            "-",
            "-",
            "P:0.95<br>W:27% <br><br>Open: $5,514",
            "🌲 15.30% <br>P:1.09<br>W:18% <br><br>Adjust: $-2,385<br>Profit: $844",
            "🌲 19.34% <br>P:1.30<br>W:18% <br><br>Adjust: $+102<br>Profit: $1,584",
            "🌲 3.42% <br>P:1.34<br>W:18% <br><br>Adjust: $+266<br>Profit: $1,747",
            "🌲 0.72% <br>P:1.35<br>W:18% <br><br>Close: $-17.86<br>Profit: $1,815"
           ],
           [
            "-",
            "-",
            "-",
            "P:3.88<br>W:18% <br><br>Open: $1,885",
            "🔻 -4.92% <br>P:3.69<br>W:0% <br><br>Close: $-1,792.57<br>Profit: $-93",
            "-",
            "-",
            "-",
            "P:3.78<br>W:18% <br><br>Open: $2,117",
            "🔻 -4.38% <br>P:3.61<br>W:0% <br><br>Close: $-2,024.45<br>Profit: $-93",
            "-",
            "-",
            "P:8.71<br>W:18% <br><br>Open: $4,616",
            "🌲 38.07% <br>P:12.02<br>W:0% <br><br>Close: $-6,373.11<br>Profit: $1,757",
            "🌲 47.09% <br>P:17.69<br>W:18% <br><br>Adjust: $+5,920<br>",
            "🌲 5.57% <br>P:18.67<br>W:0% <br><br>Close: $-6,249.42<br>Profit: $330",
            "-",
            "P:29.01<br>W:18% <br><br>Open: $7,595",
            "🔻 -22.72% <br>P:22.42<br>W:0% <br><br>Close: $-5,869.59<br>Profit: $-1,726",
            "-",
            "-",
            "P:33.05<br>W:33% <br><br>Open: $10,883",
            "🔻 -16.05% <br>P:27.74<br>W:0% <br><br>Close: $-9,135.50<br>Profit: $-1,747",
            "-",
            "-",
            "P:31.98<br>W:18% <br><br>Open: $6,455",
            "🌲 7.67% <br>P:34.43<br>W:27% <br><br>Adjust: $+2,458<br>Profit: $454",
            "🌲 23.19% <br>P:42.41<br>W:0% <br><br>Close: $-11,590.14<br>Profit: $2,677",
            "-",
            "-",
            "-",
            "-",
            "-",
            "-",
            "-",
            "-",
            "-",
            "-",
            "-",
            "-",
            "-",
            "-",
            "-",
            "-",
            "-",
            "-",
            "-",
            "P:23.83<br>W:18% <br><br>Open: $8,766",
            "🌲 1.27% <br>P:24.13<br>W:67% <br><br>Adjust: $+20,498<br>Profit: $58",
            "🌲 7.59% <br>P:25.97<br>W:18% <br><br>Adjust: $-23,767<br>Profit: $2,340",
            "🔻 -7.56% <br>P:24.00<br>W:0% <br><br>Close: $-7,244.08<br>Profit: $1,747",
            "-",
            "-",
            "-",
            "-",
            "-",
            "-",
            "-",
            "-",
            "-",
            "-",
            "-",
            "-",
            "-",
            "-",
            "-",
            "-",
            "-",
            "-",
            "-",
            "P:9.72<br>W:67% <br><br>Open: $20,071",
            "🔻 -13.91% <br>P:8.37<br>W:0% <br><br>Close: $-17,278.70<br>Profit: $-2,793",
            "-",
            "-",
            "-",
            "-",
            "-",
            "-",
            "-",
            "-",
            "-",
            "-",
            "P:5.53<br>W:27% <br><br>Open: $5,484",
            "🔻 -11.01% <br>P:4.92<br>W:0% <br><br>Close: $-4,880.24<br>Profit: $-604",
            "🌲 4.24% <br>P:5.13<br>W:27% <br><br>Adjust: $+5,708<br>",
            "🔻 -21.10% <br>P:4.05<br>W:0% <br><br>Close: $-4,503.30<br>Profit: $-1,204",
            "🌲 3.66% <br>P:4.20<br>W:67% <br><br>Adjust: $+10,952<br>",
            "🌲 33.38% <br>P:5.60<br>W:0% <br><br>Close: $-14,607.88<br>Profit: $3,656",
            "-",
            "-",
            "-",
            "P:7.30<br>W:18% <br><br>Open: $5,121",
            "🌲 14.75% <br>P:8.38<br>W:18% <br><br>Adjust: $-574<br>Profit: $755",
            "🌲 4.95% <br>P:8.80<br>W:0% <br><br>Close: $-5,564.63<br>Profit: $1,017",
            "🌲 1.01% <br>P:8.89<br>W:27% <br><br>Adjust: $+8,522<br>",
            "🔻 -18.93% <br>P:7.20<br>W:0% <br><br>Close: $-6,908.57<br>Profit: $-1,613",
            "-",
            "-",
            "-",
            "-",
            "P:5.67<br>W:27% <br><br>Open: $6,441",
            "🌲 10.38% <br>P:6.26<br>W:55% <br><br>Adjust: $+5,971<br>Profit: $626",
            "🌲 6.54% <br>P:6.67<br>W:0% <br><br>Close: $-13,936.86<br>Profit: $1,525",
            "-",
            "P:6.34<br>W:18% <br><br>Open: $4,405",
            "🌲 8.78% <br>P:6.90<br>W:18% <br><br>Adjust: $-51<br>Profit: $387",
            "🌲 2.89% <br>P:7.09<br>W:18% <br><br>Adjust: $-134<br>Profit: $523",
            "🔻 -18.35% <br>P:5.79<br>W:0% <br><br>Close: $-3,873.00<br>Profit: $-347",
            "-",
            "-",
            "P:6.29<br>W:18% <br><br>Open: $3,917",
            "🔻 -5.53% <br>P:5.94<br>W:0% <br><br>Close: $-3,700.66<br>Profit: $-217",
            "-",
            "-",
            "P:5.28<br>W:18% <br><br>Open: $3,676",
            "🌲 5.59% <br>P:5.58<br>W:0% <br><br>Close: $-3,881.62<br>Profit: $206",
            "-",
            "-",
            "-"
           ],
           [
            "-",
            "-",
            "-",
            "-",
            "P:69.69<br>W:18% <br><br>Open: $1,967",
            "🔻 -0.86% <br>P:69.09<br>W:0% <br><br>Close: $-1,950.22<br>Profit: $-17",
            "-",
            "-",
            "-",
            "-",
            "-",
            "-",
            "-",
            "-",
            "-",
            "-",
            "-",
            "-",
            "-",
            "-",
            "-",
            "-",
            "-",
            "-",
            "-",
            "-",
            "-",
            "-",
            "-",
            "P:528.27<br>W:27% <br><br>Open: $14,034",
            "🔻 -43.82% <br>P:296.78<br>W:0% <br><br>Close: $-7,884.17<br>Profit: $-6,150",
            "-",
            "-",
            "-",
            "-",
            "-",
            "-",
            "P:304.67<br>W:27% <br><br>Open: $9,250",
            "🔻 -15.95% <br>P:256.09<br>W:0% <br><br>Close: $-7,774.79<br>Profit: $-1,475",
            "-",
            "-",
            "-",
            "-",
            "-",
            "-",
            "-",
            "-",
            "-",
            "-",
            "-",
            "-",
            "-",
            "P:313.42<br>W:18% <br><br>Open: $8,941",
            "🔻 -0.03% <br>P:313.32<br>W:0% <br><br>Close: $-8,937.96<br>Profit: $-3",
            "-",
            "-",
            "-",
            "-",
            "-",
            "-",
            "P:183.85<br>W:27% <br><br>Open: $10,276",
            "🌲 46.95% <br>P:270.17<br>W:0% <br><br>Close: $-15,100.51<br>Profit: $4,825",
            "-",
            "-",
            "-",
            "-",
            "-",
            "-",
            "-",
            "-",
            "-",
            "-",
            "P:115.24<br>W:100% <br><br>Open: $25,688",
            "🌲 34.19% <br>P:154.64<br>W:0% <br><br>Close: $-34,470.36<br>Profit: $8,782",
            "-",
            "-",
            "-",
            "-",
            "-",
            "-",
            "-",
            "-",
            "P:93.91<br>W:18% <br><br>Open: $3,656",
            "🌲 3.27% <br>P:96.97<br>W:33% <br><br>Adjust: $+2,858<br>Profit: $97",
            "🌲 11.92% <br>P:108.54<br>W:18% <br><br>Adjust: $-3,619<br>Profit: $910",
            "🔻 -35.25% <br>P:70.27<br>W:0% <br><br>Close: $-2,463.75<br>Profit: $-431",
            "-",
            "-",
            "-",
            "-",
            "-",
            "-",
            "-",
            "-",
            "P:110.14<br>W:18% <br><br>Open: $5,681",
            "🔻 -22.41% <br>P:85.46<br>W:0% <br><br>Close: $-4,408.16<br>Profit: $-1,273",
            "-",
            "-",
            "-",
            "-",
            "P:73.71<br>W:18% <br><br>Open: $4,294",
            "🔻 -0.43% <br>P:73.39<br>W:27% <br><br>Adjust: $+2,269<br>Profit: $-44",
            "🌲 4.55% <br>P:76.73<br>W:0% <br><br>Close: $-6,842.70<br>Profit: $279",
            "-",
            "-",
            "-",
            "-",
            "-",
            "P:56.54<br>W:67% <br><br>Open: $13,249",
            "🌲 6.84% <br>P:60.40<br>W:0% <br><br>Close: $-14,154.38<br>Profit: $906",
            "-",
            "-",
            "-",
            "-",
            "-",
            "-",
            "-",
            "-",
            "-"
           ],
           [
            "P:0.02<br>W:33% <br><br>Open: $2,667",
            "🔻 -26.62% <br>P:0.01<br>W:0% <br><br>Close: $-1,956.89<br>Profit: $-710",
            "-",
            "-",
            "-",
            "P:0.02<br>W:33% <br><br>Open: $3,544",
            "🔻 -0.37% <br>P:0.02<br>W:0% <br><br>Close: $-3,530.68<br>Profit: $-13",
            "-",
            "-",
            "-",
            "-",
            "-",
            "-",
            "-",
            "-",
            "-",
            "-",
            "-",
            "P:0.22<br>W:100% <br><br>Open: $34,492",
            "🔻 -6.01% <br>P:0.20<br>W:0% <br><br>Close: $-32,419.81<br>Profit: $-2,072",
            "🌲 85.89% <br>P:0.38<br>W:18% <br><br>Adjust: $+6,194<br>",
            "🔻 -3.05% <br>P:0.37<br>W:0% <br><br>Close: $-6,005.43<br>Profit: $-189",
            "-",
            "-",
            "P:0.37<br>W:18% <br><br>Open: $6,282",
            "🌲 0.34% <br>P:0.37<br>W:0% <br><br>Close: $-6,303.14<br>Profit: $22",
            "🌲 3.47% <br>P:0.38<br>W:18% <br><br>Adjust: $+6,245<br>",
            "🌲 111.18% <br>P:0.81<br>W:0% <br><br>Close: $-13,187.34<br>Profit: $6,943",
            "-",
            "P:1.67<br>W:18% <br><br>Open: $9,356",
            "🔻 -37.96% <br>P:1.03<br>W:0% <br><br>Close: $-5,804.56<br>Profit: $-3,551",
            "-",
            "-",
            "-",
            "-",
            "-",
            "-",
            "-",
            "-",
            "-",
            "-",
            "-",
            "-",
            "P:1.63<br>W:18% <br><br>Open: $7,801",
            "🔻 -13.07% <br>P:1.42<br>W:0% <br><br>Close: $-6,781.15<br>Profit: $-1,019",
            "-",
            "-",
            "-",
            "-",
            "-",
            "-",
            "-",
            "-",
            "-",
            "-",
            "-",
            "-",
            "P:1.66<br>W:18% <br><br>Open: $6,856",
            "🌲 23.75% <br>P:2.05<br>W:100% <br><br>Adjust: $+27,795<br>Profit: $1,578",
            "🌲 1.49% <br>P:2.08<br>W:18% <br><br>Adjust: $-30,145<br>Profit: $2,167",
            "🌲 7.07% <br>P:2.23<br>W:18% <br><br>Adjust: $-294<br>Profit: $2,639",
            "🌲 28.91% <br>P:2.87<br>W:0% <br><br>Close: $-8,830.86<br>Profit: $4,619",
            "-",
            "-",
            "-",
            "-",
            "-",
            "-",
            "-",
            "-",
            "-",
            "-",
            "-",
            "-",
            "-",
            "-",
            "-",
            "-",
            "P:1.35<br>W:18% <br><br>Open: $6,480",
            "🔻 -18.65% <br>P:1.10<br>W:0% <br><br>Close: $-5,271.72<br>Profit: $-1,208",
            "-",
            "-",
            "-",
            "-",
            "-",
            "-",
            "-",
            "-",
            "-",
            "-",
            "-",
            "-",
            "-",
            "-",
            "-",
            "-",
            "-",
            "-",
            "-",
            "-",
            "-",
            "P:0.77<br>W:18% <br><br>Open: $4,346",
            "🌲 7.02% <br>P:0.82<br>W:0% <br><br>Close: $-4,651.22<br>Profit: $305",
            "-",
            "-",
            "-",
            "-",
            "-",
            "-",
            "-",
            "-",
            "-",
            "-",
            "-",
            "-",
            "-",
            "-",
            "-",
            "-"
           ],
           [
            "-",
            "-",
            "-",
            "-",
            "-",
            "-",
            "-",
            "-",
            "-",
            "-",
            "-",
            "-",
            "-",
            "-",
            "-",
            "-",
            "-",
            "-",
            "-",
            "-",
            "-",
            "-",
            "-",
            "-",
            "-",
            "-",
            "-",
            "-",
            "-",
            "-",
            "-",
            "-",
            "-",
            "-",
            "-",
            "-",
            "-",
            "P:15.18<br>W:18% <br><br>Open: $6,167",
            "🔻 -14.72% <br>P:12.95<br>W:0% <br><br>Close: $-5,259.06<br>Profit: $-907",
            "-",
            "-",
            "-",
            "-",
            "-",
            "P:25.36<br>W:67% <br><br>Open: $25,236",
            "🔻 -3.85% <br>P:24.38<br>W:0% <br><br>Close: $-24,264.72<br>Profit: $-972",
            "-",
            "-",
            "-",
            "-",
            "-",
            "-",
            "-",
            "-",
            "-",
            "-",
            "-",
            "-",
            "-",
            "-",
            "-",
            "-",
            "-",
            "-",
            "-",
            "-",
            "-",
            "-",
            "-",
            "-",
            "-",
            "-",
            "-",
            "-",
            "-",
            "-",
            "-",
            "-",
            "-",
            "-",
            "-",
            "-",
            "-",
            "-",
            "-",
            "-",
            "-",
            "-",
            "-",
            "-",
            "-",
            "-",
            "-",
            "-",
            "-",
            "-",
            "-",
            "-",
            "-",
            "-",
            "-",
            "-",
            "-",
            "P:4.60<br>W:33% <br><br>Open: $8,239",
            "🔻 -2.87% <br>P:4.47<br>W:0% <br><br>Close: $-8,002.84<br>Profit: $-236",
            "-",
            "-",
            "-",
            "-",
            "-",
            "-",
            "-",
            "-",
            "-",
            "-",
            "-",
            "-",
            "-",
            "-"
           ],
           [
            "-",
            "-",
            "-",
            "-",
            "-",
            "-",
            "-",
            "-",
            "-",
            "-",
            "-",
            "-",
            "-",
            "-",
            "-",
            "-",
            "-",
            "-",
            "-",
            "-",
            "-",
            "-",
            "-",
            "-",
            "-",
            "-",
            "-",
            "-",
            "-",
            "-",
            "-",
            "-",
            "-",
            "-",
            "-",
            "-",
            "-",
            "-",
            "-",
            "-",
            "-",
            "-",
            "-",
            "-",
            "P:482.26<br>W:33% <br><br>Open: $12,618",
            "🌲 4.12% <br>P:502.15<br>W:0% <br><br>Close: $-13,138.62<br>Profit: $520",
            "-",
            "-",
            "-",
            "-",
            "-",
            "-",
            "-",
            "-",
            "-",
            "P:653.80<br>W:33% <br><br>Open: $18,061",
            "🔻 -10.79% <br>P:583.26<br>W:0% <br><br>Close: $-16,112.75<br>Profit: $-1,949",
            "-",
            "-",
            "-",
            "-",
            "-",
            "-",
            "-",
            "-",
            "-",
            "-",
            "-",
            "-",
            "-",
            "-",
            "P:376.00<br>W:67% <br><br>Open: $18,572",
            "🔻 -4.19% <br>P:360.26<br>W:0% <br><br>Close: $-17,794.26<br>Profit: $-777",
            "-",
            "-",
            "-",
            "-",
            "-",
            "-",
            "-",
            "-",
            "-",
            "-",
            "-",
            "-",
            "-",
            "-",
            "-",
            "-",
            "-",
            "-",
            "-",
            "-",
            "-",
            "-",
            "-",
            "-",
            "-",
            "-",
            "-",
            "-",
            "-",
            "-",
            "-",
            "-",
            "-",
            "-",
            "-",
            "-",
            "-",
            "-",
            "-",
            "-",
            "-",
            "-",
            "-",
            "-",
            "-",
            "-"
           ],
           [
            "-",
            "-",
            "-",
            "-",
            "-",
            "-",
            "-",
            "-",
            "-",
            "-",
            "-",
            "-",
            "-",
            "-",
            "-",
            "-",
            "-",
            "-",
            "-",
            "-",
            "-",
            "-",
            "-",
            "-",
            "-",
            "-",
            "-",
            "-",
            "-",
            "-",
            "-",
            "-",
            "-",
            "-",
            "-",
            "-",
            "-",
            "-",
            "-",
            "-",
            "-",
            "-",
            "-",
            "-",
            "-",
            "-",
            "P:2.16<br>W:100% <br><br>Open: $34,061",
            "🌲 51.93% <br>P:3.28<br>W:0% <br><br>Close: $-51,748.16<br>Profit: $17,687",
            "🌲 14.76% <br>P:3.76<br>W:33% <br><br>Adjust: $+14,661<br>",
            "🔻 -23.08% <br>P:2.90<br>W:0% <br><br>Close: $-11,277.69<br>Profit: $-3,383",
            "-",
            "-",
            "-",
            "-",
            "-",
            "-",
            "P:4.57<br>W:100% <br><br>Open: $50,415",
            "🔻 -31.51% <br>P:3.13<br>W:0% <br><br>Close: $-34,530.47<br>Profit: $-15,885",
            "-",
            "-",
            "-",
            "-",
            "-",
            "-",
            "-",
            "-",
            "-",
            "-",
            "-",
            "-",
            "P:1.05<br>W:33% <br><br>Open: $10,036",
            "🔻 -0.19% <br>P:1.04<br>W:33% <br><br>Adjust: $-731<br>Profit: $-19",
            "🔻 -20.83% <br>P:0.83<br>W:0% <br><br>Close: $-7,351.77<br>Profit: $-1,953",
            "-",
            "-",
            "-",
            "-",
            "-",
            "-",
            "-",
            "-",
            "-",
            "-",
            "-",
            "-",
            "-",
            "P:0.21<br>W:33% <br><br>Open: $5,476",
            "🌲 33.65% <br>P:0.28<br>W:0% <br><br>Close: $-7,318.79<br>Profit: $1,843",
            "-",
            "-",
            "-",
            "-",
            "-",
            "-",
            "-",
            "-",
            "-",
            "-",
            "-",
            "-",
            "-",
            "-",
            "-",
            "-",
            "-",
            "-",
            "-",
            "-",
            "P:0.16<br>W:33% <br><br>Open: $6,624",
            "🌲 3.90% <br>P:0.16<br>W:0% <br><br>Close: $-6,882.54<br>Profit: $258",
            "-",
            "-",
            "-",
            "-",
            "-",
            "-",
            "-",
            "-",
            "-"
           ],
           [
            "-",
            "-",
            "-",
            "-",
            "-",
            "-",
            "-",
            "-",
            "-",
            "-",
            "-",
            "-",
            "-",
            "-",
            "-",
            "-",
            "-",
            "-",
            "-",
            "-",
            "-",
            "-",
            "-",
            "-",
            "-",
            "-",
            "-",
            "-",
            "-",
            "-",
            "-",
            "-",
            "-",
            "-",
            "-",
            "-",
            "-",
            "-",
            "-",
            "-",
            "-",
            "-",
            "-",
            "-",
            "-",
            "-",
            "-",
            "-",
            "-",
            "-",
            "-",
            "-",
            "-",
            "-",
            "-",
            "-",
            "-",
            "-",
            "-",
            "-",
            "-",
            "-",
            "-",
            "-",
            "-",
            "-",
            "-",
            "-",
            "-",
            "-",
            "-",
            "-",
            "-",
            "-",
            "-",
            "-",
            "-",
            "-",
            "-",
            "-",
            "-",
            "-",
            "-",
            "-",
            "-",
            "-",
            "-",
            "-",
            "-",
            "-",
            "-",
            "-",
            "-",
            "-",
            "-",
            "-",
            "-",
            "-",
            "-",
            "-",
            "-",
            "-",
            "-",
            "-",
            "-",
            "-",
            "-",
            "-",
            "-",
            "-",
            "-",
            "-",
            "-",
            "-",
            "-",
            "-",
            "-",
            "-",
            "-"
           ]
          ]
         },
         "header": {
          "align": "left",
          "fill": {
           "color": "paleturquoise"
          },
          "values": [
           "Cycle",
           "Equity",
           "WETH",
           "CRV",
           "SUSHI",
           "UNI",
           "AAVE",
           "WMATIC",
           "Cake",
           "WBNB",
           "JOE",
           "WAVAX"
          ]
         },
         "type": "table"
        }
       ],
       "layout": {
        "template": {
         "data": {
          "bar": [
           {
            "error_x": {
             "color": "#2a3f5f"
            },
            "error_y": {
             "color": "#2a3f5f"
            },
            "marker": {
             "line": {
              "color": "#E5ECF6",
              "width": 0.5
             },
             "pattern": {
              "fillmode": "overlay",
              "size": 10,
              "solidity": 0.2
             }
            },
            "type": "bar"
           }
          ],
          "barpolar": [
           {
            "marker": {
             "line": {
              "color": "#E5ECF6",
              "width": 0.5
             },
             "pattern": {
              "fillmode": "overlay",
              "size": 10,
              "solidity": 0.2
             }
            },
            "type": "barpolar"
           }
          ],
          "carpet": [
           {
            "aaxis": {
             "endlinecolor": "#2a3f5f",
             "gridcolor": "white",
             "linecolor": "white",
             "minorgridcolor": "white",
             "startlinecolor": "#2a3f5f"
            },
            "baxis": {
             "endlinecolor": "#2a3f5f",
             "gridcolor": "white",
             "linecolor": "white",
             "minorgridcolor": "white",
             "startlinecolor": "#2a3f5f"
            },
            "type": "carpet"
           }
          ],
          "choropleth": [
           {
            "colorbar": {
             "outlinewidth": 0,
             "ticks": ""
            },
            "type": "choropleth"
           }
          ],
          "contour": [
           {
            "colorbar": {
             "outlinewidth": 0,
             "ticks": ""
            },
            "colorscale": [
             [
              0,
              "#0d0887"
             ],
             [
              0.1111111111111111,
              "#46039f"
             ],
             [
              0.2222222222222222,
              "#7201a8"
             ],
             [
              0.3333333333333333,
              "#9c179e"
             ],
             [
              0.4444444444444444,
              "#bd3786"
             ],
             [
              0.5555555555555556,
              "#d8576b"
             ],
             [
              0.6666666666666666,
              "#ed7953"
             ],
             [
              0.7777777777777778,
              "#fb9f3a"
             ],
             [
              0.8888888888888888,
              "#fdca26"
             ],
             [
              1,
              "#f0f921"
             ]
            ],
            "type": "contour"
           }
          ],
          "contourcarpet": [
           {
            "colorbar": {
             "outlinewidth": 0,
             "ticks": ""
            },
            "type": "contourcarpet"
           }
          ],
          "heatmap": [
           {
            "colorbar": {
             "outlinewidth": 0,
             "ticks": ""
            },
            "colorscale": [
             [
              0,
              "#0d0887"
             ],
             [
              0.1111111111111111,
              "#46039f"
             ],
             [
              0.2222222222222222,
              "#7201a8"
             ],
             [
              0.3333333333333333,
              "#9c179e"
             ],
             [
              0.4444444444444444,
              "#bd3786"
             ],
             [
              0.5555555555555556,
              "#d8576b"
             ],
             [
              0.6666666666666666,
              "#ed7953"
             ],
             [
              0.7777777777777778,
              "#fb9f3a"
             ],
             [
              0.8888888888888888,
              "#fdca26"
             ],
             [
              1,
              "#f0f921"
             ]
            ],
            "type": "heatmap"
           }
          ],
          "heatmapgl": [
           {
            "colorbar": {
             "outlinewidth": 0,
             "ticks": ""
            },
            "colorscale": [
             [
              0,
              "#0d0887"
             ],
             [
              0.1111111111111111,
              "#46039f"
             ],
             [
              0.2222222222222222,
              "#7201a8"
             ],
             [
              0.3333333333333333,
              "#9c179e"
             ],
             [
              0.4444444444444444,
              "#bd3786"
             ],
             [
              0.5555555555555556,
              "#d8576b"
             ],
             [
              0.6666666666666666,
              "#ed7953"
             ],
             [
              0.7777777777777778,
              "#fb9f3a"
             ],
             [
              0.8888888888888888,
              "#fdca26"
             ],
             [
              1,
              "#f0f921"
             ]
            ],
            "type": "heatmapgl"
           }
          ],
          "histogram": [
           {
            "marker": {
             "pattern": {
              "fillmode": "overlay",
              "size": 10,
              "solidity": 0.2
             }
            },
            "type": "histogram"
           }
          ],
          "histogram2d": [
           {
            "colorbar": {
             "outlinewidth": 0,
             "ticks": ""
            },
            "colorscale": [
             [
              0,
              "#0d0887"
             ],
             [
              0.1111111111111111,
              "#46039f"
             ],
             [
              0.2222222222222222,
              "#7201a8"
             ],
             [
              0.3333333333333333,
              "#9c179e"
             ],
             [
              0.4444444444444444,
              "#bd3786"
             ],
             [
              0.5555555555555556,
              "#d8576b"
             ],
             [
              0.6666666666666666,
              "#ed7953"
             ],
             [
              0.7777777777777778,
              "#fb9f3a"
             ],
             [
              0.8888888888888888,
              "#fdca26"
             ],
             [
              1,
              "#f0f921"
             ]
            ],
            "type": "histogram2d"
           }
          ],
          "histogram2dcontour": [
           {
            "colorbar": {
             "outlinewidth": 0,
             "ticks": ""
            },
            "colorscale": [
             [
              0,
              "#0d0887"
             ],
             [
              0.1111111111111111,
              "#46039f"
             ],
             [
              0.2222222222222222,
              "#7201a8"
             ],
             [
              0.3333333333333333,
              "#9c179e"
             ],
             [
              0.4444444444444444,
              "#bd3786"
             ],
             [
              0.5555555555555556,
              "#d8576b"
             ],
             [
              0.6666666666666666,
              "#ed7953"
             ],
             [
              0.7777777777777778,
              "#fb9f3a"
             ],
             [
              0.8888888888888888,
              "#fdca26"
             ],
             [
              1,
              "#f0f921"
             ]
            ],
            "type": "histogram2dcontour"
           }
          ],
          "mesh3d": [
           {
            "colorbar": {
             "outlinewidth": 0,
             "ticks": ""
            },
            "type": "mesh3d"
           }
          ],
          "parcoords": [
           {
            "line": {
             "colorbar": {
              "outlinewidth": 0,
              "ticks": ""
             }
            },
            "type": "parcoords"
           }
          ],
          "pie": [
           {
            "automargin": true,
            "type": "pie"
           }
          ],
          "scatter": [
           {
            "fillpattern": {
             "fillmode": "overlay",
             "size": 10,
             "solidity": 0.2
            },
            "type": "scatter"
           }
          ],
          "scatter3d": [
           {
            "line": {
             "colorbar": {
              "outlinewidth": 0,
              "ticks": ""
             }
            },
            "marker": {
             "colorbar": {
              "outlinewidth": 0,
              "ticks": ""
             }
            },
            "type": "scatter3d"
           }
          ],
          "scattercarpet": [
           {
            "marker": {
             "colorbar": {
              "outlinewidth": 0,
              "ticks": ""
             }
            },
            "type": "scattercarpet"
           }
          ],
          "scattergeo": [
           {
            "marker": {
             "colorbar": {
              "outlinewidth": 0,
              "ticks": ""
             }
            },
            "type": "scattergeo"
           }
          ],
          "scattergl": [
           {
            "marker": {
             "colorbar": {
              "outlinewidth": 0,
              "ticks": ""
             }
            },
            "type": "scattergl"
           }
          ],
          "scattermapbox": [
           {
            "marker": {
             "colorbar": {
              "outlinewidth": 0,
              "ticks": ""
             }
            },
            "type": "scattermapbox"
           }
          ],
          "scatterpolar": [
           {
            "marker": {
             "colorbar": {
              "outlinewidth": 0,
              "ticks": ""
             }
            },
            "type": "scatterpolar"
           }
          ],
          "scatterpolargl": [
           {
            "marker": {
             "colorbar": {
              "outlinewidth": 0,
              "ticks": ""
             }
            },
            "type": "scatterpolargl"
           }
          ],
          "scatterternary": [
           {
            "marker": {
             "colorbar": {
              "outlinewidth": 0,
              "ticks": ""
             }
            },
            "type": "scatterternary"
           }
          ],
          "surface": [
           {
            "colorbar": {
             "outlinewidth": 0,
             "ticks": ""
            },
            "colorscale": [
             [
              0,
              "#0d0887"
             ],
             [
              0.1111111111111111,
              "#46039f"
             ],
             [
              0.2222222222222222,
              "#7201a8"
             ],
             [
              0.3333333333333333,
              "#9c179e"
             ],
             [
              0.4444444444444444,
              "#bd3786"
             ],
             [
              0.5555555555555556,
              "#d8576b"
             ],
             [
              0.6666666666666666,
              "#ed7953"
             ],
             [
              0.7777777777777778,
              "#fb9f3a"
             ],
             [
              0.8888888888888888,
              "#fdca26"
             ],
             [
              1,
              "#f0f921"
             ]
            ],
            "type": "surface"
           }
          ],
          "table": [
           {
            "cells": {
             "fill": {
              "color": "#EBF0F8"
             },
             "line": {
              "color": "white"
             }
            },
            "header": {
             "fill": {
              "color": "#C8D4E3"
             },
             "line": {
              "color": "white"
             }
            },
            "type": "table"
           }
          ]
         },
         "layout": {
          "annotationdefaults": {
           "arrowcolor": "#2a3f5f",
           "arrowhead": 0,
           "arrowwidth": 1
          },
          "autotypenumbers": "strict",
          "coloraxis": {
           "colorbar": {
            "outlinewidth": 0,
            "ticks": ""
           }
          },
          "colorscale": {
           "diverging": [
            [
             0,
             "#8e0152"
            ],
            [
             0.1,
             "#c51b7d"
            ],
            [
             0.2,
             "#de77ae"
            ],
            [
             0.3,
             "#f1b6da"
            ],
            [
             0.4,
             "#fde0ef"
            ],
            [
             0.5,
             "#f7f7f7"
            ],
            [
             0.6,
             "#e6f5d0"
            ],
            [
             0.7,
             "#b8e186"
            ],
            [
             0.8,
             "#7fbc41"
            ],
            [
             0.9,
             "#4d9221"
            ],
            [
             1,
             "#276419"
            ]
           ],
           "sequential": [
            [
             0,
             "#0d0887"
            ],
            [
             0.1111111111111111,
             "#46039f"
            ],
            [
             0.2222222222222222,
             "#7201a8"
            ],
            [
             0.3333333333333333,
             "#9c179e"
            ],
            [
             0.4444444444444444,
             "#bd3786"
            ],
            [
             0.5555555555555556,
             "#d8576b"
            ],
            [
             0.6666666666666666,
             "#ed7953"
            ],
            [
             0.7777777777777778,
             "#fb9f3a"
            ],
            [
             0.8888888888888888,
             "#fdca26"
            ],
            [
             1,
             "#f0f921"
            ]
           ],
           "sequentialminus": [
            [
             0,
             "#0d0887"
            ],
            [
             0.1111111111111111,
             "#46039f"
            ],
            [
             0.2222222222222222,
             "#7201a8"
            ],
            [
             0.3333333333333333,
             "#9c179e"
            ],
            [
             0.4444444444444444,
             "#bd3786"
            ],
            [
             0.5555555555555556,
             "#d8576b"
            ],
            [
             0.6666666666666666,
             "#ed7953"
            ],
            [
             0.7777777777777778,
             "#fb9f3a"
            ],
            [
             0.8888888888888888,
             "#fdca26"
            ],
            [
             1,
             "#f0f921"
            ]
           ]
          },
          "colorway": [
           "#636efa",
           "#EF553B",
           "#00cc96",
           "#ab63fa",
           "#FFA15A",
           "#19d3f3",
           "#FF6692",
           "#B6E880",
           "#FF97FF",
           "#FECB52"
          ],
          "font": {
           "color": "#2a3f5f"
          },
          "geo": {
           "bgcolor": "white",
           "lakecolor": "white",
           "landcolor": "#E5ECF6",
           "showlakes": true,
           "showland": true,
           "subunitcolor": "white"
          },
          "hoverlabel": {
           "align": "left"
          },
          "hovermode": "closest",
          "mapbox": {
           "style": "light"
          },
          "paper_bgcolor": "white",
          "plot_bgcolor": "#E5ECF6",
          "polar": {
           "angularaxis": {
            "gridcolor": "white",
            "linecolor": "white",
            "ticks": ""
           },
           "bgcolor": "#E5ECF6",
           "radialaxis": {
            "gridcolor": "white",
            "linecolor": "white",
            "ticks": ""
           }
          },
          "scene": {
           "xaxis": {
            "backgroundcolor": "#E5ECF6",
            "gridcolor": "white",
            "gridwidth": 2,
            "linecolor": "white",
            "showbackground": true,
            "ticks": "",
            "zerolinecolor": "white"
           },
           "yaxis": {
            "backgroundcolor": "#E5ECF6",
            "gridcolor": "white",
            "gridwidth": 2,
            "linecolor": "white",
            "showbackground": true,
            "ticks": "",
            "zerolinecolor": "white"
           },
           "zaxis": {
            "backgroundcolor": "#E5ECF6",
            "gridcolor": "white",
            "gridwidth": 2,
            "linecolor": "white",
            "showbackground": true,
            "ticks": "",
            "zerolinecolor": "white"
           }
          },
          "shapedefaults": {
           "line": {
            "color": "#2a3f5f"
           }
          },
          "ternary": {
           "aaxis": {
            "gridcolor": "white",
            "linecolor": "white",
            "ticks": ""
           },
           "baxis": {
            "gridcolor": "white",
            "linecolor": "white",
            "ticks": ""
           },
           "bgcolor": "#E5ECF6",
           "caxis": {
            "gridcolor": "white",
            "linecolor": "white",
            "ticks": ""
           }
          },
          "title": {
           "x": 0.05
          },
          "xaxis": {
           "automargin": true,
           "gridcolor": "white",
           "linecolor": "white",
           "ticks": "",
           "title": {
            "standoff": 15
           },
           "zerolinecolor": "white",
           "zerolinewidth": 2
          },
          "yaxis": {
           "automargin": true,
           "gridcolor": "white",
           "linecolor": "white",
           "ticks": "",
           "title": {
            "standoff": 15
           },
           "zerolinecolor": "white",
           "zerolinewidth": 2
          }
         }
        }
       }
      }
     },
     "metadata": {},
     "output_type": "display_data"
    }
   ],
   "source": [
    "from tradeexecutor.analysis.alpha_model_analyser import render_alpha_model_plotly_table, create_alpha_model_timeline_all_assets\n",
    "\n",
    "timeline = create_alpha_model_timeline_all_assets(state, universe, new_line=\"<br>\")\n",
    "figure, table = render_alpha_model_plotly_table(timeline)\n",
    "\n",
    "display(figure)"
   ]
  },
  {
   "cell_type": "markdown",
   "metadata": {},
   "source": [
    "## Finishing notes\n",
    "\n",
    "Print out a line to signal the notebook finished the execution successfully."
   ]
  },
  {
   "cell_type": "code",
   "execution_count": 11,
   "metadata": {
    "collapsed": false,
    "jupyter": {
     "outputs_hidden": false
    },
    "pycharm": {
     "is_executing": true
    }
   },
   "outputs": [
    {
     "name": "stdout",
     "output_type": "stream",
     "text": [
      "All ok\n"
     ]
    }
   ],
   "source": [
    "print(\"All ok\")"
   ]
  },
  {
   "cell_type": "code",
   "execution_count": null,
   "metadata": {
    "collapsed": false,
    "jupyter": {
     "outputs_hidden": false
    },
    "pycharm": {
     "is_executing": true
    }
   },
   "outputs": [],
   "source": []
  }
 ],
 "metadata": {
  "kernelspec": {
   "display_name": "trade-executor-8Oz1GdY1-py3.10",
   "language": "python",
   "name": "python3"
  },
  "language_info": {
   "codemirror_mode": {
    "name": "ipython",
    "version": 3
   },
   "file_extension": ".py",
   "mimetype": "text/x-python",
   "name": "python",
   "nbconvert_exporter": "python",
   "pygments_lexer": "ipython3",
   "version": "3.10.10"
  },
  "vscode": {
   "interpreter": {
    "hash": "7adede735167b7e67e1575a49b63099e273f8f003d80ae98ec60bd132e113570"
   }
  }
 },
 "nbformat": 4,
 "nbformat_minor": 4
}
