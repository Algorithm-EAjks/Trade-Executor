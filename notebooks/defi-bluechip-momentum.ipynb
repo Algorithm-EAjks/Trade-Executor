{
 "cells": [
  {
   "attachments": {},
   "cell_type": "markdown",
   "metadata": {},
   "source": [
    "# DeFi bluechip token momentum trading strategy\n",
    "\n",
    "This is an example notebook how to construct a momentum based portfolio construction strategy\n",
    "using [Trading Strategy framework](https://tradingstrategy.ai/docs/).\n",
    "\n",
    "Some highlights of this notebook:\n",
    "\n",
    "* Make sure you have studied some simpler backtesting examples first\n",
    "* The backtest has all its code within a single Jupyter notebook\n",
    "    - The backtest code and charts are self-contained in a single file\n",
    "    - The example code is easy to read\n",
    "    - Easy to test different functionalities of [tradeexecutor](https://tradingstrategy.ai/docs/programming/api/execution/index.html) library\n",
    "* Runs a backtest for a momentum strategy\n",
    "    - Uses handpicked \"DeFi bluechip tokens\"\n",
    "    - Trade across multiple blockchains\n",
    "    - Trade across multiple DEXes\n",
    "    - Based on momentum\n",
    "    - Weekly rebalances\n",
    "    - Long only\n",
    "    - Supports stop loss\n",
    "    - Ignore price impact, and thus may cause unrealistic results\n",
    "    - Ignore available liquidity to trade, and thus may cause unrealistic results\n",
    "* Demostrates statistics and performance analyses\n",
    "    - Equity curve with multiple pairs to compare\n",
    "    - Aggregated monthly performance\n",
    "* Order routing is ignored; the strategy cannot be moved to live trading as is\n",
    "    - We use the oldest available DEX price data we have: Uniswap v2, others\n",
    "    - For live trade execution, one would want to choose execution on a newer DEX with less fees\n",
    "* You need a [Trading Strategy API key](https://tradingstrategy.ai/trading-view/backtesting) to run the notebook\n",
    "* This backtest is made to demostrate the features\n",
    "    - The strategy may or may not generate any profits, as it is not the purpose of this example\n",
    "\n",
    "There is also a unit test version availble in the repository in `tests/strategy_tests`.\n"
   ]
  },
  {
   "cell_type": "markdown",
   "metadata": {},
   "source": [
    "## Strategy parameter set up\n",
    "\n",
    "Set up the parameters used in in this strategy backtest study.\n",
    "\n",
    "- Backtested blockchain, exchange and trading pair\n",
    "- Backtesting period\n",
    "- Strategy parameters for EMA crossovers"
   ]
  },
  {
   "cell_type": "code",
   "execution_count": 12,
   "metadata": {
    "collapsed": false,
    "jupyter": {
     "outputs_hidden": false
    }
   },
   "outputs": [],
   "source": [
    "import datetime\n",
    "import pandas as pd\n",
    "\n",
    "from tradingstrategy.chain import ChainId\n",
    "from tradingstrategy.timebucket import TimeBucket\n",
    "from tradeexecutor.strategy.cycle import CycleDuration\n",
    "from tradeexecutor.strategy.strategy_module import StrategyType, TradeRouting, ReserveCurrency\n",
    "\n",
    "# Tell what trade execution engine version this strategy needs to use\n",
    "trading_strategy_engine_version = \"0.1\"\n",
    "\n",
    "# What kind of strategy we are running.\n",
    "# This tells we are going to use\n",
    "trading_strategy_type = StrategyType.managed_positions\n",
    "\n",
    "# How our trades are routed.\n",
    "# PancakeSwap basic routing supports two way trades with BUSD\n",
    "# and three way trades with BUSD-BNB hop.\n",
    "trade_routing = TradeRouting.ignore\n",
    "\n",
    "# Set cycle to 7 days and look back the momentum of the previous candle\n",
    "trading_strategy_cycle = CycleDuration.cycle_7d\n",
    "momentum_lookback_period = datetime.timedelta(days=7)\n",
    "\n",
    "# Hold top 3 coins for every cycle\n",
    "max_assets_in_portfolio = 3\n",
    "\n",
    "# Leave 20% cash buffer\n",
    "value_allocated_to_positions = 0.80\n",
    "\n",
    "# Set 5% midprice stop loss\n",
    "stop_loss = 0.95\n",
    "\n",
    "# Strategy keeps its cash in USDC\n",
    "reserve_currency = ReserveCurrency.usdc\n",
    "\n",
    "# The duration of the backtesting period\n",
    "start_at = datetime.datetime(2020, 11, 1)\n",
    "end_at = datetime.datetime(2023, 1, 31)\n",
    "\n",
    "# Start with 10,000 USD\n",
    "initial_deposit = 10_000\n"
   ]
  },
  {
   "cell_type": "markdown",
   "metadata": {},
   "source": [
    "## Strategy logic and trade decisions\n",
    "\n",
    "`decide_trades` function decide what trades to take.\n",
    "In this example, we calculate two exponential moving averages\n",
    "(EMAs) and make decisions based on those.\n"
   ]
  },
  {
   "cell_type": "code",
   "execution_count": 13,
   "metadata": {
    "collapsed": false,
    "jupyter": {
     "outputs_hidden": false
    }
   },
   "outputs": [],
   "source": [
    "from tradeexecutor.strategy.trading_strategy_universe import translate_trading_pair\n",
    "from typing import List, Dict, Counter\n",
    "\n",
    "from tradingstrategy.universe import Universe\n",
    "from tradeexecutor.strategy.weighting import weight_by_1_slash_n\n",
    "from tradeexecutor.strategy.alpha_model import AlphaModel\n",
    "from tradeexecutor.state.trade import TradeExecution\n",
    "from tradeexecutor.strategy.pricing_model import PricingModel\n",
    "from tradeexecutor.strategy.pandas_trader.position_manager import PositionManager\n",
    "from tradeexecutor.state.state import State\n",
    "\n",
    "\n",
    "def decide_trades(\n",
    "        timestamp: pd.Timestamp,\n",
    "        universe: Universe,\n",
    "        state: State,\n",
    "        pricing_model: PricingModel,\n",
    "        cycle_debug_data: Dict) -> List[TradeExecution]:\n",
    "\n",
    "    # Create a position manager helper class that allows us easily to create\n",
    "    # opening/closing trades for different positions\n",
    "    position_manager = PositionManager(timestamp, universe, state, pricing_model)\n",
    "\n",
    "    alpha_model = AlphaModel(timestamp)\n",
    "\n",
    "    # The time range end is the current candle\n",
    "    # The time range start is 2 * 4 hours back, and turn the range\n",
    "    # exclusive instead of inclusive\n",
    "    start = timestamp - momentum_lookback_period - datetime.timedelta(minutes=59)\n",
    "    end = timestamp\n",
    "\n",
    "    candle_universe = universe.candles\n",
    "    pair_universe = universe.pairs\n",
    "    candle_data = candle_universe.iterate_samples_by_pair_range(start, end)\n",
    "\n",
    "    # Iterate over all candles for all pairs in this timestamp (ts)\n",
    "    for pair_id, pair_df in candle_data:\n",
    "\n",
    "        first_candle = pair_df.iloc[0]\n",
    "        last_candle = pair_df.iloc[-1]\n",
    "\n",
    "        # How many candles we are going to evaluate\n",
    "        candle_count = len(pair_df)\n",
    "\n",
    "        pair_momentum_window = last_candle[\"timestamp\"] - first_candle[\"timestamp\"]\n",
    "        if pair_momentum_window < momentum_lookback_period:\n",
    "            # This trading pair does not have data for this window,\n",
    "            # ignore the pair and mark it as a problem\n",
    "            continue\n",
    "\n",
    "        open = first_candle[\"open\"]\n",
    "        close = last_candle[\"close\"]\n",
    "\n",
    "        # DEXPair instance contains more data than internal TradingPairIdentifier\n",
    "        # we use to store this pair across the strategy\n",
    "        dex_pair = pair_universe.get_pair_by_id(pair_id)\n",
    "        pair = translate_trading_pair(dex_pair)\n",
    "\n",
    "        # We define momentum as how many % the trading pair price gained during\n",
    "        # the momentum window\n",
    "        momentum = (close - open) / open\n",
    "        momentum = max(0, momentum)\n",
    "\n",
    "        # This pair has not positive momentum,\n",
    "        # we only buy when stuff goes up\n",
    "        if momentum <= 0:\n",
    "            continue\n",
    "\n",
    "        alpha_model.set_signal(\n",
    "            pair,\n",
    "            momentum,\n",
    "            stop_loss=0,\n",
    "        )\n",
    "\n",
    "    # Select max_assets_in_portfolio assets in which we are going to invest\n",
    "    # Calculate a weight for ecah asset in the portfolio using 1/N method based on the raw signal\n",
    "    alpha_model.select_top_signals(max_assets_in_portfolio)\n",
    "    alpha_model.assign_weights(method=weight_by_1_slash_n)\n",
    "    alpha_model.normalise_weights()\n",
    "\n",
    "    # Load in old weight for each trading pair signal,\n",
    "    # so we can calculate the adjustment trade size\n",
    "    alpha_model.update_old_weights(state.portfolio)\n",
    "\n",
    "    # Calculate how much dollar value we want each individual position to be on this strategy cycle,\n",
    "    # based on our total available equity\n",
    "    portfolio = position_manager.get_current_portfolio()\n",
    "    portfolio_target_value = portfolio.get_total_equity() * value_allocated_to_positions\n",
    "    alpha_model.calculate_target_positions(portfolio_target_value)\n",
    "\n",
    "    # Shift portfolio from current positions to target positions\n",
    "    # determined by the alpha signals (momentum)\n",
    "    trades = alpha_model.generate_adjustment_trades_and_update_stop_losses(position_manager)\n",
    "\n",
    "    # Record alpha model state so we can later visualise our alpha model thinking better\n",
    "    state.visualisation.add_calculations(timestamp, alpha_model.to_dict())\n",
    "\n",
    "    return trades\n"
   ]
  },
  {
   "cell_type": "markdown",
   "metadata": {},
   "source": [
    "## Trading universe definition\n",
    "\n",
    "We create a trading universe with a single blockchain, exchange and trading pair.\n",
    "For the sake of easier understanding the code, we name this \"Uniswap v2\" like exchange with a single ETH-USDC trading pair.\n",
    "\n",
    "The trading pair contains generated noise-like OHLCV trading data."
   ]
  },
  {
   "cell_type": "code",
   "execution_count": 14,
   "metadata": {
    "collapsed": false,
    "jupyter": {
     "outputs_hidden": false
    }
   },
   "outputs": [],
   "source": [
    "from tradeexecutor.strategy.trading_strategy_universe import load_all_data, TradingStrategyUniverse\n",
    "from tradeexecutor.strategy.execution_context import ExecutionContext\n",
    "from tradeexecutor.strategy.universe_model import UniverseOptions\n",
    "from tradingstrategy.client import Client\n",
    "import datetime\n",
    "\n",
    "\n",
    "# List of trading pairs that we consider \"DeFi blueschips\" for this strategy\n",
    "# For token ordering, wrappign see https://tradingstrategy.ai/docs/programming/market-data/trading-pairs.html\n",
    "pairs = (\n",
    "    (ChainId.ethereum, \"uniswap-v2\", \"WETH\", \"USDC\"),  # ETH\n",
    "    (ChainId.ethereum, \"uniswap-v2\", \"AAVE\", \"WETH\"),  # AAVE\n",
    "    (ChainId.ethereum, \"uniswap-v2\", \"UNI\", \"WETH\"),  # UNI\n",
    "    (ChainId.ethereum, \"uniswap-v2\", \"CRV\", \"WETH\"),  # Curve\n",
    "    (ChainId.ethereum, \"sushi\", \"SUSHI\", \"WETH\"),  # Sushi\n",
    "    (ChainId.bsc, \"pancakeswap-v2\", \"WBNB\", \"BUSD\"),  # BNB\n",
    "    (ChainId.bsc, \"pancakeswap-v2\", \"Cake\", \"BUSD\"),  # Cake\n",
    "    (ChainId.polygon, \"quickswap\", \"WMATIC\", \"USDC\"),  # Matic\n",
    "    (ChainId.avalanche, \"trader-joe\", \"WAVAX\", \"USDC\"),  # Avax\n",
    "    (ChainId.avalanche, \"trader-joe\", \"JOE\", \"WAVAX\"),  # TraderJoe\n",
    ")\n",
    "\n",
    "\n",
    "def create_trading_universe(\n",
    "        ts: datetime.datetime,\n",
    "        client: Client,\n",
    "        execution_context: ExecutionContext,\n",
    "        universe_options: UniverseOptions,\n",
    ") -> TradingStrategyUniverse:\n",
    "\n",
    "    assert not execution_context.mode.is_live_trading(), \\\n",
    "        f\"Only strategy backtesting supported, got {execution_context.mode}\"\n",
    "\n",
    "    # Load all datas we can get for our candle time bucket\n",
    "    dataset = load_all_data(\n",
    "        client,\n",
    "        trading_strategy_cycle.to_timebucket(),\n",
    "        execution_context,\n",
    "        universe_options,\n",
    "        with_liquidity=False,\n",
    "    )\n",
    "\n",
    "    # Filter down the dataset to the pairs we specified\n",
    "    universe = TradingStrategyUniverse.create_multichain_universe_by_pair_descriptions(\n",
    "        dataset,\n",
    "        pairs,\n",
    "        reserve_token_symbol=\"USDC\"  # Pick any USDC - does not matter as we do not route\n",
    "    )\n",
    "\n",
    "    return universe\n"
   ]
  },
  {
   "cell_type": "markdown",
   "metadata": {},
   "source": [
    "## Set up the market data client\n",
    "\n",
    "The [Trading Strategy market data client](https://tradingstrategy.ai/docs/programming/api/client/index.html)\n",
    "is the Python library responsible for managing the data feeds needed to run the backtest.None\n",
    "\n",
    "We set up the market data client with an API key.\n",
    "\n",
    "[If you do not have an API key yet, you can register one](https://tradingstrategy.ai/trading-view/backtesting)."
   ]
  },
  {
   "cell_type": "code",
   "execution_count": 15,
   "metadata": {
    "collapsed": false,
    "jupyter": {
     "outputs_hidden": false
    }
   },
   "outputs": [
    {
     "name": "stdout",
     "output_type": "stream",
     "text": [
      "Started Trading Strategy in Jupyter notebook environment, configuration is stored in /Users/moo/.tradingstrategy\n"
     ]
    }
   ],
   "source": [
    "from tradingstrategy.client import Client\n",
    "\n",
    "client = Client.create_jupyter_client()"
   ]
  },
  {
   "cell_type": "markdown",
   "metadata": {},
   "source": [
    "## Run backtest\n",
    "\n",
    "Run backtest using giving trading universe and strategy function.\n",
    "\n",
    "- Running the backtest outputs `state` object that contains all the information\n",
    "on the backtesting position and trades.\n",
    "- The trade execution engine will download the necessary datasets to run the backtest.\n",
    "  The datasets may be large, several gigabytes.\n"
   ]
  },
  {
   "cell_type": "code",
   "execution_count": 16,
   "metadata": {
    "collapsed": false,
    "jupyter": {
     "outputs_hidden": false
    }
   },
   "outputs": [
    {
     "data": {
      "application/vnd.jupyter.widget-view+json": {
       "model_id": "1f37e23ffa344f93a79127bd9d874869",
       "version_major": 2,
       "version_minor": 0
      },
      "text/plain": [
       "  0%|          | 0/70934400 [00:00<?, ?it/s]"
      ]
     },
     "metadata": {},
     "output_type": "display_data"
    },
    {
     "name": "stdout",
     "output_type": "stream",
     "text": [
      "Backtesting completed, backtested strategy made 352 trades\n"
     ]
    }
   ],
   "source": [
    "import logging\n",
    "\n",
    "from tradeexecutor.backtest.backtest_runner import run_backtest_inline\n",
    "\n",
    "state, universe, debug_dump = run_backtest_inline(\n",
    "    name=\"DeFi bluechip portfolio construction model example\",\n",
    "    start_at=start_at,\n",
    "    end_at=end_at,\n",
    "    client=client,\n",
    "    cycle_duration=trading_strategy_cycle,\n",
    "    decide_trades=decide_trades,\n",
    "    create_trading_universe=create_trading_universe,\n",
    "    initial_deposit=initial_deposit,\n",
    "    reserve_currency=reserve_currency,\n",
    "    trade_routing=trade_routing,\n",
    "    log_level=logging.WARNING,\n",
    ")\n",
    "\n",
    "trade_count = len(list(state.portfolio.get_all_trades()))\n",
    "print(f\"Backtesting completed, backtested strategy made {trade_count} trades\")"
   ]
  },
  {
   "cell_type": "markdown",
   "metadata": {},
   "source": [
    "## Examine backtest results\n",
    "\n",
    "Examine `state` that contains all actions the trade executor took.\n",
    "\n",
    "We plot out a chart that shows\n",
    "- The price action\n",
    "- When the strategy made buys or sells"
   ]
  },
  {
   "cell_type": "code",
   "execution_count": 17,
   "metadata": {
    "collapsed": false,
    "jupyter": {
     "outputs_hidden": false
    }
   },
   "outputs": [
    {
     "name": "stdout",
     "output_type": "stream",
     "text": [
      "Positions taken: 97\n",
      "Trades made: 352\n"
     ]
    }
   ],
   "source": [
    "print(f\"Positions taken: {len(list(state.portfolio.get_all_positions()))}\")\n",
    "print(f\"Trades made: {len(list(state.portfolio.get_all_trades()))}\")"
   ]
  },
  {
   "cell_type": "markdown",
   "metadata": {
    "collapsed": false
   },
   "source": []
  },
  {
   "cell_type": "markdown",
   "metadata": {},
   "source": [
    "## Benchmarking the strategy performance\n",
    "\n",
    "Here we benchmark the strategy performance against some baseline scenarios.\n",
    "\n",
    "- Buy and hold ETH\n",
    "- Buy and hold US Dollar (do nothing)\n"
   ]
  },
  {
   "cell_type": "code",
   "execution_count": 18,
   "metadata": {
    "collapsed": false,
    "jupyter": {
     "outputs_hidden": false
    },
    "pycharm": {
     "is_executing": true
    }
   },
   "outputs": [
    {
     "data": {
      "application/vnd.plotly.v1+json": {
       "config": {
        "plotlyServerURL": "https://plot.ly"
       },
       "data": [
        {
         "line": {
          "color": "#008800"
         },
         "mode": "lines",
         "name": "DeFi bluechip portfolio construction model example",
         "type": "scatter",
         "x": [
          "2020-10-26T00:00:00",
          "2020-11-02T00:00:00",
          "2020-11-09T00:00:00",
          "2020-11-16T00:00:00",
          "2020-11-23T00:00:00",
          "2020-11-30T00:00:00",
          "2020-12-07T00:00:00",
          "2020-12-14T00:00:00",
          "2020-12-21T00:00:00",
          "2020-12-28T00:00:00",
          "2021-01-04T00:00:00",
          "2021-01-11T00:00:00",
          "2021-01-18T00:00:00",
          "2021-01-25T00:00:00",
          "2021-02-01T00:00:00",
          "2021-02-08T00:00:00",
          "2021-02-15T00:00:00",
          "2021-02-22T00:00:00",
          "2021-03-01T00:00:00",
          "2021-03-08T00:00:00",
          "2021-03-15T00:00:00",
          "2021-03-22T00:00:00",
          "2021-03-29T00:00:00",
          "2021-04-05T00:00:00",
          "2021-04-12T00:00:00",
          "2021-04-19T00:00:00",
          "2021-04-26T00:00:00",
          "2021-05-03T00:00:00",
          "2021-05-10T00:00:00",
          "2021-05-17T00:00:00",
          "2021-05-24T00:00:00",
          "2021-05-31T00:00:00",
          "2021-06-07T00:00:00",
          "2021-06-14T00:00:00",
          "2021-06-21T00:00:00",
          "2021-06-28T00:00:00",
          "2021-07-05T00:00:00",
          "2021-07-12T00:00:00",
          "2021-07-19T00:00:00",
          "2021-07-26T00:00:00",
          "2021-08-02T00:00:00",
          "2021-08-09T00:00:00",
          "2021-08-16T00:00:00",
          "2021-08-23T00:00:00",
          "2021-08-30T00:00:00",
          "2021-09-06T00:00:00",
          "2021-09-13T00:00:00",
          "2021-09-20T00:00:00",
          "2021-09-27T00:00:00",
          "2021-10-04T00:00:00",
          "2021-10-11T00:00:00",
          "2021-10-18T00:00:00",
          "2021-10-25T00:00:00",
          "2021-11-01T00:00:00",
          "2021-11-08T00:00:00",
          "2021-11-15T00:00:00",
          "2021-11-22T00:00:00",
          "2021-11-29T00:00:00",
          "2021-12-06T00:00:00",
          "2021-12-13T00:00:00",
          "2021-12-20T00:00:00",
          "2021-12-27T00:00:00",
          "2022-01-03T00:00:00",
          "2022-01-10T00:00:00",
          "2022-01-17T00:00:00",
          "2022-01-24T00:00:00",
          "2022-01-31T00:00:00",
          "2022-02-07T00:00:00",
          "2022-02-14T00:00:00",
          "2022-02-21T00:00:00",
          "2022-02-28T00:00:00",
          "2022-03-07T00:00:00",
          "2022-03-14T00:00:00",
          "2022-03-21T00:00:00",
          "2022-03-28T00:00:00",
          "2022-04-04T00:00:00",
          "2022-04-11T00:00:00",
          "2022-04-18T00:00:00",
          "2022-04-25T00:00:00",
          "2022-05-02T00:00:00",
          "2022-05-09T00:00:00",
          "2022-05-16T00:00:00",
          "2022-05-23T00:00:00",
          "2022-05-30T00:00:00",
          "2022-06-06T00:00:00",
          "2022-06-13T00:00:00",
          "2022-06-20T00:00:00",
          "2022-06-27T00:00:00",
          "2022-07-04T00:00:00",
          "2022-07-11T00:00:00",
          "2022-07-18T00:00:00",
          "2022-07-25T00:00:00",
          "2022-08-01T00:00:00",
          "2022-08-08T00:00:00",
          "2022-08-15T00:00:00",
          "2022-08-22T00:00:00",
          "2022-08-29T00:00:00",
          "2022-09-05T00:00:00",
          "2022-09-12T00:00:00",
          "2022-09-19T00:00:00",
          "2022-09-26T00:00:00",
          "2022-10-03T00:00:00",
          "2022-10-10T00:00:00",
          "2022-10-17T00:00:00",
          "2022-10-24T00:00:00",
          "2022-10-31T00:00:00",
          "2022-11-07T00:00:00",
          "2022-11-14T00:00:00",
          "2022-11-21T00:00:00",
          "2022-11-28T00:00:00",
          "2022-12-05T00:00:00",
          "2022-12-12T00:00:00",
          "2022-12-19T00:00:00",
          "2022-12-26T00:00:00",
          "2023-01-02T00:00:00",
          "2023-01-09T00:00:00",
          "2023-01-16T00:00:00",
          "2023-01-23T00:00:00",
          "2023-01-30T00:00:00"
         ],
         "y": [
          9952.143569292122,
          9723.82129019811,
          10755.663105839212,
          13737.52170756258,
          15713.29170541804,
          15493.777530468653,
          18206.242330906436,
          18182.949067394235,
          19693.734401909016,
          20118.95558870978,
          26474.414112933897,
          31479.591051535604,
          42298.80268829738,
          49155.513604103406,
          50581.735682769286,
          59728.575241288105,
          63932.03400098132,
          71034.4935308467,
          67988.36439362139,
          80386.61985615075,
          83807.05543999719,
          84967.8044567348,
          95488.71676637427,
          107710.60797265181,
          109256.74465254002,
          113059.63087086633,
          116993.24482739561,
          144360.85033180148,
          169210.75751603927,
          167638.42902042987,
          117232.20880283677,
          189466.40735191826,
          221425.63747920695,
          206006.46128760529,
          206006.46128760529,
          205020.5878936068,
          240889.17048175586,
          231399.60889679616,
          230292.21296189624,
          259299.01036041413,
          284768.95432975754,
          314003.6701523546,
          353574.0543515674,
          371185.5007951282,
          355481.09509976057,
          411344.24997807614,
          374127.5535645095,
          480009.0786056436,
          453987.8000657896,
          496011.1257558949,
          485480.01904848666,
          527494.1835102915,
          562176.4684365097,
          607620.3750420167,
          635053.4159885214,
          619861.5132473756,
          959950.2501103423,
          1030802.8525789244,
          1226459.3029840284,
          1242139.3035857417,
          1278985.5031481811,
          1680380.5302163197,
          1777625.0474790998,
          1777625.0474790998,
          1777625.0474790998,
          1777625.0474790998,
          1769117.968488173,
          1958854.5502301145,
          1862030.2525795365,
          1862030.2525795365,
          1853119.2404036825,
          1851751.1923961549,
          1788310.0043666011,
          1984301.8568845792,
          2276765.4982020897,
          2426222.8847563104,
          2054750.2886188924,
          2045461.9193341923,
          2361436.921349594,
          2361436.921349594,
          2361436.921349594,
          2361436.921349594,
          2350135.927109835,
          2396807.2070721616,
          2532446.672918712,
          2532446.672918712,
          2520327.28704632,
          2979354.912587314,
          2910382.295786568,
          3426085.965118113,
          3796633.0733649377,
          4320898.914749712,
          4421347.8935883455,
          4538733.673624442,
          4774087.651036224,
          4774087.651036224,
          4751240.57154971,
          5221450.4579400215,
          5639605.76358746,
          5363944.434180611,
          5694656.84238106,
          5776181.702175044,
          6345922.654149378,
          6381518.422916946,
          6644653.402343889,
          7270927.015688453,
          7352858.389255352,
          7352858.389255352,
          7317670.23345433,
          8543033.975400507,
          8870150.16945226,
          8687592.71505472,
          8687592.71505472,
          8646016.997176096,
          8537467.752344204,
          9187390.129057303,
          11163368.669738028,
          12159127.059074204,
          12260939.725815771
         ]
        },
        {
         "line": {
          "color": "#000088"
         },
         "mode": "lines",
         "name": "All cash",
         "type": "scatter",
         "x": [
          "2020-11-01T00:00:00",
          "2023-01-31T00:00:00"
         ],
         "y": [
          10000,
          10000
         ]
        },
        {
         "line": {
          "color": "#880000"
         },
         "mode": "lines",
         "name": "Buy and hold ETH",
         "type": "scatter",
         "x": [
          "2020-11-02T00:00:00",
          "2020-11-09T00:00:00",
          "2020-11-16T00:00:00",
          "2020-11-23T00:00:00",
          "2020-11-30T00:00:00",
          "2020-12-07T00:00:00",
          "2020-12-14T00:00:00",
          "2020-12-21T00:00:00",
          "2020-12-28T00:00:00",
          "2021-01-04T00:00:00",
          "2021-01-11T00:00:00",
          "2021-01-18T00:00:00",
          "2021-01-25T00:00:00",
          "2021-02-01T00:00:00",
          "2021-02-08T00:00:00",
          "2021-02-15T00:00:00",
          "2021-02-22T00:00:00",
          "2021-03-01T00:00:00",
          "2021-03-08T00:00:00",
          "2021-03-15T00:00:00",
          "2021-03-22T00:00:00",
          "2021-03-29T00:00:00",
          "2021-04-05T00:00:00",
          "2021-04-12T00:00:00",
          "2021-04-19T00:00:00",
          "2021-04-26T00:00:00",
          "2021-05-03T00:00:00",
          "2021-05-10T00:00:00",
          "2021-05-17T00:00:00",
          "2021-05-24T00:00:00",
          "2021-05-31T00:00:00",
          "2021-06-07T00:00:00",
          "2021-06-14T00:00:00",
          "2021-06-21T00:00:00",
          "2021-06-28T00:00:00",
          "2021-07-05T00:00:00",
          "2021-07-12T00:00:00",
          "2021-07-19T00:00:00",
          "2021-07-26T00:00:00",
          "2021-08-02T00:00:00",
          "2021-08-09T00:00:00",
          "2021-08-16T00:00:00",
          "2021-08-23T00:00:00",
          "2021-08-30T00:00:00",
          "2021-09-06T00:00:00",
          "2021-09-13T00:00:00",
          "2021-09-20T00:00:00",
          "2021-09-27T00:00:00",
          "2021-10-04T00:00:00",
          "2021-10-11T00:00:00",
          "2021-10-18T00:00:00",
          "2021-10-25T00:00:00",
          "2021-11-01T00:00:00",
          "2021-11-08T00:00:00",
          "2021-11-15T00:00:00",
          "2021-11-22T00:00:00",
          "2021-11-29T00:00:00",
          "2021-12-06T00:00:00",
          "2021-12-13T00:00:00",
          "2021-12-20T00:00:00",
          "2021-12-27T00:00:00",
          "2022-01-03T00:00:00",
          "2022-01-10T00:00:00",
          "2022-01-17T00:00:00",
          "2022-01-24T00:00:00",
          "2022-01-31T00:00:00",
          "2022-02-07T00:00:00",
          "2022-02-14T00:00:00",
          "2022-02-21T00:00:00",
          "2022-02-28T00:00:00",
          "2022-03-07T00:00:00",
          "2022-03-14T00:00:00",
          "2022-03-21T00:00:00",
          "2022-03-28T00:00:00",
          "2022-04-04T00:00:00",
          "2022-04-11T00:00:00",
          "2022-04-18T00:00:00",
          "2022-04-25T00:00:00",
          "2022-05-02T00:00:00",
          "2022-05-09T00:00:00",
          "2022-05-16T00:00:00",
          "2022-05-23T00:00:00",
          "2022-05-30T00:00:00",
          "2022-06-06T00:00:00",
          "2022-06-13T00:00:00",
          "2022-06-20T00:00:00",
          "2022-06-27T00:00:00",
          "2022-07-04T00:00:00",
          "2022-07-11T00:00:00",
          "2022-07-18T00:00:00",
          "2022-07-25T00:00:00",
          "2022-08-01T00:00:00",
          "2022-08-08T00:00:00",
          "2022-08-15T00:00:00",
          "2022-08-22T00:00:00",
          "2022-08-29T00:00:00",
          "2022-09-05T00:00:00",
          "2022-09-12T00:00:00",
          "2022-09-19T00:00:00",
          "2022-09-26T00:00:00",
          "2022-10-03T00:00:00",
          "2022-10-10T00:00:00",
          "2022-10-17T00:00:00",
          "2022-10-24T00:00:00",
          "2022-10-31T00:00:00",
          "2022-11-07T00:00:00",
          "2022-11-14T00:00:00",
          "2022-11-21T00:00:00",
          "2022-11-28T00:00:00",
          "2022-12-05T00:00:00",
          "2022-12-12T00:00:00",
          "2022-12-19T00:00:00",
          "2022-12-26T00:00:00",
          "2023-01-02T00:00:00",
          "2023-01-09T00:00:00",
          "2023-01-16T00:00:00",
          "2023-01-23T00:00:00",
          "2023-01-30T00:00:00"
         ],
         "y": [
          10000,
          9842.078125,
          12281.6484375,
          12592.8173828125,
          13217.3955078125,
          12903.9169921875,
          13956.431640625,
          14998.6298828125,
          21438.326171875,
          27590.8125,
          26976.244140625,
          30586.529296875,
          28742.0859375,
          35528.7890625,
          39672,
          42275.41015625,
          31144.587890625,
          37888.37890625,
          40594.19921875,
          39091.03125,
          36963.44921875,
          45229.70703125,
          47036.4609375,
          49033.83203125,
          50733.83203125,
          64665.28125,
          85962.4453125,
          78551.8515625,
          46133.16796875,
          52429.26953125,
          59330.671875,
          54969.19140625,
          49108.203125,
          43376.88671875,
          51043.78515625,
          46964.72265625,
          41604.828125,
          48013.9765625,
          56241.8125,
          66051.109375,
          72484.4921875,
          71171.328125,
          70893.3828125,
          86653.2578125,
          74735.296875,
          72712.2578125,
          67032.2734375,
          74854,
          74973.8359375,
          84441.078125,
          89498.3828125,
          94543.7265625,
          100815.5546875,
          101121.3125,
          93681.296875,
          94121.8984375,
          91853.2578125,
          90672.171875,
          86167.28125,
          89098.9375,
          84074.6640625,
          68804,
          73420.203125,
          55570.12109375,
          57208.3125,
          67190.6875,
          63012.68359375,
          57690.078125,
          57411.0234375,
          55915.5859375,
          55136.80859375,
          62687.390625,
          72286.3203125,
          77221.3203125,
          70327.375,
          65459.01171875,
          64211.4609375,
          61949.6015625,
          55168.37109375,
          46999.453125,
          44886.99609375,
          39769.1640625,
          39607.59765625,
          31377.3046875,
          24659.30078125,
          26288.310546875,
          23516.169921875,
          25565.646484375,
          29367.7421875,
          35043.92578125,
          36914.20703125,
          37245.7890625,
          42431.42578125,
          35547.25,
          31396.01953125,
          34545.3828125,
          38624.234375,
          29226.91796875,
          28370.921875,
          27994.470703125,
          28948.61328125,
          28641.921875,
          29919.181640625,
          34856.54296875,
          34461.4453125,
          26750.1015625,
          25009.53515625,
          26173.61328125,
          28082.662109375,
          27732.224609375,
          25977.53515625,
          26689.080078125,
          26342.390625,
          28271.56640625,
          34046.2109375,
          35721.8828125,
          36119.5546875,
          35762.74609375
         ]
        }
       ],
       "layout": {
        "height": 1200,
        "legend": {
         "orientation": "h",
         "x": 1,
         "xanchor": "right",
         "y": 1.02,
         "yanchor": "bottom"
        },
        "template": {
         "data": {
          "bar": [
           {
            "error_x": {
             "color": "#2a3f5f"
            },
            "error_y": {
             "color": "#2a3f5f"
            },
            "marker": {
             "line": {
              "color": "#E5ECF6",
              "width": 0.5
             },
             "pattern": {
              "fillmode": "overlay",
              "size": 10,
              "solidity": 0.2
             }
            },
            "type": "bar"
           }
          ],
          "barpolar": [
           {
            "marker": {
             "line": {
              "color": "#E5ECF6",
              "width": 0.5
             },
             "pattern": {
              "fillmode": "overlay",
              "size": 10,
              "solidity": 0.2
             }
            },
            "type": "barpolar"
           }
          ],
          "carpet": [
           {
            "aaxis": {
             "endlinecolor": "#2a3f5f",
             "gridcolor": "white",
             "linecolor": "white",
             "minorgridcolor": "white",
             "startlinecolor": "#2a3f5f"
            },
            "baxis": {
             "endlinecolor": "#2a3f5f",
             "gridcolor": "white",
             "linecolor": "white",
             "minorgridcolor": "white",
             "startlinecolor": "#2a3f5f"
            },
            "type": "carpet"
           }
          ],
          "choropleth": [
           {
            "colorbar": {
             "outlinewidth": 0,
             "ticks": ""
            },
            "type": "choropleth"
           }
          ],
          "contour": [
           {
            "colorbar": {
             "outlinewidth": 0,
             "ticks": ""
            },
            "colorscale": [
             [
              0,
              "#0d0887"
             ],
             [
              0.1111111111111111,
              "#46039f"
             ],
             [
              0.2222222222222222,
              "#7201a8"
             ],
             [
              0.3333333333333333,
              "#9c179e"
             ],
             [
              0.4444444444444444,
              "#bd3786"
             ],
             [
              0.5555555555555556,
              "#d8576b"
             ],
             [
              0.6666666666666666,
              "#ed7953"
             ],
             [
              0.7777777777777778,
              "#fb9f3a"
             ],
             [
              0.8888888888888888,
              "#fdca26"
             ],
             [
              1,
              "#f0f921"
             ]
            ],
            "type": "contour"
           }
          ],
          "contourcarpet": [
           {
            "colorbar": {
             "outlinewidth": 0,
             "ticks": ""
            },
            "type": "contourcarpet"
           }
          ],
          "heatmap": [
           {
            "colorbar": {
             "outlinewidth": 0,
             "ticks": ""
            },
            "colorscale": [
             [
              0,
              "#0d0887"
             ],
             [
              0.1111111111111111,
              "#46039f"
             ],
             [
              0.2222222222222222,
              "#7201a8"
             ],
             [
              0.3333333333333333,
              "#9c179e"
             ],
             [
              0.4444444444444444,
              "#bd3786"
             ],
             [
              0.5555555555555556,
              "#d8576b"
             ],
             [
              0.6666666666666666,
              "#ed7953"
             ],
             [
              0.7777777777777778,
              "#fb9f3a"
             ],
             [
              0.8888888888888888,
              "#fdca26"
             ],
             [
              1,
              "#f0f921"
             ]
            ],
            "type": "heatmap"
           }
          ],
          "heatmapgl": [
           {
            "colorbar": {
             "outlinewidth": 0,
             "ticks": ""
            },
            "colorscale": [
             [
              0,
              "#0d0887"
             ],
             [
              0.1111111111111111,
              "#46039f"
             ],
             [
              0.2222222222222222,
              "#7201a8"
             ],
             [
              0.3333333333333333,
              "#9c179e"
             ],
             [
              0.4444444444444444,
              "#bd3786"
             ],
             [
              0.5555555555555556,
              "#d8576b"
             ],
             [
              0.6666666666666666,
              "#ed7953"
             ],
             [
              0.7777777777777778,
              "#fb9f3a"
             ],
             [
              0.8888888888888888,
              "#fdca26"
             ],
             [
              1,
              "#f0f921"
             ]
            ],
            "type": "heatmapgl"
           }
          ],
          "histogram": [
           {
            "marker": {
             "pattern": {
              "fillmode": "overlay",
              "size": 10,
              "solidity": 0.2
             }
            },
            "type": "histogram"
           }
          ],
          "histogram2d": [
           {
            "colorbar": {
             "outlinewidth": 0,
             "ticks": ""
            },
            "colorscale": [
             [
              0,
              "#0d0887"
             ],
             [
              0.1111111111111111,
              "#46039f"
             ],
             [
              0.2222222222222222,
              "#7201a8"
             ],
             [
              0.3333333333333333,
              "#9c179e"
             ],
             [
              0.4444444444444444,
              "#bd3786"
             ],
             [
              0.5555555555555556,
              "#d8576b"
             ],
             [
              0.6666666666666666,
              "#ed7953"
             ],
             [
              0.7777777777777778,
              "#fb9f3a"
             ],
             [
              0.8888888888888888,
              "#fdca26"
             ],
             [
              1,
              "#f0f921"
             ]
            ],
            "type": "histogram2d"
           }
          ],
          "histogram2dcontour": [
           {
            "colorbar": {
             "outlinewidth": 0,
             "ticks": ""
            },
            "colorscale": [
             [
              0,
              "#0d0887"
             ],
             [
              0.1111111111111111,
              "#46039f"
             ],
             [
              0.2222222222222222,
              "#7201a8"
             ],
             [
              0.3333333333333333,
              "#9c179e"
             ],
             [
              0.4444444444444444,
              "#bd3786"
             ],
             [
              0.5555555555555556,
              "#d8576b"
             ],
             [
              0.6666666666666666,
              "#ed7953"
             ],
             [
              0.7777777777777778,
              "#fb9f3a"
             ],
             [
              0.8888888888888888,
              "#fdca26"
             ],
             [
              1,
              "#f0f921"
             ]
            ],
            "type": "histogram2dcontour"
           }
          ],
          "mesh3d": [
           {
            "colorbar": {
             "outlinewidth": 0,
             "ticks": ""
            },
            "type": "mesh3d"
           }
          ],
          "parcoords": [
           {
            "line": {
             "colorbar": {
              "outlinewidth": 0,
              "ticks": ""
             }
            },
            "type": "parcoords"
           }
          ],
          "pie": [
           {
            "automargin": true,
            "type": "pie"
           }
          ],
          "scatter": [
           {
            "fillpattern": {
             "fillmode": "overlay",
             "size": 10,
             "solidity": 0.2
            },
            "type": "scatter"
           }
          ],
          "scatter3d": [
           {
            "line": {
             "colorbar": {
              "outlinewidth": 0,
              "ticks": ""
             }
            },
            "marker": {
             "colorbar": {
              "outlinewidth": 0,
              "ticks": ""
             }
            },
            "type": "scatter3d"
           }
          ],
          "scattercarpet": [
           {
            "marker": {
             "colorbar": {
              "outlinewidth": 0,
              "ticks": ""
             }
            },
            "type": "scattercarpet"
           }
          ],
          "scattergeo": [
           {
            "marker": {
             "colorbar": {
              "outlinewidth": 0,
              "ticks": ""
             }
            },
            "type": "scattergeo"
           }
          ],
          "scattergl": [
           {
            "marker": {
             "colorbar": {
              "outlinewidth": 0,
              "ticks": ""
             }
            },
            "type": "scattergl"
           }
          ],
          "scattermapbox": [
           {
            "marker": {
             "colorbar": {
              "outlinewidth": 0,
              "ticks": ""
             }
            },
            "type": "scattermapbox"
           }
          ],
          "scatterpolar": [
           {
            "marker": {
             "colorbar": {
              "outlinewidth": 0,
              "ticks": ""
             }
            },
            "type": "scatterpolar"
           }
          ],
          "scatterpolargl": [
           {
            "marker": {
             "colorbar": {
              "outlinewidth": 0,
              "ticks": ""
             }
            },
            "type": "scatterpolargl"
           }
          ],
          "scatterternary": [
           {
            "marker": {
             "colorbar": {
              "outlinewidth": 0,
              "ticks": ""
             }
            },
            "type": "scatterternary"
           }
          ],
          "surface": [
           {
            "colorbar": {
             "outlinewidth": 0,
             "ticks": ""
            },
            "colorscale": [
             [
              0,
              "#0d0887"
             ],
             [
              0.1111111111111111,
              "#46039f"
             ],
             [
              0.2222222222222222,
              "#7201a8"
             ],
             [
              0.3333333333333333,
              "#9c179e"
             ],
             [
              0.4444444444444444,
              "#bd3786"
             ],
             [
              0.5555555555555556,
              "#d8576b"
             ],
             [
              0.6666666666666666,
              "#ed7953"
             ],
             [
              0.7777777777777778,
              "#fb9f3a"
             ],
             [
              0.8888888888888888,
              "#fdca26"
             ],
             [
              1,
              "#f0f921"
             ]
            ],
            "type": "surface"
           }
          ],
          "table": [
           {
            "cells": {
             "fill": {
              "color": "#EBF0F8"
             },
             "line": {
              "color": "white"
             }
            },
            "header": {
             "fill": {
              "color": "#C8D4E3"
             },
             "line": {
              "color": "white"
             }
            },
            "type": "table"
           }
          ]
         },
         "layout": {
          "annotationdefaults": {
           "arrowcolor": "#2a3f5f",
           "arrowhead": 0,
           "arrowwidth": 1
          },
          "autotypenumbers": "strict",
          "coloraxis": {
           "colorbar": {
            "outlinewidth": 0,
            "ticks": ""
           }
          },
          "colorscale": {
           "diverging": [
            [
             0,
             "#8e0152"
            ],
            [
             0.1,
             "#c51b7d"
            ],
            [
             0.2,
             "#de77ae"
            ],
            [
             0.3,
             "#f1b6da"
            ],
            [
             0.4,
             "#fde0ef"
            ],
            [
             0.5,
             "#f7f7f7"
            ],
            [
             0.6,
             "#e6f5d0"
            ],
            [
             0.7,
             "#b8e186"
            ],
            [
             0.8,
             "#7fbc41"
            ],
            [
             0.9,
             "#4d9221"
            ],
            [
             1,
             "#276419"
            ]
           ],
           "sequential": [
            [
             0,
             "#0d0887"
            ],
            [
             0.1111111111111111,
             "#46039f"
            ],
            [
             0.2222222222222222,
             "#7201a8"
            ],
            [
             0.3333333333333333,
             "#9c179e"
            ],
            [
             0.4444444444444444,
             "#bd3786"
            ],
            [
             0.5555555555555556,
             "#d8576b"
            ],
            [
             0.6666666666666666,
             "#ed7953"
            ],
            [
             0.7777777777777778,
             "#fb9f3a"
            ],
            [
             0.8888888888888888,
             "#fdca26"
            ],
            [
             1,
             "#f0f921"
            ]
           ],
           "sequentialminus": [
            [
             0,
             "#0d0887"
            ],
            [
             0.1111111111111111,
             "#46039f"
            ],
            [
             0.2222222222222222,
             "#7201a8"
            ],
            [
             0.3333333333333333,
             "#9c179e"
            ],
            [
             0.4444444444444444,
             "#bd3786"
            ],
            [
             0.5555555555555556,
             "#d8576b"
            ],
            [
             0.6666666666666666,
             "#ed7953"
            ],
            [
             0.7777777777777778,
             "#fb9f3a"
            ],
            [
             0.8888888888888888,
             "#fdca26"
            ],
            [
             1,
             "#f0f921"
            ]
           ]
          },
          "colorway": [
           "#636efa",
           "#EF553B",
           "#00cc96",
           "#ab63fa",
           "#FFA15A",
           "#19d3f3",
           "#FF6692",
           "#B6E880",
           "#FF97FF",
           "#FECB52"
          ],
          "font": {
           "color": "#2a3f5f"
          },
          "geo": {
           "bgcolor": "white",
           "lakecolor": "white",
           "landcolor": "#E5ECF6",
           "showlakes": true,
           "showland": true,
           "subunitcolor": "white"
          },
          "hoverlabel": {
           "align": "left"
          },
          "hovermode": "closest",
          "mapbox": {
           "style": "light"
          },
          "paper_bgcolor": "white",
          "plot_bgcolor": "#E5ECF6",
          "polar": {
           "angularaxis": {
            "gridcolor": "white",
            "linecolor": "white",
            "ticks": ""
           },
           "bgcolor": "#E5ECF6",
           "radialaxis": {
            "gridcolor": "white",
            "linecolor": "white",
            "ticks": ""
           }
          },
          "scene": {
           "xaxis": {
            "backgroundcolor": "#E5ECF6",
            "gridcolor": "white",
            "gridwidth": 2,
            "linecolor": "white",
            "showbackground": true,
            "ticks": "",
            "zerolinecolor": "white"
           },
           "yaxis": {
            "backgroundcolor": "#E5ECF6",
            "gridcolor": "white",
            "gridwidth": 2,
            "linecolor": "white",
            "showbackground": true,
            "ticks": "",
            "zerolinecolor": "white"
           },
           "zaxis": {
            "backgroundcolor": "#E5ECF6",
            "gridcolor": "white",
            "gridwidth": 2,
            "linecolor": "white",
            "showbackground": true,
            "ticks": "",
            "zerolinecolor": "white"
           }
          },
          "shapedefaults": {
           "line": {
            "color": "#2a3f5f"
           }
          },
          "ternary": {
           "aaxis": {
            "gridcolor": "white",
            "linecolor": "white",
            "ticks": ""
           },
           "baxis": {
            "gridcolor": "white",
            "linecolor": "white",
            "ticks": ""
           },
           "bgcolor": "#E5ECF6",
           "caxis": {
            "gridcolor": "white",
            "linecolor": "white",
            "ticks": ""
           }
          },
          "title": {
           "x": 0.05
          },
          "xaxis": {
           "automargin": true,
           "gridcolor": "white",
           "linecolor": "white",
           "ticks": "",
           "title": {
            "standoff": 15
           },
           "zerolinecolor": "white",
           "zerolinewidth": 2
          },
          "yaxis": {
           "automargin": true,
           "gridcolor": "white",
           "linecolor": "white",
           "ticks": "",
           "title": {
            "standoff": 15
           },
           "zerolinecolor": "white",
           "zerolinewidth": 2
          }
         }
        },
        "title": {
         "text": "DeFi bluechip portfolio construction model example portfolio value"
        },
        "xaxis": {
         "rangeslider": {
          "visible": false
         }
        },
        "yaxis": {
         "showgrid": false,
         "title": {
          "text": "Value $"
         }
        }
       }
      }
     },
     "metadata": {},
     "output_type": "display_data"
    }
   ],
   "source": [
    "from tradeexecutor.visual.benchmark import visualise_benchmark\n",
    "\n",
    "eth_usd = universe.get_pair_by_human_description((ChainId.ethereum, \"uniswap-v2\", \"WETH\", \"USDC\"))\n",
    "eth_candles = universe.universe.candles.get_candles_by_pair(eth_usd.internal_id)\n",
    "eth_price = eth_candles[\"close\"]\n",
    "\n",
    "fig = visualise_benchmark(\n",
    "    state.name,\n",
    "    portfolio_statistics=state.stats.portfolio,\n",
    "    all_cash=state.portfolio.get_initial_deposit(),\n",
    "    buy_and_hold_asset_name=\"ETH\",\n",
    "    buy_and_hold_price_series=eth_price,\n",
    "    start_at=start_at,\n",
    "    end_at=end_at\n",
    ")\n",
    "\n",
    "fig.show()"
   ]
  },
  {
   "attachments": {},
   "cell_type": "markdown",
   "metadata": {},
   "source": [
    "## Analysing  the strategy success\n",
    "\n",
    "Here we calculate statistics on how well the strategy performed.\n",
    "\n",
    "- Won/lost trades\n",
    "- Timeline of taken positions with color coding of trade performance\n"
   ]
  },
  {
   "cell_type": "code",
   "execution_count": 19,
   "metadata": {
    "collapsed": false,
    "jupyter": {
     "outputs_hidden": false
    },
    "pycharm": {
     "is_executing": true
    }
   },
   "outputs": [],
   "source": [
    "from tradeexecutor.analysis.trade_analyser import build_trade_analysis\n",
    "\n",
    "analysis = build_trade_analysis(state.portfolio)"
   ]
  },
  {
   "cell_type": "markdown",
   "metadata": {},
   "source": [
    "### Strategy summary\n",
    "\n",
    "Overview of strategy performance\n",
    "\n"
   ]
  },
  {
   "cell_type": "code",
   "execution_count": 20,
   "metadata": {
    "collapsed": false,
    "jupyter": {
     "outputs_hidden": false
    },
    "pycharm": {
     "is_executing": true
    }
   },
   "outputs": [
    {
     "data": {
      "text/html": [
       "<div>\n",
       "<style scoped>\n",
       "    .dataframe tbody tr th:only-of-type {\n",
       "        vertical-align: middle;\n",
       "    }\n",
       "\n",
       "    .dataframe tbody tr th {\n",
       "        vertical-align: top;\n",
       "    }\n",
       "\n",
       "    .dataframe thead th {\n",
       "        text-align: right;\n",
       "    }\n",
       "</style>\n",
       "<table border=\"1\" class=\"dataframe\">\n",
       "  <thead>\n",
       "    <tr style=\"text-align: right;\">\n",
       "      <th></th>\n",
       "      <th>0</th>\n",
       "    </tr>\n",
       "  </thead>\n",
       "  <tbody>\n",
       "    <tr>\n",
       "      <th>Trading period length</th>\n",
       "      <td>826 days</td>\n",
       "    </tr>\n",
       "    <tr>\n",
       "      <th>Return %</th>\n",
       "      <td>104901.09%</td>\n",
       "    </tr>\n",
       "    <tr>\n",
       "      <th>Annualised return %</th>\n",
       "      <td>46354.60%</td>\n",
       "    </tr>\n",
       "    <tr>\n",
       "      <th>Cash at start</th>\n",
       "      <td>$10,000.00</td>\n",
       "    </tr>\n",
       "    <tr>\n",
       "      <th>Value at end</th>\n",
       "      <td>$16,883,881.36</td>\n",
       "    </tr>\n",
       "    <tr>\n",
       "      <th>Trade win percent</th>\n",
       "      <td>81.91%</td>\n",
       "    </tr>\n",
       "    <tr>\n",
       "      <th>Total trades done</th>\n",
       "      <td>94</td>\n",
       "    </tr>\n",
       "    <tr>\n",
       "      <th>Won trades</th>\n",
       "      <td>77</td>\n",
       "    </tr>\n",
       "    <tr>\n",
       "      <th>Lost trades</th>\n",
       "      <td>17</td>\n",
       "    </tr>\n",
       "    <tr>\n",
       "      <th>Stop losses triggered</th>\n",
       "      <td>0</td>\n",
       "    </tr>\n",
       "    <tr>\n",
       "      <th>Stop loss % of all</th>\n",
       "      <td>0.00%</td>\n",
       "    </tr>\n",
       "    <tr>\n",
       "      <th>Stop loss % of lost</th>\n",
       "      <td>0.00%</td>\n",
       "    </tr>\n",
       "    <tr>\n",
       "      <th>Zero profit trades</th>\n",
       "      <td>0</td>\n",
       "    </tr>\n",
       "    <tr>\n",
       "      <th>Positions open at the end</th>\n",
       "      <td>3</td>\n",
       "    </tr>\n",
       "    <tr>\n",
       "      <th>Realised profit and loss</th>\n",
       "      <td>$10,490,109.19</td>\n",
       "    </tr>\n",
       "    <tr>\n",
       "      <th>Portfolio unrealised value</th>\n",
       "      <td>$14,428,495.91</td>\n",
       "    </tr>\n",
       "    <tr>\n",
       "      <th>Extra returns on lending pool interest</th>\n",
       "      <td>$0.00</td>\n",
       "    </tr>\n",
       "    <tr>\n",
       "      <th>Cash left at the end</th>\n",
       "      <td>$2,455,385.45</td>\n",
       "    </tr>\n",
       "    <tr>\n",
       "      <th>Average winning trade profit %</th>\n",
       "      <td>31.81%</td>\n",
       "    </tr>\n",
       "    <tr>\n",
       "      <th>Average losing trade loss %</th>\n",
       "      <td>-6.39%</td>\n",
       "    </tr>\n",
       "    <tr>\n",
       "      <th>Biggest winning trade %</th>\n",
       "      <td>335.05%</td>\n",
       "    </tr>\n",
       "    <tr>\n",
       "      <th>Biggest losing trade %</th>\n",
       "      <td>-28.31%</td>\n",
       "    </tr>\n",
       "    <tr>\n",
       "      <th>Average duration of winning trades</th>\n",
       "      <td>21 days</td>\n",
       "    </tr>\n",
       "    <tr>\n",
       "      <th>Average duration of losing trades</th>\n",
       "      <td>7 days</td>\n",
       "    </tr>\n",
       "    <tr>\n",
       "      <th>Average trade:</th>\n",
       "      <td>24.90%</td>\n",
       "    </tr>\n",
       "    <tr>\n",
       "      <th>Median trade:</th>\n",
       "      <td>13.47%</td>\n",
       "    </tr>\n",
       "    <tr>\n",
       "      <th>Consecutive wins</th>\n",
       "      <td>21</td>\n",
       "    </tr>\n",
       "    <tr>\n",
       "      <th>Consecutive losses</th>\n",
       "      <td>4</td>\n",
       "    </tr>\n",
       "    <tr>\n",
       "      <th>Biggest realized risk</th>\n",
       "      <td>-12.35%</td>\n",
       "    </tr>\n",
       "    <tr>\n",
       "      <th>Avg realised risk</th>\n",
       "      <td>-1.72%</td>\n",
       "    </tr>\n",
       "    <tr>\n",
       "      <th>Max pullback of total capital</th>\n",
       "      <td>-15.83%</td>\n",
       "    </tr>\n",
       "    <tr>\n",
       "      <th>Max loss risk at opening of position</th>\n",
       "      <td>80.00%</td>\n",
       "    </tr>\n",
       "  </tbody>\n",
       "</table>\n",
       "</div>"
      ],
      "text/plain": [
       "                                                     0\n",
       "Trading period length                         826 days\n",
       "Return %                                    104901.09%\n",
       "Annualised return %                          46354.60%\n",
       "Cash at start                               $10,000.00\n",
       "Value at end                            $16,883,881.36\n",
       "Trade win percent                               81.91%\n",
       "Total trades done                                   94\n",
       "Won trades                                          77\n",
       "Lost trades                                         17\n",
       "Stop losses triggered                                0\n",
       "Stop loss % of all                               0.00%\n",
       "Stop loss % of lost                              0.00%\n",
       "Zero profit trades                                   0\n",
       "Positions open at the end                            3\n",
       "Realised profit and loss                $10,490,109.19\n",
       "Portfolio unrealised value              $14,428,495.91\n",
       "Extra returns on lending pool interest           $0.00\n",
       "Cash left at the end                     $2,455,385.45\n",
       "Average winning trade profit %                  31.81%\n",
       "Average losing trade loss %                     -6.39%\n",
       "Biggest winning trade %                        335.05%\n",
       "Biggest losing trade %                         -28.31%\n",
       "Average duration of winning trades             21 days\n",
       "Average duration of losing trades               7 days\n",
       "Average trade:                                  24.90%\n",
       "Median trade:                                   13.47%\n",
       "Consecutive wins                                    21\n",
       "Consecutive losses                                   4\n",
       "Biggest realized risk                          -12.35%\n",
       "Avg realised risk                               -1.72%\n",
       "Max pullback of total capital                  -15.83%\n",
       "Max loss risk at opening of position            80.00%"
      ]
     },
     "metadata": {},
     "output_type": "display_data"
    }
   ],
   "source": [
    "from IPython.core.display_functions import display\n",
    "\n",
    "summary = analysis.calculate_summary_statistics()\n",
    "\n",
    "with pd.option_context(\"display.max_row\", None):\n",
    "    display(summary.to_dataframe())"
   ]
  },
  {
   "cell_type": "markdown",
   "metadata": {},
   "source": []
  },
  {
   "attachments": {},
   "cell_type": "markdown",
   "metadata": {},
   "source": [
    "### Alpha model timeline analysis\n",
    "\n",
    "We display a table that shows how alpha model performermed over time.\n",
    "\n",
    "- Display portfolio weightings at each strategy cycle\n",
    "\n",
    "- Show performance of individidual positions taken during this cycle\n",
    "\n",
    "The visualisation will have the a column for each asset being traded. The cell of a column contains the following elements\n",
    "\n",
    "- Asset price change (up/down) since the last strategy cycle\n",
    "\n",
    "- Price of the asset at the start of the strategy cycle\n",
    "\n",
    "- Weight % as the part of the portfolio that was chosen for the next cycle\n",
    "\n",
    "- Adjust for the position to get to the target weight - how much asset needs to be bought or sold\n",
    "\n",
    "- Profit: The life time profit of the position so far\n",
    "\n",
    "Position opening and closing rules\n",
    "\n",
    "- A position may contain multiple trades\n",
    "\n",
    "- Unlike on some exchanges, we adjust existing positions by increasing or decreasing them - a trade can count against existing position\n",
    "\n",
    "- Posions are opened if there are no existing holdings of an asset\n",
    "\n",
    "- The position is adjusted over the time\n",
    "\n",
    "- The position is closed when the remaining assets of the position are sold"
   ]
  },
  {
   "cell_type": "code",
   "execution_count": 21,
   "metadata": {
    "collapsed": false,
    "jupyter": {
     "outputs_hidden": false
    },
    "pycharm": {
     "is_executing": true
    }
   },
   "outputs": [
    {
     "data": {
      "application/vnd.plotly.v1+json": {
       "config": {
        "plotlyServerURL": "https://plot.ly"
       },
       "data": [
        {
         "cells": {
          "align": "left",
          "fill": {
           "color": "lavender"
          },
          "font": {
           "family": "monospace"
          },
          "values": [
           [
            "2020-10-26",
            "2020-11-02",
            "2020-11-09",
            "2020-11-16",
            "2020-11-23",
            "2020-11-30",
            "2020-12-07",
            "2020-12-14",
            "2020-12-21",
            "2020-12-28",
            "2021-01-04",
            "2021-01-11",
            "2021-01-18",
            "2021-01-25",
            "2021-02-01",
            "2021-02-08",
            "2021-02-15",
            "2021-02-22",
            "2021-03-01",
            "2021-03-08",
            "2021-03-15",
            "2021-03-22",
            "2021-03-29",
            "2021-04-05",
            "2021-04-12",
            "2021-04-19",
            "2021-04-26",
            "2021-05-03",
            "2021-05-10",
            "2021-05-17",
            "2021-05-24",
            "2021-05-31",
            "2021-06-07",
            "2021-06-14",
            "2021-06-21",
            "2021-06-28",
            "2021-07-05",
            "2021-07-12",
            "2021-07-19",
            "2021-07-26",
            "2021-08-02",
            "2021-08-09",
            "2021-08-16",
            "2021-08-23",
            "2021-08-30",
            "2021-09-06",
            "2021-09-13",
            "2021-09-20",
            "2021-09-27",
            "2021-10-04",
            "2021-10-11",
            "2021-10-18",
            "2021-10-25",
            "2021-11-01",
            "2021-11-08",
            "2021-11-15",
            "2021-11-22",
            "2021-11-29",
            "2021-12-06",
            "2021-12-13",
            "2021-12-20",
            "2021-12-27",
            "2022-01-03",
            "2022-01-10",
            "2022-01-17",
            "2022-01-24",
            "2022-01-31",
            "2022-02-07",
            "2022-02-14",
            "2022-02-21",
            "2022-02-28",
            "2022-03-07",
            "2022-03-14",
            "2022-03-21",
            "2022-03-28",
            "2022-04-04",
            "2022-04-11",
            "2022-04-18",
            "2022-04-25",
            "2022-05-02",
            "2022-05-09",
            "2022-05-16",
            "2022-05-23",
            "2022-05-30",
            "2022-06-06",
            "2022-06-13",
            "2022-06-20",
            "2022-06-27",
            "2022-07-04",
            "2022-07-11",
            "2022-07-18",
            "2022-07-25",
            "2022-08-01",
            "2022-08-08",
            "2022-08-15",
            "2022-08-22",
            "2022-08-29",
            "2022-09-05",
            "2022-09-12",
            "2022-09-19",
            "2022-09-26",
            "2022-10-03",
            "2022-10-10",
            "2022-10-17",
            "2022-10-24",
            "2022-10-31",
            "2022-11-07",
            "2022-11-14",
            "2022-11-21",
            "2022-11-28",
            "2022-12-05",
            "2022-12-12",
            "2022-12-19",
            "2022-12-26",
            "2023-01-02",
            "2023-01-09",
            "2023-01-16",
            "2023-01-23",
            "2023-01-30"
           ],
           [
            "$9,952",
            "$9,724",
            "$10,756",
            "$13,738",
            "$15,713",
            "$15,494",
            "$18,206",
            "$18,183",
            "$19,694",
            "$20,119",
            "$26,474",
            "$31,480",
            "$42,299",
            "$49,156",
            "$50,582",
            "$59,729",
            "$63,932",
            "$71,034",
            "$67,988",
            "$80,387",
            "$83,807",
            "$84,968",
            "$95,489",
            "$107,711",
            "$109,257",
            "$113,060",
            "$116,993",
            "$144,361",
            "$169,211",
            "$167,638",
            "$117,232",
            "$189,466",
            "$221,426",
            "$206,006",
            "$206,006",
            "$205,021",
            "$240,889",
            "$231,400",
            "$230,292",
            "$259,299",
            "$284,769",
            "$314,004",
            "$353,574",
            "$371,186",
            "$355,481",
            "$411,344",
            "$374,128",
            "$480,009",
            "$453,988",
            "$496,011",
            "$485,480",
            "$527,494",
            "$562,176",
            "$607,620",
            "$635,053",
            "$619,862",
            "$959,950",
            "$1,030,803",
            "$1,226,459",
            "$1,242,139",
            "$1,278,986",
            "$1,680,381",
            "$1,777,625",
            "$1,777,625",
            "$1,777,625",
            "$1,777,625",
            "$1,769,118",
            "$1,958,855",
            "$1,862,030",
            "$1,862,030",
            "$1,853,119",
            "$1,851,751",
            "$1,788,310",
            "$1,984,302",
            "$2,276,765",
            "$2,426,223",
            "$2,054,750",
            "$2,045,462",
            "$2,361,437",
            "$2,361,437",
            "$2,361,437",
            "$2,361,437",
            "$2,350,136",
            "$2,396,807",
            "$2,532,447",
            "$2,532,447",
            "$2,520,327",
            "$2,979,355",
            "$2,910,382",
            "$3,426,086",
            "$3,796,633",
            "$4,320,899",
            "$4,421,348",
            "$4,538,734",
            "$4,774,088",
            "$4,774,088",
            "$4,751,241",
            "$5,221,450",
            "$5,639,606",
            "$5,363,944",
            "$5,694,657",
            "$5,776,182",
            "$6,345,923",
            "$6,381,518",
            "$6,644,653",
            "$7,270,927",
            "$7,352,858",
            "$7,352,858",
            "$7,317,670",
            "$8,543,034",
            "$8,870,150",
            "$8,687,593",
            "$8,687,593",
            "$8,646,017",
            "$8,537,468",
            "$9,187,390",
            "$11,163,369",
            "$12,159,127",
            "$12,260,940"
           ],
           [
            "P:407.22<br>W:100% <br><br>Open: $8,000",
            "🔻 -3.19% <br>P:394.24<br>W:55% <br><br>Adjust: $-3,493<br>Profit: $-255",
            "🌲 15.33% <br>P:454.70<br>W:55% <br><br>Adjust: $-211<br>Profit: $397",
            "🔻 -0.98% <br>P:450.23<br>W:55% <br><br>Adjust: $+1,378<br>Profit: $323",
            "🌲 24.17% <br>P:559.03<br>W:55% <br><br>Adjust: $-617<br>Profit: $1,807",
            "🌲 2.50% <br>P:573.00<br>W:55% <br><br>Adjust: $-275<br>Profit: $1,979",
            "🌲 5.52% <br>P:604.63<br>W:55% <br><br>Adjust: $+854<br>Profit: $2,309",
            "🔻 -2.37% <br>P:590.29<br>W:55% <br><br>Adjust: $+188<br>Profit: $2,116",
            "W: 55% <br><br>Hold<br>Profit: $2,763",
            "P:681.97<br>W:55% <br><br>Adjust: $-438<br>Profit: $3,403",
            "🌲 42.95% <br>P:974.91<br>W:55% <br><br>Adjust: $-1,014<br>Profit: $7,179",
            "🌲 28.69% <br>P:1,254.59<br>W:55% <br><br>Adjust: $-1,129<br>Profit: $10,493",
            "🔻 -1.56% <br>P:1,235.03<br>W:55% <br><br>Adjust: $+5,028<br>Profit: $10,198",
            "🌲 13.30% <br>P:1,399.25<br>W:55% <br><br>Adjust: $+558<br>Profit: $12,620",
            "🔻 -6.05% <br>P:1,314.65<br>W:55% <br><br>Adjust: $+1,926<br>Profit: $11,320",
            "🌲 22.91% <br>P:1,615.77<br>W:55% <br><br>Adjust: $-1,219<br>Profit: $16,526",
            "🌲 11.62% <br>P:1,803.51<br>W:55% <br><br>Adjust: $-1,160<br>Profit: $19,554",
            "🌲 6.72% <br>P:1,924.71<br>W:0% <br><br>Close: $-29,809.59<br>Profit: $21,431",
            "-",
            "🔻 -9.95% <br>P:1,733.20<br>W:55% <br><br>Adjust: $+35,216<br>",
            "🌲 6.52% <br>P:1,846.14<br>W:55% <br><br>Adjust: $-935<br>Profit: $2,295",
            "🔻 -3.70% <br>P:1,777.82<br>W:0% <br><br>Close: $-35,221.44<br>Profit: $941",
            "🔻 -4.86% <br>P:1,691.39<br>W:55% <br><br>Adjust: $+41,813<br>",
            "🌲 22.21% <br>P:2,067.13<br>W:55% <br><br>Adjust: $-4,054<br>Profit: $9,289",
            "🌲 3.60% <br>P:2,141.45<br>W:55% <br><br>Adjust: $-1,062<br>Profit: $10,980",
            "🌲 4.24% <br>P:2,232.27<br>W:55% <br><br>Adjust: $-301<br>Profit: $13,002",
            "W: 55% <br><br>Hold<br>Profit: $14,730",
            "P:2,940.56<br>W:55% <br><br>Adjust: $-2,024<br>Profit: $28,676",
            "🌲 32.93% <br>P:3,908.82<br>W:55% <br><br>Adjust: $-9,872<br>Profit: $49,437",
            "🔻 -8.62% <br>P:3,571.87<br>W:0% <br><br>Close: $-67,563.41<br>Profit: $43,063",
            "-",
            "🔻 -33.05% <br>P:2,391.37<br>W:55% <br><br>Adjust: $+83,074<br>",
            "🌲 13.49% <br>P:2,714.04<br>W:55% <br><br>Adjust: $+2,981<br>Profit: $10,645",
            "🔻 -7.90% <br>P:2,499.62<br>W:0% <br><br>Close: $-89,580.05<br>Profit: $3,525",
            "-",
            "🔻 -20.62% <br>P:1,984.27<br>W:55% <br><br>Adjust: $+89,894<br>",
            "🌲 17.40% <br>P:2,329.55<br>W:55% <br><br>Adjust: $+441<br>Profit: $15,011",
            "🔻 -8.33% <br>P:2,135.55<br>W:0% <br><br>Close: $-97,151.62<br>Profit: $6,817",
            "🔻 -11.07% <br>P:1,899.20<br>W:67% <br><br>Adjust: $+123,413<br>",
            "🌲 14.96% <br>P:2,183.39<br>W:55% <br><br>Adjust: $-28,584<br>Profit: $18,467",
            "🌲 17.13% <br>P:2,557.39<br>W:55% <br><br>Adjust: $-8,432<br>Profit: $37,874",
            "🌲 17.44% <br>P:3,003.31<br>W:55% <br><br>Adjust: $-8,911<br>Profit: $59,543",
            "🌲 10.40% <br>P:3,315.76<br>W:55% <br><br>Adjust: $+3,917<br>Profit: $72,894",
            "🔻 -2.42% <br>P:3,235.50<br>W:0% <br><br>Close: $-151,445.27<br>Profit: $70,042",
            "🌲 0.24% <br>P:3,243.18<br>W:55% <br><br>Adjust: $+155,865<br>",
            "🌲 21.50% <br>P:3,940.31<br>W:55% <br><br>Adjust: $-9,639<br>Profit: $33,504",
            "🔻 -13.76% <br>P:3,398.09<br>W:0% <br><br>Close: $-154,997.85<br>Profit: $8,771",
            "-",
            "🔻 -9.76% <br>P:3,066.29<br>W:55% <br><br>Adjust: $+198,796<br>",
            "🌲 11.01% <br>P:3,403.81<br>W:55% <br><br>Adjust: $-3,954<br>Profit: $21,882",
            "🌲 0.16% <br>P:3,409.27<br>W:55% <br><br>Adjust: $-5,033<br>Profit: $22,230",
            "🌲 12.63% <br>P:3,839.73<br>W:55% <br><br>Adjust: $-8,629<br>Profit: $49,002",
            "🌲 6.61% <br>P:4,093.72<br>W:55% <br><br>Adjust: $+1,591<br>Profit: $62,760",
            "🌲 5.56% <br>P:4,321.22<br>W:55% <br><br>Adjust: $+6,225<br>Profit: $76,395",
            "🌲 6.38% <br>P:4,596.85<br>W:55% <br><br>Adjust: $-6,514<br>Profit: $94,982",
            "🌲 0.25% <br>P:4,608.17<br>W:0% <br><br>Close: $-278,146.92<br>Profit: $95,665",
            "-",
            "-",
            "-",
            "-",
            "-",
            "-",
            "-",
            "-",
            "-",
            "-",
            "🔻 -43.21% <br>P:2,616.93<br>W:55% <br><br>Adjust: $+775,691<br>",
            "🌲 16.75% <br>P:3,055.21<br>W:55% <br><br>Adjust: $-48,964<br>Profit: $129,910",
            "🔻 -6.22% <br>P:2,865.25<br>W:0% <br><br>Close: $-803,376.60<br>Profit: $76,650",
            "-",
            "-",
            "-",
            "🔻 -11.97% <br>P:2,522.20<br>W:55% <br><br>Adjust: $+784,106<br>",
            "🌲 13.02% <br>P:2,850.47<br>W:55% <br><br>Adjust: $-20,282<br>Profit: $102,053",
            "🌲 15.32% <br>P:3,287.25<br>W:55% <br><br>Adjust: $-5,057<br>Profit: $234,730",
            "🌲 6.82% <br>P:3,511.32<br>W:0% <br><br>Close: $-1,061,217.81<br>Profit: $302,450",
            "-",
            "-",
            "-",
            "-",
            "-",
            "-",
            "-",
            "-",
            "-",
            "-",
            "-",
            "-",
            "-",
            "🔻 -66.69% <br>P:1,169.50<br>W:55% <br><br>Adjust: $+1,498,932<br>",
            "🌲 14.18% <br>P:1,335.39<br>W:55% <br><br>Adjust: $-54,798<br>Profit: $212,619",
            "🌲 19.32% <br>P:1,593.38<br>W:55% <br><br>Adjust: $-91,085<br>Profit: $532,690",
            "🌲 5.19% <br>P:1,676.13<br>W:55% <br><br>Adjust: $-54,201<br>Profit: $630,623",
            "🌲 1.65% <br>P:1,703.81<br>W:55% <br><br>Adjust: $+31,016<br>Profit: $650,756",
            "🌲 13.24% <br>P:1,929.42<br>W:0% <br><br>Close: $-2,256,165.12<br>Profit: $926,301",
            "-",
            "-",
            "🔻 -18.09% <br>P:1,580.29<br>W:55% <br><br>Adjust: $+2,286,409<br>",
            "🌲 11.14% <br>P:1,756.39<br>W:0% <br><br>Close: $-2,541,194.05<br>Profit: $254,785",
            "-",
            "-",
            "🔻 -27.09% <br>P:1,280.57<br>W:55% <br><br>Adjust: $+2,527,112<br>",
            "🌲 3.41% <br>P:1,324.26<br>W:55% <br><br>Adjust: $+174,301<br>Profit: $70,584",
            "🔻 -1.06% <br>P:1,310.23<br>W:55% <br><br>Adjust: $+46,824<br>Profit: $40,187",
            "🌲 3.84% <br>P:1,360.49<br>W:55% <br><br>Adjust: $-12,878<br>Profit: $164,268",
            "🌲 16.50% <br>P:1,584.97<br>W:55% <br><br>Adjust: $-204,865<br>Profit: $642,704",
            "🔻 -1.13% <br>P:1,567.01<br>W:0% <br><br>Close: $-3,137,251.32<br>Profit: $606,757",
            "-",
            "-",
            "🔻 -23.59% <br>P:1,197.28<br>W:55% <br><br>Adjust: $+3,737,626<br>",
            "🌲 6.65% <br>P:1,276.95<br>W:55% <br><br>Adjust: $-107,303<br>Profit: $248,726",
            "🔻 -1.25% <br>P:1,261.02<br>W:0% <br><br>Close: $-3,830,645.76<br>Profit: $200,323",
            "-",
            "🔻 -3.18% <br>P:1,220.88<br>W:100% <br><br>Adjust: $+6,950,074<br>",
            "🔻 -1.89% <br>P:1,197.78<br>W:55% <br><br>Adjust: $-3,084,999<br>Profit: $-131,513",
            "🌲 7.97% <br>P:1,293.30<br>W:55% <br><br>Adjust: $+1,857<br>Profit: $142,116",
            "🌲 20.43% <br>P:1,557.46<br>W:55% <br><br>Adjust: $+43,619<br>Profit: $960,952",
            "🌲 4.92% <br>P:1,634.10<br>W:55% <br><br>Adjust: $+195,592<br>Profit: $1,200,403",
            "🌲 0.53% <br>P:1,642.73<br>W:55% <br><br>Close: $-8,298.29<br>Profit: $1,259,360"
           ],
           [
            "-",
            "P:0.40<br>W:27% <br><br>Open: $2,126",
            "🌲 14.47% <br>P:0.46<br>W:27% <br><br>Adjust: $-87<br>Profit: $308",
            "🌲 67.68% <br>P:0.77<br>W:27% <br><br>Adjust: $-936<br>Profit: $1,896",
            "🔻 -3.15% <br>P:0.74<br>W:0% <br><br>Close: $-2,904.59<br>Profit: $1,802",
            "-",
            "-",
            "-",
            "-",
            "🔻 -33.11% <br>P:0.50<br>W:27% <br><br>Adjust: $+4,395<br>",
            "🌲 37.21% <br>P:0.68<br>W:27% <br><br>Adjust: $-255<br>Profit: $1,636",
            "🌲 12.12% <br>P:0.76<br>W:27% <br><br>Adjust: $+431<br>Profit: $2,297",
            "🌲 120.52% <br>P:1.68<br>W:27% <br><br>Adjust: $-5,998<br>Profit: $10,661",
            "🌲 35.16% <br>P:2.27<br>W:27% <br><br>Adjust: $-1,757<br>Profit: $13,909",
            "🌲 11.11% <br>P:2.53<br>W:27% <br><br>Adjust: $-879<br>Profit: $15,101",
            "🌲 16.86% <br>P:2.95<br>W:27% <br><br>Adjust: $+209<br>Profit: $16,885",
            "🔻 -0.69% <br>P:2.93<br>W:0% <br><br>Close: $-13,018.93<br>Profit: $16,872",
            "-",
            "-",
            "🔻 -22.56% <br>P:2.27<br>W:27% <br><br>Adjust: $+17,608<br>",
            "🔻 -5.61% <br>P:2.14<br>W:27% <br><br>Adjust: $+1,768<br>Profit: $-1,088",
            "🌲 21.63% <br>P:2.61<br>W:100% <br><br>Adjust: $+45,965<br>Profit: $2,854",
            "🌲 15.29% <br>P:3.00<br>W:27% <br><br>Adjust: $-57,867<br>Profit: $13,434",
            "🌲 2.47% <br>P:3.08<br>W:27% <br><br>Adjust: $+2,230<br>Profit: $13,821",
            "🌲 0.90% <br>P:3.11<br>W:27% <br><br>Adjust: $-27<br>Profit: $14,163",
            "🌲 3.91% <br>P:3.23<br>W:0% <br><br>Close: $-24,771.91<br>Profit: $15,096",
            "🔻 -26.16% <br>P:2.38<br>W:27% <br><br>Adjust: $+25,559<br>",
            "🌲 36.45% <br>P:3.25<br>W:27% <br><br>Adjust: $-3,352<br>Profit: $9,317",
            "🌲 5.49% <br>P:3.43<br>W:0% <br><br>Close: $-33,254.23<br>Profit: $11,047",
            "-",
            "-",
            "🔻 -51.12% <br>P:1.68<br>W:27% <br><br>Adjust: $+41,537<br>",
            "🌲 45.75% <br>P:2.44<br>W:27% <br><br>Adjust: $-12,190<br>Profit: $19,003",
            "🔻 -10.12% <br>P:2.20<br>W:0% <br><br>Close: $-43,456.78<br>Profit: $14,110",
            "-",
            "-",
            "🔻 -16.15% <br>P:1.84<br>W:27% <br><br>Adjust: $+52,673<br>",
            "🔻 -4.75% <br>P:1.75<br>W:0% <br><br>Close: $-50,170.32<br>Profit: $-2,502",
            "-",
            "🔻 -12.76% <br>P:1.53<br>W:27% <br><br>Adjust: $+56,648<br>",
            "🌲 9.26% <br>P:1.67<br>W:27% <br><br>Adjust: $+615<br>Profit: $4,873",
            "🌲 4.74% <br>P:1.75<br>W:27% <br><br>Adjust: $+3,435<br>Profit: $7,817",
            "🌲 15.44% <br>P:2.02<br>W:27% <br><br>Adjust: $-2,397<br>Profit: $18,848",
            "🌲 22.38% <br>P:2.47<br>W:55% <br><br>Adjust: $+68,599<br>Profit: $35,545",
            "🔻 -15.25% <br>P:2.10<br>W:0% <br><br>Close: $-138,156.06<br>Profit: $11,256",
            "🌲 18.08% <br>P:2.48<br>W:27% <br><br>Adjust: $+89,865<br>",
            "🔻 -1.32% <br>P:2.44<br>W:67% <br><br>Adjust: $+112,060<br>Profit: $-1,714",
            "🌲 26.27% <br>P:3.09<br>W:55% <br><br>Adjust: $-43,735<br>Profit: $51,542",
            "🔻 -16.97% <br>P:2.56<br>W:0% <br><br>Close: $-174,138.84<br>Profit: $15,949",
            "🌲 9.74% <br>P:2.81<br>W:27% <br><br>Adjust: $+108,362<br>",
            "🔻 -4.62% <br>P:2.68<br>W:27% <br><br>Adjust: $+3,279<br>Profit: $-5,622",
            "🌲 7.41% <br>P:2.88<br>W:27% <br><br>Adjust: $+1,241<br>Profit: $2,209",
            "🌲 22.11% <br>P:3.52<br>W:27% <br><br>Adjust: $-18,606<br>Profit: $28,489",
            "🌲 25.99% <br>P:4.43<br>W:27% <br><br>Adjust: $-21,973<br>Profit: $60,392",
            "🌲 0.19% <br>P:4.44<br>W:0% <br><br>Close: $-132,953.71<br>Profit: $60,651",
            "-",
            "🔻 -15.00% <br>P:3.77<br>W:67% <br><br>Adjust: $+513,612<br>",
            "🌲 29.71% <br>P:4.90<br>W:0% <br><br>Close: $-666,203.86<br>Profit: $152,592",
            "-",
            "🔻 -21.31% <br>P:3.85<br>W:55% <br><br>Adjust: $+544,155<br>",
            "🌲 6.33% <br>P:4.10<br>W:55% <br><br>Adjust: $-19,951<br>Profit: $34,441",
            "🌲 39.96% <br>P:5.73<br>W:55% <br><br>Adjust: $-48,596<br>Profit: $257,687",
            "🌲 6.78% <br>P:6.12<br>W:0% <br><br>Close: $-782,979.72<br>Profit: $307,372",
            "-",
            "-",
            "-",
            "🔻 -47.78% <br>P:3.20<br>W:27% <br><br>Adjust: $+387,845<br>",
            "🌲 4.68% <br>P:3.35<br>W:0% <br><br>Close: $-406,014.41<br>Profit: $18,169",
            "-",
            "-",
            "-",
            "-",
            "🔻 -42.73% <br>P:1.92<br>W:27% <br><br>Adjust: $+392,053<br>",
            "🌲 11.21% <br>P:2.13<br>W:27% <br><br>Adjust: $-3,081<br>Profit: $43,967",
            "🌲 21.76% <br>P:2.60<br>W:27% <br><br>Adjust: $-30,408<br>Profit: $138,185",
            "🌲 11.29% <br>P:2.89<br>W:0% <br><br>Close: $-552,818.55<br>Profit: $194,255",
            "-",
            "🔻 -23.74% <br>P:2.20<br>W:67% <br><br>Adjust: $+1,095,867<br>",
            "🌲 22.83% <br>P:2.71<br>W:0% <br><br>Close: $-1,346,096.89<br>Profit: $250,230",
            "-",
            "-",
            "-",
            "-",
            "-",
            "-",
            "-",
            "-",
            "🔻 -71.88% <br>P:0.76<br>W:55% <br><br>Adjust: $+1,304,623<br>",
            "🌲 4.83% <br>P:0.80<br>W:55% <br><br>Adjust: $-95,954<br>Profit: $62,976",
            "🌲 17.75% <br>P:0.94<br>W:27% <br><br>Adjust: $-747,841<br>Profit: $288,638",
            "🌲 14.94% <br>P:1.08<br>W:27% <br><br>Adjust: $-33,073<br>Profit: $400,621",
            "🌲 27.33% <br>P:1.37<br>W:27% <br><br>Adjust: $-111,912<br>Profit: $627,027",
            "🔻 -3.40% <br>P:1.33<br>W:27% <br><br>Adjust: $+59,416<br>Profit: $589,477",
            "🌲 6.56% <br>P:1.41<br>W:27% <br><br>Adjust: $-43,519<br>Profit: $658,571",
            "🔻 -2.61% <br>P:1.38<br>W:0% <br><br>Close: $-964,503.77<br>Profit: $632,765",
            "-",
            "🔻 -29.01% <br>P:0.98<br>W:55% <br><br>Adjust: $+2,083,238<br>",
            "🌲 11.37% <br>P:1.09<br>W:27% <br><br>Adjust: $-1,176,845<br>Profit: $236,811",
            "🌲 7.18% <br>P:1.17<br>W:0% <br><br>Close: $-1,225,257.64<br>Profit: $318,864",
            "-",
            "-",
            "-",
            "-",
            "🔻 -29.42% <br>P:0.82<br>W:27% <br><br>Adjust: $+1,394,212<br>",
            "🌲 10.62% <br>P:0.91<br>W:27% <br><br>Adjust: $-92,421<br>Profit: $148,023",
            "🔻 -1.34% <br>P:0.90<br>W:27% <br><br>Adjust: $+164,802<br>Profit: $120,006",
            "🌲 6.00% <br>P:0.95<br>W:0% <br><br>Close: $-1,690,925.10<br>Profit: $224,332",
            "-",
            "🔻 -46.50% <br>P:0.51<br>W:55% <br><br>Adjust: $+3,208,520<br>",
            "🌲 31.44% <br>P:0.67<br>W:27% <br><br>Adjust: $-2,348,408<br>Profit: $1,008,701",
            "🌲 0.05% <br>P:0.67<br>W:0% <br><br>Close: $-1,869,737.44<br>Profit: $1,009,626",
            "-",
            "-",
            "-",
            "🔻 -21.08% <br>P:0.53<br>W:27% <br><br>Adjust: $+1,866,781<br>",
            "🌲 8.96% <br>P:0.58<br>W:27% <br><br>Adjust: $-29,532<br>Profit: $167,275",
            "🌲 45.33% <br>P:0.84<br>W:27% <br><br>Adjust: $-477,500<br>Profit: $1,076,002",
            "🌲 28.83% <br>P:1.08<br>W:27% <br><br>Adjust: $-484,767<br>Profit: $1,778,291",
            "🌲 1.29% <br>P:1.09<br>W:0% <br><br>Close: $-2,687,498.79<br>Profit: $1,812,516"
           ],
           [
            "-",
            "P:0.62<br>W:18% <br><br>Open: $1,417",
            "🌲 4.25% <br>P:0.65<br>W:18% <br><br>Adjust: $+96<br>Profit: $51",
            "🌲 93.20% <br>P:1.25<br>W:18% <br><br>Adjust: $-1,040<br>Profit: $1,527",
            "🌲 30.63% <br>P:1.63<br>W:27% <br><br>Adjust: $+836<br>Profit: $2,123",
            "🔻 -11.18% <br>P:1.45<br>W:27% <br><br>Adjust: $+337<br>Profit: $1,735",
            "🌲 51.23% <br>P:2.19<br>W:27% <br><br>Adjust: $-1,167<br>Profit: $3,495",
            "🌲 8.42% <br>P:2.38<br>W:27% <br><br>Adjust: $-337<br>Profit: $3,830",
            "🌲 13.06% <br>P:2.69<br>W:27% <br><br>Adjust: $-193<br>Profit: $4,348",
            "🔻 -1.86% <br>P:2.64<br>W:18% <br><br>Adjust: $-1,287<br>Profit: $4,268",
            "W: 18% <br><br>Hold<br>Profit: $5,186",
            "P:4.39<br>W:18% <br><br>Adjust: $-301<br>Profit: $6,218",
            "🌲 60.66% <br>P:7.05<br>W:18% <br><br>Adjust: $-1,200<br>Profit: $8,996",
            "🌲 18.85% <br>P:8.38<br>W:18% <br><br>Adjust: $-167<br>Profit: $10,156",
            "🌲 21.57% <br>P:10.19<br>W:18% <br><br>Adjust: $-1,334<br>Profit: $11,699",
            "🌲 29.17% <br>P:13.16<br>W:18% <br><br>Adjust: $-818<br>Profit: $13,845",
            "🌲 15.27% <br>P:15.17<br>W:27% <br><br>Adjust: $+4,012<br>Profit: $15,112",
            "🌲 14.05% <br>P:17.30<br>W:55% <br><br>Adjust: $+15,170<br>Profit: $17,046",
            "🔻 -12.00% <br>P:15.23<br>W:55% <br><br>Adjust: $+2,417<br>Profit: $13,239",
            "🌲 17.66% <br>P:17.91<br>W:18% <br><br>Adjust: $-23,377<br>Profit: $18,674",
            "🌲 16.26% <br>P:20.83<br>W:18% <br><br>Adjust: $-1,455<br>Profit: $20,582",
            "🔻 -9.54% <br>P:18.84<br>W:0% <br><br>Close: $-11,028.33<br>Profit: $19,419",
            "-",
            "-",
            "-",
            "-",
            "-",
            "🔻 -26.05% <br>P:13.93<br>W:18% <br><br>Adjust: $+21,016<br>",
            "🌲 12.39% <br>P:15.66<br>W:27% <br><br>Adjust: $+13,490<br>Profit: $2,462",
            "🌲 5.42% <br>P:16.51<br>W:0% <br><br>Close: $-39,120.94<br>Profit: $4,614",
            "-",
            "🔻 -34.24% <br>P:10.86<br>W:18% <br><br>Adjust: $+27,691<br>",
            "🌲 5.70% <br>P:11.47<br>W:0% <br><br>Close: $-29,269.88<br>Profit: $1,579",
            "-",
            "-",
            "-",
            "🔻 -30.03% <br>P:8.03<br>W:18% <br><br>Adjust: $+35,115<br>",
            "🌲 1.93% <br>P:8.18<br>W:0% <br><br>Close: $-35,794.28<br>Profit: $679",
            "🔻 -12.52% <br>P:7.16<br>W:33% <br><br>Adjust: $+61,707<br>",
            "🌲 15.83% <br>P:8.29<br>W:18% <br><br>Adjust: $-33,712<br>Profit: $9,771",
            "🌲 2.92% <br>P:8.53<br>W:18% <br><br>Adjust: $+2,787<br>Profit: $10,642",
            "🌲 10.54% <br>P:9.43<br>W:18% <br><br>Adjust: $-370<br>Profit: $15,265",
            "🌲 33.26% <br>P:12.57<br>W:18% <br><br>Adjust: $-9,435<br>Profit: $30,456",
            "🌲 9.39% <br>P:13.75<br>W:0% <br><br>Close: $-56,260.16<br>Profit: $35,284",
            "🔻 -14.65% <br>P:11.74<br>W:27% <br><br>Adjust: $+77,932<br>",
            "🌲 21.13% <br>P:14.22<br>W:18% <br><br>Adjust: $-34,492<br>Profit: $16,469",
            "🔻 -16.76% <br>P:11.84<br>W:0% <br><br>Close: $-49,871.35<br>Profit: $6,431",
            "-",
            "-",
            "-",
            "🔻 -13.87% <br>P:10.19<br>W:18% <br><br>Adjust: $+70,680<br>",
            "🌲 9.87% <br>P:11.20<br>W:18% <br><br>Adjust: $-928<br>Profit: $6,976",
            "🔻 -6.34% <br>P:10.49<br>W:0% <br><br>Close: $-71,863.61<br>Profit: $2,112",
            "🌲 4.83% <br>P:11.00<br>W:18% <br><br>Adjust: $+88,464<br>",
            "🌲 10.63% <br>P:12.17<br>W:27% <br><br>Adjust: $+41,446<br>Profit: $8,822",
            "🔻 -8.43% <br>P:11.14<br>W:0% <br><br>Close: $-127,566.79<br>Profit: $-2,343",
            "-",
            "-",
            "-",
            "🔻 -49.36% <br>P:5.64<br>W:27% <br><br>Adjust: $+272,078<br>",
            "🔻 -4.59% <br>P:5.38<br>W:27% <br><br>Adjust: $+21,298<br>Profit: $-14,053",
            "🌲 46.82% <br>P:7.90<br>W:27% <br><br>Adjust: $-45,726<br>Profit: $118,998",
            "🌲 13.66% <br>P:8.98<br>W:0% <br><br>Close: $-416,722.30<br>Profit: $169,073",
            "-",
            "-",
            "-",
            "🔻 -53.81% <br>P:4.15<br>W:18% <br><br>Adjust: $+258,564<br>",
            "🌲 14.47% <br>P:4.75<br>W:0% <br><br>Close: $-295,985.06<br>Profit: $37,421",
            "-",
            "-",
            "-",
            "-",
            "🔻 -41.15% <br>P:2.79<br>W:18% <br><br>Adjust: $+261,369<br>",
            "🌲 15.83% <br>P:3.24<br>W:18% <br><br>Adjust: $-14,115<br>Profit: $41,372",
            "🌲 22.72% <br>P:3.97<br>W:18% <br><br>Adjust: $-23,028<br>Profit: $106,941",
            "🌲 11.11% <br>P:4.41<br>W:0% <br><br>Close: $-367,968.88<br>Profit: $143,744",
            "-",
            "-",
            "-",
            "-",
            "-",
            "-",
            "🔻 -66.79% <br>P:1.47<br>W:67% <br><br>Adjust: $+1,259,433<br>",
            "🌲 2.10% <br>P:1.50<br>W:67% <br><br>Adjust: $+169<br>Profit: $18,696",
            "🌲 3.69% <br>P:1.55<br>W:0% <br><br>Close: $-1,333,429.17<br>Profit: $73,827",
            "-",
            "🔻 -32.69% <br>P:1.04<br>W:55% <br><br>Adjust: $+1,105,068<br>",
            "🌲 9.66% <br>P:1.15<br>W:0% <br><br>Close: $-1,211,813.86<br>Profit: $106,746",
            "🔻 -10.51% <br>P:1.03<br>W:27% <br><br>Adjust: $+635,822<br>",
            "🌲 28.08% <br>P:1.31<br>W:18% <br><br>Adjust: $-314,731<br>Profit: $178,553",
            "🌲 8.07% <br>P:1.42<br>W:18% <br><br>Adjust: $+15,536<br>Profit: $215,624",
            "🔻 -3.92% <br>P:1.36<br>W:18% <br><br>Adjust: $+98,046<br>Profit: $193,907",
            "🌲 5.80% <br>P:1.44<br>W:18% <br><br>Adjust: $-25,258<br>Profit: $233,742",
            "🌲 4.35% <br>P:1.51<br>W:18% <br><br>Adjust: $-10,939<br>Profit: $261,731",
            "🔻 -2.21% <br>P:1.47<br>W:0% <br><br>Close: $-645,634.92<br>Profit: $247,160",
            "-",
            "-",
            "🔻 -20.50% <br>P:1.17<br>W:18% <br><br>Adjust: $+762,136<br>",
            "🌲 11.24% <br>P:1.30<br>W:0% <br><br>Close: $-847,808.98<br>Profit: $85,673",
            "-",
            "🔻 -19.63% <br>P:1.05<br>W:55% <br><br>Adjust: $+2,496,890<br>",
            "🔻 -1.75% <br>P:1.03<br>W:27% <br><br>Adjust: $-1,189,758<br>Profit: $-43,576",
            "🌲 34.04% <br>P:1.38<br>W:27% <br><br>Adjust: $-307,668<br>Profit: $386,535",
            "🌲 6.40% <br>P:1.47<br>W:18% <br><br>Adjust: $-545,190<br>Profit: $475,201",
            "🔻 -1.27% <br>P:1.45<br>W:18% <br><br>Adjust: $+54,332<br>Profit: $457,937",
            "🌲 17.59% <br>P:1.70<br>W:18% <br><br>Adjust: $-85,325<br>Profit: $634,452",
            "🌲 1.19% <br>P:1.72<br>W:0% <br><br>Close: $-1,070,299.39<br>Profit: $647,019",
            "-",
            "🔻 -31.83% <br>P:1.17<br>W:27% <br><br>Adjust: $+1,604,260<br>",
            "🌲 8.15% <br>P:1.27<br>W:18% <br><br>Adjust: $-489,114<br>Profit: $130,729",
            "🌲 5.98% <br>P:1.35<br>W:0% <br><br>Close: $-1,320,319.24<br>Profit: $205,173",
            "-",
            "-",
            "-",
            "🔻 -29.77% <br>P:0.95<br>W:18% <br><br>Adjust: $+1,244,521<br>",
            "🌲 15.30% <br>P:1.09<br>W:18% <br><br>Adjust: $-98,589<br>Profit: $190,417",
            "🌲 19.34% <br>P:1.30<br>W:18% <br><br>Adjust: $+38,589<br>Profit: $439,313",
            "🌲 3.42% <br>P:1.34<br>W:18% <br><br>Adjust: $+89,780<br>Profit: $494,548",
            "🌲 1.33% <br>P:1.36<br>W:27% <br><br>Close: $886,843.61<br>Profit: $517,458"
           ],
           [
            "-",
            "-",
            "-",
            "-",
            "-",
            "-",
            "-",
            "P:3.34<br>W:18% <br><br>Open: $2,647",
            "🌲 12.39% <br>P:3.76<br>W:18% <br><br>Adjust: $-111<br>Profit: $328",
            "🔻 -3.80% <br>P:3.61<br>W:0% <br><br>Close: $-2,755.68<br>Profit: $219",
            "-",
            "-",
            "-",
            "-",
            "-",
            "-",
            "🌲 485.53% <br>P:21.16<br>W:18% <br><br>Adjust: $+9,311<br>",
            "🌲 37.13% <br>P:29.01<br>W:27% <br><br>Adjust: $+2,844<br>Profit: $3,381",
            "🔻 -22.26% <br>P:22.55<br>W:27% <br><br>Adjust: $+2,776<br>Profit: $-90",
            "🌲 51.73% <br>P:34.22<br>W:0% <br><br>Close: $-22,627.68<br>Profit: $7,697",
            "-",
            "-",
            "-",
            "🔻 -9.17% <br>P:31.09<br>W:18% <br><br>Adjust: $+15,683<br>",
            "🔻 -3.18% <br>P:30.10<br>W:18% <br><br>Adjust: $+800<br>Profit: $-590",
            "🌲 6.25% <br>P:31.98<br>W:27% <br><br>Adjust: $+7,818<br>Profit: $398",
            "🌲 7.03% <br>P:34.22<br>W:18% <br><br>Adjust: $-9,505<br>Profit: $2,243",
            "🌲 23.93% <br>P:42.41<br>W:0% <br><br>Close: $-21,117.10<br>Profit: $6,321",
            "-",
            "-",
            "-",
            "-",
            "-",
            "-",
            "-",
            "🔻 -59.54% <br>P:17.16<br>W:27% <br><br>Adjust: $+44,947<br>",
            "🌲 21.43% <br>P:20.84<br>W:0% <br><br>Close: $-54,580.91<br>Profit: $9,634",
            "-",
            "-",
            "-",
            "-",
            "-",
            "-",
            "-",
            "🌲 29.02% <br>P:26.89<br>W:18% <br><br>Adjust: $+51,955<br>",
            "🌲 9.08% <br>P:29.33<br>W:0% <br><br>Close: $-56,673.21<br>Profit: $4,718",
            "-",
            "🔻 -18.74% <br>P:23.83<br>W:27% <br><br>Adjust: $+104,866<br>",
            "🌲 0.66% <br>P:23.99<br>W:27% <br><br>Adjust: $-6,160<br>Profit: $691",
            "🌲 8.24% <br>P:25.97<br>W:18% <br><br>Adjust: $-35,342<br>Profit: $8,877",
            "🔻 -7.56% <br>P:24.00<br>W:0% <br><br>Close: $-66,778.86<br>Profit: $3,415",
            "-",
            "-",
            "-",
            "-",
            "-",
            "-",
            "-",
            "-",
            "-",
            "🔻 -37.20% <br>P:15.07<br>W:18% <br><br>Adjust: $+186,215<br>",
            "🌲 24.34% <br>P:18.74<br>W:18% <br><br>Adjust: $+14,274<br>Profit: $43,942",
            "🔻 -1.62% <br>P:18.44<br>W:0% <br><br>Close: $-241,829.84<br>Profit: $41,341",
            "-",
            "-",
            "-",
            "-",
            "-",
            "-",
            "-",
            "-",
            "-",
            "-",
            "-",
            "-",
            "-",
            "-",
            "-",
            "-",
            "-",
            "-",
            "-",
            "-",
            "-",
            "-",
            "-",
            "🔻 -77.23% <br>P:4.20<br>W:27% <br><br>Adjust: $+552,534<br>",
            "🌲 33.38% <br>P:5.60<br>W:27% <br><br>Adjust: $-84,656<br>Profit: $184,433",
            "🔻 -12.54% <br>P:4.90<br>W:18% <br><br>Adjust: $-146,657<br>Profit: $102,660",
            "🌲 27.52% <br>P:6.25<br>W:0% <br><br>Close: $-540,533.05<br>Profit: $219,312",
            "-",
            "-",
            "-",
            "-",
            "-",
            "-",
            "-",
            "-",
            "-",
            "-",
            "🔻 -9.23% <br>P:5.67<br>W:27% <br><br>Adjust: $+1,248,445<br>",
            "🌲 9.72% <br>P:6.22<br>W:18% <br><br>Adjust: $-527,471<br>Profit: $121,397",
            "🌲 7.18% <br>P:6.67<br>W:0% <br><br>Close: $-902,869.94<br>Profit: $181,896",
            "-",
            "-",
            "-",
            "-",
            "-",
            "-",
            "-",
            "🔻 -5.62% <br>P:6.29<br>W:27% <br><br>Adjust: $+1,939,525<br>",
            "🔻 -5.53% <br>P:5.94<br>W:0% <br><br>Close: $-1,832,276.76<br>Profit: $-107,248",
            "-",
            "-",
            "-",
            "-",
            "-",
            "-",
            "-"
           ],
           [
            "-",
            "-",
            "-",
            "-",
            "P:69.69<br>W:18% <br><br>Open: $2,288",
            "🔻 -0.86% <br>P:69.09<br>W:18% <br><br>Adjust: $-15<br>Profit: $-20",
            "🌲 27.74% <br>P:88.25<br>W:18% <br><br>Adjust: $-230<br>Profit: $606",
            "🔻 -5.76% <br>P:83.17<br>W:0% <br><br>Close: $-2,496.31<br>Profit: $453",
            "-",
            "-",
            "-",
            "-",
            "-",
            "-",
            "-",
            "-",
            "-",
            "-",
            "-",
            "-",
            "-",
            "-",
            "🌲 317.29% <br>P:347.05<br>W:18% <br><br>Adjust: $+13,938<br>",
            "🌲 16.64% <br>P:404.79<br>W:0% <br><br>Close: $-16,256.92<br>Profit: $2,319",
            "-",
            "-",
            "-",
            "-",
            "🌲 14.70% <br>P:464.32<br>W:18% <br><br>Adjust: $+24,646<br>",
            "🌲 13.09% <br>P:525.11<br>W:0% <br><br>Close: $-27,872.41<br>Profit: $3,227",
            "-",
            "-",
            "-",
            "-",
            "-",
            "🔻 -61.06% <br>P:204.47<br>W:18% <br><br>Adjust: $+29,965<br>",
            "🌲 35.93% <br>P:277.93<br>W:0% <br><br>Close: $-40,730.17<br>Profit: $10,766",
            "-",
            "-",
            "-",
            "-",
            "-",
            "-",
            "-",
            "-",
            "-",
            "-",
            "-",
            "-",
            "-",
            "-",
            "-",
            "🌲 12.77% <br>P:313.42<br>W:18% <br><br>Adjust: $+81,844<br>",
            "🔻 -0.03% <br>P:313.32<br>W:0% <br><br>Close: $-81,817.16<br>Profit: $-27",
            "🌲 3.95% <br>P:325.71<br>W:18% <br><br>Adjust: $+92,488<br>",
            "🔻 -2.74% <br>P:316.79<br>W:0% <br><br>Close: $-89,957.57<br>Profit: $-2,530",
            "-",
            "-",
            "-",
            "-",
            "-",
            "-",
            "-",
            "-",
            "-",
            "-",
            "-",
            "🔻 -46.41% <br>P:169.77<br>W:27% <br><br>Adjust: $+428,318<br>",
            "🔻 -8.01% <br>P:156.16<br>W:0% <br><br>Close: $-393,989.51<br>Profit: $-34,329",
            "-",
            "-",
            "-",
            "-",
            "-",
            "-",
            "🌲 56.45% <br>P:244.32<br>W:55% <br><br>Adjust: $+1,063,575<br>",
            "🔻 -28.31% <br>P:175.15<br>W:0% <br><br>Close: $-762,457.16<br>Profit: $-301,117",
            "-",
            "-",
            "-",
            "-",
            "-",
            "🔻 -46.38% <br>P:93.91<br>W:33% <br><br>Adjust: $+629,717<br>",
            "🌲 2.65% <br>P:96.39<br>W:33% <br><br>Adjust: $-7,243<br>Profit: $16,675",
            "🌲 12.60% <br>P:108.54<br>W:0% <br><br>Close: $-719,655.86<br>Profit: $97,182",
            "-",
            "-",
            "🔻 -39.15% <br>P:66.05<br>W:18% <br><br>Adjust: $+434,874<br>",
            "🔻 -13.06% <br>P:57.42<br>W:0% <br><br>Close: $-378,096.98<br>Profit: $-56,777",
            "-",
            "-",
            "-",
            "-",
            "-",
            "-",
            "-",
            "🌲 37.68% <br>P:79.06<br>W:27% <br><br>Adjust: $+1,041,619<br>",
            "🌲 12.92% <br>P:89.28<br>W:0% <br><br>Close: $-1,176,200.97<br>Profit: $134,582",
            "-",
            "-",
            "🔻 -17.43% <br>P:73.71<br>W:18% <br><br>Adjust: $+832,297<br>",
            "🔻 -1.03% <br>P:72.95<br>W:0% <br><br>Close: $-823,734.62<br>Profit: $-8,562",
            "🌲 5.81% <br>P:77.19<br>W:18% <br><br>Adjust: $+923,999<br>",
            "🔻 -2.23% <br>P:75.47<br>W:0% <br><br>Close: $-903,375.25<br>Profit: $-20,624",
            "-",
            "-",
            "-",
            "-",
            "🔻 -25.08% <br>P:56.54<br>W:18% <br><br>Adjust: $+1,069,507<br>",
            "🌲 6.84% <br>P:60.40<br>W:0% <br><br>Close: $-1,142,610.82<br>Profit: $73,104",
            "-",
            "-",
            "-",
            "-",
            "-",
            "-",
            "-",
            "-",
            "-"
           ],
           [
            "-",
            "-",
            "-",
            "-",
            "-",
            "-",
            "-",
            "-",
            "-",
            "-",
            "-",
            "-",
            "-",
            "-",
            "-",
            "-",
            "-",
            "P:0.15<br>W:18% <br><br>Open: $10,357",
            "🌲 39.52% <br>P:0.22<br>W:18% <br><br>Adjust: $-4,556<br>Profit: $4,093",
            "🔻 -5.44% <br>P:0.20<br>W:0% <br><br>Close: $-9,355.39<br>Profit: $3,554",
            "-",
            "-",
            "-",
            "-",
            "-",
            "🌲 82.81% <br>P:0.37<br>W:18% <br><br>Adjust: $+16,466<br>",
            "🌲 2.24% <br>P:0.38<br>W:0% <br><br>Close: $-16,834.44<br>Profit: $368",
            "-",
            "-",
            "🌲 336.38% <br>P:1.67<br>W:100% <br><br>Adjust: $+134,756<br>",
            "🔻 -37.59% <br>P:1.04<br>W:100% <br><br>Adjust: $+10,230<br>Profit: $-51,151",
            "🌲 76.94% <br>P:1.84<br>W:0% <br><br>Close: $-166,918.80<br>Profit: $21,933",
            "-",
            "-",
            "-",
            "-",
            "-",
            "-",
            "-",
            "-",
            "-",
            "-",
            "-",
            "-",
            "-",
            "-",
            "-",
            "-",
            "🔻 -38.78% <br>P:1.13<br>W:18% <br><br>Adjust: $+66,265<br>",
            "🌲 16.63% <br>P:1.31<br>W:0% <br><br>Close: $-77,283.20<br>Profit: $11,018",
            "-",
            "-",
            "-",
            "-",
            "-",
            "-",
            "-",
            "🌲 26.07% <br>P:1.66<br>W:100% <br><br>Adjust: $+828,608<br>",
            "🌲 23.01% <br>P:2.04<br>W:100% <br><br>Adjust: $-38,140<br>Profit: $190,700",
            "🌲 2.10% <br>P:2.08<br>W:18% <br><br>Adjust: $-820,345<br>Profit: $211,262",
            "🌲 7.07% <br>P:2.23<br>W:0% <br><br>Close: $-194,202.13<br>Profit: $224,080",
            "-",
            "-",
            "-",
            "-",
            "-",
            "-",
            "🔻 -21.71% <br>P:1.74<br>W:18% <br><br>Adjust: $+285,545<br>",
            "🔻 -4.73% <br>P:1.66<br>W:0% <br><br>Close: $-272,039.15<br>Profit: $-13,506",
            "-",
            "-",
            "-",
            "-",
            "-",
            "-",
            "-",
            "-",
            "-",
            "-",
            "-",
            "-",
            "-",
            "-",
            "-",
            "-",
            "-",
            "🔻 -76.90% <br>P:0.38<br>W:18% <br><br>Adjust: $+368,356<br>",
            "🌲 45.10% <br>P:0.56<br>W:0% <br><br>Close: $-534,490.38<br>Profit: $166,135",
            "-",
            "-",
            "-",
            "-",
            "-",
            "-",
            "-",
            "-",
            "🌲 40.70% <br>P:0.78<br>W:18% <br><br>Adjust: $+694,413<br>",
            "🌲 13.57% <br>P:0.89<br>W:0% <br><br>Close: $-788,619.33<br>Profit: $94,207",
            "-",
            "-",
            "-",
            "-",
            "-",
            "-",
            "-",
            "-",
            "-",
            "-",
            "-",
            "-",
            "🌲 3.77% <br>P:0.92<br>W:18% <br><br>Adjust: $+1,293,016<br>",
            "🔻 -3.58% <br>P:0.89<br>W:0% <br><br>Close: $-1,246,772.71<br>Profit: $-46,244",
            "-",
            "-",
            "-",
            "-",
            "-",
            "-",
            "🌲 32.63% <br>P:1.18<br>W:18% <br><br>Close: $1,785,734.87<br>"
           ],
           [
            "-",
            "-",
            "-",
            "-",
            "-",
            "-",
            "-",
            "-",
            "-",
            "-",
            "-",
            "-",
            "-",
            "-",
            "-",
            "-",
            "-",
            "-",
            "-",
            "-",
            "-",
            "-",
            "-",
            "-",
            "-",
            "-",
            "-",
            "-",
            "-",
            "-",
            "-",
            "-",
            "P:18.92<br>W:18% <br><br>Open: $32,233",
            "🔻 -11.12% <br>P:16.81<br>W:0% <br><br>Close: $-28,648.79<br>Profit: $-3,585",
            "-",
            "-",
            "-",
            "-",
            "-",
            "-",
            "-",
            "-",
            "-",
            "🌲 40.32% <br>P:23.59<br>W:27% <br><br>Adjust: $+81,223<br>",
            "🌲 6.93% <br>P:25.23<br>W:0% <br><br>Close: $-86,852.03<br>Profit: $5,629",
            "-",
            "-",
            "-",
            "-",
            "-",
            "-",
            "-",
            "-",
            "-",
            "-",
            "-",
            "-",
            "-",
            "-",
            "-",
            "-",
            "-",
            "-",
            "-",
            "-",
            "-",
            "-",
            "-",
            "-",
            "-",
            "-",
            "-",
            "-",
            "-",
            "-",
            "🔻 -61.32% <br>P:9.76<br>W:27% <br><br>Adjust: $+531,787<br>",
            "🔻 -11.35% <br>P:8.65<br>W:0% <br><br>Close: $-471,432.97<br>Profit: $-60,354",
            "🔻 -2.84% <br>P:8.41<br>W:33% <br><br>Adjust: $+547,933<br>",
            "🌲 10.30% <br>P:9.27<br>W:0% <br><br>Close: $-604,389.97<br>Profit: $56,457",
            "-",
            "-",
            "-",
            "-",
            "-",
            "-",
            "-",
            "-",
            "-",
            "-",
            "-",
            "-",
            "-",
            "-",
            "-",
            "-",
            "-",
            "-",
            "-",
            "🔻 -51.00% <br>P:4.54<br>W:100% <br><br>Adjust: $+4,529,758<br>",
            "🔻 -6.11% <br>P:4.27<br>W:100% <br><br>Adjust: $+59,591<br>Profit: $-297,956",
            "🌲 7.80% <br>P:4.60<br>W:0% <br><br>Close: $-4,649,192.16<br>Profit: $59,842",
            "-",
            "-",
            "-",
            "-",
            "-",
            "-",
            "-",
            "-",
            "-",
            "-",
            "-",
            "-",
            "-",
            "-",
            "-",
            "-",
            "-",
            "-"
           ],
           [
            "-",
            "-",
            "-",
            "-",
            "-",
            "-",
            "-",
            "-",
            "-",
            "-",
            "-",
            "-",
            "-",
            "-",
            "-",
            "-",
            "-",
            "-",
            "-",
            "-",
            "-",
            "-",
            "-",
            "-",
            "-",
            "-",
            "-",
            "-",
            "-",
            "-",
            "-",
            "-",
            "-",
            "-",
            "-",
            "-",
            "-",
            "-",
            "-",
            "-",
            "-",
            "-",
            "-",
            "P:450.10<br>W:18% <br><br>Open: $54,149",
            "🌲 6.61% <br>P:479.85<br>W:0% <br><br>Close: $-57,728.19<br>Profit: $3,580",
            "-",
            "-",
            "-",
            "-",
            "-",
            "-",
            "-",
            "-",
            "-",
            "-",
            "-",
            "-",
            "-",
            "-",
            "-",
            "-",
            "-",
            "-",
            "-",
            "-",
            "-",
            "-",
            "-",
            "-",
            "-",
            "-",
            "🔻 -21.64% <br>P:376.00<br>W:100% <br><br>Adjust: $+1,487,335<br>",
            "🔻 -4.19% <br>P:360.26<br>W:0% <br><br>Close: $-1,425,075.51<br>Profit: $-62,260",
            "-",
            "-",
            "-",
            "-",
            "-",
            "-",
            "-",
            "-",
            "-",
            "-",
            "-",
            "-",
            "-",
            "-",
            "-",
            "-",
            "-",
            "-",
            "-",
            "-",
            "-",
            "-",
            "-",
            "-",
            "-",
            "-",
            "-",
            "-",
            "-",
            "-",
            "-",
            "-",
            "-",
            "-",
            "-",
            "-",
            "-",
            "-",
            "-",
            "-",
            "-",
            "-",
            "-",
            "-",
            "-",
            "-"
           ],
           [
            "-",
            "-",
            "-",
            "-",
            "-",
            "-",
            "-",
            "-",
            "-",
            "-",
            "-",
            "-",
            "-",
            "-",
            "-",
            "-",
            "-",
            "-",
            "-",
            "-",
            "-",
            "-",
            "-",
            "-",
            "-",
            "-",
            "-",
            "-",
            "-",
            "-",
            "-",
            "-",
            "-",
            "-",
            "-",
            "-",
            "-",
            "-",
            "-",
            "-",
            "-",
            "-",
            "-",
            "-",
            "-",
            "-",
            "P:2.16<br>W:33% <br><br>Open: $100,106",
            "🌲 51.93% <br>P:3.28<br>W:18% <br><br>Adjust: $-82,179<br>Profit: $51,984",
            "🌲 14.07% <br>P:3.74<br>W:0% <br><br>Close: $-79,749.67<br>Profit: $61,823",
            "-",
            "-",
            "-",
            "-",
            "-",
            "-",
            "🔻 -27.80% <br>P:2.70<br>W:100% <br><br>Adjust: $+498,274<br>",
            "🌲 68.27% <br>P:4.55<br>W:33% <br><br>Adjust: $-581,648<br>Profit: $340,180",
            "🔻 -31.10% <br>P:3.13<br>W:0% <br><br>Close: $-176,951.23<br>Profit: $260,326",
            "-",
            "-",
            "-",
            "-",
            "-",
            "-",
            "-",
            "-",
            "-",
            "-",
            "-",
            "-",
            "🔻 -66.61% <br>P:1.05<br>W:100% <br><br>Adjust: $+1,489,624<br>",
            "🔻 -0.19% <br>P:1.04<br>W:0% <br><br>Close: $-1,486,763.27<br>Profit: $-2,861",
            "-",
            "-",
            "-",
            "🌲 33.02% <br>P:1.39<br>W:18% <br><br>Adjust: $+354,525<br>",
            "🔻 -5.96% <br>P:1.31<br>W:0% <br><br>Close: $-333,388.49<br>Profit: $-21,136",
            "-",
            "-",
            "-",
            "-",
            "-",
            "-",
            "-",
            "-",
            "-",
            "-",
            "-",
            "-",
            "-",
            "-",
            "-",
            "-",
            "-",
            "-",
            "-",
            "-",
            "-",
            "-",
            "-",
            "-",
            "-",
            "-",
            "-",
            "-",
            "-",
            "-",
            "-",
            "-",
            "-",
            "-",
            "-",
            "-",
            "-",
            "-",
            "-",
            "-",
            "-",
            "-"
           ],
           [
            "-",
            "-",
            "-",
            "-",
            "-",
            "-",
            "-",
            "-",
            "-",
            "-",
            "-",
            "-",
            "-",
            "-",
            "-",
            "-",
            "-",
            "-",
            "-",
            "-",
            "-",
            "-",
            "-",
            "-",
            "-",
            "-",
            "-",
            "-",
            "-",
            "-",
            "-",
            "-",
            "-",
            "-",
            "-",
            "-",
            "-",
            "-",
            "-",
            "-",
            "-",
            "-",
            "-",
            "-",
            "-",
            "-",
            "-",
            "-",
            "-",
            "-",
            "-",
            "-",
            "-",
            "-",
            "-",
            "-",
            "-",
            "-",
            "-",
            "-",
            "-",
            "-",
            "-",
            "-",
            "-",
            "-",
            "-",
            "-",
            "-",
            "-",
            "-",
            "-",
            "-",
            "-",
            "-",
            "-",
            "-",
            "-",
            "-",
            "-",
            "-",
            "-",
            "-",
            "-",
            "-",
            "-",
            "-",
            "-",
            "-",
            "-",
            "-",
            "-",
            "-",
            "-",
            "-",
            "-",
            "-",
            "-",
            "-",
            "-",
            "-",
            "-",
            "-",
            "-",
            "-",
            "-",
            "-",
            "-",
            "-",
            "-",
            "-",
            "-",
            "-",
            "-",
            "-",
            "-",
            "-",
            "-",
            "-"
           ]
          ]
         },
         "header": {
          "align": "left",
          "fill": {
           "color": "paleturquoise"
          },
          "values": [
           "Cycle",
           "Equity",
           "WETH",
           "CRV",
           "SUSHI",
           "UNI",
           "AAVE",
           "WMATIC",
           "Cake",
           "WBNB",
           "JOE",
           "WAVAX"
          ]
         },
         "type": "table"
        }
       ],
       "layout": {
        "template": {
         "data": {
          "bar": [
           {
            "error_x": {
             "color": "#2a3f5f"
            },
            "error_y": {
             "color": "#2a3f5f"
            },
            "marker": {
             "line": {
              "color": "#E5ECF6",
              "width": 0.5
             },
             "pattern": {
              "fillmode": "overlay",
              "size": 10,
              "solidity": 0.2
             }
            },
            "type": "bar"
           }
          ],
          "barpolar": [
           {
            "marker": {
             "line": {
              "color": "#E5ECF6",
              "width": 0.5
             },
             "pattern": {
              "fillmode": "overlay",
              "size": 10,
              "solidity": 0.2
             }
            },
            "type": "barpolar"
           }
          ],
          "carpet": [
           {
            "aaxis": {
             "endlinecolor": "#2a3f5f",
             "gridcolor": "white",
             "linecolor": "white",
             "minorgridcolor": "white",
             "startlinecolor": "#2a3f5f"
            },
            "baxis": {
             "endlinecolor": "#2a3f5f",
             "gridcolor": "white",
             "linecolor": "white",
             "minorgridcolor": "white",
             "startlinecolor": "#2a3f5f"
            },
            "type": "carpet"
           }
          ],
          "choropleth": [
           {
            "colorbar": {
             "outlinewidth": 0,
             "ticks": ""
            },
            "type": "choropleth"
           }
          ],
          "contour": [
           {
            "colorbar": {
             "outlinewidth": 0,
             "ticks": ""
            },
            "colorscale": [
             [
              0,
              "#0d0887"
             ],
             [
              0.1111111111111111,
              "#46039f"
             ],
             [
              0.2222222222222222,
              "#7201a8"
             ],
             [
              0.3333333333333333,
              "#9c179e"
             ],
             [
              0.4444444444444444,
              "#bd3786"
             ],
             [
              0.5555555555555556,
              "#d8576b"
             ],
             [
              0.6666666666666666,
              "#ed7953"
             ],
             [
              0.7777777777777778,
              "#fb9f3a"
             ],
             [
              0.8888888888888888,
              "#fdca26"
             ],
             [
              1,
              "#f0f921"
             ]
            ],
            "type": "contour"
           }
          ],
          "contourcarpet": [
           {
            "colorbar": {
             "outlinewidth": 0,
             "ticks": ""
            },
            "type": "contourcarpet"
           }
          ],
          "heatmap": [
           {
            "colorbar": {
             "outlinewidth": 0,
             "ticks": ""
            },
            "colorscale": [
             [
              0,
              "#0d0887"
             ],
             [
              0.1111111111111111,
              "#46039f"
             ],
             [
              0.2222222222222222,
              "#7201a8"
             ],
             [
              0.3333333333333333,
              "#9c179e"
             ],
             [
              0.4444444444444444,
              "#bd3786"
             ],
             [
              0.5555555555555556,
              "#d8576b"
             ],
             [
              0.6666666666666666,
              "#ed7953"
             ],
             [
              0.7777777777777778,
              "#fb9f3a"
             ],
             [
              0.8888888888888888,
              "#fdca26"
             ],
             [
              1,
              "#f0f921"
             ]
            ],
            "type": "heatmap"
           }
          ],
          "heatmapgl": [
           {
            "colorbar": {
             "outlinewidth": 0,
             "ticks": ""
            },
            "colorscale": [
             [
              0,
              "#0d0887"
             ],
             [
              0.1111111111111111,
              "#46039f"
             ],
             [
              0.2222222222222222,
              "#7201a8"
             ],
             [
              0.3333333333333333,
              "#9c179e"
             ],
             [
              0.4444444444444444,
              "#bd3786"
             ],
             [
              0.5555555555555556,
              "#d8576b"
             ],
             [
              0.6666666666666666,
              "#ed7953"
             ],
             [
              0.7777777777777778,
              "#fb9f3a"
             ],
             [
              0.8888888888888888,
              "#fdca26"
             ],
             [
              1,
              "#f0f921"
             ]
            ],
            "type": "heatmapgl"
           }
          ],
          "histogram": [
           {
            "marker": {
             "pattern": {
              "fillmode": "overlay",
              "size": 10,
              "solidity": 0.2
             }
            },
            "type": "histogram"
           }
          ],
          "histogram2d": [
           {
            "colorbar": {
             "outlinewidth": 0,
             "ticks": ""
            },
            "colorscale": [
             [
              0,
              "#0d0887"
             ],
             [
              0.1111111111111111,
              "#46039f"
             ],
             [
              0.2222222222222222,
              "#7201a8"
             ],
             [
              0.3333333333333333,
              "#9c179e"
             ],
             [
              0.4444444444444444,
              "#bd3786"
             ],
             [
              0.5555555555555556,
              "#d8576b"
             ],
             [
              0.6666666666666666,
              "#ed7953"
             ],
             [
              0.7777777777777778,
              "#fb9f3a"
             ],
             [
              0.8888888888888888,
              "#fdca26"
             ],
             [
              1,
              "#f0f921"
             ]
            ],
            "type": "histogram2d"
           }
          ],
          "histogram2dcontour": [
           {
            "colorbar": {
             "outlinewidth": 0,
             "ticks": ""
            },
            "colorscale": [
             [
              0,
              "#0d0887"
             ],
             [
              0.1111111111111111,
              "#46039f"
             ],
             [
              0.2222222222222222,
              "#7201a8"
             ],
             [
              0.3333333333333333,
              "#9c179e"
             ],
             [
              0.4444444444444444,
              "#bd3786"
             ],
             [
              0.5555555555555556,
              "#d8576b"
             ],
             [
              0.6666666666666666,
              "#ed7953"
             ],
             [
              0.7777777777777778,
              "#fb9f3a"
             ],
             [
              0.8888888888888888,
              "#fdca26"
             ],
             [
              1,
              "#f0f921"
             ]
            ],
            "type": "histogram2dcontour"
           }
          ],
          "mesh3d": [
           {
            "colorbar": {
             "outlinewidth": 0,
             "ticks": ""
            },
            "type": "mesh3d"
           }
          ],
          "parcoords": [
           {
            "line": {
             "colorbar": {
              "outlinewidth": 0,
              "ticks": ""
             }
            },
            "type": "parcoords"
           }
          ],
          "pie": [
           {
            "automargin": true,
            "type": "pie"
           }
          ],
          "scatter": [
           {
            "fillpattern": {
             "fillmode": "overlay",
             "size": 10,
             "solidity": 0.2
            },
            "type": "scatter"
           }
          ],
          "scatter3d": [
           {
            "line": {
             "colorbar": {
              "outlinewidth": 0,
              "ticks": ""
             }
            },
            "marker": {
             "colorbar": {
              "outlinewidth": 0,
              "ticks": ""
             }
            },
            "type": "scatter3d"
           }
          ],
          "scattercarpet": [
           {
            "marker": {
             "colorbar": {
              "outlinewidth": 0,
              "ticks": ""
             }
            },
            "type": "scattercarpet"
           }
          ],
          "scattergeo": [
           {
            "marker": {
             "colorbar": {
              "outlinewidth": 0,
              "ticks": ""
             }
            },
            "type": "scattergeo"
           }
          ],
          "scattergl": [
           {
            "marker": {
             "colorbar": {
              "outlinewidth": 0,
              "ticks": ""
             }
            },
            "type": "scattergl"
           }
          ],
          "scattermapbox": [
           {
            "marker": {
             "colorbar": {
              "outlinewidth": 0,
              "ticks": ""
             }
            },
            "type": "scattermapbox"
           }
          ],
          "scatterpolar": [
           {
            "marker": {
             "colorbar": {
              "outlinewidth": 0,
              "ticks": ""
             }
            },
            "type": "scatterpolar"
           }
          ],
          "scatterpolargl": [
           {
            "marker": {
             "colorbar": {
              "outlinewidth": 0,
              "ticks": ""
             }
            },
            "type": "scatterpolargl"
           }
          ],
          "scatterternary": [
           {
            "marker": {
             "colorbar": {
              "outlinewidth": 0,
              "ticks": ""
             }
            },
            "type": "scatterternary"
           }
          ],
          "surface": [
           {
            "colorbar": {
             "outlinewidth": 0,
             "ticks": ""
            },
            "colorscale": [
             [
              0,
              "#0d0887"
             ],
             [
              0.1111111111111111,
              "#46039f"
             ],
             [
              0.2222222222222222,
              "#7201a8"
             ],
             [
              0.3333333333333333,
              "#9c179e"
             ],
             [
              0.4444444444444444,
              "#bd3786"
             ],
             [
              0.5555555555555556,
              "#d8576b"
             ],
             [
              0.6666666666666666,
              "#ed7953"
             ],
             [
              0.7777777777777778,
              "#fb9f3a"
             ],
             [
              0.8888888888888888,
              "#fdca26"
             ],
             [
              1,
              "#f0f921"
             ]
            ],
            "type": "surface"
           }
          ],
          "table": [
           {
            "cells": {
             "fill": {
              "color": "#EBF0F8"
             },
             "line": {
              "color": "white"
             }
            },
            "header": {
             "fill": {
              "color": "#C8D4E3"
             },
             "line": {
              "color": "white"
             }
            },
            "type": "table"
           }
          ]
         },
         "layout": {
          "annotationdefaults": {
           "arrowcolor": "#2a3f5f",
           "arrowhead": 0,
           "arrowwidth": 1
          },
          "autotypenumbers": "strict",
          "coloraxis": {
           "colorbar": {
            "outlinewidth": 0,
            "ticks": ""
           }
          },
          "colorscale": {
           "diverging": [
            [
             0,
             "#8e0152"
            ],
            [
             0.1,
             "#c51b7d"
            ],
            [
             0.2,
             "#de77ae"
            ],
            [
             0.3,
             "#f1b6da"
            ],
            [
             0.4,
             "#fde0ef"
            ],
            [
             0.5,
             "#f7f7f7"
            ],
            [
             0.6,
             "#e6f5d0"
            ],
            [
             0.7,
             "#b8e186"
            ],
            [
             0.8,
             "#7fbc41"
            ],
            [
             0.9,
             "#4d9221"
            ],
            [
             1,
             "#276419"
            ]
           ],
           "sequential": [
            [
             0,
             "#0d0887"
            ],
            [
             0.1111111111111111,
             "#46039f"
            ],
            [
             0.2222222222222222,
             "#7201a8"
            ],
            [
             0.3333333333333333,
             "#9c179e"
            ],
            [
             0.4444444444444444,
             "#bd3786"
            ],
            [
             0.5555555555555556,
             "#d8576b"
            ],
            [
             0.6666666666666666,
             "#ed7953"
            ],
            [
             0.7777777777777778,
             "#fb9f3a"
            ],
            [
             0.8888888888888888,
             "#fdca26"
            ],
            [
             1,
             "#f0f921"
            ]
           ],
           "sequentialminus": [
            [
             0,
             "#0d0887"
            ],
            [
             0.1111111111111111,
             "#46039f"
            ],
            [
             0.2222222222222222,
             "#7201a8"
            ],
            [
             0.3333333333333333,
             "#9c179e"
            ],
            [
             0.4444444444444444,
             "#bd3786"
            ],
            [
             0.5555555555555556,
             "#d8576b"
            ],
            [
             0.6666666666666666,
             "#ed7953"
            ],
            [
             0.7777777777777778,
             "#fb9f3a"
            ],
            [
             0.8888888888888888,
             "#fdca26"
            ],
            [
             1,
             "#f0f921"
            ]
           ]
          },
          "colorway": [
           "#636efa",
           "#EF553B",
           "#00cc96",
           "#ab63fa",
           "#FFA15A",
           "#19d3f3",
           "#FF6692",
           "#B6E880",
           "#FF97FF",
           "#FECB52"
          ],
          "font": {
           "color": "#2a3f5f"
          },
          "geo": {
           "bgcolor": "white",
           "lakecolor": "white",
           "landcolor": "#E5ECF6",
           "showlakes": true,
           "showland": true,
           "subunitcolor": "white"
          },
          "hoverlabel": {
           "align": "left"
          },
          "hovermode": "closest",
          "mapbox": {
           "style": "light"
          },
          "paper_bgcolor": "white",
          "plot_bgcolor": "#E5ECF6",
          "polar": {
           "angularaxis": {
            "gridcolor": "white",
            "linecolor": "white",
            "ticks": ""
           },
           "bgcolor": "#E5ECF6",
           "radialaxis": {
            "gridcolor": "white",
            "linecolor": "white",
            "ticks": ""
           }
          },
          "scene": {
           "xaxis": {
            "backgroundcolor": "#E5ECF6",
            "gridcolor": "white",
            "gridwidth": 2,
            "linecolor": "white",
            "showbackground": true,
            "ticks": "",
            "zerolinecolor": "white"
           },
           "yaxis": {
            "backgroundcolor": "#E5ECF6",
            "gridcolor": "white",
            "gridwidth": 2,
            "linecolor": "white",
            "showbackground": true,
            "ticks": "",
            "zerolinecolor": "white"
           },
           "zaxis": {
            "backgroundcolor": "#E5ECF6",
            "gridcolor": "white",
            "gridwidth": 2,
            "linecolor": "white",
            "showbackground": true,
            "ticks": "",
            "zerolinecolor": "white"
           }
          },
          "shapedefaults": {
           "line": {
            "color": "#2a3f5f"
           }
          },
          "ternary": {
           "aaxis": {
            "gridcolor": "white",
            "linecolor": "white",
            "ticks": ""
           },
           "baxis": {
            "gridcolor": "white",
            "linecolor": "white",
            "ticks": ""
           },
           "bgcolor": "#E5ECF6",
           "caxis": {
            "gridcolor": "white",
            "linecolor": "white",
            "ticks": ""
           }
          },
          "title": {
           "x": 0.05
          },
          "xaxis": {
           "automargin": true,
           "gridcolor": "white",
           "linecolor": "white",
           "ticks": "",
           "title": {
            "standoff": 15
           },
           "zerolinecolor": "white",
           "zerolinewidth": 2
          },
          "yaxis": {
           "automargin": true,
           "gridcolor": "white",
           "linecolor": "white",
           "ticks": "",
           "title": {
            "standoff": 15
           },
           "zerolinecolor": "white",
           "zerolinewidth": 2
          }
         }
        }
       }
      }
     },
     "metadata": {},
     "output_type": "display_data"
    }
   ],
   "source": [
    "from tradeexecutor.analysis.alpha_model_analyser import render_alpha_model_plotly_table, create_alpha_model_timeline_all_assets\n",
    "\n",
    "timeline = create_alpha_model_timeline_all_assets(state, universe, new_line=\"<br>\")\n",
    "figure, table = render_alpha_model_plotly_table(timeline)\n",
    "\n",
    "display(figure)"
   ]
  },
  {
   "cell_type": "markdown",
   "metadata": {},
   "source": [
    "## Finishing notes\n",
    "\n",
    "Print out a line to signal the notebook finished the execution successfully."
   ]
  },
  {
   "cell_type": "code",
   "execution_count": 22,
   "metadata": {
    "collapsed": false,
    "jupyter": {
     "outputs_hidden": false
    },
    "pycharm": {
     "is_executing": true
    }
   },
   "outputs": [
    {
     "name": "stdout",
     "output_type": "stream",
     "text": [
      "All ok\n"
     ]
    }
   ],
   "source": [
    "print(\"All ok\")"
   ]
  },
  {
   "cell_type": "code",
   "execution_count": null,
   "metadata": {
    "collapsed": false,
    "jupyter": {
     "outputs_hidden": false
    },
    "pycharm": {
     "is_executing": true
    }
   },
   "outputs": [],
   "source": []
  }
 ],
 "metadata": {
  "kernelspec": {
   "display_name": "trade-executor-8Oz1GdY1-py3.10",
   "language": "python",
   "name": "python3"
  },
  "language_info": {
   "codemirror_mode": {
    "name": "ipython",
    "version": 3
   },
   "file_extension": ".py",
   "mimetype": "text/x-python",
   "name": "python",
   "nbconvert_exporter": "python",
   "pygments_lexer": "ipython3",
   "version": "3.10.10"
  },
  "vscode": {
   "interpreter": {
    "hash": "7adede735167b7e67e1575a49b63099e273f8f003d80ae98ec60bd132e113570"
   }
  }
 },
 "nbformat": 4,
 "nbformat_minor": 4
}
