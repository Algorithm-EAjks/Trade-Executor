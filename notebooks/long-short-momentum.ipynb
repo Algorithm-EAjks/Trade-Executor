{
 "cells": [
  {
   "attachments": {},
   "cell_type": "markdown",
   "metadata": {},
   "source": [
    "# Long/short portfolio construction model trading strategy example\n",
    "\n",
    "This is an example notebook how to construct a momentum based portfolio construction strategy\n",
    "using [Trading Strategy framework](https://tradingstrategy.ai/docs/) and backtest it for DeFi tokens.\n",
    "\n",
    "This backtest uses alpha model approach where each trading pair has a signal\n",
    "and based on the signal strenghts we construct new portfolio weightings\n",
    "for the upcoming week.\n"
   ]
  },
  {
   "cell_type": "markdown",
   "metadata": {},
   "source": [
    "## Strategy parameter set up\n",
    "\n",
    "Set up the parameters used in in this strategy backtest study.\n",
    "\n",
    "- Backtested blockchain, exchange and trading pair\n",
    "- Backtesting period\n",
    "- Strategy parameters for EMA crossovers"
   ]
  },
  {
   "cell_type": "markdown",
   "metadata": {},
   "source": [
    "### Strategy logic and trade decisions\n",
    "\n",
    "Strategy logic and parameters are available as a separate [Python module](../strategies/long-short-momentum.py).\n"
   ]
  },
  {
   "cell_type": "code",
   "execution_count": 13,
   "metadata": {
    "collapsed": false,
    "jupyter": {
     "outputs_hidden": false
    },
    "ExecuteTime": {
     "end_time": "2023-11-06T11:23:56.822575Z",
     "start_time": "2023-11-06T11:23:56.740008Z"
    }
   },
   "outputs": [
    {
     "name": "stdout",
     "output_type": "stream",
     "text": [
      "Backtesting for strategy /Users/moo/code/ts/trade-executor/strategies/long-short-momentum.py, engine version 0.3\n"
     ]
    }
   ],
   "source": [
    "import datetime\n",
    "\n",
    "from tradeexecutor.utils.default_strategies import get_default_strategies_path\n",
    "from tradeexecutor.strategy.strategy_module import read_strategy_module\n",
    "\n",
    "strategies_folder = get_default_strategies_path()\n",
    "strategy_path = strategies_folder / \"long-short-momentum.py\"\n",
    "\n",
    "strategy_mod = read_strategy_module(strategy_path)\n",
    "\n",
    "print(f\"Backtesting for strategy {strategy_path}, engine version {strategy_mod.trading_strategy_engine_version}\")"
   ]
  },
  {
   "cell_type": "markdown",
   "metadata": {},
   "source": [
    "## Set up the market data client\n",
    "\n",
    "The [Trading Strategy market data client](https://tradingstrategy.ai/docs/programming/api/client/index.html)\n",
    "is the Python library responsible for managing the data feeds needed to run the backtest.None\n",
    "\n",
    "We set up the market data client with an API key.\n",
    "\n",
    "[If you do not have an API key yet, you can register one](https://tradingstrategy.ai/trading-view/backtesting)."
   ]
  },
  {
   "cell_type": "code",
   "execution_count": 14,
   "outputs": [
    {
     "name": "stdout",
     "output_type": "stream",
     "text": [
      "Started Trading Strategy in Jupyter notebook environment, configuration is stored in /Users/moo/.tradingstrategy\n"
     ]
    }
   ],
   "source": [
    "from tradingstrategy.client import Client\n",
    "\n",
    "client = Client.create_jupyter_client()"
   ],
   "metadata": {
    "collapsed": false,
    "ExecuteTime": {
     "end_time": "2023-11-06T11:23:56.825354Z",
     "start_time": "2023-11-06T11:23:56.745601Z"
    }
   }
  },
  {
   "cell_type": "markdown",
   "source": [
    "Load the strategy universe and analyse what trading pairs the strategy code gives for us."
   ],
   "metadata": {
    "collapsed": false
   }
  },
  {
   "cell_type": "code",
   "execution_count": 15,
   "outputs": [
    {
     "data": {
      "text/plain": "Downloading interest rate data for 5 assets:   0%|          | 0/10 [00:00<?, ?it/s]",
      "application/vnd.jupyter.widget-view+json": {
       "version_major": 2,
       "version_minor": 0,
       "model_id": "bcf8526af1d9428a8245d143733f8e12"
      }
     },
     "metadata": {},
     "output_type": "display_data"
    }
   ],
   "source": [
    "from tradeexecutor.strategy.execution_context import notebook_execution_context\n",
    "\n",
    "# contains start_at, end_at backtesting range\n",
    "universe_options = strategy_mod.get_universe_options()\n",
    "\n",
    "universe = strategy_mod.create_trading_universe(\n",
    "    datetime.datetime.utcnow(),\n",
    "    client,\n",
    "    notebook_execution_context,\n",
    "    universe_options,\n",
    ")"
   ],
   "metadata": {
    "collapsed": false,
    "ExecuteTime": {
     "end_time": "2023-11-06T11:23:57.946683Z",
     "start_time": "2023-11-06T11:23:56.753877Z"
    }
   }
  },
  {
   "attachments": {},
   "cell_type": "markdown",
   "metadata": {},
   "source": []
  },
  {
   "cell_type": "markdown",
   "source": [
    "## Available trading universe\n",
    "\n",
    "Inspect trading pairs and lending markets we are going to backtest.\n"
   ],
   "metadata": {
    "collapsed": false
   }
  },
  {
   "cell_type": "code",
   "execution_count": 16,
   "outputs": [
    {
     "data": {
      "text/plain": "<IPython.core.display.HTML object>",
      "text/html": "<table border=\"1\" class=\"dataframe\">\n  <thead>\n    <tr style=\"text-align: right;\">\n      <th></th>\n      <th>Lending asset</th>\n      <th>Stablecoin</th>\n      <th>Best trading pair</th>\n      <th>Lending available at</th>\n      <th>Trading available at</th>\n      <th>Price data page</th>\n      <th>Lending rate page</th>\n    </tr>\n  </thead>\n  <tbody>\n    <tr>\n      <th>0</th>\n      <td>BAL</td>\n      <td>no</td>\n      <td>No AMM pools found</td>\n      <td>2022-03-14</td>\n      <td>-</td>\n      <td><a href=\"-\">View</a></td>\n      <td><a href=\"https://tradingstrategy.ai/trading-view/polygon/lending/aave_v3/bal\">View</a></td>\n    </tr>\n    <tr>\n      <th>1</th>\n      <td>LINK</td>\n      <td>no</td>\n      <td>LINK-USDC at 5 BPS fee tier on Uniswap v3</td>\n      <td>2022-03-14</td>\n      <td>2022-08-15</td>\n      <td><a href=\"https://tradingstrategy.ai/trading-view/polygon/uniswap-v3/link-usdc-fee-5\">View</a></td>\n      <td><a href=\"https://tradingstrategy.ai/trading-view/polygon/lending/aave_v3/link\">View</a></td>\n    </tr>\n    <tr>\n      <th>2</th>\n      <td>USDC</td>\n      <td>yes</td>\n      <td>No AMM pools found</td>\n      <td>2022-03-14</td>\n      <td>-</td>\n      <td><a href=\"-\">View</a></td>\n      <td><a href=\"https://tradingstrategy.ai/trading-view/polygon/lending/aave_v3/usdc\">View</a></td>\n    </tr>\n    <tr>\n      <th>3</th>\n      <td>WETH</td>\n      <td>no</td>\n      <td>WETH-USDC at 5 BPS fee tier on Uniswap v3</td>\n      <td>2022-03-14</td>\n      <td>2022-07-04</td>\n      <td><a href=\"https://tradingstrategy.ai/trading-view/polygon/uniswap-v3/eth-usdc-fee-5\">View</a></td>\n      <td><a href=\"https://tradingstrategy.ai/trading-view/polygon/lending/aave_v3/weth\">View</a></td>\n    </tr>\n    <tr>\n      <th>4</th>\n      <td>WMATIC</td>\n      <td>no</td>\n      <td>WMATIC-USDC at 5 BPS fee tier on Uniswap v3</td>\n      <td>2022-03-07</td>\n      <td>2022-07-04</td>\n      <td><a href=\"https://tradingstrategy.ai/trading-view/polygon/uniswap-v3/matic-usdc-fee-5\">View</a></td>\n      <td><a href=\"https://tradingstrategy.ai/trading-view/polygon/lending/aave_v3/wmatic\">View</a></td>\n    </tr>\n  </tbody>\n</table>"
     },
     "metadata": {},
     "output_type": "display_data"
    }
   ],
   "source": [
    "from IPython.display import HTML\n",
    "\n",
    "from tradeexecutor.analysis.universe import analyse_long_short_universe\n",
    "from tradingstrategy.utils.jupyter import format_links_for_html_output\n",
    "\n",
    "df = analyse_long_short_universe(universe)\n",
    "df = format_links_for_html_output(df, (\"Price data page\", \"Lending rate page\",))\n",
    "\n",
    "display(HTML(df.to_html(escape=False)))"
   ],
   "metadata": {
    "collapsed": false,
    "ExecuteTime": {
     "end_time": "2023-11-06T11:23:57.947922Z",
     "start_time": "2023-11-06T11:23:57.928149Z"
    }
   }
  },
  {
   "cell_type": "markdown",
   "metadata": {},
   "source": [
    "## Run backtest\n",
    "\n",
    "Run backtest using giving trading universe and strategy function.\n",
    "\n",
    "- Running the backtest outputs `state` object that contains all the information\n",
    "on the backtesting position and trades.\n",
    "- The trade execution engine will download the necessary datasets to run the backtest.\n",
    "  The datasets may be large, several gigabytes.\n"
   ]
  },
  {
   "cell_type": "code",
   "execution_count": 17,
   "metadata": {
    "collapsed": false,
    "jupyter": {
     "outputs_hidden": false
    },
    "ExecuteTime": {
     "end_time": "2023-11-06T11:24:00.239763Z",
     "start_time": "2023-11-06T11:23:57.941020Z"
    }
   },
   "outputs": [
    {
     "data": {
      "text/plain": "Downloading interest rate data for 5 assets:   0%|          | 0/10 [00:00<?, ?it/s]",
      "application/vnd.jupyter.widget-view+json": {
       "version_major": 2,
       "version_minor": 0,
       "model_id": "9768f8c91fac49e5a61a60def8b5d069"
      }
     },
     "metadata": {},
     "output_type": "display_data"
    },
    {
     "data": {
      "text/plain": "  0%|          | 0/55123200 [00:00<?, ?it/s]",
      "application/vnd.jupyter.widget-view+json": {
       "version_major": 2,
       "version_minor": 0,
       "model_id": "134b1717a8844df49a603676246982de"
      }
     },
     "metadata": {},
     "output_type": "display_data"
    },
    {
     "name": "stderr",
     "output_type": "stream",
     "text": [
      "Sync time span must be positive:2022-11-21 00:00:00 - 2022-11-21 00:00:00\n"
     ]
    },
    {
     "name": "stdout",
     "output_type": "stream",
     "text": [
      "Backtesting completed, backtested strategy made 246 trades\n"
     ]
    }
   ],
   "source": [
    "from tradeexecutor.backtest.backtest_runner import setup_backtest, run_backtest\n",
    "\n",
    "setup = setup_backtest(\n",
    "    strategy_path,\n",
    ")\n",
    "\n",
    "state, strategy_universe, debug_dump = run_backtest(setup, client)\n",
    "\n",
    "trade_count = len(list(state.portfolio.get_all_trades()))\n",
    "print(f\"Backtesting completed, backtested strategy made {trade_count} trades\")"
   ]
  },
  {
   "attachments": {},
   "cell_type": "markdown",
   "metadata": {},
   "source": [
    "## Examine backtest results\n",
    "\n",
    "Examine `state` that contains \n",
    "- All actions the trade executor took\n",
    "- Visualisation and diagnostics data associated with the actity\n",
    "\n",
    "We plot out a chart that shows\n",
    "- The price action\n",
    "- When the strategy made buys or sells"
   ]
  },
  {
   "cell_type": "code",
   "execution_count": 18,
   "metadata": {
    "collapsed": false,
    "jupyter": {
     "outputs_hidden": false
    },
    "ExecuteTime": {
     "end_time": "2023-11-06T11:24:00.246393Z",
     "start_time": "2023-11-06T11:24:00.242327Z"
    }
   },
   "outputs": [
    {
     "name": "stdout",
     "output_type": "stream",
     "text": [
      "Positions taken: 122\n",
      "Trades made: 246\n"
     ]
    }
   ],
   "source": [
    "from tradeexecutor.utils.notebook import setup_charting_and_output\n",
    "\n",
    "# Set notebook output mode\n",
    "\n",
    "setup_charting_and_output()\n",
    "\n",
    "print(f\"Positions taken: {len(list(state.portfolio.get_all_positions()))}\")\n",
    "print(f\"Trades made: {len(list(state.portfolio.get_all_trades()))}\")"
   ]
  },
  {
   "cell_type": "markdown",
   "metadata": {
    "collapsed": false
   },
   "source": []
  },
  {
   "cell_type": "markdown",
   "metadata": {},
   "source": [
    "## Benchmarking the strategy performance\n",
    "\n",
    "Here we benchmark the strategy performance against some baseline scenarios.\n",
    "\n",
    "- Buy and hold ETH\n",
    "- Buy and hold US Dollar (do nothing)\n"
   ]
  },
  {
   "cell_type": "code",
   "execution_count": 19,
   "metadata": {
    "collapsed": false,
    "jupyter": {
     "outputs_hidden": false
    },
    "pycharm": {
     "is_executing": true
    },
    "ExecuteTime": {
     "end_time": "2023-11-06T11:24:00.282467Z",
     "start_time": "2023-11-06T11:24:00.259283Z"
    }
   },
   "outputs": [
    {
     "data": {
      "application/vnd.plotly.v1+json": {
       "data": [
        {
         "line": {
          "color": "#008800"
         },
         "mode": "lines",
         "name": "Backtest for long-short-momentum",
         "x": [
          "2021-12-27T00:00:00",
          "2022-01-03T00:00:00",
          "2022-01-10T00:00:00",
          "2022-01-17T00:00:00",
          "2022-01-24T00:00:00",
          "2022-01-31T00:00:00",
          "2022-02-07T00:00:00",
          "2022-02-14T00:00:00",
          "2022-02-21T00:00:00",
          "2022-02-28T00:00:00",
          "2022-03-07T00:00:00",
          "2022-03-14T00:00:00",
          "2022-03-21T00:00:00",
          "2022-03-28T00:00:00",
          "2022-04-04T00:00:00",
          "2022-04-11T00:00:00",
          "2022-04-18T00:00:00",
          "2022-04-25T00:00:00",
          "2022-05-02T00:00:00",
          "2022-05-09T00:00:00",
          "2022-05-16T00:00:00",
          "2022-05-23T00:00:00",
          "2022-05-30T00:00:00",
          "2022-06-06T00:00:00",
          "2022-06-13T00:00:00",
          "2022-06-20T00:00:00",
          "2022-06-27T00:00:00",
          "2022-07-04T00:00:00",
          "2022-07-11T00:00:00",
          "2022-07-18T00:00:00",
          "2022-07-25T00:00:00",
          "2022-08-01T00:00:00",
          "2022-08-08T00:00:00",
          "2022-08-15T00:00:00",
          "2022-08-22T00:00:00",
          "2022-08-29T00:00:00",
          "2022-09-05T00:00:00",
          "2022-09-12T00:00:00",
          "2022-09-19T00:00:00",
          "2022-09-26T00:00:00",
          "2022-10-03T00:00:00",
          "2022-10-10T00:00:00",
          "2022-10-17T00:00:00",
          "2022-10-24T00:00:00",
          "2022-10-31T00:00:00",
          "2022-11-07T00:00:00",
          "2022-11-14T00:00:00",
          "2022-11-21T00:00:00",
          "2022-11-28T00:00:00",
          "2022-12-05T00:00:00",
          "2022-12-12T00:00:00",
          "2022-12-19T00:00:00",
          "2022-12-26T00:00:00",
          "2023-01-02T00:00:00",
          "2023-01-09T00:00:00",
          "2023-01-16T00:00:00",
          "2023-01-23T00:00:00",
          "2023-01-30T00:00:00",
          "2023-02-06T00:00:00",
          "2023-02-13T00:00:00",
          "2023-02-20T00:00:00",
          "2023-02-27T00:00:00",
          "2023-03-06T00:00:00",
          "2023-03-13T00:00:00",
          "2023-03-20T00:00:00",
          "2023-03-27T00:00:00",
          "2023-04-03T00:00:00",
          "2023-04-10T00:00:00",
          "2023-04-17T00:00:00",
          "2023-04-24T00:00:00",
          "2023-05-01T00:00:00",
          "2023-05-08T00:00:00",
          "2023-05-15T00:00:00",
          "2023-05-22T00:00:00",
          "2023-05-29T00:00:00",
          "2023-06-05T00:00:00",
          "2023-06-12T00:00:00",
          "2023-06-19T00:00:00",
          "2023-06-26T00:00:00",
          "2023-07-03T00:00:00",
          "2023-07-10T00:00:00",
          "2023-07-17T00:00:00",
          "2023-07-24T00:00:00",
          "2023-07-31T00:00:00",
          "2023-08-07T00:00:00",
          "2023-08-14T00:00:00",
          "2023-08-21T00:00:00",
          "2023-08-28T00:00:00",
          "2023-09-04T00:00:00",
          "2023-09-11T00:00:00",
          "2023-09-18T00:00:00",
          "2023-09-25T00:00:00"
         ],
         "y": [
          10000.0,
          10000.0,
          10000.0,
          10000.0,
          10000.0,
          10000.0,
          10000.0,
          10000.0,
          10000.0,
          10000.0,
          10000.0,
          10000.0,
          10000.0,
          10000.0,
          10000.0,
          10000.0,
          10000.0,
          10000.0,
          10000.0,
          10000.0,
          10000.0,
          10000.0,
          10000.0,
          10000.0,
          10000.0,
          10000.0,
          10000.0,
          10000.0,
          9992.003998000999,
          10925.004982695287,
          12783.596977977908,
          13481.25770107555,
          13480.271084969201,
          13469.492257514952,
          11582.096060917851,
          12202.984693009974,
          10826.563576325378,
          11363.821064067222,
          10212.474196909347,
          10808.209597758036,
          10591.162193168662,
          10908.561890097953,
          10653.715022471755,
          10087.007330084163,
          10594.174542209126,
          11233.418409965157,
          12164.853767518603,
          12907.896329914447,
          11562.956554977314,
          12359.963595856507,
          11960.590449504354,
          13037.260840818672,
          12909.49904871074,
          12746.546650960654,
          11805.191917624157,
          12394.534533271384,
          12755.474282881554,
          13208.593370493541,
          13068.291498145936,
          13408.37766333808,
          13669.263573525008,
          13042.53201192736,
          13721.579644994072,
          14525.97311188844,
          14684.242863008341,
          15235.186101318297,
          15888.814562469499,
          15876.109863169173,
          16918.748412064146,
          15749.175664728682,
          15936.04953201124,
          15936.04953201124,
          15929.675112198436,
          15975.639136747699,
          15962.865012500424,
          15606.920110792416,
          16346.49197376557,
          16941.268774919306,
          15323.221886070818,
          15634.592327522148,
          14875.726048030248,
          14319.755124288222,
          14446.1368788775,
          13966.436144176943,
          14567.472504659321,
          14331.590984337096,
          12547.43502213667,
          12842.447108655477,
          13066.722843060132,
          13061.496153922908,
          13179.014328331676,
          13171.987277013646
         ],
         "type": "scatter"
        },
        {
         "line": {
          "color": "#000088"
         },
         "mode": "lines",
         "name": "Hold cash",
         "x": [
          "2022-01-01T00:00:00",
          "2023-09-25T00:00:00"
         ],
         "y": [
          10000.0,
          10000.0
         ],
         "type": "scatter"
        },
        {
         "mode": "lines",
         "name": "Buy and hold ETH",
         "x": [
          "2022-07-04T00:00:00",
          "2022-07-11T00:00:00",
          "2022-07-18T00:00:00",
          "2022-07-25T00:00:00",
          "2022-08-01T00:00:00",
          "2022-08-08T00:00:00",
          "2022-08-15T00:00:00",
          "2022-08-22T00:00:00",
          "2022-08-29T00:00:00",
          "2022-09-05T00:00:00",
          "2022-09-12T00:00:00",
          "2022-09-19T00:00:00",
          "2022-09-26T00:00:00",
          "2022-10-03T00:00:00",
          "2022-10-10T00:00:00",
          "2022-10-17T00:00:00",
          "2022-10-24T00:00:00",
          "2022-10-31T00:00:00",
          "2022-11-07T00:00:00",
          "2022-11-14T00:00:00",
          "2022-11-21T00:00:00",
          "2022-11-28T00:00:00",
          "2022-12-05T00:00:00",
          "2022-12-12T00:00:00",
          "2022-12-19T00:00:00",
          "2022-12-26T00:00:00",
          "2023-01-02T00:00:00",
          "2023-01-09T00:00:00",
          "2023-01-16T00:00:00",
          "2023-01-23T00:00:00",
          "2023-01-30T00:00:00",
          "2023-02-06T00:00:00",
          "2023-02-13T00:00:00",
          "2023-02-20T00:00:00",
          "2023-02-27T00:00:00",
          "2023-03-06T00:00:00",
          "2023-03-13T00:00:00",
          "2023-03-20T00:00:00",
          "2023-03-27T00:00:00",
          "2023-04-03T00:00:00",
          "2023-04-10T00:00:00",
          "2023-04-17T00:00:00",
          "2023-04-24T00:00:00",
          "2023-05-01T00:00:00",
          "2023-05-08T00:00:00",
          "2023-05-15T00:00:00",
          "2023-05-22T00:00:00",
          "2023-05-29T00:00:00",
          "2023-06-05T00:00:00",
          "2023-06-12T00:00:00",
          "2023-06-19T00:00:00",
          "2023-06-26T00:00:00",
          "2023-07-03T00:00:00",
          "2023-07-10T00:00:00",
          "2023-07-17T00:00:00",
          "2023-07-24T00:00:00",
          "2023-07-31T00:00:00",
          "2023-08-07T00:00:00",
          "2023-08-14T00:00:00",
          "2023-08-21T00:00:00",
          "2023-08-28T00:00:00",
          "2023-09-04T00:00:00",
          "2023-09-11T00:00:00",
          "2023-09-18T00:00:00",
          "2023-09-25T00:00:00"
         ],
         "y": [
          10000.0,
          11462.470551344093,
          13690.051334044721,
          14403.436863922225,
          14572.938249924175,
          16587.672345394178,
          13869.17482553404,
          12220.013624316036,
          13526.760586310227,
          15141.87901129689,
          11444.146178072959,
          11090.400544505152,
          10939.505592088803,
          11334.813477900068,
          11196.256074677156,
          11694.016123256017,
          13639.49426018127,
          13460.644880925523,
          10457.11761604687,
          9782.413110443307,
          10224.471188322923,
          10972.371740158778,
          10825.247401380142,
          10136.922114069888,
          10440.400441012198,
          10280.85788184391,
          11041.71240892007,
          13305.411257470096,
          13951.240710090868,
          14112.597936382948,
          13967.991409831804,
          12987.300869902801,
          14414.963647182374,
          14061.886454776337,
          13412.276093805729,
          13722.945269511321,
          15312.412735984502,
          15217.774191501123,
          15387.62391480521,
          15937.292282001725,
          18166.06412434577,
          15964.407364439781,
          16036.40547198566,
          16054.054340674385,
          15426.139172874973,
          15466.29730980779,
          16363.618225270522,
          16200.805603324741,
          15028.745356792018,
          14738.538049133853,
          16282.008409119238,
          16604.267484182994,
          15964.407364439781,
          16478.55963147436,
          16186.232165971946,
          15959.618999935272,
          15657.697897506681,
          15769.257542810841,
          14438.044895049246,
          14197.523800606761,
          14021.168090105923,
          13862.242318012175,
          13905.279790979204,
          13544.355929815307,
          14848.00227571936
         ],
         "type": "scatter"
        }
       ],
       "layout": {
        "template": {
         "data": {
          "histogram2dcontour": [
           {
            "type": "histogram2dcontour",
            "colorbar": {
             "outlinewidth": 0,
             "ticks": ""
            },
            "colorscale": [
             [
              0.0,
              "#0d0887"
             ],
             [
              0.1111111111111111,
              "#46039f"
             ],
             [
              0.2222222222222222,
              "#7201a8"
             ],
             [
              0.3333333333333333,
              "#9c179e"
             ],
             [
              0.4444444444444444,
              "#bd3786"
             ],
             [
              0.5555555555555556,
              "#d8576b"
             ],
             [
              0.6666666666666666,
              "#ed7953"
             ],
             [
              0.7777777777777778,
              "#fb9f3a"
             ],
             [
              0.8888888888888888,
              "#fdca26"
             ],
             [
              1.0,
              "#f0f921"
             ]
            ]
           }
          ],
          "choropleth": [
           {
            "type": "choropleth",
            "colorbar": {
             "outlinewidth": 0,
             "ticks": ""
            }
           }
          ],
          "histogram2d": [
           {
            "type": "histogram2d",
            "colorbar": {
             "outlinewidth": 0,
             "ticks": ""
            },
            "colorscale": [
             [
              0.0,
              "#0d0887"
             ],
             [
              0.1111111111111111,
              "#46039f"
             ],
             [
              0.2222222222222222,
              "#7201a8"
             ],
             [
              0.3333333333333333,
              "#9c179e"
             ],
             [
              0.4444444444444444,
              "#bd3786"
             ],
             [
              0.5555555555555556,
              "#d8576b"
             ],
             [
              0.6666666666666666,
              "#ed7953"
             ],
             [
              0.7777777777777778,
              "#fb9f3a"
             ],
             [
              0.8888888888888888,
              "#fdca26"
             ],
             [
              1.0,
              "#f0f921"
             ]
            ]
           }
          ],
          "heatmap": [
           {
            "type": "heatmap",
            "colorbar": {
             "outlinewidth": 0,
             "ticks": ""
            },
            "colorscale": [
             [
              0.0,
              "#0d0887"
             ],
             [
              0.1111111111111111,
              "#46039f"
             ],
             [
              0.2222222222222222,
              "#7201a8"
             ],
             [
              0.3333333333333333,
              "#9c179e"
             ],
             [
              0.4444444444444444,
              "#bd3786"
             ],
             [
              0.5555555555555556,
              "#d8576b"
             ],
             [
              0.6666666666666666,
              "#ed7953"
             ],
             [
              0.7777777777777778,
              "#fb9f3a"
             ],
             [
              0.8888888888888888,
              "#fdca26"
             ],
             [
              1.0,
              "#f0f921"
             ]
            ]
           }
          ],
          "heatmapgl": [
           {
            "type": "heatmapgl",
            "colorbar": {
             "outlinewidth": 0,
             "ticks": ""
            },
            "colorscale": [
             [
              0.0,
              "#0d0887"
             ],
             [
              0.1111111111111111,
              "#46039f"
             ],
             [
              0.2222222222222222,
              "#7201a8"
             ],
             [
              0.3333333333333333,
              "#9c179e"
             ],
             [
              0.4444444444444444,
              "#bd3786"
             ],
             [
              0.5555555555555556,
              "#d8576b"
             ],
             [
              0.6666666666666666,
              "#ed7953"
             ],
             [
              0.7777777777777778,
              "#fb9f3a"
             ],
             [
              0.8888888888888888,
              "#fdca26"
             ],
             [
              1.0,
              "#f0f921"
             ]
            ]
           }
          ],
          "contourcarpet": [
           {
            "type": "contourcarpet",
            "colorbar": {
             "outlinewidth": 0,
             "ticks": ""
            }
           }
          ],
          "contour": [
           {
            "type": "contour",
            "colorbar": {
             "outlinewidth": 0,
             "ticks": ""
            },
            "colorscale": [
             [
              0.0,
              "#0d0887"
             ],
             [
              0.1111111111111111,
              "#46039f"
             ],
             [
              0.2222222222222222,
              "#7201a8"
             ],
             [
              0.3333333333333333,
              "#9c179e"
             ],
             [
              0.4444444444444444,
              "#bd3786"
             ],
             [
              0.5555555555555556,
              "#d8576b"
             ],
             [
              0.6666666666666666,
              "#ed7953"
             ],
             [
              0.7777777777777778,
              "#fb9f3a"
             ],
             [
              0.8888888888888888,
              "#fdca26"
             ],
             [
              1.0,
              "#f0f921"
             ]
            ]
           }
          ],
          "surface": [
           {
            "type": "surface",
            "colorbar": {
             "outlinewidth": 0,
             "ticks": ""
            },
            "colorscale": [
             [
              0.0,
              "#0d0887"
             ],
             [
              0.1111111111111111,
              "#46039f"
             ],
             [
              0.2222222222222222,
              "#7201a8"
             ],
             [
              0.3333333333333333,
              "#9c179e"
             ],
             [
              0.4444444444444444,
              "#bd3786"
             ],
             [
              0.5555555555555556,
              "#d8576b"
             ],
             [
              0.6666666666666666,
              "#ed7953"
             ],
             [
              0.7777777777777778,
              "#fb9f3a"
             ],
             [
              0.8888888888888888,
              "#fdca26"
             ],
             [
              1.0,
              "#f0f921"
             ]
            ]
           }
          ],
          "mesh3d": [
           {
            "type": "mesh3d",
            "colorbar": {
             "outlinewidth": 0,
             "ticks": ""
            }
           }
          ],
          "scatter": [
           {
            "marker": {
             "line": {
              "color": "#283442"
             }
            },
            "type": "scatter"
           }
          ],
          "parcoords": [
           {
            "type": "parcoords",
            "line": {
             "colorbar": {
              "outlinewidth": 0,
              "ticks": ""
             }
            }
           }
          ],
          "scatterpolargl": [
           {
            "type": "scatterpolargl",
            "marker": {
             "colorbar": {
              "outlinewidth": 0,
              "ticks": ""
             }
            }
           }
          ],
          "bar": [
           {
            "error_x": {
             "color": "#f2f5fa"
            },
            "error_y": {
             "color": "#f2f5fa"
            },
            "marker": {
             "line": {
              "color": "rgb(17,17,17)",
              "width": 0.5
             },
             "pattern": {
              "fillmode": "overlay",
              "size": 10,
              "solidity": 0.2
             }
            },
            "type": "bar"
           }
          ],
          "scattergeo": [
           {
            "type": "scattergeo",
            "marker": {
             "colorbar": {
              "outlinewidth": 0,
              "ticks": ""
             }
            }
           }
          ],
          "scatterpolar": [
           {
            "type": "scatterpolar",
            "marker": {
             "colorbar": {
              "outlinewidth": 0,
              "ticks": ""
             }
            }
           }
          ],
          "histogram": [
           {
            "marker": {
             "pattern": {
              "fillmode": "overlay",
              "size": 10,
              "solidity": 0.2
             }
            },
            "type": "histogram"
           }
          ],
          "scattergl": [
           {
            "marker": {
             "line": {
              "color": "#283442"
             }
            },
            "type": "scattergl"
           }
          ],
          "scatter3d": [
           {
            "type": "scatter3d",
            "line": {
             "colorbar": {
              "outlinewidth": 0,
              "ticks": ""
             }
            },
            "marker": {
             "colorbar": {
              "outlinewidth": 0,
              "ticks": ""
             }
            }
           }
          ],
          "scattermapbox": [
           {
            "type": "scattermapbox",
            "marker": {
             "colorbar": {
              "outlinewidth": 0,
              "ticks": ""
             }
            }
           }
          ],
          "scatterternary": [
           {
            "type": "scatterternary",
            "marker": {
             "colorbar": {
              "outlinewidth": 0,
              "ticks": ""
             }
            }
           }
          ],
          "scattercarpet": [
           {
            "type": "scattercarpet",
            "marker": {
             "colorbar": {
              "outlinewidth": 0,
              "ticks": ""
             }
            }
           }
          ],
          "carpet": [
           {
            "aaxis": {
             "endlinecolor": "#A2B1C6",
             "gridcolor": "#506784",
             "linecolor": "#506784",
             "minorgridcolor": "#506784",
             "startlinecolor": "#A2B1C6"
            },
            "baxis": {
             "endlinecolor": "#A2B1C6",
             "gridcolor": "#506784",
             "linecolor": "#506784",
             "minorgridcolor": "#506784",
             "startlinecolor": "#A2B1C6"
            },
            "type": "carpet"
           }
          ],
          "table": [
           {
            "cells": {
             "fill": {
              "color": "#506784"
             },
             "line": {
              "color": "rgb(17,17,17)"
             }
            },
            "header": {
             "fill": {
              "color": "#2a3f5f"
             },
             "line": {
              "color": "rgb(17,17,17)"
             }
            },
            "type": "table"
           }
          ],
          "barpolar": [
           {
            "marker": {
             "line": {
              "color": "rgb(17,17,17)",
              "width": 0.5
             },
             "pattern": {
              "fillmode": "overlay",
              "size": 10,
              "solidity": 0.2
             }
            },
            "type": "barpolar"
           }
          ],
          "pie": [
           {
            "automargin": true,
            "type": "pie"
           }
          ]
         },
         "layout": {
          "autotypenumbers": "strict",
          "colorway": [
           "#636efa",
           "#EF553B",
           "#00cc96",
           "#ab63fa",
           "#FFA15A",
           "#19d3f3",
           "#FF6692",
           "#B6E880",
           "#FF97FF",
           "#FECB52"
          ],
          "font": {
           "color": "#f2f5fa"
          },
          "hovermode": "closest",
          "hoverlabel": {
           "align": "left"
          },
          "paper_bgcolor": "rgb(17,17,17)",
          "plot_bgcolor": "rgb(17,17,17)",
          "polar": {
           "bgcolor": "rgb(17,17,17)",
           "angularaxis": {
            "gridcolor": "#506784",
            "linecolor": "#506784",
            "ticks": ""
           },
           "radialaxis": {
            "gridcolor": "#506784",
            "linecolor": "#506784",
            "ticks": ""
           }
          },
          "ternary": {
           "bgcolor": "rgb(17,17,17)",
           "aaxis": {
            "gridcolor": "#506784",
            "linecolor": "#506784",
            "ticks": ""
           },
           "baxis": {
            "gridcolor": "#506784",
            "linecolor": "#506784",
            "ticks": ""
           },
           "caxis": {
            "gridcolor": "#506784",
            "linecolor": "#506784",
            "ticks": ""
           }
          },
          "coloraxis": {
           "colorbar": {
            "outlinewidth": 0,
            "ticks": ""
           }
          },
          "colorscale": {
           "sequential": [
            [
             0.0,
             "#0d0887"
            ],
            [
             0.1111111111111111,
             "#46039f"
            ],
            [
             0.2222222222222222,
             "#7201a8"
            ],
            [
             0.3333333333333333,
             "#9c179e"
            ],
            [
             0.4444444444444444,
             "#bd3786"
            ],
            [
             0.5555555555555556,
             "#d8576b"
            ],
            [
             0.6666666666666666,
             "#ed7953"
            ],
            [
             0.7777777777777778,
             "#fb9f3a"
            ],
            [
             0.8888888888888888,
             "#fdca26"
            ],
            [
             1.0,
             "#f0f921"
            ]
           ],
           "sequentialminus": [
            [
             0.0,
             "#0d0887"
            ],
            [
             0.1111111111111111,
             "#46039f"
            ],
            [
             0.2222222222222222,
             "#7201a8"
            ],
            [
             0.3333333333333333,
             "#9c179e"
            ],
            [
             0.4444444444444444,
             "#bd3786"
            ],
            [
             0.5555555555555556,
             "#d8576b"
            ],
            [
             0.6666666666666666,
             "#ed7953"
            ],
            [
             0.7777777777777778,
             "#fb9f3a"
            ],
            [
             0.8888888888888888,
             "#fdca26"
            ],
            [
             1.0,
             "#f0f921"
            ]
           ],
           "diverging": [
            [
             0,
             "#8e0152"
            ],
            [
             0.1,
             "#c51b7d"
            ],
            [
             0.2,
             "#de77ae"
            ],
            [
             0.3,
             "#f1b6da"
            ],
            [
             0.4,
             "#fde0ef"
            ],
            [
             0.5,
             "#f7f7f7"
            ],
            [
             0.6,
             "#e6f5d0"
            ],
            [
             0.7,
             "#b8e186"
            ],
            [
             0.8,
             "#7fbc41"
            ],
            [
             0.9,
             "#4d9221"
            ],
            [
             1,
             "#276419"
            ]
           ]
          },
          "xaxis": {
           "gridcolor": "#283442",
           "linecolor": "#506784",
           "ticks": "",
           "title": {
            "standoff": 15
           },
           "zerolinecolor": "#283442",
           "automargin": true,
           "zerolinewidth": 2
          },
          "yaxis": {
           "gridcolor": "#283442",
           "linecolor": "#506784",
           "ticks": "",
           "title": {
            "standoff": 15
           },
           "zerolinecolor": "#283442",
           "automargin": true,
           "zerolinewidth": 2
          },
          "scene": {
           "xaxis": {
            "backgroundcolor": "rgb(17,17,17)",
            "gridcolor": "#506784",
            "linecolor": "#506784",
            "showbackground": true,
            "ticks": "",
            "zerolinecolor": "#C8D4E3",
            "gridwidth": 2
           },
           "yaxis": {
            "backgroundcolor": "rgb(17,17,17)",
            "gridcolor": "#506784",
            "linecolor": "#506784",
            "showbackground": true,
            "ticks": "",
            "zerolinecolor": "#C8D4E3",
            "gridwidth": 2
           },
           "zaxis": {
            "backgroundcolor": "rgb(17,17,17)",
            "gridcolor": "#506784",
            "linecolor": "#506784",
            "showbackground": true,
            "ticks": "",
            "zerolinecolor": "#C8D4E3",
            "gridwidth": 2
           }
          },
          "shapedefaults": {
           "line": {
            "color": "#f2f5fa"
           }
          },
          "annotationdefaults": {
           "arrowcolor": "#f2f5fa",
           "arrowhead": 0,
           "arrowwidth": 1
          },
          "geo": {
           "bgcolor": "rgb(17,17,17)",
           "landcolor": "rgb(17,17,17)",
           "subunitcolor": "#506784",
           "showland": true,
           "showlakes": true,
           "lakecolor": "rgb(17,17,17)"
          },
          "title": {
           "x": 0.05
          },
          "updatemenudefaults": {
           "bgcolor": "#506784",
           "borderwidth": 0
          },
          "sliderdefaults": {
           "bgcolor": "#C8D4E3",
           "borderwidth": 1,
           "bordercolor": "rgb(17,17,17)",
           "tickwidth": 0
          },
          "mapbox": {
           "style": "dark"
          }
         }
        },
        "title": {
         "text": "Backtest for long-short-momentum"
        },
        "height": 1200,
        "yaxis": {
         "title": {
          "text": "Value $"
         },
         "showgrid": false
        },
        "xaxis": {
         "rangeslider": {
          "visible": false
         }
        },
        "legend": {
         "orientation": "h",
         "yanchor": "bottom",
         "y": 1.02,
         "xanchor": "right",
         "x": 1
        }
       },
       "config": {
        "plotlyServerURL": "https://plot.ly"
       }
      },
      "text/html": "<div>                            <div id=\"1aea8bcb-2a34-4295-ba1c-f4ddff291915\" class=\"plotly-graph-div\" style=\"height:1200px; width:100%;\"></div>            <script type=\"text/javascript\">                require([\"plotly\"], function(Plotly) {                    window.PLOTLYENV=window.PLOTLYENV || {};                                    if (document.getElementById(\"1aea8bcb-2a34-4295-ba1c-f4ddff291915\")) {                    Plotly.newPlot(                        \"1aea8bcb-2a34-4295-ba1c-f4ddff291915\",                        [{\"line\":{\"color\":\"#008800\"},\"mode\":\"lines\",\"name\":\"Backtest for long-short-momentum\",\"x\":[\"2021-12-27T00:00:00\",\"2022-01-03T00:00:00\",\"2022-01-10T00:00:00\",\"2022-01-17T00:00:00\",\"2022-01-24T00:00:00\",\"2022-01-31T00:00:00\",\"2022-02-07T00:00:00\",\"2022-02-14T00:00:00\",\"2022-02-21T00:00:00\",\"2022-02-28T00:00:00\",\"2022-03-07T00:00:00\",\"2022-03-14T00:00:00\",\"2022-03-21T00:00:00\",\"2022-03-28T00:00:00\",\"2022-04-04T00:00:00\",\"2022-04-11T00:00:00\",\"2022-04-18T00:00:00\",\"2022-04-25T00:00:00\",\"2022-05-02T00:00:00\",\"2022-05-09T00:00:00\",\"2022-05-16T00:00:00\",\"2022-05-23T00:00:00\",\"2022-05-30T00:00:00\",\"2022-06-06T00:00:00\",\"2022-06-13T00:00:00\",\"2022-06-20T00:00:00\",\"2022-06-27T00:00:00\",\"2022-07-04T00:00:00\",\"2022-07-11T00:00:00\",\"2022-07-18T00:00:00\",\"2022-07-25T00:00:00\",\"2022-08-01T00:00:00\",\"2022-08-08T00:00:00\",\"2022-08-15T00:00:00\",\"2022-08-22T00:00:00\",\"2022-08-29T00:00:00\",\"2022-09-05T00:00:00\",\"2022-09-12T00:00:00\",\"2022-09-19T00:00:00\",\"2022-09-26T00:00:00\",\"2022-10-03T00:00:00\",\"2022-10-10T00:00:00\",\"2022-10-17T00:00:00\",\"2022-10-24T00:00:00\",\"2022-10-31T00:00:00\",\"2022-11-07T00:00:00\",\"2022-11-14T00:00:00\",\"2022-11-21T00:00:00\",\"2022-11-28T00:00:00\",\"2022-12-05T00:00:00\",\"2022-12-12T00:00:00\",\"2022-12-19T00:00:00\",\"2022-12-26T00:00:00\",\"2023-01-02T00:00:00\",\"2023-01-09T00:00:00\",\"2023-01-16T00:00:00\",\"2023-01-23T00:00:00\",\"2023-01-30T00:00:00\",\"2023-02-06T00:00:00\",\"2023-02-13T00:00:00\",\"2023-02-20T00:00:00\",\"2023-02-27T00:00:00\",\"2023-03-06T00:00:00\",\"2023-03-13T00:00:00\",\"2023-03-20T00:00:00\",\"2023-03-27T00:00:00\",\"2023-04-03T00:00:00\",\"2023-04-10T00:00:00\",\"2023-04-17T00:00:00\",\"2023-04-24T00:00:00\",\"2023-05-01T00:00:00\",\"2023-05-08T00:00:00\",\"2023-05-15T00:00:00\",\"2023-05-22T00:00:00\",\"2023-05-29T00:00:00\",\"2023-06-05T00:00:00\",\"2023-06-12T00:00:00\",\"2023-06-19T00:00:00\",\"2023-06-26T00:00:00\",\"2023-07-03T00:00:00\",\"2023-07-10T00:00:00\",\"2023-07-17T00:00:00\",\"2023-07-24T00:00:00\",\"2023-07-31T00:00:00\",\"2023-08-07T00:00:00\",\"2023-08-14T00:00:00\",\"2023-08-21T00:00:00\",\"2023-08-28T00:00:00\",\"2023-09-04T00:00:00\",\"2023-09-11T00:00:00\",\"2023-09-18T00:00:00\",\"2023-09-25T00:00:00\"],\"y\":[10000.0,10000.0,10000.0,10000.0,10000.0,10000.0,10000.0,10000.0,10000.0,10000.0,10000.0,10000.0,10000.0,10000.0,10000.0,10000.0,10000.0,10000.0,10000.0,10000.0,10000.0,10000.0,10000.0,10000.0,10000.0,10000.0,10000.0,10000.0,9992.003998000999,10925.004982695287,12783.596977977908,13481.25770107555,13480.271084969201,13469.492257514952,11582.096060917851,12202.984693009974,10826.563576325378,11363.821064067222,10212.474196909347,10808.209597758036,10591.162193168662,10908.561890097953,10653.715022471755,10087.007330084163,10594.174542209126,11233.418409965157,12164.853767518603,12907.896329914447,11562.956554977314,12359.963595856507,11960.590449504354,13037.260840818672,12909.49904871074,12746.546650960654,11805.191917624157,12394.534533271384,12755.474282881554,13208.593370493541,13068.291498145936,13408.37766333808,13669.263573525008,13042.53201192736,13721.579644994072,14525.97311188844,14684.242863008341,15235.186101318297,15888.814562469499,15876.109863169173,16918.748412064146,15749.175664728682,15936.04953201124,15936.04953201124,15929.675112198436,15975.639136747699,15962.865012500424,15606.920110792416,16346.49197376557,16941.268774919306,15323.221886070818,15634.592327522148,14875.726048030248,14319.755124288222,14446.1368788775,13966.436144176943,14567.472504659321,14331.590984337096,12547.43502213667,12842.447108655477,13066.722843060132,13061.496153922908,13179.014328331676,13171.987277013646],\"type\":\"scatter\"},{\"line\":{\"color\":\"#000088\"},\"mode\":\"lines\",\"name\":\"Hold cash\",\"x\":[\"2022-01-01T00:00:00\",\"2023-09-25T00:00:00\"],\"y\":[10000.0,10000.0],\"type\":\"scatter\"},{\"mode\":\"lines\",\"name\":\"Buy and hold ETH\",\"x\":[\"2022-07-04T00:00:00\",\"2022-07-11T00:00:00\",\"2022-07-18T00:00:00\",\"2022-07-25T00:00:00\",\"2022-08-01T00:00:00\",\"2022-08-08T00:00:00\",\"2022-08-15T00:00:00\",\"2022-08-22T00:00:00\",\"2022-08-29T00:00:00\",\"2022-09-05T00:00:00\",\"2022-09-12T00:00:00\",\"2022-09-19T00:00:00\",\"2022-09-26T00:00:00\",\"2022-10-03T00:00:00\",\"2022-10-10T00:00:00\",\"2022-10-17T00:00:00\",\"2022-10-24T00:00:00\",\"2022-10-31T00:00:00\",\"2022-11-07T00:00:00\",\"2022-11-14T00:00:00\",\"2022-11-21T00:00:00\",\"2022-11-28T00:00:00\",\"2022-12-05T00:00:00\",\"2022-12-12T00:00:00\",\"2022-12-19T00:00:00\",\"2022-12-26T00:00:00\",\"2023-01-02T00:00:00\",\"2023-01-09T00:00:00\",\"2023-01-16T00:00:00\",\"2023-01-23T00:00:00\",\"2023-01-30T00:00:00\",\"2023-02-06T00:00:00\",\"2023-02-13T00:00:00\",\"2023-02-20T00:00:00\",\"2023-02-27T00:00:00\",\"2023-03-06T00:00:00\",\"2023-03-13T00:00:00\",\"2023-03-20T00:00:00\",\"2023-03-27T00:00:00\",\"2023-04-03T00:00:00\",\"2023-04-10T00:00:00\",\"2023-04-17T00:00:00\",\"2023-04-24T00:00:00\",\"2023-05-01T00:00:00\",\"2023-05-08T00:00:00\",\"2023-05-15T00:00:00\",\"2023-05-22T00:00:00\",\"2023-05-29T00:00:00\",\"2023-06-05T00:00:00\",\"2023-06-12T00:00:00\",\"2023-06-19T00:00:00\",\"2023-06-26T00:00:00\",\"2023-07-03T00:00:00\",\"2023-07-10T00:00:00\",\"2023-07-17T00:00:00\",\"2023-07-24T00:00:00\",\"2023-07-31T00:00:00\",\"2023-08-07T00:00:00\",\"2023-08-14T00:00:00\",\"2023-08-21T00:00:00\",\"2023-08-28T00:00:00\",\"2023-09-04T00:00:00\",\"2023-09-11T00:00:00\",\"2023-09-18T00:00:00\",\"2023-09-25T00:00:00\"],\"y\":[10000.0,11462.470551344093,13690.051334044721,14403.436863922225,14572.938249924175,16587.672345394178,13869.17482553404,12220.013624316036,13526.760586310227,15141.87901129689,11444.146178072959,11090.400544505152,10939.505592088803,11334.813477900068,11196.256074677156,11694.016123256017,13639.49426018127,13460.644880925523,10457.11761604687,9782.413110443307,10224.471188322923,10972.371740158778,10825.247401380142,10136.922114069888,10440.400441012198,10280.85788184391,11041.71240892007,13305.411257470096,13951.240710090868,14112.597936382948,13967.991409831804,12987.300869902801,14414.963647182374,14061.886454776337,13412.276093805729,13722.945269511321,15312.412735984502,15217.774191501123,15387.62391480521,15937.292282001725,18166.06412434577,15964.407364439781,16036.40547198566,16054.054340674385,15426.139172874973,15466.29730980779,16363.618225270522,16200.805603324741,15028.745356792018,14738.538049133853,16282.008409119238,16604.267484182994,15964.407364439781,16478.55963147436,16186.232165971946,15959.618999935272,15657.697897506681,15769.257542810841,14438.044895049246,14197.523800606761,14021.168090105923,13862.242318012175,13905.279790979204,13544.355929815307,14848.00227571936],\"type\":\"scatter\"}],                        {\"template\":{\"data\":{\"histogram2dcontour\":[{\"type\":\"histogram2dcontour\",\"colorbar\":{\"outlinewidth\":0,\"ticks\":\"\"},\"colorscale\":[[0.0,\"#0d0887\"],[0.1111111111111111,\"#46039f\"],[0.2222222222222222,\"#7201a8\"],[0.3333333333333333,\"#9c179e\"],[0.4444444444444444,\"#bd3786\"],[0.5555555555555556,\"#d8576b\"],[0.6666666666666666,\"#ed7953\"],[0.7777777777777778,\"#fb9f3a\"],[0.8888888888888888,\"#fdca26\"],[1.0,\"#f0f921\"]]}],\"choropleth\":[{\"type\":\"choropleth\",\"colorbar\":{\"outlinewidth\":0,\"ticks\":\"\"}}],\"histogram2d\":[{\"type\":\"histogram2d\",\"colorbar\":{\"outlinewidth\":0,\"ticks\":\"\"},\"colorscale\":[[0.0,\"#0d0887\"],[0.1111111111111111,\"#46039f\"],[0.2222222222222222,\"#7201a8\"],[0.3333333333333333,\"#9c179e\"],[0.4444444444444444,\"#bd3786\"],[0.5555555555555556,\"#d8576b\"],[0.6666666666666666,\"#ed7953\"],[0.7777777777777778,\"#fb9f3a\"],[0.8888888888888888,\"#fdca26\"],[1.0,\"#f0f921\"]]}],\"heatmap\":[{\"type\":\"heatmap\",\"colorbar\":{\"outlinewidth\":0,\"ticks\":\"\"},\"colorscale\":[[0.0,\"#0d0887\"],[0.1111111111111111,\"#46039f\"],[0.2222222222222222,\"#7201a8\"],[0.3333333333333333,\"#9c179e\"],[0.4444444444444444,\"#bd3786\"],[0.5555555555555556,\"#d8576b\"],[0.6666666666666666,\"#ed7953\"],[0.7777777777777778,\"#fb9f3a\"],[0.8888888888888888,\"#fdca26\"],[1.0,\"#f0f921\"]]}],\"heatmapgl\":[{\"type\":\"heatmapgl\",\"colorbar\":{\"outlinewidth\":0,\"ticks\":\"\"},\"colorscale\":[[0.0,\"#0d0887\"],[0.1111111111111111,\"#46039f\"],[0.2222222222222222,\"#7201a8\"],[0.3333333333333333,\"#9c179e\"],[0.4444444444444444,\"#bd3786\"],[0.5555555555555556,\"#d8576b\"],[0.6666666666666666,\"#ed7953\"],[0.7777777777777778,\"#fb9f3a\"],[0.8888888888888888,\"#fdca26\"],[1.0,\"#f0f921\"]]}],\"contourcarpet\":[{\"type\":\"contourcarpet\",\"colorbar\":{\"outlinewidth\":0,\"ticks\":\"\"}}],\"contour\":[{\"type\":\"contour\",\"colorbar\":{\"outlinewidth\":0,\"ticks\":\"\"},\"colorscale\":[[0.0,\"#0d0887\"],[0.1111111111111111,\"#46039f\"],[0.2222222222222222,\"#7201a8\"],[0.3333333333333333,\"#9c179e\"],[0.4444444444444444,\"#bd3786\"],[0.5555555555555556,\"#d8576b\"],[0.6666666666666666,\"#ed7953\"],[0.7777777777777778,\"#fb9f3a\"],[0.8888888888888888,\"#fdca26\"],[1.0,\"#f0f921\"]]}],\"surface\":[{\"type\":\"surface\",\"colorbar\":{\"outlinewidth\":0,\"ticks\":\"\"},\"colorscale\":[[0.0,\"#0d0887\"],[0.1111111111111111,\"#46039f\"],[0.2222222222222222,\"#7201a8\"],[0.3333333333333333,\"#9c179e\"],[0.4444444444444444,\"#bd3786\"],[0.5555555555555556,\"#d8576b\"],[0.6666666666666666,\"#ed7953\"],[0.7777777777777778,\"#fb9f3a\"],[0.8888888888888888,\"#fdca26\"],[1.0,\"#f0f921\"]]}],\"mesh3d\":[{\"type\":\"mesh3d\",\"colorbar\":{\"outlinewidth\":0,\"ticks\":\"\"}}],\"scatter\":[{\"marker\":{\"line\":{\"color\":\"#283442\"}},\"type\":\"scatter\"}],\"parcoords\":[{\"type\":\"parcoords\",\"line\":{\"colorbar\":{\"outlinewidth\":0,\"ticks\":\"\"}}}],\"scatterpolargl\":[{\"type\":\"scatterpolargl\",\"marker\":{\"colorbar\":{\"outlinewidth\":0,\"ticks\":\"\"}}}],\"bar\":[{\"error_x\":{\"color\":\"#f2f5fa\"},\"error_y\":{\"color\":\"#f2f5fa\"},\"marker\":{\"line\":{\"color\":\"rgb(17,17,17)\",\"width\":0.5},\"pattern\":{\"fillmode\":\"overlay\",\"size\":10,\"solidity\":0.2}},\"type\":\"bar\"}],\"scattergeo\":[{\"type\":\"scattergeo\",\"marker\":{\"colorbar\":{\"outlinewidth\":0,\"ticks\":\"\"}}}],\"scatterpolar\":[{\"type\":\"scatterpolar\",\"marker\":{\"colorbar\":{\"outlinewidth\":0,\"ticks\":\"\"}}}],\"histogram\":[{\"marker\":{\"pattern\":{\"fillmode\":\"overlay\",\"size\":10,\"solidity\":0.2}},\"type\":\"histogram\"}],\"scattergl\":[{\"marker\":{\"line\":{\"color\":\"#283442\"}},\"type\":\"scattergl\"}],\"scatter3d\":[{\"type\":\"scatter3d\",\"line\":{\"colorbar\":{\"outlinewidth\":0,\"ticks\":\"\"}},\"marker\":{\"colorbar\":{\"outlinewidth\":0,\"ticks\":\"\"}}}],\"scattermapbox\":[{\"type\":\"scattermapbox\",\"marker\":{\"colorbar\":{\"outlinewidth\":0,\"ticks\":\"\"}}}],\"scatterternary\":[{\"type\":\"scatterternary\",\"marker\":{\"colorbar\":{\"outlinewidth\":0,\"ticks\":\"\"}}}],\"scattercarpet\":[{\"type\":\"scattercarpet\",\"marker\":{\"colorbar\":{\"outlinewidth\":0,\"ticks\":\"\"}}}],\"carpet\":[{\"aaxis\":{\"endlinecolor\":\"#A2B1C6\",\"gridcolor\":\"#506784\",\"linecolor\":\"#506784\",\"minorgridcolor\":\"#506784\",\"startlinecolor\":\"#A2B1C6\"},\"baxis\":{\"endlinecolor\":\"#A2B1C6\",\"gridcolor\":\"#506784\",\"linecolor\":\"#506784\",\"minorgridcolor\":\"#506784\",\"startlinecolor\":\"#A2B1C6\"},\"type\":\"carpet\"}],\"table\":[{\"cells\":{\"fill\":{\"color\":\"#506784\"},\"line\":{\"color\":\"rgb(17,17,17)\"}},\"header\":{\"fill\":{\"color\":\"#2a3f5f\"},\"line\":{\"color\":\"rgb(17,17,17)\"}},\"type\":\"table\"}],\"barpolar\":[{\"marker\":{\"line\":{\"color\":\"rgb(17,17,17)\",\"width\":0.5},\"pattern\":{\"fillmode\":\"overlay\",\"size\":10,\"solidity\":0.2}},\"type\":\"barpolar\"}],\"pie\":[{\"automargin\":true,\"type\":\"pie\"}]},\"layout\":{\"autotypenumbers\":\"strict\",\"colorway\":[\"#636efa\",\"#EF553B\",\"#00cc96\",\"#ab63fa\",\"#FFA15A\",\"#19d3f3\",\"#FF6692\",\"#B6E880\",\"#FF97FF\",\"#FECB52\"],\"font\":{\"color\":\"#f2f5fa\"},\"hovermode\":\"closest\",\"hoverlabel\":{\"align\":\"left\"},\"paper_bgcolor\":\"rgb(17,17,17)\",\"plot_bgcolor\":\"rgb(17,17,17)\",\"polar\":{\"bgcolor\":\"rgb(17,17,17)\",\"angularaxis\":{\"gridcolor\":\"#506784\",\"linecolor\":\"#506784\",\"ticks\":\"\"},\"radialaxis\":{\"gridcolor\":\"#506784\",\"linecolor\":\"#506784\",\"ticks\":\"\"}},\"ternary\":{\"bgcolor\":\"rgb(17,17,17)\",\"aaxis\":{\"gridcolor\":\"#506784\",\"linecolor\":\"#506784\",\"ticks\":\"\"},\"baxis\":{\"gridcolor\":\"#506784\",\"linecolor\":\"#506784\",\"ticks\":\"\"},\"caxis\":{\"gridcolor\":\"#506784\",\"linecolor\":\"#506784\",\"ticks\":\"\"}},\"coloraxis\":{\"colorbar\":{\"outlinewidth\":0,\"ticks\":\"\"}},\"colorscale\":{\"sequential\":[[0.0,\"#0d0887\"],[0.1111111111111111,\"#46039f\"],[0.2222222222222222,\"#7201a8\"],[0.3333333333333333,\"#9c179e\"],[0.4444444444444444,\"#bd3786\"],[0.5555555555555556,\"#d8576b\"],[0.6666666666666666,\"#ed7953\"],[0.7777777777777778,\"#fb9f3a\"],[0.8888888888888888,\"#fdca26\"],[1.0,\"#f0f921\"]],\"sequentialminus\":[[0.0,\"#0d0887\"],[0.1111111111111111,\"#46039f\"],[0.2222222222222222,\"#7201a8\"],[0.3333333333333333,\"#9c179e\"],[0.4444444444444444,\"#bd3786\"],[0.5555555555555556,\"#d8576b\"],[0.6666666666666666,\"#ed7953\"],[0.7777777777777778,\"#fb9f3a\"],[0.8888888888888888,\"#fdca26\"],[1.0,\"#f0f921\"]],\"diverging\":[[0,\"#8e0152\"],[0.1,\"#c51b7d\"],[0.2,\"#de77ae\"],[0.3,\"#f1b6da\"],[0.4,\"#fde0ef\"],[0.5,\"#f7f7f7\"],[0.6,\"#e6f5d0\"],[0.7,\"#b8e186\"],[0.8,\"#7fbc41\"],[0.9,\"#4d9221\"],[1,\"#276419\"]]},\"xaxis\":{\"gridcolor\":\"#283442\",\"linecolor\":\"#506784\",\"ticks\":\"\",\"title\":{\"standoff\":15},\"zerolinecolor\":\"#283442\",\"automargin\":true,\"zerolinewidth\":2},\"yaxis\":{\"gridcolor\":\"#283442\",\"linecolor\":\"#506784\",\"ticks\":\"\",\"title\":{\"standoff\":15},\"zerolinecolor\":\"#283442\",\"automargin\":true,\"zerolinewidth\":2},\"scene\":{\"xaxis\":{\"backgroundcolor\":\"rgb(17,17,17)\",\"gridcolor\":\"#506784\",\"linecolor\":\"#506784\",\"showbackground\":true,\"ticks\":\"\",\"zerolinecolor\":\"#C8D4E3\",\"gridwidth\":2},\"yaxis\":{\"backgroundcolor\":\"rgb(17,17,17)\",\"gridcolor\":\"#506784\",\"linecolor\":\"#506784\",\"showbackground\":true,\"ticks\":\"\",\"zerolinecolor\":\"#C8D4E3\",\"gridwidth\":2},\"zaxis\":{\"backgroundcolor\":\"rgb(17,17,17)\",\"gridcolor\":\"#506784\",\"linecolor\":\"#506784\",\"showbackground\":true,\"ticks\":\"\",\"zerolinecolor\":\"#C8D4E3\",\"gridwidth\":2}},\"shapedefaults\":{\"line\":{\"color\":\"#f2f5fa\"}},\"annotationdefaults\":{\"arrowcolor\":\"#f2f5fa\",\"arrowhead\":0,\"arrowwidth\":1},\"geo\":{\"bgcolor\":\"rgb(17,17,17)\",\"landcolor\":\"rgb(17,17,17)\",\"subunitcolor\":\"#506784\",\"showland\":true,\"showlakes\":true,\"lakecolor\":\"rgb(17,17,17)\"},\"title\":{\"x\":0.05},\"updatemenudefaults\":{\"bgcolor\":\"#506784\",\"borderwidth\":0},\"sliderdefaults\":{\"bgcolor\":\"#C8D4E3\",\"borderwidth\":1,\"bordercolor\":\"rgb(17,17,17)\",\"tickwidth\":0},\"mapbox\":{\"style\":\"dark\"}}},\"title\":{\"text\":\"Backtest for long-short-momentum\"},\"height\":1200,\"yaxis\":{\"title\":{\"text\":\"Value $\"},\"showgrid\":false},\"xaxis\":{\"rangeslider\":{\"visible\":false}},\"legend\":{\"orientation\":\"h\",\"yanchor\":\"bottom\",\"y\":1.02,\"xanchor\":\"right\",\"x\":1}},                        {\"responsive\": true}                    ).then(function(){\n                            \nvar gd = document.getElementById('1aea8bcb-2a34-4295-ba1c-f4ddff291915');\nvar x = new MutationObserver(function (mutations, observer) {{\n        var display = window.getComputedStyle(gd).display;\n        if (!display || display === 'none') {{\n            console.log([gd, 'removed!']);\n            Plotly.purge(gd);\n            observer.disconnect();\n        }}\n}});\n\n// Listen for the removal of the full notebook cells\nvar notebookContainer = gd.closest('#notebook-container');\nif (notebookContainer) {{\n    x.observe(notebookContainer, {childList: true});\n}}\n\n// Listen for the clearing of the current output cell\nvar outputEl = gd.closest('.output');\nif (outputEl) {{\n    x.observe(outputEl, {childList: true});\n}}\n\n                        })                };                });            </script>        </div>"
     },
     "metadata": {},
     "output_type": "display_data"
    }
   ],
   "source": [
    "from tradingstrategy.chain import ChainId\n",
    "from tradeexecutor.visual.benchmark import visualise_benchmark\n",
    "\n",
    "data_univese = strategy_universe.data_universe\n",
    "\n",
    "eth_usd = universe.get_pair_by_human_description((ChainId.polygon, \"uniswap-v3\", \"WETH\", \"USDC\"))\n",
    "eth_candles = data_univese.candles.get_candles_by_pair(eth_usd.internal_id)\n",
    "eth_price = eth_candles[\"close\"]\n",
    "\n",
    "fig = visualise_benchmark(\n",
    "    state.name,\n",
    "    portfolio_statistics=state.stats.portfolio,\n",
    "    all_cash=state.portfolio.get_initial_deposit(),\n",
    "    buy_and_hold_asset_name=\"ETH\",\n",
    "    buy_and_hold_price_series=eth_price,\n",
    "    start_at=universe_options.start_at,\n",
    "    end_at=universe_options.end_at,\n",
    ")\n",
    "\n",
    "fig.show()"
   ]
  },
  {
   "cell_type": "markdown",
   "source": [
    "### Equity curve\n",
    "\n",
    "Display equity curve and maximum drawdown.\n",
    "\n"
   ],
   "metadata": {
    "collapsed": false
   }
  },
  {
   "cell_type": "code",
   "execution_count": 20,
   "outputs": [
    {
     "data": {
      "text/plain": "<Figure size 1000x800 with 3 Axes>",
      "image/svg+xml": "<?xml version=\"1.0\" encoding=\"utf-8\" standalone=\"no\"?>\n<!DOCTYPE svg PUBLIC \"-//W3C//DTD SVG 1.1//EN\"\n  \"http://www.w3.org/Graphics/SVG/1.1/DTD/svg11.dtd\">\n<svg xmlns:xlink=\"http://www.w3.org/1999/xlink\" width=\"712.805175pt\" height=\"573.554878pt\" viewBox=\"0 0 712.805175 573.554878\" xmlns=\"http://www.w3.org/2000/svg\" version=\"1.1\">\n <metadata>\n  <rdf:RDF xmlns:dc=\"http://purl.org/dc/elements/1.1/\" xmlns:cc=\"http://creativecommons.org/ns#\" xmlns:rdf=\"http://www.w3.org/1999/02/22-rdf-syntax-ns#\">\n   <cc:Work>\n    <dc:type rdf:resource=\"http://purl.org/dc/dcmitype/StillImage\"/>\n    <dc:date>2023-11-06T12:24:00.564106</dc:date>\n    <dc:format>image/svg+xml</dc:format>\n    <dc:creator>\n     <cc:Agent>\n      <dc:title>Matplotlib v3.8.1, https://matplotlib.org/</dc:title>\n     </cc:Agent>\n    </dc:creator>\n   </cc:Work>\n  </rdf:RDF>\n </metadata>\n <defs>\n  <style type=\"text/css\">*{stroke-linejoin: round; stroke-linecap: butt}</style>\n </defs>\n <g id=\"figure_1\">\n  <g id=\"patch_1\">\n   <path d=\"M 0 573.554878 \nL 712.805175 573.554878 \nL 712.805175 0 \nL 0 0 \nz\n\" style=\"fill: #ffffff\"/>\n  </g>\n  <g id=\"axes_1\">\n   <g id=\"patch_2\">\n    <path d=\"M 80.795925 344.069464 \nL 705.605175 344.069464 \nL 705.605175 72.96 \nL 80.795925 72.96 \nz\n\" style=\"fill: #ffffff\"/>\n   </g>\n   <g id=\"line2d_1\">\n    <path d=\"M 80.795925 331.46272 \nL 705.605175 331.46272 \n\" clip-path=\"url(#p774fc4be96)\" style=\"fill: none; stroke: #c0c0c0; stroke-linecap: round\"/>\n   </g>\n   <g id=\"matplotlib.axis_1\">\n    <g id=\"xtick_1\">\n     <g id=\"line2d_2\">\n      <path d=\"M 114.538117 344.069464 \nL 114.538117 72.96 \n\" clip-path=\"url(#p774fc4be96)\" style=\"fill: none; stroke: #dddddd; stroke-width: 0.5; stroke-linecap: round\"/>\n     </g>\n    </g>\n    <g id=\"xtick_2\">\n     <g id=\"line2d_3\">\n      <path d=\"M 194.664695 344.069464 \nL 194.664695 72.96 \n\" clip-path=\"url(#p774fc4be96)\" style=\"fill: none; stroke: #dddddd; stroke-width: 0.5; stroke-linecap: round\"/>\n     </g>\n    </g>\n    <g id=\"xtick_3\">\n     <g id=\"line2d_4\">\n      <path d=\"M 275.681569 344.069464 \nL 275.681569 72.96 \n\" clip-path=\"url(#p774fc4be96)\" style=\"fill: none; stroke: #dddddd; stroke-width: 0.5; stroke-linecap: round\"/>\n     </g>\n    </g>\n    <g id=\"xtick_4\">\n     <g id=\"line2d_5\">\n      <path d=\"M 357.588738 344.069464 \nL 357.588738 72.96 \n\" clip-path=\"url(#p774fc4be96)\" style=\"fill: none; stroke: #dddddd; stroke-width: 0.5; stroke-linecap: round\"/>\n     </g>\n    </g>\n    <g id=\"xtick_5\">\n     <g id=\"line2d_6\">\n      <path d=\"M 439.495906 344.069464 \nL 439.495906 72.96 \n\" clip-path=\"url(#p774fc4be96)\" style=\"fill: none; stroke: #dddddd; stroke-width: 0.5; stroke-linecap: round\"/>\n     </g>\n    </g>\n    <g id=\"xtick_6\">\n     <g id=\"line2d_7\">\n      <path d=\"M 519.622484 344.069464 \nL 519.622484 72.96 \n\" clip-path=\"url(#p774fc4be96)\" style=\"fill: none; stroke: #dddddd; stroke-width: 0.5; stroke-linecap: round\"/>\n     </g>\n    </g>\n    <g id=\"xtick_7\">\n     <g id=\"line2d_8\">\n      <path d=\"M 600.639358 344.069464 \nL 600.639358 72.96 \n\" clip-path=\"url(#p774fc4be96)\" style=\"fill: none; stroke: #dddddd; stroke-width: 0.5; stroke-linecap: round\"/>\n     </g>\n    </g>\n    <g id=\"xtick_8\">\n     <g id=\"line2d_9\">\n      <path d=\"M 682.546526 344.069464 \nL 682.546526 72.96 \n\" clip-path=\"url(#p774fc4be96)\" style=\"fill: none; stroke: #dddddd; stroke-width: 0.5; stroke-linecap: round\"/>\n     </g>\n    </g>\n   </g>\n   <g id=\"matplotlib.axis_2\">\n    <g id=\"ytick_1\">\n     <g id=\"line2d_10\">\n      <path d=\"M 80.795925 331.46272 \nL 705.605175 331.46272 \n\" clip-path=\"url(#p774fc4be96)\" style=\"fill: none; stroke: #dddddd; stroke-width: 0.5; stroke-linecap: round\"/>\n     </g>\n     <g id=\"text_1\">\n      <!-- 0% -->\n      <g style=\"fill: #666666\" transform=\"translate(53.807644 335.793197) scale(0.121 -0.121)\">\n       <defs>\n        <path id=\"ArialMT-30\" d=\"M 266 2259 \nQ 266 3072 433 3567 \nQ 600 4063 929 4331 \nQ 1259 4600 1759 4600 \nQ 2128 4600 2406 4451 \nQ 2684 4303 2865 4023 \nQ 3047 3744 3150 3342 \nQ 3253 2941 3253 2259 \nQ 3253 1453 3087 958 \nQ 2922 463 2592 192 \nQ 2263 -78 1759 -78 \nQ 1097 -78 719 397 \nQ 266 969 266 2259 \nz\nM 844 2259 \nQ 844 1131 1108 757 \nQ 1372 384 1759 384 \nQ 2147 384 2411 759 \nQ 2675 1134 2675 2259 \nQ 2675 3391 2411 3762 \nQ 2147 4134 1753 4134 \nQ 1366 4134 1134 3806 \nQ 844 3388 844 2259 \nz\n\" transform=\"scale(0.015625)\"/>\n        <path id=\"ArialMT-25\" d=\"M 372 3481 \nQ 372 3972 619 4315 \nQ 866 4659 1334 4659 \nQ 1766 4659 2048 4351 \nQ 2331 4044 2331 3447 \nQ 2331 2866 2045 2552 \nQ 1759 2238 1341 2238 \nQ 925 2238 648 2547 \nQ 372 2856 372 3481 \nz\nM 1350 4272 \nQ 1141 4272 1002 4090 \nQ 863 3909 863 3425 \nQ 863 2984 1003 2804 \nQ 1144 2625 1350 2625 \nQ 1563 2625 1702 2806 \nQ 1841 2988 1841 3469 \nQ 1841 3913 1700 4092 \nQ 1559 4272 1350 4272 \nz\nM 1353 -169 \nL 3859 4659 \nL 4316 4659 \nL 1819 -169 \nL 1353 -169 \nz\nM 3334 1075 \nQ 3334 1569 3581 1911 \nQ 3828 2253 4300 2253 \nQ 4731 2253 5014 1945 \nQ 5297 1638 5297 1041 \nQ 5297 459 5011 145 \nQ 4725 -169 4303 -169 \nQ 3888 -169 3611 142 \nQ 3334 453 3334 1075 \nz\nM 4316 1866 \nQ 4103 1866 3964 1684 \nQ 3825 1503 3825 1019 \nQ 3825 581 3965 400 \nQ 4106 219 4313 219 \nQ 4528 219 4667 400 \nQ 4806 581 4806 1063 \nQ 4806 1506 4665 1686 \nQ 4525 1866 4316 1866 \nz\n\" transform=\"scale(0.015625)\"/>\n       </defs>\n       <use xlink:href=\"#ArialMT-30\"/>\n       <use xlink:href=\"#ArialMT-25\" x=\"55.615234\"/>\n      </g>\n     </g>\n    </g>\n    <g id=\"ytick_2\">\n     <g id=\"line2d_11\">\n      <path d=\"M 80.795925 295.996645 \nL 705.605175 295.996645 \n\" clip-path=\"url(#p774fc4be96)\" style=\"fill: none; stroke: #dddddd; stroke-width: 0.5; stroke-linecap: round\"/>\n     </g>\n     <g id=\"text_2\">\n      <!-- 10% -->\n      <g style=\"fill: #666666\" transform=\"translate(47.078909 300.327121) scale(0.121 -0.121)\">\n       <defs>\n        <path id=\"ArialMT-31\" d=\"M 2384 0 \nL 1822 0 \nL 1822 3584 \nQ 1619 3391 1289 3197 \nQ 959 3003 697 2906 \nL 697 3450 \nQ 1169 3672 1522 3987 \nQ 1875 4303 2022 4600 \nL 2384 4600 \nL 2384 0 \nz\n\" transform=\"scale(0.015625)\"/>\n       </defs>\n       <use xlink:href=\"#ArialMT-31\"/>\n       <use xlink:href=\"#ArialMT-30\" x=\"55.615234\"/>\n       <use xlink:href=\"#ArialMT-25\" x=\"111.230469\"/>\n      </g>\n     </g>\n    </g>\n    <g id=\"ytick_3\">\n     <g id=\"line2d_12\">\n      <path d=\"M 80.795925 260.530569 \nL 705.605175 260.530569 \n\" clip-path=\"url(#p774fc4be96)\" style=\"fill: none; stroke: #dddddd; stroke-width: 0.5; stroke-linecap: round\"/>\n     </g>\n     <g id=\"text_3\">\n      <!-- 20% -->\n      <g style=\"fill: #666666\" transform=\"translate(47.078909 264.861046) scale(0.121 -0.121)\">\n       <defs>\n        <path id=\"ArialMT-32\" d=\"M 3222 541 \nL 3222 0 \nL 194 0 \nQ 188 203 259 391 \nQ 375 700 629 1000 \nQ 884 1300 1366 1694 \nQ 2113 2306 2375 2664 \nQ 2638 3022 2638 3341 \nQ 2638 3675 2398 3904 \nQ 2159 4134 1775 4134 \nQ 1369 4134 1125 3890 \nQ 881 3647 878 3216 \nL 300 3275 \nQ 359 3922 746 4261 \nQ 1134 4600 1788 4600 \nQ 2447 4600 2831 4234 \nQ 3216 3869 3216 3328 \nQ 3216 3053 3103 2787 \nQ 2991 2522 2730 2228 \nQ 2469 1934 1863 1422 \nQ 1356 997 1212 845 \nQ 1069 694 975 541 \nL 3222 541 \nz\n\" transform=\"scale(0.015625)\"/>\n       </defs>\n       <use xlink:href=\"#ArialMT-32\"/>\n       <use xlink:href=\"#ArialMT-30\" x=\"55.615234\"/>\n       <use xlink:href=\"#ArialMT-25\" x=\"111.230469\"/>\n      </g>\n     </g>\n    </g>\n    <g id=\"ytick_4\">\n     <g id=\"line2d_13\">\n      <path d=\"M 80.795925 225.064494 \nL 705.605175 225.064494 \n\" clip-path=\"url(#p774fc4be96)\" style=\"fill: none; stroke: #dddddd; stroke-width: 0.5; stroke-linecap: round\"/>\n     </g>\n     <g id=\"text_4\">\n      <!-- 30% -->\n      <g style=\"fill: #666666\" transform=\"translate(47.078909 229.39497) scale(0.121 -0.121)\">\n       <defs>\n        <path id=\"ArialMT-33\" d=\"M 269 1209 \nL 831 1284 \nQ 928 806 1161 595 \nQ 1394 384 1728 384 \nQ 2125 384 2398 659 \nQ 2672 934 2672 1341 \nQ 2672 1728 2419 1979 \nQ 2166 2231 1775 2231 \nQ 1616 2231 1378 2169 \nL 1441 2663 \nQ 1497 2656 1531 2656 \nQ 1891 2656 2178 2843 \nQ 2466 3031 2466 3422 \nQ 2466 3731 2256 3934 \nQ 2047 4138 1716 4138 \nQ 1388 4138 1169 3931 \nQ 950 3725 888 3313 \nL 325 3413 \nQ 428 3978 793 4289 \nQ 1159 4600 1703 4600 \nQ 2078 4600 2393 4439 \nQ 2709 4278 2876 4000 \nQ 3044 3722 3044 3409 \nQ 3044 3113 2884 2869 \nQ 2725 2625 2413 2481 \nQ 2819 2388 3044 2092 \nQ 3269 1797 3269 1353 \nQ 3269 753 2831 336 \nQ 2394 -81 1725 -81 \nQ 1122 -81 723 278 \nQ 325 638 269 1209 \nz\n\" transform=\"scale(0.015625)\"/>\n       </defs>\n       <use xlink:href=\"#ArialMT-33\"/>\n       <use xlink:href=\"#ArialMT-30\" x=\"55.615234\"/>\n       <use xlink:href=\"#ArialMT-25\" x=\"111.230469\"/>\n      </g>\n     </g>\n    </g>\n    <g id=\"ytick_5\">\n     <g id=\"line2d_14\">\n      <path d=\"M 80.795925 189.598418 \nL 705.605175 189.598418 \n\" clip-path=\"url(#p774fc4be96)\" style=\"fill: none; stroke: #dddddd; stroke-width: 0.5; stroke-linecap: round\"/>\n     </g>\n     <g id=\"text_5\">\n      <!-- 40% -->\n      <g style=\"fill: #666666\" transform=\"translate(47.078909 193.928895) scale(0.121 -0.121)\">\n       <defs>\n        <path id=\"ArialMT-34\" d=\"M 2069 0 \nL 2069 1097 \nL 81 1097 \nL 81 1613 \nL 2172 4581 \nL 2631 4581 \nL 2631 1613 \nL 3250 1613 \nL 3250 1097 \nL 2631 1097 \nL 2631 0 \nL 2069 0 \nz\nM 2069 1613 \nL 2069 3678 \nL 634 1613 \nL 2069 1613 \nz\n\" transform=\"scale(0.015625)\"/>\n       </defs>\n       <use xlink:href=\"#ArialMT-34\"/>\n       <use xlink:href=\"#ArialMT-30\" x=\"55.615234\"/>\n       <use xlink:href=\"#ArialMT-25\" x=\"111.230469\"/>\n      </g>\n     </g>\n    </g>\n    <g id=\"ytick_6\">\n     <g id=\"line2d_15\">\n      <path d=\"M 80.795925 154.132342 \nL 705.605175 154.132342 \n\" clip-path=\"url(#p774fc4be96)\" style=\"fill: none; stroke: #dddddd; stroke-width: 0.5; stroke-linecap: round\"/>\n     </g>\n     <g id=\"text_6\">\n      <!-- 50% -->\n      <g style=\"fill: #666666\" transform=\"translate(47.078909 158.462819) scale(0.121 -0.121)\">\n       <defs>\n        <path id=\"ArialMT-35\" d=\"M 266 1200 \nL 856 1250 \nQ 922 819 1161 601 \nQ 1400 384 1738 384 \nQ 2144 384 2425 690 \nQ 2706 997 2706 1503 \nQ 2706 1984 2436 2262 \nQ 2166 2541 1728 2541 \nQ 1456 2541 1237 2417 \nQ 1019 2294 894 2097 \nL 366 2166 \nL 809 4519 \nL 3088 4519 \nL 3088 3981 \nL 1259 3981 \nL 1013 2750 \nQ 1425 3038 1878 3038 \nQ 2478 3038 2890 2622 \nQ 3303 2206 3303 1553 \nQ 3303 931 2941 478 \nQ 2500 -78 1738 -78 \nQ 1113 -78 717 272 \nQ 322 622 266 1200 \nz\n\" transform=\"scale(0.015625)\"/>\n       </defs>\n       <use xlink:href=\"#ArialMT-35\"/>\n       <use xlink:href=\"#ArialMT-30\" x=\"55.615234\"/>\n       <use xlink:href=\"#ArialMT-25\" x=\"111.230469\"/>\n      </g>\n     </g>\n    </g>\n    <g id=\"ytick_7\">\n     <g id=\"line2d_16\">\n      <path d=\"M 80.795925 118.666267 \nL 705.605175 118.666267 \n\" clip-path=\"url(#p774fc4be96)\" style=\"fill: none; stroke: #dddddd; stroke-width: 0.5; stroke-linecap: round\"/>\n     </g>\n     <g id=\"text_7\">\n      <!-- 60% -->\n      <g style=\"fill: #666666\" transform=\"translate(47.078909 122.996744) scale(0.121 -0.121)\">\n       <defs>\n        <path id=\"ArialMT-36\" d=\"M 3184 3459 \nL 2625 3416 \nQ 2550 3747 2413 3897 \nQ 2184 4138 1850 4138 \nQ 1581 4138 1378 3988 \nQ 1113 3794 959 3422 \nQ 806 3050 800 2363 \nQ 1003 2672 1297 2822 \nQ 1591 2972 1913 2972 \nQ 2475 2972 2870 2558 \nQ 3266 2144 3266 1488 \nQ 3266 1056 3080 686 \nQ 2894 316 2569 119 \nQ 2244 -78 1831 -78 \nQ 1128 -78 684 439 \nQ 241 956 241 2144 \nQ 241 3472 731 4075 \nQ 1159 4600 1884 4600 \nQ 2425 4600 2770 4297 \nQ 3116 3994 3184 3459 \nz\nM 888 1484 \nQ 888 1194 1011 928 \nQ 1134 663 1356 523 \nQ 1578 384 1822 384 \nQ 2178 384 2434 671 \nQ 2691 959 2691 1453 \nQ 2691 1928 2437 2201 \nQ 2184 2475 1800 2475 \nQ 1419 2475 1153 2201 \nQ 888 1928 888 1484 \nz\n\" transform=\"scale(0.015625)\"/>\n       </defs>\n       <use xlink:href=\"#ArialMT-36\"/>\n       <use xlink:href=\"#ArialMT-30\" x=\"55.615234\"/>\n       <use xlink:href=\"#ArialMT-25\" x=\"111.230469\"/>\n      </g>\n     </g>\n    </g>\n    <g id=\"ytick_8\">\n     <g id=\"line2d_17\">\n      <path d=\"M 80.795925 83.200191 \nL 705.605175 83.200191 \n\" clip-path=\"url(#p774fc4be96)\" style=\"fill: none; stroke: #dddddd; stroke-width: 0.5; stroke-linecap: round\"/>\n     </g>\n     <g id=\"text_8\">\n      <!-- 70% -->\n      <g style=\"fill: #666666\" transform=\"translate(47.078909 87.530668) scale(0.121 -0.121)\">\n       <defs>\n        <path id=\"ArialMT-37\" d=\"M 303 3981 \nL 303 4522 \nL 3269 4522 \nL 3269 4084 \nQ 2831 3619 2401 2847 \nQ 1972 2075 1738 1259 \nQ 1569 684 1522 0 \nL 944 0 \nQ 953 541 1156 1306 \nQ 1359 2072 1739 2783 \nQ 2119 3494 2547 3981 \nL 303 3981 \nz\n\" transform=\"scale(0.015625)\"/>\n       </defs>\n       <use xlink:href=\"#ArialMT-37\"/>\n       <use xlink:href=\"#ArialMT-30\" x=\"55.615234\"/>\n       <use xlink:href=\"#ArialMT-25\" x=\"111.230469\"/>\n      </g>\n     </g>\n    </g>\n    <g id=\"text_9\">\n     <!-- Cumulative Return -->\n     <g style=\"fill: #262626\" transform=\"translate(15.946875 261.852857) rotate(-90) scale(0.12 -0.12)\">\n      <defs>\n       <path id=\"Arial-BoldMT-43\" d=\"M 3397 1684 \nL 4294 1400 \nQ 4088 650 3608 286 \nQ 3128 -78 2391 -78 \nQ 1478 -78 890 545 \nQ 303 1169 303 2250 \nQ 303 3394 893 4026 \nQ 1484 4659 2447 4659 \nQ 3288 4659 3813 4163 \nQ 4125 3869 4281 3319 \nL 3366 3100 \nQ 3284 3456 3026 3662 \nQ 2769 3869 2400 3869 \nQ 1891 3869 1573 3503 \nQ 1256 3138 1256 2319 \nQ 1256 1450 1568 1081 \nQ 1881 713 2381 713 \nQ 2750 713 3015 947 \nQ 3281 1181 3397 1684 \nz\n\" transform=\"scale(0.015625)\"/>\n       <path id=\"Arial-BoldMT-75\" d=\"M 2644 0 \nL 2644 497 \nQ 2463 231 2167 78 \nQ 1872 -75 1544 -75 \nQ 1209 -75 943 72 \nQ 678 219 559 484 \nQ 441 750 441 1219 \nL 441 3319 \nL 1319 3319 \nL 1319 1794 \nQ 1319 1094 1367 936 \nQ 1416 778 1544 686 \nQ 1672 594 1869 594 \nQ 2094 594 2272 717 \nQ 2450 841 2515 1023 \nQ 2581 1206 2581 1919 \nL 2581 3319 \nL 3459 3319 \nL 3459 0 \nL 2644 0 \nz\n\" transform=\"scale(0.015625)\"/>\n       <path id=\"Arial-BoldMT-6d\" d=\"M 394 3319 \nL 1203 3319 \nL 1203 2866 \nQ 1638 3394 2238 3394 \nQ 2556 3394 2790 3262 \nQ 3025 3131 3175 2866 \nQ 3394 3131 3647 3262 \nQ 3900 3394 4188 3394 \nQ 4553 3394 4806 3245 \nQ 5059 3097 5184 2809 \nQ 5275 2597 5275 2122 \nL 5275 0 \nL 4397 0 \nL 4397 1897 \nQ 4397 2391 4306 2534 \nQ 4184 2722 3931 2722 \nQ 3747 2722 3584 2609 \nQ 3422 2497 3350 2280 \nQ 3278 2063 3278 1594 \nL 3278 0 \nL 2400 0 \nL 2400 1819 \nQ 2400 2303 2353 2443 \nQ 2306 2584 2207 2653 \nQ 2109 2722 1941 2722 \nQ 1738 2722 1575 2612 \nQ 1413 2503 1342 2297 \nQ 1272 2091 1272 1613 \nL 1272 0 \nL 394 0 \nL 394 3319 \nz\n\" transform=\"scale(0.015625)\"/>\n       <path id=\"Arial-BoldMT-6c\" d=\"M 459 0 \nL 459 4581 \nL 1338 4581 \nL 1338 0 \nL 459 0 \nz\n\" transform=\"scale(0.015625)\"/>\n       <path id=\"Arial-BoldMT-61\" d=\"M 1116 2306 \nL 319 2450 \nQ 453 2931 781 3162 \nQ 1109 3394 1756 3394 \nQ 2344 3394 2631 3255 \nQ 2919 3116 3036 2902 \nQ 3153 2688 3153 2116 \nL 3144 1091 \nQ 3144 653 3186 445 \nQ 3228 238 3344 0 \nL 2475 0 \nQ 2441 88 2391 259 \nQ 2369 338 2359 363 \nQ 2134 144 1878 34 \nQ 1622 -75 1331 -75 \nQ 819 -75 523 203 \nQ 228 481 228 906 \nQ 228 1188 362 1408 \nQ 497 1628 739 1745 \nQ 981 1863 1438 1950 \nQ 2053 2066 2291 2166 \nL 2291 2253 \nQ 2291 2506 2166 2614 \nQ 2041 2722 1694 2722 \nQ 1459 2722 1328 2630 \nQ 1197 2538 1116 2306 \nz\nM 2291 1594 \nQ 2122 1538 1756 1459 \nQ 1391 1381 1278 1306 \nQ 1106 1184 1106 997 \nQ 1106 813 1243 678 \nQ 1381 544 1594 544 \nQ 1831 544 2047 700 \nQ 2206 819 2256 991 \nQ 2291 1103 2291 1419 \nL 2291 1594 \nz\n\" transform=\"scale(0.015625)\"/>\n       <path id=\"Arial-BoldMT-74\" d=\"M 1981 3319 \nL 1981 2619 \nL 1381 2619 \nL 1381 1281 \nQ 1381 875 1398 808 \nQ 1416 741 1477 697 \nQ 1538 653 1625 653 \nQ 1747 653 1978 738 \nL 2053 56 \nQ 1747 -75 1359 -75 \nQ 1122 -75 931 4 \nQ 741 84 652 211 \nQ 563 338 528 553 \nQ 500 706 500 1172 \nL 500 2619 \nL 97 2619 \nL 97 3319 \nL 500 3319 \nL 500 3978 \nL 1381 4491 \nL 1381 3319 \nL 1981 3319 \nz\n\" transform=\"scale(0.015625)\"/>\n       <path id=\"Arial-BoldMT-69\" d=\"M 459 3769 \nL 459 4581 \nL 1338 4581 \nL 1338 3769 \nL 459 3769 \nz\nM 459 0 \nL 459 3319 \nL 1338 3319 \nL 1338 0 \nL 459 0 \nz\n\" transform=\"scale(0.015625)\"/>\n       <path id=\"Arial-BoldMT-76\" d=\"M 1372 0 \nL 34 3319 \nL 956 3319 \nL 1581 1625 \nL 1763 1059 \nQ 1834 1275 1853 1344 \nQ 1897 1484 1947 1625 \nL 2578 3319 \nL 3481 3319 \nL 2163 0 \nL 1372 0 \nz\n\" transform=\"scale(0.015625)\"/>\n       <path id=\"Arial-BoldMT-65\" d=\"M 2381 1056 \nL 3256 909 \nQ 3088 428 2723 176 \nQ 2359 -75 1813 -75 \nQ 947 -75 531 491 \nQ 203 944 203 1634 \nQ 203 2459 634 2926 \nQ 1066 3394 1725 3394 \nQ 2466 3394 2894 2905 \nQ 3322 2416 3303 1406 \nL 1103 1406 \nQ 1113 1016 1316 798 \nQ 1519 581 1822 581 \nQ 2028 581 2168 693 \nQ 2309 806 2381 1056 \nz\nM 2431 1944 \nQ 2422 2325 2234 2523 \nQ 2047 2722 1778 2722 \nQ 1491 2722 1303 2513 \nQ 1116 2303 1119 1944 \nL 2431 1944 \nz\n\" transform=\"scale(0.015625)\"/>\n       <path id=\"Arial-BoldMT-20\" transform=\"scale(0.015625)\"/>\n       <path id=\"Arial-BoldMT-52\" d=\"M 469 0 \nL 469 4581 \nL 2416 4581 \nQ 3150 4581 3483 4457 \nQ 3816 4334 4016 4018 \nQ 4216 3703 4216 3297 \nQ 4216 2781 3912 2445 \nQ 3609 2109 3006 2022 \nQ 3306 1847 3501 1637 \nQ 3697 1428 4028 894 \nL 4588 0 \nL 3481 0 \nL 2813 997 \nQ 2456 1531 2325 1670 \nQ 2194 1809 2047 1861 \nQ 1900 1913 1581 1913 \nL 1394 1913 \nL 1394 0 \nL 469 0 \nz\nM 1394 2644 \nL 2078 2644 \nQ 2744 2644 2909 2700 \nQ 3075 2756 3169 2893 \nQ 3263 3031 3263 3238 \nQ 3263 3469 3139 3611 \nQ 3016 3753 2791 3791 \nQ 2678 3806 2116 3806 \nL 1394 3806 \nL 1394 2644 \nz\n\" transform=\"scale(0.015625)\"/>\n       <path id=\"Arial-BoldMT-72\" d=\"M 1300 0 \nL 422 0 \nL 422 3319 \nL 1238 3319 \nL 1238 2847 \nQ 1447 3181 1614 3287 \nQ 1781 3394 1994 3394 \nQ 2294 3394 2572 3228 \nL 2300 2463 \nQ 2078 2606 1888 2606 \nQ 1703 2606 1575 2504 \nQ 1447 2403 1373 2137 \nQ 1300 1872 1300 1025 \nL 1300 0 \nz\n\" transform=\"scale(0.015625)\"/>\n       <path id=\"Arial-BoldMT-6e\" d=\"M 3478 0 \nL 2600 0 \nL 2600 1694 \nQ 2600 2231 2544 2389 \nQ 2488 2547 2361 2634 \nQ 2234 2722 2056 2722 \nQ 1828 2722 1647 2597 \nQ 1466 2472 1398 2265 \nQ 1331 2059 1331 1503 \nL 1331 0 \nL 453 0 \nL 453 3319 \nL 1269 3319 \nL 1269 2831 \nQ 1703 3394 2363 3394 \nQ 2653 3394 2893 3289 \nQ 3134 3184 3257 3021 \nQ 3381 2859 3429 2653 \nQ 3478 2447 3478 2063 \nL 3478 0 \nz\n\" transform=\"scale(0.015625)\"/>\n      </defs>\n      <use xlink:href=\"#Arial-BoldMT-43\"/>\n      <use xlink:href=\"#Arial-BoldMT-75\" x=\"72.216797\"/>\n      <use xlink:href=\"#Arial-BoldMT-6d\" x=\"133.300781\"/>\n      <use xlink:href=\"#Arial-BoldMT-75\" x=\"222.216797\"/>\n      <use xlink:href=\"#Arial-BoldMT-6c\" x=\"283.300781\"/>\n      <use xlink:href=\"#Arial-BoldMT-61\" x=\"311.083984\"/>\n      <use xlink:href=\"#Arial-BoldMT-74\" x=\"366.699219\"/>\n      <use xlink:href=\"#Arial-BoldMT-69\" x=\"400\"/>\n      <use xlink:href=\"#Arial-BoldMT-76\" x=\"427.783203\"/>\n      <use xlink:href=\"#Arial-BoldMT-65\" x=\"483.398438\"/>\n      <use xlink:href=\"#Arial-BoldMT-20\" x=\"539.013672\"/>\n      <use xlink:href=\"#Arial-BoldMT-52\" x=\"566.796875\"/>\n      <use xlink:href=\"#Arial-BoldMT-65\" x=\"639.013672\"/>\n      <use xlink:href=\"#Arial-BoldMT-74\" x=\"694.628906\"/>\n      <use xlink:href=\"#Arial-BoldMT-75\" x=\"727.929688\"/>\n      <use xlink:href=\"#Arial-BoldMT-72\" x=\"789.013672\"/>\n      <use xlink:href=\"#Arial-BoldMT-6e\" x=\"827.929688\"/>\n     </g>\n    </g>\n   </g>\n   <g id=\"line2d_18\">\n    <path d=\"M 109.196345 331.46272 \nL 110.086641 331.46272 \nL 116.318708 331.46272 \nL 122.550775 331.46272 \nL 128.782842 331.46272 \nL 135.01491 331.46272 \nL 141.246977 331.46272 \nL 147.479044 331.46272 \nL 153.711111 331.46272 \nL 159.943178 331.46272 \nL 166.175245 331.46272 \nL 172.407313 331.46272 \nL 178.63938 331.46272 \nL 184.871447 331.46272 \nL 191.103514 331.46272 \nL 197.335581 331.46272 \nL 203.567649 331.46272 \nL 209.799716 331.46272 \nL 216.031783 331.46272 \nL 222.26385 331.46272 \nL 228.495917 331.46272 \nL 234.727984 331.46272 \nL 240.960052 331.46272 \nL 247.192119 331.46272 \nL 253.424186 331.46272 \nL 259.656253 331.46272 \nL 265.88832 331.46272 \nL 272.120388 331.46272 \nL 278.352455 331.46272 \nL 284.584522 331.746307 \nL 290.816589 298.656424 \nL 297.048656 232.739459 \nL 303.280723 207.996172 \nL 309.512791 208.031163 \nL 315.744858 208.413446 \nL 321.976925 275.351982 \nL 328.208992 253.331499 \nL 334.441059 302.147754 \nL 340.673127 283.093339 \nL 346.905194 323.927094 \nL 353.137261 302.798698 \nL 359.369328 310.496517 \nL 365.601395 299.239596 \nL 371.833463 308.278014 \nL 378.06553 328.376912 \nL 384.297597 310.389681 \nL 390.529664 287.71821 \nL 396.761731 254.683853 \nL 402.993798 228.331049 \nL 409.225866 276.030785 \nL 415.457933 247.764073 \nL 421.69 261.928271 \nL 427.922067 223.742998 \nL 434.154134 228.274207 \nL 440.386202 234.053489 \nL 446.618269 267.439647 \nL 452.850336 246.537978 \nL 459.082403 233.736861 \nL 465.31447 217.666505 \nL 471.546537 222.642462 \nL 477.778605 210.580941 \nL 484.010672 201.328341 \nL 490.242739 223.55605 \nL 496.474806 199.472895 \nL 502.706873 170.944216 \nL 508.938941 165.331009 \nL 515.171008 145.791214 \nL 521.403075 122.609578 \nL 527.635142 123.060164 \nL 533.867209 86.081866 \nL 540.099276 127.562022 \nL 546.331344 120.934339 \nL 552.563411 120.934339 \nL 558.795478 121.160415 \nL 565.027545 119.530251 \nL 571.259612 119.983299 \nL 577.49168 132.607268 \nL 583.723747 106.377556 \nL 589.955814 85.283157 \nL 596.187881 142.668931 \nL 602.419948 131.625843 \nL 608.652016 158.539852 \nL 614.884083 178.257959 \nL 621.11615 173.775694 \nL 627.348217 190.788796 \nL 633.580284 169.472395 \nL 639.812351 177.838187 \nL 646.044419 241.115197 \nL 652.276486 230.652276 \nL 658.508553 222.698096 \nL 664.74062 222.883466 \nL 670.972687 218.715558 \nL 677.204755 218.96478 \n\" clip-path=\"url(#p774fc4be96)\" style=\"fill: none; stroke: #348dc1; stroke-width: 1.5; stroke-linecap: round\"/>\n   </g>\n   <g id=\"text_10\">\n    <!--  -->\n    <g style=\"fill: #808080\" transform=\"translate(393.20055 54.09225) scale(0.12 -0.12)\"/>\n    <!-- 26 Dec '21 - 25 Sep '23 ;  Sharpe: 1.37                       -->\n    <g style=\"fill: #808080\" transform=\"translate(253.177425 66.96) scale(0.12 -0.12)\">\n     <defs>\n      <path id=\"ArialMT-20\" transform=\"scale(0.015625)\"/>\n      <path id=\"ArialMT-44\" d=\"M 494 0 \nL 494 4581 \nL 2072 4581 \nQ 2606 4581 2888 4516 \nQ 3281 4425 3559 4188 \nQ 3922 3881 4101 3404 \nQ 4281 2928 4281 2316 \nQ 4281 1794 4159 1391 \nQ 4038 988 3847 723 \nQ 3656 459 3429 307 \nQ 3203 156 2883 78 \nQ 2563 0 2147 0 \nL 494 0 \nz\nM 1100 541 \nL 2078 541 \nQ 2531 541 2789 625 \nQ 3047 709 3200 863 \nQ 3416 1078 3536 1442 \nQ 3656 1806 3656 2325 \nQ 3656 3044 3420 3430 \nQ 3184 3816 2847 3947 \nQ 2603 4041 2063 4041 \nL 1100 4041 \nL 1100 541 \nz\n\" transform=\"scale(0.015625)\"/>\n      <path id=\"ArialMT-65\" d=\"M 2694 1069 \nL 3275 997 \nQ 3138 488 2766 206 \nQ 2394 -75 1816 -75 \nQ 1088 -75 661 373 \nQ 234 822 234 1631 \nQ 234 2469 665 2931 \nQ 1097 3394 1784 3394 \nQ 2450 3394 2872 2941 \nQ 3294 2488 3294 1666 \nQ 3294 1616 3291 1516 \nL 816 1516 \nQ 847 969 1125 678 \nQ 1403 388 1819 388 \nQ 2128 388 2347 550 \nQ 2566 713 2694 1069 \nz\nM 847 1978 \nL 2700 1978 \nQ 2663 2397 2488 2606 \nQ 2219 2931 1791 2931 \nQ 1403 2931 1139 2672 \nQ 875 2413 847 1978 \nz\n\" transform=\"scale(0.015625)\"/>\n      <path id=\"ArialMT-63\" d=\"M 2588 1216 \nL 3141 1144 \nQ 3050 572 2676 248 \nQ 2303 -75 1759 -75 \nQ 1078 -75 664 370 \nQ 250 816 250 1647 \nQ 250 2184 428 2587 \nQ 606 2991 970 3192 \nQ 1334 3394 1763 3394 \nQ 2303 3394 2647 3120 \nQ 2991 2847 3088 2344 \nL 2541 2259 \nQ 2463 2594 2264 2762 \nQ 2066 2931 1784 2931 \nQ 1359 2931 1093 2626 \nQ 828 2322 828 1663 \nQ 828 994 1084 691 \nQ 1341 388 1753 388 \nQ 2084 388 2306 591 \nQ 2528 794 2588 1216 \nz\n\" transform=\"scale(0.015625)\"/>\n      <path id=\"ArialMT-27\" d=\"M 425 2959 \nL 281 3816 \nL 281 4581 \nL 922 4581 \nL 922 3816 \nL 772 2959 \nL 425 2959 \nz\n\" transform=\"scale(0.015625)\"/>\n      <path id=\"ArialMT-2d\" d=\"M 203 1375 \nL 203 1941 \nL 1931 1941 \nL 1931 1375 \nL 203 1375 \nz\n\" transform=\"scale(0.015625)\"/>\n      <path id=\"ArialMT-53\" d=\"M 288 1472 \nL 859 1522 \nQ 900 1178 1048 958 \nQ 1197 738 1509 602 \nQ 1822 466 2213 466 \nQ 2559 466 2825 569 \nQ 3091 672 3220 851 \nQ 3350 1031 3350 1244 \nQ 3350 1459 3225 1620 \nQ 3100 1781 2813 1891 \nQ 2628 1963 1997 2114 \nQ 1366 2266 1113 2400 \nQ 784 2572 623 2826 \nQ 463 3081 463 3397 \nQ 463 3744 659 4045 \nQ 856 4347 1234 4503 \nQ 1613 4659 2075 4659 \nQ 2584 4659 2973 4495 \nQ 3363 4331 3572 4012 \nQ 3781 3694 3797 3291 \nL 3216 3247 \nQ 3169 3681 2898 3903 \nQ 2628 4125 2100 4125 \nQ 1550 4125 1298 3923 \nQ 1047 3722 1047 3438 \nQ 1047 3191 1225 3031 \nQ 1400 2872 2139 2705 \nQ 2878 2538 3153 2413 \nQ 3553 2228 3743 1945 \nQ 3934 1663 3934 1294 \nQ 3934 928 3725 604 \nQ 3516 281 3123 101 \nQ 2731 -78 2241 -78 \nQ 1619 -78 1198 103 \nQ 778 284 539 648 \nQ 300 1013 288 1472 \nz\n\" transform=\"scale(0.015625)\"/>\n      <path id=\"ArialMT-70\" d=\"M 422 -1272 \nL 422 3319 \nL 934 3319 \nL 934 2888 \nQ 1116 3141 1344 3267 \nQ 1572 3394 1897 3394 \nQ 2322 3394 2647 3175 \nQ 2972 2956 3137 2557 \nQ 3303 2159 3303 1684 \nQ 3303 1175 3120 767 \nQ 2938 359 2589 142 \nQ 2241 -75 1856 -75 \nQ 1575 -75 1351 44 \nQ 1128 163 984 344 \nL 984 -1272 \nL 422 -1272 \nz\nM 931 1641 \nQ 931 1000 1190 694 \nQ 1450 388 1819 388 \nQ 2194 388 2461 705 \nQ 2728 1022 2728 1688 \nQ 2728 2322 2467 2637 \nQ 2206 2953 1844 2953 \nQ 1484 2953 1207 2617 \nQ 931 2281 931 1641 \nz\n\" transform=\"scale(0.015625)\"/>\n      <path id=\"ArialMT-3b\" d=\"M 569 2678 \nL 569 3319 \nL 1209 3319 \nL 1209 2678 \nL 569 2678 \nz\nM 569 0 \nL 569 641 \nL 1209 641 \nL 1209 0 \nQ 1209 -353 1084 -570 \nQ 959 -788 688 -906 \nL 531 -666 \nQ 709 -588 793 -436 \nQ 878 -284 888 0 \nL 569 0 \nz\n\" transform=\"scale(0.015625)\"/>\n      <path id=\"ArialMT-68\" d=\"M 422 0 \nL 422 4581 \nL 984 4581 \nL 984 2938 \nQ 1378 3394 1978 3394 \nQ 2347 3394 2619 3248 \nQ 2891 3103 3008 2847 \nQ 3125 2591 3125 2103 \nL 3125 0 \nL 2563 0 \nL 2563 2103 \nQ 2563 2525 2380 2717 \nQ 2197 2909 1863 2909 \nQ 1613 2909 1392 2779 \nQ 1172 2650 1078 2428 \nQ 984 2206 984 1816 \nL 984 0 \nL 422 0 \nz\n\" transform=\"scale(0.015625)\"/>\n      <path id=\"ArialMT-61\" d=\"M 2588 409 \nQ 2275 144 1986 34 \nQ 1697 -75 1366 -75 \nQ 819 -75 525 192 \nQ 231 459 231 875 \nQ 231 1119 342 1320 \nQ 453 1522 633 1644 \nQ 813 1766 1038 1828 \nQ 1203 1872 1538 1913 \nQ 2219 1994 2541 2106 \nQ 2544 2222 2544 2253 \nQ 2544 2597 2384 2738 \nQ 2169 2928 1744 2928 \nQ 1347 2928 1158 2789 \nQ 969 2650 878 2297 \nL 328 2372 \nQ 403 2725 575 2942 \nQ 747 3159 1072 3276 \nQ 1397 3394 1825 3394 \nQ 2250 3394 2515 3294 \nQ 2781 3194 2906 3042 \nQ 3031 2891 3081 2659 \nQ 3109 2516 3109 2141 \nL 3109 1391 \nQ 3109 606 3145 398 \nQ 3181 191 3288 0 \nL 2700 0 \nQ 2613 175 2588 409 \nz\nM 2541 1666 \nQ 2234 1541 1622 1453 \nQ 1275 1403 1131 1340 \nQ 988 1278 909 1158 \nQ 831 1038 831 891 \nQ 831 666 1001 516 \nQ 1172 366 1500 366 \nQ 1825 366 2078 508 \nQ 2331 650 2450 897 \nQ 2541 1088 2541 1459 \nL 2541 1666 \nz\n\" transform=\"scale(0.015625)\"/>\n      <path id=\"ArialMT-72\" d=\"M 416 0 \nL 416 3319 \nL 922 3319 \nL 922 2816 \nQ 1116 3169 1280 3281 \nQ 1444 3394 1641 3394 \nQ 1925 3394 2219 3213 \nL 2025 2691 \nQ 1819 2813 1613 2813 \nQ 1428 2813 1281 2702 \nQ 1134 2591 1072 2394 \nQ 978 2094 978 1738 \nL 978 0 \nL 416 0 \nz\n\" transform=\"scale(0.015625)\"/>\n      <path id=\"ArialMT-3a\" d=\"M 578 2678 \nL 578 3319 \nL 1219 3319 \nL 1219 2678 \nL 578 2678 \nz\nM 578 0 \nL 578 641 \nL 1219 641 \nL 1219 0 \nL 578 0 \nz\n\" transform=\"scale(0.015625)\"/>\n      <path id=\"ArialMT-2e\" d=\"M 581 0 \nL 581 641 \nL 1222 641 \nL 1222 0 \nL 581 0 \nz\n\" transform=\"scale(0.015625)\"/>\n     </defs>\n     <use xlink:href=\"#ArialMT-32\"/>\n     <use xlink:href=\"#ArialMT-36\" x=\"55.615234\"/>\n     <use xlink:href=\"#ArialMT-20\" x=\"111.230469\"/>\n     <use xlink:href=\"#ArialMT-44\" x=\"139.013672\"/>\n     <use xlink:href=\"#ArialMT-65\" x=\"211.230469\"/>\n     <use xlink:href=\"#ArialMT-63\" x=\"266.845703\"/>\n     <use xlink:href=\"#ArialMT-20\" x=\"316.845703\"/>\n     <use xlink:href=\"#ArialMT-27\" x=\"344.628906\"/>\n     <use xlink:href=\"#ArialMT-32\" x=\"363.720703\"/>\n     <use xlink:href=\"#ArialMT-31\" x=\"419.335938\"/>\n     <use xlink:href=\"#ArialMT-20\" x=\"474.951172\"/>\n     <use xlink:href=\"#ArialMT-2d\" x=\"502.734375\"/>\n     <use xlink:href=\"#ArialMT-20\" x=\"536.035156\"/>\n     <use xlink:href=\"#ArialMT-32\" x=\"563.818359\"/>\n     <use xlink:href=\"#ArialMT-35\" x=\"619.433594\"/>\n     <use xlink:href=\"#ArialMT-20\" x=\"675.048828\"/>\n     <use xlink:href=\"#ArialMT-53\" x=\"702.832031\"/>\n     <use xlink:href=\"#ArialMT-65\" x=\"769.53125\"/>\n     <use xlink:href=\"#ArialMT-70\" x=\"825.146484\"/>\n     <use xlink:href=\"#ArialMT-20\" x=\"880.761719\"/>\n     <use xlink:href=\"#ArialMT-27\" x=\"908.544922\"/>\n     <use xlink:href=\"#ArialMT-32\" x=\"927.636719\"/>\n     <use xlink:href=\"#ArialMT-33\" x=\"983.251953\"/>\n     <use xlink:href=\"#ArialMT-20\" x=\"1038.867188\"/>\n     <use xlink:href=\"#ArialMT-3b\" x=\"1066.650391\"/>\n     <use xlink:href=\"#ArialMT-20\" x=\"1094.433594\"/>\n     <use xlink:href=\"#ArialMT-20\" x=\"1122.216797\"/>\n     <use xlink:href=\"#ArialMT-53\" x=\"1150\"/>\n     <use xlink:href=\"#ArialMT-68\" x=\"1216.699219\"/>\n     <use xlink:href=\"#ArialMT-61\" x=\"1272.314453\"/>\n     <use xlink:href=\"#ArialMT-72\" x=\"1327.929688\"/>\n     <use xlink:href=\"#ArialMT-70\" x=\"1361.230469\"/>\n     <use xlink:href=\"#ArialMT-65\" x=\"1416.845703\"/>\n     <use xlink:href=\"#ArialMT-3a\" x=\"1472.460938\"/>\n     <use xlink:href=\"#ArialMT-20\" x=\"1500.244141\"/>\n     <use xlink:href=\"#ArialMT-31\" x=\"1528.027344\"/>\n     <use xlink:href=\"#ArialMT-2e\" x=\"1583.642578\"/>\n     <use xlink:href=\"#ArialMT-33\" x=\"1611.425781\"/>\n     <use xlink:href=\"#ArialMT-37\" x=\"1667.041016\"/>\n     <use xlink:href=\"#ArialMT-20\" x=\"1722.65625\"/>\n     <use xlink:href=\"#ArialMT-20\" x=\"1750.439453\"/>\n     <use xlink:href=\"#ArialMT-20\" x=\"1778.222656\"/>\n     <use xlink:href=\"#ArialMT-20\" x=\"1806.005859\"/>\n     <use xlink:href=\"#ArialMT-20\" x=\"1833.789062\"/>\n     <use xlink:href=\"#ArialMT-20\" x=\"1861.572266\"/>\n     <use xlink:href=\"#ArialMT-20\" x=\"1889.355469\"/>\n     <use xlink:href=\"#ArialMT-20\" x=\"1917.138672\"/>\n     <use xlink:href=\"#ArialMT-20\" x=\"1944.921875\"/>\n     <use xlink:href=\"#ArialMT-20\" x=\"1972.705078\"/>\n     <use xlink:href=\"#ArialMT-20\" x=\"2000.488281\"/>\n     <use xlink:href=\"#ArialMT-20\" x=\"2028.271484\"/>\n     <use xlink:href=\"#ArialMT-20\" x=\"2056.054688\"/>\n     <use xlink:href=\"#ArialMT-20\" x=\"2083.837891\"/>\n     <use xlink:href=\"#ArialMT-20\" x=\"2111.621094\"/>\n     <use xlink:href=\"#ArialMT-20\" x=\"2139.404297\"/>\n     <use xlink:href=\"#ArialMT-20\" x=\"2167.1875\"/>\n     <use xlink:href=\"#ArialMT-20\" x=\"2194.970703\"/>\n     <use xlink:href=\"#ArialMT-20\" x=\"2222.753906\"/>\n     <use xlink:href=\"#ArialMT-20\" x=\"2250.537109\"/>\n     <use xlink:href=\"#ArialMT-20\" x=\"2278.320312\"/>\n     <use xlink:href=\"#ArialMT-20\" x=\"2306.103516\"/>\n    </g>\n   </g>\n  </g>\n  <g id=\"axes_2\">\n   <g id=\"patch_3\">\n    <path d=\"M 80.795925 434.570195 \nL 705.605175 434.570195 \nL 705.605175 344.200374 \nL 80.795925 344.200374 \nz\n\" style=\"fill: #ffffff\"/>\n   </g>\n   <g id=\"line2d_19\">\n    <path d=\"M 80.795925 348.308093 \nL 705.605175 348.308093 \n\" clip-path=\"url(#p0de03e8948)\" style=\"fill: none; stroke: #c0c0c0; stroke-linecap: round\"/>\n   </g>\n   <g id=\"matplotlib.axis_3\">\n    <g id=\"xtick_9\">\n     <g id=\"line2d_20\">\n      <path d=\"M 114.538117 434.570195 \nL 114.538117 344.200374 \n\" clip-path=\"url(#p0de03e8948)\" style=\"fill: none; stroke: #dddddd; stroke-width: 0.5; stroke-linecap: round\"/>\n     </g>\n    </g>\n    <g id=\"xtick_10\">\n     <g id=\"line2d_21\">\n      <path d=\"M 194.664695 434.570195 \nL 194.664695 344.200374 \n\" clip-path=\"url(#p0de03e8948)\" style=\"fill: none; stroke: #dddddd; stroke-width: 0.5; stroke-linecap: round\"/>\n     </g>\n    </g>\n    <g id=\"xtick_11\">\n     <g id=\"line2d_22\">\n      <path d=\"M 275.681569 434.570195 \nL 275.681569 344.200374 \n\" clip-path=\"url(#p0de03e8948)\" style=\"fill: none; stroke: #dddddd; stroke-width: 0.5; stroke-linecap: round\"/>\n     </g>\n    </g>\n    <g id=\"xtick_12\">\n     <g id=\"line2d_23\">\n      <path d=\"M 357.588738 434.570195 \nL 357.588738 344.200374 \n\" clip-path=\"url(#p0de03e8948)\" style=\"fill: none; stroke: #dddddd; stroke-width: 0.5; stroke-linecap: round\"/>\n     </g>\n    </g>\n    <g id=\"xtick_13\">\n     <g id=\"line2d_24\">\n      <path d=\"M 439.495906 434.570195 \nL 439.495906 344.200374 \n\" clip-path=\"url(#p0de03e8948)\" style=\"fill: none; stroke: #dddddd; stroke-width: 0.5; stroke-linecap: round\"/>\n     </g>\n    </g>\n    <g id=\"xtick_14\">\n     <g id=\"line2d_25\">\n      <path d=\"M 519.622484 434.570195 \nL 519.622484 344.200374 \n\" clip-path=\"url(#p0de03e8948)\" style=\"fill: none; stroke: #dddddd; stroke-width: 0.5; stroke-linecap: round\"/>\n     </g>\n    </g>\n    <g id=\"xtick_15\">\n     <g id=\"line2d_26\">\n      <path d=\"M 600.639358 434.570195 \nL 600.639358 344.200374 \n\" clip-path=\"url(#p0de03e8948)\" style=\"fill: none; stroke: #dddddd; stroke-width: 0.5; stroke-linecap: round\"/>\n     </g>\n    </g>\n    <g id=\"xtick_16\">\n     <g id=\"line2d_27\">\n      <path d=\"M 682.546526 434.570195 \nL 682.546526 344.200374 \n\" clip-path=\"url(#p0de03e8948)\" style=\"fill: none; stroke: #dddddd; stroke-width: 0.5; stroke-linecap: round\"/>\n     </g>\n    </g>\n   </g>\n   <g id=\"matplotlib.axis_4\">\n    <g id=\"ytick_9\">\n     <g id=\"line2d_28\">\n      <path d=\"M 80.795925 411.660489 \nL 705.605175 411.660489 \n\" clip-path=\"url(#p0de03e8948)\" style=\"fill: none; stroke: #dddddd; stroke-width: 0.5; stroke-linecap: round\"/>\n     </g>\n     <g id=\"text_11\">\n      <!-- -20% -->\n      <g style=\"fill: #666666\" transform=\"translate(43.049987 415.990966) scale(0.121 -0.121)\">\n       <use xlink:href=\"#ArialMT-2d\"/>\n       <use xlink:href=\"#ArialMT-32\" x=\"33.300781\"/>\n       <use xlink:href=\"#ArialMT-30\" x=\"88.916016\"/>\n       <use xlink:href=\"#ArialMT-25\" x=\"144.53125\"/>\n      </g>\n     </g>\n    </g>\n    <g id=\"ytick_10\">\n     <g id=\"line2d_29\">\n      <path d=\"M 80.795925 379.984291 \nL 705.605175 379.984291 \n\" clip-path=\"url(#p0de03e8948)\" style=\"fill: none; stroke: #dddddd; stroke-width: 0.5; stroke-linecap: round\"/>\n     </g>\n     <g id=\"text_12\">\n      <!-- -10% -->\n      <g style=\"fill: #666666\" transform=\"translate(43.049987 384.314767) scale(0.121 -0.121)\">\n       <use xlink:href=\"#ArialMT-2d\"/>\n       <use xlink:href=\"#ArialMT-31\" x=\"33.300781\"/>\n       <use xlink:href=\"#ArialMT-30\" x=\"88.916016\"/>\n       <use xlink:href=\"#ArialMT-25\" x=\"144.53125\"/>\n      </g>\n     </g>\n    </g>\n    <g id=\"ytick_11\">\n     <g id=\"line2d_30\">\n      <path d=\"M 80.795925 348.308093 \nL 705.605175 348.308093 \n\" clip-path=\"url(#p0de03e8948)\" style=\"fill: none; stroke: #dddddd; stroke-width: 0.5; stroke-linecap: round\"/>\n     </g>\n     <g id=\"text_13\">\n      <!-- 0% -->\n      <g style=\"fill: #666666\" transform=\"translate(53.807644 352.638569) scale(0.121 -0.121)\">\n       <use xlink:href=\"#ArialMT-30\"/>\n       <use xlink:href=\"#ArialMT-25\" x=\"55.615234\"/>\n      </g>\n     </g>\n    </g>\n    <g id=\"text_14\">\n     <!-- Drawdown -->\n     <g style=\"fill: #262626\" transform=\"translate(15.946875 419.718097) rotate(-90) scale(0.12 -0.12)\">\n      <defs>\n       <path id=\"Arial-BoldMT-44\" d=\"M 463 4581 \nL 2153 4581 \nQ 2725 4581 3025 4494 \nQ 3428 4375 3715 4072 \nQ 4003 3769 4153 3330 \nQ 4303 2891 4303 2247 \nQ 4303 1681 4163 1272 \nQ 3991 772 3672 463 \nQ 3431 228 3022 97 \nQ 2716 0 2203 0 \nL 463 0 \nL 463 4581 \nz\nM 1388 3806 \nL 1388 772 \nL 2078 772 \nQ 2466 772 2638 816 \nQ 2863 872 3011 1006 \nQ 3159 1141 3253 1448 \nQ 3347 1756 3347 2288 \nQ 3347 2819 3253 3103 \nQ 3159 3388 2990 3547 \nQ 2822 3706 2563 3763 \nQ 2369 3806 1803 3806 \nL 1388 3806 \nz\n\" transform=\"scale(0.015625)\"/>\n       <path id=\"Arial-BoldMT-77\" d=\"M 1078 0 \nL 28 3319 \nL 881 3319 \nL 1503 1144 \nL 2075 3319 \nL 2922 3319 \nL 3475 1144 \nL 4109 3319 \nL 4975 3319 \nL 3909 0 \nL 3066 0 \nL 2494 2134 \nL 1931 0 \nL 1078 0 \nz\n\" transform=\"scale(0.015625)\"/>\n       <path id=\"Arial-BoldMT-64\" d=\"M 3503 0 \nL 2688 0 \nL 2688 488 \nQ 2484 203 2207 64 \nQ 1931 -75 1650 -75 \nQ 1078 -75 670 386 \nQ 263 847 263 1672 \nQ 263 2516 659 2955 \nQ 1056 3394 1663 3394 \nQ 2219 3394 2625 2931 \nL 2625 4581 \nL 3503 4581 \nL 3503 0 \nz\nM 1159 1731 \nQ 1159 1200 1306 963 \nQ 1519 619 1900 619 \nQ 2203 619 2415 876 \nQ 2628 1134 2628 1647 \nQ 2628 2219 2422 2470 \nQ 2216 2722 1894 2722 \nQ 1581 2722 1370 2473 \nQ 1159 2225 1159 1731 \nz\n\" transform=\"scale(0.015625)\"/>\n       <path id=\"Arial-BoldMT-6f\" d=\"M 256 1706 \nQ 256 2144 472 2553 \nQ 688 2963 1083 3178 \nQ 1478 3394 1966 3394 \nQ 2719 3394 3200 2905 \nQ 3681 2416 3681 1669 \nQ 3681 916 3195 420 \nQ 2709 -75 1972 -75 \nQ 1516 -75 1102 131 \nQ 688 338 472 736 \nQ 256 1134 256 1706 \nz\nM 1156 1659 \nQ 1156 1166 1390 903 \nQ 1625 641 1969 641 \nQ 2313 641 2545 903 \nQ 2778 1166 2778 1666 \nQ 2778 2153 2545 2415 \nQ 2313 2678 1969 2678 \nQ 1625 2678 1390 2415 \nQ 1156 2153 1156 1659 \nz\n\" transform=\"scale(0.015625)\"/>\n      </defs>\n      <use xlink:href=\"#Arial-BoldMT-44\"/>\n      <use xlink:href=\"#Arial-BoldMT-72\" x=\"72.216797\"/>\n      <use xlink:href=\"#Arial-BoldMT-61\" x=\"111.132812\"/>\n      <use xlink:href=\"#Arial-BoldMT-77\" x=\"166.748047\"/>\n      <use xlink:href=\"#Arial-BoldMT-64\" x=\"244.53125\"/>\n      <use xlink:href=\"#Arial-BoldMT-6f\" x=\"305.615234\"/>\n      <use xlink:href=\"#Arial-BoldMT-77\" x=\"366.699219\"/>\n      <use xlink:href=\"#Arial-BoldMT-6e\" x=\"444.482422\"/>\n     </g>\n    </g>\n   </g>\n   <g id=\"line2d_31\">\n    <path d=\"M 109.196345 348.308093 \nL 110.086641 348.308093 \nL 116.318708 348.308093 \nL 122.550775 348.308093 \nL 128.782842 348.308093 \nL 135.01491 348.308093 \nL 141.246977 348.308093 \nL 147.479044 348.308093 \nL 153.711111 348.308093 \nL 159.943178 348.308093 \nL 166.175245 348.308093 \nL 172.407313 348.308093 \nL 178.63938 348.308093 \nL 184.871447 348.308093 \nL 191.103514 348.308093 \nL 197.335581 348.308093 \nL 203.567649 348.308093 \nL 209.799716 348.308093 \nL 216.031783 348.308093 \nL 222.26385 348.308093 \nL 228.495917 348.308093 \nL 234.727984 348.308093 \nL 240.960052 348.308093 \nL 247.192119 348.308093 \nL 253.424186 348.308093 \nL 259.656253 348.308093 \nL 265.88832 348.308093 \nL 272.120388 348.308093 \nL 278.352455 348.308093 \nL 284.584522 348.561376 \nL 290.816589 348.308093 \nL 297.048656 348.308093 \nL 303.280723 348.308093 \nL 309.512791 348.331275 \nL 315.744858 348.584539 \nL 321.976925 392.931689 \nL 328.208992 378.342997 \nL 334.441059 410.684036 \nL 340.673127 398.060381 \nL 346.905194 425.11297 \nL 353.137261 411.11529 \nL 359.369328 416.215138 \nL 365.601395 408.757365 \nL 371.833463 414.745367 \nL 378.06553 428.060998 \nL 384.297597 416.144359 \nL 390.529664 401.124384 \nL 396.761731 379.23894 \nL 402.993798 361.780062 \nL 409.225866 393.3814 \nL 415.457933 374.654547 \nL 421.69 384.038407 \nL 427.922067 358.740452 \nL 434.154134 361.742403 \nL 440.386202 365.57121 \nL 446.618269 387.689724 \nL 452.850336 373.842252 \nL 459.082403 365.361442 \nL 465.31447 354.714742 \nL 471.546537 358.011341 \nL 477.778605 350.020516 \nL 484.010672 348.308093 \nL 490.242739 362.831533 \nL 496.474806 348.308093 \nL 502.706873 348.308093 \nL 508.938941 348.308093 \nL 515.171008 348.308093 \nL 521.403075 348.308093 \nL 527.635142 348.561376 \nL 533.867209 348.308093 \nL 540.099276 370.205468 \nL 546.331344 366.706714 \nL 552.563411 366.706714 \nL 558.795478 366.826059 \nL 565.027545 365.965496 \nL 571.259612 366.20466 \nL 577.49168 372.868853 \nL 583.723747 359.022188 \nL 589.955814 348.308093 \nL 596.187881 378.561774 \nL 602.419948 372.739877 \nL 608.652016 386.928896 \nL 614.884083 397.324248 \nL 621.11615 394.961206 \nL 627.348217 403.930484 \nL 633.580284 392.692514 \nL 639.812351 397.102945 \nL 646.044419 430.462476 \nL 652.276486 424.946442 \nL 658.508553 420.753012 \nL 664.74062 420.850739 \nL 670.972687 418.653425 \nL 677.204755 418.784814 \n\" clip-path=\"url(#p0de03e8948)\" style=\"fill: none; stroke: #af4b64; stroke-width: 1.5; stroke-linecap: round\"/>\n   </g>\n   <g id=\"PolyCollection_1\">\n    <defs>\n     <path id=\"m7b707e2141\" d=\"M 109.196345 -225.246785 \nL 109.196345 -225.246785 \nL 110.086641 -225.246785 \nL 116.318708 -225.246785 \nL 122.550775 -225.246785 \nL 128.782842 -225.246785 \nL 135.01491 -225.246785 \nL 141.246977 -225.246785 \nL 147.479044 -225.246785 \nL 153.711111 -225.246785 \nL 159.943178 -225.246785 \nL 166.175245 -225.246785 \nL 172.407313 -225.246785 \nL 178.63938 -225.246785 \nL 184.871447 -225.246785 \nL 191.103514 -225.246785 \nL 197.335581 -225.246785 \nL 203.567649 -225.246785 \nL 209.799716 -225.246785 \nL 216.031783 -225.246785 \nL 222.26385 -225.246785 \nL 228.495917 -225.246785 \nL 234.727984 -225.246785 \nL 240.960052 -225.246785 \nL 247.192119 -225.246785 \nL 253.424186 -225.246785 \nL 259.656253 -225.246785 \nL 265.88832 -225.246785 \nL 272.120388 -225.246785 \nL 278.352455 -225.246785 \nL 284.584522 -225.246785 \nL 290.816589 -225.246785 \nL 297.048656 -225.246785 \nL 303.280723 -225.246785 \nL 309.512791 -225.246785 \nL 315.744858 -225.246785 \nL 321.976925 -225.246785 \nL 328.208992 -225.246785 \nL 334.441059 -225.246785 \nL 340.673127 -225.246785 \nL 346.905194 -225.246785 \nL 353.137261 -225.246785 \nL 359.369328 -225.246785 \nL 365.601395 -225.246785 \nL 371.833463 -225.246785 \nL 378.06553 -225.246785 \nL 384.297597 -225.246785 \nL 390.529664 -225.246785 \nL 396.761731 -225.246785 \nL 402.993798 -225.246785 \nL 409.225866 -225.246785 \nL 415.457933 -225.246785 \nL 421.69 -225.246785 \nL 427.922067 -225.246785 \nL 434.154134 -225.246785 \nL 440.386202 -225.246785 \nL 446.618269 -225.246785 \nL 452.850336 -225.246785 \nL 459.082403 -225.246785 \nL 465.31447 -225.246785 \nL 471.546537 -225.246785 \nL 477.778605 -225.246785 \nL 484.010672 -225.246785 \nL 490.242739 -225.246785 \nL 496.474806 -225.246785 \nL 502.706873 -225.246785 \nL 508.938941 -225.246785 \nL 515.171008 -225.246785 \nL 521.403075 -225.246785 \nL 527.635142 -225.246785 \nL 533.867209 -225.246785 \nL 540.099276 -225.246785 \nL 546.331344 -225.246785 \nL 552.563411 -225.246785 \nL 558.795478 -225.246785 \nL 565.027545 -225.246785 \nL 571.259612 -225.246785 \nL 577.49168 -225.246785 \nL 583.723747 -225.246785 \nL 589.955814 -225.246785 \nL 596.187881 -225.246785 \nL 602.419948 -225.246785 \nL 608.652016 -225.246785 \nL 614.884083 -225.246785 \nL 621.11615 -225.246785 \nL 627.348217 -225.246785 \nL 633.580284 -225.246785 \nL 639.812351 -225.246785 \nL 646.044419 -225.246785 \nL 652.276486 -225.246785 \nL 658.508553 -225.246785 \nL 664.74062 -225.246785 \nL 670.972687 -225.246785 \nL 677.204755 -225.246785 \nL 677.204755 -154.770064 \nL 677.204755 -154.770064 \nL 670.972687 -154.901453 \nL 664.74062 -152.704139 \nL 658.508553 -152.801866 \nL 652.276486 -148.608436 \nL 646.044419 -143.092402 \nL 639.812351 -176.451933 \nL 633.580284 -180.862364 \nL 627.348217 -169.624394 \nL 621.11615 -178.593672 \nL 614.884083 -176.23063 \nL 608.652016 -186.625982 \nL 602.419948 -200.815001 \nL 596.187881 -194.993104 \nL 589.955814 -225.246785 \nL 583.723747 -214.53269 \nL 577.49168 -200.686024 \nL 571.259612 -207.350218 \nL 565.027545 -207.589382 \nL 558.795478 -206.728819 \nL 552.563411 -206.848164 \nL 546.331344 -206.848164 \nL 540.099276 -203.34941 \nL 533.867209 -225.246785 \nL 527.635142 -224.993502 \nL 521.403075 -225.246785 \nL 515.171008 -225.246785 \nL 508.938941 -225.246785 \nL 502.706873 -225.246785 \nL 496.474806 -225.246785 \nL 490.242739 -210.723345 \nL 484.010672 -225.246785 \nL 477.778605 -223.534362 \nL 471.546537 -215.543537 \nL 465.31447 -218.840136 \nL 459.082403 -208.193436 \nL 452.850336 -199.712626 \nL 446.618269 -185.865154 \nL 440.386202 -207.983668 \nL 434.154134 -211.812475 \nL 427.922067 -214.814426 \nL 421.69 -189.516471 \nL 415.457933 -198.900331 \nL 409.225866 -180.173478 \nL 402.993798 -211.774816 \nL 396.761731 -194.315938 \nL 390.529664 -172.430494 \nL 384.297597 -157.410519 \nL 378.06553 -145.49388 \nL 371.833463 -158.80951 \nL 365.601395 -164.797513 \nL 359.369328 -157.33974 \nL 353.137261 -162.439588 \nL 346.905194 -148.441908 \nL 340.673127 -175.494497 \nL 334.441059 -162.870842 \nL 328.208992 -195.21188 \nL 321.976925 -180.623189 \nL 315.744858 -224.970339 \nL 309.512791 -225.223603 \nL 303.280723 -225.246785 \nL 297.048656 -225.246785 \nL 290.816589 -225.246785 \nL 284.584522 -224.993502 \nL 278.352455 -225.246785 \nL 272.120388 -225.246785 \nL 265.88832 -225.246785 \nL 259.656253 -225.246785 \nL 253.424186 -225.246785 \nL 247.192119 -225.246785 \nL 240.960052 -225.246785 \nL 234.727984 -225.246785 \nL 228.495917 -225.246785 \nL 222.26385 -225.246785 \nL 216.031783 -225.246785 \nL 209.799716 -225.246785 \nL 203.567649 -225.246785 \nL 197.335581 -225.246785 \nL 191.103514 -225.246785 \nL 184.871447 -225.246785 \nL 178.63938 -225.246785 \nL 172.407313 -225.246785 \nL 166.175245 -225.246785 \nL 159.943178 -225.246785 \nL 153.711111 -225.246785 \nL 147.479044 -225.246785 \nL 141.246977 -225.246785 \nL 135.01491 -225.246785 \nL 128.782842 -225.246785 \nL 122.550775 -225.246785 \nL 116.318708 -225.246785 \nL 110.086641 -225.246785 \nL 109.196345 -225.246785 \nz\n\" style=\"stroke: #af4b64; stroke-opacity: 0.1\"/>\n    </defs>\n    <g clip-path=\"url(#p0de03e8948)\">\n     <use xlink:href=\"#m7b707e2141\" x=\"0\" y=\"573.554878\" style=\"fill: #af4b64; fill-opacity: 0.1; stroke: #af4b64; stroke-opacity: 0.1\"/>\n    </g>\n   </g>\n  </g>\n  <g id=\"axes_3\">\n   <g id=\"patch_4\">\n    <path d=\"M 80.795925 525.070926 \nL 705.605175 525.070926 \nL 705.605175 434.701104 \nL 80.795925 434.701104 \nz\n\" style=\"fill: #ffffff\"/>\n   </g>\n   <g id=\"line2d_32\">\n    <path d=\"M 80.795925 483.857933 \nL 705.605175 483.857933 \n\" clip-path=\"url(#p7457ba2b5d)\" style=\"fill: none; stroke: #c0c0c0; stroke-linecap: round\"/>\n   </g>\n   <g id=\"matplotlib.axis_5\">\n    <g id=\"xtick_17\">\n     <g id=\"line2d_33\">\n      <path d=\"M 114.538117 525.070926 \nL 114.538117 434.701104 \n\" clip-path=\"url(#p7457ba2b5d)\" style=\"fill: none; stroke: #dddddd; stroke-width: 0.5; stroke-linecap: round\"/>\n     </g>\n     <g id=\"text_15\">\n      <!-- 2022-01 -->\n      <g style=\"fill: #666666\" transform=\"translate(74.883002 564.272195) rotate(-30) scale(0.121 -0.121)\">\n       <use xlink:href=\"#ArialMT-32\"/>\n       <use xlink:href=\"#ArialMT-30\" x=\"55.615234\"/>\n       <use xlink:href=\"#ArialMT-32\" x=\"111.230469\"/>\n       <use xlink:href=\"#ArialMT-32\" x=\"166.845703\"/>\n       <use xlink:href=\"#ArialMT-2d\" x=\"222.460938\"/>\n       <use xlink:href=\"#ArialMT-30\" x=\"255.761719\"/>\n       <use xlink:href=\"#ArialMT-31\" x=\"311.376953\"/>\n      </g>\n     </g>\n    </g>\n    <g id=\"xtick_18\">\n     <g id=\"line2d_34\">\n      <path d=\"M 194.664695 525.070926 \nL 194.664695 434.701104 \n\" clip-path=\"url(#p7457ba2b5d)\" style=\"fill: none; stroke: #dddddd; stroke-width: 0.5; stroke-linecap: round\"/>\n     </g>\n     <g id=\"text_16\">\n      <!-- 2022-04 -->\n      <g style=\"fill: #666666\" transform=\"translate(155.00958 564.272195) rotate(-30) scale(0.121 -0.121)\">\n       <use xlink:href=\"#ArialMT-32\"/>\n       <use xlink:href=\"#ArialMT-30\" x=\"55.615234\"/>\n       <use xlink:href=\"#ArialMT-32\" x=\"111.230469\"/>\n       <use xlink:href=\"#ArialMT-32\" x=\"166.845703\"/>\n       <use xlink:href=\"#ArialMT-2d\" x=\"222.460938\"/>\n       <use xlink:href=\"#ArialMT-30\" x=\"255.761719\"/>\n       <use xlink:href=\"#ArialMT-34\" x=\"311.376953\"/>\n      </g>\n     </g>\n    </g>\n    <g id=\"xtick_19\">\n     <g id=\"line2d_35\">\n      <path d=\"M 275.681569 525.070926 \nL 275.681569 434.701104 \n\" clip-path=\"url(#p7457ba2b5d)\" style=\"fill: none; stroke: #dddddd; stroke-width: 0.5; stroke-linecap: round\"/>\n     </g>\n     <g id=\"text_17\">\n      <!-- 2022-07 -->\n      <g style=\"fill: #666666\" transform=\"translate(236.026453 564.272195) rotate(-30) scale(0.121 -0.121)\">\n       <use xlink:href=\"#ArialMT-32\"/>\n       <use xlink:href=\"#ArialMT-30\" x=\"55.615234\"/>\n       <use xlink:href=\"#ArialMT-32\" x=\"111.230469\"/>\n       <use xlink:href=\"#ArialMT-32\" x=\"166.845703\"/>\n       <use xlink:href=\"#ArialMT-2d\" x=\"222.460938\"/>\n       <use xlink:href=\"#ArialMT-30\" x=\"255.761719\"/>\n       <use xlink:href=\"#ArialMT-37\" x=\"311.376953\"/>\n      </g>\n     </g>\n    </g>\n    <g id=\"xtick_20\">\n     <g id=\"line2d_36\">\n      <path d=\"M 357.588738 525.070926 \nL 357.588738 434.701104 \n\" clip-path=\"url(#p7457ba2b5d)\" style=\"fill: none; stroke: #dddddd; stroke-width: 0.5; stroke-linecap: round\"/>\n     </g>\n     <g id=\"text_18\">\n      <!-- 2022-10 -->\n      <g style=\"fill: #666666\" transform=\"translate(317.933622 564.272195) rotate(-30) scale(0.121 -0.121)\">\n       <use xlink:href=\"#ArialMT-32\"/>\n       <use xlink:href=\"#ArialMT-30\" x=\"55.615234\"/>\n       <use xlink:href=\"#ArialMT-32\" x=\"111.230469\"/>\n       <use xlink:href=\"#ArialMT-32\" x=\"166.845703\"/>\n       <use xlink:href=\"#ArialMT-2d\" x=\"222.460938\"/>\n       <use xlink:href=\"#ArialMT-31\" x=\"255.761719\"/>\n       <use xlink:href=\"#ArialMT-30\" x=\"311.376953\"/>\n      </g>\n     </g>\n    </g>\n    <g id=\"xtick_21\">\n     <g id=\"line2d_37\">\n      <path d=\"M 439.495906 525.070926 \nL 439.495906 434.701104 \n\" clip-path=\"url(#p7457ba2b5d)\" style=\"fill: none; stroke: #dddddd; stroke-width: 0.5; stroke-linecap: round\"/>\n     </g>\n     <g id=\"text_19\">\n      <!-- 2023-01 -->\n      <g style=\"fill: #666666\" transform=\"translate(399.840791 564.272195) rotate(-30) scale(0.121 -0.121)\">\n       <use xlink:href=\"#ArialMT-32\"/>\n       <use xlink:href=\"#ArialMT-30\" x=\"55.615234\"/>\n       <use xlink:href=\"#ArialMT-32\" x=\"111.230469\"/>\n       <use xlink:href=\"#ArialMT-33\" x=\"166.845703\"/>\n       <use xlink:href=\"#ArialMT-2d\" x=\"222.460938\"/>\n       <use xlink:href=\"#ArialMT-30\" x=\"255.761719\"/>\n       <use xlink:href=\"#ArialMT-31\" x=\"311.376953\"/>\n      </g>\n     </g>\n    </g>\n    <g id=\"xtick_22\">\n     <g id=\"line2d_38\">\n      <path d=\"M 519.622484 525.070926 \nL 519.622484 434.701104 \n\" clip-path=\"url(#p7457ba2b5d)\" style=\"fill: none; stroke: #dddddd; stroke-width: 0.5; stroke-linecap: round\"/>\n     </g>\n     <g id=\"text_20\">\n      <!-- 2023-04 -->\n      <g style=\"fill: #666666\" transform=\"translate(479.967369 564.272195) rotate(-30) scale(0.121 -0.121)\">\n       <use xlink:href=\"#ArialMT-32\"/>\n       <use xlink:href=\"#ArialMT-30\" x=\"55.615234\"/>\n       <use xlink:href=\"#ArialMT-32\" x=\"111.230469\"/>\n       <use xlink:href=\"#ArialMT-33\" x=\"166.845703\"/>\n       <use xlink:href=\"#ArialMT-2d\" x=\"222.460938\"/>\n       <use xlink:href=\"#ArialMT-30\" x=\"255.761719\"/>\n       <use xlink:href=\"#ArialMT-34\" x=\"311.376953\"/>\n      </g>\n     </g>\n    </g>\n    <g id=\"xtick_23\">\n     <g id=\"line2d_39\">\n      <path d=\"M 600.639358 525.070926 \nL 600.639358 434.701104 \n\" clip-path=\"url(#p7457ba2b5d)\" style=\"fill: none; stroke: #dddddd; stroke-width: 0.5; stroke-linecap: round\"/>\n     </g>\n     <g id=\"text_21\">\n      <!-- 2023-07 -->\n      <g style=\"fill: #666666\" transform=\"translate(560.984242 564.272195) rotate(-30) scale(0.121 -0.121)\">\n       <use xlink:href=\"#ArialMT-32\"/>\n       <use xlink:href=\"#ArialMT-30\" x=\"55.615234\"/>\n       <use xlink:href=\"#ArialMT-32\" x=\"111.230469\"/>\n       <use xlink:href=\"#ArialMT-33\" x=\"166.845703\"/>\n       <use xlink:href=\"#ArialMT-2d\" x=\"222.460938\"/>\n       <use xlink:href=\"#ArialMT-30\" x=\"255.761719\"/>\n       <use xlink:href=\"#ArialMT-37\" x=\"311.376953\"/>\n      </g>\n     </g>\n    </g>\n    <g id=\"xtick_24\">\n     <g id=\"line2d_40\">\n      <path d=\"M 682.546526 525.070926 \nL 682.546526 434.701104 \n\" clip-path=\"url(#p7457ba2b5d)\" style=\"fill: none; stroke: #dddddd; stroke-width: 0.5; stroke-linecap: round\"/>\n     </g>\n     <g id=\"text_22\">\n      <!-- 2023-10 -->\n      <g style=\"fill: #666666\" transform=\"translate(642.891411 564.272195) rotate(-30) scale(0.121 -0.121)\">\n       <use xlink:href=\"#ArialMT-32\"/>\n       <use xlink:href=\"#ArialMT-30\" x=\"55.615234\"/>\n       <use xlink:href=\"#ArialMT-32\" x=\"111.230469\"/>\n       <use xlink:href=\"#ArialMT-33\" x=\"166.845703\"/>\n       <use xlink:href=\"#ArialMT-2d\" x=\"222.460938\"/>\n       <use xlink:href=\"#ArialMT-31\" x=\"255.761719\"/>\n       <use xlink:href=\"#ArialMT-30\" x=\"311.376953\"/>\n      </g>\n     </g>\n    </g>\n   </g>\n   <g id=\"matplotlib.axis_6\">\n    <g id=\"ytick_12\">\n     <g id=\"line2d_41\">\n      <path d=\"M 80.795925 523.578464 \nL 705.605175 523.578464 \n\" clip-path=\"url(#p7457ba2b5d)\" style=\"fill: none; stroke: #dddddd; stroke-width: 0.5; stroke-linecap: round\"/>\n     </g>\n     <g id=\"text_23\">\n      <!-- -15% -->\n      <g style=\"fill: #666666\" transform=\"translate(43.049987 527.908941) scale(0.121 -0.121)\">\n       <use xlink:href=\"#ArialMT-2d\"/>\n       <use xlink:href=\"#ArialMT-31\" x=\"33.300781\"/>\n       <use xlink:href=\"#ArialMT-35\" x=\"88.916016\"/>\n       <use xlink:href=\"#ArialMT-25\" x=\"144.53125\"/>\n      </g>\n     </g>\n    </g>\n    <g id=\"ytick_13\">\n     <g id=\"line2d_42\">\n      <path d=\"M 80.795925 510.338287 \nL 705.605175 510.338287 \n\" clip-path=\"url(#p7457ba2b5d)\" style=\"fill: none; stroke: #dddddd; stroke-width: 0.5; stroke-linecap: round\"/>\n     </g>\n     <g id=\"text_24\">\n      <!-- -10% -->\n      <g style=\"fill: #666666\" transform=\"translate(43.049987 514.668763) scale(0.121 -0.121)\">\n       <use xlink:href=\"#ArialMT-2d\"/>\n       <use xlink:href=\"#ArialMT-31\" x=\"33.300781\"/>\n       <use xlink:href=\"#ArialMT-30\" x=\"88.916016\"/>\n       <use xlink:href=\"#ArialMT-25\" x=\"144.53125\"/>\n      </g>\n     </g>\n    </g>\n    <g id=\"ytick_14\">\n     <g id=\"line2d_43\">\n      <path d=\"M 80.795925 497.09811 \nL 705.605175 497.09811 \n\" clip-path=\"url(#p7457ba2b5d)\" style=\"fill: none; stroke: #dddddd; stroke-width: 0.5; stroke-linecap: round\"/>\n     </g>\n     <g id=\"text_25\">\n      <!-- -5% -->\n      <g style=\"fill: #666666\" transform=\"translate(49.778722 501.428586) scale(0.121 -0.121)\">\n       <use xlink:href=\"#ArialMT-2d\"/>\n       <use xlink:href=\"#ArialMT-35\" x=\"33.300781\"/>\n       <use xlink:href=\"#ArialMT-25\" x=\"88.916016\"/>\n      </g>\n     </g>\n    </g>\n    <g id=\"ytick_15\">\n     <g id=\"line2d_44\">\n      <path d=\"M 80.795925 483.857933 \nL 705.605175 483.857933 \n\" clip-path=\"url(#p7457ba2b5d)\" style=\"fill: none; stroke: #dddddd; stroke-width: 0.5; stroke-linecap: round\"/>\n     </g>\n     <g id=\"text_26\">\n      <!-- 0% -->\n      <g style=\"fill: #666666\" transform=\"translate(53.807644 488.188409) scale(0.121 -0.121)\">\n       <use xlink:href=\"#ArialMT-30\"/>\n       <use xlink:href=\"#ArialMT-25\" x=\"55.615234\"/>\n      </g>\n     </g>\n    </g>\n    <g id=\"ytick_16\">\n     <g id=\"line2d_45\">\n      <path d=\"M 80.795925 470.617756 \nL 705.605175 470.617756 \n\" clip-path=\"url(#p7457ba2b5d)\" style=\"fill: none; stroke: #dddddd; stroke-width: 0.5; stroke-linecap: round\"/>\n     </g>\n     <g id=\"text_27\">\n      <!-- 5% -->\n      <g style=\"fill: #666666\" transform=\"translate(53.807644 474.948232) scale(0.121 -0.121)\">\n       <use xlink:href=\"#ArialMT-35\"/>\n       <use xlink:href=\"#ArialMT-25\" x=\"55.615234\"/>\n      </g>\n     </g>\n    </g>\n    <g id=\"ytick_17\">\n     <g id=\"line2d_46\">\n      <path d=\"M 80.795925 457.377578 \nL 705.605175 457.377578 \n\" clip-path=\"url(#p7457ba2b5d)\" style=\"fill: none; stroke: #dddddd; stroke-width: 0.5; stroke-linecap: round\"/>\n     </g>\n     <g id=\"text_28\">\n      <!-- 10% -->\n      <g style=\"fill: #666666\" transform=\"translate(47.078909 461.708055) scale(0.121 -0.121)\">\n       <use xlink:href=\"#ArialMT-31\"/>\n       <use xlink:href=\"#ArialMT-30\" x=\"55.615234\"/>\n       <use xlink:href=\"#ArialMT-25\" x=\"111.230469\"/>\n      </g>\n     </g>\n    </g>\n    <g id=\"text_29\">\n     <!-- Daily Return -->\n     <g style=\"fill: #262626\" transform=\"translate(15.789375 515.225077) rotate(-90) scale(0.12 -0.12)\">\n      <defs>\n       <path id=\"Arial-BoldMT-79\" d=\"M 44 3319 \nL 978 3319 \nL 1772 963 \nL 2547 3319 \nL 3456 3319 \nL 2284 125 \nL 2075 -453 \nQ 1959 -744 1854 -897 \nQ 1750 -1050 1614 -1145 \nQ 1478 -1241 1279 -1294 \nQ 1081 -1347 831 -1347 \nQ 578 -1347 334 -1294 \nL 256 -606 \nQ 463 -647 628 -647 \nQ 934 -647 1081 -467 \nQ 1228 -288 1306 -9 \nL 44 3319 \nz\n\" transform=\"scale(0.015625)\"/>\n      </defs>\n      <use xlink:href=\"#Arial-BoldMT-44\"/>\n      <use xlink:href=\"#Arial-BoldMT-61\" x=\"72.216797\"/>\n      <use xlink:href=\"#Arial-BoldMT-69\" x=\"127.832031\"/>\n      <use xlink:href=\"#Arial-BoldMT-6c\" x=\"155.615234\"/>\n      <use xlink:href=\"#Arial-BoldMT-79\" x=\"183.398438\"/>\n      <use xlink:href=\"#Arial-BoldMT-20\" x=\"239.013672\"/>\n      <use xlink:href=\"#Arial-BoldMT-52\" x=\"266.796875\"/>\n      <use xlink:href=\"#Arial-BoldMT-65\" x=\"339.013672\"/>\n      <use xlink:href=\"#Arial-BoldMT-74\" x=\"394.628906\"/>\n      <use xlink:href=\"#Arial-BoldMT-75\" x=\"427.929688\"/>\n      <use xlink:href=\"#Arial-BoldMT-72\" x=\"489.013672\"/>\n      <use xlink:href=\"#Arial-BoldMT-6e\" x=\"527.929688\"/>\n     </g>\n    </g>\n   </g>\n   <g id=\"line2d_47\">\n    <path d=\"M 109.196345 483.857933 \nL 110.086641 483.857933 \nL 116.318708 483.857933 \nL 122.550775 483.857933 \nL 128.782842 483.857933 \nL 135.01491 483.857933 \nL 141.246977 483.857933 \nL 147.479044 483.857933 \nL 153.711111 483.857933 \nL 159.943178 483.857933 \nL 166.175245 483.857933 \nL 172.407313 483.857933 \nL 178.63938 483.857933 \nL 184.871447 483.857933 \nL 191.103514 483.857933 \nL 197.335581 483.857933 \nL 203.567649 483.857933 \nL 209.799716 483.857933 \nL 216.031783 483.857933 \nL 222.26385 483.857933 \nL 228.495917 483.857933 \nL 234.727984 483.857933 \nL 240.960052 483.857933 \nL 247.192119 483.857933 \nL 253.424186 483.857933 \nL 259.656253 483.857933 \nL 265.88832 483.857933 \nL 272.120388 483.857933 \nL 278.352455 483.857933 \nL 284.584522 484.06967 \nL 290.816589 459.131965 \nL 297.048656 438.808823 \nL 303.280723 469.406364 \nL 309.512791 483.877312 \nL 315.744858 484.06967 \nL 321.976925 520.963206 \nL 328.208992 469.662444 \nL 334.441059 513.726133 \nL 340.673127 470.717319 \nL 346.905194 510.687001 \nL 353.137261 468.410859 \nL 359.369328 489.175642 \nL 365.601395 475.922206 \nL 371.833463 490.044298 \nL 378.06553 497.943743 \nL 384.297597 470.543808 \nL 390.529664 467.879902 \nL 396.761731 461.901359 \nL 402.993798 467.683443 \nL 409.225866 511.449169 \nL 415.457933 465.605656 \nL 421.69 492.414222 \nL 427.922067 460.020804 \nL 434.154134 486.452939 \nL 440.386202 487.200461 \nL 446.618269 503.414137 \nL 452.850336 470.638324 \nL 459.082403 476.146621 \nL 465.31447 474.451184 \nL 471.546537 486.67068 \nL 477.778605 476.966747 \nL 484.010672 478.705668 \nL 490.242739 495.999094 \nL 496.474806 470.071176 \nL 502.706873 468.334484 \nL 508.938941 480.972729 \nL 515.171008 473.922676 \nL 521.403075 472.497183 \nL 527.635142 484.06967 \nL 533.867209 466.467376 \nL 540.099276 502.163483 \nL 546.331344 480.715872 \nL 552.563411 483.857933 \nL 558.795478 483.963854 \nL 565.027545 483.09386 \nL 571.259612 484.06967 \nL 577.49168 489.762604 \nL 583.723747 471.309573 \nL 589.955814 474.222899 \nL 596.187881 509.149105 \nL 602.419948 478.47708 \nL 608.652016 496.710873 \nL 614.884083 493.754799 \nL 621.11615 481.520858 \nL 627.348217 492.651041 \nL 633.580284 472.462287 \nL 639.812351 488.145723 \nL 646.044419 516.823625 \nL 652.276486 477.631939 \nL 658.508553 479.233502 \nL 664.74062 483.963854 \nL 670.972687 481.475416 \nL 677.204755 483.999126 \n\" clip-path=\"url(#p7457ba2b5d)\" style=\"fill: none; stroke: #fedd78; stroke-width: 0.5; stroke-linecap: round\"/>\n   </g>\n   <g id=\"line2d_48\">\n    <path d=\"M 80.795925 483.857933 \nL 705.605175 483.857933 \n\" clip-path=\"url(#p7457ba2b5d)\" style=\"fill: none; stroke-dasharray: 3.7,1.6; stroke-dashoffset: 0; stroke: #808080\"/>\n   </g>\n  </g>\n  <g id=\"text_30\">\n   <!-- Equity curve -->\n   <g transform=\"translate(317.850237 17.220937) scale(0.14 -0.14)\">\n    <defs>\n     <path id=\"Arial-BoldMT-45\" d=\"M 466 0 \nL 466 4581 \nL 3863 4581 \nL 3863 3806 \nL 1391 3806 \nL 1391 2791 \nL 3691 2791 \nL 3691 2019 \nL 1391 2019 \nL 1391 772 \nL 3950 772 \nL 3950 0 \nL 466 0 \nz\n\" transform=\"scale(0.015625)\"/>\n     <path id=\"Arial-BoldMT-71\" d=\"M 2628 -1263 \nL 2628 406 \nQ 2456 184 2200 54 \nQ 1944 -75 1647 -75 \nQ 1081 -75 716 350 \nQ 284 847 284 1697 \nQ 284 2497 689 2945 \nQ 1094 3394 1694 3394 \nQ 2025 3394 2267 3253 \nQ 2509 3113 2697 2828 \nL 2697 3319 \nL 3506 3319 \nL 3506 -1263 \nL 2628 -1263 \nz\nM 2656 1700 \nQ 2656 2209 2448 2457 \nQ 2241 2706 1928 2706 \nQ 1609 2706 1395 2453 \nQ 1181 2200 1181 1650 \nQ 1181 1103 1387 861 \nQ 1594 619 1897 619 \nQ 2200 619 2428 891 \nQ 2656 1163 2656 1700 \nz\n\" transform=\"scale(0.015625)\"/>\n     <path id=\"Arial-BoldMT-63\" d=\"M 3353 2338 \nL 2488 2181 \nQ 2444 2441 2289 2572 \nQ 2134 2703 1888 2703 \nQ 1559 2703 1364 2476 \nQ 1169 2250 1169 1719 \nQ 1169 1128 1367 884 \nQ 1566 641 1900 641 \nQ 2150 641 2309 783 \nQ 2469 925 2534 1272 \nL 3397 1125 \nQ 3263 531 2881 228 \nQ 2500 -75 1859 -75 \nQ 1131 -75 698 384 \nQ 266 844 266 1656 \nQ 266 2478 700 2936 \nQ 1134 3394 1875 3394 \nQ 2481 3394 2839 3133 \nQ 3197 2872 3353 2338 \nz\n\" transform=\"scale(0.015625)\"/>\n    </defs>\n    <use xlink:href=\"#Arial-BoldMT-45\"/>\n    <use xlink:href=\"#Arial-BoldMT-71\" x=\"66.699219\"/>\n    <use xlink:href=\"#Arial-BoldMT-75\" x=\"127.783203\"/>\n    <use xlink:href=\"#Arial-BoldMT-69\" x=\"188.867188\"/>\n    <use xlink:href=\"#Arial-BoldMT-74\" x=\"216.650391\"/>\n    <use xlink:href=\"#Arial-BoldMT-79\" x=\"249.951172\"/>\n    <use xlink:href=\"#Arial-BoldMT-20\" x=\"305.566406\"/>\n    <use xlink:href=\"#Arial-BoldMT-63\" x=\"333.349609\"/>\n    <use xlink:href=\"#Arial-BoldMT-75\" x=\"388.964844\"/>\n    <use xlink:href=\"#Arial-BoldMT-72\" x=\"450.048828\"/>\n    <use xlink:href=\"#Arial-BoldMT-76\" x=\"488.964844\"/>\n    <use xlink:href=\"#Arial-BoldMT-65\" x=\"544.580078\"/>\n   </g>\n  </g>\n </g>\n <defs>\n  <clipPath id=\"p774fc4be96\">\n   <rect x=\"80.795925\" y=\"72.96\" width=\"624.80925\" height=\"271.109464\"/>\n  </clipPath>\n  <clipPath id=\"p0de03e8948\">\n   <rect x=\"80.795925\" y=\"344.200374\" width=\"624.80925\" height=\"90.369821\"/>\n  </clipPath>\n  <clipPath id=\"p7457ba2b5d\">\n   <rect x=\"80.795925\" y=\"434.701104\" width=\"624.80925\" height=\"90.369821\"/>\n  </clipPath>\n </defs>\n</svg>\n"
     },
     "execution_count": 20,
     "metadata": {},
     "output_type": "execute_result"
    }
   ],
   "source": [
    "from tradeexecutor.visual.equity_curve import calculate_equity_curve, calculate_returns\n",
    "from tradeexecutor.visual.equity_curve import visualise_equity_curve\n",
    "\n",
    "curve = calculate_equity_curve(state)\n",
    "returns = calculate_returns(curve)\n",
    "visualise_equity_curve(returns)\n"
   ],
   "metadata": {
    "collapsed": false,
    "ExecuteTime": {
     "end_time": "2023-11-06T11:24:00.647137Z",
     "start_time": "2023-11-06T11:24:00.268042Z"
    }
   }
  },
  {
   "attachments": {},
   "cell_type": "markdown",
   "metadata": {},
   "source": [
    "## Analysing  the strategy success\n",
    "\n",
    "Here we calculate statistics on how well the strategy performed.\n",
    "\n",
    "- Won/lost trades\n",
    "- Timeline of taken positions with color coding of trade performance\n"
   ]
  },
  {
   "cell_type": "code",
   "execution_count": 21,
   "metadata": {
    "collapsed": false,
    "jupyter": {
     "outputs_hidden": false
    },
    "pycharm": {
     "is_executing": true
    },
    "ExecuteTime": {
     "end_time": "2023-11-06T11:24:00.649556Z",
     "start_time": "2023-11-06T11:24:00.645857Z"
    }
   },
   "outputs": [],
   "source": [
    "from tradeexecutor.analysis.trade_analyser import build_trade_analysis\n",
    "\n",
    "analysis = build_trade_analysis(state.portfolio)"
   ]
  },
  {
   "cell_type": "markdown",
   "metadata": {},
   "source": [
    "### Trade statistics\n",
    "\n",
    "Overview of the performance of trading activity.\n",
    "\n"
   ]
  },
  {
   "cell_type": "code",
   "execution_count": 22,
   "metadata": {
    "collapsed": false,
    "jupyter": {
     "outputs_hidden": false
    },
    "pycharm": {
     "is_executing": true
    },
    "ExecuteTime": {
     "end_time": "2023-11-06T11:24:00.659284Z",
     "start_time": "2023-11-06T11:24:00.654728Z"
    }
   },
   "outputs": [
    {
     "data": {
      "text/plain": "<IPython.core.display.HTML object>",
      "text/html": "<table border=\"1\" class=\"dataframe\">\n  <thead>\n    <tr style=\"text-align: right;\">\n      <th></th>\n      <th>0</th>\n    </tr>\n  </thead>\n  <tbody>\n    <tr>\n      <th>Trading period length</th>\n      <td>441 days 0 hours</td>\n    </tr>\n    <tr>\n      <th><a href=\"https://tradingstrategy.ai/glossary/aggregate-return\">Return %</a></th>\n      <td>31.72%</td>\n    </tr>\n    <tr>\n      <th>Annualised return %</th>\n      <td>26.25%</td>\n    </tr>\n    <tr>\n      <th>Cash at start</th>\n      <td>$10,000.00</td>\n    </tr>\n    <tr>\n      <th>Value at end</th>\n      <td>$13,171.99</td>\n    </tr>\n    <tr>\n      <th><a href=\"https://tradingstrategy.ai/glossary/volume\">Trade volume</a></th>\n      <td>$1,163,478.58</td>\n    </tr>\n    <tr>\n      <th><a href=\"https://tradingstrategy.ai/glossary/position\">Position win percent</a></th>\n      <td>58.33%</td>\n    </tr>\n    <tr>\n      <th><a href=\"https://tradingstrategy.ai/glossary/position\">Total positions</a></th>\n      <td>120</td>\n    </tr>\n    <tr>\n      <th><a href=\"https://tradingstrategy.ai/glossary/position\">Won positions</a></th>\n      <td>70</td>\n    </tr>\n    <tr>\n      <th><a href=\"https://tradingstrategy.ai/glossary/position\">Lost positions</a></th>\n      <td>50</td>\n    </tr>\n    <tr>\n      <th><a href=\"https://tradingstrategy.ai/glossary/stop-loss\">Stop losses triggered</a></th>\n      <td>0</td>\n    </tr>\n    <tr>\n      <th><a href=\"https://tradingstrategy.ai/glossary/stop-loss\">Stop loss % of all</a></th>\n      <td>0.00%</td>\n    </tr>\n    <tr>\n      <th><a href=\"https://tradingstrategy.ai/glossary/stop-loss\">Stop loss % of lost</a></th>\n      <td>0.00%</td>\n    </tr>\n    <tr>\n      <th><a href=\"https://tradingstrategy.ai/glossary/stop-loss\">Winning stop losses</a></th>\n      <td>0</td>\n    </tr>\n    <tr>\n      <th><a href=\"https://tradingstrategy.ai/glossary/stop-loss\">Winning stop losses percent</a></th>\n      <td>-</td>\n    </tr>\n    <tr>\n      <th><a href=\"https://tradingstrategy.ai/glossary/stop-loss\">Losing stop losses</a></th>\n      <td>0</td>\n    </tr>\n    <tr>\n      <th><a href=\"https://tradingstrategy.ai/glossary/stop-loss\">Losing stop losses percent</a></th>\n      <td>-</td>\n    </tr>\n    <tr>\n      <th><a href=\"https://tradingstrategy.ai/glossary/take-profit\">Take profits triggered</a></th>\n      <td>54</td>\n    </tr>\n    <tr>\n      <th><a href=\"https://tradingstrategy.ai/glossary/take-profit\">Take profit % of all</a></th>\n      <td>45.00%</td>\n    </tr>\n    <tr>\n      <th><a href=\"https://tradingstrategy.ai/glossary/take-profit\">Take profit % of won</a></th>\n      <td>77.14%</td>\n    </tr>\n    <tr>\n      <th><a href=\"https://tradingstrategy.ai/glossary/position\">Zero profit positions</a></th>\n      <td>0</td>\n    </tr>\n    <tr>\n      <th><a href=\"https://tradingstrategy.ai/glossary/open-position\">Positions open at the end</a></th>\n      <td>2</td>\n    </tr>\n    <tr>\n      <th><a href=\"https://tradingstrategy.ai/glossary/realised-profit-and-loss\">Realised profit and loss</a></th>\n      <td>$3,428.33</td>\n    </tr>\n    <tr>\n      <th><a href=\"https://tradingstrategy.ai/glossary/unrealised-profit-and-loss\">Unrealised profit and loss</a></th>\n      <td>$-3.51</td>\n    </tr>\n    <tr>\n      <th><a href=\"https://tradingstrategy.ai/glossary/unrealised-profit-and-loss\">Portfolio unrealised value</a></th>\n      <td>$10,536.18</td>\n    </tr>\n    <tr>\n      <th><a href=\"https://tradingstrategy.ai/glossary/lending-pool\">Extra returns on lending pool interest</a></th>\n      <td>$0.00</td>\n    </tr>\n    <tr>\n      <th>Cash left at the end</th>\n      <td>$2,635.80</td>\n    </tr>\n    <tr>\n      <th>Average winning position profit %</th>\n      <td>6.58%</td>\n    </tr>\n    <tr>\n      <th>Average losing position loss %</th>\n      <td>-6.80%</td>\n    </tr>\n    <tr>\n      <th>Biggest winning position %</th>\n      <td>27.52%</td>\n    </tr>\n    <tr>\n      <th>Biggest losing position %</th>\n      <td>-24.50%</td>\n    </tr>\n    <tr>\n      <th>Average duration of winning positions</th>\n      <td>4 days 15 hours</td>\n    </tr>\n    <tr>\n      <th>Average duration of losing positions</th>\n      <td>7 days 0 hours</td>\n    </tr>\n    <tr>\n      <th><a href=\"https://tradingstrategy.ai/glossary/liquidity-provider\">LP fees paid</a></th>\n      <td>$574.09</td>\n    </tr>\n    <tr>\n      <th><a href=\"https://tradingstrategy.ai/glossary/liquidity-provider\">LP fees paid % of volume</a></th>\n      <td>0.05%</td>\n    </tr>\n    <tr>\n      <th><a href=\"https://tradingstrategy.ai/glossary/mean\">Average position</a></th>\n      <td>1.00%</td>\n    </tr>\n    <tr>\n      <th><a href=\"https://tradingstrategy.ai/glossary/median\">Median position</a></th>\n      <td>1.78%</td>\n    </tr>\n    <tr>\n      <th>Most consecutive wins</th>\n      <td>8</td>\n    </tr>\n    <tr>\n      <th>Most consecutive losses</th>\n      <td>4</td>\n    </tr>\n    <tr>\n      <th><a href=\"https://tradingstrategy.ai/glossary/realised-risk\">Biggest realised risk</a></th>\n      <td>-12.48%</td>\n    </tr>\n    <tr>\n      <th><a href=\"https://tradingstrategy.ai/glossary/realised-risk\">Avg realised risk</a></th>\n      <td>-2.62%</td>\n    </tr>\n    <tr>\n      <th><a href=\"https://tradingstrategy.ai/glossary/maximum-pullback\">Max pullback of total capital</a></th>\n      <td>-15.25%</td>\n    </tr>\n    <tr>\n      <th>Max loss risk at opening of position</th>\n      <td>27.23%</td>\n    </tr>\n  </tbody>\n</table>"
     },
     "metadata": {},
     "output_type": "display_data"
    }
   ],
   "source": [
    "summary = analysis.calculate_summary_statistics()\n",
    "display(summary.to_dataframe())"
   ]
  },
  {
   "cell_type": "markdown",
   "source": [
    "### Long/short/spot statistics\n",
    "\n",
    "The breakdown of trading performance based on the direction of the trade.\n",
    "\n",
    "- Spot trades\n",
    "- Leveraged long\n",
    "- Leveraged short"
   ],
   "metadata": {
    "collapsed": false
   }
  },
  {
   "cell_type": "code",
   "execution_count": 23,
   "outputs": [
    {
     "data": {
      "text/plain": "<IPython.core.display.HTML object>",
      "text/html": "<table border=\"1\" class=\"dataframe\">\n  <thead>\n    <tr style=\"text-align: right;\">\n      <th></th>\n      <th>All</th>\n      <th>Long</th>\n      <th>Short</th>\n    </tr>\n  </thead>\n  <tbody>\n    <tr>\n      <th>Trading period length</th>\n      <td>441 days 0 hours</td>\n      <td>-</td>\n      <td>-</td>\n    </tr>\n    <tr>\n      <th><a href=\"https://tradingstrategy.ai/glossary/aggregate-return\">Return %</a></th>\n      <td>31.72%</td>\n      <td>-0.31%</td>\n      <td>1.08%</td>\n    </tr>\n    <tr>\n      <th>Annualised return %</th>\n      <td>26.25%</td>\n      <td>-0.26%</td>\n      <td>0.89%</td>\n    </tr>\n    <tr>\n      <th>Cash at start</th>\n      <td>$10,000.00</td>\n      <td>-</td>\n      <td>-</td>\n    </tr>\n    <tr>\n      <th>Value at end</th>\n      <td>$13,171.99</td>\n      <td>-</td>\n      <td>-</td>\n    </tr>\n    <tr>\n      <th><a href=\"https://tradingstrategy.ai/glossary/volume\">Trade volume</a></th>\n      <td>$1,163,478.58</td>\n      <td>$621,388.95</td>\n      <td>$542,089.63</td>\n    </tr>\n    <tr>\n      <th><a href=\"https://tradingstrategy.ai/glossary/position\">Position win percent</a></th>\n      <td>58.33%</td>\n      <td>53.12%</td>\n      <td>64.29%</td>\n    </tr>\n    <tr>\n      <th><a href=\"https://tradingstrategy.ai/glossary/position\">Total positions</a></th>\n      <td>120</td>\n      <td>64</td>\n      <td>56</td>\n    </tr>\n    <tr>\n      <th><a href=\"https://tradingstrategy.ai/glossary/position\">Won positions</a></th>\n      <td>70</td>\n      <td>34</td>\n      <td>36</td>\n    </tr>\n    <tr>\n      <th><a href=\"https://tradingstrategy.ai/glossary/position\">Lost positions</a></th>\n      <td>50</td>\n      <td>30</td>\n      <td>20</td>\n    </tr>\n    <tr>\n      <th><a href=\"https://tradingstrategy.ai/glossary/stop-loss\">Stop losses triggered</a></th>\n      <td>0</td>\n      <td>0</td>\n      <td>0</td>\n    </tr>\n    <tr>\n      <th><a href=\"https://tradingstrategy.ai/glossary/stop-loss\">Stop loss % of all</a></th>\n      <td>0.00%</td>\n      <td>0.00%</td>\n      <td>0.00%</td>\n    </tr>\n    <tr>\n      <th><a href=\"https://tradingstrategy.ai/glossary/stop-loss\">Stop loss % of lost</a></th>\n      <td>0.00%</td>\n      <td>0.00%</td>\n      <td>0.00%</td>\n    </tr>\n    <tr>\n      <th><a href=\"https://tradingstrategy.ai/glossary/stop-loss\">Winning stop losses</a></th>\n      <td>0</td>\n      <td>0</td>\n      <td>0</td>\n    </tr>\n    <tr>\n      <th><a href=\"https://tradingstrategy.ai/glossary/stop-loss\">Winning stop losses percent</a></th>\n      <td>-</td>\n      <td>-</td>\n      <td>-</td>\n    </tr>\n    <tr>\n      <th><a href=\"https://tradingstrategy.ai/glossary/stop-loss\">Losing stop losses</a></th>\n      <td>0</td>\n      <td>0</td>\n      <td>0</td>\n    </tr>\n    <tr>\n      <th><a href=\"https://tradingstrategy.ai/glossary/stop-loss\">Losing stop losses percent</a></th>\n      <td>-</td>\n      <td>-</td>\n      <td>-</td>\n    </tr>\n    <tr>\n      <th><a href=\"https://tradingstrategy.ai/glossary/take-profit\">Take profits triggered</a></th>\n      <td>54</td>\n      <td>29</td>\n      <td>25</td>\n    </tr>\n    <tr>\n      <th><a href=\"https://tradingstrategy.ai/glossary/take-profit\">Take profit % of all</a></th>\n      <td>45.00%</td>\n      <td>45.31%</td>\n      <td>44.64%</td>\n    </tr>\n    <tr>\n      <th><a href=\"https://tradingstrategy.ai/glossary/take-profit\">Take profit % of won</a></th>\n      <td>77.14%</td>\n      <td>85.29%</td>\n      <td>69.44%</td>\n    </tr>\n    <tr>\n      <th><a href=\"https://tradingstrategy.ai/glossary/position\">Zero profit positions</a></th>\n      <td>0</td>\n      <td>0</td>\n      <td>0</td>\n    </tr>\n    <tr>\n      <th><a href=\"https://tradingstrategy.ai/glossary/open-position\">Positions open at the end</a></th>\n      <td>2</td>\n      <td>1</td>\n      <td>1</td>\n    </tr>\n    <tr>\n      <th><a href=\"https://tradingstrategy.ai/glossary/realised-profit-and-loss\">Realised profit and loss</a></th>\n      <td>$3,428.33</td>\n      <td>$2,162.40</td>\n      <td>$1,265.93</td>\n    </tr>\n    <tr>\n      <th><a href=\"https://tradingstrategy.ai/glossary/unrealised-profit-and-loss\">Unrealised profit and loss</a></th>\n      <td>$-3.51</td>\n      <td>$-3.51</td>\n      <td>$0.00</td>\n    </tr>\n    <tr>\n      <th><a href=\"https://tradingstrategy.ai/glossary/unrealised-profit-and-loss\">Portfolio unrealised value</a></th>\n      <td>$10,536.18</td>\n      <td>$3,510.89</td>\n      <td>$7,025.29</td>\n    </tr>\n    <tr>\n      <th><a href=\"https://tradingstrategy.ai/glossary/lending-pool\">Extra returns on lending pool interest</a></th>\n      <td>$0.00</td>\n      <td>$0.00</td>\n      <td>$0.00</td>\n    </tr>\n    <tr>\n      <th>Cash left at the end</th>\n      <td>$2,635.80</td>\n      <td>-</td>\n      <td>-</td>\n    </tr>\n    <tr>\n      <th>Average winning position profit %</th>\n      <td>6.58%</td>\n      <td>7.71%</td>\n      <td>5.50%</td>\n    </tr>\n    <tr>\n      <th>Average losing position loss %</th>\n      <td>-6.80%</td>\n      <td>-6.72%</td>\n      <td>-6.91%</td>\n    </tr>\n    <tr>\n      <th>Biggest winning position %</th>\n      <td>27.52%</td>\n      <td>27.52%</td>\n      <td>13.93%</td>\n    </tr>\n    <tr>\n      <th>Biggest losing position %</th>\n      <td>-24.50%</td>\n      <td>-24.50%</td>\n      <td>-16.54%</td>\n    </tr>\n    <tr>\n      <th>Average duration of winning positions</th>\n      <td>4 days 15 hours</td>\n      <td>4 days 0 hours</td>\n      <td>5 days 5 hours</td>\n    </tr>\n    <tr>\n      <th>Average duration of losing positions</th>\n      <td>7 days 0 hours</td>\n      <td>7 days 0 hours</td>\n      <td>7 days 0 hours</td>\n    </tr>\n    <tr>\n      <th>Average bars of winning positions</th>\n      <td>0 bars</td>\n      <td>0 bars</td>\n      <td>0 bars</td>\n    </tr>\n    <tr>\n      <th>Average bars of losing positions</th>\n      <td>1 bars</td>\n      <td>1 bars</td>\n      <td>1 bars</td>\n    </tr>\n    <tr>\n      <th><a href=\"https://tradingstrategy.ai/glossary/liquidity-provider\">LP fees paid</a></th>\n      <td>$574.09</td>\n      <td>$310.77</td>\n      <td>$263.32</td>\n    </tr>\n    <tr>\n      <th><a href=\"https://tradingstrategy.ai/glossary/liquidity-provider\">LP fees paid % of volume</a></th>\n      <td>0.05%</td>\n      <td>0.05%</td>\n      <td>0.05%</td>\n    </tr>\n    <tr>\n      <th><a href=\"https://tradingstrategy.ai/glossary/mean\">Average position</a></th>\n      <td>1.00%</td>\n      <td>0.95%</td>\n      <td>1.07%</td>\n    </tr>\n    <tr>\n      <th><a href=\"https://tradingstrategy.ai/glossary/median\">Median position</a></th>\n      <td>1.78%</td>\n      <td>1.06%</td>\n      <td>2.17%</td>\n    </tr>\n    <tr>\n      <th>Most consecutive wins</th>\n      <td>8</td>\n      <td>8</td>\n      <td>5</td>\n    </tr>\n    <tr>\n      <th>Most consecutive losses</th>\n      <td>4</td>\n      <td>5</td>\n      <td>3</td>\n    </tr>\n    <tr>\n      <th><a href=\"https://tradingstrategy.ai/glossary/realised-risk\">Biggest realised risk</a></th>\n      <td>-12.48%</td>\n      <td>-12.48%</td>\n      <td>-9.44%</td>\n    </tr>\n    <tr>\n      <th><a href=\"https://tradingstrategy.ai/glossary/realised-risk\">Avg realised risk</a></th>\n      <td>-2.62%</td>\n      <td>-2.49%</td>\n      <td>-2.81%</td>\n    </tr>\n    <tr>\n      <th><a href=\"https://tradingstrategy.ai/glossary/maximum-pullback\">Max pullback of total capital</a></th>\n      <td>-15.25%</td>\n      <td>-</td>\n      <td>-</td>\n    </tr>\n    <tr>\n      <th>Max loss risk at opening of position</th>\n      <td>27.23%</td>\n      <td>27.23%</td>\n      <td>-4.96%</td>\n    </tr>\n    <tr>\n      <th><a href=\"https://tradingstrategy.ai/glossary/maximum-drawdown\">Max drawdown</a></th>\n      <td>-25.94%</td>\n      <td>-</td>\n      <td>-</td>\n    </tr>\n  </tbody>\n</table>"
     },
     "metadata": {},
     "output_type": "display_data"
    }
   ],
   "source": [
    "html = analysis.calculate_all_summary_stats_by_side(state=state, time_bucket=data_univese.time_bucket)\n",
    "display(html)"
   ],
   "metadata": {
    "collapsed": false,
    "ExecuteTime": {
     "end_time": "2023-11-06T11:24:00.772823Z",
     "start_time": "2023-11-06T11:24:00.660845Z"
    }
   }
  },
  {
   "cell_type": "markdown",
   "metadata": {},
   "source": []
  },
  {
   "cell_type": "markdown",
   "source": [
    "## Portfolio performance statistics\n",
    "\n",
    "How the strategy key metrics look from the portfolio management viewpoint."
   ],
   "metadata": {
    "collapsed": false
   }
  },
  {
   "cell_type": "code",
   "execution_count": 24,
   "outputs": [
    {
     "data": {
      "text/plain": "                             Strategy\nStart Period               2021-12-27\nEnd Period                 2023-09-25\nRisk-Free Rate                   0.0%\nTime in Market                  69.0%\nCumulative Return              31.72%\nCAGR﹪                           17.1%\nSharpe                           1.66\nProb. Sharpe Ratio             79.27%\nSmart Sharpe                     1.45\nSortino                          2.38\nSmart Sortino                    2.09\nSortino/√2                       1.68\nSmart Sortino/√2                 1.47\nOmega                            1.32\nMax Drawdown                  -25.94%\nLongest DD Days                   196\nVolatility (ann.)              90.91%\nCalmar                           0.66\nSkew                            -0.33\nKurtosis                         2.35\nExpected Daily                   0.3%\nExpected Monthly                1.26%\nExpected Yearly                 9.62%\nKelly Criterion                13.05%\nRisk of Ruin                     0.0%\nDaily Value-at-Risk            -7.41%\nExpected Shortfall (cVaR)      -7.41%\nMax Consecutive Wins                5\nMax Consecutive Losses              3\nGain/Pain Ratio                  0.32\nGain/Pain (1M)                   1.04\nPayoff Ratio                     1.13\nProfit Factor                    1.32\nCommon Sense Ratio                0.9\nCPC Index                         0.8\nTail Ratio                       0.68\nOutlier Win Ratio                4.02\nOutlier Loss Ratio               3.06\nMTD                             2.57%\n3M                            -22.25%\n6M                             -10.3%\nYTD                             2.03%\n1Y                             28.98%\n3Y (ann.)                       17.1%\n5Y (ann.)                       17.1%\n10Y (ann.)                      17.1%\nAll-time (ann.)                 17.1%\nBest Day                       17.01%\nWorst Day                     -14.01%\nBest Month                     27.84%\nWorst Month                   -11.43%\nBest Year                      29.09%\nWorst Year                       0.0%\nAvg. Drawdown                  -10.6%\nAvg. Drawdown Days                 61\nRecovery Factor                  1.22\nUlcer Index                      0.11\nSerenity Index                   0.69\nAvg. Up Month                   9.38%\nAvg. Down Month                -5.73%\nWin Days                       53.97%\nWin Month                      53.33%\nWin Quarter                     80.0%\nWin Year                       100.0%",
      "text/html": "<div>\n<style scoped>\n    .dataframe tbody tr th:only-of-type {\n        vertical-align: middle;\n    }\n\n    .dataframe tbody tr th {\n        vertical-align: top;\n    }\n\n    .dataframe thead th {\n        text-align: right;\n    }\n</style>\n<table border=\"1\" class=\"dataframe\">\n  <thead>\n    <tr style=\"text-align: right;\">\n      <th></th>\n      <th>Strategy</th>\n    </tr>\n  </thead>\n  <tbody>\n    <tr>\n      <th>Start Period</th>\n      <td>2021-12-27</td>\n    </tr>\n    <tr>\n      <th>End Period</th>\n      <td>2023-09-25</td>\n    </tr>\n    <tr>\n      <th>Risk-Free Rate</th>\n      <td>0.0%</td>\n    </tr>\n    <tr>\n      <th>Time in Market</th>\n      <td>69.0%</td>\n    </tr>\n    <tr>\n      <th>Cumulative Return</th>\n      <td>31.72%</td>\n    </tr>\n    <tr>\n      <th>CAGR﹪</th>\n      <td>17.1%</td>\n    </tr>\n    <tr>\n      <th>Sharpe</th>\n      <td>1.66</td>\n    </tr>\n    <tr>\n      <th>Prob. Sharpe Ratio</th>\n      <td>79.27%</td>\n    </tr>\n    <tr>\n      <th>Smart Sharpe</th>\n      <td>1.45</td>\n    </tr>\n    <tr>\n      <th>Sortino</th>\n      <td>2.38</td>\n    </tr>\n    <tr>\n      <th>Smart Sortino</th>\n      <td>2.09</td>\n    </tr>\n    <tr>\n      <th>Sortino/√2</th>\n      <td>1.68</td>\n    </tr>\n    <tr>\n      <th>Smart Sortino/√2</th>\n      <td>1.47</td>\n    </tr>\n    <tr>\n      <th>Omega</th>\n      <td>1.32</td>\n    </tr>\n    <tr>\n      <th>Max Drawdown</th>\n      <td>-25.94%</td>\n    </tr>\n    <tr>\n      <th>Longest DD Days</th>\n      <td>196</td>\n    </tr>\n    <tr>\n      <th>Volatility (ann.)</th>\n      <td>90.91%</td>\n    </tr>\n    <tr>\n      <th>Calmar</th>\n      <td>0.66</td>\n    </tr>\n    <tr>\n      <th>Skew</th>\n      <td>-0.33</td>\n    </tr>\n    <tr>\n      <th>Kurtosis</th>\n      <td>2.35</td>\n    </tr>\n    <tr>\n      <th>Expected Daily</th>\n      <td>0.3%</td>\n    </tr>\n    <tr>\n      <th>Expected Monthly</th>\n      <td>1.26%</td>\n    </tr>\n    <tr>\n      <th>Expected Yearly</th>\n      <td>9.62%</td>\n    </tr>\n    <tr>\n      <th>Kelly Criterion</th>\n      <td>13.05%</td>\n    </tr>\n    <tr>\n      <th>Risk of Ruin</th>\n      <td>0.0%</td>\n    </tr>\n    <tr>\n      <th>Daily Value-at-Risk</th>\n      <td>-7.41%</td>\n    </tr>\n    <tr>\n      <th>Expected Shortfall (cVaR)</th>\n      <td>-7.41%</td>\n    </tr>\n    <tr>\n      <th>Max Consecutive Wins</th>\n      <td>5</td>\n    </tr>\n    <tr>\n      <th>Max Consecutive Losses</th>\n      <td>3</td>\n    </tr>\n    <tr>\n      <th>Gain/Pain Ratio</th>\n      <td>0.32</td>\n    </tr>\n    <tr>\n      <th>Gain/Pain (1M)</th>\n      <td>1.04</td>\n    </tr>\n    <tr>\n      <th>Payoff Ratio</th>\n      <td>1.13</td>\n    </tr>\n    <tr>\n      <th>Profit Factor</th>\n      <td>1.32</td>\n    </tr>\n    <tr>\n      <th>Common Sense Ratio</th>\n      <td>0.9</td>\n    </tr>\n    <tr>\n      <th>CPC Index</th>\n      <td>0.8</td>\n    </tr>\n    <tr>\n      <th>Tail Ratio</th>\n      <td>0.68</td>\n    </tr>\n    <tr>\n      <th>Outlier Win Ratio</th>\n      <td>4.02</td>\n    </tr>\n    <tr>\n      <th>Outlier Loss Ratio</th>\n      <td>3.06</td>\n    </tr>\n    <tr>\n      <th>MTD</th>\n      <td>2.57%</td>\n    </tr>\n    <tr>\n      <th>3M</th>\n      <td>-22.25%</td>\n    </tr>\n    <tr>\n      <th>6M</th>\n      <td>-10.3%</td>\n    </tr>\n    <tr>\n      <th>YTD</th>\n      <td>2.03%</td>\n    </tr>\n    <tr>\n      <th>1Y</th>\n      <td>28.98%</td>\n    </tr>\n    <tr>\n      <th>3Y (ann.)</th>\n      <td>17.1%</td>\n    </tr>\n    <tr>\n      <th>5Y (ann.)</th>\n      <td>17.1%</td>\n    </tr>\n    <tr>\n      <th>10Y (ann.)</th>\n      <td>17.1%</td>\n    </tr>\n    <tr>\n      <th>All-time (ann.)</th>\n      <td>17.1%</td>\n    </tr>\n    <tr>\n      <th>Best Day</th>\n      <td>17.01%</td>\n    </tr>\n    <tr>\n      <th>Worst Day</th>\n      <td>-14.01%</td>\n    </tr>\n    <tr>\n      <th>Best Month</th>\n      <td>27.84%</td>\n    </tr>\n    <tr>\n      <th>Worst Month</th>\n      <td>-11.43%</td>\n    </tr>\n    <tr>\n      <th>Best Year</th>\n      <td>29.09%</td>\n    </tr>\n    <tr>\n      <th>Worst Year</th>\n      <td>0.0%</td>\n    </tr>\n    <tr>\n      <th>Avg. Drawdown</th>\n      <td>-10.6%</td>\n    </tr>\n    <tr>\n      <th>Avg. Drawdown Days</th>\n      <td>61</td>\n    </tr>\n    <tr>\n      <th>Recovery Factor</th>\n      <td>1.22</td>\n    </tr>\n    <tr>\n      <th>Ulcer Index</th>\n      <td>0.11</td>\n    </tr>\n    <tr>\n      <th>Serenity Index</th>\n      <td>0.69</td>\n    </tr>\n    <tr>\n      <th>Avg. Up Month</th>\n      <td>9.38%</td>\n    </tr>\n    <tr>\n      <th>Avg. Down Month</th>\n      <td>-5.73%</td>\n    </tr>\n    <tr>\n      <th>Win Days</th>\n      <td>53.97%</td>\n    </tr>\n    <tr>\n      <th>Win Month</th>\n      <td>53.33%</td>\n    </tr>\n    <tr>\n      <th>Win Quarter</th>\n      <td>80.0%</td>\n    </tr>\n    <tr>\n      <th>Win Year</th>\n      <td>100.0%</td>\n    </tr>\n  </tbody>\n</table>\n</div>"
     },
     "metadata": {},
     "output_type": "display_data"
    }
   ],
   "source": [
    "from tradeexecutor.visual.equity_curve import calculate_equity_curve, calculate_returns\n",
    "from tradeexecutor.analysis.advanced_metrics import visualise_advanced_metrics, AdvancedMetricsMode\n",
    "\n",
    "equity = calculate_equity_curve(state)\n",
    "returns = calculate_returns(equity)\n",
    "metrics = visualise_advanced_metrics(returns, mode=AdvancedMetricsMode.full)\n",
    "\n",
    "display(metrics)"
   ],
   "metadata": {
    "collapsed": false,
    "ExecuteTime": {
     "end_time": "2023-11-06T11:24:01.153539Z",
     "start_time": "2023-11-06T11:24:00.742354Z"
    }
   }
  },
  {
   "attachments": {},
   "cell_type": "markdown",
   "metadata": {},
   "source": [
    "### Alpha model analysis\n",
    "\n",
    "We display a table that shows how alpha model performermed over time.\n",
    "\n",
    "- Events are in the timeline order\n",
    "\n",
    "- Display portfolio weightings at each strategy cycle\n",
    "\n",
    "- Show performance of individidual positions taken during this cycle\n",
    "\n",
    "- Stop loss events are shown as their own rows\n",
    "\n",
    "The visualisation will have the a column for each asset being traded. The cell of a column contains the following elements\n",
    "\n",
    "- Asset **price change** (up/down) since the last strategy cycle\n",
    "\n",
    "- **Price** of the asset at the start of the strategy cycle\n",
    "\n",
    "- **Weight** % as the part of the portfolio that was chosen for the next cycle\n",
    "\n",
    "- **Open** value of the position as USD\n",
    "\n",
    "- **Adjust** value of the position as USD -  to get to the target weight - how much asset needs to be bought or sold\n",
    "\n",
    "- **Close** the remaining value of the position as USD \n",
    "\n",
    "- **Profit**: The life time profit of the position so far\n",
    "\n",
    "Position opening and closing rules\n",
    "\n",
    "- A position may contain multiple trades\n",
    "\n",
    "- Unlike on some exchanges, we adjust existing positions by increasing or decreasing them - a trade can count against existing position\n",
    "\n",
    "- Posions are opened if there are no existing holdings of an asset\n",
    "\n",
    "- The position is adjusted over the time\n",
    "\n",
    "- The position is closed when the remaining assets of the position are sold"
   ]
  },
  {
   "cell_type": "code",
   "execution_count": 25,
   "metadata": {
    "collapsed": false,
    "jupyter": {
     "outputs_hidden": false
    },
    "pycharm": {
     "is_executing": true
    },
    "ExecuteTime": {
     "end_time": "2023-11-06T11:24:01.155753Z",
     "start_time": "2023-11-06T11:24:01.152466Z"
    }
   },
   "outputs": [],
   "source": [
    "from tradeexecutor.analysis.alpha_model_analyser import render_alpha_model_plotly_table, create_alpha_model_timeline_all_assets\n",
    "\n",
    "#timeline = create_alpha_model_timeline_all_assets(state, universe, new_line=\"<br>\")\n",
    "#figure, table = render_alpha_model_plotly_table(timeline)\n",
    "#\n",
    "#figure.update_layout(\n",
    "#    autosize=True,\n",
    "#    height=800,)\n",
    "#\n",
    "# display(figure)"
   ]
  },
  {
   "cell_type": "markdown",
   "metadata": {},
   "source": [
    "## Finishing notes\n",
    "\n",
    "Print out a line to signal the notebook finished the execution successfully."
   ]
  },
  {
   "cell_type": "code",
   "execution_count": 26,
   "metadata": {
    "collapsed": false,
    "jupyter": {
     "outputs_hidden": false
    },
    "pycharm": {
     "is_executing": true
    },
    "ExecuteTime": {
     "end_time": "2023-11-06T11:24:01.158224Z",
     "start_time": "2023-11-06T11:24:01.155961Z"
    }
   },
   "outputs": [
    {
     "name": "stdout",
     "output_type": "stream",
     "text": [
      "All ok\n"
     ]
    }
   ],
   "source": [
    "print(\"All ok\")"
   ]
  }
 ],
 "metadata": {
  "kernelspec": {
   "display_name": "trade-executor-8Oz1GdY1-py3.10",
   "language": "python",
   "name": "python3"
  },
  "language_info": {
   "codemirror_mode": {
    "name": "ipython",
    "version": 3
   },
   "file_extension": ".py",
   "mimetype": "text/x-python",
   "name": "python",
   "nbconvert_exporter": "python",
   "pygments_lexer": "ipython3",
   "version": "3.10.10"
  },
  "vscode": {
   "interpreter": {
    "hash": "7adede735167b7e67e1575a49b63099e273f8f003d80ae98ec60bd132e113570"
   }
  }
 },
 "nbformat": 4,
 "nbformat_minor": 4
}
