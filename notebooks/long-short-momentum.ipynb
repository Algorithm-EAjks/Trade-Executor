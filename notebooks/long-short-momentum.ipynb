{
 "cells": [
  {
   "attachments": {},
   "cell_type": "markdown",
   "metadata": {},
   "source": [
    "# Long/short portfolio construction model trading strategy example\n",
    "\n",
    "This is an example notebook how to construct a momentum based portfolio construction strategy\n",
    "using [Trading Strategy framework](https://tradingstrategy.ai/docs/) and backtest it for DeFi tokens.\n",
    "\n",
    "This backtest uses alpha model approach where each trading pair has a signal\n",
    "and based on the signal strenghts we construct new portfolio weightings\n",
    "for the upcoming week.\n"
   ]
  },
  {
   "cell_type": "markdown",
   "metadata": {},
   "source": [
    "## Strategy parameter set up\n",
    "\n",
    "Set up the parameters used in in this strategy backtest study.\n",
    "\n",
    "- Backtested blockchain, exchange and trading pair\n",
    "- Backtesting period\n",
    "- Strategy parameters for EMA crossovers"
   ]
  },
  {
   "cell_type": "markdown",
   "metadata": {},
   "source": [
    "### Strategy logic and trade decisions\n",
    "\n",
    "Strategy logic and parameters are available as a separate [Python module](../strategies/long-short-momentum.py).\n"
   ]
  },
  {
   "cell_type": "code",
   "execution_count": 20,
   "metadata": {
    "ExecuteTime": {
     "end_time": "2023-10-30T12:20:11.420894Z",
     "start_time": "2023-10-30T12:20:10.231575Z"
    },
    "collapsed": false,
    "jupyter": {
     "outputs_hidden": false
    }
   },
   "outputs": [
    {
     "name": "stdout",
     "output_type": "stream",
     "text": [
      "Backtesting for strategy engine version 0.3\n"
     ]
    }
   ],
   "source": [
    "import datetime\n",
    "\n",
    "from tradeexecutor.utils.default_strategies import get_default_strategies_path\n",
    "from tradeexecutor.strategy.strategy_module import read_strategy_module\n",
    "\n",
    "strategies_folder = get_default_strategies_path()\n",
    "strategy_path = strategies_folder / \"long-short-momentum.py\"\n",
    "\n",
    "## Load strategy and its universe\n",
    "\n",
    "strategy_mod = read_strategy_module(strategy_path)\n",
    "\n",
    "print(f\"Backtesting for strategy engine version {strategy_mod.trading_strategy_engine_version}\")"
   ]
  },
  {
   "cell_type": "markdown",
   "metadata": {},
   "source": [
    "## Set up the market data client\n",
    "\n",
    "The [Trading Strategy market data client](https://tradingstrategy.ai/docs/programming/api/client/index.html)\n",
    "is the Python library responsible for managing the data feeds needed to run the backtest.None\n",
    "\n",
    "We set up the market data client with an API key.\n",
    "\n",
    "[If you do not have an API key yet, you can register one](https://tradingstrategy.ai/trading-view/backtesting)."
   ]
  },
  {
   "cell_type": "code",
   "execution_count": 21,
   "metadata": {
    "collapsed": false
   },
   "outputs": [
    {
     "name": "stdout",
     "output_type": "stream",
     "text": [
      "Started Trading Strategy in Jupyter notebook environment, configuration is stored in /Users/moo/.tradingstrategy\n"
     ]
    }
   ],
   "source": [
    "from tradingstrategy.client import Client\n",
    "\n",
    "client = Client.create_jupyter_client()"
   ]
  },
  {
   "cell_type": "markdown",
   "metadata": {
    "collapsed": false
   },
   "source": [
    "Load the strategy universe and analyse what trading pairs the strategy code gives for us."
   ]
  },
  {
   "cell_type": "code",
   "execution_count": 22,
   "metadata": {
    "collapsed": false
   },
   "outputs": [
    {
     "data": {
      "application/vnd.jupyter.widget-view+json": {
       "model_id": "7b9feb0c4d254596ba782cae3d4fb8e4",
       "version_major": 2,
       "version_minor": 0
      },
      "text/plain": [
       "Downloading interest rate data for 5 assets:   0%|          | 0/10 [00:00<?, ?it/s]"
      ]
     },
     "metadata": {},
     "output_type": "display_data"
    }
   ],
   "source": [
    "from tradeexecutor.strategy.execution_context import notebook_execution_context\n",
    "\n",
    "# contains start_at, end_at backtesting range\n",
    "universe_options = strategy_mod.get_universe_options()\n",
    "\n",
    "universe = strategy_mod.create_trading_universe(\n",
    "    datetime.datetime.utcnow(),\n",
    "    client,\n",
    "    notebook_execution_context,\n",
    "    universe_options,\n",
    ")"
   ]
  },
  {
   "attachments": {},
   "cell_type": "markdown",
   "metadata": {},
   "source": []
  },
  {
   "cell_type": "markdown",
   "metadata": {
    "collapsed": false
   },
   "source": [
    "## Available trading universe\n",
    "\n",
    "Inspect trading pairs and lending markets we are going to backtest.\n"
   ]
  },
  {
   "cell_type": "code",
   "execution_count": 23,
   "metadata": {
    "collapsed": false
   },
   "outputs": [
    {
     "data": {
      "text/html": [
       "<table border=\"1\" class=\"dataframe\">\n",
       "  <thead>\n",
       "    <tr style=\"text-align: right;\">\n",
       "      <th></th>\n",
       "      <th>Lending asset</th>\n",
       "      <th>Stablecoin</th>\n",
       "      <th>Best trading pair</th>\n",
       "      <th>Lending available at</th>\n",
       "      <th>Trading available at</th>\n",
       "      <th>Price data page</th>\n",
       "      <th>Lending rate page</th>\n",
       "    </tr>\n",
       "  </thead>\n",
       "  <tbody>\n",
       "    <tr>\n",
       "      <th>0</th>\n",
       "      <td>BAL</td>\n",
       "      <td>no</td>\n",
       "      <td>No AMM pools found</td>\n",
       "      <td>2022-03-14</td>\n",
       "      <td>-</td>\n",
       "      <td><a href=\"-\">View</a></td>\n",
       "      <td><a href=\"https://tradingstrategy.ai/trading-view/polygon/lending/aave_v3/bal\">View</a></td>\n",
       "    </tr>\n",
       "    <tr>\n",
       "      <th>1</th>\n",
       "      <td>LINK</td>\n",
       "      <td>no</td>\n",
       "      <td>LINK-USDC at 5 BPS fee tier on Uniswap v3</td>\n",
       "      <td>2022-03-14</td>\n",
       "      <td>2022-08-15</td>\n",
       "      <td><a href=\"https://tradingstrategy.ai/trading-view/polygon/uniswap-v3/link-usdc-fee-5\">View</a></td>\n",
       "      <td><a href=\"https://tradingstrategy.ai/trading-view/polygon/lending/aave_v3/link\">View</a></td>\n",
       "    </tr>\n",
       "    <tr>\n",
       "      <th>2</th>\n",
       "      <td>USDC</td>\n",
       "      <td>yes</td>\n",
       "      <td>No AMM pools found</td>\n",
       "      <td>2022-03-14</td>\n",
       "      <td>-</td>\n",
       "      <td><a href=\"-\">View</a></td>\n",
       "      <td><a href=\"https://tradingstrategy.ai/trading-view/polygon/lending/aave_v3/usdc\">View</a></td>\n",
       "    </tr>\n",
       "    <tr>\n",
       "      <th>3</th>\n",
       "      <td>WETH</td>\n",
       "      <td>no</td>\n",
       "      <td>WETH-USDC at 5 BPS fee tier on Uniswap v3</td>\n",
       "      <td>2022-03-14</td>\n",
       "      <td>2022-07-04</td>\n",
       "      <td><a href=\"https://tradingstrategy.ai/trading-view/polygon/uniswap-v3/eth-usdc-fee-5\">View</a></td>\n",
       "      <td><a href=\"https://tradingstrategy.ai/trading-view/polygon/lending/aave_v3/weth\">View</a></td>\n",
       "    </tr>\n",
       "    <tr>\n",
       "      <th>4</th>\n",
       "      <td>WMATIC</td>\n",
       "      <td>no</td>\n",
       "      <td>WMATIC-USDC at 5 BPS fee tier on Uniswap v3</td>\n",
       "      <td>2022-03-07</td>\n",
       "      <td>2022-07-04</td>\n",
       "      <td><a href=\"https://tradingstrategy.ai/trading-view/polygon/uniswap-v3/matic-usdc-fee-5\">View</a></td>\n",
       "      <td><a href=\"https://tradingstrategy.ai/trading-view/polygon/lending/aave_v3/wmatic\">View</a></td>\n",
       "    </tr>\n",
       "  </tbody>\n",
       "</table>"
      ],
      "text/plain": [
       "<IPython.core.display.HTML object>"
      ]
     },
     "metadata": {},
     "output_type": "display_data"
    }
   ],
   "source": [
    "from IPython.display import HTML\n",
    "\n",
    "from tradeexecutor.analysis.universe import analyse_long_short_universe\n",
    "from tradingstrategy.utils.jupyter import format_links_for_html_output\n",
    "\n",
    "df = analyse_long_short_universe(universe)\n",
    "df = format_links_for_html_output(df, (\"Price data page\", \"Lending rate page\",))\n",
    "\n",
    "display(HTML(df.to_html(escape=False)))"
   ]
  },
  {
   "cell_type": "markdown",
   "metadata": {},
   "source": [
    "## Run backtest\n",
    "\n",
    "Run backtest using giving trading universe and strategy function.\n",
    "\n",
    "- Running the backtest outputs `state` object that contains all the information\n",
    "on the backtesting position and trades.\n",
    "- The trade execution engine will download the necessary datasets to run the backtest.\n",
    "  The datasets may be large, several gigabytes.\n"
   ]
  },
  {
   "cell_type": "code",
   "execution_count": 24,
   "metadata": {
    "collapsed": false,
    "jupyter": {
     "outputs_hidden": false
    }
   },
   "outputs": [
    {
     "data": {
      "application/vnd.jupyter.widget-view+json": {
       "model_id": "40755813f14343079f7b6f6fe5aec949",
       "version_major": 2,
       "version_minor": 0
      },
      "text/plain": [
       "Downloading interest rate data for 5 assets:   0%|          | 0/10 [00:00<?, ?it/s]"
      ]
     },
     "metadata": {},
     "output_type": "display_data"
    },
    {
     "data": {
      "application/vnd.jupyter.widget-view+json": {
       "model_id": "734750e832e24c70a5cd0bf983663872",
       "version_major": 2,
       "version_minor": 0
      },
      "text/plain": [
       "  0%|          | 0/55123200 [00:00<?, ?it/s]"
      ]
     },
     "metadata": {},
     "output_type": "display_data"
    },
    {
     "name": "stdout",
     "output_type": "stream",
     "text": [
      "Backtesting completed, backtested strategy made 208 trades\n"
     ]
    }
   ],
   "source": [
    "from tradeexecutor.backtest.backtest_runner import setup_backtest, run_backtest\n",
    "\n",
    "setup = setup_backtest(\n",
    "    strategy_path,\n",
    ")\n",
    "\n",
    "state, universe, debug_dump = run_backtest(setup, client)\n",
    "\n",
    "trade_count = len(list(state.portfolio.get_all_trades()))\n",
    "print(f\"Backtesting completed, backtested strategy made {trade_count} trades\")"
   ]
  },
  {
   "attachments": {},
   "cell_type": "markdown",
   "metadata": {},
   "source": [
    "## Examine backtest results\n",
    "\n",
    "Examine `state` that contains \n",
    "- All actions the trade executor took\n",
    "- Visualisation and diagnostics data associated with the actity\n",
    "\n",
    "We plot out a chart that shows\n",
    "- The price action\n",
    "- When the strategy made buys or sells"
   ]
  },
  {
   "cell_type": "code",
   "execution_count": 25,
   "metadata": {
    "collapsed": false,
    "jupyter": {
     "outputs_hidden": false
    }
   },
   "outputs": [
    {
     "ename": "SyntaxError",
     "evalue": "invalid syntax (3635745843.py, line 2)",
     "output_type": "error",
     "traceback": [
      "\u001b[0;36m  Cell \u001b[0;32mIn[25], line 2\u001b[0;36m\u001b[0m\n\u001b[0;31m    spot_positions = [for p in state.portfolio.get_all_positions() if p.is_spot()]\u001b[0m\n\u001b[0m                      ^\u001b[0m\n\u001b[0;31mSyntaxError\u001b[0m\u001b[0;31m:\u001b[0m invalid syntax\n"
     ]
    }
   ],
   "source": [
    "# Smoke check\n",
    "spot_positions = [p for p in state.portfolio.get_all_positions() if p.is_spot()]\n",
    "short_positions = [p for p in state.portfolio.get_all_positions() if p.is_short()]\n",
    "print(f\"Positions taken: {len(list(state.portfolio.get_all_positions()))}\")\n",
    "print(f\"Spot positions: {len(spot_positions)}\")\n",
    "print(f\"Short positions: {len(short_positions)}\")\n",
    "print(f\"Trades made: {len(list(state.portfolio.get_all_trades()))}\")"
   ]
  },
  {
   "cell_type": "markdown",
   "metadata": {
    "collapsed": false
   },
   "source": []
  },
  {
   "cell_type": "markdown",
   "metadata": {},
   "source": [
    "## Benchmarking the strategy performance\n",
    "\n",
    "Here we benchmark the strategy performance against some baseline scenarios.\n",
    "\n",
    "- Buy and hold ETH\n",
    "- Buy and hold US Dollar (do nothing)\n"
   ]
  },
  {
   "cell_type": "code",
   "execution_count": null,
   "metadata": {
    "collapsed": false,
    "jupyter": {
     "outputs_hidden": false
    },
    "pycharm": {
     "is_executing": true
    }
   },
   "outputs": [],
   "source": [
    "from tradingstrategy.chain import ChainId\n",
    "from tradeexecutor.visual.benchmark import visualise_benchmark\n",
    "\n",
    "eth_usd = universe.get_pair_by_human_description((ChainId.polygon, \"uniswap-v3\", \"WETH\", \"USDC\"))\n",
    "eth_candles = universe.universe.candles.get_candles_by_pair(eth_usd.internal_id)\n",
    "eth_price = eth_candles[\"close\"]\n",
    "\n",
    "fig = visualise_benchmark(\n",
    "    state.name,\n",
    "    portfolio_statistics=state.stats.portfolio,\n",
    "    all_cash=state.portfolio.get_initial_deposit(),\n",
    "    buy_and_hold_asset_name=\"ETH\",\n",
    "    buy_and_hold_price_series=eth_price,\n",
    "    start_at=universe_options.start_at,\n",
    "    end_at=universe_options.end_at,\n",
    ")\n",
    "\n",
    "fig.show()"
   ]
  },
  {
   "attachments": {},
   "cell_type": "markdown",
   "metadata": {},
   "source": [
    "## Analysing  the strategy success\n",
    "\n",
    "Here we calculate statistics on how well the strategy performed.\n",
    "\n",
    "- Won/lost trades\n",
    "- Timeline of taken positions with color coding of trade performance\n"
   ]
  },
  {
   "cell_type": "code",
   "execution_count": null,
   "metadata": {
    "collapsed": false,
    "jupyter": {
     "outputs_hidden": false
    },
    "pycharm": {
     "is_executing": true
    }
   },
   "outputs": [],
   "source": [
    "from tradeexecutor.analysis.trade_analyser import build_trade_analysis\n",
    "\n",
    "analysis = build_trade_analysis(state.portfolio)"
   ]
  },
  {
   "cell_type": "markdown",
   "metadata": {},
   "source": [
    "### Strategy summary\n",
    "\n",
    "Overview of strategy performance\n",
    "\n"
   ]
  },
  {
   "cell_type": "code",
   "execution_count": null,
   "metadata": {
    "collapsed": false,
    "jupyter": {
     "outputs_hidden": false
    },
    "pycharm": {
     "is_executing": true
    }
   },
   "outputs": [],
   "source": [
    "import pandas as pd\n",
    "\n",
    "summary = analysis.calculate_summary_statistics()\n",
    "\n",
    "with pd.option_context(\"display.max_row\", None):\n",
    "    display(summary.to_dataframe())"
   ]
  },
  {
   "cell_type": "markdown",
   "metadata": {},
   "source": [
    "### Short/long separated summary\n",
    "\n",
    "Side by side comparison of short and long positions."
   ]
  },
  {
   "cell_type": "code",
   "execution_count": null,
   "metadata": {},
   "outputs": [],
   "source": [
    "from tradeexecutor.analysis.trade_analyser import build_trade_analysis\n",
    "\n",
    "analysis = build_trade_analysis(state.portfolio)\n",
    "all_stats = analysis.calculate_all_summary_stats_by_side()\n",
    "\n",
    "with pd.option_context(\"display.max_row\", None):\n",
    "    display(all_stats)"
   ]
  },
  {
   "cell_type": "markdown",
   "metadata": {},
   "source": []
  },
  {
   "attachments": {},
   "cell_type": "markdown",
   "metadata": {},
   "source": [
    "### Alpha model timeline analysis\n",
    "\n",
    "We display a table that shows how alpha model performermed over time.\n",
    "\n",
    "- Events are in the timeline order\n",
    "\n",
    "- Display portfolio weightings at each strategy cycle\n",
    "\n",
    "- Show performance of individidual positions taken during this cycle\n",
    "\n",
    "- Stop loss events are shown as their own rows\n",
    "\n",
    "The visualisation will have the a column for each asset being traded. The cell of a column contains the following elements\n",
    "\n",
    "- Asset **price change** (up/down) since the last strategy cycle\n",
    "\n",
    "- **Price** of the asset at the start of the strategy cycle\n",
    "\n",
    "- **Weight** % as the part of the portfolio that was chosen for the next cycle\n",
    "\n",
    "- **Open** value of the position as USD\n",
    "\n",
    "- **Adjust** value of the position as USD -  to get to the target weight - how much asset needs to be bought or sold\n",
    "\n",
    "- **Close** the remaining value of the position as USD \n",
    "\n",
    "- **Profit**: The life time profit of the position so far\n",
    "\n",
    "Position opening and closing rules\n",
    "\n",
    "- A position may contain multiple trades\n",
    "\n",
    "- Unlike on some exchanges, we adjust existing positions by increasing or decreasing them - a trade can count against existing position\n",
    "\n",
    "- Posions are opened if there are no existing holdings of an asset\n",
    "\n",
    "- The position is adjusted over the time\n",
    "\n",
    "- The position is closed when the remaining assets of the position are sold"
   ]
  },
  {
   "cell_type": "code",
   "execution_count": null,
   "metadata": {
    "collapsed": false,
    "jupyter": {
     "outputs_hidden": false
    },
    "pycharm": {
     "is_executing": true
    }
   },
   "outputs": [],
   "source": [
    "from tradeexecutor.analysis.alpha_model_analyser import render_alpha_model_plotly_table, create_alpha_model_timeline_all_assets\n",
    "\n",
    "#timeline = create_alpha_model_timeline_all_assets(state, universe, new_line=\"<br>\")\n",
    "#figure, table = render_alpha_model_plotly_table(timeline)\n",
    "#\n",
    "#figure.update_layout(\n",
    "#    autosize=True,\n",
    "#    height=800,)\n",
    "#\n",
    "# display(figure)"
   ]
  },
  {
   "cell_type": "markdown",
   "metadata": {},
   "source": [
    "## Finishing notes\n",
    "\n",
    "Print out a line to signal the notebook finished the execution successfully."
   ]
  },
  {
   "cell_type": "code",
   "execution_count": null,
   "metadata": {
    "collapsed": false,
    "jupyter": {
     "outputs_hidden": false
    },
    "pycharm": {
     "is_executing": true
    }
   },
   "outputs": [],
   "source": [
    "print(\"All ok\")"
   ]
  }
 ],
 "metadata": {
  "kernelspec": {
   "display_name": "trade-executor-8Oz1GdY1-py3.10",
   "language": "python",
   "name": "python3"
  },
  "language_info": {
   "codemirror_mode": {
    "name": "ipython",
    "version": 3
   },
   "file_extension": ".py",
   "mimetype": "text/x-python",
   "name": "python",
   "nbconvert_exporter": "python",
   "pygments_lexer": "ipython3",
   "version": "3.10.13"
  },
  "vscode": {
   "interpreter": {
    "hash": "7adede735167b7e67e1575a49b63099e273f8f003d80ae98ec60bd132e113570"
   }
  }
 },
 "nbformat": 4,
 "nbformat_minor": 4
}
